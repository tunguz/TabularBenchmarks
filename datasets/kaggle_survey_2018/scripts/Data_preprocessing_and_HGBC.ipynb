{
 "cells": [
  {
   "cell_type": "code",
   "execution_count": 1,
   "id": "a3fe298c-5221-400c-9c53-4708fe9301ae",
   "metadata": {
    "tags": []
   },
   "outputs": [],
   "source": [
    "import pandas as pd\n",
    "import numpy as np\n",
    "\n",
    "from feature_engine import encoding, imputation\n",
    "from sklearn import base, pipeline, model_selection\n",
    "from sklearn.ensemble import HistGradientBoostingClassifier\n",
    "from sklearn.metrics import roc_auc_score"
   ]
  },
  {
   "cell_type": "code",
   "execution_count": 2,
   "id": "05524013-d7cf-4818-bb6d-00671bf301c0",
   "metadata": {
    "tags": []
   },
   "outputs": [
    {
     "name": "stderr",
     "output_type": "stream",
     "text": [
      "/var/folders/gx/8842lzgd78x8gcgl4ymc982w0000gn/T/ipykernel_28395/162155499.py:1: DtypeWarning: Columns (0,2,8,10,21,23,24,25,26,27,28,42,44,54,56,64,81,83,85,87,105,107,109,121,123,125,148,150,157,172,174,192,194,210,218,219,221,223,246,247,249,262,264,276,277,278,279,280,281,282,283,284,285,286,287,288,289,290,302,304,306,325,326,329,341,368,371,384,385,389,390,391,393,394) have mixed types. Specify dtype option on import or set low_memory=False.\n",
      "  response_df = pd.read_csv('../input/multipleChoiceResponses.csv')\n"
     ]
    },
    {
     "data": {
      "text/html": [
       "<div>\n",
       "<style scoped>\n",
       "    .dataframe tbody tr th:only-of-type {\n",
       "        vertical-align: middle;\n",
       "    }\n",
       "\n",
       "    .dataframe tbody tr th {\n",
       "        vertical-align: top;\n",
       "    }\n",
       "\n",
       "    .dataframe thead th {\n",
       "        text-align: right;\n",
       "    }\n",
       "</style>\n",
       "<table border=\"1\" class=\"dataframe\">\n",
       "  <thead>\n",
       "    <tr style=\"text-align: right;\">\n",
       "      <th></th>\n",
       "      <th>Time from Start to Finish (seconds)</th>\n",
       "      <th>Q1</th>\n",
       "      <th>Q1_OTHER_TEXT</th>\n",
       "      <th>Q2</th>\n",
       "      <th>Q3</th>\n",
       "      <th>Q4</th>\n",
       "      <th>Q5</th>\n",
       "      <th>Q6</th>\n",
       "      <th>Q6_OTHER_TEXT</th>\n",
       "      <th>Q7</th>\n",
       "      <th>...</th>\n",
       "      <th>Q49_OTHER_TEXT</th>\n",
       "      <th>Q50_Part_1</th>\n",
       "      <th>Q50_Part_2</th>\n",
       "      <th>Q50_Part_3</th>\n",
       "      <th>Q50_Part_4</th>\n",
       "      <th>Q50_Part_5</th>\n",
       "      <th>Q50_Part_6</th>\n",
       "      <th>Q50_Part_7</th>\n",
       "      <th>Q50_Part_8</th>\n",
       "      <th>Q50_OTHER_TEXT</th>\n",
       "    </tr>\n",
       "  </thead>\n",
       "  <tbody>\n",
       "    <tr>\n",
       "      <th>0</th>\n",
       "      <td>Duration (in seconds)</td>\n",
       "      <td>What is your gender? - Selected Choice</td>\n",
       "      <td>What is your gender? - Prefer to self-describe...</td>\n",
       "      <td>What is your age (# years)?</td>\n",
       "      <td>In which country do you currently reside?</td>\n",
       "      <td>What is the highest level of formal education ...</td>\n",
       "      <td>Which best describes your undergraduate major?...</td>\n",
       "      <td>Select the title most similar to your current ...</td>\n",
       "      <td>Select the title most similar to your current ...</td>\n",
       "      <td>In what industry is your current employer/cont...</td>\n",
       "      <td>...</td>\n",
       "      <td>What tools and methods do you use to make your...</td>\n",
       "      <td>What barriers prevent you from making your wor...</td>\n",
       "      <td>What barriers prevent you from making your wor...</td>\n",
       "      <td>What barriers prevent you from making your wor...</td>\n",
       "      <td>What barriers prevent you from making your wor...</td>\n",
       "      <td>What barriers prevent you from making your wor...</td>\n",
       "      <td>What barriers prevent you from making your wor...</td>\n",
       "      <td>What barriers prevent you from making your wor...</td>\n",
       "      <td>What barriers prevent you from making your wor...</td>\n",
       "      <td>What barriers prevent you from making your wor...</td>\n",
       "    </tr>\n",
       "    <tr>\n",
       "      <th>1</th>\n",
       "      <td>710</td>\n",
       "      <td>Female</td>\n",
       "      <td>-1</td>\n",
       "      <td>45-49</td>\n",
       "      <td>United States of America</td>\n",
       "      <td>Doctoral degree</td>\n",
       "      <td>Other</td>\n",
       "      <td>Consultant</td>\n",
       "      <td>-1</td>\n",
       "      <td>Other</td>\n",
       "      <td>...</td>\n",
       "      <td>-1</td>\n",
       "      <td>NaN</td>\n",
       "      <td>NaN</td>\n",
       "      <td>NaN</td>\n",
       "      <td>NaN</td>\n",
       "      <td>NaN</td>\n",
       "      <td>NaN</td>\n",
       "      <td>NaN</td>\n",
       "      <td>NaN</td>\n",
       "      <td>-1</td>\n",
       "    </tr>\n",
       "    <tr>\n",
       "      <th>2</th>\n",
       "      <td>434</td>\n",
       "      <td>Male</td>\n",
       "      <td>-1</td>\n",
       "      <td>30-34</td>\n",
       "      <td>Indonesia</td>\n",
       "      <td>Bachelor’s degree</td>\n",
       "      <td>Engineering (non-computer focused)</td>\n",
       "      <td>Other</td>\n",
       "      <td>0</td>\n",
       "      <td>Manufacturing/Fabrication</td>\n",
       "      <td>...</td>\n",
       "      <td>-1</td>\n",
       "      <td>NaN</td>\n",
       "      <td>NaN</td>\n",
       "      <td>NaN</td>\n",
       "      <td>NaN</td>\n",
       "      <td>NaN</td>\n",
       "      <td>NaN</td>\n",
       "      <td>NaN</td>\n",
       "      <td>NaN</td>\n",
       "      <td>-1</td>\n",
       "    </tr>\n",
       "    <tr>\n",
       "      <th>3</th>\n",
       "      <td>718</td>\n",
       "      <td>Female</td>\n",
       "      <td>-1</td>\n",
       "      <td>30-34</td>\n",
       "      <td>United States of America</td>\n",
       "      <td>Master’s degree</td>\n",
       "      <td>Computer science (software engineering, etc.)</td>\n",
       "      <td>Data Scientist</td>\n",
       "      <td>-1</td>\n",
       "      <td>I am a student</td>\n",
       "      <td>...</td>\n",
       "      <td>-1</td>\n",
       "      <td>NaN</td>\n",
       "      <td>Too time-consuming</td>\n",
       "      <td>NaN</td>\n",
       "      <td>NaN</td>\n",
       "      <td>NaN</td>\n",
       "      <td>NaN</td>\n",
       "      <td>NaN</td>\n",
       "      <td>NaN</td>\n",
       "      <td>-1</td>\n",
       "    </tr>\n",
       "    <tr>\n",
       "      <th>4</th>\n",
       "      <td>621</td>\n",
       "      <td>Male</td>\n",
       "      <td>-1</td>\n",
       "      <td>35-39</td>\n",
       "      <td>United States of America</td>\n",
       "      <td>Master’s degree</td>\n",
       "      <td>Social sciences (anthropology, psychology, soc...</td>\n",
       "      <td>Not employed</td>\n",
       "      <td>-1</td>\n",
       "      <td>NaN</td>\n",
       "      <td>...</td>\n",
       "      <td>-1</td>\n",
       "      <td>NaN</td>\n",
       "      <td>NaN</td>\n",
       "      <td>Requires too much technical knowledge</td>\n",
       "      <td>NaN</td>\n",
       "      <td>Not enough incentives to share my work</td>\n",
       "      <td>NaN</td>\n",
       "      <td>NaN</td>\n",
       "      <td>NaN</td>\n",
       "      <td>-1</td>\n",
       "    </tr>\n",
       "  </tbody>\n",
       "</table>\n",
       "<p>5 rows × 395 columns</p>\n",
       "</div>"
      ],
      "text/plain": [
       "  Time from Start to Finish (seconds)                                      Q1   \n",
       "0               Duration (in seconds)  What is your gender? - Selected Choice  \\\n",
       "1                                 710                                  Female   \n",
       "2                                 434                                    Male   \n",
       "3                                 718                                  Female   \n",
       "4                                 621                                    Male   \n",
       "\n",
       "                                       Q1_OTHER_TEXT   \n",
       "0  What is your gender? - Prefer to self-describe...  \\\n",
       "1                                                 -1   \n",
       "2                                                 -1   \n",
       "3                                                 -1   \n",
       "4                                                 -1   \n",
       "\n",
       "                            Q2                                         Q3   \n",
       "0  What is your age (# years)?  In which country do you currently reside?  \\\n",
       "1                        45-49                   United States of America   \n",
       "2                        30-34                                  Indonesia   \n",
       "3                        30-34                   United States of America   \n",
       "4                        35-39                   United States of America   \n",
       "\n",
       "                                                  Q4   \n",
       "0  What is the highest level of formal education ...  \\\n",
       "1                                    Doctoral degree   \n",
       "2                                  Bachelor’s degree   \n",
       "3                                    Master’s degree   \n",
       "4                                    Master’s degree   \n",
       "\n",
       "                                                  Q5   \n",
       "0  Which best describes your undergraduate major?...  \\\n",
       "1                                              Other   \n",
       "2                 Engineering (non-computer focused)   \n",
       "3      Computer science (software engineering, etc.)   \n",
       "4  Social sciences (anthropology, psychology, soc...   \n",
       "\n",
       "                                                  Q6   \n",
       "0  Select the title most similar to your current ...  \\\n",
       "1                                         Consultant   \n",
       "2                                              Other   \n",
       "3                                     Data Scientist   \n",
       "4                                       Not employed   \n",
       "\n",
       "                                       Q6_OTHER_TEXT   \n",
       "0  Select the title most similar to your current ...  \\\n",
       "1                                                 -1   \n",
       "2                                                  0   \n",
       "3                                                 -1   \n",
       "4                                                 -1   \n",
       "\n",
       "                                                  Q7  ...   \n",
       "0  In what industry is your current employer/cont...  ...  \\\n",
       "1                                              Other  ...   \n",
       "2                          Manufacturing/Fabrication  ...   \n",
       "3                                     I am a student  ...   \n",
       "4                                                NaN  ...   \n",
       "\n",
       "                                      Q49_OTHER_TEXT   \n",
       "0  What tools and methods do you use to make your...  \\\n",
       "1                                                 -1   \n",
       "2                                                 -1   \n",
       "3                                                 -1   \n",
       "4                                                 -1   \n",
       "\n",
       "                                          Q50_Part_1   \n",
       "0  What barriers prevent you from making your wor...  \\\n",
       "1                                                NaN   \n",
       "2                                                NaN   \n",
       "3                                                NaN   \n",
       "4                                                NaN   \n",
       "\n",
       "                                          Q50_Part_2   \n",
       "0  What barriers prevent you from making your wor...  \\\n",
       "1                                                NaN   \n",
       "2                                                NaN   \n",
       "3                                 Too time-consuming   \n",
       "4                                                NaN   \n",
       "\n",
       "                                          Q50_Part_3   \n",
       "0  What barriers prevent you from making your wor...  \\\n",
       "1                                                NaN   \n",
       "2                                                NaN   \n",
       "3                                                NaN   \n",
       "4              Requires too much technical knowledge   \n",
       "\n",
       "                                          Q50_Part_4   \n",
       "0  What barriers prevent you from making your wor...  \\\n",
       "1                                                NaN   \n",
       "2                                                NaN   \n",
       "3                                                NaN   \n",
       "4                                                NaN   \n",
       "\n",
       "                                          Q50_Part_5   \n",
       "0  What barriers prevent you from making your wor...  \\\n",
       "1                                                NaN   \n",
       "2                                                NaN   \n",
       "3                                                NaN   \n",
       "4             Not enough incentives to share my work   \n",
       "\n",
       "                                          Q50_Part_6   \n",
       "0  What barriers prevent you from making your wor...  \\\n",
       "1                                                NaN   \n",
       "2                                                NaN   \n",
       "3                                                NaN   \n",
       "4                                                NaN   \n",
       "\n",
       "                                          Q50_Part_7   \n",
       "0  What barriers prevent you from making your wor...  \\\n",
       "1                                                NaN   \n",
       "2                                                NaN   \n",
       "3                                                NaN   \n",
       "4                                                NaN   \n",
       "\n",
       "                                          Q50_Part_8   \n",
       "0  What barriers prevent you from making your wor...  \\\n",
       "1                                                NaN   \n",
       "2                                                NaN   \n",
       "3                                                NaN   \n",
       "4                                                NaN   \n",
       "\n",
       "                                      Q50_OTHER_TEXT  \n",
       "0  What barriers prevent you from making your wor...  \n",
       "1                                                 -1  \n",
       "2                                                 -1  \n",
       "3                                                 -1  \n",
       "4                                                 -1  \n",
       "\n",
       "[5 rows x 395 columns]"
      ]
     },
     "execution_count": 2,
     "metadata": {},
     "output_type": "execute_result"
    }
   ],
   "source": [
    "response_df = pd.read_csv('../input/multipleChoiceResponses.csv')\n",
    "response_df.head()"
   ]
  },
  {
   "cell_type": "code",
   "execution_count": 3,
   "id": "ce4731c0-c795-4c23-9b9c-17dd906afc5d",
   "metadata": {
    "tags": []
   },
   "outputs": [
    {
     "data": {
      "text/plain": [
       "array(['Argentina', 'Australia', 'Austria', 'Bangladesh', 'Belarus',\n",
       "       'Belgium', 'Brazil', 'Canada', 'Chile', 'China', 'Colombia',\n",
       "       'Czech Republic', 'Denmark', 'Egypt', 'Finland', 'France',\n",
       "       'Germany', 'Greece', 'Hong Kong (S.A.R.)', 'Hungary',\n",
       "       'I do not wish to disclose my location',\n",
       "       'In which country do you currently reside?', 'India', 'Indonesia',\n",
       "       'Iran, Islamic Republic of...', 'Ireland', 'Israel', 'Italy',\n",
       "       'Japan', 'Kenya', 'Malaysia', 'Mexico', 'Morocco', 'Netherlands',\n",
       "       'New Zealand', 'Nigeria', 'Norway', 'Other', 'Pakistan', 'Peru',\n",
       "       'Philippines', 'Poland', 'Portugal', 'Republic of Korea',\n",
       "       'Romania', 'Russia', 'Singapore', 'South Africa', 'South Korea',\n",
       "       'Spain', 'Sweden', 'Switzerland', 'Thailand', 'Tunisia', 'Turkey',\n",
       "       'Ukraine', 'United Kingdom of Great Britain and Northern Ireland',\n",
       "       'United States of America', 'Viet Nam'], dtype=object)"
      ]
     },
     "execution_count": 3,
     "metadata": {},
     "output_type": "execute_result"
    }
   ],
   "source": [
    "np.unique(response_df.Q3)"
   ]
  },
  {
   "cell_type": "code",
   "execution_count": 4,
   "id": "f8561a07-82d0-4459-95e6-eb256da02f90",
   "metadata": {
    "tags": []
   },
   "outputs": [
    {
     "data": {
      "text/plain": [
       "(23860, 395)"
      ]
     },
     "execution_count": 4,
     "metadata": {},
     "output_type": "execute_result"
    }
   ],
   "source": [
    "response_df.shape"
   ]
  },
  {
   "cell_type": "markdown",
   "id": "d9252014-c114-45e2-8a9a-889cfd7721b6",
   "metadata": {},
   "source": [
    "Taken from the following notebook: https://github.com/mattharrison/EffectiveXGBoostBookContents/blob/main/End2EndXGBoost.ipynb"
   ]
  },
  {
   "cell_type": "code",
   "execution_count": 5,
   "id": "93cc81c9-6c5d-4d30-a3ad-167dbb2febb9",
   "metadata": {
    "tags": []
   },
   "outputs": [],
   "source": [
    "def tweak_kag(df_: pd.DataFrame) -> pd.DataFrame:\n",
    "    \"\"\"\n",
    "    Tweak the Kaggle survey data and return a new DataFrame.\n",
    "\n",
    "    This function takes a Pandas DataFrame containing Kaggle \n",
    "    survey data as input and returns a new DataFrame. The \n",
    "    modifications include extracting and transforming certain \n",
    "    columns, renaming columns, and selecting a subset of columns.\n",
    "\n",
    "    Parameters\n",
    "    ----------\n",
    "    df_ : pd.DataFrame\n",
    "        The input DataFrame containing Kaggle survey data.\n",
    "\n",
    "    Returns\n",
    "    -------\n",
    "    pd.DataFrame\n",
    "        The new DataFrame with the modified and selected columns.\n",
    "    \"\"\"    \n",
    "    return (df_\n",
    "            .assign(age=df_.Q2.str.slice(0,2).astype(int),\n",
    "                    education=df_.Q4.replace({'Master’s degree': 18,\n",
    "                         'Bachelor’s degree': 16,\n",
    "                         'Doctoral degree': 20,\n",
    "'Some college/university study without earning a bachelor’s degree': 13,\n",
    "                         'Professional degree': 19,\n",
    "                         'I prefer not to answer': None,\n",
    "                         'No formal education past high school': 12}),\n",
    "                    major=(df_.Q5\n",
    "                              .pipe(topn, n=3)\n",
    "                              .replace({\n",
    "                        'Computer science (software engineering, etc.)': 'cs',\n",
    "                        'Engineering (non-computer focused)': 'eng',\n",
    "                        'Mathematics or statistics': 'stat'})\n",
    "                         ),\n",
    "                    years_exp=(df_.Q8.str.replace('+','', regex=False)\n",
    "                           .str.split('-', expand=True)\n",
    "                           .iloc[:,0]\n",
    "                           .astype(float)),\n",
    "                    compensation=(df_.Q9.str.replace('+','', regex=False)\n",
    "                           .str.replace(',','', regex=False)\n",
    "                           .str.replace('500000', '500', regex=False)\n",
    "  .str.replace('I do not wish to disclose my approximate yearly compensation',\n",
    "             '0', regex=False)\n",
    "                           .str.split('-', expand=True)\n",
    "                           .iloc[:,0]\n",
    "                           .fillna(0)\n",
    "                           .astype(int)\n",
    "                           .mul(1_000)\n",
    "                                    ),\n",
    "                    python=df_.Q16_Part_1.fillna(0).replace('Python', 1),\n",
    "                    r=df_.Q16_Part_2.fillna(0).replace('R', 1),\n",
    "                    sql=df_.Q16_Part_3.fillna(0).replace('SQL', 1)\n",
    "               )#assign\n",
    "        .rename(columns=lambda col:col.replace(' ', '_'))\n",
    "        .loc[:, 'Q1,Q3,age,education,major,years_exp,compensation,'\n",
    "                'python,r,sql'.split(',')]   \n",
    "       )\n",
    "\n",
    "        \n",
    "def topn(ser, n=5, default='other'):\n",
    "    \"\"\"\n",
    "    Replace all values in a Pandas Series that are not among \n",
    "    the top `n` most frequent values with a default value.\n",
    "\n",
    "    This function takes a Pandas Series and returns a new \n",
    "    Series with the values replaced as described above. The \n",
    "    top `n` most frequent values are determined using the \n",
    "    `value_counts` method of the input Series.\n",
    "\n",
    "    Parameters\n",
    "    ----------\n",
    "    ser : pd.Series\n",
    "        The input Series.\n",
    "    n : int, optional\n",
    "        The number of most frequent values to keep. The \n",
    "        default value is 5.\n",
    "    default : str, optional\n",
    "        The default value to use for values that are not among \n",
    "        the top `n` most frequent values. The default value is \n",
    "        'other'.\n",
    "\n",
    "    Returns\n",
    "    -------\n",
    "    pd.Series\n",
    "        The modified Series with the values replaced.\n",
    "    \"\"\"    \n",
    "    counts = ser.value_counts()\n",
    "    return ser.where(ser.isin(counts.index[:n]), default)\n",
    "\n",
    "class TweakKagTransformer(base.BaseEstimator,\n",
    "    base.TransformerMixin):\n",
    "    \"\"\"\n",
    "    A transformer for tweaking Kaggle survey data.\n",
    "\n",
    "    This transformer takes a Pandas DataFrame containing \n",
    "    Kaggle survey data as input and returns a new version of \n",
    "    the DataFrame. The modifications include extracting and \n",
    "    transforming certain columns, renaming columns, and \n",
    "    selecting a subset of columns.\n",
    "\n",
    "    Parameters\n",
    "    ----------\n",
    "    ycol : str, optional\n",
    "        The name of the column to be used as the target variable. \n",
    "        If not specified, the target variable will not be set.\n",
    "\n",
    "    Attributes\n",
    "    ----------\n",
    "    ycol : str\n",
    "        The name of the column to be used as the target variable.\n",
    "    \"\"\"\n",
    "    \n",
    "    def __init__(self, ycol=None):\n",
    "        self.ycol = ycol\n",
    "        \n",
    "    def transform(self, X):\n",
    "        return tweak_kag(X)\n",
    "    \n",
    "    def fit(self, X, y=None):\n",
    "        return self\n",
    "    \n",
    "def get_rawX_y(df, y_col):\n",
    "    raw = (df\n",
    "            .query('Q6.isin([\"Data Scientist\", \"Software Engineer\"])')\n",
    "          )\n",
    "    return raw.drop(columns=[y_col]), raw[y_col]\n"
   ]
  },
  {
   "cell_type": "code",
   "execution_count": 6,
   "id": "eee04aab-71ac-4ea7-9af4-fe19664401e1",
   "metadata": {
    "tags": []
   },
   "outputs": [],
   "source": [
    "## Create a pipeline\n",
    "kag_pl = pipeline.Pipeline(\n",
    "    [('tweak', TweakKagTransformer()),\n",
    "     ('cat', encoding.OneHotEncoder(top_categories=5, drop_last=True, \n",
    "           variables=['Q1', 'Q3', 'major'])),\n",
    "     ('num_impute', imputation.MeanMedianImputer(imputation_method='median',\n",
    "          variables=['education', 'years_exp']))]\n",
    ")"
   ]
  },
  {
   "cell_type": "code",
   "execution_count": 7,
   "id": "4b954572-3730-4c38-ba45-5979d300e20d",
   "metadata": {
    "tags": []
   },
   "outputs": [],
   "source": [
    "\n",
    "kag_X, kag_y = get_rawX_y(response_df, 'Q6')\n",
    "    "
   ]
  },
  {
   "cell_type": "code",
   "execution_count": 8,
   "id": "47025d9d-238c-460f-bd31-35a004ccb926",
   "metadata": {
    "tags": []
   },
   "outputs": [
    {
     "data": {
      "text/plain": [
       "(7267,)"
      ]
     },
     "execution_count": 8,
     "metadata": {},
     "output_type": "execute_result"
    }
   ],
   "source": [
    "kag_y.shape"
   ]
  },
  {
   "cell_type": "code",
   "execution_count": 9,
   "id": "11f7662d-2ae6-426e-bdd7-caacd62616d2",
   "metadata": {
    "tags": []
   },
   "outputs": [],
   "source": [
    "kag_X_train, kag_X_test, kag_y_train, kag_y_test = \\\n",
    "    model_selection.train_test_split(\n",
    "        kag_X, kag_y, test_size=.3, random_state=42, stratify=kag_y)\n"
   ]
  },
  {
   "cell_type": "code",
   "execution_count": 10,
   "id": "632b79e7-880d-4ff0-9d97-658cd9796c03",
   "metadata": {
    "tags": []
   },
   "outputs": [
    {
     "data": {
      "text/html": [
       "<div>\n",
       "<style scoped>\n",
       "    .dataframe tbody tr th:only-of-type {\n",
       "        vertical-align: middle;\n",
       "    }\n",
       "\n",
       "    .dataframe tbody tr th {\n",
       "        vertical-align: top;\n",
       "    }\n",
       "\n",
       "    .dataframe thead th {\n",
       "        text-align: right;\n",
       "    }\n",
       "</style>\n",
       "<table border=\"1\" class=\"dataframe\">\n",
       "  <thead>\n",
       "    <tr style=\"text-align: right;\">\n",
       "      <th></th>\n",
       "      <th>age</th>\n",
       "      <th>education</th>\n",
       "      <th>years_exp</th>\n",
       "      <th>compensation</th>\n",
       "      <th>python</th>\n",
       "      <th>r</th>\n",
       "      <th>sql</th>\n",
       "      <th>Q1_Male</th>\n",
       "      <th>Q1_Female</th>\n",
       "      <th>Q1_Prefer not to say</th>\n",
       "      <th>Q1_Prefer to self-describe</th>\n",
       "      <th>Q3_United States of America</th>\n",
       "      <th>Q3_India</th>\n",
       "      <th>Q3_Russia</th>\n",
       "      <th>Q3_Other</th>\n",
       "      <th>Q3_China</th>\n",
       "      <th>major_cs</th>\n",
       "      <th>major_other</th>\n",
       "      <th>major_eng</th>\n",
       "      <th>major_stat</th>\n",
       "    </tr>\n",
       "  </thead>\n",
       "  <tbody>\n",
       "    <tr>\n",
       "      <th>17936</th>\n",
       "      <td>35</td>\n",
       "      <td>18.0</td>\n",
       "      <td>10.0</td>\n",
       "      <td>80000</td>\n",
       "      <td>0</td>\n",
       "      <td>0</td>\n",
       "      <td>0</td>\n",
       "      <td>1</td>\n",
       "      <td>0</td>\n",
       "      <td>0</td>\n",
       "      <td>0</td>\n",
       "      <td>0</td>\n",
       "      <td>0</td>\n",
       "      <td>0</td>\n",
       "      <td>0</td>\n",
       "      <td>1</td>\n",
       "      <td>1</td>\n",
       "      <td>0</td>\n",
       "      <td>0</td>\n",
       "      <td>0</td>\n",
       "    </tr>\n",
       "    <tr>\n",
       "      <th>21506</th>\n",
       "      <td>30</td>\n",
       "      <td>18.0</td>\n",
       "      <td>2.0</td>\n",
       "      <td>10000</td>\n",
       "      <td>1</td>\n",
       "      <td>0</td>\n",
       "      <td>0</td>\n",
       "      <td>1</td>\n",
       "      <td>0</td>\n",
       "      <td>0</td>\n",
       "      <td>0</td>\n",
       "      <td>0</td>\n",
       "      <td>0</td>\n",
       "      <td>0</td>\n",
       "      <td>0</td>\n",
       "      <td>0</td>\n",
       "      <td>0</td>\n",
       "      <td>0</td>\n",
       "      <td>0</td>\n",
       "      <td>1</td>\n",
       "    </tr>\n",
       "    <tr>\n",
       "      <th>18578</th>\n",
       "      <td>40</td>\n",
       "      <td>18.0</td>\n",
       "      <td>15.0</td>\n",
       "      <td>90000</td>\n",
       "      <td>0</td>\n",
       "      <td>0</td>\n",
       "      <td>0</td>\n",
       "      <td>1</td>\n",
       "      <td>0</td>\n",
       "      <td>0</td>\n",
       "      <td>0</td>\n",
       "      <td>1</td>\n",
       "      <td>0</td>\n",
       "      <td>0</td>\n",
       "      <td>0</td>\n",
       "      <td>0</td>\n",
       "      <td>1</td>\n",
       "      <td>0</td>\n",
       "      <td>0</td>\n",
       "      <td>0</td>\n",
       "    </tr>\n",
       "    <tr>\n",
       "      <th>14192</th>\n",
       "      <td>22</td>\n",
       "      <td>18.0</td>\n",
       "      <td>1.0</td>\n",
       "      <td>0</td>\n",
       "      <td>1</td>\n",
       "      <td>0</td>\n",
       "      <td>1</td>\n",
       "      <td>1</td>\n",
       "      <td>0</td>\n",
       "      <td>0</td>\n",
       "      <td>0</td>\n",
       "      <td>0</td>\n",
       "      <td>0</td>\n",
       "      <td>0</td>\n",
       "      <td>0</td>\n",
       "      <td>0</td>\n",
       "      <td>1</td>\n",
       "      <td>0</td>\n",
       "      <td>0</td>\n",
       "      <td>0</td>\n",
       "    </tr>\n",
       "    <tr>\n",
       "      <th>23579</th>\n",
       "      <td>25</td>\n",
       "      <td>18.0</td>\n",
       "      <td>1.0</td>\n",
       "      <td>0</td>\n",
       "      <td>0</td>\n",
       "      <td>0</td>\n",
       "      <td>0</td>\n",
       "      <td>1</td>\n",
       "      <td>0</td>\n",
       "      <td>0</td>\n",
       "      <td>0</td>\n",
       "      <td>0</td>\n",
       "      <td>0</td>\n",
       "      <td>0</td>\n",
       "      <td>0</td>\n",
       "      <td>0</td>\n",
       "      <td>0</td>\n",
       "      <td>1</td>\n",
       "      <td>0</td>\n",
       "      <td>0</td>\n",
       "    </tr>\n",
       "  </tbody>\n",
       "</table>\n",
       "</div>"
      ],
      "text/plain": [
       "       age  education  years_exp  compensation  python  r  sql  Q1_Male   \n",
       "17936   35       18.0       10.0         80000       0  0    0        1  \\\n",
       "21506   30       18.0        2.0         10000       1  0    0        1   \n",
       "18578   40       18.0       15.0         90000       0  0    0        1   \n",
       "14192   22       18.0        1.0             0       1  0    1        1   \n",
       "23579   25       18.0        1.0             0       0  0    0        1   \n",
       "\n",
       "       Q1_Female  Q1_Prefer not to say  Q1_Prefer to self-describe   \n",
       "17936          0                     0                           0  \\\n",
       "21506          0                     0                           0   \n",
       "18578          0                     0                           0   \n",
       "14192          0                     0                           0   \n",
       "23579          0                     0                           0   \n",
       "\n",
       "       Q3_United States of America  Q3_India  Q3_Russia  Q3_Other  Q3_China   \n",
       "17936                            0         0          0         0         1  \\\n",
       "21506                            0         0          0         0         0   \n",
       "18578                            1         0          0         0         0   \n",
       "14192                            0         0          0         0         0   \n",
       "23579                            0         0          0         0         0   \n",
       "\n",
       "       major_cs  major_other  major_eng  major_stat  \n",
       "17936         1            0          0           0  \n",
       "21506         0            0          0           1  \n",
       "18578         1            0          0           0  \n",
       "14192         1            0          0           0  \n",
       "23579         0            1          0           0  "
      ]
     },
     "execution_count": 10,
     "metadata": {},
     "output_type": "execute_result"
    }
   ],
   "source": [
    "X_train = kag_pl.fit_transform(kag_X_train, kag_y_train)\n",
    "X_test = kag_pl.transform(kag_X_test)\n",
    "X_train.head()"
   ]
  },
  {
   "cell_type": "code",
   "execution_count": 11,
   "id": "5f1981be-7bde-444e-8f6a-8f1e179a12c2",
   "metadata": {
    "tags": []
   },
   "outputs": [
    {
     "data": {
      "text/plain": [
       "(5086, 20)"
      ]
     },
     "execution_count": 11,
     "metadata": {},
     "output_type": "execute_result"
    }
   ],
   "source": [
    "X_train.shape"
   ]
  },
  {
   "cell_type": "code",
   "execution_count": 12,
   "id": "ce9d8756-27e2-4e65-8952-97bc17ae8ff4",
   "metadata": {
    "tags": []
   },
   "outputs": [
    {
     "data": {
      "text/plain": [
       "(2181, 20)"
      ]
     },
     "execution_count": 12,
     "metadata": {},
     "output_type": "execute_result"
    }
   ],
   "source": [
    "X_test.shape"
   ]
  },
  {
   "cell_type": "code",
   "execution_count": 13,
   "id": "2ad3ea08-72e4-41b9-9896-d1ea3f5575cf",
   "metadata": {},
   "outputs": [
    {
     "data": {
      "text/plain": [
       "17936    0\n",
       "21506    1\n",
       "18578    0\n",
       "14192    0\n",
       "23579    1\n",
       "        ..\n",
       "19827    1\n",
       "6490     1\n",
       "12097    1\n",
       "11132    1\n",
       "5969     1\n",
       "Name: Q6, Length: 5086, dtype: int64"
      ]
     },
     "execution_count": 13,
     "metadata": {},
     "output_type": "execute_result"
    }
   ],
   "source": [
    "kag_y_train = 1*(kag_y_train == 'Data Scientist')\n",
    "kag_y_train"
   ]
  },
  {
   "cell_type": "code",
   "execution_count": 14,
   "id": "0d03b469-e068-4b90-842a-74cadc3c1981",
   "metadata": {
    "tags": []
   },
   "outputs": [
    {
     "data": {
      "text/plain": [
       "14808    0\n",
       "9849     1\n",
       "4042     1\n",
       "17061    1\n",
       "10415    0\n",
       "        ..\n",
       "18452    1\n",
       "4038     1\n",
       "10684    1\n",
       "15604    1\n",
       "21084    1\n",
       "Name: Q6, Length: 2181, dtype: int64"
      ]
     },
     "execution_count": 14,
     "metadata": {},
     "output_type": "execute_result"
    }
   ],
   "source": [
    "kag_y_test = 1*(kag_y_test == 'Data Scientist')\n",
    "kag_y_test"
   ]
  },
  {
   "cell_type": "code",
   "execution_count": 15,
   "id": "43e5035a-affd-4bfb-9aea-0a0ccff436ad",
   "metadata": {
    "tags": []
   },
   "outputs": [],
   "source": [
    "clf = HistGradientBoostingClassifier(validation_fraction=None)"
   ]
  },
  {
   "cell_type": "code",
   "execution_count": 16,
   "id": "692c4b1c-581d-409c-9c81-1c3fd1a2bc17",
   "metadata": {
    "tags": []
   },
   "outputs": [
    {
     "name": "stdout",
     "output_type": "stream",
     "text": [
      "CPU times: user 16.2 s, sys: 1min 7s, total: 1min 23s\n",
      "Wall time: 4.42 s\n"
     ]
    },
    {
     "data": {
      "text/html": [
       "<style>#sk-container-id-1 {color: black;background-color: white;}#sk-container-id-1 pre{padding: 0;}#sk-container-id-1 div.sk-toggleable {background-color: white;}#sk-container-id-1 label.sk-toggleable__label {cursor: pointer;display: block;width: 100%;margin-bottom: 0;padding: 0.3em;box-sizing: border-box;text-align: center;}#sk-container-id-1 label.sk-toggleable__label-arrow:before {content: \"▸\";float: left;margin-right: 0.25em;color: #696969;}#sk-container-id-1 label.sk-toggleable__label-arrow:hover:before {color: black;}#sk-container-id-1 div.sk-estimator:hover label.sk-toggleable__label-arrow:before {color: black;}#sk-container-id-1 div.sk-toggleable__content {max-height: 0;max-width: 0;overflow: hidden;text-align: left;background-color: #f0f8ff;}#sk-container-id-1 div.sk-toggleable__content pre {margin: 0.2em;color: black;border-radius: 0.25em;background-color: #f0f8ff;}#sk-container-id-1 input.sk-toggleable__control:checked~div.sk-toggleable__content {max-height: 200px;max-width: 100%;overflow: auto;}#sk-container-id-1 input.sk-toggleable__control:checked~label.sk-toggleable__label-arrow:before {content: \"▾\";}#sk-container-id-1 div.sk-estimator input.sk-toggleable__control:checked~label.sk-toggleable__label {background-color: #d4ebff;}#sk-container-id-1 div.sk-label input.sk-toggleable__control:checked~label.sk-toggleable__label {background-color: #d4ebff;}#sk-container-id-1 input.sk-hidden--visually {border: 0;clip: rect(1px 1px 1px 1px);clip: rect(1px, 1px, 1px, 1px);height: 1px;margin: -1px;overflow: hidden;padding: 0;position: absolute;width: 1px;}#sk-container-id-1 div.sk-estimator {font-family: monospace;background-color: #f0f8ff;border: 1px dotted black;border-radius: 0.25em;box-sizing: border-box;margin-bottom: 0.5em;}#sk-container-id-1 div.sk-estimator:hover {background-color: #d4ebff;}#sk-container-id-1 div.sk-parallel-item::after {content: \"\";width: 100%;border-bottom: 1px solid gray;flex-grow: 1;}#sk-container-id-1 div.sk-label:hover label.sk-toggleable__label {background-color: #d4ebff;}#sk-container-id-1 div.sk-serial::before {content: \"\";position: absolute;border-left: 1px solid gray;box-sizing: border-box;top: 0;bottom: 0;left: 50%;z-index: 0;}#sk-container-id-1 div.sk-serial {display: flex;flex-direction: column;align-items: center;background-color: white;padding-right: 0.2em;padding-left: 0.2em;position: relative;}#sk-container-id-1 div.sk-item {position: relative;z-index: 1;}#sk-container-id-1 div.sk-parallel {display: flex;align-items: stretch;justify-content: center;background-color: white;position: relative;}#sk-container-id-1 div.sk-item::before, #sk-container-id-1 div.sk-parallel-item::before {content: \"\";position: absolute;border-left: 1px solid gray;box-sizing: border-box;top: 0;bottom: 0;left: 50%;z-index: -1;}#sk-container-id-1 div.sk-parallel-item {display: flex;flex-direction: column;z-index: 1;position: relative;background-color: white;}#sk-container-id-1 div.sk-parallel-item:first-child::after {align-self: flex-end;width: 50%;}#sk-container-id-1 div.sk-parallel-item:last-child::after {align-self: flex-start;width: 50%;}#sk-container-id-1 div.sk-parallel-item:only-child::after {width: 0;}#sk-container-id-1 div.sk-dashed-wrapped {border: 1px dashed gray;margin: 0 0.4em 0.5em 0.4em;box-sizing: border-box;padding-bottom: 0.4em;background-color: white;}#sk-container-id-1 div.sk-label label {font-family: monospace;font-weight: bold;display: inline-block;line-height: 1.2em;}#sk-container-id-1 div.sk-label-container {text-align: center;}#sk-container-id-1 div.sk-container {/* jupyter's `normalize.less` sets `[hidden] { display: none; }` but bootstrap.min.css set `[hidden] { display: none !important; }` so we also need the `!important` here to be able to override the default hidden behavior on the sphinx rendered scikit-learn.org. See: https://github.com/scikit-learn/scikit-learn/issues/21755 */display: inline-block !important;position: relative;}#sk-container-id-1 div.sk-text-repr-fallback {display: none;}</style><div id=\"sk-container-id-1\" class=\"sk-top-container\"><div class=\"sk-text-repr-fallback\"><pre>HistGradientBoostingClassifier(validation_fraction=None)</pre><b>In a Jupyter environment, please rerun this cell to show the HTML representation or trust the notebook. <br />On GitHub, the HTML representation is unable to render, please try loading this page with nbviewer.org.</b></div><div class=\"sk-container\" hidden><div class=\"sk-item\"><div class=\"sk-estimator sk-toggleable\"><input class=\"sk-toggleable__control sk-hidden--visually\" id=\"sk-estimator-id-1\" type=\"checkbox\" checked><label for=\"sk-estimator-id-1\" class=\"sk-toggleable__label sk-toggleable__label-arrow\">HistGradientBoostingClassifier</label><div class=\"sk-toggleable__content\"><pre>HistGradientBoostingClassifier(validation_fraction=None)</pre></div></div></div></div></div>"
      ],
      "text/plain": [
       "HistGradientBoostingClassifier(validation_fraction=None)"
      ]
     },
     "execution_count": 16,
     "metadata": {},
     "output_type": "execute_result"
    }
   ],
   "source": [
    "%%time\n",
    "clf.fit(X_train, kag_y_train)"
   ]
  },
  {
   "cell_type": "code",
   "execution_count": 17,
   "id": "5430d64c-3846-4cc7-a48e-4ad9637c10ca",
   "metadata": {
    "tags": []
   },
   "outputs": [
    {
     "data": {
      "text/plain": [
       "array([0.18927116, 0.81336654, 0.58384649, ..., 0.83467676, 0.90900867,\n",
       "       0.75828083])"
      ]
     },
     "execution_count": 17,
     "metadata": {},
     "output_type": "execute_result"
    }
   ],
   "source": [
    "preds = clf.predict_proba(X_test)[:,1]\n",
    "preds"
   ]
  },
  {
   "cell_type": "code",
   "execution_count": 18,
   "id": "b8e3e1ac-c818-4739-93c5-9768f4bef826",
   "metadata": {
    "tags": []
   },
   "outputs": [
    {
     "data": {
      "text/plain": [
       "0.820002863909425"
      ]
     },
     "execution_count": 18,
     "metadata": {},
     "output_type": "execute_result"
    }
   ],
   "source": [
    "roc_auc_score(kag_y_test, preds)"
   ]
  },
  {
   "cell_type": "code",
   "execution_count": null,
   "id": "920c4cee-3aeb-42e3-9653-fe9641cc1dfd",
   "metadata": {},
   "outputs": [],
   "source": []
  }
 ],
 "metadata": {
  "kernelspec": {
   "display_name": "Python 3 (ipykernel)",
   "language": "python",
   "name": "python3"
  },
  "language_info": {
   "codemirror_mode": {
    "name": "ipython",
    "version": 3
   },
   "file_extension": ".py",
   "mimetype": "text/x-python",
   "name": "python",
   "nbconvert_exporter": "python",
   "pygments_lexer": "ipython3",
   "version": "3.9.6"
  }
 },
 "nbformat": 4,
 "nbformat_minor": 5
}
