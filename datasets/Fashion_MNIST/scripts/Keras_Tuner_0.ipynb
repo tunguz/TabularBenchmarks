{
 "cells": [
  {
   "cell_type": "code",
   "execution_count": 1,
   "id": "933b7aab-ac09-4608-a787-5a76b2be8940",
   "metadata": {},
   "outputs": [],
   "source": [
    "%load_ext watermark"
   ]
  },
  {
   "cell_type": "code",
   "execution_count": 2,
   "id": "94090294-43da-43b0-8ab4-d8a96ae1c76a",
   "metadata": {},
   "outputs": [
    {
     "name": "stdout",
     "output_type": "stream",
     "text": [
      "Last updated: 2022-08-29T18:58:44.376947-04:00\n",
      "\n",
      "Python implementation: CPython\n",
      "Python version       : 3.8.10\n",
      "IPython version      : 7.28.0\n",
      "\n",
      "Compiler    : GCC 9.3.0\n",
      "OS          : Linux\n",
      "Release     : 5.11.0-37-generic\n",
      "Machine     : x86_64\n",
      "Processor   : x86_64\n",
      "CPU cores   : 32\n",
      "Architecture: 64bit\n",
      "\n"
     ]
    }
   ],
   "source": [
    "%watermark"
   ]
  },
  {
   "cell_type": "code",
   "execution_count": 3,
   "id": "820305ea-07a1-4b4c-9e34-50f38d585c2a",
   "metadata": {},
   "outputs": [],
   "source": [
    "import keras_tuner\n",
    "from tensorflow import keras\n",
    "import pandas as pd\n",
    "import numpy as np\n",
    "from sklearn.metrics import accuracy_score\n",
    "import keras_tuner as kt\n",
    "from tensorflow.keras import layers"
   ]
  },
  {
   "cell_type": "code",
   "execution_count": 4,
   "id": "37f7ed3f-a48b-4f8e-8e48-2984714de89f",
   "metadata": {},
   "outputs": [
    {
     "name": "stdout",
     "output_type": "stream",
     "text": [
      "tensorflow : 2.9.1\n",
      "numpy      : 1.22.4\n",
      "keras_tuner: 1.1.3\n",
      "pandas     : 1.4.3\n",
      "\n"
     ]
    }
   ],
   "source": [
    "%watermark --iversions"
   ]
  },
  {
   "cell_type": "code",
   "execution_count": 5,
   "id": "ecb27f4e-1edb-486e-8121-59e3a2eb3484",
   "metadata": {},
   "outputs": [],
   "source": [
    "def load_data(path):\n",
    "    data = pd.read_csv(path)\n",
    "    y = data[\"label\"]\n",
    "    x = data.drop(labels=[\"label\"], axis=1).values.reshape(-1, 28, 28, 1)\n",
    "    return x, y\n",
    "\n",
    "x_train, y_train = load_data(\"../input/train.csv.gz\")\n",
    "x_test, y_test = load_data(\"../input/test.csv.gz\")"
   ]
  },
  {
   "cell_type": "code",
   "execution_count": 6,
   "id": "e789393f-7ac7-4966-90f1-ba8ab4a8bc21",
   "metadata": {},
   "outputs": [
    {
     "data": {
      "text/plain": [
       "(60000, 28, 28, 1)"
      ]
     },
     "execution_count": 6,
     "metadata": {},
     "output_type": "execute_result"
    }
   ],
   "source": [
    "x_train.shape"
   ]
  },
  {
   "cell_type": "code",
   "execution_count": 7,
   "id": "34593157-eed1-4cc0-b22b-259b32398089",
   "metadata": {},
   "outputs": [
    {
     "data": {
      "text/plain": [
       "(10000, 28, 28, 1)"
      ]
     },
     "execution_count": 7,
     "metadata": {},
     "output_type": "execute_result"
    }
   ],
   "source": [
    "x_test.shape"
   ]
  },
  {
   "cell_type": "code",
   "execution_count": 8,
   "id": "b3e3318f-4e95-40e2-9ee8-4e13eb2b4758",
   "metadata": {},
   "outputs": [],
   "source": [
    "def augment_images(x, hp):\n",
    "    use_rotation = hp.Boolean('use_rotation')\n",
    "    if use_rotation:\n",
    "        x = layers.experimental.preprocessing.RandomRotation(\n",
    "            hp.Float('rotation_factor', min_value=0.05, max_value=0.2)\n",
    "        )(x)\n",
    "    use_zoom = hp.Boolean('use_zoom')\n",
    "    if use_zoom:\n",
    "        x = layers.experimental.preprocessing.RandomZoom(\n",
    "            hp.Float('use_zoom', min_value=0.05, max_value=0.2)\n",
    "        )(x)\n",
    "    return x\n",
    "\n",
    "def make_model(hp):\n",
    "    inputs = keras.Input(shape=(28, 28, 1))\n",
    "    x = layers.experimental.preprocessing.Rescaling(1. / 255)(inputs)\n",
    "    x = layers.experimental.preprocessing.Resizing(64, 64)(x)\n",
    "    x = augment_images(x, hp)\n",
    "    \n",
    "    num_block = hp.Int('num_block', min_value=2, max_value=5, step=1)\n",
    "    num_filters = hp.Int('num_filters', min_value=32, max_value=128, step=32)\n",
    "    for i in range(num_block):\n",
    "        x = layers.Conv2D(\n",
    "            num_filters,\n",
    "            kernel_size=3,\n",
    "            activation='relu',\n",
    "            padding='same'\n",
    "        )(x)\n",
    "        x = layers.Conv2D(\n",
    "            num_filters,\n",
    "            kernel_size=3,\n",
    "            activation='relu',\n",
    "            padding='same'\n",
    "        )(x)\n",
    "        x = layers.MaxPooling2D(2)(x)\n",
    "    \n",
    "    reduction_type = hp.Choice('reduction_type', ['flatten', 'avg'])\n",
    "    if reduction_type == 'flatten':\n",
    "        x = layers.Flatten()(x)\n",
    "    else:\n",
    "        x = layers.GlobalAveragePooling2D()(x)\n",
    "\n",
    "    x = layers.Dense(\n",
    "        units=hp.Int('num_dense_units', min_value=32, max_value=512, step=32),\n",
    "        activation='relu'\n",
    "    )(x)\n",
    "    x = layers.Dropout(\n",
    "        hp.Float('dense_dropout', min_value=0., max_value=0.7)\n",
    "    )(x)\n",
    "    outputs = layers.Dense(10)(x)\n",
    "    model = keras.Model(inputs, outputs)\n",
    "    \n",
    "    learning_rate = hp.Float('learning_rate', min_value=3e-4, max_value=3e-3)\n",
    "    optimizer = keras.optimizers.Adam(learning_rate=1e-3)\n",
    "    model.compile(loss=keras.losses.SparseCategoricalCrossentropy(from_logits=True),\n",
    "                  optimizer=optimizer,\n",
    "                  metrics=[keras.metrics.SparseCategoricalAccuracy(name='acc')])\n",
    "    model.summary()\n",
    "    return model"
   ]
  },
  {
   "cell_type": "code",
   "execution_count": 9,
   "id": "8955b409-3cec-4c64-ae7d-bb6c0587603c",
   "metadata": {},
   "outputs": [
    {
     "name": "stdout",
     "output_type": "stream",
     "text": [
      "Trial 100 Complete [00h 00m 40s]\n",
      "val_acc: 0.878166675567627\n",
      "\n",
      "Best val_acc So Far: 0.9319166541099548\n",
      "Total elapsed time: 02h 17m 46s\n",
      "INFO:tensorflow:Oracle triggered exit\n",
      "CPU times: user 2h 30min 58s, sys: 4min 43s, total: 2h 35min 41s\n",
      "Wall time: 2h 17min 47s\n"
     ]
    }
   ],
   "source": [
    "%%time\n",
    "\n",
    "tuner = kt.tuners.RandomSearch(\n",
    "    make_model,\n",
    "    objective='val_acc',\n",
    "    max_trials=100,\n",
    "    overwrite=True)\n",
    "\n",
    "callbacks=[keras.callbacks.EarlyStopping(monitor='val_acc', mode='max', patience=3, baseline=0.9)]\n",
    "tuner.search(x_train, y_train, validation_split=0.2, callbacks=callbacks, verbose=1, epochs=100)"
   ]
  },
  {
   "cell_type": "code",
   "execution_count": 10,
   "id": "e6383746-c3a9-4637-abb3-d552aa73e7c7",
   "metadata": {},
   "outputs": [
    {
     "name": "stdout",
     "output_type": "stream",
     "text": [
      "Model: \"model_1\"\n",
      "_________________________________________________________________\n",
      " Layer (type)                Output Shape              Param #   \n",
      "=================================================================\n",
      " input_2 (InputLayer)        [(None, 28, 28, 1)]       0         \n",
      "                                                                 \n",
      " rescaling_1 (Rescaling)     (None, 28, 28, 1)         0         \n",
      "                                                                 \n",
      " resizing_1 (Resizing)       (None, 64, 64, 1)         0         \n",
      "                                                                 \n",
      " conv2d_6 (Conv2D)           (None, 64, 64, 96)        960       \n",
      "                                                                 \n",
      " conv2d_7 (Conv2D)           (None, 64, 64, 96)        83040     \n",
      "                                                                 \n",
      " max_pooling2d_3 (MaxPooling  (None, 32, 32, 96)       0         \n",
      " 2D)                                                             \n",
      "                                                                 \n",
      " conv2d_8 (Conv2D)           (None, 32, 32, 96)        83040     \n",
      "                                                                 \n",
      " conv2d_9 (Conv2D)           (None, 32, 32, 96)        83040     \n",
      "                                                                 \n",
      " max_pooling2d_4 (MaxPooling  (None, 16, 16, 96)       0         \n",
      " 2D)                                                             \n",
      "                                                                 \n",
      " conv2d_10 (Conv2D)          (None, 16, 16, 96)        83040     \n",
      "                                                                 \n",
      " conv2d_11 (Conv2D)          (None, 16, 16, 96)        83040     \n",
      "                                                                 \n",
      " max_pooling2d_5 (MaxPooling  (None, 8, 8, 96)         0         \n",
      " 2D)                                                             \n",
      "                                                                 \n",
      " conv2d_12 (Conv2D)          (None, 8, 8, 96)          83040     \n",
      "                                                                 \n",
      " conv2d_13 (Conv2D)          (None, 8, 8, 96)          83040     \n",
      "                                                                 \n",
      " max_pooling2d_6 (MaxPooling  (None, 4, 4, 96)         0         \n",
      " 2D)                                                             \n",
      "                                                                 \n",
      " global_average_pooling2d_1   (None, 96)               0         \n",
      " (GlobalAveragePooling2D)                                        \n",
      "                                                                 \n",
      " dense_2 (Dense)             (None, 384)               37248     \n",
      "                                                                 \n",
      " dropout_1 (Dropout)         (None, 384)               0         \n",
      "                                                                 \n",
      " dense_3 (Dense)             (None, 10)                3850      \n",
      "                                                                 \n",
      "=================================================================\n",
      "Total params: 623,338\n",
      "Trainable params: 623,338\n",
      "Non-trainable params: 0\n",
      "_________________________________________________________________\n",
      "Epoch 1/50\n",
      "1500/1500 [==============================] - 20s 13ms/step - loss: 0.5756 - acc: 0.7843 - val_loss: 0.3358 - val_acc: 0.8746\n",
      "Epoch 2/50\n",
      "1500/1500 [==============================] - 19s 13ms/step - loss: 0.3139 - acc: 0.8851 - val_loss: 0.3320 - val_acc: 0.8782\n",
      "Epoch 3/50\n",
      "1500/1500 [==============================] - 19s 13ms/step - loss: 0.2608 - acc: 0.9047 - val_loss: 0.2546 - val_acc: 0.9075\n",
      "Epoch 4/50\n",
      "1500/1500 [==============================] - 19s 13ms/step - loss: 0.2295 - acc: 0.9153 - val_loss: 0.2284 - val_acc: 0.9183\n",
      "Epoch 5/50\n",
      "1500/1500 [==============================] - 19s 13ms/step - loss: 0.2040 - acc: 0.9251 - val_loss: 0.2336 - val_acc: 0.9179\n",
      "Epoch 6/50\n",
      "1500/1500 [==============================] - 19s 13ms/step - loss: 0.1826 - acc: 0.9330 - val_loss: 0.2401 - val_acc: 0.9178\n",
      "Epoch 7/50\n",
      "1500/1500 [==============================] - 19s 13ms/step - loss: 0.1617 - acc: 0.9400 - val_loss: 0.2220 - val_acc: 0.9218\n",
      "Epoch 8/50\n",
      "1500/1500 [==============================] - 19s 13ms/step - loss: 0.1452 - acc: 0.9461 - val_loss: 0.2298 - val_acc: 0.9243\n",
      "Epoch 9/50\n",
      "1500/1500 [==============================] - 20s 13ms/step - loss: 0.1306 - acc: 0.9517 - val_loss: 0.2344 - val_acc: 0.9250\n",
      "Epoch 10/50\n",
      "1500/1500 [==============================] - 19s 13ms/step - loss: 0.1150 - acc: 0.9573 - val_loss: 0.2344 - val_acc: 0.9268\n",
      "Epoch 11/50\n",
      "1500/1500 [==============================] - 19s 13ms/step - loss: 0.1031 - acc: 0.9615 - val_loss: 0.2621 - val_acc: 0.9252\n",
      "Epoch 12/50\n",
      "1500/1500 [==============================] - 20s 13ms/step - loss: 0.0880 - acc: 0.9666 - val_loss: 0.2644 - val_acc: 0.9275\n",
      "Epoch 13/50\n",
      "1500/1500 [==============================] - 20s 13ms/step - loss: 0.0840 - acc: 0.9683 - val_loss: 0.2639 - val_acc: 0.9240\n",
      "Epoch 14/50\n",
      "1500/1500 [==============================] - 20s 13ms/step - loss: 0.0718 - acc: 0.9735 - val_loss: 0.2939 - val_acc: 0.9250\n",
      "Epoch 15/50\n",
      "1500/1500 [==============================] - 20s 13ms/step - loss: 0.0671 - acc: 0.9750 - val_loss: 0.3158 - val_acc: 0.9227\n",
      "Epoch 16/50\n",
      "1500/1500 [==============================] - 20s 13ms/step - loss: 0.0660 - acc: 0.9754 - val_loss: 0.2863 - val_acc: 0.9287\n",
      "Epoch 17/50\n",
      "1500/1500 [==============================] - 20s 13ms/step - loss: 0.0591 - acc: 0.9781 - val_loss: 0.3102 - val_acc: 0.9262\n",
      "Epoch 18/50\n",
      "1500/1500 [==============================] - 20s 13ms/step - loss: 0.0529 - acc: 0.9808 - val_loss: 0.3806 - val_acc: 0.9219\n",
      "Epoch 19/50\n",
      "1500/1500 [==============================] - 20s 13ms/step - loss: 0.0509 - acc: 0.9815 - val_loss: 0.3388 - val_acc: 0.9251\n",
      "Epoch 20/50\n",
      "1500/1500 [==============================] - 19s 13ms/step - loss: 0.0531 - acc: 0.9810 - val_loss: 0.3757 - val_acc: 0.9251\n",
      "Epoch 21/50\n",
      "1500/1500 [==============================] - 19s 13ms/step - loss: 0.0428 - acc: 0.9847 - val_loss: 0.3784 - val_acc: 0.9267\n",
      "Epoch 22/50\n",
      "1500/1500 [==============================] - 19s 13ms/step - loss: 0.0490 - acc: 0.9824 - val_loss: 0.3981 - val_acc: 0.9210\n",
      "Epoch 23/50\n",
      "1500/1500 [==============================] - 19s 13ms/step - loss: 0.0420 - acc: 0.9848 - val_loss: 0.4166 - val_acc: 0.9239\n",
      "Epoch 24/50\n",
      "1500/1500 [==============================] - 19s 13ms/step - loss: 0.0416 - acc: 0.9856 - val_loss: 0.3569 - val_acc: 0.9226\n",
      "Epoch 25/50\n",
      "1500/1500 [==============================] - 19s 13ms/step - loss: 0.0417 - acc: 0.9855 - val_loss: 0.3823 - val_acc: 0.9233\n",
      "Epoch 26/50\n",
      "1500/1500 [==============================] - 19s 13ms/step - loss: 0.0400 - acc: 0.9861 - val_loss: 0.4082 - val_acc: 0.9249\n",
      "Epoch 27/50\n",
      "1500/1500 [==============================] - 20s 13ms/step - loss: 0.0400 - acc: 0.9866 - val_loss: 0.4293 - val_acc: 0.9229\n",
      "Epoch 28/50\n",
      "1500/1500 [==============================] - 19s 13ms/step - loss: 0.0384 - acc: 0.9871 - val_loss: 0.4493 - val_acc: 0.9225\n",
      "Epoch 29/50\n",
      "1500/1500 [==============================] - 19s 13ms/step - loss: 0.0358 - acc: 0.9877 - val_loss: 0.4250 - val_acc: 0.9255\n",
      "Epoch 30/50\n",
      "1500/1500 [==============================] - 19s 13ms/step - loss: 0.0375 - acc: 0.9871 - val_loss: 0.4603 - val_acc: 0.9284\n",
      "Epoch 31/50\n",
      "1500/1500 [==============================] - 19s 13ms/step - loss: 0.0381 - acc: 0.9867 - val_loss: 0.3997 - val_acc: 0.9227\n",
      "Epoch 32/50\n",
      "1500/1500 [==============================] - 20s 13ms/step - loss: 0.0339 - acc: 0.9879 - val_loss: 0.4609 - val_acc: 0.9227\n",
      "Epoch 33/50\n",
      "1500/1500 [==============================] - 20s 13ms/step - loss: 0.0382 - acc: 0.9868 - val_loss: 0.4434 - val_acc: 0.9243\n",
      "Epoch 34/50\n",
      "1500/1500 [==============================] - 19s 13ms/step - loss: 0.0318 - acc: 0.9895 - val_loss: 0.4581 - val_acc: 0.9267\n",
      "Epoch 35/50\n",
      "1500/1500 [==============================] - 19s 13ms/step - loss: 0.0364 - acc: 0.9878 - val_loss: 0.4981 - val_acc: 0.9227\n",
      "Epoch 36/50\n",
      "1500/1500 [==============================] - 20s 13ms/step - loss: 0.0364 - acc: 0.9876 - val_loss: 0.4488 - val_acc: 0.9226\n",
      "Epoch 37/50\n",
      "1500/1500 [==============================] - 20s 13ms/step - loss: 0.0322 - acc: 0.9893 - val_loss: 0.5099 - val_acc: 0.9226\n",
      "Epoch 38/50\n",
      "1500/1500 [==============================] - 20s 13ms/step - loss: 0.0334 - acc: 0.9889 - val_loss: 0.5181 - val_acc: 0.9194\n",
      "Epoch 39/50\n",
      "1500/1500 [==============================] - 19s 13ms/step - loss: 0.0295 - acc: 0.9900 - val_loss: 0.4988 - val_acc: 0.9244\n",
      "Epoch 40/50\n",
      "1500/1500 [==============================] - 19s 13ms/step - loss: 0.0330 - acc: 0.9894 - val_loss: 0.5329 - val_acc: 0.9268\n",
      "Epoch 41/50\n",
      "1500/1500 [==============================] - 20s 13ms/step - loss: 0.0337 - acc: 0.9886 - val_loss: 0.5227 - val_acc: 0.9161\n",
      "Epoch 42/50\n",
      "1500/1500 [==============================] - 19s 13ms/step - loss: 0.0317 - acc: 0.9894 - val_loss: 0.4898 - val_acc: 0.9264\n",
      "Epoch 43/50\n",
      "1500/1500 [==============================] - 19s 13ms/step - loss: 0.0312 - acc: 0.9897 - val_loss: 0.5227 - val_acc: 0.9243\n",
      "Epoch 44/50\n",
      "1500/1500 [==============================] - 19s 13ms/step - loss: 0.0307 - acc: 0.9896 - val_loss: 0.5288 - val_acc: 0.9247\n",
      "Epoch 45/50\n",
      "1500/1500 [==============================] - 19s 13ms/step - loss: 0.0342 - acc: 0.9885 - val_loss: 0.4990 - val_acc: 0.9232\n",
      "Epoch 46/50\n",
      "1500/1500 [==============================] - 20s 13ms/step - loss: 0.0326 - acc: 0.9895 - val_loss: 0.5428 - val_acc: 0.9268\n",
      "Epoch 47/50\n",
      "1500/1500 [==============================] - 20s 13ms/step - loss: 0.0281 - acc: 0.9904 - val_loss: 0.5220 - val_acc: 0.9230\n",
      "Epoch 48/50\n",
      "1500/1500 [==============================] - 20s 13ms/step - loss: 0.0310 - acc: 0.9905 - val_loss: 0.5392 - val_acc: 0.9180\n",
      "Epoch 49/50\n",
      "1500/1500 [==============================] - 20s 13ms/step - loss: 0.0294 - acc: 0.9905 - val_loss: 0.5742 - val_acc: 0.9227\n",
      "Epoch 50/50\n",
      "1500/1500 [==============================] - 20s 13ms/step - loss: 0.0297 - acc: 0.9908 - val_loss: 0.5371 - val_acc: 0.9208\n"
     ]
    }
   ],
   "source": [
    "best_hp = tuner.get_best_hyperparameters()[0]\n",
    "model = make_model(best_hp)\n",
    "history = model.fit(x_train, y_train, validation_split=0.2, epochs=50)"
   ]
  },
  {
   "cell_type": "code",
   "execution_count": 11,
   "id": "75096345-d522-41f7-b903-bd8caa81a8a1",
   "metadata": {},
   "outputs": [
    {
     "name": "stdout",
     "output_type": "stream",
     "text": [
      "Model: \"model_2\"\n",
      "_________________________________________________________________\n",
      " Layer (type)                Output Shape              Param #   \n",
      "=================================================================\n",
      " input_3 (InputLayer)        [(None, 28, 28, 1)]       0         \n",
      "                                                                 \n",
      " rescaling_2 (Rescaling)     (None, 28, 28, 1)         0         \n",
      "                                                                 \n",
      " resizing_2 (Resizing)       (None, 64, 64, 1)         0         \n",
      "                                                                 \n",
      " conv2d_14 (Conv2D)          (None, 64, 64, 96)        960       \n",
      "                                                                 \n",
      " conv2d_15 (Conv2D)          (None, 64, 64, 96)        83040     \n",
      "                                                                 \n",
      " max_pooling2d_7 (MaxPooling  (None, 32, 32, 96)       0         \n",
      " 2D)                                                             \n",
      "                                                                 \n",
      " conv2d_16 (Conv2D)          (None, 32, 32, 96)        83040     \n",
      "                                                                 \n",
      " conv2d_17 (Conv2D)          (None, 32, 32, 96)        83040     \n",
      "                                                                 \n",
      " max_pooling2d_8 (MaxPooling  (None, 16, 16, 96)       0         \n",
      " 2D)                                                             \n",
      "                                                                 \n",
      " conv2d_18 (Conv2D)          (None, 16, 16, 96)        83040     \n",
      "                                                                 \n",
      " conv2d_19 (Conv2D)          (None, 16, 16, 96)        83040     \n",
      "                                                                 \n",
      " max_pooling2d_9 (MaxPooling  (None, 8, 8, 96)         0         \n",
      " 2D)                                                             \n",
      "                                                                 \n",
      " conv2d_20 (Conv2D)          (None, 8, 8, 96)          83040     \n",
      "                                                                 \n",
      " conv2d_21 (Conv2D)          (None, 8, 8, 96)          83040     \n",
      "                                                                 \n",
      " max_pooling2d_10 (MaxPoolin  (None, 4, 4, 96)         0         \n",
      " g2D)                                                            \n",
      "                                                                 \n",
      " global_average_pooling2d_2   (None, 96)               0         \n",
      " (GlobalAveragePooling2D)                                        \n",
      "                                                                 \n",
      " dense_4 (Dense)             (None, 384)               37248     \n",
      "                                                                 \n",
      " dropout_2 (Dropout)         (None, 384)               0         \n",
      "                                                                 \n",
      " dense_5 (Dense)             (None, 10)                3850      \n",
      "                                                                 \n",
      "=================================================================\n",
      "Total params: 623,338\n",
      "Trainable params: 623,338\n",
      "Non-trainable params: 0\n",
      "_________________________________________________________________\n",
      "Epoch 1/16\n",
      "1875/1875 [==============================] - 23s 12ms/step - loss: 0.5245 - acc: 0.8015\n",
      "Epoch 2/16\n",
      "1875/1875 [==============================] - 23s 12ms/step - loss: 0.2892 - acc: 0.8943\n",
      "Epoch 3/16\n",
      "1875/1875 [==============================] - 22s 12ms/step - loss: 0.2422 - acc: 0.9108\n",
      "Epoch 4/16\n",
      "1875/1875 [==============================] - 22s 12ms/step - loss: 0.2146 - acc: 0.9223\n",
      "Epoch 5/16\n",
      "1875/1875 [==============================] - 23s 12ms/step - loss: 0.1938 - acc: 0.9280\n",
      "Epoch 6/16\n",
      "1875/1875 [==============================] - 23s 12ms/step - loss: 0.1756 - acc: 0.9353\n",
      "Epoch 7/16\n",
      "1875/1875 [==============================] - 22s 12ms/step - loss: 0.1556 - acc: 0.9433\n",
      "Epoch 8/16\n",
      "1875/1875 [==============================] - 23s 12ms/step - loss: 0.1404 - acc: 0.9474\n",
      "Epoch 9/16\n",
      "1875/1875 [==============================] - 22s 12ms/step - loss: 0.1232 - acc: 0.9545\n",
      "Epoch 10/16\n",
      "1875/1875 [==============================] - 23s 12ms/step - loss: 0.1136 - acc: 0.9580\n",
      "Epoch 11/16\n",
      "1875/1875 [==============================] - 22s 12ms/step - loss: 0.1014 - acc: 0.9625\n",
      "Epoch 12/16\n",
      "1875/1875 [==============================] - 22s 12ms/step - loss: 0.0898 - acc: 0.9660\n",
      "Epoch 13/16\n",
      "1875/1875 [==============================] - 23s 12ms/step - loss: 0.0834 - acc: 0.9692\n",
      "Epoch 14/16\n",
      "1875/1875 [==============================] - 23s 12ms/step - loss: 0.0754 - acc: 0.9724\n",
      "Epoch 15/16\n",
      "1875/1875 [==============================] - 22s 12ms/step - loss: 0.0700 - acc: 0.9740\n",
      "Epoch 16/16\n",
      "1875/1875 [==============================] - 23s 12ms/step - loss: 0.0669 - acc: 0.9753\n"
     ]
    },
    {
     "data": {
      "text/plain": [
       "<keras.callbacks.History at 0x7f17d80f4f40>"
      ]
     },
     "execution_count": 11,
     "metadata": {},
     "output_type": "execute_result"
    }
   ],
   "source": [
    "val_acc_per_epoch = history.history['val_acc']\n",
    "best_epoch = val_acc_per_epoch.index(max(val_acc_per_epoch)) + 1\n",
    "model = make_model(best_hp)\n",
    "model.fit(x_train, y_train, epochs=best_epoch)"
   ]
  },
  {
   "cell_type": "code",
   "execution_count": 12,
   "id": "f4299df5-2d41-4a8a-857a-13b1de08c596",
   "metadata": {},
   "outputs": [
    {
     "name": "stdout",
     "output_type": "stream",
     "text": [
      "313/313 [==============================] - 2s 4ms/step\n"
     ]
    }
   ],
   "source": [
    "predictions = model.predict(x_test)"
   ]
  },
  {
   "cell_type": "code",
   "execution_count": 13,
   "id": "fcd6ff54-d56e-4953-9881-52cdb9ab91e8",
   "metadata": {},
   "outputs": [
    {
     "data": {
      "text/plain": [
       "array([[ 12.013161 , -17.999102 ,  -6.568815 , ..., -15.967436 ,\n",
       "        -11.78236  , -20.91802  ],\n",
       "       [-20.935917 ,  25.675615 , -14.68352  , ..., -88.50092  ,\n",
       "        -41.144093 , -65.59056  ],\n",
       "       [ -2.1008587, -11.499158 ,   5.4000216, ..., -17.836561 ,\n",
       "        -13.009708 , -13.100741 ],\n",
       "       ...,\n",
       "       [ -8.112904 , -30.828669 , -26.849836 , ..., -15.497483 ,\n",
       "         23.34929  , -28.70831  ],\n",
       "       [-15.484258 , -13.723463 , -49.64977  , ..., -33.936764 ,\n",
       "         29.608875 , -36.317703 ],\n",
       "       [-10.180846 ,  10.040135 , -17.718328 , ..., -42.549023 ,\n",
       "        -10.354838 , -26.76474  ]], dtype=float32)"
      ]
     },
     "execution_count": 13,
     "metadata": {},
     "output_type": "execute_result"
    }
   ],
   "source": [
    "predictions"
   ]
  },
  {
   "cell_type": "code",
   "execution_count": 14,
   "id": "da6c7009-b3b5-47bc-9b28-f98819634a9e",
   "metadata": {},
   "outputs": [
    {
     "data": {
      "text/plain": [
       "array([0, 1, 2, ..., 8, 8, 1])"
      ]
     },
     "execution_count": 14,
     "metadata": {},
     "output_type": "execute_result"
    }
   ],
   "source": [
    "preds = np.argmax(predictions, axis=1)\n",
    "preds"
   ]
  },
  {
   "cell_type": "code",
   "execution_count": 15,
   "id": "79d5b83e-61a7-4c01-ab49-4ac689cf51ec",
   "metadata": {},
   "outputs": [
    {
     "data": {
      "text/plain": [
       "array([0, 1, 2, ..., 8, 8, 1])"
      ]
     },
     "execution_count": 15,
     "metadata": {},
     "output_type": "execute_result"
    }
   ],
   "source": [
    "y_test.values"
   ]
  },
  {
   "cell_type": "code",
   "execution_count": 16,
   "id": "80a0248a-17cb-4bf0-8d70-fca19507ce10",
   "metadata": {},
   "outputs": [
    {
     "data": {
      "text/plain": [
       "0.9299"
      ]
     },
     "execution_count": 16,
     "metadata": {},
     "output_type": "execute_result"
    }
   ],
   "source": [
    "accuracy_score(y_test, preds)"
   ]
  },
  {
   "cell_type": "code",
   "execution_count": null,
   "id": "e0303dab-a2d6-48f7-b7f6-62ce847e7b2a",
   "metadata": {},
   "outputs": [],
   "source": []
  }
 ],
 "metadata": {
  "kernelspec": {
   "display_name": "Python 3 (ipykernel)",
   "language": "python",
   "name": "python3"
  },
  "language_info": {
   "codemirror_mode": {
    "name": "ipython",
    "version": 3
   },
   "file_extension": ".py",
   "mimetype": "text/x-python",
   "name": "python",
   "nbconvert_exporter": "python",
   "pygments_lexer": "ipython3",
   "version": "3.8.10"
  }
 },
 "nbformat": 4,
 "nbformat_minor": 5
}
