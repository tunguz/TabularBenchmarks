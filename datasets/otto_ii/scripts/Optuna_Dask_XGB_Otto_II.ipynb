{
 "cells": [
  {
   "cell_type": "code",
   "execution_count": 1,
   "metadata": {},
   "outputs": [],
   "source": [
    "import os\n",
    "#os.environ[\"CUDA_DEVICE_ORDER\"]=\"PCI_BUS_ID\"\n",
    "#os.environ[\"CUDA_VISIBLE_DEVICES\"]=\"0, 1, 2, 4\""
   ]
  },
  {
   "cell_type": "code",
   "execution_count": 11,
   "metadata": {},
   "outputs": [
    {
     "data": {
      "text/plain": [
       "'1.6.2'"
      ]
     },
     "execution_count": 11,
     "metadata": {},
     "output_type": "execute_result"
    }
   ],
   "source": [
    "from dask.distributed import Client\n",
    "from dask_cuda import LocalCUDACluster\n",
    "from dask import dataframe as dd\n",
    "import pandas as pd\n",
    "import xgboost as xgb\n",
    "from sklearn.model_selection import KFold, train_test_split\n",
    "from sklearn.metrics import log_loss\n",
    "import optuna\n",
    "import gc\n",
    "xgb.__version__"
   ]
  },
  {
   "cell_type": "code",
   "execution_count": 3,
   "metadata": {},
   "outputs": [
    {
     "name": "stdout",
     "output_type": "stream",
     "text": [
      "Mon Dec 12 10:08:19 2022       \n",
      "+-----------------------------------------------------------------------------+\n",
      "| NVIDIA-SMI 470.57.02    Driver Version: 470.57.02    CUDA Version: 11.4     |\n",
      "|-------------------------------+----------------------+----------------------+\n",
      "| GPU  Name        Persistence-M| Bus-Id        Disp.A | Volatile Uncorr. ECC |\n",
      "| Fan  Temp  Perf  Pwr:Usage/Cap|         Memory-Usage | GPU-Util  Compute M. |\n",
      "|                               |                      |               MIG M. |\n",
      "|===============================+======================+======================|\n",
      "|   0  NVIDIA TITAN RTX    On   | 00000000:09:00.0 Off |                  N/A |\n",
      "| 40%   38C    P8    32W / 280W |    905MiB / 24220MiB |      0%      Default |\n",
      "|                               |                      |                  N/A |\n",
      "+-------------------------------+----------------------+----------------------+\n",
      "|   1  NVIDIA TITAN RTX    On   | 00000000:41:00.0  On |                  N/A |\n",
      "| 41%   36C    P8    32W / 280W |    352MiB / 24217MiB |      3%      Default |\n",
      "|                               |                      |                  N/A |\n",
      "+-------------------------------+----------------------+----------------------+\n",
      "                                                                               \n",
      "+-----------------------------------------------------------------------------+\n",
      "| Processes:                                                                  |\n",
      "|  GPU   GI   CI        PID   Type   Process name                  GPU Memory |\n",
      "|        ID   ID                                                   Usage      |\n",
      "|=============================================================================|\n",
      "|    0   N/A  N/A      1301      G   /usr/lib/xorg/Xorg                  4MiB |\n",
      "|    0   N/A  N/A    192312      C   /usr/bin/python3                  869MiB |\n",
      "|    1   N/A  N/A      1301      G   /usr/lib/xorg/Xorg                161MiB |\n",
      "|    1   N/A  N/A      1556      G   /usr/bin/gnome-shell               29MiB |\n",
      "|    1   N/A  N/A      2380      G   ...mviewer/tv_bin/TeamViewer       19MiB |\n",
      "|    1   N/A  N/A      2707      G   /usr/lib/firefox/firefox          132MiB |\n",
      "+-----------------------------------------------------------------------------+\n"
     ]
    }
   ],
   "source": [
    "!nvidia-smi"
   ]
  },
  {
   "cell_type": "code",
   "execution_count": 4,
   "metadata": {},
   "outputs": [
    {
     "name": "stdout",
     "output_type": "stream",
     "text": [
      "GPU 0: NVIDIA TITAN RTX (UUID: GPU-0eb32f58-b8d5-17c0-e952-f4ec26a9353f)\n",
      "GPU 1: NVIDIA TITAN RTX (UUID: GPU-50aeb092-88f5-4e0b-7f73-32741666f319)\n"
     ]
    }
   ],
   "source": [
    "!nvidia-smi -L"
   ]
  },
  {
   "cell_type": "code",
   "execution_count": 5,
   "metadata": {},
   "outputs": [],
   "source": [
    "train_x = dd.read_csv('../input/otto_ii/xgtrain.csv')\n",
    "test_x = dd.read_csv('../input/otto_ii/xgval.csv')"
   ]
  },
  {
   "cell_type": "code",
   "execution_count": 6,
   "metadata": {},
   "outputs": [],
   "source": [
    "train_y = train_x['target']\n",
    "train_x = train_x[train_x.columns.difference(['target'])]\n",
    "\n",
    "test_y = test_x['target']\n",
    "test_x = test_x[test_x.columns.difference(['target'])]"
   ]
  },
  {
   "cell_type": "code",
   "execution_count": 7,
   "metadata": {},
   "outputs": [
    {
     "name": "stderr",
     "output_type": "stream",
     "text": [
      "2022-12-12 10:08:54,517 - distributed.preloading - INFO - Creating preload: dask_cuda.initialize\n",
      "2022-12-12 10:08:54,518 - distributed.preloading - INFO - Import preload module: dask_cuda.initialize\n",
      "2022-12-12 10:08:54,527 - distributed.preloading - INFO - Creating preload: dask_cuda.initialize\n",
      "2022-12-12 10:08:54,527 - distributed.preloading - INFO - Import preload module: dask_cuda.initialize\n"
     ]
    }
   ],
   "source": [
    "cluster = LocalCUDACluster(n_workers=2)\n",
    "client = Client(cluster)"
   ]
  },
  {
   "cell_type": "code",
   "execution_count": 8,
   "metadata": {},
   "outputs": [],
   "source": [
    "dtrain = xgb.dask.DaskDMatrix(client, train_x, train_y)"
   ]
  },
  {
   "cell_type": "code",
   "execution_count": 9,
   "metadata": {},
   "outputs": [],
   "source": [
    "dtest = xgb.dask.DaskDMatrix(client, test_x, test_y)\n"
   ]
  },
  {
   "cell_type": "code",
   "execution_count": 10,
   "metadata": {},
   "outputs": [],
   "source": [
    "num_round = 1000"
   ]
  },
  {
   "cell_type": "code",
   "execution_count": 12,
   "metadata": {},
   "outputs": [],
   "source": [
    "def objective(trial):\n",
    "        \n",
    "    params = {\n",
    "        'objective': trial.suggest_categorical('objective',['multi:softprob']),\n",
    "        'tree_method': trial.suggest_categorical('tree_method',['gpu_hist']),  # 'gpu_hist','hist'\n",
    "        'lambda': trial.suggest_loguniform('lambda',1e-3,10.0),\n",
    "        'alpha': trial.suggest_loguniform('alpha',1e-3,10.0),\n",
    "        'colsample_bytree': trial.suggest_uniform('colsample_bytree', 0.3,1.0),\n",
    "        'subsample': trial.suggest_uniform('subsample', 0.4, 1.0),\n",
    "        'learning_rate': trial.suggest_loguniform('learning_rate', 0.001,0.1),\n",
    "        #'n_estimators': trial.suggest_categorical('n_estimators', [1000]),\n",
    "        'max_depth': trial.suggest_int('max_depth', 2, 25),\n",
    "        #'random_state': trial.suggest_categorical('random_state', [24,48,2020]),\n",
    "        'min_child_weight': trial.suggest_int('min_child_weight', 1,300),\n",
    "        'eval_metric': trial.suggest_categorical('eval_metric',['logloss']),\n",
    "        'num_class':9,\n",
    "\n",
    "    }\n",
    "\n",
    "    output = xgb.dask.train(client, params, dtrain, num_round)\n",
    "    \n",
    "    booster = output['booster']  # booster is the trained model\n",
    "    booster.set_param({'predictor': 'gpu_predictor'})\n",
    "\n",
    "    predictions = xgb.dask.predict(client, booster, dtest)\n",
    "    \n",
    "    predictions = predictions.compute()\n",
    "\n",
    "    lloss = log_loss(test_y, predictions)\n",
    "    \n",
    "    return lloss"
   ]
  },
  {
   "cell_type": "code",
   "execution_count": 13,
   "metadata": {},
   "outputs": [
    {
     "name": "stderr",
     "output_type": "stream",
     "text": [
      "\u001b[32m[I 2022-12-12 10:13:37,696]\u001b[0m A new study created in memory with name: no-name-ffe30005-b53b-446a-b6d4-5fd62db6a3d7\u001b[0m\n"
     ]
    }
   ],
   "source": [
    "study = optuna.create_study(direction='minimize')"
   ]
  },
  {
   "cell_type": "code",
   "execution_count": 14,
   "metadata": {},
   "outputs": [
    {
     "name": "stderr",
     "output_type": "stream",
     "text": [
      "/home/tunguz/.local/lib/python3.8/site-packages/xgboost/dask.py:884: RuntimeWarning: coroutine 'Client._wait_for_workers' was never awaited\n",
      "  client.wait_for_workers(n_workers)\n",
      "[10:13:40] task [xgboost.dask-0]:tcp://127.0.0.1:40665 got new rank 0\n",
      "\u001b[32m[I 2022-12-12 10:13:51,346]\u001b[0m Trial 0 finished with value: 0.6482739944996688 and parameters: {'objective': 'multi:softprob', 'tree_method': 'gpu_hist', 'lambda': 2.4406516077861133, 'alpha': 0.007277731535529787, 'colsample_bytree': 0.7137368683143084, 'subsample': 0.6925854864563181, 'learning_rate': 0.0664515743850402, 'max_depth': 6, 'min_child_weight': 253, 'eval_metric': 'logloss'}. Best is trial 0 with value: 0.6482739944996688.\u001b[0m\n",
      "/home/tunguz/.local/lib/python3.8/site-packages/xgboost/dask.py:884: RuntimeWarning: coroutine 'Client._wait_for_workers' was never awaited\n",
      "  client.wait_for_workers(n_workers)\n",
      "[10:13:51] task [xgboost.dask-0]:tcp://127.0.0.1:40665 got new rank 0\n",
      "\u001b[32m[I 2022-12-12 10:14:10,938]\u001b[0m Trial 1 finished with value: 1.065546345090989 and parameters: {'objective': 'multi:softprob', 'tree_method': 'gpu_hist', 'lambda': 0.02428591009414304, 'alpha': 0.08560061530935748, 'colsample_bytree': 0.6143189421793815, 'subsample': 0.4638344713779877, 'learning_rate': 0.002230398019851823, 'max_depth': 14, 'min_child_weight': 162, 'eval_metric': 'logloss'}. Best is trial 0 with value: 0.6482739944996688.\u001b[0m\n"
     ]
    },
    {
     "name": "stdout",
     "output_type": "stream",
     "text": [
      "CPU times: user 1.83 s, sys: 639 ms, total: 2.47 s\n",
      "Wall time: 30.8 s\n"
     ]
    }
   ],
   "source": [
    "%%time\n",
    "study.optimize(objective, n_trials=2)"
   ]
  },
  {
   "cell_type": "code",
   "execution_count": 15,
   "metadata": {},
   "outputs": [
    {
     "name": "stderr",
     "output_type": "stream",
     "text": [
      "/home/tunguz/.local/lib/python3.8/site-packages/xgboost/dask.py:884: RuntimeWarning: coroutine 'Client._wait_for_workers' was never awaited\n",
      "  client.wait_for_workers(n_workers)\n",
      "[10:14:19] task [xgboost.dask-0]:tcp://127.0.0.1:40665 got new rank 0\n",
      "\u001b[32m[I 2022-12-12 10:18:38,868]\u001b[0m Trial 2 finished with value: 0.7598243738289363 and parameters: {'objective': 'multi:softprob', 'tree_method': 'gpu_hist', 'lambda': 1.4617428110776984, 'alpha': 0.03162167812934222, 'colsample_bytree': 0.8848191364376565, 'subsample': 0.7104683009010917, 'learning_rate': 0.006890155889075234, 'max_depth': 21, 'min_child_weight': 270, 'eval_metric': 'logloss'}. Best is trial 0 with value: 0.6482739944996688.\u001b[0m\n",
      "/home/tunguz/.local/lib/python3.8/site-packages/xgboost/dask.py:884: RuntimeWarning: coroutine 'Client._wait_for_workers' was never awaited\n",
      "  client.wait_for_workers(n_workers)\n",
      "[10:18:38] task [xgboost.dask-0]:tcp://127.0.0.1:40665 got new rank 0\n",
      "\u001b[32m[I 2022-12-12 10:19:02,811]\u001b[0m Trial 3 finished with value: 0.5810898471096998 and parameters: {'objective': 'multi:softprob', 'tree_method': 'gpu_hist', 'lambda': 4.72406339677572, 'alpha': 0.19534988862872588, 'colsample_bytree': 0.39034345091636247, 'subsample': 0.5955383680347541, 'learning_rate': 0.009733923394727761, 'max_depth': 8, 'min_child_weight': 30, 'eval_metric': 'logloss'}. Best is trial 3 with value: 0.5810898471096998.\u001b[0m\n",
      "/home/tunguz/.local/lib/python3.8/site-packages/xgboost/dask.py:884: RuntimeWarning: coroutine 'Client._wait_for_workers' was never awaited\n",
      "  client.wait_for_workers(n_workers)\n",
      "[10:19:02] task [xgboost.dask-0]:tcp://127.0.0.1:40665 got new rank 0\n",
      "\u001b[32m[I 2022-12-12 10:19:15,949]\u001b[0m Trial 4 finished with value: 0.554946547464392 and parameters: {'objective': 'multi:softprob', 'tree_method': 'gpu_hist', 'lambda': 0.002057352427361118, 'alpha': 1.1385870760238652, 'colsample_bytree': 0.8031988323465087, 'subsample': 0.6705645091757908, 'learning_rate': 0.08360885616294461, 'max_depth': 6, 'min_child_weight': 129, 'eval_metric': 'logloss'}. Best is trial 4 with value: 0.554946547464392.\u001b[0m\n",
      "/home/tunguz/.local/lib/python3.8/site-packages/xgboost/dask.py:884: RuntimeWarning: coroutine 'Client._wait_for_workers' was never awaited\n",
      "  client.wait_for_workers(n_workers)\n",
      "[10:19:15] task [xgboost.dask-0]:tcp://127.0.0.1:40665 got new rank 0\n",
      "\u001b[32m[I 2022-12-12 10:27:31,518]\u001b[0m Trial 5 finished with value: 0.6105388369487516 and parameters: {'objective': 'multi:softprob', 'tree_method': 'gpu_hist', 'lambda': 0.018574514977452224, 'alpha': 8.398763102977163, 'colsample_bytree': 0.9911293889411577, 'subsample': 0.8914703373621125, 'learning_rate': 0.0579699116265947, 'max_depth': 22, 'min_child_weight': 290, 'eval_metric': 'logloss'}. Best is trial 4 with value: 0.554946547464392.\u001b[0m\n",
      "/home/tunguz/.local/lib/python3.8/site-packages/xgboost/dask.py:884: RuntimeWarning: coroutine 'Client._wait_for_workers' was never awaited\n",
      "  client.wait_for_workers(n_workers)\n",
      "[10:27:31] task [xgboost.dask-0]:tcp://127.0.0.1:40665 got new rank 0\n",
      "\u001b[32m[I 2022-12-12 10:27:52,768]\u001b[0m Trial 6 finished with value: 1.1919175560228055 and parameters: {'objective': 'multi:softprob', 'tree_method': 'gpu_hist', 'lambda': 0.6824704311467302, 'alpha': 4.603632465215852, 'colsample_bytree': 0.39765514091822407, 'subsample': 0.4511931597204438, 'learning_rate': 0.0014610033578731458, 'max_depth': 10, 'min_child_weight': 44, 'eval_metric': 'logloss'}. Best is trial 4 with value: 0.554946547464392.\u001b[0m\n",
      "/home/tunguz/.local/lib/python3.8/site-packages/xgboost/dask.py:884: RuntimeWarning: coroutine 'Client._wait_for_workers' was never awaited\n",
      "  client.wait_for_workers(n_workers)\n",
      "[10:27:52] task [xgboost.dask-0]:tcp://127.0.0.1:40665 got new rank 0\n",
      "\u001b[32m[I 2022-12-12 10:28:03,166]\u001b[0m Trial 7 finished with value: 0.5986996479497116 and parameters: {'objective': 'multi:softprob', 'tree_method': 'gpu_hist', 'lambda': 0.037094921425418544, 'alpha': 0.006219456255577727, 'colsample_bytree': 0.30639560013815187, 'subsample': 0.8036099793629595, 'learning_rate': 0.028118866239433844, 'max_depth': 5, 'min_child_weight': 125, 'eval_metric': 'logloss'}. Best is trial 4 with value: 0.554946547464392.\u001b[0m\n",
      "/home/tunguz/.local/lib/python3.8/site-packages/xgboost/dask.py:884: RuntimeWarning: coroutine 'Client._wait_for_workers' was never awaited\n",
      "  client.wait_for_workers(n_workers)\n",
      "[10:28:03] task [xgboost.dask-0]:tcp://127.0.0.1:40665 got new rank 0\n",
      "\u001b[32m[I 2022-12-12 10:28:22,981]\u001b[0m Trial 8 finished with value: 0.8840283458574036 and parameters: {'objective': 'multi:softprob', 'tree_method': 'gpu_hist', 'lambda': 2.396952765239049, 'alpha': 0.00262123410836472, 'colsample_bytree': 0.3803978712745147, 'subsample': 0.7618766299953426, 'learning_rate': 0.003565943018253009, 'max_depth': 12, 'min_child_weight': 163, 'eval_metric': 'logloss'}. Best is trial 4 with value: 0.554946547464392.\u001b[0m\n",
      "/home/tunguz/.local/lib/python3.8/site-packages/xgboost/dask.py:884: RuntimeWarning: coroutine 'Client._wait_for_workers' was never awaited\n",
      "  client.wait_for_workers(n_workers)\n",
      "[10:28:22] task [xgboost.dask-0]:tcp://127.0.0.1:40665 got new rank 0\n",
      "\u001b[32m[I 2022-12-12 10:28:30,178]\u001b[0m Trial 9 finished with value: 0.6016732380473289 and parameters: {'objective': 'multi:softprob', 'tree_method': 'gpu_hist', 'lambda': 0.013787634832342643, 'alpha': 0.8412811645387066, 'colsample_bytree': 0.7745869947258676, 'subsample': 0.992539857607022, 'learning_rate': 0.07847735299048149, 'max_depth': 3, 'min_child_weight': 178, 'eval_metric': 'logloss'}. Best is trial 4 with value: 0.554946547464392.\u001b[0m\n",
      "/home/tunguz/.local/lib/python3.8/site-packages/xgboost/dask.py:884: RuntimeWarning: coroutine 'Client._wait_for_workers' was never awaited\n",
      "  client.wait_for_workers(n_workers)\n",
      "[10:28:30] task [xgboost.dask-0]:tcp://127.0.0.1:40665 got new rank 0\n",
      "\u001b[32m[I 2022-12-12 10:28:54,460]\u001b[0m Trial 10 finished with value: 0.5896731227766239 and parameters: {'objective': 'multi:softprob', 'tree_method': 'gpu_hist', 'lambda': 0.0014400396564314111, 'alpha': 0.9608496199288888, 'colsample_bytree': 0.5881575566831293, 'subsample': 0.5787532481033066, 'learning_rate': 0.02043457798626869, 'max_depth': 16, 'min_child_weight': 107, 'eval_metric': 'logloss'}. Best is trial 4 with value: 0.554946547464392.\u001b[0m\n",
      "/home/tunguz/.local/lib/python3.8/site-packages/xgboost/dask.py:884: RuntimeWarning: coroutine 'Client._wait_for_workers' was never awaited\n",
      "  client.wait_for_workers(n_workers)\n",
      "[10:28:54] task [xgboost.dask-0]:tcp://127.0.0.1:40665 got new rank 0\n",
      "\u001b[32m[I 2022-12-12 10:29:48,436]\u001b[0m Trial 11 finished with value: 0.500192377001244 and parameters: {'objective': 'multi:softprob', 'tree_method': 'gpu_hist', 'lambda': 0.23368395001401737, 'alpha': 0.38700948420968645, 'colsample_bytree': 0.5231073981129553, 'subsample': 0.5908566122560301, 'learning_rate': 0.01152575775510391, 'max_depth': 8, 'min_child_weight': 2, 'eval_metric': 'logloss'}. Best is trial 11 with value: 0.500192377001244.\u001b[0m\n",
      "/home/tunguz/.local/lib/python3.8/site-packages/xgboost/dask.py:884: RuntimeWarning: coroutine 'Client._wait_for_workers' was never awaited\n",
      "  client.wait_for_workers(n_workers)\n",
      "[10:29:48] task [xgboost.dask-0]:tcp://127.0.0.1:40665 got new rank 0\n",
      "\u001b[32m[I 2022-12-12 10:29:55,114]\u001b[0m Trial 12 finished with value: 0.6188940635838626 and parameters: {'objective': 'multi:softprob', 'tree_method': 'gpu_hist', 'lambda': 0.1793789633422174, 'alpha': 0.61200287422367, 'colsample_bytree': 0.48894013982842527, 'subsample': 0.587623045052295, 'learning_rate': 0.025779095806421185, 'max_depth': 2, 'min_child_weight': 5, 'eval_metric': 'logloss'}. Best is trial 11 with value: 0.500192377001244.\u001b[0m\n",
      "/home/tunguz/.local/lib/python3.8/site-packages/xgboost/dask.py:884: RuntimeWarning: coroutine 'Client._wait_for_workers' was never awaited\n",
      "  client.wait_for_workers(n_workers)\n",
      "[10:29:55] task [xgboost.dask-0]:tcp://127.0.0.1:40665 got new rank 0\n",
      "\u001b[32m[I 2022-12-12 10:30:21,878]\u001b[0m Trial 13 finished with value: 0.707726823216807 and parameters: {'objective': 'multi:softprob', 'tree_method': 'gpu_hist', 'lambda': 0.0010442628302222358, 'alpha': 2.5344852672754117, 'colsample_bytree': 0.8022120097563591, 'subsample': 0.6425138070487818, 'learning_rate': 0.004752559401629902, 'max_depth': 9, 'min_child_weight': 77, 'eval_metric': 'logloss'}. Best is trial 11 with value: 0.500192377001244.\u001b[0m\n",
      "/home/tunguz/.local/lib/python3.8/site-packages/xgboost/dask.py:884: RuntimeWarning: coroutine 'Client._wait_for_workers' was never awaited\n",
      "  client.wait_for_workers(n_workers)\n",
      "[10:30:21] task [xgboost.dask-0]:tcp://127.0.0.1:40665 got new rank 0\n",
      "\u001b[32m[I 2022-12-12 10:30:40,248]\u001b[0m Trial 14 finished with value: 0.7210934776323662 and parameters: {'objective': 'multi:softprob', 'tree_method': 'gpu_hist', 'lambda': 0.2783824778142989, 'alpha': 0.20017899263763006, 'colsample_bytree': 0.526088435955203, 'subsample': 0.5005625912596208, 'learning_rate': 0.014206750761299309, 'max_depth': 16, 'min_child_weight': 215, 'eval_metric': 'logloss'}. Best is trial 11 with value: 0.500192377001244.\u001b[0m\n",
      "/home/tunguz/.local/lib/python3.8/site-packages/xgboost/dask.py:884: RuntimeWarning: coroutine 'Client._wait_for_workers' was never awaited\n",
      "  client.wait_for_workers(n_workers)\n",
      "[10:30:40] task [xgboost.dask-0]:tcp://127.0.0.1:40665 got new rank 0\n",
      "\u001b[32m[I 2022-12-12 10:30:55,084]\u001b[0m Trial 15 finished with value: 0.5379956748751789 and parameters: {'objective': 'multi:softprob', 'tree_method': 'gpu_hist', 'lambda': 0.005200433076226099, 'alpha': 0.0412559254314816, 'colsample_bytree': 0.8886748288530704, 'subsample': 0.8398080711885137, 'learning_rate': 0.04088500836798768, 'max_depth': 6, 'min_child_weight': 88, 'eval_metric': 'logloss'}. Best is trial 11 with value: 0.500192377001244.\u001b[0m\n",
      "/home/tunguz/.local/lib/python3.8/site-packages/xgboost/dask.py:884: RuntimeWarning: coroutine 'Client._wait_for_workers' was never awaited\n",
      "  client.wait_for_workers(n_workers)\n",
      "[10:30:55] task [xgboost.dask-0]:tcp://127.0.0.1:40665 got new rank 0\n",
      "\u001b[32m[I 2022-12-12 11:34:18,634]\u001b[0m Trial 16 finished with value: 0.515392327413923 and parameters: {'objective': 'multi:softprob', 'tree_method': 'gpu_hist', 'lambda': 0.0039005464069849206, 'alpha': 0.032215163151303884, 'colsample_bytree': 0.9730431044671859, 'subsample': 0.8870172388225506, 'learning_rate': 0.038415620790012935, 'max_depth': 25, 'min_child_weight': 76, 'eval_metric': 'logloss'}. Best is trial 11 with value: 0.500192377001244.\u001b[0m\n",
      "/home/tunguz/.local/lib/python3.8/site-packages/xgboost/dask.py:884: RuntimeWarning: coroutine 'Client._wait_for_workers' was never awaited\n",
      "  client.wait_for_workers(n_workers)\n",
      "[11:34:18] task [xgboost.dask-0]:tcp://127.0.0.1:40665 got new rank 0\n",
      "\u001b[32m[I 2022-12-12 11:36:00,927]\u001b[0m Trial 17 finished with value: 0.5263921635931962 and parameters: {'objective': 'multi:softprob', 'tree_method': 'gpu_hist', 'lambda': 0.07428480499963276, 'alpha': 0.026683335786455063, 'colsample_bytree': 0.6959121315991565, 'subsample': 0.8832657060120932, 'learning_rate': 0.013747320122568773, 'max_depth': 19, 'min_child_weight': 55, 'eval_metric': 'logloss'}. Best is trial 11 with value: 0.500192377001244.\u001b[0m\n",
      "/home/tunguz/.local/lib/python3.8/site-packages/xgboost/dask.py:884: RuntimeWarning: coroutine 'Client._wait_for_workers' was never awaited\n",
      "  client.wait_for_workers(n_workers)\n",
      "[11:36:00] task [xgboost.dask-0]:tcp://127.0.0.1:40665 got new rank 0\n",
      "\u001b[32m[I 2022-12-12 12:13:17,061]\u001b[0m Trial 18 finished with value: 0.4830683291681941 and parameters: {'objective': 'multi:softprob', 'tree_method': 'gpu_hist', 'lambda': 0.006035491408945746, 'alpha': 0.29610807669283357, 'colsample_bytree': 0.5158005636330044, 'subsample': 0.9878199315569889, 'learning_rate': 0.007742810188693721, 'max_depth': 24, 'min_child_weight': 3, 'eval_metric': 'logloss'}. Best is trial 18 with value: 0.4830683291681941.\u001b[0m\n",
      "/home/tunguz/.local/lib/python3.8/site-packages/xgboost/dask.py:884: RuntimeWarning: coroutine 'Client._wait_for_workers' was never awaited\n",
      "  client.wait_for_workers(n_workers)\n",
      "[12:13:17] task [xgboost.dask-0]:tcp://127.0.0.1:40665 got new rank 0\n",
      "\u001b[32m[I 2022-12-12 12:15:44,266]\u001b[0m Trial 19 finished with value: 0.515189559329335 and parameters: {'objective': 'multi:softprob', 'tree_method': 'gpu_hist', 'lambda': 0.4190325463554099, 'alpha': 0.31094312747302266, 'colsample_bytree': 0.5208849054064723, 'subsample': 0.9937829898656402, 'learning_rate': 0.006789424169189351, 'max_depth': 12, 'min_child_weight': 3, 'eval_metric': 'logloss'}. Best is trial 18 with value: 0.4830683291681941.\u001b[0m\n",
      "/home/tunguz/.local/lib/python3.8/site-packages/xgboost/dask.py:884: RuntimeWarning: coroutine 'Client._wait_for_workers' was never awaited\n",
      "  client.wait_for_workers(n_workers)\n",
      "[12:15:44] task [xgboost.dask-0]:tcp://127.0.0.1:40665 got new rank 0\n",
      "\u001b[32m[I 2022-12-12 13:20:11,089]\u001b[0m Trial 20 finished with value: 0.7584310670673649 and parameters: {'objective': 'multi:softprob', 'tree_method': 'gpu_hist', 'lambda': 0.11062756657981368, 'alpha': 0.41553258220744116, 'colsample_bytree': 0.46441922840118477, 'subsample': 0.5133278972088087, 'learning_rate': 0.0031527472735113676, 'max_depth': 25, 'min_child_weight': 23, 'eval_metric': 'logloss'}. Best is trial 18 with value: 0.4830683291681941.\u001b[0m\n",
      "/home/tunguz/.local/lib/python3.8/site-packages/xgboost/dask.py:884: RuntimeWarning: coroutine 'Client._wait_for_workers' was never awaited\n",
      "  client.wait_for_workers(n_workers)\n",
      "[13:20:11] task [xgboost.dask-0]:tcp://127.0.0.1:40665 got new rank 0\n",
      "\u001b[32m[I 2022-12-12 13:23:32,107]\u001b[0m Trial 21 finished with value: 0.49906298201467914 and parameters: {'objective': 'multi:softprob', 'tree_method': 'gpu_hist', 'lambda': 0.49563121232050233, 'alpha': 0.21017487514735106, 'colsample_bytree': 0.5428338766422003, 'subsample': 0.9936165394652031, 'learning_rate': 0.0075573612722822335, 'max_depth': 12, 'min_child_weight': 1, 'eval_metric': 'logloss'}. Best is trial 18 with value: 0.4830683291681941.\u001b[0m\n",
      "/home/tunguz/.local/lib/python3.8/site-packages/xgboost/dask.py:884: RuntimeWarning: coroutine 'Client._wait_for_workers' was never awaited\n",
      "  client.wait_for_workers(n_workers)\n",
      "[13:23:32] task [xgboost.dask-0]:tcp://127.0.0.1:40665 got new rank 0\n",
      "\u001b[32m[I 2022-12-12 13:24:15,418]\u001b[0m Trial 22 finished with value: 0.5628646684948275 and parameters: {'objective': 'multi:softprob', 'tree_method': 'gpu_hist', 'lambda': 8.843919978226394, 'alpha': 0.13121153780352365, 'colsample_bytree': 0.5651064322205757, 'subsample': 0.9617396356703435, 'learning_rate': 0.008877482477490341, 'max_depth': 15, 'min_child_weight': 52, 'eval_metric': 'logloss'}. Best is trial 18 with value: 0.4830683291681941.\u001b[0m\n",
      "/home/tunguz/.local/lib/python3.8/site-packages/xgboost/dask.py:884: RuntimeWarning: coroutine 'Client._wait_for_workers' was never awaited\n",
      "  client.wait_for_workers(n_workers)\n",
      "[13:24:15] task [xgboost.dask-0]:tcp://127.0.0.1:40665 got new rank 0\n",
      "\u001b[32m[I 2022-12-12 13:32:03,242]\u001b[0m Trial 23 finished with value: 0.5160404400141478 and parameters: {'objective': 'multi:softprob', 'tree_method': 'gpu_hist', 'lambda': 0.8150112299257153, 'alpha': 0.07663186145040589, 'colsample_bytree': 0.6646856507297436, 'subsample': 0.930651011822471, 'learning_rate': 0.005250801997104222, 'max_depth': 18, 'min_child_weight': 1, 'eval_metric': 'logloss'}. Best is trial 18 with value: 0.4830683291681941.\u001b[0m\n",
      "/home/tunguz/.local/lib/python3.8/site-packages/xgboost/dask.py:884: RuntimeWarning: coroutine 'Client._wait_for_workers' was never awaited\n",
      "  client.wait_for_workers(n_workers)\n",
      "[13:32:03] task [xgboost.dask-0]:tcp://127.0.0.1:40665 got new rank 0\n",
      "\u001b[32m[I 2022-12-12 13:32:29,815]\u001b[0m Trial 24 finished with value: 0.5579661014082417 and parameters: {'objective': 'multi:softprob', 'tree_method': 'gpu_hist', 'lambda': 0.06422708093567132, 'alpha': 2.3171007453684216, 'colsample_bytree': 0.4385875643988696, 'subsample': 0.40767401163398886, 'learning_rate': 0.013634643124596288, 'max_depth': 11, 'min_child_weight': 30, 'eval_metric': 'logloss'}. Best is trial 18 with value: 0.4830683291681941.\u001b[0m\n",
      "/home/tunguz/.local/lib/python3.8/site-packages/xgboost/dask.py:884: RuntimeWarning: coroutine 'Client._wait_for_workers' was never awaited\n",
      "  client.wait_for_workers(n_workers)\n",
      "[13:32:29] task [xgboost.dask-0]:tcp://127.0.0.1:40665 got new rank 0\n",
      "\u001b[32m[I 2022-12-12 13:33:11,800]\u001b[0m Trial 25 finished with value: 1.260354965777725 and parameters: {'objective': 'multi:softprob', 'tree_method': 'gpu_hist', 'lambda': 0.1702091316607642, 'alpha': 0.3898409829335965, 'colsample_bytree': 0.6213531888099608, 'subsample': 0.7532375767713002, 'learning_rate': 0.001018675368423583, 'max_depth': 13, 'min_child_weight': 62, 'eval_metric': 'logloss'}. Best is trial 18 with value: 0.4830683291681941.\u001b[0m\n",
      "/home/tunguz/.local/lib/python3.8/site-packages/xgboost/dask.py:884: RuntimeWarning: coroutine 'Client._wait_for_workers' was never awaited\n",
      "  client.wait_for_workers(n_workers)\n",
      "[13:33:11] task [xgboost.dask-0]:tcp://127.0.0.1:40665 got new rank 0\n",
      "\u001b[32m[I 2022-12-12 13:33:40,081]\u001b[0m Trial 26 finished with value: 0.5083757976004719 and parameters: {'objective': 'multi:softprob', 'tree_method': 'gpu_hist', 'lambda': 0.48059458480578443, 'alpha': 0.07014329049886946, 'colsample_bytree': 0.5420837042365104, 'subsample': 0.9327113163175107, 'learning_rate': 0.017473912219099816, 'max_depth': 8, 'min_child_weight': 25, 'eval_metric': 'logloss'}. Best is trial 18 with value: 0.4830683291681941.\u001b[0m\n",
      "/home/tunguz/.local/lib/python3.8/site-packages/xgboost/dask.py:884: RuntimeWarning: coroutine 'Client._wait_for_workers' was never awaited\n",
      "  client.wait_for_workers(n_workers)\n",
      "[13:33:40] task [xgboost.dask-0]:tcp://127.0.0.1:40665 got new rank 0\n",
      "\u001b[32m[I 2022-12-12 13:34:40,802]\u001b[0m Trial 27 finished with value: 0.6441425691040246 and parameters: {'objective': 'multi:softprob', 'tree_method': 'gpu_hist', 'lambda': 0.23434388398247136, 'alpha': 0.22159463315190048, 'colsample_bytree': 0.45840347828653594, 'subsample': 0.8267685441894946, 'learning_rate': 0.007272902926080197, 'max_depth': 18, 'min_child_weight': 97, 'eval_metric': 'logloss'}. Best is trial 18 with value: 0.4830683291681941.\u001b[0m\n",
      "/home/tunguz/.local/lib/python3.8/site-packages/xgboost/dask.py:884: RuntimeWarning: coroutine 'Client._wait_for_workers' was never awaited\n",
      "  client.wait_for_workers(n_workers)\n",
      "[13:34:40] task [xgboost.dask-0]:tcp://127.0.0.1:40665 got new rank 0\n",
      "\u001b[32m[I 2022-12-12 13:35:08,900]\u001b[0m Trial 28 finished with value: 0.8069221284539606 and parameters: {'objective': 'multi:softprob', 'tree_method': 'gpu_hist', 'lambda': 0.010350872109189866, 'alpha': 1.8397708429892834, 'colsample_bytree': 0.3129479844313662, 'subsample': 0.5509526365137847, 'learning_rate': 0.0037031761733474474, 'max_depth': 10, 'min_child_weight': 35, 'eval_metric': 'logloss'}. Best is trial 18 with value: 0.4830683291681941.\u001b[0m\n",
      "/home/tunguz/.local/lib/python3.8/site-packages/xgboost/dask.py:884: RuntimeWarning: coroutine 'Client._wait_for_workers' was never awaited\n",
      "  client.wait_for_workers(n_workers)\n",
      "[13:35:08] task [xgboost.dask-0]:tcp://127.0.0.1:40665 got new rank 0\n",
      "\u001b[32m[I 2022-12-12 13:43:30,937]\u001b[0m Trial 29 finished with value: 1.0053035767060219 and parameters: {'objective': 'multi:softprob', 'tree_method': 'gpu_hist', 'lambda': 1.2639249034471771, 'alpha': 0.01368135070351168, 'colsample_bytree': 0.6537451773967475, 'subsample': 0.6496798098620502, 'learning_rate': 0.002445016456013995, 'max_depth': 22, 'min_child_weight': 195, 'eval_metric': 'logloss'}. Best is trial 18 with value: 0.4830683291681941.\u001b[0m\n",
      "/home/tunguz/.local/lib/python3.8/site-packages/xgboost/dask.py:884: RuntimeWarning: coroutine 'Client._wait_for_workers' was never awaited\n",
      "  client.wait_for_workers(n_workers)\n",
      "[13:43:30] task [xgboost.dask-0]:tcp://127.0.0.1:40665 got new rank 0\n",
      "\u001b[32m[I 2022-12-12 13:43:41,338]\u001b[0m Trial 30 finished with value: 0.6790772370912302 and parameters: {'objective': 'multi:softprob', 'tree_method': 'gpu_hist', 'lambda': 0.10015698232265817, 'alpha': 0.12987890301036645, 'colsample_bytree': 0.7332798254618735, 'subsample': 0.9283663395051404, 'learning_rate': 0.01150335789305341, 'max_depth': 4, 'min_child_weight': 229, 'eval_metric': 'logloss'}. Best is trial 18 with value: 0.4830683291681941.\u001b[0m\n",
      "/home/tunguz/.local/lib/python3.8/site-packages/xgboost/dask.py:884: RuntimeWarning: coroutine 'Client._wait_for_workers' was never awaited\n",
      "  client.wait_for_workers(n_workers)\n",
      "[13:43:41] task [xgboost.dask-0]:tcp://127.0.0.1:40665 got new rank 0\n",
      "\u001b[32m[I 2022-12-12 13:44:10,922]\u001b[0m Trial 31 finished with value: 0.4977977711100803 and parameters: {'objective': 'multi:softprob', 'tree_method': 'gpu_hist', 'lambda': 0.47364935812825404, 'alpha': 0.0761120516410803, 'colsample_bytree': 0.5489872525394612, 'subsample': 0.948138621788003, 'learning_rate': 0.019297242227817625, 'max_depth': 8, 'min_child_weight': 19, 'eval_metric': 'logloss'}. Best is trial 18 with value: 0.4830683291681941.\u001b[0m\n",
      "/home/tunguz/.local/lib/python3.8/site-packages/xgboost/dask.py:884: RuntimeWarning: coroutine 'Client._wait_for_workers' was never awaited\n",
      "  client.wait_for_workers(n_workers)\n",
      "[13:44:10] task [xgboost.dask-0]:tcp://127.0.0.1:40665 got new rank 0\n",
      "\u001b[32m[I 2022-12-12 13:44:42,762]\u001b[0m Trial 32 finished with value: 0.49655586342006214 and parameters: {'objective': 'multi:softprob', 'tree_method': 'gpu_hist', 'lambda': 0.04517255195095327, 'alpha': 0.404140395557884, 'colsample_bytree': 0.6068275101593459, 'subsample': 0.9684809536396253, 'learning_rate': 0.017943468936080807, 'max_depth': 8, 'min_child_weight': 15, 'eval_metric': 'logloss'}. Best is trial 18 with value: 0.4830683291681941.\u001b[0m\n",
      "/home/tunguz/.local/lib/python3.8/site-packages/xgboost/dask.py:884: RuntimeWarning: coroutine 'Client._wait_for_workers' was never awaited\n",
      "  client.wait_for_workers(n_workers)\n",
      "[13:44:42] task [xgboost.dask-0]:tcp://127.0.0.1:40665 got new rank 0\n",
      "\u001b[32m[I 2022-12-12 13:45:37,609]\u001b[0m Trial 33 finished with value: 0.4786790872091756 and parameters: {'objective': 'multi:softprob', 'tree_method': 'gpu_hist', 'lambda': 0.007910208207269145, 'alpha': 0.05546070173182642, 'colsample_bytree': 0.6029672148557913, 'subsample': 0.9631627010571989, 'learning_rate': 0.019787145887548898, 'max_depth': 14, 'min_child_weight': 20, 'eval_metric': 'logloss'}. Best is trial 33 with value: 0.4786790872091756.\u001b[0m\n",
      "/home/tunguz/.local/lib/python3.8/site-packages/xgboost/dask.py:884: RuntimeWarning: coroutine 'Client._wait_for_workers' was never awaited\n",
      "  client.wait_for_workers(n_workers)\n",
      "[13:45:37] task [xgboost.dask-0]:tcp://127.0.0.1:40665 got new rank 0\n",
      "\u001b[32m[I 2022-12-12 13:46:01,810]\u001b[0m Trial 34 finished with value: 0.49837761283549364 and parameters: {'objective': 'multi:softprob', 'tree_method': 'gpu_hist', 'lambda': 0.007706270170221913, 'alpha': 0.013924036565625407, 'colsample_bytree': 0.6098344255403638, 'subsample': 0.9514612313454491, 'learning_rate': 0.022780232521847, 'max_depth': 7, 'min_child_weight': 19, 'eval_metric': 'logloss'}. Best is trial 33 with value: 0.4786790872091756.\u001b[0m\n",
      "/home/tunguz/.local/lib/python3.8/site-packages/xgboost/dask.py:884: RuntimeWarning: coroutine 'Client._wait_for_workers' was never awaited\n",
      "  client.wait_for_workers(n_workers)\n",
      "[13:46:01] task [xgboost.dask-0]:tcp://127.0.0.1:40665 got new rank 0\n",
      "\u001b[32m[I 2022-12-12 13:50:33,311]\u001b[0m Trial 35 finished with value: 0.5110252652265234 and parameters: {'objective': 'multi:softprob', 'tree_method': 'gpu_hist', 'lambda': 0.002895835551446324, 'alpha': 0.052968978694615074, 'colsample_bytree': 0.5838503120350377, 'subsample': 0.8996295747680799, 'learning_rate': 0.035189950126721284, 'max_depth': 21, 'min_child_weight': 63, 'eval_metric': 'logloss'}. Best is trial 33 with value: 0.4786790872091756.\u001b[0m\n",
      "/home/tunguz/.local/lib/python3.8/site-packages/xgboost/dask.py:884: RuntimeWarning: coroutine 'Client._wait_for_workers' was never awaited\n",
      "  client.wait_for_workers(n_workers)\n",
      "[13:50:33] task [xgboost.dask-0]:tcp://127.0.0.1:40665 got new rank 0\n",
      "\u001b[32m[I 2022-12-12 13:51:12,761]\u001b[0m Trial 36 finished with value: 0.5087167424962878 and parameters: {'objective': 'multi:softprob', 'tree_method': 'gpu_hist', 'lambda': 0.03326522255377836, 'alpha': 0.01768359013798793, 'colsample_bytree': 0.6991465126306808, 'subsample': 0.8489451247537543, 'learning_rate': 0.01710245362487913, 'max_depth': 14, 'min_child_weight': 43, 'eval_metric': 'logloss'}. Best is trial 33 with value: 0.4786790872091756.\u001b[0m\n",
      "/home/tunguz/.local/lib/python3.8/site-packages/xgboost/dask.py:884: RuntimeWarning: coroutine 'Client._wait_for_workers' was never awaited\n",
      "  client.wait_for_workers(n_workers)\n",
      "[13:51:12] task [xgboost.dask-0]:tcp://127.0.0.1:40665 got new rank 0\n",
      "\u001b[32m[I 2022-12-12 14:07:45,546]\u001b[0m Trial 37 finished with value: 0.47695371073009174 and parameters: {'objective': 'multi:softprob', 'tree_method': 'gpu_hist', 'lambda': 0.006319562188941318, 'alpha': 0.11067934103214926, 'colsample_bytree': 0.633645959277512, 'subsample': 0.9759564865584712, 'learning_rate': 0.05174800571512274, 'max_depth': 23, 'min_child_weight': 18, 'eval_metric': 'logloss'}. Best is trial 37 with value: 0.47695371073009174.\u001b[0m\n",
      "/home/tunguz/.local/lib/python3.8/site-packages/xgboost/dask.py:884: RuntimeWarning: coroutine 'Client._wait_for_workers' was never awaited\n",
      "  client.wait_for_workers(n_workers)\n",
      "[14:07:45] task [xgboost.dask-0]:tcp://127.0.0.1:40665 got new rank 0\n",
      "\u001b[32m[I 2022-12-12 14:23:52,356]\u001b[0m Trial 38 finished with value: 0.517036205643546 and parameters: {'objective': 'multi:softprob', 'tree_method': 'gpu_hist', 'lambda': 0.0069401199427036485, 'alpha': 0.10979336072716726, 'colsample_bytree': 0.6345398556662577, 'subsample': 0.9723913225854864, 'learning_rate': 0.04528477145119863, 'max_depth': 23, 'min_child_weight': 73, 'eval_metric': 'logloss'}. Best is trial 37 with value: 0.47695371073009174.\u001b[0m\n",
      "/home/tunguz/.local/lib/python3.8/site-packages/xgboost/dask.py:884: RuntimeWarning: coroutine 'Client._wait_for_workers' was never awaited\n",
      "  client.wait_for_workers(n_workers)\n",
      "[14:23:52] task [xgboost.dask-0]:tcp://127.0.0.1:40665 got new rank 0\n",
      "\u001b[32m[I 2022-12-12 14:39:50,654]\u001b[0m Trial 39 finished with value: 0.5501925943942078 and parameters: {'objective': 'multi:softprob', 'tree_method': 'gpu_hist', 'lambda': 0.02314565271277151, 'alpha': 0.005761487067640182, 'colsample_bytree': 0.7379456761747376, 'subsample': 0.9027997665326801, 'learning_rate': 0.06232882565114274, 'max_depth': 23, 'min_child_weight': 124, 'eval_metric': 'logloss'}. Best is trial 37 with value: 0.47695371073009174.\u001b[0m\n",
      "/home/tunguz/.local/lib/python3.8/site-packages/xgboost/dask.py:884: RuntimeWarning: coroutine 'Client._wait_for_workers' was never awaited\n",
      "  client.wait_for_workers(n_workers)\n",
      "[14:39:50] task [xgboost.dask-0]:tcp://127.0.0.1:40665 got new rank 0\n",
      "\u001b[32m[I 2022-12-12 14:56:19,601]\u001b[0m Trial 40 finished with value: 0.49727536603636613 and parameters: {'objective': 'multi:softprob', 'tree_method': 'gpu_hist', 'lambda': 0.002764156903721647, 'alpha': 0.6542846799029738, 'colsample_bytree': 0.6761249047237046, 'subsample': 0.8021272334248268, 'learning_rate': 0.02757337490086729, 'max_depth': 23, 'min_child_weight': 44, 'eval_metric': 'logloss'}. Best is trial 37 with value: 0.47695371073009174.\u001b[0m\n",
      "/home/tunguz/.local/lib/python3.8/site-packages/xgboost/dask.py:884: RuntimeWarning: coroutine 'Client._wait_for_workers' was never awaited\n",
      "  client.wait_for_workers(n_workers)\n",
      "/home/tunguz/.local/lib/python3.8/site-packages/distributed/worker_state_machine.py:3649: FutureWarning: The `Worker.nthreads` attribute has been moved to `Worker.state.nthreads`\n",
      "  warnings.warn(\n",
      "/home/tunguz/.local/lib/python3.8/site-packages/distributed/worker_state_machine.py:3649: FutureWarning: The `Worker.nthreads` attribute has been moved to `Worker.state.nthreads`\n",
      "  warnings.warn(\n",
      "/home/tunguz/.local/lib/python3.8/site-packages/distributed/worker_state_machine.py:3649: FutureWarning: The `Worker.nthreads` attribute has been moved to `Worker.state.nthreads`\n",
      "  warnings.warn(\n",
      "/home/tunguz/.local/lib/python3.8/site-packages/distributed/worker_state_machine.py:3649: FutureWarning: The `Worker.nthreads` attribute has been moved to `Worker.state.nthreads`\n",
      "  warnings.warn(\n",
      "/home/tunguz/.local/lib/python3.8/site-packages/distributed/worker_state_machine.py:3649: FutureWarning: The `Worker.nthreads` attribute has been moved to `Worker.state.nthreads`\n",
      "  warnings.warn(\n",
      "/home/tunguz/.local/lib/python3.8/site-packages/distributed/worker_state_machine.py:3649: FutureWarning: The `Worker.nthreads` attribute has been moved to `Worker.state.nthreads`\n",
      "  warnings.warn(\n",
      "/home/tunguz/.local/lib/python3.8/site-packages/distributed/worker_state_machine.py:3649: FutureWarning: The `Worker.nthreads` attribute has been moved to `Worker.state.nthreads`\n",
      "  warnings.warn(\n",
      "/home/tunguz/.local/lib/python3.8/site-packages/distributed/worker_state_machine.py:3649: FutureWarning: The `Worker.nthreads` attribute has been moved to `Worker.state.nthreads`\n",
      "  warnings.warn(\n",
      "/home/tunguz/.local/lib/python3.8/site-packages/distributed/worker_state_machine.py:3649: FutureWarning: The `Worker.nthreads` attribute has been moved to `Worker.state.nthreads`\n",
      "  warnings.warn(\n",
      "/home/tunguz/.local/lib/python3.8/site-packages/distributed/worker_state_machine.py:3649: FutureWarning: The `Worker.nthreads` attribute has been moved to `Worker.state.nthreads`\n",
      "  warnings.warn(\n",
      "/home/tunguz/.local/lib/python3.8/site-packages/distributed/worker_state_machine.py:3649: FutureWarning: The `Worker.nthreads` attribute has been moved to `Worker.state.nthreads`\n",
      "  warnings.warn(\n",
      "/home/tunguz/.local/lib/python3.8/site-packages/distributed/worker_state_machine.py:3649: FutureWarning: The `Worker.nthreads` attribute has been moved to `Worker.state.nthreads`\n",
      "  warnings.warn(\n",
      "/home/tunguz/.local/lib/python3.8/site-packages/distributed/worker_state_machine.py:3649: FutureWarning: The `Worker.nthreads` attribute has been moved to `Worker.state.nthreads`\n",
      "  warnings.warn(\n",
      "/home/tunguz/.local/lib/python3.8/site-packages/distributed/worker_state_machine.py:3649: FutureWarning: The `Worker.nthreads` attribute has been moved to `Worker.state.nthreads`\n",
      "  warnings.warn(\n",
      "/home/tunguz/.local/lib/python3.8/site-packages/distributed/worker_state_machine.py:3649: FutureWarning: The `Worker.nthreads` attribute has been moved to `Worker.state.nthreads`\n",
      "  warnings.warn(\n",
      "/home/tunguz/.local/lib/python3.8/site-packages/distributed/worker_state_machine.py:3649: FutureWarning: The `Worker.nthreads` attribute has been moved to `Worker.state.nthreads`\n",
      "  warnings.warn(\n",
      "/home/tunguz/.local/lib/python3.8/site-packages/distributed/worker_state_machine.py:3649: FutureWarning: The `Worker.nthreads` attribute has been moved to `Worker.state.nthreads`\n",
      "  warnings.warn(\n",
      "/home/tunguz/.local/lib/python3.8/site-packages/distributed/worker_state_machine.py:3649: FutureWarning: The `Worker.nthreads` attribute has been moved to `Worker.state.nthreads`\n",
      "  warnings.warn(\n",
      "/home/tunguz/.local/lib/python3.8/site-packages/distributed/worker_state_machine.py:3649: FutureWarning: The `Worker.nthreads` attribute has been moved to `Worker.state.nthreads`\n",
      "  warnings.warn(\n",
      "/home/tunguz/.local/lib/python3.8/site-packages/distributed/worker_state_machine.py:3649: FutureWarning: The `Worker.nthreads` attribute has been moved to `Worker.state.nthreads`\n",
      "  warnings.warn(\n",
      "/home/tunguz/.local/lib/python3.8/site-packages/distributed/worker_state_machine.py:3649: FutureWarning: The `Worker.nthreads` attribute has been moved to `Worker.state.nthreads`\n",
      "  warnings.warn(\n",
      "/home/tunguz/.local/lib/python3.8/site-packages/distributed/worker_state_machine.py:3649: FutureWarning: The `Worker.nthreads` attribute has been moved to `Worker.state.nthreads`\n",
      "  warnings.warn(\n",
      "/home/tunguz/.local/lib/python3.8/site-packages/distributed/worker_state_machine.py:3649: FutureWarning: The `Worker.nthreads` attribute has been moved to `Worker.state.nthreads`\n",
      "  warnings.warn(\n",
      "/home/tunguz/.local/lib/python3.8/site-packages/distributed/worker_state_machine.py:3649: FutureWarning: The `Worker.nthreads` attribute has been moved to `Worker.state.nthreads`\n",
      "  warnings.warn(\n",
      "/home/tunguz/.local/lib/python3.8/site-packages/distributed/worker_state_machine.py:3649: FutureWarning: The `Worker.nthreads` attribute has been moved to `Worker.state.nthreads`\n",
      "  warnings.warn(\n",
      "/home/tunguz/.local/lib/python3.8/site-packages/distributed/worker_state_machine.py:3649: FutureWarning: The `Worker.nthreads` attribute has been moved to `Worker.state.nthreads`\n",
      "  warnings.warn(\n",
      "/home/tunguz/.local/lib/python3.8/site-packages/distributed/worker_state_machine.py:3649: FutureWarning: The `Worker.nthreads` attribute has been moved to `Worker.state.nthreads`\n",
      "  warnings.warn(\n",
      "/home/tunguz/.local/lib/python3.8/site-packages/distributed/worker_state_machine.py:3649: FutureWarning: The `Worker.nthreads` attribute has been moved to `Worker.state.nthreads`\n",
      "  warnings.warn(\n",
      "/home/tunguz/.local/lib/python3.8/site-packages/distributed/worker_state_machine.py:3649: FutureWarning: The `Worker.nthreads` attribute has been moved to `Worker.state.nthreads`\n",
      "  warnings.warn(\n",
      "/home/tunguz/.local/lib/python3.8/site-packages/distributed/worker_state_machine.py:3649: FutureWarning: The `Worker.nthreads` attribute has been moved to `Worker.state.nthreads`\n",
      "  warnings.warn(\n",
      "/home/tunguz/.local/lib/python3.8/site-packages/distributed/worker_state_machine.py:3649: FutureWarning: The `Worker.nthreads` attribute has been moved to `Worker.state.nthreads`\n",
      "  warnings.warn(\n",
      "/home/tunguz/.local/lib/python3.8/site-packages/distributed/worker_state_machine.py:3649: FutureWarning: The `Worker.nthreads` attribute has been moved to `Worker.state.nthreads`\n",
      "  warnings.warn(\n",
      "/home/tunguz/.local/lib/python3.8/site-packages/distributed/worker_state_machine.py:3649: FutureWarning: The `Worker.nthreads` attribute has been moved to `Worker.state.nthreads`\n",
      "  warnings.warn(\n",
      "/home/tunguz/.local/lib/python3.8/site-packages/distributed/worker_state_machine.py:3649: FutureWarning: The `Worker.nthreads` attribute has been moved to `Worker.state.nthreads`\n",
      "  warnings.warn(\n",
      "/home/tunguz/.local/lib/python3.8/site-packages/distributed/worker_state_machine.py:3649: FutureWarning: The `Worker.nthreads` attribute has been moved to `Worker.state.nthreads`\n",
      "  warnings.warn(\n",
      "/home/tunguz/.local/lib/python3.8/site-packages/distributed/worker_state_machine.py:3649: FutureWarning: The `Worker.nthreads` attribute has been moved to `Worker.state.nthreads`\n",
      "  warnings.warn(\n",
      "/home/tunguz/.local/lib/python3.8/site-packages/distributed/worker_state_machine.py:3649: FutureWarning: The `Worker.nthreads` attribute has been moved to `Worker.state.nthreads`\n",
      "  warnings.warn(\n",
      "/home/tunguz/.local/lib/python3.8/site-packages/distributed/worker_state_machine.py:3649: FutureWarning: The `Worker.nthreads` attribute has been moved to `Worker.state.nthreads`\n",
      "  warnings.warn(\n",
      "/home/tunguz/.local/lib/python3.8/site-packages/distributed/worker_state_machine.py:3649: FutureWarning: The `Worker.nthreads` attribute has been moved to `Worker.state.nthreads`\n",
      "  warnings.warn(\n",
      "/home/tunguz/.local/lib/python3.8/site-packages/distributed/worker_state_machine.py:3649: FutureWarning: The `Worker.nthreads` attribute has been moved to `Worker.state.nthreads`\n",
      "  warnings.warn(\n",
      "/home/tunguz/.local/lib/python3.8/site-packages/distributed/worker_state_machine.py:3649: FutureWarning: The `Worker.nthreads` attribute has been moved to `Worker.state.nthreads`\n",
      "  warnings.warn(\n",
      "[14:56:19] task [xgboost.dask-0]:tcp://127.0.0.1:40665 got new rank 0\n",
      "\u001b[32m[I 2022-12-12 15:28:48,673]\u001b[0m Trial 41 finished with value: 0.4896031571389501 and parameters: {'objective': 'multi:softprob', 'tree_method': 'gpu_hist', 'lambda': 0.002456343101813835, 'alpha': 1.5215932006738297, 'colsample_bytree': 0.6913039139138807, 'subsample': 0.7943472886023638, 'learning_rate': 0.048598833064967914, 'max_depth': 24, 'min_child_weight': 43, 'eval_metric': 'logloss'}. Best is trial 37 with value: 0.47695371073009174.\u001b[0m\n",
      "/home/tunguz/.local/lib/python3.8/site-packages/xgboost/dask.py:884: RuntimeWarning: coroutine 'Client._wait_for_workers' was never awaited\n",
      "  client.wait_for_workers(n_workers)\n",
      "[15:28:48] task [xgboost.dask-0]:tcp://127.0.0.1:40665 got new rank 0\n",
      "\u001b[32m[I 2022-12-12 15:31:32,566]\u001b[0m Trial 42 finished with value: 0.48991804946448525 and parameters: {'objective': 'multi:softprob', 'tree_method': 'gpu_hist', 'lambda': 0.01433134175237319, 'alpha': 1.3870004014875383, 'colsample_bytree': 0.610034484349542, 'subsample': 0.7362095429653756, 'learning_rate': 0.0976014770179813, 'max_depth': 20, 'min_child_weight': 16, 'eval_metric': 'logloss'}. Best is trial 37 with value: 0.47695371073009174.\u001b[0m\n",
      "/home/tunguz/.local/lib/python3.8/site-packages/xgboost/dask.py:884: RuntimeWarning: coroutine 'Client._wait_for_workers' was never awaited\n",
      "  client.wait_for_workers(n_workers)\n",
      "[15:31:32] task [xgboost.dask-0]:tcp://127.0.0.1:40665 got new rank 0\n",
      "\u001b[32m[I 2022-12-12 15:35:59,996]\u001b[0m Trial 43 finished with value: 0.4923377350806838 and parameters: {'objective': 'multi:softprob', 'tree_method': 'gpu_hist', 'lambda': 0.014052663543951377, 'alpha': 4.89503226728857, 'colsample_bytree': 0.7393651229080856, 'subsample': 0.7036538628827583, 'learning_rate': 0.09639101297624819, 'max_depth': 21, 'min_child_weight': 38, 'eval_metric': 'logloss'}. Best is trial 37 with value: 0.47695371073009174.\u001b[0m\n",
      "/home/tunguz/.local/lib/python3.8/site-packages/xgboost/dask.py:884: RuntimeWarning: coroutine 'Client._wait_for_workers' was never awaited\n",
      "  client.wait_for_workers(n_workers)\n",
      "[15:36:00] task [xgboost.dask-0]:tcp://127.0.0.1:40665 got new rank 0\n",
      "\u001b[32m[I 2022-12-12 16:08:59,128]\u001b[0m Trial 44 finished with value: 0.47807089872661973 and parameters: {'objective': 'multi:softprob', 'tree_method': 'gpu_hist', 'lambda': 0.0018584203205467905, 'alpha': 1.3319671419346963, 'colsample_bytree': 0.6469592972317998, 'subsample': 0.7438546423988839, 'learning_rate': 0.05625098846562966, 'max_depth': 24, 'min_child_weight': 19, 'eval_metric': 'logloss'}. Best is trial 37 with value: 0.47695371073009174.\u001b[0m\n",
      "/home/tunguz/.local/lib/python3.8/site-packages/xgboost/dask.py:884: RuntimeWarning: coroutine 'Client._wait_for_workers' was never awaited\n",
      "  client.wait_for_workers(n_workers)\n",
      "[16:08:59] task [xgboost.dask-0]:tcp://127.0.0.1:40665 got new rank 0\n",
      "\u001b[32m[I 2022-12-12 16:41:22,497]\u001b[0m Trial 45 finished with value: 0.4842261761458365 and parameters: {'objective': 'multi:softprob', 'tree_method': 'gpu_hist', 'lambda': 0.0018658678796647417, 'alpha': 4.351169620227647, 'colsample_bytree': 0.7664296809378561, 'subsample': 0.8605335128172449, 'learning_rate': 0.057482602835191236, 'max_depth': 24, 'min_child_weight': 35, 'eval_metric': 'logloss'}. Best is trial 37 with value: 0.47695371073009174.\u001b[0m\n",
      "/home/tunguz/.local/lib/python3.8/site-packages/xgboost/dask.py:884: RuntimeWarning: coroutine 'Client._wait_for_workers' was never awaited\n",
      "  client.wait_for_workers(n_workers)\n",
      "[16:41:22] task [xgboost.dask-0]:tcp://127.0.0.1:40665 got new rank 0\n",
      "\u001b[32m[I 2022-12-12 17:13:20,235]\u001b[0m Trial 46 finished with value: 0.617289398845887 and parameters: {'objective': 'multi:softprob', 'tree_method': 'gpu_hist', 'lambda': 0.0012410876865767222, 'alpha': 9.68543973386718, 'colsample_bytree': 0.8601778233198596, 'subsample': 0.8640850336088017, 'learning_rate': 0.0739021684807533, 'max_depth': 24, 'min_child_weight': 292, 'eval_metric': 'logloss'}. Best is trial 37 with value: 0.47695371073009174.\u001b[0m\n",
      "/home/tunguz/.local/lib/python3.8/site-packages/xgboost/dask.py:884: RuntimeWarning: coroutine 'Client._wait_for_workers' was never awaited\n",
      "  client.wait_for_workers(n_workers)\n",
      "[17:13:20] task [xgboost.dask-0]:tcp://127.0.0.1:40665 got new rank 0\n",
      "\u001b[32m[I 2022-12-12 18:16:41,025]\u001b[0m Trial 47 finished with value: 0.6304247147715266 and parameters: {'objective': 'multi:softprob', 'tree_method': 'gpu_hist', 'lambda': 0.0016615426675543833, 'alpha': 4.663781821961914, 'colsample_bytree': 0.7635288240746387, 'subsample': 0.7763095750821765, 'learning_rate': 0.049248005052934654, 'max_depth': 25, 'min_child_weight': 270, 'eval_metric': 'logloss'}. Best is trial 37 with value: 0.47695371073009174.\u001b[0m\n",
      "/home/tunguz/.local/lib/python3.8/site-packages/xgboost/dask.py:884: RuntimeWarning: coroutine 'Client._wait_for_workers' was never awaited\n",
      "  client.wait_for_workers(n_workers)\n",
      "[18:16:41] task [xgboost.dask-0]:tcp://127.0.0.1:40665 got new rank 0\n",
      "\u001b[32m[I 2022-12-12 18:25:05,467]\u001b[0m Trial 48 finished with value: 0.5653849153733779 and parameters: {'objective': 'multi:softprob', 'tree_method': 'gpu_hist', 'lambda': 0.004132644605993849, 'alpha': 2.7596900188795908, 'colsample_bytree': 0.8035798924982138, 'subsample': 0.9043826646188787, 'learning_rate': 0.031244332958547793, 'max_depth': 22, 'min_child_weight': 154, 'eval_metric': 'logloss'}. Best is trial 37 with value: 0.47695371073009174.\u001b[0m\n",
      "/home/tunguz/.local/lib/python3.8/site-packages/xgboost/dask.py:884: RuntimeWarning: coroutine 'Client._wait_for_workers' was never awaited\n",
      "  client.wait_for_workers(n_workers)\n",
      "[18:25:05] task [xgboost.dask-0]:tcp://127.0.0.1:40665 got new rank 0\n",
      "\u001b[32m[I 2022-12-12 18:27:32,160]\u001b[0m Trial 49 finished with value: 0.505157409946079 and parameters: {'objective': 'multi:softprob', 'tree_method': 'gpu_hist', 'lambda': 0.0073324886834986005, 'alpha': 6.6460728657426476, 'colsample_bytree': 0.49684475196920475, 'subsample': 0.8632289351627566, 'learning_rate': 0.05928654023130321, 'max_depth': 20, 'min_child_weight': 57, 'eval_metric': 'logloss'}. Best is trial 37 with value: 0.47695371073009174.\u001b[0m\n",
      "/home/tunguz/.local/lib/python3.8/site-packages/xgboost/dask.py:884: RuntimeWarning: coroutine 'Client._wait_for_workers' was never awaited\n",
      "  client.wait_for_workers(n_workers)\n",
      "[18:27:32] task [xgboost.dask-0]:tcp://127.0.0.1:40665 got new rank 0\n",
      "\u001b[32m[I 2022-12-12 18:59:25,236]\u001b[0m Trial 50 finished with value: 0.5185500750446205 and parameters: {'objective': 'multi:softprob', 'tree_method': 'gpu_hist', 'lambda': 0.0018947736744842137, 'alpha': 0.673431639895478, 'colsample_bytree': 0.5756543315752677, 'subsample': 0.8260665708787853, 'learning_rate': 0.07491285600091123, 'max_depth': 24, 'min_child_weight': 90, 'eval_metric': 'logloss'}. Best is trial 37 with value: 0.47695371073009174.\u001b[0m\n",
      "/home/tunguz/.local/lib/python3.8/site-packages/xgboost/dask.py:884: RuntimeWarning: coroutine 'Client._wait_for_workers' was never awaited\n",
      "  client.wait_for_workers(n_workers)\n",
      "[18:59:25] task [xgboost.dask-0]:tcp://127.0.0.1:40665 got new rank 0\n",
      "\u001b[32m[I 2022-12-12 19:15:54,458]\u001b[0m Trial 51 finished with value: 0.4831771802320144 and parameters: {'objective': 'multi:softprob', 'tree_method': 'gpu_hist', 'lambda': 0.0026992662148134497, 'alpha': 1.4017921353622804, 'colsample_bytree': 0.6748675564866679, 'subsample': 0.7918784039341479, 'learning_rate': 0.05139440788174124, 'max_depth': 23, 'min_child_weight': 33, 'eval_metric': 'logloss'}. Best is trial 37 with value: 0.47695371073009174.\u001b[0m\n",
      "/home/tunguz/.local/lib/python3.8/site-packages/xgboost/dask.py:884: RuntimeWarning: coroutine 'Client._wait_for_workers' was never awaited\n",
      "  client.wait_for_workers(n_workers)\n",
      "[19:15:54] task [xgboost.dask-0]:tcp://127.0.0.1:40665 got new rank 0\n",
      "\u001b[32m[I 2022-12-12 19:32:54,456]\u001b[0m Trial 52 finished with value: 0.47575487760426577 and parameters: {'objective': 'multi:softprob', 'tree_method': 'gpu_hist', 'lambda': 0.004134747233481455, 'alpha': 3.5000926774155388, 'colsample_bytree': 0.6318406006146867, 'subsample': 0.7444394932501117, 'learning_rate': 0.05430658347150434, 'max_depth': 23, 'min_child_weight': 15, 'eval_metric': 'logloss'}. Best is trial 52 with value: 0.47575487760426577.\u001b[0m\n",
      "/home/tunguz/.local/lib/python3.8/site-packages/xgboost/dask.py:884: RuntimeWarning: coroutine 'Client._wait_for_workers' was never awaited\n",
      "  client.wait_for_workers(n_workers)\n",
      "[19:32:54] task [xgboost.dask-0]:tcp://127.0.0.1:40665 got new rank 0\n",
      "\u001b[32m[I 2022-12-12 19:36:04,497]\u001b[0m Trial 53 finished with value: 0.46837783593336296 and parameters: {'objective': 'multi:softprob', 'tree_method': 'gpu_hist', 'lambda': 0.004566970075165915, 'alpha': 1.1200077254839271, 'colsample_bytree': 0.6403448533839641, 'subsample': 0.6757405300651503, 'learning_rate': 0.03342396156163618, 'max_depth': 20, 'min_child_weight': 11, 'eval_metric': 'logloss'}. Best is trial 53 with value: 0.46837783593336296.\u001b[0m\n",
      "/home/tunguz/.local/lib/python3.8/site-packages/xgboost/dask.py:884: RuntimeWarning: coroutine 'Client._wait_for_workers' was never awaited\n",
      "  client.wait_for_workers(n_workers)\n",
      "[19:36:04] task [xgboost.dask-0]:tcp://127.0.0.1:40665 got new rank 0\n",
      "\u001b[32m[I 2022-12-12 19:39:18,150]\u001b[0m Trial 54 finished with value: 0.4685178925801664 and parameters: {'objective': 'multi:softprob', 'tree_method': 'gpu_hist', 'lambda': 0.005255210002344643, 'alpha': 2.733412391893267, 'colsample_bytree': 0.6420366227112856, 'subsample': 0.7337027599580846, 'learning_rate': 0.03818938604495296, 'max_depth': 20, 'min_child_weight': 9, 'eval_metric': 'logloss'}. Best is trial 53 with value: 0.46837783593336296.\u001b[0m\n",
      "/home/tunguz/.local/lib/python3.8/site-packages/xgboost/dask.py:884: RuntimeWarning: coroutine 'Client._wait_for_workers' was never awaited\n",
      "  client.wait_for_workers(n_workers)\n",
      "[19:39:18] task [xgboost.dask-0]:tcp://127.0.0.1:40665 got new rank 0\n",
      "\u001b[32m[I 2022-12-12 19:40:16,815]\u001b[0m Trial 55 finished with value: 0.480812726693668 and parameters: {'objective': 'multi:softprob', 'tree_method': 'gpu_hist', 'lambda': 0.004059446172722795, 'alpha': 3.2665575257547004, 'colsample_bytree': 0.6410893971232767, 'subsample': 0.6791184952376744, 'learning_rate': 0.03664922433480107, 'max_depth': 17, 'min_child_weight': 19, 'eval_metric': 'logloss'}. Best is trial 53 with value: 0.46837783593336296.\u001b[0m\n",
      "/home/tunguz/.local/lib/python3.8/site-packages/xgboost/dask.py:884: RuntimeWarning: coroutine 'Client._wait_for_workers' was never awaited\n",
      "  client.wait_for_workers(n_workers)\n",
      "[19:40:16] task [xgboost.dask-0]:tcp://127.0.0.1:40665 got new rank 0\n",
      "\u001b[32m[I 2022-12-12 19:43:24,494]\u001b[0m Trial 56 finished with value: 0.4693274795519985 and parameters: {'objective': 'multi:softprob', 'tree_method': 'gpu_hist', 'lambda': 0.004789990154383364, 'alpha': 0.9359414489911836, 'colsample_bytree': 0.6487682303745124, 'subsample': 0.6258801713706297, 'learning_rate': 0.02399166234120378, 'max_depth': 20, 'min_child_weight': 12, 'eval_metric': 'logloss'}. Best is trial 53 with value: 0.46837783593336296.\u001b[0m\n",
      "/home/tunguz/.local/lib/python3.8/site-packages/xgboost/dask.py:884: RuntimeWarning: coroutine 'Client._wait_for_workers' was never awaited\n",
      "  client.wait_for_workers(n_workers)\n",
      "[19:43:24] task [xgboost.dask-0]:tcp://127.0.0.1:40665 got new rank 0\n",
      "\u001b[32m[I 2022-12-12 19:46:27,822]\u001b[0m Trial 57 finished with value: 0.471365360674357 and parameters: {'objective': 'multi:softprob', 'tree_method': 'gpu_hist', 'lambda': 0.004925846674013342, 'alpha': 0.9275923701850067, 'colsample_bytree': 0.7203424608491663, 'subsample': 0.624077611211363, 'learning_rate': 0.0307318626228287, 'max_depth': 20, 'min_child_weight': 13, 'eval_metric': 'logloss'}. Best is trial 53 with value: 0.46837783593336296.\u001b[0m\n",
      "/home/tunguz/.local/lib/python3.8/site-packages/xgboost/dask.py:884: RuntimeWarning: coroutine 'Client._wait_for_workers' was never awaited\n",
      "  client.wait_for_workers(n_workers)\n",
      "[19:46:27] task [xgboost.dask-0]:tcp://127.0.0.1:40665 got new rank 0\n",
      "\u001b[32m[I 2022-12-12 19:48:39,111]\u001b[0m Trial 58 finished with value: 0.46921207499298706 and parameters: {'objective': 'multi:softprob', 'tree_method': 'gpu_hist', 'lambda': 0.011075551283567001, 'alpha': 0.9509307991475091, 'colsample_bytree': 0.7259134425886976, 'subsample': 0.6417079058370733, 'learning_rate': 0.030446478401143534, 'max_depth': 19, 'min_child_weight': 11, 'eval_metric': 'logloss'}. Best is trial 53 with value: 0.46837783593336296.\u001b[0m\n",
      "/home/tunguz/.local/lib/python3.8/site-packages/xgboost/dask.py:884: RuntimeWarning: coroutine 'Client._wait_for_workers' was never awaited\n",
      "  client.wait_for_workers(n_workers)\n",
      "[19:48:39] task [xgboost.dask-0]:tcp://127.0.0.1:40665 got new rank 0\n",
      "\u001b[32m[I 2022-12-12 19:51:05,884]\u001b[0m Trial 59 finished with value: 0.4656439574536313 and parameters: {'objective': 'multi:softprob', 'tree_method': 'gpu_hist', 'lambda': 0.010552944071031075, 'alpha': 0.8373815710002521, 'colsample_bytree': 0.7153487538520121, 'subsample': 0.6164536559202747, 'learning_rate': 0.024104530610018392, 'max_depth': 19, 'min_child_weight': 8, 'eval_metric': 'logloss'}. Best is trial 59 with value: 0.4656439574536313.\u001b[0m\n",
      "/home/tunguz/.local/lib/python3.8/site-packages/xgboost/dask.py:884: RuntimeWarning: coroutine 'Client._wait_for_workers' was never awaited\n",
      "  client.wait_for_workers(n_workers)\n",
      "[19:51:05] task [xgboost.dask-0]:tcp://127.0.0.1:40665 got new rank 0\n",
      "\u001b[32m[I 2022-12-12 19:53:36,897]\u001b[0m Trial 60 finished with value: 0.468593867956634 and parameters: {'objective': 'multi:softprob', 'tree_method': 'gpu_hist', 'lambda': 0.011750353166471609, 'alpha': 0.8349949381448025, 'colsample_bytree': 0.8351283563898901, 'subsample': 0.6156973181266566, 'learning_rate': 0.02480720388226061, 'max_depth': 19, 'min_child_weight': 9, 'eval_metric': 'logloss'}. Best is trial 59 with value: 0.4656439574536313.\u001b[0m\n",
      "/home/tunguz/.local/lib/python3.8/site-packages/xgboost/dask.py:884: RuntimeWarning: coroutine 'Client._wait_for_workers' was never awaited\n",
      "  client.wait_for_workers(n_workers)\n",
      "[19:53:36] task [xgboost.dask-0]:tcp://127.0.0.1:40665 got new rank 0\n",
      "\u001b[32m[I 2022-12-12 19:56:30,081]\u001b[0m Trial 61 finished with value: 0.46679566524735927 and parameters: {'objective': 'multi:softprob', 'tree_method': 'gpu_hist', 'lambda': 0.010067893049008507, 'alpha': 0.8838934871855608, 'colsample_bytree': 0.8313990722769571, 'subsample': 0.6329572842093987, 'learning_rate': 0.025128575093590493, 'max_depth': 19, 'min_child_weight': 6, 'eval_metric': 'logloss'}. Best is trial 59 with value: 0.4656439574536313.\u001b[0m\n",
      "/home/tunguz/.local/lib/python3.8/site-packages/xgboost/dask.py:884: RuntimeWarning: coroutine 'Client._wait_for_workers' was never awaited\n",
      "  client.wait_for_workers(n_workers)\n",
      "[19:56:30] task [xgboost.dask-0]:tcp://127.0.0.1:40665 got new rank 0\n",
      "\u001b[32m[I 2022-12-12 19:58:28,641]\u001b[0m Trial 62 finished with value: 0.46551775661574996 and parameters: {'objective': 'multi:softprob', 'tree_method': 'gpu_hist', 'lambda': 0.010699764432490672, 'alpha': 0.5476677430466182, 'colsample_bytree': 0.8541593756036178, 'subsample': 0.6184399669001929, 'learning_rate': 0.024100358992739657, 'max_depth': 18, 'min_child_weight': 9, 'eval_metric': 'logloss'}. Best is trial 62 with value: 0.46551775661574996.\u001b[0m\n",
      "/home/tunguz/.local/lib/python3.8/site-packages/xgboost/dask.py:884: RuntimeWarning: coroutine 'Client._wait_for_workers' was never awaited\n",
      "  client.wait_for_workers(n_workers)\n",
      "[19:58:28] task [xgboost.dask-0]:tcp://127.0.0.1:40665 got new rank 0\n",
      "\u001b[32m[I 2022-12-12 20:00:29,463]\u001b[0m Trial 63 finished with value: 0.46993405953802075 and parameters: {'objective': 'multi:softprob', 'tree_method': 'gpu_hist', 'lambda': 0.02103797267804418, 'alpha': 0.5485623850487519, 'colsample_bytree': 0.8652140122241213, 'subsample': 0.5619757308841428, 'learning_rate': 0.031238313021479495, 'max_depth': 18, 'min_child_weight': 7, 'eval_metric': 'logloss'}. Best is trial 62 with value: 0.46551775661574996.\u001b[0m\n",
      "/home/tunguz/.local/lib/python3.8/site-packages/xgboost/dask.py:884: RuntimeWarning: coroutine 'Client._wait_for_workers' was never awaited\n",
      "  client.wait_for_workers(n_workers)\n",
      "[20:00:29] task [xgboost.dask-0]:tcp://127.0.0.1:40665 got new rank 0\n",
      "\u001b[32m[I 2022-12-12 20:02:11,645]\u001b[0m Trial 64 finished with value: 0.4880554881423203 and parameters: {'objective': 'multi:softprob', 'tree_method': 'gpu_hist', 'lambda': 0.012116800083640229, 'alpha': 2.174978337690842, 'colsample_bytree': 0.8232074277281931, 'subsample': 0.6094430555297262, 'learning_rate': 0.04155198568221329, 'max_depth': 19, 'min_child_weight': 29, 'eval_metric': 'logloss'}. Best is trial 62 with value: 0.46551775661574996.\u001b[0m\n",
      "/home/tunguz/.local/lib/python3.8/site-packages/xgboost/dask.py:884: RuntimeWarning: coroutine 'Client._wait_for_workers' was never awaited\n",
      "  client.wait_for_workers(n_workers)\n",
      "[20:02:11] task [xgboost.dask-0]:tcp://127.0.0.1:40665 got new rank 0\n",
      "\u001b[32m[I 2022-12-12 20:02:50,916]\u001b[0m Trial 65 finished with value: 0.514785772969155 and parameters: {'objective': 'multi:softprob', 'tree_method': 'gpu_hist', 'lambda': 0.03181927710980102, 'alpha': 0.4874079599930727, 'colsample_bytree': 0.9288094073488183, 'subsample': 0.6600126620061055, 'learning_rate': 0.023638684218408507, 'max_depth': 16, 'min_child_weight': 52, 'eval_metric': 'logloss'}. Best is trial 62 with value: 0.46551775661574996.\u001b[0m\n",
      "/home/tunguz/.local/lib/python3.8/site-packages/xgboost/dask.py:884: RuntimeWarning: coroutine 'Client._wait_for_workers' was never awaited\n",
      "  client.wait_for_workers(n_workers)\n",
      "[20:02:50] task [xgboost.dask-0]:tcp://127.0.0.1:40665 got new rank 0\n",
      "\u001b[32m[I 2022-12-12 20:07:36,273]\u001b[0m Trial 66 finished with value: 0.4712964181732242 and parameters: {'objective': 'multi:softprob', 'tree_method': 'gpu_hist', 'lambda': 0.01633773645699631, 'alpha': 1.0748350223875, 'colsample_bytree': 0.9056282763223964, 'subsample': 0.7160006544608223, 'learning_rate': 0.015224936174848306, 'max_depth': 17, 'min_child_weight': 1, 'eval_metric': 'logloss'}. Best is trial 62 with value: 0.46551775661574996.\u001b[0m\n",
      "/home/tunguz/.local/lib/python3.8/site-packages/xgboost/dask.py:884: RuntimeWarning: coroutine 'Client._wait_for_workers' was never awaited\n",
      "  client.wait_for_workers(n_workers)\n",
      "[20:07:36] task [xgboost.dask-0]:tcp://127.0.0.1:40665 got new rank 0\n",
      "\u001b[32m[I 2022-12-12 20:09:27,430]\u001b[0m Trial 67 finished with value: 0.4882950327751746 and parameters: {'objective': 'multi:softprob', 'tree_method': 'gpu_hist', 'lambda': 0.010308792052300474, 'alpha': 0.7291572658367853, 'colsample_bytree': 0.8303974750679056, 'subsample': 0.6876840226311443, 'learning_rate': 0.021845132862779306, 'max_depth': 19, 'min_child_weight': 29, 'eval_metric': 'logloss'}. Best is trial 62 with value: 0.46551775661574996.\u001b[0m\n",
      "/home/tunguz/.local/lib/python3.8/site-packages/xgboost/dask.py:884: RuntimeWarning: coroutine 'Client._wait_for_workers' was never awaited\n",
      "  client.wait_for_workers(n_workers)\n",
      "[20:09:27] task [xgboost.dask-0]:tcp://127.0.0.1:40665 got new rank 0\n",
      "\u001b[32m[I 2022-12-12 20:10:22,301]\u001b[0m Trial 68 finished with value: 0.5419889165006946 and parameters: {'objective': 'multi:softprob', 'tree_method': 'gpu_hist', 'lambda': 0.04791868544549599, 'alpha': 0.2992268581805513, 'colsample_bytree': 0.7909252989963858, 'subsample': 0.5279617512446997, 'learning_rate': 0.02797044230587768, 'max_depth': 18, 'min_child_weight': 67, 'eval_metric': 'logloss'}. Best is trial 62 with value: 0.46551775661574996.\u001b[0m\n",
      "/home/tunguz/.local/lib/python3.8/site-packages/xgboost/dask.py:884: RuntimeWarning: coroutine 'Client._wait_for_workers' was never awaited\n",
      "  client.wait_for_workers(n_workers)\n",
      "[20:10:22] task [xgboost.dask-0]:tcp://127.0.0.1:40665 got new rank 0\n",
      "\u001b[32m[I 2022-12-12 20:11:07,188]\u001b[0m Trial 69 finished with value: 0.5107683240708175 and parameters: {'objective': 'multi:softprob', 'tree_method': 'gpu_hist', 'lambda': 0.010298277571091948, 'alpha': 1.6361089853856141, 'colsample_bytree': 0.9382121080007729, 'subsample': 0.5777434435940858, 'learning_rate': 0.03347597842467785, 'max_depth': 17, 'min_child_weight': 50, 'eval_metric': 'logloss'}. Best is trial 62 with value: 0.46551775661574996.\u001b[0m\n",
      "/home/tunguz/.local/lib/python3.8/site-packages/xgboost/dask.py:884: RuntimeWarning: coroutine 'Client._wait_for_workers' was never awaited\n",
      "  client.wait_for_workers(n_workers)\n",
      "[20:11:07] task [xgboost.dask-0]:tcp://127.0.0.1:40665 got new rank 0\n",
      "\u001b[32m[I 2022-12-12 20:16:49,290]\u001b[0m Trial 70 finished with value: 0.48406966013874375 and parameters: {'objective': 'multi:softprob', 'tree_method': 'gpu_hist', 'lambda': 0.017884703546555452, 'alpha': 1.117383684598005, 'colsample_bytree': 0.8445955674488602, 'subsample': 0.636100342680179, 'learning_rate': 0.01160621136074678, 'max_depth': 21, 'min_child_weight': 10, 'eval_metric': 'logloss'}. Best is trial 62 with value: 0.46551775661574996.\u001b[0m\n",
      "/home/tunguz/.local/lib/python3.8/site-packages/xgboost/dask.py:884: RuntimeWarning: coroutine 'Client._wait_for_workers' was never awaited\n",
      "  client.wait_for_workers(n_workers)\n",
      "[20:16:49] task [xgboost.dask-0]:tcp://127.0.0.1:40665 got new rank 0\n",
      "\u001b[32m[I 2022-12-12 20:19:02,318]\u001b[0m Trial 71 finished with value: 0.46920457909154767 and parameters: {'objective': 'multi:softprob', 'tree_method': 'gpu_hist', 'lambda': 0.0051893894484543205, 'alpha': 0.8851836257894918, 'colsample_bytree': 0.7838994495384183, 'subsample': 0.6237586761791002, 'learning_rate': 0.024481798270162485, 'max_depth': 19, 'min_child_weight': 11, 'eval_metric': 'logloss'}. Best is trial 62 with value: 0.46551775661574996.\u001b[0m\n",
      "/home/tunguz/.local/lib/python3.8/site-packages/xgboost/dask.py:884: RuntimeWarning: coroutine 'Client._wait_for_workers' was never awaited\n",
      "  client.wait_for_workers(n_workers)\n",
      "[20:19:02] task [xgboost.dask-0]:tcp://127.0.0.1:40665 got new rank 0\n",
      "\u001b[32m[I 2022-12-12 20:20:49,391]\u001b[0m Trial 72 finished with value: 0.4899911553430264 and parameters: {'objective': 'multi:softprob', 'tree_method': 'gpu_hist', 'lambda': 0.008692320032801073, 'alpha': 1.8836277111449742, 'colsample_bytree': 0.7918051668655002, 'subsample': 0.599340131813808, 'learning_rate': 0.025917187744804258, 'max_depth': 19, 'min_child_weight': 26, 'eval_metric': 'logloss'}. Best is trial 62 with value: 0.46551775661574996.\u001b[0m\n",
      "/home/tunguz/.local/lib/python3.8/site-packages/xgboost/dask.py:884: RuntimeWarning: coroutine 'Client._wait_for_workers' was never awaited\n",
      "  client.wait_for_workers(n_workers)\n",
      "[20:20:49] task [xgboost.dask-0]:tcp://127.0.0.1:40665 got new rank 0\n",
      "\u001b[32m[I 2022-12-12 20:22:21,850]\u001b[0m Trial 73 finished with value: 0.4770051768298643 and parameters: {'objective': 'multi:softprob', 'tree_method': 'gpu_hist', 'lambda': 0.027821707549264163, 'alpha': 0.7677932693813905, 'colsample_bytree': 0.7533939007642203, 'subsample': 0.6663814682322233, 'learning_rate': 0.04273967590978442, 'max_depth': 16, 'min_child_weight': 5, 'eval_metric': 'logloss'}. Best is trial 62 with value: 0.46551775661574996.\u001b[0m\n",
      "/home/tunguz/.local/lib/python3.8/site-packages/xgboost/dask.py:884: RuntimeWarning: coroutine 'Client._wait_for_workers' was never awaited\n",
      "  client.wait_for_workers(n_workers)\n",
      "[20:22:21] task [xgboost.dask-0]:tcp://127.0.0.1:40665 got new rank 0\n",
      "\u001b[32m[I 2022-12-12 20:25:01,506]\u001b[0m Trial 74 finished with value: 0.4695965759237666 and parameters: {'objective': 'multi:softprob', 'tree_method': 'gpu_hist', 'lambda': 0.0030648096785518765, 'alpha': 0.551334906979887, 'colsample_bytree': 0.8863907209906325, 'subsample': 0.6122889754415967, 'learning_rate': 0.015739594053131814, 'max_depth': 19, 'min_child_weight': 9, 'eval_metric': 'logloss'}. Best is trial 62 with value: 0.46551775661574996.\u001b[0m\n",
      "/home/tunguz/.local/lib/python3.8/site-packages/xgboost/dask.py:884: RuntimeWarning: coroutine 'Client._wait_for_workers' was never awaited\n",
      "  client.wait_for_workers(n_workers)\n",
      "[20:25:01] task [xgboost.dask-0]:tcp://127.0.0.1:40665 got new rank 0\n",
      "\u001b[32m[I 2022-12-12 20:29:50,058]\u001b[0m Trial 75 finished with value: 0.48623139454010633 and parameters: {'objective': 'multi:softprob', 'tree_method': 'gpu_hist', 'lambda': 0.005749530647388621, 'alpha': 0.3000588995054726, 'colsample_bytree': 0.7065147365785487, 'subsample': 0.7238044630927112, 'learning_rate': 0.021007502918476084, 'max_depth': 21, 'min_child_weight': 27, 'eval_metric': 'logloss'}. Best is trial 62 with value: 0.46551775661574996.\u001b[0m\n",
      "/home/tunguz/.local/lib/python3.8/site-packages/xgboost/dask.py:884: RuntimeWarning: coroutine 'Client._wait_for_workers' was never awaited\n",
      "  client.wait_for_workers(n_workers)\n",
      "[20:29:50] task [xgboost.dask-0]:tcp://127.0.0.1:40665 got new rank 0\n",
      "\u001b[32m[I 2022-12-12 20:30:27,576]\u001b[0m Trial 76 finished with value: 0.4949454523562624 and parameters: {'objective': 'multi:softprob', 'tree_method': 'gpu_hist', 'lambda': 0.009593779524824153, 'alpha': 0.46333580600404256, 'colsample_bytree': 0.8173071854869418, 'subsample': 0.694181588071832, 'learning_rate': 0.03753479680719953, 'max_depth': 15, 'min_child_weight': 42, 'eval_metric': 'logloss'}. Best is trial 62 with value: 0.46551775661574996.\u001b[0m\n",
      "/home/tunguz/.local/lib/python3.8/site-packages/xgboost/dask.py:884: RuntimeWarning: coroutine 'Client._wait_for_workers' was never awaited\n",
      "  client.wait_for_workers(n_workers)\n",
      "[20:30:27] task [xgboost.dask-0]:tcp://127.0.0.1:40665 got new rank 0\n",
      "\u001b[32m[I 2022-12-12 20:31:12,516]\u001b[0m Trial 77 finished with value: 0.6107070123895525 and parameters: {'objective': 'multi:softprob', 'tree_method': 'gpu_hist', 'lambda': 0.0033987191109961013, 'alpha': 0.16816926170622892, 'colsample_bytree': 0.7808715224828549, 'subsample': 0.656452636694513, 'learning_rate': 0.026691547009595595, 'max_depth': 18, 'min_child_weight': 176, 'eval_metric': 'logloss'}. Best is trial 62 with value: 0.46551775661574996.\u001b[0m\n",
      "/home/tunguz/.local/lib/python3.8/site-packages/xgboost/dask.py:884: RuntimeWarning: coroutine 'Client._wait_for_workers' was never awaited\n",
      "  client.wait_for_workers(n_workers)\n",
      "[20:31:12] task [xgboost.dask-0]:tcp://127.0.0.1:40665 got new rank 0\n",
      "\u001b[32m[I 2022-12-12 20:36:55,716]\u001b[0m Trial 78 finished with value: 0.46847140600624804 and parameters: {'objective': 'multi:softprob', 'tree_method': 'gpu_hist', 'lambda': 0.011537144238766135, 'alpha': 2.1562530818826535, 'colsample_bytree': 0.8472145245666898, 'subsample': 0.5701408911736863, 'learning_rate': 0.0195588967340762, 'max_depth': 20, 'min_child_weight': 1, 'eval_metric': 'logloss'}. Best is trial 62 with value: 0.46551775661574996.\u001b[0m\n",
      "/home/tunguz/.local/lib/python3.8/site-packages/xgboost/dask.py:884: RuntimeWarning: coroutine 'Client._wait_for_workers' was never awaited\n",
      "  client.wait_for_workers(n_workers)\n",
      "[20:36:55] task [xgboost.dask-0]:tcp://127.0.0.1:40665 got new rank 0\n",
      "\u001b[32m[I 2022-12-12 20:39:13,659]\u001b[0m Trial 79 finished with value: 0.6331688043940643 and parameters: {'objective': 'multi:softprob', 'tree_method': 'gpu_hist', 'lambda': 0.01988837713188118, 'alpha': 2.769951107400004, 'colsample_bytree': 0.8597431723174624, 'subsample': 0.5463902406435953, 'learning_rate': 0.012803426710913831, 'max_depth': 20, 'min_child_weight': 134, 'eval_metric': 'logloss'}. Best is trial 62 with value: 0.46551775661574996.\u001b[0m\n",
      "/home/tunguz/.local/lib/python3.8/site-packages/xgboost/dask.py:884: RuntimeWarning: coroutine 'Client._wait_for_workers' was never awaited\n",
      "  client.wait_for_workers(n_workers)\n",
      "[20:39:13] task [xgboost.dask-0]:tcp://127.0.0.1:40665 got new rank 0\n",
      "\u001b[32m[I 2022-12-12 20:47:46,170]\u001b[0m Trial 80 finished with value: 0.5130300314312556 and parameters: {'objective': 'multi:softprob', 'tree_method': 'gpu_hist', 'lambda': 0.005977966012864735, 'alpha': 2.100482860695035, 'colsample_bytree': 0.9722882110578366, 'subsample': 0.5748866259222167, 'learning_rate': 0.018647421765317484, 'max_depth': 22, 'min_child_weight': 36, 'eval_metric': 'logloss'}. Best is trial 62 with value: 0.46551775661574996.\u001b[0m\n",
      "/home/tunguz/.local/lib/python3.8/site-packages/xgboost/dask.py:884: RuntimeWarning: coroutine 'Client._wait_for_workers' was never awaited\n",
      "  client.wait_for_workers(n_workers)\n",
      "[20:47:46] task [xgboost.dask-0]:tcp://127.0.0.1:40665 got new rank 0\n",
      "\u001b[32m[I 2022-12-12 20:50:08,744]\u001b[0m Trial 81 finished with value: 0.47032925946546916 and parameters: {'objective': 'multi:softprob', 'tree_method': 'gpu_hist', 'lambda': 0.014779058652713504, 'alpha': 1.2145725775141425, 'colsample_bytree': 0.908640003735472, 'subsample': 0.6388126659025063, 'learning_rate': 0.030444535861190943, 'max_depth': 19, 'min_child_weight': 10, 'eval_metric': 'logloss'}. Best is trial 62 with value: 0.46551775661574996.\u001b[0m\n",
      "/home/tunguz/.local/lib/python3.8/site-packages/xgboost/dask.py:884: RuntimeWarning: coroutine 'Client._wait_for_workers' was never awaited\n",
      "  client.wait_for_workers(n_workers)\n",
      "/home/tunguz/.local/lib/python3.8/site-packages/distributed/worker_state_machine.py:3649: FutureWarning: The `Worker.nthreads` attribute has been moved to `Worker.state.nthreads`\n",
      "  warnings.warn(\n",
      "/home/tunguz/.local/lib/python3.8/site-packages/distributed/worker_state_machine.py:3649: FutureWarning: The `Worker.nthreads` attribute has been moved to `Worker.state.nthreads`\n",
      "  warnings.warn(\n",
      "/home/tunguz/.local/lib/python3.8/site-packages/distributed/worker_state_machine.py:3649: FutureWarning: The `Worker.nthreads` attribute has been moved to `Worker.state.nthreads`\n",
      "  warnings.warn(\n",
      "/home/tunguz/.local/lib/python3.8/site-packages/distributed/worker_state_machine.py:3649: FutureWarning: The `Worker.nthreads` attribute has been moved to `Worker.state.nthreads`\n",
      "  warnings.warn(\n",
      "/home/tunguz/.local/lib/python3.8/site-packages/distributed/worker_state_machine.py:3649: FutureWarning: The `Worker.nthreads` attribute has been moved to `Worker.state.nthreads`\n",
      "  warnings.warn(\n",
      "/home/tunguz/.local/lib/python3.8/site-packages/distributed/worker_state_machine.py:3649: FutureWarning: The `Worker.nthreads` attribute has been moved to `Worker.state.nthreads`\n",
      "  warnings.warn(\n",
      "/home/tunguz/.local/lib/python3.8/site-packages/distributed/worker_state_machine.py:3649: FutureWarning: The `Worker.nthreads` attribute has been moved to `Worker.state.nthreads`\n",
      "  warnings.warn(\n",
      "/home/tunguz/.local/lib/python3.8/site-packages/distributed/worker_state_machine.py:3649: FutureWarning: The `Worker.nthreads` attribute has been moved to `Worker.state.nthreads`\n",
      "  warnings.warn(\n",
      "/home/tunguz/.local/lib/python3.8/site-packages/distributed/worker_state_machine.py:3649: FutureWarning: The `Worker.nthreads` attribute has been moved to `Worker.state.nthreads`\n",
      "  warnings.warn(\n",
      "/home/tunguz/.local/lib/python3.8/site-packages/distributed/worker_state_machine.py:3649: FutureWarning: The `Worker.nthreads` attribute has been moved to `Worker.state.nthreads`\n",
      "  warnings.warn(\n",
      "/home/tunguz/.local/lib/python3.8/site-packages/distributed/worker_state_machine.py:3649: FutureWarning: The `Worker.nthreads` attribute has been moved to `Worker.state.nthreads`\n",
      "  warnings.warn(\n",
      "/home/tunguz/.local/lib/python3.8/site-packages/distributed/worker_state_machine.py:3649: FutureWarning: The `Worker.nthreads` attribute has been moved to `Worker.state.nthreads`\n",
      "  warnings.warn(\n",
      "/home/tunguz/.local/lib/python3.8/site-packages/distributed/worker_state_machine.py:3649: FutureWarning: The `Worker.nthreads` attribute has been moved to `Worker.state.nthreads`\n",
      "  warnings.warn(\n",
      "/home/tunguz/.local/lib/python3.8/site-packages/distributed/worker_state_machine.py:3649: FutureWarning: The `Worker.nthreads` attribute has been moved to `Worker.state.nthreads`\n",
      "  warnings.warn(\n",
      "/home/tunguz/.local/lib/python3.8/site-packages/distributed/worker_state_machine.py:3649: FutureWarning: The `Worker.nthreads` attribute has been moved to `Worker.state.nthreads`\n",
      "  warnings.warn(\n",
      "/home/tunguz/.local/lib/python3.8/site-packages/distributed/worker_state_machine.py:3649: FutureWarning: The `Worker.nthreads` attribute has been moved to `Worker.state.nthreads`\n",
      "  warnings.warn(\n",
      "/home/tunguz/.local/lib/python3.8/site-packages/distributed/worker_state_machine.py:3649: FutureWarning: The `Worker.nthreads` attribute has been moved to `Worker.state.nthreads`\n",
      "  warnings.warn(\n",
      "/home/tunguz/.local/lib/python3.8/site-packages/distributed/worker_state_machine.py:3649: FutureWarning: The `Worker.nthreads` attribute has been moved to `Worker.state.nthreads`\n",
      "  warnings.warn(\n",
      "/home/tunguz/.local/lib/python3.8/site-packages/distributed/worker_state_machine.py:3649: FutureWarning: The `Worker.nthreads` attribute has been moved to `Worker.state.nthreads`\n",
      "  warnings.warn(\n",
      "/home/tunguz/.local/lib/python3.8/site-packages/distributed/worker_state_machine.py:3649: FutureWarning: The `Worker.nthreads` attribute has been moved to `Worker.state.nthreads`\n",
      "  warnings.warn(\n",
      "/home/tunguz/.local/lib/python3.8/site-packages/distributed/worker_state_machine.py:3649: FutureWarning: The `Worker.nthreads` attribute has been moved to `Worker.state.nthreads`\n",
      "  warnings.warn(\n",
      "/home/tunguz/.local/lib/python3.8/site-packages/distributed/worker_state_machine.py:3649: FutureWarning: The `Worker.nthreads` attribute has been moved to `Worker.state.nthreads`\n",
      "  warnings.warn(\n",
      "/home/tunguz/.local/lib/python3.8/site-packages/distributed/worker_state_machine.py:3649: FutureWarning: The `Worker.nthreads` attribute has been moved to `Worker.state.nthreads`\n",
      "  warnings.warn(\n",
      "/home/tunguz/.local/lib/python3.8/site-packages/distributed/worker_state_machine.py:3649: FutureWarning: The `Worker.nthreads` attribute has been moved to `Worker.state.nthreads`\n",
      "  warnings.warn(\n",
      "/home/tunguz/.local/lib/python3.8/site-packages/distributed/worker_state_machine.py:3649: FutureWarning: The `Worker.nthreads` attribute has been moved to `Worker.state.nthreads`\n",
      "  warnings.warn(\n",
      "/home/tunguz/.local/lib/python3.8/site-packages/distributed/worker_state_machine.py:3649: FutureWarning: The `Worker.nthreads` attribute has been moved to `Worker.state.nthreads`\n",
      "  warnings.warn(\n",
      "/home/tunguz/.local/lib/python3.8/site-packages/distributed/worker_state_machine.py:3649: FutureWarning: The `Worker.nthreads` attribute has been moved to `Worker.state.nthreads`\n",
      "  warnings.warn(\n",
      "/home/tunguz/.local/lib/python3.8/site-packages/distributed/worker_state_machine.py:3649: FutureWarning: The `Worker.nthreads` attribute has been moved to `Worker.state.nthreads`\n",
      "  warnings.warn(\n",
      "/home/tunguz/.local/lib/python3.8/site-packages/distributed/worker_state_machine.py:3649: FutureWarning: The `Worker.nthreads` attribute has been moved to `Worker.state.nthreads`\n",
      "  warnings.warn(\n",
      "/home/tunguz/.local/lib/python3.8/site-packages/distributed/worker_state_machine.py:3649: FutureWarning: The `Worker.nthreads` attribute has been moved to `Worker.state.nthreads`\n",
      "  warnings.warn(\n",
      "/home/tunguz/.local/lib/python3.8/site-packages/distributed/worker_state_machine.py:3649: FutureWarning: The `Worker.nthreads` attribute has been moved to `Worker.state.nthreads`\n",
      "  warnings.warn(\n",
      "/home/tunguz/.local/lib/python3.8/site-packages/distributed/worker_state_machine.py:3649: FutureWarning: The `Worker.nthreads` attribute has been moved to `Worker.state.nthreads`\n",
      "  warnings.warn(\n",
      "/home/tunguz/.local/lib/python3.8/site-packages/distributed/worker_state_machine.py:3649: FutureWarning: The `Worker.nthreads` attribute has been moved to `Worker.state.nthreads`\n",
      "  warnings.warn(\n",
      "/home/tunguz/.local/lib/python3.8/site-packages/distributed/worker_state_machine.py:3649: FutureWarning: The `Worker.nthreads` attribute has been moved to `Worker.state.nthreads`\n",
      "  warnings.warn(\n",
      "/home/tunguz/.local/lib/python3.8/site-packages/distributed/worker_state_machine.py:3649: FutureWarning: The `Worker.nthreads` attribute has been moved to `Worker.state.nthreads`\n",
      "  warnings.warn(\n",
      "/home/tunguz/.local/lib/python3.8/site-packages/distributed/worker_state_machine.py:3649: FutureWarning: The `Worker.nthreads` attribute has been moved to `Worker.state.nthreads`\n",
      "  warnings.warn(\n",
      "/home/tunguz/.local/lib/python3.8/site-packages/distributed/worker_state_machine.py:3649: FutureWarning: The `Worker.nthreads` attribute has been moved to `Worker.state.nthreads`\n",
      "  warnings.warn(\n",
      "/home/tunguz/.local/lib/python3.8/site-packages/distributed/worker_state_machine.py:3649: FutureWarning: The `Worker.nthreads` attribute has been moved to `Worker.state.nthreads`\n",
      "  warnings.warn(\n",
      "/home/tunguz/.local/lib/python3.8/site-packages/distributed/worker_state_machine.py:3649: FutureWarning: The `Worker.nthreads` attribute has been moved to `Worker.state.nthreads`\n",
      "  warnings.warn(\n",
      "/home/tunguz/.local/lib/python3.8/site-packages/distributed/worker_state_machine.py:3649: FutureWarning: The `Worker.nthreads` attribute has been moved to `Worker.state.nthreads`\n",
      "  warnings.warn(\n",
      "/home/tunguz/.local/lib/python3.8/site-packages/distributed/worker_state_machine.py:3649: FutureWarning: The `Worker.nthreads` attribute has been moved to `Worker.state.nthreads`\n",
      "  warnings.warn(\n",
      "[20:50:08] task [xgboost.dask-0]:tcp://127.0.0.1:40665 got new rank 0\n",
      "\u001b[32m[I 2022-12-12 20:53:58,699]\u001b[0m Trial 82 finished with value: 0.4788614528451914 and parameters: {'objective': 'multi:softprob', 'tree_method': 'gpu_hist', 'lambda': 0.0106121844096121, 'alpha': 0.8359597898587497, 'colsample_bytree': 0.8364625000075849, 'subsample': 0.5978454299664822, 'learning_rate': 0.024758701681502016, 'max_depth': 17, 'min_child_weight': 1, 'eval_metric': 'logloss'}. Best is trial 62 with value: 0.46551775661574996.\u001b[0m\n",
      "/home/tunguz/.local/lib/python3.8/site-packages/xgboost/dask.py:884: RuntimeWarning: coroutine 'Client._wait_for_workers' was never awaited\n",
      "  client.wait_for_workers(n_workers)\n",
      "[20:53:58] task [xgboost.dask-0]:tcp://127.0.0.1:40665 got new rank 0\n",
      "\u001b[32m[I 2022-12-12 20:56:44,661]\u001b[0m Trial 83 finished with value: 0.49592482669293864 and parameters: {'objective': 'multi:softprob', 'tree_method': 'gpu_hist', 'lambda': 0.007652930039168406, 'alpha': 0.0017094156125639585, 'colsample_bytree': 0.7172219350677983, 'subsample': 0.4886423104343749, 'learning_rate': 0.02141002307766908, 'max_depth': 20, 'min_child_weight': 24, 'eval_metric': 'logloss'}. Best is trial 62 with value: 0.46551775661574996.\u001b[0m\n",
      "/home/tunguz/.local/lib/python3.8/site-packages/xgboost/dask.py:884: RuntimeWarning: coroutine 'Client._wait_for_workers' was never awaited\n",
      "  client.wait_for_workers(n_workers)\n",
      "[20:56:44] task [xgboost.dask-0]:tcp://127.0.0.1:40665 got new rank 0\n",
      "\u001b[32m[I 2022-12-12 20:58:22,061]\u001b[0m Trial 84 finished with value: 0.5086935059031382 and parameters: {'objective': 'multi:softprob', 'tree_method': 'gpu_hist', 'lambda': 0.012822890119756361, 'alpha': 7.002780611611687, 'colsample_bytree': 0.8150035988321359, 'subsample': 0.6778921343897061, 'learning_rate': 0.016204049067979044, 'max_depth': 18, 'min_child_weight': 11, 'eval_metric': 'logloss'}. Best is trial 62 with value: 0.46551775661574996.\u001b[0m\n",
      "/home/tunguz/.local/lib/python3.8/site-packages/xgboost/dask.py:884: RuntimeWarning: coroutine 'Client._wait_for_workers' was never awaited\n",
      "  client.wait_for_workers(n_workers)\n",
      "[20:58:22] task [xgboost.dask-0]:tcp://127.0.0.1:40665 got new rank 0\n",
      "\u001b[32m[I 2022-12-12 21:03:06,503]\u001b[0m Trial 85 finished with value: 0.48154121977609027 and parameters: {'objective': 'multi:softprob', 'tree_method': 'gpu_hist', 'lambda': 0.04036621000364268, 'alpha': 1.6449978382199701, 'colsample_bytree': 0.7517286641564108, 'subsample': 0.6471914750040405, 'learning_rate': 0.03408668965288763, 'max_depth': 21, 'min_child_weight': 23, 'eval_metric': 'logloss'}. Best is trial 62 with value: 0.46551775661574996.\u001b[0m\n",
      "/home/tunguz/.local/lib/python3.8/site-packages/xgboost/dask.py:884: RuntimeWarning: coroutine 'Client._wait_for_workers' was never awaited\n",
      "  client.wait_for_workers(n_workers)\n",
      "[21:03:06] task [xgboost.dask-0]:tcp://127.0.0.1:40665 got new rank 0\n",
      "\u001b[32m[I 2022-12-12 21:07:40,384]\u001b[0m Trial 86 finished with value: 0.5040382655675738 and parameters: {'objective': 'multi:softprob', 'tree_method': 'gpu_hist', 'lambda': 0.026685142791491864, 'alpha': 0.23941489478829955, 'colsample_bytree': 0.8736150194351147, 'subsample': 0.6187162433580077, 'learning_rate': 0.0286802383003449, 'max_depth': 19, 'min_child_weight': 1, 'eval_metric': 'logloss'}. Best is trial 62 with value: 0.46551775661574996.\u001b[0m\n",
      "/home/tunguz/.local/lib/python3.8/site-packages/xgboost/dask.py:884: RuntimeWarning: coroutine 'Client._wait_for_workers' was never awaited\n",
      "  client.wait_for_workers(n_workers)\n",
      "[21:07:40] task [xgboost.dask-0]:tcp://127.0.0.1:40665 got new rank 0\n",
      "\u001b[32m[I 2022-12-12 21:12:48,595]\u001b[0m Trial 87 finished with value: 0.4880052367994082 and parameters: {'objective': 'multi:softprob', 'tree_method': 'gpu_hist', 'lambda': 0.005198736873180932, 'alpha': 3.3046685685046233, 'colsample_bytree': 0.6841535132568813, 'subsample': 0.5878714143296887, 'learning_rate': 0.019126072742852582, 'max_depth': 21, 'min_child_weight': 11, 'eval_metric': 'logloss'}. Best is trial 62 with value: 0.46551775661574996.\u001b[0m\n",
      "/home/tunguz/.local/lib/python3.8/site-packages/xgboost/dask.py:884: RuntimeWarning: coroutine 'Client._wait_for_workers' was never awaited\n",
      "  client.wait_for_workers(n_workers)\n",
      "[21:12:48] task [xgboost.dask-0]:tcp://127.0.0.1:40665 got new rank 0\n",
      "\u001b[32m[I 2022-12-12 21:13:54,892]\u001b[0m Trial 88 finished with value: 0.49438899691458005 and parameters: {'objective': 'multi:softprob', 'tree_method': 'gpu_hist', 'lambda': 0.0639297217279732, 'alpha': 1.0947241226787165, 'colsample_bytree': 0.8498617085998528, 'subsample': 0.5587000973586873, 'learning_rate': 0.03968319917449573, 'max_depth': 18, 'min_child_weight': 35, 'eval_metric': 'logloss'}. Best is trial 62 with value: 0.46551775661574996.\u001b[0m\n",
      "/home/tunguz/.local/lib/python3.8/site-packages/xgboost/dask.py:884: RuntimeWarning: coroutine 'Client._wait_for_workers' was never awaited\n",
      "  client.wait_for_workers(n_workers)\n",
      "[21:13:54] task [xgboost.dask-0]:tcp://127.0.0.1:40665 got new rank 0\n",
      "\u001b[32m[I 2022-12-12 21:16:10,459]\u001b[0m Trial 89 finished with value: 0.7282614405026138 and parameters: {'objective': 'multi:softprob', 'tree_method': 'gpu_hist', 'lambda': 3.001151932987337, 'alpha': 0.600216986851191, 'colsample_bytree': 0.7780697079844544, 'subsample': 0.6051906991113015, 'learning_rate': 0.009059064081601445, 'max_depth': 20, 'min_child_weight': 231, 'eval_metric': 'logloss'}. Best is trial 62 with value: 0.46551775661574996.\u001b[0m\n",
      "/home/tunguz/.local/lib/python3.8/site-packages/xgboost/dask.py:884: RuntimeWarning: coroutine 'Client._wait_for_workers' was never awaited\n",
      "  client.wait_for_workers(n_workers)\n",
      "[21:16:10] task [xgboost.dask-0]:tcp://127.0.0.1:40665 got new rank 0\n",
      "\u001b[32m[I 2022-12-12 21:24:32,918]\u001b[0m Trial 90 finished with value: 0.5226129816544897 and parameters: {'objective': 'multi:softprob', 'tree_method': 'gpu_hist', 'lambda': 0.011887916452031844, 'alpha': 0.7750538364651867, 'colsample_bytree': 0.7235981071468386, 'subsample': 0.5345070264945495, 'learning_rate': 0.02288370549996602, 'max_depth': 22, 'min_child_weight': 47, 'eval_metric': 'logloss'}. Best is trial 62 with value: 0.46551775661574996.\u001b[0m\n",
      "/home/tunguz/.local/lib/python3.8/site-packages/xgboost/dask.py:884: RuntimeWarning: coroutine 'Client._wait_for_workers' was never awaited\n",
      "  client.wait_for_workers(n_workers)\n",
      "[21:24:32] task [xgboost.dask-0]:tcp://127.0.0.1:40665 got new rank 0\n",
      "\u001b[32m[I 2022-12-12 21:27:37,872]\u001b[0m Trial 91 finished with value: 0.4710836679494339 and parameters: {'objective': 'multi:softprob', 'tree_method': 'gpu_hist', 'lambda': 0.006776434757844451, 'alpha': 0.9382137040946187, 'colsample_bytree': 0.6641428806459105, 'subsample': 0.6668511056929128, 'learning_rate': 0.025102402997626384, 'max_depth': 20, 'min_child_weight': 14, 'eval_metric': 'logloss'}. Best is trial 62 with value: 0.46551775661574996.\u001b[0m\n",
      "/home/tunguz/.local/lib/python3.8/site-packages/xgboost/dask.py:884: RuntimeWarning: coroutine 'Client._wait_for_workers' was never awaited\n",
      "  client.wait_for_workers(n_workers)\n",
      "[21:27:37] task [xgboost.dask-0]:tcp://127.0.0.1:40665 got new rank 0\n",
      "\u001b[32m[I 2022-12-12 21:29:28,422]\u001b[0m Trial 92 finished with value: 0.4815745503942743 and parameters: {'objective': 'multi:softprob', 'tree_method': 'gpu_hist', 'lambda': 0.004882364711092067, 'alpha': 1.2838101730774496, 'colsample_bytree': 0.8056318434276476, 'subsample': 0.6277308245029655, 'learning_rate': 0.03319469908783495, 'max_depth': 19, 'min_child_weight': 23, 'eval_metric': 'logloss'}. Best is trial 62 with value: 0.46551775661574996.\u001b[0m\n",
      "/home/tunguz/.local/lib/python3.8/site-packages/xgboost/dask.py:884: RuntimeWarning: coroutine 'Client._wait_for_workers' was never awaited\n",
      "  client.wait_for_workers(n_workers)\n",
      "[21:29:28] task [xgboost.dask-0]:tcp://127.0.0.1:40665 got new rank 0\n",
      "\u001b[32m[I 2022-12-12 21:33:02,929]\u001b[0m Trial 93 finished with value: 0.4631108130956234 and parameters: {'objective': 'multi:softprob', 'tree_method': 'gpu_hist', 'lambda': 0.003535658536203966, 'alpha': 0.3700613064637976, 'colsample_bytree': 0.6605986441114581, 'subsample': 0.6351546013190558, 'learning_rate': 0.023875179448246714, 'max_depth': 20, 'min_child_weight': 7, 'eval_metric': 'logloss'}. Best is trial 93 with value: 0.4631108130956234.\u001b[0m\n",
      "/home/tunguz/.local/lib/python3.8/site-packages/xgboost/dask.py:884: RuntimeWarning: coroutine 'Client._wait_for_workers' was never awaited\n",
      "  client.wait_for_workers(n_workers)\n",
      "[21:33:02] task [xgboost.dask-0]:tcp://127.0.0.1:40665 got new rank 0\n",
      "\u001b[32m[I 2022-12-12 21:34:33,191]\u001b[0m Trial 94 finished with value: 0.46558329569383133 and parameters: {'objective': 'multi:softprob', 'tree_method': 'gpu_hist', 'lambda': 0.008677450858488731, 'alpha': 0.4092418391478396, 'colsample_bytree': 0.7002293270453213, 'subsample': 0.6500087277309858, 'learning_rate': 0.029054295974839568, 'max_depth': 17, 'min_child_weight': 8, 'eval_metric': 'logloss'}. Best is trial 93 with value: 0.4631108130956234.\u001b[0m\n",
      "/home/tunguz/.local/lib/python3.8/site-packages/xgboost/dask.py:884: RuntimeWarning: coroutine 'Client._wait_for_workers' was never awaited\n",
      "  client.wait_for_workers(n_workers)\n",
      "[21:34:33] task [xgboost.dask-0]:tcp://127.0.0.1:40665 got new rank 0\n",
      "\u001b[32m[I 2022-12-12 21:35:41,666]\u001b[0m Trial 95 finished with value: 0.4783629569681668 and parameters: {'objective': 'multi:softprob', 'tree_method': 'gpu_hist', 'lambda': 0.0033724772021539655, 'alpha': 0.5039411658222016, 'colsample_bytree': 0.7016447759190794, 'subsample': 0.7054315720328569, 'learning_rate': 0.020109195197213443, 'max_depth': 17, 'min_child_weight': 19, 'eval_metric': 'logloss'}. Best is trial 93 with value: 0.4631108130956234.\u001b[0m\n",
      "/home/tunguz/.local/lib/python3.8/site-packages/xgboost/dask.py:884: RuntimeWarning: coroutine 'Client._wait_for_workers' was never awaited\n",
      "  client.wait_for_workers(n_workers)\n",
      "[21:35:41] task [xgboost.dask-0]:tcp://127.0.0.1:40665 got new rank 0\n",
      "\u001b[32m[I 2022-12-12 21:44:18,398]\u001b[0m Trial 96 finished with value: 0.5002575005232686 and parameters: {'objective': 'multi:softprob', 'tree_method': 'gpu_hist', 'lambda': 0.0023251569490759095, 'alpha': 0.424517281079195, 'colsample_bytree': 0.6605779796725054, 'subsample': 0.6830029485827179, 'learning_rate': 0.017239497882274413, 'max_depth': 22, 'min_child_weight': 31, 'eval_metric': 'logloss'}. Best is trial 93 with value: 0.4631108130956234.\u001b[0m\n",
      "/home/tunguz/.local/lib/python3.8/site-packages/xgboost/dask.py:884: RuntimeWarning: coroutine 'Client._wait_for_workers' was never awaited\n",
      "  client.wait_for_workers(n_workers)\n",
      "[21:44:18] task [xgboost.dask-0]:tcp://127.0.0.1:40665 got new rank 0\n",
      "\u001b[32m[I 2022-12-12 21:49:38,004]\u001b[0m Trial 97 finished with value: 0.47578300119781874 and parameters: {'objective': 'multi:softprob', 'tree_method': 'gpu_hist', 'lambda': 0.008560562629574475, 'alpha': 0.6433258517495665, 'colsample_bytree': 0.5887134329277376, 'subsample': 0.5700155132378107, 'learning_rate': 0.044754457902000014, 'max_depth': 21, 'min_child_weight': 6, 'eval_metric': 'logloss'}. Best is trial 93 with value: 0.4631108130956234.\u001b[0m\n",
      "/home/tunguz/.local/lib/python3.8/site-packages/xgboost/dask.py:884: RuntimeWarning: coroutine 'Client._wait_for_workers' was never awaited\n",
      "  client.wait_for_workers(n_workers)\n",
      "[21:49:38] task [xgboost.dask-0]:tcp://127.0.0.1:40665 got new rank 0\n",
      "\u001b[32m[I 2022-12-12 21:51:31,729]\u001b[0m Trial 98 finished with value: 0.4731119561844195 and parameters: {'objective': 'multi:softprob', 'tree_method': 'gpu_hist', 'lambda': 0.00373653042440085, 'alpha': 0.36661571403249094, 'colsample_bytree': 0.6238038303890638, 'subsample': 0.5871516012509097, 'learning_rate': 0.03628932290083044, 'max_depth': 18, 'min_child_weight': 6, 'eval_metric': 'logloss'}. Best is trial 93 with value: 0.4631108130956234.\u001b[0m\n",
      "/home/tunguz/.local/lib/python3.8/site-packages/xgboost/dask.py:884: RuntimeWarning: coroutine 'Client._wait_for_workers' was never awaited\n",
      "  client.wait_for_workers(n_workers)\n",
      "[21:51:31] task [xgboost.dask-0]:tcp://127.0.0.1:40665 got new rank 0\n",
      "\u001b[32m[I 2022-12-12 21:54:11,670]\u001b[0m Trial 99 finished with value: 0.498885354915348 and parameters: {'objective': 'multi:softprob', 'tree_method': 'gpu_hist', 'lambda': 0.01766966589032591, 'alpha': 0.3380913558991552, 'colsample_bytree': 0.9008127378305167, 'subsample': 0.6568985772061545, 'learning_rate': 0.027586304204209034, 'max_depth': 20, 'min_child_weight': 41, 'eval_metric': 'logloss'}. Best is trial 93 with value: 0.4631108130956234.\u001b[0m\n",
      "/home/tunguz/.local/lib/python3.8/site-packages/xgboost/dask.py:884: RuntimeWarning: coroutine 'Client._wait_for_workers' was never awaited\n",
      "  client.wait_for_workers(n_workers)\n",
      "[21:54:11] task [xgboost.dask-0]:tcp://127.0.0.1:40665 got new rank 0\n",
      "\u001b[32m[I 2022-12-12 21:55:07,082]\u001b[0m Trial 100 finished with value: 0.4763143672055407 and parameters: {'objective': 'multi:softprob', 'tree_method': 'gpu_hist', 'lambda': 0.001489138189872544, 'alpha': 0.17296627367014944, 'colsample_bytree': 0.6828583909476845, 'subsample': 0.6327629554633017, 'learning_rate': 0.022782486166486145, 'max_depth': 15, 'min_child_weight': 16, 'eval_metric': 'logloss'}. Best is trial 93 with value: 0.4631108130956234.\u001b[0m\n",
      "/home/tunguz/.local/lib/python3.8/site-packages/xgboost/dask.py:884: RuntimeWarning: coroutine 'Client._wait_for_workers' was never awaited\n",
      "  client.wait_for_workers(n_workers)\n",
      "[21:55:07] task [xgboost.dask-0]:tcp://127.0.0.1:40665 got new rank 0\n",
      "\u001b[32m[I 2022-12-12 21:59:02,780]\u001b[0m Trial 101 finished with value: 0.47097399050405325 and parameters: {'objective': 'multi:softprob', 'tree_method': 'gpu_hist', 'lambda': 0.006304610214096682, 'alpha': 1.9071527051981105, 'colsample_bytree': 0.7488910263033002, 'subsample': 0.6498958429551215, 'learning_rate': 0.030242993872634877, 'max_depth': 19, 'min_child_weight': 1, 'eval_metric': 'logloss'}. Best is trial 93 with value: 0.4631108130956234.\u001b[0m\n"
     ]
    },
    {
     "name": "stdout",
     "output_type": "stream",
     "text": [
      "CPU times: user 17min 29s, sys: 8min 45s, total: 26min 15s\n",
      "Wall time: 11h 44min 42s\n"
     ]
    }
   ],
   "source": [
    "%%time\n",
    "study.optimize(objective, n_trials=100)"
   ]
  },
  {
   "cell_type": "code",
   "execution_count": 16,
   "metadata": {},
   "outputs": [
    {
     "data": {
      "text/plain": [
       "{'objective': 'multi:softprob',\n",
       " 'tree_method': 'gpu_hist',\n",
       " 'lambda': 0.003535658536203966,\n",
       " 'alpha': 0.3700613064637976,\n",
       " 'colsample_bytree': 0.6605986441114581,\n",
       " 'subsample': 0.6351546013190558,\n",
       " 'learning_rate': 0.023875179448246714,\n",
       " 'max_depth': 20,\n",
       " 'min_child_weight': 7,\n",
       " 'eval_metric': 'logloss'}"
      ]
     },
     "execution_count": 16,
     "metadata": {},
     "output_type": "execute_result"
    }
   ],
   "source": [
    "study.best_trial.params"
   ]
  },
  {
   "cell_type": "code",
   "execution_count": 18,
   "metadata": {},
   "outputs": [],
   "source": [
    "real_test_x = dd.read_csv('../input/otto_ii/xgtest.csv')"
   ]
  },
  {
   "cell_type": "code",
   "execution_count": 19,
   "metadata": {},
   "outputs": [],
   "source": [
    "real_test_y = real_test_x['target']\n",
    "real_test_x = real_test_x[real_test_x.columns.difference(['target'])]"
   ]
  },
  {
   "cell_type": "code",
   "execution_count": 20,
   "metadata": {},
   "outputs": [],
   "source": [
    "drealtest = xgb.dask.DaskDMatrix(client, real_test_x, real_test_y)"
   ]
  },
  {
   "cell_type": "code",
   "execution_count": 24,
   "metadata": {},
   "outputs": [
    {
     "name": "stderr",
     "output_type": "stream",
     "text": [
      "[05:36:36] task [xgboost.dask-0]:tcp://127.0.0.1:40665 got new rank 0\n"
     ]
    },
    {
     "data": {
      "text/plain": [
       "0.4460577599356624"
      ]
     },
     "execution_count": 24,
     "metadata": {},
     "output_type": "execute_result"
    }
   ],
   "source": [
    "params = study.best_trial.params\n",
    "params['num_class']= 9\n",
    "\n",
    "output = xgb.dask.train(client, params, dtrain, num_round)\n",
    "    \n",
    "booster = output['booster']  # booster is the trained model\n",
    "booster.set_param({'predictor': 'gpu_predictor'})\n",
    "\n",
    "\n",
    "predictions = xgb.dask.predict(client, booster, drealtest)\n",
    "    \n",
    "predictions = predictions.compute()\n",
    "\n",
    "log_loss(real_test_y, predictions)"
   ]
  },
  {
   "cell_type": "code",
   "execution_count": 25,
   "metadata": {},
   "outputs": [
    {
     "name": "stderr",
     "output_type": "stream",
     "text": [
      "/home/tunguz/.local/lib/python3.8/site-packages/xgboost/dask.py:884: RuntimeWarning: coroutine 'Client._wait_for_workers' was never awaited\n",
      "  client.wait_for_workers(n_workers)\n",
      "[05:40:10] task [xgboost.dask-0]:tcp://127.0.0.1:40665 got new rank 0\n"
     ]
    },
    {
     "name": "stdout",
     "output_type": "stream",
     "text": [
      "CPU times: user 5.5 s, sys: 3.26 s, total: 8.76 s\n",
      "Wall time: 3min 33s\n"
     ]
    },
    {
     "data": {
      "text/plain": [
       "0.44607520641023396"
      ]
     },
     "execution_count": 25,
     "metadata": {},
     "output_type": "execute_result"
    }
   ],
   "source": [
    "%%time\n",
    "params = study.best_trial.params\n",
    "params['seed'] = 2022\n",
    "params['num_class']= 9\n",
    "\n",
    "output = xgb.dask.train(client, params, dtrain, num_round)\n",
    "    \n",
    "booster = output['booster']  # booster is the trained model\n",
    "booster.set_param({'predictor': 'gpu_predictor'})\n",
    "\n",
    "predictions = xgb.dask.predict(client, booster, drealtest)\n",
    "    \n",
    "predictions = predictions.compute()\n",
    "\n",
    "log_loss(real_test_y, predictions)"
   ]
  },
  {
   "cell_type": "code",
   "execution_count": 26,
   "metadata": {},
   "outputs": [
    {
     "name": "stdout",
     "output_type": "stream",
     "text": [
      "0\n"
     ]
    },
    {
     "name": "stderr",
     "output_type": "stream",
     "text": [
      "/home/tunguz/.local/lib/python3.8/site-packages/xgboost/dask.py:884: RuntimeWarning: coroutine 'Client._wait_for_workers' was never awaited\n",
      "  client.wait_for_workers(n_workers)\n",
      "[05:43:44] task [xgboost.dask-0]:tcp://127.0.0.1:40665 got new rank 0\n"
     ]
    },
    {
     "name": "stdout",
     "output_type": "stream",
     "text": [
      "0.44471311337813957\n",
      "1\n"
     ]
    },
    {
     "name": "stderr",
     "output_type": "stream",
     "text": [
      "/home/tunguz/.local/lib/python3.8/site-packages/xgboost/dask.py:884: RuntimeWarning: coroutine 'Client._wait_for_workers' was never awaited\n",
      "  client.wait_for_workers(n_workers)\n",
      "[05:47:18] task [xgboost.dask-0]:tcp://127.0.0.1:40665 got new rank 0\n"
     ]
    },
    {
     "name": "stdout",
     "output_type": "stream",
     "text": [
      "0.44479705036477435\n",
      "2\n"
     ]
    },
    {
     "name": "stderr",
     "output_type": "stream",
     "text": [
      "/home/tunguz/.local/lib/python3.8/site-packages/xgboost/dask.py:884: RuntimeWarning: coroutine 'Client._wait_for_workers' was never awaited\n",
      "  client.wait_for_workers(n_workers)\n",
      "[05:50:52] task [xgboost.dask-0]:tcp://127.0.0.1:40665 got new rank 0\n"
     ]
    },
    {
     "name": "stdout",
     "output_type": "stream",
     "text": [
      "0.44513801684693344\n",
      "3\n"
     ]
    },
    {
     "name": "stderr",
     "output_type": "stream",
     "text": [
      "/home/tunguz/.local/lib/python3.8/site-packages/xgboost/dask.py:884: RuntimeWarning: coroutine 'Client._wait_for_workers' was never awaited\n",
      "  client.wait_for_workers(n_workers)\n",
      "[05:54:29] task [xgboost.dask-0]:tcp://127.0.0.1:40665 got new rank 0\n"
     ]
    },
    {
     "name": "stdout",
     "output_type": "stream",
     "text": [
      "0.44591324115388925\n",
      "4\n"
     ]
    },
    {
     "name": "stderr",
     "output_type": "stream",
     "text": [
      "/home/tunguz/.local/lib/python3.8/site-packages/xgboost/dask.py:884: RuntimeWarning: coroutine 'Client._wait_for_workers' was never awaited\n",
      "  client.wait_for_workers(n_workers)\n",
      "[05:58:03] task [xgboost.dask-0]:tcp://127.0.0.1:40665 got new rank 0\n"
     ]
    },
    {
     "name": "stdout",
     "output_type": "stream",
     "text": [
      "0.4463465332639558\n",
      "5\n"
     ]
    },
    {
     "name": "stderr",
     "output_type": "stream",
     "text": [
      "/home/tunguz/.local/lib/python3.8/site-packages/xgboost/dask.py:884: RuntimeWarning: coroutine 'Client._wait_for_workers' was never awaited\n",
      "  client.wait_for_workers(n_workers)\n",
      "[06:01:37] task [xgboost.dask-0]:tcp://127.0.0.1:40665 got new rank 0\n"
     ]
    },
    {
     "name": "stdout",
     "output_type": "stream",
     "text": [
      "0.4443313639509529\n",
      "6\n"
     ]
    },
    {
     "name": "stderr",
     "output_type": "stream",
     "text": [
      "/home/tunguz/.local/lib/python3.8/site-packages/xgboost/dask.py:884: RuntimeWarning: coroutine 'Client._wait_for_workers' was never awaited\n",
      "  client.wait_for_workers(n_workers)\n",
      "[06:05:11] task [xgboost.dask-0]:tcp://127.0.0.1:40665 got new rank 0\n"
     ]
    },
    {
     "name": "stdout",
     "output_type": "stream",
     "text": [
      "0.44606039330423625\n",
      "7\n"
     ]
    },
    {
     "name": "stderr",
     "output_type": "stream",
     "text": [
      "/home/tunguz/.local/lib/python3.8/site-packages/xgboost/dask.py:884: RuntimeWarning: coroutine 'Client._wait_for_workers' was never awaited\n",
      "  client.wait_for_workers(n_workers)\n",
      "[06:08:45] task [xgboost.dask-0]:tcp://127.0.0.1:40665 got new rank 0\n"
     ]
    },
    {
     "name": "stdout",
     "output_type": "stream",
     "text": [
      "0.4443926129003217\n",
      "8\n"
     ]
    },
    {
     "name": "stderr",
     "output_type": "stream",
     "text": [
      "/home/tunguz/.local/lib/python3.8/site-packages/xgboost/dask.py:884: RuntimeWarning: coroutine 'Client._wait_for_workers' was never awaited\n",
      "  client.wait_for_workers(n_workers)\n",
      "[06:12:19] task [xgboost.dask-0]:tcp://127.0.0.1:40665 got new rank 0\n"
     ]
    },
    {
     "name": "stdout",
     "output_type": "stream",
     "text": [
      "0.4454616336170991\n",
      "9\n"
     ]
    },
    {
     "name": "stderr",
     "output_type": "stream",
     "text": [
      "/home/tunguz/.local/lib/python3.8/site-packages/xgboost/dask.py:884: RuntimeWarning: coroutine 'Client._wait_for_workers' was never awaited\n",
      "  client.wait_for_workers(n_workers)\n",
      "[06:15:52] task [xgboost.dask-0]:tcp://127.0.0.1:40665 got new rank 0\n"
     ]
    },
    {
     "name": "stdout",
     "output_type": "stream",
     "text": [
      "0.44588380348101236\n",
      "10\n"
     ]
    },
    {
     "name": "stderr",
     "output_type": "stream",
     "text": [
      "/home/tunguz/.local/lib/python3.8/site-packages/xgboost/dask.py:884: RuntimeWarning: coroutine 'Client._wait_for_workers' was never awaited\n",
      "  client.wait_for_workers(n_workers)\n",
      "[06:19:26] task [xgboost.dask-0]:tcp://127.0.0.1:40665 got new rank 0\n"
     ]
    },
    {
     "name": "stdout",
     "output_type": "stream",
     "text": [
      "0.44572211710419885\n",
      "11\n"
     ]
    },
    {
     "name": "stderr",
     "output_type": "stream",
     "text": [
      "/home/tunguz/.local/lib/python3.8/site-packages/xgboost/dask.py:884: RuntimeWarning: coroutine 'Client._wait_for_workers' was never awaited\n",
      "  client.wait_for_workers(n_workers)\n",
      "[06:23:00] task [xgboost.dask-0]:tcp://127.0.0.1:40665 got new rank 0\n"
     ]
    },
    {
     "name": "stdout",
     "output_type": "stream",
     "text": [
      "0.44671325261880424\n",
      "12\n"
     ]
    },
    {
     "name": "stderr",
     "output_type": "stream",
     "text": [
      "/home/tunguz/.local/lib/python3.8/site-packages/xgboost/dask.py:884: RuntimeWarning: coroutine 'Client._wait_for_workers' was never awaited\n",
      "  client.wait_for_workers(n_workers)\n",
      "[06:26:33] task [xgboost.dask-0]:tcp://127.0.0.1:40665 got new rank 0\n"
     ]
    },
    {
     "name": "stdout",
     "output_type": "stream",
     "text": [
      "0.44500082056422163\n",
      "13\n"
     ]
    },
    {
     "name": "stderr",
     "output_type": "stream",
     "text": [
      "/home/tunguz/.local/lib/python3.8/site-packages/xgboost/dask.py:884: RuntimeWarning: coroutine 'Client._wait_for_workers' was never awaited\n",
      "  client.wait_for_workers(n_workers)\n",
      "[06:30:06] task [xgboost.dask-0]:tcp://127.0.0.1:40665 got new rank 0\n"
     ]
    },
    {
     "name": "stdout",
     "output_type": "stream",
     "text": [
      "0.4451634947384916\n",
      "14\n"
     ]
    },
    {
     "name": "stderr",
     "output_type": "stream",
     "text": [
      "/home/tunguz/.local/lib/python3.8/site-packages/xgboost/dask.py:884: RuntimeWarning: coroutine 'Client._wait_for_workers' was never awaited\n",
      "  client.wait_for_workers(n_workers)\n",
      "[06:33:40] task [xgboost.dask-0]:tcp://127.0.0.1:40665 got new rank 0\n"
     ]
    },
    {
     "name": "stdout",
     "output_type": "stream",
     "text": [
      "0.4451258055867051\n",
      "CPU times: user 1min 29s, sys: 39.1 s, total: 2min 8s\n",
      "Wall time: 53min 29s\n"
     ]
    }
   ],
   "source": [
    "%%time \n",
    "scores = []\n",
    "\n",
    "for jj in range(15):\n",
    "    print(jj)\n",
    "    params = study.best_trial.params\n",
    "    params['num_class']= 9\n",
    "    params['seed'] = 5*jj**3 + 137\n",
    "\n",
    "    output = xgb.dask.train(client, params, dtrain, num_round)\n",
    "\n",
    "    booster = output['booster']  # booster is the trained model\n",
    "    booster.set_param({'predictor': 'gpu_predictor'})\n",
    "\n",
    "    predictions = xgb.dask.predict(client, booster, drealtest)\n",
    "\n",
    "    predictions = predictions.compute()\n",
    "    \n",
    "    error = log_loss(real_test_y, predictions)\n",
    "\n",
    "    scores.append(error)\n",
    "    print(error)"
   ]
  },
  {
   "cell_type": "code",
   "execution_count": 27,
   "metadata": {},
   "outputs": [
    {
     "data": {
      "text/plain": [
       "[0.44471311337813957,\n",
       " 0.44479705036477435,\n",
       " 0.44513801684693344,\n",
       " 0.44591324115388925,\n",
       " 0.4463465332639558,\n",
       " 0.4443313639509529,\n",
       " 0.44606039330423625,\n",
       " 0.4443926129003217,\n",
       " 0.4454616336170991,\n",
       " 0.44588380348101236,\n",
       " 0.44572211710419885,\n",
       " 0.44671325261880424,\n",
       " 0.44500082056422163,\n",
       " 0.4451634947384916,\n",
       " 0.4451258055867051]"
      ]
     },
     "execution_count": 27,
     "metadata": {},
     "output_type": "execute_result"
    }
   ],
   "source": [
    "scores"
   ]
  },
  {
   "cell_type": "code",
   "execution_count": 28,
   "metadata": {},
   "outputs": [
    {
     "data": {
      "text/plain": [
       "0.4453842168582491"
      ]
     },
     "execution_count": 28,
     "metadata": {},
     "output_type": "execute_result"
    },
    {
     "name": "stderr",
     "output_type": "stream",
     "text": [
      "2022-12-13 07:02:09,495 - distributed.nanny - ERROR - Worker process died unexpectedly\n",
      "/home/tunguz/.local/lib/python3.8/site-packages/distributed/worker_state_machine.py:3649: FutureWarning: The `Worker.nthreads` attribute has been moved to `Worker.state.nthreads`\n",
      "  warnings.warn(\n",
      "/home/tunguz/.local/lib/python3.8/site-packages/distributed/worker_state_machine.py:3649: FutureWarning: The `Worker.nthreads` attribute has been moved to `Worker.state.nthreads`\n",
      "  warnings.warn(\n",
      "/home/tunguz/.local/lib/python3.8/site-packages/distributed/worker_state_machine.py:3649: FutureWarning: The `Worker.nthreads` attribute has been moved to `Worker.state.nthreads`\n",
      "  warnings.warn(\n",
      "/home/tunguz/.local/lib/python3.8/site-packages/distributed/worker_state_machine.py:3649: FutureWarning: The `Worker.nthreads` attribute has been moved to `Worker.state.nthreads`\n",
      "  warnings.warn(\n",
      "/home/tunguz/.local/lib/python3.8/site-packages/distributed/worker_state_machine.py:3649: FutureWarning: The `Worker.nthreads` attribute has been moved to `Worker.state.nthreads`\n",
      "  warnings.warn(\n",
      "/home/tunguz/.local/lib/python3.8/site-packages/distributed/worker_state_machine.py:3649: FutureWarning: The `Worker.nthreads` attribute has been moved to `Worker.state.nthreads`\n",
      "  warnings.warn(\n",
      "/home/tunguz/.local/lib/python3.8/site-packages/distributed/worker_state_machine.py:3649: FutureWarning: The `Worker.nthreads` attribute has been moved to `Worker.state.nthreads`\n",
      "  warnings.warn(\n",
      "/home/tunguz/.local/lib/python3.8/site-packages/distributed/worker_state_machine.py:3649: FutureWarning: The `Worker.nthreads` attribute has been moved to `Worker.state.nthreads`\n",
      "  warnings.warn(\n",
      "/home/tunguz/.local/lib/python3.8/site-packages/distributed/worker_state_machine.py:3649: FutureWarning: The `Worker.nthreads` attribute has been moved to `Worker.state.nthreads`\n",
      "  warnings.warn(\n",
      "/home/tunguz/.local/lib/python3.8/site-packages/distributed/worker_state_machine.py:3649: FutureWarning: The `Worker.nthreads` attribute has been moved to `Worker.state.nthreads`\n",
      "  warnings.warn(\n",
      "/home/tunguz/.local/lib/python3.8/site-packages/distributed/worker_state_machine.py:3649: FutureWarning: The `Worker.nthreads` attribute has been moved to `Worker.state.nthreads`\n",
      "  warnings.warn(\n",
      "/home/tunguz/.local/lib/python3.8/site-packages/distributed/worker_state_machine.py:3649: FutureWarning: The `Worker.nthreads` attribute has been moved to `Worker.state.nthreads`\n",
      "  warnings.warn(\n",
      "/home/tunguz/.local/lib/python3.8/site-packages/distributed/worker_state_machine.py:3649: FutureWarning: The `Worker.nthreads` attribute has been moved to `Worker.state.nthreads`\n",
      "  warnings.warn(\n",
      "/home/tunguz/.local/lib/python3.8/site-packages/distributed/worker_state_machine.py:3649: FutureWarning: The `Worker.nthreads` attribute has been moved to `Worker.state.nthreads`\n",
      "  warnings.warn(\n",
      "/home/tunguz/.local/lib/python3.8/site-packages/distributed/worker_state_machine.py:3649: FutureWarning: The `Worker.nthreads` attribute has been moved to `Worker.state.nthreads`\n",
      "  warnings.warn(\n",
      "/home/tunguz/.local/lib/python3.8/site-packages/distributed/worker_state_machine.py:3649: FutureWarning: The `Worker.nthreads` attribute has been moved to `Worker.state.nthreads`\n",
      "  warnings.warn(\n",
      "/home/tunguz/.local/lib/python3.8/site-packages/distributed/worker_state_machine.py:3649: FutureWarning: The `Worker.nthreads` attribute has been moved to `Worker.state.nthreads`\n",
      "  warnings.warn(\n",
      "2022-12-13 07:02:09,499 - distributed.nanny - ERROR - Worker process died unexpectedly\n"
     ]
    }
   ],
   "source": [
    "import numpy as np\n",
    "np.mean(scores)"
   ]
  },
  {
   "cell_type": "code",
   "execution_count": null,
   "metadata": {},
   "outputs": [],
   "source": []
  }
 ],
 "metadata": {
  "kernelspec": {
   "display_name": "Python 3 (ipykernel)",
   "language": "python",
   "name": "python3"
  },
  "language_info": {
   "codemirror_mode": {
    "name": "ipython",
    "version": 3
   },
   "file_extension": ".py",
   "mimetype": "text/x-python",
   "name": "python",
   "nbconvert_exporter": "python",
   "pygments_lexer": "ipython3",
   "version": "3.8.10"
  }
 },
 "nbformat": 4,
 "nbformat_minor": 4
}
