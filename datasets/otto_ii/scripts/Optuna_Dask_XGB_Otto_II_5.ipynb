{
 "cells": [
  {
   "cell_type": "code",
   "execution_count": 1,
   "metadata": {},
   "outputs": [],
   "source": [
    "import os\n",
    "#os.environ[\"CUDA_DEVICE_ORDER\"]=\"PCI_BUS_ID\"\n",
    "#os.environ[\"CUDA_VISIBLE_DEVICES\"]=\"0, 1, 2, 4\""
   ]
  },
  {
   "cell_type": "code",
   "execution_count": 2,
   "metadata": {},
   "outputs": [
    {
     "data": {
      "text/plain": [
       "'1.6.2'"
      ]
     },
     "execution_count": 2,
     "metadata": {},
     "output_type": "execute_result"
    }
   ],
   "source": [
    "from dask.distributed import Client\n",
    "from dask_cuda import LocalCUDACluster\n",
    "from dask import dataframe as dd\n",
    "import pandas as pd\n",
    "import xgboost as xgb\n",
    "from sklearn.model_selection import KFold, train_test_split\n",
    "from sklearn.metrics import log_loss\n",
    "import optuna\n",
    "import gc\n",
    "xgb.__version__"
   ]
  },
  {
   "cell_type": "code",
   "execution_count": 3,
   "metadata": {},
   "outputs": [
    {
     "name": "stdout",
     "output_type": "stream",
     "text": [
      "Tue Jan 10 10:49:46 2023       \n",
      "+-----------------------------------------------------------------------------+\n",
      "| NVIDIA-SMI 470.57.02    Driver Version: 470.57.02    CUDA Version: 11.4     |\n",
      "|-------------------------------+----------------------+----------------------+\n",
      "| GPU  Name        Persistence-M| Bus-Id        Disp.A | Volatile Uncorr. ECC |\n",
      "| Fan  Temp  Perf  Pwr:Usage/Cap|         Memory-Usage | GPU-Util  Compute M. |\n",
      "|                               |                      |               MIG M. |\n",
      "|===============================+======================+======================|\n",
      "|   0  NVIDIA TITAN RTX    On   | 00000000:09:00.0 Off |                  N/A |\n",
      "| 41%   35C    P8    32W / 280W |    905MiB / 24220MiB |      0%      Default |\n",
      "|                               |                      |                  N/A |\n",
      "+-------------------------------+----------------------+----------------------+\n",
      "|   1  NVIDIA TITAN RTX    On   | 00000000:41:00.0  On |                  N/A |\n",
      "| 41%   50C    P8    37W / 280W |    371MiB / 24217MiB |      2%      Default |\n",
      "|                               |                      |                  N/A |\n",
      "+-------------------------------+----------------------+----------------------+\n",
      "                                                                               \n",
      "+-----------------------------------------------------------------------------+\n",
      "| Processes:                                                                  |\n",
      "|  GPU   GI   CI        PID   Type   Process name                  GPU Memory |\n",
      "|        ID   ID                                                   Usage      |\n",
      "|=============================================================================|\n",
      "|    0   N/A  N/A      1301      G   /usr/lib/xorg/Xorg                  4MiB |\n",
      "|    0   N/A  N/A    192312      C   /usr/bin/python3                  869MiB |\n",
      "|    1   N/A  N/A      1301      G   /usr/lib/xorg/Xorg                161MiB |\n",
      "|    1   N/A  N/A      1556      G   /usr/bin/gnome-shell               29MiB |\n",
      "|    1   N/A  N/A      2380      G   ...mviewer/tv_bin/TeamViewer       19MiB |\n",
      "|    1   N/A  N/A      2707      G   /usr/lib/firefox/firefox          148MiB |\n",
      "|    1   N/A  N/A     19633      G   /usr/lib/firefox/firefox            3MiB |\n",
      "+-----------------------------------------------------------------------------+\n"
     ]
    }
   ],
   "source": [
    "!nvidia-smi"
   ]
  },
  {
   "cell_type": "code",
   "execution_count": 4,
   "metadata": {},
   "outputs": [
    {
     "name": "stdout",
     "output_type": "stream",
     "text": [
      "GPU 0: NVIDIA TITAN RTX (UUID: GPU-0eb32f58-b8d5-17c0-e952-f4ec26a9353f)\n",
      "GPU 1: NVIDIA TITAN RTX (UUID: GPU-50aeb092-88f5-4e0b-7f73-32741666f319)\n"
     ]
    }
   ],
   "source": [
    "!nvidia-smi -L"
   ]
  },
  {
   "cell_type": "code",
   "execution_count": 5,
   "metadata": {},
   "outputs": [],
   "source": [
    "train_x = dd.read_csv('../input/otto_ii/xgtrain_aug_5.csv')\n",
    "test_x = dd.read_csv('../input/otto_ii/xgval.csv')"
   ]
  },
  {
   "cell_type": "code",
   "execution_count": 6,
   "metadata": {},
   "outputs": [],
   "source": [
    "train_y = train_x['target']\n",
    "train_x = train_x[train_x.columns.difference(['target'])]\n",
    "\n",
    "test_y = test_x['target']\n",
    "test_x = test_x[test_x.columns.difference(['target'])]"
   ]
  },
  {
   "cell_type": "code",
   "execution_count": 7,
   "metadata": {},
   "outputs": [
    {
     "name": "stderr",
     "output_type": "stream",
     "text": [
      "2023-01-10 10:49:50,395 - distributed.preloading - INFO - Creating preload: dask_cuda.initialize\n",
      "2023-01-10 10:49:50,395 - distributed.preloading - INFO - Import preload module: dask_cuda.initialize\n",
      "2023-01-10 10:49:50,449 - distributed.preloading - INFO - Creating preload: dask_cuda.initialize\n",
      "2023-01-10 10:49:50,449 - distributed.preloading - INFO - Import preload module: dask_cuda.initialize\n"
     ]
    }
   ],
   "source": [
    "cluster = LocalCUDACluster(n_workers=2)\n",
    "client = Client(cluster)"
   ]
  },
  {
   "cell_type": "code",
   "execution_count": 8,
   "metadata": {},
   "outputs": [],
   "source": [
    "dtrain = xgb.dask.DaskDMatrix(client, train_x, train_y)"
   ]
  },
  {
   "cell_type": "code",
   "execution_count": 9,
   "metadata": {},
   "outputs": [],
   "source": [
    "dtest = xgb.dask.DaskDMatrix(client, test_x, test_y)\n"
   ]
  },
  {
   "cell_type": "code",
   "execution_count": 10,
   "metadata": {},
   "outputs": [],
   "source": [
    "num_round = 1000"
   ]
  },
  {
   "cell_type": "code",
   "execution_count": 11,
   "metadata": {},
   "outputs": [],
   "source": [
    "def objective(trial):\n",
    "        \n",
    "    params = {\n",
    "        'objective': trial.suggest_categorical('objective',['multi:softprob']),\n",
    "        'tree_method': trial.suggest_categorical('tree_method',['gpu_hist']),  # 'gpu_hist','hist'\n",
    "        'lambda': trial.suggest_loguniform('lambda',1e-3,10.0),\n",
    "        'alpha': trial.suggest_loguniform('alpha',1e-3,10.0),\n",
    "        'colsample_bytree': trial.suggest_uniform('colsample_bytree', 0.3,1.0),\n",
    "        'subsample': trial.suggest_uniform('subsample', 0.4, 1.0),\n",
    "        'learning_rate': trial.suggest_loguniform('learning_rate', 0.001,0.1),\n",
    "        #'n_estimators': trial.suggest_categorical('n_estimators', [1000]),\n",
    "        'max_depth': trial.suggest_int('max_depth', 2, 25),\n",
    "        #'random_state': trial.suggest_categorical('random_state', [24,48,2020]),\n",
    "        'min_child_weight': trial.suggest_int('min_child_weight', 1,300),\n",
    "        'eval_metric': trial.suggest_categorical('eval_metric',['logloss']),\n",
    "        'num_class':9,\n",
    "\n",
    "    }\n",
    "\n",
    "    output = xgb.dask.train(client, params, dtrain, num_round)\n",
    "    \n",
    "    booster = output['booster']  # booster is the trained model\n",
    "    booster.set_param({'predictor': 'gpu_predictor'})\n",
    "\n",
    "    predictions = xgb.dask.predict(client, booster, dtest)\n",
    "    \n",
    "    predictions = predictions.compute()\n",
    "\n",
    "    lloss = log_loss(test_y, predictions)\n",
    "    \n",
    "    return lloss"
   ]
  },
  {
   "cell_type": "code",
   "execution_count": 12,
   "metadata": {},
   "outputs": [
    {
     "name": "stderr",
     "output_type": "stream",
     "text": [
      "\u001b[32m[I 2023-01-10 10:49:54,326]\u001b[0m A new study created in memory with name: no-name-b4ea6518-2936-495d-aebf-06861c69ded2\u001b[0m\n"
     ]
    }
   ],
   "source": [
    "study = optuna.create_study(direction='minimize')"
   ]
  },
  {
   "cell_type": "code",
   "execution_count": 13,
   "metadata": {},
   "outputs": [
    {
     "name": "stderr",
     "output_type": "stream",
     "text": [
      "/home/tunguz/.local/lib/python3.8/site-packages/xgboost/dask.py:884: RuntimeWarning: coroutine 'Client._wait_for_workers' was never awaited\n",
      "  client.wait_for_workers(n_workers)\n",
      "[10:49:55] task [xgboost.dask-0]:tcp://127.0.0.1:44335 got new rank 0\n",
      "\u001b[32m[I 2023-01-10 10:59:34,892]\u001b[0m Trial 0 finished with value: 0.4715039241537287 and parameters: {'objective': 'multi:softprob', 'tree_method': 'gpu_hist', 'lambda': 1.425155735569395, 'alpha': 0.004060752015672895, 'colsample_bytree': 0.7462412149166504, 'subsample': 0.4824901152281203, 'learning_rate': 0.016063708852258444, 'max_depth': 22, 'min_child_weight': 43, 'eval_metric': 'logloss'}. Best is trial 0 with value: 0.4715039241537287.\u001b[0m\n",
      "/home/tunguz/.local/lib/python3.8/site-packages/xgboost/dask.py:884: RuntimeWarning: coroutine 'Client._wait_for_workers' was never awaited\n",
      "  client.wait_for_workers(n_workers)\n",
      "[10:59:34] task [xgboost.dask-0]:tcp://127.0.0.1:44335 got new rank 0\n",
      "\u001b[32m[I 2023-01-10 10:59:55,981]\u001b[0m Trial 1 finished with value: 1.2003584113846812 and parameters: {'objective': 'multi:softprob', 'tree_method': 'gpu_hist', 'lambda': 0.008111774575100398, 'alpha': 0.4576657701973897, 'colsample_bytree': 0.839350064929619, 'subsample': 0.4016894909753674, 'learning_rate': 0.0013076432264567744, 'max_depth': 4, 'min_child_weight': 222, 'eval_metric': 'logloss'}. Best is trial 0 with value: 0.4715039241537287.\u001b[0m\n"
     ]
    },
    {
     "name": "stdout",
     "output_type": "stream",
     "text": [
      "CPU times: user 19.1 s, sys: 5.6 s, total: 24.7 s\n",
      "Wall time: 10min\n"
     ]
    }
   ],
   "source": [
    "%%time\n",
    "study.optimize(objective, n_trials=2)"
   ]
  },
  {
   "cell_type": "code",
   "execution_count": 14,
   "metadata": {},
   "outputs": [
    {
     "name": "stderr",
     "output_type": "stream",
     "text": [
      "/home/tunguz/.local/lib/python3.8/site-packages/xgboost/dask.py:884: RuntimeWarning: coroutine 'Client._wait_for_workers' was never awaited\n",
      "  client.wait_for_workers(n_workers)\n",
      "[10:59:56] task [xgboost.dask-0]:tcp://127.0.0.1:44335 got new rank 0\n",
      "\u001b[32m[I 2023-01-10 11:00:11,837]\u001b[0m Trial 2 finished with value: 0.6685043184700257 and parameters: {'objective': 'multi:softprob', 'tree_method': 'gpu_hist', 'lambda': 7.546601768165152, 'alpha': 2.038910432987714, 'colsample_bytree': 0.5375902533324195, 'subsample': 0.8873803735543141, 'learning_rate': 0.0101543786872048, 'max_depth': 3, 'min_child_weight': 175, 'eval_metric': 'logloss'}. Best is trial 0 with value: 0.4715039241537287.\u001b[0m\n",
      "/home/tunguz/.local/lib/python3.8/site-packages/xgboost/dask.py:884: RuntimeWarning: coroutine 'Client._wait_for_workers' was never awaited\n",
      "  client.wait_for_workers(n_workers)\n",
      "[11:00:11] task [xgboost.dask-0]:tcp://127.0.0.1:44335 got new rank 0\n",
      "\u001b[32m[I 2023-01-10 11:02:45,565]\u001b[0m Trial 3 finished with value: 0.4698572687752219 and parameters: {'objective': 'multi:softprob', 'tree_method': 'gpu_hist', 'lambda': 0.0027046714617969753, 'alpha': 0.005293921004248494, 'colsample_bytree': 0.9278138374834921, 'subsample': 0.9636054377841702, 'learning_rate': 0.018189060699933642, 'max_depth': 16, 'min_child_weight': 26, 'eval_metric': 'logloss'}. Best is trial 3 with value: 0.4698572687752219.\u001b[0m\n",
      "/home/tunguz/.local/lib/python3.8/site-packages/xgboost/dask.py:884: RuntimeWarning: coroutine 'Client._wait_for_workers' was never awaited\n",
      "  client.wait_for_workers(n_workers)\n",
      "[11:02:45] task [xgboost.dask-0]:tcp://127.0.0.1:44335 got new rank 0\n",
      "\u001b[32m[I 2023-01-10 11:07:30,773]\u001b[0m Trial 4 finished with value: 0.4984854104731608 and parameters: {'objective': 'multi:softprob', 'tree_method': 'gpu_hist', 'lambda': 3.8087569505871413, 'alpha': 0.005554512190759078, 'colsample_bytree': 0.7204691783872998, 'subsample': 0.7199469502441491, 'learning_rate': 0.04397713119725768, 'max_depth': 21, 'min_child_weight': 210, 'eval_metric': 'logloss'}. Best is trial 3 with value: 0.4698572687752219.\u001b[0m\n",
      "/home/tunguz/.local/lib/python3.8/site-packages/xgboost/dask.py:884: RuntimeWarning: coroutine 'Client._wait_for_workers' was never awaited\n",
      "  client.wait_for_workers(n_workers)\n",
      "[11:07:30] task [xgboost.dask-0]:tcp://127.0.0.1:44335 got new rank 0\n",
      "\u001b[32m[I 2023-01-10 11:10:10,465]\u001b[0m Trial 5 finished with value: 0.46894048186198234 and parameters: {'objective': 'multi:softprob', 'tree_method': 'gpu_hist', 'lambda': 3.0961737784214876, 'alpha': 0.18529082133523192, 'colsample_bytree': 0.5658614885141583, 'subsample': 0.5614818376802624, 'learning_rate': 0.024571172523661547, 'max_depth': 13, 'min_child_weight': 4, 'eval_metric': 'logloss'}. Best is trial 5 with value: 0.46894048186198234.\u001b[0m\n",
      "/home/tunguz/.local/lib/python3.8/site-packages/xgboost/dask.py:884: RuntimeWarning: coroutine 'Client._wait_for_workers' was never awaited\n",
      "  client.wait_for_workers(n_workers)\n",
      "[11:10:10] task [xgboost.dask-0]:tcp://127.0.0.1:44335 got new rank 0\n",
      "\u001b[32m[I 2023-01-10 11:11:20,099]\u001b[0m Trial 6 finished with value: 0.46654534373013956 and parameters: {'objective': 'multi:softprob', 'tree_method': 'gpu_hist', 'lambda': 0.4427768747613002, 'alpha': 0.6551943707919486, 'colsample_bytree': 0.3260945949811987, 'subsample': 0.9412651676326211, 'learning_rate': 0.0374075193082283, 'max_depth': 15, 'min_child_weight': 59, 'eval_metric': 'logloss'}. Best is trial 6 with value: 0.46654534373013956.\u001b[0m\n",
      "/home/tunguz/.local/lib/python3.8/site-packages/xgboost/dask.py:884: RuntimeWarning: coroutine 'Client._wait_for_workers' was never awaited\n",
      "  client.wait_for_workers(n_workers)\n",
      "[11:11:20] task [xgboost.dask-0]:tcp://127.0.0.1:44335 got new rank 0\n",
      "\u001b[32m[I 2023-01-10 11:11:47,611]\u001b[0m Trial 7 finished with value: 0.9998325762733908 and parameters: {'objective': 'multi:softprob', 'tree_method': 'gpu_hist', 'lambda': 4.041579352760803, 'alpha': 0.022750069130280322, 'colsample_bytree': 0.3052178538282586, 'subsample': 0.420862748649646, 'learning_rate': 0.0026016908892474246, 'max_depth': 6, 'min_child_weight': 250, 'eval_metric': 'logloss'}. Best is trial 6 with value: 0.46654534373013956.\u001b[0m\n",
      "/home/tunguz/.local/lib/python3.8/site-packages/xgboost/dask.py:884: RuntimeWarning: coroutine 'Client._wait_for_workers' was never awaited\n",
      "  client.wait_for_workers(n_workers)\n",
      "[11:11:47] task [xgboost.dask-0]:tcp://127.0.0.1:44335 got new rank 0\n",
      "\u001b[32m[I 2023-01-10 12:17:10,233]\u001b[0m Trial 8 finished with value: 0.5169290631389675 and parameters: {'objective': 'multi:softprob', 'tree_method': 'gpu_hist', 'lambda': 1.150431865679128, 'alpha': 4.329054577926459, 'colsample_bytree': 0.6203087870231957, 'subsample': 0.7737520588164035, 'learning_rate': 0.013745324573199328, 'max_depth': 25, 'min_child_weight': 191, 'eval_metric': 'logloss'}. Best is trial 6 with value: 0.46654534373013956.\u001b[0m\n",
      "/home/tunguz/.local/lib/python3.8/site-packages/xgboost/dask.py:884: RuntimeWarning: coroutine 'Client._wait_for_workers' was never awaited\n",
      "  client.wait_for_workers(n_workers)\n",
      "[12:17:10] task [xgboost.dask-0]:tcp://127.0.0.1:44335 got new rank 0\n",
      "\u001b[32m[I 2023-01-10 12:17:50,805]\u001b[0m Trial 9 finished with value: 0.4707291746988338 and parameters: {'objective': 'multi:softprob', 'tree_method': 'gpu_hist', 'lambda': 4.607514889118844, 'alpha': 0.05294035333110882, 'colsample_bytree': 0.4671129951040658, 'subsample': 0.9580028335698103, 'learning_rate': 0.061482460462245675, 'max_depth': 9, 'min_child_weight': 56, 'eval_metric': 'logloss'}. Best is trial 6 with value: 0.46654534373013956.\u001b[0m\n",
      "/home/tunguz/.local/lib/python3.8/site-packages/xgboost/dask.py:884: RuntimeWarning: coroutine 'Client._wait_for_workers' was never awaited\n",
      "  client.wait_for_workers(n_workers)\n",
      "[12:17:50] task [xgboost.dask-0]:tcp://127.0.0.1:44335 got new rank 0\n",
      "\u001b[32m[I 2023-01-10 12:18:40,269]\u001b[0m Trial 10 finished with value: 0.4876484858137906 and parameters: {'objective': 'multi:softprob', 'tree_method': 'gpu_hist', 'lambda': 0.2098820356239318, 'alpha': 1.1652885693859676, 'colsample_bytree': 0.334109143306762, 'subsample': 0.8190750418061036, 'learning_rate': 0.09774867721730074, 'max_depth': 16, 'min_child_weight': 105, 'eval_metric': 'logloss'}. Best is trial 6 with value: 0.46654534373013956.\u001b[0m\n",
      "/home/tunguz/.local/lib/python3.8/site-packages/xgboost/dask.py:884: RuntimeWarning: coroutine 'Client._wait_for_workers' was never awaited\n",
      "  client.wait_for_workers(n_workers)\n",
      "[12:18:40] task [xgboost.dask-0]:tcp://127.0.0.1:44335 got new rank 0\n",
      "\u001b[32m[I 2023-01-10 12:19:24,665]\u001b[0m Trial 11 finished with value: 0.48865247251082466 and parameters: {'objective': 'multi:softprob', 'tree_method': 'gpu_hist', 'lambda': 0.14634537030344685, 'alpha': 0.27042814486383854, 'colsample_bytree': 0.4302387353465392, 'subsample': 0.6335997044269134, 'learning_rate': 0.03021727296073194, 'max_depth': 11, 'min_child_weight': 104, 'eval_metric': 'logloss'}. Best is trial 6 with value: 0.46654534373013956.\u001b[0m\n",
      "/home/tunguz/.local/lib/python3.8/site-packages/xgboost/dask.py:884: RuntimeWarning: coroutine 'Client._wait_for_workers' was never awaited\n",
      "  client.wait_for_workers(n_workers)\n",
      "[12:19:24] task [xgboost.dask-0]:tcp://127.0.0.1:44335 got new rank 0\n",
      "\u001b[32m[I 2023-01-10 12:25:22,757]\u001b[0m Trial 12 finished with value: 0.5273247557127755 and parameters: {'objective': 'multi:softprob', 'tree_method': 'gpu_hist', 'lambda': 0.46735023333710957, 'alpha': 0.13420991677874472, 'colsample_bytree': 0.585846946013816, 'subsample': 0.6023591495891392, 'learning_rate': 0.005098334790375538, 'max_depth': 14, 'min_child_weight': 3, 'eval_metric': 'logloss'}. Best is trial 6 with value: 0.46654534373013956.\u001b[0m\n",
      "/home/tunguz/.local/lib/python3.8/site-packages/xgboost/dask.py:884: RuntimeWarning: coroutine 'Client._wait_for_workers' was never awaited\n",
      "  client.wait_for_workers(n_workers)\n",
      "[12:25:22] task [xgboost.dask-0]:tcp://127.0.0.1:44335 got new rank 0\n",
      "\u001b[32m[I 2023-01-10 12:26:51,706]\u001b[0m Trial 13 finished with value: 0.48324839515039925 and parameters: {'objective': 'multi:softprob', 'tree_method': 'gpu_hist', 'lambda': 0.03728581900791708, 'alpha': 0.7153503887972384, 'colsample_bytree': 0.4269460895621311, 'subsample': 0.550013371175081, 'learning_rate': 0.028704772929393177, 'max_depth': 18, 'min_child_weight': 94, 'eval_metric': 'logloss'}. Best is trial 6 with value: 0.46654534373013956.\u001b[0m\n",
      "/home/tunguz/.local/lib/python3.8/site-packages/xgboost/dask.py:884: RuntimeWarning: coroutine 'Client._wait_for_workers' was never awaited\n",
      "  client.wait_for_workers(n_workers)\n",
      "[12:26:51] task [xgboost.dask-0]:tcp://127.0.0.1:44335 got new rank 0\n",
      "\u001b[32m[I 2023-01-10 12:27:57,478]\u001b[0m Trial 14 finished with value: 0.5678020507236834 and parameters: {'objective': 'multi:softprob', 'tree_method': 'gpu_hist', 'lambda': 0.047497324984742774, 'alpha': 8.189259064445322, 'colsample_bytree': 0.5239581549265729, 'subsample': 0.6683847288572708, 'learning_rate': 0.006807516384083186, 'max_depth': 11, 'min_child_weight': 70, 'eval_metric': 'logloss'}. Best is trial 6 with value: 0.46654534373013956.\u001b[0m\n",
      "/home/tunguz/.local/lib/python3.8/site-packages/xgboost/dask.py:884: RuntimeWarning: coroutine 'Client._wait_for_workers' was never awaited\n",
      "  client.wait_for_workers(n_workers)\n",
      "[12:27:57] task [xgboost.dask-0]:tcp://127.0.0.1:44335 got new rank 0\n",
      "\u001b[32m[I 2023-01-10 12:28:19,783]\u001b[0m Trial 15 finished with value: 0.5322222632507227 and parameters: {'objective': 'multi:softprob', 'tree_method': 'gpu_hist', 'lambda': 0.9281569815678195, 'alpha': 0.0307596550158922, 'colsample_bytree': 0.6954912965982943, 'subsample': 0.5324133513090585, 'learning_rate': 0.061622139722063644, 'max_depth': 8, 'min_child_weight': 297, 'eval_metric': 'logloss'}. Best is trial 6 with value: 0.46654534373013956.\u001b[0m\n",
      "/home/tunguz/.local/lib/python3.8/site-packages/xgboost/dask.py:884: RuntimeWarning: coroutine 'Client._wait_for_workers' was never awaited\n",
      "  client.wait_for_workers(n_workers)\n",
      "[12:28:19] task [xgboost.dask-0]:tcp://127.0.0.1:44335 got new rank 0\n",
      "\u001b[32m[I 2023-01-10 12:29:03,544]\u001b[0m Trial 16 finished with value: 0.4969669368290775 and parameters: {'objective': 'multi:softprob', 'tree_method': 'gpu_hist', 'lambda': 0.38162365930061826, 'alpha': 0.0010669812387154233, 'colsample_bytree': 0.38324346030733636, 'subsample': 0.8305121467866983, 'learning_rate': 0.02568890415076461, 'max_depth': 12, 'min_child_weight': 146, 'eval_metric': 'logloss'}. Best is trial 6 with value: 0.46654534373013956.\u001b[0m\n",
      "/home/tunguz/.local/lib/python3.8/site-packages/xgboost/dask.py:884: RuntimeWarning: coroutine 'Client._wait_for_workers' was never awaited\n",
      "  client.wait_for_workers(n_workers)\n",
      "[12:29:03] task [xgboost.dask-0]:tcp://127.0.0.1:44335 got new rank 0\n",
      "\u001b[32m[I 2023-01-10 12:36:42,180]\u001b[0m Trial 17 finished with value: 0.5067178558807212 and parameters: {'objective': 'multi:softprob', 'tree_method': 'gpu_hist', 'lambda': 0.05902718285048259, 'alpha': 0.2004832873977153, 'colsample_bytree': 0.9791875237308749, 'subsample': 0.7144033487033508, 'learning_rate': 0.005716409265075723, 'max_depth': 19, 'min_child_weight': 9, 'eval_metric': 'logloss'}. Best is trial 6 with value: 0.46654534373013956.\u001b[0m\n",
      "/home/tunguz/.local/lib/python3.8/site-packages/xgboost/dask.py:884: RuntimeWarning: coroutine 'Client._wait_for_workers' was never awaited\n",
      "  client.wait_for_workers(n_workers)\n",
      "[12:36:42] task [xgboost.dask-0]:tcp://127.0.0.1:44335 got new rank 0\n",
      "\u001b[32m[I 2023-01-10 12:37:07,993]\u001b[0m Trial 18 finished with value: 0.48488580187261365 and parameters: {'objective': 'multi:softprob', 'tree_method': 'gpu_hist', 'lambda': 1.8831921934915583, 'alpha': 0.07835107003485801, 'colsample_bytree': 0.8091359359000667, 'subsample': 0.996709527574106, 'learning_rate': 0.09996182743222005, 'max_depth': 14, 'min_child_weight': 138, 'eval_metric': 'logloss'}. Best is trial 6 with value: 0.46654534373013956.\u001b[0m\n",
      "/home/tunguz/.local/lib/python3.8/site-packages/xgboost/dask.py:884: RuntimeWarning: coroutine 'Client._wait_for_workers' was never awaited\n",
      "  client.wait_for_workers(n_workers)\n",
      "[12:37:08] task [xgboost.dask-0]:tcp://127.0.0.1:44335 got new rank 0\n",
      "\u001b[32m[I 2023-01-10 12:38:19,774]\u001b[0m Trial 19 finished with value: 0.46972142421271224 and parameters: {'objective': 'multi:softprob', 'tree_method': 'gpu_hist', 'lambda': 0.47505937658724867, 'alpha': 3.083284881166326, 'colsample_bytree': 0.5084887813338674, 'subsample': 0.9029323237022393, 'learning_rate': 0.0464134659873692, 'max_depth': 16, 'min_child_weight': 79, 'eval_metric': 'logloss'}. Best is trial 6 with value: 0.46654534373013956.\u001b[0m\n",
      "/home/tunguz/.local/lib/python3.8/site-packages/xgboost/dask.py:884: RuntimeWarning: coroutine 'Client._wait_for_workers' was never awaited\n",
      "  client.wait_for_workers(n_workers)\n",
      "[12:38:19] task [xgboost.dask-0]:tcp://127.0.0.1:44335 got new rank 0\n",
      "\u001b[32m[I 2023-01-10 12:39:10,477]\u001b[0m Trial 20 finished with value: 0.5395158594105115 and parameters: {'objective': 'multi:softprob', 'tree_method': 'gpu_hist', 'lambda': 0.014088454224256843, 'alpha': 0.5549028288339948, 'colsample_bytree': 0.3649654751255668, 'subsample': 0.5683813661296903, 'learning_rate': 0.009893508802913929, 'max_depth': 8, 'min_child_weight': 37, 'eval_metric': 'logloss'}. Best is trial 6 with value: 0.46654534373013956.\u001b[0m\n",
      "/home/tunguz/.local/lib/python3.8/site-packages/xgboost/dask.py:884: RuntimeWarning: coroutine 'Client._wait_for_workers' was never awaited\n",
      "  client.wait_for_workers(n_workers)\n",
      "[12:39:10] task [xgboost.dask-0]:tcp://127.0.0.1:44335 got new rank 0\n",
      "\u001b[32m[I 2023-01-10 12:40:32,618]\u001b[0m Trial 21 finished with value: 0.46636003087946987 and parameters: {'objective': 'multi:softprob', 'tree_method': 'gpu_hist', 'lambda': 0.4084934022372924, 'alpha': 3.378567244022339, 'colsample_bytree': 0.5226424942702131, 'subsample': 0.8950444327598227, 'learning_rate': 0.044540899640572985, 'max_depth': 17, 'min_child_weight': 77, 'eval_metric': 'logloss'}. Best is trial 21 with value: 0.46636003087946987.\u001b[0m\n",
      "/home/tunguz/.local/lib/python3.8/site-packages/xgboost/dask.py:884: RuntimeWarning: coroutine 'Client._wait_for_workers' was never awaited\n",
      "  client.wait_for_workers(n_workers)\n",
      "[12:40:32] task [xgboost.dask-0]:tcp://127.0.0.1:44335 got new rank 0\n",
      "\u001b[32m[I 2023-01-10 12:42:35,413]\u001b[0m Trial 22 finished with value: 0.4758933551246493 and parameters: {'objective': 'multi:softprob', 'tree_method': 'gpu_hist', 'lambda': 0.22859599238119938, 'alpha': 1.4677458933280094, 'colsample_bytree': 0.5877960881988784, 'subsample': 0.883237567052706, 'learning_rate': 0.038876498855029355, 'max_depth': 19, 'min_child_weight': 118, 'eval_metric': 'logloss'}. Best is trial 21 with value: 0.46636003087946987.\u001b[0m\n",
      "/home/tunguz/.local/lib/python3.8/site-packages/xgboost/dask.py:884: RuntimeWarning: coroutine 'Client._wait_for_workers' was never awaited\n",
      "  client.wait_for_workers(n_workers)\n",
      "[12:42:35] task [xgboost.dask-0]:tcp://127.0.0.1:44335 got new rank 0\n",
      "\u001b[32m[I 2023-01-10 12:43:45,032]\u001b[0m Trial 23 finished with value: 0.4781261455024831 and parameters: {'objective': 'multi:softprob', 'tree_method': 'gpu_hist', 'lambda': 9.853917408266113, 'alpha': 7.854536100938053, 'colsample_bytree': 0.6814080219092811, 'subsample': 0.7674657619207215, 'learning_rate': 0.02110313816512854, 'max_depth': 13, 'min_child_weight': 59, 'eval_metric': 'logloss'}. Best is trial 21 with value: 0.46636003087946987.\u001b[0m\n",
      "/home/tunguz/.local/lib/python3.8/site-packages/xgboost/dask.py:884: RuntimeWarning: coroutine 'Client._wait_for_workers' was never awaited\n",
      "  client.wait_for_workers(n_workers)\n",
      "[12:43:45] task [xgboost.dask-0]:tcp://127.0.0.1:44335 got new rank 0\n",
      "\u001b[32m[I 2023-01-10 12:45:14,333]\u001b[0m Trial 24 finished with value: 0.4888187547428892 and parameters: {'objective': 'multi:softprob', 'tree_method': 'gpu_hist', 'lambda': 0.7144015596161197, 'alpha': 0.32726569365613584, 'colsample_bytree': 0.48063672587141804, 'subsample': 0.9103605948704333, 'learning_rate': 0.06465574440349309, 'max_depth': 16, 'min_child_weight': 28, 'eval_metric': 'logloss'}. Best is trial 21 with value: 0.46636003087946987.\u001b[0m\n",
      "/home/tunguz/.local/lib/python3.8/site-packages/xgboost/dask.py:884: RuntimeWarning: coroutine 'Client._wait_for_workers' was never awaited\n",
      "  client.wait_for_workers(n_workers)\n",
      "[12:45:14] task [xgboost.dask-0]:tcp://127.0.0.1:44335 got new rank 0\n",
      "\u001b[32m[I 2023-01-10 12:50:26,615]\u001b[0m Trial 25 finished with value: 0.4710835822809722 and parameters: {'objective': 'multi:softprob', 'tree_method': 'gpu_hist', 'lambda': 2.316975794444897, 'alpha': 1.0617851731599395, 'colsample_bytree': 0.5717606089368605, 'subsample': 0.8264082572349505, 'learning_rate': 0.04193538857574521, 'max_depth': 21, 'min_child_weight': 77, 'eval_metric': 'logloss'}. Best is trial 21 with value: 0.46636003087946987.\u001b[0m\n",
      "/home/tunguz/.local/lib/python3.8/site-packages/xgboost/dask.py:884: RuntimeWarning: coroutine 'Client._wait_for_workers' was never awaited\n",
      "  client.wait_for_workers(n_workers)\n",
      "[12:50:26] task [xgboost.dask-0]:tcp://127.0.0.1:44335 got new rank 0\n",
      "\u001b[32m[I 2023-01-10 12:55:59,227]\u001b[0m Trial 26 finished with value: 0.4824334975742085 and parameters: {'objective': 'multi:softprob', 'tree_method': 'gpu_hist', 'lambda': 0.09495452112945572, 'alpha': 3.991974323340115, 'colsample_bytree': 0.43148761447222617, 'subsample': 0.9436770885806591, 'learning_rate': 0.030031391878544696, 'max_depth': 18, 'min_child_weight': 1, 'eval_metric': 'logloss'}. Best is trial 21 with value: 0.46636003087946987.\u001b[0m\n",
      "/home/tunguz/.local/lib/python3.8/site-packages/xgboost/dask.py:884: RuntimeWarning: coroutine 'Client._wait_for_workers' was never awaited\n",
      "  client.wait_for_workers(n_workers)\n",
      "[12:55:59] task [xgboost.dask-0]:tcp://127.0.0.1:44335 got new rank 0\n",
      "\u001b[32m[I 2023-01-10 12:56:59,292]\u001b[0m Trial 27 finished with value: 0.5025548612476752 and parameters: {'objective': 'multi:softprob', 'tree_method': 'gpu_hist', 'lambda': 0.3576794261013427, 'alpha': 0.1344562495002182, 'colsample_bytree': 0.6481081277276337, 'subsample': 0.4778553060777043, 'learning_rate': 0.012333148077159002, 'max_depth': 10, 'min_child_weight': 47, 'eval_metric': 'logloss'}. Best is trial 21 with value: 0.46636003087946987.\u001b[0m\n",
      "/home/tunguz/.local/lib/python3.8/site-packages/xgboost/dask.py:884: RuntimeWarning: coroutine 'Client._wait_for_workers' was never awaited\n",
      "  client.wait_for_workers(n_workers)\n",
      "[12:56:59] task [xgboost.dask-0]:tcp://127.0.0.1:44335 got new rank 0\n",
      "\u001b[32m[I 2023-01-10 12:58:56,260]\u001b[0m Trial 28 finished with value: 0.46152964638826716 and parameters: {'objective': 'multi:softprob', 'tree_method': 'gpu_hist', 'lambda': 0.018882718300775096, 'alpha': 0.8052284237827184, 'colsample_bytree': 0.37674538378092604, 'subsample': 0.9942357398868276, 'learning_rate': 0.021481334673334716, 'max_depth': 14, 'min_child_weight': 21, 'eval_metric': 'logloss'}. Best is trial 28 with value: 0.46152964638826716.\u001b[0m\n",
      "/home/tunguz/.local/lib/python3.8/site-packages/xgboost/dask.py:884: RuntimeWarning: coroutine 'Client._wait_for_workers' was never awaited\n",
      "  client.wait_for_workers(n_workers)\n",
      "[12:58:56] task [xgboost.dask-0]:tcp://127.0.0.1:44335 got new rank 0\n",
      "\u001b[32m[I 2023-01-10 13:00:00,564]\u001b[0m Trial 29 finished with value: 0.49171560160161176 and parameters: {'objective': 'multi:softprob', 'tree_method': 'gpu_hist', 'lambda': 0.018938353251932338, 'alpha': 2.2565457042681727, 'colsample_bytree': 0.3896441829398034, 'subsample': 0.9996968497379326, 'learning_rate': 0.017871211128325227, 'max_depth': 15, 'min_child_weight': 130, 'eval_metric': 'logloss'}. Best is trial 28 with value: 0.46152964638826716.\u001b[0m\n",
      "/home/tunguz/.local/lib/python3.8/site-packages/xgboost/dask.py:884: RuntimeWarning: coroutine 'Client._wait_for_workers' was never awaited\n",
      "  client.wait_for_workers(n_workers)\n",
      "[13:00:00] task [xgboost.dask-0]:tcp://127.0.0.1:44335 got new rank 0\n",
      "\u001b[32m[I 2023-01-10 13:16:46,519]\u001b[0m Trial 30 finished with value: 0.4817246117694186 and parameters: {'objective': 'multi:softprob', 'tree_method': 'gpu_hist', 'lambda': 0.0019902605845267198, 'alpha': 0.9643356236934725, 'colsample_bytree': 0.31642861012767154, 'subsample': 0.8607264804369587, 'learning_rate': 0.07243910445054595, 'max_depth': 23, 'min_child_weight': 86, 'eval_metric': 'logloss'}. Best is trial 28 with value: 0.46152964638826716.\u001b[0m\n",
      "/home/tunguz/.local/lib/python3.8/site-packages/xgboost/dask.py:884: RuntimeWarning: coroutine 'Client._wait_for_workers' was never awaited\n",
      "  client.wait_for_workers(n_workers)\n",
      "[13:16:46] task [xgboost.dask-0]:tcp://127.0.0.1:44335 got new rank 0\n",
      "\u001b[32m[I 2023-01-10 13:18:13,781]\u001b[0m Trial 31 finished with value: 0.4622124173394055 and parameters: {'objective': 'multi:softprob', 'tree_method': 'gpu_hist', 'lambda': 0.003874582438379035, 'alpha': 0.416030274432374, 'colsample_bytree': 0.3595077347911081, 'subsample': 0.9279322863417078, 'learning_rate': 0.024592686427092145, 'max_depth': 13, 'min_child_weight': 30, 'eval_metric': 'logloss'}. Best is trial 28 with value: 0.46152964638826716.\u001b[0m\n",
      "/home/tunguz/.local/lib/python3.8/site-packages/xgboost/dask.py:884: RuntimeWarning: coroutine 'Client._wait_for_workers' was never awaited\n",
      "  client.wait_for_workers(n_workers)\n",
      "[13:18:13] task [xgboost.dask-0]:tcp://127.0.0.1:44335 got new rank 0\n",
      "\u001b[32m[I 2023-01-10 13:20:33,709]\u001b[0m Trial 32 finished with value: 0.46936973385738784 and parameters: {'objective': 'multi:softprob', 'tree_method': 'gpu_hist', 'lambda': 0.004512984025336399, 'alpha': 0.49619419154794486, 'colsample_bytree': 0.3541494746891903, 'subsample': 0.9337657244770133, 'learning_rate': 0.03699014478455816, 'max_depth': 18, 'min_child_weight': 24, 'eval_metric': 'logloss'}. Best is trial 28 with value: 0.46152964638826716.\u001b[0m\n",
      "/home/tunguz/.local/lib/python3.8/site-packages/xgboost/dask.py:884: RuntimeWarning: coroutine 'Client._wait_for_workers' was never awaited\n",
      "  client.wait_for_workers(n_workers)\n",
      "[13:20:33] task [xgboost.dask-0]:tcp://127.0.0.1:44335 got new rank 0\n",
      "\u001b[32m[I 2023-01-10 13:21:52,775]\u001b[0m Trial 33 finished with value: 0.4787241393210606 and parameters: {'objective': 'multi:softprob', 'tree_method': 'gpu_hist', 'lambda': 0.001311853977077663, 'alpha': 1.7597129714053892, 'colsample_bytree': 0.4114628178895253, 'subsample': 0.9736760246511795, 'learning_rate': 0.016385942542957044, 'max_depth': 12, 'min_child_weight': 53, 'eval_metric': 'logloss'}. Best is trial 28 with value: 0.46152964638826716.\u001b[0m\n",
      "/home/tunguz/.local/lib/python3.8/site-packages/xgboost/dask.py:884: RuntimeWarning: coroutine 'Client._wait_for_workers' was never awaited\n",
      "  client.wait_for_workers(n_workers)\n",
      "[13:21:52] task [xgboost.dask-0]:tcp://127.0.0.1:44335 got new rank 0\n",
      "\u001b[32m[I 2023-01-10 13:24:23,243]\u001b[0m Trial 34 finished with value: 0.4901877808888166 and parameters: {'objective': 'multi:softprob', 'tree_method': 'gpu_hist', 'lambda': 0.007799998914316025, 'alpha': 0.6868791146111264, 'colsample_bytree': 0.47598777824497246, 'subsample': 0.9193705110904113, 'learning_rate': 0.009053997768262047, 'max_depth': 15, 'min_child_weight': 35, 'eval_metric': 'logloss'}. Best is trial 28 with value: 0.46152964638826716.\u001b[0m\n",
      "/home/tunguz/.local/lib/python3.8/site-packages/xgboost/dask.py:884: RuntimeWarning: coroutine 'Client._wait_for_workers' was never awaited\n",
      "  client.wait_for_workers(n_workers)\n",
      "[13:24:23] task [xgboost.dask-0]:tcp://127.0.0.1:44335 got new rank 0\n",
      "\u001b[32m[I 2023-01-10 13:24:35,605]\u001b[0m Trial 35 finished with value: 0.5858429712259458 and parameters: {'objective': 'multi:softprob', 'tree_method': 'gpu_hist', 'lambda': 0.018116332290999394, 'alpha': 4.699178081302489, 'colsample_bytree': 0.3064517519350126, 'subsample': 0.8512417905750496, 'learning_rate': 0.0509035735095649, 'max_depth': 2, 'min_child_weight': 163, 'eval_metric': 'logloss'}. Best is trial 28 with value: 0.46152964638826716.\u001b[0m\n",
      "/home/tunguz/.local/lib/python3.8/site-packages/xgboost/dask.py:884: RuntimeWarning: coroutine 'Client._wait_for_workers' was never awaited\n",
      "  client.wait_for_workers(n_workers)\n",
      "[13:24:35] task [xgboost.dask-0]:tcp://127.0.0.1:44335 got new rank 0\n",
      "\u001b[32m[I 2023-01-10 13:27:08,149]\u001b[0m Trial 36 finished with value: 0.46114509829052563 and parameters: {'objective': 'multi:softprob', 'tree_method': 'gpu_hist', 'lambda': 0.0042117493825575255, 'alpha': 0.3868982440413881, 'colsample_bytree': 0.35559546230917505, 'subsample': 0.8808769650115125, 'learning_rate': 0.020683860951413186, 'max_depth': 17, 'min_child_weight': 21, 'eval_metric': 'logloss'}. Best is trial 36 with value: 0.46114509829052563.\u001b[0m\n",
      "/home/tunguz/.local/lib/python3.8/site-packages/xgboost/dask.py:884: RuntimeWarning: coroutine 'Client._wait_for_workers' was never awaited\n",
      "  client.wait_for_workers(n_workers)\n",
      "[13:27:08] task [xgboost.dask-0]:tcp://127.0.0.1:44335 got new rank 0\n",
      "\u001b[32m[I 2023-01-10 13:32:12,777]\u001b[0m Trial 37 finished with value: 0.4608722604713514 and parameters: {'objective': 'multi:softprob', 'tree_method': 'gpu_hist', 'lambda': 0.008240724137902947, 'alpha': 0.3406677070528723, 'colsample_bytree': 0.45398528112388453, 'subsample': 0.7841521015173282, 'learning_rate': 0.019255472960068774, 'max_depth': 20, 'min_child_weight': 17, 'eval_metric': 'logloss'}. Best is trial 37 with value: 0.4608722604713514.\u001b[0m\n",
      "/home/tunguz/.local/lib/python3.8/site-packages/xgboost/dask.py:884: RuntimeWarning: coroutine 'Client._wait_for_workers' was never awaited\n",
      "  client.wait_for_workers(n_workers)\n",
      "[13:32:12] task [xgboost.dask-0]:tcp://127.0.0.1:44335 got new rank 0\n",
      "\u001b[32m[I 2023-01-10 13:50:52,883]\u001b[0m Trial 38 finished with value: 0.4624607176535587 and parameters: {'objective': 'multi:softprob', 'tree_method': 'gpu_hist', 'lambda': 0.004202880247591674, 'alpha': 0.3263314324001133, 'colsample_bytree': 0.3654931752042473, 'subsample': 0.7912175270847691, 'learning_rate': 0.02117137672858962, 'max_depth': 23, 'min_child_weight': 19, 'eval_metric': 'logloss'}. Best is trial 37 with value: 0.4608722604713514.\u001b[0m\n",
      "/home/tunguz/.local/lib/python3.8/site-packages/xgboost/dask.py:884: RuntimeWarning: coroutine 'Client._wait_for_workers' was never awaited\n",
      "  client.wait_for_workers(n_workers)\n",
      "[13:50:52] task [xgboost.dask-0]:tcp://127.0.0.1:44335 got new rank 0\n",
      "\u001b[32m[I 2023-01-10 13:56:09,019]\u001b[0m Trial 39 finished with value: 0.46330889582612395 and parameters: {'objective': 'multi:softprob', 'tree_method': 'gpu_hist', 'lambda': 0.008066839003018376, 'alpha': 0.07425368152463833, 'colsample_bytree': 0.7740001887816829, 'subsample': 0.7428204444051999, 'learning_rate': 0.013463244406255324, 'max_depth': 20, 'min_child_weight': 19, 'eval_metric': 'logloss'}. Best is trial 37 with value: 0.4608722604713514.\u001b[0m\n",
      "/home/tunguz/.local/lib/python3.8/site-packages/xgboost/dask.py:884: RuntimeWarning: coroutine 'Client._wait_for_workers' was never awaited\n",
      "  client.wait_for_workers(n_workers)\n",
      "[13:56:09] task [xgboost.dask-0]:tcp://127.0.0.1:44335 got new rank 0\n",
      "\u001b[32m[I 2023-01-10 13:56:37,400]\u001b[0m Trial 40 finished with value: 1.1240030103061622 and parameters: {'objective': 'multi:softprob', 'tree_method': 'gpu_hist', 'lambda': 0.004163587117733877, 'alpha': 0.021270432723625384, 'colsample_bytree': 0.4589831824798308, 'subsample': 0.8655658914850328, 'learning_rate': 0.0014982801737743585, 'max_depth': 5, 'min_child_weight': 41, 'eval_metric': 'logloss'}. Best is trial 37 with value: 0.4608722604713514.\u001b[0m\n",
      "/home/tunguz/.local/lib/python3.8/site-packages/xgboost/dask.py:884: RuntimeWarning: coroutine 'Client._wait_for_workers' was never awaited\n",
      "  client.wait_for_workers(n_workers)\n",
      "/home/tunguz/.local/lib/python3.8/site-packages/distributed/worker_state_machine.py:3649: FutureWarning: The `Worker.nthreads` attribute has been moved to `Worker.state.nthreads`\n",
      "  warnings.warn(\n",
      "/home/tunguz/.local/lib/python3.8/site-packages/distributed/worker_state_machine.py:3649: FutureWarning: The `Worker.nthreads` attribute has been moved to `Worker.state.nthreads`\n",
      "  warnings.warn(\n",
      "/home/tunguz/.local/lib/python3.8/site-packages/distributed/worker_state_machine.py:3649: FutureWarning: The `Worker.nthreads` attribute has been moved to `Worker.state.nthreads`\n",
      "  warnings.warn(\n",
      "/home/tunguz/.local/lib/python3.8/site-packages/distributed/worker_state_machine.py:3649: FutureWarning: The `Worker.nthreads` attribute has been moved to `Worker.state.nthreads`\n",
      "  warnings.warn(\n",
      "/home/tunguz/.local/lib/python3.8/site-packages/distributed/worker_state_machine.py:3649: FutureWarning: The `Worker.nthreads` attribute has been moved to `Worker.state.nthreads`\n",
      "  warnings.warn(\n",
      "/home/tunguz/.local/lib/python3.8/site-packages/distributed/worker_state_machine.py:3649: FutureWarning: The `Worker.nthreads` attribute has been moved to `Worker.state.nthreads`\n",
      "  warnings.warn(\n",
      "/home/tunguz/.local/lib/python3.8/site-packages/distributed/worker_state_machine.py:3649: FutureWarning: The `Worker.nthreads` attribute has been moved to `Worker.state.nthreads`\n",
      "  warnings.warn(\n",
      "/home/tunguz/.local/lib/python3.8/site-packages/distributed/worker_state_machine.py:3649: FutureWarning: The `Worker.nthreads` attribute has been moved to `Worker.state.nthreads`\n",
      "  warnings.warn(\n",
      "/home/tunguz/.local/lib/python3.8/site-packages/distributed/worker_state_machine.py:3649: FutureWarning: The `Worker.nthreads` attribute has been moved to `Worker.state.nthreads`\n",
      "  warnings.warn(\n",
      "/home/tunguz/.local/lib/python3.8/site-packages/distributed/worker_state_machine.py:3649: FutureWarning: The `Worker.nthreads` attribute has been moved to `Worker.state.nthreads`\n",
      "  warnings.warn(\n",
      "/home/tunguz/.local/lib/python3.8/site-packages/distributed/worker_state_machine.py:3649: FutureWarning: The `Worker.nthreads` attribute has been moved to `Worker.state.nthreads`\n",
      "  warnings.warn(\n",
      "/home/tunguz/.local/lib/python3.8/site-packages/distributed/worker_state_machine.py:3649: FutureWarning: The `Worker.nthreads` attribute has been moved to `Worker.state.nthreads`\n",
      "  warnings.warn(\n",
      "/home/tunguz/.local/lib/python3.8/site-packages/distributed/worker_state_machine.py:3649: FutureWarning: The `Worker.nthreads` attribute has been moved to `Worker.state.nthreads`\n",
      "  warnings.warn(\n",
      "/home/tunguz/.local/lib/python3.8/site-packages/distributed/worker_state_machine.py:3649: FutureWarning: The `Worker.nthreads` attribute has been moved to `Worker.state.nthreads`\n",
      "  warnings.warn(\n",
      "/home/tunguz/.local/lib/python3.8/site-packages/distributed/worker_state_machine.py:3649: FutureWarning: The `Worker.nthreads` attribute has been moved to `Worker.state.nthreads`\n",
      "  warnings.warn(\n",
      "/home/tunguz/.local/lib/python3.8/site-packages/distributed/worker_state_machine.py:3649: FutureWarning: The `Worker.nthreads` attribute has been moved to `Worker.state.nthreads`\n",
      "  warnings.warn(\n",
      "/home/tunguz/.local/lib/python3.8/site-packages/distributed/worker_state_machine.py:3649: FutureWarning: The `Worker.nthreads` attribute has been moved to `Worker.state.nthreads`\n",
      "  warnings.warn(\n",
      "/home/tunguz/.local/lib/python3.8/site-packages/distributed/worker_state_machine.py:3649: FutureWarning: The `Worker.nthreads` attribute has been moved to `Worker.state.nthreads`\n",
      "  warnings.warn(\n",
      "/home/tunguz/.local/lib/python3.8/site-packages/distributed/worker_state_machine.py:3649: FutureWarning: The `Worker.nthreads` attribute has been moved to `Worker.state.nthreads`\n",
      "  warnings.warn(\n",
      "/home/tunguz/.local/lib/python3.8/site-packages/distributed/worker_state_machine.py:3649: FutureWarning: The `Worker.nthreads` attribute has been moved to `Worker.state.nthreads`\n",
      "  warnings.warn(\n",
      "/home/tunguz/.local/lib/python3.8/site-packages/distributed/worker_state_machine.py:3649: FutureWarning: The `Worker.nthreads` attribute has been moved to `Worker.state.nthreads`\n",
      "  warnings.warn(\n",
      "/home/tunguz/.local/lib/python3.8/site-packages/distributed/worker_state_machine.py:3649: FutureWarning: The `Worker.nthreads` attribute has been moved to `Worker.state.nthreads`\n",
      "  warnings.warn(\n",
      "/home/tunguz/.local/lib/python3.8/site-packages/distributed/worker_state_machine.py:3649: FutureWarning: The `Worker.nthreads` attribute has been moved to `Worker.state.nthreads`\n",
      "  warnings.warn(\n",
      "/home/tunguz/.local/lib/python3.8/site-packages/distributed/worker_state_machine.py:3649: FutureWarning: The `Worker.nthreads` attribute has been moved to `Worker.state.nthreads`\n",
      "  warnings.warn(\n",
      "/home/tunguz/.local/lib/python3.8/site-packages/distributed/worker_state_machine.py:3649: FutureWarning: The `Worker.nthreads` attribute has been moved to `Worker.state.nthreads`\n",
      "  warnings.warn(\n",
      "/home/tunguz/.local/lib/python3.8/site-packages/distributed/worker_state_machine.py:3649: FutureWarning: The `Worker.nthreads` attribute has been moved to `Worker.state.nthreads`\n",
      "  warnings.warn(\n",
      "/home/tunguz/.local/lib/python3.8/site-packages/distributed/worker_state_machine.py:3649: FutureWarning: The `Worker.nthreads` attribute has been moved to `Worker.state.nthreads`\n",
      "  warnings.warn(\n",
      "/home/tunguz/.local/lib/python3.8/site-packages/distributed/worker_state_machine.py:3649: FutureWarning: The `Worker.nthreads` attribute has been moved to `Worker.state.nthreads`\n",
      "  warnings.warn(\n",
      "/home/tunguz/.local/lib/python3.8/site-packages/distributed/worker_state_machine.py:3649: FutureWarning: The `Worker.nthreads` attribute has been moved to `Worker.state.nthreads`\n",
      "  warnings.warn(\n",
      "/home/tunguz/.local/lib/python3.8/site-packages/distributed/worker_state_machine.py:3649: FutureWarning: The `Worker.nthreads` attribute has been moved to `Worker.state.nthreads`\n",
      "  warnings.warn(\n",
      "/home/tunguz/.local/lib/python3.8/site-packages/distributed/worker_state_machine.py:3649: FutureWarning: The `Worker.nthreads` attribute has been moved to `Worker.state.nthreads`\n",
      "  warnings.warn(\n",
      "/home/tunguz/.local/lib/python3.8/site-packages/distributed/worker_state_machine.py:3649: FutureWarning: The `Worker.nthreads` attribute has been moved to `Worker.state.nthreads`\n",
      "  warnings.warn(\n",
      "/home/tunguz/.local/lib/python3.8/site-packages/distributed/worker_state_machine.py:3649: FutureWarning: The `Worker.nthreads` attribute has been moved to `Worker.state.nthreads`\n",
      "  warnings.warn(\n",
      "/home/tunguz/.local/lib/python3.8/site-packages/distributed/worker_state_machine.py:3649: FutureWarning: The `Worker.nthreads` attribute has been moved to `Worker.state.nthreads`\n",
      "  warnings.warn(\n",
      "/home/tunguz/.local/lib/python3.8/site-packages/distributed/worker_state_machine.py:3649: FutureWarning: The `Worker.nthreads` attribute has been moved to `Worker.state.nthreads`\n",
      "  warnings.warn(\n",
      "/home/tunguz/.local/lib/python3.8/site-packages/distributed/worker_state_machine.py:3649: FutureWarning: The `Worker.nthreads` attribute has been moved to `Worker.state.nthreads`\n",
      "  warnings.warn(\n",
      "/home/tunguz/.local/lib/python3.8/site-packages/distributed/worker_state_machine.py:3649: FutureWarning: The `Worker.nthreads` attribute has been moved to `Worker.state.nthreads`\n",
      "  warnings.warn(\n",
      "/home/tunguz/.local/lib/python3.8/site-packages/distributed/worker_state_machine.py:3649: FutureWarning: The `Worker.nthreads` attribute has been moved to `Worker.state.nthreads`\n",
      "  warnings.warn(\n",
      "/home/tunguz/.local/lib/python3.8/site-packages/distributed/worker_state_machine.py:3649: FutureWarning: The `Worker.nthreads` attribute has been moved to `Worker.state.nthreads`\n",
      "  warnings.warn(\n",
      "/home/tunguz/.local/lib/python3.8/site-packages/distributed/worker_state_machine.py:3649: FutureWarning: The `Worker.nthreads` attribute has been moved to `Worker.state.nthreads`\n",
      "  warnings.warn(\n",
      "/home/tunguz/.local/lib/python3.8/site-packages/distributed/worker_state_machine.py:3649: FutureWarning: The `Worker.nthreads` attribute has been moved to `Worker.state.nthreads`\n",
      "  warnings.warn(\n",
      "[13:56:37] task [xgboost.dask-0]:tcp://127.0.0.1:44335 got new rank 0\n",
      "\u001b[32m[I 2023-01-10 14:15:26,185]\u001b[0m Trial 41 finished with value: 0.4641818049691508 and parameters: {'objective': 'multi:softprob', 'tree_method': 'gpu_hist', 'lambda': 0.004022716004433113, 'alpha': 0.2540439041247785, 'colsample_bytree': 0.36557756931726487, 'subsample': 0.7903644879917879, 'learning_rate': 0.021443445732827422, 'max_depth': 23, 'min_child_weight': 17, 'eval_metric': 'logloss'}. Best is trial 37 with value: 0.4608722604713514.\u001b[0m\n",
      "/home/tunguz/.local/lib/python3.8/site-packages/xgboost/dask.py:884: RuntimeWarning: coroutine 'Client._wait_for_workers' was never awaited\n",
      "  client.wait_for_workers(n_workers)\n",
      "[14:15:26] task [xgboost.dask-0]:tcp://127.0.0.1:44335 got new rank 0\n",
      "\u001b[32m[I 2023-01-10 15:22:32,355]\u001b[0m Trial 42 finished with value: 0.46472814295834175 and parameters: {'objective': 'multi:softprob', 'tree_method': 'gpu_hist', 'lambda': 0.0010679465950301577, 'alpha': 0.3380981803421878, 'colsample_bytree': 0.40241769145335965, 'subsample': 0.8022143491388977, 'learning_rate': 0.022198754977975535, 'max_depth': 25, 'min_child_weight': 19, 'eval_metric': 'logloss'}. Best is trial 37 with value: 0.4608722604713514.\u001b[0m\n",
      "/home/tunguz/.local/lib/python3.8/site-packages/xgboost/dask.py:884: RuntimeWarning: coroutine 'Client._wait_for_workers' was never awaited\n",
      "  client.wait_for_workers(n_workers)\n",
      "[15:22:32] task [xgboost.dask-0]:tcp://127.0.0.1:44335 got new rank 0\n",
      "\u001b[32m[I 2023-01-10 15:32:35,204]\u001b[0m Trial 43 finished with value: 0.47099472942666515 and parameters: {'objective': 'multi:softprob', 'tree_method': 'gpu_hist', 'lambda': 0.0024103118914303367, 'alpha': 0.41506724800990996, 'colsample_bytree': 0.33960359413089747, 'subsample': 0.7359955976255932, 'learning_rate': 0.016591417736333432, 'max_depth': 22, 'min_child_weight': 41, 'eval_metric': 'logloss'}. Best is trial 37 with value: 0.4608722604713514.\u001b[0m\n",
      "/home/tunguz/.local/lib/python3.8/site-packages/xgboost/dask.py:884: RuntimeWarning: coroutine 'Client._wait_for_workers' was never awaited\n",
      "  client.wait_for_workers(n_workers)\n",
      "[15:32:35] task [xgboost.dask-0]:tcp://127.0.0.1:44335 got new rank 0\n",
      "\u001b[32m[I 2023-01-10 16:07:07,285]\u001b[0m Trial 44 finished with value: 0.47505469202455425 and parameters: {'objective': 'multi:softprob', 'tree_method': 'gpu_hist', 'lambda': 0.0107788872036621, 'alpha': 0.22506305298146434, 'colsample_bytree': 0.44504579723734045, 'subsample': 0.9695512767529207, 'learning_rate': 0.012843900330172176, 'max_depth': 24, 'min_child_weight': 63, 'eval_metric': 'logloss'}. Best is trial 37 with value: 0.4608722604713514.\u001b[0m\n",
      "/home/tunguz/.local/lib/python3.8/site-packages/xgboost/dask.py:884: RuntimeWarning: coroutine 'Client._wait_for_workers' was never awaited\n",
      "  client.wait_for_workers(n_workers)\n",
      "[16:07:07] task [xgboost.dask-0]:tcp://127.0.0.1:44335 got new rank 0\n",
      "\u001b[32m[I 2023-01-10 16:13:29,859]\u001b[0m Trial 45 finished with value: 0.47474359387120313 and parameters: {'objective': 'multi:softprob', 'tree_method': 'gpu_hist', 'lambda': 0.025104957116609396, 'alpha': 0.1462156236719809, 'colsample_bytree': 0.38610388493310677, 'subsample': 0.6747006925400135, 'learning_rate': 0.03216365596559099, 'max_depth': 21, 'min_child_weight': 14, 'eval_metric': 'logloss'}. Best is trial 37 with value: 0.4608722604713514.\u001b[0m\n",
      "/home/tunguz/.local/lib/python3.8/site-packages/xgboost/dask.py:884: RuntimeWarning: coroutine 'Client._wait_for_workers' was never awaited\n",
      "  client.wait_for_workers(n_workers)\n",
      "[16:13:29] task [xgboost.dask-0]:tcp://127.0.0.1:44335 got new rank 0\n",
      "\u001b[32m[I 2023-01-10 16:18:21,697]\u001b[0m Trial 46 finished with value: 0.4736422175835698 and parameters: {'objective': 'multi:softprob', 'tree_method': 'gpu_hist', 'lambda': 0.006028122446627817, 'alpha': 0.9083215751226664, 'colsample_bytree': 0.8932726892242245, 'subsample': 0.7583451886998367, 'learning_rate': 0.010843326233886846, 'max_depth': 20, 'min_child_weight': 30, 'eval_metric': 'logloss'}. Best is trial 37 with value: 0.4608722604713514.\u001b[0m\n",
      "/home/tunguz/.local/lib/python3.8/site-packages/xgboost/dask.py:884: RuntimeWarning: coroutine 'Client._wait_for_workers' was never awaited\n",
      "  client.wait_for_workers(n_workers)\n",
      "[16:18:21] task [xgboost.dask-0]:tcp://127.0.0.1:44335 got new rank 0\n",
      "\u001b[32m[I 2023-01-10 16:20:42,395]\u001b[0m Trial 47 finished with value: 0.5249478818480164 and parameters: {'objective': 'multi:softprob', 'tree_method': 'gpu_hist', 'lambda': 0.0018312913076830085, 'alpha': 0.039727051918783896, 'colsample_bytree': 0.30266086489917976, 'subsample': 0.8013687315530215, 'learning_rate': 0.0085252077256323, 'max_depth': 17, 'min_child_weight': 51, 'eval_metric': 'logloss'}. Best is trial 37 with value: 0.4608722604713514.\u001b[0m\n",
      "/home/tunguz/.local/lib/python3.8/site-packages/xgboost/dask.py:884: RuntimeWarning: coroutine 'Client._wait_for_workers' was never awaited\n",
      "  client.wait_for_workers(n_workers)\n",
      "[16:20:42] task [xgboost.dask-0]:tcp://127.0.0.1:44335 got new rank 0\n",
      "\u001b[32m[I 2023-01-10 16:44:50,036]\u001b[0m Trial 48 finished with value: 0.5260695563629081 and parameters: {'objective': 'multi:softprob', 'tree_method': 'gpu_hist', 'lambda': 0.0031985942259713887, 'alpha': 0.09279998551382788, 'colsample_bytree': 0.33979459252440103, 'subsample': 0.8421047838020315, 'learning_rate': 0.019609048943012884, 'max_depth': 23, 'min_child_weight': 1, 'eval_metric': 'logloss'}. Best is trial 37 with value: 0.4608722604713514.\u001b[0m\n",
      "/home/tunguz/.local/lib/python3.8/site-packages/xgboost/dask.py:884: RuntimeWarning: coroutine 'Client._wait_for_workers' was never awaited\n",
      "  client.wait_for_workers(n_workers)\n",
      "[16:44:50] task [xgboost.dask-0]:tcp://127.0.0.1:44335 got new rank 0\n",
      "\u001b[32m[I 2023-01-10 16:45:25,868]\u001b[0m Trial 49 finished with value: 0.5225288739060212 and parameters: {'objective': 'multi:softprob', 'tree_method': 'gpu_hist', 'lambda': 0.0055395712152264305, 'alpha': 0.3982430833969954, 'colsample_bytree': 0.36296545957137466, 'subsample': 0.9327360108054091, 'learning_rate': 0.025177217034825755, 'max_depth': 12, 'min_child_weight': 275, 'eval_metric': 'logloss'}. Best is trial 37 with value: 0.4608722604713514.\u001b[0m\n",
      "/home/tunguz/.local/lib/python3.8/site-packages/xgboost/dask.py:884: RuntimeWarning: coroutine 'Client._wait_for_workers' was never awaited\n",
      "  client.wait_for_workers(n_workers)\n",
      "[16:45:25] task [xgboost.dask-0]:tcp://127.0.0.1:44335 got new rank 0\n",
      "\u001b[32m[I 2023-01-10 16:46:41,038]\u001b[0m Trial 50 finished with value: 0.4896262062042226 and parameters: {'objective': 'multi:softprob', 'tree_method': 'gpu_hist', 'lambda': 0.013696953732267732, 'alpha': 0.1496169566321831, 'colsample_bytree': 0.4984146278689997, 'subsample': 0.8718711557612874, 'learning_rate': 0.014769235236973087, 'max_depth': 14, 'min_child_weight': 95, 'eval_metric': 'logloss'}. Best is trial 37 with value: 0.4608722604713514.\u001b[0m\n",
      "/home/tunguz/.local/lib/python3.8/site-packages/xgboost/dask.py:884: RuntimeWarning: coroutine 'Client._wait_for_workers' was never awaited\n",
      "  client.wait_for_workers(n_workers)\n",
      "[16:46:41] task [xgboost.dask-0]:tcp://127.0.0.1:44335 got new rank 0\n",
      "\u001b[32m[I 2023-01-10 16:49:43,364]\u001b[0m Trial 51 finished with value: 0.5202079531967774 and parameters: {'objective': 'multi:softprob', 'tree_method': 'gpu_hist', 'lambda': 0.00978159855735046, 'alpha': 0.06361878821897496, 'colsample_bytree': 0.8273719884310289, 'subsample': 0.7382837578223362, 'learning_rate': 0.013985240486858968, 'max_depth': 20, 'min_child_weight': 210, 'eval_metric': 'logloss'}. Best is trial 37 with value: 0.4608722604713514.\u001b[0m\n",
      "/home/tunguz/.local/lib/python3.8/site-packages/xgboost/dask.py:884: RuntimeWarning: coroutine 'Client._wait_for_workers' was never awaited\n",
      "  client.wait_for_workers(n_workers)\n",
      "[16:49:43] task [xgboost.dask-0]:tcp://127.0.0.1:44335 got new rank 0\n",
      "\u001b[32m[I 2023-01-10 16:56:20,458]\u001b[0m Trial 52 finished with value: 0.4747742325171832 and parameters: {'objective': 'multi:softprob', 'tree_method': 'gpu_hist', 'lambda': 0.03172981912254067, 'alpha': 0.020674369042972974, 'colsample_bytree': 0.7543359104478835, 'subsample': 0.6880784751754747, 'learning_rate': 0.02591104552137467, 'max_depth': 21, 'min_child_weight': 16, 'eval_metric': 'logloss'}. Best is trial 37 with value: 0.4608722604713514.\u001b[0m\n",
      "/home/tunguz/.local/lib/python3.8/site-packages/xgboost/dask.py:884: RuntimeWarning: coroutine 'Client._wait_for_workers' was never awaited\n",
      "  client.wait_for_workers(n_workers)\n",
      "[16:56:20] task [xgboost.dask-0]:tcp://127.0.0.1:44335 got new rank 0\n",
      "\u001b[32m[I 2023-01-10 17:01:10,414]\u001b[0m Trial 53 finished with value: 0.5111170167438699 and parameters: {'objective': 'multi:softprob', 'tree_method': 'gpu_hist', 'lambda': 0.008221579223544667, 'alpha': 0.009961358345035809, 'colsample_bytree': 0.4183789012639128, 'subsample': 0.7077288179425723, 'learning_rate': 0.006961873613261956, 'max_depth': 19, 'min_child_weight': 27, 'eval_metric': 'logloss'}. Best is trial 37 with value: 0.4608722604713514.\u001b[0m\n",
      "/home/tunguz/.local/lib/python3.8/site-packages/xgboost/dask.py:884: RuntimeWarning: coroutine 'Client._wait_for_workers' was never awaited\n",
      "  client.wait_for_workers(n_workers)\n",
      "[17:01:10] task [xgboost.dask-0]:tcp://127.0.0.1:44335 got new rank 0\n",
      "\u001b[32m[I 2023-01-10 17:05:14,278]\u001b[0m Trial 54 finished with value: 0.46937550360322744 and parameters: {'objective': 'multi:softprob', 'tree_method': 'gpu_hist', 'lambda': 0.0030421269273100747, 'alpha': 0.11012973736018117, 'colsample_bytree': 0.769834807544539, 'subsample': 0.7494526576637606, 'learning_rate': 0.011390598937037165, 'max_depth': 17, 'min_child_weight': 11, 'eval_metric': 'logloss'}. Best is trial 37 with value: 0.4608722604713514.\u001b[0m\n",
      "/home/tunguz/.local/lib/python3.8/site-packages/xgboost/dask.py:884: RuntimeWarning: coroutine 'Client._wait_for_workers' was never awaited\n",
      "  client.wait_for_workers(n_workers)\n",
      "[17:05:14] task [xgboost.dask-0]:tcp://127.0.0.1:44335 got new rank 0\n",
      "\u001b[32m[I 2023-01-10 17:08:50,456]\u001b[0m Trial 55 finished with value: 0.4723254224533702 and parameters: {'objective': 'multi:softprob', 'tree_method': 'gpu_hist', 'lambda': 0.007259596177838663, 'alpha': 0.6483311310201835, 'colsample_bytree': 0.8584051404808439, 'subsample': 0.6398161520037395, 'learning_rate': 0.01849518646629297, 'max_depth': 20, 'min_child_weight': 64, 'eval_metric': 'logloss'}. Best is trial 37 with value: 0.4608722604713514.\u001b[0m\n",
      "/home/tunguz/.local/lib/python3.8/site-packages/xgboost/dask.py:884: RuntimeWarning: coroutine 'Client._wait_for_workers' was never awaited\n",
      "  client.wait_for_workers(n_workers)\n",
      "[17:08:50] task [xgboost.dask-0]:tcp://127.0.0.1:44335 got new rank 0\n",
      "\u001b[32m[I 2023-01-10 17:20:35,864]\u001b[0m Trial 56 finished with value: 0.6444990314041324 and parameters: {'objective': 'multi:softprob', 'tree_method': 'gpu_hist', 'lambda': 0.07014835945405172, 'alpha': 0.19464869429672382, 'colsample_bytree': 0.55214734027066, 'subsample': 0.7733443203541525, 'learning_rate': 0.003294608758223184, 'max_depth': 22, 'min_child_weight': 43, 'eval_metric': 'logloss'}. Best is trial 37 with value: 0.4608722604713514.\u001b[0m\n",
      "/home/tunguz/.local/lib/python3.8/site-packages/xgboost/dask.py:884: RuntimeWarning: coroutine 'Client._wait_for_workers' was never awaited\n",
      "  client.wait_for_workers(n_workers)\n",
      "[17:20:35] task [xgboost.dask-0]:tcp://127.0.0.1:44335 got new rank 0\n",
      "\u001b[32m[I 2023-01-10 17:21:54,824]\u001b[0m Trial 57 finished with value: 0.4607898675220703 and parameters: {'objective': 'multi:softprob', 'tree_method': 'gpu_hist', 'lambda': 0.012640102177845357, 'alpha': 1.312359616060277, 'colsample_bytree': 0.32810854684857593, 'subsample': 0.9623639120556559, 'learning_rate': 0.03224235371831582, 'max_depth': 13, 'min_child_weight': 31, 'eval_metric': 'logloss'}. Best is trial 57 with value: 0.4607898675220703.\u001b[0m\n",
      "/home/tunguz/.local/lib/python3.8/site-packages/xgboost/dask.py:884: RuntimeWarning: coroutine 'Client._wait_for_workers' was never awaited\n",
      "  client.wait_for_workers(n_workers)\n",
      "[17:21:54] task [xgboost.dask-0]:tcp://127.0.0.1:44335 got new rank 0\n",
      "\u001b[32m[I 2023-01-10 17:23:30,046]\u001b[0m Trial 58 finished with value: 0.4613159610873243 and parameters: {'objective': 'multi:softprob', 'tree_method': 'gpu_hist', 'lambda': 0.012853542686052686, 'alpha': 1.2224380896877192, 'colsample_bytree': 0.33176254947770994, 'subsample': 0.9816083621395694, 'learning_rate': 0.032006781318543405, 'max_depth': 15, 'min_child_weight': 30, 'eval_metric': 'logloss'}. Best is trial 57 with value: 0.4607898675220703.\u001b[0m\n",
      "/home/tunguz/.local/lib/python3.8/site-packages/xgboost/dask.py:884: RuntimeWarning: coroutine 'Client._wait_for_workers' was never awaited\n",
      "  client.wait_for_workers(n_workers)\n",
      "[17:23:30] task [xgboost.dask-0]:tcp://127.0.0.1:44335 got new rank 0\n",
      "\u001b[32m[I 2023-01-10 17:25:02,530]\u001b[0m Trial 59 finished with value: 0.4618038449108241 and parameters: {'objective': 'multi:softprob', 'tree_method': 'gpu_hist', 'lambda': 0.022666352085363856, 'alpha': 1.404380858077532, 'colsample_bytree': 0.3339791483659732, 'subsample': 0.9762011763363677, 'learning_rate': 0.03342600194504129, 'max_depth': 15, 'min_child_weight': 32, 'eval_metric': 'logloss'}. Best is trial 57 with value: 0.4607898675220703.\u001b[0m\n",
      "/home/tunguz/.local/lib/python3.8/site-packages/xgboost/dask.py:884: RuntimeWarning: coroutine 'Client._wait_for_workers' was never awaited\n",
      "  client.wait_for_workers(n_workers)\n",
      "[17:25:02] task [xgboost.dask-0]:tcp://127.0.0.1:44335 got new rank 0\n",
      "\u001b[32m[I 2023-01-10 17:25:52,838]\u001b[0m Trial 60 finished with value: 0.4711703120367448 and parameters: {'objective': 'multi:softprob', 'tree_method': 'gpu_hist', 'lambda': 0.02444436283229725, 'alpha': 2.5492483317032635, 'colsample_bytree': 0.32710926183379374, 'subsample': 0.9808854035721615, 'learning_rate': 0.03601635913270007, 'max_depth': 11, 'min_child_weight': 68, 'eval_metric': 'logloss'}. Best is trial 57 with value: 0.4607898675220703.\u001b[0m\n",
      "/home/tunguz/.local/lib/python3.8/site-packages/xgboost/dask.py:884: RuntimeWarning: coroutine 'Client._wait_for_workers' was never awaited\n",
      "  client.wait_for_workers(n_workers)\n",
      "[17:25:52] task [xgboost.dask-0]:tcp://127.0.0.1:44335 got new rank 0\n",
      "\u001b[32m[I 2023-01-10 17:27:20,526]\u001b[0m Trial 61 finished with value: 0.4611508971651662 and parameters: {'objective': 'multi:softprob', 'tree_method': 'gpu_hist', 'lambda': 0.013016635978202594, 'alpha': 1.4391074202953422, 'colsample_bytree': 0.341752059974831, 'subsample': 0.9549206083751347, 'learning_rate': 0.031117202478166652, 'max_depth': 15, 'min_child_weight': 38, 'eval_metric': 'logloss'}. Best is trial 57 with value: 0.4607898675220703.\u001b[0m\n",
      "/home/tunguz/.local/lib/python3.8/site-packages/xgboost/dask.py:884: RuntimeWarning: coroutine 'Client._wait_for_workers' was never awaited\n",
      "  client.wait_for_workers(n_workers)\n",
      "[17:27:20] task [xgboost.dask-0]:tcp://127.0.0.1:44335 got new rank 0\n",
      "\u001b[32m[I 2023-01-10 17:28:46,273]\u001b[0m Trial 62 finished with value: 0.4635261710768283 and parameters: {'objective': 'multi:softprob', 'tree_method': 'gpu_hist', 'lambda': 0.012770701975241572, 'alpha': 1.6625605069438123, 'colsample_bytree': 0.3302915594606637, 'subsample': 0.9557649923603104, 'learning_rate': 0.03191176816245746, 'max_depth': 16, 'min_child_weight': 49, 'eval_metric': 'logloss'}. Best is trial 57 with value: 0.4607898675220703.\u001b[0m\n",
      "/home/tunguz/.local/lib/python3.8/site-packages/xgboost/dask.py:884: RuntimeWarning: coroutine 'Client._wait_for_workers' was never awaited\n",
      "  client.wait_for_workers(n_workers)\n",
      "[17:28:46] task [xgboost.dask-0]:tcp://127.0.0.1:44335 got new rank 0\n",
      "\u001b[32m[I 2023-01-10 17:30:06,447]\u001b[0m Trial 63 finished with value: 0.46940555721149174 and parameters: {'objective': 'multi:softprob', 'tree_method': 'gpu_hist', 'lambda': 0.03803177991205921, 'alpha': 1.2327169602955783, 'colsample_bytree': 0.3922604203984269, 'subsample': 0.9864302029169434, 'learning_rate': 0.048360868271063666, 'max_depth': 15, 'min_child_weight': 36, 'eval_metric': 'logloss'}. Best is trial 57 with value: 0.4607898675220703.\u001b[0m\n",
      "/home/tunguz/.local/lib/python3.8/site-packages/xgboost/dask.py:884: RuntimeWarning: coroutine 'Client._wait_for_workers' was never awaited\n",
      "  client.wait_for_workers(n_workers)\n",
      "[17:30:06] task [xgboost.dask-0]:tcp://127.0.0.1:44335 got new rank 0\n",
      "\u001b[32m[I 2023-01-10 17:32:02,957]\u001b[0m Trial 64 finished with value: 0.4739520239719221 and parameters: {'objective': 'multi:softprob', 'tree_method': 'gpu_hist', 'lambda': 0.01959442064262873, 'alpha': 6.319463762962964, 'colsample_bytree': 0.30179540382265, 'subsample': 0.9496957549019659, 'learning_rate': 0.05303963334615243, 'max_depth': 14, 'min_child_weight': 8, 'eval_metric': 'logloss'}. Best is trial 57 with value: 0.4607898675220703.\u001b[0m\n",
      "/home/tunguz/.local/lib/python3.8/site-packages/xgboost/dask.py:884: RuntimeWarning: coroutine 'Client._wait_for_workers' was never awaited\n",
      "  client.wait_for_workers(n_workers)\n",
      "[17:32:02] task [xgboost.dask-0]:tcp://127.0.0.1:44335 got new rank 0\n",
      "\u001b[32m[I 2023-01-10 17:32:59,488]\u001b[0m Trial 65 finished with value: 0.48105890979329613 and parameters: {'objective': 'multi:softprob', 'tree_method': 'gpu_hist', 'lambda': 0.04362084932624421, 'alpha': 0.8219910185032869, 'colsample_bytree': 0.4445089140410907, 'subsample': 0.8952165967419384, 'learning_rate': 0.08158874573923933, 'max_depth': 13, 'min_child_weight': 57, 'eval_metric': 'logloss'}. Best is trial 57 with value: 0.4607898675220703.\u001b[0m\n",
      "/home/tunguz/.local/lib/python3.8/site-packages/xgboost/dask.py:884: RuntimeWarning: coroutine 'Client._wait_for_workers' was never awaited\n",
      "  client.wait_for_workers(n_workers)\n",
      "[17:32:59] task [xgboost.dask-0]:tcp://127.0.0.1:44335 got new rank 0\n",
      "\u001b[32m[I 2023-01-10 17:34:44,426]\u001b[0m Trial 66 finished with value: 0.4617326711665172 and parameters: {'objective': 'multi:softprob', 'tree_method': 'gpu_hist', 'lambda': 0.026695695644036087, 'alpha': 1.3536225597231832, 'colsample_bytree': 0.34550680478027873, 'subsample': 0.9641920892249408, 'learning_rate': 0.027451132062100137, 'max_depth': 16, 'min_child_weight': 33, 'eval_metric': 'logloss'}. Best is trial 57 with value: 0.4607898675220703.\u001b[0m\n",
      "/home/tunguz/.local/lib/python3.8/site-packages/xgboost/dask.py:884: RuntimeWarning: coroutine 'Client._wait_for_workers' was never awaited\n",
      "  client.wait_for_workers(n_workers)\n",
      "[17:34:44] task [xgboost.dask-0]:tcp://127.0.0.1:44335 got new rank 0\n",
      "\u001b[32m[I 2023-01-10 17:38:14,445]\u001b[0m Trial 67 finished with value: 0.4740318395583811 and parameters: {'objective': 'multi:softprob', 'tree_method': 'gpu_hist', 'lambda': 0.013939404325516432, 'alpha': 2.161697941870712, 'colsample_bytree': 0.38471309670288223, 'subsample': 0.9556351622311823, 'learning_rate': 0.02632477852646886, 'max_depth': 17, 'min_child_weight': 7, 'eval_metric': 'logloss'}. Best is trial 57 with value: 0.4607898675220703.\u001b[0m\n",
      "/home/tunguz/.local/lib/python3.8/site-packages/xgboost/dask.py:884: RuntimeWarning: coroutine 'Client._wait_for_workers' was never awaited\n",
      "  client.wait_for_workers(n_workers)\n",
      "[17:38:14] task [xgboost.dask-0]:tcp://127.0.0.1:44335 got new rank 0\n",
      "\u001b[32m[I 2023-01-10 17:38:59,295]\u001b[0m Trial 68 finished with value: 0.4953929559406155 and parameters: {'objective': 'multi:softprob', 'tree_method': 'gpu_hist', 'lambda': 0.0735003296359273, 'alpha': 2.8372979103395504, 'colsample_bytree': 0.41784559192335125, 'subsample': 0.9084723603114605, 'learning_rate': 0.029158903394452904, 'max_depth': 12, 'min_child_weight': 184, 'eval_metric': 'logloss'}. Best is trial 57 with value: 0.4607898675220703.\u001b[0m\n",
      "/home/tunguz/.local/lib/python3.8/site-packages/xgboost/dask.py:884: RuntimeWarning: coroutine 'Client._wait_for_workers' was never awaited\n",
      "  client.wait_for_workers(n_workers)\n",
      "[17:38:59] task [xgboost.dask-0]:tcp://127.0.0.1:44335 got new rank 0\n",
      "\u001b[32m[I 2023-01-10 17:40:34,159]\u001b[0m Trial 69 finished with value: 0.47122861150170753 and parameters: {'objective': 'multi:softprob', 'tree_method': 'gpu_hist', 'lambda': 0.031623601503262634, 'alpha': 0.5530220737255128, 'colsample_bytree': 0.3500863889638036, 'subsample': 0.9947889837877797, 'learning_rate': 0.041046677599272025, 'max_depth': 18, 'min_child_weight': 74, 'eval_metric': 'logloss'}. Best is trial 57 with value: 0.4607898675220703.\u001b[0m\n",
      "/home/tunguz/.local/lib/python3.8/site-packages/xgboost/dask.py:884: RuntimeWarning: coroutine 'Client._wait_for_workers' was never awaited\n",
      "  client.wait_for_workers(n_workers)\n",
      "[17:40:34] task [xgboost.dask-0]:tcp://127.0.0.1:44335 got new rank 0\n",
      "\u001b[32m[I 2023-01-10 17:42:06,162]\u001b[0m Trial 70 finished with value: 0.4819123324898343 and parameters: {'objective': 'multi:softprob', 'tree_method': 'gpu_hist', 'lambda': 0.005963225112616779, 'alpha': 1.0908314016093186, 'colsample_bytree': 0.37173013782809183, 'subsample': 0.9215038156406895, 'learning_rate': 0.05653035761150559, 'max_depth': 16, 'min_child_weight': 25, 'eval_metric': 'logloss'}. Best is trial 57 with value: 0.4607898675220703.\u001b[0m\n",
      "/home/tunguz/.local/lib/python3.8/site-packages/xgboost/dask.py:884: RuntimeWarning: coroutine 'Client._wait_for_workers' was never awaited\n",
      "  client.wait_for_workers(n_workers)\n",
      "[17:42:06] task [xgboost.dask-0]:tcp://127.0.0.1:44335 got new rank 0\n",
      "\u001b[32m[I 2023-01-10 17:43:35,929]\u001b[0m Trial 71 finished with value: 0.46252895505270075 and parameters: {'objective': 'multi:softprob', 'tree_method': 'gpu_hist', 'lambda': 0.022161321368817828, 'alpha': 1.393889896176605, 'colsample_bytree': 0.3185759731186478, 'subsample': 0.9685730891187745, 'learning_rate': 0.03583372047234234, 'max_depth': 15, 'min_child_weight': 32, 'eval_metric': 'logloss'}. Best is trial 57 with value: 0.4607898675220703.\u001b[0m\n",
      "/home/tunguz/.local/lib/python3.8/site-packages/xgboost/dask.py:884: RuntimeWarning: coroutine 'Client._wait_for_workers' was never awaited\n",
      "  client.wait_for_workers(n_workers)\n",
      "[17:43:35] task [xgboost.dask-0]:tcp://127.0.0.1:44335 got new rank 0\n",
      "\u001b[32m[I 2023-01-10 17:44:55,429]\u001b[0m Trial 72 finished with value: 0.46167841096807 and parameters: {'objective': 'multi:softprob', 'tree_method': 'gpu_hist', 'lambda': 0.016012405636777947, 'alpha': 1.7345690879016349, 'colsample_bytree': 0.3414260897813984, 'subsample': 0.9785681537705708, 'learning_rate': 0.031412723826175264, 'max_depth': 14, 'min_child_weight': 40, 'eval_metric': 'logloss'}. Best is trial 57 with value: 0.4607898675220703.\u001b[0m\n",
      "/home/tunguz/.local/lib/python3.8/site-packages/xgboost/dask.py:884: RuntimeWarning: coroutine 'Client._wait_for_workers' was never awaited\n",
      "  client.wait_for_workers(n_workers)\n",
      "[17:44:55] task [xgboost.dask-0]:tcp://127.0.0.1:44335 got new rank 0\n",
      "\u001b[32m[I 2023-01-10 17:46:13,196]\u001b[0m Trial 73 finished with value: 0.4627560293441843 and parameters: {'objective': 'multi:softprob', 'tree_method': 'gpu_hist', 'lambda': 0.01011278789405712, 'alpha': 2.012590340535518, 'colsample_bytree': 0.34662858596099905, 'subsample': 0.9480917960610981, 'learning_rate': 0.02896550929827853, 'max_depth': 14, 'min_child_weight': 44, 'eval_metric': 'logloss'}. Best is trial 57 with value: 0.4607898675220703.\u001b[0m\n",
      "/home/tunguz/.local/lib/python3.8/site-packages/xgboost/dask.py:884: RuntimeWarning: coroutine 'Client._wait_for_workers' was never awaited\n",
      "  client.wait_for_workers(n_workers)\n",
      "[17:46:13] task [xgboost.dask-0]:tcp://127.0.0.1:44335 got new rank 0\n",
      "\u001b[32m[I 2023-01-10 17:47:25,772]\u001b[0m Trial 74 finished with value: 0.4686625308877614 and parameters: {'objective': 'multi:softprob', 'tree_method': 'gpu_hist', 'lambda': 0.01140768088240386, 'alpha': 0.7328713479100689, 'colsample_bytree': 0.397283088944349, 'subsample': 0.9996668613485792, 'learning_rate': 0.023286372637616175, 'max_depth': 13, 'min_child_weight': 55, 'eval_metric': 'logloss'}. Best is trial 57 with value: 0.4607898675220703.\u001b[0m\n",
      "/home/tunguz/.local/lib/python3.8/site-packages/xgboost/dask.py:884: RuntimeWarning: coroutine 'Client._wait_for_workers' was never awaited\n",
      "  client.wait_for_workers(n_workers)\n",
      "[17:47:25] task [xgboost.dask-0]:tcp://127.0.0.1:44335 got new rank 0\n",
      "\u001b[32m[I 2023-01-10 17:48:12,729]\u001b[0m Trial 75 finished with value: 0.4964808320105596 and parameters: {'objective': 'multi:softprob', 'tree_method': 'gpu_hist', 'lambda': 0.017180199791902894, 'alpha': 5.25832165839143, 'colsample_bytree': 0.37589922997584757, 'subsample': 0.884216041583532, 'learning_rate': 0.018942041941088606, 'max_depth': 10, 'min_child_weight': 89, 'eval_metric': 'logloss'}. Best is trial 57 with value: 0.4607898675220703.\u001b[0m\n",
      "/home/tunguz/.local/lib/python3.8/site-packages/xgboost/dask.py:884: RuntimeWarning: coroutine 'Client._wait_for_workers' was never awaited\n",
      "  client.wait_for_workers(n_workers)\n",
      "[17:48:12] task [xgboost.dask-0]:tcp://127.0.0.1:44335 got new rank 0\n",
      "\u001b[32m[I 2023-01-10 17:49:56,960]\u001b[0m Trial 76 finished with value: 0.46890313141505785 and parameters: {'objective': 'multi:softprob', 'tree_method': 'gpu_hist', 'lambda': 0.030523564029191593, 'alpha': 0.9740516927177405, 'colsample_bytree': 0.32285211759030374, 'subsample': 0.9346951887185656, 'learning_rate': 0.04052347217452504, 'max_depth': 16, 'min_child_weight': 24, 'eval_metric': 'logloss'}. Best is trial 57 with value: 0.4607898675220703.\u001b[0m\n",
      "/home/tunguz/.local/lib/python3.8/site-packages/xgboost/dask.py:884: RuntimeWarning: coroutine 'Client._wait_for_workers' was never awaited\n",
      "  client.wait_for_workers(n_workers)\n",
      "[17:49:56] task [xgboost.dask-0]:tcp://127.0.0.1:44335 got new rank 0\n",
      "\u001b[32m[I 2023-01-10 17:50:54,316]\u001b[0m Trial 77 finished with value: 0.47865391772050986 and parameters: {'objective': 'multi:softprob', 'tree_method': 'gpu_hist', 'lambda': 0.01599196664570496, 'alpha': 3.7750763231122213, 'colsample_bytree': 0.4305879686363948, 'subsample': 0.9634862429266565, 'learning_rate': 0.027139890187171258, 'max_depth': 13, 'min_child_weight': 111, 'eval_metric': 'logloss'}. Best is trial 57 with value: 0.4607898675220703.\u001b[0m\n",
      "/home/tunguz/.local/lib/python3.8/site-packages/xgboost/dask.py:884: RuntimeWarning: coroutine 'Client._wait_for_workers' was never awaited\n",
      "  client.wait_for_workers(n_workers)\n",
      "[17:50:54] task [xgboost.dask-0]:tcp://127.0.0.1:44335 got new rank 0\n",
      "\u001b[32m[I 2023-01-10 17:52:42,157]\u001b[0m Trial 78 finished with value: 0.47082467573697817 and parameters: {'objective': 'multi:softprob', 'tree_method': 'gpu_hist', 'lambda': 0.005206190389859499, 'alpha': 1.7876222197250615, 'colsample_bytree': 0.4074722674689505, 'subsample': 0.9127999522016503, 'learning_rate': 0.015674116174159935, 'max_depth': 14, 'min_child_weight': 37, 'eval_metric': 'logloss'}. Best is trial 57 with value: 0.4607898675220703.\u001b[0m\n",
      "/home/tunguz/.local/lib/python3.8/site-packages/xgboost/dask.py:884: RuntimeWarning: coroutine 'Client._wait_for_workers' was never awaited\n",
      "  client.wait_for_workers(n_workers)\n",
      "[17:52:42] task [xgboost.dask-0]:tcp://127.0.0.1:44335 got new rank 0\n",
      "\u001b[32m[I 2023-01-10 17:55:33,284]\u001b[0m Trial 79 finished with value: 0.46779279724602985 and parameters: {'objective': 'multi:softprob', 'tree_method': 'gpu_hist', 'lambda': 0.0069956705784799695, 'alpha': 0.6190791473242635, 'colsample_bytree': 0.45974783079815446, 'subsample': 0.9802397628119708, 'learning_rate': 0.022253247267127702, 'max_depth': 15, 'min_child_weight': 11, 'eval_metric': 'logloss'}. Best is trial 57 with value: 0.4607898675220703.\u001b[0m\n",
      "/home/tunguz/.local/lib/python3.8/site-packages/xgboost/dask.py:884: RuntimeWarning: coroutine 'Client._wait_for_workers' was never awaited\n",
      "  client.wait_for_workers(n_workers)\n",
      "[17:55:33] task [xgboost.dask-0]:tcp://127.0.0.1:44335 got new rank 0\n",
      "\u001b[32m[I 2023-01-10 17:57:11,064]\u001b[0m Trial 80 finished with value: 0.4693152465064773 and parameters: {'objective': 'multi:softprob', 'tree_method': 'gpu_hist', 'lambda': 0.12509901473331206, 'alpha': 3.279947743291727, 'colsample_bytree': 0.6100057619465051, 'subsample': 0.9425739255302878, 'learning_rate': 0.044178213528516246, 'max_depth': 17, 'min_child_weight': 47, 'eval_metric': 'logloss'}. Best is trial 57 with value: 0.4607898675220703.\u001b[0m\n",
      "/home/tunguz/.local/lib/python3.8/site-packages/xgboost/dask.py:884: RuntimeWarning: coroutine 'Client._wait_for_workers' was never awaited\n",
      "  client.wait_for_workers(n_workers)\n",
      "[17:57:11] task [xgboost.dask-0]:tcp://127.0.0.1:44335 got new rank 0\n",
      "\u001b[32m[I 2023-01-10 17:58:44,076]\u001b[0m Trial 81 finished with value: 0.4627467526653428 and parameters: {'objective': 'multi:softprob', 'tree_method': 'gpu_hist', 'lambda': 0.05163549244112425, 'alpha': 1.2503873452744956, 'colsample_bytree': 0.3438641767555245, 'subsample': 0.9814229499634597, 'learning_rate': 0.033452602247351075, 'max_depth': 15, 'min_child_weight': 31, 'eval_metric': 'logloss'}. Best is trial 57 with value: 0.4607898675220703.\u001b[0m\n",
      "/home/tunguz/.local/lib/python3.8/site-packages/xgboost/dask.py:884: RuntimeWarning: coroutine 'Client._wait_for_workers' was never awaited\n",
      "  client.wait_for_workers(n_workers)\n",
      "/home/tunguz/.local/lib/python3.8/site-packages/distributed/worker_state_machine.py:3649: FutureWarning: The `Worker.nthreads` attribute has been moved to `Worker.state.nthreads`\n",
      "  warnings.warn(\n",
      "/home/tunguz/.local/lib/python3.8/site-packages/distributed/worker_state_machine.py:3649: FutureWarning: The `Worker.nthreads` attribute has been moved to `Worker.state.nthreads`\n",
      "  warnings.warn(\n",
      "/home/tunguz/.local/lib/python3.8/site-packages/distributed/worker_state_machine.py:3649: FutureWarning: The `Worker.nthreads` attribute has been moved to `Worker.state.nthreads`\n",
      "  warnings.warn(\n",
      "/home/tunguz/.local/lib/python3.8/site-packages/distributed/worker_state_machine.py:3649: FutureWarning: The `Worker.nthreads` attribute has been moved to `Worker.state.nthreads`\n",
      "  warnings.warn(\n",
      "/home/tunguz/.local/lib/python3.8/site-packages/distributed/worker_state_machine.py:3649: FutureWarning: The `Worker.nthreads` attribute has been moved to `Worker.state.nthreads`\n",
      "  warnings.warn(\n",
      "/home/tunguz/.local/lib/python3.8/site-packages/distributed/worker_state_machine.py:3649: FutureWarning: The `Worker.nthreads` attribute has been moved to `Worker.state.nthreads`\n",
      "  warnings.warn(\n",
      "/home/tunguz/.local/lib/python3.8/site-packages/distributed/worker_state_machine.py:3649: FutureWarning: The `Worker.nthreads` attribute has been moved to `Worker.state.nthreads`\n",
      "  warnings.warn(\n",
      "/home/tunguz/.local/lib/python3.8/site-packages/distributed/worker_state_machine.py:3649: FutureWarning: The `Worker.nthreads` attribute has been moved to `Worker.state.nthreads`\n",
      "  warnings.warn(\n",
      "/home/tunguz/.local/lib/python3.8/site-packages/distributed/worker_state_machine.py:3649: FutureWarning: The `Worker.nthreads` attribute has been moved to `Worker.state.nthreads`\n",
      "  warnings.warn(\n",
      "/home/tunguz/.local/lib/python3.8/site-packages/distributed/worker_state_machine.py:3649: FutureWarning: The `Worker.nthreads` attribute has been moved to `Worker.state.nthreads`\n",
      "  warnings.warn(\n",
      "/home/tunguz/.local/lib/python3.8/site-packages/distributed/worker_state_machine.py:3649: FutureWarning: The `Worker.nthreads` attribute has been moved to `Worker.state.nthreads`\n",
      "  warnings.warn(\n",
      "/home/tunguz/.local/lib/python3.8/site-packages/distributed/worker_state_machine.py:3649: FutureWarning: The `Worker.nthreads` attribute has been moved to `Worker.state.nthreads`\n",
      "  warnings.warn(\n",
      "/home/tunguz/.local/lib/python3.8/site-packages/distributed/worker_state_machine.py:3649: FutureWarning: The `Worker.nthreads` attribute has been moved to `Worker.state.nthreads`\n",
      "  warnings.warn(\n",
      "/home/tunguz/.local/lib/python3.8/site-packages/distributed/worker_state_machine.py:3649: FutureWarning: The `Worker.nthreads` attribute has been moved to `Worker.state.nthreads`\n",
      "  warnings.warn(\n",
      "/home/tunguz/.local/lib/python3.8/site-packages/distributed/worker_state_machine.py:3649: FutureWarning: The `Worker.nthreads` attribute has been moved to `Worker.state.nthreads`\n",
      "  warnings.warn(\n",
      "/home/tunguz/.local/lib/python3.8/site-packages/distributed/worker_state_machine.py:3649: FutureWarning: The `Worker.nthreads` attribute has been moved to `Worker.state.nthreads`\n",
      "  warnings.warn(\n",
      "/home/tunguz/.local/lib/python3.8/site-packages/distributed/worker_state_machine.py:3649: FutureWarning: The `Worker.nthreads` attribute has been moved to `Worker.state.nthreads`\n",
      "  warnings.warn(\n",
      "/home/tunguz/.local/lib/python3.8/site-packages/distributed/worker_state_machine.py:3649: FutureWarning: The `Worker.nthreads` attribute has been moved to `Worker.state.nthreads`\n",
      "  warnings.warn(\n",
      "/home/tunguz/.local/lib/python3.8/site-packages/distributed/worker_state_machine.py:3649: FutureWarning: The `Worker.nthreads` attribute has been moved to `Worker.state.nthreads`\n",
      "  warnings.warn(\n",
      "/home/tunguz/.local/lib/python3.8/site-packages/distributed/worker_state_machine.py:3649: FutureWarning: The `Worker.nthreads` attribute has been moved to `Worker.state.nthreads`\n",
      "  warnings.warn(\n",
      "/home/tunguz/.local/lib/python3.8/site-packages/distributed/worker_state_machine.py:3649: FutureWarning: The `Worker.nthreads` attribute has been moved to `Worker.state.nthreads`\n",
      "  warnings.warn(\n",
      "/home/tunguz/.local/lib/python3.8/site-packages/distributed/worker_state_machine.py:3649: FutureWarning: The `Worker.nthreads` attribute has been moved to `Worker.state.nthreads`\n",
      "  warnings.warn(\n",
      "/home/tunguz/.local/lib/python3.8/site-packages/distributed/worker_state_machine.py:3649: FutureWarning: The `Worker.nthreads` attribute has been moved to `Worker.state.nthreads`\n",
      "  warnings.warn(\n",
      "/home/tunguz/.local/lib/python3.8/site-packages/distributed/worker_state_machine.py:3649: FutureWarning: The `Worker.nthreads` attribute has been moved to `Worker.state.nthreads`\n",
      "  warnings.warn(\n",
      "/home/tunguz/.local/lib/python3.8/site-packages/distributed/worker_state_machine.py:3649: FutureWarning: The `Worker.nthreads` attribute has been moved to `Worker.state.nthreads`\n",
      "  warnings.warn(\n",
      "/home/tunguz/.local/lib/python3.8/site-packages/distributed/worker_state_machine.py:3649: FutureWarning: The `Worker.nthreads` attribute has been moved to `Worker.state.nthreads`\n",
      "  warnings.warn(\n",
      "/home/tunguz/.local/lib/python3.8/site-packages/distributed/worker_state_machine.py:3649: FutureWarning: The `Worker.nthreads` attribute has been moved to `Worker.state.nthreads`\n",
      "  warnings.warn(\n",
      "/home/tunguz/.local/lib/python3.8/site-packages/distributed/worker_state_machine.py:3649: FutureWarning: The `Worker.nthreads` attribute has been moved to `Worker.state.nthreads`\n",
      "  warnings.warn(\n",
      "/home/tunguz/.local/lib/python3.8/site-packages/distributed/worker_state_machine.py:3649: FutureWarning: The `Worker.nthreads` attribute has been moved to `Worker.state.nthreads`\n",
      "  warnings.warn(\n",
      "/home/tunguz/.local/lib/python3.8/site-packages/distributed/worker_state_machine.py:3649: FutureWarning: The `Worker.nthreads` attribute has been moved to `Worker.state.nthreads`\n",
      "  warnings.warn(\n",
      "/home/tunguz/.local/lib/python3.8/site-packages/distributed/worker_state_machine.py:3649: FutureWarning: The `Worker.nthreads` attribute has been moved to `Worker.state.nthreads`\n",
      "  warnings.warn(\n",
      "/home/tunguz/.local/lib/python3.8/site-packages/distributed/worker_state_machine.py:3649: FutureWarning: The `Worker.nthreads` attribute has been moved to `Worker.state.nthreads`\n",
      "  warnings.warn(\n",
      "/home/tunguz/.local/lib/python3.8/site-packages/distributed/worker_state_machine.py:3649: FutureWarning: The `Worker.nthreads` attribute has been moved to `Worker.state.nthreads`\n",
      "  warnings.warn(\n",
      "/home/tunguz/.local/lib/python3.8/site-packages/distributed/worker_state_machine.py:3649: FutureWarning: The `Worker.nthreads` attribute has been moved to `Worker.state.nthreads`\n",
      "  warnings.warn(\n",
      "/home/tunguz/.local/lib/python3.8/site-packages/distributed/worker_state_machine.py:3649: FutureWarning: The `Worker.nthreads` attribute has been moved to `Worker.state.nthreads`\n",
      "  warnings.warn(\n",
      "/home/tunguz/.local/lib/python3.8/site-packages/distributed/worker_state_machine.py:3649: FutureWarning: The `Worker.nthreads` attribute has been moved to `Worker.state.nthreads`\n",
      "  warnings.warn(\n",
      "/home/tunguz/.local/lib/python3.8/site-packages/distributed/worker_state_machine.py:3649: FutureWarning: The `Worker.nthreads` attribute has been moved to `Worker.state.nthreads`\n",
      "  warnings.warn(\n",
      "/home/tunguz/.local/lib/python3.8/site-packages/distributed/worker_state_machine.py:3649: FutureWarning: The `Worker.nthreads` attribute has been moved to `Worker.state.nthreads`\n",
      "  warnings.warn(\n",
      "/home/tunguz/.local/lib/python3.8/site-packages/distributed/worker_state_machine.py:3649: FutureWarning: The `Worker.nthreads` attribute has been moved to `Worker.state.nthreads`\n",
      "  warnings.warn(\n",
      "/home/tunguz/.local/lib/python3.8/site-packages/distributed/worker_state_machine.py:3649: FutureWarning: The `Worker.nthreads` attribute has been moved to `Worker.state.nthreads`\n",
      "  warnings.warn(\n",
      "/home/tunguz/.local/lib/python3.8/site-packages/distributed/worker_state_machine.py:3649: FutureWarning: The `Worker.nthreads` attribute has been moved to `Worker.state.nthreads`\n",
      "  warnings.warn(\n",
      "[17:58:44] task [xgboost.dask-0]:tcp://127.0.0.1:44335 got new rank 0\n",
      "\u001b[32m[I 2023-01-10 18:00:28,561]\u001b[0m Trial 82 finished with value: 0.46355287578546567 and parameters: {'objective': 'multi:softprob', 'tree_method': 'gpu_hist', 'lambda': 0.02690010984108814, 'alpha': 1.4627495456295396, 'colsample_bytree': 0.3000215341241914, 'subsample': 0.9613070504511162, 'learning_rate': 0.03356588615572104, 'max_depth': 15, 'min_child_weight': 23, 'eval_metric': 'logloss'}. Best is trial 57 with value: 0.4607898675220703.\u001b[0m\n",
      "/home/tunguz/.local/lib/python3.8/site-packages/xgboost/dask.py:884: RuntimeWarning: coroutine 'Client._wait_for_workers' was never awaited\n",
      "  client.wait_for_workers(n_workers)\n",
      "[18:00:28] task [xgboost.dask-0]:tcp://127.0.0.1:44335 got new rank 0\n",
      "\u001b[32m[I 2023-01-10 18:02:04,000]\u001b[0m Trial 83 finished with value: 0.46260448539691007 and parameters: {'objective': 'multi:softprob', 'tree_method': 'gpu_hist', 'lambda': 0.010049974490770337, 'alpha': 0.8212240756728857, 'colsample_bytree': 0.3324190338056481, 'subsample': 0.9711324066345935, 'learning_rate': 0.029614772090828478, 'max_depth': 16, 'min_child_weight': 40, 'eval_metric': 'logloss'}. Best is trial 57 with value: 0.4607898675220703.\u001b[0m\n",
      "/home/tunguz/.local/lib/python3.8/site-packages/xgboost/dask.py:884: RuntimeWarning: coroutine 'Client._wait_for_workers' was never awaited\n",
      "  client.wait_for_workers(n_workers)\n",
      "[18:02:04] task [xgboost.dask-0]:tcp://127.0.0.1:44335 got new rank 0\n",
      "\u001b[32m[I 2023-01-10 18:03:22,103]\u001b[0m Trial 84 finished with value: 0.5145318636827189 and parameters: {'objective': 'multi:softprob', 'tree_method': 'gpu_hist', 'lambda': 0.021173344202846243, 'alpha': 0.46367086397885693, 'colsample_bytree': 0.35481574644200536, 'subsample': 0.9883254122872462, 'learning_rate': 0.020009023228770177, 'max_depth': 18, 'min_child_weight': 241, 'eval_metric': 'logloss'}. Best is trial 57 with value: 0.4607898675220703.\u001b[0m\n",
      "/home/tunguz/.local/lib/python3.8/site-packages/xgboost/dask.py:884: RuntimeWarning: coroutine 'Client._wait_for_workers' was never awaited\n",
      "  client.wait_for_workers(n_workers)\n",
      "[18:03:22] task [xgboost.dask-0]:tcp://127.0.0.1:44335 got new rank 0\n",
      "\u001b[32m[I 2023-01-10 18:04:53,742]\u001b[0m Trial 85 finished with value: 0.46489979255637315 and parameters: {'objective': 'multi:softprob', 'tree_method': 'gpu_hist', 'lambda': 0.015090225395846172, 'alpha': 2.590042850167293, 'colsample_bytree': 0.3205768945203658, 'subsample': 0.9281531505335674, 'learning_rate': 0.038637912221813266, 'max_depth': 12, 'min_child_weight': 14, 'eval_metric': 'logloss'}. Best is trial 57 with value: 0.4607898675220703.\u001b[0m\n",
      "/home/tunguz/.local/lib/python3.8/site-packages/xgboost/dask.py:884: RuntimeWarning: coroutine 'Client._wait_for_workers' was never awaited\n",
      "  client.wait_for_workers(n_workers)\n",
      "[18:04:53] task [xgboost.dask-0]:tcp://127.0.0.1:44335 got new rank 0\n",
      "\u001b[32m[I 2023-01-10 18:06:13,858]\u001b[0m Trial 86 finished with value: 0.47793934588901743 and parameters: {'objective': 'multi:softprob', 'tree_method': 'gpu_hist', 'lambda': 0.00882288390942346, 'alpha': 1.5884746683997695, 'colsample_bytree': 0.3703781309520851, 'subsample': 0.903154464810698, 'learning_rate': 0.016823285473438518, 'max_depth': 14, 'min_child_weight': 59, 'eval_metric': 'logloss'}. Best is trial 57 with value: 0.4607898675220703.\u001b[0m\n",
      "/home/tunguz/.local/lib/python3.8/site-packages/xgboost/dask.py:884: RuntimeWarning: coroutine 'Client._wait_for_workers' was never awaited\n",
      "  client.wait_for_workers(n_workers)\n",
      "[18:06:13] task [xgboost.dask-0]:tcp://127.0.0.1:44335 got new rank 0\n",
      "\u001b[32m[I 2023-01-10 18:09:04,817]\u001b[0m Trial 87 finished with value: 0.4832087055944473 and parameters: {'objective': 'multi:softprob', 'tree_method': 'gpu_hist', 'lambda': 0.011633158471726244, 'alpha': 0.2717989000636499, 'colsample_bytree': 0.3843277985608545, 'subsample': 0.9998445564633704, 'learning_rate': 0.024808456526912017, 'max_depth': 13, 'min_child_weight': 4, 'eval_metric': 'logloss'}. Best is trial 57 with value: 0.4607898675220703.\u001b[0m\n",
      "/home/tunguz/.local/lib/python3.8/site-packages/xgboost/dask.py:884: RuntimeWarning: coroutine 'Client._wait_for_workers' was never awaited\n",
      "  client.wait_for_workers(n_workers)\n",
      "[18:09:04] task [xgboost.dask-0]:tcp://127.0.0.1:44335 got new rank 0\n",
      "\u001b[32m[I 2023-01-10 18:10:13,082]\u001b[0m Trial 88 finished with value: 0.4672914793426799 and parameters: {'objective': 'multi:softprob', 'tree_method': 'gpu_hist', 'lambda': 0.017860738754464374, 'alpha': 1.1512723682540569, 'colsample_bytree': 0.3442787503459002, 'subsample': 0.9456390189861164, 'learning_rate': 0.02347920782866045, 'max_depth': 11, 'min_child_weight': 35, 'eval_metric': 'logloss'}. Best is trial 57 with value: 0.4607898675220703.\u001b[0m\n",
      "/home/tunguz/.local/lib/python3.8/site-packages/xgboost/dask.py:884: RuntimeWarning: coroutine 'Client._wait_for_workers' was never awaited\n",
      "  client.wait_for_workers(n_workers)\n",
      "[18:10:13] task [xgboost.dask-0]:tcp://127.0.0.1:44335 got new rank 0\n",
      "\u001b[32m[I 2023-01-10 18:15:09,961]\u001b[0m Trial 89 finished with value: 1.174820314957727 and parameters: {'objective': 'multi:softprob', 'tree_method': 'gpu_hist', 'lambda': 0.006438777729335549, 'alpha': 0.5529513266857623, 'colsample_bytree': 0.3144749694699386, 'subsample': 0.8774504377280161, 'learning_rate': 0.0011181964479196013, 'max_depth': 17, 'min_child_weight': 20, 'eval_metric': 'logloss'}. Best is trial 57 with value: 0.4607898675220703.\u001b[0m\n",
      "/home/tunguz/.local/lib/python3.8/site-packages/xgboost/dask.py:884: RuntimeWarning: coroutine 'Client._wait_for_workers' was never awaited\n",
      "  client.wait_for_workers(n_workers)\n",
      "[18:15:09] task [xgboost.dask-0]:tcp://127.0.0.1:44335 got new rank 0\n",
      "\u001b[32m[I 2023-01-10 18:16:26,323]\u001b[0m Trial 90 finished with value: 0.46796715999102745 and parameters: {'objective': 'multi:softprob', 'tree_method': 'gpu_hist', 'lambda': 0.0394468446275989, 'alpha': 0.0011197270797953646, 'colsample_bytree': 0.4028657338672966, 'subsample': 0.8499490788593946, 'learning_rate': 0.046024934789351324, 'max_depth': 16, 'min_child_weight': 50, 'eval_metric': 'logloss'}. Best is trial 57 with value: 0.4607898675220703.\u001b[0m\n",
      "/home/tunguz/.local/lib/python3.8/site-packages/xgboost/dask.py:884: RuntimeWarning: coroutine 'Client._wait_for_workers' was never awaited\n",
      "  client.wait_for_workers(n_workers)\n",
      "[18:16:26] task [xgboost.dask-0]:tcp://127.0.0.1:44335 got new rank 0\n",
      "\u001b[32m[I 2023-01-10 18:17:53,535]\u001b[0m Trial 91 finished with value: 0.45975595371814343 and parameters: {'objective': 'multi:softprob', 'tree_method': 'gpu_hist', 'lambda': 0.0037662068405339756, 'alpha': 0.9134879829728905, 'colsample_bytree': 0.36943065358207244, 'subsample': 0.9238327752115482, 'learning_rate': 0.027656731242101645, 'max_depth': 13, 'min_child_weight': 27, 'eval_metric': 'logloss'}. Best is trial 91 with value: 0.45975595371814343.\u001b[0m\n",
      "/home/tunguz/.local/lib/python3.8/site-packages/xgboost/dask.py:884: RuntimeWarning: coroutine 'Client._wait_for_workers' was never awaited\n",
      "  client.wait_for_workers(n_workers)\n",
      "[18:17:53] task [xgboost.dask-0]:tcp://127.0.0.1:44335 got new rank 0\n",
      "\u001b[32m[I 2023-01-10 18:19:18,945]\u001b[0m Trial 92 finished with value: 0.4622731199709405 and parameters: {'objective': 'multi:softprob', 'tree_method': 'gpu_hist', 'lambda': 0.002276710792286193, 'alpha': 0.8247943589036623, 'colsample_bytree': 0.3337377024275243, 'subsample': 0.9681857710372912, 'learning_rate': 0.03399345386319149, 'max_depth': 14, 'min_child_weight': 31, 'eval_metric': 'logloss'}. Best is trial 91 with value: 0.45975595371814343.\u001b[0m\n",
      "/home/tunguz/.local/lib/python3.8/site-packages/xgboost/dask.py:884: RuntimeWarning: coroutine 'Client._wait_for_workers' was never awaited\n",
      "  client.wait_for_workers(n_workers)\n",
      "[18:19:18] task [xgboost.dask-0]:tcp://127.0.0.1:44335 got new rank 0\n",
      "\u001b[32m[I 2023-01-10 18:23:51,313]\u001b[0m Trial 93 finished with value: 0.5026911577818587 and parameters: {'objective': 'multi:softprob', 'tree_method': 'gpu_hist', 'lambda': 0.0032761051449552393, 'alpha': 1.0257992989488032, 'colsample_bytree': 0.35853756162362366, 'subsample': 0.9158752136261149, 'learning_rate': 0.02845521009666712, 'max_depth': 15, 'min_child_weight': 1, 'eval_metric': 'logloss'}. Best is trial 91 with value: 0.45975595371814343.\u001b[0m\n",
      "/home/tunguz/.local/lib/python3.8/site-packages/xgboost/dask.py:884: RuntimeWarning: coroutine 'Client._wait_for_workers' was never awaited\n",
      "  client.wait_for_workers(n_workers)\n",
      "[18:23:51] task [xgboost.dask-0]:tcp://127.0.0.1:44335 got new rank 0\n",
      "\u001b[32m[I 2023-01-10 18:25:08,779]\u001b[0m Trial 94 finished with value: 0.4631676699817525 and parameters: {'objective': 'multi:softprob', 'tree_method': 'gpu_hist', 'lambda': 0.005228632339272837, 'alpha': 2.2322448023309707, 'colsample_bytree': 0.37739247347416294, 'subsample': 0.9392634220908557, 'learning_rate': 0.03153563417290121, 'max_depth': 10, 'min_child_weight': 12, 'eval_metric': 'logloss'}. Best is trial 91 with value: 0.45975595371814343.\u001b[0m\n",
      "/home/tunguz/.local/lib/python3.8/site-packages/xgboost/dask.py:884: RuntimeWarning: coroutine 'Client._wait_for_workers' was never awaited\n",
      "  client.wait_for_workers(n_workers)\n",
      "[18:25:08] task [xgboost.dask-0]:tcp://127.0.0.1:44335 got new rank 0\n",
      "\u001b[32m[I 2023-01-10 18:28:49,604]\u001b[0m Trial 95 finished with value: 0.46160758747230934 and parameters: {'objective': 'multi:softprob', 'tree_method': 'gpu_hist', 'lambda': 0.0016007816169134662, 'alpha': 0.3544902227183224, 'colsample_bytree': 0.44795636901424496, 'subsample': 0.9566860104660571, 'learning_rate': 0.020752236272047715, 'max_depth': 19, 'min_child_weight': 24, 'eval_metric': 'logloss'}. Best is trial 91 with value: 0.45975595371814343.\u001b[0m\n",
      "/home/tunguz/.local/lib/python3.8/site-packages/xgboost/dask.py:884: RuntimeWarning: coroutine 'Client._wait_for_workers' was never awaited\n",
      "  client.wait_for_workers(n_workers)\n",
      "[18:28:49] task [xgboost.dask-0]:tcp://127.0.0.1:44335 got new rank 0\n",
      "\u001b[32m[I 2023-01-10 18:32:34,436]\u001b[0m Trial 96 finished with value: 0.46169315645017206 and parameters: {'objective': 'multi:softprob', 'tree_method': 'gpu_hist', 'lambda': 0.002015502155844919, 'alpha': 0.37509831214958955, 'colsample_bytree': 0.43968782865087325, 'subsample': 0.9563633271619938, 'learning_rate': 0.020413278572996643, 'max_depth': 19, 'min_child_weight': 23, 'eval_metric': 'logloss'}. Best is trial 91 with value: 0.45975595371814343.\u001b[0m\n",
      "/home/tunguz/.local/lib/python3.8/site-packages/xgboost/dask.py:884: RuntimeWarning: coroutine 'Client._wait_for_workers' was never awaited\n",
      "  client.wait_for_workers(n_workers)\n",
      "[18:32:34] task [xgboost.dask-0]:tcp://127.0.0.1:44335 got new rank 0\n",
      "\u001b[32m[I 2023-01-10 18:36:22,117]\u001b[0m Trial 97 finished with value: 0.461352206092675 and parameters: {'objective': 'multi:softprob', 'tree_method': 'gpu_hist', 'lambda': 0.0015659160448828896, 'alpha': 0.4151188303035374, 'colsample_bytree': 0.5383733083988086, 'subsample': 0.8906420840937807, 'learning_rate': 0.017140506963750766, 'max_depth': 19, 'min_child_weight': 22, 'eval_metric': 'logloss'}. Best is trial 91 with value: 0.45975595371814343.\u001b[0m\n",
      "/home/tunguz/.local/lib/python3.8/site-packages/xgboost/dask.py:884: RuntimeWarning: coroutine 'Client._wait_for_workers' was never awaited\n",
      "  client.wait_for_workers(n_workers)\n",
      "[18:36:22] task [xgboost.dask-0]:tcp://127.0.0.1:44335 got new rank 0\n",
      "\u001b[32m[I 2023-01-10 18:40:30,321]\u001b[0m Trial 98 finished with value: 0.4625065787097659 and parameters: {'objective': 'multi:softprob', 'tree_method': 'gpu_hist', 'lambda': 0.0014126998551097403, 'alpha': 0.2971053510243061, 'colsample_bytree': 0.49156079920227047, 'subsample': 0.8943570502098452, 'learning_rate': 0.018367288531278683, 'max_depth': 19, 'min_child_weight': 17, 'eval_metric': 'logloss'}. Best is trial 91 with value: 0.45975595371814343.\u001b[0m\n",
      "/home/tunguz/.local/lib/python3.8/site-packages/xgboost/dask.py:884: RuntimeWarning: coroutine 'Client._wait_for_workers' was never awaited\n",
      "  client.wait_for_workers(n_workers)\n",
      "[18:40:30] task [xgboost.dask-0]:tcp://127.0.0.1:44335 got new rank 0\n",
      "\u001b[32m[I 2023-01-10 18:42:52,403]\u001b[0m Trial 99 finished with value: 0.46467959012287635 and parameters: {'objective': 'multi:softprob', 'tree_method': 'gpu_hist', 'lambda': 0.0014273544527827456, 'alpha': 0.5178110849151589, 'colsample_bytree': 0.5425382511764955, 'subsample': 0.865584022096158, 'learning_rate': 0.017580945415701058, 'max_depth': 18, 'min_child_weight': 45, 'eval_metric': 'logloss'}. Best is trial 91 with value: 0.45975595371814343.\u001b[0m\n",
      "/home/tunguz/.local/lib/python3.8/site-packages/xgboost/dask.py:884: RuntimeWarning: coroutine 'Client._wait_for_workers' was never awaited\n",
      "  client.wait_for_workers(n_workers)\n",
      "[18:42:52] task [xgboost.dask-0]:tcp://127.0.0.1:44335 got new rank 0\n",
      "\u001b[32m[I 2023-01-10 18:46:40,004]\u001b[0m Trial 100 finished with value: 0.46952037246041844 and parameters: {'objective': 'multi:softprob', 'tree_method': 'gpu_hist', 'lambda': 0.0016871443086808496, 'alpha': 0.6964670912645199, 'colsample_bytree': 0.5232252145645966, 'subsample': 0.9255581864436205, 'learning_rate': 0.01592807610699998, 'max_depth': 20, 'min_child_weight': 65, 'eval_metric': 'logloss'}. Best is trial 91 with value: 0.45975595371814343.\u001b[0m\n",
      "/home/tunguz/.local/lib/python3.8/site-packages/xgboost/dask.py:884: RuntimeWarning: coroutine 'Client._wait_for_workers' was never awaited\n",
      "  client.wait_for_workers(n_workers)\n",
      "[18:46:40] task [xgboost.dask-0]:tcp://127.0.0.1:44335 got new rank 0\n",
      "\u001b[32m[I 2023-01-10 18:50:09,762]\u001b[0m Trial 101 finished with value: 0.4597008593239916 and parameters: {'objective': 'multi:softprob', 'tree_method': 'gpu_hist', 'lambda': 0.0010575876061231088, 'alpha': 0.33478631384699725, 'colsample_bytree': 0.4394546378876128, 'subsample': 0.8255796441357609, 'learning_rate': 0.020473158943286263, 'max_depth': 19, 'min_child_weight': 25, 'eval_metric': 'logloss'}. Best is trial 101 with value: 0.4597008593239916.\u001b[0m\n"
     ]
    },
    {
     "name": "stdout",
     "output_type": "stream",
     "text": [
      "CPU times: user 13min 52s, sys: 5min 58s, total: 19min 50s\n",
      "Wall time: 7h 50min 13s\n"
     ]
    }
   ],
   "source": [
    "%%time\n",
    "study.optimize(objective, n_trials=100)"
   ]
  },
  {
   "cell_type": "code",
   "execution_count": 15,
   "metadata": {},
   "outputs": [
    {
     "data": {
      "text/plain": [
       "{'objective': 'multi:softprob',\n",
       " 'tree_method': 'gpu_hist',\n",
       " 'lambda': 0.0010575876061231088,\n",
       " 'alpha': 0.33478631384699725,\n",
       " 'colsample_bytree': 0.4394546378876128,\n",
       " 'subsample': 0.8255796441357609,\n",
       " 'learning_rate': 0.020473158943286263,\n",
       " 'max_depth': 19,\n",
       " 'min_child_weight': 25,\n",
       " 'eval_metric': 'logloss'}"
      ]
     },
     "execution_count": 15,
     "metadata": {},
     "output_type": "execute_result"
    }
   ],
   "source": [
    "study.best_trial.params"
   ]
  },
  {
   "cell_type": "code",
   "execution_count": 16,
   "metadata": {},
   "outputs": [],
   "source": [
    "real_test_x = dd.read_csv('../input/otto_ii/xgtest.csv')"
   ]
  },
  {
   "cell_type": "code",
   "execution_count": 17,
   "metadata": {},
   "outputs": [],
   "source": [
    "real_test_y = real_test_x['target']\n",
    "real_test_x = real_test_x[real_test_x.columns.difference(['target'])]"
   ]
  },
  {
   "cell_type": "code",
   "execution_count": 18,
   "metadata": {},
   "outputs": [],
   "source": [
    "drealtest = xgb.dask.DaskDMatrix(client, real_test_x, real_test_y)"
   ]
  },
  {
   "cell_type": "code",
   "execution_count": 19,
   "metadata": {},
   "outputs": [
    {
     "name": "stderr",
     "output_type": "stream",
     "text": [
      "/home/tunguz/.local/lib/python3.8/site-packages/xgboost/dask.py:884: RuntimeWarning: coroutine 'Client._wait_for_workers' was never awaited\n",
      "  client.wait_for_workers(n_workers)\n",
      "[18:50:09] task [xgboost.dask-0]:tcp://127.0.0.1:44335 got new rank 0\n"
     ]
    },
    {
     "data": {
      "text/plain": [
       "0.4430504632299437"
      ]
     },
     "execution_count": 19,
     "metadata": {},
     "output_type": "execute_result"
    }
   ],
   "source": [
    "params = study.best_trial.params\n",
    "params['num_class']= 9\n",
    "\n",
    "output = xgb.dask.train(client, params, dtrain, num_round)\n",
    "    \n",
    "booster = output['booster']  # booster is the trained model\n",
    "booster.set_param({'predictor': 'gpu_predictor'})\n",
    "\n",
    "\n",
    "predictions = xgb.dask.predict(client, booster, drealtest)\n",
    "    \n",
    "predictions = predictions.compute()\n",
    "\n",
    "log_loss(real_test_y, predictions)"
   ]
  },
  {
   "cell_type": "code",
   "execution_count": 20,
   "metadata": {},
   "outputs": [
    {
     "name": "stderr",
     "output_type": "stream",
     "text": [
      "/home/tunguz/.local/lib/python3.8/site-packages/xgboost/dask.py:884: RuntimeWarning: coroutine 'Client._wait_for_workers' was never awaited\n",
      "  client.wait_for_workers(n_workers)\n",
      "[18:53:40] task [xgboost.dask-0]:tcp://127.0.0.1:44335 got new rank 0\n"
     ]
    },
    {
     "name": "stdout",
     "output_type": "stream",
     "text": [
      "CPU times: user 6.87 s, sys: 2.33 s, total: 9.2 s\n",
      "Wall time: 3min 30s\n"
     ]
    },
    {
     "data": {
      "text/plain": [
       "0.4435049703227145"
      ]
     },
     "execution_count": 20,
     "metadata": {},
     "output_type": "execute_result"
    }
   ],
   "source": [
    "%%time\n",
    "params = study.best_trial.params\n",
    "params['seed'] = 2022\n",
    "params['num_class']= 9\n",
    "\n",
    "output = xgb.dask.train(client, params, dtrain, num_round)\n",
    "    \n",
    "booster = output['booster']  # booster is the trained model\n",
    "booster.set_param({'predictor': 'gpu_predictor'})\n",
    "\n",
    "predictions = xgb.dask.predict(client, booster, drealtest)\n",
    "    \n",
    "predictions = predictions.compute()\n",
    "\n",
    "log_loss(real_test_y, predictions)"
   ]
  },
  {
   "cell_type": "code",
   "execution_count": 21,
   "metadata": {},
   "outputs": [
    {
     "name": "stdout",
     "output_type": "stream",
     "text": [
      "0\n"
     ]
    },
    {
     "name": "stderr",
     "output_type": "stream",
     "text": [
      "/home/tunguz/.local/lib/python3.8/site-packages/xgboost/dask.py:884: RuntimeWarning: coroutine 'Client._wait_for_workers' was never awaited\n",
      "  client.wait_for_workers(n_workers)\n",
      "[18:57:10] task [xgboost.dask-0]:tcp://127.0.0.1:44335 got new rank 0\n"
     ]
    },
    {
     "name": "stdout",
     "output_type": "stream",
     "text": [
      "0.4429026214542405\n",
      "1\n"
     ]
    },
    {
     "name": "stderr",
     "output_type": "stream",
     "text": [
      "/home/tunguz/.local/lib/python3.8/site-packages/xgboost/dask.py:884: RuntimeWarning: coroutine 'Client._wait_for_workers' was never awaited\n",
      "  client.wait_for_workers(n_workers)\n",
      "[19:00:42] task [xgboost.dask-0]:tcp://127.0.0.1:44335 got new rank 0\n"
     ]
    },
    {
     "name": "stdout",
     "output_type": "stream",
     "text": [
      "0.44310151038980744\n",
      "2\n"
     ]
    },
    {
     "name": "stderr",
     "output_type": "stream",
     "text": [
      "/home/tunguz/.local/lib/python3.8/site-packages/xgboost/dask.py:884: RuntimeWarning: coroutine 'Client._wait_for_workers' was never awaited\n",
      "  client.wait_for_workers(n_workers)\n",
      "[19:04:14] task [xgboost.dask-0]:tcp://127.0.0.1:44335 got new rank 0\n"
     ]
    },
    {
     "name": "stdout",
     "output_type": "stream",
     "text": [
      "0.44230661762606355\n",
      "3\n"
     ]
    },
    {
     "name": "stderr",
     "output_type": "stream",
     "text": [
      "/home/tunguz/.local/lib/python3.8/site-packages/xgboost/dask.py:884: RuntimeWarning: coroutine 'Client._wait_for_workers' was never awaited\n",
      "  client.wait_for_workers(n_workers)\n",
      "[19:07:45] task [xgboost.dask-0]:tcp://127.0.0.1:44335 got new rank 0\n"
     ]
    },
    {
     "name": "stdout",
     "output_type": "stream",
     "text": [
      "0.4423600089363706\n",
      "4\n"
     ]
    },
    {
     "name": "stderr",
     "output_type": "stream",
     "text": [
      "/home/tunguz/.local/lib/python3.8/site-packages/xgboost/dask.py:884: RuntimeWarning: coroutine 'Client._wait_for_workers' was never awaited\n",
      "  client.wait_for_workers(n_workers)\n",
      "[19:11:17] task [xgboost.dask-0]:tcp://127.0.0.1:44335 got new rank 0\n"
     ]
    },
    {
     "name": "stdout",
     "output_type": "stream",
     "text": [
      "0.44277320056550507\n",
      "5\n"
     ]
    },
    {
     "name": "stderr",
     "output_type": "stream",
     "text": [
      "/home/tunguz/.local/lib/python3.8/site-packages/xgboost/dask.py:884: RuntimeWarning: coroutine 'Client._wait_for_workers' was never awaited\n",
      "  client.wait_for_workers(n_workers)\n",
      "[19:14:48] task [xgboost.dask-0]:tcp://127.0.0.1:44335 got new rank 0\n"
     ]
    },
    {
     "name": "stdout",
     "output_type": "stream",
     "text": [
      "0.4430489046320831\n",
      "6\n"
     ]
    },
    {
     "name": "stderr",
     "output_type": "stream",
     "text": [
      "/home/tunguz/.local/lib/python3.8/site-packages/xgboost/dask.py:884: RuntimeWarning: coroutine 'Client._wait_for_workers' was never awaited\n",
      "  client.wait_for_workers(n_workers)\n",
      "[19:18:18] task [xgboost.dask-0]:tcp://127.0.0.1:44335 got new rank 0\n"
     ]
    },
    {
     "name": "stdout",
     "output_type": "stream",
     "text": [
      "0.442724870259187\n",
      "7\n"
     ]
    },
    {
     "name": "stderr",
     "output_type": "stream",
     "text": [
      "/home/tunguz/.local/lib/python3.8/site-packages/xgboost/dask.py:884: RuntimeWarning: coroutine 'Client._wait_for_workers' was never awaited\n",
      "  client.wait_for_workers(n_workers)\n",
      "[19:21:49] task [xgboost.dask-0]:tcp://127.0.0.1:44335 got new rank 0\n"
     ]
    },
    {
     "name": "stdout",
     "output_type": "stream",
     "text": [
      "0.4438044021812578\n",
      "8\n"
     ]
    },
    {
     "name": "stderr",
     "output_type": "stream",
     "text": [
      "/home/tunguz/.local/lib/python3.8/site-packages/xgboost/dask.py:884: RuntimeWarning: coroutine 'Client._wait_for_workers' was never awaited\n",
      "  client.wait_for_workers(n_workers)\n",
      "[19:25:19] task [xgboost.dask-0]:tcp://127.0.0.1:44335 got new rank 0\n"
     ]
    },
    {
     "name": "stdout",
     "output_type": "stream",
     "text": [
      "0.44340863200081954\n",
      "9\n"
     ]
    },
    {
     "name": "stderr",
     "output_type": "stream",
     "text": [
      "/home/tunguz/.local/lib/python3.8/site-packages/xgboost/dask.py:884: RuntimeWarning: coroutine 'Client._wait_for_workers' was never awaited\n",
      "  client.wait_for_workers(n_workers)\n",
      "[19:28:50] task [xgboost.dask-0]:tcp://127.0.0.1:44335 got new rank 0\n"
     ]
    },
    {
     "name": "stdout",
     "output_type": "stream",
     "text": [
      "0.4424844386888307\n",
      "10\n"
     ]
    },
    {
     "name": "stderr",
     "output_type": "stream",
     "text": [
      "/home/tunguz/.local/lib/python3.8/site-packages/xgboost/dask.py:884: RuntimeWarning: coroutine 'Client._wait_for_workers' was never awaited\n",
      "  client.wait_for_workers(n_workers)\n",
      "[19:32:20] task [xgboost.dask-0]:tcp://127.0.0.1:44335 got new rank 0\n"
     ]
    },
    {
     "name": "stdout",
     "output_type": "stream",
     "text": [
      "0.4434619500164981\n",
      "11\n"
     ]
    },
    {
     "name": "stderr",
     "output_type": "stream",
     "text": [
      "/home/tunguz/.local/lib/python3.8/site-packages/xgboost/dask.py:884: RuntimeWarning: coroutine 'Client._wait_for_workers' was never awaited\n",
      "  client.wait_for_workers(n_workers)\n",
      "[19:35:50] task [xgboost.dask-0]:tcp://127.0.0.1:44335 got new rank 0\n"
     ]
    },
    {
     "name": "stdout",
     "output_type": "stream",
     "text": [
      "0.44286124892959583\n",
      "12\n"
     ]
    },
    {
     "name": "stderr",
     "output_type": "stream",
     "text": [
      "/home/tunguz/.local/lib/python3.8/site-packages/xgboost/dask.py:884: RuntimeWarning: coroutine 'Client._wait_for_workers' was never awaited\n",
      "  client.wait_for_workers(n_workers)\n",
      "[19:39:20] task [xgboost.dask-0]:tcp://127.0.0.1:44335 got new rank 0\n"
     ]
    },
    {
     "name": "stdout",
     "output_type": "stream",
     "text": [
      "0.44288707237441916\n",
      "13\n"
     ]
    },
    {
     "name": "stderr",
     "output_type": "stream",
     "text": [
      "/home/tunguz/.local/lib/python3.8/site-packages/xgboost/dask.py:884: RuntimeWarning: coroutine 'Client._wait_for_workers' was never awaited\n",
      "  client.wait_for_workers(n_workers)\n",
      "[19:42:50] task [xgboost.dask-0]:tcp://127.0.0.1:44335 got new rank 0\n"
     ]
    },
    {
     "name": "stdout",
     "output_type": "stream",
     "text": [
      "0.44249761943384397\n",
      "14\n"
     ]
    },
    {
     "name": "stderr",
     "output_type": "stream",
     "text": [
      "/home/tunguz/.local/lib/python3.8/site-packages/xgboost/dask.py:884: RuntimeWarning: coroutine 'Client._wait_for_workers' was never awaited\n",
      "  client.wait_for_workers(n_workers)\n",
      "[19:46:22] task [xgboost.dask-0]:tcp://127.0.0.1:44335 got new rank 0\n"
     ]
    },
    {
     "name": "stdout",
     "output_type": "stream",
     "text": [
      "0.44321041220501883\n",
      "CPU times: user 1min 37s, sys: 41.5 s, total: 2min 19s\n",
      "Wall time: 52min 43s\n"
     ]
    }
   ],
   "source": [
    "%%time \n",
    "scores = []\n",
    "\n",
    "for jj in range(15):\n",
    "    print(jj)\n",
    "    params = study.best_trial.params\n",
    "    params['num_class']= 9\n",
    "    params['seed'] = 5*jj**3 + 137\n",
    "\n",
    "    output = xgb.dask.train(client, params, dtrain, num_round)\n",
    "\n",
    "    booster = output['booster']  # booster is the trained model\n",
    "    booster.set_param({'predictor': 'gpu_predictor'})\n",
    "\n",
    "    predictions = xgb.dask.predict(client, booster, drealtest)\n",
    "\n",
    "    predictions = predictions.compute()\n",
    "    \n",
    "    error = log_loss(real_test_y, predictions)\n",
    "\n",
    "    scores.append(error)\n",
    "    print(error)"
   ]
  },
  {
   "cell_type": "code",
   "execution_count": 22,
   "metadata": {},
   "outputs": [
    {
     "data": {
      "text/plain": [
       "[0.4429026214542405,\n",
       " 0.44310151038980744,\n",
       " 0.44230661762606355,\n",
       " 0.4423600089363706,\n",
       " 0.44277320056550507,\n",
       " 0.4430489046320831,\n",
       " 0.442724870259187,\n",
       " 0.4438044021812578,\n",
       " 0.44340863200081954,\n",
       " 0.4424844386888307,\n",
       " 0.4434619500164981,\n",
       " 0.44286124892959583,\n",
       " 0.44288707237441916,\n",
       " 0.44249761943384397,\n",
       " 0.44321041220501883]"
      ]
     },
     "execution_count": 22,
     "metadata": {},
     "output_type": "execute_result"
    }
   ],
   "source": [
    "scores"
   ]
  },
  {
   "cell_type": "code",
   "execution_count": 23,
   "metadata": {},
   "outputs": [
    {
     "data": {
      "text/plain": [
       "0.4429222339795694"
      ]
     },
     "execution_count": 23,
     "metadata": {},
     "output_type": "execute_result"
    }
   ],
   "source": [
    "import numpy as np\n",
    "np.mean(scores)"
   ]
  },
  {
   "cell_type": "code",
   "execution_count": null,
   "metadata": {},
   "outputs": [],
   "source": []
  }
 ],
 "metadata": {
  "kernelspec": {
   "display_name": "Python 3 (ipykernel)",
   "language": "python",
   "name": "python3"
  },
  "language_info": {
   "codemirror_mode": {
    "name": "ipython",
    "version": 3
   },
   "file_extension": ".py",
   "mimetype": "text/x-python",
   "name": "python",
   "nbconvert_exporter": "python",
   "pygments_lexer": "ipython3",
   "version": "3.8.10"
  }
 },
 "nbformat": 4,
 "nbformat_minor": 4
}
