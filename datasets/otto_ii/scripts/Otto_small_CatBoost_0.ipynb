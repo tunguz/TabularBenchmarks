{
 "cells": [
  {
   "cell_type": "code",
   "execution_count": 1,
   "id": "ef35210e-c6b9-4ec2-91c8-2a8cd9e854d3",
   "metadata": {},
   "outputs": [],
   "source": [
    "%load_ext watermark"
   ]
  },
  {
   "cell_type": "code",
   "execution_count": 2,
   "id": "af6a911c-328c-46ef-bb5c-5b57266a8bc3",
   "metadata": {},
   "outputs": [
    {
     "name": "stdout",
     "output_type": "stream",
     "text": [
      "Last updated: 2022-12-12T09:37:12.588091-05:00\n",
      "\n",
      "Python implementation: CPython\n",
      "Python version       : 3.8.10\n",
      "IPython version      : 7.28.0\n",
      "\n",
      "Compiler    : GCC 9.3.0\n",
      "OS          : Linux\n",
      "Release     : 5.11.0-37-generic\n",
      "Machine     : x86_64\n",
      "Processor   : x86_64\n",
      "CPU cores   : 32\n",
      "Architecture: 64bit\n",
      "\n"
     ]
    }
   ],
   "source": [
    "%watermark"
   ]
  },
  {
   "cell_type": "code",
   "execution_count": 3,
   "id": "1aa18624-6820-419a-8363-9b0be19571fc",
   "metadata": {},
   "outputs": [],
   "source": [
    "import numpy as np\n",
    "import pandas as pd\n",
    "import catboost as cb\n",
    "from sklearn.metrics import log_loss"
   ]
  },
  {
   "cell_type": "code",
   "execution_count": 4,
   "id": "1388eb93-9f2c-4471-9d4b-7d610fff308d",
   "metadata": {},
   "outputs": [
    {
     "name": "stdout",
     "output_type": "stream",
     "text": [
      "pandas  : 1.4.3\n",
      "numpy   : 1.22.4\n",
      "catboost: 1.1.1\n",
      "\n"
     ]
    }
   ],
   "source": [
    "%watermark --iversions"
   ]
  },
  {
   "cell_type": "code",
   "execution_count": 5,
   "id": "7c3455a0-c841-4b4c-a8cc-d087e2e94678",
   "metadata": {},
   "outputs": [],
   "source": [
    "X_num_train = np.load('../input/otto_ii/X_num_train.npy')\n",
    "X_num_val = np.load('../input/otto_ii/X_num_val.npy')\n",
    "X_num_test = np.load('../input/otto_ii/X_num_test.npy')\n",
    "\n",
    "y_train = np.load('../input/otto_ii/y_train.npy')\n",
    "y_val = np.load('../input/otto_ii/y_val.npy')\n",
    "y_test = np.load('../input/otto_ii/y_test.npy')"
   ]
  },
  {
   "cell_type": "code",
   "execution_count": 6,
   "id": "1d4d0433-424b-4540-9c75-97e6a28a171e",
   "metadata": {},
   "outputs": [],
   "source": [
    "clf = cb.CatBoostClassifier(silent=True)"
   ]
  },
  {
   "cell_type": "code",
   "execution_count": 7,
   "id": "bf257954-b72e-47f1-9491-40aa84a8cd87",
   "metadata": {},
   "outputs": [
    {
     "name": "stdout",
     "output_type": "stream",
     "text": [
      "CPU times: user 5min 41s, sys: 14 s, total: 5min 55s\n",
      "Wall time: 17 s\n"
     ]
    },
    {
     "data": {
      "text/plain": [
       "<catboost.core.CatBoostClassifier at 0x7f13301b36d0>"
      ]
     },
     "execution_count": 7,
     "metadata": {},
     "output_type": "execute_result"
    }
   ],
   "source": [
    "%%time\n",
    "clf.fit(X_num_train, y_train)"
   ]
  },
  {
   "cell_type": "code",
   "execution_count": 8,
   "id": "98908594-17c8-45cf-94d5-a4ec9ef6df12",
   "metadata": {},
   "outputs": [],
   "source": [
    "val_preds = clf.predict_proba(X_num_val)\n",
    "test_preds = clf.predict_proba(X_num_test)"
   ]
  },
  {
   "cell_type": "code",
   "execution_count": 9,
   "id": "c5b5dd0b-58db-4431-af8a-2441a5fbf12e",
   "metadata": {},
   "outputs": [
    {
     "data": {
      "text/plain": [
       "array([[2.05191476e-03, 1.71873193e-05, 1.52630567e-05, ...,\n",
       "        9.09255589e-03, 9.13372808e-01, 5.26099757e-04],\n",
       "       [8.75835259e-03, 6.58255075e-04, 4.00537881e-04, ...,\n",
       "        1.09738773e-02, 6.53230580e-03, 2.13298744e-03],\n",
       "       [8.34554354e-04, 1.43960895e-01, 1.77735048e-01, ...,\n",
       "        6.35265010e-02, 2.43668152e-04, 1.16530708e-03],\n",
       "       ...,\n",
       "       [4.66066789e-03, 5.27096239e-01, 2.74365611e-01, ...,\n",
       "        1.19915198e-01, 1.21817697e-02, 4.35871828e-02],\n",
       "       [3.81703827e-02, 3.40292894e-04, 1.71748084e-04, ...,\n",
       "        3.30353243e-04, 5.32438524e-03, 9.53380781e-01],\n",
       "       [2.79972791e-03, 5.06999746e-01, 4.09159964e-01, ...,\n",
       "        1.48556064e-02, 1.05734241e-02, 9.22261124e-03]])"
      ]
     },
     "execution_count": 9,
     "metadata": {},
     "output_type": "execute_result"
    }
   ],
   "source": [
    "val_preds"
   ]
  },
  {
   "cell_type": "code",
   "execution_count": 10,
   "id": "170b849e-08a9-4e02-9c68-e781a4321329",
   "metadata": {},
   "outputs": [
    {
     "data": {
      "text/plain": [
       "0.5057488533547987"
      ]
     },
     "execution_count": 10,
     "metadata": {},
     "output_type": "execute_result"
    }
   ],
   "source": [
    "log_loss(y_val, val_preds)"
   ]
  },
  {
   "cell_type": "code",
   "execution_count": 11,
   "id": "3e5fffd1-3c55-4a9b-a83c-d1cf0908a742",
   "metadata": {},
   "outputs": [
    {
     "data": {
      "text/plain": [
       "0.4984092963609384"
      ]
     },
     "execution_count": 11,
     "metadata": {},
     "output_type": "execute_result"
    }
   ],
   "source": [
    "log_loss(y_test, test_preds)"
   ]
  },
  {
   "cell_type": "code",
   "execution_count": null,
   "id": "e3c471fc-831e-4031-80cb-f2bbc086068d",
   "metadata": {},
   "outputs": [],
   "source": []
  }
 ],
 "metadata": {
  "kernelspec": {
   "display_name": "Python 3 (ipykernel)",
   "language": "python",
   "name": "python3"
  },
  "language_info": {
   "codemirror_mode": {
    "name": "ipython",
    "version": 3
   },
   "file_extension": ".py",
   "mimetype": "text/x-python",
   "name": "python",
   "nbconvert_exporter": "python",
   "pygments_lexer": "ipython3",
   "version": "3.8.10"
  }
 },
 "nbformat": 4,
 "nbformat_minor": 5
}
