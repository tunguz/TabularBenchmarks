{
 "cells": [
  {
   "cell_type": "code",
   "execution_count": 1,
   "metadata": {},
   "outputs": [],
   "source": [
    "import os\n",
    "#os.environ[\"CUDA_DEVICE_ORDER\"]=\"PCI_BUS_ID\"\n",
    "#os.environ[\"CUDA_VISIBLE_DEVICES\"]=\"0, 1, 2, 4\""
   ]
  },
  {
   "cell_type": "code",
   "execution_count": 2,
   "metadata": {},
   "outputs": [
    {
     "data": {
      "text/plain": [
       "'1.6.2'"
      ]
     },
     "execution_count": 2,
     "metadata": {},
     "output_type": "execute_result"
    }
   ],
   "source": [
    "from dask.distributed import Client\n",
    "from dask_cuda import LocalCUDACluster\n",
    "from dask import dataframe as dd\n",
    "import pandas as pd\n",
    "import xgboost as xgb\n",
    "from sklearn.model_selection import KFold, train_test_split\n",
    "from sklearn.metrics import log_loss\n",
    "import optuna\n",
    "import gc\n",
    "xgb.__version__"
   ]
  },
  {
   "cell_type": "code",
   "execution_count": 3,
   "metadata": {},
   "outputs": [
    {
     "name": "stdout",
     "output_type": "stream",
     "text": [
      "Tue Dec 13 07:12:18 2022       \n",
      "+-----------------------------------------------------------------------------+\n",
      "| NVIDIA-SMI 470.57.02    Driver Version: 470.57.02    CUDA Version: 11.4     |\n",
      "|-------------------------------+----------------------+----------------------+\n",
      "| GPU  Name        Persistence-M| Bus-Id        Disp.A | Volatile Uncorr. ECC |\n",
      "| Fan  Temp  Perf  Pwr:Usage/Cap|         Memory-Usage | GPU-Util  Compute M. |\n",
      "|                               |                      |               MIG M. |\n",
      "|===============================+======================+======================|\n",
      "|   0  NVIDIA TITAN RTX    On   | 00000000:09:00.0 Off |                  N/A |\n",
      "| 41%   32C    P8    32W / 280W |    905MiB / 24220MiB |      0%      Default |\n",
      "|                               |                      |                  N/A |\n",
      "+-------------------------------+----------------------+----------------------+\n",
      "|   1  NVIDIA TITAN RTX    On   | 00000000:41:00.0  On |                  N/A |\n",
      "| 41%   31C    P8    32W / 280W |    375MiB / 24217MiB |      3%      Default |\n",
      "|                               |                      |                  N/A |\n",
      "+-------------------------------+----------------------+----------------------+\n",
      "                                                                               \n",
      "+-----------------------------------------------------------------------------+\n",
      "| Processes:                                                                  |\n",
      "|  GPU   GI   CI        PID   Type   Process name                  GPU Memory |\n",
      "|        ID   ID                                                   Usage      |\n",
      "|=============================================================================|\n",
      "|    0   N/A  N/A      1301      G   /usr/lib/xorg/Xorg                  4MiB |\n",
      "|    0   N/A  N/A    192312      C   /usr/bin/python3                  869MiB |\n",
      "|    1   N/A  N/A      1301      G   /usr/lib/xorg/Xorg                161MiB |\n",
      "|    1   N/A  N/A      1556      G   /usr/bin/gnome-shell               29MiB |\n",
      "|    1   N/A  N/A      2380      G   ...mviewer/tv_bin/TeamViewer       18MiB |\n",
      "|    1   N/A  N/A      2707      G   /usr/lib/firefox/firefox          157MiB |\n",
      "+-----------------------------------------------------------------------------+\n"
     ]
    }
   ],
   "source": [
    "!nvidia-smi"
   ]
  },
  {
   "cell_type": "code",
   "execution_count": 4,
   "metadata": {},
   "outputs": [
    {
     "name": "stdout",
     "output_type": "stream",
     "text": [
      "GPU 0: NVIDIA TITAN RTX (UUID: GPU-0eb32f58-b8d5-17c0-e952-f4ec26a9353f)\n",
      "GPU 1: NVIDIA TITAN RTX (UUID: GPU-50aeb092-88f5-4e0b-7f73-32741666f319)\n"
     ]
    }
   ],
   "source": [
    "!nvidia-smi -L"
   ]
  },
  {
   "cell_type": "code",
   "execution_count": 5,
   "metadata": {},
   "outputs": [],
   "source": [
    "train_x = dd.read_csv('../input/otto_ii/xgtrain_5.csv')\n",
    "test_x = dd.read_csv('../input/otto_ii/xgval.csv')"
   ]
  },
  {
   "cell_type": "code",
   "execution_count": 6,
   "metadata": {},
   "outputs": [],
   "source": [
    "train_y = train_x['target']\n",
    "train_x = train_x[train_x.columns.difference(['target'])]\n",
    "\n",
    "test_y = test_x['target']\n",
    "test_x = test_x[test_x.columns.difference(['target'])]"
   ]
  },
  {
   "cell_type": "code",
   "execution_count": 7,
   "metadata": {},
   "outputs": [
    {
     "name": "stderr",
     "output_type": "stream",
     "text": [
      "2022-12-13 07:12:55,351 - distributed.preloading - INFO - Creating preload: dask_cuda.initialize\n",
      "2022-12-13 07:12:55,351 - distributed.preloading - INFO - Import preload module: dask_cuda.initialize\n",
      "2022-12-13 07:12:55,353 - distributed.preloading - INFO - Creating preload: dask_cuda.initialize\n",
      "2022-12-13 07:12:55,353 - distributed.preloading - INFO - Import preload module: dask_cuda.initialize\n"
     ]
    }
   ],
   "source": [
    "cluster = LocalCUDACluster(n_workers=2)\n",
    "client = Client(cluster)"
   ]
  },
  {
   "cell_type": "code",
   "execution_count": 8,
   "metadata": {},
   "outputs": [],
   "source": [
    "dtrain = xgb.dask.DaskDMatrix(client, train_x, train_y)"
   ]
  },
  {
   "cell_type": "code",
   "execution_count": 9,
   "metadata": {},
   "outputs": [],
   "source": [
    "dtest = xgb.dask.DaskDMatrix(client, test_x, test_y)\n"
   ]
  },
  {
   "cell_type": "code",
   "execution_count": 10,
   "metadata": {},
   "outputs": [],
   "source": [
    "num_round = 1000"
   ]
  },
  {
   "cell_type": "code",
   "execution_count": 11,
   "metadata": {},
   "outputs": [],
   "source": [
    "def objective(trial):\n",
    "        \n",
    "    params = {\n",
    "        'objective': trial.suggest_categorical('objective',['multi:softprob']),\n",
    "        'tree_method': trial.suggest_categorical('tree_method',['gpu_hist']),  # 'gpu_hist','hist'\n",
    "        'lambda': trial.suggest_loguniform('lambda',1e-3,10.0),\n",
    "        'alpha': trial.suggest_loguniform('alpha',1e-3,10.0),\n",
    "        'colsample_bytree': trial.suggest_uniform('colsample_bytree', 0.3,1.0),\n",
    "        'subsample': trial.suggest_uniform('subsample', 0.4, 1.0),\n",
    "        'learning_rate': trial.suggest_loguniform('learning_rate', 0.001,0.1),\n",
    "        #'n_estimators': trial.suggest_categorical('n_estimators', [1000]),\n",
    "        'max_depth': trial.suggest_int('max_depth', 2, 25),\n",
    "        #'random_state': trial.suggest_categorical('random_state', [24,48,2020]),\n",
    "        'min_child_weight': trial.suggest_int('min_child_weight', 1,300),\n",
    "        'eval_metric': trial.suggest_categorical('eval_metric',['logloss']),\n",
    "        'num_class':9,\n",
    "\n",
    "    }\n",
    "\n",
    "    output = xgb.dask.train(client, params, dtrain, num_round)\n",
    "    \n",
    "    booster = output['booster']  # booster is the trained model\n",
    "    booster.set_param({'predictor': 'gpu_predictor'})\n",
    "\n",
    "    predictions = xgb.dask.predict(client, booster, dtest)\n",
    "    \n",
    "    predictions = predictions.compute()\n",
    "\n",
    "    lloss = log_loss(test_y, predictions)\n",
    "    \n",
    "    return lloss"
   ]
  },
  {
   "cell_type": "code",
   "execution_count": 12,
   "metadata": {},
   "outputs": [
    {
     "name": "stderr",
     "output_type": "stream",
     "text": [
      "\u001b[32m[I 2022-12-13 07:13:03,248]\u001b[0m A new study created in memory with name: no-name-1ec80095-a78e-4086-9e1c-93526c065141\u001b[0m\n"
     ]
    }
   ],
   "source": [
    "study = optuna.create_study(direction='minimize')"
   ]
  },
  {
   "cell_type": "code",
   "execution_count": 13,
   "metadata": {},
   "outputs": [
    {
     "name": "stderr",
     "output_type": "stream",
     "text": [
      "/home/tunguz/.local/lib/python3.8/site-packages/xgboost/dask.py:884: RuntimeWarning: coroutine 'Client._wait_for_workers' was never awaited\n",
      "  client.wait_for_workers(n_workers)\n",
      "[07:13:06] task [xgboost.dask-1]:tcp://127.0.0.1:33991 got new rank 0\n",
      "\u001b[32m[I 2022-12-13 07:13:50,620]\u001b[0m Trial 0 finished with value: 0.6884117553227117 and parameters: {'objective': 'multi:softprob', 'tree_method': 'gpu_hist', 'lambda': 0.1414574594523903, 'alpha': 0.24387011534291794, 'colsample_bytree': 0.5032028077004254, 'subsample': 0.8395323620235415, 'learning_rate': 0.0047373280848025485, 'max_depth': 7, 'min_child_weight': 222, 'eval_metric': 'logloss'}. Best is trial 0 with value: 0.6884117553227117.\u001b[0m\n",
      "/home/tunguz/.local/lib/python3.8/site-packages/xgboost/dask.py:884: RuntimeWarning: coroutine 'Client._wait_for_workers' was never awaited\n",
      "  client.wait_for_workers(n_workers)\n",
      "[07:13:50] task [xgboost.dask-1]:tcp://127.0.0.1:33991 got new rank 0\n",
      "\u001b[32m[I 2022-12-13 07:14:07,921]\u001b[0m Trial 1 finished with value: 0.6250554119797762 and parameters: {'objective': 'multi:softprob', 'tree_method': 'gpu_hist', 'lambda': 0.02171001992337029, 'alpha': 0.0016695691125732457, 'colsample_bytree': 0.863961211420297, 'subsample': 0.8086268489199827, 'learning_rate': 0.01283237024013851, 'max_depth': 3, 'min_child_weight': 16, 'eval_metric': 'logloss'}. Best is trial 1 with value: 0.6250554119797762.\u001b[0m\n"
     ]
    },
    {
     "name": "stdout",
     "output_type": "stream",
     "text": [
      "CPU times: user 3.17 s, sys: 754 ms, total: 3.93 s\n",
      "Wall time: 1min 2s\n"
     ]
    }
   ],
   "source": [
    "%%time\n",
    "study.optimize(objective, n_trials=2)"
   ]
  },
  {
   "cell_type": "code",
   "execution_count": 14,
   "metadata": {},
   "outputs": [
    {
     "name": "stderr",
     "output_type": "stream",
     "text": [
      "/home/tunguz/.local/lib/python3.8/site-packages/xgboost/dask.py:884: RuntimeWarning: coroutine 'Client._wait_for_workers' was never awaited\n",
      "  client.wait_for_workers(n_workers)\n",
      "[07:14:07] task [xgboost.dask-1]:tcp://127.0.0.1:33991 got new rank 0\n",
      "\u001b[32m[I 2022-12-13 07:15:08,579]\u001b[0m Trial 2 finished with value: 0.5965574435497852 and parameters: {'objective': 'multi:softprob', 'tree_method': 'gpu_hist', 'lambda': 0.7627913417293688, 'alpha': 0.052183584471804656, 'colsample_bytree': 0.9943408974149217, 'subsample': 0.4818218363394942, 'learning_rate': 0.0056239335893615815, 'max_depth': 8, 'min_child_weight': 66, 'eval_metric': 'logloss'}. Best is trial 2 with value: 0.5965574435497852.\u001b[0m\n",
      "/home/tunguz/.local/lib/python3.8/site-packages/xgboost/dask.py:884: RuntimeWarning: coroutine 'Client._wait_for_workers' was never awaited\n",
      "  client.wait_for_workers(n_workers)\n",
      "[07:15:08] task [xgboost.dask-1]:tcp://127.0.0.1:33991 got new rank 0\n",
      "\u001b[32m[I 2022-12-13 07:16:40,006]\u001b[0m Trial 3 finished with value: 1.2308994777611248 and parameters: {'objective': 'multi:softprob', 'tree_method': 'gpu_hist', 'lambda': 0.012655884234853546, 'alpha': 0.002084372063906719, 'colsample_bytree': 0.6098749436524569, 'subsample': 0.8147453646003768, 'learning_rate': 0.0010089111883001397, 'max_depth': 13, 'min_child_weight': 208, 'eval_metric': 'logloss'}. Best is trial 2 with value: 0.5965574435497852.\u001b[0m\n",
      "/home/tunguz/.local/lib/python3.8/site-packages/xgboost/dask.py:884: RuntimeWarning: coroutine 'Client._wait_for_workers' was never awaited\n",
      "  client.wait_for_workers(n_workers)\n",
      "[07:16:40] task [xgboost.dask-1]:tcp://127.0.0.1:33991 got new rank 0\n",
      "\u001b[32m[I 2022-12-13 07:17:24,461]\u001b[0m Trial 4 finished with value: 0.5184322221985642 and parameters: {'objective': 'multi:softprob', 'tree_method': 'gpu_hist', 'lambda': 0.06832511705537843, 'alpha': 1.5567522667757916, 'colsample_bytree': 0.3166208961802772, 'subsample': 0.9660168450314566, 'learning_rate': 0.018144826411470714, 'max_depth': 10, 'min_child_weight': 182, 'eval_metric': 'logloss'}. Best is trial 4 with value: 0.5184322221985642.\u001b[0m\n",
      "/home/tunguz/.local/lib/python3.8/site-packages/xgboost/dask.py:884: RuntimeWarning: coroutine 'Client._wait_for_workers' was never awaited\n",
      "  client.wait_for_workers(n_workers)\n",
      "[07:17:24] task [xgboost.dask-1]:tcp://127.0.0.1:33991 got new rank 0\n",
      "\u001b[32m[I 2022-12-13 07:51:19,159]\u001b[0m Trial 5 finished with value: 0.5149817448439996 and parameters: {'objective': 'multi:softprob', 'tree_method': 'gpu_hist', 'lambda': 0.34775229711869077, 'alpha': 5.498573645477027, 'colsample_bytree': 0.8844645746383464, 'subsample': 0.6858568293140961, 'learning_rate': 0.09686064043059472, 'max_depth': 24, 'min_child_weight': 5, 'eval_metric': 'logloss'}. Best is trial 5 with value: 0.5149817448439996.\u001b[0m\n",
      "/home/tunguz/.local/lib/python3.8/site-packages/xgboost/dask.py:884: RuntimeWarning: coroutine 'Client._wait_for_workers' was never awaited\n",
      "  client.wait_for_workers(n_workers)\n",
      "[07:51:19] task [xgboost.dask-1]:tcp://127.0.0.1:33991 got new rank 0\n",
      "\u001b[32m[I 2022-12-13 07:51:32,594]\u001b[0m Trial 6 finished with value: 0.6600097618275419 and parameters: {'objective': 'multi:softprob', 'tree_method': 'gpu_hist', 'lambda': 1.6346010788787182, 'alpha': 0.0031010469157246065, 'colsample_bytree': 0.9451648151398231, 'subsample': 0.9373695259514964, 'learning_rate': 0.021074511872329352, 'max_depth': 2, 'min_child_weight': 282, 'eval_metric': 'logloss'}. Best is trial 5 with value: 0.5149817448439996.\u001b[0m\n",
      "/home/tunguz/.local/lib/python3.8/site-packages/xgboost/dask.py:884: RuntimeWarning: coroutine 'Client._wait_for_workers' was never awaited\n",
      "  client.wait_for_workers(n_workers)\n",
      "[07:51:32] task [xgboost.dask-1]:tcp://127.0.0.1:33991 got new rank 0\n",
      "\u001b[32m[I 2022-12-13 08:55:59,245]\u001b[0m Trial 7 finished with value: 0.4985411882362855 and parameters: {'objective': 'multi:softprob', 'tree_method': 'gpu_hist', 'lambda': 4.574345589897259, 'alpha': 4.032915963194777, 'colsample_bytree': 0.8816731577740333, 'subsample': 0.7967534589434146, 'learning_rate': 0.03244611359189666, 'max_depth': 25, 'min_child_weight': 246, 'eval_metric': 'logloss'}. Best is trial 7 with value: 0.4985411882362855.\u001b[0m\n",
      "/home/tunguz/.local/lib/python3.8/site-packages/xgboost/dask.py:884: RuntimeWarning: coroutine 'Client._wait_for_workers' was never awaited\n",
      "  client.wait_for_workers(n_workers)\n",
      "[08:55:59] task [xgboost.dask-1]:tcp://127.0.0.1:33991 got new rank 0\n",
      "\u001b[32m[I 2022-12-13 08:58:34,490]\u001b[0m Trial 8 finished with value: 0.4652019575820016 and parameters: {'objective': 'multi:softprob', 'tree_method': 'gpu_hist', 'lambda': 0.09640662564067075, 'alpha': 0.4526359974091415, 'colsample_bytree': 0.8227847833568003, 'subsample': 0.5760802144706352, 'learning_rate': 0.013568993180558916, 'max_depth': 15, 'min_child_weight': 19, 'eval_metric': 'logloss'}. Best is trial 8 with value: 0.4652019575820016.\u001b[0m\n",
      "/home/tunguz/.local/lib/python3.8/site-packages/xgboost/dask.py:884: RuntimeWarning: coroutine 'Client._wait_for_workers' was never awaited\n",
      "  client.wait_for_workers(n_workers)\n",
      "[08:58:34] task [xgboost.dask-1]:tcp://127.0.0.1:33991 got new rank 0\n",
      "\u001b[32m[I 2022-12-13 08:59:29,220]\u001b[0m Trial 9 finished with value: 0.5253127477546742 and parameters: {'objective': 'multi:softprob', 'tree_method': 'gpu_hist', 'lambda': 0.115277938193078, 'alpha': 7.457465573765764, 'colsample_bytree': 0.4120550970201271, 'subsample': 0.6518012793416987, 'learning_rate': 0.028101135281827012, 'max_depth': 17, 'min_child_weight': 267, 'eval_metric': 'logloss'}. Best is trial 8 with value: 0.4652019575820016.\u001b[0m\n",
      "/home/tunguz/.local/lib/python3.8/site-packages/xgboost/dask.py:884: RuntimeWarning: coroutine 'Client._wait_for_workers' was never awaited\n",
      "  client.wait_for_workers(n_workers)\n",
      "[08:59:29] task [xgboost.dask-1]:tcp://127.0.0.1:33991 got new rank 0\n",
      "\u001b[32m[I 2022-12-13 09:01:40,729]\u001b[0m Trial 10 finished with value: 0.8791132419157626 and parameters: {'objective': 'multi:softprob', 'tree_method': 'gpu_hist', 'lambda': 0.0010688156087953636, 'alpha': 0.0748214025070293, 'colsample_bytree': 0.723131034988974, 'subsample': 0.40191391808538324, 'learning_rate': 0.0020368458784895166, 'max_depth': 18, 'min_child_weight': 95, 'eval_metric': 'logloss'}. Best is trial 8 with value: 0.4652019575820016.\u001b[0m\n",
      "/home/tunguz/.local/lib/python3.8/site-packages/xgboost/dask.py:884: RuntimeWarning: coroutine 'Client._wait_for_workers' was never awaited\n",
      "  client.wait_for_workers(n_workers)\n",
      "[09:01:40] task [xgboost.dask-1]:tcp://127.0.0.1:33991 got new rank 0\n",
      "\u001b[32m[I 2022-12-13 10:05:41,609]\u001b[0m Trial 11 finished with value: 0.48089684489833073 and parameters: {'objective': 'multi:softprob', 'tree_method': 'gpu_hist', 'lambda': 6.517942065642216, 'alpha': 0.6896040785347342, 'colsample_bytree': 0.7446675507211835, 'subsample': 0.5749122128378682, 'learning_rate': 0.05122527351325055, 'max_depth': 25, 'min_child_weight': 124, 'eval_metric': 'logloss'}. Best is trial 8 with value: 0.4652019575820016.\u001b[0m\n",
      "/home/tunguz/.local/lib/python3.8/site-packages/xgboost/dask.py:884: RuntimeWarning: coroutine 'Client._wait_for_workers' was never awaited\n",
      "  client.wait_for_workers(n_workers)\n",
      "[10:05:41] task [xgboost.dask-1]:tcp://127.0.0.1:33991 got new rank 0\n",
      "\u001b[32m[I 2022-12-13 10:08:33,328]\u001b[0m Trial 12 finished with value: 0.4817014706671581 and parameters: {'objective': 'multi:softprob', 'tree_method': 'gpu_hist', 'lambda': 7.390090012865356, 'alpha': 0.4971688209346534, 'colsample_bytree': 0.7411285432498583, 'subsample': 0.5630182871449783, 'learning_rate': 0.07898037595287487, 'max_depth': 20, 'min_child_weight': 119, 'eval_metric': 'logloss'}. Best is trial 8 with value: 0.4652019575820016.\u001b[0m\n",
      "/home/tunguz/.local/lib/python3.8/site-packages/xgboost/dask.py:884: RuntimeWarning: coroutine 'Client._wait_for_workers' was never awaited\n",
      "  client.wait_for_workers(n_workers)\n",
      "[10:08:33] task [xgboost.dask-1]:tcp://127.0.0.1:33991 got new rank 0\n",
      "\u001b[32m[I 2022-12-13 10:13:23,822]\u001b[0m Trial 13 finished with value: 0.4861434173036226 and parameters: {'objective': 'multi:softprob', 'tree_method': 'gpu_hist', 'lambda': 0.007235107626290019, 'alpha': 0.8611566734261965, 'colsample_bytree': 0.752801816135222, 'subsample': 0.5827606556480647, 'learning_rate': 0.053339662030505386, 'max_depth': 21, 'min_child_weight': 140, 'eval_metric': 'logloss'}. Best is trial 8 with value: 0.4652019575820016.\u001b[0m\n",
      "/home/tunguz/.local/lib/python3.8/site-packages/xgboost/dask.py:884: RuntimeWarning: coroutine 'Client._wait_for_workers' was never awaited\n",
      "  client.wait_for_workers(n_workers)\n",
      "[10:13:23] task [xgboost.dask-1]:tcp://127.0.0.1:33991 got new rank 0\n",
      "\u001b[32m[I 2022-12-13 10:14:26,930]\u001b[0m Trial 14 finished with value: 0.4670931788085337 and parameters: {'objective': 'multi:softprob', 'tree_method': 'gpu_hist', 'lambda': 1.7385199342879167, 'alpha': 0.02036882473253543, 'colsample_bytree': 0.6108695728984486, 'subsample': 0.5553139835799232, 'learning_rate': 0.04604988979105554, 'max_depth': 14, 'min_child_weight': 58, 'eval_metric': 'logloss'}. Best is trial 8 with value: 0.4652019575820016.\u001b[0m\n",
      "/home/tunguz/.local/lib/python3.8/site-packages/xgboost/dask.py:884: RuntimeWarning: coroutine 'Client._wait_for_workers' was never awaited\n",
      "  client.wait_for_workers(n_workers)\n",
      "[10:14:26] task [xgboost.dask-1]:tcp://127.0.0.1:33991 got new rank 0\n",
      "\u001b[32m[I 2022-12-13 10:16:03,711]\u001b[0m Trial 15 finished with value: 0.5189186028406295 and parameters: {'objective': 'multi:softprob', 'tree_method': 'gpu_hist', 'lambda': 1.2794435705188876, 'alpha': 0.012203402591985435, 'colsample_bytree': 0.6126475627457875, 'subsample': 0.4863848567455301, 'learning_rate': 0.008228437953307865, 'max_depth': 14, 'min_child_weight': 52, 'eval_metric': 'logloss'}. Best is trial 8 with value: 0.4652019575820016.\u001b[0m\n",
      "/home/tunguz/.local/lib/python3.8/site-packages/xgboost/dask.py:884: RuntimeWarning: coroutine 'Client._wait_for_workers' was never awaited\n",
      "  client.wait_for_workers(n_workers)\n",
      "[10:16:03] task [xgboost.dask-1]:tcp://127.0.0.1:33991 got new rank 0\n",
      "\u001b[32m[I 2022-12-13 10:17:34,371]\u001b[0m Trial 16 finished with value: 0.4929018761838277 and parameters: {'objective': 'multi:softprob', 'tree_method': 'gpu_hist', 'lambda': 0.40698364284314087, 'alpha': 0.023798703570988865, 'colsample_bytree': 0.5335751002407508, 'subsample': 0.4925552785753823, 'learning_rate': 0.012059503466084706, 'max_depth': 14, 'min_child_weight': 49, 'eval_metric': 'logloss'}. Best is trial 8 with value: 0.4652019575820016.\u001b[0m\n",
      "/home/tunguz/.local/lib/python3.8/site-packages/xgboost/dask.py:884: RuntimeWarning: coroutine 'Client._wait_for_workers' was never awaited\n",
      "  client.wait_for_workers(n_workers)\n",
      "[10:17:34] task [xgboost.dask-1]:tcp://127.0.0.1:33991 got new rank 0\n",
      "\u001b[32m[I 2022-12-13 10:19:10,026]\u001b[0m Trial 17 finished with value: 0.6833680173196481 and parameters: {'objective': 'multi:softprob', 'tree_method': 'gpu_hist', 'lambda': 0.04015592735025875, 'alpha': 0.16865770137182437, 'colsample_bytree': 0.6761076253382144, 'subsample': 0.6358777486410069, 'learning_rate': 0.003403356446517307, 'max_depth': 11, 'min_child_weight': 82, 'eval_metric': 'logloss'}. Best is trial 8 with value: 0.4652019575820016.\u001b[0m\n",
      "/home/tunguz/.local/lib/python3.8/site-packages/xgboost/dask.py:884: RuntimeWarning: coroutine 'Client._wait_for_workers' was never awaited\n",
      "  client.wait_for_workers(n_workers)\n",
      "[10:19:10] task [xgboost.dask-1]:tcp://127.0.0.1:33991 got new rank 0\n",
      "\u001b[32m[I 2022-12-13 10:21:01,957]\u001b[0m Trial 18 finished with value: 0.4741649017566272 and parameters: {'objective': 'multi:softprob', 'tree_method': 'gpu_hist', 'lambda': 0.0016310485216538013, 'alpha': 0.00817155611181326, 'colsample_bytree': 0.8299358704191454, 'subsample': 0.7538861830308873, 'learning_rate': 0.04188860364976537, 'max_depth': 16, 'min_child_weight': 30, 'eval_metric': 'logloss'}. Best is trial 8 with value: 0.4652019575820016.\u001b[0m\n",
      "/home/tunguz/.local/lib/python3.8/site-packages/xgboost/dask.py:884: RuntimeWarning: coroutine 'Client._wait_for_workers' was never awaited\n",
      "  client.wait_for_workers(n_workers)\n",
      "[10:21:01] task [xgboost.dask-1]:tcp://127.0.0.1:33991 got new rank 0\n",
      "\u001b[32m[I 2022-12-13 10:24:05,108]\u001b[0m Trial 19 finished with value: 0.5015210738430168 and parameters: {'objective': 'multi:softprob', 'tree_method': 'gpu_hist', 'lambda': 0.21393575149585473, 'alpha': 0.03533586112180793, 'colsample_bytree': 0.5395327080887029, 'subsample': 0.42432273102229934, 'learning_rate': 0.01799348511437004, 'max_depth': 20, 'min_child_weight': 99, 'eval_metric': 'logloss'}. Best is trial 8 with value: 0.4652019575820016.\u001b[0m\n",
      "/home/tunguz/.local/lib/python3.8/site-packages/xgboost/dask.py:884: RuntimeWarning: coroutine 'Client._wait_for_workers' was never awaited\n",
      "  client.wait_for_workers(n_workers)\n",
      "[10:24:05] task [xgboost.dask-1]:tcp://127.0.0.1:33991 got new rank 0\n",
      "\u001b[32m[I 2022-12-13 10:25:46,316]\u001b[0m Trial 20 finished with value: 0.525185915328949 and parameters: {'objective': 'multi:softprob', 'tree_method': 'gpu_hist', 'lambda': 0.004271022699701941, 'alpha': 0.14974679889341083, 'colsample_bytree': 0.4494346932307725, 'subsample': 0.5462103894645142, 'learning_rate': 0.008077641501373637, 'max_depth': 11, 'min_child_weight': 33, 'eval_metric': 'logloss'}. Best is trial 8 with value: 0.4652019575820016.\u001b[0m\n",
      "/home/tunguz/.local/lib/python3.8/site-packages/xgboost/dask.py:884: RuntimeWarning: coroutine 'Client._wait_for_workers' was never awaited\n",
      "  client.wait_for_workers(n_workers)\n",
      "[10:25:46] task [xgboost.dask-1]:tcp://127.0.0.1:33991 got new rank 0\n",
      "\u001b[32m[I 2022-12-13 10:27:40,944]\u001b[0m Trial 21 finished with value: 0.4743356293677756 and parameters: {'objective': 'multi:softprob', 'tree_method': 'gpu_hist', 'lambda': 0.004797847347125239, 'alpha': 0.004886274696486398, 'colsample_bytree': 0.8281971366103668, 'subsample': 0.733287724569155, 'learning_rate': 0.0425857054071401, 'max_depth': 16, 'min_child_weight': 27, 'eval_metric': 'logloss'}. Best is trial 8 with value: 0.4652019575820016.\u001b[0m\n",
      "/home/tunguz/.local/lib/python3.8/site-packages/xgboost/dask.py:884: RuntimeWarning: coroutine 'Client._wait_for_workers' was never awaited\n",
      "  client.wait_for_workers(n_workers)\n",
      "[10:27:40] task [xgboost.dask-1]:tcp://127.0.0.1:33991 got new rank 0\n",
      "\u001b[32m[I 2022-12-13 10:30:20,667]\u001b[0m Trial 22 finished with value: 0.5691545669072876 and parameters: {'objective': 'multi:softprob', 'tree_method': 'gpu_hist', 'lambda': 0.0025922940131862552, 'alpha': 0.011021850509974717, 'colsample_bytree': 0.8180873472307157, 'subsample': 0.7475627882237104, 'learning_rate': 0.06770739132920396, 'max_depth': 16, 'min_child_weight': 4, 'eval_metric': 'logloss'}. Best is trial 8 with value: 0.4652019575820016.\u001b[0m\n",
      "/home/tunguz/.local/lib/python3.8/site-packages/xgboost/dask.py:884: RuntimeWarning: coroutine 'Client._wait_for_workers' was never awaited\n",
      "  client.wait_for_workers(n_workers)\n",
      "[10:30:20] task [xgboost.dask-1]:tcp://127.0.0.1:33991 got new rank 0\n",
      "\u001b[32m[I 2022-12-13 10:31:24,619]\u001b[0m Trial 23 finished with value: 0.4718096513040749 and parameters: {'objective': 'multi:softprob', 'tree_method': 'gpu_hist', 'lambda': 2.2908131185376694, 'alpha': 0.009395976451278784, 'colsample_bytree': 0.6775825615326453, 'subsample': 0.6203434743540178, 'learning_rate': 0.0293977625132896, 'max_depth': 13, 'min_child_weight': 69, 'eval_metric': 'logloss'}. Best is trial 8 with value: 0.4652019575820016.\u001b[0m\n",
      "/home/tunguz/.local/lib/python3.8/site-packages/xgboost/dask.py:884: RuntimeWarning: coroutine 'Client._wait_for_workers' was never awaited\n",
      "  client.wait_for_workers(n_workers)\n",
      "[10:31:24] task [xgboost.dask-1]:tcp://127.0.0.1:33991 got new rank 0\n",
      "\u001b[32m[I 2022-12-13 10:32:29,385]\u001b[0m Trial 24 finished with value: 0.4733390917460139 and parameters: {'objective': 'multi:softprob', 'tree_method': 'gpu_hist', 'lambda': 2.861626776731, 'alpha': 0.02251253499320433, 'colsample_bytree': 0.6574284310257662, 'subsample': 0.6347065316147417, 'learning_rate': 0.02718218875145068, 'max_depth': 13, 'min_child_weight': 70, 'eval_metric': 'logloss'}. Best is trial 8 with value: 0.4652019575820016.\u001b[0m\n",
      "/home/tunguz/.local/lib/python3.8/site-packages/xgboost/dask.py:884: RuntimeWarning: coroutine 'Client._wait_for_workers' was never awaited\n",
      "  client.wait_for_workers(n_workers)\n",
      "[10:32:29] task [xgboost.dask-1]:tcp://127.0.0.1:33991 got new rank 0\n",
      "\u001b[32m[I 2022-12-13 10:33:02,847]\u001b[0m Trial 25 finished with value: 0.5529742198456262 and parameters: {'objective': 'multi:softprob', 'tree_method': 'gpu_hist', 'lambda': 0.5973730775624526, 'alpha': 0.005584061478496134, 'colsample_bytree': 0.5940874382225025, 'subsample': 0.5295940897628736, 'learning_rate': 0.014272392347402353, 'max_depth': 7, 'min_child_weight': 171, 'eval_metric': 'logloss'}. Best is trial 8 with value: 0.4652019575820016.\u001b[0m\n",
      "/home/tunguz/.local/lib/python3.8/site-packages/xgboost/dask.py:884: RuntimeWarning: coroutine 'Client._wait_for_workers' was never awaited\n",
      "  client.wait_for_workers(n_workers)\n",
      "[10:33:02] task [xgboost.dask-1]:tcp://127.0.0.1:33991 got new rank 0\n",
      "\u001b[32m[I 2022-12-13 10:33:54,787]\u001b[0m Trial 26 finished with value: 0.46813421253061754 and parameters: {'objective': 'multi:softprob', 'tree_method': 'gpu_hist', 'lambda': 2.420720523435531, 'alpha': 0.33873981968598, 'colsample_bytree': 0.6745507892842186, 'subsample': 0.618156249590298, 'learning_rate': 0.033625914288296685, 'max_depth': 9, 'min_child_weight': 40, 'eval_metric': 'logloss'}. Best is trial 8 with value: 0.4652019575820016.\u001b[0m\n",
      "/home/tunguz/.local/lib/python3.8/site-packages/xgboost/dask.py:884: RuntimeWarning: coroutine 'Client._wait_for_workers' was never awaited\n",
      "  client.wait_for_workers(n_workers)\n",
      "[10:33:54] task [xgboost.dask-1]:tcp://127.0.0.1:33991 got new rank 0\n",
      "\u001b[32m[I 2022-12-13 10:34:14,806]\u001b[0m Trial 27 finished with value: 0.4943152477351885 and parameters: {'objective': 'multi:softprob', 'tree_method': 'gpu_hist', 'lambda': 0.044014624414783286, 'alpha': 0.3509333966254695, 'colsample_bytree': 0.5676352887626819, 'subsample': 0.7029653267695225, 'learning_rate': 0.0640757068603977, 'max_depth': 4, 'min_child_weight': 42, 'eval_metric': 'logloss'}. Best is trial 8 with value: 0.4652019575820016.\u001b[0m\n",
      "/home/tunguz/.local/lib/python3.8/site-packages/xgboost/dask.py:884: RuntimeWarning: coroutine 'Client._wait_for_workers' was never awaited\n",
      "  client.wait_for_workers(n_workers)\n",
      "[10:34:14] task [xgboost.dask-1]:tcp://127.0.0.1:33991 got new rank 0\n",
      "\u001b[32m[I 2022-12-13 10:34:56,221]\u001b[0m Trial 28 finished with value: 0.4884164122600688 and parameters: {'objective': 'multi:softprob', 'tree_method': 'gpu_hist', 'lambda': 1.1054231034635782, 'alpha': 2.3420398045986905, 'colsample_bytree': 0.7870754980290343, 'subsample': 0.5184751530663321, 'learning_rate': 0.03757388795413503, 'max_depth': 9, 'min_child_weight': 113, 'eval_metric': 'logloss'}. Best is trial 8 with value: 0.4652019575820016.\u001b[0m\n",
      "/home/tunguz/.local/lib/python3.8/site-packages/xgboost/dask.py:884: RuntimeWarning: coroutine 'Client._wait_for_workers' was never awaited\n",
      "  client.wait_for_workers(n_workers)\n",
      "[10:34:56] task [xgboost.dask-1]:tcp://127.0.0.1:33991 got new rank 0\n",
      "\u001b[32m[I 2022-12-13 10:35:38,847]\u001b[0m Trial 29 finished with value: 0.49478557668224865 and parameters: {'objective': 'multi:softprob', 'tree_method': 'gpu_hist', 'lambda': 0.2646483227680893, 'alpha': 0.24707369549100977, 'colsample_bytree': 0.45891761376716445, 'subsample': 0.8819083347264796, 'learning_rate': 0.02042883523531485, 'max_depth': 6, 'min_child_weight': 1, 'eval_metric': 'logloss'}. Best is trial 8 with value: 0.4652019575820016.\u001b[0m\n",
      "/home/tunguz/.local/lib/python3.8/site-packages/xgboost/dask.py:884: RuntimeWarning: coroutine 'Client._wait_for_workers' was never awaited\n",
      "  client.wait_for_workers(n_workers)\n",
      "[10:35:38] task [xgboost.dask-1]:tcp://127.0.0.1:33991 got new rank 0\n",
      "\u001b[32m[I 2022-12-13 10:36:08,965]\u001b[0m Trial 30 finished with value: 0.6768716493260829 and parameters: {'objective': 'multi:softprob', 'tree_method': 'gpu_hist', 'lambda': 3.602907413103063, 'alpha': 0.08861872085636213, 'colsample_bytree': 0.7111761549046338, 'subsample': 0.45342852488474383, 'learning_rate': 0.005030439596401194, 'max_depth': 5, 'min_child_weight': 50, 'eval_metric': 'logloss'}. Best is trial 8 with value: 0.4652019575820016.\u001b[0m\n",
      "/home/tunguz/.local/lib/python3.8/site-packages/xgboost/dask.py:884: RuntimeWarning: coroutine 'Client._wait_for_workers' was never awaited\n",
      "  client.wait_for_workers(n_workers)\n",
      "[10:36:08] task [xgboost.dask-1]:tcp://127.0.0.1:33991 got new rank 0\n",
      "\u001b[32m[I 2022-12-13 10:37:09,027]\u001b[0m Trial 31 finished with value: 0.47315066225356506 and parameters: {'objective': 'multi:softprob', 'tree_method': 'gpu_hist', 'lambda': 2.1747094096619946, 'alpha': 1.1558822384114789, 'colsample_bytree': 0.6971885178325399, 'subsample': 0.6058459821498714, 'learning_rate': 0.029829379367622467, 'max_depth': 12, 'min_child_weight': 69, 'eval_metric': 'logloss'}. Best is trial 8 with value: 0.4652019575820016.\u001b[0m\n",
      "/home/tunguz/.local/lib/python3.8/site-packages/xgboost/dask.py:884: RuntimeWarning: coroutine 'Client._wait_for_workers' was never awaited\n",
      "  client.wait_for_workers(n_workers)\n",
      "[10:37:09] task [xgboost.dask-1]:tcp://127.0.0.1:33991 got new rank 0\n",
      "\u001b[32m[I 2022-12-13 10:38:19,143]\u001b[0m Trial 32 finished with value: 0.4768616753425673 and parameters: {'objective': 'multi:softprob', 'tree_method': 'gpu_hist', 'lambda': 0.18024169316496075, 'alpha': 0.01788226517608552, 'colsample_bytree': 0.6413760323902633, 'subsample': 0.6050453086299508, 'learning_rate': 0.02523915781273641, 'max_depth': 15, 'min_child_weight': 84, 'eval_metric': 'logloss'}. Best is trial 8 with value: 0.4652019575820016.\u001b[0m\n",
      "/home/tunguz/.local/lib/python3.8/site-packages/xgboost/dask.py:884: RuntimeWarning: coroutine 'Client._wait_for_workers' was never awaited\n",
      "  client.wait_for_workers(n_workers)\n",
      "[10:38:19] task [xgboost.dask-1]:tcp://127.0.0.1:33991 got new rank 0\n",
      "\u001b[32m[I 2022-12-13 10:39:30,420]\u001b[0m Trial 33 finished with value: 0.4874391670416247 and parameters: {'objective': 'multi:softprob', 'tree_method': 'gpu_hist', 'lambda': 0.6470953207948074, 'alpha': 0.04791939440318824, 'colsample_bytree': 0.78169521024824, 'subsample': 0.6736782142840462, 'learning_rate': 0.013935150630715156, 'max_depth': 9, 'min_child_weight': 28, 'eval_metric': 'logloss'}. Best is trial 8 with value: 0.4652019575820016.\u001b[0m\n",
      "/home/tunguz/.local/lib/python3.8/site-packages/xgboost/dask.py:884: RuntimeWarning: coroutine 'Client._wait_for_workers' was never awaited\n",
      "  client.wait_for_workers(n_workers)\n",
      "[10:39:30] task [xgboost.dask-1]:tcp://127.0.0.1:33991 got new rank 0\n",
      "\u001b[32m[I 2022-12-13 10:40:54,176]\u001b[0m Trial 34 finished with value: 0.5122309503519747 and parameters: {'objective': 'multi:softprob', 'tree_method': 'gpu_hist', 'lambda': 9.883337527982476, 'alpha': 0.0010099643449068237, 'colsample_bytree': 0.9209512432348278, 'subsample': 0.622914720732128, 'learning_rate': 0.00976155326012519, 'max_depth': 12, 'min_child_weight': 61, 'eval_metric': 'logloss'}. Best is trial 8 with value: 0.4652019575820016.\u001b[0m\n",
      "/home/tunguz/.local/lib/python3.8/site-packages/xgboost/dask.py:884: RuntimeWarning: coroutine 'Client._wait_for_workers' was never awaited\n",
      "  client.wait_for_workers(n_workers)\n",
      "[10:40:54] task [xgboost.dask-1]:tcp://127.0.0.1:33991 got new rank 0\n",
      "\u001b[32m[I 2022-12-13 10:41:45,724]\u001b[0m Trial 35 finished with value: 0.46397241002256195 and parameters: {'objective': 'multi:softprob', 'tree_method': 'gpu_hist', 'lambda': 0.07848116136281699, 'alpha': 0.14152597424391009, 'colsample_bytree': 0.6789576552611247, 'subsample': 0.5186346952018731, 'learning_rate': 0.03969037259283934, 'max_depth': 8, 'min_child_weight': 18, 'eval_metric': 'logloss'}. Best is trial 35 with value: 0.46397241002256195.\u001b[0m\n",
      "/home/tunguz/.local/lib/python3.8/site-packages/xgboost/dask.py:884: RuntimeWarning: coroutine 'Client._wait_for_workers' was never awaited\n",
      "  client.wait_for_workers(n_workers)\n",
      "[10:41:45] task [xgboost.dask-1]:tcp://127.0.0.1:33991 got new rank 0\n",
      "\u001b[32m[I 2022-12-13 10:42:35,570]\u001b[0m Trial 36 finished with value: 0.46392707347562 and parameters: {'objective': 'multi:softprob', 'tree_method': 'gpu_hist', 'lambda': 0.02588285869761374, 'alpha': 0.13460900807997342, 'colsample_bytree': 0.6280621533969524, 'subsample': 0.5291514186710614, 'learning_rate': 0.048717252496682295, 'max_depth': 8, 'min_child_weight': 18, 'eval_metric': 'logloss'}. Best is trial 36 with value: 0.46392707347562.\u001b[0m\n",
      "/home/tunguz/.local/lib/python3.8/site-packages/xgboost/dask.py:884: RuntimeWarning: coroutine 'Client._wait_for_workers' was never awaited\n",
      "  client.wait_for_workers(n_workers)\n",
      "[10:42:35] task [xgboost.dask-1]:tcp://127.0.0.1:33991 got new rank 0\n",
      "\u001b[32m[I 2022-12-13 10:43:18,935]\u001b[0m Trial 37 finished with value: 0.4739362890231411 and parameters: {'objective': 'multi:softprob', 'tree_method': 'gpu_hist', 'lambda': 0.024660578562903938, 'alpha': 0.1325417569087483, 'colsample_bytree': 0.9949379381207437, 'subsample': 0.44881278084852977, 'learning_rate': 0.0804070173704638, 'max_depth': 7, 'min_child_weight': 16, 'eval_metric': 'logloss'}. Best is trial 36 with value: 0.46392707347562.\u001b[0m\n",
      "/home/tunguz/.local/lib/python3.8/site-packages/xgboost/dask.py:884: RuntimeWarning: coroutine 'Client._wait_for_workers' was never awaited\n",
      "  client.wait_for_workers(n_workers)\n",
      "[10:43:18] task [xgboost.dask-1]:tcp://127.0.0.1:33991 got new rank 0\n",
      "\u001b[32m[I 2022-12-13 10:43:35,268]\u001b[0m Trial 38 finished with value: 0.522674103603218 and parameters: {'objective': 'multi:softprob', 'tree_method': 'gpu_hist', 'lambda': 0.07344994283824928, 'alpha': 0.06087853344453455, 'colsample_bytree': 0.622549424486112, 'subsample': 0.5152105590789421, 'learning_rate': 0.049461340502088086, 'max_depth': 3, 'min_child_weight': 14, 'eval_metric': 'logloss'}. Best is trial 36 with value: 0.46392707347562.\u001b[0m\n",
      "/home/tunguz/.local/lib/python3.8/site-packages/xgboost/dask.py:884: RuntimeWarning: coroutine 'Client._wait_for_workers' was never awaited\n",
      "  client.wait_for_workers(n_workers)\n",
      "[10:43:35] task [xgboost.dask-1]:tcp://127.0.0.1:33991 got new rank 0\n",
      "\u001b[32m[I 2022-12-13 10:44:27,859]\u001b[0m Trial 39 finished with value: 0.7749233554682609 and parameters: {'objective': 'multi:softprob', 'tree_method': 'gpu_hist', 'lambda': 0.015421808454797998, 'alpha': 0.20378148074322158, 'colsample_bytree': 0.5650477238070469, 'subsample': 0.45237460476806995, 'learning_rate': 0.0034554858791632577, 'max_depth': 10, 'min_child_weight': 209, 'eval_metric': 'logloss'}. Best is trial 36 with value: 0.46392707347562.\u001b[0m\n",
      "/home/tunguz/.local/lib/python3.8/site-packages/xgboost/dask.py:884: RuntimeWarning: coroutine 'Client._wait_for_workers' was never awaited\n",
      "  client.wait_for_workers(n_workers)\n",
      "[10:44:27] task [xgboost.dask-1]:tcp://127.0.0.1:33991 got new rank 0\n",
      "\u001b[32m[I 2022-12-13 10:46:56,275]\u001b[0m Trial 40 finished with value: 0.5173947404305094 and parameters: {'objective': 'multi:softprob', 'tree_method': 'gpu_hist', 'lambda': 0.10611998642351493, 'alpha': 0.03554651732517083, 'colsample_bytree': 0.4919378675237615, 'subsample': 0.5482626569463152, 'learning_rate': 0.09729719472132303, 'max_depth': 19, 'min_child_weight': 20, 'eval_metric': 'logloss'}. Best is trial 36 with value: 0.46392707347562.\u001b[0m\n",
      "/home/tunguz/.local/lib/python3.8/site-packages/xgboost/dask.py:884: RuntimeWarning: coroutine 'Client._wait_for_workers' was never awaited\n",
      "  client.wait_for_workers(n_workers)\n",
      "/home/tunguz/.local/lib/python3.8/site-packages/distributed/worker_state_machine.py:3649: FutureWarning: The `Worker.nthreads` attribute has been moved to `Worker.state.nthreads`\n",
      "  warnings.warn(\n",
      "/home/tunguz/.local/lib/python3.8/site-packages/distributed/worker_state_machine.py:3649: FutureWarning: The `Worker.nthreads` attribute has been moved to `Worker.state.nthreads`\n",
      "  warnings.warn(\n",
      "/home/tunguz/.local/lib/python3.8/site-packages/distributed/worker_state_machine.py:3649: FutureWarning: The `Worker.nthreads` attribute has been moved to `Worker.state.nthreads`\n",
      "  warnings.warn(\n",
      "/home/tunguz/.local/lib/python3.8/site-packages/distributed/worker_state_machine.py:3649: FutureWarning: The `Worker.nthreads` attribute has been moved to `Worker.state.nthreads`\n",
      "  warnings.warn(\n",
      "/home/tunguz/.local/lib/python3.8/site-packages/distributed/worker_state_machine.py:3649: FutureWarning: The `Worker.nthreads` attribute has been moved to `Worker.state.nthreads`\n",
      "  warnings.warn(\n",
      "/home/tunguz/.local/lib/python3.8/site-packages/distributed/worker_state_machine.py:3649: FutureWarning: The `Worker.nthreads` attribute has been moved to `Worker.state.nthreads`\n",
      "  warnings.warn(\n",
      "/home/tunguz/.local/lib/python3.8/site-packages/distributed/worker_state_machine.py:3649: FutureWarning: The `Worker.nthreads` attribute has been moved to `Worker.state.nthreads`\n",
      "  warnings.warn(\n",
      "/home/tunguz/.local/lib/python3.8/site-packages/distributed/worker_state_machine.py:3649: FutureWarning: The `Worker.nthreads` attribute has been moved to `Worker.state.nthreads`\n",
      "  warnings.warn(\n",
      "/home/tunguz/.local/lib/python3.8/site-packages/distributed/worker_state_machine.py:3649: FutureWarning: The `Worker.nthreads` attribute has been moved to `Worker.state.nthreads`\n",
      "  warnings.warn(\n",
      "/home/tunguz/.local/lib/python3.8/site-packages/distributed/worker_state_machine.py:3649: FutureWarning: The `Worker.nthreads` attribute has been moved to `Worker.state.nthreads`\n",
      "  warnings.warn(\n",
      "/home/tunguz/.local/lib/python3.8/site-packages/distributed/worker_state_machine.py:3649: FutureWarning: The `Worker.nthreads` attribute has been moved to `Worker.state.nthreads`\n",
      "  warnings.warn(\n",
      "/home/tunguz/.local/lib/python3.8/site-packages/distributed/worker_state_machine.py:3649: FutureWarning: The `Worker.nthreads` attribute has been moved to `Worker.state.nthreads`\n",
      "  warnings.warn(\n",
      "/home/tunguz/.local/lib/python3.8/site-packages/distributed/worker_state_machine.py:3649: FutureWarning: The `Worker.nthreads` attribute has been moved to `Worker.state.nthreads`\n",
      "  warnings.warn(\n",
      "/home/tunguz/.local/lib/python3.8/site-packages/distributed/worker_state_machine.py:3649: FutureWarning: The `Worker.nthreads` attribute has been moved to `Worker.state.nthreads`\n",
      "  warnings.warn(\n",
      "/home/tunguz/.local/lib/python3.8/site-packages/distributed/worker_state_machine.py:3649: FutureWarning: The `Worker.nthreads` attribute has been moved to `Worker.state.nthreads`\n",
      "  warnings.warn(\n",
      "/home/tunguz/.local/lib/python3.8/site-packages/distributed/worker_state_machine.py:3649: FutureWarning: The `Worker.nthreads` attribute has been moved to `Worker.state.nthreads`\n",
      "  warnings.warn(\n",
      "/home/tunguz/.local/lib/python3.8/site-packages/distributed/worker_state_machine.py:3649: FutureWarning: The `Worker.nthreads` attribute has been moved to `Worker.state.nthreads`\n",
      "  warnings.warn(\n",
      "/home/tunguz/.local/lib/python3.8/site-packages/distributed/worker_state_machine.py:3649: FutureWarning: The `Worker.nthreads` attribute has been moved to `Worker.state.nthreads`\n",
      "  warnings.warn(\n",
      "/home/tunguz/.local/lib/python3.8/site-packages/distributed/worker_state_machine.py:3649: FutureWarning: The `Worker.nthreads` attribute has been moved to `Worker.state.nthreads`\n",
      "  warnings.warn(\n",
      "/home/tunguz/.local/lib/python3.8/site-packages/distributed/worker_state_machine.py:3649: FutureWarning: The `Worker.nthreads` attribute has been moved to `Worker.state.nthreads`\n",
      "  warnings.warn(\n",
      "/home/tunguz/.local/lib/python3.8/site-packages/distributed/worker_state_machine.py:3649: FutureWarning: The `Worker.nthreads` attribute has been moved to `Worker.state.nthreads`\n",
      "  warnings.warn(\n",
      "/home/tunguz/.local/lib/python3.8/site-packages/distributed/worker_state_machine.py:3649: FutureWarning: The `Worker.nthreads` attribute has been moved to `Worker.state.nthreads`\n",
      "  warnings.warn(\n",
      "/home/tunguz/.local/lib/python3.8/site-packages/distributed/worker_state_machine.py:3649: FutureWarning: The `Worker.nthreads` attribute has been moved to `Worker.state.nthreads`\n",
      "  warnings.warn(\n",
      "/home/tunguz/.local/lib/python3.8/site-packages/distributed/worker_state_machine.py:3649: FutureWarning: The `Worker.nthreads` attribute has been moved to `Worker.state.nthreads`\n",
      "  warnings.warn(\n",
      "/home/tunguz/.local/lib/python3.8/site-packages/distributed/worker_state_machine.py:3649: FutureWarning: The `Worker.nthreads` attribute has been moved to `Worker.state.nthreads`\n",
      "  warnings.warn(\n",
      "/home/tunguz/.local/lib/python3.8/site-packages/distributed/worker_state_machine.py:3649: FutureWarning: The `Worker.nthreads` attribute has been moved to `Worker.state.nthreads`\n",
      "  warnings.warn(\n",
      "/home/tunguz/.local/lib/python3.8/site-packages/distributed/worker_state_machine.py:3649: FutureWarning: The `Worker.nthreads` attribute has been moved to `Worker.state.nthreads`\n",
      "  warnings.warn(\n",
      "/home/tunguz/.local/lib/python3.8/site-packages/distributed/worker_state_machine.py:3649: FutureWarning: The `Worker.nthreads` attribute has been moved to `Worker.state.nthreads`\n",
      "  warnings.warn(\n",
      "/home/tunguz/.local/lib/python3.8/site-packages/distributed/worker_state_machine.py:3649: FutureWarning: The `Worker.nthreads` attribute has been moved to `Worker.state.nthreads`\n",
      "  warnings.warn(\n",
      "/home/tunguz/.local/lib/python3.8/site-packages/distributed/worker_state_machine.py:3649: FutureWarning: The `Worker.nthreads` attribute has been moved to `Worker.state.nthreads`\n",
      "  warnings.warn(\n",
      "/home/tunguz/.local/lib/python3.8/site-packages/distributed/worker_state_machine.py:3649: FutureWarning: The `Worker.nthreads` attribute has been moved to `Worker.state.nthreads`\n",
      "  warnings.warn(\n",
      "/home/tunguz/.local/lib/python3.8/site-packages/distributed/worker_state_machine.py:3649: FutureWarning: The `Worker.nthreads` attribute has been moved to `Worker.state.nthreads`\n",
      "  warnings.warn(\n",
      "/home/tunguz/.local/lib/python3.8/site-packages/distributed/worker_state_machine.py:3649: FutureWarning: The `Worker.nthreads` attribute has been moved to `Worker.state.nthreads`\n",
      "  warnings.warn(\n",
      "/home/tunguz/.local/lib/python3.8/site-packages/distributed/worker_state_machine.py:3649: FutureWarning: The `Worker.nthreads` attribute has been moved to `Worker.state.nthreads`\n",
      "  warnings.warn(\n",
      "/home/tunguz/.local/lib/python3.8/site-packages/distributed/worker_state_machine.py:3649: FutureWarning: The `Worker.nthreads` attribute has been moved to `Worker.state.nthreads`\n",
      "  warnings.warn(\n",
      "/home/tunguz/.local/lib/python3.8/site-packages/distributed/worker_state_machine.py:3649: FutureWarning: The `Worker.nthreads` attribute has been moved to `Worker.state.nthreads`\n",
      "  warnings.warn(\n",
      "/home/tunguz/.local/lib/python3.8/site-packages/distributed/worker_state_machine.py:3649: FutureWarning: The `Worker.nthreads` attribute has been moved to `Worker.state.nthreads`\n",
      "  warnings.warn(\n",
      "/home/tunguz/.local/lib/python3.8/site-packages/distributed/worker_state_machine.py:3649: FutureWarning: The `Worker.nthreads` attribute has been moved to `Worker.state.nthreads`\n",
      "  warnings.warn(\n",
      "/home/tunguz/.local/lib/python3.8/site-packages/distributed/worker_state_machine.py:3649: FutureWarning: The `Worker.nthreads` attribute has been moved to `Worker.state.nthreads`\n",
      "  warnings.warn(\n",
      "/home/tunguz/.local/lib/python3.8/site-packages/distributed/worker_state_machine.py:3649: FutureWarning: The `Worker.nthreads` attribute has been moved to `Worker.state.nthreads`\n",
      "  warnings.warn(\n",
      "/home/tunguz/.local/lib/python3.8/site-packages/distributed/worker_state_machine.py:3649: FutureWarning: The `Worker.nthreads` attribute has been moved to `Worker.state.nthreads`\n",
      "  warnings.warn(\n",
      "[10:46:56] task [xgboost.dask-1]:tcp://127.0.0.1:33991 got new rank 0\n",
      "\u001b[32m[I 2022-12-13 10:47:40,153]\u001b[0m Trial 41 finished with value: 0.4697529661284787 and parameters: {'objective': 'multi:softprob', 'tree_method': 'gpu_hist', 'lambda': 0.04987386531017234, 'alpha': 0.31258209900678274, 'colsample_bytree': 0.6475053350883245, 'subsample': 0.5862996571984309, 'learning_rate': 0.03880218883884666, 'max_depth': 8, 'min_child_weight': 41, 'eval_metric': 'logloss'}. Best is trial 36 with value: 0.46392707347562.\u001b[0m\n",
      "/home/tunguz/.local/lib/python3.8/site-packages/xgboost/dask.py:884: RuntimeWarning: coroutine 'Client._wait_for_workers' was never awaited\n",
      "  client.wait_for_workers(n_workers)\n",
      "[10:47:40] task [xgboost.dask-1]:tcp://127.0.0.1:33991 got new rank 0\n",
      "\u001b[32m[I 2022-12-13 10:48:39,498]\u001b[0m Trial 42 finished with value: 0.46683489407850454 and parameters: {'objective': 'multi:softprob', 'tree_method': 'gpu_hist', 'lambda': 0.024474281459991424, 'alpha': 0.43703832458184894, 'colsample_bytree': 0.5772608806485462, 'subsample': 0.49274074094634135, 'learning_rate': 0.061222017266530655, 'max_depth': 9, 'min_child_weight': 14, 'eval_metric': 'logloss'}. Best is trial 36 with value: 0.46392707347562.\u001b[0m\n",
      "/home/tunguz/.local/lib/python3.8/site-packages/xgboost/dask.py:884: RuntimeWarning: coroutine 'Client._wait_for_workers' was never awaited\n",
      "  client.wait_for_workers(n_workers)\n",
      "[10:48:39] task [xgboost.dask-1]:tcp://127.0.0.1:33991 got new rank 0\n",
      "\u001b[32m[I 2022-12-13 10:49:13,840]\u001b[0m Trial 43 finished with value: 0.46584880862795197 and parameters: {'objective': 'multi:softprob', 'tree_method': 'gpu_hist', 'lambda': 0.023389335471444735, 'alpha': 0.5603347996657634, 'colsample_bytree': 0.5872968850773372, 'subsample': 0.505230380815242, 'learning_rate': 0.06213241762834234, 'max_depth': 6, 'min_child_weight': 13, 'eval_metric': 'logloss'}. Best is trial 36 with value: 0.46392707347562.\u001b[0m\n",
      "/home/tunguz/.local/lib/python3.8/site-packages/xgboost/dask.py:884: RuntimeWarning: coroutine 'Client._wait_for_workers' was never awaited\n",
      "  client.wait_for_workers(n_workers)\n",
      "[10:49:13] task [xgboost.dask-1]:tcp://127.0.0.1:33991 got new rank 0\n",
      "\u001b[32m[I 2022-12-13 10:49:39,100]\u001b[0m Trial 44 finished with value: 0.4782603823524221 and parameters: {'objective': 'multi:softprob', 'tree_method': 'gpu_hist', 'lambda': 0.024334694295397426, 'alpha': 1.9695796008430393, 'colsample_bytree': 0.3937320047918206, 'subsample': 0.497641154503809, 'learning_rate': 0.06200144591042046, 'max_depth': 5, 'min_child_weight': 15, 'eval_metric': 'logloss'}. Best is trial 36 with value: 0.46392707347562.\u001b[0m\n",
      "/home/tunguz/.local/lib/python3.8/site-packages/xgboost/dask.py:884: RuntimeWarning: coroutine 'Client._wait_for_workers' was never awaited\n",
      "  client.wait_for_workers(n_workers)\n",
      "[10:49:39] task [xgboost.dask-1]:tcp://127.0.0.1:33991 got new rank 0\n",
      "\u001b[32m[I 2022-12-13 10:50:16,426]\u001b[0m Trial 45 finished with value: 0.47104824760321984 and parameters: {'objective': 'multi:softprob', 'tree_method': 'gpu_hist', 'lambda': 0.011709675057698527, 'alpha': 0.5236139659939189, 'colsample_bytree': 0.5040005100710502, 'subsample': 0.4722020319387132, 'learning_rate': 0.08049827917790638, 'max_depth': 6, 'min_child_weight': 5, 'eval_metric': 'logloss'}. Best is trial 36 with value: 0.46392707347562.\u001b[0m\n",
      "/home/tunguz/.local/lib/python3.8/site-packages/xgboost/dask.py:884: RuntimeWarning: coroutine 'Client._wait_for_workers' was never awaited\n",
      "  client.wait_for_workers(n_workers)\n",
      "[10:50:16] task [xgboost.dask-1]:tcp://127.0.0.1:33991 got new rank 0\n",
      "\u001b[32m[I 2022-12-13 10:50:29,620]\u001b[0m Trial 46 finished with value: 0.5655358979738073 and parameters: {'objective': 'multi:softprob', 'tree_method': 'gpu_hist', 'lambda': 0.03363183469412206, 'alpha': 0.9963282368885966, 'colsample_bytree': 0.5681956979109514, 'subsample': 0.5173417398079043, 'learning_rate': 0.05321380740738139, 'max_depth': 2, 'min_child_weight': 21, 'eval_metric': 'logloss'}. Best is trial 36 with value: 0.46392707347562.\u001b[0m\n",
      "/home/tunguz/.local/lib/python3.8/site-packages/xgboost/dask.py:884: RuntimeWarning: coroutine 'Client._wait_for_workers' was never awaited\n",
      "  client.wait_for_workers(n_workers)\n",
      "[10:50:29] task [xgboost.dask-1]:tcp://127.0.0.1:33991 got new rank 0\n",
      "\u001b[32m[I 2022-12-13 10:51:12,303]\u001b[0m Trial 47 finished with value: 0.4688158357084655 and parameters: {'objective': 'multi:softprob', 'tree_method': 'gpu_hist', 'lambda': 0.07852533658065013, 'alpha': 3.2070388799085223, 'colsample_bytree': 0.5888726430722377, 'subsample': 0.41714264880352053, 'learning_rate': 0.0670303198040073, 'max_depth': 8, 'min_child_weight': 36, 'eval_metric': 'logloss'}. Best is trial 36 with value: 0.46392707347562.\u001b[0m\n",
      "/home/tunguz/.local/lib/python3.8/site-packages/xgboost/dask.py:884: RuntimeWarning: coroutine 'Client._wait_for_workers' was never awaited\n",
      "  client.wait_for_workers(n_workers)\n",
      "[10:51:12] task [xgboost.dask-1]:tcp://127.0.0.1:33991 got new rank 0\n",
      "\u001b[32m[I 2022-12-13 10:51:50,092]\u001b[0m Trial 48 finished with value: 1.0697577004961962 and parameters: {'objective': 'multi:softprob', 'tree_method': 'gpu_hist', 'lambda': 0.12425473536919115, 'alpha': 0.5411188676012432, 'colsample_bytree': 0.9275544057958522, 'subsample': 0.4765536656508546, 'learning_rate': 0.0015202487736607488, 'max_depth': 6, 'min_child_weight': 181, 'eval_metric': 'logloss'}. Best is trial 36 with value: 0.46392707347562.\u001b[0m\n",
      "/home/tunguz/.local/lib/python3.8/site-packages/xgboost/dask.py:884: RuntimeWarning: coroutine 'Client._wait_for_workers' was never awaited\n",
      "  client.wait_for_workers(n_workers)\n",
      "[10:51:50] task [xgboost.dask-1]:tcp://127.0.0.1:33991 got new rank 0\n",
      "\u001b[32m[I 2022-12-13 10:52:11,570]\u001b[0m Trial 49 finished with value: 0.5262011394147175 and parameters: {'objective': 'multi:softprob', 'tree_method': 'gpu_hist', 'lambda': 0.015845363486856112, 'alpha': 0.10954335986870897, 'colsample_bytree': 0.3348092248406831, 'subsample': 0.5841320730875169, 'learning_rate': 0.09827761326033076, 'max_depth': 10, 'min_child_weight': 254, 'eval_metric': 'logloss'}. Best is trial 36 with value: 0.46392707347562.\u001b[0m\n",
      "/home/tunguz/.local/lib/python3.8/site-packages/xgboost/dask.py:884: RuntimeWarning: coroutine 'Client._wait_for_workers' was never awaited\n",
      "  client.wait_for_workers(n_workers)\n",
      "[10:52:11] task [xgboost.dask-1]:tcp://127.0.0.1:33991 got new rank 0\n",
      "\u001b[32m[I 2022-12-13 10:52:30,919]\u001b[0m Trial 50 finished with value: 0.5973604125920047 and parameters: {'objective': 'multi:softprob', 'tree_method': 'gpu_hist', 'lambda': 0.009110217233170799, 'alpha': 1.3023323357975525, 'colsample_bytree': 0.5181164928058818, 'subsample': 0.4306741894447603, 'learning_rate': 0.0229294557432533, 'max_depth': 4, 'min_child_weight': 291, 'eval_metric': 'logloss'}. Best is trial 36 with value: 0.46392707347562.\u001b[0m\n",
      "/home/tunguz/.local/lib/python3.8/site-packages/xgboost/dask.py:884: RuntimeWarning: coroutine 'Client._wait_for_workers' was never awaited\n",
      "  client.wait_for_workers(n_workers)\n",
      "[10:52:30] task [xgboost.dask-1]:tcp://127.0.0.1:33991 got new rank 0\n",
      "\u001b[32m[I 2022-12-13 10:53:24,601]\u001b[0m Trial 51 finished with value: 0.4676574422264671 and parameters: {'objective': 'multi:softprob', 'tree_method': 'gpu_hist', 'lambda': 0.05856773340172313, 'alpha': 0.6721551173425281, 'colsample_bytree': 0.6252003949617633, 'subsample': 0.5515169769650472, 'learning_rate': 0.0471278398220169, 'max_depth': 11, 'min_child_weight': 56, 'eval_metric': 'logloss'}. Best is trial 36 with value: 0.46392707347562.\u001b[0m\n",
      "/home/tunguz/.local/lib/python3.8/site-packages/xgboost/dask.py:884: RuntimeWarning: coroutine 'Client._wait_for_workers' was never awaited\n",
      "  client.wait_for_workers(n_workers)\n",
      "[10:53:24] task [xgboost.dask-1]:tcp://127.0.0.1:33991 got new rank 0\n",
      "\u001b[32m[I 2022-12-13 10:56:51,758]\u001b[0m Trial 52 finished with value: 0.5599815821922024 and parameters: {'objective': 'multi:softprob', 'tree_method': 'gpu_hist', 'lambda': 0.032769355153665546, 'alpha': 0.23748536246123342, 'colsample_bytree': 0.5475829833982785, 'subsample': 0.5326857156580403, 'learning_rate': 0.0590108385101404, 'max_depth': 15, 'min_child_weight': 1, 'eval_metric': 'logloss'}. Best is trial 36 with value: 0.46392707347562.\u001b[0m\n",
      "/home/tunguz/.local/lib/python3.8/site-packages/xgboost/dask.py:884: RuntimeWarning: coroutine 'Client._wait_for_workers' was never awaited\n",
      "  client.wait_for_workers(n_workers)\n",
      "[10:56:51] task [xgboost.dask-1]:tcp://127.0.0.1:33991 got new rank 0\n",
      "\u001b[32m[I 2022-12-13 10:58:44,516]\u001b[0m Trial 53 finished with value: 0.4618502698420293 and parameters: {'objective': 'multi:softprob', 'tree_method': 'gpu_hist', 'lambda': 0.01790359883121292, 'alpha': 0.07857076743835616, 'colsample_bytree': 0.5968987945823166, 'subsample': 0.5028774688056832, 'learning_rate': 0.017227530796417156, 'max_depth': 12, 'min_child_weight': 14, 'eval_metric': 'logloss'}. Best is trial 53 with value: 0.4618502698420293.\u001b[0m\n",
      "/home/tunguz/.local/lib/python3.8/site-packages/xgboost/dask.py:884: RuntimeWarning: coroutine 'Client._wait_for_workers' was never awaited\n",
      "  client.wait_for_workers(n_workers)\n",
      "[10:58:44] task [xgboost.dask-1]:tcp://127.0.0.1:33991 got new rank 0\n",
      "\u001b[32m[I 2022-12-13 10:59:44,948]\u001b[0m Trial 54 finished with value: 0.4839910912944269 and parameters: {'objective': 'multi:softprob', 'tree_method': 'gpu_hist', 'lambda': 0.021028068857321808, 'alpha': 0.0931679316617705, 'colsample_bytree': 0.4779326728203831, 'subsample': 0.49381197080989486, 'learning_rate': 0.017114356665759157, 'max_depth': 8, 'min_child_weight': 15, 'eval_metric': 'logloss'}. Best is trial 53 with value: 0.4618502698420293.\u001b[0m\n",
      "/home/tunguz/.local/lib/python3.8/site-packages/xgboost/dask.py:884: RuntimeWarning: coroutine 'Client._wait_for_workers' was never awaited\n",
      "  client.wait_for_workers(n_workers)\n",
      "[10:59:44] task [xgboost.dask-1]:tcp://127.0.0.1:33991 got new rank 0\n",
      "\u001b[32m[I 2022-12-13 11:01:03,600]\u001b[0m Trial 55 finished with value: 0.5504556572835231 and parameters: {'objective': 'multi:softprob', 'tree_method': 'gpu_hist', 'lambda': 0.008036954932101893, 'alpha': 0.40932742832333163, 'colsample_bytree': 0.7355153218252608, 'subsample': 0.4615659219056282, 'learning_rate': 0.006493491257872652, 'max_depth': 9, 'min_child_weight': 30, 'eval_metric': 'logloss'}. Best is trial 53 with value: 0.4618502698420293.\u001b[0m\n",
      "/home/tunguz/.local/lib/python3.8/site-packages/xgboost/dask.py:884: RuntimeWarning: coroutine 'Client._wait_for_workers' was never awaited\n",
      "  client.wait_for_workers(n_workers)\n",
      "[11:01:03] task [xgboost.dask-1]:tcp://127.0.0.1:33991 got new rank 0\n",
      "\u001b[32m[I 2022-12-13 11:02:18,428]\u001b[0m Trial 56 finished with value: 0.4991750067017141 and parameters: {'objective': 'multi:softprob', 'tree_method': 'gpu_hist', 'lambda': 0.01867408746507175, 'alpha': 0.17759967640619498, 'colsample_bytree': 0.5906317224032501, 'subsample': 0.40341199835577063, 'learning_rate': 0.012225844327832455, 'max_depth': 12, 'min_child_weight': 46, 'eval_metric': 'logloss'}. Best is trial 53 with value: 0.4618502698420293.\u001b[0m\n",
      "/home/tunguz/.local/lib/python3.8/site-packages/xgboost/dask.py:884: RuntimeWarning: coroutine 'Client._wait_for_workers' was never awaited\n",
      "  client.wait_for_workers(n_workers)\n",
      "[11:02:18] task [xgboost.dask-1]:tcp://127.0.0.1:33991 got new rank 0\n",
      "\u001b[32m[I 2022-12-13 11:02:51,856]\u001b[0m Trial 57 finished with value: 0.4929297187643186 and parameters: {'objective': 'multi:softprob', 'tree_method': 'gpu_hist', 'lambda': 0.029029261852947845, 'alpha': 0.06163698728709226, 'colsample_bytree': 0.763617509856061, 'subsample': 0.5048135357864384, 'learning_rate': 0.03410276758324399, 'max_depth': 7, 'min_child_weight': 84, 'eval_metric': 'logloss'}. Best is trial 53 with value: 0.4618502698420293.\u001b[0m\n",
      "/home/tunguz/.local/lib/python3.8/site-packages/xgboost/dask.py:884: RuntimeWarning: coroutine 'Client._wait_for_workers' was never awaited\n",
      "  client.wait_for_workers(n_workers)\n",
      "[11:02:51] task [xgboost.dask-1]:tcp://127.0.0.1:33991 got new rank 0\n",
      "\u001b[32m[I 2022-12-13 11:03:42,499]\u001b[0m Trial 58 finished with value: 0.5450431191838732 and parameters: {'objective': 'multi:softprob', 'tree_method': 'gpu_hist', 'lambda': 0.011266995383310635, 'alpha': 0.7981028740958267, 'colsample_bytree': 0.6904226896627833, 'subsample': 0.5715737086357943, 'learning_rate': 0.010278195068093597, 'max_depth': 10, 'min_child_weight': 143, 'eval_metric': 'logloss'}. Best is trial 53 with value: 0.4618502698420293.\u001b[0m\n",
      "/home/tunguz/.local/lib/python3.8/site-packages/xgboost/dask.py:884: RuntimeWarning: coroutine 'Client._wait_for_workers' was never awaited\n",
      "  client.wait_for_workers(n_workers)\n",
      "[11:03:42] task [xgboost.dask-1]:tcp://127.0.0.1:33991 got new rank 0\n",
      "\u001b[32m[I 2022-12-13 11:05:49,632]\u001b[0m Trial 59 finished with value: 0.4676710639485267 and parameters: {'objective': 'multi:softprob', 'tree_method': 'gpu_hist', 'lambda': 0.07650197570386903, 'alpha': 0.1300499665748514, 'colsample_bytree': 0.8885902907912742, 'subsample': 0.6613090337863813, 'learning_rate': 0.01575352582227959, 'max_depth': 11, 'min_child_weight': 12, 'eval_metric': 'logloss'}. Best is trial 53 with value: 0.4618502698420293.\u001b[0m\n",
      "/home/tunguz/.local/lib/python3.8/site-packages/xgboost/dask.py:884: RuntimeWarning: coroutine 'Client._wait_for_workers' was never awaited\n",
      "  client.wait_for_workers(n_workers)\n",
      "[11:05:49] task [xgboost.dask-1]:tcp://127.0.0.1:33991 got new rank 0\n",
      "\u001b[32m[I 2022-12-13 11:07:56,031]\u001b[0m Trial 60 finished with value: 0.45861106055534906 and parameters: {'objective': 'multi:softprob', 'tree_method': 'gpu_hist', 'lambda': 0.004551698749092139, 'alpha': 0.2750884384461031, 'colsample_bytree': 0.6544777599572463, 'subsample': 0.5363821316875973, 'learning_rate': 0.023917755469150682, 'max_depth': 17, 'min_child_weight': 26, 'eval_metric': 'logloss'}. Best is trial 60 with value: 0.45861106055534906.\u001b[0m\n",
      "/home/tunguz/.local/lib/python3.8/site-packages/xgboost/dask.py:884: RuntimeWarning: coroutine 'Client._wait_for_workers' was never awaited\n",
      "  client.wait_for_workers(n_workers)\n",
      "[11:07:56] task [xgboost.dask-1]:tcp://127.0.0.1:33991 got new rank 0\n",
      "\u001b[32m[I 2022-12-13 11:10:34,344]\u001b[0m Trial 61 finished with value: 0.4591047053827748 and parameters: {'objective': 'multi:softprob', 'tree_method': 'gpu_hist', 'lambda': 0.0053142727722809745, 'alpha': 0.29473998363649195, 'colsample_bytree': 0.6556036613137377, 'subsample': 0.5279857764859568, 'learning_rate': 0.01948147512993402, 'max_depth': 18, 'min_child_weight': 25, 'eval_metric': 'logloss'}. Best is trial 60 with value: 0.45861106055534906.\u001b[0m\n",
      "/home/tunguz/.local/lib/python3.8/site-packages/xgboost/dask.py:884: RuntimeWarning: coroutine 'Client._wait_for_workers' was never awaited\n",
      "  client.wait_for_workers(n_workers)\n",
      "[11:10:34] task [xgboost.dask-1]:tcp://127.0.0.1:33991 got new rank 0\n",
      "\u001b[32m[I 2022-12-13 11:13:01,973]\u001b[0m Trial 62 finished with value: 0.4591761578742528 and parameters: {'objective': 'multi:softprob', 'tree_method': 'gpu_hist', 'lambda': 0.005800408033566502, 'alpha': 0.25499979528566147, 'colsample_bytree': 0.6554806247466242, 'subsample': 0.5342671963450912, 'learning_rate': 0.0210558027284094, 'max_depth': 18, 'min_child_weight': 29, 'eval_metric': 'logloss'}. Best is trial 60 with value: 0.45861106055534906.\u001b[0m\n",
      "/home/tunguz/.local/lib/python3.8/site-packages/xgboost/dask.py:884: RuntimeWarning: coroutine 'Client._wait_for_workers' was never awaited\n",
      "  client.wait_for_workers(n_workers)\n",
      "[11:13:01] task [xgboost.dask-1]:tcp://127.0.0.1:33991 got new rank 0\n",
      "\u001b[32m[I 2022-12-13 11:15:33,726]\u001b[0m Trial 63 finished with value: 0.4603035010483492 and parameters: {'objective': 'multi:softprob', 'tree_method': 'gpu_hist', 'lambda': 0.003236143467990991, 'alpha': 0.27756984407282037, 'colsample_bytree': 0.6646911952935535, 'subsample': 0.5396424225486288, 'learning_rate': 0.019750926244002355, 'max_depth': 18, 'min_child_weight': 28, 'eval_metric': 'logloss'}. Best is trial 60 with value: 0.45861106055534906.\u001b[0m\n",
      "/home/tunguz/.local/lib/python3.8/site-packages/xgboost/dask.py:884: RuntimeWarning: coroutine 'Client._wait_for_workers' was never awaited\n",
      "  client.wait_for_workers(n_workers)\n",
      "[11:15:33] task [xgboost.dask-1]:tcp://127.0.0.1:33991 got new rank 0\n",
      "\u001b[32m[I 2022-12-13 11:18:03,185]\u001b[0m Trial 64 finished with value: 0.4593471421489244 and parameters: {'objective': 'multi:softprob', 'tree_method': 'gpu_hist', 'lambda': 0.003122436600822783, 'alpha': 0.2722272854837101, 'colsample_bytree': 0.65211179893935, 'subsample': 0.5353974727586994, 'learning_rate': 0.020542445871501416, 'max_depth': 18, 'min_child_weight': 28, 'eval_metric': 'logloss'}. Best is trial 60 with value: 0.45861106055534906.\u001b[0m\n",
      "/home/tunguz/.local/lib/python3.8/site-packages/xgboost/dask.py:884: RuntimeWarning: coroutine 'Client._wait_for_workers' was never awaited\n",
      "  client.wait_for_workers(n_workers)\n",
      "[11:18:03] task [xgboost.dask-1]:tcp://127.0.0.1:33991 got new rank 0\n",
      "\u001b[32m[I 2022-12-13 11:28:06,600]\u001b[0m Trial 65 finished with value: 0.46061182307343757 and parameters: {'objective': 'multi:softprob', 'tree_method': 'gpu_hist', 'lambda': 0.00522482108313918, 'alpha': 0.25325985385747485, 'colsample_bytree': 0.6593426706909825, 'subsample': 0.5369273811951417, 'learning_rate': 0.02095369852346772, 'max_depth': 22, 'min_child_weight': 34, 'eval_metric': 'logloss'}. Best is trial 60 with value: 0.45861106055534906.\u001b[0m\n",
      "/home/tunguz/.local/lib/python3.8/site-packages/xgboost/dask.py:884: RuntimeWarning: coroutine 'Client._wait_for_workers' was never awaited\n",
      "  client.wait_for_workers(n_workers)\n",
      "[11:28:06] task [xgboost.dask-1]:tcp://127.0.0.1:33991 got new rank 0\n",
      "\u001b[32m[I 2022-12-13 11:38:06,649]\u001b[0m Trial 66 finished with value: 0.4619756123078974 and parameters: {'objective': 'multi:softprob', 'tree_method': 'gpu_hist', 'lambda': 0.002781004560420741, 'alpha': 0.25766232930320365, 'colsample_bytree': 0.7110346635541637, 'subsample': 0.5433596285510419, 'learning_rate': 0.020648804185385786, 'max_depth': 22, 'min_child_weight': 34, 'eval_metric': 'logloss'}. Best is trial 60 with value: 0.45861106055534906.\u001b[0m\n",
      "/home/tunguz/.local/lib/python3.8/site-packages/xgboost/dask.py:884: RuntimeWarning: coroutine 'Client._wait_for_workers' was never awaited\n",
      "  client.wait_for_workers(n_workers)\n",
      "[11:38:06] task [xgboost.dask-1]:tcp://127.0.0.1:33991 got new rank 0\n",
      "\u001b[32m[I 2022-12-13 11:40:20,061]\u001b[0m Trial 67 finished with value: 0.4631411524998838 and parameters: {'objective': 'multi:softprob', 'tree_method': 'gpu_hist', 'lambda': 0.004355915707435389, 'alpha': 0.3146255928466306, 'colsample_bytree': 0.6608145454004511, 'subsample': 0.9817339079931325, 'learning_rate': 0.02411722216463226, 'max_depth': 18, 'min_child_weight': 58, 'eval_metric': 'logloss'}. Best is trial 60 with value: 0.45861106055534906.\u001b[0m\n",
      "/home/tunguz/.local/lib/python3.8/site-packages/xgboost/dask.py:884: RuntimeWarning: coroutine 'Client._wait_for_workers' was never awaited\n",
      "  client.wait_for_workers(n_workers)\n",
      "[11:40:20] task [xgboost.dask-1]:tcp://127.0.0.1:33991 got new rank 0\n",
      "\u001b[32m[I 2022-12-13 11:57:48,459]\u001b[0m Trial 68 finished with value: 0.4780630276376 and parameters: {'objective': 'multi:softprob', 'tree_method': 'gpu_hist', 'lambda': 0.0011062695535088733, 'alpha': 0.20918705670558252, 'colsample_bytree': 0.6479074841600592, 'subsample': 0.5980187474074479, 'learning_rate': 0.019046981405201658, 'max_depth': 23, 'min_child_weight': 79, 'eval_metric': 'logloss'}. Best is trial 60 with value: 0.45861106055534906.\u001b[0m\n",
      "/home/tunguz/.local/lib/python3.8/site-packages/xgboost/dask.py:884: RuntimeWarning: coroutine 'Client._wait_for_workers' was never awaited\n",
      "  client.wait_for_workers(n_workers)\n",
      "[11:57:48] task [xgboost.dask-1]:tcp://127.0.0.1:33991 got new rank 0\n",
      "\u001b[32m[I 2022-12-13 11:59:47,529]\u001b[0m Trial 69 finished with value: 0.4696782048537145 and parameters: {'objective': 'multi:softprob', 'tree_method': 'gpu_hist', 'lambda': 0.0056313306445259, 'alpha': 0.08792924935273645, 'colsample_bytree': 0.7212339205138556, 'subsample': 0.5617403313853085, 'learning_rate': 0.01596585527445394, 'max_depth': 17, 'min_child_weight': 43, 'eval_metric': 'logloss'}. Best is trial 60 with value: 0.45861106055534906.\u001b[0m\n",
      "/home/tunguz/.local/lib/python3.8/site-packages/xgboost/dask.py:884: RuntimeWarning: coroutine 'Client._wait_for_workers' was never awaited\n",
      "  client.wait_for_workers(n_workers)\n",
      "[11:59:47] task [xgboost.dask-1]:tcp://127.0.0.1:33991 got new rank 0\n",
      "\u001b[32m[I 2022-12-13 12:04:42,266]\u001b[0m Trial 70 finished with value: 0.4712918870190232 and parameters: {'objective': 'multi:softprob', 'tree_method': 'gpu_hist', 'lambda': 0.0031900824515695464, 'alpha': 0.27758978820346136, 'colsample_bytree': 0.6038751612608664, 'subsample': 0.5669516347671787, 'learning_rate': 0.010648124910485087, 'max_depth': 20, 'min_child_weight': 25, 'eval_metric': 'logloss'}. Best is trial 60 with value: 0.45861106055534906.\u001b[0m\n",
      "/home/tunguz/.local/lib/python3.8/site-packages/xgboost/dask.py:884: RuntimeWarning: coroutine 'Client._wait_for_workers' was never awaited\n",
      "  client.wait_for_workers(n_workers)\n",
      "[12:04:42] task [xgboost.dask-1]:tcp://127.0.0.1:33991 got new rank 0\n",
      "\u001b[32m[I 2022-12-13 12:14:42,060]\u001b[0m Trial 71 finished with value: 0.46212165889521123 and parameters: {'objective': 'multi:softprob', 'tree_method': 'gpu_hist', 'lambda': 0.002358706270166122, 'alpha': 0.2116321660449588, 'colsample_bytree': 0.7167623492497873, 'subsample': 0.4746772950254115, 'learning_rate': 0.0216129439729085, 'max_depth': 22, 'min_child_weight': 33, 'eval_metric': 'logloss'}. Best is trial 60 with value: 0.45861106055534906.\u001b[0m\n",
      "/home/tunguz/.local/lib/python3.8/site-packages/xgboost/dask.py:884: RuntimeWarning: coroutine 'Client._wait_for_workers' was never awaited\n",
      "  client.wait_for_workers(n_workers)\n",
      "[12:14:42] task [xgboost.dask-1]:tcp://127.0.0.1:33991 got new rank 0\n",
      "\u001b[32m[I 2022-12-13 12:20:13,630]\u001b[0m Trial 72 finished with value: 0.46600469874235106 and parameters: {'objective': 'multi:softprob', 'tree_method': 'gpu_hist', 'lambda': 0.0017939778491198198, 'alpha': 0.40238741943738665, 'colsample_bytree': 0.7060903213147762, 'subsample': 0.5337929060618046, 'learning_rate': 0.027196775921747934, 'max_depth': 21, 'min_child_weight': 50, 'eval_metric': 'logloss'}. Best is trial 60 with value: 0.45861106055534906.\u001b[0m\n",
      "/home/tunguz/.local/lib/python3.8/site-packages/xgboost/dask.py:884: RuntimeWarning: coroutine 'Client._wait_for_workers' was never awaited\n",
      "  client.wait_for_workers(n_workers)\n",
      "[12:20:13] task [xgboost.dask-1]:tcp://127.0.0.1:33991 got new rank 0\n",
      "\u001b[32m[I 2022-12-13 12:22:30,064]\u001b[0m Trial 73 finished with value: 0.4623420821825628 and parameters: {'objective': 'multi:softprob', 'tree_method': 'gpu_hist', 'lambda': 0.006204659245927015, 'alpha': 0.2760064707965344, 'colsample_bytree': 0.6694551349924761, 'subsample': 0.5386874817024516, 'learning_rate': 0.019878983607172978, 'max_depth': 18, 'min_child_weight': 37, 'eval_metric': 'logloss'}. Best is trial 60 with value: 0.45861106055534906.\u001b[0m\n",
      "/home/tunguz/.local/lib/python3.8/site-packages/xgboost/dask.py:884: RuntimeWarning: coroutine 'Client._wait_for_workers' was never awaited\n",
      "  client.wait_for_workers(n_workers)\n",
      "[12:22:30] task [xgboost.dask-1]:tcp://127.0.0.1:33991 got new rank 0\n",
      "\u001b[32m[I 2022-12-13 12:25:05,846]\u001b[0m Trial 74 finished with value: 0.48124203319097725 and parameters: {'objective': 'multi:softprob', 'tree_method': 'gpu_hist', 'lambda': 0.00343474090313377, 'alpha': 0.0422152339958777, 'colsample_bytree': 0.6345381699782081, 'subsample': 0.5574646787696411, 'learning_rate': 0.014810751921947841, 'max_depth': 19, 'min_child_weight': 65, 'eval_metric': 'logloss'}. Best is trial 60 with value: 0.45861106055534906.\u001b[0m\n",
      "/home/tunguz/.local/lib/python3.8/site-packages/xgboost/dask.py:884: RuntimeWarning: coroutine 'Client._wait_for_workers' was never awaited\n",
      "  client.wait_for_workers(n_workers)\n",
      "[12:25:05] task [xgboost.dask-1]:tcp://127.0.0.1:33991 got new rank 0\n",
      "\u001b[32m[I 2022-12-13 12:58:42,377]\u001b[0m Trial 75 finished with value: 0.46176745269538194 and parameters: {'objective': 'multi:softprob', 'tree_method': 'gpu_hist', 'lambda': 0.0017858405941464826, 'alpha': 0.169968391709383, 'colsample_bytree': 0.6884223612340643, 'subsample': 0.4383608124574674, 'learning_rate': 0.017543110359151876, 'max_depth': 24, 'min_child_weight': 27, 'eval_metric': 'logloss'}. Best is trial 60 with value: 0.45861106055534906.\u001b[0m\n",
      "/home/tunguz/.local/lib/python3.8/site-packages/xgboost/dask.py:884: RuntimeWarning: coroutine 'Client._wait_for_workers' was never awaited\n",
      "  client.wait_for_workers(n_workers)\n",
      "[12:58:42] task [xgboost.dask-1]:tcp://127.0.0.1:33991 got new rank 0\n",
      "\u001b[32m[I 2022-12-13 14:03:02,400]\u001b[0m Trial 76 finished with value: 0.4975963411000135 and parameters: {'objective': 'multi:softprob', 'tree_method': 'gpu_hist', 'lambda': 0.0018835612507867939, 'alpha': 0.1071462870001998, 'colsample_bytree': 0.6913496492300428, 'subsample': 0.46224805336036445, 'learning_rate': 0.017536968355768855, 'max_depth': 25, 'min_child_weight': 103, 'eval_metric': 'logloss'}. Best is trial 60 with value: 0.45861106055534906.\u001b[0m\n",
      "/home/tunguz/.local/lib/python3.8/site-packages/xgboost/dask.py:884: RuntimeWarning: coroutine 'Client._wait_for_workers' was never awaited\n",
      "  client.wait_for_workers(n_workers)\n",
      "[14:03:02] task [xgboost.dask-1]:tcp://127.0.0.1:33991 got new rank 0\n",
      "\u001b[32m[I 2022-12-13 14:39:38,075]\u001b[0m Trial 77 finished with value: 0.46333203847413124 and parameters: {'objective': 'multi:softprob', 'tree_method': 'gpu_hist', 'lambda': 0.0011291657701773194, 'alpha': 0.1704161263622726, 'colsample_bytree': 0.6086267808646706, 'subsample': 0.43357345222802096, 'learning_rate': 0.013076143640199734, 'max_depth': 24, 'min_child_weight': 8, 'eval_metric': 'logloss'}. Best is trial 60 with value: 0.45861106055534906.\u001b[0m\n",
      "/home/tunguz/.local/lib/python3.8/site-packages/xgboost/dask.py:884: RuntimeWarning: coroutine 'Client._wait_for_workers' was never awaited\n",
      "  client.wait_for_workers(n_workers)\n",
      "[14:39:38] task [xgboost.dask-1]:tcp://127.0.0.1:33991 got new rank 0\n",
      "\u001b[32m[I 2022-12-13 14:41:32,161]\u001b[0m Trial 78 finished with value: 0.4609590284071078 and parameters: {'objective': 'multi:softprob', 'tree_method': 'gpu_hist', 'lambda': 0.0038397308449420902, 'alpha': 0.07238742595064487, 'colsample_bytree': 0.6563091083128253, 'subsample': 0.48524022045609544, 'learning_rate': 0.030421413214239783, 'max_depth': 17, 'min_child_weight': 26, 'eval_metric': 'logloss'}. Best is trial 60 with value: 0.45861106055534906.\u001b[0m\n",
      "/home/tunguz/.local/lib/python3.8/site-packages/xgboost/dask.py:884: RuntimeWarning: coroutine 'Client._wait_for_workers' was never awaited\n",
      "  client.wait_for_workers(n_workers)\n",
      "[14:41:32] task [xgboost.dask-1]:tcp://127.0.0.1:33991 got new rank 0\n",
      "\u001b[32m[I 2022-12-13 14:43:23,960]\u001b[0m Trial 79 finished with value: 0.46290422450290664 and parameters: {'objective': 'multi:softprob', 'tree_method': 'gpu_hist', 'lambda': 0.003743460684090509, 'alpha': 0.06722469929632, 'colsample_bytree': 0.7624379436315756, 'subsample': 0.43757886903901927, 'learning_rate': 0.03133305101555638, 'max_depth': 17, 'min_child_weight': 26, 'eval_metric': 'logloss'}. Best is trial 60 with value: 0.45861106055534906.\u001b[0m\n",
      "/home/tunguz/.local/lib/python3.8/site-packages/xgboost/dask.py:884: RuntimeWarning: coroutine 'Client._wait_for_workers' was never awaited\n",
      "  client.wait_for_workers(n_workers)\n",
      "[14:43:23] task [xgboost.dask-1]:tcp://127.0.0.1:33991 got new rank 0\n",
      "\u001b[32m[I 2022-12-13 14:45:36,977]\u001b[0m Trial 80 finished with value: 0.4770646440309373 and parameters: {'objective': 'multi:softprob', 'tree_method': 'gpu_hist', 'lambda': 0.0014379714688890202, 'alpha': 0.7150332712189982, 'colsample_bytree': 0.6496824336133445, 'subsample': 0.4802146700800107, 'learning_rate': 0.025488698604573194, 'max_depth': 19, 'min_child_weight': 75, 'eval_metric': 'logloss'}. Best is trial 60 with value: 0.45861106055534906.\u001b[0m\n",
      "/home/tunguz/.local/lib/python3.8/site-packages/xgboost/dask.py:884: RuntimeWarning: coroutine 'Client._wait_for_workers' was never awaited\n",
      "  client.wait_for_workers(n_workers)\n",
      "[14:45:36] task [xgboost.dask-1]:tcp://127.0.0.1:33991 got new rank 0\n",
      "\u001b[32m[I 2022-12-13 14:47:46,050]\u001b[0m Trial 81 finished with value: 0.45884023144975206 and parameters: {'objective': 'multi:softprob', 'tree_method': 'gpu_hist', 'lambda': 0.005126079527920158, 'alpha': 0.1669157351908922, 'colsample_bytree': 0.6678117751617549, 'subsample': 0.5102537214368067, 'learning_rate': 0.022576939875778145, 'max_depth': 17, 'min_child_weight': 25, 'eval_metric': 'logloss'}. Best is trial 60 with value: 0.45861106055534906.\u001b[0m\n",
      "/home/tunguz/.local/lib/python3.8/site-packages/xgboost/dask.py:884: RuntimeWarning: coroutine 'Client._wait_for_workers' was never awaited\n",
      "  client.wait_for_workers(n_workers)\n",
      "/home/tunguz/.local/lib/python3.8/site-packages/distributed/worker_state_machine.py:3649: FutureWarning: The `Worker.nthreads` attribute has been moved to `Worker.state.nthreads`\n",
      "  warnings.warn(\n",
      "/home/tunguz/.local/lib/python3.8/site-packages/distributed/worker_state_machine.py:3649: FutureWarning: The `Worker.nthreads` attribute has been moved to `Worker.state.nthreads`\n",
      "  warnings.warn(\n",
      "/home/tunguz/.local/lib/python3.8/site-packages/distributed/worker_state_machine.py:3649: FutureWarning: The `Worker.nthreads` attribute has been moved to `Worker.state.nthreads`\n",
      "  warnings.warn(\n",
      "/home/tunguz/.local/lib/python3.8/site-packages/distributed/worker_state_machine.py:3649: FutureWarning: The `Worker.nthreads` attribute has been moved to `Worker.state.nthreads`\n",
      "  warnings.warn(\n",
      "/home/tunguz/.local/lib/python3.8/site-packages/distributed/worker_state_machine.py:3649: FutureWarning: The `Worker.nthreads` attribute has been moved to `Worker.state.nthreads`\n",
      "  warnings.warn(\n",
      "/home/tunguz/.local/lib/python3.8/site-packages/distributed/worker_state_machine.py:3649: FutureWarning: The `Worker.nthreads` attribute has been moved to `Worker.state.nthreads`\n",
      "  warnings.warn(\n",
      "/home/tunguz/.local/lib/python3.8/site-packages/distributed/worker_state_machine.py:3649: FutureWarning: The `Worker.nthreads` attribute has been moved to `Worker.state.nthreads`\n",
      "  warnings.warn(\n",
      "/home/tunguz/.local/lib/python3.8/site-packages/distributed/worker_state_machine.py:3649: FutureWarning: The `Worker.nthreads` attribute has been moved to `Worker.state.nthreads`\n",
      "  warnings.warn(\n",
      "/home/tunguz/.local/lib/python3.8/site-packages/distributed/worker_state_machine.py:3649: FutureWarning: The `Worker.nthreads` attribute has been moved to `Worker.state.nthreads`\n",
      "  warnings.warn(\n",
      "/home/tunguz/.local/lib/python3.8/site-packages/distributed/worker_state_machine.py:3649: FutureWarning: The `Worker.nthreads` attribute has been moved to `Worker.state.nthreads`\n",
      "  warnings.warn(\n",
      "/home/tunguz/.local/lib/python3.8/site-packages/distributed/worker_state_machine.py:3649: FutureWarning: The `Worker.nthreads` attribute has been moved to `Worker.state.nthreads`\n",
      "  warnings.warn(\n",
      "/home/tunguz/.local/lib/python3.8/site-packages/distributed/worker_state_machine.py:3649: FutureWarning: The `Worker.nthreads` attribute has been moved to `Worker.state.nthreads`\n",
      "  warnings.warn(\n",
      "/home/tunguz/.local/lib/python3.8/site-packages/distributed/worker_state_machine.py:3649: FutureWarning: The `Worker.nthreads` attribute has been moved to `Worker.state.nthreads`\n",
      "  warnings.warn(\n",
      "/home/tunguz/.local/lib/python3.8/site-packages/distributed/worker_state_machine.py:3649: FutureWarning: The `Worker.nthreads` attribute has been moved to `Worker.state.nthreads`\n",
      "  warnings.warn(\n",
      "/home/tunguz/.local/lib/python3.8/site-packages/distributed/worker_state_machine.py:3649: FutureWarning: The `Worker.nthreads` attribute has been moved to `Worker.state.nthreads`\n",
      "  warnings.warn(\n",
      "/home/tunguz/.local/lib/python3.8/site-packages/distributed/worker_state_machine.py:3649: FutureWarning: The `Worker.nthreads` attribute has been moved to `Worker.state.nthreads`\n",
      "  warnings.warn(\n",
      "/home/tunguz/.local/lib/python3.8/site-packages/distributed/worker_state_machine.py:3649: FutureWarning: The `Worker.nthreads` attribute has been moved to `Worker.state.nthreads`\n",
      "  warnings.warn(\n",
      "/home/tunguz/.local/lib/python3.8/site-packages/distributed/worker_state_machine.py:3649: FutureWarning: The `Worker.nthreads` attribute has been moved to `Worker.state.nthreads`\n",
      "  warnings.warn(\n",
      "/home/tunguz/.local/lib/python3.8/site-packages/distributed/worker_state_machine.py:3649: FutureWarning: The `Worker.nthreads` attribute has been moved to `Worker.state.nthreads`\n",
      "  warnings.warn(\n",
      "/home/tunguz/.local/lib/python3.8/site-packages/distributed/worker_state_machine.py:3649: FutureWarning: The `Worker.nthreads` attribute has been moved to `Worker.state.nthreads`\n",
      "  warnings.warn(\n",
      "/home/tunguz/.local/lib/python3.8/site-packages/distributed/worker_state_machine.py:3649: FutureWarning: The `Worker.nthreads` attribute has been moved to `Worker.state.nthreads`\n",
      "  warnings.warn(\n",
      "/home/tunguz/.local/lib/python3.8/site-packages/distributed/worker_state_machine.py:3649: FutureWarning: The `Worker.nthreads` attribute has been moved to `Worker.state.nthreads`\n",
      "  warnings.warn(\n",
      "/home/tunguz/.local/lib/python3.8/site-packages/distributed/worker_state_machine.py:3649: FutureWarning: The `Worker.nthreads` attribute has been moved to `Worker.state.nthreads`\n",
      "  warnings.warn(\n",
      "/home/tunguz/.local/lib/python3.8/site-packages/distributed/worker_state_machine.py:3649: FutureWarning: The `Worker.nthreads` attribute has been moved to `Worker.state.nthreads`\n",
      "  warnings.warn(\n",
      "/home/tunguz/.local/lib/python3.8/site-packages/distributed/worker_state_machine.py:3649: FutureWarning: The `Worker.nthreads` attribute has been moved to `Worker.state.nthreads`\n",
      "  warnings.warn(\n",
      "/home/tunguz/.local/lib/python3.8/site-packages/distributed/worker_state_machine.py:3649: FutureWarning: The `Worker.nthreads` attribute has been moved to `Worker.state.nthreads`\n",
      "  warnings.warn(\n",
      "/home/tunguz/.local/lib/python3.8/site-packages/distributed/worker_state_machine.py:3649: FutureWarning: The `Worker.nthreads` attribute has been moved to `Worker.state.nthreads`\n",
      "  warnings.warn(\n",
      "/home/tunguz/.local/lib/python3.8/site-packages/distributed/worker_state_machine.py:3649: FutureWarning: The `Worker.nthreads` attribute has been moved to `Worker.state.nthreads`\n",
      "  warnings.warn(\n",
      "/home/tunguz/.local/lib/python3.8/site-packages/distributed/worker_state_machine.py:3649: FutureWarning: The `Worker.nthreads` attribute has been moved to `Worker.state.nthreads`\n",
      "  warnings.warn(\n",
      "/home/tunguz/.local/lib/python3.8/site-packages/distributed/worker_state_machine.py:3649: FutureWarning: The `Worker.nthreads` attribute has been moved to `Worker.state.nthreads`\n",
      "  warnings.warn(\n",
      "/home/tunguz/.local/lib/python3.8/site-packages/distributed/worker_state_machine.py:3649: FutureWarning: The `Worker.nthreads` attribute has been moved to `Worker.state.nthreads`\n",
      "  warnings.warn(\n",
      "/home/tunguz/.local/lib/python3.8/site-packages/distributed/worker_state_machine.py:3649: FutureWarning: The `Worker.nthreads` attribute has been moved to `Worker.state.nthreads`\n",
      "  warnings.warn(\n",
      "/home/tunguz/.local/lib/python3.8/site-packages/distributed/worker_state_machine.py:3649: FutureWarning: The `Worker.nthreads` attribute has been moved to `Worker.state.nthreads`\n",
      "  warnings.warn(\n",
      "/home/tunguz/.local/lib/python3.8/site-packages/distributed/worker_state_machine.py:3649: FutureWarning: The `Worker.nthreads` attribute has been moved to `Worker.state.nthreads`\n",
      "  warnings.warn(\n",
      "/home/tunguz/.local/lib/python3.8/site-packages/distributed/worker_state_machine.py:3649: FutureWarning: The `Worker.nthreads` attribute has been moved to `Worker.state.nthreads`\n",
      "  warnings.warn(\n",
      "/home/tunguz/.local/lib/python3.8/site-packages/distributed/worker_state_machine.py:3649: FutureWarning: The `Worker.nthreads` attribute has been moved to `Worker.state.nthreads`\n",
      "  warnings.warn(\n",
      "/home/tunguz/.local/lib/python3.8/site-packages/distributed/worker_state_machine.py:3649: FutureWarning: The `Worker.nthreads` attribute has been moved to `Worker.state.nthreads`\n",
      "  warnings.warn(\n",
      "/home/tunguz/.local/lib/python3.8/site-packages/distributed/worker_state_machine.py:3649: FutureWarning: The `Worker.nthreads` attribute has been moved to `Worker.state.nthreads`\n",
      "  warnings.warn(\n",
      "/home/tunguz/.local/lib/python3.8/site-packages/distributed/worker_state_machine.py:3649: FutureWarning: The `Worker.nthreads` attribute has been moved to `Worker.state.nthreads`\n",
      "  warnings.warn(\n",
      "/home/tunguz/.local/lib/python3.8/site-packages/distributed/worker_state_machine.py:3649: FutureWarning: The `Worker.nthreads` attribute has been moved to `Worker.state.nthreads`\n",
      "  warnings.warn(\n",
      "/home/tunguz/.local/lib/python3.8/site-packages/distributed/worker_state_machine.py:3649: FutureWarning: The `Worker.nthreads` attribute has been moved to `Worker.state.nthreads`\n",
      "  warnings.warn(\n",
      "[14:47:46] task [xgboost.dask-1]:tcp://127.0.0.1:33991 got new rank 0\n",
      "\u001b[32m[I 2022-12-13 14:49:30,588]\u001b[0m Trial 82 finished with value: 0.46382657707792746 and parameters: {'objective': 'multi:softprob', 'tree_method': 'gpu_hist', 'lambda': 0.002244344534882272, 'alpha': 0.17387273615843282, 'colsample_bytree': 0.681125689422313, 'subsample': 0.8439475368025966, 'learning_rate': 0.022330749615084244, 'max_depth': 16, 'min_child_weight': 51, 'eval_metric': 'logloss'}. Best is trial 60 with value: 0.45861106055534906.\u001b[0m\n",
      "/home/tunguz/.local/lib/python3.8/site-packages/xgboost/dask.py:884: RuntimeWarning: coroutine 'Client._wait_for_workers' was never awaited\n",
      "  client.wait_for_workers(n_workers)\n",
      "[14:49:30] task [xgboost.dask-1]:tcp://127.0.0.1:33991 got new rank 0\n",
      "\u001b[32m[I 2022-12-13 14:51:27,669]\u001b[0m Trial 83 finished with value: 0.4633383649402626 and parameters: {'objective': 'multi:softprob', 'tree_method': 'gpu_hist', 'lambda': 0.005758629436079532, 'alpha': 0.3249875411590191, 'colsample_bytree': 0.6656925147163, 'subsample': 0.5161925580441312, 'learning_rate': 0.03416446412740118, 'max_depth': 17, 'min_child_weight': 24, 'eval_metric': 'logloss'}. Best is trial 60 with value: 0.45861106055534906.\u001b[0m\n",
      "/home/tunguz/.local/lib/python3.8/site-packages/xgboost/dask.py:884: RuntimeWarning: coroutine 'Client._wait_for_workers' was never awaited\n",
      "  client.wait_for_workers(n_workers)\n",
      "[14:51:27] task [xgboost.dask-1]:tcp://127.0.0.1:33991 got new rank 0\n",
      "\u001b[32m[I 2022-12-13 14:53:26,402]\u001b[0m Trial 84 finished with value: 0.46460035995396737 and parameters: {'objective': 'multi:softprob', 'tree_method': 'gpu_hist', 'lambda': 0.0048031361977575755, 'alpha': 0.12297487050869708, 'colsample_bytree': 0.6339330051516804, 'subsample': 0.4848551711653352, 'learning_rate': 0.028551193769160453, 'max_depth': 18, 'min_child_weight': 42, 'eval_metric': 'logloss'}. Best is trial 60 with value: 0.45861106055534906.\u001b[0m\n",
      "/home/tunguz/.local/lib/python3.8/site-packages/xgboost/dask.py:884: RuntimeWarning: coroutine 'Client._wait_for_workers' was never awaited\n",
      "  client.wait_for_workers(n_workers)\n",
      "[14:53:26] task [xgboost.dask-1]:tcp://127.0.0.1:33991 got new rank 0\n",
      "\u001b[32m[I 2022-12-13 14:57:29,360]\u001b[0m Trial 85 finished with value: 0.4610031174424919 and parameters: {'objective': 'multi:softprob', 'tree_method': 'gpu_hist', 'lambda': 0.008761123387972252, 'alpha': 0.40195151257144396, 'colsample_bytree': 0.7339307439182816, 'subsample': 0.5252955849786488, 'learning_rate': 0.02426183881633455, 'max_depth': 20, 'min_child_weight': 28, 'eval_metric': 'logloss'}. Best is trial 60 with value: 0.45861106055534906.\u001b[0m\n",
      "/home/tunguz/.local/lib/python3.8/site-packages/xgboost/dask.py:884: RuntimeWarning: coroutine 'Client._wait_for_workers' was never awaited\n",
      "  client.wait_for_workers(n_workers)\n",
      "[14:57:29] task [xgboost.dask-1]:tcp://127.0.0.1:33991 got new rank 0\n",
      "\u001b[32m[I 2022-12-13 15:02:18,528]\u001b[0m Trial 86 finished with value: 0.5154952245569917 and parameters: {'objective': 'multi:softprob', 'tree_method': 'gpu_hist', 'lambda': 0.008484084083396924, 'alpha': 0.5957738782018859, 'colsample_bytree': 0.7309139329143988, 'subsample': 0.5903298954053315, 'learning_rate': 0.025592715906660488, 'max_depth': 21, 'min_child_weight': 227, 'eval_metric': 'logloss'}. Best is trial 60 with value: 0.45861106055534906.\u001b[0m\n",
      "/home/tunguz/.local/lib/python3.8/site-packages/xgboost/dask.py:884: RuntimeWarning: coroutine 'Client._wait_for_workers' was never awaited\n",
      "  client.wait_for_workers(n_workers)\n",
      "[15:02:18] task [xgboost.dask-1]:tcp://127.0.0.1:33991 got new rank 0\n",
      "\u001b[32m[I 2022-12-13 15:06:47,202]\u001b[0m Trial 87 finished with value: 0.46975263236143017 and parameters: {'objective': 'multi:softprob', 'tree_method': 'gpu_hist', 'lambda': 0.006590564814825477, 'alpha': 0.9619575181347861, 'colsample_bytree': 0.6226042649997744, 'subsample': 0.5299183184967071, 'learning_rate': 0.023306710920945748, 'max_depth': 19, 'min_child_weight': 7, 'eval_metric': 'logloss'}. Best is trial 60 with value: 0.45861106055534906.\u001b[0m\n",
      "/home/tunguz/.local/lib/python3.8/site-packages/xgboost/dask.py:884: RuntimeWarning: coroutine 'Client._wait_for_workers' was never awaited\n",
      "  client.wait_for_workers(n_workers)\n",
      "[15:06:47] task [xgboost.dask-1]:tcp://127.0.0.1:33991 got new rank 0\n",
      "\u001b[32m[I 2022-12-13 15:10:35,896]\u001b[0m Trial 88 finished with value: 0.4634285445280377 and parameters: {'objective': 'multi:softprob', 'tree_method': 'gpu_hist', 'lambda': 0.010551185059781747, 'alpha': 0.44875276195355907, 'colsample_bytree': 0.7995264004355241, 'subsample': 0.5167577142733324, 'learning_rate': 0.03049126809312613, 'max_depth': 20, 'min_child_weight': 36, 'eval_metric': 'logloss'}. Best is trial 60 with value: 0.45861106055534906.\u001b[0m\n",
      "/home/tunguz/.local/lib/python3.8/site-packages/xgboost/dask.py:884: RuntimeWarning: coroutine 'Client._wait_for_workers' was never awaited\n",
      "  client.wait_for_workers(n_workers)\n",
      "[15:10:35] task [xgboost.dask-1]:tcp://127.0.0.1:33991 got new rank 0\n",
      "\u001b[32m[I 2022-12-13 15:11:51,670]\u001b[0m Trial 89 finished with value: 0.4694881140530388 and parameters: {'objective': 'multi:softprob', 'tree_method': 'gpu_hist', 'lambda': 0.004234786990592382, 'alpha': 0.39165735735055823, 'colsample_bytree': 0.7504428113414615, 'subsample': 0.5483506737043311, 'learning_rate': 0.03706711990883698, 'max_depth': 16, 'min_child_weight': 63, 'eval_metric': 'logloss'}. Best is trial 60 with value: 0.45861106055534906.\u001b[0m\n",
      "/home/tunguz/.local/lib/python3.8/site-packages/xgboost/dask.py:884: RuntimeWarning: coroutine 'Client._wait_for_workers' was never awaited\n",
      "  client.wait_for_workers(n_workers)\n",
      "[15:11:51] task [xgboost.dask-1]:tcp://127.0.0.1:33991 got new rank 0\n",
      "\u001b[32m[I 2022-12-13 15:14:00,810]\u001b[0m Trial 90 finished with value: 0.46760987349919925 and parameters: {'objective': 'multi:softprob', 'tree_method': 'gpu_hist', 'lambda': 0.0030975871289222506, 'alpha': 0.22021952328453012, 'colsample_bytree': 0.6592275095308292, 'subsample': 0.637923415420636, 'learning_rate': 0.01921704493270211, 'max_depth': 18, 'min_child_weight': 53, 'eval_metric': 'logloss'}. Best is trial 60 with value: 0.45861106055534906.\u001b[0m\n",
      "/home/tunguz/.local/lib/python3.8/site-packages/xgboost/dask.py:884: RuntimeWarning: coroutine 'Client._wait_for_workers' was never awaited\n",
      "  client.wait_for_workers(n_workers)\n",
      "[15:14:00] task [xgboost.dask-1]:tcp://127.0.0.1:33991 got new rank 0\n",
      "\u001b[32m[I 2022-12-13 15:20:29,384]\u001b[0m Trial 91 finished with value: 0.461676783500602 and parameters: {'objective': 'multi:softprob', 'tree_method': 'gpu_hist', 'lambda': 0.0014272987019378328, 'alpha': 0.1599019419145978, 'colsample_bytree': 0.6981703811136457, 'subsample': 0.5772611862135356, 'learning_rate': 0.01578508443985202, 'max_depth': 21, 'min_child_weight': 28, 'eval_metric': 'logloss'}. Best is trial 60 with value: 0.45861106055534906.\u001b[0m\n",
      "/home/tunguz/.local/lib/python3.8/site-packages/xgboost/dask.py:884: RuntimeWarning: coroutine 'Client._wait_for_workers' was never awaited\n",
      "  client.wait_for_workers(n_workers)\n",
      "[15:20:29] task [xgboost.dask-1]:tcp://127.0.0.1:33991 got new rank 0\n",
      "\u001b[32m[I 2022-12-13 15:23:05,804]\u001b[0m Trial 92 finished with value: 0.4625779854874193 and parameters: {'objective': 'multi:softprob', 'tree_method': 'gpu_hist', 'lambda': 0.0014096885461951398, 'alpha': 0.3335500733397292, 'colsample_bytree': 0.6998304026682456, 'subsample': 0.5728534443823248, 'learning_rate': 0.014912264652625434, 'max_depth': 17, 'min_child_weight': 22, 'eval_metric': 'logloss'}. Best is trial 60 with value: 0.45861106055534906.\u001b[0m\n",
      "/home/tunguz/.local/lib/python3.8/site-packages/xgboost/dask.py:884: RuntimeWarning: coroutine 'Client._wait_for_workers' was never awaited\n",
      "  client.wait_for_workers(n_workers)\n",
      "[15:23:05] task [xgboost.dask-1]:tcp://127.0.0.1:33991 got new rank 0\n",
      "\u001b[32m[I 2022-12-13 15:26:44,834]\u001b[0m Trial 93 finished with value: 0.4654021390481344 and parameters: {'objective': 'multi:softprob', 'tree_method': 'gpu_hist', 'lambda': 0.005227042111121007, 'alpha': 0.15367800249878005, 'colsample_bytree': 0.6426725038220304, 'subsample': 0.5067899061304387, 'learning_rate': 0.022039774359612026, 'max_depth': 20, 'min_child_weight': 45, 'eval_metric': 'logloss'}. Best is trial 60 with value: 0.45861106055534906.\u001b[0m\n",
      "/home/tunguz/.local/lib/python3.8/site-packages/xgboost/dask.py:884: RuntimeWarning: coroutine 'Client._wait_for_workers' was never awaited\n",
      "  client.wait_for_workers(n_workers)\n",
      "[15:26:44] task [xgboost.dask-1]:tcp://127.0.0.1:33991 got new rank 0\n",
      "\u001b[32m[I 2022-12-13 15:33:50,222]\u001b[0m Trial 94 finished with value: 0.46782515932564067 and parameters: {'objective': 'multi:softprob', 'tree_method': 'gpu_hist', 'lambda': 0.0023663131736213257, 'alpha': 0.10514759380206762, 'colsample_bytree': 0.6728157766508651, 'subsample': 0.9308085226522569, 'learning_rate': 0.01140918846211823, 'max_depth': 21, 'min_child_weight': 35, 'eval_metric': 'logloss'}. Best is trial 60 with value: 0.45861106055534906.\u001b[0m\n",
      "/home/tunguz/.local/lib/python3.8/site-packages/xgboost/dask.py:884: RuntimeWarning: coroutine 'Client._wait_for_workers' was never awaited\n",
      "  client.wait_for_workers(n_workers)\n",
      "[15:33:50] task [xgboost.dask-1]:tcp://127.0.0.1:33991 got new rank 0\n",
      "\u001b[32m[I 2022-12-13 15:36:48,984]\u001b[0m Trial 95 finished with value: 0.4584233650556638 and parameters: {'objective': 'multi:softprob', 'tree_method': 'gpu_hist', 'lambda': 0.007378765979072933, 'alpha': 0.2637523408799014, 'colsample_bytree': 0.6173101275749113, 'subsample': 0.5603896325897884, 'learning_rate': 0.025343425260582968, 'max_depth': 19, 'min_child_weight': 28, 'eval_metric': 'logloss'}. Best is trial 95 with value: 0.4584233650556638.\u001b[0m\n",
      "/home/tunguz/.local/lib/python3.8/site-packages/xgboost/dask.py:884: RuntimeWarning: coroutine 'Client._wait_for_workers' was never awaited\n",
      "  client.wait_for_workers(n_workers)\n",
      "[15:36:49] task [xgboost.dask-1]:tcp://127.0.0.1:33991 got new rank 0\n",
      "\u001b[32m[I 2022-12-13 15:40:17,259]\u001b[0m Trial 96 finished with value: 0.4920972515644722 and parameters: {'objective': 'multi:softprob', 'tree_method': 'gpu_hist', 'lambda': 0.00714277921447432, 'alpha': 0.26563365298678254, 'colsample_bytree': 0.610327431227752, 'subsample': 0.5274266950480629, 'learning_rate': 0.04347282039816773, 'max_depth': 19, 'min_child_weight': 9, 'eval_metric': 'logloss'}. Best is trial 95 with value: 0.4584233650556638.\u001b[0m\n",
      "/home/tunguz/.local/lib/python3.8/site-packages/xgboost/dask.py:884: RuntimeWarning: coroutine 'Client._wait_for_workers' was never awaited\n",
      "  client.wait_for_workers(n_workers)\n",
      "[15:40:17] task [xgboost.dask-1]:tcp://127.0.0.1:33991 got new rank 0\n",
      "\u001b[32m[I 2022-12-13 15:42:26,806]\u001b[0m Trial 97 finished with value: 0.46180827626393395 and parameters: {'objective': 'multi:softprob', 'tree_method': 'gpu_hist', 'lambda': 0.013791167850918119, 'alpha': 0.47135026635924115, 'colsample_bytree': 0.6228832089080373, 'subsample': 0.6119323639306525, 'learning_rate': 0.026775277530178773, 'max_depth': 18, 'min_child_weight': 40, 'eval_metric': 'logloss'}. Best is trial 95 with value: 0.4584233650556638.\u001b[0m\n",
      "/home/tunguz/.local/lib/python3.8/site-packages/xgboost/dask.py:884: RuntimeWarning: coroutine 'Client._wait_for_workers' was never awaited\n",
      "  client.wait_for_workers(n_workers)\n",
      "[15:42:26] task [xgboost.dask-1]:tcp://127.0.0.1:33991 got new rank 0\n",
      "\u001b[32m[I 2022-12-13 15:45:18,844]\u001b[0m Trial 98 finished with value: 0.4865415664536545 and parameters: {'objective': 'multi:softprob', 'tree_method': 'gpu_hist', 'lambda': 0.0037864998829185976, 'alpha': 0.35255955442963816, 'colsample_bytree': 0.5501061473135913, 'subsample': 0.5574757509213708, 'learning_rate': 0.03440088698462753, 'max_depth': 15, 'min_child_weight': 5, 'eval_metric': 'logloss'}. Best is trial 95 with value: 0.4584233650556638.\u001b[0m\n",
      "/home/tunguz/.local/lib/python3.8/site-packages/xgboost/dask.py:884: RuntimeWarning: coroutine 'Client._wait_for_workers' was never awaited\n",
      "  client.wait_for_workers(n_workers)\n",
      "[15:45:18] task [xgboost.dask-1]:tcp://127.0.0.1:33991 got new rank 0\n",
      "\u001b[32m[I 2022-12-13 15:47:51,149]\u001b[0m Trial 99 finished with value: 0.46029198028526114 and parameters: {'objective': 'multi:softprob', 'tree_method': 'gpu_hist', 'lambda': 0.007546576842151066, 'alpha': 0.5367956236297995, 'colsample_bytree': 0.6573167864420298, 'subsample': 0.7173521694994571, 'learning_rate': 0.024175319615745906, 'max_depth': 17, 'min_child_weight': 20, 'eval_metric': 'logloss'}. Best is trial 95 with value: 0.4584233650556638.\u001b[0m\n",
      "/home/tunguz/.local/lib/python3.8/site-packages/xgboost/dask.py:884: RuntimeWarning: coroutine 'Client._wait_for_workers' was never awaited\n",
      "  client.wait_for_workers(n_workers)\n",
      "[15:47:51] task [xgboost.dask-1]:tcp://127.0.0.1:33991 got new rank 0\n",
      "\u001b[32m[I 2022-12-13 15:50:21,321]\u001b[0m Trial 100 finished with value: 0.48966288786061807 and parameters: {'objective': 'multi:softprob', 'tree_method': 'gpu_hist', 'lambda': 0.0027575292272446084, 'alpha': 0.5979149097064622, 'colsample_bytree': 0.6564039500010251, 'subsample': 0.49343363454100636, 'learning_rate': 0.008544049637939342, 'max_depth': 15, 'min_child_weight': 21, 'eval_metric': 'logloss'}. Best is trial 95 with value: 0.4584233650556638.\u001b[0m\n",
      "/home/tunguz/.local/lib/python3.8/site-packages/xgboost/dask.py:884: RuntimeWarning: coroutine 'Client._wait_for_workers' was never awaited\n",
      "  client.wait_for_workers(n_workers)\n",
      "[15:50:21] task [xgboost.dask-1]:tcp://127.0.0.1:33991 got new rank 0\n",
      "\u001b[32m[I 2022-12-13 15:51:32,203]\u001b[0m Trial 101 finished with value: 0.49321277838997385 and parameters: {'objective': 'multi:softprob', 'tree_method': 'gpu_hist', 'lambda': 0.007672039171982849, 'alpha': 0.19556415177342582, 'colsample_bytree': 0.6379221249065969, 'subsample': 0.7092746109922042, 'learning_rate': 0.0242959852226148, 'max_depth': 17, 'min_child_weight': 159, 'eval_metric': 'logloss'}. Best is trial 95 with value: 0.4584233650556638.\u001b[0m\n"
     ]
    },
    {
     "name": "stdout",
     "output_type": "stream",
     "text": [
      "CPU times: user 16min 15s, sys: 5min 19s, total: 21min 35s\n",
      "Wall time: 8h 37min 24s\n"
     ]
    }
   ],
   "source": [
    "%%time\n",
    "study.optimize(objective, n_trials=100)"
   ]
  },
  {
   "cell_type": "code",
   "execution_count": 15,
   "metadata": {},
   "outputs": [
    {
     "data": {
      "text/plain": [
       "{'objective': 'multi:softprob',\n",
       " 'tree_method': 'gpu_hist',\n",
       " 'lambda': 0.007378765979072933,\n",
       " 'alpha': 0.2637523408799014,\n",
       " 'colsample_bytree': 0.6173101275749113,\n",
       " 'subsample': 0.5603896325897884,\n",
       " 'learning_rate': 0.025343425260582968,\n",
       " 'max_depth': 19,\n",
       " 'min_child_weight': 28,\n",
       " 'eval_metric': 'logloss'}"
      ]
     },
     "execution_count": 15,
     "metadata": {},
     "output_type": "execute_result"
    }
   ],
   "source": [
    "study.best_trial.params"
   ]
  },
  {
   "cell_type": "code",
   "execution_count": 16,
   "metadata": {},
   "outputs": [],
   "source": [
    "real_test_x = dd.read_csv('../input/otto_ii/xgtest.csv')"
   ]
  },
  {
   "cell_type": "code",
   "execution_count": 17,
   "metadata": {},
   "outputs": [],
   "source": [
    "real_test_y = real_test_x['target']\n",
    "real_test_x = real_test_x[real_test_x.columns.difference(['target'])]"
   ]
  },
  {
   "cell_type": "code",
   "execution_count": 18,
   "metadata": {},
   "outputs": [],
   "source": [
    "drealtest = xgb.dask.DaskDMatrix(client, real_test_x, real_test_y)"
   ]
  },
  {
   "cell_type": "code",
   "execution_count": 19,
   "metadata": {},
   "outputs": [
    {
     "name": "stderr",
     "output_type": "stream",
     "text": [
      "/home/tunguz/.local/lib/python3.8/site-packages/xgboost/dask.py:884: RuntimeWarning: coroutine 'Client._wait_for_workers' was never awaited\n",
      "  client.wait_for_workers(n_workers)\n",
      "[15:53:50] task [xgboost.dask-1]:tcp://127.0.0.1:33991 got new rank 0\n"
     ]
    },
    {
     "data": {
      "text/plain": [
       "0.4415311621477472"
      ]
     },
     "execution_count": 19,
     "metadata": {},
     "output_type": "execute_result"
    }
   ],
   "source": [
    "params = study.best_trial.params\n",
    "params['num_class']= 9\n",
    "\n",
    "output = xgb.dask.train(client, params, dtrain, num_round)\n",
    "    \n",
    "booster = output['booster']  # booster is the trained model\n",
    "booster.set_param({'predictor': 'gpu_predictor'})\n",
    "\n",
    "\n",
    "predictions = xgb.dask.predict(client, booster, drealtest)\n",
    "    \n",
    "predictions = predictions.compute()\n",
    "\n",
    "log_loss(real_test_y, predictions)"
   ]
  },
  {
   "cell_type": "code",
   "execution_count": 20,
   "metadata": {},
   "outputs": [
    {
     "name": "stderr",
     "output_type": "stream",
     "text": [
      "/home/tunguz/.local/lib/python3.8/site-packages/xgboost/dask.py:884: RuntimeWarning: coroutine 'Client._wait_for_workers' was never awaited\n",
      "  client.wait_for_workers(n_workers)\n",
      "[15:56:48] task [xgboost.dask-1]:tcp://127.0.0.1:33991 got new rank 0\n"
     ]
    },
    {
     "name": "stdout",
     "output_type": "stream",
     "text": [
      "CPU times: user 5.78 s, sys: 2.38 s, total: 8.16 s\n",
      "Wall time: 3min\n"
     ]
    },
    {
     "data": {
      "text/plain": [
       "0.44308164666584293"
      ]
     },
     "execution_count": 20,
     "metadata": {},
     "output_type": "execute_result"
    }
   ],
   "source": [
    "%%time\n",
    "params = study.best_trial.params\n",
    "params['seed'] = 2022\n",
    "params['num_class']= 9\n",
    "\n",
    "output = xgb.dask.train(client, params, dtrain, num_round)\n",
    "    \n",
    "booster = output['booster']  # booster is the trained model\n",
    "booster.set_param({'predictor': 'gpu_predictor'})\n",
    "\n",
    "predictions = xgb.dask.predict(client, booster, drealtest)\n",
    "    \n",
    "predictions = predictions.compute()\n",
    "\n",
    "log_loss(real_test_y, predictions)"
   ]
  },
  {
   "cell_type": "code",
   "execution_count": 21,
   "metadata": {},
   "outputs": [
    {
     "name": "stdout",
     "output_type": "stream",
     "text": [
      "0\n"
     ]
    },
    {
     "name": "stderr",
     "output_type": "stream",
     "text": [
      "/home/tunguz/.local/lib/python3.8/site-packages/xgboost/dask.py:884: RuntimeWarning: coroutine 'Client._wait_for_workers' was never awaited\n",
      "  client.wait_for_workers(n_workers)\n",
      "[15:59:48] task [xgboost.dask-1]:tcp://127.0.0.1:33991 got new rank 0\n"
     ]
    },
    {
     "name": "stdout",
     "output_type": "stream",
     "text": [
      "0.44127668090410527\n",
      "1\n"
     ]
    },
    {
     "name": "stderr",
     "output_type": "stream",
     "text": [
      "/home/tunguz/.local/lib/python3.8/site-packages/xgboost/dask.py:884: RuntimeWarning: coroutine 'Client._wait_for_workers' was never awaited\n",
      "  client.wait_for_workers(n_workers)\n",
      "[16:02:47] task [xgboost.dask-1]:tcp://127.0.0.1:33991 got new rank 0\n"
     ]
    },
    {
     "name": "stdout",
     "output_type": "stream",
     "text": [
      "0.44172401428855823\n",
      "2\n"
     ]
    },
    {
     "name": "stderr",
     "output_type": "stream",
     "text": [
      "/home/tunguz/.local/lib/python3.8/site-packages/xgboost/dask.py:884: RuntimeWarning: coroutine 'Client._wait_for_workers' was never awaited\n",
      "  client.wait_for_workers(n_workers)\n",
      "[16:05:46] task [xgboost.dask-1]:tcp://127.0.0.1:33991 got new rank 0\n"
     ]
    },
    {
     "name": "stdout",
     "output_type": "stream",
     "text": [
      "0.44315257490927185\n",
      "3\n"
     ]
    },
    {
     "name": "stderr",
     "output_type": "stream",
     "text": [
      "/home/tunguz/.local/lib/python3.8/site-packages/xgboost/dask.py:884: RuntimeWarning: coroutine 'Client._wait_for_workers' was never awaited\n",
      "  client.wait_for_workers(n_workers)\n",
      "[16:08:45] task [xgboost.dask-1]:tcp://127.0.0.1:33991 got new rank 0\n"
     ]
    },
    {
     "name": "stdout",
     "output_type": "stream",
     "text": [
      "0.441560446464799\n",
      "4\n"
     ]
    },
    {
     "name": "stderr",
     "output_type": "stream",
     "text": [
      "/home/tunguz/.local/lib/python3.8/site-packages/xgboost/dask.py:884: RuntimeWarning: coroutine 'Client._wait_for_workers' was never awaited\n",
      "  client.wait_for_workers(n_workers)\n",
      "[16:11:45] task [xgboost.dask-1]:tcp://127.0.0.1:33991 got new rank 0\n"
     ]
    },
    {
     "name": "stdout",
     "output_type": "stream",
     "text": [
      "0.44231034972320993\n",
      "5\n"
     ]
    },
    {
     "name": "stderr",
     "output_type": "stream",
     "text": [
      "/home/tunguz/.local/lib/python3.8/site-packages/xgboost/dask.py:884: RuntimeWarning: coroutine 'Client._wait_for_workers' was never awaited\n",
      "  client.wait_for_workers(n_workers)\n",
      "[16:14:45] task [xgboost.dask-1]:tcp://127.0.0.1:33991 got new rank 0\n"
     ]
    },
    {
     "name": "stdout",
     "output_type": "stream",
     "text": [
      "0.4426254269772641\n",
      "6\n"
     ]
    },
    {
     "name": "stderr",
     "output_type": "stream",
     "text": [
      "/home/tunguz/.local/lib/python3.8/site-packages/xgboost/dask.py:884: RuntimeWarning: coroutine 'Client._wait_for_workers' was never awaited\n",
      "  client.wait_for_workers(n_workers)\n",
      "[16:17:43] task [xgboost.dask-1]:tcp://127.0.0.1:33991 got new rank 0\n"
     ]
    },
    {
     "name": "stdout",
     "output_type": "stream",
     "text": [
      "0.4418859970187513\n",
      "7\n"
     ]
    },
    {
     "name": "stderr",
     "output_type": "stream",
     "text": [
      "/home/tunguz/.local/lib/python3.8/site-packages/xgboost/dask.py:884: RuntimeWarning: coroutine 'Client._wait_for_workers' was never awaited\n",
      "  client.wait_for_workers(n_workers)\n",
      "[16:20:42] task [xgboost.dask-1]:tcp://127.0.0.1:33991 got new rank 0\n"
     ]
    },
    {
     "name": "stdout",
     "output_type": "stream",
     "text": [
      "0.44205585185847884\n",
      "8\n"
     ]
    },
    {
     "name": "stderr",
     "output_type": "stream",
     "text": [
      "/home/tunguz/.local/lib/python3.8/site-packages/xgboost/dask.py:884: RuntimeWarning: coroutine 'Client._wait_for_workers' was never awaited\n",
      "  client.wait_for_workers(n_workers)\n",
      "[16:23:41] task [xgboost.dask-1]:tcp://127.0.0.1:33991 got new rank 0\n"
     ]
    },
    {
     "name": "stdout",
     "output_type": "stream",
     "text": [
      "0.4424926259210848\n",
      "9\n"
     ]
    },
    {
     "name": "stderr",
     "output_type": "stream",
     "text": [
      "/home/tunguz/.local/lib/python3.8/site-packages/xgboost/dask.py:884: RuntimeWarning: coroutine 'Client._wait_for_workers' was never awaited\n",
      "  client.wait_for_workers(n_workers)\n",
      "[16:26:40] task [xgboost.dask-1]:tcp://127.0.0.1:33991 got new rank 0\n"
     ]
    },
    {
     "name": "stdout",
     "output_type": "stream",
     "text": [
      "0.44287242564555246\n",
      "10\n"
     ]
    },
    {
     "name": "stderr",
     "output_type": "stream",
     "text": [
      "/home/tunguz/.local/lib/python3.8/site-packages/xgboost/dask.py:884: RuntimeWarning: coroutine 'Client._wait_for_workers' was never awaited\n",
      "  client.wait_for_workers(n_workers)\n",
      "[16:29:38] task [xgboost.dask-1]:tcp://127.0.0.1:33991 got new rank 0\n"
     ]
    },
    {
     "name": "stdout",
     "output_type": "stream",
     "text": [
      "0.44224248864884297\n",
      "11\n"
     ]
    },
    {
     "name": "stderr",
     "output_type": "stream",
     "text": [
      "/home/tunguz/.local/lib/python3.8/site-packages/xgboost/dask.py:884: RuntimeWarning: coroutine 'Client._wait_for_workers' was never awaited\n",
      "  client.wait_for_workers(n_workers)\n",
      "[16:32:36] task [xgboost.dask-1]:tcp://127.0.0.1:33991 got new rank 0\n"
     ]
    },
    {
     "name": "stdout",
     "output_type": "stream",
     "text": [
      "0.4437120623053991\n",
      "12\n"
     ]
    },
    {
     "name": "stderr",
     "output_type": "stream",
     "text": [
      "/home/tunguz/.local/lib/python3.8/site-packages/xgboost/dask.py:884: RuntimeWarning: coroutine 'Client._wait_for_workers' was never awaited\n",
      "  client.wait_for_workers(n_workers)\n",
      "[16:35:34] task [xgboost.dask-1]:tcp://127.0.0.1:33991 got new rank 0\n"
     ]
    },
    {
     "name": "stdout",
     "output_type": "stream",
     "text": [
      "0.4420653176842819\n",
      "13\n"
     ]
    },
    {
     "name": "stderr",
     "output_type": "stream",
     "text": [
      "/home/tunguz/.local/lib/python3.8/site-packages/xgboost/dask.py:884: RuntimeWarning: coroutine 'Client._wait_for_workers' was never awaited\n",
      "  client.wait_for_workers(n_workers)\n",
      "[16:38:32] task [xgboost.dask-1]:tcp://127.0.0.1:33991 got new rank 0\n"
     ]
    },
    {
     "name": "stdout",
     "output_type": "stream",
     "text": [
      "0.4426646724383337\n",
      "14\n"
     ]
    },
    {
     "name": "stderr",
     "output_type": "stream",
     "text": [
      "/home/tunguz/.local/lib/python3.8/site-packages/xgboost/dask.py:884: RuntimeWarning: coroutine 'Client._wait_for_workers' was never awaited\n",
      "  client.wait_for_workers(n_workers)\n",
      "[16:41:29] task [xgboost.dask-1]:tcp://127.0.0.1:33991 got new rank 0\n"
     ]
    },
    {
     "name": "stdout",
     "output_type": "stream",
     "text": [
      "0.4435280541834005\n",
      "CPU times: user 1min 31s, sys: 28.7 s, total: 2min\n",
      "Wall time: 44min 39s\n"
     ]
    }
   ],
   "source": [
    "%%time \n",
    "scores = []\n",
    "\n",
    "for jj in range(15):\n",
    "    print(jj)\n",
    "    params = study.best_trial.params\n",
    "    params['num_class']= 9\n",
    "    params['seed'] = 5*jj**3 + 137\n",
    "\n",
    "    output = xgb.dask.train(client, params, dtrain, num_round)\n",
    "\n",
    "    booster = output['booster']  # booster is the trained model\n",
    "    booster.set_param({'predictor': 'gpu_predictor'})\n",
    "\n",
    "    predictions = xgb.dask.predict(client, booster, drealtest)\n",
    "\n",
    "    predictions = predictions.compute()\n",
    "    \n",
    "    error = log_loss(real_test_y, predictions)\n",
    "\n",
    "    scores.append(error)\n",
    "    print(error)"
   ]
  },
  {
   "cell_type": "code",
   "execution_count": 22,
   "metadata": {},
   "outputs": [
    {
     "data": {
      "text/plain": [
       "[0.44127668090410527,\n",
       " 0.44172401428855823,\n",
       " 0.44315257490927185,\n",
       " 0.441560446464799,\n",
       " 0.44231034972320993,\n",
       " 0.4426254269772641,\n",
       " 0.4418859970187513,\n",
       " 0.44205585185847884,\n",
       " 0.4424926259210848,\n",
       " 0.44287242564555246,\n",
       " 0.44224248864884297,\n",
       " 0.4437120623053991,\n",
       " 0.4420653176842819,\n",
       " 0.4426646724383337,\n",
       " 0.4435280541834005]"
      ]
     },
     "execution_count": 22,
     "metadata": {},
     "output_type": "execute_result"
    }
   ],
   "source": [
    "scores"
   ]
  },
  {
   "cell_type": "code",
   "execution_count": 23,
   "metadata": {},
   "outputs": [
    {
     "data": {
      "text/plain": [
       "0.44241126593142227"
      ]
     },
     "execution_count": 23,
     "metadata": {},
     "output_type": "execute_result"
    },
    {
     "name": "stderr",
     "output_type": "stream",
     "text": [
      "2022-12-13 18:04:06,746 - distributed.nanny - ERROR - Worker process died unexpectedly\n",
      "/home/tunguz/.local/lib/python3.8/site-packages/distributed/worker_state_machine.py:3649: FutureWarning: The `Worker.nthreads` attribute has been moved to `Worker.state.nthreads`\n",
      "  warnings.warn(\n",
      "/home/tunguz/.local/lib/python3.8/site-packages/distributed/worker_state_machine.py:3649: FutureWarning: The `Worker.nthreads` attribute has been moved to `Worker.state.nthreads`\n",
      "  warnings.warn(\n",
      "/home/tunguz/.local/lib/python3.8/site-packages/distributed/worker_state_machine.py:3649: FutureWarning: The `Worker.nthreads` attribute has been moved to `Worker.state.nthreads`\n",
      "  warnings.warn(\n",
      "/home/tunguz/.local/lib/python3.8/site-packages/distributed/worker_state_machine.py:3649: FutureWarning: The `Worker.nthreads` attribute has been moved to `Worker.state.nthreads`\n",
      "  warnings.warn(\n",
      "/home/tunguz/.local/lib/python3.8/site-packages/distributed/worker_state_machine.py:3649: FutureWarning: The `Worker.nthreads` attribute has been moved to `Worker.state.nthreads`\n",
      "  warnings.warn(\n",
      "/home/tunguz/.local/lib/python3.8/site-packages/distributed/worker_state_machine.py:3649: FutureWarning: The `Worker.nthreads` attribute has been moved to `Worker.state.nthreads`\n",
      "  warnings.warn(\n",
      "/home/tunguz/.local/lib/python3.8/site-packages/distributed/worker_state_machine.py:3649: FutureWarning: The `Worker.nthreads` attribute has been moved to `Worker.state.nthreads`\n",
      "  warnings.warn(\n",
      "/home/tunguz/.local/lib/python3.8/site-packages/distributed/worker_state_machine.py:3649: FutureWarning: The `Worker.nthreads` attribute has been moved to `Worker.state.nthreads`\n",
      "  warnings.warn(\n",
      "/home/tunguz/.local/lib/python3.8/site-packages/distributed/worker_state_machine.py:3649: FutureWarning: The `Worker.nthreads` attribute has been moved to `Worker.state.nthreads`\n",
      "  warnings.warn(\n",
      "/home/tunguz/.local/lib/python3.8/site-packages/distributed/worker_state_machine.py:3649: FutureWarning: The `Worker.nthreads` attribute has been moved to `Worker.state.nthreads`\n",
      "  warnings.warn(\n",
      "/home/tunguz/.local/lib/python3.8/site-packages/distributed/worker_state_machine.py:3649: FutureWarning: The `Worker.nthreads` attribute has been moved to `Worker.state.nthreads`\n",
      "  warnings.warn(\n",
      "/home/tunguz/.local/lib/python3.8/site-packages/distributed/worker_state_machine.py:3649: FutureWarning: The `Worker.nthreads` attribute has been moved to `Worker.state.nthreads`\n",
      "  warnings.warn(\n",
      "/home/tunguz/.local/lib/python3.8/site-packages/distributed/worker_state_machine.py:3649: FutureWarning: The `Worker.nthreads` attribute has been moved to `Worker.state.nthreads`\n",
      "  warnings.warn(\n",
      "/home/tunguz/.local/lib/python3.8/site-packages/distributed/worker_state_machine.py:3649: FutureWarning: The `Worker.nthreads` attribute has been moved to `Worker.state.nthreads`\n",
      "  warnings.warn(\n",
      "/home/tunguz/.local/lib/python3.8/site-packages/distributed/worker_state_machine.py:3649: FutureWarning: The `Worker.nthreads` attribute has been moved to `Worker.state.nthreads`\n",
      "  warnings.warn(\n",
      "/home/tunguz/.local/lib/python3.8/site-packages/distributed/worker_state_machine.py:3649: FutureWarning: The `Worker.nthreads` attribute has been moved to `Worker.state.nthreads`\n",
      "  warnings.warn(\n",
      "/home/tunguz/.local/lib/python3.8/site-packages/distributed/worker_state_machine.py:3649: FutureWarning: The `Worker.nthreads` attribute has been moved to `Worker.state.nthreads`\n",
      "  warnings.warn(\n",
      "/home/tunguz/.local/lib/python3.8/site-packages/distributed/worker_state_machine.py:3649: FutureWarning: The `Worker.nthreads` attribute has been moved to `Worker.state.nthreads`\n",
      "  warnings.warn(\n",
      "/home/tunguz/.local/lib/python3.8/site-packages/distributed/worker_state_machine.py:3649: FutureWarning: The `Worker.nthreads` attribute has been moved to `Worker.state.nthreads`\n",
      "  warnings.warn(\n",
      "/home/tunguz/.local/lib/python3.8/site-packages/distributed/worker_state_machine.py:3649: FutureWarning: The `Worker.nthreads` attribute has been moved to `Worker.state.nthreads`\n",
      "  warnings.warn(\n",
      "/home/tunguz/.local/lib/python3.8/site-packages/distributed/worker_state_machine.py:3649: FutureWarning: The `Worker.nthreads` attribute has been moved to `Worker.state.nthreads`\n",
      "  warnings.warn(\n",
      "/home/tunguz/.local/lib/python3.8/site-packages/distributed/worker_state_machine.py:3649: FutureWarning: The `Worker.nthreads` attribute has been moved to `Worker.state.nthreads`\n",
      "  warnings.warn(\n",
      "/home/tunguz/.local/lib/python3.8/site-packages/distributed/worker_state_machine.py:3649: FutureWarning: The `Worker.nthreads` attribute has been moved to `Worker.state.nthreads`\n",
      "  warnings.warn(\n",
      "/home/tunguz/.local/lib/python3.8/site-packages/distributed/worker_state_machine.py:3649: FutureWarning: The `Worker.nthreads` attribute has been moved to `Worker.state.nthreads`\n",
      "  warnings.warn(\n",
      "/home/tunguz/.local/lib/python3.8/site-packages/distributed/worker_state_machine.py:3649: FutureWarning: The `Worker.nthreads` attribute has been moved to `Worker.state.nthreads`\n",
      "  warnings.warn(\n",
      "/home/tunguz/.local/lib/python3.8/site-packages/distributed/worker_state_machine.py:3649: FutureWarning: The `Worker.nthreads` attribute has been moved to `Worker.state.nthreads`\n",
      "  warnings.warn(\n",
      "/home/tunguz/.local/lib/python3.8/site-packages/distributed/worker_state_machine.py:3649: FutureWarning: The `Worker.nthreads` attribute has been moved to `Worker.state.nthreads`\n",
      "  warnings.warn(\n",
      "/home/tunguz/.local/lib/python3.8/site-packages/distributed/worker_state_machine.py:3649: FutureWarning: The `Worker.nthreads` attribute has been moved to `Worker.state.nthreads`\n",
      "  warnings.warn(\n",
      "/home/tunguz/.local/lib/python3.8/site-packages/distributed/worker_state_machine.py:3649: FutureWarning: The `Worker.nthreads` attribute has been moved to `Worker.state.nthreads`\n",
      "  warnings.warn(\n",
      "/home/tunguz/.local/lib/python3.8/site-packages/distributed/worker_state_machine.py:3649: FutureWarning: The `Worker.nthreads` attribute has been moved to `Worker.state.nthreads`\n",
      "  warnings.warn(\n",
      "/home/tunguz/.local/lib/python3.8/site-packages/distributed/worker_state_machine.py:3649: FutureWarning: The `Worker.nthreads` attribute has been moved to `Worker.state.nthreads`\n",
      "  warnings.warn(\n",
      "/home/tunguz/.local/lib/python3.8/site-packages/distributed/worker_state_machine.py:3649: FutureWarning: The `Worker.nthreads` attribute has been moved to `Worker.state.nthreads`\n",
      "  warnings.warn(\n",
      "/home/tunguz/.local/lib/python3.8/site-packages/distributed/worker_state_machine.py:3649: FutureWarning: The `Worker.nthreads` attribute has been moved to `Worker.state.nthreads`\n",
      "  warnings.warn(\n",
      "/home/tunguz/.local/lib/python3.8/site-packages/distributed/worker_state_machine.py:3649: FutureWarning: The `Worker.nthreads` attribute has been moved to `Worker.state.nthreads`\n",
      "  warnings.warn(\n",
      "/home/tunguz/.local/lib/python3.8/site-packages/distributed/worker_state_machine.py:3649: FutureWarning: The `Worker.nthreads` attribute has been moved to `Worker.state.nthreads`\n",
      "  warnings.warn(\n",
      "/home/tunguz/.local/lib/python3.8/site-packages/distributed/worker_state_machine.py:3649: FutureWarning: The `Worker.nthreads` attribute has been moved to `Worker.state.nthreads`\n",
      "  warnings.warn(\n",
      "/home/tunguz/.local/lib/python3.8/site-packages/distributed/worker_state_machine.py:3649: FutureWarning: The `Worker.nthreads` attribute has been moved to `Worker.state.nthreads`\n",
      "  warnings.warn(\n",
      "2022-12-13 18:04:06,749 - distributed.nanny - ERROR - Worker process died unexpectedly\n"
     ]
    }
   ],
   "source": [
    "import numpy as np\n",
    "np.mean(scores)"
   ]
  },
  {
   "cell_type": "code",
   "execution_count": null,
   "metadata": {},
   "outputs": [],
   "source": []
  }
 ],
 "metadata": {
  "kernelspec": {
   "display_name": "Python 3 (ipykernel)",
   "language": "python",
   "name": "python3"
  },
  "language_info": {
   "codemirror_mode": {
    "name": "ipython",
    "version": 3
   },
   "file_extension": ".py",
   "mimetype": "text/x-python",
   "name": "python",
   "nbconvert_exporter": "python",
   "pygments_lexer": "ipython3",
   "version": "3.8.10"
  }
 },
 "nbformat": 4,
 "nbformat_minor": 4
}
