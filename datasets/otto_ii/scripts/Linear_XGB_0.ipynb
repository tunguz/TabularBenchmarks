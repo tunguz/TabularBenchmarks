{
 "cells": [
  {
   "cell_type": "code",
   "execution_count": 1,
   "id": "3a274abd-3d43-4ce0-9bec-4d4e710e9b3a",
   "metadata": {},
   "outputs": [],
   "source": [
    "%load_ext watermark"
   ]
  },
  {
   "cell_type": "code",
   "execution_count": 2,
   "id": "f71527c9-ab93-41c5-bc11-abe9d5f29b4b",
   "metadata": {},
   "outputs": [
    {
     "name": "stdout",
     "output_type": "stream",
     "text": [
      "Last updated: 2023-01-03T15:50:57.874635-05:00\n",
      "\n",
      "Python implementation: CPython\n",
      "Python version       : 3.8.10\n",
      "IPython version      : 7.28.0\n",
      "\n",
      "Compiler    : GCC 9.3.0\n",
      "OS          : Linux\n",
      "Release     : 5.11.0-37-generic\n",
      "Machine     : x86_64\n",
      "Processor   : x86_64\n",
      "CPU cores   : 32\n",
      "Architecture: 64bit\n",
      "\n"
     ]
    }
   ],
   "source": [
    "%watermark"
   ]
  },
  {
   "cell_type": "code",
   "execution_count": 3,
   "id": "d4e63355-1895-4134-bd21-d1799f677a86",
   "metadata": {},
   "outputs": [],
   "source": [
    "import numpy as np\n",
    "import pandas as pd\n",
    "import xgboost as xgb\n",
    "from sklearn.metrics import log_loss"
   ]
  },
  {
   "cell_type": "code",
   "execution_count": 4,
   "id": "84239132-3c7c-4b02-a3c3-cd3382e31444",
   "metadata": {},
   "outputs": [
    {
     "name": "stdout",
     "output_type": "stream",
     "text": [
      "pandas : 1.4.3\n",
      "xgboost: 1.6.2\n",
      "numpy  : 1.22.4\n",
      "\n"
     ]
    }
   ],
   "source": [
    "%watermark --iversions"
   ]
  },
  {
   "cell_type": "code",
   "execution_count": 5,
   "id": "b3791870-c4df-4b6f-a82f-a4dadf846033",
   "metadata": {},
   "outputs": [],
   "source": [
    "X_num_train = np.load('../input/otto_ii/X_num_train.npy')\n",
    "X_num_val = np.load('../input/otto_ii/X_num_val.npy')\n",
    "X_num_test = np.load('../input/otto_ii/X_num_test.npy')\n",
    "\n",
    "y_train = np.load('../input/otto_ii/y_train.npy')\n",
    "y_val = np.load('../input/otto_ii/y_val.npy')\n",
    "y_test = np.load('../input/otto_ii/y_test.npy')"
   ]
  },
  {
   "cell_type": "code",
   "execution_count": 8,
   "id": "33e101ef-3f22-4fb6-8a74-7a9d4200ef95",
   "metadata": {},
   "outputs": [],
   "source": [
    "train_dm = xgb.DMatrix(X_num_train, label=y_train)\n",
    "val_dm = xgb.DMatrix(X_num_val, label=y_val)\n",
    "test_dm = xgb.DMatrix(X_num_test, label=y_test)"
   ]
  },
  {
   "cell_type": "code",
   "execution_count": 20,
   "id": "a95c4d23-c411-4460-ab0f-12d4b557c96c",
   "metadata": {},
   "outputs": [],
   "source": [
    "params = {'booster':'gblinear',\n",
    "          'learning_rate':0.05,\n",
    "          'random_state': 2023,\n",
    "          'objective':'multi:softprob',\n",
    "          'num_class': 9\n",
    "         }"
   ]
  },
  {
   "cell_type": "code",
   "execution_count": 46,
   "id": "3203d772-e7ef-4679-bd78-0f092809f788",
   "metadata": {},
   "outputs": [
    {
     "name": "stdout",
     "output_type": "stream",
     "text": [
      "CPU times: user 15min 29s, sys: 1.24 s, total: 15min 30s\n",
      "Wall time: 30.5 s\n"
     ]
    }
   ],
   "source": [
    "%%time\n",
    "model = xgb.train(params, train_dm, 350)"
   ]
  },
  {
   "cell_type": "code",
   "execution_count": 47,
   "id": "c2541c05-dde6-4d69-a4c6-91cc2666b7d3",
   "metadata": {},
   "outputs": [],
   "source": [
    "val_preds = model.predict(val_dm)\n",
    "test_preds = model.predict(test_dm)"
   ]
  },
  {
   "cell_type": "code",
   "execution_count": 48,
   "id": "27226d15-5e10-43dc-bb00-ab08c256ae2d",
   "metadata": {},
   "outputs": [
    {
     "data": {
      "text/plain": [
       "0.6394361447623994"
      ]
     },
     "execution_count": 48,
     "metadata": {},
     "output_type": "execute_result"
    }
   ],
   "source": [
    "log_loss(y_val, val_preds)"
   ]
  },
  {
   "cell_type": "code",
   "execution_count": 49,
   "id": "37e9917c-c699-452e-872e-cbdbbecea124",
   "metadata": {},
   "outputs": [
    {
     "data": {
      "text/plain": [
       "0.6303919173354057"
      ]
     },
     "execution_count": 49,
     "metadata": {},
     "output_type": "execute_result"
    }
   ],
   "source": [
    "log_loss(y_test, test_preds)"
   ]
  },
  {
   "cell_type": "code",
   "execution_count": 50,
   "id": "a58e5ce5-34d1-41f4-be0d-4be68aca2752",
   "metadata": {},
   "outputs": [
    {
     "data": {
      "text/plain": [
       "0.6394361447623994"
      ]
     },
     "execution_count": 50,
     "metadata": {},
     "output_type": "execute_result"
    }
   ],
   "source": [
    "0.6394361447623994"
   ]
  },
  {
   "cell_type": "code",
   "execution_count": null,
   "id": "f931f32e-b90c-4c86-a1d9-9acc17fedefa",
   "metadata": {},
   "outputs": [],
   "source": []
  }
 ],
 "metadata": {
  "kernelspec": {
   "display_name": "Python 3 (ipykernel)",
   "language": "python",
   "name": "python3"
  },
  "language_info": {
   "codemirror_mode": {
    "name": "ipython",
    "version": 3
   },
   "file_extension": ".py",
   "mimetype": "text/x-python",
   "name": "python",
   "nbconvert_exporter": "python",
   "pygments_lexer": "ipython3",
   "version": "3.8.10"
  }
 },
 "nbformat": 4,
 "nbformat_minor": 5
}
