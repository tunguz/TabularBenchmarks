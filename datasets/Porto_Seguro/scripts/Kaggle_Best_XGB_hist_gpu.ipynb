{
 "cells": [
  {
   "cell_type": "markdown",
   "metadata": {},
   "source": [
    "All code is from the following Kaggle notebook: https://www.kaggle.com/code/cocoyachi/safedriver-xgboost-musthave-ch08"
   ]
  },
  {
   "cell_type": "code",
   "execution_count": 1,
   "metadata": {},
   "outputs": [],
   "source": [
    "import pandas as pd\n",
    "from sklearn.preprocessing import OneHotEncoder\n",
    "import numpy as np\n",
    "import xgboost as xgb\n",
    "from sklearn.model_selection import train_test_split\n",
    "from sklearn.model_selection import StratifiedKFold\n",
    "from scipy.sparse import save_npz\n",
    "from bayes_opt import BayesianOptimization"
   ]
  },
  {
   "cell_type": "code",
   "execution_count": 2,
   "metadata": {},
   "outputs": [],
   "source": [
    "data_path = '../input/'\n",
    "\n",
    "train = pd.read_csv(data_path + 'train.csv.zip', index_col='id')\n",
    "test = pd.read_csv(data_path + 'test.csv.zip', index_col='id')\n",
    "submission = pd.read_csv(data_path + 'sample_submission.csv.zip', index_col='id')"
   ]
  },
  {
   "cell_type": "code",
   "execution_count": 3,
   "metadata": {},
   "outputs": [],
   "source": [
    "all_data = pd.concat([train, test], ignore_index=True)\n",
    "all_data = all_data.drop('target', axis=1) \n",
    "\n",
    "all_features = all_data.columns"
   ]
  },
  {
   "cell_type": "code",
   "execution_count": 4,
   "metadata": {},
   "outputs": [],
   "source": [
    "cat_features = [feature for feature in all_features if 'cat' in feature]\n",
    "\n",
    "onehot_encoder = OneHotEncoder()\n",
    "encoded_cat_matrix = onehot_encoder.fit_transform(all_data[cat_features])"
   ]
  },
  {
   "cell_type": "code",
   "execution_count": 5,
   "metadata": {},
   "outputs": [],
   "source": [
    "all_data['num_missing'] = (all_data==-1).sum(axis=1)"
   ]
  },
  {
   "cell_type": "code",
   "execution_count": 6,
   "metadata": {},
   "outputs": [],
   "source": [
    "remaining_features = [feature for feature in all_features\n",
    "                      if ('cat' not in feature and 'calc' not in feature)]\n",
    "\n",
    "remaining_features.append('num_missing')"
   ]
  },
  {
   "cell_type": "code",
   "execution_count": 7,
   "metadata": {},
   "outputs": [],
   "source": [
    "ind_features = [feature for feature in all_features if 'ind' in feature]\n",
    "\n",
    "is_first_feature = True\n",
    "for ind_feature in ind_features:\n",
    "    if is_first_feature:\n",
    "        all_data['mix_ind'] = all_data[ind_feature].astype(str) + '_'\n",
    "        is_first_feature = False\n",
    "    else:\n",
    "        all_data['mix_ind'] += all_data[ind_feature].astype(str) + '_'"
   ]
  },
  {
   "cell_type": "code",
   "execution_count": 8,
   "metadata": {},
   "outputs": [
    {
     "data": {
      "text/plain": [
       "0          2_2_5_1_0_0_1_0_0_0_0_0_0_0_11_0_1_0_\n",
       "1           1_1_7_0_0_0_0_1_0_0_0_0_0_0_3_0_0_1_\n",
       "2          5_4_9_1_0_0_0_1_0_0_0_0_0_0_12_1_0_0_\n",
       "3           0_1_2_0_0_1_0_0_0_0_0_0_0_0_8_1_0_0_\n",
       "4           0_2_0_1_0_1_0_0_0_0_0_0_0_0_9_1_0_0_\n",
       "                           ...                  \n",
       "1488023     0_1_6_0_0_0_1_0_0_0_0_0_0_0_2_0_0_1_\n",
       "1488024    5_3_5_1_0_0_0_1_0_0_0_0_0_0_11_1_0_0_\n",
       "1488025     0_1_5_0_0_1_0_0_0_0_0_0_0_0_5_0_0_1_\n",
       "1488026    6_1_5_1_0_0_0_0_1_0_0_0_0_0_13_1_0_0_\n",
       "1488027    7_1_4_1_0_0_0_0_1_0_0_0_0_0_12_1_0_0_\n",
       "Name: mix_ind, Length: 1488028, dtype: object"
      ]
     },
     "execution_count": 8,
     "metadata": {},
     "output_type": "execute_result"
    }
   ],
   "source": [
    "all_data['mix_ind']"
   ]
  },
  {
   "cell_type": "code",
   "execution_count": 9,
   "metadata": {},
   "outputs": [],
   "source": [
    "cat_count_features = []\n",
    "for feature in cat_features+['mix_ind']:\n",
    "    val_counts_dict = all_data[feature].value_counts().to_dict()\n",
    "    all_data[f'{feature}_count'] = all_data[feature].apply(lambda x:\n",
    "                                                           val_counts_dict[x])\n",
    "    cat_count_features.append(f'{feature}_count')"
   ]
  },
  {
   "cell_type": "code",
   "execution_count": 10,
   "metadata": {},
   "outputs": [],
   "source": [
    "from scipy import sparse\n",
    "\n",
    "drop_features = ['ps_ind_14', 'ps_ind_10_bin', 'ps_ind_11_bin',\n",
    "                 'ps_ind_12_bin', 'ps_ind_13_bin', 'ps_car_14']\n",
    "\n",
    "all_data_remaining = all_data[remaining_features+cat_count_features].drop(drop_features, axis=1)\n",
    "\n",
    "all_data_sprs = sparse.hstack([sparse.csr_matrix(all_data_remaining),\n",
    "                               encoded_cat_matrix],\n",
    "                              format='csr')"
   ]
  },
  {
   "cell_type": "code",
   "execution_count": 11,
   "metadata": {},
   "outputs": [],
   "source": [
    "num_train = len(train) \n",
    "\n",
    "\n",
    "X = all_data_sprs[:num_train]\n",
    "X_test = all_data_sprs[num_train:]\n",
    "\n",
    "y = train['target'].values"
   ]
  },
  {
   "cell_type": "code",
   "execution_count": 12,
   "metadata": {},
   "outputs": [
    {
     "data": {
      "text/plain": [
       "(595212, 217)"
      ]
     },
     "execution_count": 12,
     "metadata": {},
     "output_type": "execute_result"
    }
   ],
   "source": [
    "X.shape"
   ]
  },
  {
   "cell_type": "code",
   "execution_count": 13,
   "metadata": {},
   "outputs": [],
   "source": [
    "def eval_gini(y_true, y_pred):\n",
    "    assert y_true.shape == y_pred.shape\n",
    "    \n",
    "    n_samples = y_true.shape[0]\n",
    "    L_mid = np.linspace(1 / n_samples, 1, n_samples)\n",
    "\n",
    "    pred_order = y_true[y_pred.argsort()]\n",
    "    L_pred = np.cumsum(pred_order) / np.sum(pred_order)\n",
    "    G_pred = np.sum(L_mid - L_pred)\n",
    "\n",
    "    true_order = y_true[y_true.argsort()]\n",
    "    L_true = np.cumsum(true_order) / np.sum(true_order)\n",
    "    G_true = np.sum(L_mid - L_true)\n",
    "    \n",
    "    return G_pred / G_true"
   ]
  },
  {
   "cell_type": "code",
   "execution_count": 14,
   "metadata": {},
   "outputs": [],
   "source": [
    "def gini(preds, dtrain):\n",
    "    labels = dtrain.get_label()\n",
    "    return 'gini', eval_gini(labels, preds)"
   ]
  },
  {
   "cell_type": "code",
   "execution_count": 15,
   "metadata": {},
   "outputs": [],
   "source": [
    "X_train, X_valid, y_train, y_valid = train_test_split(X, y,\n",
    "                                                      test_size=0.2,\n",
    "                                                      random_state=0)\n",
    "\n",
    "bayes_dtrain = xgb.DMatrix(X_train, y_train)\n",
    "bayes_dvalid = xgb.DMatrix(X_valid, y_valid)"
   ]
  },
  {
   "cell_type": "code",
   "execution_count": 17,
   "metadata": {},
   "outputs": [],
   "source": [
    "param_bounds = {'max_depth': (4,8),\n",
    "                'subsample': (0.6, 0.9),\n",
    "                'colsample_bytree': (0.7, 1.0),\n",
    "                'min_child_weight': (5, 7),\n",
    "                'gamma': (8, 11),\n",
    "                'reg_alpha': (7, 9),\n",
    "                'reg_lambda': (1.1, 1.5),\n",
    "                'scale_pos_weight': (1.4, 1.6)}\n",
    "\n",
    "\n",
    "fixed_params = {'objective' : 'binary:logistic',\n",
    "                'learning_rate': 0.02,\n",
    "                'tree_method' : 'gpu_hist',\n",
    "                'random_state': 1993}"
   ]
  },
  {
   "cell_type": "code",
   "execution_count": 18,
   "metadata": {},
   "outputs": [],
   "source": [
    "def eval_function(max_depth, subsample, colsample_bytree, min_child_weight,\n",
    "                 reg_alpha, gamma, reg_lambda, scale_pos_weight):\n",
    "\n",
    "    params = {'max_depth': int(round(max_depth)),\n",
    "              'subsample': subsample,\n",
    "              'colsample_bytree': colsample_bytree,\n",
    "              'min_child_weight': min_child_weight,\n",
    "              'gamma': gamma,\n",
    "              'reg_alpha':reg_alpha,\n",
    "              'reg_lambda': reg_lambda,\n",
    "              'scale_pos_weight': scale_pos_weight}\n",
    "\n",
    "    params.update(fixed_params)\n",
    "    \n",
    "    print('hyperparameters :', params)    \n",
    "        \n",
    "    # XGBoost model training\n",
    "    xgb_model = xgb.train(params=params, \n",
    "                          dtrain=bayes_dtrain,\n",
    "                          num_boost_round=2000,\n",
    "                          evals=[(bayes_dvalid, 'bayes_dvalid')],\n",
    "                          maximize=True,\n",
    "                          feval=gini,\n",
    "                          early_stopping_rounds=200,\n",
    "                          verbose_eval=False)\n",
    "                           \n",
    "    best_iter = xgb_model.best_iteration # optimal number of iterations\n",
    "    # Make predictions with validation data\n",
    "    preds = xgb_model.predict(bayes_dvalid, \n",
    "                              iteration_range=(0, best_iter))\n",
    "    # Gini coefficient calculation\n",
    "    gini_score = eval_gini(y_valid, preds)\n",
    "    print(f'Gini coefficient: {gini_score}\\n')\n",
    "    \n",
    "    return gini_score\n"
   ]
  },
  {
   "cell_type": "code",
   "execution_count": 19,
   "metadata": {},
   "outputs": [
    {
     "name": "stdout",
     "output_type": "stream",
     "text": [
      "|   iter    |  target   | colsam... |   gamma   | max_depth | min_ch... | reg_alpha | reg_la... | scale_... | subsample |\n",
      "-------------------------------------------------------------------------------------------------------------------------\n",
      "hyperparameters : {'max_depth': 6, 'subsample': 0.867531900234624, 'colsample_bytree': 0.8646440511781974, 'min_child_weight': 6.0897663659937935, 'gamma': 10.14556809911726, 'reg_alpha': 7.84730959867781, 'reg_lambda': 1.3583576452266626, 'scale_pos_weight': 1.4875174422525386, 'objective': 'binary:logistic', 'learning_rate': 0.02, 'tree_method': 'gpu_hist', 'random_state': 1993}\n"
     ]
    },
    {
     "name": "stderr",
     "output_type": "stream",
     "text": [
      "/home/tunguz/anaconda3/lib/python3.7/site-packages/xgboost/training.py:36: UserWarning: `feval` is deprecated, use `custom_metric` instead.  They have different behavior when custom objective is also used.See https://xgboost.readthedocs.io/en/latest/tutorials/custom_metric_obj.html for details on the `custom_metric`.\n",
      "  \"`feval` is deprecated, use `custom_metric` instead.  They have \"\n"
     ]
    },
    {
     "name": "stdout",
     "output_type": "stream",
     "text": [
      "Gini coefficient: 0.2770649772924368\n",
      "\n",
      "| \u001b[0m1        \u001b[0m | \u001b[0m0.2771   \u001b[0m | \u001b[0m0.8646   \u001b[0m | \u001b[0m10.15    \u001b[0m | \u001b[0m6.411    \u001b[0m | \u001b[0m6.09     \u001b[0m | \u001b[0m7.847    \u001b[0m | \u001b[0m1.358    \u001b[0m | \u001b[0m1.488    \u001b[0m | \u001b[0m0.8675   \u001b[0m |\n",
      "hyperparameters : {'max_depth': 7, 'subsample': 0.6261387899104622, 'colsample_bytree': 0.9890988281503088, 'min_child_weight': 6.0577898395058085, 'gamma': 9.150324556477333, 'reg_alpha': 8.136089122187865, 'reg_lambda': 1.4702386553170643, 'scale_pos_weight': 1.4142072116395774, 'objective': 'binary:logistic', 'learning_rate': 0.02, 'tree_method': 'gpu_hist', 'random_state': 1993}\n",
      "Gini coefficient: 0.2795461824105286\n",
      "\n",
      "| \u001b[95m2        \u001b[0m | \u001b[95m0.2795   \u001b[0m | \u001b[95m0.9891   \u001b[0m | \u001b[95m9.15     \u001b[0m | \u001b[95m7.167    \u001b[0m | \u001b[95m6.058    \u001b[0m | \u001b[95m8.136    \u001b[0m | \u001b[95m1.47     \u001b[0m | \u001b[95m1.414    \u001b[0m | \u001b[95m0.6261   \u001b[0m |\n",
      "hyperparameters : {'max_depth': 7, 'subsample': 0.8341587528859367, 'colsample_bytree': 0.7060655192320977, 'min_child_weight': 6.7400242964936385, 'gamma': 10.497859536643814, 'reg_alpha': 8.957236684465528, 'reg_lambda': 1.4196634256866894, 'scale_pos_weight': 1.4922958724505864, 'objective': 'binary:logistic', 'learning_rate': 0.02, 'tree_method': 'gpu_hist', 'random_state': 1993}\n",
      "Gini coefficient: 0.2769363425200607\n",
      "\n",
      "| \u001b[0m3        \u001b[0m | \u001b[0m0.2769   \u001b[0m | \u001b[0m0.7061   \u001b[0m | \u001b[0m10.5     \u001b[0m | \u001b[0m7.113    \u001b[0m | \u001b[0m6.74     \u001b[0m | \u001b[0m8.957    \u001b[0m | \u001b[0m1.42     \u001b[0m | \u001b[0m1.492    \u001b[0m | \u001b[0m0.8342   \u001b[0m |\n",
      "hyperparameters : {'max_depth': 7, 'subsample': 0.7001630536555632, 'colsample_bytree': 0.8843124587484356, 'min_child_weight': 6.494091293383359, 'gamma': 10.452246227672624, 'reg_alpha': 8.551838810159788, 'reg_lambda': 1.3814765995549108, 'scale_pos_weight': 1.423280772455086, 'objective': 'binary:logistic', 'learning_rate': 0.02, 'tree_method': 'gpu_hist', 'random_state': 1993}\n"
     ]
    },
    {
     "name": "stderr",
     "output_type": "stream",
     "text": [
      "/home/tunguz/anaconda3/lib/python3.7/site-packages/xgboost/training.py:36: UserWarning: `feval` is deprecated, use `custom_metric` instead.  They have different behavior when custom objective is also used.See https://xgboost.readthedocs.io/en/latest/tutorials/custom_metric_obj.html for details on the `custom_metric`.\n",
      "  \"`feval` is deprecated, use `custom_metric` instead.  They have \"\n"
     ]
    },
    {
     "name": "stdout",
     "output_type": "stream",
     "text": [
      "Gini coefficient: 0.277282372969139\n",
      "\n",
      "| \u001b[0m4        \u001b[0m | \u001b[0m0.2773   \u001b[0m | \u001b[0m0.8843   \u001b[0m | \u001b[0m10.45    \u001b[0m | \u001b[0m6.838    \u001b[0m | \u001b[0m6.494    \u001b[0m | \u001b[0m8.552    \u001b[0m | \u001b[0m1.381    \u001b[0m | \u001b[0m1.423    \u001b[0m | \u001b[0m0.7002   \u001b[0m |\n",
      "hyperparameters : {'max_depth': 7, 'subsample': 0.6, 'colsample_bytree': 1.0, 'min_child_weight': 5.952078321630083, 'gamma': 8.64637619160198, 'reg_alpha': 8.145017582466787, 'reg_lambda': 1.5, 'scale_pos_weight': 1.4, 'objective': 'binary:logistic', 'learning_rate': 0.02, 'tree_method': 'gpu_hist', 'random_state': 1993}\n"
     ]
    },
    {
     "name": "stderr",
     "output_type": "stream",
     "text": [
      "/home/tunguz/anaconda3/lib/python3.7/site-packages/xgboost/training.py:36: UserWarning: `feval` is deprecated, use `custom_metric` instead.  They have different behavior when custom objective is also used.See https://xgboost.readthedocs.io/en/latest/tutorials/custom_metric_obj.html for details on the `custom_metric`.\n",
      "  \"`feval` is deprecated, use `custom_metric` instead.  They have \"\n"
     ]
    },
    {
     "name": "stdout",
     "output_type": "stream",
     "text": [
      "Gini coefficient: 0.2802433341919499\n",
      "\n",
      "| \u001b[95m5        \u001b[0m | \u001b[95m0.2802   \u001b[0m | \u001b[95m1.0      \u001b[0m | \u001b[95m8.646    \u001b[0m | \u001b[95m7.446    \u001b[0m | \u001b[95m5.952    \u001b[0m | \u001b[95m8.145    \u001b[0m | \u001b[95m1.5      \u001b[0m | \u001b[95m1.4      \u001b[0m | \u001b[95m0.6      \u001b[0m |\n",
      "hyperparameters : {'max_depth': 8, 'subsample': 0.6, 'colsample_bytree': 1.0, 'min_child_weight': 6.8459054197634135, 'gamma': 8.0, 'reg_alpha': 7.223319737058203, 'reg_lambda': 1.4137239529881087, 'scale_pos_weight': 1.4, 'objective': 'binary:logistic', 'learning_rate': 0.02, 'tree_method': 'gpu_hist', 'random_state': 1993}\n"
     ]
    },
    {
     "name": "stderr",
     "output_type": "stream",
     "text": [
      "/home/tunguz/anaconda3/lib/python3.7/site-packages/xgboost/training.py:36: UserWarning: `feval` is deprecated, use `custom_metric` instead.  They have different behavior when custom objective is also used.See https://xgboost.readthedocs.io/en/latest/tutorials/custom_metric_obj.html for details on the `custom_metric`.\n",
      "  \"`feval` is deprecated, use `custom_metric` instead.  They have \"\n"
     ]
    },
    {
     "name": "stdout",
     "output_type": "stream",
     "text": [
      "Gini coefficient: 0.2815746911465449\n",
      "\n",
      "| \u001b[95m6        \u001b[0m | \u001b[95m0.2816   \u001b[0m | \u001b[95m1.0      \u001b[0m | \u001b[95m8.0      \u001b[0m | \u001b[95m8.0      \u001b[0m | \u001b[95m6.846    \u001b[0m | \u001b[95m7.223    \u001b[0m | \u001b[95m1.414    \u001b[0m | \u001b[95m1.4      \u001b[0m | \u001b[95m0.6      \u001b[0m |\n",
      "hyperparameters : {'max_depth': 8, 'subsample': 0.6, 'colsample_bytree': 1.0, 'min_child_weight': 5.0, 'gamma': 8.0, 'reg_alpha': 7.0, 'reg_lambda': 1.1, 'scale_pos_weight': 1.4, 'objective': 'binary:logistic', 'learning_rate': 0.02, 'tree_method': 'gpu_hist', 'random_state': 1993}\n"
     ]
    },
    {
     "name": "stderr",
     "output_type": "stream",
     "text": [
      "/home/tunguz/anaconda3/lib/python3.7/site-packages/xgboost/training.py:36: UserWarning: `feval` is deprecated, use `custom_metric` instead.  They have different behavior when custom objective is also used.See https://xgboost.readthedocs.io/en/latest/tutorials/custom_metric_obj.html for details on the `custom_metric`.\n",
      "  \"`feval` is deprecated, use `custom_metric` instead.  They have \"\n"
     ]
    },
    {
     "name": "stdout",
     "output_type": "stream",
     "text": [
      "Gini coefficient: 0.2814854045751619\n",
      "\n",
      "| \u001b[0m7        \u001b[0m | \u001b[0m0.2815   \u001b[0m | \u001b[0m1.0      \u001b[0m | \u001b[0m8.0      \u001b[0m | \u001b[0m8.0      \u001b[0m | \u001b[0m5.0      \u001b[0m | \u001b[0m7.0      \u001b[0m | \u001b[0m1.1      \u001b[0m | \u001b[0m1.4      \u001b[0m | \u001b[0m0.6      \u001b[0m |\n",
      "hyperparameters : {'max_depth': 6, 'subsample': 0.6, 'colsample_bytree': 1.0, 'min_child_weight': 7.0, 'gamma': 8.0, 'reg_alpha': 7.0, 'reg_lambda': 1.1, 'scale_pos_weight': 1.4, 'objective': 'binary:logistic', 'learning_rate': 0.02, 'tree_method': 'gpu_hist', 'random_state': 1993}\n"
     ]
    },
    {
     "name": "stderr",
     "output_type": "stream",
     "text": [
      "/home/tunguz/anaconda3/lib/python3.7/site-packages/xgboost/training.py:36: UserWarning: `feval` is deprecated, use `custom_metric` instead.  They have different behavior when custom objective is also used.See https://xgboost.readthedocs.io/en/latest/tutorials/custom_metric_obj.html for details on the `custom_metric`.\n",
      "  \"`feval` is deprecated, use `custom_metric` instead.  They have \"\n"
     ]
    },
    {
     "name": "stdout",
     "output_type": "stream",
     "text": [
      "Gini coefficient: 0.2820560768191399\n",
      "\n",
      "| \u001b[95m8        \u001b[0m | \u001b[95m0.2821   \u001b[0m | \u001b[95m1.0      \u001b[0m | \u001b[95m8.0      \u001b[0m | \u001b[95m6.246    \u001b[0m | \u001b[95m7.0      \u001b[0m | \u001b[95m7.0      \u001b[0m | \u001b[95m1.1      \u001b[0m | \u001b[95m1.4      \u001b[0m | \u001b[95m0.6      \u001b[0m |\n",
      "hyperparameters : {'max_depth': 4, 'subsample': 0.6, 'colsample_bytree': 1.0, 'min_child_weight': 7.0, 'gamma': 8.0, 'reg_alpha': 7.0, 'reg_lambda': 1.1, 'scale_pos_weight': 1.4, 'objective': 'binary:logistic', 'learning_rate': 0.02, 'tree_method': 'gpu_hist', 'random_state': 1993}\n"
     ]
    },
    {
     "name": "stderr",
     "output_type": "stream",
     "text": [
      "/home/tunguz/anaconda3/lib/python3.7/site-packages/xgboost/training.py:36: UserWarning: `feval` is deprecated, use `custom_metric` instead.  They have different behavior when custom objective is also used.See https://xgboost.readthedocs.io/en/latest/tutorials/custom_metric_obj.html for details on the `custom_metric`.\n",
      "  \"`feval` is deprecated, use `custom_metric` instead.  They have \"\n"
     ]
    },
    {
     "name": "stdout",
     "output_type": "stream",
     "text": [
      "Gini coefficient: 0.28171588531798414\n",
      "\n",
      "| \u001b[0m9        \u001b[0m | \u001b[0m0.2817   \u001b[0m | \u001b[0m1.0      \u001b[0m | \u001b[0m8.0      \u001b[0m | \u001b[0m4.0      \u001b[0m | \u001b[0m7.0      \u001b[0m | \u001b[0m7.0      \u001b[0m | \u001b[0m1.1      \u001b[0m | \u001b[0m1.4      \u001b[0m | \u001b[0m0.6      \u001b[0m |\n",
      "=========================================================================================================================\n",
      "CPU times: user 6min 20s, sys: 20 s, total: 6min 40s\n",
      "Wall time: 6min 7s\n"
     ]
    }
   ],
   "source": [
    "%%time\n",
    "optimizer = BayesianOptimization(f=eval_function, \n",
    "                                 pbounds=param_bounds, \n",
    "                                 random_state=0)\n",
    "\n",
    "\n",
    "optimizer.maximize(init_points=3, n_iter=6)"
   ]
  },
  {
   "cell_type": "code",
   "execution_count": 20,
   "metadata": {},
   "outputs": [
    {
     "data": {
      "text/plain": [
       "{'colsample_bytree': 1.0,\n",
       " 'gamma': 8.0,\n",
       " 'max_depth': 6.245597321042113,\n",
       " 'min_child_weight': 7.0,\n",
       " 'reg_alpha': 7.0,\n",
       " 'reg_lambda': 1.1,\n",
       " 'scale_pos_weight': 1.4,\n",
       " 'subsample': 0.6}"
      ]
     },
     "execution_count": 20,
     "metadata": {},
     "output_type": "execute_result"
    }
   ],
   "source": [
    "max_params = optimizer.max['params']\n",
    "max_params"
   ]
  },
  {
   "cell_type": "code",
   "execution_count": 21,
   "metadata": {},
   "outputs": [
    {
     "data": {
      "text/plain": [
       "{'colsample_bytree': 1.0,\n",
       " 'gamma': 8.0,\n",
       " 'max_depth': 6,\n",
       " 'min_child_weight': 7.0,\n",
       " 'reg_alpha': 7.0,\n",
       " 'reg_lambda': 1.1,\n",
       " 'scale_pos_weight': 1.4,\n",
       " 'subsample': 0.6,\n",
       " 'objective': 'binary:logistic',\n",
       " 'learning_rate': 0.02,\n",
       " 'tree_method': 'gpu_hist',\n",
       " 'random_state': 1993}"
      ]
     },
     "execution_count": 21,
     "metadata": {},
     "output_type": "execute_result"
    }
   ],
   "source": [
    "max_params['max_depth'] = int(round(max_params['max_depth']))\n",
    "\n",
    "max_params.update(fixed_params)\n",
    "max_params"
   ]
  },
  {
   "cell_type": "code",
   "execution_count": 22,
   "metadata": {},
   "outputs": [
    {
     "name": "stdout",
     "output_type": "stream",
     "text": [
      "######################################## Fold 1 / 5 ########################################\n",
      "[0]\tvalid-logloss:0.67660\tvalid-gini:0.16913\n"
     ]
    },
    {
     "name": "stderr",
     "output_type": "stream",
     "text": [
      "/home/tunguz/anaconda3/lib/python3.7/site-packages/xgboost/training.py:36: UserWarning: `feval` is deprecated, use `custom_metric` instead.  They have different behavior when custom objective is also used.See https://xgboost.readthedocs.io/en/latest/tutorials/custom_metric_obj.html for details on the `custom_metric`.\n",
      "  \"`feval` is deprecated, use `custom_metric` instead.  They have \"\n"
     ]
    },
    {
     "name": "stdout",
     "output_type": "stream",
     "text": [
      "[100]\tvalid-logloss:0.19038\tvalid-gini:0.24909\n",
      "[200]\tvalid-logloss:0.15745\tvalid-gini:0.27772\n",
      "[300]\tvalid-logloss:0.15436\tvalid-gini:0.28687\n",
      "[400]\tvalid-logloss:0.15389\tvalid-gini:0.29010\n",
      "[500]\tvalid-logloss:0.15380\tvalid-gini:0.29142\n",
      "[600]\tvalid-logloss:0.15376\tvalid-gini:0.29230\n",
      "[700]\tvalid-logloss:0.15373\tvalid-gini:0.29288\n",
      "[800]\tvalid-logloss:0.15372\tvalid-gini:0.29350\n",
      "[900]\tvalid-logloss:0.15372\tvalid-gini:0.29351\n",
      "[1000]\tvalid-logloss:0.15370\tvalid-gini:0.29351\n",
      "[1100]\tvalid-logloss:0.15371\tvalid-gini:0.29357\n",
      "[1200]\tvalid-logloss:0.15371\tvalid-gini:0.29347\n",
      "[1239]\tvalid-logloss:0.15372\tvalid-gini:0.29353\n",
      "Fold 1 gini score : 0.29358331406338356\n",
      "\n",
      "######################################## Fold 2 / 5 ########################################\n",
      "[0]\tvalid-logloss:0.67661\tvalid-gini:0.12431\n",
      "[100]\tvalid-logloss:0.19046\tvalid-gini:0.23843\n",
      "[200]\tvalid-logloss:0.15769\tvalid-gini:0.26435\n",
      "[300]\tvalid-logloss:0.15469\tvalid-gini:0.27355\n",
      "[400]\tvalid-logloss:0.15426\tvalid-gini:0.27679\n",
      "[500]\tvalid-logloss:0.15419\tvalid-gini:0.27766\n",
      "[600]\tvalid-logloss:0.15416\tvalid-gini:0.27838\n",
      "[700]\tvalid-logloss:0.15414\tvalid-gini:0.27897\n",
      "[800]\tvalid-logloss:0.15412\tvalid-gini:0.27954\n",
      "[900]\tvalid-logloss:0.15412\tvalid-gini:0.27972\n",
      "[1000]\tvalid-logloss:0.15410\tvalid-gini:0.27991\n",
      "[1100]\tvalid-logloss:0.15408\tvalid-gini:0.28027\n",
      "[1200]\tvalid-logloss:0.15410\tvalid-gini:0.28039\n",
      "[1300]\tvalid-logloss:0.15408\tvalid-gini:0.28048\n",
      "[1400]\tvalid-logloss:0.15408\tvalid-gini:0.28059\n",
      "[1500]\tvalid-logloss:0.15408\tvalid-gini:0.28070\n",
      "[1600]\tvalid-logloss:0.15409\tvalid-gini:0.28086\n",
      "[1700]\tvalid-logloss:0.15407\tvalid-gini:0.28101\n",
      "[1800]\tvalid-logloss:0.15404\tvalid-gini:0.28108\n",
      "[1900]\tvalid-logloss:0.15405\tvalid-gini:0.28115\n",
      "[1999]\tvalid-logloss:0.15406\tvalid-gini:0.28127\n",
      "Fold 2 gini score : 0.28126107593476835\n",
      "\n",
      "######################################## Fold 3 / 5 ########################################\n",
      "[0]\tvalid-logloss:0.67664\tvalid-gini:0.13590\n",
      "[100]\tvalid-logloss:0.19038\tvalid-gini:0.24563\n",
      "[200]\tvalid-logloss:0.15743\tvalid-gini:0.27160\n",
      "[300]\tvalid-logloss:0.15433\tvalid-gini:0.27980\n",
      "[400]\tvalid-logloss:0.15387\tvalid-gini:0.28316\n",
      "[500]\tvalid-logloss:0.15381\tvalid-gini:0.28360\n",
      "[600]\tvalid-logloss:0.15379\tvalid-gini:0.28403\n",
      "[700]\tvalid-logloss:0.15378\tvalid-gini:0.28404\n",
      "[800]\tvalid-logloss:0.15379\tvalid-gini:0.28439\n",
      "[900]\tvalid-logloss:0.15377\tvalid-gini:0.28464\n",
      "[1000]\tvalid-logloss:0.15377\tvalid-gini:0.28465\n",
      "[1100]\tvalid-logloss:0.15377\tvalid-gini:0.28463\n",
      "[1200]\tvalid-logloss:0.15377\tvalid-gini:0.28463\n",
      "[1300]\tvalid-logloss:0.15376\tvalid-gini:0.28466\n",
      "[1400]\tvalid-logloss:0.15376\tvalid-gini:0.28472\n",
      "[1500]\tvalid-logloss:0.15376\tvalid-gini:0.28468\n",
      "[1572]\tvalid-logloss:0.15376\tvalid-gini:0.28476\n",
      "Fold 3 gini score : 0.28477324054357556\n",
      "\n",
      "######################################## Fold 4 / 5 ########################################\n",
      "[0]\tvalid-logloss:0.67663\tvalid-gini:0.14806\n",
      "[100]\tvalid-logloss:0.19035\tvalid-gini:0.23761\n",
      "[200]\tvalid-logloss:0.15756\tvalid-gini:0.26571\n",
      "[300]\tvalid-logloss:0.15454\tvalid-gini:0.27296\n",
      "[400]\tvalid-logloss:0.15415\tvalid-gini:0.27537\n",
      "[500]\tvalid-logloss:0.15406\tvalid-gini:0.27648\n",
      "[600]\tvalid-logloss:0.15403\tvalid-gini:0.27700\n",
      "[700]\tvalid-logloss:0.15400\tvalid-gini:0.27735\n",
      "[800]\tvalid-logloss:0.15399\tvalid-gini:0.27746\n",
      "[900]\tvalid-logloss:0.15399\tvalid-gini:0.27752\n",
      "[1000]\tvalid-logloss:0.15400\tvalid-gini:0.27769\n",
      "[1100]\tvalid-logloss:0.15400\tvalid-gini:0.27782\n",
      "[1200]\tvalid-logloss:0.15399\tvalid-gini:0.27796\n",
      "[1300]\tvalid-logloss:0.15399\tvalid-gini:0.27802\n",
      "[1400]\tvalid-logloss:0.15399\tvalid-gini:0.27820\n",
      "[1500]\tvalid-logloss:0.15397\tvalid-gini:0.27843\n",
      "[1600]\tvalid-logloss:0.15396\tvalid-gini:0.27844\n",
      "[1700]\tvalid-logloss:0.15400\tvalid-gini:0.27835\n",
      "[1723]\tvalid-logloss:0.15400\tvalid-gini:0.27831\n",
      "Fold 4 gini score : 0.2784546283873748\n",
      "\n",
      "######################################## Fold 5 / 5 ########################################\n",
      "[0]\tvalid-logloss:0.67661\tvalid-gini:0.14540\n",
      "[100]\tvalid-logloss:0.19040\tvalid-gini:0.24721\n",
      "[200]\tvalid-logloss:0.15769\tvalid-gini:0.27260\n",
      "[300]\tvalid-logloss:0.15460\tvalid-gini:0.28303\n",
      "[400]\tvalid-logloss:0.15413\tvalid-gini:0.28758\n",
      "[500]\tvalid-logloss:0.15405\tvalid-gini:0.28880\n",
      "[600]\tvalid-logloss:0.15400\tvalid-gini:0.28978\n",
      "[700]\tvalid-logloss:0.15399\tvalid-gini:0.29031\n",
      "[800]\tvalid-logloss:0.15396\tvalid-gini:0.29063\n",
      "[900]\tvalid-logloss:0.15394\tvalid-gini:0.29102\n",
      "[1000]\tvalid-logloss:0.15394\tvalid-gini:0.29104\n",
      "[1100]\tvalid-logloss:0.15394\tvalid-gini:0.29117\n",
      "[1200]\tvalid-logloss:0.15393\tvalid-gini:0.29120\n",
      "[1300]\tvalid-logloss:0.15395\tvalid-gini:0.29119\n",
      "[1400]\tvalid-logloss:0.15394\tvalid-gini:0.29123\n",
      "[1500]\tvalid-logloss:0.15394\tvalid-gini:0.29138\n",
      "[1600]\tvalid-logloss:0.15393\tvalid-gini:0.29153\n",
      "[1700]\tvalid-logloss:0.15392\tvalid-gini:0.29180\n",
      "[1800]\tvalid-logloss:0.15391\tvalid-gini:0.29186\n",
      "[1900]\tvalid-logloss:0.15393\tvalid-gini:0.29198\n",
      "[1999]\tvalid-logloss:0.15390\tvalid-gini:0.29206\n",
      "Fold 5 gini score : 0.2920462057588424\n",
      "\n",
      "CPU times: user 10min 5s, sys: 3.78 s, total: 10min 9s\n",
      "Wall time: 3min 8s\n"
     ]
    }
   ],
   "source": [
    "%%time\n",
    "\n",
    "folds = StratifiedKFold(n_splits=5, shuffle=True, random_state=1991)\n",
    "\n",
    "\n",
    "oof_val_preds = np.zeros(X.shape[0]) \n",
    "oof_test_preds = np.zeros(X_test.shape[0]) \n",
    "dtest = xgb.DMatrix(X_test)\n",
    "\n",
    "for idx, (train_idx, valid_idx) in enumerate(folds.split(X, y)):\n",
    "\n",
    "    print('#'*40, f'Fold {idx+1} / {folds.n_splits}', '#'*40)\n",
    "    \n",
    "    X_train, y_train = X[train_idx], y[train_idx]\n",
    "    X_valid, y_valid = X[valid_idx], y[valid_idx]\n",
    "\n",
    "\n",
    "    dtrain = xgb.DMatrix(X_train, y_train)\n",
    "    dvalid = xgb.DMatrix(X_valid, y_valid)\n",
    "   \n",
    "\n",
    "    xgb_model = xgb.train(params=max_params, \n",
    "                          dtrain=dtrain,\n",
    "                          num_boost_round=2000,\n",
    "                          evals=[(dvalid, 'valid')],\n",
    "                          maximize=True,\n",
    "                          feval=gini,\n",
    "                          early_stopping_rounds=200,\n",
    "                          verbose_eval=100)\n",
    "\n",
    "    best_iter = xgb_model.best_iteration\n",
    "    oof_test_preds += xgb_model.predict(dtest,\n",
    "                                        iteration_range=(0, best_iter))/folds.n_splits\n",
    "    \n",
    "    oof_val_preds[valid_idx] += xgb_model.predict(dvalid, \n",
    "                                                  iteration_range=(0, best_iter))\n",
    "    \n",
    "    gini_score = eval_gini(y_valid, oof_val_preds[valid_idx])\n",
    "    print(f'Fold {idx+1} gini score : {gini_score}\\n')"
   ]
  },
  {
   "cell_type": "code",
   "execution_count": 23,
   "metadata": {},
   "outputs": [
    {
     "name": "stdout",
     "output_type": "stream",
     "text": [
      "OOF Verification data Gini coefficient: 0.28588719996388795\n"
     ]
    }
   ],
   "source": [
    "print('OOF Verification data Gini coefficient:', eval_gini(y, oof_val_preds))\n"
   ]
  },
  {
   "cell_type": "code",
   "execution_count": 24,
   "metadata": {},
   "outputs": [],
   "source": [
    "submission['target'] = oof_test_preds\n",
    "submission.to_csv('../submissions/submission_best_kaggle_xgb_gpu_hist.csv')"
   ]
  },
  {
   "cell_type": "markdown",
   "metadata": {},
   "source": [
    "0.28457 Public, 0.28802 private"
   ]
  },
  {
   "cell_type": "code",
   "execution_count": 33,
   "metadata": {},
   "outputs": [
    {
     "data": {
      "text/plain": [
       "(595212, 217)"
      ]
     },
     "execution_count": 33,
     "metadata": {},
     "output_type": "execute_result"
    }
   ],
   "source": [
    "X.shape"
   ]
  },
  {
   "cell_type": "code",
   "execution_count": null,
   "metadata": {},
   "outputs": [],
   "source": []
  },
  {
   "cell_type": "code",
   "execution_count": 36,
   "metadata": {},
   "outputs": [
    {
     "data": {
      "text/plain": [
       "(892816, 217)"
      ]
     },
     "execution_count": 36,
     "metadata": {},
     "output_type": "execute_result"
    }
   ],
   "source": [
    "X_test.shape"
   ]
  },
  {
   "cell_type": "code",
   "execution_count": 37,
   "metadata": {},
   "outputs": [
    {
     "data": {
      "text/plain": [
       "array([0, 0, 0, ..., 0, 0, 0])"
      ]
     },
     "execution_count": 37,
     "metadata": {},
     "output_type": "execute_result"
    }
   ],
   "source": [
    "y"
   ]
  },
  {
   "cell_type": "code",
   "execution_count": 38,
   "metadata": {},
   "outputs": [
    {
     "data": {
      "text/plain": [
       "<595212x217 sparse matrix of type '<class 'numpy.float64'>'\n",
       "\twith 24449411 stored elements in Compressed Sparse Row format>"
      ]
     },
     "execution_count": 38,
     "metadata": {},
     "output_type": "execute_result"
    }
   ],
   "source": [
    "X"
   ]
  },
  {
   "cell_type": "code",
   "execution_count": 39,
   "metadata": {},
   "outputs": [
    {
     "data": {
      "text/plain": [
       "array([[ 2.,  5.,  0., ...,  0.,  0.,  0.],\n",
       "       [ 1.,  7.,  0., ...,  0.,  0.,  0.],\n",
       "       [ 5.,  9.,  0., ...,  0.,  0.,  0.],\n",
       "       ...,\n",
       "       [ 1., 10.,  1., ...,  0.,  0.,  0.],\n",
       "       [ 5.,  3.,  0., ...,  0.,  0.,  0.],\n",
       "       [ 0.,  8.,  1., ...,  0.,  0.,  0.]])"
      ]
     },
     "execution_count": 39,
     "metadata": {},
     "output_type": "execute_result"
    }
   ],
   "source": [
    "X.toarray()"
   ]
  },
  {
   "cell_type": "code",
   "execution_count": 41,
   "metadata": {},
   "outputs": [],
   "source": [
    "save_npz('../input/X_217.npz', X)"
   ]
  },
  {
   "cell_type": "code",
   "execution_count": 42,
   "metadata": {},
   "outputs": [],
   "source": [
    "save_npz('../input/X_test_217.npz', X_test)"
   ]
  },
  {
   "cell_type": "code",
   "execution_count": 43,
   "metadata": {},
   "outputs": [],
   "source": [
    "np.save('../input/y_217.npy', y)"
   ]
  },
  {
   "cell_type": "code",
   "execution_count": null,
   "metadata": {},
   "outputs": [],
   "source": []
  }
 ],
 "metadata": {
  "kernelspec": {
   "display_name": "Python 3",
   "language": "python",
   "name": "python3"
  },
  "language_info": {
   "codemirror_mode": {
    "name": "ipython",
    "version": 3
   },
   "file_extension": ".py",
   "mimetype": "text/x-python",
   "name": "python",
   "nbconvert_exporter": "python",
   "pygments_lexer": "ipython3",
   "version": "3.7.11"
  }
 },
 "nbformat": 4,
 "nbformat_minor": 4
}
