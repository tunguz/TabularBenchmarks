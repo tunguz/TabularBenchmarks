{
 "cells": [
  {
   "cell_type": "markdown",
   "metadata": {},
   "source": [
    "All code is from the following Kaggle notebook: https://www.kaggle.com/code/cocoyachi/safedriver-xgboost-musthave-ch08"
   ]
  },
  {
   "cell_type": "code",
   "execution_count": 2,
   "metadata": {
    "tags": []
   },
   "outputs": [],
   "source": [
    "import pandas as pd\n",
    "from sklearn.preprocessing import OneHotEncoder\n",
    "import numpy as np\n",
    "import xgboost as xgb\n",
    "from sklearn.model_selection import train_test_split\n",
    "from sklearn.model_selection import StratifiedKFold\n",
    "from scipy.sparse import save_npz\n",
    "from bayes_opt import BayesianOptimization"
   ]
  },
  {
   "cell_type": "code",
   "execution_count": 3,
   "metadata": {
    "tags": []
   },
   "outputs": [],
   "source": [
    "data_path = '../input/'\n",
    "\n",
    "train = pd.read_csv(data_path + 'train.csv.zip', index_col='id')\n",
    "test = pd.read_csv(data_path + 'test.csv.zip', index_col='id')\n",
    "submission = pd.read_csv(data_path + 'sample_submission.csv.zip', index_col='id')"
   ]
  },
  {
   "cell_type": "code",
   "execution_count": 4,
   "metadata": {
    "tags": []
   },
   "outputs": [],
   "source": [
    "all_data = pd.concat([train, test], ignore_index=True)\n",
    "all_data = all_data.drop('target', axis=1) \n",
    "\n",
    "all_features = all_data.columns"
   ]
  },
  {
   "cell_type": "code",
   "execution_count": 5,
   "metadata": {
    "tags": []
   },
   "outputs": [],
   "source": [
    "cat_features = [feature for feature in all_features if 'cat' in feature]\n",
    "\n",
    "onehot_encoder = OneHotEncoder()\n",
    "encoded_cat_matrix = onehot_encoder.fit_transform(all_data[cat_features])"
   ]
  },
  {
   "cell_type": "code",
   "execution_count": 6,
   "metadata": {
    "tags": []
   },
   "outputs": [],
   "source": [
    "all_data['num_missing'] = (all_data==-1).sum(axis=1)"
   ]
  },
  {
   "cell_type": "code",
   "execution_count": 7,
   "metadata": {
    "tags": []
   },
   "outputs": [],
   "source": [
    "remaining_features = [feature for feature in all_features\n",
    "                      if ('cat' not in feature and 'calc' not in feature)]\n",
    "\n",
    "remaining_features.append('num_missing')"
   ]
  },
  {
   "cell_type": "code",
   "execution_count": 8,
   "metadata": {
    "tags": []
   },
   "outputs": [],
   "source": [
    "ind_features = [feature for feature in all_features if 'ind' in feature]\n",
    "\n",
    "is_first_feature = True\n",
    "for ind_feature in ind_features:\n",
    "    if is_first_feature:\n",
    "        all_data['mix_ind'] = all_data[ind_feature].astype(str) + '_'\n",
    "        is_first_feature = False\n",
    "    else:\n",
    "        all_data['mix_ind'] += all_data[ind_feature].astype(str) + '_'"
   ]
  },
  {
   "cell_type": "code",
   "execution_count": 9,
   "metadata": {
    "tags": []
   },
   "outputs": [
    {
     "data": {
      "text/plain": [
       "0          2_2_5_1_0_0_1_0_0_0_0_0_0_0_11_0_1_0_\n",
       "1           1_1_7_0_0_0_0_1_0_0_0_0_0_0_3_0_0_1_\n",
       "2          5_4_9_1_0_0_0_1_0_0_0_0_0_0_12_1_0_0_\n",
       "3           0_1_2_0_0_1_0_0_0_0_0_0_0_0_8_1_0_0_\n",
       "4           0_2_0_1_0_1_0_0_0_0_0_0_0_0_9_1_0_0_\n",
       "                           ...                  \n",
       "1488023     0_1_6_0_0_0_1_0_0_0_0_0_0_0_2_0_0_1_\n",
       "1488024    5_3_5_1_0_0_0_1_0_0_0_0_0_0_11_1_0_0_\n",
       "1488025     0_1_5_0_0_1_0_0_0_0_0_0_0_0_5_0_0_1_\n",
       "1488026    6_1_5_1_0_0_0_0_1_0_0_0_0_0_13_1_0_0_\n",
       "1488027    7_1_4_1_0_0_0_0_1_0_0_0_0_0_12_1_0_0_\n",
       "Name: mix_ind, Length: 1488028, dtype: object"
      ]
     },
     "execution_count": 9,
     "metadata": {},
     "output_type": "execute_result"
    }
   ],
   "source": [
    "all_data['mix_ind']"
   ]
  },
  {
   "cell_type": "code",
   "execution_count": 10,
   "metadata": {
    "tags": []
   },
   "outputs": [],
   "source": [
    "cat_count_features = []\n",
    "for feature in cat_features+['mix_ind']:\n",
    "    val_counts_dict = all_data[feature].value_counts().to_dict()\n",
    "    all_data[f'{feature}_count'] = all_data[feature].apply(lambda x:\n",
    "                                                           val_counts_dict[x])\n",
    "    cat_count_features.append(f'{feature}_count')"
   ]
  },
  {
   "cell_type": "code",
   "execution_count": 11,
   "metadata": {
    "tags": []
   },
   "outputs": [],
   "source": [
    "from scipy import sparse\n",
    "\n",
    "drop_features = ['ps_ind_14', 'ps_ind_10_bin', 'ps_ind_11_bin',\n",
    "                 'ps_ind_12_bin', 'ps_ind_13_bin', 'ps_car_14']\n",
    "\n",
    "all_data_remaining = all_data[remaining_features+cat_count_features].drop(drop_features, axis=1)\n",
    "\n",
    "all_data_sprs = sparse.hstack([sparse.csr_matrix(all_data_remaining),\n",
    "                               encoded_cat_matrix],\n",
    "                              format='csr')"
   ]
  },
  {
   "cell_type": "code",
   "execution_count": 12,
   "metadata": {
    "tags": []
   },
   "outputs": [],
   "source": [
    "num_train = len(train) \n",
    "\n",
    "\n",
    "X = all_data_sprs[:num_train]\n",
    "X_test = all_data_sprs[num_train:]\n",
    "\n",
    "y = train['target'].values"
   ]
  },
  {
   "cell_type": "code",
   "execution_count": 13,
   "metadata": {
    "tags": []
   },
   "outputs": [
    {
     "data": {
      "text/plain": [
       "(595212, 217)"
      ]
     },
     "execution_count": 13,
     "metadata": {},
     "output_type": "execute_result"
    }
   ],
   "source": [
    "X.shape"
   ]
  },
  {
   "cell_type": "code",
   "execution_count": 14,
   "metadata": {
    "tags": []
   },
   "outputs": [
    {
     "data": {
      "text/plain": [
       "(892816, 217)"
      ]
     },
     "execution_count": 14,
     "metadata": {},
     "output_type": "execute_result"
    }
   ],
   "source": [
    "X_test.shape"
   ]
  },
  {
   "cell_type": "code",
   "execution_count": 15,
   "metadata": {
    "tags": []
   },
   "outputs": [
    {
     "data": {
      "text/plain": [
       "array([[ 2.,  5.,  0., ...,  0.,  0.,  0.],\n",
       "       [ 1.,  7.,  0., ...,  0.,  0.,  0.],\n",
       "       [ 5.,  9.,  0., ...,  0.,  0.,  0.],\n",
       "       ...,\n",
       "       [ 1., 10.,  1., ...,  0.,  0.,  0.],\n",
       "       [ 5.,  3.,  0., ...,  0.,  0.,  0.],\n",
       "       [ 0.,  8.,  1., ...,  0.,  0.,  0.]])"
      ]
     },
     "execution_count": 15,
     "metadata": {},
     "output_type": "execute_result"
    }
   ],
   "source": [
    "X.toarray()"
   ]
  },
  {
   "cell_type": "code",
   "execution_count": 16,
   "metadata": {
    "tags": []
   },
   "outputs": [
    {
     "data": {
      "text/plain": [
       "array([[0., 8., 0., ..., 0., 0., 0.],\n",
       "       [4., 5., 0., ..., 0., 1., 0.],\n",
       "       [5., 3., 0., ..., 0., 0., 0.],\n",
       "       ...,\n",
       "       [0., 5., 1., ..., 0., 0., 0.],\n",
       "       [6., 5., 0., ..., 0., 0., 0.],\n",
       "       [7., 4., 0., ..., 0., 0., 0.]])"
      ]
     },
     "execution_count": 16,
     "metadata": {},
     "output_type": "execute_result"
    }
   ],
   "source": [
    "X_test.toarray()"
   ]
  },
  {
   "cell_type": "code",
   "execution_count": 17,
   "metadata": {
    "tags": []
   },
   "outputs": [],
   "source": [
    "X_df = pd.DataFrame(data=X.toarray(), columns=[f'col_{i}' for i in range(217)])"
   ]
  },
  {
   "cell_type": "code",
   "execution_count": 18,
   "metadata": {
    "tags": []
   },
   "outputs": [
    {
     "data": {
      "text/html": [
       "<div>\n",
       "<style scoped>\n",
       "    .dataframe tbody tr th:only-of-type {\n",
       "        vertical-align: middle;\n",
       "    }\n",
       "\n",
       "    .dataframe tbody tr th {\n",
       "        vertical-align: top;\n",
       "    }\n",
       "\n",
       "    .dataframe thead th {\n",
       "        text-align: right;\n",
       "    }\n",
       "</style>\n",
       "<table border=\"1\" class=\"dataframe\">\n",
       "  <thead>\n",
       "    <tr style=\"text-align: right;\">\n",
       "      <th></th>\n",
       "      <th>col_0</th>\n",
       "      <th>col_1</th>\n",
       "      <th>col_2</th>\n",
       "      <th>col_3</th>\n",
       "      <th>col_4</th>\n",
       "      <th>col_5</th>\n",
       "      <th>col_6</th>\n",
       "      <th>col_7</th>\n",
       "      <th>col_8</th>\n",
       "      <th>col_9</th>\n",
       "      <th>...</th>\n",
       "      <th>col_207</th>\n",
       "      <th>col_208</th>\n",
       "      <th>col_209</th>\n",
       "      <th>col_210</th>\n",
       "      <th>col_211</th>\n",
       "      <th>col_212</th>\n",
       "      <th>col_213</th>\n",
       "      <th>col_214</th>\n",
       "      <th>col_215</th>\n",
       "      <th>col_216</th>\n",
       "    </tr>\n",
       "  </thead>\n",
       "  <tbody>\n",
       "    <tr>\n",
       "      <th>0</th>\n",
       "      <td>2.0</td>\n",
       "      <td>5.0</td>\n",
       "      <td>0.0</td>\n",
       "      <td>1.0</td>\n",
       "      <td>0.0</td>\n",
       "      <td>0.0</td>\n",
       "      <td>11.0</td>\n",
       "      <td>0.0</td>\n",
       "      <td>1.0</td>\n",
       "      <td>0.0</td>\n",
       "      <td>...</td>\n",
       "      <td>0.0</td>\n",
       "      <td>0.0</td>\n",
       "      <td>0.0</td>\n",
       "      <td>0.0</td>\n",
       "      <td>0.0</td>\n",
       "      <td>0.0</td>\n",
       "      <td>0.0</td>\n",
       "      <td>0.0</td>\n",
       "      <td>0.0</td>\n",
       "      <td>0.0</td>\n",
       "    </tr>\n",
       "    <tr>\n",
       "      <th>1</th>\n",
       "      <td>1.0</td>\n",
       "      <td>7.0</td>\n",
       "      <td>0.0</td>\n",
       "      <td>0.0</td>\n",
       "      <td>1.0</td>\n",
       "      <td>0.0</td>\n",
       "      <td>3.0</td>\n",
       "      <td>0.0</td>\n",
       "      <td>0.0</td>\n",
       "      <td>1.0</td>\n",
       "      <td>...</td>\n",
       "      <td>0.0</td>\n",
       "      <td>0.0</td>\n",
       "      <td>0.0</td>\n",
       "      <td>0.0</td>\n",
       "      <td>0.0</td>\n",
       "      <td>0.0</td>\n",
       "      <td>0.0</td>\n",
       "      <td>0.0</td>\n",
       "      <td>0.0</td>\n",
       "      <td>0.0</td>\n",
       "    </tr>\n",
       "    <tr>\n",
       "      <th>2</th>\n",
       "      <td>5.0</td>\n",
       "      <td>9.0</td>\n",
       "      <td>0.0</td>\n",
       "      <td>0.0</td>\n",
       "      <td>1.0</td>\n",
       "      <td>0.0</td>\n",
       "      <td>12.0</td>\n",
       "      <td>1.0</td>\n",
       "      <td>0.0</td>\n",
       "      <td>0.0</td>\n",
       "      <td>...</td>\n",
       "      <td>0.0</td>\n",
       "      <td>0.0</td>\n",
       "      <td>0.0</td>\n",
       "      <td>0.0</td>\n",
       "      <td>0.0</td>\n",
       "      <td>0.0</td>\n",
       "      <td>0.0</td>\n",
       "      <td>0.0</td>\n",
       "      <td>0.0</td>\n",
       "      <td>0.0</td>\n",
       "    </tr>\n",
       "    <tr>\n",
       "      <th>3</th>\n",
       "      <td>0.0</td>\n",
       "      <td>2.0</td>\n",
       "      <td>1.0</td>\n",
       "      <td>0.0</td>\n",
       "      <td>0.0</td>\n",
       "      <td>0.0</td>\n",
       "      <td>8.0</td>\n",
       "      <td>1.0</td>\n",
       "      <td>0.0</td>\n",
       "      <td>0.0</td>\n",
       "      <td>...</td>\n",
       "      <td>0.0</td>\n",
       "      <td>0.0</td>\n",
       "      <td>0.0</td>\n",
       "      <td>0.0</td>\n",
       "      <td>0.0</td>\n",
       "      <td>0.0</td>\n",
       "      <td>0.0</td>\n",
       "      <td>0.0</td>\n",
       "      <td>0.0</td>\n",
       "      <td>1.0</td>\n",
       "    </tr>\n",
       "    <tr>\n",
       "      <th>4</th>\n",
       "      <td>0.0</td>\n",
       "      <td>0.0</td>\n",
       "      <td>1.0</td>\n",
       "      <td>0.0</td>\n",
       "      <td>0.0</td>\n",
       "      <td>0.0</td>\n",
       "      <td>9.0</td>\n",
       "      <td>1.0</td>\n",
       "      <td>0.0</td>\n",
       "      <td>0.0</td>\n",
       "      <td>...</td>\n",
       "      <td>0.0</td>\n",
       "      <td>0.0</td>\n",
       "      <td>0.0</td>\n",
       "      <td>0.0</td>\n",
       "      <td>0.0</td>\n",
       "      <td>0.0</td>\n",
       "      <td>0.0</td>\n",
       "      <td>0.0</td>\n",
       "      <td>0.0</td>\n",
       "      <td>0.0</td>\n",
       "    </tr>\n",
       "  </tbody>\n",
       "</table>\n",
       "<p>5 rows × 217 columns</p>\n",
       "</div>"
      ],
      "text/plain": [
       "   col_0  col_1  col_2  col_3  col_4  col_5  col_6  col_7  col_8  col_9  ...  \\\n",
       "0    2.0    5.0    0.0    1.0    0.0    0.0   11.0    0.0    1.0    0.0  ...   \n",
       "1    1.0    7.0    0.0    0.0    1.0    0.0    3.0    0.0    0.0    1.0  ...   \n",
       "2    5.0    9.0    0.0    0.0    1.0    0.0   12.0    1.0    0.0    0.0  ...   \n",
       "3    0.0    2.0    1.0    0.0    0.0    0.0    8.0    1.0    0.0    0.0  ...   \n",
       "4    0.0    0.0    1.0    0.0    0.0    0.0    9.0    1.0    0.0    0.0  ...   \n",
       "\n",
       "   col_207  col_208  col_209  col_210  col_211  col_212  col_213  col_214  \\\n",
       "0      0.0      0.0      0.0      0.0      0.0      0.0      0.0      0.0   \n",
       "1      0.0      0.0      0.0      0.0      0.0      0.0      0.0      0.0   \n",
       "2      0.0      0.0      0.0      0.0      0.0      0.0      0.0      0.0   \n",
       "3      0.0      0.0      0.0      0.0      0.0      0.0      0.0      0.0   \n",
       "4      0.0      0.0      0.0      0.0      0.0      0.0      0.0      0.0   \n",
       "\n",
       "   col_215  col_216  \n",
       "0      0.0      0.0  \n",
       "1      0.0      0.0  \n",
       "2      0.0      0.0  \n",
       "3      0.0      1.0  \n",
       "4      0.0      0.0  \n",
       "\n",
       "[5 rows x 217 columns]"
      ]
     },
     "execution_count": 18,
     "metadata": {},
     "output_type": "execute_result"
    }
   ],
   "source": [
    "X_df.head()"
   ]
  },
  {
   "cell_type": "code",
   "execution_count": 19,
   "metadata": {
    "tags": []
   },
   "outputs": [],
   "source": [
    "X_test_df = pd.DataFrame(data=X_test.toarray(), columns=[f'col_{i}' for i in range(217)])"
   ]
  },
  {
   "cell_type": "code",
   "execution_count": 20,
   "metadata": {
    "tags": []
   },
   "outputs": [],
   "source": [
    "train = pd.read_csv(data_path + 'train.csv.zip')\n",
    "test = pd.read_csv(data_path + 'test.csv.zip')"
   ]
  },
  {
   "cell_type": "code",
   "execution_count": 21,
   "metadata": {
    "tags": []
   },
   "outputs": [],
   "source": [
    "X_df['id'] = train['id'].values\n",
    "X_df['target'] = y\n",
    "X_test_df['id'] = test['id'].values"
   ]
  },
  {
   "cell_type": "code",
   "execution_count": 22,
   "metadata": {
    "tags": []
   },
   "outputs": [
    {
     "name": "stdout",
     "output_type": "stream",
     "text": [
      "CPU times: user 1min 31s, sys: 1.23 s, total: 1min 32s\n",
      "Wall time: 1min 33s\n"
     ]
    }
   ],
   "source": [
    "%%time\n",
    "X_df.to_csv('../input/X_df.csv.zip', index=False, compression='zip')\n",
    "X_test_df.to_csv('../input/X_test_df.csv.zip', index=False, compression='zip')"
   ]
  },
  {
   "cell_type": "code",
   "execution_count": 17,
   "metadata": {},
   "outputs": [],
   "source": [
    "def eval_gini(y_true, y_pred):\n",
    "    assert y_true.shape == y_pred.shape\n",
    "    \n",
    "    n_samples = y_true.shape[0]\n",
    "    L_mid = np.linspace(1 / n_samples, 1, n_samples)\n",
    "\n",
    "    pred_order = y_true[y_pred.argsort()]\n",
    "    L_pred = np.cumsum(pred_order) / np.sum(pred_order)\n",
    "    G_pred = np.sum(L_mid - L_pred)\n",
    "\n",
    "    true_order = y_true[y_true.argsort()]\n",
    "    L_true = np.cumsum(true_order) / np.sum(true_order)\n",
    "    G_true = np.sum(L_mid - L_true)\n",
    "    \n",
    "    return G_pred / G_true"
   ]
  },
  {
   "cell_type": "code",
   "execution_count": 18,
   "metadata": {},
   "outputs": [],
   "source": [
    "def gini(preds, dtrain):\n",
    "    labels = dtrain.get_label()\n",
    "    return 'gini', eval_gini(labels, preds)"
   ]
  },
  {
   "cell_type": "code",
   "execution_count": 20,
   "metadata": {},
   "outputs": [],
   "source": [
    "X_train, X_valid, y_train, y_valid = train_test_split(X, y,\n",
    "                                                      test_size=0.2,\n",
    "                                                      random_state=0)\n",
    "\n",
    "bayes_dtrain = xgb.DMatrix(X_train, y_train)\n",
    "bayes_dvalid = xgb.DMatrix(X_valid, y_valid)"
   ]
  },
  {
   "cell_type": "code",
   "execution_count": 21,
   "metadata": {},
   "outputs": [],
   "source": [
    "param_bounds = {'max_depth': (4,8),\n",
    "                'subsample': (0.6, 0.9),\n",
    "                'colsample_bytree': (0.7, 1.0),\n",
    "                'min_child_weight': (5, 7),\n",
    "                'gamma': (8, 11),\n",
    "                'reg_alpha': (7, 9),\n",
    "                'reg_lambda': (1.1, 1.5),\n",
    "                'scale_pos_weight': (1.4, 1.6)}\n",
    "\n",
    "\n",
    "fixed_params = {'objective' : 'binary:logistic',\n",
    "                'learning_rate': 0.02,\n",
    "                'random_state': 1993}"
   ]
  },
  {
   "cell_type": "code",
   "execution_count": 22,
   "metadata": {},
   "outputs": [],
   "source": [
    "def eval_function(max_depth, subsample, colsample_bytree, min_child_weight,\n",
    "                 reg_alpha, gamma, reg_lambda, scale_pos_weight):\n",
    "\n",
    "    params = {'max_depth': int(round(max_depth)),\n",
    "              'subsample': subsample,\n",
    "              'colsample_bytree': colsample_bytree,\n",
    "              'min_child_weight': min_child_weight,\n",
    "              'gamma': gamma,\n",
    "              'reg_alpha':reg_alpha,\n",
    "              'reg_lambda': reg_lambda,\n",
    "              'scale_pos_weight': scale_pos_weight}\n",
    "\n",
    "    params.update(fixed_params)\n",
    "    \n",
    "    print('hyperparameters :', params)    \n",
    "        \n",
    "    # XGBoost model training\n",
    "    xgb_model = xgb.train(params=params, \n",
    "                          dtrain=bayes_dtrain,\n",
    "                          num_boost_round=2000,\n",
    "                          evals=[(bayes_dvalid, 'bayes_dvalid')],\n",
    "                          maximize=True,\n",
    "                          feval=gini,\n",
    "                          early_stopping_rounds=200,\n",
    "                          verbose_eval=False)\n",
    "                           \n",
    "    best_iter = xgb_model.best_iteration # optimal number of iterations\n",
    "    # Make predictions with validation data\n",
    "    preds = xgb_model.predict(bayes_dvalid, \n",
    "                              iteration_range=(0, best_iter))\n",
    "    # Gini coefficient calculation\n",
    "    gini_score = eval_gini(y_valid, preds)\n",
    "    print(f'Gini coefficient: {gini_score}\\n')\n",
    "    \n",
    "    return gini_score\n"
   ]
  },
  {
   "cell_type": "code",
   "execution_count": 26,
   "metadata": {},
   "outputs": [
    {
     "name": "stdout",
     "output_type": "stream",
     "text": [
      "|   iter    |  target   | colsam... |   gamma   | max_depth | min_ch... | reg_alpha | reg_la... | scale_... | subsample |\n",
      "-------------------------------------------------------------------------------------------------------------------------\n",
      "hyperparameters : {'max_depth': 6, 'subsample': 0.867531900234624, 'colsample_bytree': 0.8646440511781974, 'min_child_weight': 6.0897663659937935, 'gamma': 10.14556809911726, 'reg_alpha': 7.84730959867781, 'reg_lambda': 1.3583576452266626, 'scale_pos_weight': 1.4875174422525386, 'objective': 'binary:logistic', 'learning_rate': 0.02, 'random_state': 1993}\n"
     ]
    },
    {
     "name": "stderr",
     "output_type": "stream",
     "text": [
      "/home/tunguz/anaconda3/lib/python3.7/site-packages/xgboost/training.py:36: UserWarning: `feval` is deprecated, use `custom_metric` instead.  They have different behavior when custom objective is also used.See https://xgboost.readthedocs.io/en/latest/tutorials/custom_metric_obj.html for details on the `custom_metric`.\n",
      "  \"`feval` is deprecated, use `custom_metric` instead.  They have \"\n"
     ]
    },
    {
     "name": "stdout",
     "output_type": "stream",
     "text": [
      "Gini coefficient: 0.2843266714091541\n",
      "\n",
      "| \u001b[0m1        \u001b[0m | \u001b[0m0.2843   \u001b[0m | \u001b[0m0.8646   \u001b[0m | \u001b[0m10.15    \u001b[0m | \u001b[0m6.411    \u001b[0m | \u001b[0m6.09     \u001b[0m | \u001b[0m7.847    \u001b[0m | \u001b[0m1.358    \u001b[0m | \u001b[0m1.488    \u001b[0m | \u001b[0m0.8675   \u001b[0m |\n",
      "hyperparameters : {'max_depth': 7, 'subsample': 0.6261387899104622, 'colsample_bytree': 0.9890988281503088, 'min_child_weight': 6.0577898395058085, 'gamma': 9.150324556477333, 'reg_alpha': 8.136089122187865, 'reg_lambda': 1.4702386553170643, 'scale_pos_weight': 1.4142072116395774, 'objective': 'binary:logistic', 'learning_rate': 0.02, 'random_state': 1993}\n",
      "Gini coefficient: 0.285284877538136\n",
      "\n",
      "| \u001b[95m2        \u001b[0m | \u001b[95m0.2853   \u001b[0m | \u001b[95m0.9891   \u001b[0m | \u001b[95m9.15     \u001b[0m | \u001b[95m7.167    \u001b[0m | \u001b[95m6.058    \u001b[0m | \u001b[95m8.136    \u001b[0m | \u001b[95m1.47     \u001b[0m | \u001b[95m1.414    \u001b[0m | \u001b[95m0.6261   \u001b[0m |\n",
      "hyperparameters : {'max_depth': 7, 'subsample': 0.8341587528859367, 'colsample_bytree': 0.7060655192320977, 'min_child_weight': 6.7400242964936385, 'gamma': 10.497859536643814, 'reg_alpha': 8.957236684465528, 'reg_lambda': 1.4196634256866894, 'scale_pos_weight': 1.4922958724505864, 'objective': 'binary:logistic', 'learning_rate': 0.02, 'random_state': 1993}\n",
      "Gini coefficient: 0.28493820011421866\n",
      "\n",
      "| \u001b[0m3        \u001b[0m | \u001b[0m0.2849   \u001b[0m | \u001b[0m0.7061   \u001b[0m | \u001b[0m10.5     \u001b[0m | \u001b[0m7.113    \u001b[0m | \u001b[0m6.74     \u001b[0m | \u001b[0m8.957    \u001b[0m | \u001b[0m1.42     \u001b[0m | \u001b[0m1.492    \u001b[0m | \u001b[0m0.8342   \u001b[0m |\n",
      "hyperparameters : {'max_depth': 7, 'subsample': 0.7001630536555632, 'colsample_bytree': 0.8843124587484356, 'min_child_weight': 6.494091293383359, 'gamma': 10.452246227672624, 'reg_alpha': 8.551838810159788, 'reg_lambda': 1.3814765995549108, 'scale_pos_weight': 1.423280772455086, 'objective': 'binary:logistic', 'learning_rate': 0.02, 'random_state': 1993}\n"
     ]
    },
    {
     "name": "stderr",
     "output_type": "stream",
     "text": [
      "/home/tunguz/anaconda3/lib/python3.7/site-packages/xgboost/training.py:36: UserWarning: `feval` is deprecated, use `custom_metric` instead.  They have different behavior when custom objective is also used.See https://xgboost.readthedocs.io/en/latest/tutorials/custom_metric_obj.html for details on the `custom_metric`.\n",
      "  \"`feval` is deprecated, use `custom_metric` instead.  They have \"\n"
     ]
    },
    {
     "name": "stdout",
     "output_type": "stream",
     "text": [
      "Gini coefficient: 0.2847011121408526\n",
      "\n",
      "| \u001b[0m4        \u001b[0m | \u001b[0m0.2847   \u001b[0m | \u001b[0m0.8843   \u001b[0m | \u001b[0m10.45    \u001b[0m | \u001b[0m6.838    \u001b[0m | \u001b[0m6.494    \u001b[0m | \u001b[0m8.552    \u001b[0m | \u001b[0m1.381    \u001b[0m | \u001b[0m1.423    \u001b[0m | \u001b[0m0.7002   \u001b[0m |\n",
      "hyperparameters : {'max_depth': 7, 'subsample': 0.8535233675350644, 'colsample_bytree': 0.92975858050776, 'min_child_weight': 6.249564429359247, 'gamma': 9.95563546750357, 'reg_alpha': 8.411512219837842, 'reg_lambda': 1.424460008293778, 'scale_pos_weight': 1.5416807226581535, 'objective': 'binary:logistic', 'learning_rate': 0.02, 'random_state': 1993}\n"
     ]
    },
    {
     "name": "stderr",
     "output_type": "stream",
     "text": [
      "/home/tunguz/anaconda3/lib/python3.7/site-packages/xgboost/training.py:36: UserWarning: `feval` is deprecated, use `custom_metric` instead.  They have different behavior when custom objective is also used.See https://xgboost.readthedocs.io/en/latest/tutorials/custom_metric_obj.html for details on the `custom_metric`.\n",
      "  \"`feval` is deprecated, use `custom_metric` instead.  They have \"\n"
     ]
    },
    {
     "name": "stdout",
     "output_type": "stream",
     "text": [
      "Gini coefficient: 0.28590750590528313\n",
      "\n",
      "| \u001b[95m5        \u001b[0m | \u001b[95m0.2859   \u001b[0m | \u001b[95m0.9298   \u001b[0m | \u001b[95m9.956    \u001b[0m | \u001b[95m6.809    \u001b[0m | \u001b[95m6.25     \u001b[0m | \u001b[95m8.412    \u001b[0m | \u001b[95m1.424    \u001b[0m | \u001b[95m1.542    \u001b[0m | \u001b[95m0.8535   \u001b[0m |\n",
      "hyperparameters : {'max_depth': 7, 'subsample': 0.6462619019069298, 'colsample_bytree': 0.80929192865947, 'min_child_weight': 6.079999276892042, 'gamma': 9.553916776586505, 'reg_alpha': 8.860396362258099, 'reg_lambda': 1.4050740023119348, 'scale_pos_weight': 1.4668544695338273, 'objective': 'binary:logistic', 'learning_rate': 0.02, 'random_state': 1993}\n"
     ]
    },
    {
     "name": "stderr",
     "output_type": "stream",
     "text": [
      "/home/tunguz/anaconda3/lib/python3.7/site-packages/xgboost/training.py:36: UserWarning: `feval` is deprecated, use `custom_metric` instead.  They have different behavior when custom objective is also used.See https://xgboost.readthedocs.io/en/latest/tutorials/custom_metric_obj.html for details on the `custom_metric`.\n",
      "  \"`feval` is deprecated, use `custom_metric` instead.  They have \"\n"
     ]
    },
    {
     "name": "stdout",
     "output_type": "stream",
     "text": [
      "Gini coefficient: 0.2848466046513788\n",
      "\n",
      "| \u001b[0m6        \u001b[0m | \u001b[0m0.2848   \u001b[0m | \u001b[0m0.8093   \u001b[0m | \u001b[0m9.554    \u001b[0m | \u001b[0m6.532    \u001b[0m | \u001b[0m6.08     \u001b[0m | \u001b[0m8.86     \u001b[0m | \u001b[0m1.405    \u001b[0m | \u001b[0m1.467    \u001b[0m | \u001b[0m0.6463   \u001b[0m |\n",
      "hyperparameters : {'max_depth': 7, 'subsample': 0.6931141936797243, 'colsample_bytree': 0.8817801730078565, 'min_child_weight': 6.992334203641873, 'gamma': 9.013424730095146, 'reg_alpha': 7.640858389939128, 'reg_lambda': 1.3562805915715632, 'scale_pos_weight': 1.449446257931491, 'objective': 'binary:logistic', 'learning_rate': 0.02, 'random_state': 1993}\n"
     ]
    },
    {
     "name": "stderr",
     "output_type": "stream",
     "text": [
      "/home/tunguz/anaconda3/lib/python3.7/site-packages/xgboost/training.py:36: UserWarning: `feval` is deprecated, use `custom_metric` instead.  They have different behavior when custom objective is also used.See https://xgboost.readthedocs.io/en/latest/tutorials/custom_metric_obj.html for details on the `custom_metric`.\n",
      "  \"`feval` is deprecated, use `custom_metric` instead.  They have \"\n"
     ]
    },
    {
     "name": "stdout",
     "output_type": "stream",
     "text": [
      "Gini coefficient: 0.28393186714439617\n",
      "\n",
      "| \u001b[0m7        \u001b[0m | \u001b[0m0.2839   \u001b[0m | \u001b[0m0.8818   \u001b[0m | \u001b[0m9.013    \u001b[0m | \u001b[0m6.927    \u001b[0m | \u001b[0m6.992    \u001b[0m | \u001b[0m7.641    \u001b[0m | \u001b[0m1.356    \u001b[0m | \u001b[0m1.449    \u001b[0m | \u001b[0m0.6931   \u001b[0m |\n",
      "hyperparameters : {'max_depth': 5, 'subsample': 0.6261564417044092, 'colsample_bytree': 0.8763145220620449, 'min_child_weight': 5.135323353557588, 'gamma': 8.39495450163982, 'reg_alpha': 8.950443047087845, 'reg_lambda': 1.4235649099168255, 'scale_pos_weight': 1.5217625173811569, 'objective': 'binary:logistic', 'learning_rate': 0.02, 'random_state': 1993}\n"
     ]
    },
    {
     "name": "stderr",
     "output_type": "stream",
     "text": [
      "/home/tunguz/anaconda3/lib/python3.7/site-packages/xgboost/training.py:36: UserWarning: `feval` is deprecated, use `custom_metric` instead.  They have different behavior when custom objective is also used.See https://xgboost.readthedocs.io/en/latest/tutorials/custom_metric_obj.html for details on the `custom_metric`.\n",
      "  \"`feval` is deprecated, use `custom_metric` instead.  They have \"\n"
     ]
    },
    {
     "name": "stdout",
     "output_type": "stream",
     "text": [
      "Gini coefficient: 0.28425473589423617\n",
      "\n",
      "| \u001b[0m8        \u001b[0m | \u001b[0m0.2843   \u001b[0m | \u001b[0m0.8763   \u001b[0m | \u001b[0m8.395    \u001b[0m | \u001b[0m4.561    \u001b[0m | \u001b[0m5.135    \u001b[0m | \u001b[0m8.95     \u001b[0m | \u001b[0m1.424    \u001b[0m | \u001b[0m1.522    \u001b[0m | \u001b[0m0.6262   \u001b[0m |\n",
      "hyperparameters : {'max_depth': 6, 'subsample': 0.857971740304964, 'colsample_bytree': 0.9583821245229369, 'min_child_weight': 6.158305055403563, 'gamma': 9.305332775334449, 'reg_alpha': 8.200928434091152, 'reg_lambda': 1.2571039588093065, 'scale_pos_weight': 1.4700266933495618, 'objective': 'binary:logistic', 'learning_rate': 0.02, 'random_state': 1993}\n"
     ]
    },
    {
     "name": "stderr",
     "output_type": "stream",
     "text": [
      "/home/tunguz/anaconda3/lib/python3.7/site-packages/xgboost/training.py:36: UserWarning: `feval` is deprecated, use `custom_metric` instead.  They have different behavior when custom objective is also used.See https://xgboost.readthedocs.io/en/latest/tutorials/custom_metric_obj.html for details on the `custom_metric`.\n",
      "  \"`feval` is deprecated, use `custom_metric` instead.  They have \"\n"
     ]
    },
    {
     "name": "stdout",
     "output_type": "stream",
     "text": [
      "Gini coefficient: 0.28402311485826004\n",
      "\n",
      "| \u001b[0m9        \u001b[0m | \u001b[0m0.284    \u001b[0m | \u001b[0m0.9584   \u001b[0m | \u001b[0m9.305    \u001b[0m | \u001b[0m5.594    \u001b[0m | \u001b[0m6.158    \u001b[0m | \u001b[0m8.201    \u001b[0m | \u001b[0m1.257    \u001b[0m | \u001b[0m1.47     \u001b[0m | \u001b[0m0.858    \u001b[0m |\n",
      "=========================================================================================================================\n",
      "CPU times: user 18h 41min 39s, sys: 1min 42s, total: 18h 43min 22s\n",
      "Wall time: 45min 17s\n"
     ]
    }
   ],
   "source": [
    "%%time\n",
    "optimizer = BayesianOptimization(f=eval_function, \n",
    "                                 pbounds=param_bounds, \n",
    "                                 random_state=0)\n",
    "\n",
    "\n",
    "optimizer.maximize(init_points=3, n_iter=6)"
   ]
  },
  {
   "cell_type": "code",
   "execution_count": 27,
   "metadata": {},
   "outputs": [
    {
     "data": {
      "text/plain": [
       "{'colsample_bytree': 0.92975858050776,\n",
       " 'gamma': 9.95563546750357,\n",
       " 'max_depth': 6.809274695878221,\n",
       " 'min_child_weight': 6.249564429359247,\n",
       " 'reg_alpha': 8.411512219837842,\n",
       " 'reg_lambda': 1.424460008293778,\n",
       " 'scale_pos_weight': 1.5416807226581535,\n",
       " 'subsample': 0.8535233675350644}"
      ]
     },
     "execution_count": 27,
     "metadata": {},
     "output_type": "execute_result"
    }
   ],
   "source": [
    "max_params = optimizer.max['params']\n",
    "max_params"
   ]
  },
  {
   "cell_type": "code",
   "execution_count": 28,
   "metadata": {},
   "outputs": [
    {
     "data": {
      "text/plain": [
       "{'colsample_bytree': 0.92975858050776,\n",
       " 'gamma': 9.95563546750357,\n",
       " 'max_depth': 7,\n",
       " 'min_child_weight': 6.249564429359247,\n",
       " 'reg_alpha': 8.411512219837842,\n",
       " 'reg_lambda': 1.424460008293778,\n",
       " 'scale_pos_weight': 1.5416807226581535,\n",
       " 'subsample': 0.8535233675350644,\n",
       " 'objective': 'binary:logistic',\n",
       " 'learning_rate': 0.02,\n",
       " 'random_state': 1993}"
      ]
     },
     "execution_count": 28,
     "metadata": {},
     "output_type": "execute_result"
    }
   ],
   "source": [
    "max_params['max_depth'] = int(round(max_params['max_depth']))\n",
    "\n",
    "max_params.update(fixed_params)\n",
    "max_params"
   ]
  },
  {
   "cell_type": "code",
   "execution_count": 30,
   "metadata": {},
   "outputs": [
    {
     "name": "stdout",
     "output_type": "stream",
     "text": [
      "######################################## Fold 1 / 5 ########################################\n"
     ]
    },
    {
     "name": "stderr",
     "output_type": "stream",
     "text": [
      "/home/tunguz/anaconda3/lib/python3.7/site-packages/xgboost/training.py:36: UserWarning: `feval` is deprecated, use `custom_metric` instead.  They have different behavior when custom objective is also used.See https://xgboost.readthedocs.io/en/latest/tutorials/custom_metric_obj.html for details on the `custom_metric`.\n",
      "  \"`feval` is deprecated, use `custom_metric` instead.  They have \"\n"
     ]
    },
    {
     "name": "stdout",
     "output_type": "stream",
     "text": [
      "[0]\tvalid-logloss:0.67679\tvalid-gini:0.16865\n",
      "[100]\tvalid-logloss:0.19336\tvalid-gini:0.25238\n",
      "[200]\tvalid-logloss:0.15937\tvalid-gini:0.27855\n",
      "[300]\tvalid-logloss:0.15591\tvalid-gini:0.28806\n",
      "[400]\tvalid-logloss:0.15535\tvalid-gini:0.29258\n",
      "[500]\tvalid-logloss:0.15520\tvalid-gini:0.29464\n",
      "[600]\tvalid-logloss:0.15516\tvalid-gini:0.29566\n",
      "[700]\tvalid-logloss:0.15514\tvalid-gini:0.29632\n",
      "[800]\tvalid-logloss:0.15511\tvalid-gini:0.29716\n",
      "[900]\tvalid-logloss:0.15508\tvalid-gini:0.29754\n",
      "[1000]\tvalid-logloss:0.15508\tvalid-gini:0.29777\n",
      "[1100]\tvalid-logloss:0.15506\tvalid-gini:0.29802\n",
      "[1200]\tvalid-logloss:0.15507\tvalid-gini:0.29804\n",
      "[1300]\tvalid-logloss:0.15506\tvalid-gini:0.29825\n",
      "[1400]\tvalid-logloss:0.15505\tvalid-gini:0.29845\n",
      "[1500]\tvalid-logloss:0.15504\tvalid-gini:0.29873\n",
      "[1600]\tvalid-logloss:0.15504\tvalid-gini:0.29862\n",
      "[1700]\tvalid-logloss:0.15505\tvalid-gini:0.29853\n",
      "[1729]\tvalid-logloss:0.15504\tvalid-gini:0.29861\n",
      "Fold 1 gini score : 0.29891428553793187\n",
      "\n",
      "######################################## Fold 2 / 5 ########################################\n",
      "[0]\tvalid-logloss:0.67678\tvalid-gini:0.16701\n",
      "[100]\tvalid-logloss:0.19345\tvalid-gini:0.24004\n",
      "[200]\tvalid-logloss:0.15961\tvalid-gini:0.26583\n",
      "[300]\tvalid-logloss:0.15628\tvalid-gini:0.27404\n",
      "[400]\tvalid-logloss:0.15576\tvalid-gini:0.27824\n",
      "[500]\tvalid-logloss:0.15562\tvalid-gini:0.28083\n",
      "[600]\tvalid-logloss:0.15556\tvalid-gini:0.28236\n",
      "[700]\tvalid-logloss:0.15554\tvalid-gini:0.28316\n",
      "[800]\tvalid-logloss:0.15552\tvalid-gini:0.28387\n",
      "[900]\tvalid-logloss:0.15551\tvalid-gini:0.28418\n",
      "[1000]\tvalid-logloss:0.15550\tvalid-gini:0.28444\n",
      "[1100]\tvalid-logloss:0.15549\tvalid-gini:0.28457\n",
      "[1200]\tvalid-logloss:0.15547\tvalid-gini:0.28480\n",
      "[1300]\tvalid-logloss:0.15547\tvalid-gini:0.28496\n",
      "[1400]\tvalid-logloss:0.15548\tvalid-gini:0.28479\n",
      "[1500]\tvalid-logloss:0.15548\tvalid-gini:0.28463\n",
      "[1520]\tvalid-logloss:0.15548\tvalid-gini:0.28479\n",
      "Fold 2 gini score : 0.285044635344021\n",
      "\n",
      "######################################## Fold 3 / 5 ########################################\n",
      "[0]\tvalid-logloss:0.67679\tvalid-gini:0.18147\n",
      "[100]\tvalid-logloss:0.19334\tvalid-gini:0.24946\n",
      "[200]\tvalid-logloss:0.15927\tvalid-gini:0.27505\n",
      "[300]\tvalid-logloss:0.15585\tvalid-gini:0.28170\n",
      "[400]\tvalid-logloss:0.15538\tvalid-gini:0.28406\n",
      "[500]\tvalid-logloss:0.15530\tvalid-gini:0.28449\n",
      "[600]\tvalid-logloss:0.15527\tvalid-gini:0.28530\n",
      "[700]\tvalid-logloss:0.15525\tvalid-gini:0.28552\n",
      "[800]\tvalid-logloss:0.15524\tvalid-gini:0.28563\n",
      "[900]\tvalid-logloss:0.15523\tvalid-gini:0.28574\n",
      "[1000]\tvalid-logloss:0.15525\tvalid-gini:0.28545\n",
      "[1088]\tvalid-logloss:0.15526\tvalid-gini:0.28536\n",
      "Fold 3 gini score : 0.28576624687346486\n",
      "\n",
      "######################################## Fold 4 / 5 ########################################\n",
      "[0]\tvalid-logloss:0.67678\tvalid-gini:0.17708\n",
      "[100]\tvalid-logloss:0.19329\tvalid-gini:0.24185\n",
      "[200]\tvalid-logloss:0.15943\tvalid-gini:0.26582\n",
      "[300]\tvalid-logloss:0.15609\tvalid-gini:0.27320\n",
      "[400]\tvalid-logloss:0.15559\tvalid-gini:0.27621\n",
      "[500]\tvalid-logloss:0.15549\tvalid-gini:0.27736\n",
      "[600]\tvalid-logloss:0.15546\tvalid-gini:0.27807\n",
      "[700]\tvalid-logloss:0.15544\tvalid-gini:0.27888\n",
      "[800]\tvalid-logloss:0.15540\tvalid-gini:0.27947\n",
      "[900]\tvalid-logloss:0.15541\tvalid-gini:0.27958\n",
      "[1000]\tvalid-logloss:0.15542\tvalid-gini:0.27955\n",
      "[1060]\tvalid-logloss:0.15541\tvalid-gini:0.27965\n",
      "Fold 4 gini score : 0.2797816585008003\n",
      "\n",
      "######################################## Fold 5 / 5 ########################################\n",
      "[0]\tvalid-logloss:0.67680\tvalid-gini:0.17125\n",
      "[100]\tvalid-logloss:0.19336\tvalid-gini:0.24990\n",
      "[200]\tvalid-logloss:0.15954\tvalid-gini:0.27536\n",
      "[300]\tvalid-logloss:0.15613\tvalid-gini:0.28515\n",
      "[400]\tvalid-logloss:0.15559\tvalid-gini:0.28936\n",
      "[500]\tvalid-logloss:0.15544\tvalid-gini:0.29180\n",
      "[600]\tvalid-logloss:0.15540\tvalid-gini:0.29311\n",
      "[700]\tvalid-logloss:0.15535\tvalid-gini:0.29405\n",
      "[800]\tvalid-logloss:0.15535\tvalid-gini:0.29430\n",
      "[900]\tvalid-logloss:0.15533\tvalid-gini:0.29484\n",
      "[1000]\tvalid-logloss:0.15530\tvalid-gini:0.29507\n",
      "[1100]\tvalid-logloss:0.15530\tvalid-gini:0.29544\n",
      "[1200]\tvalid-logloss:0.15528\tvalid-gini:0.29583\n",
      "[1300]\tvalid-logloss:0.15527\tvalid-gini:0.29597\n",
      "[1400]\tvalid-logloss:0.15526\tvalid-gini:0.29616\n",
      "[1500]\tvalid-logloss:0.15527\tvalid-gini:0.29585\n",
      "[1600]\tvalid-logloss:0.15526\tvalid-gini:0.29591\n",
      "Fold 5 gini score : 0.29613636260844595\n",
      "\n",
      "CPU times: user 9h 14min 56s, sys: 44.8 s, total: 9h 15min 41s\n",
      "Wall time: 21min 42s\n"
     ]
    }
   ],
   "source": [
    "%%time\n",
    "\n",
    "folds = StratifiedKFold(n_splits=5, shuffle=True, random_state=1991)\n",
    "\n",
    "\n",
    "oof_val_preds = np.zeros(X.shape[0]) \n",
    "oof_test_preds = np.zeros(X_test.shape[0]) \n",
    "dtest = xgb.DMatrix(X_test)\n",
    "\n",
    "for idx, (train_idx, valid_idx) in enumerate(folds.split(X, y)):\n",
    "\n",
    "    print('#'*40, f'Fold {idx+1} / {folds.n_splits}', '#'*40)\n",
    "    \n",
    "    X_train, y_train = X[train_idx], y[train_idx]\n",
    "    X_valid, y_valid = X[valid_idx], y[valid_idx]\n",
    "\n",
    "\n",
    "    dtrain = xgb.DMatrix(X_train, y_train)\n",
    "    dvalid = xgb.DMatrix(X_valid, y_valid)\n",
    "   \n",
    "\n",
    "    xgb_model = xgb.train(params=max_params, \n",
    "                          dtrain=dtrain,\n",
    "                          num_boost_round=2000,\n",
    "                          evals=[(dvalid, 'valid')],\n",
    "                          maximize=True,\n",
    "                          feval=gini,\n",
    "                          early_stopping_rounds=200,\n",
    "                          verbose_eval=100)\n",
    "\n",
    "    best_iter = xgb_model.best_iteration\n",
    "    oof_test_preds += xgb_model.predict(dtest,\n",
    "                                        iteration_range=(0, best_iter))/folds.n_splits\n",
    "    \n",
    "    oof_val_preds[valid_idx] += xgb_model.predict(dvalid, \n",
    "                                                  iteration_range=(0, best_iter))\n",
    "    \n",
    "    gini_score = eval_gini(y_valid, oof_val_preds[valid_idx])\n",
    "    print(f'Fold {idx+1} gini score : {gini_score}\\n')"
   ]
  },
  {
   "cell_type": "code",
   "execution_count": 31,
   "metadata": {},
   "outputs": [
    {
     "name": "stdout",
     "output_type": "stream",
     "text": [
      "OOF Verification data Gini coefficient: 0.2890816019139725\n"
     ]
    }
   ],
   "source": [
    "print('OOF Verification data Gini coefficient:', eval_gini(y, oof_val_preds))\n"
   ]
  },
  {
   "cell_type": "code",
   "execution_count": 32,
   "metadata": {},
   "outputs": [],
   "source": [
    "submission['target'] = oof_test_preds\n",
    "submission.to_csv('../submissions/submission_best_kaggle_xgb.csv')"
   ]
  },
  {
   "cell_type": "markdown",
   "metadata": {},
   "source": [
    "0.28504 public, 0.29064 private"
   ]
  }
 ],
 "metadata": {
  "kernelspec": {
   "display_name": "Python 3",
   "language": "python",
   "name": "python3"
  },
  "language_info": {
   "codemirror_mode": {
    "name": "ipython",
    "version": 3
   },
   "file_extension": ".py",
   "mimetype": "text/x-python",
   "name": "python",
   "nbconvert_exporter": "python",
   "pygments_lexer": "ipython3",
   "version": "3.7.11"
  }
 },
 "nbformat": 4,
 "nbformat_minor": 4
}
