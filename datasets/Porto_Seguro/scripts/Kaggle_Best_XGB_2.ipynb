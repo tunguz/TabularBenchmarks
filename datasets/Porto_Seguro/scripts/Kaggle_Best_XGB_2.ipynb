{
 "cells": [
  {
   "cell_type": "markdown",
   "metadata": {},
   "source": [
    "All code is from the following Kaggle notebook: https://www.kaggle.com/code/cocoyachi/safedriver-xgboost-musthave-ch08"
   ]
  },
  {
   "cell_type": "code",
   "execution_count": 1,
   "metadata": {},
   "outputs": [],
   "source": [
    "import pandas as pd\n",
    "from sklearn.preprocessing import OneHotEncoder\n",
    "import numpy as np\n",
    "import xgboost as xgb\n",
    "from sklearn.model_selection import train_test_split\n",
    "from sklearn.model_selection import StratifiedKFold\n",
    "from scipy.sparse import save_npz\n",
    "from bayes_opt import BayesianOptimization"
   ]
  },
  {
   "cell_type": "code",
   "execution_count": 2,
   "metadata": {},
   "outputs": [],
   "source": [
    "data_path = '../input/'\n",
    "\n",
    "train = pd.read_csv(data_path + 'train.csv.zip', index_col='id')\n",
    "test = pd.read_csv(data_path + 'test.csv.zip', index_col='id')\n",
    "submission = pd.read_csv(data_path + 'sample_submission.csv.zip', index_col='id')"
   ]
  },
  {
   "cell_type": "code",
   "execution_count": 3,
   "metadata": {},
   "outputs": [],
   "source": [
    "all_data = pd.concat([train, test], ignore_index=True)\n",
    "all_data = all_data.drop('target', axis=1) \n",
    "\n",
    "all_features = all_data.columns"
   ]
  },
  {
   "cell_type": "code",
   "execution_count": 4,
   "metadata": {},
   "outputs": [],
   "source": [
    "cat_features = [feature for feature in all_features if 'cat' in feature]\n",
    "\n",
    "onehot_encoder = OneHotEncoder()\n",
    "encoded_cat_matrix = onehot_encoder.fit_transform(all_data[cat_features])"
   ]
  },
  {
   "cell_type": "code",
   "execution_count": 5,
   "metadata": {},
   "outputs": [],
   "source": [
    "all_data['num_missing'] = (all_data==-1).sum(axis=1)"
   ]
  },
  {
   "cell_type": "code",
   "execution_count": 6,
   "metadata": {},
   "outputs": [],
   "source": [
    "remaining_features = [feature for feature in all_features\n",
    "                      if ('cat' not in feature and 'calc' not in feature)]\n",
    "\n",
    "remaining_features.append('num_missing')"
   ]
  },
  {
   "cell_type": "code",
   "execution_count": 7,
   "metadata": {},
   "outputs": [],
   "source": [
    "ind_features = [feature for feature in all_features if 'ind' in feature]\n",
    "\n",
    "is_first_feature = True\n",
    "for ind_feature in ind_features:\n",
    "    if is_first_feature:\n",
    "        all_data['mix_ind'] = all_data[ind_feature].astype(str) + '_'\n",
    "        is_first_feature = False\n",
    "    else:\n",
    "        all_data['mix_ind'] += all_data[ind_feature].astype(str) + '_'"
   ]
  },
  {
   "cell_type": "code",
   "execution_count": 8,
   "metadata": {},
   "outputs": [
    {
     "data": {
      "text/plain": [
       "0          2_2_5_1_0_0_1_0_0_0_0_0_0_0_11_0_1_0_\n",
       "1           1_1_7_0_0_0_0_1_0_0_0_0_0_0_3_0_0_1_\n",
       "2          5_4_9_1_0_0_0_1_0_0_0_0_0_0_12_1_0_0_\n",
       "3           0_1_2_0_0_1_0_0_0_0_0_0_0_0_8_1_0_0_\n",
       "4           0_2_0_1_0_1_0_0_0_0_0_0_0_0_9_1_0_0_\n",
       "                           ...                  \n",
       "1488023     0_1_6_0_0_0_1_0_0_0_0_0_0_0_2_0_0_1_\n",
       "1488024    5_3_5_1_0_0_0_1_0_0_0_0_0_0_11_1_0_0_\n",
       "1488025     0_1_5_0_0_1_0_0_0_0_0_0_0_0_5_0_0_1_\n",
       "1488026    6_1_5_1_0_0_0_0_1_0_0_0_0_0_13_1_0_0_\n",
       "1488027    7_1_4_1_0_0_0_0_1_0_0_0_0_0_12_1_0_0_\n",
       "Name: mix_ind, Length: 1488028, dtype: object"
      ]
     },
     "execution_count": 8,
     "metadata": {},
     "output_type": "execute_result"
    }
   ],
   "source": [
    "all_data['mix_ind']"
   ]
  },
  {
   "cell_type": "code",
   "execution_count": 9,
   "metadata": {},
   "outputs": [],
   "source": [
    "cat_count_features = []\n",
    "for feature in cat_features+['mix_ind']:\n",
    "    val_counts_dict = all_data[feature].value_counts().to_dict()\n",
    "    all_data[f'{feature}_count'] = all_data[feature].apply(lambda x:\n",
    "                                                           val_counts_dict[x])\n",
    "    cat_count_features.append(f'{feature}_count')"
   ]
  },
  {
   "cell_type": "code",
   "execution_count": 10,
   "metadata": {},
   "outputs": [],
   "source": [
    "from scipy import sparse\n",
    "\n",
    "drop_features = ['ps_ind_14', 'ps_ind_10_bin', 'ps_ind_11_bin',\n",
    "                 'ps_ind_12_bin', 'ps_ind_13_bin', 'ps_car_14']\n",
    "\n",
    "all_data_remaining = all_data[remaining_features+cat_count_features].drop(drop_features, axis=1)\n",
    "\n",
    "all_data_sprs = sparse.hstack([sparse.csr_matrix(all_data_remaining),\n",
    "                               encoded_cat_matrix],\n",
    "                              format='csr')"
   ]
  },
  {
   "cell_type": "code",
   "execution_count": 11,
   "metadata": {},
   "outputs": [],
   "source": [
    "num_train = len(train) \n",
    "\n",
    "\n",
    "X = all_data_sprs[:num_train]\n",
    "X_test = all_data_sprs[num_train:]\n",
    "\n",
    "y = train['target'].values"
   ]
  },
  {
   "cell_type": "code",
   "execution_count": 12,
   "metadata": {},
   "outputs": [
    {
     "data": {
      "text/plain": [
       "(595212, 217)"
      ]
     },
     "execution_count": 12,
     "metadata": {},
     "output_type": "execute_result"
    }
   ],
   "source": [
    "X.shape"
   ]
  },
  {
   "cell_type": "code",
   "execution_count": 13,
   "metadata": {},
   "outputs": [],
   "source": [
    "def eval_gini(y_true, y_pred):\n",
    "    assert y_true.shape == y_pred.shape\n",
    "    \n",
    "    n_samples = y_true.shape[0]\n",
    "    L_mid = np.linspace(1 / n_samples, 1, n_samples)\n",
    "\n",
    "    pred_order = y_true[y_pred.argsort()]\n",
    "    L_pred = np.cumsum(pred_order) / np.sum(pred_order)\n",
    "    G_pred = np.sum(L_mid - L_pred)\n",
    "\n",
    "    true_order = y_true[y_true.argsort()]\n",
    "    L_true = np.cumsum(true_order) / np.sum(true_order)\n",
    "    G_true = np.sum(L_mid - L_true)\n",
    "    \n",
    "    return G_pred / G_true"
   ]
  },
  {
   "cell_type": "code",
   "execution_count": 14,
   "metadata": {},
   "outputs": [],
   "source": [
    "def gini(preds, dtrain):\n",
    "    labels = dtrain.get_label()\n",
    "    return 'gini', eval_gini(labels, preds)"
   ]
  },
  {
   "cell_type": "code",
   "execution_count": 15,
   "metadata": {},
   "outputs": [],
   "source": [
    "X_train, X_valid, y_train, y_valid = train_test_split(X, y,\n",
    "                                                      test_size=0.2,\n",
    "                                                      random_state=0)\n",
    "\n",
    "bayes_dtrain = xgb.DMatrix(X_train, y_train)\n",
    "bayes_dvalid = xgb.DMatrix(X_valid, y_valid)"
   ]
  },
  {
   "cell_type": "code",
   "execution_count": 16,
   "metadata": {},
   "outputs": [],
   "source": [
    "param_bounds = {'max_depth': (4,12),\n",
    "                'subsample': (0.6, 1.0),\n",
    "                'colsample_bytree': (0.5, 1.0),\n",
    "                'min_child_weight': (5, 20),\n",
    "                'gamma': (3, 11),\n",
    "                'reg_alpha': (0, 9),\n",
    "                'reg_lambda': (0.1, 1.5),\n",
    "                'scale_pos_weight': (1.0, 2.0)}\n",
    "\n",
    "\n",
    "fixed_params = {'objective' : 'binary:logistic',\n",
    "                'learning_rate': 0.02,\n",
    "                'random_state': 1993}"
   ]
  },
  {
   "cell_type": "code",
   "execution_count": 17,
   "metadata": {},
   "outputs": [],
   "source": [
    "def eval_function(max_depth, subsample, colsample_bytree, min_child_weight,\n",
    "                 reg_alpha, gamma, reg_lambda, scale_pos_weight):\n",
    "\n",
    "    params = {'max_depth': int(round(max_depth)),\n",
    "              'subsample': subsample,\n",
    "              'colsample_bytree': colsample_bytree,\n",
    "              'min_child_weight': min_child_weight,\n",
    "              'gamma': gamma,\n",
    "              'reg_alpha':reg_alpha,\n",
    "              'reg_lambda': reg_lambda,\n",
    "              'scale_pos_weight': scale_pos_weight}\n",
    "\n",
    "    params.update(fixed_params)\n",
    "    \n",
    "    print('hyperparameters :', params)    \n",
    "        \n",
    "    # XGBoost model training\n",
    "    xgb_model = xgb.train(params=params, \n",
    "                          dtrain=bayes_dtrain,\n",
    "                          num_boost_round=2000,\n",
    "                          evals=[(bayes_dvalid, 'bayes_dvalid')],\n",
    "                          maximize=True,\n",
    "                          feval=gini,\n",
    "                          early_stopping_rounds=200,\n",
    "                          verbose_eval=False)\n",
    "                           \n",
    "    best_iter = xgb_model.best_iteration # optimal number of iterations\n",
    "    # Make predictions with validation data\n",
    "    preds = xgb_model.predict(bayes_dvalid, \n",
    "                              iteration_range=(0, best_iter))\n",
    "    # Gini coefficient calculation\n",
    "    gini_score = eval_gini(y_valid, preds)\n",
    "    print(f'Gini coefficient: {gini_score}\\n')\n",
    "    \n",
    "    return gini_score\n"
   ]
  },
  {
   "cell_type": "code",
   "execution_count": 18,
   "metadata": {},
   "outputs": [
    {
     "name": "stdout",
     "output_type": "stream",
     "text": [
      "|   iter    |  target   | colsam... |   gamma   | max_depth | min_ch... | reg_alpha | reg_la... | scale_... | subsample |\n",
      "-------------------------------------------------------------------------------------------------------------------------\n",
      "hyperparameters : {'max_depth': 9, 'subsample': 0.9567092003128319, 'colsample_bytree': 0.7744067519636624, 'min_child_weight': 13.173247744953454, 'gamma': 8.721514930979357, 'reg_alpha': 3.8128931940501425, 'reg_lambda': 1.0042517582933186, 'scale_pos_weight': 1.4375872112626924, 'objective': 'binary:logistic', 'learning_rate': 0.02, 'random_state': 1993}\n"
     ]
    },
    {
     "name": "stderr",
     "output_type": "stream",
     "text": [
      "/home/tunguz/.local/lib/python3.11/site-packages/xgboost/training.py:38: UserWarning: `feval` is deprecated, use `custom_metric` instead.  They have different behavior when custom objective is also used.See https://xgboost.readthedocs.io/en/latest/tutorials/custom_metric_obj.html for details on the `custom_metric`.\n",
      "  warnings.warn(\n"
     ]
    },
    {
     "name": "stdout",
     "output_type": "stream",
     "text": [
      "Gini coefficient: 0.2791697037080871\n",
      "\n",
      "| \u001b[0m1        \u001b[0m | \u001b[0m0.2792   \u001b[0m | \u001b[0m0.7744   \u001b[0m | \u001b[0m8.722    \u001b[0m | \u001b[0m8.822    \u001b[0m | \u001b[0m13.17    \u001b[0m | \u001b[0m3.813    \u001b[0m | \u001b[0m1.004    \u001b[0m | \u001b[0m1.438    \u001b[0m | \u001b[0m0.9567   \u001b[0m |\n",
      "hyperparameters : {'max_depth': 10, 'subsample': 0.6348517198806163, 'colsample_bytree': 0.9818313802505146, 'min_child_weight': 12.933423796293567, 'gamma': 6.067532150606222, 'reg_alpha': 5.112401049845391, 'reg_lambda': 1.3958352936097254, 'scale_pos_weight': 1.0710360581978868, 'objective': 'binary:logistic', 'learning_rate': 0.02, 'random_state': 1993}\n",
      "Gini coefficient: 0.28113448946604874\n",
      "\n",
      "| \u001b[95m2        \u001b[0m | \u001b[95m0.2811   \u001b[0m | \u001b[95m0.9818   \u001b[0m | \u001b[95m6.068    \u001b[0m | \u001b[95m10.33    \u001b[0m | \u001b[95m12.93    \u001b[0m | \u001b[95m5.112    \u001b[0m | \u001b[95m1.396    \u001b[0m | \u001b[95m1.071    \u001b[0m | \u001b[95m0.6349   \u001b[0m |\n",
      "hyperparameters : {'max_depth': 10, 'subsample': 0.9122116705145822, 'colsample_bytree': 0.5101091987201629, 'min_child_weight': 18.050182223702286, 'gamma': 9.660958764383505, 'reg_alpha': 8.807565080094877, 'reg_lambda': 1.218821989903413, 'scale_pos_weight': 1.4614793622529318, 'objective': 'binary:logistic', 'learning_rate': 0.02, 'random_state': 1993}\n",
      "Gini coefficient: 0.2766329517564693\n",
      "\n",
      "| \u001b[0m3        \u001b[0m | \u001b[0m0.2766   \u001b[0m | \u001b[0m0.5101   \u001b[0m | \u001b[0m9.661    \u001b[0m | \u001b[0m10.23    \u001b[0m | \u001b[0m18.05    \u001b[0m | \u001b[0m8.808    \u001b[0m | \u001b[0m1.219    \u001b[0m | \u001b[0m1.461    \u001b[0m | \u001b[0m0.9122   \u001b[0m |\n",
      "hyperparameters : {'max_depth': 5, 'subsample': 0.9096934757736866, 'colsample_bytree': 0.5591372129344666, 'min_child_weight': 19.17003375574376, 'gamma': 8.119368170620191, 'reg_alpha': 4.696634895750645, 'reg_lambda': 0.680526715986733, 'scale_pos_weight': 1.264555612104627, 'objective': 'binary:logistic', 'learning_rate': 0.02, 'random_state': 1993}\n",
      "Gini coefficient: 0.2768399796613756\n",
      "\n",
      "| \u001b[0m4        \u001b[0m | \u001b[0m0.2768   \u001b[0m | \u001b[0m0.5591   \u001b[0m | \u001b[0m8.119    \u001b[0m | \u001b[0m5.147    \u001b[0m | \u001b[0m19.17    \u001b[0m | \u001b[0m4.697    \u001b[0m | \u001b[0m0.6805   \u001b[0m | \u001b[0m1.265    \u001b[0m | \u001b[0m0.9097   \u001b[0m |\n",
      "hyperparameters : {'max_depth': 4, 'subsample': 0.8727281196413934, 'colsample_bytree': 0.7280751661082743, 'min_child_weight': 14.264532456138156, 'gamma': 7.547471590949188, 'reg_alpha': 5.508861504501793, 'reg_lambda': 0.9637075956246596, 'scale_pos_weight': 1.9437480785146242, 'objective': 'binary:logistic', 'learning_rate': 0.02, 'random_state': 1993}\n",
      "Gini coefficient: 0.2797753530293017\n",
      "\n",
      "| \u001b[0m5        \u001b[0m | \u001b[0m0.2798   \u001b[0m | \u001b[0m0.7281   \u001b[0m | \u001b[0m7.547    \u001b[0m | \u001b[0m4.15     \u001b[0m | \u001b[0m14.26    \u001b[0m | \u001b[0m5.509    \u001b[0m | \u001b[0m0.9637   \u001b[0m | \u001b[0m1.944    \u001b[0m | \u001b[0m0.8727   \u001b[0m |\n",
      "hyperparameters : {'max_depth': 10, 'subsample': 0.6515705190619413, 'colsample_bytree': 0.679753950286893, 'min_child_weight': 5.9033820744390475, 'gamma': 6.496255630394732, 'reg_alpha': 6.0009004390110094, 'reg_lambda': 1.0388930174654232, 'scale_pos_weight': 1.2103825610738408, 'objective': 'binary:logistic', 'learning_rate': 0.02, 'random_state': 1993}\n",
      "Gini coefficient: 0.2812832330251413\n",
      "\n",
      "| \u001b[95m6        \u001b[0m | \u001b[95m0.2813   \u001b[0m | \u001b[95m0.6798   \u001b[0m | \u001b[95m6.496    \u001b[0m | \u001b[95m9.581    \u001b[0m | \u001b[95m5.903    \u001b[0m | \u001b[95m6.001    \u001b[0m | \u001b[95m1.039    \u001b[0m | \u001b[95m1.21     \u001b[0m | \u001b[95m0.6516   \u001b[0m |\n",
      "hyperparameters : {'max_depth': 8, 'subsample': 0.6, 'colsample_bytree': 1.0, 'min_child_weight': 9.678496031449562, 'gamma': 3.0, 'reg_alpha': 5.986764336491293, 'reg_lambda': 1.5, 'scale_pos_weight': 1.164965181816098, 'objective': 'binary:logistic', 'learning_rate': 0.02, 'random_state': 1993}\n"
     ]
    },
    {
     "name": "stderr",
     "output_type": "stream",
     "text": [
      "/home/tunguz/.local/lib/python3.11/site-packages/xgboost/training.py:38: UserWarning: `feval` is deprecated, use `custom_metric` instead.  They have different behavior when custom objective is also used.See https://xgboost.readthedocs.io/en/latest/tutorials/custom_metric_obj.html for details on the `custom_metric`.\n",
      "  warnings.warn(\n"
     ]
    },
    {
     "name": "stdout",
     "output_type": "stream",
     "text": [
      "Gini coefficient: 0.2831538435080924\n",
      "\n",
      "| \u001b[95m7        \u001b[0m | \u001b[95m0.2832   \u001b[0m | \u001b[95m1.0      \u001b[0m | \u001b[95m3.0      \u001b[0m | \u001b[95m7.963    \u001b[0m | \u001b[95m9.678    \u001b[0m | \u001b[95m5.987    \u001b[0m | \u001b[95m1.5      \u001b[0m | \u001b[95m1.165    \u001b[0m | \u001b[95m0.6      \u001b[0m |\n",
      "hyperparameters : {'max_depth': 8, 'subsample': 0.8159658985370651, 'colsample_bytree': 0.6816097525697367, 'min_child_weight': 9.393673977936512, 'gamma': 3.0038029128494568, 'reg_alpha': 6.350105057926053, 'reg_lambda': 0.7622613329095277, 'scale_pos_weight': 1.3034592558542544, 'objective': 'binary:logistic', 'learning_rate': 0.02, 'random_state': 1993}\n"
     ]
    },
    {
     "name": "stderr",
     "output_type": "stream",
     "text": [
      "/home/tunguz/.local/lib/python3.11/site-packages/xgboost/training.py:38: UserWarning: `feval` is deprecated, use `custom_metric` instead.  They have different behavior when custom objective is also used.See https://xgboost.readthedocs.io/en/latest/tutorials/custom_metric_obj.html for details on the `custom_metric`.\n",
      "  warnings.warn(\n"
     ]
    },
    {
     "name": "stdout",
     "output_type": "stream",
     "text": [
      "Gini coefficient: 0.28276973454614274\n",
      "\n",
      "| \u001b[0m8        \u001b[0m | \u001b[0m0.2828   \u001b[0m | \u001b[0m0.6816   \u001b[0m | \u001b[0m3.004    \u001b[0m | \u001b[0m7.932    \u001b[0m | \u001b[0m9.394    \u001b[0m | \u001b[0m6.35     \u001b[0m | \u001b[0m0.7623   \u001b[0m | \u001b[0m1.303    \u001b[0m | \u001b[0m0.816    \u001b[0m |\n",
      "hyperparameters : {'max_depth': 4, 'subsample': 0.6, 'colsample_bytree': 1.0, 'min_child_weight': 6.6285882815682, 'gamma': 3.0, 'reg_alpha': 0.0, 'reg_lambda': 1.5, 'scale_pos_weight': 1.0, 'objective': 'binary:logistic', 'learning_rate': 0.02, 'random_state': 1993}\n"
     ]
    },
    {
     "name": "stderr",
     "output_type": "stream",
     "text": [
      "/home/tunguz/.local/lib/python3.11/site-packages/xgboost/training.py:38: UserWarning: `feval` is deprecated, use `custom_metric` instead.  They have different behavior when custom objective is also used.See https://xgboost.readthedocs.io/en/latest/tutorials/custom_metric_obj.html for details on the `custom_metric`.\n",
      "  warnings.warn(\n"
     ]
    },
    {
     "name": "stdout",
     "output_type": "stream",
     "text": [
      "Gini coefficient: 0.2833091255566522\n",
      "\n",
      "| \u001b[95m9        \u001b[0m | \u001b[95m0.2833   \u001b[0m | \u001b[95m1.0      \u001b[0m | \u001b[95m3.0      \u001b[0m | \u001b[95m4.0      \u001b[0m | \u001b[95m6.629    \u001b[0m | \u001b[95m0.0      \u001b[0m | \u001b[95m1.5      \u001b[0m | \u001b[95m1.0      \u001b[0m | \u001b[95m0.6      \u001b[0m |\n",
      "hyperparameters : {'max_depth': 12, 'subsample': 0.6, 'colsample_bytree': 1.0, 'min_child_weight': 7.723227715999092, 'gamma': 3.0, 'reg_alpha': 0.0, 'reg_lambda': 1.5, 'scale_pos_weight': 2.0, 'objective': 'binary:logistic', 'learning_rate': 0.02, 'random_state': 1993}\n"
     ]
    },
    {
     "name": "stderr",
     "output_type": "stream",
     "text": [
      "/home/tunguz/.local/lib/python3.11/site-packages/xgboost/training.py:38: UserWarning: `feval` is deprecated, use `custom_metric` instead.  They have different behavior when custom objective is also used.See https://xgboost.readthedocs.io/en/latest/tutorials/custom_metric_obj.html for details on the `custom_metric`.\n",
      "  warnings.warn(\n"
     ]
    },
    {
     "name": "stdout",
     "output_type": "stream",
     "text": [
      "Gini coefficient: 0.27392718571533264\n",
      "\n",
      "| \u001b[0m10       \u001b[0m | \u001b[0m0.2739   \u001b[0m | \u001b[0m1.0      \u001b[0m | \u001b[0m3.0      \u001b[0m | \u001b[0m12.0     \u001b[0m | \u001b[0m7.723    \u001b[0m | \u001b[0m0.0      \u001b[0m | \u001b[0m1.5      \u001b[0m | \u001b[0m2.0      \u001b[0m | \u001b[0m0.6      \u001b[0m |\n",
      "hyperparameters : {'max_depth': 4, 'subsample': 0.6, 'colsample_bytree': 1.0, 'min_child_weight': 6.279716641146567, 'gamma': 3.396433443354955, 'reg_alpha': 5.41529249801106, 'reg_lambda': 1.5, 'scale_pos_weight': 1.0, 'objective': 'binary:logistic', 'learning_rate': 0.02, 'random_state': 1993}\n"
     ]
    },
    {
     "name": "stderr",
     "output_type": "stream",
     "text": [
      "/home/tunguz/.local/lib/python3.11/site-packages/xgboost/training.py:38: UserWarning: `feval` is deprecated, use `custom_metric` instead.  They have different behavior when custom objective is also used.See https://xgboost.readthedocs.io/en/latest/tutorials/custom_metric_obj.html for details on the `custom_metric`.\n",
      "  warnings.warn(\n"
     ]
    },
    {
     "name": "stdout",
     "output_type": "stream",
     "text": [
      "Gini coefficient: 0.2830366278416258\n",
      "\n",
      "| \u001b[0m11       \u001b[0m | \u001b[0m0.283    \u001b[0m | \u001b[0m1.0      \u001b[0m | \u001b[0m3.396    \u001b[0m | \u001b[0m4.0      \u001b[0m | \u001b[0m6.28     \u001b[0m | \u001b[0m5.415    \u001b[0m | \u001b[0m1.5      \u001b[0m | \u001b[0m1.0      \u001b[0m | \u001b[0m0.6      \u001b[0m |\n",
      "hyperparameters : {'max_depth': 4, 'subsample': 0.6, 'colsample_bytree': 1.0, 'min_child_weight': 5.0, 'gamma': 9.106523325451503, 'reg_alpha': 1.5597998679729665, 'reg_lambda': 1.5, 'scale_pos_weight': 1.0, 'objective': 'binary:logistic', 'learning_rate': 0.02, 'random_state': 1993}\n"
     ]
    },
    {
     "name": "stderr",
     "output_type": "stream",
     "text": [
      "/home/tunguz/.local/lib/python3.11/site-packages/xgboost/training.py:38: UserWarning: `feval` is deprecated, use `custom_metric` instead.  They have different behavior when custom objective is also used.See https://xgboost.readthedocs.io/en/latest/tutorials/custom_metric_obj.html for details on the `custom_metric`.\n",
      "  warnings.warn(\n"
     ]
    },
    {
     "name": "stdout",
     "output_type": "stream",
     "text": [
      "Gini coefficient: 0.27613510461781293\n",
      "\n",
      "| \u001b[0m12       \u001b[0m | \u001b[0m0.2761   \u001b[0m | \u001b[0m1.0      \u001b[0m | \u001b[0m9.107    \u001b[0m | \u001b[0m4.0      \u001b[0m | \u001b[0m5.0      \u001b[0m | \u001b[0m1.56     \u001b[0m | \u001b[0m1.5      \u001b[0m | \u001b[0m1.0      \u001b[0m | \u001b[0m0.6      \u001b[0m |\n",
      "hyperparameters : {'max_depth': 4, 'subsample': 0.6, 'colsample_bytree': 1.0, 'min_child_weight': 10.53422694745015, 'gamma': 3.0, 'reg_alpha': 2.9577930184415013, 'reg_lambda': 1.5, 'scale_pos_weight': 1.0, 'objective': 'binary:logistic', 'learning_rate': 0.02, 'random_state': 1993}\n"
     ]
    },
    {
     "name": "stderr",
     "output_type": "stream",
     "text": [
      "/home/tunguz/.local/lib/python3.11/site-packages/xgboost/training.py:38: UserWarning: `feval` is deprecated, use `custom_metric` instead.  They have different behavior when custom objective is also used.See https://xgboost.readthedocs.io/en/latest/tutorials/custom_metric_obj.html for details on the `custom_metric`.\n",
      "  warnings.warn(\n"
     ]
    },
    {
     "name": "stdout",
     "output_type": "stream",
     "text": [
      "Gini coefficient: 0.2830756606423848\n",
      "\n",
      "| \u001b[0m13       \u001b[0m | \u001b[0m0.2831   \u001b[0m | \u001b[0m1.0      \u001b[0m | \u001b[0m3.0      \u001b[0m | \u001b[0m4.0      \u001b[0m | \u001b[0m10.53    \u001b[0m | \u001b[0m2.958    \u001b[0m | \u001b[0m1.5      \u001b[0m | \u001b[0m1.0      \u001b[0m | \u001b[0m0.6      \u001b[0m |\n",
      "hyperparameters : {'max_depth': 4, 'subsample': 0.6, 'colsample_bytree': 1.0, 'min_child_weight': 10.634161637395266, 'gamma': 3.0, 'reg_alpha': 9.0, 'reg_lambda': 1.5, 'scale_pos_weight': 1.0, 'objective': 'binary:logistic', 'learning_rate': 0.02, 'random_state': 1993}\n"
     ]
    },
    {
     "name": "stderr",
     "output_type": "stream",
     "text": [
      "/home/tunguz/.local/lib/python3.11/site-packages/xgboost/training.py:38: UserWarning: `feval` is deprecated, use `custom_metric` instead.  They have different behavior when custom objective is also used.See https://xgboost.readthedocs.io/en/latest/tutorials/custom_metric_obj.html for details on the `custom_metric`.\n",
      "  warnings.warn(\n"
     ]
    },
    {
     "name": "stdout",
     "output_type": "stream",
     "text": [
      "Gini coefficient: 0.28311392920411516\n",
      "\n",
      "| \u001b[0m14       \u001b[0m | \u001b[0m0.2831   \u001b[0m | \u001b[0m1.0      \u001b[0m | \u001b[0m3.0      \u001b[0m | \u001b[0m4.0      \u001b[0m | \u001b[0m10.63    \u001b[0m | \u001b[0m9.0      \u001b[0m | \u001b[0m1.5      \u001b[0m | \u001b[0m1.0      \u001b[0m | \u001b[0m0.6      \u001b[0m |\n",
      "hyperparameters : {'max_depth': 7, 'subsample': 0.6, 'colsample_bytree': 1.0, 'min_child_weight': 8.790316226204602, 'gamma': 6.88993033389942, 'reg_alpha': 9.0, 'reg_lambda': 1.5, 'scale_pos_weight': 1.0, 'objective': 'binary:logistic', 'learning_rate': 0.02, 'random_state': 1993}\n"
     ]
    },
    {
     "name": "stderr",
     "output_type": "stream",
     "text": [
      "/home/tunguz/.local/lib/python3.11/site-packages/xgboost/training.py:38: UserWarning: `feval` is deprecated, use `custom_metric` instead.  They have different behavior when custom objective is also used.See https://xgboost.readthedocs.io/en/latest/tutorials/custom_metric_obj.html for details on the `custom_metric`.\n",
      "  warnings.warn(\n"
     ]
    },
    {
     "name": "stdout",
     "output_type": "stream",
     "text": [
      "Gini coefficient: 0.27837652064258556\n",
      "\n",
      "| \u001b[0m15       \u001b[0m | \u001b[0m0.2784   \u001b[0m | \u001b[0m1.0      \u001b[0m | \u001b[0m6.89     \u001b[0m | \u001b[0m6.813    \u001b[0m | \u001b[0m8.79     \u001b[0m | \u001b[0m9.0      \u001b[0m | \u001b[0m1.5      \u001b[0m | \u001b[0m1.0      \u001b[0m | \u001b[0m0.6      \u001b[0m |\n",
      "hyperparameters : {'max_depth': 6, 'subsample': 0.6, 'colsample_bytree': 1.0, 'min_child_weight': 13.711443080701658, 'gamma': 3.0, 'reg_alpha': 6.838398408945798, 'reg_lambda': 1.5, 'scale_pos_weight': 2.0, 'objective': 'binary:logistic', 'learning_rate': 0.02, 'random_state': 1993}\n"
     ]
    },
    {
     "name": "stderr",
     "output_type": "stream",
     "text": [
      "/home/tunguz/.local/lib/python3.11/site-packages/xgboost/training.py:38: UserWarning: `feval` is deprecated, use `custom_metric` instead.  They have different behavior when custom objective is also used.See https://xgboost.readthedocs.io/en/latest/tutorials/custom_metric_obj.html for details on the `custom_metric`.\n",
      "  warnings.warn(\n"
     ]
    },
    {
     "name": "stdout",
     "output_type": "stream",
     "text": [
      "Gini coefficient: 0.28375304734247286\n",
      "\n",
      "| \u001b[95m16       \u001b[0m | \u001b[95m0.2838   \u001b[0m | \u001b[95m1.0      \u001b[0m | \u001b[95m3.0      \u001b[0m | \u001b[95m6.223    \u001b[0m | \u001b[95m13.71    \u001b[0m | \u001b[95m6.838    \u001b[0m | \u001b[95m1.5      \u001b[0m | \u001b[95m2.0      \u001b[0m | \u001b[95m0.6      \u001b[0m |\n",
      "hyperparameters : {'max_depth': 12, 'subsample': 0.6, 'colsample_bytree': 1.0, 'min_child_weight': 12.943101253541867, 'gamma': 3.0, 'reg_alpha': 9.0, 'reg_lambda': 1.5, 'scale_pos_weight': 2.0, 'objective': 'binary:logistic', 'learning_rate': 0.02, 'random_state': 1993}\n"
     ]
    },
    {
     "name": "stderr",
     "output_type": "stream",
     "text": [
      "/home/tunguz/.local/lib/python3.11/site-packages/xgboost/training.py:38: UserWarning: `feval` is deprecated, use `custom_metric` instead.  They have different behavior when custom objective is also used.See https://xgboost.readthedocs.io/en/latest/tutorials/custom_metric_obj.html for details on the `custom_metric`.\n",
      "  warnings.warn(\n"
     ]
    },
    {
     "name": "stdout",
     "output_type": "stream",
     "text": [
      "Gini coefficient: 0.2802530064657938\n",
      "\n",
      "| \u001b[0m17       \u001b[0m | \u001b[0m0.2803   \u001b[0m | \u001b[0m1.0      \u001b[0m | \u001b[0m3.0      \u001b[0m | \u001b[0m12.0     \u001b[0m | \u001b[0m12.94    \u001b[0m | \u001b[0m9.0      \u001b[0m | \u001b[0m1.5      \u001b[0m | \u001b[0m2.0      \u001b[0m | \u001b[0m0.6      \u001b[0m |\n",
      "hyperparameters : {'max_depth': 4, 'subsample': 1.0, 'colsample_bytree': 1.0, 'min_child_weight': 15.628240556497023, 'gamma': 3.0, 'reg_alpha': 9.0, 'reg_lambda': 0.1, 'scale_pos_weight': 2.0, 'objective': 'binary:logistic', 'learning_rate': 0.02, 'random_state': 1993}\n"
     ]
    },
    {
     "name": "stderr",
     "output_type": "stream",
     "text": [
      "/home/tunguz/.local/lib/python3.11/site-packages/xgboost/training.py:38: UserWarning: `feval` is deprecated, use `custom_metric` instead.  They have different behavior when custom objective is also used.See https://xgboost.readthedocs.io/en/latest/tutorials/custom_metric_obj.html for details on the `custom_metric`.\n",
      "  warnings.warn(\n"
     ]
    },
    {
     "name": "stdout",
     "output_type": "stream",
     "text": [
      "Gini coefficient: 0.27876002306562353\n",
      "\n",
      "| \u001b[0m18       \u001b[0m | \u001b[0m0.2788   \u001b[0m | \u001b[0m1.0      \u001b[0m | \u001b[0m3.0      \u001b[0m | \u001b[0m4.0      \u001b[0m | \u001b[0m15.63    \u001b[0m | \u001b[0m9.0      \u001b[0m | \u001b[0m0.1      \u001b[0m | \u001b[0m2.0      \u001b[0m | \u001b[0m1.0      \u001b[0m |\n",
      "hyperparameters : {'max_depth': 4, 'subsample': 0.6, 'colsample_bytree': 0.5, 'min_child_weight': 10.424712496372111, 'gamma': 3.0, 'reg_alpha': 5.969674624624056, 'reg_lambda': 0.1, 'scale_pos_weight': 2.0, 'objective': 'binary:logistic', 'learning_rate': 0.02, 'random_state': 1993}\n"
     ]
    },
    {
     "name": "stderr",
     "output_type": "stream",
     "text": [
      "/home/tunguz/.local/lib/python3.11/site-packages/xgboost/training.py:38: UserWarning: `feval` is deprecated, use `custom_metric` instead.  They have different behavior when custom objective is also used.See https://xgboost.readthedocs.io/en/latest/tutorials/custom_metric_obj.html for details on the `custom_metric`.\n",
      "  warnings.warn(\n"
     ]
    },
    {
     "name": "stdout",
     "output_type": "stream",
     "text": [
      "Gini coefficient: 0.28577499332746553\n",
      "\n",
      "| \u001b[95m19       \u001b[0m | \u001b[95m0.2858   \u001b[0m | \u001b[95m0.5      \u001b[0m | \u001b[95m3.0      \u001b[0m | \u001b[95m4.0      \u001b[0m | \u001b[95m10.42    \u001b[0m | \u001b[95m5.97     \u001b[0m | \u001b[95m0.1      \u001b[0m | \u001b[95m2.0      \u001b[0m | \u001b[95m0.6      \u001b[0m |\n",
      "hyperparameters : {'max_depth': 6, 'subsample': 0.6, 'colsample_bytree': 0.5, 'min_child_weight': 12.30502040321713, 'gamma': 3.0, 'reg_alpha': 4.423740774635093, 'reg_lambda': 0.1, 'scale_pos_weight': 2.0, 'objective': 'binary:logistic', 'learning_rate': 0.02, 'random_state': 1993}\n"
     ]
    },
    {
     "name": "stderr",
     "output_type": "stream",
     "text": [
      "/home/tunguz/.local/lib/python3.11/site-packages/xgboost/training.py:38: UserWarning: `feval` is deprecated, use `custom_metric` instead.  They have different behavior when custom objective is also used.See https://xgboost.readthedocs.io/en/latest/tutorials/custom_metric_obj.html for details on the `custom_metric`.\n",
      "  warnings.warn(\n"
     ]
    },
    {
     "name": "stdout",
     "output_type": "stream",
     "text": [
      "Gini coefficient: 0.28571350645619836\n",
      "\n",
      "| \u001b[0m20       \u001b[0m | \u001b[0m0.2857   \u001b[0m | \u001b[0m0.5      \u001b[0m | \u001b[0m3.0      \u001b[0m | \u001b[0m6.198    \u001b[0m | \u001b[0m12.31    \u001b[0m | \u001b[0m4.424    \u001b[0m | \u001b[0m0.1      \u001b[0m | \u001b[0m2.0      \u001b[0m | \u001b[0m0.6      \u001b[0m |\n",
      "hyperparameters : {'max_depth': 5, 'subsample': 0.6, 'colsample_bytree': 0.5, 'min_child_weight': 15.397519283900468, 'gamma': 3.0, 'reg_alpha': 0.0, 'reg_lambda': 0.1, 'scale_pos_weight': 2.0, 'objective': 'binary:logistic', 'learning_rate': 0.02, 'random_state': 1993}\n"
     ]
    },
    {
     "name": "stderr",
     "output_type": "stream",
     "text": [
      "/home/tunguz/.local/lib/python3.11/site-packages/xgboost/training.py:38: UserWarning: `feval` is deprecated, use `custom_metric` instead.  They have different behavior when custom objective is also used.See https://xgboost.readthedocs.io/en/latest/tutorials/custom_metric_obj.html for details on the `custom_metric`.\n",
      "  warnings.warn(\n"
     ]
    },
    {
     "name": "stdout",
     "output_type": "stream",
     "text": [
      "Gini coefficient: 0.2839615430715453\n",
      "\n",
      "| \u001b[0m21       \u001b[0m | \u001b[0m0.284    \u001b[0m | \u001b[0m0.5      \u001b[0m | \u001b[0m3.0      \u001b[0m | \u001b[0m5.427    \u001b[0m | \u001b[0m15.4     \u001b[0m | \u001b[0m0.0      \u001b[0m | \u001b[0m0.1      \u001b[0m | \u001b[0m2.0      \u001b[0m | \u001b[0m0.6      \u001b[0m |\n",
      "hyperparameters : {'max_depth': 11, 'subsample': 0.6, 'colsample_bytree': 0.5, 'min_child_weight': 19.164210253636615, 'gamma': 3.0, 'reg_alpha': 0.0, 'reg_lambda': 0.1, 'scale_pos_weight': 2.0, 'objective': 'binary:logistic', 'learning_rate': 0.02, 'random_state': 1993}\n"
     ]
    },
    {
     "name": "stderr",
     "output_type": "stream",
     "text": [
      "/home/tunguz/.local/lib/python3.11/site-packages/xgboost/training.py:38: UserWarning: `feval` is deprecated, use `custom_metric` instead.  They have different behavior when custom objective is also used.See https://xgboost.readthedocs.io/en/latest/tutorials/custom_metric_obj.html for details on the `custom_metric`.\n",
      "  warnings.warn(\n"
     ]
    },
    {
     "name": "stdout",
     "output_type": "stream",
     "text": [
      "Gini coefficient: 0.2787788500334402\n",
      "\n",
      "| \u001b[0m22       \u001b[0m | \u001b[0m0.2788   \u001b[0m | \u001b[0m0.5      \u001b[0m | \u001b[0m3.0      \u001b[0m | \u001b[0m10.85    \u001b[0m | \u001b[0m19.16    \u001b[0m | \u001b[0m0.0      \u001b[0m | \u001b[0m0.1      \u001b[0m | \u001b[0m2.0      \u001b[0m | \u001b[0m0.6      \u001b[0m |\n",
      "hyperparameters : {'max_depth': 4, 'subsample': 1.0, 'colsample_bytree': 0.5, 'min_child_weight': 14.014302416395104, 'gamma': 3.0, 'reg_alpha': 3.5159727605622404, 'reg_lambda': 0.1, 'scale_pos_weight': 2.0, 'objective': 'binary:logistic', 'learning_rate': 0.02, 'random_state': 1993}\n"
     ]
    },
    {
     "name": "stderr",
     "output_type": "stream",
     "text": [
      "/home/tunguz/.local/lib/python3.11/site-packages/xgboost/training.py:38: UserWarning: `feval` is deprecated, use `custom_metric` instead.  They have different behavior when custom objective is also used.See https://xgboost.readthedocs.io/en/latest/tutorials/custom_metric_obj.html for details on the `custom_metric`.\n",
      "  warnings.warn(\n"
     ]
    },
    {
     "name": "stdout",
     "output_type": "stream",
     "text": [
      "Gini coefficient: 0.2785173994137907\n",
      "\n",
      "| \u001b[0m23       \u001b[0m | \u001b[0m0.2785   \u001b[0m | \u001b[0m0.5      \u001b[0m | \u001b[0m3.0      \u001b[0m | \u001b[0m4.0      \u001b[0m | \u001b[0m14.01    \u001b[0m | \u001b[0m3.516    \u001b[0m | \u001b[0m0.1      \u001b[0m | \u001b[0m2.0      \u001b[0m | \u001b[0m1.0      \u001b[0m |\n",
      "hyperparameters : {'max_depth': 6, 'subsample': 0.6, 'colsample_bytree': 0.5, 'min_child_weight': 9.537450791362264, 'gamma': 3.0, 'reg_alpha': 4.1695454964712075, 'reg_lambda': 0.1, 'scale_pos_weight': 2.0, 'objective': 'binary:logistic', 'learning_rate': 0.02, 'random_state': 1993}\n"
     ]
    },
    {
     "name": "stderr",
     "output_type": "stream",
     "text": [
      "/home/tunguz/.local/lib/python3.11/site-packages/xgboost/training.py:38: UserWarning: `feval` is deprecated, use `custom_metric` instead.  They have different behavior when custom objective is also used.See https://xgboost.readthedocs.io/en/latest/tutorials/custom_metric_obj.html for details on the `custom_metric`.\n",
      "  warnings.warn(\n"
     ]
    },
    {
     "name": "stdout",
     "output_type": "stream",
     "text": [
      "Gini coefficient: 0.28508238250069584\n",
      "\n",
      "| \u001b[0m24       \u001b[0m | \u001b[0m0.2851   \u001b[0m | \u001b[0m0.5      \u001b[0m | \u001b[0m3.0      \u001b[0m | \u001b[0m5.829    \u001b[0m | \u001b[0m9.537    \u001b[0m | \u001b[0m4.17     \u001b[0m | \u001b[0m0.1      \u001b[0m | \u001b[0m2.0      \u001b[0m | \u001b[0m0.6      \u001b[0m |\n",
      "hyperparameters : {'max_depth': 6, 'subsample': 0.6, 'colsample_bytree': 0.5, 'min_child_weight': 11.024230096262, 'gamma': 3.0, 'reg_alpha': 5.757686418697249, 'reg_lambda': 1.5, 'scale_pos_weight': 2.0, 'objective': 'binary:logistic', 'learning_rate': 0.02, 'random_state': 1993}\n"
     ]
    },
    {
     "name": "stderr",
     "output_type": "stream",
     "text": [
      "/home/tunguz/.local/lib/python3.11/site-packages/xgboost/training.py:38: UserWarning: `feval` is deprecated, use `custom_metric` instead.  They have different behavior when custom objective is also used.See https://xgboost.readthedocs.io/en/latest/tutorials/custom_metric_obj.html for details on the `custom_metric`.\n",
      "  warnings.warn(\n"
     ]
    },
    {
     "name": "stdout",
     "output_type": "stream",
     "text": [
      "Gini coefficient: 0.2848805586996512\n",
      "\n",
      "| \u001b[0m25       \u001b[0m | \u001b[0m0.2849   \u001b[0m | \u001b[0m0.5      \u001b[0m | \u001b[0m3.0      \u001b[0m | \u001b[0m5.663    \u001b[0m | \u001b[0m11.02    \u001b[0m | \u001b[0m5.758    \u001b[0m | \u001b[0m1.5      \u001b[0m | \u001b[0m2.0      \u001b[0m | \u001b[0m0.6      \u001b[0m |\n",
      "hyperparameters : {'max_depth': 8, 'subsample': 0.6, 'colsample_bytree': 1.0, 'min_child_weight': 12.82230518582083, 'gamma': 3.0, 'reg_alpha': 2.6657373015027037, 'reg_lambda': 0.1, 'scale_pos_weight': 1.0, 'objective': 'binary:logistic', 'learning_rate': 0.02, 'random_state': 1993}\n"
     ]
    },
    {
     "name": "stderr",
     "output_type": "stream",
     "text": [
      "/home/tunguz/.local/lib/python3.11/site-packages/xgboost/training.py:38: UserWarning: `feval` is deprecated, use `custom_metric` instead.  They have different behavior when custom objective is also used.See https://xgboost.readthedocs.io/en/latest/tutorials/custom_metric_obj.html for details on the `custom_metric`.\n",
      "  warnings.warn(\n"
     ]
    },
    {
     "name": "stdout",
     "output_type": "stream",
     "text": [
      "Gini coefficient: 0.2824012823752983\n",
      "\n",
      "| \u001b[0m26       \u001b[0m | \u001b[0m0.2824   \u001b[0m | \u001b[0m1.0      \u001b[0m | \u001b[0m3.0      \u001b[0m | \u001b[0m8.276    \u001b[0m | \u001b[0m12.82    \u001b[0m | \u001b[0m2.666    \u001b[0m | \u001b[0m0.1      \u001b[0m | \u001b[0m1.0      \u001b[0m | \u001b[0m0.6      \u001b[0m |\n",
      "hyperparameters : {'max_depth': 6, 'subsample': 0.6, 'colsample_bytree': 1.0, 'min_child_weight': 11.556447992478173, 'gamma': 3.0, 'reg_alpha': 6.033803693946755, 'reg_lambda': 0.1, 'scale_pos_weight': 1.0, 'objective': 'binary:logistic', 'learning_rate': 0.02, 'random_state': 1993}\n"
     ]
    },
    {
     "name": "stderr",
     "output_type": "stream",
     "text": [
      "/home/tunguz/.local/lib/python3.11/site-packages/xgboost/training.py:38: UserWarning: `feval` is deprecated, use `custom_metric` instead.  They have different behavior when custom objective is also used.See https://xgboost.readthedocs.io/en/latest/tutorials/custom_metric_obj.html for details on the `custom_metric`.\n",
      "  warnings.warn(\n"
     ]
    },
    {
     "name": "stdout",
     "output_type": "stream",
     "text": [
      "Gini coefficient: 0.28432381663267675\n",
      "\n",
      "| \u001b[0m27       \u001b[0m | \u001b[0m0.2843   \u001b[0m | \u001b[0m1.0      \u001b[0m | \u001b[0m3.0      \u001b[0m | \u001b[0m6.069    \u001b[0m | \u001b[0m11.56    \u001b[0m | \u001b[0m6.034    \u001b[0m | \u001b[0m0.1      \u001b[0m | \u001b[0m1.0      \u001b[0m | \u001b[0m0.6      \u001b[0m |\n",
      "hyperparameters : {'max_depth': 5, 'subsample': 0.6, 'colsample_bytree': 0.5, 'min_child_weight': 10.802149901238312, 'gamma': 3.0, 'reg_alpha': 0.0, 'reg_lambda': 0.1, 'scale_pos_weight': 2.0, 'objective': 'binary:logistic', 'learning_rate': 0.02, 'random_state': 1993}\n"
     ]
    },
    {
     "name": "stderr",
     "output_type": "stream",
     "text": [
      "/home/tunguz/.local/lib/python3.11/site-packages/xgboost/training.py:38: UserWarning: `feval` is deprecated, use `custom_metric` instead.  They have different behavior when custom objective is also used.See https://xgboost.readthedocs.io/en/latest/tutorials/custom_metric_obj.html for details on the `custom_metric`.\n",
      "  warnings.warn(\n"
     ]
    },
    {
     "name": "stdout",
     "output_type": "stream",
     "text": [
      "Gini coefficient: 0.2837052722942011\n",
      "\n",
      "| \u001b[0m28       \u001b[0m | \u001b[0m0.2837   \u001b[0m | \u001b[0m0.5      \u001b[0m | \u001b[0m3.0      \u001b[0m | \u001b[0m5.339    \u001b[0m | \u001b[0m10.8     \u001b[0m | \u001b[0m0.0      \u001b[0m | \u001b[0m0.1      \u001b[0m | \u001b[0m2.0      \u001b[0m | \u001b[0m0.6      \u001b[0m |\n",
      "hyperparameters : {'max_depth': 12, 'subsample': 1.0, 'colsample_bytree': 0.5, 'min_child_weight': 5.0, 'gamma': 11.0, 'reg_alpha': 9.0, 'reg_lambda': 0.1, 'scale_pos_weight': 2.0, 'objective': 'binary:logistic', 'learning_rate': 0.02, 'random_state': 1993}\n"
     ]
    },
    {
     "name": "stderr",
     "output_type": "stream",
     "text": [
      "/home/tunguz/.local/lib/python3.11/site-packages/xgboost/training.py:38: UserWarning: `feval` is deprecated, use `custom_metric` instead.  They have different behavior when custom objective is also used.See https://xgboost.readthedocs.io/en/latest/tutorials/custom_metric_obj.html for details on the `custom_metric`.\n",
      "  warnings.warn(\n"
     ]
    },
    {
     "name": "stdout",
     "output_type": "stream",
     "text": [
      "Gini coefficient: 0.27689771003498337\n",
      "\n",
      "| \u001b[0m29       \u001b[0m | \u001b[0m0.2769   \u001b[0m | \u001b[0m0.5      \u001b[0m | \u001b[0m11.0     \u001b[0m | \u001b[0m12.0     \u001b[0m | \u001b[0m5.0      \u001b[0m | \u001b[0m9.0      \u001b[0m | \u001b[0m0.1      \u001b[0m | \u001b[0m2.0      \u001b[0m | \u001b[0m1.0      \u001b[0m |\n",
      "hyperparameters : {'max_depth': 4, 'subsample': 0.6, 'colsample_bytree': 0.5, 'min_child_weight': 6.672358555118746, 'gamma': 3.0, 'reg_alpha': 9.0, 'reg_lambda': 0.1, 'scale_pos_weight': 2.0, 'objective': 'binary:logistic', 'learning_rate': 0.02, 'random_state': 1993}\n"
     ]
    },
    {
     "name": "stderr",
     "output_type": "stream",
     "text": [
      "/home/tunguz/.local/lib/python3.11/site-packages/xgboost/training.py:38: UserWarning: `feval` is deprecated, use `custom_metric` instead.  They have different behavior when custom objective is also used.See https://xgboost.readthedocs.io/en/latest/tutorials/custom_metric_obj.html for details on the `custom_metric`.\n",
      "  warnings.warn(\n"
     ]
    },
    {
     "name": "stdout",
     "output_type": "stream",
     "text": [
      "Gini coefficient: 0.2848735107174982\n",
      "\n",
      "| \u001b[0m30       \u001b[0m | \u001b[0m0.2849   \u001b[0m | \u001b[0m0.5      \u001b[0m | \u001b[0m3.0      \u001b[0m | \u001b[0m4.0      \u001b[0m | \u001b[0m6.672    \u001b[0m | \u001b[0m9.0      \u001b[0m | \u001b[0m0.1      \u001b[0m | \u001b[0m2.0      \u001b[0m | \u001b[0m0.6      \u001b[0m |\n",
      "hyperparameters : {'max_depth': 7, 'subsample': 0.6, 'colsample_bytree': 0.5, 'min_child_weight': 5.0, 'gamma': 3.0, 'reg_alpha': 9.0, 'reg_lambda': 0.1, 'scale_pos_weight': 2.0, 'objective': 'binary:logistic', 'learning_rate': 0.02, 'random_state': 1993}\n"
     ]
    },
    {
     "name": "stderr",
     "output_type": "stream",
     "text": [
      "/home/tunguz/.local/lib/python3.11/site-packages/xgboost/training.py:38: UserWarning: `feval` is deprecated, use `custom_metric` instead.  They have different behavior when custom objective is also used.See https://xgboost.readthedocs.io/en/latest/tutorials/custom_metric_obj.html for details on the `custom_metric`.\n",
      "  warnings.warn(\n"
     ]
    },
    {
     "name": "stdout",
     "output_type": "stream",
     "text": [
      "Gini coefficient: 0.2836956242819137\n",
      "\n",
      "| \u001b[0m31       \u001b[0m | \u001b[0m0.2837   \u001b[0m | \u001b[0m0.5      \u001b[0m | \u001b[0m3.0      \u001b[0m | \u001b[0m7.321    \u001b[0m | \u001b[0m5.0      \u001b[0m | \u001b[0m9.0      \u001b[0m | \u001b[0m0.1      \u001b[0m | \u001b[0m2.0      \u001b[0m | \u001b[0m0.6      \u001b[0m |\n",
      "hyperparameters : {'max_depth': 4, 'subsample': 0.6, 'colsample_bytree': 1.0, 'min_child_weight': 20.0, 'gamma': 3.0, 'reg_alpha': 0.0, 'reg_lambda': 1.5, 'scale_pos_weight': 2.0, 'objective': 'binary:logistic', 'learning_rate': 0.02, 'random_state': 1993}\n"
     ]
    },
    {
     "name": "stderr",
     "output_type": "stream",
     "text": [
      "/home/tunguz/.local/lib/python3.11/site-packages/xgboost/training.py:38: UserWarning: `feval` is deprecated, use `custom_metric` instead.  They have different behavior when custom objective is also used.See https://xgboost.readthedocs.io/en/latest/tutorials/custom_metric_obj.html for details on the `custom_metric`.\n",
      "  warnings.warn(\n"
     ]
    },
    {
     "name": "stdout",
     "output_type": "stream",
     "text": [
      "Gini coefficient: 0.28374934341151925\n",
      "\n",
      "| \u001b[0m32       \u001b[0m | \u001b[0m0.2837   \u001b[0m | \u001b[0m1.0      \u001b[0m | \u001b[0m3.0      \u001b[0m | \u001b[0m4.0      \u001b[0m | \u001b[0m20.0     \u001b[0m | \u001b[0m0.0      \u001b[0m | \u001b[0m1.5      \u001b[0m | \u001b[0m2.0      \u001b[0m | \u001b[0m0.6      \u001b[0m |\n",
      "hyperparameters : {'max_depth': 4, 'subsample': 1.0, 'colsample_bytree': 1.0, 'min_child_weight': 8.334391434283368, 'gamma': 3.0, 'reg_alpha': 6.7703188115090445, 'reg_lambda': 0.1, 'scale_pos_weight': 2.0, 'objective': 'binary:logistic', 'learning_rate': 0.02, 'random_state': 1993}\n"
     ]
    },
    {
     "name": "stderr",
     "output_type": "stream",
     "text": [
      "/home/tunguz/.local/lib/python3.11/site-packages/xgboost/training.py:38: UserWarning: `feval` is deprecated, use `custom_metric` instead.  They have different behavior when custom objective is also used.See https://xgboost.readthedocs.io/en/latest/tutorials/custom_metric_obj.html for details on the `custom_metric`.\n",
      "  warnings.warn(\n"
     ]
    },
    {
     "name": "stdout",
     "output_type": "stream",
     "text": [
      "Gini coefficient: 0.27962709470133845\n",
      "\n",
      "| \u001b[0m33       \u001b[0m | \u001b[0m0.2796   \u001b[0m | \u001b[0m1.0      \u001b[0m | \u001b[0m3.0      \u001b[0m | \u001b[0m4.0      \u001b[0m | \u001b[0m8.334    \u001b[0m | \u001b[0m6.77     \u001b[0m | \u001b[0m0.1      \u001b[0m | \u001b[0m2.0      \u001b[0m | \u001b[0m1.0      \u001b[0m |\n",
      "hyperparameters : {'max_depth': 5, 'subsample': 0.6, 'colsample_bytree': 0.5, 'min_child_weight': 10.937057246176103, 'gamma': 4.591287100112677, 'reg_alpha': 4.733185258742242, 'reg_lambda': 0.1, 'scale_pos_weight': 2.0, 'objective': 'binary:logistic', 'learning_rate': 0.02, 'random_state': 1993}\n"
     ]
    },
    {
     "name": "stderr",
     "output_type": "stream",
     "text": [
      "/home/tunguz/.local/lib/python3.11/site-packages/xgboost/training.py:38: UserWarning: `feval` is deprecated, use `custom_metric` instead.  They have different behavior when custom objective is also used.See https://xgboost.readthedocs.io/en/latest/tutorials/custom_metric_obj.html for details on the `custom_metric`.\n",
      "  warnings.warn(\n"
     ]
    },
    {
     "name": "stdout",
     "output_type": "stream",
     "text": [
      "Gini coefficient: 0.2848768102891774\n",
      "\n",
      "| \u001b[0m34       \u001b[0m | \u001b[0m0.2849   \u001b[0m | \u001b[0m0.5      \u001b[0m | \u001b[0m4.591    \u001b[0m | \u001b[0m5.092    \u001b[0m | \u001b[0m10.94    \u001b[0m | \u001b[0m4.733    \u001b[0m | \u001b[0m0.1      \u001b[0m | \u001b[0m2.0      \u001b[0m | \u001b[0m0.6      \u001b[0m |\n",
      "hyperparameters : {'max_depth': 5, 'subsample': 0.6405999102570725, 'colsample_bytree': 0.6687685850574014, 'min_child_weight': 5.047525744860247, 'gamma': 3.8180267436183364, 'reg_alpha': 8.130707811139215, 'reg_lambda': 0.2776022825205654, 'scale_pos_weight': 1.5026213992980457, 'objective': 'binary:logistic', 'learning_rate': 0.02, 'random_state': 1993}\n"
     ]
    },
    {
     "name": "stderr",
     "output_type": "stream",
     "text": [
      "/home/tunguz/.local/lib/python3.11/site-packages/xgboost/training.py:38: UserWarning: `feval` is deprecated, use `custom_metric` instead.  They have different behavior when custom objective is also used.See https://xgboost.readthedocs.io/en/latest/tutorials/custom_metric_obj.html for details on the `custom_metric`.\n",
      "  warnings.warn(\n"
     ]
    },
    {
     "name": "stdout",
     "output_type": "stream",
     "text": [
      "Gini coefficient: 0.28508657974996415\n",
      "\n",
      "| \u001b[0m35       \u001b[0m | \u001b[0m0.2851   \u001b[0m | \u001b[0m0.6688   \u001b[0m | \u001b[0m3.818    \u001b[0m | \u001b[0m4.58     \u001b[0m | \u001b[0m5.048    \u001b[0m | \u001b[0m8.131    \u001b[0m | \u001b[0m0.2776   \u001b[0m | \u001b[0m1.503    \u001b[0m | \u001b[0m0.6406   \u001b[0m |\n",
      "hyperparameters : {'max_depth': 8, 'subsample': 1.0, 'colsample_bytree': 0.5, 'min_child_weight': 12.466901589607495, 'gamma': 3.0, 'reg_alpha': 5.660353347824085, 'reg_lambda': 0.1, 'scale_pos_weight': 2.0, 'objective': 'binary:logistic', 'learning_rate': 0.02, 'random_state': 1993}\n"
     ]
    },
    {
     "name": "stderr",
     "output_type": "stream",
     "text": [
      "/home/tunguz/.local/lib/python3.11/site-packages/xgboost/training.py:38: UserWarning: `feval` is deprecated, use `custom_metric` instead.  They have different behavior when custom objective is also used.See https://xgboost.readthedocs.io/en/latest/tutorials/custom_metric_obj.html for details on the `custom_metric`.\n",
      "  warnings.warn(\n"
     ]
    },
    {
     "name": "stdout",
     "output_type": "stream",
     "text": [
      "Gini coefficient: 0.2786563413040715\n",
      "\n",
      "| \u001b[0m36       \u001b[0m | \u001b[0m0.2787   \u001b[0m | \u001b[0m0.5      \u001b[0m | \u001b[0m3.0      \u001b[0m | \u001b[0m8.292    \u001b[0m | \u001b[0m12.47    \u001b[0m | \u001b[0m5.66     \u001b[0m | \u001b[0m0.1      \u001b[0m | \u001b[0m2.0      \u001b[0m | \u001b[0m1.0      \u001b[0m |\n",
      "hyperparameters : {'max_depth': 6, 'subsample': 0.6, 'colsample_bytree': 0.5, 'min_child_weight': 11.096968327244278, 'gamma': 3.0, 'reg_alpha': 3.401595303852577, 'reg_lambda': 0.1, 'scale_pos_weight': 1.0, 'objective': 'binary:logistic', 'learning_rate': 0.02, 'random_state': 1993}\n"
     ]
    },
    {
     "name": "stderr",
     "output_type": "stream",
     "text": [
      "/home/tunguz/.local/lib/python3.11/site-packages/xgboost/training.py:38: UserWarning: `feval` is deprecated, use `custom_metric` instead.  They have different behavior when custom objective is also used.See https://xgboost.readthedocs.io/en/latest/tutorials/custom_metric_obj.html for details on the `custom_metric`.\n",
      "  warnings.warn(\n"
     ]
    },
    {
     "name": "stdout",
     "output_type": "stream",
     "text": [
      "Gini coefficient: 0.2858380491127173\n",
      "\n",
      "| \u001b[95m37       \u001b[0m | \u001b[95m0.2858   \u001b[0m | \u001b[95m0.5      \u001b[0m | \u001b[95m3.0      \u001b[0m | \u001b[95m5.963    \u001b[0m | \u001b[95m11.1     \u001b[0m | \u001b[95m3.402    \u001b[0m | \u001b[95m0.1      \u001b[0m | \u001b[95m1.0      \u001b[0m | \u001b[95m0.6      \u001b[0m |\n",
      "hyperparameters : {'max_depth': 6, 'subsample': 0.6, 'colsample_bytree': 1.0, 'min_child_weight': 9.514272271745538, 'gamma': 4.625382598580858, 'reg_alpha': 2.057727545620671, 'reg_lambda': 0.1, 'scale_pos_weight': 1.0, 'objective': 'binary:logistic', 'learning_rate': 0.02, 'random_state': 1993}\n"
     ]
    },
    {
     "name": "stderr",
     "output_type": "stream",
     "text": [
      "/home/tunguz/.local/lib/python3.11/site-packages/xgboost/training.py:38: UserWarning: `feval` is deprecated, use `custom_metric` instead.  They have different behavior when custom objective is also used.See https://xgboost.readthedocs.io/en/latest/tutorials/custom_metric_obj.html for details on the `custom_metric`.\n",
      "  warnings.warn(\n"
     ]
    },
    {
     "name": "stdout",
     "output_type": "stream",
     "text": [
      "Gini coefficient: 0.2835544098925107\n",
      "\n",
      "| \u001b[0m38       \u001b[0m | \u001b[0m0.2836   \u001b[0m | \u001b[0m1.0      \u001b[0m | \u001b[0m4.625    \u001b[0m | \u001b[0m6.344    \u001b[0m | \u001b[0m9.514    \u001b[0m | \u001b[0m2.058    \u001b[0m | \u001b[0m0.1      \u001b[0m | \u001b[0m1.0      \u001b[0m | \u001b[0m0.6      \u001b[0m |\n",
      "hyperparameters : {'max_depth': 7, 'subsample': 0.6, 'colsample_bytree': 0.5, 'min_child_weight': 5.0, 'gamma': 3.0, 'reg_alpha': 5.754680072558848, 'reg_lambda': 0.1, 'scale_pos_weight': 1.0, 'objective': 'binary:logistic', 'learning_rate': 0.02, 'random_state': 1993}\n"
     ]
    },
    {
     "name": "stderr",
     "output_type": "stream",
     "text": [
      "/home/tunguz/.local/lib/python3.11/site-packages/xgboost/training.py:38: UserWarning: `feval` is deprecated, use `custom_metric` instead.  They have different behavior when custom objective is also used.See https://xgboost.readthedocs.io/en/latest/tutorials/custom_metric_obj.html for details on the `custom_metric`.\n",
      "  warnings.warn(\n"
     ]
    },
    {
     "name": "stdout",
     "output_type": "stream",
     "text": [
      "Gini coefficient: 0.2862708186697498\n",
      "\n",
      "| \u001b[95m39       \u001b[0m | \u001b[95m0.2863   \u001b[0m | \u001b[95m0.5      \u001b[0m | \u001b[95m3.0      \u001b[0m | \u001b[95m6.73     \u001b[0m | \u001b[95m5.0      \u001b[0m | \u001b[95m5.755    \u001b[0m | \u001b[95m0.1      \u001b[0m | \u001b[95m1.0      \u001b[0m | \u001b[95m0.6      \u001b[0m |\n",
      "hyperparameters : {'max_depth': 6, 'subsample': 0.6, 'colsample_bytree': 0.5, 'min_child_weight': 5.0, 'gamma': 3.0, 'reg_alpha': 3.2402026593588538, 'reg_lambda': 0.1, 'scale_pos_weight': 1.0, 'objective': 'binary:logistic', 'learning_rate': 0.02, 'random_state': 1993}\n"
     ]
    },
    {
     "name": "stderr",
     "output_type": "stream",
     "text": [
      "/home/tunguz/.local/lib/python3.11/site-packages/xgboost/training.py:38: UserWarning: `feval` is deprecated, use `custom_metric` instead.  They have different behavior when custom objective is also used.See https://xgboost.readthedocs.io/en/latest/tutorials/custom_metric_obj.html for details on the `custom_metric`.\n",
      "  warnings.warn(\n"
     ]
    },
    {
     "name": "stdout",
     "output_type": "stream",
     "text": [
      "Gini coefficient: 0.2862500993005289\n",
      "\n",
      "| \u001b[0m40       \u001b[0m | \u001b[0m0.2863   \u001b[0m | \u001b[0m0.5      \u001b[0m | \u001b[0m3.0      \u001b[0m | \u001b[0m6.289    \u001b[0m | \u001b[0m5.0      \u001b[0m | \u001b[0m3.24     \u001b[0m | \u001b[0m0.1      \u001b[0m | \u001b[0m1.0      \u001b[0m | \u001b[0m0.6      \u001b[0m |\n",
      "hyperparameters : {'max_depth': 7, 'subsample': 0.8528017051971715, 'colsample_bytree': 0.7519103638793956, 'min_child_weight': 6.05909731722155, 'gamma': 3.5471295269482717, 'reg_alpha': 4.045176783558097, 'reg_lambda': 1.3322098905446553, 'scale_pos_weight': 1.5301111434515544, 'objective': 'binary:logistic', 'learning_rate': 0.02, 'random_state': 1993}\n"
     ]
    },
    {
     "name": "stderr",
     "output_type": "stream",
     "text": [
      "/home/tunguz/.local/lib/python3.11/site-packages/xgboost/training.py:38: UserWarning: `feval` is deprecated, use `custom_metric` instead.  They have different behavior when custom objective is also used.See https://xgboost.readthedocs.io/en/latest/tutorials/custom_metric_obj.html for details on the `custom_metric`.\n",
      "  warnings.warn(\n"
     ]
    },
    {
     "name": "stdout",
     "output_type": "stream",
     "text": [
      "Gini coefficient: 0.2819015347480523\n",
      "\n",
      "| \u001b[0m41       \u001b[0m | \u001b[0m0.2819   \u001b[0m | \u001b[0m0.7519   \u001b[0m | \u001b[0m3.547    \u001b[0m | \u001b[0m6.676    \u001b[0m | \u001b[0m6.059    \u001b[0m | \u001b[0m4.045    \u001b[0m | \u001b[0m1.332    \u001b[0m | \u001b[0m1.53     \u001b[0m | \u001b[0m0.8528   \u001b[0m |\n",
      "hyperparameters : {'max_depth': 4, 'subsample': 0.9902272908232179, 'colsample_bytree': 0.7880588262205819, 'min_child_weight': 5.412310924492727, 'gamma': 4.02776044559181, 'reg_alpha': 2.7146121016809595, 'reg_lambda': 0.2618273606700073, 'scale_pos_weight': 1.6362868122474445, 'objective': 'binary:logistic', 'learning_rate': 0.02, 'random_state': 1993}\n"
     ]
    },
    {
     "name": "stderr",
     "output_type": "stream",
     "text": [
      "/home/tunguz/.local/lib/python3.11/site-packages/xgboost/training.py:38: UserWarning: `feval` is deprecated, use `custom_metric` instead.  They have different behavior when custom objective is also used.See https://xgboost.readthedocs.io/en/latest/tutorials/custom_metric_obj.html for details on the `custom_metric`.\n",
      "  warnings.warn(\n"
     ]
    },
    {
     "name": "stdout",
     "output_type": "stream",
     "text": [
      "Gini coefficient: 0.27910729894126707\n",
      "\n",
      "| \u001b[0m42       \u001b[0m | \u001b[0m0.2791   \u001b[0m | \u001b[0m0.7881   \u001b[0m | \u001b[0m4.028    \u001b[0m | \u001b[0m4.103    \u001b[0m | \u001b[0m5.412    \u001b[0m | \u001b[0m2.715    \u001b[0m | \u001b[0m0.2618   \u001b[0m | \u001b[0m1.636    \u001b[0m | \u001b[0m0.9902   \u001b[0m |\n",
      "hyperparameters : {'max_depth': 7, 'subsample': 0.6, 'colsample_bytree': 0.5, 'min_child_weight': 11.133206977060174, 'gamma': 3.0, 'reg_alpha': 2.817656794919924, 'reg_lambda': 1.5, 'scale_pos_weight': 2.0, 'objective': 'binary:logistic', 'learning_rate': 0.02, 'random_state': 1993}\n"
     ]
    },
    {
     "name": "stderr",
     "output_type": "stream",
     "text": [
      "/home/tunguz/.local/lib/python3.11/site-packages/xgboost/training.py:38: UserWarning: `feval` is deprecated, use `custom_metric` instead.  They have different behavior when custom objective is also used.See https://xgboost.readthedocs.io/en/latest/tutorials/custom_metric_obj.html for details on the `custom_metric`.\n",
      "  warnings.warn(\n"
     ]
    },
    {
     "name": "stdout",
     "output_type": "stream",
     "text": [
      "Gini coefficient: 0.2832827411139968\n",
      "\n",
      "| \u001b[0m43       \u001b[0m | \u001b[0m0.2833   \u001b[0m | \u001b[0m0.5      \u001b[0m | \u001b[0m3.0      \u001b[0m | \u001b[0m6.568    \u001b[0m | \u001b[0m11.13    \u001b[0m | \u001b[0m2.818    \u001b[0m | \u001b[0m1.5      \u001b[0m | \u001b[0m2.0      \u001b[0m | \u001b[0m0.6      \u001b[0m |\n",
      "hyperparameters : {'max_depth': 5, 'subsample': 1.0, 'colsample_bytree': 1.0, 'min_child_weight': 11.189794258890743, 'gamma': 3.0, 'reg_alpha': 4.619885455537425, 'reg_lambda': 0.1, 'scale_pos_weight': 2.0, 'objective': 'binary:logistic', 'learning_rate': 0.02, 'random_state': 1993}\n"
     ]
    },
    {
     "name": "stderr",
     "output_type": "stream",
     "text": [
      "/home/tunguz/.local/lib/python3.11/site-packages/xgboost/training.py:38: UserWarning: `feval` is deprecated, use `custom_metric` instead.  They have different behavior when custom objective is also used.See https://xgboost.readthedocs.io/en/latest/tutorials/custom_metric_obj.html for details on the `custom_metric`.\n",
      "  warnings.warn(\n"
     ]
    },
    {
     "name": "stdout",
     "output_type": "stream",
     "text": [
      "Gini coefficient: 0.2781509043418345\n",
      "\n",
      "| \u001b[0m44       \u001b[0m | \u001b[0m0.2782   \u001b[0m | \u001b[0m1.0      \u001b[0m | \u001b[0m3.0      \u001b[0m | \u001b[0m4.829    \u001b[0m | \u001b[0m11.19    \u001b[0m | \u001b[0m4.62     \u001b[0m | \u001b[0m0.1      \u001b[0m | \u001b[0m2.0      \u001b[0m | \u001b[0m1.0      \u001b[0m |\n",
      "hyperparameters : {'max_depth': 7, 'subsample': 0.7407025126968992, 'colsample_bytree': 0.5500551133729729, 'min_child_weight': 11.331546522393722, 'gamma': 3.5845923506142423, 'reg_alpha': 4.2691655450581, 'reg_lambda': 0.5803399505547525, 'scale_pos_weight': 1.7213844180262907, 'objective': 'binary:logistic', 'learning_rate': 0.02, 'random_state': 1993}\n"
     ]
    },
    {
     "name": "stderr",
     "output_type": "stream",
     "text": [
      "/home/tunguz/.local/lib/python3.11/site-packages/xgboost/training.py:38: UserWarning: `feval` is deprecated, use `custom_metric` instead.  They have different behavior when custom objective is also used.See https://xgboost.readthedocs.io/en/latest/tutorials/custom_metric_obj.html for details on the `custom_metric`.\n",
      "  warnings.warn(\n"
     ]
    },
    {
     "name": "stdout",
     "output_type": "stream",
     "text": [
      "Gini coefficient: 0.2832398911616873\n",
      "\n",
      "| \u001b[0m45       \u001b[0m | \u001b[0m0.2832   \u001b[0m | \u001b[0m0.5501   \u001b[0m | \u001b[0m3.585    \u001b[0m | \u001b[0m6.855    \u001b[0m | \u001b[0m11.33    \u001b[0m | \u001b[0m4.269    \u001b[0m | \u001b[0m0.5803   \u001b[0m | \u001b[0m1.721    \u001b[0m | \u001b[0m0.7407   \u001b[0m |\n",
      "hyperparameters : {'max_depth': 6, 'subsample': 0.6, 'colsample_bytree': 0.5, 'min_child_weight': 10.130947390319509, 'gamma': 3.846265260077911, 'reg_alpha': 3.541675428098197, 'reg_lambda': 0.19967771940430956, 'scale_pos_weight': 1.2043232767713237, 'objective': 'binary:logistic', 'learning_rate': 0.02, 'random_state': 1993}\n"
     ]
    },
    {
     "name": "stderr",
     "output_type": "stream",
     "text": [
      "/home/tunguz/.local/lib/python3.11/site-packages/xgboost/training.py:38: UserWarning: `feval` is deprecated, use `custom_metric` instead.  They have different behavior when custom objective is also used.See https://xgboost.readthedocs.io/en/latest/tutorials/custom_metric_obj.html for details on the `custom_metric`.\n",
      "  warnings.warn(\n"
     ]
    },
    {
     "name": "stdout",
     "output_type": "stream",
     "text": [
      "Gini coefficient: 0.28532928427365195\n",
      "\n",
      "| \u001b[0m46       \u001b[0m | \u001b[0m0.2853   \u001b[0m | \u001b[0m0.5      \u001b[0m | \u001b[0m3.846    \u001b[0m | \u001b[0m5.883    \u001b[0m | \u001b[0m10.13    \u001b[0m | \u001b[0m3.542    \u001b[0m | \u001b[0m0.1997   \u001b[0m | \u001b[0m1.204    \u001b[0m | \u001b[0m0.6      \u001b[0m |\n",
      "hyperparameters : {'max_depth': 6, 'subsample': 0.6495299434821125, 'colsample_bytree': 0.7666876174995412, 'min_child_weight': 5.2405416841369155, 'gamma': 3.077144814018438, 'reg_alpha': 4.424728698254653, 'reg_lambda': 0.3086821315170775, 'scale_pos_weight': 1.41133310585121, 'objective': 'binary:logistic', 'learning_rate': 0.02, 'random_state': 1993}\n"
     ]
    },
    {
     "name": "stderr",
     "output_type": "stream",
     "text": [
      "/home/tunguz/.local/lib/python3.11/site-packages/xgboost/training.py:38: UserWarning: `feval` is deprecated, use `custom_metric` instead.  They have different behavior when custom objective is also used.See https://xgboost.readthedocs.io/en/latest/tutorials/custom_metric_obj.html for details on the `custom_metric`.\n",
      "  warnings.warn(\n"
     ]
    },
    {
     "name": "stdout",
     "output_type": "stream",
     "text": [
      "Gini coefficient: 0.28349438275822414\n",
      "\n",
      "| \u001b[0m47       \u001b[0m | \u001b[0m0.2835   \u001b[0m | \u001b[0m0.7667   \u001b[0m | \u001b[0m3.077    \u001b[0m | \u001b[0m5.752    \u001b[0m | \u001b[0m5.241    \u001b[0m | \u001b[0m4.425    \u001b[0m | \u001b[0m0.3087   \u001b[0m | \u001b[0m1.411    \u001b[0m | \u001b[0m0.6495   \u001b[0m |\n",
      "hyperparameters : {'max_depth': 6, 'subsample': 0.6, 'colsample_bytree': 0.5266915139907162, 'min_child_weight': 5.048764455352355, 'gamma': 3.225634665662528, 'reg_alpha': 6.929661008157756, 'reg_lambda': 0.16234728592988912, 'scale_pos_weight': 1.2320261441287903, 'objective': 'binary:logistic', 'learning_rate': 0.02, 'random_state': 1993}\n"
     ]
    },
    {
     "name": "stderr",
     "output_type": "stream",
     "text": [
      "/home/tunguz/.local/lib/python3.11/site-packages/xgboost/training.py:38: UserWarning: `feval` is deprecated, use `custom_metric` instead.  They have different behavior when custom objective is also used.See https://xgboost.readthedocs.io/en/latest/tutorials/custom_metric_obj.html for details on the `custom_metric`.\n",
      "  warnings.warn(\n"
     ]
    },
    {
     "name": "stdout",
     "output_type": "stream",
     "text": [
      "Gini coefficient: 0.2855241490515839\n",
      "\n",
      "| \u001b[0m48       \u001b[0m | \u001b[0m0.2855   \u001b[0m | \u001b[0m0.5267   \u001b[0m | \u001b[0m3.226    \u001b[0m | \u001b[0m6.024    \u001b[0m | \u001b[0m5.049    \u001b[0m | \u001b[0m6.93     \u001b[0m | \u001b[0m0.1623   \u001b[0m | \u001b[0m1.232    \u001b[0m | \u001b[0m0.6      \u001b[0m |\n",
      "hyperparameters : {'max_depth': 5, 'subsample': 0.6, 'colsample_bytree': 0.5, 'min_child_weight': 10.727250119134368, 'gamma': 3.921736611333804, 'reg_alpha': 6.558044898602449, 'reg_lambda': 0.5641053289123935, 'scale_pos_weight': 1.6568597330580395, 'objective': 'binary:logistic', 'learning_rate': 0.02, 'random_state': 1993}\n"
     ]
    },
    {
     "name": "stderr",
     "output_type": "stream",
     "text": [
      "/home/tunguz/.local/lib/python3.11/site-packages/xgboost/training.py:38: UserWarning: `feval` is deprecated, use `custom_metric` instead.  They have different behavior when custom objective is also used.See https://xgboost.readthedocs.io/en/latest/tutorials/custom_metric_obj.html for details on the `custom_metric`.\n",
      "  warnings.warn(\n"
     ]
    },
    {
     "name": "stdout",
     "output_type": "stream",
     "text": [
      "Gini coefficient: 0.2856733535802493\n",
      "\n",
      "| \u001b[0m49       \u001b[0m | \u001b[0m0.2857   \u001b[0m | \u001b[0m0.5      \u001b[0m | \u001b[0m3.922    \u001b[0m | \u001b[0m4.83     \u001b[0m | \u001b[0m10.73    \u001b[0m | \u001b[0m6.558    \u001b[0m | \u001b[0m0.5641   \u001b[0m | \u001b[0m1.657    \u001b[0m | \u001b[0m0.6      \u001b[0m |\n",
      "hyperparameters : {'max_depth': 6, 'subsample': 0.6, 'colsample_bytree': 0.5, 'min_child_weight': 9.835328576678714, 'gamma': 3.9294823766233615, 'reg_alpha': 5.404910852391608, 'reg_lambda': 0.6965597571283834, 'scale_pos_weight': 1.0, 'objective': 'binary:logistic', 'learning_rate': 0.02, 'random_state': 1993}\n"
     ]
    },
    {
     "name": "stderr",
     "output_type": "stream",
     "text": [
      "/home/tunguz/.local/lib/python3.11/site-packages/xgboost/training.py:38: UserWarning: `feval` is deprecated, use `custom_metric` instead.  They have different behavior when custom objective is also used.See https://xgboost.readthedocs.io/en/latest/tutorials/custom_metric_obj.html for details on the `custom_metric`.\n",
      "  warnings.warn(\n"
     ]
    },
    {
     "name": "stdout",
     "output_type": "stream",
     "text": [
      "Gini coefficient: 0.2842619496636916\n",
      "\n",
      "| \u001b[0m50       \u001b[0m | \u001b[0m0.2843   \u001b[0m | \u001b[0m0.5      \u001b[0m | \u001b[0m3.929    \u001b[0m | \u001b[0m5.508    \u001b[0m | \u001b[0m9.835    \u001b[0m | \u001b[0m5.405    \u001b[0m | \u001b[0m0.6966   \u001b[0m | \u001b[0m1.0      \u001b[0m | \u001b[0m0.6      \u001b[0m |\n",
      "hyperparameters : {'max_depth': 8, 'subsample': 0.6, 'colsample_bytree': 0.5, 'min_child_weight': 5.0, 'gamma': 3.0, 'reg_alpha': 6.842972494186192, 'reg_lambda': 0.1, 'scale_pos_weight': 1.0, 'objective': 'binary:logistic', 'learning_rate': 0.02, 'random_state': 1993}\n"
     ]
    },
    {
     "name": "stderr",
     "output_type": "stream",
     "text": [
      "/home/tunguz/.local/lib/python3.11/site-packages/xgboost/training.py:38: UserWarning: `feval` is deprecated, use `custom_metric` instead.  They have different behavior when custom objective is also used.See https://xgboost.readthedocs.io/en/latest/tutorials/custom_metric_obj.html for details on the `custom_metric`.\n",
      "  warnings.warn(\n"
     ]
    },
    {
     "name": "stdout",
     "output_type": "stream",
     "text": [
      "Gini coefficient: 0.28475973614845684\n",
      "\n",
      "| \u001b[0m51       \u001b[0m | \u001b[0m0.2848   \u001b[0m | \u001b[0m0.5      \u001b[0m | \u001b[0m3.0      \u001b[0m | \u001b[0m7.742    \u001b[0m | \u001b[0m5.0      \u001b[0m | \u001b[0m6.843    \u001b[0m | \u001b[0m0.1      \u001b[0m | \u001b[0m1.0      \u001b[0m | \u001b[0m0.6      \u001b[0m |\n",
      "hyperparameters : {'max_depth': 8, 'subsample': 0.6, 'colsample_bytree': 0.5, 'min_child_weight': 5.0, 'gamma': 3.0, 'reg_alpha': 4.077609047493253, 'reg_lambda': 0.1, 'scale_pos_weight': 1.0, 'objective': 'binary:logistic', 'learning_rate': 0.02, 'random_state': 1993}\n"
     ]
    },
    {
     "name": "stderr",
     "output_type": "stream",
     "text": [
      "/home/tunguz/.local/lib/python3.11/site-packages/xgboost/training.py:38: UserWarning: `feval` is deprecated, use `custom_metric` instead.  They have different behavior when custom objective is also used.See https://xgboost.readthedocs.io/en/latest/tutorials/custom_metric_obj.html for details on the `custom_metric`.\n",
      "  warnings.warn(\n"
     ]
    },
    {
     "name": "stdout",
     "output_type": "stream",
     "text": [
      "Gini coefficient: 0.28534960737078385\n",
      "\n",
      "| \u001b[0m52       \u001b[0m | \u001b[0m0.2853   \u001b[0m | \u001b[0m0.5      \u001b[0m | \u001b[0m3.0      \u001b[0m | \u001b[0m7.648    \u001b[0m | \u001b[0m5.0      \u001b[0m | \u001b[0m4.078    \u001b[0m | \u001b[0m0.1      \u001b[0m | \u001b[0m1.0      \u001b[0m | \u001b[0m0.6      \u001b[0m |\n",
      "hyperparameters : {'max_depth': 7, 'subsample': 0.6, 'colsample_bytree': 0.5, 'min_child_weight': 5.0, 'gamma': 4.568221093956778, 'reg_alpha': 6.021894358340864, 'reg_lambda': 0.1, 'scale_pos_weight': 1.0, 'objective': 'binary:logistic', 'learning_rate': 0.02, 'random_state': 1993}\n"
     ]
    },
    {
     "name": "stderr",
     "output_type": "stream",
     "text": [
      "/home/tunguz/.local/lib/python3.11/site-packages/xgboost/training.py:38: UserWarning: `feval` is deprecated, use `custom_metric` instead.  They have different behavior when custom objective is also used.See https://xgboost.readthedocs.io/en/latest/tutorials/custom_metric_obj.html for details on the `custom_metric`.\n",
      "  warnings.warn(\n"
     ]
    },
    {
     "name": "stdout",
     "output_type": "stream",
     "text": [
      "Gini coefficient: 0.2835239818571111\n",
      "\n",
      "| \u001b[0m53       \u001b[0m | \u001b[0m0.2835   \u001b[0m | \u001b[0m0.5      \u001b[0m | \u001b[0m4.568    \u001b[0m | \u001b[0m6.802    \u001b[0m | \u001b[0m5.0      \u001b[0m | \u001b[0m6.022    \u001b[0m | \u001b[0m0.1      \u001b[0m | \u001b[0m1.0      \u001b[0m | \u001b[0m0.6      \u001b[0m |\n",
      "hyperparameters : {'max_depth': 6, 'subsample': 0.887224934893416, 'colsample_bytree': 0.899599677937608, 'min_child_weight': 6.238105589370054, 'gamma': 3.116010630263956, 'reg_alpha': 8.842753695990275, 'reg_lambda': 0.4662642090111643, 'scale_pos_weight': 1.0537510462066357, 'objective': 'binary:logistic', 'learning_rate': 0.02, 'random_state': 1993}\n"
     ]
    },
    {
     "name": "stderr",
     "output_type": "stream",
     "text": [
      "/home/tunguz/.local/lib/python3.11/site-packages/xgboost/training.py:38: UserWarning: `feval` is deprecated, use `custom_metric` instead.  They have different behavior when custom objective is also used.See https://xgboost.readthedocs.io/en/latest/tutorials/custom_metric_obj.html for details on the `custom_metric`.\n",
      "  warnings.warn(\n"
     ]
    },
    {
     "name": "stdout",
     "output_type": "stream",
     "text": [
      "Gini coefficient: 0.2817289784712896\n",
      "\n",
      "| \u001b[0m54       \u001b[0m | \u001b[0m0.2817   \u001b[0m | \u001b[0m0.8996   \u001b[0m | \u001b[0m3.116    \u001b[0m | \u001b[0m5.553    \u001b[0m | \u001b[0m6.238    \u001b[0m | \u001b[0m8.843    \u001b[0m | \u001b[0m0.4663   \u001b[0m | \u001b[0m1.054    \u001b[0m | \u001b[0m0.8872   \u001b[0m |\n",
      "hyperparameters : {'max_depth': 6, 'subsample': 0.6, 'colsample_bytree': 0.5, 'min_child_weight': 11.81519748448993, 'gamma': 4.2428371517554, 'reg_alpha': 2.615400423173235, 'reg_lambda': 0.1, 'scale_pos_weight': 1.0, 'objective': 'binary:logistic', 'learning_rate': 0.02, 'random_state': 1993}\n"
     ]
    },
    {
     "name": "stderr",
     "output_type": "stream",
     "text": [
      "/home/tunguz/.local/lib/python3.11/site-packages/xgboost/training.py:38: UserWarning: `feval` is deprecated, use `custom_metric` instead.  They have different behavior when custom objective is also used.See https://xgboost.readthedocs.io/en/latest/tutorials/custom_metric_obj.html for details on the `custom_metric`.\n",
      "  warnings.warn(\n"
     ]
    },
    {
     "name": "stdout",
     "output_type": "stream",
     "text": [
      "Gini coefficient: 0.28358669798057246\n",
      "\n",
      "| \u001b[0m55       \u001b[0m | \u001b[0m0.2836   \u001b[0m | \u001b[0m0.5      \u001b[0m | \u001b[0m4.243    \u001b[0m | \u001b[0m5.952    \u001b[0m | \u001b[0m11.82    \u001b[0m | \u001b[0m2.615    \u001b[0m | \u001b[0m0.1      \u001b[0m | \u001b[0m1.0      \u001b[0m | \u001b[0m0.6      \u001b[0m |\n",
      "hyperparameters : {'max_depth': 4, 'subsample': 0.6, 'colsample_bytree': 0.5, 'min_child_weight': 11.419413476751902, 'gamma': 3.0, 'reg_alpha': 7.224648542076648, 'reg_lambda': 0.2955600803585693, 'scale_pos_weight': 2.0, 'objective': 'binary:logistic', 'learning_rate': 0.02, 'random_state': 1993}\n"
     ]
    },
    {
     "name": "stderr",
     "output_type": "stream",
     "text": [
      "/home/tunguz/.local/lib/python3.11/site-packages/xgboost/training.py:38: UserWarning: `feval` is deprecated, use `custom_metric` instead.  They have different behavior when custom objective is also used.See https://xgboost.readthedocs.io/en/latest/tutorials/custom_metric_obj.html for details on the `custom_metric`.\n",
      "  warnings.warn(\n"
     ]
    },
    {
     "name": "stdout",
     "output_type": "stream",
     "text": [
      "Gini coefficient: 0.28562446250038004\n",
      "\n",
      "| \u001b[0m56       \u001b[0m | \u001b[0m0.2856   \u001b[0m | \u001b[0m0.5      \u001b[0m | \u001b[0m3.0      \u001b[0m | \u001b[0m4.0      \u001b[0m | \u001b[0m11.42    \u001b[0m | \u001b[0m7.225    \u001b[0m | \u001b[0m0.2956   \u001b[0m | \u001b[0m2.0      \u001b[0m | \u001b[0m0.6      \u001b[0m |\n",
      "=========================================================================================================================\n",
      "CPU times: user 1d 12h 50min 9s, sys: 2min 59s, total: 1d 12h 53min 9s\n",
      "Wall time: 2h 29min 16s\n"
     ]
    }
   ],
   "source": [
    "%%time\n",
    "optimizer = BayesianOptimization(f=eval_function, \n",
    "                                 pbounds=param_bounds, \n",
    "                                 random_state=0)\n",
    "\n",
    "\n",
    "optimizer.maximize(init_points=6, n_iter=50)"
   ]
  },
  {
   "cell_type": "code",
   "execution_count": 20,
   "metadata": {},
   "outputs": [
    {
     "data": {
      "text/plain": [
       "{'colsample_bytree': 0.5,\n",
       " 'gamma': 3.0,\n",
       " 'max_depth': 6.7298867719391895,\n",
       " 'min_child_weight': 5.0,\n",
       " 'reg_alpha': 5.754680072558848,\n",
       " 'reg_lambda': 0.1,\n",
       " 'scale_pos_weight': 1.0,\n",
       " 'subsample': 0.6}"
      ]
     },
     "execution_count": 20,
     "metadata": {},
     "output_type": "execute_result"
    }
   ],
   "source": [
    "max_params = optimizer.max['params']\n",
    "max_params"
   ]
  },
  {
   "cell_type": "code",
   "execution_count": 21,
   "metadata": {},
   "outputs": [
    {
     "data": {
      "text/plain": [
       "{'colsample_bytree': 0.5,\n",
       " 'gamma': 3.0,\n",
       " 'max_depth': 7,\n",
       " 'min_child_weight': 5.0,\n",
       " 'reg_alpha': 5.754680072558848,\n",
       " 'reg_lambda': 0.1,\n",
       " 'scale_pos_weight': 1.0,\n",
       " 'subsample': 0.6,\n",
       " 'objective': 'binary:logistic',\n",
       " 'learning_rate': 0.02,\n",
       " 'random_state': 1993}"
      ]
     },
     "execution_count": 21,
     "metadata": {},
     "output_type": "execute_result"
    }
   ],
   "source": [
    "max_params['max_depth'] = int(round(max_params['max_depth']))\n",
    "\n",
    "max_params.update(fixed_params)\n",
    "max_params"
   ]
  },
  {
   "cell_type": "code",
   "execution_count": 22,
   "metadata": {},
   "outputs": [
    {
     "name": "stdout",
     "output_type": "stream",
     "text": [
      "######################################## Fold 1 / 5 ########################################\n"
     ]
    },
    {
     "name": "stderr",
     "output_type": "stream",
     "text": [
      "/home/tunguz/.local/lib/python3.11/site-packages/xgboost/training.py:38: UserWarning: `feval` is deprecated, use `custom_metric` instead.  They have different behavior when custom objective is also used.See https://xgboost.readthedocs.io/en/latest/tutorials/custom_metric_obj.html for details on the `custom_metric`.\n",
      "  warnings.warn(\n"
     ]
    },
    {
     "name": "stdout",
     "output_type": "stream",
     "text": [
      "[0]\tvalid-logloss:0.21137\tvalid-gini:0.19231\n",
      "[100]\tvalid-logloss:0.15529\tvalid-gini:0.27176\n",
      "[200]\tvalid-logloss:0.15202\tvalid-gini:0.28596\n",
      "[300]\tvalid-logloss:0.15163\tvalid-gini:0.29233\n",
      "[400]\tvalid-logloss:0.15147\tvalid-gini:0.29643\n",
      "[500]\tvalid-logloss:0.15143\tvalid-gini:0.29755\n",
      "[600]\tvalid-logloss:0.15141\tvalid-gini:0.29791\n",
      "[700]\tvalid-logloss:0.15140\tvalid-gini:0.29831\n",
      "[800]\tvalid-logloss:0.15139\tvalid-gini:0.29865\n",
      "[900]\tvalid-logloss:0.15138\tvalid-gini:0.29891\n",
      "[1000]\tvalid-logloss:0.15138\tvalid-gini:0.29893\n",
      "[1100]\tvalid-logloss:0.15137\tvalid-gini:0.29916\n",
      "[1200]\tvalid-logloss:0.15138\tvalid-gini:0.29872\n",
      "[1300]\tvalid-logloss:0.15139\tvalid-gini:0.29879\n",
      "[1315]\tvalid-logloss:0.15138\tvalid-gini:0.29890\n",
      "Fold 1 gini score : 0.2991940038752933\n",
      "\n",
      "######################################## Fold 2 / 5 ########################################\n",
      "[0]\tvalid-logloss:0.21137\tvalid-gini:0.18049\n",
      "[100]\tvalid-logloss:0.15543\tvalid-gini:0.26108\n",
      "[200]\tvalid-logloss:0.15227\tvalid-gini:0.27386\n",
      "[300]\tvalid-logloss:0.15195\tvalid-gini:0.27890\n",
      "[400]\tvalid-logloss:0.15187\tvalid-gini:0.28111\n",
      "[500]\tvalid-logloss:0.15180\tvalid-gini:0.28309\n",
      "[600]\tvalid-logloss:0.15178\tvalid-gini:0.28374\n",
      "[700]\tvalid-logloss:0.15177\tvalid-gini:0.28403\n",
      "[800]\tvalid-logloss:0.15176\tvalid-gini:0.28436\n",
      "[900]\tvalid-logloss:0.15175\tvalid-gini:0.28464\n",
      "[1000]\tvalid-logloss:0.15175\tvalid-gini:0.28481\n",
      "[1100]\tvalid-logloss:0.15175\tvalid-gini:0.28471\n",
      "[1181]\tvalid-logloss:0.15175\tvalid-gini:0.28468\n",
      "Fold 2 gini score : 0.28478511388580535\n",
      "\n",
      "######################################## Fold 3 / 5 ########################################\n",
      "[0]\tvalid-logloss:0.21135\tvalid-gini:0.20005\n",
      "[100]\tvalid-logloss:0.15526\tvalid-gini:0.26476\n",
      "[200]\tvalid-logloss:0.15202\tvalid-gini:0.27758\n",
      "[300]\tvalid-logloss:0.15168\tvalid-gini:0.28219\n",
      "[400]\tvalid-logloss:0.15161\tvalid-gini:0.28312\n",
      "[500]\tvalid-logloss:0.15158\tvalid-gini:0.28386\n",
      "[600]\tvalid-logloss:0.15157\tvalid-gini:0.28415\n",
      "[700]\tvalid-logloss:0.15159\tvalid-gini:0.28372\n",
      "[784]\tvalid-logloss:0.15159\tvalid-gini:0.28369\n",
      "Fold 3 gini score : 0.2842572653658841\n",
      "\n",
      "######################################## Fold 4 / 5 ########################################\n",
      "[0]\tvalid-logloss:0.21136\tvalid-gini:0.18586\n",
      "[100]\tvalid-logloss:0.15540\tvalid-gini:0.25827\n",
      "[200]\tvalid-logloss:0.15231\tvalid-gini:0.26933\n",
      "[300]\tvalid-logloss:0.15199\tvalid-gini:0.27398\n",
      "[400]\tvalid-logloss:0.15190\tvalid-gini:0.27638\n",
      "[500]\tvalid-logloss:0.15186\tvalid-gini:0.27765\n",
      "[600]\tvalid-logloss:0.15185\tvalid-gini:0.27798\n",
      "[700]\tvalid-logloss:0.15183\tvalid-gini:0.27870\n",
      "[800]\tvalid-logloss:0.15183\tvalid-gini:0.27865\n",
      "[900]\tvalid-logloss:0.15183\tvalid-gini:0.27867\n",
      "[913]\tvalid-logloss:0.15183\tvalid-gini:0.27869\n",
      "Fold 4 gini score : 0.2787999072132978\n",
      "\n",
      "######################################## Fold 5 / 5 ########################################\n",
      "[0]\tvalid-logloss:0.21136\tvalid-gini:0.19189\n",
      "[100]\tvalid-logloss:0.15547\tvalid-gini:0.26862\n",
      "[200]\tvalid-logloss:0.15233\tvalid-gini:0.28099\n",
      "[300]\tvalid-logloss:0.15191\tvalid-gini:0.28936\n",
      "[400]\tvalid-logloss:0.15179\tvalid-gini:0.29226\n",
      "[500]\tvalid-logloss:0.15173\tvalid-gini:0.29372\n",
      "[600]\tvalid-logloss:0.15170\tvalid-gini:0.29466\n",
      "[700]\tvalid-logloss:0.15167\tvalid-gini:0.29560\n",
      "[800]\tvalid-logloss:0.15166\tvalid-gini:0.29576\n",
      "[900]\tvalid-logloss:0.15165\tvalid-gini:0.29610\n",
      "[1000]\tvalid-logloss:0.15164\tvalid-gini:0.29640\n",
      "[1100]\tvalid-logloss:0.15164\tvalid-gini:0.29648\n",
      "[1200]\tvalid-logloss:0.15164\tvalid-gini:0.29646\n",
      "[1261]\tvalid-logloss:0.15163\tvalid-gini:0.29646\n",
      "Fold 5 gini score : 0.2965129496829289\n",
      "\n",
      "CPU times: user 3h 21min 7s, sys: 8.47 s, total: 3h 21min 16s\n",
      "Wall time: 13min 28s\n"
     ]
    }
   ],
   "source": [
    "%%time\n",
    "\n",
    "folds = StratifiedKFold(n_splits=5, shuffle=True, random_state=1991)\n",
    "\n",
    "\n",
    "oof_val_preds = np.zeros(X.shape[0]) \n",
    "oof_test_preds = np.zeros(X_test.shape[0]) \n",
    "dtest = xgb.DMatrix(X_test)\n",
    "\n",
    "for idx, (train_idx, valid_idx) in enumerate(folds.split(X, y)):\n",
    "\n",
    "    print('#'*40, f'Fold {idx+1} / {folds.n_splits}', '#'*40)\n",
    "    \n",
    "    X_train, y_train = X[train_idx], y[train_idx]\n",
    "    X_valid, y_valid = X[valid_idx], y[valid_idx]\n",
    "\n",
    "\n",
    "    dtrain = xgb.DMatrix(X_train, y_train)\n",
    "    dvalid = xgb.DMatrix(X_valid, y_valid)\n",
    "   \n",
    "\n",
    "    xgb_model = xgb.train(params=max_params, \n",
    "                          dtrain=dtrain,\n",
    "                          num_boost_round=2000,\n",
    "                          evals=[(dvalid, 'valid')],\n",
    "                          maximize=True,\n",
    "                          feval=gini,\n",
    "                          early_stopping_rounds=200,\n",
    "                          verbose_eval=100)\n",
    "\n",
    "    best_iter = xgb_model.best_iteration\n",
    "    oof_test_preds += xgb_model.predict(dtest,\n",
    "                                        iteration_range=(0, best_iter))/folds.n_splits\n",
    "    \n",
    "    oof_val_preds[valid_idx] += xgb_model.predict(dvalid, \n",
    "                                                  iteration_range=(0, best_iter))\n",
    "    \n",
    "    gini_score = eval_gini(y_valid, oof_val_preds[valid_idx])\n",
    "    print(f'Fold {idx+1} gini score : {gini_score}\\n')"
   ]
  },
  {
   "cell_type": "code",
   "execution_count": 23,
   "metadata": {},
   "outputs": [
    {
     "name": "stdout",
     "output_type": "stream",
     "text": [
      "OOF Verification data Gini coefficient: 0.28864889403014304\n"
     ]
    }
   ],
   "source": [
    "print('OOF Verification data Gini coefficient:', eval_gini(y, oof_val_preds))\n"
   ]
  },
  {
   "cell_type": "code",
   "execution_count": 24,
   "metadata": {},
   "outputs": [],
   "source": [
    "submission['target'] = oof_test_preds\n",
    "submission.to_csv('../submissions/submission_best_kaggle_xgb_2.csv')"
   ]
  },
  {
   "cell_type": "code",
   "execution_count": 27,
   "metadata": {},
   "outputs": [
    {
     "data": {
      "text/plain": [
       "{'colsample_bytree': 0.5,\n",
       " 'gamma': 3.0,\n",
       " 'max_depth': 7,\n",
       " 'min_child_weight': 5.0,\n",
       " 'reg_alpha': 5.754680072558848,\n",
       " 'reg_lambda': 0.1,\n",
       " 'scale_pos_weight': 1.0,\n",
       " 'subsample': 0.6,\n",
       " 'objective': 'binary:logistic',\n",
       " 'learning_rate': 0.005,\n",
       " 'random_state': 1993}"
      ]
     },
     "execution_count": 27,
     "metadata": {},
     "output_type": "execute_result"
    }
   ],
   "source": [
    "fixed_params = {'objective' : 'binary:logistic',\n",
    "                'learning_rate': 0.005,\n",
    "                'random_state': 1993}\n",
    "\n",
    "max_params.update(fixed_params)\n",
    "max_params"
   ]
  },
  {
   "cell_type": "code",
   "execution_count": 28,
   "metadata": {},
   "outputs": [
    {
     "name": "stdout",
     "output_type": "stream",
     "text": [
      "######################################## Fold 1 / 5 ########################################\n"
     ]
    },
    {
     "name": "stderr",
     "output_type": "stream",
     "text": [
      "/home/tunguz/.local/lib/python3.11/site-packages/xgboost/training.py:38: UserWarning: `feval` is deprecated, use `custom_metric` instead.  They have different behavior when custom objective is also used.See https://xgboost.readthedocs.io/en/latest/tutorials/custom_metric_obj.html for details on the `custom_metric`.\n",
      "  warnings.warn(\n"
     ]
    },
    {
     "name": "stdout",
     "output_type": "stream",
     "text": [
      "[0]\tvalid-logloss:0.21263\tvalid-gini:0.19231\n",
      "[400]\tvalid-logloss:0.15541\tvalid-gini:0.27204\n",
      "[800]\tvalid-logloss:0.15202\tvalid-gini:0.28597\n",
      "[1200]\tvalid-logloss:0.15160\tvalid-gini:0.29323\n",
      "[1600]\tvalid-logloss:0.15145\tvalid-gini:0.29684\n",
      "[2000]\tvalid-logloss:0.15140\tvalid-gini:0.29823\n",
      "[2400]\tvalid-logloss:0.15137\tvalid-gini:0.29896\n",
      "[2800]\tvalid-logloss:0.15135\tvalid-gini:0.29966\n",
      "[3200]\tvalid-logloss:0.15133\tvalid-gini:0.30010\n",
      "[3600]\tvalid-logloss:0.15132\tvalid-gini:0.30029\n",
      "[4000]\tvalid-logloss:0.15131\tvalid-gini:0.30054\n",
      "[4400]\tvalid-logloss:0.15131\tvalid-gini:0.30071\n",
      "[4800]\tvalid-logloss:0.15131\tvalid-gini:0.30086\n",
      "[5200]\tvalid-logloss:0.15130\tvalid-gini:0.30087\n",
      "[5600]\tvalid-logloss:0.15130\tvalid-gini:0.30094\n",
      "[6000]\tvalid-logloss:0.15130\tvalid-gini:0.30096\n",
      "[6400]\tvalid-logloss:0.15130\tvalid-gini:0.30099\n",
      "[6800]\tvalid-logloss:0.15130\tvalid-gini:0.30096\n",
      "[7200]\tvalid-logloss:0.15130\tvalid-gini:0.30100\n",
      "[7600]\tvalid-logloss:0.15130\tvalid-gini:0.30104\n",
      "[8000]\tvalid-logloss:0.15130\tvalid-gini:0.30107\n",
      "[8400]\tvalid-logloss:0.15130\tvalid-gini:0.30105\n",
      "[8800]\tvalid-logloss:0.15130\tvalid-gini:0.30101\n",
      "[9140]\tvalid-logloss:0.15130\tvalid-gini:0.30088\n",
      "Fold 1 gini score : 0.3011046503422733\n",
      "\n",
      "######################################## Fold 2 / 5 ########################################\n",
      "[0]\tvalid-logloss:0.21263\tvalid-gini:0.18030\n",
      "[400]\tvalid-logloss:0.15553\tvalid-gini:0.26192\n",
      "[800]\tvalid-logloss:0.15228\tvalid-gini:0.27397\n",
      "[1200]\tvalid-logloss:0.15193\tvalid-gini:0.27938\n",
      "[1600]\tvalid-logloss:0.15183\tvalid-gini:0.28195\n",
      "[2000]\tvalid-logloss:0.15179\tvalid-gini:0.28312\n",
      "[2400]\tvalid-logloss:0.15177\tvalid-gini:0.28370\n",
      "[2800]\tvalid-logloss:0.15176\tvalid-gini:0.28400\n",
      "[3200]\tvalid-logloss:0.15175\tvalid-gini:0.28437\n",
      "[3600]\tvalid-logloss:0.15174\tvalid-gini:0.28459\n",
      "[4000]\tvalid-logloss:0.15174\tvalid-gini:0.28474\n",
      "[4400]\tvalid-logloss:0.15174\tvalid-gini:0.28484\n",
      "[4800]\tvalid-logloss:0.15173\tvalid-gini:0.28492\n",
      "[5200]\tvalid-logloss:0.15173\tvalid-gini:0.28486\n",
      "[5600]\tvalid-logloss:0.15173\tvalid-gini:0.28492\n",
      "[6000]\tvalid-logloss:0.15173\tvalid-gini:0.28494\n",
      "[6400]\tvalid-logloss:0.15173\tvalid-gini:0.28510\n",
      "[6800]\tvalid-logloss:0.15172\tvalid-gini:0.28526\n",
      "[7200]\tvalid-logloss:0.15172\tvalid-gini:0.28538\n",
      "[7600]\tvalid-logloss:0.15172\tvalid-gini:0.28546\n",
      "[8000]\tvalid-logloss:0.15172\tvalid-gini:0.28543\n",
      "[8400]\tvalid-logloss:0.15172\tvalid-gini:0.28541\n",
      "[8745]\tvalid-logloss:0.15172\tvalid-gini:0.28544\n",
      "Fold 2 gini score : 0.28546893858223094\n",
      "\n",
      "######################################## Fold 3 / 5 ########################################\n",
      "[0]\tvalid-logloss:0.21261\tvalid-gini:0.20005\n",
      "[400]\tvalid-logloss:0.15538\tvalid-gini:0.26608\n",
      "[800]\tvalid-logloss:0.15202\tvalid-gini:0.27788\n",
      "[1200]\tvalid-logloss:0.15165\tvalid-gini:0.28309\n",
      "[1600]\tvalid-logloss:0.15157\tvalid-gini:0.28456\n",
      "[2000]\tvalid-logloss:0.15154\tvalid-gini:0.28525\n",
      "[2400]\tvalid-logloss:0.15154\tvalid-gini:0.28535\n",
      "[2800]\tvalid-logloss:0.15154\tvalid-gini:0.28538\n",
      "[3188]\tvalid-logloss:0.15155\tvalid-gini:0.28533\n",
      "Fold 3 gini score : 0.28542160691867774\n",
      "\n",
      "######################################## Fold 4 / 5 ########################################\n",
      "[0]\tvalid-logloss:0.21262\tvalid-gini:0.18586\n",
      "[400]\tvalid-logloss:0.15548\tvalid-gini:0.25977\n",
      "[800]\tvalid-logloss:0.15225\tvalid-gini:0.27177\n",
      "[1200]\tvalid-logloss:0.15193\tvalid-gini:0.27616\n",
      "[1600]\tvalid-logloss:0.15185\tvalid-gini:0.27806\n",
      "[2000]\tvalid-logloss:0.15182\tvalid-gini:0.27892\n",
      "[2400]\tvalid-logloss:0.15181\tvalid-gini:0.27935\n",
      "[2800]\tvalid-logloss:0.15180\tvalid-gini:0.27966\n",
      "[3200]\tvalid-logloss:0.15179\tvalid-gini:0.27997\n",
      "[3600]\tvalid-logloss:0.15179\tvalid-gini:0.28014\n",
      "[4000]\tvalid-logloss:0.15179\tvalid-gini:0.28026\n",
      "[4400]\tvalid-logloss:0.15179\tvalid-gini:0.28024\n",
      "[4800]\tvalid-logloss:0.15179\tvalid-gini:0.28028\n",
      "[4949]\tvalid-logloss:0.15179\tvalid-gini:0.28027\n",
      "Fold 4 gini score : 0.28031144341379577\n",
      "\n",
      "######################################## Fold 5 / 5 ########################################\n",
      "[0]\tvalid-logloss:0.21262\tvalid-gini:0.19189\n",
      "[400]\tvalid-logloss:0.15557\tvalid-gini:0.27039\n",
      "[800]\tvalid-logloss:0.15230\tvalid-gini:0.28308\n",
      "[1200]\tvalid-logloss:0.15190\tvalid-gini:0.28983\n",
      "[1600]\tvalid-logloss:0.15178\tvalid-gini:0.29280\n",
      "[2000]\tvalid-logloss:0.15172\tvalid-gini:0.29443\n",
      "[2400]\tvalid-logloss:0.15169\tvalid-gini:0.29540\n",
      "[2800]\tvalid-logloss:0.15168\tvalid-gini:0.29562\n",
      "[3200]\tvalid-logloss:0.15167\tvalid-gini:0.29601\n",
      "[3600]\tvalid-logloss:0.15165\tvalid-gini:0.29651\n",
      "[4000]\tvalid-logloss:0.15165\tvalid-gini:0.29654\n",
      "[4400]\tvalid-logloss:0.15165\tvalid-gini:0.29665\n",
      "[4800]\tvalid-logloss:0.15165\tvalid-gini:0.29651\n",
      "[5200]\tvalid-logloss:0.15165\tvalid-gini:0.29657\n",
      "[5480]\tvalid-logloss:0.15165\tvalid-gini:0.29655\n",
      "Fold 5 gini score : 0.29667137962766965\n",
      "\n",
      "CPU times: user 5h 21min 18s, sys: 11.5 s, total: 5h 21min 29s\n",
      "Wall time: 21min 18s\n"
     ]
    }
   ],
   "source": [
    "%%time\n",
    "\n",
    "folds = StratifiedKFold(n_splits=5, shuffle=True, random_state=1991)\n",
    "\n",
    "\n",
    "oof_val_preds = np.zeros(X.shape[0]) \n",
    "oof_test_preds = np.zeros(X_test.shape[0]) \n",
    "dtest = xgb.DMatrix(X_test)\n",
    "\n",
    "for idx, (train_idx, valid_idx) in enumerate(folds.split(X, y)):\n",
    "\n",
    "    print('#'*40, f'Fold {idx+1} / {folds.n_splits}', '#'*40)\n",
    "    \n",
    "    X_train, y_train = X[train_idx], y[train_idx]\n",
    "    X_valid, y_valid = X[valid_idx], y[valid_idx]\n",
    "\n",
    "\n",
    "    dtrain = xgb.DMatrix(X_train, y_train)\n",
    "    dvalid = xgb.DMatrix(X_valid, y_valid)\n",
    "   \n",
    "\n",
    "    xgb_model = xgb.train(params=max_params, \n",
    "                          dtrain=dtrain,\n",
    "                          num_boost_round=20000,\n",
    "                          evals=[(dvalid, 'valid')],\n",
    "                          maximize=True,\n",
    "                          feval=gini,\n",
    "                          early_stopping_rounds=1000,\n",
    "                          verbose_eval=400)\n",
    "\n",
    "    best_iter = xgb_model.best_iteration\n",
    "    oof_test_preds += xgb_model.predict(dtest,\n",
    "                                        iteration_range=(0, best_iter))/folds.n_splits\n",
    "    \n",
    "    oof_val_preds[valid_idx] += xgb_model.predict(dvalid, \n",
    "                                                  iteration_range=(0, best_iter))\n",
    "    \n",
    "    gini_score = eval_gini(y_valid, oof_val_preds[valid_idx])\n",
    "    print(f'Fold {idx+1} gini score : {gini_score}\\n')"
   ]
  },
  {
   "cell_type": "code",
   "execution_count": 29,
   "metadata": {},
   "outputs": [
    {
     "name": "stdout",
     "output_type": "stream",
     "text": [
      "OOF Verification data Gini coefficient: 0.2897355723149737\n"
     ]
    }
   ],
   "source": [
    "print('OOF Verification data Gini coefficient:', eval_gini(y, oof_val_preds))"
   ]
  },
  {
   "cell_type": "code",
   "execution_count": 30,
   "metadata": {},
   "outputs": [],
   "source": [
    "submission['target'] = oof_test_preds\n",
    "submission.to_csv('../submissions/submission_best_kaggle_xgb_3.csv')"
   ]
  },
  {
   "cell_type": "code",
   "execution_count": 31,
   "metadata": {},
   "outputs": [],
   "source": [
    "max_params_0 = {'colsample_bytree': 0.92975858050776,\n",
    " 'gamma': 9.95563546750357,\n",
    " 'max_depth': 7,\n",
    " 'min_child_weight': 6.249564429359247,\n",
    " 'reg_alpha': 8.411512219837842,\n",
    " 'reg_lambda': 1.424460008293778,\n",
    " 'scale_pos_weight': 1.5416807226581535,\n",
    " 'subsample': 0.8535233675350644,\n",
    " 'objective': 'binary:logistic',\n",
    " 'learning_rate': 0.01,\n",
    " 'random_state': 1993}"
   ]
  },
  {
   "cell_type": "code",
   "execution_count": 32,
   "metadata": {},
   "outputs": [
    {
     "name": "stdout",
     "output_type": "stream",
     "text": [
      "######################################## Fold 1 / 5 ########################################\n"
     ]
    },
    {
     "name": "stderr",
     "output_type": "stream",
     "text": [
      "/home/tunguz/.local/lib/python3.11/site-packages/xgboost/training.py:38: UserWarning: `feval` is deprecated, use `custom_metric` instead.  They have different behavior when custom objective is also used.See https://xgboost.readthedocs.io/en/latest/tutorials/custom_metric_obj.html for details on the `custom_metric`.\n",
      "  warnings.warn(\n"
     ]
    },
    {
     "name": "stdout",
     "output_type": "stream",
     "text": [
      "[0]\tvalid-logloss:0.21996\tvalid-gini:0.20901\n",
      "[200]\tvalid-logloss:0.16179\tvalid-gini:0.27455\n",
      "[400]\tvalid-logloss:0.15622\tvalid-gini:0.28722\n",
      "[600]\tvalid-logloss:0.15546\tvalid-gini:0.29128\n",
      "[800]\tvalid-logloss:0.15535\tvalid-gini:0.29186\n",
      "[1000]\tvalid-logloss:0.15533\tvalid-gini:0.29202\n",
      "[1200]\tvalid-logloss:0.15532\tvalid-gini:0.29232\n",
      "[1400]\tvalid-logloss:0.15532\tvalid-gini:0.29240\n",
      "[1600]\tvalid-logloss:0.15530\tvalid-gini:0.29252\n",
      "[1800]\tvalid-logloss:0.15531\tvalid-gini:0.29254\n",
      "[2000]\tvalid-logloss:0.15531\tvalid-gini:0.29265\n",
      "[2200]\tvalid-logloss:0.15530\tvalid-gini:0.29272\n",
      "[2366]\tvalid-logloss:0.15530\tvalid-gini:0.29273\n",
      "Fold 1 gini score : 0.2927066786908154\n",
      "\n",
      "######################################## Fold 2 / 5 ########################################\n",
      "[0]\tvalid-logloss:0.21996\tvalid-gini:0.19909\n",
      "[200]\tvalid-logloss:0.16203\tvalid-gini:0.26142\n",
      "[400]\tvalid-logloss:0.15664\tvalid-gini:0.27163\n",
      "[600]\tvalid-logloss:0.15591\tvalid-gini:0.27571\n",
      "[800]\tvalid-logloss:0.15581\tvalid-gini:0.27639\n",
      "[1000]\tvalid-logloss:0.15578\tvalid-gini:0.27669\n",
      "[1200]\tvalid-logloss:0.15578\tvalid-gini:0.27696\n",
      "[1400]\tvalid-logloss:0.15577\tvalid-gini:0.27710\n",
      "[1600]\tvalid-logloss:0.15577\tvalid-gini:0.27721\n",
      "[1800]\tvalid-logloss:0.15576\tvalid-gini:0.27730\n",
      "[2000]\tvalid-logloss:0.15576\tvalid-gini:0.27737\n",
      "[2200]\tvalid-logloss:0.15576\tvalid-gini:0.27743\n",
      "[2400]\tvalid-logloss:0.15575\tvalid-gini:0.27750\n",
      "[2600]\tvalid-logloss:0.15575\tvalid-gini:0.27751\n",
      "[2800]\tvalid-logloss:0.15576\tvalid-gini:0.27753\n",
      "[3000]\tvalid-logloss:0.15576\tvalid-gini:0.27756\n",
      "[3200]\tvalid-logloss:0.15576\tvalid-gini:0.27757\n",
      "[3400]\tvalid-logloss:0.15574\tvalid-gini:0.27759\n",
      "[3600]\tvalid-logloss:0.15575\tvalid-gini:0.27770\n",
      "[3730]\tvalid-logloss:0.15575\tvalid-gini:0.27771\n",
      "Fold 2 gini score : 0.2777099895966383\n",
      "\n",
      "######################################## Fold 3 / 5 ########################################\n",
      "[0]\tvalid-logloss:0.21994\tvalid-gini:0.21818\n",
      "[200]\tvalid-logloss:0.16180\tvalid-gini:0.26724\n",
      "[400]\tvalid-logloss:0.15624\tvalid-gini:0.27914\n",
      "[600]\tvalid-logloss:0.15552\tvalid-gini:0.28177\n",
      "[800]\tvalid-logloss:0.15543\tvalid-gini:0.28205\n",
      "[1000]\tvalid-logloss:0.15541\tvalid-gini:0.28218\n",
      "[1200]\tvalid-logloss:0.15540\tvalid-gini:0.28226\n",
      "[1400]\tvalid-logloss:0.15541\tvalid-gini:0.28234\n",
      "[1600]\tvalid-logloss:0.15540\tvalid-gini:0.28236\n",
      "[1800]\tvalid-logloss:0.15540\tvalid-gini:0.28239\n",
      "[2000]\tvalid-logloss:0.15540\tvalid-gini:0.28242\n",
      "[2083]\tvalid-logloss:0.15540\tvalid-gini:0.28242\n",
      "Fold 3 gini score : 0.28244909132804474\n",
      "\n",
      "######################################## Fold 4 / 5 ########################################\n",
      "[0]\tvalid-logloss:0.21996\tvalid-gini:0.19351\n",
      "[200]\tvalid-logloss:0.16187\tvalid-gini:0.26017\n",
      "[400]\tvalid-logloss:0.15644\tvalid-gini:0.27103\n",
      "[600]\tvalid-logloss:0.15574\tvalid-gini:0.27365\n",
      "[800]\tvalid-logloss:0.15564\tvalid-gini:0.27422\n",
      "[1000]\tvalid-logloss:0.15563\tvalid-gini:0.27429\n",
      "[1200]\tvalid-logloss:0.15562\tvalid-gini:0.27427\n",
      "[1400]\tvalid-logloss:0.15562\tvalid-gini:0.27435\n",
      "[1521]\tvalid-logloss:0.15562\tvalid-gini:0.27433\n",
      "Fold 4 gini score : 0.2743774915256205\n",
      "\n",
      "######################################## Fold 5 / 5 ########################################\n",
      "[0]\tvalid-logloss:0.21996\tvalid-gini:0.21163\n",
      "[200]\tvalid-logloss:0.16200\tvalid-gini:0.26790\n",
      "[400]\tvalid-logloss:0.15652\tvalid-gini:0.28104\n",
      "[600]\tvalid-logloss:0.15576\tvalid-gini:0.28603\n",
      "[800]\tvalid-logloss:0.15567\tvalid-gini:0.28683\n",
      "[1000]\tvalid-logloss:0.15564\tvalid-gini:0.28724\n",
      "[1200]\tvalid-logloss:0.15562\tvalid-gini:0.28753\n",
      "[1400]\tvalid-logloss:0.15562\tvalid-gini:0.28763\n",
      "[1600]\tvalid-logloss:0.15561\tvalid-gini:0.28780\n",
      "[1800]\tvalid-logloss:0.15562\tvalid-gini:0.28787\n",
      "[2000]\tvalid-logloss:0.15561\tvalid-gini:0.28789\n",
      "[2200]\tvalid-logloss:0.15561\tvalid-gini:0.28792\n",
      "[2400]\tvalid-logloss:0.15560\tvalid-gini:0.28801\n",
      "[2600]\tvalid-logloss:0.15560\tvalid-gini:0.28804\n",
      "[2800]\tvalid-logloss:0.15560\tvalid-gini:0.28809\n",
      "[2874]\tvalid-logloss:0.15560\tvalid-gini:0.28808\n",
      "Fold 5 gini score : 0.288082921457504\n",
      "\n",
      "CPU times: user 2h 8min 27s, sys: 9.53 s, total: 2h 8min 37s\n",
      "Wall time: 8min 44s\n"
     ]
    }
   ],
   "source": [
    "%%time\n",
    "\n",
    "folds = StratifiedKFold(n_splits=5, shuffle=True, random_state=1991)\n",
    "\n",
    "\n",
    "oof_val_preds = np.zeros(X.shape[0]) \n",
    "oof_test_preds = np.zeros(X_test.shape[0]) \n",
    "dtest = xgb.DMatrix(X_test)\n",
    "\n",
    "for idx, (train_idx, valid_idx) in enumerate(folds.split(X, y)):\n",
    "\n",
    "    print('#'*40, f'Fold {idx+1} / {folds.n_splits}', '#'*40)\n",
    "    \n",
    "    X_train, y_train = X[train_idx], y[train_idx]\n",
    "    X_valid, y_valid = X[valid_idx], y[valid_idx]\n",
    "\n",
    "\n",
    "    dtrain = xgb.DMatrix(X_train, y_train)\n",
    "    dvalid = xgb.DMatrix(X_valid, y_valid)\n",
    "   \n",
    "\n",
    "    xgb_model = xgb.train(params=max_params_0, \n",
    "                          dtrain=dtrain,\n",
    "                          num_boost_round=10000,\n",
    "                          evals=[(dvalid, 'valid')],\n",
    "                          maximize=True,\n",
    "                          feval=gini,\n",
    "                          early_stopping_rounds=200,\n",
    "                          verbose_eval=200)\n",
    "\n",
    "    best_iter = xgb_model.best_iteration\n",
    "    oof_test_preds += xgb_model.predict(dtest,\n",
    "                                        iteration_range=(0, best_iter))/folds.n_splits\n",
    "    \n",
    "    oof_val_preds[valid_idx] += xgb_model.predict(dvalid, \n",
    "                                                  iteration_range=(0, best_iter))\n",
    "    \n",
    "    gini_score = eval_gini(y_valid, oof_val_preds[valid_idx])\n",
    "    print(f'Fold {idx+1} gini score : {gini_score}\\n')"
   ]
  },
  {
   "cell_type": "code",
   "execution_count": 42,
   "metadata": {},
   "outputs": [],
   "source": [
    "save_npz('../input/X_test_217.npz', X_test)"
   ]
  },
  {
   "cell_type": "code",
   "execution_count": 43,
   "metadata": {},
   "outputs": [],
   "source": [
    "np.save('../input/y_217.npy', y)"
   ]
  },
  {
   "cell_type": "code",
   "execution_count": null,
   "metadata": {},
   "outputs": [],
   "source": []
  }
 ],
 "metadata": {
  "kernelspec": {
   "display_name": "Python 3 (ipykernel)",
   "language": "python",
   "name": "python3"
  },
  "language_info": {
   "codemirror_mode": {
    "name": "ipython",
    "version": 3
   },
   "file_extension": ".py",
   "mimetype": "text/x-python",
   "name": "python",
   "nbconvert_exporter": "python",
   "pygments_lexer": "ipython3",
   "version": "3.11.6"
  }
 },
 "nbformat": 4,
 "nbformat_minor": 4
}
