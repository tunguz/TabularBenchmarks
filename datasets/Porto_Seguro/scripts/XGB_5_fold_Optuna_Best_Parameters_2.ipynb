{
 "cells": [
  {
   "cell_type": "code",
   "execution_count": 1,
   "metadata": {
    "tags": []
   },
   "outputs": [],
   "source": [
    "%load_ext watermark"
   ]
  },
  {
   "cell_type": "code",
   "execution_count": 2,
   "metadata": {
    "tags": []
   },
   "outputs": [
    {
     "name": "stdout",
     "output_type": "stream",
     "text": [
      "Last updated: 2024-01-12T07:18:56.236277-05:00\n",
      "\n",
      "Python implementation: CPython\n",
      "Python version       : 3.9.6\n",
      "IPython version      : 8.10.0\n",
      "\n",
      "Compiler    : Clang 15.0.0 (clang-1500.0.40.1)\n",
      "OS          : Darwin\n",
      "Release     : 23.0.0\n",
      "Machine     : arm64\n",
      "Processor   : arm\n",
      "CPU cores   : 20\n",
      "Architecture: 64bit\n",
      "\n"
     ]
    }
   ],
   "source": [
    "%watermark"
   ]
  },
  {
   "cell_type": "code",
   "execution_count": 3,
   "metadata": {
    "tags": []
   },
   "outputs": [
    {
     "name": "stdout",
     "output_type": "stream",
     "text": [
      "GPU Info: Install the gpu extra (pip install 'watermark[gpu]') to display GPU information for NVIDIA chipsets\n",
      "\n"
     ]
    }
   ],
   "source": [
    "%watermark --gpu"
   ]
  },
  {
   "cell_type": "code",
   "execution_count": 4,
   "metadata": {
    "tags": []
   },
   "outputs": [],
   "source": [
    "import numpy as np # linear algebra\n",
    "import pandas as pd # data processing, CSV file I/O (e.g. pd.read_csv)\n",
    "from sklearn.model_selection import KFold\n",
    "from sklearn.metrics import roc_auc_score\n",
    "import sklearn\n",
    "import gc\n",
    "import os\n",
    "import xgboost as xgb"
   ]
  },
  {
   "cell_type": "code",
   "execution_count": 5,
   "metadata": {
    "tags": []
   },
   "outputs": [
    {
     "name": "stdout",
     "output_type": "stream",
     "text": [
      "pandas : 2.1.4\n",
      "sklearn: 1.3.2\n",
      "xgboost: 2.0.3\n",
      "numpy  : 1.26.3\n",
      "\n"
     ]
    }
   ],
   "source": [
    "%watermark --iversions"
   ]
  },
  {
   "cell_type": "code",
   "execution_count": 6,
   "metadata": {
    "tags": []
   },
   "outputs": [],
   "source": [
    "def gini(actual, pred, cmpcol = 0, sortcol = 1):\n",
    "    assert( len(actual) == len(pred) )\n",
    "    all = np.asarray(np.c_[ actual, pred, np.arange(len(actual)) ], dtype=float)\n",
    "    all = all[ np.lexsort((all[:,2], -1*all[:,1])) ]\n",
    "    totalLosses = all[:,0].sum()\n",
    "    giniSum = all[:,0].cumsum().sum() / totalLosses\n",
    "    \n",
    "    giniSum -= (len(actual) + 1) / 2.\n",
    "    return giniSum / len(actual)\n",
    " \n",
    "def gini_normalized(a, p):\n",
    "    return gini(a, p) / gini(a, a)"
   ]
  },
  {
   "cell_type": "code",
   "execution_count": 7,
   "metadata": {
    "tags": []
   },
   "outputs": [],
   "source": [
    "train = pd.read_csv('../input/train.csv.zip')\n",
    "test = pd.read_csv('../input/test.csv.zip')\n",
    "sample_submission = pd.read_csv('../input/sample_submission.csv.zip')"
   ]
  },
  {
   "cell_type": "code",
   "execution_count": 8,
   "metadata": {
    "tags": []
   },
   "outputs": [
    {
     "data": {
      "text/html": [
       "<div>\n",
       "<style scoped>\n",
       "    .dataframe tbody tr th:only-of-type {\n",
       "        vertical-align: middle;\n",
       "    }\n",
       "\n",
       "    .dataframe tbody tr th {\n",
       "        vertical-align: top;\n",
       "    }\n",
       "\n",
       "    .dataframe thead th {\n",
       "        text-align: right;\n",
       "    }\n",
       "</style>\n",
       "<table border=\"1\" class=\"dataframe\">\n",
       "  <thead>\n",
       "    <tr style=\"text-align: right;\">\n",
       "      <th></th>\n",
       "      <th>number</th>\n",
       "      <th>value</th>\n",
       "      <th>params_alpha</th>\n",
       "      <th>params_colsample_bytree</th>\n",
       "      <th>params_eval_metric</th>\n",
       "      <th>params_lambda</th>\n",
       "      <th>params_learning_rate</th>\n",
       "      <th>params_max_depth</th>\n",
       "      <th>params_min_child_weight</th>\n",
       "      <th>params_objective</th>\n",
       "      <th>params_subsample</th>\n",
       "      <th>params_tree_method</th>\n",
       "      <th>state</th>\n",
       "    </tr>\n",
       "  </thead>\n",
       "  <tbody>\n",
       "    <tr>\n",
       "      <th>0</th>\n",
       "      <td>0</td>\n",
       "      <td>0.260580</td>\n",
       "      <td>0.518387</td>\n",
       "      <td>0.588129</td>\n",
       "      <td>logloss</td>\n",
       "      <td>0.803620</td>\n",
       "      <td>0.001024</td>\n",
       "      <td>19</td>\n",
       "      <td>73</td>\n",
       "      <td>binary:logistic</td>\n",
       "      <td>0.734509</td>\n",
       "      <td>gpu_hist</td>\n",
       "      <td>COMPLETE</td>\n",
       "    </tr>\n",
       "    <tr>\n",
       "      <th>1</th>\n",
       "      <td>1</td>\n",
       "      <td>0.272333</td>\n",
       "      <td>0.554771</td>\n",
       "      <td>0.386440</td>\n",
       "      <td>logloss</td>\n",
       "      <td>0.515043</td>\n",
       "      <td>0.004684</td>\n",
       "      <td>19</td>\n",
       "      <td>226</td>\n",
       "      <td>binary:logistic</td>\n",
       "      <td>0.740431</td>\n",
       "      <td>gpu_hist</td>\n",
       "      <td>COMPLETE</td>\n",
       "    </tr>\n",
       "    <tr>\n",
       "      <th>2</th>\n",
       "      <td>2</td>\n",
       "      <td>0.273310</td>\n",
       "      <td>0.001337</td>\n",
       "      <td>0.321878</td>\n",
       "      <td>logloss</td>\n",
       "      <td>0.224638</td>\n",
       "      <td>0.035482</td>\n",
       "      <td>25</td>\n",
       "      <td>235</td>\n",
       "      <td>binary:logistic</td>\n",
       "      <td>0.647692</td>\n",
       "      <td>gpu_hist</td>\n",
       "      <td>COMPLETE</td>\n",
       "    </tr>\n",
       "    <tr>\n",
       "      <th>3</th>\n",
       "      <td>3</td>\n",
       "      <td>0.213742</td>\n",
       "      <td>0.475032</td>\n",
       "      <td>0.907356</td>\n",
       "      <td>logloss</td>\n",
       "      <td>0.025882</td>\n",
       "      <td>0.019162</td>\n",
       "      <td>21</td>\n",
       "      <td>5</td>\n",
       "      <td>binary:logistic</td>\n",
       "      <td>0.939027</td>\n",
       "      <td>gpu_hist</td>\n",
       "      <td>COMPLETE</td>\n",
       "    </tr>\n",
       "    <tr>\n",
       "      <th>4</th>\n",
       "      <td>4</td>\n",
       "      <td>0.250605</td>\n",
       "      <td>7.983068</td>\n",
       "      <td>0.797204</td>\n",
       "      <td>logloss</td>\n",
       "      <td>1.452732</td>\n",
       "      <td>0.037789</td>\n",
       "      <td>8</td>\n",
       "      <td>12</td>\n",
       "      <td>binary:logistic</td>\n",
       "      <td>0.532211</td>\n",
       "      <td>gpu_hist</td>\n",
       "      <td>COMPLETE</td>\n",
       "    </tr>\n",
       "  </tbody>\n",
       "</table>\n",
       "</div>"
      ],
      "text/plain": [
       "   number     value  params_alpha  params_colsample_bytree params_eval_metric  \\\n",
       "0       0  0.260580      0.518387                 0.588129            logloss   \n",
       "1       1  0.272333      0.554771                 0.386440            logloss   \n",
       "2       2  0.273310      0.001337                 0.321878            logloss   \n",
       "3       3  0.213742      0.475032                 0.907356            logloss   \n",
       "4       4  0.250605      7.983068                 0.797204            logloss   \n",
       "\n",
       "   params_lambda  params_learning_rate  params_max_depth  \\\n",
       "0       0.803620              0.001024                19   \n",
       "1       0.515043              0.004684                19   \n",
       "2       0.224638              0.035482                25   \n",
       "3       0.025882              0.019162                21   \n",
       "4       1.452732              0.037789                 8   \n",
       "\n",
       "   params_min_child_weight params_objective  params_subsample  \\\n",
       "0                       73  binary:logistic          0.734509   \n",
       "1                      226  binary:logistic          0.740431   \n",
       "2                      235  binary:logistic          0.647692   \n",
       "3                        5  binary:logistic          0.939027   \n",
       "4                       12  binary:logistic          0.532211   \n",
       "\n",
       "  params_tree_method     state  \n",
       "0           gpu_hist  COMPLETE  \n",
       "1           gpu_hist  COMPLETE  \n",
       "2           gpu_hist  COMPLETE  \n",
       "3           gpu_hist  COMPLETE  \n",
       "4           gpu_hist  COMPLETE  "
      ]
     },
     "execution_count": 8,
     "metadata": {},
     "output_type": "execute_result"
    }
   ],
   "source": [
    "optuna_log = pd.read_csv('optuna_xgb_output_0.csv')\n",
    "optuna_log.head()"
   ]
  },
  {
   "cell_type": "code",
   "execution_count": 9,
   "metadata": {
    "tags": []
   },
   "outputs": [
    {
     "data": {
      "text/plain": [
       "0.2834224878819652"
      ]
     },
     "execution_count": 9,
     "metadata": {},
     "output_type": "execute_result"
    }
   ],
   "source": [
    "optuna_log.value.max()"
   ]
  },
  {
   "cell_type": "code",
   "execution_count": 10,
   "metadata": {
    "tags": []
   },
   "outputs": [],
   "source": [
    "max_value_row = optuna_log[optuna_log['value'] == optuna_log['value'].max()]"
   ]
  },
  {
   "cell_type": "code",
   "execution_count": 11,
   "metadata": {
    "tags": []
   },
   "outputs": [
    {
     "data": {
      "text/html": [
       "<div>\n",
       "<style scoped>\n",
       "    .dataframe tbody tr th:only-of-type {\n",
       "        vertical-align: middle;\n",
       "    }\n",
       "\n",
       "    .dataframe tbody tr th {\n",
       "        vertical-align: top;\n",
       "    }\n",
       "\n",
       "    .dataframe thead th {\n",
       "        text-align: right;\n",
       "    }\n",
       "</style>\n",
       "<table border=\"1\" class=\"dataframe\">\n",
       "  <thead>\n",
       "    <tr style=\"text-align: right;\">\n",
       "      <th></th>\n",
       "      <th>number</th>\n",
       "      <th>value</th>\n",
       "      <th>params_alpha</th>\n",
       "      <th>params_colsample_bytree</th>\n",
       "      <th>params_eval_metric</th>\n",
       "      <th>params_lambda</th>\n",
       "      <th>params_learning_rate</th>\n",
       "      <th>params_max_depth</th>\n",
       "      <th>params_min_child_weight</th>\n",
       "      <th>params_objective</th>\n",
       "      <th>params_subsample</th>\n",
       "      <th>params_tree_method</th>\n",
       "      <th>state</th>\n",
       "    </tr>\n",
       "  </thead>\n",
       "  <tbody>\n",
       "    <tr>\n",
       "      <th>94</th>\n",
       "      <td>94</td>\n",
       "      <td>0.283422</td>\n",
       "      <td>0.654147</td>\n",
       "      <td>0.917583</td>\n",
       "      <td>logloss</td>\n",
       "      <td>4.645511</td>\n",
       "      <td>0.013001</td>\n",
       "      <td>7</td>\n",
       "      <td>194</td>\n",
       "      <td>binary:logistic</td>\n",
       "      <td>0.66007</td>\n",
       "      <td>gpu_hist</td>\n",
       "      <td>COMPLETE</td>\n",
       "    </tr>\n",
       "  </tbody>\n",
       "</table>\n",
       "</div>"
      ],
      "text/plain": [
       "    number     value  params_alpha  params_colsample_bytree  \\\n",
       "94      94  0.283422      0.654147                 0.917583   \n",
       "\n",
       "   params_eval_metric  params_lambda  params_learning_rate  params_max_depth  \\\n",
       "94            logloss       4.645511              0.013001                 7   \n",
       "\n",
       "    params_min_child_weight params_objective  params_subsample  \\\n",
       "94                      194  binary:logistic           0.66007   \n",
       "\n",
       "   params_tree_method     state  \n",
       "94           gpu_hist  COMPLETE  "
      ]
     },
     "execution_count": 11,
     "metadata": {},
     "output_type": "execute_result"
    }
   ],
   "source": [
    "max_value_row"
   ]
  },
  {
   "cell_type": "code",
   "execution_count": 12,
   "metadata": {
    "tags": []
   },
   "outputs": [],
   "source": [
    "columns = test.columns[1:]"
   ]
  },
  {
   "cell_type": "code",
   "execution_count": 13,
   "metadata": {
    "tags": []
   },
   "outputs": [],
   "source": [
    "X = train[columns].values\n",
    "X_test = test[columns].values\n",
    "Y = train.target.values"
   ]
  },
  {
   "cell_type": "code",
   "execution_count": 14,
   "metadata": {
    "tags": []
   },
   "outputs": [],
   "source": [
    "params = {'objective': 'binary:logistic',\n",
    " 'tree_method': 'hist',\n",
    " 'lambda': 4.645511,\n",
    " 'alpha': 0.654147,\n",
    " 'colsample_bytree': 0.917,\n",
    " 'subsample': 0.66,\n",
    " 'learning_rate': 0.013,\n",
    " 'max_depth': 7,\n",
    " 'min_child_weight': 194,\n",
    " 'eval_metric': 'logloss'}"
   ]
  },
  {
   "cell_type": "code",
   "execution_count": 15,
   "metadata": {
    "tags": []
   },
   "outputs": [],
   "source": [
    "dtest = xgb.DMatrix(X_test, enable_categorical=True)"
   ]
  },
  {
   "cell_type": "code",
   "execution_count": 29,
   "metadata": {
    "tags": []
   },
   "outputs": [
    {
     "name": "stdout",
     "output_type": "stream",
     "text": [
      "Fitting fold 1\n"
     ]
    },
    {
     "name": "stderr",
     "output_type": "stream",
     "text": [
      "/Users/tunguz/Library/Python/3.9/lib/python/site-packages/xgboost/core.py:160: UserWarning: [07:37:19] WARNING: /Users/runner/work/xgboost/xgboost/src/learner.cc:742: \n",
      "Parameters: { \"predictor\" } are not used.\n",
      "\n",
      "  warnings.warn(smsg, UserWarning)\n"
     ]
    },
    {
     "name": "stdout",
     "output_type": "stream",
     "text": [
      "Fold normalized: 0.2853008403340459\n",
      "Fitting fold 2\n"
     ]
    },
    {
     "name": "stderr",
     "output_type": "stream",
     "text": [
      "/Users/tunguz/Library/Python/3.9/lib/python/site-packages/xgboost/core.py:160: UserWarning: [07:37:33] WARNING: /Users/runner/work/xgboost/xgboost/src/learner.cc:742: \n",
      "Parameters: { \"predictor\" } are not used.\n",
      "\n",
      "  warnings.warn(smsg, UserWarning)\n"
     ]
    },
    {
     "name": "stdout",
     "output_type": "stream",
     "text": [
      "Fold normalized: 0.2909998288779723\n",
      "Fitting fold 3\n"
     ]
    },
    {
     "name": "stderr",
     "output_type": "stream",
     "text": [
      "/Users/tunguz/Library/Python/3.9/lib/python/site-packages/xgboost/core.py:160: UserWarning: [07:37:48] WARNING: /Users/runner/work/xgboost/xgboost/src/learner.cc:742: \n",
      "Parameters: { \"predictor\" } are not used.\n",
      "\n",
      "  warnings.warn(smsg, UserWarning)\n"
     ]
    },
    {
     "name": "stdout",
     "output_type": "stream",
     "text": [
      "Fold normalized: 0.27470545839218347\n",
      "Fitting fold 4\n"
     ]
    },
    {
     "name": "stderr",
     "output_type": "stream",
     "text": [
      "/Users/tunguz/Library/Python/3.9/lib/python/site-packages/xgboost/core.py:160: UserWarning: [07:38:02] WARNING: /Users/runner/work/xgboost/xgboost/src/learner.cc:742: \n",
      "Parameters: { \"predictor\" } are not used.\n",
      "\n",
      "  warnings.warn(smsg, UserWarning)\n"
     ]
    },
    {
     "name": "stdout",
     "output_type": "stream",
     "text": [
      "Fold normalized: 0.2836520754198886\n",
      "Fitting fold 5\n"
     ]
    },
    {
     "name": "stderr",
     "output_type": "stream",
     "text": [
      "/Users/tunguz/Library/Python/3.9/lib/python/site-packages/xgboost/core.py:160: UserWarning: [07:38:15] WARNING: /Users/runner/work/xgboost/xgboost/src/learner.cc:742: \n",
      "Parameters: { \"predictor\" } are not used.\n",
      "\n",
      "  warnings.warn(smsg, UserWarning)\n"
     ]
    },
    {
     "name": "stdout",
     "output_type": "stream",
     "text": [
      "Fold normalized: 0.2794619352099511\n",
      "CPU times: user 9min 56s, sys: 12min 20s, total: 22min 17s\n",
      "Wall time: 1min 9s\n"
     ]
    }
   ],
   "source": [
    "%%time\n",
    "train_oof = np.zeros((X.shape[0], ))\n",
    "test_preds = 0\n",
    "train_oof.shape\n",
    "num_round = 1000\n",
    "\n",
    "n_splits = 5\n",
    "kf = KFold(n_splits=n_splits, random_state=137, shuffle=True)\n",
    "\n",
    "for jj, (train_index, val_index) in enumerate(kf.split(X)):\n",
    "    print(\"Fitting fold\", jj+1)\n",
    "    train_features = X[train_index]\n",
    "    train_target = Y[train_index]\n",
    "    \n",
    "    val_features = X[val_index]\n",
    "    val_target = Y[val_index]\n",
    "    \n",
    "    dtrain = xgb.DMatrix(train_features, train_target, enable_categorical=True)\n",
    "    dval = xgb.DMatrix(val_features, val_target, enable_categorical=True)\n",
    "    \n",
    "    model = xgb.train(params, dtrain, num_round)\n",
    "    model.set_param({'predictor': 'cpu_predictor'})\n",
    "    val_pred = model.predict(dval)\n",
    "    train_oof[val_index] = val_pred\n",
    "    print(\"Fold normalized:\", gini_normalized(val_target, val_pred))\n",
    "    test_preds += model.predict(dtest)/n_splits\n",
    "    del train_features, train_target, val_features, val_target\n",
    "    gc.collect()"
   ]
  },
  {
   "cell_type": "code",
   "execution_count": 30,
   "metadata": {
    "tags": []
   },
   "outputs": [
    {
     "data": {
      "text/plain": [
       "0.28262796964892883"
      ]
     },
     "execution_count": 30,
     "metadata": {},
     "output_type": "execute_result"
    }
   ],
   "source": [
    "gini_normalized(Y, train_oof)"
   ]
  },
  {
   "cell_type": "code",
   "execution_count": 31,
   "metadata": {
    "tags": []
   },
   "outputs": [
    {
     "data": {
      "text/plain": [
       "0.6413139848244646"
      ]
     },
     "execution_count": 31,
     "metadata": {},
     "output_type": "execute_result"
    }
   ],
   "source": [
    "roc_auc_score(Y, train_oof)"
   ]
  },
  {
   "cell_type": "code",
   "execution_count": 32,
   "metadata": {
    "tags": []
   },
   "outputs": [],
   "source": [
    "sample_submission['target'] = test_preds"
   ]
  },
  {
   "cell_type": "code",
   "execution_count": 33,
   "metadata": {
    "tags": []
   },
   "outputs": [],
   "source": [
    "sample_submission.to_csv('../submissions/XGB_5_fold_optuna_best_0.csv.zip', index=False, compression='zip')"
   ]
  },
  {
   "cell_type": "markdown",
   "metadata": {},
   "source": [
    "On the leaderbaord this submission scores 0.28033 on the public test set, and 0.28454 on the private dataset."
   ]
  },
  {
   "cell_type": "code",
   "execution_count": 35,
   "metadata": {},
   "outputs": [],
   "source": [
    "val_features = X[val_index]\n",
    "val_target = Y[val_index]\n",
    "dval = xgb.DMatrix(val_features, val_target, enable_categorical=True)"
   ]
  },
  {
   "cell_type": "code",
   "execution_count": 36,
   "metadata": {
    "tags": []
   },
   "outputs": [
    {
     "name": "stdout",
     "output_type": "stream",
     "text": [
      "CPU times: user 7min 51s, sys: 2.31 s, total: 7min 53s\n",
      "Wall time: 25.3 s\n"
     ]
    }
   ],
   "source": [
    "%%time\n",
    "shap_values = model.predict(dval, pred_contribs=True)"
   ]
  },
  {
   "cell_type": "code",
   "execution_count": 37,
   "metadata": {
    "tags": []
   },
   "outputs": [
    {
     "data": {
      "text/plain": [
       "array([3.8933362e+03, 1.6834238e+03, 1.2018242e+04, 4.6184272e+03,\n",
       "       9.6913174e+03, 4.7978462e+03, 5.8242266e+03, 2.2775837e+03,\n",
       "       2.4870696e+03, 0.0000000e+00, 0.0000000e+00, 0.0000000e+00,\n",
       "       0.0000000e+00, 0.0000000e+00, 1.1129241e+04, 4.4666353e+03,\n",
       "       7.9838154e+03, 1.8080199e+02, 6.5237725e+03, 5.2326611e+03,\n",
       "       8.7763828e+03, 6.3586914e+03, 1.4109619e+03, 5.6347188e+03,\n",
       "       6.4034174e+02, 5.1129129e+02, 1.6582620e+03, 4.9776592e+03,\n",
       "       6.0505249e+02, 3.8603098e+03, 0.0000000e+00, 2.8248696e+03,\n",
       "       2.5596929e+03, 1.0211009e+03, 1.8341916e+04, 2.7996870e+03,\n",
       "       2.9329324e+03, 9.6756689e+02, 1.9518639e+03, 1.0853915e+03,\n",
       "       6.9966125e+02, 5.8389996e+02, 8.3831714e+02, 9.7798853e+02,\n",
       "       9.6552808e+02, 9.2941211e+02, 1.2179937e+03, 1.4572684e+03,\n",
       "       8.1910901e+02, 7.3745325e+02, 1.4406708e+03, 2.9083640e+02,\n",
       "       2.8285190e+02, 5.7682928e+02, 2.6626974e+02, 4.6129825e+02,\n",
       "       6.6784216e+02, 3.9068078e+05], dtype=float32)"
      ]
     },
     "execution_count": 37,
     "metadata": {},
     "output_type": "execute_result"
    }
   ],
   "source": [
    "np.abs(shap_values).sum(axis=0)"
   ]
  },
  {
   "cell_type": "code",
   "execution_count": 44,
   "metadata": {
    "tags": []
   },
   "outputs": [
    {
     "data": {
      "text/plain": [
       "array([ 8,  9, 10, 11, 12, 29])"
      ]
     },
     "execution_count": 44,
     "metadata": {},
     "output_type": "execute_result"
    }
   ],
   "source": [
    "np.where(np.abs(shap_values).sum(axis=0) == 0)[0]-1"
   ]
  },
  {
   "cell_type": "code",
   "execution_count": 48,
   "metadata": {
    "tags": []
   },
   "outputs": [
    {
     "data": {
      "text/plain": [
       "Index(['ps_ind_01', 'ps_ind_02_cat', 'ps_ind_03', 'ps_ind_04_cat',\n",
       "       'ps_ind_05_cat', 'ps_ind_06_bin', 'ps_ind_07_bin', 'ps_ind_08_bin',\n",
       "       'ps_ind_09_bin', 'ps_ind_10_bin', 'ps_ind_11_bin', 'ps_ind_12_bin',\n",
       "       'ps_ind_13_bin', 'ps_ind_14', 'ps_ind_15', 'ps_ind_16_bin',\n",
       "       'ps_ind_17_bin', 'ps_ind_18_bin', 'ps_reg_01', 'ps_reg_02', 'ps_reg_03',\n",
       "       'ps_car_01_cat', 'ps_car_02_cat', 'ps_car_03_cat', 'ps_car_04_cat',\n",
       "       'ps_car_05_cat', 'ps_car_06_cat', 'ps_car_07_cat', 'ps_car_08_cat',\n",
       "       'ps_car_09_cat', 'ps_car_10_cat', 'ps_car_11_cat', 'ps_car_11',\n",
       "       'ps_car_12', 'ps_car_13', 'ps_car_14', 'ps_car_15', 'ps_calc_01',\n",
       "       'ps_calc_02', 'ps_calc_03', 'ps_calc_04', 'ps_calc_05', 'ps_calc_06',\n",
       "       'ps_calc_07', 'ps_calc_08', 'ps_calc_09', 'ps_calc_10', 'ps_calc_11',\n",
       "       'ps_calc_12', 'ps_calc_13', 'ps_calc_14', 'ps_calc_15_bin',\n",
       "       'ps_calc_16_bin', 'ps_calc_17_bin', 'ps_calc_18_bin', 'ps_calc_19_bin',\n",
       "       'ps_calc_20_bin'],\n",
       "      dtype='object')"
      ]
     },
     "execution_count": 48,
     "metadata": {},
     "output_type": "execute_result"
    }
   ],
   "source": [
    "columns"
   ]
  },
  {
   "cell_type": "code",
   "execution_count": 42,
   "metadata": {
    "tags": []
   },
   "outputs": [
    {
     "data": {
      "text/plain": [
       "(57,)"
      ]
     },
     "execution_count": 42,
     "metadata": {},
     "output_type": "execute_result"
    }
   ],
   "source": [
    "columns.shape"
   ]
  },
  {
   "cell_type": "code",
   "execution_count": 47,
   "metadata": {
    "tags": []
   },
   "outputs": [
    {
     "data": {
      "text/plain": [
       "Index(['ps_ind_09_bin', 'ps_ind_10_bin', 'ps_ind_11_bin', 'ps_ind_12_bin',\n",
       "       'ps_ind_13_bin', 'ps_car_09_cat'],\n",
       "      dtype='object')"
      ]
     },
     "execution_count": 47,
     "metadata": {},
     "output_type": "execute_result"
    }
   ],
   "source": [
    "columns[np.where(np.abs(shap_values).sum(axis=0) == 0)[0]-1]"
   ]
  },
  {
   "cell_type": "code",
   "execution_count": null,
   "metadata": {},
   "outputs": [],
   "source": []
  }
 ],
 "metadata": {
  "kernelspec": {
   "display_name": "Python 3",
   "language": "python",
   "name": "python3"
  },
  "language_info": {
   "codemirror_mode": {
    "name": "ipython",
    "version": 3
   },
   "file_extension": ".py",
   "mimetype": "text/x-python",
   "name": "python",
   "nbconvert_exporter": "python",
   "pygments_lexer": "ipython3",
   "version": "3.7.11"
  }
 },
 "nbformat": 4,
 "nbformat_minor": 5
}
