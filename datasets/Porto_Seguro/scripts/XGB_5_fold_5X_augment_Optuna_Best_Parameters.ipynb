{
 "cells": [
  {
   "cell_type": "code",
   "execution_count": 1,
   "id": "95de3bfc-a13e-4a03-ac08-737b67571788",
   "metadata": {
    "tags": []
   },
   "outputs": [],
   "source": [
    "%load_ext watermark"
   ]
  },
  {
   "cell_type": "code",
   "execution_count": 2,
   "id": "80a97bab-4bd3-4f10-9995-505058f83d7d",
   "metadata": {
    "tags": []
   },
   "outputs": [
    {
     "name": "stdout",
     "output_type": "stream",
     "text": [
      "Last updated: 2024-01-11T16:10:30.648920-05:00\n",
      "\n",
      "Python implementation: CPython\n",
      "Python version       : 3.9.6\n",
      "IPython version      : 8.10.0\n",
      "\n",
      "Compiler    : Clang 15.0.0 (clang-1500.0.40.1)\n",
      "OS          : Darwin\n",
      "Release     : 23.0.0\n",
      "Machine     : arm64\n",
      "Processor   : arm\n",
      "CPU cores   : 20\n",
      "Architecture: 64bit\n",
      "\n"
     ]
    }
   ],
   "source": [
    "%watermark"
   ]
  },
  {
   "cell_type": "code",
   "execution_count": 3,
   "id": "03d96dd1-d117-493a-911d-cad0f263b9ab",
   "metadata": {
    "tags": []
   },
   "outputs": [
    {
     "name": "stdout",
     "output_type": "stream",
     "text": [
      "GPU Info: Install the gpu extra (pip install 'watermark[gpu]') to display GPU information for NVIDIA chipsets\n",
      "\n"
     ]
    }
   ],
   "source": [
    "%watermark --gpu"
   ]
  },
  {
   "cell_type": "code",
   "execution_count": 4,
   "id": "4fb2004a-95ef-4746-afe1-93f221c502cf",
   "metadata": {
    "tags": []
   },
   "outputs": [],
   "source": [
    "import numpy as np # linear algebra\n",
    "import pandas as pd # data processing, CSV file I/O (e.g. pd.read_csv)\n",
    "from xgboost import XGBClassifier\n",
    "from sklearn.model_selection import KFold\n",
    "from sklearn.metrics import roc_auc_score\n",
    "import sklearn\n",
    "import gc\n",
    "import os\n",
    "import xgboost"
   ]
  },
  {
   "cell_type": "code",
   "execution_count": 5,
   "id": "a3f9ebaf-f51a-4125-8f9c-d36d85ba432f",
   "metadata": {
    "tags": []
   },
   "outputs": [
    {
     "name": "stdout",
     "output_type": "stream",
     "text": [
      "pandas : 2.1.4\n",
      "sklearn: 1.3.2\n",
      "xgboost: 2.0.3\n",
      "numpy  : 1.26.3\n",
      "\n"
     ]
    }
   ],
   "source": [
    "%watermark --iversions"
   ]
  },
  {
   "cell_type": "code",
   "execution_count": 6,
   "id": "44478fc2-56b6-433d-84ba-8477dc7c3145",
   "metadata": {
    "tags": []
   },
   "outputs": [],
   "source": [
    "def gini(actual, pred, cmpcol = 0, sortcol = 1):\n",
    "    assert( len(actual) == len(pred) )\n",
    "    all = np.asarray(np.c_[ actual, pred, np.arange(len(actual)) ], dtype=float)\n",
    "    all = all[ np.lexsort((all[:,2], -1*all[:,1])) ]\n",
    "    totalLosses = all[:,0].sum()\n",
    "    giniSum = all[:,0].cumsum().sum() / totalLosses\n",
    "    \n",
    "    giniSum -= (len(actual) + 1) / 2.\n",
    "    return giniSum / len(actual)\n",
    " \n",
    "def gini_normalized(a, p):\n",
    "    return gini(a, p) / gini(a, a)"
   ]
  },
  {
   "cell_type": "code",
   "execution_count": 7,
   "id": "d182729e-f05b-4914-8a48-65a3034dee66",
   "metadata": {
    "tags": []
   },
   "outputs": [],
   "source": [
    "train = pd.read_csv('../input/train.csv.zip')\n",
    "test = pd.read_csv('../input/test.csv.zip')\n",
    "sample_submission = pd.read_csv('../input/sample_submission.csv.zip')"
   ]
  },
  {
   "cell_type": "code",
   "execution_count": 8,
   "id": "50420d0e-b070-4d4e-88dd-a491c7953b94",
   "metadata": {
    "tags": []
   },
   "outputs": [
    {
     "data": {
      "text/html": [
       "<div>\n",
       "<style scoped>\n",
       "    .dataframe tbody tr th:only-of-type {\n",
       "        vertical-align: middle;\n",
       "    }\n",
       "\n",
       "    .dataframe tbody tr th {\n",
       "        vertical-align: top;\n",
       "    }\n",
       "\n",
       "    .dataframe thead th {\n",
       "        text-align: right;\n",
       "    }\n",
       "</style>\n",
       "<table border=\"1\" class=\"dataframe\">\n",
       "  <thead>\n",
       "    <tr style=\"text-align: right;\">\n",
       "      <th></th>\n",
       "      <th>number</th>\n",
       "      <th>value</th>\n",
       "      <th>params_alpha</th>\n",
       "      <th>params_colsample_bytree</th>\n",
       "      <th>params_eval_metric</th>\n",
       "      <th>params_lambda</th>\n",
       "      <th>params_learning_rate</th>\n",
       "      <th>params_max_depth</th>\n",
       "      <th>params_min_child_weight</th>\n",
       "      <th>params_objective</th>\n",
       "      <th>params_subsample</th>\n",
       "      <th>params_tree_method</th>\n",
       "      <th>state</th>\n",
       "    </tr>\n",
       "  </thead>\n",
       "  <tbody>\n",
       "    <tr>\n",
       "      <th>0</th>\n",
       "      <td>0</td>\n",
       "      <td>0.265787</td>\n",
       "      <td>0.147691</td>\n",
       "      <td>0.514698</td>\n",
       "      <td>logloss</td>\n",
       "      <td>1.311820</td>\n",
       "      <td>0.024202</td>\n",
       "      <td>35</td>\n",
       "      <td>251</td>\n",
       "      <td>binary:logistic</td>\n",
       "      <td>0.405729</td>\n",
       "      <td>gpu_hist</td>\n",
       "      <td>COMPLETE</td>\n",
       "    </tr>\n",
       "    <tr>\n",
       "      <th>1</th>\n",
       "      <td>1</td>\n",
       "      <td>0.250456</td>\n",
       "      <td>0.002070</td>\n",
       "      <td>0.918553</td>\n",
       "      <td>logloss</td>\n",
       "      <td>0.001095</td>\n",
       "      <td>0.024384</td>\n",
       "      <td>16</td>\n",
       "      <td>275</td>\n",
       "      <td>binary:logistic</td>\n",
       "      <td>0.729856</td>\n",
       "      <td>gpu_hist</td>\n",
       "      <td>COMPLETE</td>\n",
       "    </tr>\n",
       "    <tr>\n",
       "      <th>2</th>\n",
       "      <td>2</td>\n",
       "      <td>0.272139</td>\n",
       "      <td>0.007562</td>\n",
       "      <td>0.982536</td>\n",
       "      <td>logloss</td>\n",
       "      <td>0.439774</td>\n",
       "      <td>0.003817</td>\n",
       "      <td>22</td>\n",
       "      <td>245</td>\n",
       "      <td>binary:logistic</td>\n",
       "      <td>0.474967</td>\n",
       "      <td>gpu_hist</td>\n",
       "      <td>COMPLETE</td>\n",
       "    </tr>\n",
       "    <tr>\n",
       "      <th>3</th>\n",
       "      <td>3</td>\n",
       "      <td>0.217394</td>\n",
       "      <td>8.351180</td>\n",
       "      <td>0.582607</td>\n",
       "      <td>logloss</td>\n",
       "      <td>2.247182</td>\n",
       "      <td>0.042538</td>\n",
       "      <td>17</td>\n",
       "      <td>210</td>\n",
       "      <td>binary:logistic</td>\n",
       "      <td>0.964056</td>\n",
       "      <td>gpu_hist</td>\n",
       "      <td>COMPLETE</td>\n",
       "    </tr>\n",
       "    <tr>\n",
       "      <th>4</th>\n",
       "      <td>4</td>\n",
       "      <td>0.266944</td>\n",
       "      <td>0.010888</td>\n",
       "      <td>0.525752</td>\n",
       "      <td>logloss</td>\n",
       "      <td>5.060227</td>\n",
       "      <td>0.001376</td>\n",
       "      <td>22</td>\n",
       "      <td>14</td>\n",
       "      <td>binary:logistic</td>\n",
       "      <td>0.648770</td>\n",
       "      <td>gpu_hist</td>\n",
       "      <td>COMPLETE</td>\n",
       "    </tr>\n",
       "  </tbody>\n",
       "</table>\n",
       "</div>"
      ],
      "text/plain": [
       "   number     value  params_alpha  params_colsample_bytree params_eval_metric  \\\n",
       "0       0  0.265787      0.147691                 0.514698            logloss   \n",
       "1       1  0.250456      0.002070                 0.918553            logloss   \n",
       "2       2  0.272139      0.007562                 0.982536            logloss   \n",
       "3       3  0.217394      8.351180                 0.582607            logloss   \n",
       "4       4  0.266944      0.010888                 0.525752            logloss   \n",
       "\n",
       "   params_lambda  params_learning_rate  params_max_depth  \\\n",
       "0       1.311820              0.024202                35   \n",
       "1       0.001095              0.024384                16   \n",
       "2       0.439774              0.003817                22   \n",
       "3       2.247182              0.042538                17   \n",
       "4       5.060227              0.001376                22   \n",
       "\n",
       "   params_min_child_weight params_objective  params_subsample  \\\n",
       "0                      251  binary:logistic          0.405729   \n",
       "1                      275  binary:logistic          0.729856   \n",
       "2                      245  binary:logistic          0.474967   \n",
       "3                      210  binary:logistic          0.964056   \n",
       "4                       14  binary:logistic          0.648770   \n",
       "\n",
       "  params_tree_method     state  \n",
       "0           gpu_hist  COMPLETE  \n",
       "1           gpu_hist  COMPLETE  \n",
       "2           gpu_hist  COMPLETE  \n",
       "3           gpu_hist  COMPLETE  \n",
       "4           gpu_hist  COMPLETE  "
      ]
     },
     "execution_count": 8,
     "metadata": {},
     "output_type": "execute_result"
    }
   ],
   "source": [
    "optuna_log = pd.read_csv('optuna_xgb_output_1.csv')\n",
    "optuna_log.head()"
   ]
  },
  {
   "cell_type": "code",
   "execution_count": 9,
   "id": "92938c59-b002-4731-bc0a-9b092d49c3c6",
   "metadata": {
    "tags": []
   },
   "outputs": [
    {
     "data": {
      "text/plain": [
       "0.2835632739412906"
      ]
     },
     "execution_count": 9,
     "metadata": {},
     "output_type": "execute_result"
    }
   ],
   "source": [
    "optuna_log.value.max()"
   ]
  },
  {
   "cell_type": "code",
   "execution_count": 10,
   "id": "eda2b1a4-ba75-4706-a8eb-2e1c89e8abde",
   "metadata": {
    "tags": []
   },
   "outputs": [],
   "source": [
    "max_value_row = optuna_log[optuna_log['value'] == optuna_log['value'].max()]"
   ]
  },
  {
   "cell_type": "code",
   "execution_count": 11,
   "id": "7d77180a-2010-4fd2-9bc7-ba73ad83d5f3",
   "metadata": {
    "tags": []
   },
   "outputs": [
    {
     "data": {
      "text/html": [
       "<div>\n",
       "<style scoped>\n",
       "    .dataframe tbody tr th:only-of-type {\n",
       "        vertical-align: middle;\n",
       "    }\n",
       "\n",
       "    .dataframe tbody tr th {\n",
       "        vertical-align: top;\n",
       "    }\n",
       "\n",
       "    .dataframe thead th {\n",
       "        text-align: right;\n",
       "    }\n",
       "</style>\n",
       "<table border=\"1\" class=\"dataframe\">\n",
       "  <thead>\n",
       "    <tr style=\"text-align: right;\">\n",
       "      <th></th>\n",
       "      <th>number</th>\n",
       "      <th>value</th>\n",
       "      <th>params_alpha</th>\n",
       "      <th>params_colsample_bytree</th>\n",
       "      <th>params_eval_metric</th>\n",
       "      <th>params_lambda</th>\n",
       "      <th>params_learning_rate</th>\n",
       "      <th>params_max_depth</th>\n",
       "      <th>params_min_child_weight</th>\n",
       "      <th>params_objective</th>\n",
       "      <th>params_subsample</th>\n",
       "      <th>params_tree_method</th>\n",
       "      <th>state</th>\n",
       "    </tr>\n",
       "  </thead>\n",
       "  <tbody>\n",
       "    <tr>\n",
       "      <th>48</th>\n",
       "      <td>48</td>\n",
       "      <td>0.283563</td>\n",
       "      <td>0.018523</td>\n",
       "      <td>0.621896</td>\n",
       "      <td>logloss</td>\n",
       "      <td>0.002266</td>\n",
       "      <td>0.009911</td>\n",
       "      <td>8</td>\n",
       "      <td>292</td>\n",
       "      <td>binary:logistic</td>\n",
       "      <td>0.475931</td>\n",
       "      <td>gpu_hist</td>\n",
       "      <td>COMPLETE</td>\n",
       "    </tr>\n",
       "  </tbody>\n",
       "</table>\n",
       "</div>"
      ],
      "text/plain": [
       "    number     value  params_alpha  params_colsample_bytree  \\\n",
       "48      48  0.283563      0.018523                 0.621896   \n",
       "\n",
       "   params_eval_metric  params_lambda  params_learning_rate  params_max_depth  \\\n",
       "48            logloss       0.002266              0.009911                 8   \n",
       "\n",
       "    params_min_child_weight params_objective  params_subsample  \\\n",
       "48                      292  binary:logistic          0.475931   \n",
       "\n",
       "   params_tree_method     state  \n",
       "48           gpu_hist  COMPLETE  "
      ]
     },
     "execution_count": 11,
     "metadata": {},
     "output_type": "execute_result"
    }
   ],
   "source": [
    "max_value_row"
   ]
  },
  {
   "cell_type": "code",
   "execution_count": 12,
   "id": "426868fa-bfa3-498b-9a56-13631376ffc9",
   "metadata": {
    "tags": []
   },
   "outputs": [],
   "source": [
    "columns = test.columns[1:]"
   ]
  },
  {
   "cell_type": "code",
   "execution_count": 14,
   "id": "e8c8fd40-afce-447a-bcf5-b7ad349c358f",
   "metadata": {
    "tags": []
   },
   "outputs": [
    {
     "name": "stdout",
     "output_type": "stream",
     "text": [
      "Loading fold 0\n",
      "Loading fold 1\n",
      "Loading fold 2\n",
      "Loading fold 3\n",
      "Loading fold 4\n",
      "CPU times: user 18.9 s, sys: 5.16 s, total: 24.1 s\n",
      "Wall time: 24.1 s\n"
     ]
    }
   ],
   "source": [
    "%%time\n",
    "train_folds = []\n",
    "val_folds = []\n",
    "train_ys = []\n",
    "val_ys = []\n",
    "\n",
    "for i in range(5):\n",
    "    print(f'Loading fold {i}')\n",
    "    train_fold = pd.read_csv(f'../input/xgtrain_fold_{i}_5X.csv.gz')\n",
    "\n",
    "    val_fold = pd.read_csv(f'../input/xgval_fold_{i}_5X.csv.gz')\n",
    "    \n",
    "    train_y = train_fold['target']\n",
    "    train_fold = train_fold[train_fold.columns.difference(['target'])]\n",
    "    \n",
    "    val_y = val_fold['target']\n",
    "    val_fold = val_fold[val_fold.columns.difference(['target'])]\n",
    "    \n",
    "    train_folds.append(train_fold)\n",
    "    val_folds.append(val_fold)\n",
    "    \n",
    "    train_ys.append(train_y)\n",
    "    val_ys.append(val_y)"
   ]
  },
  {
   "cell_type": "code",
   "execution_count": 15,
   "id": "2e33893d-fd90-4783-ab50-573926cacc14",
   "metadata": {
    "tags": []
   },
   "outputs": [],
   "source": [
    "X = train[columns].values\n",
    "X_test = test[columns].values\n",
    "Y = train.target.values"
   ]
  },
  {
   "cell_type": "code",
   "execution_count": 16,
   "id": "8a1cd30d-dd8a-4349-8b16-fc107de53c5a",
   "metadata": {
    "tags": []
   },
   "outputs": [
    {
     "data": {
      "text/html": [
       "<style>#sk-container-id-1 {color: black;}#sk-container-id-1 pre{padding: 0;}#sk-container-id-1 div.sk-toggleable {background-color: white;}#sk-container-id-1 label.sk-toggleable__label {cursor: pointer;display: block;width: 100%;margin-bottom: 0;padding: 0.3em;box-sizing: border-box;text-align: center;}#sk-container-id-1 label.sk-toggleable__label-arrow:before {content: \"▸\";float: left;margin-right: 0.25em;color: #696969;}#sk-container-id-1 label.sk-toggleable__label-arrow:hover:before {color: black;}#sk-container-id-1 div.sk-estimator:hover label.sk-toggleable__label-arrow:before {color: black;}#sk-container-id-1 div.sk-toggleable__content {max-height: 0;max-width: 0;overflow: hidden;text-align: left;background-color: #f0f8ff;}#sk-container-id-1 div.sk-toggleable__content pre {margin: 0.2em;color: black;border-radius: 0.25em;background-color: #f0f8ff;}#sk-container-id-1 input.sk-toggleable__control:checked~div.sk-toggleable__content {max-height: 200px;max-width: 100%;overflow: auto;}#sk-container-id-1 input.sk-toggleable__control:checked~label.sk-toggleable__label-arrow:before {content: \"▾\";}#sk-container-id-1 div.sk-estimator input.sk-toggleable__control:checked~label.sk-toggleable__label {background-color: #d4ebff;}#sk-container-id-1 div.sk-label input.sk-toggleable__control:checked~label.sk-toggleable__label {background-color: #d4ebff;}#sk-container-id-1 input.sk-hidden--visually {border: 0;clip: rect(1px 1px 1px 1px);clip: rect(1px, 1px, 1px, 1px);height: 1px;margin: -1px;overflow: hidden;padding: 0;position: absolute;width: 1px;}#sk-container-id-1 div.sk-estimator {font-family: monospace;background-color: #f0f8ff;border: 1px dotted black;border-radius: 0.25em;box-sizing: border-box;margin-bottom: 0.5em;}#sk-container-id-1 div.sk-estimator:hover {background-color: #d4ebff;}#sk-container-id-1 div.sk-parallel-item::after {content: \"\";width: 100%;border-bottom: 1px solid gray;flex-grow: 1;}#sk-container-id-1 div.sk-label:hover label.sk-toggleable__label {background-color: #d4ebff;}#sk-container-id-1 div.sk-serial::before {content: \"\";position: absolute;border-left: 1px solid gray;box-sizing: border-box;top: 0;bottom: 0;left: 50%;z-index: 0;}#sk-container-id-1 div.sk-serial {display: flex;flex-direction: column;align-items: center;background-color: white;padding-right: 0.2em;padding-left: 0.2em;position: relative;}#sk-container-id-1 div.sk-item {position: relative;z-index: 1;}#sk-container-id-1 div.sk-parallel {display: flex;align-items: stretch;justify-content: center;background-color: white;position: relative;}#sk-container-id-1 div.sk-item::before, #sk-container-id-1 div.sk-parallel-item::before {content: \"\";position: absolute;border-left: 1px solid gray;box-sizing: border-box;top: 0;bottom: 0;left: 50%;z-index: -1;}#sk-container-id-1 div.sk-parallel-item {display: flex;flex-direction: column;z-index: 1;position: relative;background-color: white;}#sk-container-id-1 div.sk-parallel-item:first-child::after {align-self: flex-end;width: 50%;}#sk-container-id-1 div.sk-parallel-item:last-child::after {align-self: flex-start;width: 50%;}#sk-container-id-1 div.sk-parallel-item:only-child::after {width: 0;}#sk-container-id-1 div.sk-dashed-wrapped {border: 1px dashed gray;margin: 0 0.4em 0.5em 0.4em;box-sizing: border-box;padding-bottom: 0.4em;background-color: white;}#sk-container-id-1 div.sk-label label {font-family: monospace;font-weight: bold;display: inline-block;line-height: 1.2em;}#sk-container-id-1 div.sk-label-container {text-align: center;}#sk-container-id-1 div.sk-container {/* jupyter's `normalize.less` sets `[hidden] { display: none; }` but bootstrap.min.css set `[hidden] { display: none !important; }` so we also need the `!important` here to be able to override the default hidden behavior on the sphinx rendered scikit-learn.org. See: https://github.com/scikit-learn/scikit-learn/issues/21755 */display: inline-block !important;position: relative;}#sk-container-id-1 div.sk-text-repr-fallback {display: none;}</style><div id=\"sk-container-id-1\" class=\"sk-top-container\"><div class=\"sk-text-repr-fallback\"><pre>XGBClassifier(base_score=None, booster=None, callbacks=None,\n",
       "              colsample_bylevel=None, colsample_bynode=None,\n",
       "              colsample_bytree=None, device=None, early_stopping_rounds=None,\n",
       "              enable_categorical=False, eval_metric=None, feature_types=None,\n",
       "              gamma=None, grow_policy=None, importance_type=None,\n",
       "              interaction_constraints=None, learning_rate=None, max_bin=None,\n",
       "              max_cat_threshold=None, max_cat_to_onehot=None,\n",
       "              max_delta_step=None, max_depth=None, max_leaves=None,\n",
       "              min_child_weight=None, missing=nan, monotone_constraints=None,\n",
       "              multi_strategy=None, n_estimators=None, n_jobs=None,\n",
       "              num_parallel_tree=None, random_state=None, ...)</pre><b>In a Jupyter environment, please rerun this cell to show the HTML representation or trust the notebook. <br />On GitHub, the HTML representation is unable to render, please try loading this page with nbviewer.org.</b></div><div class=\"sk-container\" hidden><div class=\"sk-item\"><div class=\"sk-estimator sk-toggleable\"><input class=\"sk-toggleable__control sk-hidden--visually\" id=\"sk-estimator-id-1\" type=\"checkbox\" checked><label for=\"sk-estimator-id-1\" class=\"sk-toggleable__label sk-toggleable__label-arrow\">XGBClassifier</label><div class=\"sk-toggleable__content\"><pre>XGBClassifier(base_score=None, booster=None, callbacks=None,\n",
       "              colsample_bylevel=None, colsample_bynode=None,\n",
       "              colsample_bytree=None, device=None, early_stopping_rounds=None,\n",
       "              enable_categorical=False, eval_metric=None, feature_types=None,\n",
       "              gamma=None, grow_policy=None, importance_type=None,\n",
       "              interaction_constraints=None, learning_rate=None, max_bin=None,\n",
       "              max_cat_threshold=None, max_cat_to_onehot=None,\n",
       "              max_delta_step=None, max_depth=None, max_leaves=None,\n",
       "              min_child_weight=None, missing=nan, monotone_constraints=None,\n",
       "              multi_strategy=None, n_estimators=None, n_jobs=None,\n",
       "              num_parallel_tree=None, random_state=None, ...)</pre></div></div></div></div></div>"
      ],
      "text/plain": [
       "XGBClassifier(base_score=None, booster=None, callbacks=None,\n",
       "              colsample_bylevel=None, colsample_bynode=None,\n",
       "              colsample_bytree=None, device=None, early_stopping_rounds=None,\n",
       "              enable_categorical=False, eval_metric=None, feature_types=None,\n",
       "              gamma=None, grow_policy=None, importance_type=None,\n",
       "              interaction_constraints=None, learning_rate=None, max_bin=None,\n",
       "              max_cat_threshold=None, max_cat_to_onehot=None,\n",
       "              max_delta_step=None, max_depth=None, max_leaves=None,\n",
       "              min_child_weight=None, missing=nan, monotone_constraints=None,\n",
       "              multi_strategy=None, n_estimators=None, n_jobs=None,\n",
       "              num_parallel_tree=None, random_state=None, ...)"
      ]
     },
     "execution_count": 16,
     "metadata": {},
     "output_type": "execute_result"
    }
   ],
   "source": [
    "XGBClassifier()"
   ]
  },
  {
   "cell_type": "code",
   "execution_count": 17,
   "id": "d7bf5c54-5053-489b-b5f5-aee156ce3673",
   "metadata": {
    "tags": []
   },
   "outputs": [
    {
     "data": {
      "text/html": [
       "<div>\n",
       "<style scoped>\n",
       "    .dataframe tbody tr th:only-of-type {\n",
       "        vertical-align: middle;\n",
       "    }\n",
       "\n",
       "    .dataframe tbody tr th {\n",
       "        vertical-align: top;\n",
       "    }\n",
       "\n",
       "    .dataframe thead th {\n",
       "        text-align: right;\n",
       "    }\n",
       "</style>\n",
       "<table border=\"1\" class=\"dataframe\">\n",
       "  <thead>\n",
       "    <tr style=\"text-align: right;\">\n",
       "      <th></th>\n",
       "      <th>number</th>\n",
       "      <th>value</th>\n",
       "      <th>params_alpha</th>\n",
       "      <th>params_colsample_bytree</th>\n",
       "      <th>params_eval_metric</th>\n",
       "      <th>params_lambda</th>\n",
       "      <th>params_learning_rate</th>\n",
       "      <th>params_max_depth</th>\n",
       "      <th>params_min_child_weight</th>\n",
       "      <th>params_objective</th>\n",
       "      <th>params_subsample</th>\n",
       "      <th>params_tree_method</th>\n",
       "      <th>state</th>\n",
       "    </tr>\n",
       "  </thead>\n",
       "  <tbody>\n",
       "    <tr>\n",
       "      <th>48</th>\n",
       "      <td>48</td>\n",
       "      <td>0.283563</td>\n",
       "      <td>0.018523</td>\n",
       "      <td>0.621896</td>\n",
       "      <td>logloss</td>\n",
       "      <td>0.002266</td>\n",
       "      <td>0.009911</td>\n",
       "      <td>8</td>\n",
       "      <td>292</td>\n",
       "      <td>binary:logistic</td>\n",
       "      <td>0.475931</td>\n",
       "      <td>gpu_hist</td>\n",
       "      <td>COMPLETE</td>\n",
       "    </tr>\n",
       "  </tbody>\n",
       "</table>\n",
       "</div>"
      ],
      "text/plain": [
       "    number     value  params_alpha  params_colsample_bytree  \\\n",
       "48      48  0.283563      0.018523                 0.621896   \n",
       "\n",
       "   params_eval_metric  params_lambda  params_learning_rate  params_max_depth  \\\n",
       "48            logloss       0.002266              0.009911                 8   \n",
       "\n",
       "    params_min_child_weight params_objective  params_subsample  \\\n",
       "48                      292  binary:logistic          0.475931   \n",
       "\n",
       "   params_tree_method     state  \n",
       "48           gpu_hist  COMPLETE  "
      ]
     },
     "execution_count": 17,
     "metadata": {},
     "output_type": "execute_result"
    }
   ],
   "source": [
    "max_value_row"
   ]
  },
  {
   "cell_type": "code",
   "execution_count": 34,
   "id": "a1bb3208-e352-4e6f-a5f1-f55897bb5b20",
   "metadata": {
    "tags": []
   },
   "outputs": [
    {
     "name": "stdout",
     "output_type": "stream",
     "text": [
      "Fitting fold 1\n",
      "Fold normalized: 0.2874925234058961\n",
      "Fitting fold 2\n",
      "Fold normalized: 0.2922564701232187\n",
      "Fitting fold 3\n",
      "Fold normalized: 0.2772175160796194\n",
      "Fitting fold 4\n",
      "Fold normalized: 0.28516547245026885\n",
      "Fitting fold 5\n",
      "Fold normalized: 0.28032196571779805\n",
      "CPU times: user 40min 41s, sys: 46min 40s, total: 1h 27min 21s\n",
      "Wall time: 4min 44s\n"
     ]
    }
   ],
   "source": [
    "%%time\n",
    "train_oof = np.zeros((X.shape[0], ))\n",
    "test_preds = 0\n",
    "train_oof.shape\n",
    "\n",
    "n_splits = 5\n",
    "kf = KFold(n_splits=n_splits, random_state=137, shuffle=True)\n",
    "\n",
    "for jj, (train_index, val_index) in enumerate(kf.split(X)):\n",
    "    print(\"Fitting fold\", jj+1)\n",
    "    train_features = train_folds[jj][columns]\n",
    "    train_target = train_ys[jj]\n",
    "    \n",
    "    val_features = val_folds[jj][columns]\n",
    "    val_target = val_ys[jj]\n",
    "    \n",
    "    model = XGBClassifier(n_estimators=1000, max_depth=8, random_state=42, subsample=0.475931, colsample_bytree=0.621896, \n",
    "                          learning_rate=0.009911, min_child_weight=292, reg_lambda=0.002266, reg_alpha=0.018523, tree_method='hist')\n",
    "    model.fit(train_features, train_target)\n",
    "    val_pred = model.predict_proba(val_features)[:,1]\n",
    "    train_oof[val_index] = val_pred\n",
    "    print(\"Fold normalized:\", gini_normalized(val_target, val_pred))\n",
    "    test_preds += model.predict_proba(X_test)[:,1]/n_splits\n",
    "    del train_features, train_target, val_features, val_target\n",
    "    gc.collect()"
   ]
  },
  {
   "cell_type": "code",
   "execution_count": 35,
   "id": "7d735c24-429e-4e47-963e-f073df8bf7af",
   "metadata": {
    "tags": []
   },
   "outputs": [
    {
     "data": {
      "text/plain": [
       "0.28427929805044927"
      ]
     },
     "execution_count": 35,
     "metadata": {},
     "output_type": "execute_result"
    }
   ],
   "source": [
    "gini_normalized(Y, train_oof)"
   ]
  },
  {
   "cell_type": "code",
   "execution_count": 36,
   "id": "ed3d6985-e40b-49cd-a974-072876de6d13",
   "metadata": {
    "tags": []
   },
   "outputs": [
    {
     "data": {
      "text/plain": [
       "0.6421396487439169"
      ]
     },
     "execution_count": 36,
     "metadata": {},
     "output_type": "execute_result"
    }
   ],
   "source": [
    "roc_auc_score(Y, train_oof)"
   ]
  },
  {
   "cell_type": "code",
   "execution_count": 37,
   "id": "87c7a8ab-84df-4929-ab3f-0f3dfdbfc715",
   "metadata": {
    "tags": []
   },
   "outputs": [
    {
     "data": {
      "text/plain": [
       "Index(['ps_ind_01', 'ps_ind_02_cat', 'ps_ind_03', 'ps_ind_04_cat',\n",
       "       'ps_ind_05_cat', 'ps_ind_06_bin', 'ps_ind_07_bin', 'ps_ind_08_bin',\n",
       "       'ps_ind_09_bin', 'ps_ind_10_bin', 'ps_ind_11_bin', 'ps_ind_12_bin',\n",
       "       'ps_ind_13_bin', 'ps_ind_14', 'ps_ind_15', 'ps_ind_16_bin',\n",
       "       'ps_ind_17_bin', 'ps_ind_18_bin', 'ps_reg_01', 'ps_reg_02', 'ps_reg_03',\n",
       "       'ps_car_01_cat', 'ps_car_02_cat', 'ps_car_03_cat', 'ps_car_04_cat',\n",
       "       'ps_car_05_cat', 'ps_car_06_cat', 'ps_car_07_cat', 'ps_car_08_cat',\n",
       "       'ps_car_09_cat', 'ps_car_10_cat', 'ps_car_11_cat', 'ps_car_11',\n",
       "       'ps_car_12', 'ps_car_13', 'ps_car_14', 'ps_car_15', 'ps_calc_01',\n",
       "       'ps_calc_02', 'ps_calc_03', 'ps_calc_04', 'ps_calc_05', 'ps_calc_06',\n",
       "       'ps_calc_07', 'ps_calc_08', 'ps_calc_09', 'ps_calc_10', 'ps_calc_11',\n",
       "       'ps_calc_12', 'ps_calc_13', 'ps_calc_14', 'ps_calc_15_bin',\n",
       "       'ps_calc_16_bin', 'ps_calc_17_bin', 'ps_calc_18_bin', 'ps_calc_19_bin',\n",
       "       'ps_calc_20_bin'],\n",
       "      dtype='object')"
      ]
     },
     "execution_count": 37,
     "metadata": {},
     "output_type": "execute_result"
    }
   ],
   "source": [
    "test[columns].columns"
   ]
  },
  {
   "cell_type": "code",
   "execution_count": 38,
   "id": "569ce571-170e-4b18-8de3-6baf2866547b",
   "metadata": {
    "tags": []
   },
   "outputs": [
    {
     "data": {
      "text/plain": [
       "Index(['ps_ind_01', 'ps_ind_02_cat', 'ps_ind_03', 'ps_ind_04_cat',\n",
       "       'ps_ind_05_cat', 'ps_ind_06_bin', 'ps_ind_07_bin', 'ps_ind_08_bin',\n",
       "       'ps_ind_09_bin', 'ps_ind_10_bin', 'ps_ind_11_bin', 'ps_ind_12_bin',\n",
       "       'ps_ind_13_bin', 'ps_ind_14', 'ps_ind_15', 'ps_ind_16_bin',\n",
       "       'ps_ind_17_bin', 'ps_ind_18_bin', 'ps_reg_01', 'ps_reg_02', 'ps_reg_03',\n",
       "       'ps_car_01_cat', 'ps_car_02_cat', 'ps_car_03_cat', 'ps_car_04_cat',\n",
       "       'ps_car_05_cat', 'ps_car_06_cat', 'ps_car_07_cat', 'ps_car_08_cat',\n",
       "       'ps_car_09_cat', 'ps_car_10_cat', 'ps_car_11_cat', 'ps_car_11',\n",
       "       'ps_car_12', 'ps_car_13', 'ps_car_14', 'ps_car_15', 'ps_calc_01',\n",
       "       'ps_calc_02', 'ps_calc_03', 'ps_calc_04', 'ps_calc_05', 'ps_calc_06',\n",
       "       'ps_calc_07', 'ps_calc_08', 'ps_calc_09', 'ps_calc_10', 'ps_calc_11',\n",
       "       'ps_calc_12', 'ps_calc_13', 'ps_calc_14', 'ps_calc_15_bin',\n",
       "       'ps_calc_16_bin', 'ps_calc_17_bin', 'ps_calc_18_bin', 'ps_calc_19_bin',\n",
       "       'ps_calc_20_bin'],\n",
       "      dtype='object')"
      ]
     },
     "execution_count": 38,
     "metadata": {},
     "output_type": "execute_result"
    }
   ],
   "source": [
    "train_folds[jj][columns].columns"
   ]
  },
  {
   "cell_type": "code",
   "execution_count": 39,
   "id": "20697d97-d6c5-4390-8f8f-80502736ef88",
   "metadata": {
    "tags": []
   },
   "outputs": [],
   "source": [
    "sample_submission['target'] = test_preds"
   ]
  },
  {
   "cell_type": "code",
   "execution_count": 40,
   "id": "352dd235-0e71-4f9f-864e-dbb1edfdbf5c",
   "metadata": {
    "tags": []
   },
   "outputs": [],
   "source": [
    "sample_submission.to_csv('../submissions/XGB_5_fold_5X_augment_optuna_best.csv.zip', index=False, compression='zip')"
   ]
  },
  {
   "cell_type": "markdown",
   "id": "c2009496-1d15-4eb7-99bd-a7eb2ac2fa32",
   "metadata": {},
   "source": [
    "On the leaderbaord this submission scores 0.28061 on the public test set, and 0.28563 on the private dataset."
   ]
  },
  {
   "cell_type": "code",
   "execution_count": 41,
   "id": "099431f9-7150-4aa8-9c01-b404bad0d2b6",
   "metadata": {},
   "outputs": [
    {
     "name": "stdout",
     "output_type": "stream",
     "text": [
      "Fitting fold 1\n",
      "Fold normalized: 0.2875500522136766\n",
      "Fitting fold 2\n",
      "Fold normalized: 0.2939535528124366\n",
      "Fitting fold 3\n",
      "Fold normalized: 0.27634291567571456\n",
      "Fitting fold 4\n",
      "Fold normalized: 0.2840482411294676\n",
      "Fitting fold 5\n",
      "Fold normalized: 0.2810101674987164\n",
      "CPU times: user 1h 20min 35s, sys: 1h 34min 55s, total: 2h 55min 31s\n",
      "Wall time: 9min 22s\n"
     ]
    }
   ],
   "source": [
    "%%time\n",
    "train_oof = np.zeros((X.shape[0], ))\n",
    "test_preds = 0\n",
    "train_oof.shape\n",
    "\n",
    "n_splits = 5\n",
    "kf = KFold(n_splits=n_splits, random_state=137, shuffle=True)\n",
    "\n",
    "for jj, (train_index, val_index) in enumerate(kf.split(X)):\n",
    "    print(\"Fitting fold\", jj+1)\n",
    "    train_features = train_folds[jj][columns]\n",
    "    train_target = train_ys[jj]\n",
    "    \n",
    "    val_features = val_folds[jj][columns]\n",
    "    val_target = val_ys[jj]\n",
    "    \n",
    "    model = XGBClassifier(n_estimators=2000, max_depth=8, random_state=42, subsample=0.475931, colsample_bytree=0.621896, \n",
    "                          learning_rate=0.005, min_child_weight=292, reg_lambda=0.002266, reg_alpha=0.018523, tree_method='hist')\n",
    "    model.fit(train_features, train_target)\n",
    "    val_pred = model.predict_proba(val_features)[:,1]\n",
    "    train_oof[val_index] = val_pred\n",
    "    print(\"Fold normalized:\", gini_normalized(val_target, val_pred))\n",
    "    test_preds += model.predict_proba(X_test)[:,1]/n_splits\n",
    "    del train_features, train_target, val_features, val_target\n",
    "    gc.collect()"
   ]
  },
  {
   "cell_type": "code",
   "execution_count": 42,
   "id": "d671d89f-6239-4ea3-ac80-52e62405b68e",
   "metadata": {
    "tags": []
   },
   "outputs": [
    {
     "data": {
      "text/plain": [
       "0.28439204803696866"
      ]
     },
     "execution_count": 42,
     "metadata": {},
     "output_type": "execute_result"
    }
   ],
   "source": [
    "gini_normalized(Y, train_oof)"
   ]
  },
  {
   "cell_type": "code",
   "execution_count": 43,
   "id": "3e1cbda6-570f-49fd-bfe7-5100a500a636",
   "metadata": {
    "tags": []
   },
   "outputs": [
    {
     "data": {
      "text/plain": [
       "0.6421960229334411"
      ]
     },
     "execution_count": 43,
     "metadata": {},
     "output_type": "execute_result"
    }
   ],
   "source": [
    "roc_auc_score(Y, train_oof)"
   ]
  },
  {
   "cell_type": "code",
   "execution_count": 45,
   "id": "37b56518-ad55-414d-875a-80b2a8ed5fa3",
   "metadata": {
    "tags": []
   },
   "outputs": [],
   "source": [
    "sample_submission['target'] = test_preds\n",
    "sample_submission.to_csv('../submissions/XGB_5_fold_5X_augment_optuna_best_2.csv.zip', index=False, compression='zip')"
   ]
  },
  {
   "cell_type": "markdown",
   "id": "67c0ad7e-ad01-4e5e-b3a1-244e7b3fe88f",
   "metadata": {
    "tags": []
   },
   "source": [
    "On the leaderbaord this submission scores 0.28067 on the public test set, and 0.28591 on the private dataset."
   ]
  },
  {
   "cell_type": "code",
   "execution_count": 48,
   "id": "ec90b8b2-2e57-4099-8a02-74a9b57ff3d1",
   "metadata": {
    "tags": []
   },
   "outputs": [
    {
     "name": "stdout",
     "output_type": "stream",
     "text": [
      "Fitting fold 1\n",
      "Fold normalized: 0.28776565280271915\n",
      "Fitting fold 2\n",
      "Fold normalized: 0.29390645707718416\n",
      "Fitting fold 3\n",
      "Fold normalized: 0.27637937140843605\n",
      "Fitting fold 4\n",
      "Fold normalized: 0.28419723118337376\n",
      "Fitting fold 5\n",
      "Fold normalized: 0.2810284607366598\n",
      "CPU times: user 1h 17min 22s, sys: 1h 30min 46s, total: 2h 48min 8s\n",
      "Wall time: 8min 57s\n"
     ]
    }
   ],
   "source": [
    "%%time\n",
    "train_oof = np.zeros((X.shape[0], ))\n",
    "test_preds = 0\n",
    "train_oof.shape\n",
    "\n",
    "n_splits = 5\n",
    "kf = KFold(n_splits=n_splits, random_state=137, shuffle=True)\n",
    "\n",
    "for jj, (train_index, val_index) in enumerate(kf.split(X)):\n",
    "    print(\"Fitting fold\", jj+1)\n",
    "    train_features = train_folds[jj][columns]\n",
    "    train_target = train_ys[jj]\n",
    "    \n",
    "    val_features = val_folds[jj][columns]\n",
    "    val_target = val_ys[jj]\n",
    "    \n",
    "    model = XGBClassifier(n_estimators=1900, max_depth=8, random_state=42, subsample=0.475931, colsample_bytree=0.621896, \n",
    "                          learning_rate=0.005, min_child_weight=292, reg_lambda=0.002266, reg_alpha=0.018523, tree_method='hist')\n",
    "    model.fit(train_features, train_target)\n",
    "    val_pred = model.predict_proba(val_features)[:,1]\n",
    "    train_oof[val_index] = val_pred\n",
    "    print(\"Fold normalized:\", gini_normalized(val_target, val_pred))\n",
    "    test_preds += model.predict_proba(X_test)[:,1]/n_splits\n",
    "    del train_features, train_target, val_features, val_target\n",
    "    gc.collect()"
   ]
  },
  {
   "cell_type": "code",
   "execution_count": 49,
   "id": "4b5f7328-4ee6-47c3-9d12-785fb433169a",
   "metadata": {
    "tags": []
   },
   "outputs": [
    {
     "data": {
      "text/plain": [
       "0.28446784948518056"
      ]
     },
     "execution_count": 49,
     "metadata": {},
     "output_type": "execute_result"
    }
   ],
   "source": [
    "gini_normalized(Y, train_oof)"
   ]
  },
  {
   "cell_type": "code",
   "execution_count": 50,
   "id": "e6a5e6a3-fa80-464d-a74d-37fc43ba6c06",
   "metadata": {
    "tags": []
   },
   "outputs": [],
   "source": [
    "sample_submission['target'] = test_preds\n",
    "sample_submission.to_csv('../submissions/XGB_5_fold_5X_augment_optuna_best_3.csv.zip', index=False, compression='zip')"
   ]
  },
  {
   "cell_type": "markdown",
   "id": "06f45696-3046-4237-95e4-c0054b0a037b",
   "metadata": {},
   "source": [
    "On the leaderbaord this submission scores 0.28067 on the public test set, and 0.28585 on the private dataset."
   ]
  },
  {
   "cell_type": "code",
   "execution_count": 54,
   "id": "a3954dba-26a7-47c6-b818-a721b615d1b9",
   "metadata": {
    "tags": []
   },
   "outputs": [
    {
     "name": "stdout",
     "output_type": "stream",
     "text": [
      "Fitting fold 1\n",
      "Fold normalized: 0.28746895901990765\n",
      "Fitting fold 2\n",
      "Fold normalized: 0.2937320988802002\n",
      "Fitting fold 3\n",
      "Fold normalized: 0.2765507920278883\n",
      "Fitting fold 4\n",
      "Fold normalized: 0.28442596477749593\n",
      "Fitting fold 5\n",
      "Fold normalized: 0.2806863129380779\n",
      "CPU times: user 2h 56min 41s, sys: 2h 53min 35s, total: 5h 50min 16s\n",
      "Wall time: 34min 36s\n"
     ]
    }
   ],
   "source": [
    "%%time\n",
    "train_oof = np.zeros((X.shape[0], ))\n",
    "test_preds = 0\n",
    "train_oof.shape\n",
    "\n",
    "n_splits = 5\n",
    "kf = KFold(n_splits=n_splits, random_state=137, shuffle=True)\n",
    "\n",
    "for jj, (train_index, val_index) in enumerate(kf.split(X)):\n",
    "    print(\"Fitting fold\", jj+1)\n",
    "    train_features = train_folds[jj][columns]\n",
    "    train_target = train_ys[jj]\n",
    "    \n",
    "    val_features = val_folds[jj][columns]\n",
    "    val_target = val_ys[jj]\n",
    "    \n",
    "    model = XGBClassifier(n_estimators=4600, max_depth=8, random_state=42, subsample=0.475931, colsample_bytree=0.621896, \n",
    "                          learning_rate=0.002, min_child_weight=292, reg_lambda=0.002266, reg_alpha=0.018523, tree_method='hist')\n",
    "    model.fit(train_features, train_target)\n",
    "    val_pred = model.predict_proba(val_features)[:,1]\n",
    "    train_oof[val_index] = val_pred\n",
    "    print(\"Fold normalized:\", gini_normalized(val_target, val_pred))\n",
    "    test_preds += model.predict_proba(X_test)[:,1]/n_splits\n",
    "    del train_features, train_target, val_features, val_target\n",
    "    gc.collect()"
   ]
  },
  {
   "cell_type": "code",
   "execution_count": null,
   "id": "a081f4be-9c3d-413d-8583-90157d1e28a6",
   "metadata": {},
   "outputs": [],
   "source": []
  }
 ],
 "metadata": {
  "kernelspec": {
   "display_name": "Python 3 (ipykernel)",
   "language": "python",
   "name": "python3"
  },
  "language_info": {
   "codemirror_mode": {
    "name": "ipython",
    "version": 3
   },
   "file_extension": ".py",
   "mimetype": "text/x-python",
   "name": "python",
   "nbconvert_exporter": "python",
   "pygments_lexer": "ipython3",
   "version": "3.10.12"
  }
 },
 "nbformat": 4,
 "nbformat_minor": 5
}
