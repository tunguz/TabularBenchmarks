{
 "cells": [
  {
   "cell_type": "code",
   "execution_count": 1,
   "id": "ef0f1b5c",
   "metadata": {},
   "outputs": [],
   "source": [
    "%load_ext watermark"
   ]
  },
  {
   "cell_type": "code",
   "execution_count": 2,
   "id": "857a3941",
   "metadata": {},
   "outputs": [
    {
     "name": "stdout",
     "output_type": "stream",
     "text": [
      "Last updated: 2024-02-01T14:58:59.723282-08:00\n",
      "\n",
      "Python implementation: CPython\n",
      "Python version       : 3.10.12\n",
      "IPython version      : 8.21.0\n",
      "\n",
      "Compiler    : GCC 11.4.0\n",
      "OS          : Linux\n",
      "Release     : 5.15.0-1042-nvidia\n",
      "Machine     : x86_64\n",
      "Processor   : x86_64\n",
      "CPU cores   : 224\n",
      "Architecture: 64bit\n",
      "\n"
     ]
    }
   ],
   "source": [
    "%watermark"
   ]
  },
  {
   "cell_type": "code",
   "execution_count": 3,
   "id": "6ad6a8b8",
   "metadata": {},
   "outputs": [
    {
     "name": "stdout",
     "output_type": "stream",
     "text": [
      "GPU Info: Install the gpu extra (pip install 'watermark[gpu]') to display GPU information for NVIDIA chipsets\n",
      "\n"
     ]
    }
   ],
   "source": [
    "%watermark --gpu"
   ]
  },
  {
   "cell_type": "code",
   "execution_count": 4,
   "id": "cb63bda1",
   "metadata": {},
   "outputs": [
    {
     "name": "stderr",
     "output_type": "stream",
     "text": [
      "/home/dgxuser/.local/lib/python3.10/site-packages/tqdm/auto.py:21: TqdmWarning: IProgress not found. Please update jupyter and ipywidgets. See https://ipywidgets.readthedocs.io/en/stable/user_install.html\n",
      "  from .autonotebook import tqdm as notebook_tqdm\n"
     ]
    }
   ],
   "source": [
    "from dask.distributed import Client\n",
    "from dask_cuda import LocalCUDACluster\n",
    "from dask import dataframe as dd\n",
    "from dask.delayed import delayed\n",
    "import pandas as pd\n",
    "import numpy as np\n",
    "import xgboost as xgb\n",
    "from sklearn.model_selection import KFold\n",
    "from sklearn.metrics import roc_auc_score\n",
    "\n",
    "import optuna\n",
    "import gc\n",
    "import logging"
   ]
  },
  {
   "cell_type": "code",
   "execution_count": 5,
   "id": "e3bc8140",
   "metadata": {},
   "outputs": [
    {
     "name": "stdout",
     "output_type": "stream",
     "text": [
      "xgboost: 2.0.3\n",
      "numpy  : 1.26.3\n",
      "optuna : 3.5.0\n",
      "pandas : 1.5.3\n",
      "logging: 0.5.1.2\n",
      "dask   : 2023.11.0\n",
      "\n"
     ]
    }
   ],
   "source": [
    "%watermark --iversions"
   ]
  },
  {
   "cell_type": "code",
   "execution_count": 6,
   "id": "303a856e",
   "metadata": {},
   "outputs": [
    {
     "name": "stdout",
     "output_type": "stream",
     "text": [
      "GPU 0: NVIDIA H100 80GB HBM3 (UUID: GPU-5c583ee7-8fb1-b26a-4bea-16e45d984a32)\n",
      "GPU 1: NVIDIA H100 80GB HBM3 (UUID: GPU-a6ab06f5-a6e2-18c1-9dec-0dcd29f44a46)\n",
      "GPU 2: NVIDIA H100 80GB HBM3 (UUID: GPU-bb8d5098-3c56-c48d-a0a3-fcdfcec6d3f5)\n",
      "GPU 3: NVIDIA H100 80GB HBM3 (UUID: GPU-cdbe686b-1611-999b-8e8d-a3c5f35b40c4)\n",
      "GPU 4: NVIDIA H100 80GB HBM3 (UUID: GPU-0df1cef0-fc95-cc88-b5f4-239889b3acba)\n",
      "GPU 5: NVIDIA H100 80GB HBM3 (UUID: GPU-9dca657c-dbe4-08b7-fe7c-5653f183f0b6)\n",
      "GPU 6: NVIDIA H100 80GB HBM3 (UUID: GPU-33389782-e2ad-5022-997d-cf470313879c)\n",
      "GPU 7: NVIDIA H100 80GB HBM3 (UUID: GPU-926eaa05-87fb-35e0-0a98-adb2ad41d0be)\n"
     ]
    }
   ],
   "source": [
    "!nvidia-smi -L"
   ]
  },
  {
   "cell_type": "code",
   "execution_count": 7,
   "id": "795a3fe2",
   "metadata": {},
   "outputs": [],
   "source": [
    "cluster = LocalCUDACluster(n_workers=8)\n",
    "client = Client(cluster)"
   ]
  },
  {
   "cell_type": "code",
   "execution_count": 8,
   "id": "79e136c6",
   "metadata": {},
   "outputs": [
    {
     "name": "stdout",
     "output_type": "stream",
     "text": [
      "Thu Feb  1 14:59:05 2024       \n",
      "+---------------------------------------------------------------------------------------+\n",
      "| NVIDIA-SMI 535.129.03             Driver Version: 535.129.03   CUDA Version: 12.2     |\n",
      "|-----------------------------------------+----------------------+----------------------+\n",
      "| GPU  Name                 Persistence-M | Bus-Id        Disp.A | Volatile Uncorr. ECC |\n",
      "| Fan  Temp   Perf          Pwr:Usage/Cap |         Memory-Usage | GPU-Util  Compute M. |\n",
      "|                                         |                      |               MIG M. |\n",
      "|=========================================+======================+======================|\n",
      "|   0  NVIDIA H100 80GB HBM3          On  | 00000000:1B:00.0 Off |                    0 |\n",
      "| N/A   27C    P0              67W / 700W |      4MiB / 81559MiB |      0%      Default |\n",
      "|                                         |                      |             Disabled |\n",
      "+-----------------------------------------+----------------------+----------------------+\n",
      "|   1  NVIDIA H100 80GB HBM3          On  | 00000000:43:00.0 Off |                    0 |\n",
      "| N/A   29C    P0              68W / 700W |      4MiB / 81559MiB |      0%      Default |\n",
      "|                                         |                      |             Disabled |\n",
      "+-----------------------------------------+----------------------+----------------------+\n",
      "|   2  NVIDIA H100 80GB HBM3          On  | 00000000:52:00.0 Off |                    0 |\n",
      "| N/A   32C    P0              70W / 700W |      4MiB / 81559MiB |      0%      Default |\n",
      "|                                         |                      |             Disabled |\n",
      "+-----------------------------------------+----------------------+----------------------+\n",
      "|   3  NVIDIA H100 80GB HBM3          On  | 00000000:61:00.0 Off |                    0 |\n",
      "| N/A   32C    P0              69W / 700W |      4MiB / 81559MiB |      0%      Default |\n",
      "|                                         |                      |             Disabled |\n",
      "+-----------------------------------------+----------------------+----------------------+\n",
      "|   4  NVIDIA H100 80GB HBM3          On  | 00000000:9D:00.0 Off |                    0 |\n",
      "| N/A   28C    P0              68W / 700W |      4MiB / 81559MiB |      0%      Default |\n",
      "|                                         |                      |             Disabled |\n",
      "+-----------------------------------------+----------------------+----------------------+\n",
      "|   5  NVIDIA H100 80GB HBM3          On  | 00000000:C3:00.0 Off |                    0 |\n",
      "| N/A   27C    P0              68W / 700W |      4MiB / 81559MiB |      0%      Default |\n",
      "|                                         |                      |             Disabled |\n",
      "+-----------------------------------------+----------------------+----------------------+\n",
      "|   6  NVIDIA H100 80GB HBM3          On  | 00000000:D1:00.0 Off |                    0 |\n",
      "| N/A   31C    P0              67W / 700W |      4MiB / 81559MiB |      0%      Default |\n",
      "|                                         |                      |             Disabled |\n",
      "+-----------------------------------------+----------------------+----------------------+\n",
      "|   7  NVIDIA H100 80GB HBM3          On  | 00000000:DF:00.0 Off |                    0 |\n",
      "| N/A   32C    P0              67W / 700W |      4MiB / 81559MiB |      0%      Default |\n",
      "|                                         |                      |             Disabled |\n",
      "+-----------------------------------------+----------------------+----------------------+\n",
      "                                                                                         \n",
      "+---------------------------------------------------------------------------------------+\n",
      "| Processes:                                                                            |\n",
      "|  GPU   GI   CI        PID   Type   Process name                            GPU Memory |\n",
      "|        ID   ID                                                             Usage      |\n",
      "|=======================================================================================|\n",
      "|  No running processes found                                                           |\n",
      "+---------------------------------------------------------------------------------------+\n"
     ]
    }
   ],
   "source": [
    "!nvidia-smi"
   ]
  },
  {
   "cell_type": "code",
   "execution_count": 78,
   "id": "ae6329fa",
   "metadata": {},
   "outputs": [],
   "source": [
    "def gini(actual, pred, cmpcol = 0, sortcol = 1):\n",
    "    assert( len(actual) == len(pred) )\n",
    "    all = np.asarray(np.c_[ actual, pred, np.arange(len(actual)) ], dtype=float)\n",
    "    all = all[ np.lexsort((all[:,2], -1*all[:,1])) ]\n",
    "    totalLosses = all[:,0].sum()\n",
    "    giniSum = all[:,0].cumsum().sum() / totalLosses\n",
    "    \n",
    "    giniSum -= (len(actual) + 1) / 2.\n",
    "    return giniSum / len(actual)\n",
    " \n",
    "def gini_normalized(a, p):\n",
    "    return gini(a, p) / gini(a, a)"
   ]
  },
  {
   "cell_type": "code",
   "execution_count": 10,
   "id": "ba0a92e2",
   "metadata": {},
   "outputs": [
    {
     "name": "stdout",
     "output_type": "stream",
     "text": [
      "Loading fold 0\n",
      "Loading fold 1\n",
      "Loading fold 2\n",
      "Loading fold 3\n",
      "Loading fold 4\n"
     ]
    }
   ],
   "source": [
    "train_folds = []\n",
    "val_folds = []\n",
    "train_ys = []\n",
    "val_ys = []\n",
    "\n",
    "for i in range(5):\n",
    "    print(f'Loading fold {i}')\n",
    "    train_fold_d = delayed(pd.read_csv)(f'../input/xgtrain_oho_fold_{i}.csv.gz')\n",
    "    train_fold = dd.from_delayed(train_fold_d)\n",
    "    \n",
    "    val_fold_d = delayed(pd.read_csv)(f'../input/xgval_oho_fold_{i}.csv.gz')\n",
    "    val_fold = dd.from_delayed(val_fold_d)\n",
    "    \n",
    "    \n",
    "    train_y = train_fold['target']\n",
    "    train_fold = train_fold[train_fold.columns.difference(['target'])]\n",
    "    \n",
    "    val_y = val_fold['target']\n",
    "    val_fold = val_fold[val_fold.columns.difference(['target'])]\n",
    "    \n",
    "    train_folds.append(train_fold)\n",
    "    val_folds.append(val_fold)\n",
    "    \n",
    "    train_ys.append(train_y)\n",
    "    val_ys.append(val_y)"
   ]
  },
  {
   "cell_type": "code",
   "execution_count": 11,
   "id": "091e8d76",
   "metadata": {},
   "outputs": [
    {
     "data": {
      "text/plain": [
       "array([0, 0, 0, ..., 0, 0, 0])"
      ]
     },
     "execution_count": 11,
     "metadata": {},
     "output_type": "execute_result"
    }
   ],
   "source": [
    "train = pd.read_csv('../input/train.csv.zip')\n",
    "\n",
    "target = train['target'].values\n",
    "target"
   ]
  },
  {
   "cell_type": "code",
   "execution_count": 12,
   "id": "800ccfb3",
   "metadata": {},
   "outputs": [],
   "source": [
    "train_oof = np.zeros((target.shape[0],))\n",
    "\n",
    "num_round = 1000\n",
    "\n",
    "def objective(trial):\n",
    "        \n",
    "    params = {\n",
    "        'objective': trial.suggest_categorical('objective',['binary:logistic']),\n",
    "        'tree_method': trial.suggest_categorical('tree_method',['hist']),  # 'gpu_hist','hist'\n",
    "        'device': trial.suggest_categorical('device',['cuda']),\n",
    "        'lambda': trial.suggest_float('lambda',1e-3,10.0, log=True),\n",
    "        'alpha': trial.suggest_float('alpha',1e-3,10.0, log=True),\n",
    "        'colsample_bytree': trial.suggest_float('colsample_bytree', 0.3,1.0),\n",
    "        'subsample': trial.suggest_float('subsample', 0.4, 1.0),\n",
    "        'learning_rate': trial.suggest_float('learning_rate', 0.001,0.1, log=True),\n",
    "        #'n_estimators': trial.suggest_categorical('n_estimators', [1000]),\n",
    "        'max_depth': trial.suggest_int('max_depth', 3, 25),\n",
    "        #'random_state': trial.suggest_categorical('random_state', [24,48,2020]),\n",
    "        'min_child_weight': trial.suggest_int('min_child_weight', 1,300),\n",
    "        'eval_metric': trial.suggest_categorical('eval_metric',['logloss']),\n",
    "\n",
    "    }\n",
    "\n",
    "    kf = KFold(5, shuffle=True, random_state=137)\n",
    "\n",
    "    for i, (train_index, val_index) in enumerate(kf.split(train,target)):\n",
    "        dtrain = xgb.dask.DaskDMatrix(client, train_folds[i].values, train_ys[i], enable_categorical=True)\n",
    "        dval = xgb.dask.DaskDMatrix(client, val_folds[i].values, val_ys[i], enable_categorical=True)\n",
    "        \n",
    "        output = xgb.dask.train(client, params, dtrain, num_round)\n",
    "        booster = output['booster']  # booster is the trained model\n",
    "        booster.set_param({'predictor': 'gpu_predictor'})\n",
    "        predictions = xgb.dask.predict(client, booster, dval)\n",
    "        predictions = predictions.compute()\n",
    "        train_oof[val_index] = predictions\n",
    "        del dtrain, dval, output\n",
    "        gc.collect()\n",
    "        gc.collect()\n",
    "\n",
    "    gini = gini_normalized(target, train_oof)\n",
    "    \n",
    "    return gini"
   ]
  },
  {
   "cell_type": "code",
   "execution_count": 13,
   "id": "445265e2",
   "metadata": {},
   "outputs": [],
   "source": [
    "logger = logging.getLogger()\n",
    "logger.setLevel(logging.INFO)  # Setup the root logger.\n",
    "logger.addHandler(logging.FileHandler(\"optuna_xgb_output_5.log\", mode=\"w\"))\n",
    "\n",
    "optuna.logging.enable_propagation()  # Propagate logs to the root logger.\n",
    "optuna.logging.disable_default_handler()  # Stop showing logs in sys.stderr.\n",
    "\n",
    "study = optuna.create_study(storage=\"sqlite:///xgb_optuna_porto_5.db\", study_name=\"five_fold_optuna_xgb_5\", direction='maximize')"
   ]
  },
  {
   "cell_type": "code",
   "execution_count": 14,
   "id": "977099ad",
   "metadata": {},
   "outputs": [
    {
     "name": "stderr",
     "output_type": "stream",
     "text": [
      "[14:59:48] task [xgboost.dask-0]:tcp://127.0.0.1:40795 got new rank 0\n",
      "[14:59:57] WARNING: /workspace/src/learner.cc:742: \n",
      "Parameters: { \"predictor\" } are not used.\n",
      "\n",
      "[15:00:10] task [xgboost.dask-0]:tcp://127.0.0.1:40795 got new rank 0\n",
      "[15:00:17] WARNING: /workspace/src/learner.cc:742: \n",
      "Parameters: { \"predictor\" } are not used.\n",
      "\n",
      "[15:00:24] task [xgboost.dask-0]:tcp://127.0.0.1:40795 got new rank 0\n",
      "[15:00:31] WARNING: /workspace/src/learner.cc:742: \n",
      "Parameters: { \"predictor\" } are not used.\n",
      "\n",
      "[15:00:38] task [xgboost.dask-0]:tcp://127.0.0.1:40795 got new rank 0\n",
      "[15:00:44] WARNING: /workspace/src/learner.cc:742: \n",
      "Parameters: { \"predictor\" } are not used.\n",
      "\n",
      "[15:00:51] task [xgboost.dask-0]:tcp://127.0.0.1:40795 got new rank 0\n",
      "[15:00:57] WARNING: /workspace/src/learner.cc:742: \n",
      "Parameters: { \"predictor\" } are not used.\n",
      "\n",
      "[15:01:04] task [xgboost.dask-0]:tcp://127.0.0.1:40795 got new rank 0\n",
      "[15:01:15] WARNING: /workspace/src/learner.cc:742: \n",
      "Parameters: { \"predictor\" } are not used.\n",
      "\n",
      "[15:01:22] task [xgboost.dask-0]:tcp://127.0.0.1:40795 got new rank 0\n",
      "[15:01:33] WARNING: /workspace/src/learner.cc:742: \n",
      "Parameters: { \"predictor\" } are not used.\n",
      "\n",
      "[15:01:40] task [xgboost.dask-0]:tcp://127.0.0.1:40795 got new rank 0\n",
      "[15:01:51] WARNING: /workspace/src/learner.cc:742: \n",
      "Parameters: { \"predictor\" } are not used.\n",
      "\n",
      "[15:01:57] task [xgboost.dask-0]:tcp://127.0.0.1:40795 got new rank 0\n",
      "[15:02:08] WARNING: /workspace/src/learner.cc:742: \n",
      "Parameters: { \"predictor\" } are not used.\n",
      "\n",
      "[15:02:14] task [xgboost.dask-0]:tcp://127.0.0.1:40795 got new rank 0\n",
      "[15:02:24] WARNING: /workspace/src/learner.cc:742: \n",
      "Parameters: { \"predictor\" } are not used.\n",
      "\n",
      "[15:02:31] task [xgboost.dask-0]:tcp://127.0.0.1:40795 got new rank 0\n",
      "[15:02:41] WARNING: /workspace/src/learner.cc:742: \n",
      "Parameters: { \"predictor\" } are not used.\n",
      "\n",
      "[15:02:48] task [xgboost.dask-0]:tcp://127.0.0.1:40795 got new rank 0\n",
      "[15:02:57] WARNING: /workspace/src/learner.cc:742: \n",
      "Parameters: { \"predictor\" } are not used.\n",
      "\n",
      "[15:03:04] task [xgboost.dask-0]:tcp://127.0.0.1:40795 got new rank 0\n",
      "[15:03:13] WARNING: /workspace/src/learner.cc:742: \n",
      "Parameters: { \"predictor\" } are not used.\n",
      "\n",
      "[15:03:20] task [xgboost.dask-0]:tcp://127.0.0.1:40795 got new rank 0\n",
      "[15:03:29] WARNING: /workspace/src/learner.cc:742: \n",
      "Parameters: { \"predictor\" } are not used.\n",
      "\n",
      "[15:03:35] task [xgboost.dask-0]:tcp://127.0.0.1:40795 got new rank 0\n",
      "[15:03:44] WARNING: /workspace/src/learner.cc:742: \n",
      "Parameters: { \"predictor\" } are not used.\n",
      "\n",
      "2024-02-01 15:03:45,740 - distributed.utils_perf - WARNING - full garbage collections took 29% CPU time recently (threshold: 10%)\n"
     ]
    },
    {
     "name": "stdout",
     "output_type": "stream",
     "text": [
      "CPU times: user 39.7 s, sys: 15.4 s, total: 55.1 s\n",
      "Wall time: 4min 8s\n"
     ]
    }
   ],
   "source": [
    "%%time\n",
    "logger.info(\"Start optimization.\")\n",
    "study.optimize(objective, n_trials=3)"
   ]
  },
  {
   "cell_type": "code",
   "execution_count": 15,
   "id": "85cdfc75",
   "metadata": {},
   "outputs": [
    {
     "data": {
      "text/html": [
       "<div>\n",
       "<style scoped>\n",
       "    .dataframe tbody tr th:only-of-type {\n",
       "        vertical-align: middle;\n",
       "    }\n",
       "\n",
       "    .dataframe tbody tr th {\n",
       "        vertical-align: top;\n",
       "    }\n",
       "\n",
       "    .dataframe thead th {\n",
       "        text-align: right;\n",
       "    }\n",
       "</style>\n",
       "<table border=\"1\" class=\"dataframe\">\n",
       "  <thead>\n",
       "    <tr style=\"text-align: right;\">\n",
       "      <th></th>\n",
       "      <th>number</th>\n",
       "      <th>value</th>\n",
       "      <th>params_alpha</th>\n",
       "      <th>params_colsample_bytree</th>\n",
       "      <th>params_device</th>\n",
       "      <th>params_eval_metric</th>\n",
       "      <th>params_lambda</th>\n",
       "      <th>params_learning_rate</th>\n",
       "      <th>params_max_depth</th>\n",
       "      <th>params_min_child_weight</th>\n",
       "      <th>params_objective</th>\n",
       "      <th>params_subsample</th>\n",
       "      <th>params_tree_method</th>\n",
       "      <th>state</th>\n",
       "    </tr>\n",
       "  </thead>\n",
       "  <tbody>\n",
       "    <tr>\n",
       "      <th>0</th>\n",
       "      <td>0</td>\n",
       "      <td>0.261091</td>\n",
       "      <td>9.320316</td>\n",
       "      <td>0.477649</td>\n",
       "      <td>cuda</td>\n",
       "      <td>logloss</td>\n",
       "      <td>0.074662</td>\n",
       "      <td>0.001820</td>\n",
       "      <td>16</td>\n",
       "      <td>96</td>\n",
       "      <td>binary:logistic</td>\n",
       "      <td>0.524617</td>\n",
       "      <td>hist</td>\n",
       "      <td>COMPLETE</td>\n",
       "    </tr>\n",
       "    <tr>\n",
       "      <th>1</th>\n",
       "      <td>1</td>\n",
       "      <td>0.286779</td>\n",
       "      <td>0.626090</td>\n",
       "      <td>0.617290</td>\n",
       "      <td>cuda</td>\n",
       "      <td>logloss</td>\n",
       "      <td>0.014329</td>\n",
       "      <td>0.007502</td>\n",
       "      <td>19</td>\n",
       "      <td>64</td>\n",
       "      <td>binary:logistic</td>\n",
       "      <td>0.548255</td>\n",
       "      <td>hist</td>\n",
       "      <td>COMPLETE</td>\n",
       "    </tr>\n",
       "    <tr>\n",
       "      <th>2</th>\n",
       "      <td>2</td>\n",
       "      <td>0.271957</td>\n",
       "      <td>0.147410</td>\n",
       "      <td>0.453876</td>\n",
       "      <td>cuda</td>\n",
       "      <td>logloss</td>\n",
       "      <td>0.001651</td>\n",
       "      <td>0.002307</td>\n",
       "      <td>14</td>\n",
       "      <td>222</td>\n",
       "      <td>binary:logistic</td>\n",
       "      <td>0.770649</td>\n",
       "      <td>hist</td>\n",
       "      <td>COMPLETE</td>\n",
       "    </tr>\n",
       "  </tbody>\n",
       "</table>\n",
       "</div>"
      ],
      "text/plain": [
       "   number     value  params_alpha  params_colsample_bytree params_device  \\\n",
       "0       0  0.261091      9.320316                 0.477649          cuda   \n",
       "1       1  0.286779      0.626090                 0.617290          cuda   \n",
       "2       2  0.271957      0.147410                 0.453876          cuda   \n",
       "\n",
       "  params_eval_metric  params_lambda  params_learning_rate  params_max_depth  \\\n",
       "0            logloss       0.074662              0.001820                16   \n",
       "1            logloss       0.014329              0.007502                19   \n",
       "2            logloss       0.001651              0.002307                14   \n",
       "\n",
       "   params_min_child_weight params_objective  params_subsample  \\\n",
       "0                       96  binary:logistic          0.524617   \n",
       "1                       64  binary:logistic          0.548255   \n",
       "2                      222  binary:logistic          0.770649   \n",
       "\n",
       "  params_tree_method     state  \n",
       "0               hist  COMPLETE  \n",
       "1               hist  COMPLETE  \n",
       "2               hist  COMPLETE  "
      ]
     },
     "execution_count": 15,
     "metadata": {},
     "output_type": "execute_result"
    }
   ],
   "source": [
    "df = study.trials_dataframe(attrs=('number', 'value', 'params', 'state'))\n",
    "df.head()"
   ]
  },
  {
   "cell_type": "code",
   "execution_count": 16,
   "id": "2e3ad76c",
   "metadata": {},
   "outputs": [
    {
     "name": "stderr",
     "output_type": "stream",
     "text": [
      "[15:04:08] task [xgboost.dask-0]:tcp://127.0.0.1:40795 got new rank 0\n",
      "[15:04:16] WARNING: /workspace/src/learner.cc:742: \n",
      "Parameters: { \"predictor\" } are not used.\n",
      "\n",
      "2024-02-01 15:04:17,678 - distributed.utils_perf - WARNING - full garbage collections took 71% CPU time recently (threshold: 10%)\n",
      "2024-02-01 15:04:17,736 - distributed.utils_perf - WARNING - full garbage collections took 71% CPU time recently (threshold: 10%)\n",
      "[15:04:23] task [xgboost.dask-0]:tcp://127.0.0.1:40795 got new rank 0\n",
      "[15:04:31] WARNING: /workspace/src/learner.cc:742: \n",
      "Parameters: { \"predictor\" } are not used.\n",
      "\n",
      "2024-02-01 15:04:32,474 - distributed.utils_perf - WARNING - full garbage collections took 71% CPU time recently (threshold: 10%)\n",
      "2024-02-01 15:04:32,528 - distributed.utils_perf - WARNING - full garbage collections took 71% CPU time recently (threshold: 10%)\n",
      "[15:04:38] task [xgboost.dask-0]:tcp://127.0.0.1:40795 got new rank 0\n",
      "[15:04:45] WARNING: /workspace/src/learner.cc:742: \n",
      "Parameters: { \"predictor\" } are not used.\n",
      "\n",
      "2024-02-01 15:04:46,230 - distributed.utils_perf - WARNING - full garbage collections took 71% CPU time recently (threshold: 10%)\n",
      "2024-02-01 15:04:46,288 - distributed.utils_perf - WARNING - full garbage collections took 71% CPU time recently (threshold: 10%)\n",
      "[15:04:51] task [xgboost.dask-0]:tcp://127.0.0.1:40795 got new rank 0\n",
      "[15:04:59] WARNING: /workspace/src/learner.cc:742: \n",
      "Parameters: { \"predictor\" } are not used.\n",
      "\n",
      "2024-02-01 15:04:59,985 - distributed.utils_perf - WARNING - full garbage collections took 71% CPU time recently (threshold: 10%)\n",
      "2024-02-01 15:05:00,046 - distributed.utils_perf - WARNING - full garbage collections took 71% CPU time recently (threshold: 10%)\n",
      "[15:05:05] task [xgboost.dask-0]:tcp://127.0.0.1:40795 got new rank 0\n",
      "[15:05:12] WARNING: /workspace/src/learner.cc:742: \n",
      "Parameters: { \"predictor\" } are not used.\n",
      "\n",
      "2024-02-01 15:05:13,757 - distributed.utils_perf - WARNING - full garbage collections took 71% CPU time recently (threshold: 10%)\n",
      "2024-02-01 15:05:13,815 - distributed.utils_perf - WARNING - full garbage collections took 71% CPU time recently (threshold: 10%)\n",
      "[15:05:19] task [xgboost.dask-0]:tcp://127.0.0.1:40795 got new rank 0\n",
      "[15:05:27] WARNING: /workspace/src/learner.cc:742: \n",
      "Parameters: { \"predictor\" } are not used.\n",
      "\n",
      "2024-02-01 15:05:28,767 - distributed.utils_perf - WARNING - full garbage collections took 72% CPU time recently (threshold: 10%)\n",
      "2024-02-01 15:05:28,826 - distributed.utils_perf - WARNING - full garbage collections took 72% CPU time recently (threshold: 10%)\n",
      "[15:05:34] task [xgboost.dask-0]:tcp://127.0.0.1:40795 got new rank 0\n",
      "[15:05:42] WARNING: /workspace/src/learner.cc:742: \n",
      "Parameters: { \"predictor\" } are not used.\n",
      "\n",
      "2024-02-01 15:05:43,391 - distributed.utils_perf - WARNING - full garbage collections took 72% CPU time recently (threshold: 10%)\n",
      "2024-02-01 15:05:43,449 - distributed.utils_perf - WARNING - full garbage collections took 72% CPU time recently (threshold: 10%)\n",
      "[15:05:49] task [xgboost.dask-0]:tcp://127.0.0.1:40795 got new rank 0\n",
      "[15:05:56] WARNING: /workspace/src/learner.cc:742: \n",
      "Parameters: { \"predictor\" } are not used.\n",
      "\n",
      "2024-02-01 15:05:57,116 - distributed.utils_perf - WARNING - full garbage collections took 72% CPU time recently (threshold: 10%)\n",
      "2024-02-01 15:05:57,176 - distributed.utils_perf - WARNING - full garbage collections took 72% CPU time recently (threshold: 10%)\n",
      "[15:06:02] task [xgboost.dask-0]:tcp://127.0.0.1:40795 got new rank 0\n",
      "[15:06:09] WARNING: /workspace/src/learner.cc:742: \n",
      "Parameters: { \"predictor\" } are not used.\n",
      "\n",
      "2024-02-01 15:06:10,760 - distributed.utils_perf - WARNING - full garbage collections took 72% CPU time recently (threshold: 10%)\n",
      "2024-02-01 15:06:10,819 - distributed.utils_perf - WARNING - full garbage collections took 72% CPU time recently (threshold: 10%)\n",
      "[15:06:16] task [xgboost.dask-0]:tcp://127.0.0.1:40795 got new rank 0\n",
      "[15:06:23] WARNING: /workspace/src/learner.cc:742: \n",
      "Parameters: { \"predictor\" } are not used.\n",
      "\n",
      "2024-02-01 15:06:24,397 - distributed.utils_perf - WARNING - full garbage collections took 72% CPU time recently (threshold: 10%)\n",
      "2024-02-01 15:06:24,458 - distributed.utils_perf - WARNING - full garbage collections took 72% CPU time recently (threshold: 10%)\n",
      "[15:06:30] task [xgboost.dask-0]:tcp://127.0.0.1:40795 got new rank 0\n",
      "[15:06:41] WARNING: /workspace/src/learner.cc:742: \n",
      "Parameters: { \"predictor\" } are not used.\n",
      "\n",
      "2024-02-01 15:06:42,631 - distributed.utils_perf - WARNING - full garbage collections took 72% CPU time recently (threshold: 10%)\n",
      "2024-02-01 15:06:42,692 - distributed.utils_perf - WARNING - full garbage collections took 72% CPU time recently (threshold: 10%)\n",
      "[15:06:48] task [xgboost.dask-0]:tcp://127.0.0.1:40795 got new rank 0\n",
      "[15:06:59] WARNING: /workspace/src/learner.cc:742: \n",
      "Parameters: { \"predictor\" } are not used.\n",
      "\n",
      "2024-02-01 15:07:00,870 - distributed.utils_perf - WARNING - full garbage collections took 72% CPU time recently (threshold: 10%)\n",
      "2024-02-01 15:07:00,928 - distributed.utils_perf - WARNING - full garbage collections took 72% CPU time recently (threshold: 10%)\n",
      "[15:07:06] task [xgboost.dask-0]:tcp://127.0.0.1:40795 got new rank 0\n",
      "[15:07:16] WARNING: /workspace/src/learner.cc:742: \n",
      "Parameters: { \"predictor\" } are not used.\n",
      "\n",
      "2024-02-01 15:07:18,094 - distributed.utils_perf - WARNING - full garbage collections took 72% CPU time recently (threshold: 10%)\n",
      "2024-02-01 15:07:18,155 - distributed.utils_perf - WARNING - full garbage collections took 72% CPU time recently (threshold: 10%)\n",
      "[15:07:23] task [xgboost.dask-0]:tcp://127.0.0.1:40795 got new rank 0\n",
      "[15:07:34] WARNING: /workspace/src/learner.cc:742: \n",
      "Parameters: { \"predictor\" } are not used.\n",
      "\n",
      "2024-02-01 15:07:35,416 - distributed.utils_perf - WARNING - full garbage collections took 72% CPU time recently (threshold: 10%)\n",
      "2024-02-01 15:07:35,477 - distributed.utils_perf - WARNING - full garbage collections took 72% CPU time recently (threshold: 10%)\n",
      "[15:07:41] task [xgboost.dask-0]:tcp://127.0.0.1:40795 got new rank 0\n",
      "[15:07:51] WARNING: /workspace/src/learner.cc:742: \n",
      "Parameters: { \"predictor\" } are not used.\n",
      "\n",
      "2024-02-01 15:07:52,661 - distributed.utils_perf - WARNING - full garbage collections took 72% CPU time recently (threshold: 10%)\n",
      "2024-02-01 15:07:52,723 - distributed.utils_perf - WARNING - full garbage collections took 72% CPU time recently (threshold: 10%)\n",
      "[15:07:58] task [xgboost.dask-0]:tcp://127.0.0.1:40795 got new rank 0\n",
      "[15:08:06] WARNING: /workspace/src/learner.cc:742: \n",
      "Parameters: { \"predictor\" } are not used.\n",
      "\n",
      "2024-02-01 15:08:07,702 - distributed.utils_perf - WARNING - full garbage collections took 73% CPU time recently (threshold: 10%)\n",
      "2024-02-01 15:08:07,764 - distributed.utils_perf - WARNING - full garbage collections took 73% CPU time recently (threshold: 10%)\n",
      "[15:08:13] task [xgboost.dask-0]:tcp://127.0.0.1:40795 got new rank 0\n",
      "[15:08:21] WARNING: /workspace/src/learner.cc:742: \n",
      "Parameters: { \"predictor\" } are not used.\n",
      "\n",
      "2024-02-01 15:08:22,597 - distributed.utils_perf - WARNING - full garbage collections took 73% CPU time recently (threshold: 10%)\n",
      "2024-02-01 15:08:22,659 - distributed.utils_perf - WARNING - full garbage collections took 73% CPU time recently (threshold: 10%)\n",
      "[15:08:28] task [xgboost.dask-0]:tcp://127.0.0.1:40795 got new rank 0\n",
      "[15:08:35] WARNING: /workspace/src/learner.cc:742: \n",
      "Parameters: { \"predictor\" } are not used.\n",
      "\n",
      "2024-02-01 15:08:36,628 - distributed.utils_perf - WARNING - full garbage collections took 73% CPU time recently (threshold: 10%)\n",
      "2024-02-01 15:08:36,689 - distributed.utils_perf - WARNING - full garbage collections took 73% CPU time recently (threshold: 10%)\n",
      "[15:08:42] task [xgboost.dask-0]:tcp://127.0.0.1:40795 got new rank 0\n",
      "[15:08:49] WARNING: /workspace/src/learner.cc:742: \n",
      "Parameters: { \"predictor\" } are not used.\n",
      "\n",
      "2024-02-01 15:08:50,698 - distributed.utils_perf - WARNING - full garbage collections took 73% CPU time recently (threshold: 10%)\n",
      "2024-02-01 15:08:50,760 - distributed.utils_perf - WARNING - full garbage collections took 73% CPU time recently (threshold: 10%)\n",
      "[15:08:56] task [xgboost.dask-0]:tcp://127.0.0.1:40795 got new rank 0\n",
      "[15:09:03] WARNING: /workspace/src/learner.cc:742: \n",
      "Parameters: { \"predictor\" } are not used.\n",
      "\n",
      "2024-02-01 15:09:04,612 - distributed.utils_perf - WARNING - full garbage collections took 73% CPU time recently (threshold: 10%)\n",
      "2024-02-01 15:09:04,675 - distributed.utils_perf - WARNING - full garbage collections took 73% CPU time recently (threshold: 10%)\n",
      "[15:09:10] task [xgboost.dask-0]:tcp://127.0.0.1:40795 got new rank 0\n",
      "[15:09:18] WARNING: /workspace/src/learner.cc:742: \n",
      "Parameters: { \"predictor\" } are not used.\n",
      "\n",
      "2024-02-01 15:09:19,694 - distributed.utils_perf - WARNING - full garbage collections took 73% CPU time recently (threshold: 10%)\n",
      "2024-02-01 15:09:19,757 - distributed.utils_perf - WARNING - full garbage collections took 73% CPU time recently (threshold: 10%)\n",
      "[15:09:25] task [xgboost.dask-0]:tcp://127.0.0.1:40795 got new rank 0\n",
      "[15:09:33] WARNING: /workspace/src/learner.cc:742: \n",
      "Parameters: { \"predictor\" } are not used.\n",
      "\n",
      "2024-02-01 15:09:34,765 - distributed.utils_perf - WARNING - full garbage collections took 73% CPU time recently (threshold: 10%)\n",
      "2024-02-01 15:09:34,828 - distributed.utils_perf - WARNING - full garbage collections took 73% CPU time recently (threshold: 10%)\n",
      "[15:09:40] task [xgboost.dask-0]:tcp://127.0.0.1:40795 got new rank 0\n",
      "[15:09:47] WARNING: /workspace/src/learner.cc:742: \n",
      "Parameters: { \"predictor\" } are not used.\n",
      "\n",
      "2024-02-01 15:09:48,702 - distributed.utils_perf - WARNING - full garbage collections took 73% CPU time recently (threshold: 10%)\n",
      "2024-02-01 15:09:48,765 - distributed.utils_perf - WARNING - full garbage collections took 73% CPU time recently (threshold: 10%)\n",
      "[15:09:54] task [xgboost.dask-0]:tcp://127.0.0.1:40795 got new rank 0\n",
      "[15:10:01] WARNING: /workspace/src/learner.cc:742: \n",
      "Parameters: { \"predictor\" } are not used.\n",
      "\n",
      "2024-02-01 15:10:02,637 - distributed.utils_perf - WARNING - full garbage collections took 73% CPU time recently (threshold: 10%)\n",
      "2024-02-01 15:10:02,701 - distributed.utils_perf - WARNING - full garbage collections took 73% CPU time recently (threshold: 10%)\n",
      "[15:10:08] task [xgboost.dask-0]:tcp://127.0.0.1:40795 got new rank 0\n",
      "[15:10:15] WARNING: /workspace/src/learner.cc:742: \n",
      "Parameters: { \"predictor\" } are not used.\n",
      "\n",
      "2024-02-01 15:10:16,592 - distributed.utils_perf - WARNING - full garbage collections took 74% CPU time recently (threshold: 10%)\n",
      "2024-02-01 15:10:16,655 - distributed.utils_perf - WARNING - full garbage collections took 74% CPU time recently (threshold: 10%)\n"
     ]
    },
    {
     "name": "stdout",
     "output_type": "stream",
     "text": [
      "CPU times: user 1min 4s, sys: 16.6 s, total: 1min 20s\n",
      "Wall time: 6min 14s\n"
     ]
    },
    {
     "data": {
      "text/html": [
       "<div>\n",
       "<style scoped>\n",
       "    .dataframe tbody tr th:only-of-type {\n",
       "        vertical-align: middle;\n",
       "    }\n",
       "\n",
       "    .dataframe tbody tr th {\n",
       "        vertical-align: top;\n",
       "    }\n",
       "\n",
       "    .dataframe thead th {\n",
       "        text-align: right;\n",
       "    }\n",
       "</style>\n",
       "<table border=\"1\" class=\"dataframe\">\n",
       "  <thead>\n",
       "    <tr style=\"text-align: right;\">\n",
       "      <th></th>\n",
       "      <th>number</th>\n",
       "      <th>value</th>\n",
       "      <th>params_alpha</th>\n",
       "      <th>params_colsample_bytree</th>\n",
       "      <th>params_device</th>\n",
       "      <th>params_eval_metric</th>\n",
       "      <th>params_lambda</th>\n",
       "      <th>params_learning_rate</th>\n",
       "      <th>params_max_depth</th>\n",
       "      <th>params_min_child_weight</th>\n",
       "      <th>params_objective</th>\n",
       "      <th>params_subsample</th>\n",
       "      <th>params_tree_method</th>\n",
       "      <th>state</th>\n",
       "    </tr>\n",
       "  </thead>\n",
       "  <tbody>\n",
       "    <tr>\n",
       "      <th>0</th>\n",
       "      <td>0</td>\n",
       "      <td>0.261091</td>\n",
       "      <td>9.320316</td>\n",
       "      <td>0.477649</td>\n",
       "      <td>cuda</td>\n",
       "      <td>logloss</td>\n",
       "      <td>0.074662</td>\n",
       "      <td>0.001820</td>\n",
       "      <td>16</td>\n",
       "      <td>96</td>\n",
       "      <td>binary:logistic</td>\n",
       "      <td>0.524617</td>\n",
       "      <td>hist</td>\n",
       "      <td>COMPLETE</td>\n",
       "    </tr>\n",
       "    <tr>\n",
       "      <th>1</th>\n",
       "      <td>1</td>\n",
       "      <td>0.286779</td>\n",
       "      <td>0.626090</td>\n",
       "      <td>0.617290</td>\n",
       "      <td>cuda</td>\n",
       "      <td>logloss</td>\n",
       "      <td>0.014329</td>\n",
       "      <td>0.007502</td>\n",
       "      <td>19</td>\n",
       "      <td>64</td>\n",
       "      <td>binary:logistic</td>\n",
       "      <td>0.548255</td>\n",
       "      <td>hist</td>\n",
       "      <td>COMPLETE</td>\n",
       "    </tr>\n",
       "    <tr>\n",
       "      <th>2</th>\n",
       "      <td>2</td>\n",
       "      <td>0.271957</td>\n",
       "      <td>0.147410</td>\n",
       "      <td>0.453876</td>\n",
       "      <td>cuda</td>\n",
       "      <td>logloss</td>\n",
       "      <td>0.001651</td>\n",
       "      <td>0.002307</td>\n",
       "      <td>14</td>\n",
       "      <td>222</td>\n",
       "      <td>binary:logistic</td>\n",
       "      <td>0.770649</td>\n",
       "      <td>hist</td>\n",
       "      <td>COMPLETE</td>\n",
       "    </tr>\n",
       "    <tr>\n",
       "      <th>3</th>\n",
       "      <td>3</td>\n",
       "      <td>0.287178</td>\n",
       "      <td>0.186078</td>\n",
       "      <td>0.790183</td>\n",
       "      <td>cuda</td>\n",
       "      <td>logloss</td>\n",
       "      <td>0.141901</td>\n",
       "      <td>0.015706</td>\n",
       "      <td>10</td>\n",
       "      <td>229</td>\n",
       "      <td>binary:logistic</td>\n",
       "      <td>0.718290</td>\n",
       "      <td>hist</td>\n",
       "      <td>COMPLETE</td>\n",
       "    </tr>\n",
       "    <tr>\n",
       "      <th>4</th>\n",
       "      <td>4</td>\n",
       "      <td>0.274219</td>\n",
       "      <td>0.115748</td>\n",
       "      <td>0.739794</td>\n",
       "      <td>cuda</td>\n",
       "      <td>logloss</td>\n",
       "      <td>0.123462</td>\n",
       "      <td>0.047147</td>\n",
       "      <td>24</td>\n",
       "      <td>209</td>\n",
       "      <td>binary:logistic</td>\n",
       "      <td>0.444212</td>\n",
       "      <td>hist</td>\n",
       "      <td>COMPLETE</td>\n",
       "    </tr>\n",
       "    <tr>\n",
       "      <th>5</th>\n",
       "      <td>5</td>\n",
       "      <td>0.219778</td>\n",
       "      <td>0.152644</td>\n",
       "      <td>0.780991</td>\n",
       "      <td>cuda</td>\n",
       "      <td>logloss</td>\n",
       "      <td>0.795898</td>\n",
       "      <td>0.057804</td>\n",
       "      <td>23</td>\n",
       "      <td>99</td>\n",
       "      <td>binary:logistic</td>\n",
       "      <td>0.972187</td>\n",
       "      <td>hist</td>\n",
       "      <td>COMPLETE</td>\n",
       "    </tr>\n",
       "    <tr>\n",
       "      <th>6</th>\n",
       "      <td>6</td>\n",
       "      <td>0.273179</td>\n",
       "      <td>5.072753</td>\n",
       "      <td>0.462350</td>\n",
       "      <td>cuda</td>\n",
       "      <td>logloss</td>\n",
       "      <td>0.014858</td>\n",
       "      <td>0.002766</td>\n",
       "      <td>19</td>\n",
       "      <td>134</td>\n",
       "      <td>binary:logistic</td>\n",
       "      <td>0.691930</td>\n",
       "      <td>hist</td>\n",
       "      <td>COMPLETE</td>\n",
       "    </tr>\n",
       "    <tr>\n",
       "      <th>7</th>\n",
       "      <td>7</td>\n",
       "      <td>0.286466</td>\n",
       "      <td>0.003027</td>\n",
       "      <td>0.341739</td>\n",
       "      <td>cuda</td>\n",
       "      <td>logloss</td>\n",
       "      <td>2.955274</td>\n",
       "      <td>0.011005</td>\n",
       "      <td>17</td>\n",
       "      <td>185</td>\n",
       "      <td>binary:logistic</td>\n",
       "      <td>0.486281</td>\n",
       "      <td>hist</td>\n",
       "      <td>COMPLETE</td>\n",
       "    </tr>\n",
       "  </tbody>\n",
       "</table>\n",
       "</div>"
      ],
      "text/plain": [
       "   number     value  params_alpha  params_colsample_bytree params_device  \\\n",
       "0       0  0.261091      9.320316                 0.477649          cuda   \n",
       "1       1  0.286779      0.626090                 0.617290          cuda   \n",
       "2       2  0.271957      0.147410                 0.453876          cuda   \n",
       "3       3  0.287178      0.186078                 0.790183          cuda   \n",
       "4       4  0.274219      0.115748                 0.739794          cuda   \n",
       "5       5  0.219778      0.152644                 0.780991          cuda   \n",
       "6       6  0.273179      5.072753                 0.462350          cuda   \n",
       "7       7  0.286466      0.003027                 0.341739          cuda   \n",
       "\n",
       "  params_eval_metric  params_lambda  params_learning_rate  params_max_depth  \\\n",
       "0            logloss       0.074662              0.001820                16   \n",
       "1            logloss       0.014329              0.007502                19   \n",
       "2            logloss       0.001651              0.002307                14   \n",
       "3            logloss       0.141901              0.015706                10   \n",
       "4            logloss       0.123462              0.047147                24   \n",
       "5            logloss       0.795898              0.057804                23   \n",
       "6            logloss       0.014858              0.002766                19   \n",
       "7            logloss       2.955274              0.011005                17   \n",
       "\n",
       "   params_min_child_weight params_objective  params_subsample  \\\n",
       "0                       96  binary:logistic          0.524617   \n",
       "1                       64  binary:logistic          0.548255   \n",
       "2                      222  binary:logistic          0.770649   \n",
       "3                      229  binary:logistic          0.718290   \n",
       "4                      209  binary:logistic          0.444212   \n",
       "5                       99  binary:logistic          0.972187   \n",
       "6                      134  binary:logistic          0.691930   \n",
       "7                      185  binary:logistic          0.486281   \n",
       "\n",
       "  params_tree_method     state  \n",
       "0               hist  COMPLETE  \n",
       "1               hist  COMPLETE  \n",
       "2               hist  COMPLETE  \n",
       "3               hist  COMPLETE  \n",
       "4               hist  COMPLETE  \n",
       "5               hist  COMPLETE  \n",
       "6               hist  COMPLETE  \n",
       "7               hist  COMPLETE  "
      ]
     },
     "execution_count": 16,
     "metadata": {},
     "output_type": "execute_result"
    }
   ],
   "source": [
    "%%time\n",
    "study.optimize(objective, n_trials=5)\n",
    "df = study.trials_dataframe(attrs=('number', 'value', 'params', 'state'))\n",
    "df.to_csv('optuna_xgb_output_5.csv', index=False)\n",
    "df.head(8)"
   ]
  },
  {
   "cell_type": "code",
   "execution_count": 17,
   "id": "962c6d7a",
   "metadata": {},
   "outputs": [
    {
     "data": {
      "text/plain": [
       "{'objective': 'binary:logistic',\n",
       " 'tree_method': 'hist',\n",
       " 'device': 'cuda',\n",
       " 'lambda': 0.14190076165750204,\n",
       " 'alpha': 0.1860780014774321,\n",
       " 'colsample_bytree': 0.7901829038590573,\n",
       " 'subsample': 0.7182899032077363,\n",
       " 'learning_rate': 0.015706484870345004,\n",
       " 'max_depth': 10,\n",
       " 'min_child_weight': 229,\n",
       " 'eval_metric': 'logloss'}"
      ]
     },
     "execution_count": 17,
     "metadata": {},
     "output_type": "execute_result"
    }
   ],
   "source": [
    "study.best_trial.params"
   ]
  },
  {
   "cell_type": "code",
   "execution_count": 18,
   "id": "e92ffe50",
   "metadata": {},
   "outputs": [
    {
     "data": {
      "text/plain": [
       "0.2871776897327792"
      ]
     },
     "execution_count": 18,
     "metadata": {},
     "output_type": "execute_result"
    }
   ],
   "source": [
    "df.value.max()"
   ]
  },
  {
   "cell_type": "code",
   "execution_count": null,
   "id": "436266ab",
   "metadata": {},
   "outputs": [
    {
     "name": "stderr",
     "output_type": "stream",
     "text": [
      "[15:10:47] task [xgboost.dask-0]:tcp://127.0.0.1:40795 got new rank 0\n",
      "[15:10:59] WARNING: /workspace/src/learner.cc:742: \n",
      "Parameters: { \"predictor\" } are not used.\n",
      "\n",
      "2024-02-01 15:11:00,666 - distributed.utils_perf - WARNING - full garbage collections took 73% CPU time recently (threshold: 10%)\n",
      "2024-02-01 15:11:00,730 - distributed.utils_perf - WARNING - full garbage collections took 73% CPU time recently (threshold: 10%)\n",
      "[15:11:06] task [xgboost.dask-0]:tcp://127.0.0.1:40795 got new rank 0\n",
      "[15:11:18] WARNING: /workspace/src/learner.cc:742: \n",
      "Parameters: { \"predictor\" } are not used.\n",
      "\n",
      "2024-02-01 15:11:19,793 - distributed.utils_perf - WARNING - full garbage collections took 73% CPU time recently (threshold: 10%)\n",
      "2024-02-01 15:11:19,857 - distributed.utils_perf - WARNING - full garbage collections took 73% CPU time recently (threshold: 10%)\n",
      "[15:11:25] task [xgboost.dask-0]:tcp://127.0.0.1:40795 got new rank 0\n",
      "[15:11:36] WARNING: /workspace/src/learner.cc:742: \n",
      "Parameters: { \"predictor\" } are not used.\n",
      "\n",
      "2024-02-01 15:11:38,074 - distributed.utils_perf - WARNING - full garbage collections took 73% CPU time recently (threshold: 10%)\n",
      "2024-02-01 15:11:38,138 - distributed.utils_perf - WARNING - full garbage collections took 73% CPU time recently (threshold: 10%)\n",
      "[15:11:43] task [xgboost.dask-0]:tcp://127.0.0.1:40795 got new rank 0\n",
      "[15:11:55] WARNING: /workspace/src/learner.cc:742: \n",
      "Parameters: { \"predictor\" } are not used.\n",
      "\n",
      "2024-02-01 15:11:56,262 - distributed.utils_perf - WARNING - full garbage collections took 73% CPU time recently (threshold: 10%)\n",
      "2024-02-01 15:11:56,324 - distributed.utils_perf - WARNING - full garbage collections took 73% CPU time recently (threshold: 10%)\n",
      "[15:12:01] task [xgboost.dask-0]:tcp://127.0.0.1:40795 got new rank 0\n",
      "[15:12:13] WARNING: /workspace/src/learner.cc:742: \n",
      "Parameters: { \"predictor\" } are not used.\n",
      "\n",
      "2024-02-01 15:12:14,280 - distributed.utils_perf - WARNING - full garbage collections took 73% CPU time recently (threshold: 10%)\n",
      "2024-02-01 15:12:14,337 - distributed.utils_perf - WARNING - full garbage collections took 73% CPU time recently (threshold: 10%)\n",
      "[15:12:20] task [xgboost.dask-0]:tcp://127.0.0.1:40795 got new rank 0\n",
      "[15:12:29] WARNING: /workspace/src/learner.cc:742: \n",
      "Parameters: { \"predictor\" } are not used.\n",
      "\n",
      "2024-02-01 15:12:30,919 - distributed.utils_perf - WARNING - full garbage collections took 74% CPU time recently (threshold: 10%)\n",
      "2024-02-01 15:12:30,978 - distributed.utils_perf - WARNING - full garbage collections took 73% CPU time recently (threshold: 10%)\n",
      "[15:12:36] task [xgboost.dask-0]:tcp://127.0.0.1:40795 got new rank 0\n",
      "[15:12:46] WARNING: /workspace/src/learner.cc:742: \n",
      "Parameters: { \"predictor\" } are not used.\n",
      "\n",
      "2024-02-01 15:12:47,536 - distributed.utils_perf - WARNING - full garbage collections took 73% CPU time recently (threshold: 10%)\n",
      "2024-02-01 15:12:47,595 - distributed.utils_perf - WARNING - full garbage collections took 73% CPU time recently (threshold: 10%)\n",
      "[15:12:53] task [xgboost.dask-0]:tcp://127.0.0.1:40795 got new rank 0\n",
      "[15:13:01] WARNING: /workspace/src/learner.cc:742: \n",
      "Parameters: { \"predictor\" } are not used.\n",
      "\n",
      "2024-02-01 15:13:02,934 - distributed.utils_perf - WARNING - full garbage collections took 73% CPU time recently (threshold: 10%)\n",
      "2024-02-01 15:13:02,992 - distributed.utils_perf - WARNING - full garbage collections took 73% CPU time recently (threshold: 10%)\n",
      "[15:13:08] task [xgboost.dask-0]:tcp://127.0.0.1:40795 got new rank 0\n",
      "[15:13:17] WARNING: /workspace/src/learner.cc:742: \n",
      "Parameters: { \"predictor\" } are not used.\n",
      "\n",
      "2024-02-01 15:13:18,397 - distributed.utils_perf - WARNING - full garbage collections took 73% CPU time recently (threshold: 10%)\n",
      "2024-02-01 15:13:18,456 - distributed.utils_perf - WARNING - full garbage collections took 73% CPU time recently (threshold: 10%)\n",
      "[15:13:23] task [xgboost.dask-0]:tcp://127.0.0.1:40795 got new rank 0\n",
      "[15:13:32] WARNING: /workspace/src/learner.cc:742: \n",
      "Parameters: { \"predictor\" } are not used.\n",
      "\n",
      "2024-02-01 15:13:33,757 - distributed.utils_perf - WARNING - full garbage collections took 73% CPU time recently (threshold: 10%)\n",
      "2024-02-01 15:13:33,816 - distributed.utils_perf - WARNING - full garbage collections took 73% CPU time recently (threshold: 10%)\n",
      "[15:13:39] task [xgboost.dask-0]:tcp://127.0.0.1:40795 got new rank 0\n",
      "[15:13:46] WARNING: /workspace/src/learner.cc:742: \n",
      "Parameters: { \"predictor\" } are not used.\n",
      "\n",
      "2024-02-01 15:13:47,418 - distributed.utils_perf - WARNING - full garbage collections took 73% CPU time recently (threshold: 10%)\n",
      "2024-02-01 15:13:47,477 - distributed.utils_perf - WARNING - full garbage collections took 73% CPU time recently (threshold: 10%)\n",
      "[15:13:52] task [xgboost.dask-0]:tcp://127.0.0.1:40795 got new rank 0\n",
      "[15:13:59] WARNING: /workspace/src/learner.cc:742: \n",
      "Parameters: { \"predictor\" } are not used.\n",
      "\n",
      "2024-02-01 15:14:00,750 - distributed.utils_perf - WARNING - full garbage collections took 73% CPU time recently (threshold: 10%)\n",
      "2024-02-01 15:14:00,810 - distributed.utils_perf - WARNING - full garbage collections took 73% CPU time recently (threshold: 10%)\n",
      "[15:14:06] task [xgboost.dask-0]:tcp://127.0.0.1:40795 got new rank 0\n",
      "[15:14:12] WARNING: /workspace/src/learner.cc:742: \n",
      "Parameters: { \"predictor\" } are not used.\n",
      "\n",
      "2024-02-01 15:14:13,292 - distributed.utils_perf - WARNING - full garbage collections took 73% CPU time recently (threshold: 10%)\n",
      "2024-02-01 15:14:13,353 - distributed.utils_perf - WARNING - full garbage collections took 73% CPU time recently (threshold: 10%)\n",
      "[15:14:19] task [xgboost.dask-0]:tcp://127.0.0.1:40795 got new rank 0\n",
      "[15:14:25] WARNING: /workspace/src/learner.cc:742: \n",
      "Parameters: { \"predictor\" } are not used.\n",
      "\n",
      "2024-02-01 15:14:25,990 - distributed.utils_perf - WARNING - full garbage collections took 73% CPU time recently (threshold: 10%)\n",
      "2024-02-01 15:14:26,049 - distributed.utils_perf - WARNING - full garbage collections took 73% CPU time recently (threshold: 10%)\n",
      "[15:14:31] task [xgboost.dask-0]:tcp://127.0.0.1:40795 got new rank 0\n",
      "[15:14:37] WARNING: /workspace/src/learner.cc:742: \n",
      "Parameters: { \"predictor\" } are not used.\n",
      "\n",
      "2024-02-01 15:14:38,531 - distributed.utils_perf - WARNING - full garbage collections took 73% CPU time recently (threshold: 10%)\n",
      "2024-02-01 15:14:38,591 - distributed.utils_perf - WARNING - full garbage collections took 73% CPU time recently (threshold: 10%)\n",
      "[15:14:44] task [xgboost.dask-0]:tcp://127.0.0.1:40795 got new rank 0\n",
      "[15:14:51] WARNING: /workspace/src/learner.cc:742: \n",
      "Parameters: { \"predictor\" } are not used.\n",
      "\n",
      "2024-02-01 15:14:52,569 - distributed.utils_perf - WARNING - full garbage collections took 73% CPU time recently (threshold: 10%)\n",
      "2024-02-01 15:14:52,628 - distributed.utils_perf - WARNING - full garbage collections took 73% CPU time recently (threshold: 10%)\n",
      "[15:14:58] task [xgboost.dask-0]:tcp://127.0.0.1:40795 got new rank 0\n",
      "[15:15:05] WARNING: /workspace/src/learner.cc:742: \n",
      "Parameters: { \"predictor\" } are not used.\n",
      "\n",
      "2024-02-01 15:15:06,317 - distributed.utils_perf - WARNING - full garbage collections took 73% CPU time recently (threshold: 10%)\n",
      "2024-02-01 15:15:06,377 - distributed.utils_perf - WARNING - full garbage collections took 73% CPU time recently (threshold: 10%)\n",
      "[15:15:11] task [xgboost.dask-0]:tcp://127.0.0.1:40795 got new rank 0\n",
      "[15:15:18] WARNING: /workspace/src/learner.cc:742: \n",
      "Parameters: { \"predictor\" } are not used.\n",
      "\n",
      "2024-02-01 15:15:19,232 - distributed.utils_perf - WARNING - full garbage collections took 73% CPU time recently (threshold: 10%)\n",
      "2024-02-01 15:15:19,292 - distributed.utils_perf - WARNING - full garbage collections took 73% CPU time recently (threshold: 10%)\n",
      "[15:15:24] task [xgboost.dask-0]:tcp://127.0.0.1:40795 got new rank 0\n",
      "[15:15:31] WARNING: /workspace/src/learner.cc:742: \n",
      "Parameters: { \"predictor\" } are not used.\n",
      "\n",
      "2024-02-01 15:15:32,087 - distributed.utils_perf - WARNING - full garbage collections took 73% CPU time recently (threshold: 10%)\n",
      "2024-02-01 15:15:32,148 - distributed.utils_perf - WARNING - full garbage collections took 73% CPU time recently (threshold: 10%)\n",
      "[15:15:37] task [xgboost.dask-0]:tcp://127.0.0.1:40795 got new rank 0\n",
      "[15:15:43] WARNING: /workspace/src/learner.cc:742: \n",
      "Parameters: { \"predictor\" } are not used.\n",
      "\n",
      "2024-02-01 15:15:44,830 - distributed.utils_perf - WARNING - full garbage collections took 73% CPU time recently (threshold: 10%)\n",
      "2024-02-01 15:15:44,899 - distributed.utils_perf - WARNING - full garbage collections took 74% CPU time recently (threshold: 10%)\n",
      "[15:15:50] task [xgboost.dask-0]:tcp://127.0.0.1:40795 got new rank 0\n",
      "[15:15:56] WARNING: /workspace/src/learner.cc:742: \n",
      "Parameters: { \"predictor\" } are not used.\n",
      "\n",
      "2024-02-01 15:15:58,062 - distributed.utils_perf - WARNING - full garbage collections took 73% CPU time recently (threshold: 10%)\n",
      "2024-02-01 15:15:58,130 - distributed.utils_perf - WARNING - full garbage collections took 73% CPU time recently (threshold: 10%)\n",
      "[15:16:03] task [xgboost.dask-0]:tcp://127.0.0.1:40795 got new rank 0\n",
      "[15:16:10] WARNING: /workspace/src/learner.cc:742: \n",
      "Parameters: { \"predictor\" } are not used.\n",
      "\n",
      "2024-02-01 15:16:11,211 - distributed.utils_perf - WARNING - full garbage collections took 73% CPU time recently (threshold: 10%)\n",
      "2024-02-01 15:16:11,280 - distributed.utils_perf - WARNING - full garbage collections took 73% CPU time recently (threshold: 10%)\n",
      "[15:16:16] task [xgboost.dask-0]:tcp://127.0.0.1:40795 got new rank 0\n",
      "[15:16:22] WARNING: /workspace/src/learner.cc:742: \n",
      "Parameters: { \"predictor\" } are not used.\n",
      "\n",
      "2024-02-01 15:16:23,483 - distributed.utils_perf - WARNING - full garbage collections took 73% CPU time recently (threshold: 10%)\n",
      "2024-02-01 15:16:23,552 - distributed.utils_perf - WARNING - full garbage collections took 74% CPU time recently (threshold: 10%)\n",
      "[15:16:29] task [xgboost.dask-0]:tcp://127.0.0.1:40795 got new rank 0\n",
      "[15:16:34] WARNING: /workspace/src/learner.cc:742: \n",
      "Parameters: { \"predictor\" } are not used.\n",
      "\n",
      "2024-02-01 15:16:35,666 - distributed.utils_perf - WARNING - full garbage collections took 74% CPU time recently (threshold: 10%)\n",
      "2024-02-01 15:16:35,737 - distributed.utils_perf - WARNING - full garbage collections took 74% CPU time recently (threshold: 10%)\n",
      "[15:16:41] task [xgboost.dask-0]:tcp://127.0.0.1:40795 got new rank 0\n",
      "[15:16:46] WARNING: /workspace/src/learner.cc:742: \n",
      "Parameters: { \"predictor\" } are not used.\n",
      "\n",
      "2024-02-01 15:16:47,834 - distributed.utils_perf - WARNING - full garbage collections took 74% CPU time recently (threshold: 10%)\n",
      "2024-02-01 15:16:47,904 - distributed.utils_perf - WARNING - full garbage collections took 74% CPU time recently (threshold: 10%)\n",
      "[15:16:53] task [xgboost.dask-0]:tcp://127.0.0.1:40795 got new rank 0\n",
      "[15:16:59] WARNING: /workspace/src/learner.cc:742: \n",
      "Parameters: { \"predictor\" } are not used.\n",
      "\n",
      "2024-02-01 15:17:00,390 - distributed.utils_perf - WARNING - full garbage collections took 74% CPU time recently (threshold: 10%)\n",
      "2024-02-01 15:17:00,459 - distributed.utils_perf - WARNING - full garbage collections took 74% CPU time recently (threshold: 10%)\n",
      "[15:17:05] task [xgboost.dask-0]:tcp://127.0.0.1:40795 got new rank 0\n",
      "[15:17:11] WARNING: /workspace/src/learner.cc:742: \n",
      "Parameters: { \"predictor\" } are not used.\n",
      "\n",
      "2024-02-01 15:17:12,851 - distributed.utils_perf - WARNING - full garbage collections took 74% CPU time recently (threshold: 10%)\n",
      "2024-02-01 15:17:12,919 - distributed.utils_perf - WARNING - full garbage collections took 74% CPU time recently (threshold: 10%)\n",
      "[15:17:18] task [xgboost.dask-0]:tcp://127.0.0.1:40795 got new rank 0\n",
      "[15:17:23] WARNING: /workspace/src/learner.cc:742: \n",
      "Parameters: { \"predictor\" } are not used.\n",
      "\n",
      "2024-02-01 15:17:24,254 - distributed.utils_perf - WARNING - full garbage collections took 74% CPU time recently (threshold: 10%)\n",
      "2024-02-01 15:17:24,324 - distributed.utils_perf - WARNING - full garbage collections took 74% CPU time recently (threshold: 10%)\n",
      "[15:17:29] task [xgboost.dask-0]:tcp://127.0.0.1:40795 got new rank 0\n",
      "[15:17:34] WARNING: /workspace/src/learner.cc:742: \n",
      "Parameters: { \"predictor\" } are not used.\n",
      "\n",
      "2024-02-01 15:17:35,769 - distributed.utils_perf - WARNING - full garbage collections took 74% CPU time recently (threshold: 10%)\n",
      "2024-02-01 15:17:35,841 - distributed.utils_perf - WARNING - full garbage collections took 74% CPU time recently (threshold: 10%)\n",
      "[15:17:41] task [xgboost.dask-0]:tcp://127.0.0.1:40795 got new rank 0\n",
      "[15:17:46] WARNING: /workspace/src/learner.cc:742: \n",
      "Parameters: { \"predictor\" } are not used.\n",
      "\n",
      "2024-02-01 15:17:47,145 - distributed.utils_perf - WARNING - full garbage collections took 74% CPU time recently (threshold: 10%)\n",
      "2024-02-01 15:17:47,216 - distributed.utils_perf - WARNING - full garbage collections took 74% CPU time recently (threshold: 10%)\n",
      "[15:17:53] task [xgboost.dask-0]:tcp://127.0.0.1:40795 got new rank 0\n",
      "[15:17:58] WARNING: /workspace/src/learner.cc:742: \n",
      "Parameters: { \"predictor\" } are not used.\n",
      "\n",
      "2024-02-01 15:17:59,935 - distributed.utils_perf - WARNING - full garbage collections took 74% CPU time recently (threshold: 10%)\n",
      "2024-02-01 15:18:00,005 - distributed.utils_perf - WARNING - full garbage collections took 74% CPU time recently (threshold: 10%)\n",
      "[15:18:05] task [xgboost.dask-0]:tcp://127.0.0.1:40795 got new rank 0\n",
      "[15:18:11] WARNING: /workspace/src/learner.cc:742: \n",
      "Parameters: { \"predictor\" } are not used.\n",
      "\n",
      "2024-02-01 15:18:12,525 - distributed.utils_perf - WARNING - full garbage collections took 75% CPU time recently (threshold: 10%)\n",
      "2024-02-01 15:18:12,595 - distributed.utils_perf - WARNING - full garbage collections took 75% CPU time recently (threshold: 10%)\n",
      "[15:18:18] task [xgboost.dask-0]:tcp://127.0.0.1:40795 got new rank 0\n",
      "[15:18:23] WARNING: /workspace/src/learner.cc:742: \n",
      "Parameters: { \"predictor\" } are not used.\n",
      "\n",
      "2024-02-01 15:18:24,133 - distributed.utils_perf - WARNING - full garbage collections took 75% CPU time recently (threshold: 10%)\n",
      "2024-02-01 15:18:24,205 - distributed.utils_perf - WARNING - full garbage collections took 75% CPU time recently (threshold: 10%)\n",
      "[15:18:29] task [xgboost.dask-0]:tcp://127.0.0.1:40795 got new rank 0\n",
      "[15:18:34] WARNING: /workspace/src/learner.cc:742: \n",
      "Parameters: { \"predictor\" } are not used.\n",
      "\n",
      "2024-02-01 15:18:35,782 - distributed.utils_perf - WARNING - full garbage collections took 75% CPU time recently (threshold: 10%)\n",
      "2024-02-01 15:18:35,854 - distributed.utils_perf - WARNING - full garbage collections took 75% CPU time recently (threshold: 10%)\n",
      "[15:18:41] task [xgboost.dask-0]:tcp://127.0.0.1:40795 got new rank 0\n",
      "[15:18:46] WARNING: /workspace/src/learner.cc:742: \n",
      "Parameters: { \"predictor\" } are not used.\n",
      "\n",
      "2024-02-01 15:18:47,385 - distributed.utils_perf - WARNING - full garbage collections took 75% CPU time recently (threshold: 10%)\n",
      "2024-02-01 15:18:47,456 - distributed.utils_perf - WARNING - full garbage collections took 75% CPU time recently (threshold: 10%)\n",
      "[15:18:53] task [xgboost.dask-0]:tcp://127.0.0.1:40795 got new rank 0\n",
      "[15:19:00] WARNING: /workspace/src/learner.cc:742: \n",
      "Parameters: { \"predictor\" } are not used.\n",
      "\n",
      "2024-02-01 15:19:01,712 - distributed.utils_perf - WARNING - full garbage collections took 75% CPU time recently (threshold: 10%)\n",
      "2024-02-01 15:19:01,783 - distributed.utils_perf - WARNING - full garbage collections took 75% CPU time recently (threshold: 10%)\n",
      "[15:19:07] task [xgboost.dask-0]:tcp://127.0.0.1:40795 got new rank 0\n",
      "[15:19:14] WARNING: /workspace/src/learner.cc:742: \n",
      "Parameters: { \"predictor\" } are not used.\n",
      "\n",
      "2024-02-01 15:19:15,961 - distributed.utils_perf - WARNING - full garbage collections took 75% CPU time recently (threshold: 10%)\n",
      "2024-02-01 15:19:16,032 - distributed.utils_perf - WARNING - full garbage collections took 75% CPU time recently (threshold: 10%)\n",
      "[15:19:21] task [xgboost.dask-0]:tcp://127.0.0.1:40795 got new rank 0\n",
      "[15:19:28] WARNING: /workspace/src/learner.cc:742: \n",
      "Parameters: { \"predictor\" } are not used.\n",
      "\n",
      "2024-02-01 15:19:29,186 - distributed.utils_perf - WARNING - full garbage collections took 75% CPU time recently (threshold: 10%)\n",
      "2024-02-01 15:19:29,254 - distributed.utils_perf - WARNING - full garbage collections took 75% CPU time recently (threshold: 10%)\n",
      "[15:19:35] task [xgboost.dask-0]:tcp://127.0.0.1:40795 got new rank 0\n",
      "[15:19:41] WARNING: /workspace/src/learner.cc:742: \n",
      "Parameters: { \"predictor\" } are not used.\n",
      "\n",
      "2024-02-01 15:19:42,590 - distributed.utils_perf - WARNING - full garbage collections took 75% CPU time recently (threshold: 10%)\n",
      "2024-02-01 15:19:42,656 - distributed.utils_perf - WARNING - full garbage collections took 75% CPU time recently (threshold: 10%)\n",
      "[15:19:48] task [xgboost.dask-0]:tcp://127.0.0.1:40795 got new rank 0\n",
      "[15:19:54] WARNING: /workspace/src/learner.cc:742: \n",
      "Parameters: { \"predictor\" } are not used.\n",
      "\n",
      "2024-02-01 15:19:55,965 - distributed.utils_perf - WARNING - full garbage collections took 75% CPU time recently (threshold: 10%)\n",
      "2024-02-01 15:19:56,029 - distributed.utils_perf - WARNING - full garbage collections took 75% CPU time recently (threshold: 10%)\n",
      "[15:20:01] task [xgboost.dask-0]:tcp://127.0.0.1:40795 got new rank 0\n",
      "[15:20:10] WARNING: /workspace/src/learner.cc:742: \n",
      "Parameters: { \"predictor\" } are not used.\n",
      "\n",
      "2024-02-01 15:20:11,177 - distributed.utils_perf - WARNING - full garbage collections took 75% CPU time recently (threshold: 10%)\n",
      "2024-02-01 15:20:11,247 - distributed.utils_perf - WARNING - full garbage collections took 75% CPU time recently (threshold: 10%)\n",
      "[15:20:16] task [xgboost.dask-0]:tcp://127.0.0.1:40795 got new rank 0\n",
      "[15:20:25] WARNING: /workspace/src/learner.cc:742: \n",
      "Parameters: { \"predictor\" } are not used.\n",
      "\n",
      "2024-02-01 15:20:26,379 - distributed.utils_perf - WARNING - full garbage collections took 75% CPU time recently (threshold: 10%)\n",
      "2024-02-01 15:20:26,444 - distributed.utils_perf - WARNING - full garbage collections took 75% CPU time recently (threshold: 10%)\n",
      "[15:20:32] task [xgboost.dask-0]:tcp://127.0.0.1:40795 got new rank 0\n",
      "[15:20:39] WARNING: /workspace/src/learner.cc:742: \n",
      "Parameters: { \"predictor\" } are not used.\n",
      "\n",
      "2024-02-01 15:20:40,598 - distributed.utils_perf - WARNING - full garbage collections took 75% CPU time recently (threshold: 10%)\n",
      "2024-02-01 15:20:40,667 - distributed.utils_perf - WARNING - full garbage collections took 75% CPU time recently (threshold: 10%)\n",
      "[15:20:46] task [xgboost.dask-0]:tcp://127.0.0.1:40795 got new rank 0\n",
      "[15:20:53] WARNING: /workspace/src/learner.cc:742: \n",
      "Parameters: { \"predictor\" } are not used.\n",
      "\n",
      "2024-02-01 15:20:54,693 - distributed.utils_perf - WARNING - full garbage collections took 75% CPU time recently (threshold: 10%)\n",
      "2024-02-01 15:20:54,763 - distributed.utils_perf - WARNING - full garbage collections took 75% CPU time recently (threshold: 10%)\n",
      "[15:21:00] task [xgboost.dask-0]:tcp://127.0.0.1:40795 got new rank 0\n",
      "[15:21:08] WARNING: /workspace/src/learner.cc:742: \n",
      "Parameters: { \"predictor\" } are not used.\n",
      "\n",
      "2024-02-01 15:21:09,018 - distributed.utils_perf - WARNING - full garbage collections took 75% CPU time recently (threshold: 10%)\n",
      "2024-02-01 15:21:09,090 - distributed.utils_perf - WARNING - full garbage collections took 75% CPU time recently (threshold: 10%)\n",
      "[15:21:14] task [xgboost.dask-0]:tcp://127.0.0.1:40795 got new rank 0\n",
      "[15:21:21] WARNING: /workspace/src/learner.cc:742: \n",
      "Parameters: { \"predictor\" } are not used.\n",
      "\n",
      "2024-02-01 15:21:23,027 - distributed.utils_perf - WARNING - full garbage collections took 75% CPU time recently (threshold: 10%)\n",
      "2024-02-01 15:21:23,097 - distributed.utils_perf - WARNING - full garbage collections took 75% CPU time recently (threshold: 10%)\n",
      "[15:21:28] task [xgboost.dask-0]:tcp://127.0.0.1:40795 got new rank 0\n",
      "[15:21:35] WARNING: /workspace/src/learner.cc:742: \n",
      "Parameters: { \"predictor\" } are not used.\n",
      "\n",
      "2024-02-01 15:21:36,906 - distributed.utils_perf - WARNING - full garbage collections took 75% CPU time recently (threshold: 10%)\n",
      "2024-02-01 15:21:36,976 - distributed.utils_perf - WARNING - full garbage collections took 75% CPU time recently (threshold: 10%)\n",
      "[15:21:42] task [xgboost.dask-0]:tcp://127.0.0.1:40795 got new rank 0\n",
      "[15:21:48] WARNING: /workspace/src/learner.cc:742: \n",
      "Parameters: { \"predictor\" } are not used.\n",
      "\n",
      "2024-02-01 15:21:49,620 - distributed.utils_perf - WARNING - full garbage collections took 75% CPU time recently (threshold: 10%)\n",
      "2024-02-01 15:21:49,691 - distributed.utils_perf - WARNING - full garbage collections took 75% CPU time recently (threshold: 10%)\n",
      "[15:21:55] task [xgboost.dask-0]:tcp://127.0.0.1:40795 got new rank 0\n",
      "[15:22:01] WARNING: /workspace/src/learner.cc:742: \n",
      "Parameters: { \"predictor\" } are not used.\n",
      "\n",
      "2024-02-01 15:22:02,357 - distributed.utils_perf - WARNING - full garbage collections took 75% CPU time recently (threshold: 10%)\n",
      "2024-02-01 15:22:02,429 - distributed.utils_perf - WARNING - full garbage collections took 75% CPU time recently (threshold: 10%)\n",
      "[15:22:08] task [xgboost.dask-0]:tcp://127.0.0.1:40795 got new rank 0\n",
      "[15:22:14] WARNING: /workspace/src/learner.cc:742: \n",
      "Parameters: { \"predictor\" } are not used.\n",
      "\n",
      "2024-02-01 15:22:15,379 - distributed.utils_perf - WARNING - full garbage collections took 75% CPU time recently (threshold: 10%)\n",
      "2024-02-01 15:22:15,450 - distributed.utils_perf - WARNING - full garbage collections took 75% CPU time recently (threshold: 10%)\n",
      "[15:22:21] task [xgboost.dask-0]:tcp://127.0.0.1:40795 got new rank 0\n",
      "[15:22:27] WARNING: /workspace/src/learner.cc:742: \n",
      "Parameters: { \"predictor\" } are not used.\n",
      "\n",
      "2024-02-01 15:22:28,911 - distributed.utils_perf - WARNING - full garbage collections took 75% CPU time recently (threshold: 10%)\n",
      "2024-02-01 15:22:28,983 - distributed.utils_perf - WARNING - full garbage collections took 75% CPU time recently (threshold: 10%)\n",
      "[15:22:34] task [xgboost.dask-0]:tcp://127.0.0.1:40795 got new rank 0\n",
      "[15:22:41] WARNING: /workspace/src/learner.cc:742: \n",
      "Parameters: { \"predictor\" } are not used.\n",
      "\n",
      "2024-02-01 15:22:42,079 - distributed.utils_perf - WARNING - full garbage collections took 75% CPU time recently (threshold: 10%)\n",
      "2024-02-01 15:22:42,149 - distributed.utils_perf - WARNING - full garbage collections took 75% CPU time recently (threshold: 10%)\n",
      "[15:22:47] task [xgboost.dask-0]:tcp://127.0.0.1:40795 got new rank 0\n",
      "[15:22:53] WARNING: /workspace/src/learner.cc:742: \n",
      "Parameters: { \"predictor\" } are not used.\n",
      "\n",
      "2024-02-01 15:22:54,196 - distributed.utils_perf - WARNING - full garbage collections took 75% CPU time recently (threshold: 10%)\n",
      "2024-02-01 15:22:54,267 - distributed.utils_perf - WARNING - full garbage collections took 75% CPU time recently (threshold: 10%)\n",
      "[15:22:59] task [xgboost.dask-0]:tcp://127.0.0.1:40795 got new rank 0\n",
      "[15:23:05] WARNING: /workspace/src/learner.cc:742: \n",
      "Parameters: { \"predictor\" } are not used.\n",
      "\n",
      "2024-02-01 15:23:06,374 - distributed.utils_perf - WARNING - full garbage collections took 76% CPU time recently (threshold: 10%)\n",
      "2024-02-01 15:23:06,445 - distributed.utils_perf - WARNING - full garbage collections took 76% CPU time recently (threshold: 10%)\n",
      "[15:23:11] task [xgboost.dask-0]:tcp://127.0.0.1:40795 got new rank 0\n",
      "[15:23:17] WARNING: /workspace/src/learner.cc:742: \n",
      "Parameters: { \"predictor\" } are not used.\n",
      "\n",
      "2024-02-01 15:23:18,597 - distributed.utils_perf - WARNING - full garbage collections took 76% CPU time recently (threshold: 10%)\n",
      "2024-02-01 15:23:18,668 - distributed.utils_perf - WARNING - full garbage collections took 76% CPU time recently (threshold: 10%)\n",
      "[15:23:24] task [xgboost.dask-0]:tcp://127.0.0.1:40795 got new rank 0\n",
      "[15:23:33] WARNING: /workspace/src/learner.cc:742: \n",
      "Parameters: { \"predictor\" } are not used.\n",
      "\n",
      "2024-02-01 15:23:34,279 - distributed.utils_perf - WARNING - full garbage collections took 75% CPU time recently (threshold: 10%)\n",
      "2024-02-01 15:23:34,351 - distributed.utils_perf - WARNING - full garbage collections took 75% CPU time recently (threshold: 10%)\n",
      "[15:23:39] task [xgboost.dask-0]:tcp://127.0.0.1:40795 got new rank 0\n",
      "[15:23:48] WARNING: /workspace/src/learner.cc:742: \n",
      "Parameters: { \"predictor\" } are not used.\n",
      "\n",
      "2024-02-01 15:23:49,719 - distributed.utils_perf - WARNING - full garbage collections took 76% CPU time recently (threshold: 10%)\n",
      "2024-02-01 15:23:49,791 - distributed.utils_perf - WARNING - full garbage collections took 76% CPU time recently (threshold: 10%)\n",
      "[15:23:55] task [xgboost.dask-0]:tcp://127.0.0.1:40795 got new rank 0\n",
      "[15:24:03] WARNING: /workspace/src/learner.cc:742: \n",
      "Parameters: { \"predictor\" } are not used.\n",
      "\n",
      "2024-02-01 15:24:04,269 - distributed.utils_perf - WARNING - full garbage collections took 76% CPU time recently (threshold: 10%)\n",
      "2024-02-01 15:24:04,341 - distributed.utils_perf - WARNING - full garbage collections took 76% CPU time recently (threshold: 10%)\n",
      "[15:24:09] task [xgboost.dask-0]:tcp://127.0.0.1:40795 got new rank 0\n",
      "[15:24:17] WARNING: /workspace/src/learner.cc:742: \n",
      "Parameters: { \"predictor\" } are not used.\n",
      "\n",
      "2024-02-01 15:24:18,676 - distributed.utils_perf - WARNING - full garbage collections took 76% CPU time recently (threshold: 10%)\n",
      "2024-02-01 15:24:18,750 - distributed.utils_perf - WARNING - full garbage collections took 76% CPU time recently (threshold: 10%)\n",
      "[15:24:24] task [xgboost.dask-0]:tcp://127.0.0.1:40795 got new rank 0\n",
      "[15:24:32] WARNING: /workspace/src/learner.cc:742: \n",
      "Parameters: { \"predictor\" } are not used.\n",
      "\n",
      "2024-02-01 15:24:33,121 - distributed.utils_perf - WARNING - full garbage collections took 76% CPU time recently (threshold: 10%)\n",
      "2024-02-01 15:24:33,190 - distributed.utils_perf - WARNING - full garbage collections took 76% CPU time recently (threshold: 10%)\n",
      "[15:24:39] task [xgboost.dask-0]:tcp://127.0.0.1:40795 got new rank 0\n",
      "[15:24:46] WARNING: /workspace/src/learner.cc:742: \n",
      "Parameters: { \"predictor\" } are not used.\n",
      "\n",
      "2024-02-01 15:24:47,853 - distributed.utils_perf - WARNING - full garbage collections took 76% CPU time recently (threshold: 10%)\n",
      "2024-02-01 15:24:47,926 - distributed.utils_perf - WARNING - full garbage collections took 76% CPU time recently (threshold: 10%)\n",
      "[15:24:53] task [xgboost.dask-0]:tcp://127.0.0.1:40795 got new rank 0\n",
      "[15:25:01] WARNING: /workspace/src/learner.cc:742: \n",
      "Parameters: { \"predictor\" } are not used.\n",
      "\n",
      "2024-02-01 15:25:02,269 - distributed.utils_perf - WARNING - full garbage collections took 76% CPU time recently (threshold: 10%)\n",
      "2024-02-01 15:25:02,341 - distributed.utils_perf - WARNING - full garbage collections took 76% CPU time recently (threshold: 10%)\n",
      "[15:25:08] task [xgboost.dask-0]:tcp://127.0.0.1:40795 got new rank 0\n",
      "[15:25:14] WARNING: /workspace/src/learner.cc:742: \n",
      "Parameters: { \"predictor\" } are not used.\n",
      "\n",
      "2024-02-01 15:25:15,915 - distributed.utils_perf - WARNING - full garbage collections took 76% CPU time recently (threshold: 10%)\n",
      "2024-02-01 15:25:15,987 - distributed.utils_perf - WARNING - full garbage collections took 76% CPU time recently (threshold: 10%)\n",
      "[15:25:21] task [xgboost.dask-0]:tcp://127.0.0.1:40795 got new rank 0\n",
      "[15:25:28] WARNING: /workspace/src/learner.cc:742: \n",
      "Parameters: { \"predictor\" } are not used.\n",
      "\n",
      "2024-02-01 15:25:29,483 - distributed.utils_perf - WARNING - full garbage collections took 76% CPU time recently (threshold: 10%)\n",
      "2024-02-01 15:25:29,560 - distributed.utils_perf - WARNING - full garbage collections took 76% CPU time recently (threshold: 10%)\n",
      "[15:25:35] task [xgboost.dask-0]:tcp://127.0.0.1:40795 got new rank 0\n",
      "[15:25:42] WARNING: /workspace/src/learner.cc:742: \n",
      "Parameters: { \"predictor\" } are not used.\n",
      "\n",
      "2024-02-01 15:25:43,091 - distributed.utils_perf - WARNING - full garbage collections took 76% CPU time recently (threshold: 10%)\n",
      "2024-02-01 15:25:43,168 - distributed.utils_perf - WARNING - full garbage collections took 76% CPU time recently (threshold: 10%)\n",
      "[15:25:49] task [xgboost.dask-0]:tcp://127.0.0.1:40795 got new rank 0\n",
      "[15:25:56] WARNING: /workspace/src/learner.cc:742: \n",
      "Parameters: { \"predictor\" } are not used.\n",
      "\n",
      "2024-02-01 15:25:57,905 - distributed.utils_perf - WARNING - full garbage collections took 76% CPU time recently (threshold: 10%)\n",
      "2024-02-01 15:25:57,978 - distributed.utils_perf - WARNING - full garbage collections took 76% CPU time recently (threshold: 10%)\n",
      "[15:26:03] task [xgboost.dask-0]:tcp://127.0.0.1:40795 got new rank 0\n",
      "[15:26:11] WARNING: /workspace/src/learner.cc:742: \n",
      "Parameters: { \"predictor\" } are not used.\n",
      "\n",
      "2024-02-01 15:26:12,573 - distributed.utils_perf - WARNING - full garbage collections took 76% CPU time recently (threshold: 10%)\n",
      "2024-02-01 15:26:12,645 - distributed.utils_perf - WARNING - full garbage collections took 76% CPU time recently (threshold: 10%)\n",
      "[15:26:18] task [xgboost.dask-0]:tcp://127.0.0.1:40795 got new rank 0\n",
      "[15:26:25] WARNING: /workspace/src/learner.cc:742: \n",
      "Parameters: { \"predictor\" } are not used.\n",
      "\n",
      "2024-02-01 15:26:26,093 - distributed.utils_perf - WARNING - full garbage collections took 76% CPU time recently (threshold: 10%)\n",
      "2024-02-01 15:26:26,170 - distributed.utils_perf - WARNING - full garbage collections took 76% CPU time recently (threshold: 10%)\n",
      "[15:26:31] task [xgboost.dask-0]:tcp://127.0.0.1:40795 got new rank 0\n",
      "[15:26:38] WARNING: /workspace/src/learner.cc:742: \n",
      "Parameters: { \"predictor\" } are not used.\n",
      "\n",
      "2024-02-01 15:26:39,428 - distributed.utils_perf - WARNING - full garbage collections took 76% CPU time recently (threshold: 10%)\n",
      "2024-02-01 15:26:39,505 - distributed.utils_perf - WARNING - full garbage collections took 76% CPU time recently (threshold: 10%)\n",
      "[15:26:45] task [xgboost.dask-0]:tcp://127.0.0.1:40795 got new rank 0\n",
      "[15:26:52] WARNING: /workspace/src/learner.cc:742: \n",
      "Parameters: { \"predictor\" } are not used.\n",
      "\n",
      "2024-02-01 15:26:53,062 - distributed.utils_perf - WARNING - full garbage collections took 76% CPU time recently (threshold: 10%)\n",
      "2024-02-01 15:26:53,140 - distributed.utils_perf - WARNING - full garbage collections took 76% CPU time recently (threshold: 10%)\n",
      "[15:26:59] task [xgboost.dask-0]:tcp://127.0.0.1:40795 got new rank 0\n",
      "[15:27:05] WARNING: /workspace/src/learner.cc:742: \n",
      "Parameters: { \"predictor\" } are not used.\n",
      "\n",
      "2024-02-01 15:27:06,761 - distributed.utils_perf - WARNING - full garbage collections took 76% CPU time recently (threshold: 10%)\n",
      "2024-02-01 15:27:06,834 - distributed.utils_perf - WARNING - full garbage collections took 76% CPU time recently (threshold: 10%)\n",
      "[15:27:12] task [xgboost.dask-0]:tcp://127.0.0.1:40795 got new rank 0\n",
      "[15:27:18] WARNING: /workspace/src/learner.cc:742: \n",
      "Parameters: { \"predictor\" } are not used.\n",
      "\n",
      "2024-02-01 15:27:20,046 - distributed.utils_perf - WARNING - full garbage collections took 76% CPU time recently (threshold: 10%)\n",
      "2024-02-01 15:27:20,119 - distributed.utils_perf - WARNING - full garbage collections took 76% CPU time recently (threshold: 10%)\n",
      "[15:27:25] task [xgboost.dask-0]:tcp://127.0.0.1:40795 got new rank 0\n",
      "[15:27:31] WARNING: /workspace/src/learner.cc:742: \n",
      "Parameters: { \"predictor\" } are not used.\n",
      "\n",
      "2024-02-01 15:27:32,262 - distributed.utils_perf - WARNING - full garbage collections took 76% CPU time recently (threshold: 10%)\n",
      "2024-02-01 15:27:32,336 - distributed.utils_perf - WARNING - full garbage collections took 76% CPU time recently (threshold: 10%)\n",
      "[15:27:37] task [xgboost.dask-0]:tcp://127.0.0.1:40795 got new rank 0\n",
      "[15:27:43] WARNING: /workspace/src/learner.cc:742: \n",
      "Parameters: { \"predictor\" } are not used.\n",
      "\n",
      "2024-02-01 15:27:44,526 - distributed.utils_perf - WARNING - full garbage collections took 76% CPU time recently (threshold: 10%)\n",
      "2024-02-01 15:27:44,600 - distributed.utils_perf - WARNING - full garbage collections took 76% CPU time recently (threshold: 10%)\n",
      "[15:27:50] task [xgboost.dask-0]:tcp://127.0.0.1:40795 got new rank 0\n",
      "[15:27:55] WARNING: /workspace/src/learner.cc:742: \n",
      "Parameters: { \"predictor\" } are not used.\n",
      "\n",
      "2024-02-01 15:27:56,739 - distributed.utils_perf - WARNING - full garbage collections took 76% CPU time recently (threshold: 10%)\n",
      "2024-02-01 15:27:56,821 - distributed.utils_perf - WARNING - full garbage collections took 76% CPU time recently (threshold: 10%)\n",
      "[15:28:02] task [xgboost.dask-0]:tcp://127.0.0.1:40795 got new rank 0\n",
      "[15:28:09] WARNING: /workspace/src/learner.cc:742: \n",
      "Parameters: { \"predictor\" } are not used.\n",
      "\n",
      "2024-02-01 15:28:10,180 - distributed.utils_perf - WARNING - full garbage collections took 76% CPU time recently (threshold: 10%)\n",
      "2024-02-01 15:28:10,255 - distributed.utils_perf - WARNING - full garbage collections took 76% CPU time recently (threshold: 10%)\n",
      "[15:28:15] task [xgboost.dask-0]:tcp://127.0.0.1:40795 got new rank 0\n",
      "[15:28:22] WARNING: /workspace/src/learner.cc:742: \n",
      "Parameters: { \"predictor\" } are not used.\n",
      "\n",
      "2024-02-01 15:28:23,664 - distributed.utils_perf - WARNING - full garbage collections took 76% CPU time recently (threshold: 10%)\n",
      "2024-02-01 15:28:23,745 - distributed.utils_perf - WARNING - full garbage collections took 76% CPU time recently (threshold: 10%)\n",
      "[15:28:29] task [xgboost.dask-0]:tcp://127.0.0.1:40795 got new rank 0\n",
      "[15:28:35] WARNING: /workspace/src/learner.cc:742: \n",
      "Parameters: { \"predictor\" } are not used.\n",
      "\n",
      "2024-02-01 15:28:36,248 - distributed.utils_perf - WARNING - full garbage collections took 76% CPU time recently (threshold: 10%)\n",
      "2024-02-01 15:28:36,329 - distributed.utils_perf - WARNING - full garbage collections took 76% CPU time recently (threshold: 10%)\n",
      "[15:28:41] task [xgboost.dask-0]:tcp://127.0.0.1:40795 got new rank 0\n",
      "[15:28:47] WARNING: /workspace/src/learner.cc:742: \n",
      "Parameters: { \"predictor\" } are not used.\n",
      "\n",
      "2024-02-01 15:28:48,674 - distributed.utils_perf - WARNING - full garbage collections took 76% CPU time recently (threshold: 10%)\n",
      "2024-02-01 15:28:48,754 - distributed.utils_perf - WARNING - full garbage collections took 77% CPU time recently (threshold: 10%)\n",
      "[15:28:54] task [xgboost.dask-0]:tcp://127.0.0.1:40795 got new rank 0\n",
      "[15:29:00] WARNING: /workspace/src/learner.cc:742: \n",
      "Parameters: { \"predictor\" } are not used.\n",
      "\n",
      "2024-02-01 15:29:01,091 - distributed.utils_perf - WARNING - full garbage collections took 77% CPU time recently (threshold: 10%)\n",
      "2024-02-01 15:29:01,170 - distributed.utils_perf - WARNING - full garbage collections took 77% CPU time recently (threshold: 10%)\n",
      "[15:29:07] task [xgboost.dask-0]:tcp://127.0.0.1:40795 got new rank 0\n",
      "[15:29:15] WARNING: /workspace/src/learner.cc:742: \n",
      "Parameters: { \"predictor\" } are not used.\n",
      "\n",
      "2024-02-01 15:29:16,632 - distributed.utils_perf - WARNING - full garbage collections took 77% CPU time recently (threshold: 10%)\n",
      "2024-02-01 15:29:16,710 - distributed.utils_perf - WARNING - full garbage collections took 77% CPU time recently (threshold: 10%)\n",
      "[15:29:22] task [xgboost.dask-0]:tcp://127.0.0.1:40795 got new rank 0\n",
      "[15:29:30] WARNING: /workspace/src/learner.cc:742: \n",
      "Parameters: { \"predictor\" } are not used.\n",
      "\n",
      "2024-02-01 15:29:31,671 - distributed.utils_perf - WARNING - full garbage collections took 77% CPU time recently (threshold: 10%)\n",
      "2024-02-01 15:29:31,746 - distributed.utils_perf - WARNING - full garbage collections took 77% CPU time recently (threshold: 10%)\n",
      "[15:29:37] task [xgboost.dask-0]:tcp://127.0.0.1:40795 got new rank 0\n",
      "[15:29:44] WARNING: /workspace/src/learner.cc:742: \n",
      "Parameters: { \"predictor\" } are not used.\n",
      "\n",
      "2024-02-01 15:29:45,645 - distributed.utils_perf - WARNING - full garbage collections took 77% CPU time recently (threshold: 10%)\n",
      "2024-02-01 15:29:45,721 - distributed.utils_perf - WARNING - full garbage collections took 77% CPU time recently (threshold: 10%)\n",
      "[15:29:51] task [xgboost.dask-0]:tcp://127.0.0.1:40795 got new rank 0\n",
      "[15:29:58] WARNING: /workspace/src/learner.cc:742: \n",
      "Parameters: { \"predictor\" } are not used.\n",
      "\n",
      "2024-02-01 15:29:59,723 - distributed.utils_perf - WARNING - full garbage collections took 77% CPU time recently (threshold: 10%)\n",
      "2024-02-01 15:29:59,799 - distributed.utils_perf - WARNING - full garbage collections took 77% CPU time recently (threshold: 10%)\n",
      "[15:30:05] task [xgboost.dask-0]:tcp://127.0.0.1:40795 got new rank 0\n",
      "[15:30:13] WARNING: /workspace/src/learner.cc:742: \n",
      "Parameters: { \"predictor\" } are not used.\n",
      "\n",
      "2024-02-01 15:30:14,045 - distributed.utils_perf - WARNING - full garbage collections took 77% CPU time recently (threshold: 10%)\n",
      "2024-02-01 15:30:14,125 - distributed.utils_perf - WARNING - full garbage collections took 77% CPU time recently (threshold: 10%)\n",
      "[15:30:20] task [xgboost.dask-0]:tcp://127.0.0.1:40795 got new rank 0\n",
      "[15:30:28] WARNING: /workspace/src/learner.cc:742: \n",
      "Parameters: { \"predictor\" } are not used.\n",
      "\n",
      "2024-02-01 15:30:29,322 - distributed.utils_perf - WARNING - full garbage collections took 77% CPU time recently (threshold: 10%)\n",
      "2024-02-01 15:30:29,402 - distributed.utils_perf - WARNING - full garbage collections took 77% CPU time recently (threshold: 10%)\n",
      "[15:30:35] task [xgboost.dask-0]:tcp://127.0.0.1:40795 got new rank 0\n",
      "[15:30:43] WARNING: /workspace/src/learner.cc:742: \n",
      "Parameters: { \"predictor\" } are not used.\n",
      "\n",
      "2024-02-01 15:30:44,445 - distributed.utils_perf - WARNING - full garbage collections took 77% CPU time recently (threshold: 10%)\n",
      "2024-02-01 15:30:44,525 - distributed.utils_perf - WARNING - full garbage collections took 77% CPU time recently (threshold: 10%)\n",
      "[15:30:50] task [xgboost.dask-0]:tcp://127.0.0.1:40795 got new rank 0\n",
      "[15:30:57] WARNING: /workspace/src/learner.cc:742: \n",
      "Parameters: { \"predictor\" } are not used.\n",
      "\n",
      "2024-02-01 15:30:58,362 - distributed.utils_perf - WARNING - full garbage collections took 77% CPU time recently (threshold: 10%)\n",
      "2024-02-01 15:30:58,441 - distributed.utils_perf - WARNING - full garbage collections took 77% CPU time recently (threshold: 10%)\n",
      "[15:31:03] task [xgboost.dask-0]:tcp://127.0.0.1:40795 got new rank 0\n",
      "[15:31:11] WARNING: /workspace/src/learner.cc:742: \n",
      "Parameters: { \"predictor\" } are not used.\n",
      "\n",
      "2024-02-01 15:31:12,292 - distributed.utils_perf - WARNING - full garbage collections took 77% CPU time recently (threshold: 10%)\n",
      "2024-02-01 15:31:12,368 - distributed.utils_perf - WARNING - full garbage collections took 77% CPU time recently (threshold: 10%)\n",
      "[15:31:17] task [xgboost.dask-0]:tcp://127.0.0.1:40795 got new rank 0\n",
      "[15:31:25] WARNING: /workspace/src/learner.cc:742: \n",
      "Parameters: { \"predictor\" } are not used.\n",
      "\n",
      "2024-02-01 15:31:26,222 - distributed.utils_perf - WARNING - full garbage collections took 77% CPU time recently (threshold: 10%)\n",
      "2024-02-01 15:31:26,298 - distributed.utils_perf - WARNING - full garbage collections took 77% CPU time recently (threshold: 10%)\n",
      "[15:31:32] task [xgboost.dask-0]:tcp://127.0.0.1:40795 got new rank 0\n",
      "[15:31:38] WARNING: /workspace/src/learner.cc:742: \n",
      "Parameters: { \"predictor\" } are not used.\n",
      "\n",
      "2024-02-01 15:31:39,506 - distributed.utils_perf - WARNING - full garbage collections took 77% CPU time recently (threshold: 10%)\n",
      "2024-02-01 15:31:39,587 - distributed.utils_perf - WARNING - full garbage collections took 77% CPU time recently (threshold: 10%)\n",
      "[15:31:45] task [xgboost.dask-0]:tcp://127.0.0.1:40795 got new rank 0\n",
      "[15:31:51] WARNING: /workspace/src/learner.cc:742: \n",
      "Parameters: { \"predictor\" } are not used.\n",
      "\n",
      "2024-02-01 15:31:52,565 - distributed.utils_perf - WARNING - full garbage collections took 77% CPU time recently (threshold: 10%)\n",
      "2024-02-01 15:31:52,640 - distributed.utils_perf - WARNING - full garbage collections took 77% CPU time recently (threshold: 10%)\n",
      "[15:31:58] task [xgboost.dask-0]:tcp://127.0.0.1:40795 got new rank 0\n",
      "[15:32:03] WARNING: /workspace/src/learner.cc:742: \n",
      "Parameters: { \"predictor\" } are not used.\n",
      "\n",
      "2024-02-01 15:32:04,565 - distributed.utils_perf - WARNING - full garbage collections took 77% CPU time recently (threshold: 10%)\n",
      "2024-02-01 15:32:04,641 - distributed.utils_perf - WARNING - full garbage collections took 77% CPU time recently (threshold: 10%)\n",
      "[15:32:10] task [xgboost.dask-0]:tcp://127.0.0.1:40795 got new rank 0\n",
      "[15:32:15] WARNING: /workspace/src/learner.cc:742: \n",
      "Parameters: { \"predictor\" } are not used.\n",
      "\n",
      "2024-02-01 15:32:16,400 - distributed.utils_perf - WARNING - full garbage collections took 77% CPU time recently (threshold: 10%)\n",
      "2024-02-01 15:32:16,476 - distributed.utils_perf - WARNING - full garbage collections took 77% CPU time recently (threshold: 10%)\n",
      "[15:32:22] task [xgboost.dask-0]:tcp://127.0.0.1:40795 got new rank 0\n",
      "[15:32:27] WARNING: /workspace/src/learner.cc:742: \n",
      "Parameters: { \"predictor\" } are not used.\n",
      "\n",
      "2024-02-01 15:32:28,316 - distributed.utils_perf - WARNING - full garbage collections took 77% CPU time recently (threshold: 10%)\n",
      "2024-02-01 15:32:28,393 - distributed.utils_perf - WARNING - full garbage collections took 77% CPU time recently (threshold: 10%)\n",
      "[15:32:34] task [xgboost.dask-0]:tcp://127.0.0.1:40795 got new rank 0\n",
      "[15:32:41] WARNING: /workspace/src/learner.cc:742: \n",
      "Parameters: { \"predictor\" } are not used.\n",
      "\n",
      "2024-02-01 15:32:43,013 - distributed.utils_perf - WARNING - full garbage collections took 77% CPU time recently (threshold: 10%)\n",
      "2024-02-01 15:32:43,090 - distributed.utils_perf - WARNING - full garbage collections took 77% CPU time recently (threshold: 10%)\n",
      "[15:32:49] task [xgboost.dask-0]:tcp://127.0.0.1:40795 got new rank 0\n",
      "[15:32:57] WARNING: /workspace/src/learner.cc:742: \n",
      "Parameters: { \"predictor\" } are not used.\n",
      "\n",
      "2024-02-01 15:32:58,258 - distributed.utils_perf - WARNING - full garbage collections took 77% CPU time recently (threshold: 10%)\n",
      "2024-02-01 15:32:58,335 - distributed.utils_perf - WARNING - full garbage collections took 77% CPU time recently (threshold: 10%)\n",
      "[15:33:04] task [xgboost.dask-0]:tcp://127.0.0.1:40795 got new rank 0\n",
      "[15:33:11] WARNING: /workspace/src/learner.cc:742: \n",
      "Parameters: { \"predictor\" } are not used.\n",
      "\n",
      "2024-02-01 15:33:12,199 - distributed.utils_perf - WARNING - full garbage collections took 77% CPU time recently (threshold: 10%)\n",
      "2024-02-01 15:33:12,277 - distributed.utils_perf - WARNING - full garbage collections took 77% CPU time recently (threshold: 10%)\n",
      "[15:33:17] task [xgboost.dask-0]:tcp://127.0.0.1:40795 got new rank 0\n",
      "[15:33:25] WARNING: /workspace/src/learner.cc:742: \n",
      "Parameters: { \"predictor\" } are not used.\n",
      "\n",
      "2024-02-01 15:33:25,989 - distributed.utils_perf - WARNING - full garbage collections took 77% CPU time recently (threshold: 10%)\n",
      "2024-02-01 15:33:26,068 - distributed.utils_perf - WARNING - full garbage collections took 77% CPU time recently (threshold: 10%)\n",
      "[15:33:31] task [xgboost.dask-0]:tcp://127.0.0.1:40795 got new rank 0\n",
      "[15:33:38] WARNING: /workspace/src/learner.cc:742: \n",
      "Parameters: { \"predictor\" } are not used.\n",
      "\n",
      "2024-02-01 15:33:39,766 - distributed.utils_perf - WARNING - full garbage collections took 77% CPU time recently (threshold: 10%)\n",
      "2024-02-01 15:33:39,848 - distributed.utils_perf - WARNING - full garbage collections took 77% CPU time recently (threshold: 10%)\n",
      "[15:33:45] task [xgboost.dask-0]:tcp://127.0.0.1:40795 got new rank 0\n",
      "[15:33:52] WARNING: /workspace/src/learner.cc:742: \n",
      "Parameters: { \"predictor\" } are not used.\n",
      "\n",
      "2024-02-01 15:33:53,772 - distributed.utils_perf - WARNING - full garbage collections took 77% CPU time recently (threshold: 10%)\n",
      "2024-02-01 15:33:53,850 - distributed.utils_perf - WARNING - full garbage collections took 77% CPU time recently (threshold: 10%)\n",
      "[15:33:59] task [xgboost.dask-0]:tcp://127.0.0.1:40795 got new rank 0\n",
      "[15:34:06] WARNING: /workspace/src/learner.cc:742: \n",
      "Parameters: { \"predictor\" } are not used.\n",
      "\n",
      "2024-02-01 15:34:07,595 - distributed.utils_perf - WARNING - full garbage collections took 77% CPU time recently (threshold: 10%)\n",
      "2024-02-01 15:34:07,673 - distributed.utils_perf - WARNING - full garbage collections took 77% CPU time recently (threshold: 10%)\n",
      "[15:34:13] task [xgboost.dask-0]:tcp://127.0.0.1:40795 got new rank 0\n",
      "[15:34:19] WARNING: /workspace/src/learner.cc:742: \n",
      "Parameters: { \"predictor\" } are not used.\n",
      "\n",
      "2024-02-01 15:34:20,419 - distributed.utils_perf - WARNING - full garbage collections took 77% CPU time recently (threshold: 10%)\n",
      "2024-02-01 15:34:20,497 - distributed.utils_perf - WARNING - full garbage collections took 77% CPU time recently (threshold: 10%)\n",
      "[15:34:26] task [xgboost.dask-0]:tcp://127.0.0.1:40795 got new rank 0\n",
      "[15:34:32] WARNING: /workspace/src/learner.cc:742: \n",
      "Parameters: { \"predictor\" } are not used.\n",
      "\n",
      "2024-02-01 15:34:33,268 - distributed.utils_perf - WARNING - full garbage collections took 77% CPU time recently (threshold: 10%)\n",
      "2024-02-01 15:34:33,345 - distributed.utils_perf - WARNING - full garbage collections took 77% CPU time recently (threshold: 10%)\n",
      "[15:34:39] task [xgboost.dask-0]:tcp://127.0.0.1:40795 got new rank 0\n",
      "[15:34:45] WARNING: /workspace/src/learner.cc:742: \n",
      "Parameters: { \"predictor\" } are not used.\n",
      "\n",
      "2024-02-01 15:34:46,458 - distributed.utils_perf - WARNING - full garbage collections took 77% CPU time recently (threshold: 10%)\n",
      "2024-02-01 15:34:46,542 - distributed.utils_perf - WARNING - full garbage collections took 77% CPU time recently (threshold: 10%)\n",
      "[15:34:52] task [xgboost.dask-0]:tcp://127.0.0.1:40795 got new rank 0\n",
      "[15:34:58] WARNING: /workspace/src/learner.cc:742: \n",
      "Parameters: { \"predictor\" } are not used.\n",
      "\n",
      "2024-02-01 15:34:59,850 - distributed.utils_perf - WARNING - full garbage collections took 77% CPU time recently (threshold: 10%)\n",
      "2024-02-01 15:34:59,928 - distributed.utils_perf - WARNING - full garbage collections took 77% CPU time recently (threshold: 10%)\n",
      "[15:35:05] task [xgboost.dask-0]:tcp://127.0.0.1:40795 got new rank 0\n",
      "[15:35:11] WARNING: /workspace/src/learner.cc:742: \n",
      "Parameters: { \"predictor\" } are not used.\n",
      "\n",
      "2024-02-01 15:35:12,935 - distributed.utils_perf - WARNING - full garbage collections took 77% CPU time recently (threshold: 10%)\n",
      "2024-02-01 15:35:13,019 - distributed.utils_perf - WARNING - full garbage collections took 77% CPU time recently (threshold: 10%)\n",
      "[15:35:18] task [xgboost.dask-0]:tcp://127.0.0.1:40795 got new rank 0\n",
      "[15:35:24] WARNING: /workspace/src/learner.cc:742: \n",
      "Parameters: { \"predictor\" } are not used.\n",
      "\n",
      "2024-02-01 15:35:25,166 - distributed.utils_perf - WARNING - full garbage collections took 77% CPU time recently (threshold: 10%)\n",
      "2024-02-01 15:35:25,246 - distributed.utils_perf - WARNING - full garbage collections took 77% CPU time recently (threshold: 10%)\n",
      "[15:35:31] task [xgboost.dask-0]:tcp://127.0.0.1:40795 got new rank 0\n",
      "[15:35:36] WARNING: /workspace/src/learner.cc:742: \n",
      "Parameters: { \"predictor\" } are not used.\n",
      "\n",
      "2024-02-01 15:35:37,691 - distributed.utils_perf - WARNING - full garbage collections took 77% CPU time recently (threshold: 10%)\n",
      "2024-02-01 15:35:37,775 - distributed.utils_perf - WARNING - full garbage collections took 77% CPU time recently (threshold: 10%)\n",
      "[15:35:43] task [xgboost.dask-0]:tcp://127.0.0.1:40795 got new rank 0\n",
      "[15:35:49] WARNING: /workspace/src/learner.cc:742: \n",
      "Parameters: { \"predictor\" } are not used.\n",
      "\n",
      "2024-02-01 15:35:50,142 - distributed.utils_perf - WARNING - full garbage collections took 77% CPU time recently (threshold: 10%)\n",
      "2024-02-01 15:35:50,224 - distributed.utils_perf - WARNING - full garbage collections took 77% CPU time recently (threshold: 10%)\n",
      "[15:35:55] task [xgboost.dask-0]:tcp://127.0.0.1:40795 got new rank 0\n",
      "[15:36:03] WARNING: /workspace/src/learner.cc:742: \n",
      "Parameters: { \"predictor\" } are not used.\n",
      "\n",
      "2024-02-01 15:36:04,560 - distributed.utils_perf - WARNING - full garbage collections took 77% CPU time recently (threshold: 10%)\n",
      "2024-02-01 15:36:04,638 - distributed.utils_perf - WARNING - full garbage collections took 77% CPU time recently (threshold: 10%)\n",
      "[15:36:10] task [xgboost.dask-0]:tcp://127.0.0.1:40795 got new rank 0\n",
      "[15:36:17] WARNING: /workspace/src/learner.cc:742: \n",
      "Parameters: { \"predictor\" } are not used.\n",
      "\n",
      "2024-02-01 15:36:19,026 - distributed.utils_perf - WARNING - full garbage collections took 77% CPU time recently (threshold: 10%)\n",
      "2024-02-01 15:36:19,105 - distributed.utils_perf - WARNING - full garbage collections took 77% CPU time recently (threshold: 10%)\n",
      "[15:36:24] task [xgboost.dask-0]:tcp://127.0.0.1:40795 got new rank 0\n",
      "[15:36:31] WARNING: /workspace/src/learner.cc:742: \n",
      "Parameters: { \"predictor\" } are not used.\n",
      "\n",
      "2024-02-01 15:36:32,515 - distributed.utils_perf - WARNING - full garbage collections took 77% CPU time recently (threshold: 10%)\n",
      "2024-02-01 15:36:32,594 - distributed.utils_perf - WARNING - full garbage collections took 77% CPU time recently (threshold: 10%)\n",
      "[15:36:38] task [xgboost.dask-0]:tcp://127.0.0.1:40795 got new rank 0\n",
      "[15:36:44] WARNING: /workspace/src/learner.cc:742: \n",
      "Parameters: { \"predictor\" } are not used.\n",
      "\n",
      "2024-02-01 15:36:45,772 - distributed.utils_perf - WARNING - full garbage collections took 77% CPU time recently (threshold: 10%)\n",
      "2024-02-01 15:36:45,857 - distributed.utils_perf - WARNING - full garbage collections took 77% CPU time recently (threshold: 10%)\n",
      "[15:36:58] WARNING: /workspace/src/learner.cc:742: \n",
      "Parameters: { \"predictor\" } are not used.\n",
      "\n",
      "2024-02-01 15:36:59,025 - distributed.utils_perf - WARNING - full garbage collections took 77% CPU time recently (threshold: 10%)\n",
      "2024-02-01 15:36:59,104 - distributed.utils_perf - WARNING - full garbage collections took 77% CPU time recently (threshold: 10%)\n",
      "[15:37:04] task [xgboost.dask-0]:tcp://127.0.0.1:40795 got new rank 0\n",
      "[15:37:11] WARNING: /workspace/src/learner.cc:742: \n",
      "Parameters: { \"predictor\" } are not used.\n",
      "\n",
      "2024-02-01 15:37:12,789 - distributed.utils_perf - WARNING - full garbage collections took 77% CPU time recently (threshold: 10%)\n",
      "2024-02-01 15:37:12,874 - distributed.utils_perf - WARNING - full garbage collections took 77% CPU time recently (threshold: 10%)\n",
      "[15:37:18] task [xgboost.dask-0]:tcp://127.0.0.1:40795 got new rank 0\n",
      "[15:37:25] WARNING: /workspace/src/learner.cc:742: \n",
      "Parameters: { \"predictor\" } are not used.\n",
      "\n",
      "2024-02-01 15:37:26,174 - distributed.utils_perf - WARNING - full garbage collections took 77% CPU time recently (threshold: 10%)\n",
      "2024-02-01 15:37:26,261 - distributed.utils_perf - WARNING - full garbage collections took 77% CPU time recently (threshold: 10%)\n",
      "[15:37:31] task [xgboost.dask-0]:tcp://127.0.0.1:40795 got new rank 0\n",
      "[15:37:37] WARNING: /workspace/src/learner.cc:742: \n",
      "Parameters: { \"predictor\" } are not used.\n",
      "\n",
      "2024-02-01 15:37:38,792 - distributed.utils_perf - WARNING - full garbage collections took 78% CPU time recently (threshold: 10%)\n",
      "2024-02-01 15:37:38,872 - distributed.utils_perf - WARNING - full garbage collections took 78% CPU time recently (threshold: 10%)\n",
      "[15:37:44] task [xgboost.dask-0]:tcp://127.0.0.1:40795 got new rank 0\n",
      "[15:37:50] WARNING: /workspace/src/learner.cc:742: \n",
      "Parameters: { \"predictor\" } are not used.\n",
      "\n",
      "2024-02-01 15:37:51,356 - distributed.utils_perf - WARNING - full garbage collections took 78% CPU time recently (threshold: 10%)\n",
      "2024-02-01 15:37:51,436 - distributed.utils_perf - WARNING - full garbage collections took 78% CPU time recently (threshold: 10%)\n",
      "[15:37:57] task [xgboost.dask-0]:tcp://127.0.0.1:40795 got new rank 0\n",
      "[15:38:03] WARNING: /workspace/src/learner.cc:742: \n",
      "Parameters: { \"predictor\" } are not used.\n",
      "\n",
      "2024-02-01 15:38:04,096 - distributed.utils_perf - WARNING - full garbage collections took 77% CPU time recently (threshold: 10%)\n",
      "2024-02-01 15:38:04,177 - distributed.utils_perf - WARNING - full garbage collections took 77% CPU time recently (threshold: 10%)\n",
      "[15:38:10] task [xgboost.dask-0]:tcp://127.0.0.1:40795 got new rank 0\n",
      "[15:38:15] WARNING: /workspace/src/learner.cc:742: \n",
      "Parameters: { \"predictor\" } are not used.\n",
      "\n",
      "2024-02-01 15:38:17,030 - distributed.utils_perf - WARNING - full garbage collections took 78% CPU time recently (threshold: 10%)\n",
      "2024-02-01 15:38:17,109 - distributed.utils_perf - WARNING - full garbage collections took 78% CPU time recently (threshold: 10%)\n",
      "[15:38:22] task [xgboost.dask-0]:tcp://127.0.0.1:40795 got new rank 0\n",
      "[15:38:28] WARNING: /workspace/src/learner.cc:742: \n",
      "Parameters: { \"predictor\" } are not used.\n",
      "\n",
      "2024-02-01 15:38:29,536 - distributed.utils_perf - WARNING - full garbage collections took 78% CPU time recently (threshold: 10%)\n",
      "2024-02-01 15:38:29,621 - distributed.utils_perf - WARNING - full garbage collections took 78% CPU time recently (threshold: 10%)\n",
      "[15:38:35] task [xgboost.dask-0]:tcp://127.0.0.1:40795 got new rank 0\n",
      "[15:38:40] WARNING: /workspace/src/learner.cc:742: \n",
      "Parameters: { \"predictor\" } are not used.\n",
      "\n",
      "2024-02-01 15:38:41,104 - distributed.utils_perf - WARNING - full garbage collections took 78% CPU time recently (threshold: 10%)\n",
      "2024-02-01 15:38:41,191 - distributed.utils_perf - WARNING - full garbage collections took 78% CPU time recently (threshold: 10%)\n",
      "[15:38:47] task [xgboost.dask-0]:tcp://127.0.0.1:40795 got new rank 0\n",
      "[15:38:52] WARNING: /workspace/src/learner.cc:742: \n",
      "Parameters: { \"predictor\" } are not used.\n",
      "\n",
      "2024-02-01 15:38:53,119 - distributed.utils_perf - WARNING - full garbage collections took 78% CPU time recently (threshold: 10%)\n",
      "2024-02-01 15:38:53,202 - distributed.utils_perf - WARNING - full garbage collections took 78% CPU time recently (threshold: 10%)\n",
      "[15:38:59] task [xgboost.dask-0]:tcp://127.0.0.1:40795 got new rank 0\n",
      "[15:39:04] WARNING: /workspace/src/learner.cc:742: \n",
      "Parameters: { \"predictor\" } are not used.\n",
      "\n",
      "2024-02-01 15:39:05,126 - distributed.utils_perf - WARNING - full garbage collections took 78% CPU time recently (threshold: 10%)\n",
      "2024-02-01 15:39:05,214 - distributed.utils_perf - WARNING - full garbage collections took 78% CPU time recently (threshold: 10%)\n",
      "[15:39:11] task [xgboost.dask-0]:tcp://127.0.0.1:40795 got new rank 0\n",
      "[15:39:18] WARNING: /workspace/src/learner.cc:742: \n",
      "Parameters: { \"predictor\" } are not used.\n",
      "\n",
      "2024-02-01 15:39:19,478 - distributed.utils_perf - WARNING - full garbage collections took 78% CPU time recently (threshold: 10%)\n",
      "2024-02-01 15:39:19,565 - distributed.utils_perf - WARNING - full garbage collections took 78% CPU time recently (threshold: 10%)\n",
      "[15:39:25] task [xgboost.dask-0]:tcp://127.0.0.1:40795 got new rank 0\n",
      "[15:39:32] WARNING: /workspace/src/learner.cc:742: \n",
      "Parameters: { \"predictor\" } are not used.\n",
      "\n",
      "2024-02-01 15:39:33,657 - distributed.utils_perf - WARNING - full garbage collections took 78% CPU time recently (threshold: 10%)\n",
      "2024-02-01 15:39:33,738 - distributed.utils_perf - WARNING - full garbage collections took 78% CPU time recently (threshold: 10%)\n",
      "[15:39:39] task [xgboost.dask-0]:tcp://127.0.0.1:40795 got new rank 0\n",
      "[15:39:45] WARNING: /workspace/src/learner.cc:742: \n",
      "Parameters: { \"predictor\" } are not used.\n",
      "\n",
      "2024-02-01 15:39:46,711 - distributed.utils_perf - WARNING - full garbage collections took 78% CPU time recently (threshold: 10%)\n",
      "2024-02-01 15:39:46,793 - distributed.utils_perf - WARNING - full garbage collections took 78% CPU time recently (threshold: 10%)\n",
      "[15:39:52] task [xgboost.dask-0]:tcp://127.0.0.1:40795 got new rank 0\n",
      "[15:39:58] WARNING: /workspace/src/learner.cc:742: \n",
      "Parameters: { \"predictor\" } are not used.\n",
      "\n",
      "2024-02-01 15:39:59,764 - distributed.utils_perf - WARNING - full garbage collections took 78% CPU time recently (threshold: 10%)\n",
      "2024-02-01 15:39:59,851 - distributed.utils_perf - WARNING - full garbage collections took 78% CPU time recently (threshold: 10%)\n",
      "[15:40:05] task [xgboost.dask-0]:tcp://127.0.0.1:40795 got new rank 0\n",
      "[15:40:11] WARNING: /workspace/src/learner.cc:742: \n",
      "Parameters: { \"predictor\" } are not used.\n",
      "\n",
      "2024-02-01 15:40:12,937 - distributed.utils_perf - WARNING - full garbage collections took 78% CPU time recently (threshold: 10%)\n",
      "2024-02-01 15:40:13,023 - distributed.utils_perf - WARNING - full garbage collections took 78% CPU time recently (threshold: 10%)\n",
      "[15:40:19] task [xgboost.dask-0]:tcp://127.0.0.1:40795 got new rank 0\n",
      "[15:40:26] WARNING: /workspace/src/learner.cc:742: \n",
      "Parameters: { \"predictor\" } are not used.\n",
      "\n",
      "2024-02-01 15:40:27,330 - distributed.utils_perf - WARNING - full garbage collections took 78% CPU time recently (threshold: 10%)\n",
      "2024-02-01 15:40:27,412 - distributed.utils_perf - WARNING - full garbage collections took 78% CPU time recently (threshold: 10%)\n",
      "[15:40:33] task [xgboost.dask-0]:tcp://127.0.0.1:40795 got new rank 0\n",
      "[15:40:40] WARNING: /workspace/src/learner.cc:742: \n",
      "Parameters: { \"predictor\" } are not used.\n",
      "\n",
      "2024-02-01 15:40:41,644 - distributed.utils_perf - WARNING - full garbage collections took 78% CPU time recently (threshold: 10%)\n",
      "2024-02-01 15:40:41,727 - distributed.utils_perf - WARNING - full garbage collections took 78% CPU time recently (threshold: 10%)\n",
      "[15:40:47] task [xgboost.dask-0]:tcp://127.0.0.1:40795 got new rank 0\n",
      "[15:40:53] WARNING: /workspace/src/learner.cc:742: \n",
      "Parameters: { \"predictor\" } are not used.\n",
      "\n",
      "2024-02-01 15:40:54,858 - distributed.utils_perf - WARNING - full garbage collections took 78% CPU time recently (threshold: 10%)\n",
      "2024-02-01 15:40:54,945 - distributed.utils_perf - WARNING - full garbage collections took 78% CPU time recently (threshold: 10%)\n",
      "[15:41:00] task [xgboost.dask-0]:tcp://127.0.0.1:40795 got new rank 0\n",
      "[15:41:07] WARNING: /workspace/src/learner.cc:742: \n",
      "Parameters: { \"predictor\" } are not used.\n",
      "\n",
      "2024-02-01 15:41:07,982 - distributed.utils_perf - WARNING - full garbage collections took 78% CPU time recently (threshold: 10%)\n",
      "2024-02-01 15:41:08,064 - distributed.utils_perf - WARNING - full garbage collections took 78% CPU time recently (threshold: 10%)\n",
      "[15:41:13] task [xgboost.dask-0]:tcp://127.0.0.1:40795 got new rank 0\n",
      "[15:41:20] WARNING: /workspace/src/learner.cc:742: \n",
      "Parameters: { \"predictor\" } are not used.\n",
      "\n",
      "2024-02-01 15:41:21,022 - distributed.utils_perf - WARNING - full garbage collections took 78% CPU time recently (threshold: 10%)\n",
      "2024-02-01 15:41:21,104 - distributed.utils_perf - WARNING - full garbage collections took 78% CPU time recently (threshold: 10%)\n",
      "[15:41:26] task [xgboost.dask-0]:tcp://127.0.0.1:40795 got new rank 0\n",
      "[15:41:33] WARNING: /workspace/src/learner.cc:742: \n",
      "Parameters: { \"predictor\" } are not used.\n",
      "\n",
      "2024-02-01 15:41:34,567 - distributed.utils_perf - WARNING - full garbage collections took 78% CPU time recently (threshold: 10%)\n",
      "2024-02-01 15:41:34,654 - distributed.utils_perf - WARNING - full garbage collections took 78% CPU time recently (threshold: 10%)\n",
      "[15:41:40] task [xgboost.dask-0]:tcp://127.0.0.1:40795 got new rank 0\n",
      "[15:41:46] WARNING: /workspace/src/learner.cc:742: \n",
      "Parameters: { \"predictor\" } are not used.\n",
      "\n",
      "2024-02-01 15:41:48,048 - distributed.utils_perf - WARNING - full garbage collections took 78% CPU time recently (threshold: 10%)\n",
      "2024-02-01 15:41:48,135 - distributed.utils_perf - WARNING - full garbage collections took 78% CPU time recently (threshold: 10%)\n",
      "[15:41:53] task [xgboost.dask-0]:tcp://127.0.0.1:40795 got new rank 0\n",
      "[15:41:59] WARNING: /workspace/src/learner.cc:742: \n",
      "Parameters: { \"predictor\" } are not used.\n",
      "\n",
      "2024-02-01 15:42:00,416 - distributed.utils_perf - WARNING - full garbage collections took 78% CPU time recently (threshold: 10%)\n",
      "2024-02-01 15:42:00,504 - distributed.utils_perf - WARNING - full garbage collections took 78% CPU time recently (threshold: 10%)\n",
      "[15:42:06] task [xgboost.dask-0]:tcp://127.0.0.1:40795 got new rank 0\n",
      "[15:42:11] WARNING: /workspace/src/learner.cc:742: \n",
      "Parameters: { \"predictor\" } are not used.\n",
      "\n",
      "2024-02-01 15:42:12,792 - distributed.utils_perf - WARNING - full garbage collections took 78% CPU time recently (threshold: 10%)\n",
      "2024-02-01 15:42:12,880 - distributed.utils_perf - WARNING - full garbage collections took 78% CPU time recently (threshold: 10%)\n",
      "[15:42:18] task [xgboost.dask-0]:tcp://127.0.0.1:40795 got new rank 0\n",
      "[15:42:24] WARNING: /workspace/src/learner.cc:742: \n",
      "Parameters: { \"predictor\" } are not used.\n",
      "\n",
      "2024-02-01 15:42:25,331 - distributed.utils_perf - WARNING - full garbage collections took 78% CPU time recently (threshold: 10%)\n",
      "2024-02-01 15:42:25,420 - distributed.utils_perf - WARNING - full garbage collections took 78% CPU time recently (threshold: 10%)\n",
      "[15:42:31] task [xgboost.dask-0]:tcp://127.0.0.1:40795 got new rank 0\n",
      "[15:42:37] WARNING: /workspace/src/learner.cc:742: \n",
      "Parameters: { \"predictor\" } are not used.\n",
      "\n",
      "2024-02-01 15:42:38,615 - distributed.utils_perf - WARNING - full garbage collections took 78% CPU time recently (threshold: 10%)\n",
      "2024-02-01 15:42:38,700 - distributed.utils_perf - WARNING - full garbage collections took 78% CPU time recently (threshold: 10%)\n",
      "[15:42:44] task [xgboost.dask-0]:tcp://127.0.0.1:40795 got new rank 0\n",
      "[15:42:50] WARNING: /workspace/src/learner.cc:742: \n",
      "Parameters: { \"predictor\" } are not used.\n",
      "\n",
      "2024-02-01 15:42:51,367 - distributed.utils_perf - WARNING - full garbage collections took 78% CPU time recently (threshold: 10%)\n",
      "2024-02-01 15:42:51,450 - distributed.utils_perf - WARNING - full garbage collections took 78% CPU time recently (threshold: 10%)\n",
      "[15:42:57] task [xgboost.dask-0]:tcp://127.0.0.1:40795 got new rank 0\n",
      "[15:43:02] WARNING: /workspace/src/learner.cc:742: \n",
      "Parameters: { \"predictor\" } are not used.\n",
      "\n",
      "2024-02-01 15:43:03,359 - distributed.utils_perf - WARNING - full garbage collections took 78% CPU time recently (threshold: 10%)\n",
      "2024-02-01 15:43:03,443 - distributed.utils_perf - WARNING - full garbage collections took 78% CPU time recently (threshold: 10%)\n",
      "[15:43:09] task [xgboost.dask-0]:tcp://127.0.0.1:40795 got new rank 0\n",
      "[15:43:14] WARNING: /workspace/src/learner.cc:742: \n",
      "Parameters: { \"predictor\" } are not used.\n",
      "\n",
      "2024-02-01 15:43:15,327 - distributed.utils_perf - WARNING - full garbage collections took 78% CPU time recently (threshold: 10%)\n",
      "2024-02-01 15:43:15,410 - distributed.utils_perf - WARNING - full garbage collections took 78% CPU time recently (threshold: 10%)\n",
      "[15:43:21] task [xgboost.dask-0]:tcp://127.0.0.1:40795 got new rank 0\n",
      "[15:43:26] WARNING: /workspace/src/learner.cc:742: \n",
      "Parameters: { \"predictor\" } are not used.\n",
      "\n",
      "2024-02-01 15:43:27,163 - distributed.utils_perf - WARNING - full garbage collections took 78% CPU time recently (threshold: 10%)\n",
      "2024-02-01 15:43:27,254 - distributed.utils_perf - WARNING - full garbage collections took 78% CPU time recently (threshold: 10%)\n",
      "[15:43:33] task [xgboost.dask-0]:tcp://127.0.0.1:40795 got new rank 0\n",
      "[15:43:41] WARNING: /workspace/src/learner.cc:742: \n",
      "Parameters: { \"predictor\" } are not used.\n",
      "\n",
      "2024-02-01 15:43:42,951 - distributed.utils_perf - WARNING - full garbage collections took 78% CPU time recently (threshold: 10%)\n",
      "2024-02-01 15:43:43,040 - distributed.utils_perf - WARNING - full garbage collections took 78% CPU time recently (threshold: 10%)\n",
      "[15:43:48] task [xgboost.dask-0]:tcp://127.0.0.1:40795 got new rank 0\n",
      "[15:43:57] WARNING: /workspace/src/learner.cc:742: \n",
      "Parameters: { \"predictor\" } are not used.\n",
      "\n",
      "2024-02-01 15:43:58,669 - distributed.utils_perf - WARNING - full garbage collections took 78% CPU time recently (threshold: 10%)\n",
      "2024-02-01 15:43:58,760 - distributed.utils_perf - WARNING - full garbage collections took 78% CPU time recently (threshold: 10%)\n",
      "[15:44:04] task [xgboost.dask-0]:tcp://127.0.0.1:40795 got new rank 0\n",
      "[15:44:12] WARNING: /workspace/src/learner.cc:742: \n",
      "Parameters: { \"predictor\" } are not used.\n",
      "\n",
      "2024-02-01 15:44:13,242 - distributed.utils_perf - WARNING - full garbage collections took 78% CPU time recently (threshold: 10%)\n",
      "2024-02-01 15:44:13,326 - distributed.utils_perf - WARNING - full garbage collections took 78% CPU time recently (threshold: 10%)\n",
      "[15:44:19] task [xgboost.dask-0]:tcp://127.0.0.1:40795 got new rank 0\n",
      "[15:44:26] WARNING: /workspace/src/learner.cc:742: \n",
      "Parameters: { \"predictor\" } are not used.\n",
      "\n",
      "2024-02-01 15:44:27,896 - distributed.utils_perf - WARNING - full garbage collections took 78% CPU time recently (threshold: 10%)\n",
      "2024-02-01 15:44:27,986 - distributed.utils_perf - WARNING - full garbage collections took 78% CPU time recently (threshold: 10%)\n",
      "[15:44:33] task [xgboost.dask-0]:tcp://127.0.0.1:40795 got new rank 0\n",
      "[15:44:41] WARNING: /workspace/src/learner.cc:742: \n",
      "Parameters: { \"predictor\" } are not used.\n",
      "\n",
      "2024-02-01 15:44:42,546 - distributed.utils_perf - WARNING - full garbage collections took 78% CPU time recently (threshold: 10%)\n",
      "2024-02-01 15:44:42,636 - distributed.utils_perf - WARNING - full garbage collections took 78% CPU time recently (threshold: 10%)\n",
      "[15:44:48] task [xgboost.dask-0]:tcp://127.0.0.1:40795 got new rank 0\n",
      "[15:44:56] WARNING: /workspace/src/learner.cc:742: \n",
      "Parameters: { \"predictor\" } are not used.\n",
      "\n",
      "2024-02-01 15:44:57,771 - distributed.utils_perf - WARNING - full garbage collections took 78% CPU time recently (threshold: 10%)\n",
      "2024-02-01 15:44:57,862 - distributed.utils_perf - WARNING - full garbage collections took 78% CPU time recently (threshold: 10%)\n",
      "[15:45:03] task [xgboost.dask-0]:tcp://127.0.0.1:40795 got new rank 0\n",
      "[15:45:11] WARNING: /workspace/src/learner.cc:742: \n",
      "Parameters: { \"predictor\" } are not used.\n",
      "\n",
      "2024-02-01 15:45:12,915 - distributed.utils_perf - WARNING - full garbage collections took 78% CPU time recently (threshold: 10%)\n",
      "2024-02-01 15:45:13,000 - distributed.utils_perf - WARNING - full garbage collections took 78% CPU time recently (threshold: 10%)\n",
      "[15:45:18] task [xgboost.dask-0]:tcp://127.0.0.1:40795 got new rank 0\n",
      "[15:45:25] WARNING: /workspace/src/learner.cc:742: \n",
      "Parameters: { \"predictor\" } are not used.\n",
      "\n",
      "2024-02-01 15:45:26,911 - distributed.utils_perf - WARNING - full garbage collections took 78% CPU time recently (threshold: 10%)\n",
      "2024-02-01 15:45:27,001 - distributed.utils_perf - WARNING - full garbage collections took 78% CPU time recently (threshold: 10%)\n",
      "[15:45:32] task [xgboost.dask-0]:tcp://127.0.0.1:40795 got new rank 0\n",
      "[15:45:40] WARNING: /workspace/src/learner.cc:742: \n",
      "Parameters: { \"predictor\" } are not used.\n",
      "\n",
      "2024-02-01 15:45:41,177 - distributed.utils_perf - WARNING - full garbage collections took 78% CPU time recently (threshold: 10%)\n",
      "2024-02-01 15:45:41,268 - distributed.utils_perf - WARNING - full garbage collections took 78% CPU time recently (threshold: 10%)\n",
      "[15:45:54] WARNING: /workspace/src/learner.cc:742: \n",
      "Parameters: { \"predictor\" } are not used.\n",
      "\n",
      "2024-02-01 15:45:55,645 - distributed.utils_perf - WARNING - full garbage collections took 78% CPU time recently (threshold: 10%)\n",
      "2024-02-01 15:45:55,737 - distributed.utils_perf - WARNING - full garbage collections took 78% CPU time recently (threshold: 10%)\n",
      "[15:46:01] task [xgboost.dask-0]:tcp://127.0.0.1:40795 got new rank 0\n",
      "[15:46:10] WARNING: /workspace/src/learner.cc:742: \n",
      "Parameters: { \"predictor\" } are not used.\n",
      "\n",
      "2024-02-01 15:46:12,081 - distributed.utils_perf - WARNING - full garbage collections took 78% CPU time recently (threshold: 10%)\n",
      "2024-02-01 15:46:12,171 - distributed.utils_perf - WARNING - full garbage collections took 78% CPU time recently (threshold: 10%)\n",
      "[15:46:17] task [xgboost.dask-0]:tcp://127.0.0.1:40795 got new rank 0\n",
      "[15:46:26] WARNING: /workspace/src/learner.cc:742: \n",
      "Parameters: { \"predictor\" } are not used.\n",
      "\n",
      "2024-02-01 15:46:28,101 - distributed.utils_perf - WARNING - full garbage collections took 78% CPU time recently (threshold: 10%)\n",
      "2024-02-01 15:46:28,194 - distributed.utils_perf - WARNING - full garbage collections took 79% CPU time recently (threshold: 10%)\n",
      "[15:46:33] task [xgboost.dask-0]:tcp://127.0.0.1:40795 got new rank 0\n",
      "[15:46:42] WARNING: /workspace/src/learner.cc:742: \n",
      "Parameters: { \"predictor\" } are not used.\n",
      "\n",
      "2024-02-01 15:46:43,311 - distributed.utils_perf - WARNING - full garbage collections took 79% CPU time recently (threshold: 10%)\n",
      "2024-02-01 15:46:43,402 - distributed.utils_perf - WARNING - full garbage collections took 79% CPU time recently (threshold: 10%)\n",
      "[15:46:48] task [xgboost.dask-0]:tcp://127.0.0.1:40795 got new rank 0\n",
      "[15:46:57] WARNING: /workspace/src/learner.cc:742: \n",
      "Parameters: { \"predictor\" } are not used.\n",
      "\n",
      "2024-02-01 15:46:58,488 - distributed.utils_perf - WARNING - full garbage collections took 79% CPU time recently (threshold: 10%)\n",
      "2024-02-01 15:46:58,579 - distributed.utils_perf - WARNING - full garbage collections took 79% CPU time recently (threshold: 10%)\n",
      "[15:47:04] task [xgboost.dask-0]:tcp://127.0.0.1:40795 got new rank 0\n",
      "[15:47:12] WARNING: /workspace/src/learner.cc:742: \n",
      "Parameters: { \"predictor\" } are not used.\n",
      "\n",
      "2024-02-01 15:47:13,578 - distributed.utils_perf - WARNING - full garbage collections took 79% CPU time recently (threshold: 10%)\n",
      "2024-02-01 15:47:13,669 - distributed.utils_perf - WARNING - full garbage collections took 79% CPU time recently (threshold: 10%)\n",
      "[15:47:19] task [xgboost.dask-0]:tcp://127.0.0.1:40795 got new rank 0\n",
      "[15:47:26] WARNING: /workspace/src/learner.cc:742: \n",
      "Parameters: { \"predictor\" } are not used.\n",
      "\n",
      "2024-02-01 15:47:27,376 - distributed.utils_perf - WARNING - full garbage collections took 79% CPU time recently (threshold: 10%)\n",
      "2024-02-01 15:47:27,462 - distributed.utils_perf - WARNING - full garbage collections took 79% CPU time recently (threshold: 10%)\n",
      "[15:47:33] task [xgboost.dask-0]:tcp://127.0.0.1:40795 got new rank 0\n",
      "[15:47:39] WARNING: /workspace/src/learner.cc:742: \n",
      "Parameters: { \"predictor\" } are not used.\n",
      "\n",
      "2024-02-01 15:47:40,997 - distributed.utils_perf - WARNING - full garbage collections took 79% CPU time recently (threshold: 10%)\n",
      "2024-02-01 15:47:41,083 - distributed.utils_perf - WARNING - full garbage collections took 79% CPU time recently (threshold: 10%)\n",
      "[15:47:46] task [xgboost.dask-0]:tcp://127.0.0.1:40795 got new rank 0\n",
      "[15:47:52] WARNING: /workspace/src/learner.cc:742: \n",
      "Parameters: { \"predictor\" } are not used.\n",
      "\n",
      "2024-02-01 15:47:53,838 - distributed.utils_perf - WARNING - full garbage collections took 79% CPU time recently (threshold: 10%)\n",
      "2024-02-01 15:47:53,930 - distributed.utils_perf - WARNING - full garbage collections took 79% CPU time recently (threshold: 10%)\n",
      "[15:47:59] task [xgboost.dask-0]:tcp://127.0.0.1:40795 got new rank 0\n",
      "[15:48:05] WARNING: /workspace/src/learner.cc:742: \n",
      "Parameters: { \"predictor\" } are not used.\n",
      "\n",
      "2024-02-01 15:48:06,675 - distributed.utils_perf - WARNING - full garbage collections took 79% CPU time recently (threshold: 10%)\n",
      "2024-02-01 15:48:06,768 - distributed.utils_perf - WARNING - full garbage collections took 79% CPU time recently (threshold: 10%)\n",
      "[15:48:12] task [xgboost.dask-0]:tcp://127.0.0.1:40795 got new rank 0\n",
      "[15:48:18] WARNING: /workspace/src/learner.cc:742: \n",
      "Parameters: { \"predictor\" } are not used.\n",
      "\n",
      "2024-02-01 15:48:19,577 - distributed.utils_perf - WARNING - full garbage collections took 79% CPU time recently (threshold: 10%)\n",
      "2024-02-01 15:48:19,666 - distributed.utils_perf - WARNING - full garbage collections took 79% CPU time recently (threshold: 10%)\n",
      "[15:48:25] task [xgboost.dask-0]:tcp://127.0.0.1:40795 got new rank 0\n",
      "[15:48:32] WARNING: /workspace/src/learner.cc:742: \n",
      "Parameters: { \"predictor\" } are not used.\n",
      "\n",
      "2024-02-01 15:48:34,067 - distributed.utils_perf - WARNING - full garbage collections took 79% CPU time recently (threshold: 10%)\n",
      "2024-02-01 15:48:34,159 - distributed.utils_perf - WARNING - full garbage collections took 79% CPU time recently (threshold: 10%)\n",
      "[15:48:40] task [xgboost.dask-0]:tcp://127.0.0.1:40795 got new rank 0\n",
      "[15:48:47] WARNING: /workspace/src/learner.cc:742: \n",
      "Parameters: { \"predictor\" } are not used.\n",
      "\n",
      "2024-02-01 15:48:48,783 - distributed.utils_perf - WARNING - full garbage collections took 79% CPU time recently (threshold: 10%)\n",
      "2024-02-01 15:48:48,877 - distributed.utils_perf - WARNING - full garbage collections took 79% CPU time recently (threshold: 10%)\n",
      "[15:48:54] task [xgboost.dask-0]:tcp://127.0.0.1:40795 got new rank 0\n",
      "[15:49:01] WARNING: /workspace/src/learner.cc:742: \n",
      "Parameters: { \"predictor\" } are not used.\n",
      "\n",
      "2024-02-01 15:49:02,073 - distributed.utils_perf - WARNING - full garbage collections took 79% CPU time recently (threshold: 10%)\n",
      "2024-02-01 15:49:02,165 - distributed.utils_perf - WARNING - full garbage collections took 79% CPU time recently (threshold: 10%)\n",
      "[15:49:07] task [xgboost.dask-0]:tcp://127.0.0.1:40795 got new rank 0\n",
      "[15:49:14] WARNING: /workspace/src/learner.cc:742: \n",
      "Parameters: { \"predictor\" } are not used.\n",
      "\n",
      "2024-02-01 15:49:15,323 - distributed.utils_perf - WARNING - full garbage collections took 79% CPU time recently (threshold: 10%)\n",
      "2024-02-01 15:49:15,416 - distributed.utils_perf - WARNING - full garbage collections took 79% CPU time recently (threshold: 10%)\n",
      "[15:49:21] task [xgboost.dask-0]:tcp://127.0.0.1:40795 got new rank 0\n",
      "[15:49:27] WARNING: /workspace/src/learner.cc:742: \n",
      "Parameters: { \"predictor\" } are not used.\n",
      "\n",
      "2024-02-01 15:49:28,587 - distributed.utils_perf - WARNING - full garbage collections took 79% CPU time recently (threshold: 10%)\n",
      "2024-02-01 15:49:28,680 - distributed.utils_perf - WARNING - full garbage collections took 79% CPU time recently (threshold: 10%)\n",
      "[15:49:34] task [xgboost.dask-0]:tcp://127.0.0.1:40795 got new rank 0\n",
      "[15:49:42] WARNING: /workspace/src/learner.cc:742: \n",
      "Parameters: { \"predictor\" } are not used.\n",
      "\n",
      "2024-02-01 15:49:43,404 - distributed.utils_perf - WARNING - full garbage collections took 79% CPU time recently (threshold: 10%)\n",
      "2024-02-01 15:49:43,497 - distributed.utils_perf - WARNING - full garbage collections took 79% CPU time recently (threshold: 10%)\n",
      "[15:49:49] task [xgboost.dask-0]:tcp://127.0.0.1:40795 got new rank 0\n",
      "[15:49:56] WARNING: /workspace/src/learner.cc:742: \n",
      "Parameters: { \"predictor\" } are not used.\n",
      "\n",
      "2024-02-01 15:49:58,020 - distributed.utils_perf - WARNING - full garbage collections took 79% CPU time recently (threshold: 10%)\n",
      "2024-02-01 15:49:58,113 - distributed.utils_perf - WARNING - full garbage collections took 79% CPU time recently (threshold: 10%)\n",
      "[15:50:03] task [xgboost.dask-0]:tcp://127.0.0.1:40795 got new rank 0\n",
      "[15:50:10] WARNING: /workspace/src/learner.cc:742: \n",
      "Parameters: { \"predictor\" } are not used.\n",
      "\n",
      "2024-02-01 15:50:11,687 - distributed.utils_perf - WARNING - full garbage collections took 79% CPU time recently (threshold: 10%)\n",
      "2024-02-01 15:50:11,781 - distributed.utils_perf - WARNING - full garbage collections took 79% CPU time recently (threshold: 10%)\n",
      "[15:50:17] task [xgboost.dask-0]:tcp://127.0.0.1:40795 got new rank 0\n",
      "[15:50:24] WARNING: /workspace/src/learner.cc:742: \n",
      "Parameters: { \"predictor\" } are not used.\n",
      "\n",
      "2024-02-01 15:50:25,371 - distributed.utils_perf - WARNING - full garbage collections took 79% CPU time recently (threshold: 10%)\n",
      "2024-02-01 15:50:25,465 - distributed.utils_perf - WARNING - full garbage collections took 79% CPU time recently (threshold: 10%)\n",
      "[15:50:31] task [xgboost.dask-0]:tcp://127.0.0.1:40795 got new rank 0\n",
      "[15:50:38] WARNING: /workspace/src/learner.cc:742: \n",
      "Parameters: { \"predictor\" } are not used.\n",
      "\n",
      "2024-02-01 15:50:39,210 - distributed.utils_perf - WARNING - full garbage collections took 79% CPU time recently (threshold: 10%)\n",
      "2024-02-01 15:50:39,306 - distributed.utils_perf - WARNING - full garbage collections took 79% CPU time recently (threshold: 10%)\n",
      "[15:50:44] task [xgboost.dask-0]:tcp://127.0.0.1:40795 got new rank 0\n",
      "[15:50:51] WARNING: /workspace/src/learner.cc:742: \n",
      "Parameters: { \"predictor\" } are not used.\n",
      "\n",
      "2024-02-01 15:50:52,112 - distributed.utils_perf - WARNING - full garbage collections took 79% CPU time recently (threshold: 10%)\n",
      "2024-02-01 15:50:52,209 - distributed.utils_perf - WARNING - full garbage collections took 79% CPU time recently (threshold: 10%)\n",
      "[15:50:57] task [xgboost.dask-0]:tcp://127.0.0.1:40795 got new rank 0\n",
      "[15:51:04] WARNING: /workspace/src/learner.cc:742: \n",
      "Parameters: { \"predictor\" } are not used.\n",
      "\n",
      "2024-02-01 15:51:05,183 - distributed.utils_perf - WARNING - full garbage collections took 79% CPU time recently (threshold: 10%)\n",
      "2024-02-01 15:51:05,278 - distributed.utils_perf - WARNING - full garbage collections took 79% CPU time recently (threshold: 10%)\n",
      "[15:51:10] task [xgboost.dask-0]:tcp://127.0.0.1:40795 got new rank 0\n",
      "[15:51:16] WARNING: /workspace/src/learner.cc:742: \n",
      "Parameters: { \"predictor\" } are not used.\n",
      "\n",
      "2024-02-01 15:51:17,275 - distributed.utils_perf - WARNING - full garbage collections took 79% CPU time recently (threshold: 10%)\n",
      "2024-02-01 15:51:17,370 - distributed.utils_perf - WARNING - full garbage collections took 79% CPU time recently (threshold: 10%)\n",
      "[15:51:23] task [xgboost.dask-0]:tcp://127.0.0.1:40795 got new rank 0\n",
      "[15:51:28] WARNING: /workspace/src/learner.cc:742: \n",
      "Parameters: { \"predictor\" } are not used.\n",
      "\n",
      "2024-02-01 15:51:29,422 - distributed.utils_perf - WARNING - full garbage collections took 79% CPU time recently (threshold: 10%)\n",
      "2024-02-01 15:51:29,515 - distributed.utils_perf - WARNING - full garbage collections took 79% CPU time recently (threshold: 10%)\n",
      "[15:51:35] task [xgboost.dask-0]:tcp://127.0.0.1:40795 got new rank 0\n",
      "[15:51:40] WARNING: /workspace/src/learner.cc:742: \n",
      "Parameters: { \"predictor\" } are not used.\n",
      "\n",
      "2024-02-01 15:51:41,302 - distributed.utils_perf - WARNING - full garbage collections took 79% CPU time recently (threshold: 10%)\n",
      "2024-02-01 15:51:41,397 - distributed.utils_perf - WARNING - full garbage collections took 79% CPU time recently (threshold: 10%)\n",
      "[15:51:47] task [xgboost.dask-0]:tcp://127.0.0.1:40795 got new rank 0\n",
      "[15:51:54] WARNING: /workspace/src/learner.cc:742: \n",
      "Parameters: { \"predictor\" } are not used.\n",
      "\n",
      "2024-02-01 15:51:55,307 - distributed.utils_perf - WARNING - full garbage collections took 79% CPU time recently (threshold: 10%)\n",
      "2024-02-01 15:51:55,402 - distributed.utils_perf - WARNING - full garbage collections took 79% CPU time recently (threshold: 10%)\n",
      "[15:52:01] task [xgboost.dask-0]:tcp://127.0.0.1:40795 got new rank 0\n",
      "[15:52:08] WARNING: /workspace/src/learner.cc:742: \n",
      "Parameters: { \"predictor\" } are not used.\n",
      "\n",
      "2024-02-01 15:52:09,373 - distributed.utils_perf - WARNING - full garbage collections took 79% CPU time recently (threshold: 10%)\n",
      "2024-02-01 15:52:09,467 - distributed.utils_perf - WARNING - full garbage collections took 79% CPU time recently (threshold: 10%)\n",
      "[15:52:15] task [xgboost.dask-0]:tcp://127.0.0.1:40795 got new rank 0\n",
      "[15:52:21] WARNING: /workspace/src/learner.cc:742: \n",
      "Parameters: { \"predictor\" } are not used.\n",
      "\n",
      "2024-02-01 15:52:22,703 - distributed.utils_perf - WARNING - full garbage collections took 79% CPU time recently (threshold: 10%)\n",
      "2024-02-01 15:52:22,799 - distributed.utils_perf - WARNING - full garbage collections took 79% CPU time recently (threshold: 10%)\n",
      "[15:52:28] task [xgboost.dask-0]:tcp://127.0.0.1:40795 got new rank 0\n",
      "[15:52:34] WARNING: /workspace/src/learner.cc:742: \n",
      "Parameters: { \"predictor\" } are not used.\n",
      "\n",
      "2024-02-01 15:52:35,838 - distributed.utils_perf - WARNING - full garbage collections took 79% CPU time recently (threshold: 10%)\n",
      "2024-02-01 15:52:35,933 - distributed.utils_perf - WARNING - full garbage collections took 79% CPU time recently (threshold: 10%)\n",
      "[15:52:41] task [xgboost.dask-0]:tcp://127.0.0.1:40795 got new rank 0\n",
      "[15:52:47] WARNING: /workspace/src/learner.cc:742: \n",
      "Parameters: { \"predictor\" } are not used.\n",
      "\n",
      "2024-02-01 15:52:48,782 - distributed.utils_perf - WARNING - full garbage collections took 79% CPU time recently (threshold: 10%)\n",
      "2024-02-01 15:52:48,878 - distributed.utils_perf - WARNING - full garbage collections took 79% CPU time recently (threshold: 10%)\n",
      "[15:52:54] task [xgboost.dask-0]:tcp://127.0.0.1:40795 got new rank 0\n",
      "[15:53:01] WARNING: /workspace/src/learner.cc:742: \n",
      "Parameters: { \"predictor\" } are not used.\n",
      "\n",
      "2024-02-01 15:53:02,583 - distributed.utils_perf - WARNING - full garbage collections took 79% CPU time recently (threshold: 10%)\n",
      "2024-02-01 15:53:02,678 - distributed.utils_perf - WARNING - full garbage collections took 79% CPU time recently (threshold: 10%)\n",
      "[15:53:08] task [xgboost.dask-0]:tcp://127.0.0.1:40795 got new rank 0\n",
      "[15:53:15] WARNING: /workspace/src/learner.cc:742: \n",
      "Parameters: { \"predictor\" } are not used.\n",
      "\n",
      "2024-02-01 15:53:16,559 - distributed.utils_perf - WARNING - full garbage collections took 79% CPU time recently (threshold: 10%)\n",
      "2024-02-01 15:53:16,654 - distributed.utils_perf - WARNING - full garbage collections took 79% CPU time recently (threshold: 10%)\n",
      "[15:53:28] WARNING: /workspace/src/learner.cc:742: \n",
      "Parameters: { \"predictor\" } are not used.\n",
      "\n",
      "2024-02-01 15:53:29,185 - distributed.utils_perf - WARNING - full garbage collections took 79% CPU time recently (threshold: 10%)\n",
      "2024-02-01 15:53:29,282 - distributed.utils_perf - WARNING - full garbage collections took 80% CPU time recently (threshold: 10%)\n",
      "[15:53:34] task [xgboost.dask-0]:tcp://127.0.0.1:40795 got new rank 0\n",
      "[15:53:40] WARNING: /workspace/src/learner.cc:742: \n",
      "Parameters: { \"predictor\" } are not used.\n",
      "\n",
      "2024-02-01 15:53:41,925 - distributed.utils_perf - WARNING - full garbage collections took 80% CPU time recently (threshold: 10%)\n",
      "2024-02-01 15:53:42,020 - distributed.utils_perf - WARNING - full garbage collections took 80% CPU time recently (threshold: 10%)\n",
      "[15:53:47] task [xgboost.dask-0]:tcp://127.0.0.1:40795 got new rank 0\n",
      "[15:53:53] WARNING: /workspace/src/learner.cc:742: \n",
      "Parameters: { \"predictor\" } are not used.\n",
      "\n",
      "2024-02-01 15:53:54,715 - distributed.utils_perf - WARNING - full garbage collections took 80% CPU time recently (threshold: 10%)\n",
      "2024-02-01 15:53:54,812 - distributed.utils_perf - WARNING - full garbage collections took 80% CPU time recently (threshold: 10%)\n",
      "[15:54:00] task [xgboost.dask-0]:tcp://127.0.0.1:40795 got new rank 0\n",
      "[15:54:09] WARNING: /workspace/src/learner.cc:742: \n",
      "Parameters: { \"predictor\" } are not used.\n",
      "\n",
      "2024-02-01 15:54:10,231 - distributed.utils_perf - WARNING - full garbage collections took 79% CPU time recently (threshold: 10%)\n",
      "2024-02-01 15:54:10,321 - distributed.utils_perf - WARNING - full garbage collections took 79% CPU time recently (threshold: 10%)\n",
      "[15:54:15] task [xgboost.dask-0]:tcp://127.0.0.1:40795 got new rank 0\n",
      "[15:54:24] WARNING: /workspace/src/learner.cc:742: \n",
      "Parameters: { \"predictor\" } are not used.\n",
      "\n",
      "2024-02-01 15:54:25,379 - distributed.utils_perf - WARNING - full garbage collections took 79% CPU time recently (threshold: 10%)\n",
      "2024-02-01 15:54:25,469 - distributed.utils_perf - WARNING - full garbage collections took 79% CPU time recently (threshold: 10%)\n",
      "[15:54:31] task [xgboost.dask-0]:tcp://127.0.0.1:40795 got new rank 0\n",
      "[15:54:38] WARNING: /workspace/src/learner.cc:742: \n",
      "Parameters: { \"predictor\" } are not used.\n",
      "\n",
      "2024-02-01 15:54:39,882 - distributed.utils_perf - WARNING - full garbage collections took 79% CPU time recently (threshold: 10%)\n",
      "2024-02-01 15:54:39,973 - distributed.utils_perf - WARNING - full garbage collections took 79% CPU time recently (threshold: 10%)\n",
      "[15:54:45] task [xgboost.dask-0]:tcp://127.0.0.1:40795 got new rank 0\n",
      "[15:54:53] WARNING: /workspace/src/learner.cc:742: \n",
      "Parameters: { \"predictor\" } are not used.\n",
      "\n",
      "2024-02-01 15:54:54,051 - distributed.utils_perf - WARNING - full garbage collections took 79% CPU time recently (threshold: 10%)\n",
      "2024-02-01 15:54:54,140 - distributed.utils_perf - WARNING - full garbage collections took 79% CPU time recently (threshold: 10%)\n",
      "[15:54:59] task [xgboost.dask-0]:tcp://127.0.0.1:40795 got new rank 0\n",
      "[15:55:07] WARNING: /workspace/src/learner.cc:742: \n",
      "Parameters: { \"predictor\" } are not used.\n",
      "\n",
      "2024-02-01 15:55:08,232 - distributed.utils_perf - WARNING - full garbage collections took 79% CPU time recently (threshold: 10%)\n",
      "2024-02-01 15:55:08,328 - distributed.utils_perf - WARNING - full garbage collections took 79% CPU time recently (threshold: 10%)\n",
      "[15:55:14] task [xgboost.dask-0]:tcp://127.0.0.1:40795 got new rank 0\n",
      "[15:55:22] WARNING: /workspace/src/learner.cc:742: \n",
      "Parameters: { \"predictor\" } are not used.\n",
      "\n",
      "2024-02-01 15:55:23,703 - distributed.utils_perf - WARNING - full garbage collections took 80% CPU time recently (threshold: 10%)\n",
      "2024-02-01 15:55:23,795 - distributed.utils_perf - WARNING - full garbage collections took 79% CPU time recently (threshold: 10%)\n",
      "[15:55:29] task [xgboost.dask-0]:tcp://127.0.0.1:40795 got new rank 0\n",
      "[15:55:37] WARNING: /workspace/src/learner.cc:742: \n",
      "Parameters: { \"predictor\" } are not used.\n",
      "\n",
      "2024-02-01 15:55:38,762 - distributed.utils_perf - WARNING - full garbage collections took 79% CPU time recently (threshold: 10%)\n",
      "2024-02-01 15:55:38,853 - distributed.utils_perf - WARNING - full garbage collections took 79% CPU time recently (threshold: 10%)\n",
      "[15:55:44] task [xgboost.dask-0]:tcp://127.0.0.1:40795 got new rank 0\n",
      "[15:55:51] WARNING: /workspace/src/learner.cc:742: \n",
      "Parameters: { \"predictor\" } are not used.\n",
      "\n",
      "2024-02-01 15:55:52,898 - distributed.utils_perf - WARNING - full garbage collections took 79% CPU time recently (threshold: 10%)\n",
      "2024-02-01 15:55:52,989 - distributed.utils_perf - WARNING - full garbage collections took 79% CPU time recently (threshold: 10%)\n",
      "[15:55:58] task [xgboost.dask-0]:tcp://127.0.0.1:40795 got new rank 0\n",
      "[15:56:06] WARNING: /workspace/src/learner.cc:742: \n",
      "Parameters: { \"predictor\" } are not used.\n",
      "\n",
      "2024-02-01 15:56:07,061 - distributed.utils_perf - WARNING - full garbage collections took 79% CPU time recently (threshold: 10%)\n",
      "2024-02-01 15:56:07,152 - distributed.utils_perf - WARNING - full garbage collections took 79% CPU time recently (threshold: 10%)\n",
      "[15:56:12] task [xgboost.dask-0]:tcp://127.0.0.1:40795 got new rank 0\n",
      "[15:56:20] WARNING: /workspace/src/learner.cc:742: \n",
      "Parameters: { \"predictor\" } are not used.\n",
      "\n",
      "2024-02-01 15:56:21,407 - distributed.utils_perf - WARNING - full garbage collections took 79% CPU time recently (threshold: 10%)\n",
      "2024-02-01 15:56:21,498 - distributed.utils_perf - WARNING - full garbage collections took 79% CPU time recently (threshold: 10%)\n",
      "[15:56:27] task [xgboost.dask-0]:tcp://127.0.0.1:40795 got new rank 0\n",
      "[15:56:33] WARNING: /workspace/src/learner.cc:742: \n",
      "Parameters: { \"predictor\" } are not used.\n",
      "\n",
      "2024-02-01 15:56:34,676 - distributed.utils_perf - WARNING - full garbage collections took 79% CPU time recently (threshold: 10%)\n",
      "2024-02-01 15:56:34,768 - distributed.utils_perf - WARNING - full garbage collections took 79% CPU time recently (threshold: 10%)\n",
      "[15:56:40] task [xgboost.dask-0]:tcp://127.0.0.1:40795 got new rank 0\n",
      "[15:56:46] WARNING: /workspace/src/learner.cc:742: \n",
      "Parameters: { \"predictor\" } are not used.\n",
      "\n",
      "2024-02-01 15:56:47,611 - distributed.utils_perf - WARNING - full garbage collections took 79% CPU time recently (threshold: 10%)\n",
      "2024-02-01 15:56:47,705 - distributed.utils_perf - WARNING - full garbage collections took 79% CPU time recently (threshold: 10%)\n",
      "[15:56:53] task [xgboost.dask-0]:tcp://127.0.0.1:40795 got new rank 0\n",
      "[15:56:58] WARNING: /workspace/src/learner.cc:742: \n",
      "Parameters: { \"predictor\" } are not used.\n",
      "\n",
      "2024-02-01 15:56:59,475 - distributed.utils_perf - WARNING - full garbage collections took 79% CPU time recently (threshold: 10%)\n",
      "2024-02-01 15:56:59,567 - distributed.utils_perf - WARNING - full garbage collections took 79% CPU time recently (threshold: 10%)\n",
      "[15:57:05] task [xgboost.dask-0]:tcp://127.0.0.1:40795 got new rank 0\n",
      "[15:57:10] WARNING: /workspace/src/learner.cc:742: \n",
      "Parameters: { \"predictor\" } are not used.\n",
      "\n",
      "2024-02-01 15:57:11,487 - distributed.utils_perf - WARNING - full garbage collections took 79% CPU time recently (threshold: 10%)\n",
      "2024-02-01 15:57:11,579 - distributed.utils_perf - WARNING - full garbage collections took 79% CPU time recently (threshold: 10%)\n",
      "[15:57:17] task [xgboost.dask-0]:tcp://127.0.0.1:40795 got new rank 0\n",
      "[15:57:22] WARNING: /workspace/src/learner.cc:742: \n",
      "Parameters: { \"predictor\" } are not used.\n",
      "\n",
      "2024-02-01 15:57:23,684 - distributed.utils_perf - WARNING - full garbage collections took 79% CPU time recently (threshold: 10%)\n",
      "2024-02-01 15:57:23,776 - distributed.utils_perf - WARNING - full garbage collections took 79% CPU time recently (threshold: 10%)\n",
      "[15:57:29] task [xgboost.dask-0]:tcp://127.0.0.1:40795 got new rank 0\n",
      "[15:57:35] WARNING: /workspace/src/learner.cc:742: \n",
      "Parameters: { \"predictor\" } are not used.\n",
      "\n",
      "2024-02-01 15:57:36,477 - distributed.utils_perf - WARNING - full garbage collections took 79% CPU time recently (threshold: 10%)\n",
      "2024-02-01 15:57:36,568 - distributed.utils_perf - WARNING - full garbage collections took 79% CPU time recently (threshold: 10%)\n",
      "[15:57:42] task [xgboost.dask-0]:tcp://127.0.0.1:40795 got new rank 0\n",
      "[15:57:47] WARNING: /workspace/src/learner.cc:742: \n",
      "Parameters: { \"predictor\" } are not used.\n",
      "\n",
      "2024-02-01 15:57:48,944 - distributed.utils_perf - WARNING - full garbage collections took 79% CPU time recently (threshold: 10%)\n",
      "2024-02-01 15:57:49,036 - distributed.utils_perf - WARNING - full garbage collections took 79% CPU time recently (threshold: 10%)\n",
      "[15:57:54] task [xgboost.dask-0]:tcp://127.0.0.1:40795 got new rank 0\n",
      "[15:57:59] WARNING: /workspace/src/learner.cc:742: \n",
      "Parameters: { \"predictor\" } are not used.\n",
      "\n",
      "2024-02-01 15:58:00,618 - distributed.utils_perf - WARNING - full garbage collections took 79% CPU time recently (threshold: 10%)\n",
      "2024-02-01 15:58:00,713 - distributed.utils_perf - WARNING - full garbage collections took 79% CPU time recently (threshold: 10%)\n",
      "[15:58:06] task [xgboost.dask-0]:tcp://127.0.0.1:40795 got new rank 0\n",
      "[15:58:11] WARNING: /workspace/src/learner.cc:742: \n",
      "Parameters: { \"predictor\" } are not used.\n",
      "\n",
      "2024-02-01 15:58:12,423 - distributed.utils_perf - WARNING - full garbage collections took 79% CPU time recently (threshold: 10%)\n",
      "2024-02-01 15:58:12,516 - distributed.utils_perf - WARNING - full garbage collections took 79% CPU time recently (threshold: 10%)\n",
      "[15:58:18] task [xgboost.dask-0]:tcp://127.0.0.1:40795 got new rank 0\n",
      "[15:58:23] WARNING: /workspace/src/learner.cc:742: \n",
      "Parameters: { \"predictor\" } are not used.\n",
      "\n",
      "2024-02-01 15:58:23,942 - distributed.utils_perf - WARNING - full garbage collections took 79% CPU time recently (threshold: 10%)\n",
      "2024-02-01 15:58:24,033 - distributed.utils_perf - WARNING - full garbage collections took 79% CPU time recently (threshold: 10%)\n",
      "[15:58:29] task [xgboost.dask-0]:tcp://127.0.0.1:40795 got new rank 0\n",
      "[15:58:36] WARNING: /workspace/src/learner.cc:742: \n",
      "Parameters: { \"predictor\" } are not used.\n",
      "\n",
      "2024-02-01 15:58:37,348 - distributed.utils_perf - WARNING - full garbage collections took 79% CPU time recently (threshold: 10%)\n",
      "2024-02-01 15:58:37,440 - distributed.utils_perf - WARNING - full garbage collections took 79% CPU time recently (threshold: 10%)\n",
      "[15:58:42] task [xgboost.dask-0]:tcp://127.0.0.1:40795 got new rank 0\n",
      "[15:58:49] WARNING: /workspace/src/learner.cc:742: \n",
      "Parameters: { \"predictor\" } are not used.\n",
      "\n",
      "2024-02-01 15:58:50,682 - distributed.utils_perf - WARNING - full garbage collections took 79% CPU time recently (threshold: 10%)\n",
      "2024-02-01 15:58:50,776 - distributed.utils_perf - WARNING - full garbage collections took 79% CPU time recently (threshold: 10%)\n",
      "[15:58:56] task [xgboost.dask-0]:tcp://127.0.0.1:40795 got new rank 0\n",
      "[15:59:02] WARNING: /workspace/src/learner.cc:742: \n",
      "Parameters: { \"predictor\" } are not used.\n",
      "\n",
      "2024-02-01 15:59:03,203 - distributed.utils_perf - WARNING - full garbage collections took 79% CPU time recently (threshold: 10%)\n",
      "2024-02-01 15:59:03,297 - distributed.utils_perf - WARNING - full garbage collections took 79% CPU time recently (threshold: 10%)\n",
      "[15:59:08] task [xgboost.dask-0]:tcp://127.0.0.1:40795 got new rank 0\n",
      "[15:59:14] WARNING: /workspace/src/learner.cc:742: \n",
      "Parameters: { \"predictor\" } are not used.\n",
      "\n",
      "2024-02-01 15:59:15,564 - distributed.utils_perf - WARNING - full garbage collections took 79% CPU time recently (threshold: 10%)\n",
      "2024-02-01 15:59:15,657 - distributed.utils_perf - WARNING - full garbage collections took 79% CPU time recently (threshold: 10%)\n",
      "[15:59:21] task [xgboost.dask-0]:tcp://127.0.0.1:40795 got new rank 0\n",
      "[15:59:26] WARNING: /workspace/src/learner.cc:742: \n",
      "Parameters: { \"predictor\" } are not used.\n",
      "\n",
      "2024-02-01 15:59:27,961 - distributed.utils_perf - WARNING - full garbage collections took 79% CPU time recently (threshold: 10%)\n",
      "2024-02-01 15:59:28,054 - distributed.utils_perf - WARNING - full garbage collections took 79% CPU time recently (threshold: 10%)\n",
      "[15:59:33] task [xgboost.dask-0]:tcp://127.0.0.1:40795 got new rank 0\n",
      "[15:59:40] WARNING: /workspace/src/learner.cc:742: \n",
      "Parameters: { \"predictor\" } are not used.\n",
      "\n",
      "2024-02-01 15:59:41,887 - distributed.utils_perf - WARNING - full garbage collections took 79% CPU time recently (threshold: 10%)\n",
      "2024-02-01 15:59:41,980 - distributed.utils_perf - WARNING - full garbage collections took 79% CPU time recently (threshold: 10%)\n",
      "[15:59:47] task [xgboost.dask-0]:tcp://127.0.0.1:40795 got new rank 0\n",
      "[15:59:54] WARNING: /workspace/src/learner.cc:742: \n",
      "Parameters: { \"predictor\" } are not used.\n",
      "\n",
      "2024-02-01 15:59:55,869 - distributed.utils_perf - WARNING - full garbage collections took 80% CPU time recently (threshold: 10%)\n",
      "2024-02-01 15:59:55,962 - distributed.utils_perf - WARNING - full garbage collections took 80% CPU time recently (threshold: 10%)\n",
      "[16:00:01] task [xgboost.dask-0]:tcp://127.0.0.1:40795 got new rank 0\n",
      "[16:00:07] WARNING: /workspace/src/learner.cc:742: \n",
      "Parameters: { \"predictor\" } are not used.\n",
      "\n",
      "2024-02-01 16:00:08,679 - distributed.utils_perf - WARNING - full garbage collections took 80% CPU time recently (threshold: 10%)\n",
      "2024-02-01 16:00:08,773 - distributed.utils_perf - WARNING - full garbage collections took 80% CPU time recently (threshold: 10%)\n",
      "[16:00:14] task [xgboost.dask-0]:tcp://127.0.0.1:40795 got new rank 0\n",
      "[16:00:20] WARNING: /workspace/src/learner.cc:742: \n",
      "Parameters: { \"predictor\" } are not used.\n",
      "\n",
      "2024-02-01 16:00:21,401 - distributed.utils_perf - WARNING - full garbage collections took 80% CPU time recently (threshold: 10%)\n",
      "2024-02-01 16:00:21,494 - distributed.utils_perf - WARNING - full garbage collections took 80% CPU time recently (threshold: 10%)\n",
      "[16:00:26] task [xgboost.dask-0]:tcp://127.0.0.1:40795 got new rank 0\n",
      "[16:00:32] WARNING: /workspace/src/learner.cc:742: \n",
      "Parameters: { \"predictor\" } are not used.\n",
      "\n",
      "2024-02-01 16:00:33,915 - distributed.utils_perf - WARNING - full garbage collections took 80% CPU time recently (threshold: 10%)\n",
      "2024-02-01 16:00:34,011 - distributed.utils_perf - WARNING - full garbage collections took 80% CPU time recently (threshold: 10%)\n",
      "[16:00:39] task [xgboost.dask-0]:tcp://127.0.0.1:40795 got new rank 0\n",
      "[16:00:45] WARNING: /workspace/src/learner.cc:742: \n",
      "Parameters: { \"predictor\" } are not used.\n",
      "\n",
      "2024-02-01 16:00:46,845 - distributed.utils_perf - WARNING - full garbage collections took 80% CPU time recently (threshold: 10%)\n",
      "2024-02-01 16:00:46,939 - distributed.utils_perf - WARNING - full garbage collections took 80% CPU time recently (threshold: 10%)\n",
      "[16:00:52] task [xgboost.dask-0]:tcp://127.0.0.1:40795 got new rank 0\n",
      "[16:00:58] WARNING: /workspace/src/learner.cc:742: \n",
      "Parameters: { \"predictor\" } are not used.\n",
      "\n",
      "2024-02-01 16:00:59,805 - distributed.utils_perf - WARNING - full garbage collections took 80% CPU time recently (threshold: 10%)\n",
      "2024-02-01 16:00:59,899 - distributed.utils_perf - WARNING - full garbage collections took 80% CPU time recently (threshold: 10%)\n",
      "[16:01:05] task [xgboost.dask-0]:tcp://127.0.0.1:40795 got new rank 0\n",
      "[16:01:10] WARNING: /workspace/src/learner.cc:742: \n",
      "Parameters: { \"predictor\" } are not used.\n",
      "\n",
      "2024-02-01 16:01:11,849 - distributed.utils_perf - WARNING - full garbage collections took 80% CPU time recently (threshold: 10%)\n",
      "2024-02-01 16:01:11,943 - distributed.utils_perf - WARNING - full garbage collections took 80% CPU time recently (threshold: 10%)\n",
      "[16:01:17] task [xgboost.dask-0]:tcp://127.0.0.1:40795 got new rank 0\n",
      "[16:01:23] WARNING: /workspace/src/learner.cc:742: \n",
      "Parameters: { \"predictor\" } are not used.\n",
      "\n",
      "2024-02-01 16:01:23,946 - distributed.utils_perf - WARNING - full garbage collections took 80% CPU time recently (threshold: 10%)\n",
      "2024-02-01 16:01:24,040 - distributed.utils_perf - WARNING - full garbage collections took 80% CPU time recently (threshold: 10%)\n",
      "[16:01:29] task [xgboost.dask-0]:tcp://127.0.0.1:40795 got new rank 0\n",
      "[16:01:34] WARNING: /workspace/src/learner.cc:742: \n",
      "Parameters: { \"predictor\" } are not used.\n",
      "\n",
      "2024-02-01 16:01:35,917 - distributed.utils_perf - WARNING - full garbage collections took 80% CPU time recently (threshold: 10%)\n",
      "2024-02-01 16:01:36,017 - distributed.utils_perf - WARNING - full garbage collections took 80% CPU time recently (threshold: 10%)\n",
      "[16:01:41] task [xgboost.dask-0]:tcp://127.0.0.1:40795 got new rank 0\n",
      "[16:01:48] WARNING: /workspace/src/learner.cc:742: \n",
      "Parameters: { \"predictor\" } are not used.\n",
      "\n",
      "2024-02-01 16:01:49,647 - distributed.utils_perf - WARNING - full garbage collections took 80% CPU time recently (threshold: 10%)\n",
      "2024-02-01 16:01:49,749 - distributed.utils_perf - WARNING - full garbage collections took 80% CPU time recently (threshold: 10%)\n",
      "[16:01:55] task [xgboost.dask-0]:tcp://127.0.0.1:40795 got new rank 0\n",
      "[16:02:02] WARNING: /workspace/src/learner.cc:742: \n",
      "Parameters: { \"predictor\" } are not used.\n",
      "\n",
      "2024-02-01 16:02:03,427 - distributed.utils_perf - WARNING - full garbage collections took 80% CPU time recently (threshold: 10%)\n",
      "2024-02-01 16:02:03,526 - distributed.utils_perf - WARNING - full garbage collections took 80% CPU time recently (threshold: 10%)\n",
      "[16:02:09] task [xgboost.dask-0]:tcp://127.0.0.1:40795 got new rank 0\n",
      "[16:02:15] WARNING: /workspace/src/learner.cc:742: \n",
      "Parameters: { \"predictor\" } are not used.\n",
      "\n",
      "2024-02-01 16:02:16,044 - distributed.utils_perf - WARNING - full garbage collections took 80% CPU time recently (threshold: 10%)\n",
      "2024-02-01 16:02:16,144 - distributed.utils_perf - WARNING - full garbage collections took 80% CPU time recently (threshold: 10%)\n",
      "[16:02:21] task [xgboost.dask-0]:tcp://127.0.0.1:40795 got new rank 0\n",
      "[16:02:27] WARNING: /workspace/src/learner.cc:742: \n",
      "Parameters: { \"predictor\" } are not used.\n",
      "\n",
      "2024-02-01 16:02:28,702 - distributed.utils_perf - WARNING - full garbage collections took 80% CPU time recently (threshold: 10%)\n",
      "2024-02-01 16:02:28,803 - distributed.utils_perf - WARNING - full garbage collections took 80% CPU time recently (threshold: 10%)\n",
      "[16:02:34] task [xgboost.dask-0]:tcp://127.0.0.1:40795 got new rank 0\n",
      "[16:02:40] WARNING: /workspace/src/learner.cc:742: \n",
      "Parameters: { \"predictor\" } are not used.\n",
      "\n",
      "2024-02-01 16:02:41,271 - distributed.utils_perf - WARNING - full garbage collections took 80% CPU time recently (threshold: 10%)\n",
      "2024-02-01 16:02:41,367 - distributed.utils_perf - WARNING - full garbage collections took 80% CPU time recently (threshold: 10%)\n",
      "[16:02:47] task [xgboost.dask-0]:tcp://127.0.0.1:40795 got new rank 0\n",
      "[16:02:55] WARNING: /workspace/src/learner.cc:742: \n",
      "Parameters: { \"predictor\" } are not used.\n",
      "\n",
      "2024-02-01 16:02:56,280 - distributed.utils_perf - WARNING - full garbage collections took 80% CPU time recently (threshold: 10%)\n",
      "2024-02-01 16:02:56,383 - distributed.utils_perf - WARNING - full garbage collections took 80% CPU time recently (threshold: 10%)\n",
      "[16:03:01] task [xgboost.dask-0]:tcp://127.0.0.1:40795 got new rank 0\n",
      "[16:03:09] WARNING: /workspace/src/learner.cc:742: \n",
      "Parameters: { \"predictor\" } are not used.\n",
      "\n",
      "2024-02-01 16:03:11,228 - distributed.utils_perf - WARNING - full garbage collections took 80% CPU time recently (threshold: 10%)\n",
      "2024-02-01 16:03:11,329 - distributed.utils_perf - WARNING - full garbage collections took 80% CPU time recently (threshold: 10%)\n",
      "[16:03:16] task [xgboost.dask-0]:tcp://127.0.0.1:40795 got new rank 0\n",
      "[16:03:23] WARNING: /workspace/src/learner.cc:742: \n",
      "Parameters: { \"predictor\" } are not used.\n",
      "\n",
      "2024-02-01 16:03:25,085 - distributed.utils_perf - WARNING - full garbage collections took 80% CPU time recently (threshold: 10%)\n",
      "2024-02-01 16:03:25,188 - distributed.utils_perf - WARNING - full garbage collections took 80% CPU time recently (threshold: 10%)\n",
      "[16:03:30] task [xgboost.dask-0]:tcp://127.0.0.1:40795 got new rank 0\n",
      "[16:03:37] WARNING: /workspace/src/learner.cc:742: \n",
      "Parameters: { \"predictor\" } are not used.\n",
      "\n",
      "2024-02-01 16:03:39,059 - distributed.utils_perf - WARNING - full garbage collections took 80% CPU time recently (threshold: 10%)\n",
      "2024-02-01 16:03:39,160 - distributed.utils_perf - WARNING - full garbage collections took 80% CPU time recently (threshold: 10%)\n",
      "[16:03:44] task [xgboost.dask-0]:tcp://127.0.0.1:40795 got new rank 0\n",
      "[16:03:52] WARNING: /workspace/src/learner.cc:742: \n",
      "Parameters: { \"predictor\" } are not used.\n",
      "\n",
      "2024-02-01 16:03:53,152 - distributed.utils_perf - WARNING - full garbage collections took 80% CPU time recently (threshold: 10%)\n",
      "2024-02-01 16:03:53,255 - distributed.utils_perf - WARNING - full garbage collections took 80% CPU time recently (threshold: 10%)\n",
      "[16:03:58] task [xgboost.dask-0]:tcp://127.0.0.1:40795 got new rank 0\n",
      "[16:04:04] WARNING: /workspace/src/learner.cc:742: \n",
      "Parameters: { \"predictor\" } are not used.\n",
      "\n",
      "2024-02-01 16:04:05,777 - distributed.utils_perf - WARNING - full garbage collections took 80% CPU time recently (threshold: 10%)\n",
      "2024-02-01 16:04:05,879 - distributed.utils_perf - WARNING - full garbage collections took 80% CPU time recently (threshold: 10%)\n",
      "[16:04:11] task [xgboost.dask-0]:tcp://127.0.0.1:40795 got new rank 0\n",
      "[16:04:17] WARNING: /workspace/src/learner.cc:742: \n",
      "Parameters: { \"predictor\" } are not used.\n",
      "\n",
      "2024-02-01 16:04:18,368 - distributed.utils_perf - WARNING - full garbage collections took 80% CPU time recently (threshold: 10%)\n",
      "2024-02-01 16:04:18,470 - distributed.utils_perf - WARNING - full garbage collections took 80% CPU time recently (threshold: 10%)\n",
      "[16:04:24] task [xgboost.dask-0]:tcp://127.0.0.1:40795 got new rank 0\n",
      "[16:04:29] WARNING: /workspace/src/learner.cc:742: \n",
      "Parameters: { \"predictor\" } are not used.\n",
      "\n",
      "2024-02-01 16:04:30,035 - distributed.utils_perf - WARNING - full garbage collections took 80% CPU time recently (threshold: 10%)\n",
      "2024-02-01 16:04:30,132 - distributed.utils_perf - WARNING - full garbage collections took 80% CPU time recently (threshold: 10%)\n",
      "[16:04:35] task [xgboost.dask-0]:tcp://127.0.0.1:40795 got new rank 0\n",
      "[16:04:40] WARNING: /workspace/src/learner.cc:742: \n",
      "Parameters: { \"predictor\" } are not used.\n",
      "\n",
      "2024-02-01 16:04:41,504 - distributed.utils_perf - WARNING - full garbage collections took 80% CPU time recently (threshold: 10%)\n",
      "2024-02-01 16:04:41,605 - distributed.utils_perf - WARNING - full garbage collections took 80% CPU time recently (threshold: 10%)\n",
      "[16:04:47] task [xgboost.dask-0]:tcp://127.0.0.1:40795 got new rank 0\n",
      "[16:04:52] WARNING: /workspace/src/learner.cc:742: \n",
      "Parameters: { \"predictor\" } are not used.\n",
      "\n",
      "2024-02-01 16:04:53,088 - distributed.utils_perf - WARNING - full garbage collections took 80% CPU time recently (threshold: 10%)\n",
      "2024-02-01 16:04:53,192 - distributed.utils_perf - WARNING - full garbage collections took 80% CPU time recently (threshold: 10%)\n",
      "[16:04:58] task [xgboost.dask-0]:tcp://127.0.0.1:40795 got new rank 0\n",
      "[16:05:06] WARNING: /workspace/src/learner.cc:742: \n",
      "Parameters: { \"predictor\" } are not used.\n",
      "\n",
      "2024-02-01 16:05:07,646 - distributed.utils_perf - WARNING - full garbage collections took 80% CPU time recently (threshold: 10%)\n",
      "2024-02-01 16:05:07,749 - distributed.utils_perf - WARNING - full garbage collections took 80% CPU time recently (threshold: 10%)\n",
      "[16:05:13] task [xgboost.dask-0]:tcp://127.0.0.1:40795 got new rank 0\n",
      "[16:05:20] WARNING: /workspace/src/learner.cc:742: \n",
      "Parameters: { \"predictor\" } are not used.\n",
      "\n",
      "2024-02-01 16:05:22,051 - distributed.utils_perf - WARNING - full garbage collections took 80% CPU time recently (threshold: 10%)\n",
      "2024-02-01 16:05:22,152 - distributed.utils_perf - WARNING - full garbage collections took 80% CPU time recently (threshold: 10%)\n",
      "[16:05:27] task [xgboost.dask-0]:tcp://127.0.0.1:40795 got new rank 0\n",
      "[16:05:34] WARNING: /workspace/src/learner.cc:742: \n",
      "Parameters: { \"predictor\" } are not used.\n",
      "\n",
      "2024-02-01 16:05:35,440 - distributed.utils_perf - WARNING - full garbage collections took 80% CPU time recently (threshold: 10%)\n",
      "2024-02-01 16:05:35,541 - distributed.utils_perf - WARNING - full garbage collections took 80% CPU time recently (threshold: 10%)\n",
      "[16:05:41] task [xgboost.dask-0]:tcp://127.0.0.1:40795 got new rank 0\n",
      "[16:05:48] WARNING: /workspace/src/learner.cc:742: \n",
      "Parameters: { \"predictor\" } are not used.\n",
      "\n",
      "2024-02-01 16:05:49,135 - distributed.utils_perf - WARNING - full garbage collections took 80% CPU time recently (threshold: 10%)\n",
      "2024-02-01 16:05:49,239 - distributed.utils_perf - WARNING - full garbage collections took 80% CPU time recently (threshold: 10%)\n",
      "[16:05:55] task [xgboost.dask-0]:tcp://127.0.0.1:40795 got new rank 0\n",
      "[16:06:01] WARNING: /workspace/src/learner.cc:742: \n",
      "Parameters: { \"predictor\" } are not used.\n",
      "\n",
      "2024-02-01 16:06:02,891 - distributed.utils_perf - WARNING - full garbage collections took 80% CPU time recently (threshold: 10%)\n",
      "2024-02-01 16:06:02,988 - distributed.utils_perf - WARNING - full garbage collections took 80% CPU time recently (threshold: 10%)\n",
      "[16:06:08] task [xgboost.dask-0]:tcp://127.0.0.1:40795 got new rank 0\n",
      "[16:06:15] WARNING: /workspace/src/learner.cc:742: \n",
      "Parameters: { \"predictor\" } are not used.\n",
      "\n",
      "2024-02-01 16:06:16,658 - distributed.utils_perf - WARNING - full garbage collections took 80% CPU time recently (threshold: 10%)\n",
      "2024-02-01 16:06:16,762 - distributed.utils_perf - WARNING - full garbage collections took 80% CPU time recently (threshold: 10%)\n",
      "[16:06:22] task [xgboost.dask-0]:tcp://127.0.0.1:40795 got new rank 0\n",
      "[16:06:29] WARNING: /workspace/src/learner.cc:742: \n",
      "Parameters: { \"predictor\" } are not used.\n",
      "\n",
      "2024-02-01 16:06:30,303 - distributed.utils_perf - WARNING - full garbage collections took 80% CPU time recently (threshold: 10%)\n",
      "2024-02-01 16:06:30,406 - distributed.utils_perf - WARNING - full garbage collections took 80% CPU time recently (threshold: 10%)\n",
      "[16:06:36] task [xgboost.dask-0]:tcp://127.0.0.1:40795 got new rank 0\n",
      "[16:06:42] WARNING: /workspace/src/learner.cc:742: \n",
      "Parameters: { \"predictor\" } are not used.\n",
      "\n",
      "2024-02-01 16:06:43,181 - distributed.utils_perf - WARNING - full garbage collections took 80% CPU time recently (threshold: 10%)\n",
      "2024-02-01 16:06:43,278 - distributed.utils_perf - WARNING - full garbage collections took 80% CPU time recently (threshold: 10%)\n",
      "[16:06:48] task [xgboost.dask-0]:tcp://127.0.0.1:40795 got new rank 0\n",
      "[16:06:54] WARNING: /workspace/src/learner.cc:742: \n",
      "Parameters: { \"predictor\" } are not used.\n",
      "\n",
      "2024-02-01 16:06:55,840 - distributed.utils_perf - WARNING - full garbage collections took 80% CPU time recently (threshold: 10%)\n",
      "2024-02-01 16:06:55,943 - distributed.utils_perf - WARNING - full garbage collections took 80% CPU time recently (threshold: 10%)\n",
      "[16:07:01] task [xgboost.dask-0]:tcp://127.0.0.1:40795 got new rank 0\n",
      "[16:07:07] WARNING: /workspace/src/learner.cc:742: \n",
      "Parameters: { \"predictor\" } are not used.\n",
      "\n",
      "2024-02-01 16:07:08,514 - distributed.utils_perf - WARNING - full garbage collections took 80% CPU time recently (threshold: 10%)\n",
      "2024-02-01 16:07:08,616 - distributed.utils_perf - WARNING - full garbage collections took 80% CPU time recently (threshold: 10%)\n",
      "[16:07:14] task [xgboost.dask-0]:tcp://127.0.0.1:40795 got new rank 0\n",
      "[16:07:20] WARNING: /workspace/src/learner.cc:742: \n",
      "Parameters: { \"predictor\" } are not used.\n",
      "\n",
      "2024-02-01 16:07:21,721 - distributed.utils_perf - WARNING - full garbage collections took 80% CPU time recently (threshold: 10%)\n",
      "2024-02-01 16:07:21,824 - distributed.utils_perf - WARNING - full garbage collections took 80% CPU time recently (threshold: 10%)\n",
      "[16:07:27] task [xgboost.dask-0]:tcp://127.0.0.1:40795 got new rank 0\n",
      "[16:07:33] WARNING: /workspace/src/learner.cc:742: \n",
      "Parameters: { \"predictor\" } are not used.\n",
      "\n",
      "2024-02-01 16:07:35,081 - distributed.utils_perf - WARNING - full garbage collections took 80% CPU time recently (threshold: 10%)\n",
      "2024-02-01 16:07:35,185 - distributed.utils_perf - WARNING - full garbage collections took 80% CPU time recently (threshold: 10%)\n",
      "[16:07:41] task [xgboost.dask-0]:tcp://127.0.0.1:40795 got new rank 0\n",
      "[16:07:46] WARNING: /workspace/src/learner.cc:742: \n",
      "Parameters: { \"predictor\" } are not used.\n",
      "\n",
      "2024-02-01 16:07:47,384 - distributed.utils_perf - WARNING - full garbage collections took 80% CPU time recently (threshold: 10%)\n",
      "2024-02-01 16:07:47,487 - distributed.utils_perf - WARNING - full garbage collections took 80% CPU time recently (threshold: 10%)\n",
      "[16:07:53] task [xgboost.dask-0]:tcp://127.0.0.1:40795 got new rank 0\n",
      "[16:07:58] WARNING: /workspace/src/learner.cc:742: \n",
      "Parameters: { \"predictor\" } are not used.\n",
      "\n",
      "2024-02-01 16:07:59,495 - distributed.utils_perf - WARNING - full garbage collections took 80% CPU time recently (threshold: 10%)\n",
      "2024-02-01 16:07:59,597 - distributed.utils_perf - WARNING - full garbage collections took 80% CPU time recently (threshold: 10%)\n",
      "[16:08:05] task [xgboost.dask-0]:tcp://127.0.0.1:40795 got new rank 0\n",
      "[16:08:10] WARNING: /workspace/src/learner.cc:742: \n",
      "Parameters: { \"predictor\" } are not used.\n",
      "\n",
      "2024-02-01 16:08:11,636 - distributed.utils_perf - WARNING - full garbage collections took 80% CPU time recently (threshold: 10%)\n",
      "2024-02-01 16:08:11,741 - distributed.utils_perf - WARNING - full garbage collections took 80% CPU time recently (threshold: 10%)\n",
      "[16:08:17] task [xgboost.dask-0]:tcp://127.0.0.1:40795 got new rank 0\n",
      "[16:08:24] WARNING: /workspace/src/learner.cc:742: \n",
      "Parameters: { \"predictor\" } are not used.\n",
      "\n",
      "2024-02-01 16:08:25,216 - distributed.utils_perf - WARNING - full garbage collections took 80% CPU time recently (threshold: 10%)\n",
      "2024-02-01 16:08:25,319 - distributed.utils_perf - WARNING - full garbage collections took 80% CPU time recently (threshold: 10%)\n",
      "[16:08:31] task [xgboost.dask-0]:tcp://127.0.0.1:40795 got new rank 0\n",
      "[16:08:37] WARNING: /workspace/src/learner.cc:742: \n",
      "Parameters: { \"predictor\" } are not used.\n",
      "\n",
      "2024-02-01 16:08:38,807 - distributed.utils_perf - WARNING - full garbage collections took 80% CPU time recently (threshold: 10%)\n",
      "2024-02-01 16:08:38,910 - distributed.utils_perf - WARNING - full garbage collections took 80% CPU time recently (threshold: 10%)\n",
      "[16:08:44] task [xgboost.dask-0]:tcp://127.0.0.1:40795 got new rank 0\n",
      "[16:08:50] WARNING: /workspace/src/learner.cc:742: \n",
      "Parameters: { \"predictor\" } are not used.\n",
      "\n",
      "2024-02-01 16:08:51,047 - distributed.utils_perf - WARNING - full garbage collections took 80% CPU time recently (threshold: 10%)\n",
      "2024-02-01 16:08:51,150 - distributed.utils_perf - WARNING - full garbage collections took 80% CPU time recently (threshold: 10%)\n",
      "[16:08:56] task [xgboost.dask-0]:tcp://127.0.0.1:40795 got new rank 0\n",
      "[16:09:02] WARNING: /workspace/src/learner.cc:742: \n",
      "Parameters: { \"predictor\" } are not used.\n",
      "\n",
      "2024-02-01 16:09:03,152 - distributed.utils_perf - WARNING - full garbage collections took 80% CPU time recently (threshold: 10%)\n",
      "2024-02-01 16:09:03,257 - distributed.utils_perf - WARNING - full garbage collections took 80% CPU time recently (threshold: 10%)\n",
      "[16:09:08] task [xgboost.dask-0]:tcp://127.0.0.1:40795 got new rank 0\n",
      "[16:09:14] WARNING: /workspace/src/learner.cc:742: \n",
      "Parameters: { \"predictor\" } are not used.\n",
      "\n",
      "2024-02-01 16:09:15,572 - distributed.utils_perf - WARNING - full garbage collections took 80% CPU time recently (threshold: 10%)\n",
      "2024-02-01 16:09:15,677 - distributed.utils_perf - WARNING - full garbage collections took 81% CPU time recently (threshold: 10%)\n",
      "[16:09:21] task [xgboost.dask-0]:tcp://127.0.0.1:40795 got new rank 0\n",
      "[16:09:30] WARNING: /workspace/src/learner.cc:742: \n",
      "Parameters: { \"predictor\" } are not used.\n",
      "\n",
      "2024-02-01 16:09:32,163 - distributed.utils_perf - WARNING - full garbage collections took 80% CPU time recently (threshold: 10%)\n",
      "2024-02-01 16:09:32,268 - distributed.utils_perf - WARNING - full garbage collections took 80% CPU time recently (threshold: 10%)\n",
      "[16:09:37] task [xgboost.dask-0]:tcp://127.0.0.1:40795 got new rank 0\n",
      "[16:09:47] WARNING: /workspace/src/learner.cc:742: \n",
      "Parameters: { \"predictor\" } are not used.\n",
      "\n",
      "2024-02-01 16:09:48,848 - distributed.utils_perf - WARNING - full garbage collections took 81% CPU time recently (threshold: 10%)\n",
      "2024-02-01 16:09:48,949 - distributed.utils_perf - WARNING - full garbage collections took 81% CPU time recently (threshold: 10%)\n",
      "[16:09:54] task [xgboost.dask-0]:tcp://127.0.0.1:40795 got new rank 0\n",
      "[16:10:03] WARNING: /workspace/src/learner.cc:742: \n",
      "Parameters: { \"predictor\" } are not used.\n",
      "\n",
      "2024-02-01 16:10:04,415 - distributed.utils_perf - WARNING - full garbage collections took 81% CPU time recently (threshold: 10%)\n",
      "2024-02-01 16:10:04,520 - distributed.utils_perf - WARNING - full garbage collections took 81% CPU time recently (threshold: 10%)\n",
      "[16:10:10] task [xgboost.dask-0]:tcp://127.0.0.1:40795 got new rank 0\n",
      "[16:10:18] WARNING: /workspace/src/learner.cc:742: \n",
      "Parameters: { \"predictor\" } are not used.\n",
      "\n",
      "2024-02-01 16:10:19,912 - distributed.utils_perf - WARNING - full garbage collections took 81% CPU time recently (threshold: 10%)\n",
      "2024-02-01 16:10:20,015 - distributed.utils_perf - WARNING - full garbage collections took 81% CPU time recently (threshold: 10%)\n",
      "[16:10:25] task [xgboost.dask-0]:tcp://127.0.0.1:40795 got new rank 0\n",
      "[16:10:34] WARNING: /workspace/src/learner.cc:742: \n",
      "Parameters: { \"predictor\" } are not used.\n",
      "\n",
      "2024-02-01 16:10:35,496 - distributed.utils_perf - WARNING - full garbage collections took 81% CPU time recently (threshold: 10%)\n",
      "2024-02-01 16:10:35,601 - distributed.utils_perf - WARNING - full garbage collections took 81% CPU time recently (threshold: 10%)\n",
      "[16:10:41] task [xgboost.dask-0]:tcp://127.0.0.1:40795 got new rank 0\n",
      "[16:10:48] WARNING: /workspace/src/learner.cc:742: \n",
      "Parameters: { \"predictor\" } are not used.\n",
      "\n",
      "2024-02-01 16:10:49,246 - distributed.utils_perf - WARNING - full garbage collections took 81% CPU time recently (threshold: 10%)\n",
      "2024-02-01 16:10:49,352 - distributed.utils_perf - WARNING - full garbage collections took 81% CPU time recently (threshold: 10%)\n",
      "[16:10:55] task [xgboost.dask-0]:tcp://127.0.0.1:40795 got new rank 0\n",
      "[16:11:02] WARNING: /workspace/src/learner.cc:742: \n",
      "Parameters: { \"predictor\" } are not used.\n",
      "\n",
      "2024-02-01 16:11:03,206 - distributed.utils_perf - WARNING - full garbage collections took 81% CPU time recently (threshold: 10%)\n",
      "2024-02-01 16:11:03,304 - distributed.utils_perf - WARNING - full garbage collections took 81% CPU time recently (threshold: 10%)\n",
      "[16:11:09] task [xgboost.dask-0]:tcp://127.0.0.1:40795 got new rank 0\n",
      "[16:11:15] WARNING: /workspace/src/learner.cc:742: \n",
      "Parameters: { \"predictor\" } are not used.\n",
      "\n",
      "2024-02-01 16:11:16,236 - distributed.utils_perf - WARNING - full garbage collections took 81% CPU time recently (threshold: 10%)\n",
      "2024-02-01 16:11:16,340 - distributed.utils_perf - WARNING - full garbage collections took 81% CPU time recently (threshold: 10%)\n",
      "[16:11:21] task [xgboost.dask-0]:tcp://127.0.0.1:40795 got new rank 0\n",
      "[16:11:28] WARNING: /workspace/src/learner.cc:742: \n",
      "Parameters: { \"predictor\" } are not used.\n",
      "\n",
      "2024-02-01 16:11:29,064 - distributed.utils_perf - WARNING - full garbage collections took 81% CPU time recently (threshold: 10%)\n",
      "2024-02-01 16:11:29,168 - distributed.utils_perf - WARNING - full garbage collections took 81% CPU time recently (threshold: 10%)\n",
      "[16:11:34] task [xgboost.dask-0]:tcp://127.0.0.1:40795 got new rank 0\n",
      "[16:11:40] WARNING: /workspace/src/learner.cc:742: \n",
      "Parameters: { \"predictor\" } are not used.\n",
      "\n",
      "2024-02-01 16:11:41,891 - distributed.utils_perf - WARNING - full garbage collections took 81% CPU time recently (threshold: 10%)\n",
      "2024-02-01 16:11:41,994 - distributed.utils_perf - WARNING - full garbage collections took 81% CPU time recently (threshold: 10%)\n",
      "[16:11:47] task [xgboost.dask-0]:tcp://127.0.0.1:40795 got new rank 0\n",
      "[16:11:55] WARNING: /workspace/src/learner.cc:742: \n",
      "Parameters: { \"predictor\" } are not used.\n",
      "\n",
      "2024-02-01 16:11:56,309 - distributed.utils_perf - WARNING - full garbage collections took 81% CPU time recently (threshold: 10%)\n",
      "2024-02-01 16:11:56,413 - distributed.utils_perf - WARNING - full garbage collections took 81% CPU time recently (threshold: 10%)\n",
      "[16:12:02] task [xgboost.dask-0]:tcp://127.0.0.1:40795 got new rank 0\n",
      "[16:12:09] WARNING: /workspace/src/learner.cc:742: \n",
      "Parameters: { \"predictor\" } are not used.\n",
      "\n",
      "2024-02-01 16:12:10,344 - distributed.utils_perf - WARNING - full garbage collections took 81% CPU time recently (threshold: 10%)\n",
      "2024-02-01 16:12:10,447 - distributed.utils_perf - WARNING - full garbage collections took 81% CPU time recently (threshold: 10%)\n",
      "[16:12:16] task [xgboost.dask-0]:tcp://127.0.0.1:40795 got new rank 0\n",
      "[16:12:22] WARNING: /workspace/src/learner.cc:742: \n",
      "Parameters: { \"predictor\" } are not used.\n",
      "\n",
      "2024-02-01 16:12:23,351 - distributed.utils_perf - WARNING - full garbage collections took 81% CPU time recently (threshold: 10%)\n",
      "2024-02-01 16:12:23,457 - distributed.utils_perf - WARNING - full garbage collections took 81% CPU time recently (threshold: 10%)\n",
      "[16:12:28] task [xgboost.dask-0]:tcp://127.0.0.1:40795 got new rank 0\n",
      "[16:12:35] WARNING: /workspace/src/learner.cc:742: \n",
      "Parameters: { \"predictor\" } are not used.\n",
      "\n",
      "2024-02-01 16:12:36,400 - distributed.utils_perf - WARNING - full garbage collections took 81% CPU time recently (threshold: 10%)\n",
      "2024-02-01 16:12:36,505 - distributed.utils_perf - WARNING - full garbage collections took 81% CPU time recently (threshold: 10%)\n",
      "[16:12:42] task [xgboost.dask-0]:tcp://127.0.0.1:40795 got new rank 0\n",
      "[16:12:48] WARNING: /workspace/src/learner.cc:742: \n",
      "Parameters: { \"predictor\" } are not used.\n",
      "\n",
      "2024-02-01 16:12:49,550 - distributed.utils_perf - WARNING - full garbage collections took 81% CPU time recently (threshold: 10%)\n",
      "2024-02-01 16:12:49,654 - distributed.utils_perf - WARNING - full garbage collections took 81% CPU time recently (threshold: 10%)\n",
      "[16:12:55] task [xgboost.dask-0]:tcp://127.0.0.1:40795 got new rank 0\n",
      "[16:13:02] WARNING: /workspace/src/learner.cc:742: \n",
      "Parameters: { \"predictor\" } are not used.\n",
      "\n",
      "2024-02-01 16:13:03,611 - distributed.utils_perf - WARNING - full garbage collections took 81% CPU time recently (threshold: 10%)\n",
      "2024-02-01 16:13:03,720 - distributed.utils_perf - WARNING - full garbage collections took 81% CPU time recently (threshold: 10%)\n",
      "[16:13:09] task [xgboost.dask-0]:tcp://127.0.0.1:40795 got new rank 0\n",
      "[16:13:16] WARNING: /workspace/src/learner.cc:742: \n",
      "Parameters: { \"predictor\" } are not used.\n",
      "\n",
      "2024-02-01 16:13:17,347 - distributed.utils_perf - WARNING - full garbage collections took 81% CPU time recently (threshold: 10%)\n",
      "2024-02-01 16:13:17,452 - distributed.utils_perf - WARNING - full garbage collections took 81% CPU time recently (threshold: 10%)\n",
      "[16:13:23] task [xgboost.dask-0]:tcp://127.0.0.1:40795 got new rank 0\n",
      "[16:13:29] WARNING: /workspace/src/learner.cc:742: \n",
      "Parameters: { \"predictor\" } are not used.\n",
      "\n",
      "2024-02-01 16:13:30,408 - distributed.utils_perf - WARNING - full garbage collections took 81% CPU time recently (threshold: 10%)\n",
      "2024-02-01 16:13:30,507 - distributed.utils_perf - WARNING - full garbage collections took 80% CPU time recently (threshold: 10%)\n",
      "[16:13:36] task [xgboost.dask-0]:tcp://127.0.0.1:40795 got new rank 0\n",
      "[16:13:42] WARNING: /workspace/src/learner.cc:742: \n",
      "Parameters: { \"predictor\" } are not used.\n",
      "\n",
      "2024-02-01 16:13:43,201 - distributed.utils_perf - WARNING - full garbage collections took 81% CPU time recently (threshold: 10%)\n",
      "2024-02-01 16:13:43,307 - distributed.utils_perf - WARNING - full garbage collections took 81% CPU time recently (threshold: 10%)\n",
      "[16:13:48] task [xgboost.dask-0]:tcp://127.0.0.1:40795 got new rank 0\n",
      "[16:13:54] WARNING: /workspace/src/learner.cc:742: \n",
      "Parameters: { \"predictor\" } are not used.\n",
      "\n",
      "2024-02-01 16:13:55,867 - distributed.utils_perf - WARNING - full garbage collections took 81% CPU time recently (threshold: 10%)\n",
      "2024-02-01 16:13:55,972 - distributed.utils_perf - WARNING - full garbage collections took 81% CPU time recently (threshold: 10%)\n",
      "[16:14:01] task [xgboost.dask-0]:tcp://127.0.0.1:40795 got new rank 0\n",
      "[16:14:08] WARNING: /workspace/src/learner.cc:742: \n",
      "Parameters: { \"predictor\" } are not used.\n",
      "\n",
      "2024-02-01 16:14:09,417 - distributed.utils_perf - WARNING - full garbage collections took 81% CPU time recently (threshold: 10%)\n",
      "2024-02-01 16:14:09,523 - distributed.utils_perf - WARNING - full garbage collections took 81% CPU time recently (threshold: 10%)\n",
      "[16:14:15] task [xgboost.dask-0]:tcp://127.0.0.1:40795 got new rank 0\n",
      "[16:14:21] WARNING: /workspace/src/learner.cc:742: \n",
      "Parameters: { \"predictor\" } are not used.\n",
      "\n",
      "2024-02-01 16:14:22,864 - distributed.utils_perf - WARNING - full garbage collections took 81% CPU time recently (threshold: 10%)\n",
      "2024-02-01 16:14:22,963 - distributed.utils_perf - WARNING - full garbage collections took 81% CPU time recently (threshold: 10%)\n",
      "[16:14:28] task [xgboost.dask-0]:tcp://127.0.0.1:40795 got new rank 0\n",
      "[16:14:34] WARNING: /workspace/src/learner.cc:742: \n",
      "Parameters: { \"predictor\" } are not used.\n",
      "\n",
      "2024-02-01 16:14:35,183 - distributed.utils_perf - WARNING - full garbage collections took 81% CPU time recently (threshold: 10%)\n",
      "2024-02-01 16:14:35,289 - distributed.utils_perf - WARNING - full garbage collections took 81% CPU time recently (threshold: 10%)\n",
      "[16:14:40] task [xgboost.dask-0]:tcp://127.0.0.1:40795 got new rank 0\n",
      "[16:14:46] WARNING: /workspace/src/learner.cc:742: \n",
      "Parameters: { \"predictor\" } are not used.\n",
      "\n",
      "2024-02-01 16:14:47,588 - distributed.utils_perf - WARNING - full garbage collections took 81% CPU time recently (threshold: 10%)\n",
      "2024-02-01 16:14:47,696 - distributed.utils_perf - WARNING - full garbage collections took 81% CPU time recently (threshold: 10%)\n",
      "[16:14:53] task [xgboost.dask-0]:tcp://127.0.0.1:40795 got new rank 0\n",
      "[16:14:59] WARNING: /workspace/src/learner.cc:742: \n",
      "Parameters: { \"predictor\" } are not used.\n",
      "\n",
      "2024-02-01 16:15:00,158 - distributed.utils_perf - WARNING - full garbage collections took 81% CPU time recently (threshold: 10%)\n",
      "2024-02-01 16:15:00,261 - distributed.utils_perf - WARNING - full garbage collections took 81% CPU time recently (threshold: 10%)\n",
      "[16:15:06] task [xgboost.dask-0]:tcp://127.0.0.1:40795 got new rank 0\n",
      "[16:15:12] WARNING: /workspace/src/learner.cc:742: \n",
      "Parameters: { \"predictor\" } are not used.\n",
      "\n",
      "2024-02-01 16:15:13,311 - distributed.utils_perf - WARNING - full garbage collections took 81% CPU time recently (threshold: 10%)\n",
      "2024-02-01 16:15:13,410 - distributed.utils_perf - WARNING - full garbage collections took 81% CPU time recently (threshold: 10%)\n",
      "[16:15:19] task [xgboost.dask-0]:tcp://127.0.0.1:40795 got new rank 0\n",
      "[16:15:25] WARNING: /workspace/src/learner.cc:742: \n",
      "Parameters: { \"predictor\" } are not used.\n",
      "\n",
      "2024-02-01 16:15:26,819 - distributed.utils_perf - WARNING - full garbage collections took 81% CPU time recently (threshold: 10%)\n",
      "2024-02-01 16:15:26,926 - distributed.utils_perf - WARNING - full garbage collections took 81% CPU time recently (threshold: 10%)\n",
      "[16:15:32] task [xgboost.dask-0]:tcp://127.0.0.1:40795 got new rank 0\n",
      "[16:15:37] WARNING: /workspace/src/learner.cc:742: \n",
      "Parameters: { \"predictor\" } are not used.\n",
      "\n",
      "2024-02-01 16:15:38,896 - distributed.utils_perf - WARNING - full garbage collections took 81% CPU time recently (threshold: 10%)\n",
      "2024-02-01 16:15:39,001 - distributed.utils_perf - WARNING - full garbage collections took 81% CPU time recently (threshold: 10%)\n",
      "[16:15:44] task [xgboost.dask-0]:tcp://127.0.0.1:40795 got new rank 0\n",
      "[16:15:50] WARNING: /workspace/src/learner.cc:742: \n",
      "Parameters: { \"predictor\" } are not used.\n",
      "\n",
      "2024-02-01 16:15:51,065 - distributed.utils_perf - WARNING - full garbage collections took 81% CPU time recently (threshold: 10%)\n",
      "2024-02-01 16:15:51,171 - distributed.utils_perf - WARNING - full garbage collections took 81% CPU time recently (threshold: 10%)\n",
      "[16:15:56] task [xgboost.dask-0]:tcp://127.0.0.1:40795 got new rank 0\n",
      "[16:16:02] WARNING: /workspace/src/learner.cc:742: \n",
      "Parameters: { \"predictor\" } are not used.\n",
      "\n",
      "2024-02-01 16:16:03,251 - distributed.utils_perf - WARNING - full garbage collections took 81% CPU time recently (threshold: 10%)\n",
      "2024-02-01 16:16:03,357 - distributed.utils_perf - WARNING - full garbage collections took 81% CPU time recently (threshold: 10%)\n",
      "[16:16:09] task [xgboost.dask-0]:tcp://127.0.0.1:40795 got new rank 0\n",
      "[16:16:16] WARNING: /workspace/src/learner.cc:742: \n",
      "Parameters: { \"predictor\" } are not used.\n",
      "\n",
      "2024-02-01 16:16:18,044 - distributed.utils_perf - WARNING - full garbage collections took 81% CPU time recently (threshold: 10%)\n",
      "2024-02-01 16:16:18,149 - distributed.utils_perf - WARNING - full garbage collections took 81% CPU time recently (threshold: 10%)\n",
      "[16:16:23] task [xgboost.dask-0]:tcp://127.0.0.1:40795 got new rank 0\n",
      "[16:16:31] WARNING: /workspace/src/learner.cc:742: \n",
      "Parameters: { \"predictor\" } are not used.\n",
      "\n",
      "2024-02-01 16:16:32,813 - distributed.utils_perf - WARNING - full garbage collections took 81% CPU time recently (threshold: 10%)\n",
      "2024-02-01 16:16:32,918 - distributed.utils_perf - WARNING - full garbage collections took 81% CPU time recently (threshold: 10%)\n",
      "[16:16:38] task [xgboost.dask-0]:tcp://127.0.0.1:40795 got new rank 0\n",
      "[16:16:52] task [xgboost.dask-0]:tcp://127.0.0.1:40795 got new rank 0\n",
      "[16:16:59] WARNING: /workspace/src/learner.cc:742: \n",
      "Parameters: { \"predictor\" } are not used.\n",
      "\n",
      "2024-02-01 16:17:00,639 - distributed.utils_perf - WARNING - full garbage collections took 81% CPU time recently (threshold: 10%)\n",
      "2024-02-01 16:17:00,747 - distributed.utils_perf - WARNING - full garbage collections took 81% CPU time recently (threshold: 10%)\n",
      "[16:17:06] task [xgboost.dask-0]:tcp://127.0.0.1:40795 got new rank 0\n",
      "[16:17:13] WARNING: /workspace/src/learner.cc:742: \n",
      "Parameters: { \"predictor\" } are not used.\n",
      "\n",
      "2024-02-01 16:17:14,474 - distributed.utils_perf - WARNING - full garbage collections took 81% CPU time recently (threshold: 10%)\n",
      "2024-02-01 16:17:14,579 - distributed.utils_perf - WARNING - full garbage collections took 81% CPU time recently (threshold: 10%)\n",
      "[16:17:20] task [xgboost.dask-0]:tcp://127.0.0.1:40795 got new rank 0\n",
      "[16:17:27] WARNING: /workspace/src/learner.cc:742: \n",
      "Parameters: { \"predictor\" } are not used.\n",
      "\n",
      "2024-02-01 16:17:28,287 - distributed.utils_perf - WARNING - full garbage collections took 81% CPU time recently (threshold: 10%)\n",
      "2024-02-01 16:17:28,388 - distributed.utils_perf - WARNING - full garbage collections took 81% CPU time recently (threshold: 10%)\n",
      "[16:17:33] task [xgboost.dask-0]:tcp://127.0.0.1:40795 got new rank 0\n",
      "[16:17:40] WARNING: /workspace/src/learner.cc:742: \n",
      "Parameters: { \"predictor\" } are not used.\n",
      "\n",
      "2024-02-01 16:17:41,988 - distributed.utils_perf - WARNING - full garbage collections took 81% CPU time recently (threshold: 10%)\n",
      "2024-02-01 16:17:42,090 - distributed.utils_perf - WARNING - full garbage collections took 81% CPU time recently (threshold: 10%)\n",
      "[16:17:47] task [xgboost.dask-0]:tcp://127.0.0.1:40795 got new rank 0\n",
      "[16:17:53] WARNING: /workspace/src/learner.cc:742: \n",
      "Parameters: { \"predictor\" } are not used.\n",
      "\n",
      "2024-02-01 16:17:54,975 - distributed.utils_perf - WARNING - full garbage collections took 81% CPU time recently (threshold: 10%)\n",
      "2024-02-01 16:17:55,075 - distributed.utils_perf - WARNING - full garbage collections took 81% CPU time recently (threshold: 10%)\n",
      "[16:18:00] task [xgboost.dask-0]:tcp://127.0.0.1:40795 got new rank 0\n",
      "[16:18:06] WARNING: /workspace/src/learner.cc:742: \n",
      "Parameters: { \"predictor\" } are not used.\n",
      "\n",
      "2024-02-01 16:18:07,751 - distributed.utils_perf - WARNING - full garbage collections took 81% CPU time recently (threshold: 10%)\n",
      "2024-02-01 16:18:07,851 - distributed.utils_perf - WARNING - full garbage collections took 81% CPU time recently (threshold: 10%)\n",
      "[16:18:13] task [xgboost.dask-0]:tcp://127.0.0.1:40795 got new rank 0\n",
      "[16:18:19] WARNING: /workspace/src/learner.cc:742: \n",
      "Parameters: { \"predictor\" } are not used.\n",
      "\n",
      "2024-02-01 16:18:20,670 - distributed.utils_perf - WARNING - full garbage collections took 81% CPU time recently (threshold: 10%)\n",
      "2024-02-01 16:18:20,777 - distributed.utils_perf - WARNING - full garbage collections took 81% CPU time recently (threshold: 10%)\n",
      "[16:18:26] task [xgboost.dask-0]:tcp://127.0.0.1:40795 got new rank 0\n",
      "[16:18:32] WARNING: /workspace/src/learner.cc:742: \n",
      "Parameters: { \"predictor\" } are not used.\n",
      "\n",
      "2024-02-01 16:18:33,343 - distributed.utils_perf - WARNING - full garbage collections took 81% CPU time recently (threshold: 10%)\n",
      "2024-02-01 16:18:33,444 - distributed.utils_perf - WARNING - full garbage collections took 81% CPU time recently (threshold: 10%)\n",
      "[16:18:39] task [xgboost.dask-0]:tcp://127.0.0.1:40795 got new rank 0\n",
      "[16:18:45] WARNING: /workspace/src/learner.cc:742: \n",
      "Parameters: { \"predictor\" } are not used.\n",
      "\n",
      "2024-02-01 16:18:46,339 - distributed.utils_perf - WARNING - full garbage collections took 81% CPU time recently (threshold: 10%)\n",
      "2024-02-01 16:18:46,440 - distributed.utils_perf - WARNING - full garbage collections took 81% CPU time recently (threshold: 10%)\n",
      "[16:18:52] task [xgboost.dask-0]:tcp://127.0.0.1:40795 got new rank 0\n",
      "[16:18:57] WARNING: /workspace/src/learner.cc:742: \n",
      "Parameters: { \"predictor\" } are not used.\n",
      "\n",
      "2024-02-01 16:18:58,280 - distributed.utils_perf - WARNING - full garbage collections took 81% CPU time recently (threshold: 10%)\n",
      "2024-02-01 16:18:58,384 - distributed.utils_perf - WARNING - full garbage collections took 81% CPU time recently (threshold: 10%)\n",
      "[16:19:03] task [xgboost.dask-0]:tcp://127.0.0.1:40795 got new rank 0\n",
      "[16:19:09] WARNING: /workspace/src/learner.cc:742: \n",
      "Parameters: { \"predictor\" } are not used.\n",
      "\n",
      "2024-02-01 16:19:09,952 - distributed.utils_perf - WARNING - full garbage collections took 81% CPU time recently (threshold: 10%)\n",
      "2024-02-01 16:19:10,052 - distributed.utils_perf - WARNING - full garbage collections took 81% CPU time recently (threshold: 10%)\n",
      "[16:19:15] task [xgboost.dask-0]:tcp://127.0.0.1:40795 got new rank 0\n",
      "[16:19:20] WARNING: /workspace/src/learner.cc:742: \n",
      "Parameters: { \"predictor\" } are not used.\n",
      "\n",
      "2024-02-01 16:19:21,522 - distributed.utils_perf - WARNING - full garbage collections took 81% CPU time recently (threshold: 10%)\n",
      "2024-02-01 16:19:21,622 - distributed.utils_perf - WARNING - full garbage collections took 81% CPU time recently (threshold: 10%)\n",
      "[16:19:27] task [xgboost.dask-0]:tcp://127.0.0.1:40795 got new rank 0\n",
      "[16:19:33] WARNING: /workspace/src/learner.cc:742: \n",
      "Parameters: { \"predictor\" } are not used.\n",
      "\n",
      "2024-02-01 16:19:35,022 - distributed.utils_perf - WARNING - full garbage collections took 81% CPU time recently (threshold: 10%)\n",
      "2024-02-01 16:19:35,125 - distributed.utils_perf - WARNING - full garbage collections took 81% CPU time recently (threshold: 10%)\n",
      "[16:19:40] task [xgboost.dask-0]:tcp://127.0.0.1:40795 got new rank 0\n",
      "[16:19:47] WARNING: /workspace/src/learner.cc:742: \n",
      "Parameters: { \"predictor\" } are not used.\n",
      "\n",
      "2024-02-01 16:19:48,779 - distributed.utils_perf - WARNING - full garbage collections took 81% CPU time recently (threshold: 10%)\n",
      "2024-02-01 16:19:48,882 - distributed.utils_perf - WARNING - full garbage collections took 81% CPU time recently (threshold: 10%)\n",
      "[16:19:54] task [xgboost.dask-0]:tcp://127.0.0.1:40795 got new rank 0\n",
      "[16:20:00] WARNING: /workspace/src/learner.cc:742: \n",
      "Parameters: { \"predictor\" } are not used.\n",
      "\n",
      "2024-02-01 16:20:01,585 - distributed.utils_perf - WARNING - full garbage collections took 81% CPU time recently (threshold: 10%)\n",
      "2024-02-01 16:20:01,693 - distributed.utils_perf - WARNING - full garbage collections took 81% CPU time recently (threshold: 10%)\n",
      "[16:20:07] task [xgboost.dask-0]:tcp://127.0.0.1:40795 got new rank 0\n",
      "[16:20:13] WARNING: /workspace/src/learner.cc:742: \n",
      "Parameters: { \"predictor\" } are not used.\n",
      "\n",
      "2024-02-01 16:20:14,044 - distributed.utils_perf - WARNING - full garbage collections took 81% CPU time recently (threshold: 10%)\n",
      "2024-02-01 16:20:14,146 - distributed.utils_perf - WARNING - full garbage collections took 81% CPU time recently (threshold: 10%)\n",
      "[16:20:20] task [xgboost.dask-0]:tcp://127.0.0.1:40795 got new rank 0\n",
      "[16:20:25] WARNING: /workspace/src/learner.cc:742: \n",
      "Parameters: { \"predictor\" } are not used.\n",
      "\n",
      "2024-02-01 16:20:26,903 - distributed.utils_perf - WARNING - full garbage collections took 81% CPU time recently (threshold: 10%)\n",
      "2024-02-01 16:20:27,005 - distributed.utils_perf - WARNING - full garbage collections took 81% CPU time recently (threshold: 10%)\n",
      "[16:20:32] task [xgboost.dask-0]:tcp://127.0.0.1:40795 got new rank 0\n",
      "[16:20:39] WARNING: /workspace/src/learner.cc:742: \n",
      "Parameters: { \"predictor\" } are not used.\n",
      "\n",
      "2024-02-01 16:20:40,929 - distributed.utils_perf - WARNING - full garbage collections took 81% CPU time recently (threshold: 10%)\n",
      "2024-02-01 16:20:41,031 - distributed.utils_perf - WARNING - full garbage collections took 81% CPU time recently (threshold: 10%)\n",
      "[16:20:46] task [xgboost.dask-0]:tcp://127.0.0.1:40795 got new rank 0\n",
      "[16:21:00] task [xgboost.dask-0]:tcp://127.0.0.1:40795 got new rank 0\n",
      "[16:21:06] WARNING: /workspace/src/learner.cc:742: \n",
      "Parameters: { \"predictor\" } are not used.\n",
      "\n",
      "2024-02-01 16:21:07,383 - distributed.utils_perf - WARNING - full garbage collections took 81% CPU time recently (threshold: 10%)\n",
      "2024-02-01 16:21:07,489 - distributed.utils_perf - WARNING - full garbage collections took 81% CPU time recently (threshold: 10%)\n",
      "[16:21:13] task [xgboost.dask-0]:tcp://127.0.0.1:40795 got new rank 0\n",
      "[16:21:19] WARNING: /workspace/src/learner.cc:742: \n",
      "Parameters: { \"predictor\" } are not used.\n",
      "\n",
      "2024-02-01 16:21:20,134 - distributed.utils_perf - WARNING - full garbage collections took 81% CPU time recently (threshold: 10%)\n",
      "2024-02-01 16:21:20,241 - distributed.utils_perf - WARNING - full garbage collections took 81% CPU time recently (threshold: 10%)\n",
      "[16:21:26] task [xgboost.dask-0]:tcp://127.0.0.1:40795 got new rank 0\n",
      "[16:21:32] WARNING: /workspace/src/learner.cc:742: \n",
      "Parameters: { \"predictor\" } are not used.\n",
      "\n",
      "2024-02-01 16:21:33,186 - distributed.utils_perf - WARNING - full garbage collections took 81% CPU time recently (threshold: 10%)\n",
      "2024-02-01 16:21:33,291 - distributed.utils_perf - WARNING - full garbage collections took 81% CPU time recently (threshold: 10%)\n",
      "[16:21:39] task [xgboost.dask-0]:tcp://127.0.0.1:40795 got new rank 0\n",
      "[16:21:45] WARNING: /workspace/src/learner.cc:742: \n",
      "Parameters: { \"predictor\" } are not used.\n",
      "\n",
      "2024-02-01 16:21:46,995 - distributed.utils_perf - WARNING - full garbage collections took 81% CPU time recently (threshold: 10%)\n",
      "2024-02-01 16:21:47,098 - distributed.utils_perf - WARNING - full garbage collections took 81% CPU time recently (threshold: 10%)\n",
      "[16:21:52] task [xgboost.dask-0]:tcp://127.0.0.1:40795 got new rank 0\n",
      "[16:21:59] WARNING: /workspace/src/learner.cc:742: \n",
      "Parameters: { \"predictor\" } are not used.\n",
      "\n",
      "2024-02-01 16:22:00,611 - distributed.utils_perf - WARNING - full garbage collections took 81% CPU time recently (threshold: 10%)\n",
      "2024-02-01 16:22:00,717 - distributed.utils_perf - WARNING - full garbage collections took 81% CPU time recently (threshold: 10%)\n",
      "[16:22:06] task [xgboost.dask-0]:tcp://127.0.0.1:40795 got new rank 0\n",
      "[16:22:12] WARNING: /workspace/src/learner.cc:742: \n",
      "Parameters: { \"predictor\" } are not used.\n",
      "\n",
      "2024-02-01 16:22:13,511 - distributed.utils_perf - WARNING - full garbage collections took 81% CPU time recently (threshold: 10%)\n",
      "2024-02-01 16:22:13,614 - distributed.utils_perf - WARNING - full garbage collections took 81% CPU time recently (threshold: 10%)\n",
      "[16:22:19] task [xgboost.dask-0]:tcp://127.0.0.1:40795 got new rank 0\n",
      "[16:22:25] WARNING: /workspace/src/learner.cc:742: \n",
      "Parameters: { \"predictor\" } are not used.\n",
      "\n",
      "2024-02-01 16:22:26,652 - distributed.utils_perf - WARNING - full garbage collections took 81% CPU time recently (threshold: 10%)\n",
      "2024-02-01 16:22:26,758 - distributed.utils_perf - WARNING - full garbage collections took 81% CPU time recently (threshold: 10%)\n",
      "[16:22:32] task [xgboost.dask-0]:tcp://127.0.0.1:40795 got new rank 0\n",
      "[16:22:38] WARNING: /workspace/src/learner.cc:742: \n",
      "Parameters: { \"predictor\" } are not used.\n",
      "\n",
      "2024-02-01 16:22:39,443 - distributed.utils_perf - WARNING - full garbage collections took 81% CPU time recently (threshold: 10%)\n",
      "2024-02-01 16:22:39,551 - distributed.utils_perf - WARNING - full garbage collections took 81% CPU time recently (threshold: 10%)\n",
      "[16:22:45] task [xgboost.dask-0]:tcp://127.0.0.1:40795 got new rank 0\n",
      "[16:22:51] WARNING: /workspace/src/learner.cc:742: \n",
      "Parameters: { \"predictor\" } are not used.\n",
      "\n",
      "2024-02-01 16:22:52,469 - distributed.utils_perf - WARNING - full garbage collections took 81% CPU time recently (threshold: 10%)\n",
      "2024-02-01 16:22:52,576 - distributed.utils_perf - WARNING - full garbage collections took 81% CPU time recently (threshold: 10%)\n",
      "[16:22:58] task [xgboost.dask-0]:tcp://127.0.0.1:40795 got new rank 0\n",
      "[16:23:04] WARNING: /workspace/src/learner.cc:742: \n",
      "Parameters: { \"predictor\" } are not used.\n",
      "\n",
      "2024-02-01 16:23:05,427 - distributed.utils_perf - WARNING - full garbage collections took 81% CPU time recently (threshold: 10%)\n",
      "2024-02-01 16:23:05,534 - distributed.utils_perf - WARNING - full garbage collections took 81% CPU time recently (threshold: 10%)\n",
      "[16:23:11] task [xgboost.dask-0]:tcp://127.0.0.1:40795 got new rank 0\n",
      "[16:23:16] WARNING: /workspace/src/learner.cc:742: \n",
      "Parameters: { \"predictor\" } are not used.\n",
      "\n",
      "2024-02-01 16:23:17,585 - distributed.utils_perf - WARNING - full garbage collections took 81% CPU time recently (threshold: 10%)\n",
      "2024-02-01 16:23:17,695 - distributed.utils_perf - WARNING - full garbage collections took 81% CPU time recently (threshold: 10%)\n",
      "[16:23:23] task [xgboost.dask-0]:tcp://127.0.0.1:40795 got new rank 0\n",
      "[16:23:29] WARNING: /workspace/src/learner.cc:742: \n",
      "Parameters: { \"predictor\" } are not used.\n",
      "\n",
      "2024-02-01 16:23:29,935 - distributed.utils_perf - WARNING - full garbage collections took 81% CPU time recently (threshold: 10%)\n",
      "2024-02-01 16:23:30,042 - distributed.utils_perf - WARNING - full garbage collections took 81% CPU time recently (threshold: 10%)\n",
      "[16:23:35] task [xgboost.dask-0]:tcp://127.0.0.1:40795 got new rank 0\n",
      "[16:23:41] WARNING: /workspace/src/learner.cc:742: \n",
      "Parameters: { \"predictor\" } are not used.\n",
      "\n",
      "2024-02-01 16:23:42,263 - distributed.utils_perf - WARNING - full garbage collections took 81% CPU time recently (threshold: 10%)\n",
      "2024-02-01 16:23:42,372 - distributed.utils_perf - WARNING - full garbage collections took 81% CPU time recently (threshold: 10%)\n",
      "[16:23:48] task [xgboost.dask-0]:tcp://127.0.0.1:40795 got new rank 0\n",
      "[16:23:56] WARNING: /workspace/src/learner.cc:742: \n",
      "Parameters: { \"predictor\" } are not used.\n",
      "\n",
      "2024-02-01 16:23:57,275 - distributed.utils_perf - WARNING - full garbage collections took 81% CPU time recently (threshold: 10%)\n",
      "2024-02-01 16:23:57,381 - distributed.utils_perf - WARNING - full garbage collections took 81% CPU time recently (threshold: 10%)\n",
      "[16:24:03] task [xgboost.dask-0]:tcp://127.0.0.1:40795 got new rank 0\n",
      "[16:24:10] WARNING: /workspace/src/learner.cc:742: \n",
      "Parameters: { \"predictor\" } are not used.\n",
      "\n",
      "2024-02-01 16:24:11,816 - distributed.utils_perf - WARNING - full garbage collections took 81% CPU time recently (threshold: 10%)\n",
      "2024-02-01 16:24:11,925 - distributed.utils_perf - WARNING - full garbage collections took 81% CPU time recently (threshold: 10%)\n",
      "[16:24:17] task [xgboost.dask-0]:tcp://127.0.0.1:40795 got new rank 0\n",
      "[16:24:24] WARNING: /workspace/src/learner.cc:742: \n",
      "Parameters: { \"predictor\" } are not used.\n",
      "\n",
      "2024-02-01 16:24:25,529 - distributed.utils_perf - WARNING - full garbage collections took 81% CPU time recently (threshold: 10%)\n",
      "2024-02-01 16:24:25,632 - distributed.utils_perf - WARNING - full garbage collections took 81% CPU time recently (threshold: 10%)\n",
      "[16:24:31] task [xgboost.dask-0]:tcp://127.0.0.1:40795 got new rank 0\n",
      "[16:24:37] WARNING: /workspace/src/learner.cc:742: \n",
      "Parameters: { \"predictor\" } are not used.\n",
      "\n",
      "2024-02-01 16:24:38,924 - distributed.utils_perf - WARNING - full garbage collections took 81% CPU time recently (threshold: 10%)\n",
      "2024-02-01 16:24:39,031 - distributed.utils_perf - WARNING - full garbage collections took 81% CPU time recently (threshold: 10%)\n",
      "[16:24:44] task [xgboost.dask-0]:tcp://127.0.0.1:40795 got new rank 0\n",
      "[16:24:51] WARNING: /workspace/src/learner.cc:742: \n",
      "Parameters: { \"predictor\" } are not used.\n",
      "\n",
      "2024-02-01 16:24:52,616 - distributed.utils_perf - WARNING - full garbage collections took 81% CPU time recently (threshold: 10%)\n",
      "2024-02-01 16:24:52,727 - distributed.utils_perf - WARNING - full garbage collections took 81% CPU time recently (threshold: 10%)\n",
      "[16:24:58] task [xgboost.dask-0]:tcp://127.0.0.1:40795 got new rank 0\n",
      "[16:25:06] WARNING: /workspace/src/learner.cc:742: \n",
      "Parameters: { \"predictor\" } are not used.\n",
      "\n",
      "2024-02-01 16:25:07,233 - distributed.utils_perf - WARNING - full garbage collections took 81% CPU time recently (threshold: 10%)\n",
      "2024-02-01 16:25:07,342 - distributed.utils_perf - WARNING - full garbage collections took 81% CPU time recently (threshold: 10%)\n",
      "[16:25:12] task [xgboost.dask-0]:tcp://127.0.0.1:40795 got new rank 0\n",
      "[16:25:20] WARNING: /workspace/src/learner.cc:742: \n",
      "Parameters: { \"predictor\" } are not used.\n",
      "\n",
      "2024-02-01 16:25:21,601 - distributed.utils_perf - WARNING - full garbage collections took 81% CPU time recently (threshold: 10%)\n",
      "2024-02-01 16:25:21,711 - distributed.utils_perf - WARNING - full garbage collections took 81% CPU time recently (threshold: 10%)\n",
      "[16:25:27] task [xgboost.dask-0]:tcp://127.0.0.1:40795 got new rank 0\n",
      "[16:25:34] WARNING: /workspace/src/learner.cc:742: \n",
      "Parameters: { \"predictor\" } are not used.\n",
      "\n",
      "2024-02-01 16:25:35,103 - distributed.utils_perf - WARNING - full garbage collections took 81% CPU time recently (threshold: 10%)\n",
      "2024-02-01 16:25:35,214 - distributed.utils_perf - WARNING - full garbage collections took 81% CPU time recently (threshold: 10%)\n",
      "[16:25:40] task [xgboost.dask-0]:tcp://127.0.0.1:40795 got new rank 0\n",
      "[16:25:47] WARNING: /workspace/src/learner.cc:742: \n",
      "Parameters: { \"predictor\" } are not used.\n",
      "\n",
      "2024-02-01 16:25:48,760 - distributed.utils_perf - WARNING - full garbage collections took 81% CPU time recently (threshold: 10%)\n",
      "2024-02-01 16:25:48,870 - distributed.utils_perf - WARNING - full garbage collections took 81% CPU time recently (threshold: 10%)\n",
      "[16:25:54] task [xgboost.dask-0]:tcp://127.0.0.1:40795 got new rank 0\n",
      "[16:26:01] WARNING: /workspace/src/learner.cc:742: \n",
      "Parameters: { \"predictor\" } are not used.\n",
      "\n",
      "2024-02-01 16:26:02,649 - distributed.utils_perf - WARNING - full garbage collections took 81% CPU time recently (threshold: 10%)\n",
      "2024-02-01 16:26:02,759 - distributed.utils_perf - WARNING - full garbage collections took 81% CPU time recently (threshold: 10%)\n",
      "[16:26:08] task [xgboost.dask-0]:tcp://127.0.0.1:40795 got new rank 0\n",
      "[16:26:17] WARNING: /workspace/src/learner.cc:742: \n",
      "Parameters: { \"predictor\" } are not used.\n",
      "\n",
      "2024-02-01 16:26:18,316 - distributed.utils_perf - WARNING - full garbage collections took 81% CPU time recently (threshold: 10%)\n",
      "2024-02-01 16:26:18,424 - distributed.utils_perf - WARNING - full garbage collections took 81% CPU time recently (threshold: 10%)\n",
      "[16:26:24] task [xgboost.dask-0]:tcp://127.0.0.1:40795 got new rank 0\n",
      "[16:26:32] WARNING: /workspace/src/learner.cc:742: \n",
      "Parameters: { \"predictor\" } are not used.\n",
      "\n",
      "2024-02-01 16:26:33,811 - distributed.utils_perf - WARNING - full garbage collections took 81% CPU time recently (threshold: 10%)\n",
      "2024-02-01 16:26:33,920 - distributed.utils_perf - WARNING - full garbage collections took 81% CPU time recently (threshold: 10%)\n",
      "[16:26:39] task [xgboost.dask-0]:tcp://127.0.0.1:40795 got new rank 0\n",
      "[16:26:47] WARNING: /workspace/src/learner.cc:742: \n",
      "Parameters: { \"predictor\" } are not used.\n",
      "\n",
      "2024-02-01 16:26:48,323 - distributed.utils_perf - WARNING - full garbage collections took 81% CPU time recently (threshold: 10%)\n",
      "2024-02-01 16:26:48,432 - distributed.utils_perf - WARNING - full garbage collections took 81% CPU time recently (threshold: 10%)\n",
      "[16:26:54] task [xgboost.dask-0]:tcp://127.0.0.1:40795 got new rank 0\n",
      "[16:27:01] WARNING: /workspace/src/learner.cc:742: \n",
      "Parameters: { \"predictor\" } are not used.\n",
      "\n",
      "2024-02-01 16:27:03,091 - distributed.utils_perf - WARNING - full garbage collections took 81% CPU time recently (threshold: 10%)\n",
      "2024-02-01 16:27:03,196 - distributed.utils_perf - WARNING - full garbage collections took 81% CPU time recently (threshold: 10%)\n",
      "[16:27:09] task [xgboost.dask-0]:tcp://127.0.0.1:40795 got new rank 0\n",
      "[16:27:16] WARNING: /workspace/src/learner.cc:742: \n",
      "Parameters: { \"predictor\" } are not used.\n",
      "\n",
      "2024-02-01 16:27:17,726 - distributed.utils_perf - WARNING - full garbage collections took 81% CPU time recently (threshold: 10%)\n",
      "2024-02-01 16:27:17,836 - distributed.utils_perf - WARNING - full garbage collections took 81% CPU time recently (threshold: 10%)\n",
      "[16:27:23] task [xgboost.dask-0]:tcp://127.0.0.1:40795 got new rank 0\n",
      "[16:27:32] WARNING: /workspace/src/learner.cc:742: \n",
      "Parameters: { \"predictor\" } are not used.\n",
      "\n",
      "2024-02-01 16:27:34,218 - distributed.utils_perf - WARNING - full garbage collections took 81% CPU time recently (threshold: 10%)\n",
      "2024-02-01 16:27:34,327 - distributed.utils_perf - WARNING - full garbage collections took 81% CPU time recently (threshold: 10%)\n",
      "[16:27:40] task [xgboost.dask-0]:tcp://127.0.0.1:40795 got new rank 0\n",
      "[16:27:49] WARNING: /workspace/src/learner.cc:742: \n",
      "Parameters: { \"predictor\" } are not used.\n",
      "\n",
      "2024-02-01 16:27:50,477 - distributed.utils_perf - WARNING - full garbage collections took 81% CPU time recently (threshold: 10%)\n",
      "2024-02-01 16:27:50,586 - distributed.utils_perf - WARNING - full garbage collections took 81% CPU time recently (threshold: 10%)\n",
      "[16:27:56] task [xgboost.dask-0]:tcp://127.0.0.1:40795 got new rank 0\n",
      "[16:28:04] WARNING: /workspace/src/learner.cc:742: \n",
      "Parameters: { \"predictor\" } are not used.\n",
      "\n",
      "2024-02-01 16:28:05,709 - distributed.utils_perf - WARNING - full garbage collections took 81% CPU time recently (threshold: 10%)\n",
      "2024-02-01 16:28:05,818 - distributed.utils_perf - WARNING - full garbage collections took 81% CPU time recently (threshold: 10%)\n",
      "[16:28:11] task [xgboost.dask-0]:tcp://127.0.0.1:40795 got new rank 0\n",
      "[16:28:20] WARNING: /workspace/src/learner.cc:742: \n",
      "Parameters: { \"predictor\" } are not used.\n",
      "\n",
      "2024-02-01 16:28:21,237 - distributed.utils_perf - WARNING - full garbage collections took 81% CPU time recently (threshold: 10%)\n",
      "2024-02-01 16:28:21,347 - distributed.utils_perf - WARNING - full garbage collections took 81% CPU time recently (threshold: 10%)\n",
      "[16:28:27] task [xgboost.dask-0]:tcp://127.0.0.1:40795 got new rank 0\n",
      "[16:28:35] WARNING: /workspace/src/learner.cc:742: \n",
      "Parameters: { \"predictor\" } are not used.\n",
      "\n",
      "2024-02-01 16:28:36,771 - distributed.utils_perf - WARNING - full garbage collections took 81% CPU time recently (threshold: 10%)\n",
      "2024-02-01 16:28:36,882 - distributed.utils_perf - WARNING - full garbage collections took 81% CPU time recently (threshold: 10%)\n",
      "[16:28:42] task [xgboost.dask-0]:tcp://127.0.0.1:40795 got new rank 0\n",
      "[16:28:49] WARNING: /workspace/src/learner.cc:742: \n",
      "Parameters: { \"predictor\" } are not used.\n",
      "\n",
      "2024-02-01 16:28:51,098 - distributed.utils_perf - WARNING - full garbage collections took 81% CPU time recently (threshold: 10%)\n",
      "2024-02-01 16:28:51,211 - distributed.utils_perf - WARNING - full garbage collections took 81% CPU time recently (threshold: 10%)\n",
      "[16:28:57] task [xgboost.dask-0]:tcp://127.0.0.1:40795 got new rank 0\n",
      "[16:29:04] WARNING: /workspace/src/learner.cc:742: \n",
      "Parameters: { \"predictor\" } are not used.\n",
      "\n",
      "2024-02-01 16:29:05,500 - distributed.utils_perf - WARNING - full garbage collections took 81% CPU time recently (threshold: 10%)\n",
      "2024-02-01 16:29:05,609 - distributed.utils_perf - WARNING - full garbage collections took 81% CPU time recently (threshold: 10%)\n",
      "[16:29:11] task [xgboost.dask-0]:tcp://127.0.0.1:40795 got new rank 0\n",
      "[16:29:17] WARNING: /workspace/src/learner.cc:742: \n",
      "Parameters: { \"predictor\" } are not used.\n",
      "\n",
      "2024-02-01 16:29:18,921 - distributed.utils_perf - WARNING - full garbage collections took 81% CPU time recently (threshold: 10%)\n",
      "2024-02-01 16:29:19,030 - distributed.utils_perf - WARNING - full garbage collections took 81% CPU time recently (threshold: 10%)\n",
      "[16:29:24] task [xgboost.dask-0]:tcp://127.0.0.1:40795 got new rank 0\n",
      "[16:29:31] WARNING: /workspace/src/learner.cc:742: \n",
      "Parameters: { \"predictor\" } are not used.\n",
      "\n",
      "2024-02-01 16:29:32,099 - distributed.utils_perf - WARNING - full garbage collections took 81% CPU time recently (threshold: 10%)\n",
      "2024-02-01 16:29:32,206 - distributed.utils_perf - WARNING - full garbage collections took 81% CPU time recently (threshold: 10%)\n",
      "[16:29:37] task [xgboost.dask-0]:tcp://127.0.0.1:40795 got new rank 0\n",
      "[16:29:44] WARNING: /workspace/src/learner.cc:742: \n",
      "Parameters: { \"predictor\" } are not used.\n",
      "\n",
      "2024-02-01 16:29:45,318 - distributed.utils_perf - WARNING - full garbage collections took 81% CPU time recently (threshold: 10%)\n",
      "2024-02-01 16:29:45,427 - distributed.utils_perf - WARNING - full garbage collections took 81% CPU time recently (threshold: 10%)\n",
      "[16:29:51] task [xgboost.dask-0]:tcp://127.0.0.1:40795 got new rank 0\n",
      "[16:29:57] WARNING: /workspace/src/learner.cc:742: \n",
      "Parameters: { \"predictor\" } are not used.\n",
      "\n",
      "2024-02-01 16:29:59,095 - distributed.utils_perf - WARNING - full garbage collections took 81% CPU time recently (threshold: 10%)\n",
      "2024-02-01 16:29:59,208 - distributed.utils_perf - WARNING - full garbage collections took 81% CPU time recently (threshold: 10%)\n",
      "[16:30:05] task [xgboost.dask-0]:tcp://127.0.0.1:40795 got new rank 0\n",
      "[16:30:11] WARNING: /workspace/src/learner.cc:742: \n",
      "Parameters: { \"predictor\" } are not used.\n",
      "\n",
      "2024-02-01 16:30:12,991 - distributed.utils_perf - WARNING - full garbage collections took 81% CPU time recently (threshold: 10%)\n",
      "2024-02-01 16:30:13,094 - distributed.utils_perf - WARNING - full garbage collections took 81% CPU time recently (threshold: 10%)\n",
      "[16:30:18] task [xgboost.dask-0]:tcp://127.0.0.1:40795 got new rank 0\n",
      "[16:30:25] WARNING: /workspace/src/learner.cc:742: \n",
      "Parameters: { \"predictor\" } are not used.\n",
      "\n",
      "2024-02-01 16:30:25,987 - distributed.utils_perf - WARNING - full garbage collections took 81% CPU time recently (threshold: 10%)\n",
      "2024-02-01 16:30:26,096 - distributed.utils_perf - WARNING - full garbage collections took 81% CPU time recently (threshold: 10%)\n",
      "[16:30:31] task [xgboost.dask-0]:tcp://127.0.0.1:40795 got new rank 0\n",
      "[16:30:37] WARNING: /workspace/src/learner.cc:742: \n",
      "Parameters: { \"predictor\" } are not used.\n",
      "\n",
      "2024-02-01 16:30:38,915 - distributed.utils_perf - WARNING - full garbage collections took 81% CPU time recently (threshold: 10%)\n",
      "2024-02-01 16:30:39,027 - distributed.utils_perf - WARNING - full garbage collections took 81% CPU time recently (threshold: 10%)\n",
      "[16:30:44] task [xgboost.dask-0]:tcp://127.0.0.1:40795 got new rank 0\n",
      "[16:30:50] WARNING: /workspace/src/learner.cc:742: \n",
      "Parameters: { \"predictor\" } are not used.\n",
      "\n",
      "2024-02-01 16:30:51,660 - distributed.utils_perf - WARNING - full garbage collections took 81% CPU time recently (threshold: 10%)\n",
      "2024-02-01 16:30:51,771 - distributed.utils_perf - WARNING - full garbage collections took 81% CPU time recently (threshold: 10%)\n",
      "[16:30:57] task [xgboost.dask-0]:tcp://127.0.0.1:40795 got new rank 0\n",
      "[16:31:05] WARNING: /workspace/src/learner.cc:742: \n",
      "Parameters: { \"predictor\" } are not used.\n",
      "\n",
      "2024-02-01 16:31:06,921 - distributed.utils_perf - WARNING - full garbage collections took 81% CPU time recently (threshold: 10%)\n",
      "2024-02-01 16:31:07,033 - distributed.utils_perf - WARNING - full garbage collections took 81% CPU time recently (threshold: 10%)\n",
      "[16:31:12] task [xgboost.dask-0]:tcp://127.0.0.1:40795 got new rank 0\n",
      "[16:31:20] WARNING: /workspace/src/learner.cc:742: \n",
      "Parameters: { \"predictor\" } are not used.\n",
      "\n",
      "2024-02-01 16:31:21,958 - distributed.utils_perf - WARNING - full garbage collections took 81% CPU time recently (threshold: 10%)\n",
      "2024-02-01 16:31:22,068 - distributed.utils_perf - WARNING - full garbage collections took 82% CPU time recently (threshold: 10%)\n",
      "[16:31:27] task [xgboost.dask-0]:tcp://127.0.0.1:40795 got new rank 0\n",
      "[16:31:34] WARNING: /workspace/src/learner.cc:742: \n",
      "Parameters: { \"predictor\" } are not used.\n",
      "\n",
      "2024-02-01 16:31:35,865 - distributed.utils_perf - WARNING - full garbage collections took 82% CPU time recently (threshold: 10%)\n",
      "2024-02-01 16:31:35,976 - distributed.utils_perf - WARNING - full garbage collections took 82% CPU time recently (threshold: 10%)\n",
      "[16:31:41] task [xgboost.dask-0]:tcp://127.0.0.1:40795 got new rank 0\n",
      "[16:31:48] WARNING: /workspace/src/learner.cc:742: \n",
      "Parameters: { \"predictor\" } are not used.\n",
      "\n",
      "2024-02-01 16:31:49,794 - distributed.utils_perf - WARNING - full garbage collections took 82% CPU time recently (threshold: 10%)\n",
      "2024-02-01 16:31:49,905 - distributed.utils_perf - WARNING - full garbage collections took 82% CPU time recently (threshold: 10%)\n",
      "[16:31:55] task [xgboost.dask-0]:tcp://127.0.0.1:40795 got new rank 0\n",
      "[16:32:02] WARNING: /workspace/src/learner.cc:742: \n",
      "Parameters: { \"predictor\" } are not used.\n",
      "\n",
      "2024-02-01 16:32:03,736 - distributed.utils_perf - WARNING - full garbage collections took 82% CPU time recently (threshold: 10%)\n",
      "2024-02-01 16:32:03,847 - distributed.utils_perf - WARNING - full garbage collections took 82% CPU time recently (threshold: 10%)\n",
      "[16:32:09] task [xgboost.dask-0]:tcp://127.0.0.1:40795 got new rank 0\n",
      "[16:32:15] WARNING: /workspace/src/learner.cc:742: \n",
      "Parameters: { \"predictor\" } are not used.\n",
      "\n",
      "2024-02-01 16:32:17,042 - distributed.utils_perf - WARNING - full garbage collections took 81% CPU time recently (threshold: 10%)\n",
      "2024-02-01 16:32:17,147 - distributed.utils_perf - WARNING - full garbage collections took 81% CPU time recently (threshold: 10%)\n",
      "[16:32:23] task [xgboost.dask-0]:tcp://127.0.0.1:40795 got new rank 0\n",
      "[16:32:29] WARNING: /workspace/src/learner.cc:742: \n",
      "Parameters: { \"predictor\" } are not used.\n",
      "\n",
      "2024-02-01 16:32:30,580 - distributed.utils_perf - WARNING - full garbage collections took 81% CPU time recently (threshold: 10%)\n",
      "2024-02-01 16:32:30,692 - distributed.utils_perf - WARNING - full garbage collections took 81% CPU time recently (threshold: 10%)\n",
      "[16:32:36] task [xgboost.dask-0]:tcp://127.0.0.1:40795 got new rank 0\n",
      "[16:32:42] WARNING: /workspace/src/learner.cc:742: \n",
      "Parameters: { \"predictor\" } are not used.\n",
      "\n",
      "2024-02-01 16:32:43,061 - distributed.utils_perf - WARNING - full garbage collections took 81% CPU time recently (threshold: 10%)\n",
      "2024-02-01 16:32:43,171 - distributed.utils_perf - WARNING - full garbage collections took 81% CPU time recently (threshold: 10%)\n",
      "[16:32:48] task [xgboost.dask-0]:tcp://127.0.0.1:40795 got new rank 0\n",
      "[16:32:54] WARNING: /workspace/src/learner.cc:742: \n",
      "Parameters: { \"predictor\" } are not used.\n",
      "\n",
      "2024-02-01 16:32:55,410 - distributed.utils_perf - WARNING - full garbage collections took 81% CPU time recently (threshold: 10%)\n",
      "2024-02-01 16:32:55,521 - distributed.utils_perf - WARNING - full garbage collections took 81% CPU time recently (threshold: 10%)\n",
      "[16:33:01] task [xgboost.dask-0]:tcp://127.0.0.1:40795 got new rank 0\n",
      "[16:33:06] WARNING: /workspace/src/learner.cc:742: \n",
      "Parameters: { \"predictor\" } are not used.\n",
      "\n",
      "2024-02-01 16:33:07,736 - distributed.utils_perf - WARNING - full garbage collections took 81% CPU time recently (threshold: 10%)\n",
      "2024-02-01 16:33:07,841 - distributed.utils_perf - WARNING - full garbage collections took 81% CPU time recently (threshold: 10%)\n",
      "[16:33:13] task [xgboost.dask-0]:tcp://127.0.0.1:40795 got new rank 0\n",
      "[16:33:21] WARNING: /workspace/src/learner.cc:742: \n",
      "Parameters: { \"predictor\" } are not used.\n",
      "\n",
      "2024-02-01 16:33:22,438 - distributed.utils_perf - WARNING - full garbage collections took 82% CPU time recently (threshold: 10%)\n",
      "2024-02-01 16:33:22,549 - distributed.utils_perf - WARNING - full garbage collections took 82% CPU time recently (threshold: 10%)\n",
      "[16:33:28] task [xgboost.dask-0]:tcp://127.0.0.1:40795 got new rank 0\n",
      "[16:33:35] WARNING: /workspace/src/learner.cc:742: \n",
      "Parameters: { \"predictor\" } are not used.\n",
      "\n",
      "2024-02-01 16:33:36,928 - distributed.utils_perf - WARNING - full garbage collections took 82% CPU time recently (threshold: 10%)\n",
      "2024-02-01 16:33:37,033 - distributed.utils_perf - WARNING - full garbage collections took 82% CPU time recently (threshold: 10%)\n",
      "[16:33:42] task [xgboost.dask-0]:tcp://127.0.0.1:40795 got new rank 0\n",
      "[16:33:49] WARNING: /workspace/src/learner.cc:742: \n",
      "Parameters: { \"predictor\" } are not used.\n",
      "\n",
      "2024-02-01 16:33:50,251 - distributed.utils_perf - WARNING - full garbage collections took 82% CPU time recently (threshold: 10%)\n",
      "2024-02-01 16:33:50,363 - distributed.utils_perf - WARNING - full garbage collections took 82% CPU time recently (threshold: 10%)\n",
      "[16:33:56] task [xgboost.dask-0]:tcp://127.0.0.1:40795 got new rank 0\n",
      "[16:34:02] WARNING: /workspace/src/learner.cc:742: \n",
      "Parameters: { \"predictor\" } are not used.\n",
      "\n",
      "2024-02-01 16:34:03,859 - distributed.utils_perf - WARNING - full garbage collections took 82% CPU time recently (threshold: 10%)\n",
      "2024-02-01 16:34:03,971 - distributed.utils_perf - WARNING - full garbage collections took 82% CPU time recently (threshold: 10%)\n",
      "[16:34:09] task [xgboost.dask-0]:tcp://127.0.0.1:40795 got new rank 0\n",
      "[16:34:16] WARNING: /workspace/src/learner.cc:742: \n",
      "Parameters: { \"predictor\" } are not used.\n",
      "\n",
      "2024-02-01 16:34:17,386 - distributed.utils_perf - WARNING - full garbage collections took 82% CPU time recently (threshold: 10%)\n",
      "2024-02-01 16:34:17,497 - distributed.utils_perf - WARNING - full garbage collections took 82% CPU time recently (threshold: 10%)\n",
      "[16:34:23] task [xgboost.dask-0]:tcp://127.0.0.1:40795 got new rank 0\n",
      "[16:34:30] WARNING: /workspace/src/learner.cc:742: \n",
      "Parameters: { \"predictor\" } are not used.\n",
      "\n",
      "2024-02-01 16:34:31,563 - distributed.utils_perf - WARNING - full garbage collections took 82% CPU time recently (threshold: 10%)\n",
      "2024-02-01 16:34:31,674 - distributed.utils_perf - WARNING - full garbage collections took 82% CPU time recently (threshold: 10%)\n",
      "[16:34:37] task [xgboost.dask-0]:tcp://127.0.0.1:40795 got new rank 0\n",
      "[16:34:44] WARNING: /workspace/src/learner.cc:742: \n",
      "Parameters: { \"predictor\" } are not used.\n",
      "\n",
      "2024-02-01 16:34:45,803 - distributed.utils_perf - WARNING - full garbage collections took 82% CPU time recently (threshold: 10%)\n",
      "2024-02-01 16:34:45,916 - distributed.utils_perf - WARNING - full garbage collections took 82% CPU time recently (threshold: 10%)\n",
      "[16:34:51] task [xgboost.dask-0]:tcp://127.0.0.1:40795 got new rank 0\n",
      "[16:34:58] WARNING: /workspace/src/learner.cc:742: \n",
      "Parameters: { \"predictor\" } are not used.\n",
      "\n",
      "2024-02-01 16:34:59,277 - distributed.utils_perf - WARNING - full garbage collections took 82% CPU time recently (threshold: 10%)\n",
      "2024-02-01 16:34:59,390 - distributed.utils_perf - WARNING - full garbage collections took 82% CPU time recently (threshold: 10%)\n",
      "[16:35:05] task [xgboost.dask-0]:tcp://127.0.0.1:40795 got new rank 0\n",
      "[16:35:11] WARNING: /workspace/src/learner.cc:742: \n",
      "Parameters: { \"predictor\" } are not used.\n",
      "\n",
      "2024-02-01 16:35:12,661 - distributed.utils_perf - WARNING - full garbage collections took 82% CPU time recently (threshold: 10%)\n",
      "2024-02-01 16:35:12,770 - distributed.utils_perf - WARNING - full garbage collections took 82% CPU time recently (threshold: 10%)\n",
      "[16:35:18] task [xgboost.dask-0]:tcp://127.0.0.1:40795 got new rank 0\n",
      "[16:35:24] WARNING: /workspace/src/learner.cc:742: \n",
      "Parameters: { \"predictor\" } are not used.\n",
      "\n",
      "2024-02-01 16:35:25,750 - distributed.utils_perf - WARNING - full garbage collections took 82% CPU time recently (threshold: 10%)\n",
      "2024-02-01 16:35:25,865 - distributed.utils_perf - WARNING - full garbage collections took 82% CPU time recently (threshold: 10%)\n",
      "[16:35:31] task [xgboost.dask-0]:tcp://127.0.0.1:40795 got new rank 0\n",
      "[16:35:39] WARNING: /workspace/src/learner.cc:742: \n",
      "Parameters: { \"predictor\" } are not used.\n",
      "\n",
      "2024-02-01 16:35:40,218 - distributed.utils_perf - WARNING - full garbage collections took 82% CPU time recently (threshold: 10%)\n",
      "2024-02-01 16:35:40,333 - distributed.utils_perf - WARNING - full garbage collections took 82% CPU time recently (threshold: 10%)\n",
      "[16:35:46] task [xgboost.dask-0]:tcp://127.0.0.1:40795 got new rank 0\n",
      "[16:35:53] WARNING: /workspace/src/learner.cc:742: \n",
      "Parameters: { \"predictor\" } are not used.\n",
      "\n",
      "2024-02-01 16:35:54,440 - distributed.utils_perf - WARNING - full garbage collections took 82% CPU time recently (threshold: 10%)\n",
      "2024-02-01 16:35:54,551 - distributed.utils_perf - WARNING - full garbage collections took 82% CPU time recently (threshold: 10%)\n",
      "[16:36:00] task [xgboost.dask-0]:tcp://127.0.0.1:40795 got new rank 0\n",
      "[16:36:06] WARNING: /workspace/src/learner.cc:742: \n",
      "Parameters: { \"predictor\" } are not used.\n",
      "\n",
      "2024-02-01 16:36:07,521 - distributed.utils_perf - WARNING - full garbage collections took 82% CPU time recently (threshold: 10%)\n",
      "2024-02-01 16:36:07,634 - distributed.utils_perf - WARNING - full garbage collections took 82% CPU time recently (threshold: 10%)\n",
      "[16:36:13] task [xgboost.dask-0]:tcp://127.0.0.1:40795 got new rank 0\n",
      "[16:36:19] WARNING: /workspace/src/learner.cc:742: \n",
      "Parameters: { \"predictor\" } are not used.\n",
      "\n",
      "2024-02-01 16:36:20,946 - distributed.utils_perf - WARNING - full garbage collections took 82% CPU time recently (threshold: 10%)\n",
      "2024-02-01 16:36:21,052 - distributed.utils_perf - WARNING - full garbage collections took 82% CPU time recently (threshold: 10%)\n",
      "[16:36:27] task [xgboost.dask-0]:tcp://127.0.0.1:40795 got new rank 0\n",
      "[16:36:33] WARNING: /workspace/src/learner.cc:742: \n",
      "Parameters: { \"predictor\" } are not used.\n",
      "\n",
      "2024-02-01 16:36:34,601 - distributed.utils_perf - WARNING - full garbage collections took 82% CPU time recently (threshold: 10%)\n",
      "2024-02-01 16:36:34,716 - distributed.utils_perf - WARNING - full garbage collections took 82% CPU time recently (threshold: 10%)\n",
      "[16:36:40] task [xgboost.dask-0]:tcp://127.0.0.1:40795 got new rank 0\n",
      "[16:36:47] WARNING: /workspace/src/learner.cc:742: \n",
      "Parameters: { \"predictor\" } are not used.\n",
      "\n",
      "2024-02-01 16:36:49,063 - distributed.utils_perf - WARNING - full garbage collections took 81% CPU time recently (threshold: 10%)\n",
      "2024-02-01 16:36:49,175 - distributed.utils_perf - WARNING - full garbage collections took 81% CPU time recently (threshold: 10%)\n",
      "[16:36:54] task [xgboost.dask-0]:tcp://127.0.0.1:40795 got new rank 0\n",
      "[16:37:01] WARNING: /workspace/src/learner.cc:742: \n",
      "Parameters: { \"predictor\" } are not used.\n",
      "\n",
      "2024-02-01 16:37:03,182 - distributed.utils_perf - WARNING - full garbage collections took 82% CPU time recently (threshold: 10%)\n",
      "2024-02-01 16:37:03,295 - distributed.utils_perf - WARNING - full garbage collections took 82% CPU time recently (threshold: 10%)\n",
      "[16:37:08] task [xgboost.dask-0]:tcp://127.0.0.1:40795 got new rank 0\n",
      "[16:37:15] WARNING: /workspace/src/learner.cc:742: \n",
      "Parameters: { \"predictor\" } are not used.\n",
      "\n",
      "2024-02-01 16:37:16,359 - distributed.utils_perf - WARNING - full garbage collections took 82% CPU time recently (threshold: 10%)\n",
      "2024-02-01 16:37:16,471 - distributed.utils_perf - WARNING - full garbage collections took 82% CPU time recently (threshold: 10%)\n",
      "[16:37:22] task [xgboost.dask-0]:tcp://127.0.0.1:40795 got new rank 0\n",
      "[16:37:28] WARNING: /workspace/src/learner.cc:742: \n",
      "Parameters: { \"predictor\" } are not used.\n",
      "\n",
      "2024-02-01 16:37:29,624 - distributed.utils_perf - WARNING - full garbage collections took 82% CPU time recently (threshold: 10%)\n",
      "2024-02-01 16:37:29,739 - distributed.utils_perf - WARNING - full garbage collections took 82% CPU time recently (threshold: 10%)\n",
      "[16:37:35] task [xgboost.dask-0]:tcp://127.0.0.1:40795 got new rank 0\n",
      "[16:37:41] WARNING: /workspace/src/learner.cc:742: \n",
      "Parameters: { \"predictor\" } are not used.\n",
      "\n",
      "2024-02-01 16:37:43,014 - distributed.utils_perf - WARNING - full garbage collections took 82% CPU time recently (threshold: 10%)\n",
      "2024-02-01 16:37:43,126 - distributed.utils_perf - WARNING - full garbage collections took 82% CPU time recently (threshold: 10%)\n",
      "[16:37:49] task [xgboost.dask-0]:tcp://127.0.0.1:40795 got new rank 0\n",
      "[16:37:56] WARNING: /workspace/src/learner.cc:742: \n",
      "Parameters: { \"predictor\" } are not used.\n",
      "\n",
      "2024-02-01 16:37:57,479 - distributed.utils_perf - WARNING - full garbage collections took 82% CPU time recently (threshold: 10%)\n",
      "2024-02-01 16:37:57,591 - distributed.utils_perf - WARNING - full garbage collections took 82% CPU time recently (threshold: 10%)\n",
      "[16:38:03] task [xgboost.dask-0]:tcp://127.0.0.1:40795 got new rank 0\n",
      "[16:38:10] WARNING: /workspace/src/learner.cc:742: \n",
      "Parameters: { \"predictor\" } are not used.\n",
      "\n",
      "2024-02-01 16:38:11,916 - distributed.utils_perf - WARNING - full garbage collections took 82% CPU time recently (threshold: 10%)\n",
      "2024-02-01 16:38:12,028 - distributed.utils_perf - WARNING - full garbage collections took 82% CPU time recently (threshold: 10%)\n",
      "[16:38:17] task [xgboost.dask-0]:tcp://127.0.0.1:40795 got new rank 0\n",
      "[16:38:24] WARNING: /workspace/src/learner.cc:742: \n",
      "Parameters: { \"predictor\" } are not used.\n",
      "\n",
      "2024-02-01 16:38:25,296 - distributed.utils_perf - WARNING - full garbage collections took 82% CPU time recently (threshold: 10%)\n",
      "2024-02-01 16:38:25,410 - distributed.utils_perf - WARNING - full garbage collections took 82% CPU time recently (threshold: 10%)\n",
      "[16:38:30] task [xgboost.dask-0]:tcp://127.0.0.1:40795 got new rank 0\n",
      "[16:38:37] WARNING: /workspace/src/learner.cc:742: \n",
      "Parameters: { \"predictor\" } are not used.\n",
      "\n",
      "2024-02-01 16:38:38,654 - distributed.utils_perf - WARNING - full garbage collections took 82% CPU time recently (threshold: 10%)\n",
      "2024-02-01 16:38:38,769 - distributed.utils_perf - WARNING - full garbage collections took 82% CPU time recently (threshold: 10%)\n",
      "[16:38:44] task [xgboost.dask-0]:tcp://127.0.0.1:40795 got new rank 0\n",
      "[16:38:50] WARNING: /workspace/src/learner.cc:742: \n",
      "Parameters: { \"predictor\" } are not used.\n",
      "\n",
      "2024-02-01 16:38:51,857 - distributed.utils_perf - WARNING - full garbage collections took 82% CPU time recently (threshold: 10%)\n",
      "2024-02-01 16:38:51,970 - distributed.utils_perf - WARNING - full garbage collections took 82% CPU time recently (threshold: 10%)\n",
      "[16:38:57] task [xgboost.dask-0]:tcp://127.0.0.1:40795 got new rank 0\n",
      "[16:39:06] WARNING: /workspace/src/learner.cc:742: \n",
      "Parameters: { \"predictor\" } are not used.\n",
      "\n",
      "2024-02-01 16:39:07,461 - distributed.utils_perf - WARNING - full garbage collections took 82% CPU time recently (threshold: 10%)\n",
      "2024-02-01 16:39:07,574 - distributed.utils_perf - WARNING - full garbage collections took 82% CPU time recently (threshold: 10%)\n",
      "[16:39:13] task [xgboost.dask-0]:tcp://127.0.0.1:40795 got new rank 0\n",
      "[16:39:21] WARNING: /workspace/src/learner.cc:742: \n",
      "Parameters: { \"predictor\" } are not used.\n",
      "\n",
      "2024-02-01 16:39:23,244 - distributed.utils_perf - WARNING - full garbage collections took 82% CPU time recently (threshold: 10%)\n",
      "2024-02-01 16:39:23,358 - distributed.utils_perf - WARNING - full garbage collections took 82% CPU time recently (threshold: 10%)\n",
      "[16:39:29] task [xgboost.dask-0]:tcp://127.0.0.1:40795 got new rank 0\n",
      "[16:39:36] WARNING: /workspace/src/learner.cc:742: \n",
      "Parameters: { \"predictor\" } are not used.\n",
      "\n",
      "2024-02-01 16:39:37,927 - distributed.utils_perf - WARNING - full garbage collections took 82% CPU time recently (threshold: 10%)\n",
      "2024-02-01 16:39:38,040 - distributed.utils_perf - WARNING - full garbage collections took 82% CPU time recently (threshold: 10%)\n",
      "[16:39:43] task [xgboost.dask-0]:tcp://127.0.0.1:40795 got new rank 0\n",
      "[16:39:51] WARNING: /workspace/src/learner.cc:742: \n",
      "Parameters: { \"predictor\" } are not used.\n",
      "\n",
      "2024-02-01 16:39:52,584 - distributed.utils_perf - WARNING - full garbage collections took 82% CPU time recently (threshold: 10%)\n",
      "2024-02-01 16:39:52,698 - distributed.utils_perf - WARNING - full garbage collections took 82% CPU time recently (threshold: 10%)\n",
      "[16:39:58] task [xgboost.dask-0]:tcp://127.0.0.1:40795 got new rank 0\n",
      "[16:40:06] WARNING: /workspace/src/learner.cc:742: \n",
      "Parameters: { \"predictor\" } are not used.\n",
      "\n",
      "2024-02-01 16:40:07,258 - distributed.utils_perf - WARNING - full garbage collections took 82% CPU time recently (threshold: 10%)\n",
      "2024-02-01 16:40:07,372 - distributed.utils_perf - WARNING - full garbage collections took 82% CPU time recently (threshold: 10%)\n",
      "[16:40:13] task [xgboost.dask-0]:tcp://127.0.0.1:40795 got new rank 0\n",
      "[16:40:20] WARNING: /workspace/src/learner.cc:742: \n",
      "Parameters: { \"predictor\" } are not used.\n",
      "\n",
      "2024-02-01 16:40:21,474 - distributed.utils_perf - WARNING - full garbage collections took 82% CPU time recently (threshold: 10%)\n",
      "2024-02-01 16:40:21,586 - distributed.utils_perf - WARNING - full garbage collections took 82% CPU time recently (threshold: 10%)\n",
      "[16:40:27] task [xgboost.dask-0]:tcp://127.0.0.1:40795 got new rank 0\n",
      "[16:40:34] WARNING: /workspace/src/learner.cc:742: \n",
      "Parameters: { \"predictor\" } are not used.\n",
      "\n",
      "2024-02-01 16:40:35,642 - distributed.utils_perf - WARNING - full garbage collections took 82% CPU time recently (threshold: 10%)\n",
      "2024-02-01 16:40:35,758 - distributed.utils_perf - WARNING - full garbage collections took 82% CPU time recently (threshold: 10%)\n",
      "[16:40:41] task [xgboost.dask-0]:tcp://127.0.0.1:40795 got new rank 0\n",
      "[16:40:47] WARNING: /workspace/src/learner.cc:742: \n",
      "Parameters: { \"predictor\" } are not used.\n",
      "\n",
      "2024-02-01 16:40:48,753 - distributed.utils_perf - WARNING - full garbage collections took 82% CPU time recently (threshold: 10%)\n",
      "2024-02-01 16:40:48,870 - distributed.utils_perf - WARNING - full garbage collections took 82% CPU time recently (threshold: 10%)\n",
      "[16:40:54] task [xgboost.dask-0]:tcp://127.0.0.1:40795 got new rank 0\n",
      "[16:41:00] WARNING: /workspace/src/learner.cc:742: \n",
      "Parameters: { \"predictor\" } are not used.\n",
      "\n",
      "2024-02-01 16:41:01,876 - distributed.utils_perf - WARNING - full garbage collections took 82% CPU time recently (threshold: 10%)\n",
      "2024-02-01 16:41:01,989 - distributed.utils_perf - WARNING - full garbage collections took 82% CPU time recently (threshold: 10%)\n",
      "[16:41:07] task [xgboost.dask-0]:tcp://127.0.0.1:40795 got new rank 0\n",
      "[16:41:14] WARNING: /workspace/src/learner.cc:742: \n",
      "Parameters: { \"predictor\" } are not used.\n",
      "\n",
      "2024-02-01 16:41:15,079 - distributed.utils_perf - WARNING - full garbage collections took 82% CPU time recently (threshold: 10%)\n",
      "2024-02-01 16:41:15,193 - distributed.utils_perf - WARNING - full garbage collections took 82% CPU time recently (threshold: 10%)\n",
      "[16:41:21] task [xgboost.dask-0]:tcp://127.0.0.1:40795 got new rank 0\n",
      "[16:41:30] WARNING: /workspace/src/learner.cc:742: \n",
      "Parameters: { \"predictor\" } are not used.\n",
      "\n",
      "2024-02-01 16:41:31,540 - distributed.utils_perf - WARNING - full garbage collections took 82% CPU time recently (threshold: 10%)\n",
      "2024-02-01 16:41:31,653 - distributed.utils_perf - WARNING - full garbage collections took 82% CPU time recently (threshold: 10%)\n",
      "[16:41:37] task [xgboost.dask-0]:tcp://127.0.0.1:40795 got new rank 0\n",
      "[16:41:46] WARNING: /workspace/src/learner.cc:742: \n",
      "Parameters: { \"predictor\" } are not used.\n",
      "\n",
      "2024-02-01 16:41:47,695 - distributed.utils_perf - WARNING - full garbage collections took 82% CPU time recently (threshold: 10%)\n",
      "2024-02-01 16:41:47,809 - distributed.utils_perf - WARNING - full garbage collections took 82% CPU time recently (threshold: 10%)\n",
      "[16:41:53] task [xgboost.dask-0]:tcp://127.0.0.1:40795 got new rank 0\n",
      "[16:42:01] WARNING: /workspace/src/learner.cc:742: \n",
      "Parameters: { \"predictor\" } are not used.\n",
      "\n",
      "2024-02-01 16:42:03,003 - distributed.utils_perf - WARNING - full garbage collections took 82% CPU time recently (threshold: 10%)\n",
      "2024-02-01 16:42:03,117 - distributed.utils_perf - WARNING - full garbage collections took 82% CPU time recently (threshold: 10%)\n",
      "[16:42:08] task [xgboost.dask-0]:tcp://127.0.0.1:40795 got new rank 0\n",
      "[16:42:17] WARNING: /workspace/src/learner.cc:742: \n",
      "Parameters: { \"predictor\" } are not used.\n",
      "\n",
      "2024-02-01 16:42:18,214 - distributed.utils_perf - WARNING - full garbage collections took 82% CPU time recently (threshold: 10%)\n",
      "2024-02-01 16:42:18,328 - distributed.utils_perf - WARNING - full garbage collections took 82% CPU time recently (threshold: 10%)\n",
      "[16:42:24] task [xgboost.dask-0]:tcp://127.0.0.1:40795 got new rank 0\n",
      "[16:42:32] WARNING: /workspace/src/learner.cc:742: \n",
      "Parameters: { \"predictor\" } are not used.\n",
      "\n",
      "2024-02-01 16:42:33,529 - distributed.utils_perf - WARNING - full garbage collections took 82% CPU time recently (threshold: 10%)\n",
      "2024-02-01 16:42:33,643 - distributed.utils_perf - WARNING - full garbage collections took 82% CPU time recently (threshold: 10%)\n",
      "[16:42:39] task [xgboost.dask-0]:tcp://127.0.0.1:40795 got new rank 0\n",
      "[16:42:53] WARNING: /workspace/src/learner.cc:742: \n",
      "Parameters: { \"predictor\" } are not used.\n",
      "\n",
      "2024-02-01 16:42:55,492 - distributed.utils_perf - WARNING - full garbage collections took 82% CPU time recently (threshold: 10%)\n",
      "2024-02-01 16:42:55,606 - distributed.utils_perf - WARNING - full garbage collections took 82% CPU time recently (threshold: 10%)\n",
      "[16:43:15] WARNING: /workspace/src/learner.cc:742: \n",
      "Parameters: { \"predictor\" } are not used.\n",
      "\n",
      "2024-02-01 16:43:17,533 - distributed.utils_perf - WARNING - full garbage collections took 82% CPU time recently (threshold: 10%)\n",
      "2024-02-01 16:43:17,647 - distributed.utils_perf - WARNING - full garbage collections took 82% CPU time recently (threshold: 10%)\n",
      "[16:43:23] task [xgboost.dask-0]:tcp://127.0.0.1:40795 got new rank 0\n",
      "[16:43:37] WARNING: /workspace/src/learner.cc:742: \n",
      "Parameters: { \"predictor\" } are not used.\n",
      "\n",
      "2024-02-01 16:43:38,880 - distributed.utils_perf - WARNING - full garbage collections took 82% CPU time recently (threshold: 10%)\n",
      "2024-02-01 16:43:38,995 - distributed.utils_perf - WARNING - full garbage collections took 82% CPU time recently (threshold: 10%)\n",
      "[16:43:44] task [xgboost.dask-0]:tcp://127.0.0.1:40795 got new rank 0\n",
      "[16:43:58] WARNING: /workspace/src/learner.cc:742: \n",
      "Parameters: { \"predictor\" } are not used.\n",
      "\n",
      "2024-02-01 16:43:59,902 - distributed.utils_perf - WARNING - full garbage collections took 82% CPU time recently (threshold: 10%)\n",
      "2024-02-01 16:44:00,017 - distributed.utils_perf - WARNING - full garbage collections took 82% CPU time recently (threshold: 10%)\n",
      "[16:44:05] task [xgboost.dask-0]:tcp://127.0.0.1:40795 got new rank 0\n",
      "[16:44:19] WARNING: /workspace/src/learner.cc:742: \n",
      "Parameters: { \"predictor\" } are not used.\n",
      "\n",
      "2024-02-01 16:44:20,919 - distributed.utils_perf - WARNING - full garbage collections took 82% CPU time recently (threshold: 10%)\n",
      "2024-02-01 16:44:21,027 - distributed.utils_perf - WARNING - full garbage collections took 82% CPU time recently (threshold: 10%)\n",
      "[16:44:27] task [xgboost.dask-0]:tcp://127.0.0.1:40795 got new rank 0\n",
      "[16:44:34] WARNING: /workspace/src/learner.cc:742: \n",
      "Parameters: { \"predictor\" } are not used.\n",
      "\n",
      "2024-02-01 16:44:35,545 - distributed.utils_perf - WARNING - full garbage collections took 82% CPU time recently (threshold: 10%)\n",
      "2024-02-01 16:44:35,659 - distributed.utils_perf - WARNING - full garbage collections took 82% CPU time recently (threshold: 10%)\n",
      "[16:44:41] task [xgboost.dask-0]:tcp://127.0.0.1:40795 got new rank 0\n",
      "[16:44:48] WARNING: /workspace/src/learner.cc:742: \n",
      "Parameters: { \"predictor\" } are not used.\n",
      "\n",
      "2024-02-01 16:44:49,618 - distributed.utils_perf - WARNING - full garbage collections took 82% CPU time recently (threshold: 10%)\n",
      "2024-02-01 16:44:49,735 - distributed.utils_perf - WARNING - full garbage collections took 82% CPU time recently (threshold: 10%)\n",
      "[16:44:55] task [xgboost.dask-0]:tcp://127.0.0.1:40795 got new rank 0\n",
      "[16:45:01] WARNING: /workspace/src/learner.cc:742: \n",
      "Parameters: { \"predictor\" } are not used.\n",
      "\n",
      "2024-02-01 16:45:02,857 - distributed.utils_perf - WARNING - full garbage collections took 82% CPU time recently (threshold: 10%)\n",
      "2024-02-01 16:45:02,972 - distributed.utils_perf - WARNING - full garbage collections took 82% CPU time recently (threshold: 10%)\n",
      "[16:45:08] task [xgboost.dask-0]:tcp://127.0.0.1:40795 got new rank 0\n",
      "[16:45:22] task [xgboost.dask-0]:tcp://127.0.0.1:40795 got new rank 0\n",
      "[16:45:28] WARNING: /workspace/src/learner.cc:742: \n",
      "Parameters: { \"predictor\" } are not used.\n",
      "\n",
      "2024-02-01 16:45:29,795 - distributed.utils_perf - WARNING - full garbage collections took 82% CPU time recently (threshold: 10%)\n",
      "2024-02-01 16:45:29,911 - distributed.utils_perf - WARNING - full garbage collections took 82% CPU time recently (threshold: 10%)\n",
      "[16:45:35] task [xgboost.dask-0]:tcp://127.0.0.1:40795 got new rank 0\n",
      "[16:45:43] WARNING: /workspace/src/learner.cc:742: \n",
      "Parameters: { \"predictor\" } are not used.\n",
      "\n",
      "2024-02-01 16:45:44,387 - distributed.utils_perf - WARNING - full garbage collections took 82% CPU time recently (threshold: 10%)\n",
      "2024-02-01 16:45:44,502 - distributed.utils_perf - WARNING - full garbage collections took 82% CPU time recently (threshold: 10%)\n",
      "[16:45:50] task [xgboost.dask-0]:tcp://127.0.0.1:40795 got new rank 0\n",
      "[16:45:57] WARNING: /workspace/src/learner.cc:742: \n",
      "Parameters: { \"predictor\" } are not used.\n",
      "\n",
      "2024-02-01 16:45:58,557 - distributed.utils_perf - WARNING - full garbage collections took 82% CPU time recently (threshold: 10%)\n",
      "2024-02-01 16:45:58,672 - distributed.utils_perf - WARNING - full garbage collections took 82% CPU time recently (threshold: 10%)\n",
      "[16:46:04] task [xgboost.dask-0]:tcp://127.0.0.1:40795 got new rank 0\n",
      "[16:46:10] WARNING: /workspace/src/learner.cc:742: \n",
      "Parameters: { \"predictor\" } are not used.\n",
      "\n",
      "2024-02-01 16:46:11,873 - distributed.utils_perf - WARNING - full garbage collections took 82% CPU time recently (threshold: 10%)\n",
      "2024-02-01 16:46:11,988 - distributed.utils_perf - WARNING - full garbage collections took 82% CPU time recently (threshold: 10%)\n",
      "[16:46:17] task [xgboost.dask-0]:tcp://127.0.0.1:40795 got new rank 0\n",
      "[16:46:24] WARNING: /workspace/src/learner.cc:742: \n",
      "Parameters: { \"predictor\" } are not used.\n",
      "\n",
      "2024-02-01 16:46:25,246 - distributed.utils_perf - WARNING - full garbage collections took 82% CPU time recently (threshold: 10%)\n",
      "2024-02-01 16:46:25,362 - distributed.utils_perf - WARNING - full garbage collections took 82% CPU time recently (threshold: 10%)\n",
      "[16:46:30] task [xgboost.dask-0]:tcp://127.0.0.1:40795 got new rank 0\n",
      "[16:46:37] WARNING: /workspace/src/learner.cc:742: \n",
      "Parameters: { \"predictor\" } are not used.\n",
      "\n",
      "2024-02-01 16:46:38,487 - distributed.utils_perf - WARNING - full garbage collections took 82% CPU time recently (threshold: 10%)\n",
      "2024-02-01 16:46:38,602 - distributed.utils_perf - WARNING - full garbage collections took 82% CPU time recently (threshold: 10%)\n",
      "[16:46:44] task [xgboost.dask-0]:tcp://127.0.0.1:40795 got new rank 0\n",
      "[16:46:52] WARNING: /workspace/src/learner.cc:742: \n",
      "Parameters: { \"predictor\" } are not used.\n",
      "\n",
      "2024-02-01 16:46:53,264 - distributed.utils_perf - WARNING - full garbage collections took 82% CPU time recently (threshold: 10%)\n",
      "2024-02-01 16:46:53,382 - distributed.utils_perf - WARNING - full garbage collections took 82% CPU time recently (threshold: 10%)\n",
      "[16:46:58] task [xgboost.dask-0]:tcp://127.0.0.1:40795 got new rank 0\n",
      "[16:47:06] WARNING: /workspace/src/learner.cc:742: \n",
      "Parameters: { \"predictor\" } are not used.\n",
      "\n",
      "2024-02-01 16:47:07,830 - distributed.utils_perf - WARNING - full garbage collections took 82% CPU time recently (threshold: 10%)\n",
      "2024-02-01 16:47:07,946 - distributed.utils_perf - WARNING - full garbage collections took 82% CPU time recently (threshold: 10%)\n",
      "[16:47:13] task [xgboost.dask-0]:tcp://127.0.0.1:40795 got new rank 0\n",
      "[16:47:20] WARNING: /workspace/src/learner.cc:742: \n",
      "Parameters: { \"predictor\" } are not used.\n",
      "\n",
      "2024-02-01 16:47:21,583 - distributed.utils_perf - WARNING - full garbage collections took 82% CPU time recently (threshold: 10%)\n",
      "2024-02-01 16:47:21,700 - distributed.utils_perf - WARNING - full garbage collections took 82% CPU time recently (threshold: 10%)\n",
      "[16:47:27] task [xgboost.dask-0]:tcp://127.0.0.1:40795 got new rank 0\n",
      "[16:47:34] WARNING: /workspace/src/learner.cc:742: \n",
      "Parameters: { \"predictor\" } are not used.\n",
      "\n",
      "2024-02-01 16:47:35,569 - distributed.utils_perf - WARNING - full garbage collections took 82% CPU time recently (threshold: 10%)\n",
      "2024-02-01 16:47:35,685 - distributed.utils_perf - WARNING - full garbage collections took 82% CPU time recently (threshold: 10%)\n",
      "[16:47:41] task [xgboost.dask-0]:tcp://127.0.0.1:40795 got new rank 0\n",
      "[16:47:48] WARNING: /workspace/src/learner.cc:742: \n",
      "Parameters: { \"predictor\" } are not used.\n",
      "\n",
      "2024-02-01 16:47:49,303 - distributed.utils_perf - WARNING - full garbage collections took 82% CPU time recently (threshold: 10%)\n",
      "2024-02-01 16:47:49,420 - distributed.utils_perf - WARNING - full garbage collections took 82% CPU time recently (threshold: 10%)\n",
      "[16:47:55] task [xgboost.dask-0]:tcp://127.0.0.1:40795 got new rank 0\n",
      "[16:48:02] WARNING: /workspace/src/learner.cc:742: \n",
      "Parameters: { \"predictor\" } are not used.\n",
      "\n",
      "2024-02-01 16:48:03,927 - distributed.utils_perf - WARNING - full garbage collections took 82% CPU time recently (threshold: 10%)\n",
      "2024-02-01 16:48:04,042 - distributed.utils_perf - WARNING - full garbage collections took 82% CPU time recently (threshold: 10%)\n",
      "[16:48:09] task [xgboost.dask-0]:tcp://127.0.0.1:40795 got new rank 0\n",
      "[16:48:17] WARNING: /workspace/src/learner.cc:742: \n",
      "Parameters: { \"predictor\" } are not used.\n",
      "\n",
      "2024-02-01 16:48:18,520 - distributed.utils_perf - WARNING - full garbage collections took 82% CPU time recently (threshold: 10%)\n",
      "2024-02-01 16:48:18,635 - distributed.utils_perf - WARNING - full garbage collections took 82% CPU time recently (threshold: 10%)\n",
      "[16:48:24] task [xgboost.dask-0]:tcp://127.0.0.1:40795 got new rank 0\n",
      "[16:48:30] WARNING: /workspace/src/learner.cc:742: \n",
      "Parameters: { \"predictor\" } are not used.\n",
      "\n",
      "2024-02-01 16:48:31,932 - distributed.utils_perf - WARNING - full garbage collections took 82% CPU time recently (threshold: 10%)\n",
      "2024-02-01 16:48:32,047 - distributed.utils_perf - WARNING - full garbage collections took 82% CPU time recently (threshold: 10%)\n",
      "[16:48:37] task [xgboost.dask-0]:tcp://127.0.0.1:40795 got new rank 0\n",
      "[16:48:44] WARNING: /workspace/src/learner.cc:742: \n",
      "Parameters: { \"predictor\" } are not used.\n",
      "\n",
      "2024-02-01 16:48:45,443 - distributed.utils_perf - WARNING - full garbage collections took 82% CPU time recently (threshold: 10%)\n",
      "2024-02-01 16:48:45,559 - distributed.utils_perf - WARNING - full garbage collections took 82% CPU time recently (threshold: 10%)\n",
      "[16:48:51] task [xgboost.dask-0]:tcp://127.0.0.1:40795 got new rank 0\n",
      "[16:48:58] WARNING: /workspace/src/learner.cc:742: \n",
      "Parameters: { \"predictor\" } are not used.\n",
      "\n",
      "2024-02-01 16:48:59,080 - distributed.utils_perf - WARNING - full garbage collections took 82% CPU time recently (threshold: 10%)\n",
      "2024-02-01 16:48:59,198 - distributed.utils_perf - WARNING - full garbage collections took 82% CPU time recently (threshold: 10%)\n",
      "[16:49:05] task [xgboost.dask-0]:tcp://127.0.0.1:40795 got new rank 0\n",
      "[16:49:13] WARNING: /workspace/src/learner.cc:742: \n",
      "Parameters: { \"predictor\" } are not used.\n",
      "\n",
      "2024-02-01 16:49:14,493 - distributed.utils_perf - WARNING - full garbage collections took 82% CPU time recently (threshold: 10%)\n",
      "2024-02-01 16:49:14,608 - distributed.utils_perf - WARNING - full garbage collections took 82% CPU time recently (threshold: 10%)\n",
      "[16:49:20] task [xgboost.dask-0]:tcp://127.0.0.1:40795 got new rank 0\n",
      "[16:49:28] WARNING: /workspace/src/learner.cc:742: \n",
      "Parameters: { \"predictor\" } are not used.\n",
      "\n",
      "2024-02-01 16:49:29,521 - distributed.utils_perf - WARNING - full garbage collections took 82% CPU time recently (threshold: 10%)\n",
      "2024-02-01 16:49:29,637 - distributed.utils_perf - WARNING - full garbage collections took 82% CPU time recently (threshold: 10%)\n",
      "[16:49:35] task [xgboost.dask-0]:tcp://127.0.0.1:40795 got new rank 0\n",
      "[16:49:42] WARNING: /workspace/src/learner.cc:742: \n",
      "Parameters: { \"predictor\" } are not used.\n",
      "\n",
      "2024-02-01 16:49:43,655 - distributed.utils_perf - WARNING - full garbage collections took 82% CPU time recently (threshold: 10%)\n",
      "2024-02-01 16:49:43,773 - distributed.utils_perf - WARNING - full garbage collections took 82% CPU time recently (threshold: 10%)\n",
      "[16:49:49] task [xgboost.dask-0]:tcp://127.0.0.1:40795 got new rank 0\n",
      "[16:49:56] WARNING: /workspace/src/learner.cc:742: \n",
      "Parameters: { \"predictor\" } are not used.\n",
      "\n",
      "2024-02-01 16:49:57,899 - distributed.utils_perf - WARNING - full garbage collections took 82% CPU time recently (threshold: 10%)\n",
      "2024-02-01 16:49:58,015 - distributed.utils_perf - WARNING - full garbage collections took 82% CPU time recently (threshold: 10%)\n",
      "[16:50:03] task [xgboost.dask-0]:tcp://127.0.0.1:40795 got new rank 0\n",
      "[16:50:10] WARNING: /workspace/src/learner.cc:742: \n",
      "Parameters: { \"predictor\" } are not used.\n",
      "\n",
      "2024-02-01 16:50:11,958 - distributed.utils_perf - WARNING - full garbage collections took 82% CPU time recently (threshold: 10%)\n",
      "2024-02-01 16:50:12,075 - distributed.utils_perf - WARNING - full garbage collections took 82% CPU time recently (threshold: 10%)\n",
      "[16:50:18] task [xgboost.dask-0]:tcp://127.0.0.1:40795 got new rank 0\n",
      "[16:50:26] WARNING: /workspace/src/learner.cc:742: \n",
      "Parameters: { \"predictor\" } are not used.\n",
      "\n",
      "2024-02-01 16:50:27,780 - distributed.utils_perf - WARNING - full garbage collections took 82% CPU time recently (threshold: 10%)\n",
      "2024-02-01 16:50:27,900 - distributed.utils_perf - WARNING - full garbage collections took 82% CPU time recently (threshold: 10%)\n",
      "[16:50:33] task [xgboost.dask-0]:tcp://127.0.0.1:40795 got new rank 0\n",
      "[16:50:42] WARNING: /workspace/src/learner.cc:742: \n",
      "Parameters: { \"predictor\" } are not used.\n",
      "\n",
      "2024-02-01 16:50:43,317 - distributed.utils_perf - WARNING - full garbage collections took 82% CPU time recently (threshold: 10%)\n",
      "2024-02-01 16:50:43,433 - distributed.utils_perf - WARNING - full garbage collections took 82% CPU time recently (threshold: 10%)\n",
      "[16:50:49] task [xgboost.dask-0]:tcp://127.0.0.1:40795 got new rank 0\n",
      "[16:50:56] WARNING: /workspace/src/learner.cc:742: \n",
      "Parameters: { \"predictor\" } are not used.\n",
      "\n",
      "2024-02-01 16:50:57,837 - distributed.utils_perf - WARNING - full garbage collections took 82% CPU time recently (threshold: 10%)\n",
      "2024-02-01 16:50:57,954 - distributed.utils_perf - WARNING - full garbage collections took 82% CPU time recently (threshold: 10%)\n",
      "[16:51:03] task [xgboost.dask-0]:tcp://127.0.0.1:40795 got new rank 0\n",
      "[16:51:11] WARNING: /workspace/src/learner.cc:742: \n",
      "Parameters: { \"predictor\" } are not used.\n",
      "\n",
      "2024-02-01 16:51:12,396 - distributed.utils_perf - WARNING - full garbage collections took 82% CPU time recently (threshold: 10%)\n",
      "2024-02-01 16:51:12,512 - distributed.utils_perf - WARNING - full garbage collections took 82% CPU time recently (threshold: 10%)\n",
      "[16:51:18] task [xgboost.dask-0]:tcp://127.0.0.1:40795 got new rank 0\n",
      "[16:51:25] WARNING: /workspace/src/learner.cc:742: \n",
      "Parameters: { \"predictor\" } are not used.\n",
      "\n",
      "2024-02-01 16:51:26,714 - distributed.utils_perf - WARNING - full garbage collections took 82% CPU time recently (threshold: 10%)\n",
      "2024-02-01 16:51:26,830 - distributed.utils_perf - WARNING - full garbage collections took 82% CPU time recently (threshold: 10%)\n",
      "[16:51:32] task [xgboost.dask-0]:tcp://127.0.0.1:40795 got new rank 0\n",
      "[16:51:42] WARNING: /workspace/src/learner.cc:742: \n",
      "Parameters: { \"predictor\" } are not used.\n",
      "\n",
      "2024-02-01 16:51:43,385 - distributed.utils_perf - WARNING - full garbage collections took 82% CPU time recently (threshold: 10%)\n",
      "2024-02-01 16:51:43,501 - distributed.utils_perf - WARNING - full garbage collections took 82% CPU time recently (threshold: 10%)\n",
      "[16:51:49] task [xgboost.dask-0]:tcp://127.0.0.1:40795 got new rank 0\n",
      "[16:51:58] WARNING: /workspace/src/learner.cc:742: \n",
      "Parameters: { \"predictor\" } are not used.\n",
      "\n",
      "2024-02-01 16:52:00,110 - distributed.utils_perf - WARNING - full garbage collections took 82% CPU time recently (threshold: 10%)\n",
      "2024-02-01 16:52:00,229 - distributed.utils_perf - WARNING - full garbage collections took 82% CPU time recently (threshold: 10%)\n",
      "[16:52:05] task [xgboost.dask-0]:tcp://127.0.0.1:40795 got new rank 0\n",
      "[16:52:14] WARNING: /workspace/src/learner.cc:742: \n",
      "Parameters: { \"predictor\" } are not used.\n",
      "\n",
      "2024-02-01 16:52:15,729 - distributed.utils_perf - WARNING - full garbage collections took 82% CPU time recently (threshold: 10%)\n",
      "2024-02-01 16:52:15,847 - distributed.utils_perf - WARNING - full garbage collections took 82% CPU time recently (threshold: 10%)\n",
      "[16:52:21] task [xgboost.dask-0]:tcp://127.0.0.1:40795 got new rank 0\n",
      "[16:52:30] WARNING: /workspace/src/learner.cc:742: \n",
      "Parameters: { \"predictor\" } are not used.\n",
      "\n",
      "2024-02-01 16:52:31,488 - distributed.utils_perf - WARNING - full garbage collections took 82% CPU time recently (threshold: 10%)\n",
      "2024-02-01 16:52:31,604 - distributed.utils_perf - WARNING - full garbage collections took 82% CPU time recently (threshold: 10%)\n",
      "[16:52:37] task [xgboost.dask-0]:tcp://127.0.0.1:40795 got new rank 0\n",
      "[16:52:46] WARNING: /workspace/src/learner.cc:742: \n",
      "Parameters: { \"predictor\" } are not used.\n",
      "\n",
      "2024-02-01 16:52:47,415 - distributed.utils_perf - WARNING - full garbage collections took 82% CPU time recently (threshold: 10%)\n",
      "2024-02-01 16:52:47,533 - distributed.utils_perf - WARNING - full garbage collections took 82% CPU time recently (threshold: 10%)\n",
      "[16:52:53] task [xgboost.dask-0]:tcp://127.0.0.1:40795 got new rank 0\n",
      "[16:53:01] WARNING: /workspace/src/learner.cc:742: \n",
      "Parameters: { \"predictor\" } are not used.\n",
      "\n",
      "2024-02-01 16:53:03,157 - distributed.utils_perf - WARNING - full garbage collections took 82% CPU time recently (threshold: 10%)\n",
      "2024-02-01 16:53:03,275 - distributed.utils_perf - WARNING - full garbage collections took 82% CPU time recently (threshold: 10%)\n",
      "[16:53:09] task [xgboost.dask-0]:tcp://127.0.0.1:40795 got new rank 0\n",
      "[16:53:17] WARNING: /workspace/src/learner.cc:742: \n",
      "Parameters: { \"predictor\" } are not used.\n",
      "\n",
      "2024-02-01 16:53:18,673 - distributed.utils_perf - WARNING - full garbage collections took 82% CPU time recently (threshold: 10%)\n",
      "2024-02-01 16:53:18,791 - distributed.utils_perf - WARNING - full garbage collections took 82% CPU time recently (threshold: 10%)\n",
      "[16:53:24] task [xgboost.dask-0]:tcp://127.0.0.1:40795 got new rank 0\n",
      "[16:53:31] WARNING: /workspace/src/learner.cc:742: \n",
      "Parameters: { \"predictor\" } are not used.\n",
      "\n",
      "2024-02-01 16:53:33,003 - distributed.utils_perf - WARNING - full garbage collections took 82% CPU time recently (threshold: 10%)\n",
      "2024-02-01 16:53:33,120 - distributed.utils_perf - WARNING - full garbage collections took 82% CPU time recently (threshold: 10%)\n",
      "[16:53:39] task [xgboost.dask-0]:tcp://127.0.0.1:40795 got new rank 0\n",
      "[16:53:46] WARNING: /workspace/src/learner.cc:742: \n",
      "Parameters: { \"predictor\" } are not used.\n",
      "\n",
      "2024-02-01 16:53:47,680 - distributed.utils_perf - WARNING - full garbage collections took 82% CPU time recently (threshold: 10%)\n",
      "2024-02-01 16:53:47,798 - distributed.utils_perf - WARNING - full garbage collections took 82% CPU time recently (threshold: 10%)\n",
      "[16:53:53] task [xgboost.dask-0]:tcp://127.0.0.1:40795 got new rank 0\n",
      "[16:54:01] WARNING: /workspace/src/learner.cc:742: \n",
      "Parameters: { \"predictor\" } are not used.\n",
      "\n",
      "2024-02-01 16:54:02,273 - distributed.utils_perf - WARNING - full garbage collections took 82% CPU time recently (threshold: 10%)\n",
      "2024-02-01 16:54:02,393 - distributed.utils_perf - WARNING - full garbage collections took 82% CPU time recently (threshold: 10%)\n",
      "[16:54:08] task [xgboost.dask-0]:tcp://127.0.0.1:40795 got new rank 0\n",
      "[16:54:16] WARNING: /workspace/src/learner.cc:742: \n",
      "Parameters: { \"predictor\" } are not used.\n",
      "\n",
      "2024-02-01 16:54:17,633 - distributed.utils_perf - WARNING - full garbage collections took 82% CPU time recently (threshold: 10%)\n",
      "2024-02-01 16:54:17,749 - distributed.utils_perf - WARNING - full garbage collections took 82% CPU time recently (threshold: 10%)\n",
      "[16:54:23] task [xgboost.dask-0]:tcp://127.0.0.1:40795 got new rank 0\n",
      "[16:54:31] WARNING: /workspace/src/learner.cc:742: \n",
      "Parameters: { \"predictor\" } are not used.\n",
      "\n",
      "2024-02-01 16:54:32,898 - distributed.utils_perf - WARNING - full garbage collections took 82% CPU time recently (threshold: 10%)\n",
      "2024-02-01 16:54:33,012 - distributed.utils_perf - WARNING - full garbage collections took 82% CPU time recently (threshold: 10%)\n",
      "[16:54:38] task [xgboost.dask-0]:tcp://127.0.0.1:40795 got new rank 0\n",
      "[16:54:46] WARNING: /workspace/src/learner.cc:742: \n",
      "Parameters: { \"predictor\" } are not used.\n",
      "\n",
      "2024-02-01 16:54:47,139 - distributed.utils_perf - WARNING - full garbage collections took 82% CPU time recently (threshold: 10%)\n",
      "2024-02-01 16:54:47,257 - distributed.utils_perf - WARNING - full garbage collections took 82% CPU time recently (threshold: 10%)\n",
      "[16:54:52] task [xgboost.dask-0]:tcp://127.0.0.1:40795 got new rank 0\n",
      "[16:55:00] WARNING: /workspace/src/learner.cc:742: \n",
      "Parameters: { \"predictor\" } are not used.\n",
      "\n",
      "2024-02-01 16:55:01,375 - distributed.utils_perf - WARNING - full garbage collections took 82% CPU time recently (threshold: 10%)\n",
      "2024-02-01 16:55:01,490 - distributed.utils_perf - WARNING - full garbage collections took 82% CPU time recently (threshold: 10%)\n",
      "[16:55:07] task [xgboost.dask-0]:tcp://127.0.0.1:40795 got new rank 0\n",
      "[16:55:14] WARNING: /workspace/src/learner.cc:742: \n",
      "Parameters: { \"predictor\" } are not used.\n",
      "\n",
      "2024-02-01 16:55:15,456 - distributed.utils_perf - WARNING - full garbage collections took 82% CPU time recently (threshold: 10%)\n",
      "2024-02-01 16:55:15,570 - distributed.utils_perf - WARNING - full garbage collections took 82% CPU time recently (threshold: 10%)\n",
      "[16:55:21] task [xgboost.dask-0]:tcp://127.0.0.1:40795 got new rank 0\n",
      "[16:55:30] WARNING: /workspace/src/learner.cc:742: \n",
      "Parameters: { \"predictor\" } are not used.\n",
      "\n",
      "2024-02-01 16:55:31,704 - distributed.utils_perf - WARNING - full garbage collections took 82% CPU time recently (threshold: 10%)\n",
      "2024-02-01 16:55:31,819 - distributed.utils_perf - WARNING - full garbage collections took 82% CPU time recently (threshold: 10%)\n",
      "[16:55:37] task [xgboost.dask-0]:tcp://127.0.0.1:40795 got new rank 0\n",
      "[16:55:46] WARNING: /workspace/src/learner.cc:742: \n",
      "Parameters: { \"predictor\" } are not used.\n",
      "\n",
      "2024-02-01 16:55:47,735 - distributed.utils_perf - WARNING - full garbage collections took 82% CPU time recently (threshold: 10%)\n",
      "2024-02-01 16:55:47,844 - distributed.utils_perf - WARNING - full garbage collections took 82% CPU time recently (threshold: 10%)\n",
      "[16:55:53] task [xgboost.dask-0]:tcp://127.0.0.1:40795 got new rank 0\n",
      "[16:56:02] WARNING: /workspace/src/learner.cc:742: \n",
      "Parameters: { \"predictor\" } are not used.\n",
      "\n",
      "2024-02-01 16:56:03,278 - distributed.utils_perf - WARNING - full garbage collections took 82% CPU time recently (threshold: 10%)\n",
      "2024-02-01 16:56:03,394 - distributed.utils_perf - WARNING - full garbage collections took 82% CPU time recently (threshold: 10%)\n",
      "[16:56:09] task [xgboost.dask-0]:tcp://127.0.0.1:40795 got new rank 0\n",
      "[16:56:17] WARNING: /workspace/src/learner.cc:742: \n",
      "Parameters: { \"predictor\" } are not used.\n",
      "\n",
      "2024-02-01 16:56:18,458 - distributed.utils_perf - WARNING - full garbage collections took 82% CPU time recently (threshold: 10%)\n",
      "2024-02-01 16:56:18,567 - distributed.utils_perf - WARNING - full garbage collections took 82% CPU time recently (threshold: 10%)\n",
      "[16:56:24] task [xgboost.dask-0]:tcp://127.0.0.1:40795 got new rank 0\n",
      "[16:56:32] WARNING: /workspace/src/learner.cc:742: \n",
      "Parameters: { \"predictor\" } are not used.\n",
      "\n",
      "2024-02-01 16:56:33,596 - distributed.utils_perf - WARNING - full garbage collections took 82% CPU time recently (threshold: 10%)\n",
      "2024-02-01 16:56:33,714 - distributed.utils_perf - WARNING - full garbage collections took 82% CPU time recently (threshold: 10%)\n",
      "[16:56:39] task [xgboost.dask-0]:tcp://127.0.0.1:40795 got new rank 0\n",
      "[16:56:47] WARNING: /workspace/src/learner.cc:742: \n",
      "Parameters: { \"predictor\" } are not used.\n",
      "\n",
      "2024-02-01 16:56:48,694 - distributed.utils_perf - WARNING - full garbage collections took 82% CPU time recently (threshold: 10%)\n",
      "2024-02-01 16:56:48,809 - distributed.utils_perf - WARNING - full garbage collections took 82% CPU time recently (threshold: 10%)\n",
      "[16:56:54] task [xgboost.dask-0]:tcp://127.0.0.1:40795 got new rank 0\n",
      "[16:57:02] WARNING: /workspace/src/learner.cc:742: \n",
      "Parameters: { \"predictor\" } are not used.\n",
      "\n",
      "2024-02-01 16:57:03,674 - distributed.utils_perf - WARNING - full garbage collections took 82% CPU time recently (threshold: 10%)\n",
      "2024-02-01 16:57:03,791 - distributed.utils_perf - WARNING - full garbage collections took 82% CPU time recently (threshold: 10%)\n",
      "[16:57:09] task [xgboost.dask-0]:tcp://127.0.0.1:40795 got new rank 0\n",
      "[16:57:16] WARNING: /workspace/src/learner.cc:742: \n",
      "Parameters: { \"predictor\" } are not used.\n",
      "\n",
      "2024-02-01 16:57:17,951 - distributed.utils_perf - WARNING - full garbage collections took 82% CPU time recently (threshold: 10%)\n",
      "2024-02-01 16:57:18,066 - distributed.utils_perf - WARNING - full garbage collections took 82% CPU time recently (threshold: 10%)\n",
      "[16:57:23] task [xgboost.dask-0]:tcp://127.0.0.1:40795 got new rank 0\n",
      "[16:57:30] WARNING: /workspace/src/learner.cc:742: \n",
      "Parameters: { \"predictor\" } are not used.\n",
      "\n",
      "2024-02-01 16:57:32,072 - distributed.utils_perf - WARNING - full garbage collections took 82% CPU time recently (threshold: 10%)\n",
      "2024-02-01 16:57:32,181 - distributed.utils_perf - WARNING - full garbage collections took 82% CPU time recently (threshold: 10%)\n",
      "[16:57:37] task [xgboost.dask-0]:tcp://127.0.0.1:40795 got new rank 0\n",
      "[16:57:45] WARNING: /workspace/src/learner.cc:742: \n",
      "Parameters: { \"predictor\" } are not used.\n",
      "\n",
      "2024-02-01 16:57:46,308 - distributed.utils_perf - WARNING - full garbage collections took 82% CPU time recently (threshold: 10%)\n",
      "2024-02-01 16:57:46,426 - distributed.utils_perf - WARNING - full garbage collections took 82% CPU time recently (threshold: 10%)\n",
      "[16:57:52] task [xgboost.dask-0]:tcp://127.0.0.1:40795 got new rank 0\n",
      "[16:58:00] WARNING: /workspace/src/learner.cc:742: \n",
      "Parameters: { \"predictor\" } are not used.\n",
      "\n",
      "2024-02-01 16:58:01,903 - distributed.utils_perf - WARNING - full garbage collections took 82% CPU time recently (threshold: 10%)\n",
      "2024-02-01 16:58:02,014 - distributed.utils_perf - WARNING - full garbage collections took 82% CPU time recently (threshold: 10%)\n",
      "[16:58:08] task [xgboost.dask-0]:tcp://127.0.0.1:40795 got new rank 0\n",
      "[16:58:16] WARNING: /workspace/src/learner.cc:742: \n",
      "Parameters: { \"predictor\" } are not used.\n",
      "\n",
      "2024-02-01 16:58:17,535 - distributed.utils_perf - WARNING - full garbage collections took 82% CPU time recently (threshold: 10%)\n",
      "2024-02-01 16:58:17,652 - distributed.utils_perf - WARNING - full garbage collections took 82% CPU time recently (threshold: 10%)\n",
      "[16:58:23] task [xgboost.dask-0]:tcp://127.0.0.1:40795 got new rank 0\n",
      "[16:58:31] WARNING: /workspace/src/learner.cc:742: \n",
      "Parameters: { \"predictor\" } are not used.\n",
      "\n",
      "2024-02-01 16:58:32,192 - distributed.utils_perf - WARNING - full garbage collections took 82% CPU time recently (threshold: 10%)\n",
      "2024-02-01 16:58:32,308 - distributed.utils_perf - WARNING - full garbage collections took 82% CPU time recently (threshold: 10%)\n",
      "[16:58:37] task [xgboost.dask-0]:tcp://127.0.0.1:40795 got new rank 0\n",
      "[16:58:45] WARNING: /workspace/src/learner.cc:742: \n",
      "Parameters: { \"predictor\" } are not used.\n",
      "\n",
      "2024-02-01 16:58:46,363 - distributed.utils_perf - WARNING - full garbage collections took 82% CPU time recently (threshold: 10%)\n",
      "2024-02-01 16:58:46,477 - distributed.utils_perf - WARNING - full garbage collections took 82% CPU time recently (threshold: 10%)\n",
      "[16:58:52] task [xgboost.dask-0]:tcp://127.0.0.1:40795 got new rank 0\n",
      "[16:58:59] WARNING: /workspace/src/learner.cc:742: \n",
      "Parameters: { \"predictor\" } are not used.\n",
      "\n",
      "2024-02-01 16:59:00,809 - distributed.utils_perf - WARNING - full garbage collections took 82% CPU time recently (threshold: 10%)\n",
      "2024-02-01 16:59:00,924 - distributed.utils_perf - WARNING - full garbage collections took 82% CPU time recently (threshold: 10%)\n",
      "[16:59:06] task [xgboost.dask-0]:tcp://127.0.0.1:40795 got new rank 0\n",
      "[16:59:15] WARNING: /workspace/src/learner.cc:742: \n",
      "Parameters: { \"predictor\" } are not used.\n",
      "\n",
      "2024-02-01 16:59:16,785 - distributed.utils_perf - WARNING - full garbage collections took 82% CPU time recently (threshold: 10%)\n",
      "2024-02-01 16:59:16,901 - distributed.utils_perf - WARNING - full garbage collections took 82% CPU time recently (threshold: 10%)\n",
      "[16:59:22] task [xgboost.dask-0]:tcp://127.0.0.1:40795 got new rank 0\n",
      "[16:59:31] WARNING: /workspace/src/learner.cc:742: \n",
      "Parameters: { \"predictor\" } are not used.\n",
      "\n",
      "2024-02-01 16:59:32,315 - distributed.utils_perf - WARNING - full garbage collections took 82% CPU time recently (threshold: 10%)\n",
      "2024-02-01 16:59:32,435 - distributed.utils_perf - WARNING - full garbage collections took 82% CPU time recently (threshold: 10%)\n",
      "[16:59:37] task [xgboost.dask-0]:tcp://127.0.0.1:40795 got new rank 0\n",
      "[16:59:45] WARNING: /workspace/src/learner.cc:742: \n",
      "Parameters: { \"predictor\" } are not used.\n",
      "\n",
      "2024-02-01 16:59:47,024 - distributed.utils_perf - WARNING - full garbage collections took 82% CPU time recently (threshold: 10%)\n",
      "2024-02-01 16:59:47,143 - distributed.utils_perf - WARNING - full garbage collections took 82% CPU time recently (threshold: 10%)\n",
      "[16:59:52] task [xgboost.dask-0]:tcp://127.0.0.1:40795 got new rank 0\n",
      "[17:00:00] WARNING: /workspace/src/learner.cc:742: \n",
      "Parameters: { \"predictor\" } are not used.\n",
      "\n",
      "2024-02-01 17:00:01,789 - distributed.utils_perf - WARNING - full garbage collections took 82% CPU time recently (threshold: 10%)\n",
      "2024-02-01 17:00:01,908 - distributed.utils_perf - WARNING - full garbage collections took 82% CPU time recently (threshold: 10%)\n",
      "[17:00:07] task [xgboost.dask-0]:tcp://127.0.0.1:40795 got new rank 0\n",
      "[17:00:15] WARNING: /workspace/src/learner.cc:742: \n",
      "Parameters: { \"predictor\" } are not used.\n",
      "\n",
      "2024-02-01 17:00:16,788 - distributed.utils_perf - WARNING - full garbage collections took 82% CPU time recently (threshold: 10%)\n",
      "2024-02-01 17:00:16,908 - distributed.utils_perf - WARNING - full garbage collections took 82% CPU time recently (threshold: 10%)\n",
      "[17:00:22] task [xgboost.dask-0]:tcp://127.0.0.1:40795 got new rank 0\n",
      "[17:00:30] WARNING: /workspace/src/learner.cc:742: \n",
      "Parameters: { \"predictor\" } are not used.\n",
      "\n",
      "2024-02-01 17:00:31,313 - distributed.utils_perf - WARNING - full garbage collections took 82% CPU time recently (threshold: 10%)\n",
      "2024-02-01 17:00:31,431 - distributed.utils_perf - WARNING - full garbage collections took 82% CPU time recently (threshold: 10%)\n",
      "[17:00:36] task [xgboost.dask-0]:tcp://127.0.0.1:40795 got new rank 0\n",
      "[17:00:44] WARNING: /workspace/src/learner.cc:742: \n",
      "Parameters: { \"predictor\" } are not used.\n",
      "\n",
      "2024-02-01 17:00:45,697 - distributed.utils_perf - WARNING - full garbage collections took 82% CPU time recently (threshold: 10%)\n",
      "2024-02-01 17:00:45,816 - distributed.utils_perf - WARNING - full garbage collections took 82% CPU time recently (threshold: 10%)\n",
      "[17:00:51] task [xgboost.dask-0]:tcp://127.0.0.1:40795 got new rank 0\n",
      "[17:00:58] WARNING: /workspace/src/learner.cc:742: \n",
      "Parameters: { \"predictor\" } are not used.\n",
      "\n",
      "2024-02-01 17:00:59,200 - distributed.utils_perf - WARNING - full garbage collections took 82% CPU time recently (threshold: 10%)\n",
      "2024-02-01 17:00:59,321 - distributed.utils_perf - WARNING - full garbage collections took 82% CPU time recently (threshold: 10%)\n",
      "[17:01:04] task [xgboost.dask-0]:tcp://127.0.0.1:40795 got new rank 0\n",
      "[17:01:11] WARNING: /workspace/src/learner.cc:742: \n",
      "Parameters: { \"predictor\" } are not used.\n",
      "\n",
      "2024-02-01 17:01:12,749 - distributed.utils_perf - WARNING - full garbage collections took 82% CPU time recently (threshold: 10%)\n",
      "2024-02-01 17:01:12,869 - distributed.utils_perf - WARNING - full garbage collections took 82% CPU time recently (threshold: 10%)\n",
      "[17:01:18] task [xgboost.dask-0]:tcp://127.0.0.1:40795 got new rank 0\n",
      "[17:01:25] WARNING: /workspace/src/learner.cc:742: \n",
      "Parameters: { \"predictor\" } are not used.\n",
      "\n",
      "2024-02-01 17:01:26,278 - distributed.utils_perf - WARNING - full garbage collections took 82% CPU time recently (threshold: 10%)\n",
      "2024-02-01 17:01:26,398 - distributed.utils_perf - WARNING - full garbage collections took 82% CPU time recently (threshold: 10%)\n",
      "[17:01:32] task [xgboost.dask-0]:tcp://127.0.0.1:40795 got new rank 0\n",
      "[17:01:39] WARNING: /workspace/src/learner.cc:742: \n",
      "Parameters: { \"predictor\" } are not used.\n",
      "\n",
      "2024-02-01 17:01:41,063 - distributed.utils_perf - WARNING - full garbage collections took 82% CPU time recently (threshold: 10%)\n",
      "2024-02-01 17:01:41,181 - distributed.utils_perf - WARNING - full garbage collections took 82% CPU time recently (threshold: 10%)\n",
      "[17:01:46] task [xgboost.dask-0]:tcp://127.0.0.1:40795 got new rank 0\n",
      "[17:01:54] WARNING: /workspace/src/learner.cc:742: \n",
      "Parameters: { \"predictor\" } are not used.\n",
      "\n",
      "2024-02-01 17:01:55,484 - distributed.utils_perf - WARNING - full garbage collections took 82% CPU time recently (threshold: 10%)\n",
      "2024-02-01 17:01:55,602 - distributed.utils_perf - WARNING - full garbage collections took 82% CPU time recently (threshold: 10%)\n",
      "[17:02:01] task [xgboost.dask-0]:tcp://127.0.0.1:40795 got new rank 0\n",
      "[17:02:08] WARNING: /workspace/src/learner.cc:742: \n",
      "Parameters: { \"predictor\" } are not used.\n",
      "\n",
      "2024-02-01 17:02:09,054 - distributed.utils_perf - WARNING - full garbage collections took 82% CPU time recently (threshold: 10%)\n",
      "2024-02-01 17:02:09,173 - distributed.utils_perf - WARNING - full garbage collections took 82% CPU time recently (threshold: 10%)\n",
      "[17:02:14] task [xgboost.dask-0]:tcp://127.0.0.1:40795 got new rank 0\n",
      "[17:02:21] WARNING: /workspace/src/learner.cc:742: \n",
      "Parameters: { \"predictor\" } are not used.\n",
      "\n",
      "2024-02-01 17:02:22,724 - distributed.utils_perf - WARNING - full garbage collections took 82% CPU time recently (threshold: 10%)\n",
      "2024-02-01 17:02:22,843 - distributed.utils_perf - WARNING - full garbage collections took 82% CPU time recently (threshold: 10%)\n",
      "[17:02:28] task [xgboost.dask-0]:tcp://127.0.0.1:40795 got new rank 0\n",
      "[17:02:35] WARNING: /workspace/src/learner.cc:742: \n",
      "Parameters: { \"predictor\" } are not used.\n",
      "\n",
      "2024-02-01 17:02:36,857 - distributed.utils_perf - WARNING - full garbage collections took 82% CPU time recently (threshold: 10%)\n",
      "2024-02-01 17:02:36,972 - distributed.utils_perf - WARNING - full garbage collections took 82% CPU time recently (threshold: 10%)\n",
      "[17:02:43] task [xgboost.dask-0]:tcp://127.0.0.1:40795 got new rank 0\n",
      "[17:02:50] WARNING: /workspace/src/learner.cc:742: \n",
      "Parameters: { \"predictor\" } are not used.\n",
      "\n",
      "2024-02-01 17:02:51,837 - distributed.utils_perf - WARNING - full garbage collections took 83% CPU time recently (threshold: 10%)\n",
      "2024-02-01 17:02:51,959 - distributed.utils_perf - WARNING - full garbage collections took 83% CPU time recently (threshold: 10%)\n",
      "[17:02:57] task [xgboost.dask-0]:tcp://127.0.0.1:40795 got new rank 0\n",
      "[17:03:05] WARNING: /workspace/src/learner.cc:742: \n",
      "Parameters: { \"predictor\" } are not used.\n",
      "\n",
      "2024-02-01 17:03:06,365 - distributed.utils_perf - WARNING - full garbage collections took 83% CPU time recently (threshold: 10%)\n",
      "2024-02-01 17:03:06,484 - distributed.utils_perf - WARNING - full garbage collections took 83% CPU time recently (threshold: 10%)\n",
      "[17:03:12] task [xgboost.dask-0]:tcp://127.0.0.1:40795 got new rank 0\n",
      "[17:03:19] WARNING: /workspace/src/learner.cc:742: \n",
      "Parameters: { \"predictor\" } are not used.\n",
      "\n",
      "2024-02-01 17:03:20,056 - distributed.utils_perf - WARNING - full garbage collections took 83% CPU time recently (threshold: 10%)\n",
      "2024-02-01 17:03:20,178 - distributed.utils_perf - WARNING - full garbage collections took 83% CPU time recently (threshold: 10%)\n",
      "[17:03:25] task [xgboost.dask-0]:tcp://127.0.0.1:40795 got new rank 0\n",
      "[17:03:32] WARNING: /workspace/src/learner.cc:742: \n",
      "Parameters: { \"predictor\" } are not used.\n",
      "\n",
      "2024-02-01 17:03:33,883 - distributed.utils_perf - WARNING - full garbage collections took 83% CPU time recently (threshold: 10%)\n",
      "2024-02-01 17:03:34,004 - distributed.utils_perf - WARNING - full garbage collections took 83% CPU time recently (threshold: 10%)\n",
      "[17:03:39] task [xgboost.dask-0]:tcp://127.0.0.1:40795 got new rank 0\n",
      "[17:03:46] WARNING: /workspace/src/learner.cc:742: \n",
      "Parameters: { \"predictor\" } are not used.\n",
      "\n",
      "2024-02-01 17:03:47,859 - distributed.utils_perf - WARNING - full garbage collections took 83% CPU time recently (threshold: 10%)\n",
      "2024-02-01 17:03:47,978 - distributed.utils_perf - WARNING - full garbage collections took 83% CPU time recently (threshold: 10%)\n",
      "[17:03:53] task [xgboost.dask-0]:tcp://127.0.0.1:40795 got new rank 0\n",
      "[17:04:02] WARNING: /workspace/src/learner.cc:742: \n",
      "Parameters: { \"predictor\" } are not used.\n",
      "\n",
      "2024-02-01 17:04:03,449 - distributed.utils_perf - WARNING - full garbage collections took 82% CPU time recently (threshold: 10%)\n",
      "2024-02-01 17:04:03,565 - distributed.utils_perf - WARNING - full garbage collections took 82% CPU time recently (threshold: 10%)\n",
      "[17:04:09] task [xgboost.dask-0]:tcp://127.0.0.1:40795 got new rank 0\n",
      "[17:04:17] WARNING: /workspace/src/learner.cc:742: \n",
      "Parameters: { \"predictor\" } are not used.\n",
      "\n",
      "2024-02-01 17:04:18,903 - distributed.utils_perf - WARNING - full garbage collections took 82% CPU time recently (threshold: 10%)\n",
      "2024-02-01 17:04:19,019 - distributed.utils_perf - WARNING - full garbage collections took 82% CPU time recently (threshold: 10%)\n",
      "[17:04:24] task [xgboost.dask-0]:tcp://127.0.0.1:40795 got new rank 0\n",
      "[17:04:32] WARNING: /workspace/src/learner.cc:742: \n",
      "Parameters: { \"predictor\" } are not used.\n",
      "\n",
      "2024-02-01 17:04:33,363 - distributed.utils_perf - WARNING - full garbage collections took 82% CPU time recently (threshold: 10%)\n",
      "2024-02-01 17:04:33,477 - distributed.utils_perf - WARNING - full garbage collections took 82% CPU time recently (threshold: 10%)\n",
      "[17:04:39] task [xgboost.dask-0]:tcp://127.0.0.1:40795 got new rank 0\n",
      "[17:04:47] WARNING: /workspace/src/learner.cc:742: \n",
      "Parameters: { \"predictor\" } are not used.\n",
      "\n",
      "2024-02-01 17:04:48,122 - distributed.utils_perf - WARNING - full garbage collections took 82% CPU time recently (threshold: 10%)\n",
      "2024-02-01 17:04:48,241 - distributed.utils_perf - WARNING - full garbage collections took 82% CPU time recently (threshold: 10%)\n",
      "[17:04:53] task [xgboost.dask-0]:tcp://127.0.0.1:40795 got new rank 0\n",
      "[17:05:01] WARNING: /workspace/src/learner.cc:742: \n",
      "Parameters: { \"predictor\" } are not used.\n",
      "\n",
      "2024-02-01 17:05:02,527 - distributed.utils_perf - WARNING - full garbage collections took 82% CPU time recently (threshold: 10%)\n",
      "2024-02-01 17:05:02,638 - distributed.utils_perf - WARNING - full garbage collections took 82% CPU time recently (threshold: 10%)\n",
      "[17:05:08] task [xgboost.dask-0]:tcp://127.0.0.1:40795 got new rank 0\n",
      "[17:05:16] WARNING: /workspace/src/learner.cc:742: \n",
      "Parameters: { \"predictor\" } are not used.\n",
      "\n",
      "2024-02-01 17:05:17,393 - distributed.utils_perf - WARNING - full garbage collections took 82% CPU time recently (threshold: 10%)\n",
      "2024-02-01 17:05:17,504 - distributed.utils_perf - WARNING - full garbage collections took 82% CPU time recently (threshold: 10%)\n",
      "[17:05:23] task [xgboost.dask-0]:tcp://127.0.0.1:40795 got new rank 0\n",
      "[17:05:31] WARNING: /workspace/src/learner.cc:742: \n",
      "Parameters: { \"predictor\" } are not used.\n",
      "\n",
      "2024-02-01 17:05:32,212 - distributed.utils_perf - WARNING - full garbage collections took 82% CPU time recently (threshold: 10%)\n",
      "2024-02-01 17:05:32,328 - distributed.utils_perf - WARNING - full garbage collections took 82% CPU time recently (threshold: 10%)\n",
      "[17:05:37] task [xgboost.dask-0]:tcp://127.0.0.1:40795 got new rank 0\n",
      "[17:05:44] WARNING: /workspace/src/learner.cc:742: \n",
      "Parameters: { \"predictor\" } are not used.\n",
      "\n",
      "2024-02-01 17:05:45,920 - distributed.utils_perf - WARNING - full garbage collections took 82% CPU time recently (threshold: 10%)\n",
      "2024-02-01 17:05:46,038 - distributed.utils_perf - WARNING - full garbage collections took 82% CPU time recently (threshold: 10%)\n",
      "[17:05:51] task [xgboost.dask-0]:tcp://127.0.0.1:40795 got new rank 0\n",
      "[17:05:58] WARNING: /workspace/src/learner.cc:742: \n",
      "Parameters: { \"predictor\" } are not used.\n",
      "\n",
      "2024-02-01 17:05:59,819 - distributed.utils_perf - WARNING - full garbage collections took 82% CPU time recently (threshold: 10%)\n",
      "2024-02-01 17:05:59,936 - distributed.utils_perf - WARNING - full garbage collections took 82% CPU time recently (threshold: 10%)\n",
      "[17:06:05] task [xgboost.dask-0]:tcp://127.0.0.1:40795 got new rank 0\n",
      "[17:06:12] WARNING: /workspace/src/learner.cc:742: \n",
      "Parameters: { \"predictor\" } are not used.\n",
      "\n",
      "2024-02-01 17:06:13,826 - distributed.utils_perf - WARNING - full garbage collections took 82% CPU time recently (threshold: 10%)\n",
      "2024-02-01 17:06:13,942 - distributed.utils_perf - WARNING - full garbage collections took 82% CPU time recently (threshold: 10%)\n"
     ]
    }
   ],
   "source": [
    "%%time\n",
    "study.optimize(objective, n_trials=500)\n",
    "df = study.trials_dataframe(attrs=('number', 'value', 'params', 'state'))\n",
    "df.to_csv('optuna_xgb_output_5.csv', index=False)\n",
    "df.head(20)"
   ]
  },
  {
   "cell_type": "code",
   "execution_count": 20,
   "id": "01258d83",
   "metadata": {},
   "outputs": [
    {
     "data": {
      "text/plain": [
       "0.2895797316411886"
      ]
     },
     "execution_count": 20,
     "metadata": {},
     "output_type": "execute_result"
    }
   ],
   "source": [
    "df.value.max()"
   ]
  },
  {
   "cell_type": "code",
   "execution_count": 21,
   "id": "f68aa91b",
   "metadata": {},
   "outputs": [
    {
     "data": {
      "text/plain": [
       "{'objective': 'binary:logistic',\n",
       " 'tree_method': 'hist',\n",
       " 'device': 'cuda',\n",
       " 'lambda': 0.016329246014877414,\n",
       " 'alpha': 3.33029065395022,\n",
       " 'colsample_bytree': 0.5456389940628341,\n",
       " 'subsample': 0.7684743978358726,\n",
       " 'learning_rate': 0.014586087705844453,\n",
       " 'max_depth': 7,\n",
       " 'min_child_weight': 135,\n",
       " 'eval_metric': 'logloss'}"
      ]
     },
     "execution_count": 21,
     "metadata": {},
     "output_type": "execute_result"
    }
   ],
   "source": [
    "study.best_trial.params"
   ]
  },
  {
   "cell_type": "code",
   "execution_count": 27,
   "id": "abe37adc-89fa-4656-b815-533f07bbbee3",
   "metadata": {},
   "outputs": [],
   "source": [
    "best_params = study.best_trial.params"
   ]
  },
  {
   "cell_type": "code",
   "execution_count": 31,
   "id": "4f7d66a2-b6a5-46cd-a4ce-692fce4ff72b",
   "metadata": {},
   "outputs": [],
   "source": [
    "test = delayed(pd.read_csv)(f'../input/X_test_df.csv.zip')\n",
    "test = dd.from_delayed(test)\n",
    "test = test[test.columns.difference(['id'])]"
   ]
  },
  {
   "cell_type": "code",
   "execution_count": 32,
   "id": "8195b7d1-5970-461a-a773-3076ed2984e9",
   "metadata": {},
   "outputs": [
    {
     "data": {
      "text/plain": [
       "(Delayed('int-54936ab0-f805-41aa-aaee-2750e5bf29f8'), 217)"
      ]
     },
     "execution_count": 32,
     "metadata": {},
     "output_type": "execute_result"
    }
   ],
   "source": [
    "test.shape"
   ]
  },
  {
   "cell_type": "code",
   "execution_count": 33,
   "id": "f961d2da-04d1-4f79-8e28-77720e16ef50",
   "metadata": {},
   "outputs": [
    {
     "data": {
      "text/html": [
       "<div>\n",
       "<style scoped>\n",
       "    .dataframe tbody tr th:only-of-type {\n",
       "        vertical-align: middle;\n",
       "    }\n",
       "\n",
       "    .dataframe tbody tr th {\n",
       "        vertical-align: top;\n",
       "    }\n",
       "\n",
       "    .dataframe thead th {\n",
       "        text-align: right;\n",
       "    }\n",
       "</style>\n",
       "<table border=\"1\" class=\"dataframe\">\n",
       "  <thead>\n",
       "    <tr style=\"text-align: right;\">\n",
       "      <th></th>\n",
       "      <th>col_0</th>\n",
       "      <th>col_1</th>\n",
       "      <th>col_10</th>\n",
       "      <th>col_100</th>\n",
       "      <th>col_101</th>\n",
       "      <th>col_102</th>\n",
       "      <th>col_103</th>\n",
       "      <th>col_104</th>\n",
       "      <th>col_105</th>\n",
       "      <th>col_106</th>\n",
       "      <th>...</th>\n",
       "      <th>col_90</th>\n",
       "      <th>col_91</th>\n",
       "      <th>col_92</th>\n",
       "      <th>col_93</th>\n",
       "      <th>col_94</th>\n",
       "      <th>col_95</th>\n",
       "      <th>col_96</th>\n",
       "      <th>col_97</th>\n",
       "      <th>col_98</th>\n",
       "      <th>col_99</th>\n",
       "    </tr>\n",
       "  </thead>\n",
       "  <tbody>\n",
       "    <tr>\n",
       "      <th>0</th>\n",
       "      <td>0.0</td>\n",
       "      <td>8.0</td>\n",
       "      <td>0.5</td>\n",
       "      <td>0.0</td>\n",
       "      <td>1.0</td>\n",
       "      <td>0.0</td>\n",
       "      <td>1.0</td>\n",
       "      <td>0.0</td>\n",
       "      <td>0.0</td>\n",
       "      <td>0.0</td>\n",
       "      <td>...</td>\n",
       "      <td>0.0</td>\n",
       "      <td>0.0</td>\n",
       "      <td>0.0</td>\n",
       "      <td>0.0</td>\n",
       "      <td>0.0</td>\n",
       "      <td>0.0</td>\n",
       "      <td>0.0</td>\n",
       "      <td>0.0</td>\n",
       "      <td>0.0</td>\n",
       "      <td>0.0</td>\n",
       "    </tr>\n",
       "    <tr>\n",
       "      <th>1</th>\n",
       "      <td>4.0</td>\n",
       "      <td>5.0</td>\n",
       "      <td>0.9</td>\n",
       "      <td>0.0</td>\n",
       "      <td>1.0</td>\n",
       "      <td>0.0</td>\n",
       "      <td>1.0</td>\n",
       "      <td>0.0</td>\n",
       "      <td>1.0</td>\n",
       "      <td>0.0</td>\n",
       "      <td>...</td>\n",
       "      <td>0.0</td>\n",
       "      <td>0.0</td>\n",
       "      <td>1.0</td>\n",
       "      <td>0.0</td>\n",
       "      <td>0.0</td>\n",
       "      <td>0.0</td>\n",
       "      <td>0.0</td>\n",
       "      <td>0.0</td>\n",
       "      <td>0.0</td>\n",
       "      <td>0.0</td>\n",
       "    </tr>\n",
       "    <tr>\n",
       "      <th>2</th>\n",
       "      <td>5.0</td>\n",
       "      <td>3.0</td>\n",
       "      <td>0.4</td>\n",
       "      <td>0.0</td>\n",
       "      <td>1.0</td>\n",
       "      <td>0.0</td>\n",
       "      <td>1.0</td>\n",
       "      <td>0.0</td>\n",
       "      <td>0.0</td>\n",
       "      <td>0.0</td>\n",
       "      <td>...</td>\n",
       "      <td>0.0</td>\n",
       "      <td>0.0</td>\n",
       "      <td>0.0</td>\n",
       "      <td>0.0</td>\n",
       "      <td>0.0</td>\n",
       "      <td>1.0</td>\n",
       "      <td>0.0</td>\n",
       "      <td>0.0</td>\n",
       "      <td>0.0</td>\n",
       "      <td>0.0</td>\n",
       "    </tr>\n",
       "    <tr>\n",
       "      <th>3</th>\n",
       "      <td>0.0</td>\n",
       "      <td>6.0</td>\n",
       "      <td>0.1</td>\n",
       "      <td>0.0</td>\n",
       "      <td>1.0</td>\n",
       "      <td>0.0</td>\n",
       "      <td>1.0</td>\n",
       "      <td>0.0</td>\n",
       "      <td>0.0</td>\n",
       "      <td>0.0</td>\n",
       "      <td>...</td>\n",
       "      <td>0.0</td>\n",
       "      <td>0.0</td>\n",
       "      <td>0.0</td>\n",
       "      <td>0.0</td>\n",
       "      <td>0.0</td>\n",
       "      <td>0.0</td>\n",
       "      <td>0.0</td>\n",
       "      <td>0.0</td>\n",
       "      <td>0.0</td>\n",
       "      <td>0.0</td>\n",
       "    </tr>\n",
       "    <tr>\n",
       "      <th>4</th>\n",
       "      <td>5.0</td>\n",
       "      <td>7.0</td>\n",
       "      <td>0.9</td>\n",
       "      <td>0.0</td>\n",
       "      <td>1.0</td>\n",
       "      <td>0.0</td>\n",
       "      <td>1.0</td>\n",
       "      <td>0.0</td>\n",
       "      <td>0.0</td>\n",
       "      <td>0.0</td>\n",
       "      <td>...</td>\n",
       "      <td>0.0</td>\n",
       "      <td>0.0</td>\n",
       "      <td>1.0</td>\n",
       "      <td>0.0</td>\n",
       "      <td>0.0</td>\n",
       "      <td>0.0</td>\n",
       "      <td>0.0</td>\n",
       "      <td>0.0</td>\n",
       "      <td>0.0</td>\n",
       "      <td>0.0</td>\n",
       "    </tr>\n",
       "  </tbody>\n",
       "</table>\n",
       "<p>5 rows × 217 columns</p>\n",
       "</div>"
      ],
      "text/plain": [
       "   col_0  col_1  col_10  col_100  col_101  col_102  col_103  col_104  col_105  \\\n",
       "0    0.0    8.0     0.5      0.0      1.0      0.0      1.0      0.0      0.0   \n",
       "1    4.0    5.0     0.9      0.0      1.0      0.0      1.0      0.0      1.0   \n",
       "2    5.0    3.0     0.4      0.0      1.0      0.0      1.0      0.0      0.0   \n",
       "3    0.0    6.0     0.1      0.0      1.0      0.0      1.0      0.0      0.0   \n",
       "4    5.0    7.0     0.9      0.0      1.0      0.0      1.0      0.0      0.0   \n",
       "\n",
       "   col_106  ...  col_90  col_91  col_92  col_93  col_94  col_95  col_96  \\\n",
       "0      0.0  ...     0.0     0.0     0.0     0.0     0.0     0.0     0.0   \n",
       "1      0.0  ...     0.0     0.0     1.0     0.0     0.0     0.0     0.0   \n",
       "2      0.0  ...     0.0     0.0     0.0     0.0     0.0     1.0     0.0   \n",
       "3      0.0  ...     0.0     0.0     0.0     0.0     0.0     0.0     0.0   \n",
       "4      0.0  ...     0.0     0.0     1.0     0.0     0.0     0.0     0.0   \n",
       "\n",
       "   col_97  col_98  col_99  \n",
       "0     0.0     0.0     0.0  \n",
       "1     0.0     0.0     0.0  \n",
       "2     0.0     0.0     0.0  \n",
       "3     0.0     0.0     0.0  \n",
       "4     0.0     0.0     0.0  \n",
       "\n",
       "[5 rows x 217 columns]"
      ]
     },
     "execution_count": 33,
     "metadata": {},
     "output_type": "execute_result"
    }
   ],
   "source": [
    "test.head()"
   ]
  },
  {
   "cell_type": "code",
   "execution_count": 34,
   "id": "1b735ccd-1c95-4289-9e8b-7c8a950c2012",
   "metadata": {},
   "outputs": [],
   "source": [
    "dtest = xgb.dask.DaskDMatrix(client, test.values, enable_categorical=True)"
   ]
  },
  {
   "cell_type": "code",
   "execution_count": 35,
   "id": "9f76dd97",
   "metadata": {},
   "outputs": [
    {
     "name": "stdout",
     "output_type": "stream",
     "text": [
      "0\n"
     ]
    },
    {
     "name": "stderr",
     "output_type": "stream",
     "text": [
      "[07:34:31] task [xgboost.dask-7]:tcp://127.0.0.1:41419 got new rank 0\n",
      "[07:34:39] WARNING: /workspace/src/learner.cc:742: \n",
      "Parameters: { \"predictor\" } are not used.\n",
      "\n",
      "2024-02-02 07:34:44,263 - distributed.utils_perf - WARNING - full garbage collections took 80% CPU time recently (threshold: 10%)\n",
      "2024-02-02 07:34:44,537 - distributed.utils_perf - WARNING - full garbage collections took 81% CPU time recently (threshold: 10%)\n"
     ]
    },
    {
     "name": "stdout",
     "output_type": "stream",
     "text": [
      "1\n"
     ]
    },
    {
     "name": "stderr",
     "output_type": "stream",
     "text": [
      "[07:34:49] task [xgboost.dask-4]:tcp://127.0.0.1:38713 got new rank 0\n",
      "[07:34:57] WARNING: /workspace/src/learner.cc:742: \n",
      "Parameters: { \"predictor\" } are not used.\n",
      "\n",
      "2024-02-02 07:35:02,674 - distributed.utils_perf - WARNING - full garbage collections took 81% CPU time recently (threshold: 10%)\n",
      "2024-02-02 07:35:02,967 - distributed.utils_perf - WARNING - full garbage collections took 81% CPU time recently (threshold: 10%)\n"
     ]
    },
    {
     "name": "stdout",
     "output_type": "stream",
     "text": [
      "2\n"
     ]
    },
    {
     "name": "stderr",
     "output_type": "stream",
     "text": [
      "[07:35:08] task [xgboost.dask-1]:tcp://127.0.0.1:45615 got new rank 0\n",
      "[07:35:15] WARNING: /workspace/src/learner.cc:742: \n",
      "Parameters: { \"predictor\" } are not used.\n",
      "\n",
      "2024-02-02 07:35:20,368 - distributed.utils_perf - WARNING - full garbage collections took 81% CPU time recently (threshold: 10%)\n",
      "2024-02-02 07:35:20,654 - distributed.utils_perf - WARNING - full garbage collections took 81% CPU time recently (threshold: 10%)\n"
     ]
    },
    {
     "name": "stdout",
     "output_type": "stream",
     "text": [
      "3\n"
     ]
    },
    {
     "name": "stderr",
     "output_type": "stream",
     "text": [
      "[07:35:26] task [xgboost.dask-0]:tcp://127.0.0.1:40795 got new rank 0\n",
      "[07:35:32] WARNING: /workspace/src/learner.cc:742: \n",
      "Parameters: { \"predictor\" } are not used.\n",
      "\n",
      "2024-02-02 07:35:37,341 - distributed.utils_perf - WARNING - full garbage collections took 81% CPU time recently (threshold: 10%)\n",
      "2024-02-02 07:35:37,627 - distributed.utils_perf - WARNING - full garbage collections took 81% CPU time recently (threshold: 10%)\n"
     ]
    },
    {
     "name": "stdout",
     "output_type": "stream",
     "text": [
      "4\n"
     ]
    },
    {
     "name": "stderr",
     "output_type": "stream",
     "text": [
      "[07:35:43] task [xgboost.dask-3]:tcp://127.0.0.1:38175 got new rank 0\n",
      "[07:35:50] WARNING: /workspace/src/learner.cc:742: \n",
      "Parameters: { \"predictor\" } are not used.\n",
      "\n",
      "2024-02-02 07:35:55,330 - distributed.utils_perf - WARNING - full garbage collections took 81% CPU time recently (threshold: 10%)\n",
      "2024-02-02 07:35:55,620 - distributed.utils_perf - WARNING - full garbage collections took 83% CPU time recently (threshold: 10%)\n"
     ]
    },
    {
     "name": "stdout",
     "output_type": "stream",
     "text": [
      "0.2895797316411886\n",
      "CPU times: user 6.55 s, sys: 3.47 s, total: 10 s\n",
      "Wall time: 1min 29s\n"
     ]
    }
   ],
   "source": [
    "%%time\n",
    "num_round = 1000\n",
    "train_oof = np.zeros((target.shape[0],))\n",
    "test_preds = 0\n",
    "\n",
    "kf = KFold(5, shuffle=True, random_state=137)\n",
    "\n",
    "for i, (train_index, val_index) in enumerate(kf.split(train,target)):\n",
    "        print(i)\n",
    "        dtrain = xgb.dask.DaskDMatrix(client, train_folds[i].values, train_ys[i], enable_categorical=True)\n",
    "        dval = xgb.dask.DaskDMatrix(client, val_folds[i].values, val_ys[i], enable_categorical=True)\n",
    "        \n",
    "        output = xgb.dask.train(client, best_params, dtrain, num_round)\n",
    "        booster = output['booster']  # booster is the trained model\n",
    "        booster.set_param({'predictor': 'gpu_predictor'})\n",
    "        val_predictions = xgb.dask.predict(client, booster, dval)\n",
    "        val_predictions = val_predictions.compute()\n",
    "\n",
    "        test_predictions = xgb.dask.predict(client, booster, dtest)\n",
    "        test_predictions = test_predictions.compute()\n",
    "    \n",
    "        train_oof[val_index] = val_predictions\n",
    "        test_preds += test_predictions/5\n",
    "    \n",
    "        del dtrain, dval, output\n",
    "        gc.collect()\n",
    "        gc.collect()\n",
    "\n",
    "gini = gini_normalized(target, train_oof)\n",
    "print(gini)"
   ]
  },
  {
   "cell_type": "code",
   "execution_count": 36,
   "id": "29a8a30c-8cf3-48f5-a620-5817732a4502",
   "metadata": {},
   "outputs": [
    {
     "data": {
      "text/plain": [
       "array([0.02825447, 0.02195566, 0.02305012, ..., 0.03104293, 0.02074758,\n",
       "       0.0294082 ], dtype=float32)"
      ]
     },
     "execution_count": 36,
     "metadata": {},
     "output_type": "execute_result"
    }
   ],
   "source": [
    "test_preds"
   ]
  },
  {
   "cell_type": "code",
   "execution_count": 38,
   "id": "8d4533b4-48f6-4c4a-ba1e-c2bf79a113c1",
   "metadata": {},
   "outputs": [
    {
     "data": {
      "text/plain": [
       "0.006525852"
      ]
     },
     "execution_count": 38,
     "metadata": {},
     "output_type": "execute_result"
    }
   ],
   "source": [
    "test_preds.min()"
   ]
  },
  {
   "cell_type": "code",
   "execution_count": 40,
   "id": "5a68086a-f1c7-4ae0-bac4-93d22cbbb922",
   "metadata": {},
   "outputs": [
    {
     "data": {
      "text/plain": [
       "0.27948254346847534"
      ]
     },
     "execution_count": 40,
     "metadata": {},
     "output_type": "execute_result"
    }
   ],
   "source": [
    "train_oof.max()"
   ]
  },
  {
   "cell_type": "code",
   "execution_count": 41,
   "id": "334fb58c-558e-438b-87ac-dc2b0d39c687",
   "metadata": {},
   "outputs": [
    {
     "data": {
      "text/plain": [
       "0.006003982853144407"
      ]
     },
     "execution_count": 41,
     "metadata": {},
     "output_type": "execute_result"
    }
   ],
   "source": [
    "train_oof.min()"
   ]
  },
  {
   "cell_type": "code",
   "execution_count": 42,
   "id": "0f4671b4-b98b-45f2-bd96-9d0c0b4b042f",
   "metadata": {},
   "outputs": [],
   "source": [
    "submission = pd.read_csv('../input/sample_submission.csv.zip')"
   ]
  },
  {
   "cell_type": "code",
   "execution_count": 43,
   "id": "b8c81fc7-026a-490a-ba3d-093e67b16ab8",
   "metadata": {},
   "outputs": [
    {
     "data": {
      "text/html": [
       "<div>\n",
       "<style scoped>\n",
       "    .dataframe tbody tr th:only-of-type {\n",
       "        vertical-align: middle;\n",
       "    }\n",
       "\n",
       "    .dataframe tbody tr th {\n",
       "        vertical-align: top;\n",
       "    }\n",
       "\n",
       "    .dataframe thead th {\n",
       "        text-align: right;\n",
       "    }\n",
       "</style>\n",
       "<table border=\"1\" class=\"dataframe\">\n",
       "  <thead>\n",
       "    <tr style=\"text-align: right;\">\n",
       "      <th></th>\n",
       "      <th>id</th>\n",
       "      <th>target</th>\n",
       "    </tr>\n",
       "  </thead>\n",
       "  <tbody>\n",
       "    <tr>\n",
       "      <th>0</th>\n",
       "      <td>0</td>\n",
       "      <td>0.028254</td>\n",
       "    </tr>\n",
       "    <tr>\n",
       "      <th>1</th>\n",
       "      <td>1</td>\n",
       "      <td>0.021956</td>\n",
       "    </tr>\n",
       "    <tr>\n",
       "      <th>2</th>\n",
       "      <td>2</td>\n",
       "      <td>0.023050</td>\n",
       "    </tr>\n",
       "    <tr>\n",
       "      <th>3</th>\n",
       "      <td>3</td>\n",
       "      <td>0.013815</td>\n",
       "    </tr>\n",
       "    <tr>\n",
       "      <th>4</th>\n",
       "      <td>4</td>\n",
       "      <td>0.035183</td>\n",
       "    </tr>\n",
       "  </tbody>\n",
       "</table>\n",
       "</div>"
      ],
      "text/plain": [
       "   id    target\n",
       "0   0  0.028254\n",
       "1   1  0.021956\n",
       "2   2  0.023050\n",
       "3   3  0.013815\n",
       "4   4  0.035183"
      ]
     },
     "execution_count": 43,
     "metadata": {},
     "output_type": "execute_result"
    }
   ],
   "source": [
    "submission['target'] = test_preds\n",
    "submission.head()"
   ]
  },
  {
   "cell_type": "code",
   "execution_count": 44,
   "id": "e1a61969-b352-4349-914c-120a01e592ad",
   "metadata": {},
   "outputs": [],
   "source": [
    "submission.to_csv('../submissions/best_xgb_oho_optuna_h100_0.csv', index=False)"
   ]
  },
  {
   "cell_type": "markdown",
   "id": "5f11ef55-6f3d-4c67-aa18-fecc65871f54",
   "metadata": {},
   "source": [
    "0.2849 public, 0.29105 private"
   ]
  },
  {
   "cell_type": "code",
   "execution_count": 45,
   "id": "b3ff051b-62c1-4e3f-8008-9e5a0b2d752a",
   "metadata": {},
   "outputs": [
    {
     "name": "stdout",
     "output_type": "stream",
     "text": [
      "0\n"
     ]
    },
    {
     "name": "stderr",
     "output_type": "stream",
     "text": [
      "[07:46:49] task [xgboost.dask-4]:tcp://127.0.0.1:38713 got new rank 0\n",
      "[07:46:57] WARNING: /workspace/src/learner.cc:742: \n",
      "Parameters: { \"predictor\" } are not used.\n",
      "\n",
      "2024-02-02 07:47:02,391 - distributed.utils_perf - WARNING - full garbage collections took 70% CPU time recently (threshold: 10%)\n",
      "2024-02-02 07:47:02,785 - distributed.utils_perf - WARNING - full garbage collections took 70% CPU time recently (threshold: 10%)\n"
     ]
    },
    {
     "name": "stdout",
     "output_type": "stream",
     "text": [
      "0\n"
     ]
    },
    {
     "name": "stderr",
     "output_type": "stream",
     "text": [
      "[07:47:08] task [xgboost.dask-1]:tcp://127.0.0.1:45615 got new rank 0\n",
      "[07:47:16] WARNING: /workspace/src/learner.cc:742: \n",
      "Parameters: { \"predictor\" } are not used.\n",
      "\n",
      "2024-02-02 07:47:21,265 - distributed.utils_perf - WARNING - full garbage collections took 70% CPU time recently (threshold: 10%)\n",
      "2024-02-02 07:47:21,655 - distributed.utils_perf - WARNING - full garbage collections took 71% CPU time recently (threshold: 10%)\n"
     ]
    },
    {
     "name": "stdout",
     "output_type": "stream",
     "text": [
      "0\n"
     ]
    },
    {
     "name": "stderr",
     "output_type": "stream",
     "text": [
      "[07:47:27] task [xgboost.dask-0]:tcp://127.0.0.1:40795 got new rank 0\n",
      "[07:47:34] WARNING: /workspace/src/learner.cc:742: \n",
      "Parameters: { \"predictor\" } are not used.\n",
      "\n",
      "2024-02-02 07:47:39,786 - distributed.utils_perf - WARNING - full garbage collections took 71% CPU time recently (threshold: 10%)\n",
      "2024-02-02 07:47:40,164 - distributed.utils_perf - WARNING - full garbage collections took 72% CPU time recently (threshold: 10%)\n"
     ]
    },
    {
     "name": "stdout",
     "output_type": "stream",
     "text": [
      "0\n"
     ]
    },
    {
     "name": "stderr",
     "output_type": "stream",
     "text": [
      "[07:47:45] task [xgboost.dask-3]:tcp://127.0.0.1:38175 got new rank 0\n",
      "[07:47:53] WARNING: /workspace/src/learner.cc:742: \n",
      "Parameters: { \"predictor\" } are not used.\n",
      "\n",
      "2024-02-02 07:47:59,039 - distributed.utils_perf - WARNING - full garbage collections took 72% CPU time recently (threshold: 10%)\n",
      "2024-02-02 07:47:59,436 - distributed.utils_perf - WARNING - full garbage collections took 72% CPU time recently (threshold: 10%)\n"
     ]
    },
    {
     "name": "stdout",
     "output_type": "stream",
     "text": [
      "0\n"
     ]
    },
    {
     "name": "stderr",
     "output_type": "stream",
     "text": [
      "[07:48:05] task [xgboost.dask-2]:tcp://127.0.0.1:43677 got new rank 0\n",
      "[07:48:13] WARNING: /workspace/src/learner.cc:742: \n",
      "Parameters: { \"predictor\" } are not used.\n",
      "\n",
      "2024-02-02 07:48:18,042 - distributed.utils_perf - WARNING - full garbage collections took 74% CPU time recently (threshold: 10%)\n",
      "2024-02-02 07:48:18,438 - distributed.utils_perf - WARNING - full garbage collections took 74% CPU time recently (threshold: 10%)\n"
     ]
    },
    {
     "name": "stdout",
     "output_type": "stream",
     "text": [
      "1\n"
     ]
    },
    {
     "name": "stderr",
     "output_type": "stream",
     "text": [
      "[07:48:24] task [xgboost.dask-6]:tcp://127.0.0.1:38997 got new rank 0\n",
      "[07:48:31] WARNING: /workspace/src/learner.cc:742: \n",
      "Parameters: { \"predictor\" } are not used.\n",
      "\n",
      "2024-02-02 07:48:36,910 - distributed.utils_perf - WARNING - full garbage collections took 74% CPU time recently (threshold: 10%)\n",
      "2024-02-02 07:48:37,316 - distributed.utils_perf - WARNING - full garbage collections took 75% CPU time recently (threshold: 10%)\n"
     ]
    },
    {
     "name": "stdout",
     "output_type": "stream",
     "text": [
      "1\n"
     ]
    },
    {
     "name": "stderr",
     "output_type": "stream",
     "text": [
      "[07:48:43] task [xgboost.dask-5]:tcp://127.0.0.1:34431 got new rank 0\n",
      "[07:48:51] WARNING: /workspace/src/learner.cc:742: \n",
      "Parameters: { \"predictor\" } are not used.\n",
      "\n",
      "2024-02-02 07:48:56,322 - distributed.utils_perf - WARNING - full garbage collections took 75% CPU time recently (threshold: 10%)\n",
      "2024-02-02 07:48:56,699 - distributed.utils_perf - WARNING - full garbage collections took 75% CPU time recently (threshold: 10%)\n"
     ]
    },
    {
     "name": "stdout",
     "output_type": "stream",
     "text": [
      "1\n"
     ]
    },
    {
     "name": "stderr",
     "output_type": "stream",
     "text": [
      "[07:49:02] task [xgboost.dask-7]:tcp://127.0.0.1:41419 got new rank 0\n",
      "[07:49:10] WARNING: /workspace/src/learner.cc:742: \n",
      "Parameters: { \"predictor\" } are not used.\n",
      "\n",
      "2024-02-02 07:49:15,342 - distributed.utils_perf - WARNING - full garbage collections took 75% CPU time recently (threshold: 10%)\n",
      "2024-02-02 07:49:15,737 - distributed.utils_perf - WARNING - full garbage collections took 76% CPU time recently (threshold: 10%)\n"
     ]
    },
    {
     "name": "stdout",
     "output_type": "stream",
     "text": [
      "1\n"
     ]
    },
    {
     "name": "stderr",
     "output_type": "stream",
     "text": [
      "[07:49:21] task [xgboost.dask-4]:tcp://127.0.0.1:38713 got new rank 0\n",
      "[07:49:28] WARNING: /workspace/src/learner.cc:742: \n",
      "Parameters: { \"predictor\" } are not used.\n",
      "\n",
      "2024-02-02 07:49:33,714 - distributed.utils_perf - WARNING - full garbage collections took 76% CPU time recently (threshold: 10%)\n",
      "2024-02-02 07:49:34,109 - distributed.utils_perf - WARNING - full garbage collections took 76% CPU time recently (threshold: 10%)\n"
     ]
    },
    {
     "name": "stdout",
     "output_type": "stream",
     "text": [
      "1\n"
     ]
    },
    {
     "name": "stderr",
     "output_type": "stream",
     "text": [
      "[07:49:39] task [xgboost.dask-1]:tcp://127.0.0.1:45615 got new rank 0\n",
      "[07:49:47] WARNING: /workspace/src/learner.cc:742: \n",
      "Parameters: { \"predictor\" } are not used.\n",
      "\n",
      "2024-02-02 07:49:52,575 - distributed.utils_perf - WARNING - full garbage collections took 79% CPU time recently (threshold: 10%)\n",
      "2024-02-02 07:49:52,969 - distributed.utils_perf - WARNING - full garbage collections took 82% CPU time recently (threshold: 10%)\n"
     ]
    },
    {
     "name": "stdout",
     "output_type": "stream",
     "text": [
      "2\n"
     ]
    },
    {
     "name": "stderr",
     "output_type": "stream",
     "text": [
      "[07:49:58] task [xgboost.dask-0]:tcp://127.0.0.1:40795 got new rank 0\n",
      "[07:50:05] WARNING: /workspace/src/learner.cc:742: \n",
      "Parameters: { \"predictor\" } are not used.\n",
      "\n",
      "2024-02-02 07:50:09,871 - distributed.utils_perf - WARNING - full garbage collections took 83% CPU time recently (threshold: 10%)\n",
      "2024-02-02 07:50:10,266 - distributed.utils_perf - WARNING - full garbage collections took 83% CPU time recently (threshold: 10%)\n"
     ]
    },
    {
     "name": "stdout",
     "output_type": "stream",
     "text": [
      "2\n"
     ]
    },
    {
     "name": "stderr",
     "output_type": "stream",
     "text": [
      "[07:50:15] task [xgboost.dask-3]:tcp://127.0.0.1:38175 got new rank 0\n",
      "[07:50:23] WARNING: /workspace/src/learner.cc:742: \n",
      "Parameters: { \"predictor\" } are not used.\n",
      "\n",
      "2024-02-02 07:50:28,112 - distributed.utils_perf - WARNING - full garbage collections took 83% CPU time recently (threshold: 10%)\n",
      "2024-02-02 07:50:28,487 - distributed.utils_perf - WARNING - full garbage collections took 83% CPU time recently (threshold: 10%)\n"
     ]
    },
    {
     "name": "stdout",
     "output_type": "stream",
     "text": [
      "2\n"
     ]
    },
    {
     "name": "stderr",
     "output_type": "stream",
     "text": [
      "[07:50:33] task [xgboost.dask-2]:tcp://127.0.0.1:43677 got new rank 0\n",
      "[07:50:41] WARNING: /workspace/src/learner.cc:742: \n",
      "Parameters: { \"predictor\" } are not used.\n",
      "\n",
      "2024-02-02 07:50:45,796 - distributed.utils_perf - WARNING - full garbage collections took 83% CPU time recently (threshold: 10%)\n",
      "2024-02-02 07:50:46,193 - distributed.utils_perf - WARNING - full garbage collections took 83% CPU time recently (threshold: 10%)\n"
     ]
    },
    {
     "name": "stdout",
     "output_type": "stream",
     "text": [
      "2\n"
     ]
    },
    {
     "name": "stderr",
     "output_type": "stream",
     "text": [
      "[07:50:52] task [xgboost.dask-6]:tcp://127.0.0.1:38997 got new rank 0\n",
      "[07:50:59] WARNING: /workspace/src/learner.cc:742: \n",
      "Parameters: { \"predictor\" } are not used.\n",
      "\n",
      "2024-02-02 07:51:04,107 - distributed.utils_perf - WARNING - full garbage collections took 83% CPU time recently (threshold: 10%)\n",
      "2024-02-02 07:51:04,486 - distributed.utils_perf - WARNING - full garbage collections took 83% CPU time recently (threshold: 10%)\n"
     ]
    },
    {
     "name": "stdout",
     "output_type": "stream",
     "text": [
      "2\n"
     ]
    },
    {
     "name": "stderr",
     "output_type": "stream",
     "text": [
      "[07:51:10] task [xgboost.dask-5]:tcp://127.0.0.1:34431 got new rank 0\n",
      "[07:51:17] WARNING: /workspace/src/learner.cc:742: \n",
      "Parameters: { \"predictor\" } are not used.\n",
      "\n",
      "2024-02-02 07:51:22,400 - distributed.utils_perf - WARNING - full garbage collections took 84% CPU time recently (threshold: 10%)\n",
      "2024-02-02 07:51:22,801 - distributed.utils_perf - WARNING - full garbage collections took 90% CPU time recently (threshold: 10%)\n"
     ]
    },
    {
     "name": "stdout",
     "output_type": "stream",
     "text": [
      "3\n"
     ]
    },
    {
     "name": "stderr",
     "output_type": "stream",
     "text": [
      "[07:51:28] task [xgboost.dask-7]:tcp://127.0.0.1:41419 got new rank 0\n",
      "[07:51:35] WARNING: /workspace/src/learner.cc:742: \n",
      "Parameters: { \"predictor\" } are not used.\n",
      "\n",
      "2024-02-02 07:51:40,364 - distributed.utils_perf - WARNING - full garbage collections took 97% CPU time recently (threshold: 10%)\n",
      "2024-02-02 07:51:40,762 - distributed.utils_perf - WARNING - full garbage collections took 97% CPU time recently (threshold: 10%)\n"
     ]
    },
    {
     "name": "stdout",
     "output_type": "stream",
     "text": [
      "3\n"
     ]
    },
    {
     "name": "stderr",
     "output_type": "stream",
     "text": [
      "[07:51:46] task [xgboost.dask-4]:tcp://127.0.0.1:38713 got new rank 0\n",
      "[07:51:53] WARNING: /workspace/src/learner.cc:742: \n",
      "Parameters: { \"predictor\" } are not used.\n",
      "\n",
      "2024-02-02 07:51:58,298 - distributed.utils_perf - WARNING - full garbage collections took 97% CPU time recently (threshold: 10%)\n",
      "2024-02-02 07:51:58,697 - distributed.utils_perf - WARNING - full garbage collections took 97% CPU time recently (threshold: 10%)\n"
     ]
    },
    {
     "name": "stdout",
     "output_type": "stream",
     "text": [
      "3\n"
     ]
    },
    {
     "name": "stderr",
     "output_type": "stream",
     "text": [
      "[07:52:04] task [xgboost.dask-1]:tcp://127.0.0.1:45615 got new rank 0\n",
      "[07:52:11] WARNING: /workspace/src/learner.cc:742: \n",
      "Parameters: { \"predictor\" } are not used.\n",
      "\n",
      "2024-02-02 07:52:16,122 - distributed.utils_perf - WARNING - full garbage collections took 97% CPU time recently (threshold: 10%)\n",
      "2024-02-02 07:52:16,500 - distributed.utils_perf - WARNING - full garbage collections took 97% CPU time recently (threshold: 10%)\n"
     ]
    },
    {
     "name": "stdout",
     "output_type": "stream",
     "text": [
      "3\n"
     ]
    },
    {
     "name": "stderr",
     "output_type": "stream",
     "text": [
      "[07:52:21] task [xgboost.dask-0]:tcp://127.0.0.1:40795 got new rank 0\n",
      "[07:52:29] WARNING: /workspace/src/learner.cc:742: \n",
      "Parameters: { \"predictor\" } are not used.\n",
      "\n",
      "2024-02-02 07:52:33,816 - distributed.utils_perf - WARNING - full garbage collections took 97% CPU time recently (threshold: 10%)\n",
      "2024-02-02 07:52:34,216 - distributed.utils_perf - WARNING - full garbage collections took 97% CPU time recently (threshold: 10%)\n"
     ]
    },
    {
     "name": "stdout",
     "output_type": "stream",
     "text": [
      "3\n"
     ]
    },
    {
     "name": "stderr",
     "output_type": "stream",
     "text": [
      "[07:52:39] task [xgboost.dask-3]:tcp://127.0.0.1:38175 got new rank 0\n",
      "[07:52:47] WARNING: /workspace/src/learner.cc:742: \n",
      "Parameters: { \"predictor\" } are not used.\n",
      "\n",
      "2024-02-02 07:52:51,904 - distributed.utils_perf - WARNING - full garbage collections took 97% CPU time recently (threshold: 10%)\n",
      "2024-02-02 07:52:52,283 - distributed.utils_perf - WARNING - full garbage collections took 97% CPU time recently (threshold: 10%)\n"
     ]
    },
    {
     "name": "stdout",
     "output_type": "stream",
     "text": [
      "4\n"
     ]
    },
    {
     "name": "stderr",
     "output_type": "stream",
     "text": [
      "[07:52:57] task [xgboost.dask-2]:tcp://127.0.0.1:43677 got new rank 0\n",
      "[07:53:04] WARNING: /workspace/src/learner.cc:742: \n",
      "Parameters: { \"predictor\" } are not used.\n",
      "\n",
      "2024-02-02 07:53:09,630 - distributed.utils_perf - WARNING - full garbage collections took 97% CPU time recently (threshold: 10%)\n",
      "2024-02-02 07:53:10,028 - distributed.utils_perf - WARNING - full garbage collections took 97% CPU time recently (threshold: 10%)\n"
     ]
    },
    {
     "name": "stdout",
     "output_type": "stream",
     "text": [
      "4\n"
     ]
    },
    {
     "name": "stderr",
     "output_type": "stream",
     "text": [
      "[07:53:15] task [xgboost.dask-6]:tcp://127.0.0.1:38997 got new rank 0\n",
      "[07:53:22] WARNING: /workspace/src/learner.cc:742: \n",
      "Parameters: { \"predictor\" } are not used.\n",
      "\n",
      "2024-02-02 07:53:27,982 - distributed.utils_perf - WARNING - full garbage collections took 97% CPU time recently (threshold: 10%)\n",
      "2024-02-02 07:53:28,369 - distributed.utils_perf - WARNING - full garbage collections took 97% CPU time recently (threshold: 10%)\n"
     ]
    },
    {
     "name": "stdout",
     "output_type": "stream",
     "text": [
      "4\n"
     ]
    },
    {
     "name": "stderr",
     "output_type": "stream",
     "text": [
      "[07:53:34] task [xgboost.dask-5]:tcp://127.0.0.1:34431 got new rank 0\n",
      "[07:53:41] WARNING: /workspace/src/learner.cc:742: \n",
      "Parameters: { \"predictor\" } are not used.\n",
      "\n",
      "2024-02-02 07:53:46,009 - distributed.utils_perf - WARNING - full garbage collections took 97% CPU time recently (threshold: 10%)\n",
      "2024-02-02 07:53:46,408 - distributed.utils_perf - WARNING - full garbage collections took 97% CPU time recently (threshold: 10%)\n"
     ]
    },
    {
     "name": "stdout",
     "output_type": "stream",
     "text": [
      "4\n"
     ]
    },
    {
     "name": "stderr",
     "output_type": "stream",
     "text": [
      "[07:53:52] task [xgboost.dask-7]:tcp://127.0.0.1:41419 got new rank 0\n",
      "[07:53:59] WARNING: /workspace/src/learner.cc:742: \n",
      "Parameters: { \"predictor\" } are not used.\n",
      "\n",
      "2024-02-02 07:54:04,253 - distributed.utils_perf - WARNING - full garbage collections took 97% CPU time recently (threshold: 10%)\n",
      "2024-02-02 07:54:04,635 - distributed.utils_perf - WARNING - full garbage collections took 97% CPU time recently (threshold: 10%)\n"
     ]
    },
    {
     "name": "stdout",
     "output_type": "stream",
     "text": [
      "4\n"
     ]
    },
    {
     "name": "stderr",
     "output_type": "stream",
     "text": [
      "[07:54:10] task [xgboost.dask-4]:tcp://127.0.0.1:38713 got new rank 0\n",
      "[07:54:17] WARNING: /workspace/src/learner.cc:742: \n",
      "Parameters: { \"predictor\" } are not used.\n",
      "\n",
      "2024-02-02 07:54:22,199 - distributed.utils_perf - WARNING - full garbage collections took 97% CPU time recently (threshold: 10%)\n",
      "2024-02-02 07:54:22,599 - distributed.utils_perf - WARNING - full garbage collections took 97% CPU time recently (threshold: 10%)\n"
     ]
    },
    {
     "ename": "TypeError",
     "evalue": "'numpy.float64' object is not callable",
     "output_type": "error",
     "traceback": [
      "\u001b[0;31m---------------------------------------------------------------------------\u001b[0m",
      "\u001b[0;31mTypeError\u001b[0m                                 Traceback (most recent call last)",
      "File \u001b[0;32m<timed exec>:35\u001b[0m\n",
      "Cell \u001b[0;32mIn[9], line 12\u001b[0m, in \u001b[0;36mgini_normalized\u001b[0;34m(a, p)\u001b[0m\n\u001b[1;32m     11\u001b[0m \u001b[38;5;28;01mdef\u001b[39;00m \u001b[38;5;21mgini_normalized\u001b[39m(a, p):\n\u001b[0;32m---> 12\u001b[0m     \u001b[38;5;28;01mreturn\u001b[39;00m \u001b[43mgini\u001b[49m\u001b[43m(\u001b[49m\u001b[43ma\u001b[49m\u001b[43m,\u001b[49m\u001b[43m \u001b[49m\u001b[43mp\u001b[49m\u001b[43m)\u001b[49m \u001b[38;5;241m/\u001b[39m gini(a, a)\n",
      "\u001b[0;31mTypeError\u001b[0m: 'numpy.float64' object is not callable"
     ]
    }
   ],
   "source": [
    "%%time\n",
    "num_round = 1000\n",
    "n_seeds = 5\n",
    "n_folds = 5\n",
    "\n",
    "train_oof = np.zeros((target.shape[0],))\n",
    "test_preds = 0\n",
    "\n",
    "kf = KFold(n_folds, shuffle=True, random_state=137)\n",
    "\n",
    "for i, (train_index, val_index) in enumerate(kf.split(train,target)):\n",
    "    for jj in range(n_seeds):\n",
    "\n",
    "        best_params['random_state'] = 3*jj**2+1777\n",
    "    \n",
    "        print(i)\n",
    "        dtrain = xgb.dask.DaskDMatrix(client, train_folds[i].values, train_ys[i], enable_categorical=True)\n",
    "        dval = xgb.dask.DaskDMatrix(client, val_folds[i].values, val_ys[i], enable_categorical=True)\n",
    "        \n",
    "        output = xgb.dask.train(client, best_params, dtrain, num_round)\n",
    "        booster = output['booster']  # booster is the trained model\n",
    "        booster.set_param({'predictor': 'gpu_predictor'})\n",
    "        val_predictions = xgb.dask.predict(client, booster, dval)\n",
    "        val_predictions = val_predictions.compute()\n",
    "\n",
    "        test_predictions = xgb.dask.predict(client, booster, dtest)\n",
    "        test_predictions = test_predictions.compute()\n",
    "    \n",
    "        train_oof[val_index] += val_predictions/n_seeds\n",
    "        test_preds += test_predictions/(n_folds*n_seeds)\n",
    "    \n",
    "        del dtrain, dval, output\n",
    "        gc.collect()\n",
    "        gc.collect()\n",
    "\n",
    "gini = gini_normalized(target, train_oof)\n",
    "print(gini)"
   ]
  },
  {
   "cell_type": "code",
   "execution_count": 48,
   "id": "f061b1a2-d6a6-4784-b23a-b314b067db1c",
   "metadata": {},
   "outputs": [
    {
     "data": {
      "text/plain": [
       "0.2905692458152771"
      ]
     },
     "execution_count": 48,
     "metadata": {},
     "output_type": "execute_result"
    }
   ],
   "source": [
    "train_oof.max()"
   ]
  },
  {
   "cell_type": "code",
   "execution_count": 52,
   "id": "793c89f6-82d6-4b62-b109-8e38b9ed8faf",
   "metadata": {},
   "outputs": [
    {
     "ename": "TypeError",
     "evalue": "'numpy.float64' object is not callable",
     "output_type": "error",
     "traceback": [
      "\u001b[0;31m---------------------------------------------------------------------------\u001b[0m",
      "\u001b[0;31mTypeError\u001b[0m                                 Traceback (most recent call last)",
      "Cell \u001b[0;32mIn[52], line 1\u001b[0m\n\u001b[0;32m----> 1\u001b[0m \u001b[43mgini\u001b[49m\u001b[43m(\u001b[49m\u001b[43mtarget\u001b[49m\u001b[43m,\u001b[49m\u001b[43m \u001b[49m\u001b[43mtrain_oof\u001b[49m\u001b[43m)\u001b[49m\n",
      "\u001b[0;31mTypeError\u001b[0m: 'numpy.float64' object is not callable"
     ]
    }
   ],
   "source": [
    "gini(target, train_oof)"
   ]
  },
  {
   "cell_type": "code",
   "execution_count": 55,
   "id": "d60e3c9e-5a86-488d-8ca7-307006b138c7",
   "metadata": {},
   "outputs": [
    {
     "ename": "AttributeError",
     "evalue": "'numpy.ndarray' object has no attribute 'type'",
     "output_type": "error",
     "traceback": [
      "\u001b[0;31m---------------------------------------------------------------------------\u001b[0m",
      "\u001b[0;31mAttributeError\u001b[0m                            Traceback (most recent call last)",
      "Cell \u001b[0;32mIn[55], line 1\u001b[0m\n\u001b[0;32m----> 1\u001b[0m \u001b[43mtrain_oof\u001b[49m\u001b[38;5;241;43m.\u001b[39;49m\u001b[43mtype\u001b[49m()\n",
      "\u001b[0;31mAttributeError\u001b[0m: 'numpy.ndarray' object has no attribute 'type'"
     ]
    }
   ],
   "source": [
    "train_oof"
   ]
  },
  {
   "cell_type": "code",
   "execution_count": 50,
   "id": "69aa82ce-49b9-42d4-a602-085d7c36c482",
   "metadata": {},
   "outputs": [
    {
     "data": {
      "text/plain": [
       "array([0.04382015, 0.03149953, 0.01924309, ..., 0.01722216, 0.02299856,\n",
       "       0.01950087], dtype=float32)"
      ]
     },
     "execution_count": 50,
     "metadata": {},
     "output_type": "execute_result"
    }
   ],
   "source": [
    "train_oof.astype(np.float32)"
   ]
  },
  {
   "cell_type": "code",
   "execution_count": 58,
   "id": "871e9cf5-8cc4-41c5-9f71-4827c701ac0d",
   "metadata": {},
   "outputs": [
    {
     "data": {
      "text/plain": [
       "0.2892946965464846"
      ]
     },
     "execution_count": 58,
     "metadata": {},
     "output_type": "execute_result"
    }
   ],
   "source": [
    "gini_normalized(target, train_oof)"
   ]
  },
  {
   "cell_type": "code",
   "execution_count": 59,
   "id": "f81cf1b3-a7df-42f0-b9f3-46d65f168668",
   "metadata": {},
   "outputs": [
    {
     "data": {
      "text/html": [
       "<div>\n",
       "<style scoped>\n",
       "    .dataframe tbody tr th:only-of-type {\n",
       "        vertical-align: middle;\n",
       "    }\n",
       "\n",
       "    .dataframe tbody tr th {\n",
       "        vertical-align: top;\n",
       "    }\n",
       "\n",
       "    .dataframe thead th {\n",
       "        text-align: right;\n",
       "    }\n",
       "</style>\n",
       "<table border=\"1\" class=\"dataframe\">\n",
       "  <thead>\n",
       "    <tr style=\"text-align: right;\">\n",
       "      <th></th>\n",
       "      <th>id</th>\n",
       "      <th>target</th>\n",
       "    </tr>\n",
       "  </thead>\n",
       "  <tbody>\n",
       "    <tr>\n",
       "      <th>0</th>\n",
       "      <td>0</td>\n",
       "      <td>0.027935</td>\n",
       "    </tr>\n",
       "    <tr>\n",
       "      <th>1</th>\n",
       "      <td>1</td>\n",
       "      <td>0.022870</td>\n",
       "    </tr>\n",
       "    <tr>\n",
       "      <th>2</th>\n",
       "      <td>2</td>\n",
       "      <td>0.023015</td>\n",
       "    </tr>\n",
       "    <tr>\n",
       "      <th>3</th>\n",
       "      <td>3</td>\n",
       "      <td>0.013951</td>\n",
       "    </tr>\n",
       "    <tr>\n",
       "      <th>4</th>\n",
       "      <td>4</td>\n",
       "      <td>0.035421</td>\n",
       "    </tr>\n",
       "  </tbody>\n",
       "</table>\n",
       "</div>"
      ],
      "text/plain": [
       "   id    target\n",
       "0   0  0.027935\n",
       "1   1  0.022870\n",
       "2   2  0.023015\n",
       "3   3  0.013951\n",
       "4   4  0.035421"
      ]
     },
     "execution_count": 59,
     "metadata": {},
     "output_type": "execute_result"
    }
   ],
   "source": [
    "submission['target'] = test_preds\n",
    "submission.head()"
   ]
  },
  {
   "cell_type": "code",
   "execution_count": 60,
   "id": "4bcf3773-5673-4a0f-afc7-d338a8b79996",
   "metadata": {},
   "outputs": [],
   "source": [
    "submission.to_csv('../submissions/best_xgb_oho_optuna_h100_1.csv', index=False)"
   ]
  },
  {
   "cell_type": "markdown",
   "id": "e88303fe-a798-4b6a-bb54-e3b7f2342699",
   "metadata": {},
   "source": [
    "0.28486 public, 0.29113 private"
   ]
  },
  {
   "cell_type": "code",
   "execution_count": 61,
   "id": "5a67c3d8-610b-4f06-b873-14b55d420468",
   "metadata": {
    "scrolled": true
   },
   "outputs": [
    {
     "name": "stdout",
     "output_type": "stream",
     "text": [
      "0\n",
      "0\n"
     ]
    },
    {
     "name": "stderr",
     "output_type": "stream",
     "text": [
      "[08:05:02] task [xgboost.dask-7]:tcp://127.0.0.1:41419 got new rank 0\n",
      "[08:05:10] WARNING: /workspace/src/learner.cc:742: \n",
      "Parameters: { \"predictor\" } are not used.\n",
      "\n",
      "2024-02-02 08:05:15,523 - distributed.utils_perf - WARNING - full garbage collections took 85% CPU time recently (threshold: 10%)\n",
      "2024-02-02 08:05:15,925 - distributed.utils_perf - WARNING - full garbage collections took 85% CPU time recently (threshold: 10%)\n"
     ]
    },
    {
     "name": "stdout",
     "output_type": "stream",
     "text": [
      "1\n"
     ]
    },
    {
     "name": "stderr",
     "output_type": "stream",
     "text": [
      "[08:05:21] task [xgboost.dask-4]:tcp://127.0.0.1:38713 got new rank 0\n",
      "[08:05:29] WARNING: /workspace/src/learner.cc:742: \n",
      "Parameters: { \"predictor\" } are not used.\n",
      "\n",
      "2024-02-02 08:05:34,519 - distributed.utils_perf - WARNING - full garbage collections took 85% CPU time recently (threshold: 10%)\n",
      "2024-02-02 08:05:34,914 - distributed.utils_perf - WARNING - full garbage collections took 85% CPU time recently (threshold: 10%)\n"
     ]
    },
    {
     "name": "stdout",
     "output_type": "stream",
     "text": [
      "2\n"
     ]
    },
    {
     "name": "stderr",
     "output_type": "stream",
     "text": [
      "[08:05:40] task [xgboost.dask-1]:tcp://127.0.0.1:45615 got new rank 0\n",
      "[08:05:48] WARNING: /workspace/src/learner.cc:742: \n",
      "Parameters: { \"predictor\" } are not used.\n",
      "\n",
      "2024-02-02 08:05:53,582 - distributed.utils_perf - WARNING - full garbage collections took 85% CPU time recently (threshold: 10%)\n",
      "2024-02-02 08:05:53,977 - distributed.utils_perf - WARNING - full garbage collections took 85% CPU time recently (threshold: 10%)\n"
     ]
    },
    {
     "name": "stdout",
     "output_type": "stream",
     "text": [
      "3\n"
     ]
    },
    {
     "name": "stderr",
     "output_type": "stream",
     "text": [
      "[08:05:59] task [xgboost.dask-0]:tcp://127.0.0.1:40795 got new rank 0\n",
      "[08:06:07] WARNING: /workspace/src/learner.cc:742: \n",
      "Parameters: { \"predictor\" } are not used.\n",
      "\n",
      "2024-02-02 08:06:12,575 - distributed.utils_perf - WARNING - full garbage collections took 85% CPU time recently (threshold: 10%)\n",
      "2024-02-02 08:06:12,977 - distributed.utils_perf - WARNING - full garbage collections took 85% CPU time recently (threshold: 10%)\n"
     ]
    },
    {
     "name": "stdout",
     "output_type": "stream",
     "text": [
      "4\n"
     ]
    },
    {
     "name": "stderr",
     "output_type": "stream",
     "text": [
      "[08:06:18] task [xgboost.dask-3]:tcp://127.0.0.1:38175 got new rank 0\n",
      "[08:06:26] WARNING: /workspace/src/learner.cc:742: \n",
      "Parameters: { \"predictor\" } are not used.\n",
      "\n",
      "2024-02-02 08:06:32,125 - distributed.utils_perf - WARNING - full garbage collections took 85% CPU time recently (threshold: 10%)\n",
      "2024-02-02 08:06:32,522 - distributed.utils_perf - WARNING - full garbage collections took 85% CPU time recently (threshold: 10%)\n"
     ]
    },
    {
     "name": "stdout",
     "output_type": "stream",
     "text": [
      "5\n"
     ]
    },
    {
     "name": "stderr",
     "output_type": "stream",
     "text": [
      "[08:06:37] task [xgboost.dask-2]:tcp://127.0.0.1:43677 got new rank 0\n",
      "[08:06:46] WARNING: /workspace/src/learner.cc:742: \n",
      "Parameters: { \"predictor\" } are not used.\n",
      "\n",
      "2024-02-02 08:06:51,396 - distributed.utils_perf - WARNING - full garbage collections took 85% CPU time recently (threshold: 10%)\n",
      "2024-02-02 08:06:51,805 - distributed.utils_perf - WARNING - full garbage collections took 85% CPU time recently (threshold: 10%)\n"
     ]
    },
    {
     "name": "stdout",
     "output_type": "stream",
     "text": [
      "6\n"
     ]
    },
    {
     "name": "stderr",
     "output_type": "stream",
     "text": [
      "[08:06:57] task [xgboost.dask-6]:tcp://127.0.0.1:38997 got new rank 0\n",
      "[08:07:05] WARNING: /workspace/src/learner.cc:742: \n",
      "Parameters: { \"predictor\" } are not used.\n",
      "\n",
      "2024-02-02 08:07:10,371 - distributed.utils_perf - WARNING - full garbage collections took 85% CPU time recently (threshold: 10%)\n",
      "2024-02-02 08:07:10,773 - distributed.utils_perf - WARNING - full garbage collections took 85% CPU time recently (threshold: 10%)\n"
     ]
    },
    {
     "name": "stdout",
     "output_type": "stream",
     "text": [
      "7\n"
     ]
    },
    {
     "name": "stderr",
     "output_type": "stream",
     "text": [
      "[08:07:16] task [xgboost.dask-5]:tcp://127.0.0.1:34431 got new rank 0\n",
      "[08:07:24] WARNING: /workspace/src/learner.cc:742: \n",
      "Parameters: { \"predictor\" } are not used.\n",
      "\n",
      "2024-02-02 08:07:29,417 - distributed.utils_perf - WARNING - full garbage collections took 85% CPU time recently (threshold: 10%)\n",
      "2024-02-02 08:07:29,819 - distributed.utils_perf - WARNING - full garbage collections took 85% CPU time recently (threshold: 10%)\n"
     ]
    },
    {
     "name": "stdout",
     "output_type": "stream",
     "text": [
      "8\n"
     ]
    },
    {
     "name": "stderr",
     "output_type": "stream",
     "text": [
      "[08:07:35] task [xgboost.dask-7]:tcp://127.0.0.1:41419 got new rank 0\n",
      "[08:07:42] WARNING: /workspace/src/learner.cc:742: \n",
      "Parameters: { \"predictor\" } are not used.\n",
      "\n",
      "2024-02-02 08:07:47,337 - distributed.utils_perf - WARNING - full garbage collections took 85% CPU time recently (threshold: 10%)\n",
      "2024-02-02 08:07:47,758 - distributed.utils_perf - WARNING - full garbage collections took 85% CPU time recently (threshold: 10%)\n"
     ]
    },
    {
     "name": "stdout",
     "output_type": "stream",
     "text": [
      "9\n"
     ]
    },
    {
     "name": "stderr",
     "output_type": "stream",
     "text": [
      "[08:07:53] task [xgboost.dask-4]:tcp://127.0.0.1:38713 got new rank 0\n",
      "[08:08:01] WARNING: /workspace/src/learner.cc:742: \n",
      "Parameters: { \"predictor\" } are not used.\n",
      "\n",
      "2024-02-02 08:08:06,484 - distributed.utils_perf - WARNING - full garbage collections took 85% CPU time recently (threshold: 10%)\n",
      "2024-02-02 08:08:06,883 - distributed.utils_perf - WARNING - full garbage collections took 85% CPU time recently (threshold: 10%)\n"
     ]
    },
    {
     "name": "stdout",
     "output_type": "stream",
     "text": [
      "1\n",
      "0\n"
     ]
    },
    {
     "name": "stderr",
     "output_type": "stream",
     "text": [
      "[08:08:12] task [xgboost.dask-1]:tcp://127.0.0.1:45615 got new rank 0\n",
      "[08:08:20] WARNING: /workspace/src/learner.cc:742: \n",
      "Parameters: { \"predictor\" } are not used.\n",
      "\n",
      "2024-02-02 08:08:25,263 - distributed.utils_perf - WARNING - full garbage collections took 85% CPU time recently (threshold: 10%)\n",
      "2024-02-02 08:08:25,662 - distributed.utils_perf - WARNING - full garbage collections took 85% CPU time recently (threshold: 10%)\n"
     ]
    },
    {
     "name": "stdout",
     "output_type": "stream",
     "text": [
      "1\n"
     ]
    },
    {
     "name": "stderr",
     "output_type": "stream",
     "text": [
      "[08:08:31] task [xgboost.dask-0]:tcp://127.0.0.1:40795 got new rank 0\n",
      "[08:08:39] WARNING: /workspace/src/learner.cc:742: \n",
      "Parameters: { \"predictor\" } are not used.\n",
      "\n",
      "2024-02-02 08:08:44,210 - distributed.utils_perf - WARNING - full garbage collections took 85% CPU time recently (threshold: 10%)\n",
      "2024-02-02 08:08:44,611 - distributed.utils_perf - WARNING - full garbage collections took 85% CPU time recently (threshold: 10%)\n"
     ]
    },
    {
     "name": "stdout",
     "output_type": "stream",
     "text": [
      "2\n"
     ]
    },
    {
     "name": "stderr",
     "output_type": "stream",
     "text": [
      "[08:08:50] task [xgboost.dask-3]:tcp://127.0.0.1:38175 got new rank 0\n",
      "[08:08:58] WARNING: /workspace/src/learner.cc:742: \n",
      "Parameters: { \"predictor\" } are not used.\n",
      "\n",
      "2024-02-02 08:09:03,350 - distributed.utils_perf - WARNING - full garbage collections took 85% CPU time recently (threshold: 10%)\n",
      "2024-02-02 08:09:03,751 - distributed.utils_perf - WARNING - full garbage collections took 85% CPU time recently (threshold: 10%)\n"
     ]
    },
    {
     "name": "stdout",
     "output_type": "stream",
     "text": [
      "3\n"
     ]
    },
    {
     "name": "stderr",
     "output_type": "stream",
     "text": [
      "[08:09:09] task [xgboost.dask-2]:tcp://127.0.0.1:43677 got new rank 0\n",
      "[08:09:17] WARNING: /workspace/src/learner.cc:742: \n",
      "Parameters: { \"predictor\" } are not used.\n",
      "\n",
      "2024-02-02 08:09:21,967 - distributed.utils_perf - WARNING - full garbage collections took 85% CPU time recently (threshold: 10%)\n",
      "2024-02-02 08:09:22,371 - distributed.utils_perf - WARNING - full garbage collections took 85% CPU time recently (threshold: 10%)\n"
     ]
    },
    {
     "name": "stdout",
     "output_type": "stream",
     "text": [
      "4\n"
     ]
    },
    {
     "name": "stderr",
     "output_type": "stream",
     "text": [
      "[08:09:27] task [xgboost.dask-6]:tcp://127.0.0.1:38997 got new rank 0\n",
      "[08:09:38] WARNING: /workspace/src/learner.cc:742: \n",
      "Parameters: { \"predictor\" } are not used.\n",
      "\n",
      "2024-02-02 08:09:43,546 - distributed.utils_perf - WARNING - full garbage collections took 85% CPU time recently (threshold: 10%)\n",
      "2024-02-02 08:09:43,979 - distributed.utils_perf - WARNING - full garbage collections took 86% CPU time recently (threshold: 10%)\n"
     ]
    },
    {
     "name": "stdout",
     "output_type": "stream",
     "text": [
      "5\n"
     ]
    },
    {
     "name": "stderr",
     "output_type": "stream",
     "text": [
      "[08:09:49] task [xgboost.dask-5]:tcp://127.0.0.1:34431 got new rank 0\n",
      "[08:09:57] WARNING: /workspace/src/learner.cc:742: \n",
      "Parameters: { \"predictor\" } are not used.\n",
      "\n",
      "2024-02-02 08:10:02,507 - distributed.utils_perf - WARNING - full garbage collections took 97% CPU time recently (threshold: 10%)\n",
      "2024-02-02 08:10:02,938 - distributed.utils_perf - WARNING - full garbage collections took 97% CPU time recently (threshold: 10%)\n"
     ]
    },
    {
     "name": "stdout",
     "output_type": "stream",
     "text": [
      "6\n"
     ]
    },
    {
     "name": "stderr",
     "output_type": "stream",
     "text": [
      "[08:10:08] task [xgboost.dask-7]:tcp://127.0.0.1:41419 got new rank 0\n",
      "[08:10:15] WARNING: /workspace/src/learner.cc:742: \n",
      "Parameters: { \"predictor\" } are not used.\n",
      "\n",
      "2024-02-02 08:10:20,698 - distributed.utils_perf - WARNING - full garbage collections took 97% CPU time recently (threshold: 10%)\n",
      "2024-02-02 08:10:21,108 - distributed.utils_perf - WARNING - full garbage collections took 97% CPU time recently (threshold: 10%)\n"
     ]
    },
    {
     "name": "stdout",
     "output_type": "stream",
     "text": [
      "7\n"
     ]
    },
    {
     "name": "stderr",
     "output_type": "stream",
     "text": [
      "[08:10:26] task [xgboost.dask-4]:tcp://127.0.0.1:38713 got new rank 0\n",
      "[08:10:34] WARNING: /workspace/src/learner.cc:742: \n",
      "Parameters: { \"predictor\" } are not used.\n",
      "\n",
      "2024-02-02 08:10:39,692 - distributed.utils_perf - WARNING - full garbage collections took 97% CPU time recently (threshold: 10%)\n",
      "2024-02-02 08:10:40,112 - distributed.utils_perf - WARNING - full garbage collections took 97% CPU time recently (threshold: 10%)\n"
     ]
    },
    {
     "name": "stdout",
     "output_type": "stream",
     "text": [
      "8\n"
     ]
    },
    {
     "name": "stderr",
     "output_type": "stream",
     "text": [
      "[08:10:45] task [xgboost.dask-1]:tcp://127.0.0.1:45615 got new rank 0\n",
      "[08:10:53] WARNING: /workspace/src/learner.cc:742: \n",
      "Parameters: { \"predictor\" } are not used.\n",
      "\n",
      "2024-02-02 08:10:59,211 - distributed.utils_perf - WARNING - full garbage collections took 97% CPU time recently (threshold: 10%)\n",
      "2024-02-02 08:10:59,642 - distributed.utils_perf - WARNING - full garbage collections took 97% CPU time recently (threshold: 10%)\n"
     ]
    },
    {
     "name": "stdout",
     "output_type": "stream",
     "text": [
      "9\n"
     ]
    },
    {
     "name": "stderr",
     "output_type": "stream",
     "text": [
      "[08:11:05] task [xgboost.dask-0]:tcp://127.0.0.1:40795 got new rank 0\n",
      "[08:11:13] WARNING: /workspace/src/learner.cc:742: \n",
      "Parameters: { \"predictor\" } are not used.\n",
      "\n",
      "2024-02-02 08:11:18,243 - distributed.utils_perf - WARNING - full garbage collections took 97% CPU time recently (threshold: 10%)\n",
      "2024-02-02 08:11:18,675 - distributed.utils_perf - WARNING - full garbage collections took 97% CPU time recently (threshold: 10%)\n"
     ]
    },
    {
     "name": "stdout",
     "output_type": "stream",
     "text": [
      "2\n",
      "0\n"
     ]
    },
    {
     "name": "stderr",
     "output_type": "stream",
     "text": [
      "[08:11:24] task [xgboost.dask-3]:tcp://127.0.0.1:38175 got new rank 0\n",
      "[08:11:31] WARNING: /workspace/src/learner.cc:742: \n",
      "Parameters: { \"predictor\" } are not used.\n",
      "\n",
      "2024-02-02 08:11:36,555 - distributed.utils_perf - WARNING - full garbage collections took 97% CPU time recently (threshold: 10%)\n",
      "2024-02-02 08:11:36,986 - distributed.utils_perf - WARNING - full garbage collections took 97% CPU time recently (threshold: 10%)\n"
     ]
    },
    {
     "name": "stdout",
     "output_type": "stream",
     "text": [
      "1\n"
     ]
    },
    {
     "name": "stderr",
     "output_type": "stream",
     "text": [
      "[08:11:42] task [xgboost.dask-2]:tcp://127.0.0.1:43677 got new rank 0\n",
      "[08:11:49] WARNING: /workspace/src/learner.cc:742: \n",
      "Parameters: { \"predictor\" } are not used.\n",
      "\n",
      "2024-02-02 08:11:54,428 - distributed.utils_perf - WARNING - full garbage collections took 97% CPU time recently (threshold: 10%)\n",
      "2024-02-02 08:11:54,874 - distributed.utils_perf - WARNING - full garbage collections took 97% CPU time recently (threshold: 10%)\n"
     ]
    },
    {
     "name": "stdout",
     "output_type": "stream",
     "text": [
      "2\n"
     ]
    },
    {
     "name": "stderr",
     "output_type": "stream",
     "text": [
      "[08:12:00] task [xgboost.dask-6]:tcp://127.0.0.1:38997 got new rank 0\n",
      "[08:12:07] WARNING: /workspace/src/learner.cc:742: \n",
      "Parameters: { \"predictor\" } are not used.\n",
      "\n",
      "2024-02-02 08:12:12,457 - distributed.utils_perf - WARNING - full garbage collections took 97% CPU time recently (threshold: 10%)\n",
      "2024-02-02 08:12:12,859 - distributed.utils_perf - WARNING - full garbage collections took 97% CPU time recently (threshold: 10%)\n"
     ]
    },
    {
     "name": "stdout",
     "output_type": "stream",
     "text": [
      "3\n"
     ]
    },
    {
     "name": "stderr",
     "output_type": "stream",
     "text": [
      "[08:12:18] task [xgboost.dask-5]:tcp://127.0.0.1:34431 got new rank 0\n",
      "[08:12:26] WARNING: /workspace/src/learner.cc:742: \n",
      "Parameters: { \"predictor\" } are not used.\n",
      "\n",
      "2024-02-02 08:12:30,912 - distributed.utils_perf - WARNING - full garbage collections took 97% CPU time recently (threshold: 10%)\n",
      "2024-02-02 08:12:31,321 - distributed.utils_perf - WARNING - full garbage collections took 97% CPU time recently (threshold: 10%)\n"
     ]
    },
    {
     "name": "stdout",
     "output_type": "stream",
     "text": [
      "4\n"
     ]
    },
    {
     "name": "stderr",
     "output_type": "stream",
     "text": [
      "[08:12:36] task [xgboost.dask-7]:tcp://127.0.0.1:41419 got new rank 0\n",
      "[08:12:43] WARNING: /workspace/src/learner.cc:742: \n",
      "Parameters: { \"predictor\" } are not used.\n",
      "\n",
      "2024-02-02 08:12:48,343 - distributed.utils_perf - WARNING - full garbage collections took 97% CPU time recently (threshold: 10%)\n",
      "2024-02-02 08:12:48,744 - distributed.utils_perf - WARNING - full garbage collections took 97% CPU time recently (threshold: 10%)\n"
     ]
    },
    {
     "name": "stdout",
     "output_type": "stream",
     "text": [
      "5\n"
     ]
    },
    {
     "name": "stderr",
     "output_type": "stream",
     "text": [
      "[08:12:54] task [xgboost.dask-4]:tcp://127.0.0.1:38713 got new rank 0\n",
      "[08:13:01] WARNING: /workspace/src/learner.cc:742: \n",
      "Parameters: { \"predictor\" } are not used.\n",
      "\n",
      "2024-02-02 08:13:06,404 - distributed.utils_perf - WARNING - full garbage collections took 97% CPU time recently (threshold: 10%)\n",
      "2024-02-02 08:13:06,806 - distributed.utils_perf - WARNING - full garbage collections took 97% CPU time recently (threshold: 10%)\n"
     ]
    },
    {
     "name": "stdout",
     "output_type": "stream",
     "text": [
      "6\n"
     ]
    },
    {
     "name": "stderr",
     "output_type": "stream",
     "text": [
      "[08:13:12] task [xgboost.dask-1]:tcp://127.0.0.1:45615 got new rank 0\n",
      "[08:13:19] WARNING: /workspace/src/learner.cc:742: \n",
      "Parameters: { \"predictor\" } are not used.\n",
      "\n",
      "2024-02-02 08:13:24,497 - distributed.utils_perf - WARNING - full garbage collections took 97% CPU time recently (threshold: 10%)\n",
      "2024-02-02 08:13:24,898 - distributed.utils_perf - WARNING - full garbage collections took 97% CPU time recently (threshold: 10%)\n"
     ]
    },
    {
     "name": "stdout",
     "output_type": "stream",
     "text": [
      "7\n"
     ]
    },
    {
     "name": "stderr",
     "output_type": "stream",
     "text": [
      "[08:13:30] task [xgboost.dask-0]:tcp://127.0.0.1:40795 got new rank 0\n",
      "[08:13:37] WARNING: /workspace/src/learner.cc:742: \n",
      "Parameters: { \"predictor\" } are not used.\n",
      "\n",
      "2024-02-02 08:13:42,403 - distributed.utils_perf - WARNING - full garbage collections took 97% CPU time recently (threshold: 10%)\n",
      "2024-02-02 08:13:42,805 - distributed.utils_perf - WARNING - full garbage collections took 97% CPU time recently (threshold: 10%)\n"
     ]
    },
    {
     "name": "stdout",
     "output_type": "stream",
     "text": [
      "8\n"
     ]
    },
    {
     "name": "stderr",
     "output_type": "stream",
     "text": [
      "[08:13:48] task [xgboost.dask-3]:tcp://127.0.0.1:38175 got new rank 0\n",
      "[08:13:55] WARNING: /workspace/src/learner.cc:742: \n",
      "Parameters: { \"predictor\" } are not used.\n",
      "\n",
      "2024-02-02 08:14:00,651 - distributed.utils_perf - WARNING - full garbage collections took 97% CPU time recently (threshold: 10%)\n",
      "2024-02-02 08:14:01,051 - distributed.utils_perf - WARNING - full garbage collections took 97% CPU time recently (threshold: 10%)\n"
     ]
    },
    {
     "name": "stdout",
     "output_type": "stream",
     "text": [
      "9\n"
     ]
    },
    {
     "name": "stderr",
     "output_type": "stream",
     "text": [
      "[08:14:06] task [xgboost.dask-2]:tcp://127.0.0.1:43677 got new rank 0\n",
      "[08:14:13] WARNING: /workspace/src/learner.cc:742: \n",
      "Parameters: { \"predictor\" } are not used.\n",
      "\n",
      "2024-02-02 08:14:19,034 - distributed.utils_perf - WARNING - full garbage collections took 97% CPU time recently (threshold: 10%)\n",
      "2024-02-02 08:14:19,432 - distributed.utils_perf - WARNING - full garbage collections took 97% CPU time recently (threshold: 10%)\n"
     ]
    },
    {
     "name": "stdout",
     "output_type": "stream",
     "text": [
      "3\n",
      "0\n"
     ]
    },
    {
     "name": "stderr",
     "output_type": "stream",
     "text": [
      "[08:14:25] task [xgboost.dask-6]:tcp://127.0.0.1:38997 got new rank 0\n",
      "[08:14:32] WARNING: /workspace/src/learner.cc:742: \n",
      "Parameters: { \"predictor\" } are not used.\n",
      "\n",
      "2024-02-02 08:14:37,463 - distributed.utils_perf - WARNING - full garbage collections took 97% CPU time recently (threshold: 10%)\n",
      "2024-02-02 08:14:37,866 - distributed.utils_perf - WARNING - full garbage collections took 97% CPU time recently (threshold: 10%)\n"
     ]
    },
    {
     "name": "stdout",
     "output_type": "stream",
     "text": [
      "1\n"
     ]
    },
    {
     "name": "stderr",
     "output_type": "stream",
     "text": [
      "[08:14:43] task [xgboost.dask-5]:tcp://127.0.0.1:34431 got new rank 0\n",
      "[08:14:50] WARNING: /workspace/src/learner.cc:742: \n",
      "Parameters: { \"predictor\" } are not used.\n",
      "\n",
      "2024-02-02 08:14:55,734 - distributed.utils_perf - WARNING - full garbage collections took 97% CPU time recently (threshold: 10%)\n",
      "2024-02-02 08:14:56,142 - distributed.utils_perf - WARNING - full garbage collections took 97% CPU time recently (threshold: 10%)\n"
     ]
    },
    {
     "name": "stdout",
     "output_type": "stream",
     "text": [
      "2\n"
     ]
    },
    {
     "name": "stderr",
     "output_type": "stream",
     "text": [
      "[08:15:02] task [xgboost.dask-7]:tcp://127.0.0.1:41419 got new rank 0\n",
      "[08:15:09] WARNING: /workspace/src/learner.cc:742: \n",
      "Parameters: { \"predictor\" } are not used.\n",
      "\n",
      "2024-02-02 08:15:14,130 - distributed.utils_perf - WARNING - full garbage collections took 97% CPU time recently (threshold: 10%)\n",
      "2024-02-02 08:15:14,536 - distributed.utils_perf - WARNING - full garbage collections took 97% CPU time recently (threshold: 10%)\n"
     ]
    },
    {
     "name": "stdout",
     "output_type": "stream",
     "text": [
      "3\n"
     ]
    },
    {
     "name": "stderr",
     "output_type": "stream",
     "text": [
      "[08:15:20] task [xgboost.dask-4]:tcp://127.0.0.1:38713 got new rank 0\n",
      "[08:15:27] WARNING: /workspace/src/learner.cc:742: \n",
      "Parameters: { \"predictor\" } are not used.\n",
      "\n",
      "2024-02-02 08:15:32,281 - distributed.utils_perf - WARNING - full garbage collections took 97% CPU time recently (threshold: 10%)\n",
      "2024-02-02 08:15:32,681 - distributed.utils_perf - WARNING - full garbage collections took 97% CPU time recently (threshold: 10%)\n"
     ]
    },
    {
     "name": "stdout",
     "output_type": "stream",
     "text": [
      "4\n"
     ]
    },
    {
     "name": "stderr",
     "output_type": "stream",
     "text": [
      "[08:15:38] task [xgboost.dask-1]:tcp://127.0.0.1:45615 got new rank 0\n",
      "[08:15:45] WARNING: /workspace/src/learner.cc:742: \n",
      "Parameters: { \"predictor\" } are not used.\n",
      "\n",
      "2024-02-02 08:15:50,796 - distributed.utils_perf - WARNING - full garbage collections took 97% CPU time recently (threshold: 10%)\n",
      "2024-02-02 08:15:51,200 - distributed.utils_perf - WARNING - full garbage collections took 97% CPU time recently (threshold: 10%)\n"
     ]
    },
    {
     "name": "stdout",
     "output_type": "stream",
     "text": [
      "5\n"
     ]
    },
    {
     "name": "stderr",
     "output_type": "stream",
     "text": [
      "[08:15:56] task [xgboost.dask-0]:tcp://127.0.0.1:40795 got new rank 0\n",
      "[08:16:04] WARNING: /workspace/src/learner.cc:742: \n",
      "Parameters: { \"predictor\" } are not used.\n",
      "\n",
      "2024-02-02 08:16:08,783 - distributed.utils_perf - WARNING - full garbage collections took 97% CPU time recently (threshold: 10%)\n",
      "2024-02-02 08:16:09,185 - distributed.utils_perf - WARNING - full garbage collections took 97% CPU time recently (threshold: 10%)\n"
     ]
    },
    {
     "name": "stdout",
     "output_type": "stream",
     "text": [
      "6\n"
     ]
    },
    {
     "name": "stderr",
     "output_type": "stream",
     "text": [
      "[08:16:14] task [xgboost.dask-3]:tcp://127.0.0.1:38175 got new rank 0\n",
      "[08:16:22] WARNING: /workspace/src/learner.cc:742: \n",
      "Parameters: { \"predictor\" } are not used.\n",
      "\n",
      "2024-02-02 08:16:26,968 - distributed.utils_perf - WARNING - full garbage collections took 97% CPU time recently (threshold: 10%)\n",
      "2024-02-02 08:16:27,371 - distributed.utils_perf - WARNING - full garbage collections took 97% CPU time recently (threshold: 10%)\n"
     ]
    },
    {
     "name": "stdout",
     "output_type": "stream",
     "text": [
      "7\n"
     ]
    },
    {
     "name": "stderr",
     "output_type": "stream",
     "text": [
      "[08:16:33] task [xgboost.dask-2]:tcp://127.0.0.1:43677 got new rank 0\n",
      "[08:16:40] WARNING: /workspace/src/learner.cc:742: \n",
      "Parameters: { \"predictor\" } are not used.\n",
      "\n",
      "2024-02-02 08:16:45,138 - distributed.utils_perf - WARNING - full garbage collections took 97% CPU time recently (threshold: 10%)\n",
      "2024-02-02 08:16:45,546 - distributed.utils_perf - WARNING - full garbage collections took 97% CPU time recently (threshold: 10%)\n"
     ]
    },
    {
     "name": "stdout",
     "output_type": "stream",
     "text": [
      "8\n"
     ]
    },
    {
     "name": "stderr",
     "output_type": "stream",
     "text": [
      "[08:16:51] task [xgboost.dask-6]:tcp://127.0.0.1:38997 got new rank 0\n",
      "[08:16:58] WARNING: /workspace/src/learner.cc:742: \n",
      "Parameters: { \"predictor\" } are not used.\n",
      "\n",
      "2024-02-02 08:17:03,860 - distributed.utils_perf - WARNING - full garbage collections took 97% CPU time recently (threshold: 10%)\n",
      "2024-02-02 08:17:04,263 - distributed.utils_perf - WARNING - full garbage collections took 97% CPU time recently (threshold: 10%)\n"
     ]
    },
    {
     "name": "stdout",
     "output_type": "stream",
     "text": [
      "9\n"
     ]
    },
    {
     "name": "stderr",
     "output_type": "stream",
     "text": [
      "[08:17:10] task [xgboost.dask-5]:tcp://127.0.0.1:34431 got new rank 0\n",
      "[08:17:17] WARNING: /workspace/src/learner.cc:742: \n",
      "Parameters: { \"predictor\" } are not used.\n",
      "\n",
      "2024-02-02 08:17:22,451 - distributed.utils_perf - WARNING - full garbage collections took 97% CPU time recently (threshold: 10%)\n",
      "2024-02-02 08:17:22,855 - distributed.utils_perf - WARNING - full garbage collections took 97% CPU time recently (threshold: 10%)\n"
     ]
    },
    {
     "name": "stdout",
     "output_type": "stream",
     "text": [
      "4\n",
      "0\n"
     ]
    },
    {
     "name": "stderr",
     "output_type": "stream",
     "text": [
      "[08:17:28] task [xgboost.dask-7]:tcp://127.0.0.1:41419 got new rank 0\n",
      "[08:17:35] WARNING: /workspace/src/learner.cc:742: \n",
      "Parameters: { \"predictor\" } are not used.\n",
      "\n",
      "2024-02-02 08:17:40,448 - distributed.utils_perf - WARNING - full garbage collections took 97% CPU time recently (threshold: 10%)\n",
      "2024-02-02 08:17:40,874 - distributed.utils_perf - WARNING - full garbage collections took 97% CPU time recently (threshold: 10%)\n"
     ]
    },
    {
     "name": "stdout",
     "output_type": "stream",
     "text": [
      "1\n"
     ]
    },
    {
     "name": "stderr",
     "output_type": "stream",
     "text": [
      "[08:17:46] task [xgboost.dask-4]:tcp://127.0.0.1:38713 got new rank 0\n",
      "[08:17:53] WARNING: /workspace/src/learner.cc:742: \n",
      "Parameters: { \"predictor\" } are not used.\n",
      "\n",
      "2024-02-02 08:17:58,771 - distributed.utils_perf - WARNING - full garbage collections took 97% CPU time recently (threshold: 10%)\n",
      "2024-02-02 08:17:59,173 - distributed.utils_perf - WARNING - full garbage collections took 97% CPU time recently (threshold: 10%)\n"
     ]
    },
    {
     "name": "stdout",
     "output_type": "stream",
     "text": [
      "2\n"
     ]
    },
    {
     "name": "stderr",
     "output_type": "stream",
     "text": [
      "[08:18:04] task [xgboost.dask-1]:tcp://127.0.0.1:45615 got new rank 0\n",
      "[08:18:12] WARNING: /workspace/src/learner.cc:742: \n",
      "Parameters: { \"predictor\" } are not used.\n",
      "\n",
      "2024-02-02 08:18:16,994 - distributed.utils_perf - WARNING - full garbage collections took 97% CPU time recently (threshold: 10%)\n",
      "2024-02-02 08:18:17,428 - distributed.utils_perf - WARNING - full garbage collections took 97% CPU time recently (threshold: 10%)\n"
     ]
    },
    {
     "name": "stdout",
     "output_type": "stream",
     "text": [
      "3\n"
     ]
    },
    {
     "name": "stderr",
     "output_type": "stream",
     "text": [
      "[08:18:22] task [xgboost.dask-0]:tcp://127.0.0.1:40795 got new rank 0\n",
      "[08:18:30] WARNING: /workspace/src/learner.cc:742: \n",
      "Parameters: { \"predictor\" } are not used.\n",
      "\n",
      "2024-02-02 08:18:35,574 - distributed.utils_perf - WARNING - full garbage collections took 97% CPU time recently (threshold: 10%)\n",
      "2024-02-02 08:18:35,976 - distributed.utils_perf - WARNING - full garbage collections took 97% CPU time recently (threshold: 10%)\n"
     ]
    },
    {
     "name": "stdout",
     "output_type": "stream",
     "text": [
      "4\n"
     ]
    },
    {
     "name": "stderr",
     "output_type": "stream",
     "text": [
      "[08:18:41] task [xgboost.dask-3]:tcp://127.0.0.1:38175 got new rank 0\n",
      "[08:18:49] WARNING: /workspace/src/learner.cc:742: \n",
      "Parameters: { \"predictor\" } are not used.\n",
      "\n",
      "2024-02-02 08:18:53,707 - distributed.utils_perf - WARNING - full garbage collections took 97% CPU time recently (threshold: 10%)\n",
      "2024-02-02 08:18:54,110 - distributed.utils_perf - WARNING - full garbage collections took 97% CPU time recently (threshold: 10%)\n"
     ]
    },
    {
     "name": "stdout",
     "output_type": "stream",
     "text": [
      "5\n"
     ]
    },
    {
     "name": "stderr",
     "output_type": "stream",
     "text": [
      "[08:18:59] task [xgboost.dask-2]:tcp://127.0.0.1:43677 got new rank 0\n",
      "[08:19:06] WARNING: /workspace/src/learner.cc:742: \n",
      "Parameters: { \"predictor\" } are not used.\n",
      "\n",
      "2024-02-02 08:19:11,974 - distributed.utils_perf - WARNING - full garbage collections took 97% CPU time recently (threshold: 10%)\n",
      "2024-02-02 08:19:12,379 - distributed.utils_perf - WARNING - full garbage collections took 97% CPU time recently (threshold: 10%)\n"
     ]
    },
    {
     "name": "stdout",
     "output_type": "stream",
     "text": [
      "6\n"
     ]
    },
    {
     "name": "stderr",
     "output_type": "stream",
     "text": [
      "[08:19:18] task [xgboost.dask-6]:tcp://127.0.0.1:38997 got new rank 0\n",
      "[08:19:25] WARNING: /workspace/src/learner.cc:742: \n",
      "Parameters: { \"predictor\" } are not used.\n",
      "\n",
      "2024-02-02 08:19:30,197 - distributed.utils_perf - WARNING - full garbage collections took 97% CPU time recently (threshold: 10%)\n",
      "2024-02-02 08:19:30,606 - distributed.utils_perf - WARNING - full garbage collections took 97% CPU time recently (threshold: 10%)\n"
     ]
    },
    {
     "name": "stdout",
     "output_type": "stream",
     "text": [
      "7\n"
     ]
    },
    {
     "name": "stderr",
     "output_type": "stream",
     "text": [
      "[08:19:36] task [xgboost.dask-5]:tcp://127.0.0.1:34431 got new rank 0\n",
      "[08:19:43] WARNING: /workspace/src/learner.cc:742: \n",
      "Parameters: { \"predictor\" } are not used.\n",
      "\n",
      "2024-02-02 08:19:48,462 - distributed.utils_perf - WARNING - full garbage collections took 97% CPU time recently (threshold: 10%)\n",
      "2024-02-02 08:19:48,870 - distributed.utils_perf - WARNING - full garbage collections took 97% CPU time recently (threshold: 10%)\n"
     ]
    },
    {
     "name": "stdout",
     "output_type": "stream",
     "text": [
      "8\n"
     ]
    },
    {
     "name": "stderr",
     "output_type": "stream",
     "text": [
      "[08:19:54] task [xgboost.dask-7]:tcp://127.0.0.1:41419 got new rank 0\n",
      "[08:20:01] WARNING: /workspace/src/learner.cc:742: \n",
      "Parameters: { \"predictor\" } are not used.\n",
      "\n",
      "2024-02-02 08:20:06,465 - distributed.utils_perf - WARNING - full garbage collections took 97% CPU time recently (threshold: 10%)\n",
      "2024-02-02 08:20:06,869 - distributed.utils_perf - WARNING - full garbage collections took 97% CPU time recently (threshold: 10%)\n"
     ]
    },
    {
     "name": "stdout",
     "output_type": "stream",
     "text": [
      "9\n"
     ]
    },
    {
     "name": "stderr",
     "output_type": "stream",
     "text": [
      "[08:20:12] task [xgboost.dask-4]:tcp://127.0.0.1:38713 got new rank 0\n",
      "[08:20:19] WARNING: /workspace/src/learner.cc:742: \n",
      "Parameters: { \"predictor\" } are not used.\n",
      "\n",
      "2024-02-02 08:20:24,728 - distributed.utils_perf - WARNING - full garbage collections took 97% CPU time recently (threshold: 10%)\n",
      "2024-02-02 08:20:25,132 - distributed.utils_perf - WARNING - full garbage collections took 97% CPU time recently (threshold: 10%)\n"
     ]
    },
    {
     "name": "stdout",
     "output_type": "stream",
     "text": [
      "0.2893686664415629\n",
      "CPU times: user 1min 24s, sys: 29.8 s, total: 1min 53s\n",
      "Wall time: 15min 28s\n"
     ]
    }
   ],
   "source": [
    "%%time\n",
    "num_round = 1000\n",
    "n_seeds = 10\n",
    "n_folds = 5\n",
    "\n",
    "train_oof = np.zeros((target.shape[0],))\n",
    "test_preds = 0\n",
    "\n",
    "kf = KFold(n_folds, shuffle=True, random_state=137)\n",
    "\n",
    "for i, (train_index, val_index) in enumerate(kf.split(train,target)):\n",
    "    print(i)\n",
    "    for jj in range(n_seeds):\n",
    "\n",
    "        best_params['random_state'] = 3*jj**2+1777\n",
    "    \n",
    "        print(jj)\n",
    "        dtrain = xgb.dask.DaskDMatrix(client, train_folds[i].values, train_ys[i], enable_categorical=True)\n",
    "        dval = xgb.dask.DaskDMatrix(client, val_folds[i].values, val_ys[i], enable_categorical=True)\n",
    "        \n",
    "        output = xgb.dask.train(client, best_params, dtrain, num_round)\n",
    "        booster = output['booster']  # booster is the trained model\n",
    "        booster.set_param({'predictor': 'gpu_predictor'})\n",
    "        val_predictions = xgb.dask.predict(client, booster, dval)\n",
    "        val_predictions = val_predictions.compute()\n",
    "\n",
    "        test_predictions = xgb.dask.predict(client, booster, dtest)\n",
    "        test_predictions = test_predictions.compute()\n",
    "    \n",
    "        train_oof[val_index] += val_predictions/n_seeds\n",
    "        test_preds += test_predictions/(n_folds*n_seeds)\n",
    "    \n",
    "        del dtrain, dval, output\n",
    "        gc.collect()\n",
    "        gc.collect()\n",
    "\n",
    "gini = gini_normalized(target, train_oof)\n",
    "print(gini)"
   ]
  },
  {
   "cell_type": "code",
   "execution_count": 62,
   "id": "7c005572-d46e-4ebc-97c6-292f493eb3a1",
   "metadata": {},
   "outputs": [
    {
     "data": {
      "text/html": [
       "<div>\n",
       "<style scoped>\n",
       "    .dataframe tbody tr th:only-of-type {\n",
       "        vertical-align: middle;\n",
       "    }\n",
       "\n",
       "    .dataframe tbody tr th {\n",
       "        vertical-align: top;\n",
       "    }\n",
       "\n",
       "    .dataframe thead th {\n",
       "        text-align: right;\n",
       "    }\n",
       "</style>\n",
       "<table border=\"1\" class=\"dataframe\">\n",
       "  <thead>\n",
       "    <tr style=\"text-align: right;\">\n",
       "      <th></th>\n",
       "      <th>id</th>\n",
       "      <th>target</th>\n",
       "    </tr>\n",
       "  </thead>\n",
       "  <tbody>\n",
       "    <tr>\n",
       "      <th>0</th>\n",
       "      <td>0</td>\n",
       "      <td>0.027973</td>\n",
       "    </tr>\n",
       "    <tr>\n",
       "      <th>1</th>\n",
       "      <td>1</td>\n",
       "      <td>0.022714</td>\n",
       "    </tr>\n",
       "    <tr>\n",
       "      <th>2</th>\n",
       "      <td>2</td>\n",
       "      <td>0.023101</td>\n",
       "    </tr>\n",
       "    <tr>\n",
       "      <th>3</th>\n",
       "      <td>3</td>\n",
       "      <td>0.013864</td>\n",
       "    </tr>\n",
       "    <tr>\n",
       "      <th>4</th>\n",
       "      <td>4</td>\n",
       "      <td>0.035546</td>\n",
       "    </tr>\n",
       "  </tbody>\n",
       "</table>\n",
       "</div>"
      ],
      "text/plain": [
       "   id    target\n",
       "0   0  0.027973\n",
       "1   1  0.022714\n",
       "2   2  0.023101\n",
       "3   3  0.013864\n",
       "4   4  0.035546"
      ]
     },
     "execution_count": 62,
     "metadata": {},
     "output_type": "execute_result"
    }
   ],
   "source": [
    "submission['target'] = test_preds\n",
    "submission.to_csv('../submissions/best_xgb_oho_optuna_h100_2.csv', index=False)\n",
    "submission.head()"
   ]
  },
  {
   "cell_type": "markdown",
   "id": "7207d323-eece-472f-b41c-34a9880ec18d",
   "metadata": {},
   "source": [
    "0.28491 public, 0.2911 private"
   ]
  },
  {
   "cell_type": "code",
   "execution_count": 64,
   "id": "5fe000a6-6ea7-4552-81f4-fbc7f0715051",
   "metadata": {},
   "outputs": [
    {
     "data": {
      "text/plain": [
       "{'objective': 'binary:logistic',\n",
       " 'tree_method': 'exact',\n",
       " 'device': 'cpu',\n",
       " 'lambda': 0.016329246014877414,\n",
       " 'alpha': 3.33029065395022,\n",
       " 'colsample_bytree': 0.5456389940628341,\n",
       " 'subsample': 0.7684743978358726,\n",
       " 'learning_rate': 0.014586087705844453,\n",
       " 'max_depth': 7,\n",
       " 'min_child_weight': 135,\n",
       " 'eval_metric': 'logloss',\n",
       " 'random_state': 1777}"
      ]
     },
     "execution_count": 64,
     "metadata": {},
     "output_type": "execute_result"
    }
   ],
   "source": [
    "best_params"
   ]
  },
  {
   "cell_type": "code",
   "execution_count": 67,
   "id": "fcb8d95c-36d6-41f0-a3bd-4c5a684cbb09",
   "metadata": {},
   "outputs": [
    {
     "name": "stdout",
     "output_type": "stream",
     "text": [
      "0\n",
      "0\n"
     ]
    },
    {
     "name": "stderr",
     "output_type": "stream",
     "text": [
      "[13:48:57] task [xgboost.dask-7]:tcp://127.0.0.1:41419 got new rank 0\n",
      "[13:49:10] WARNING: /workspace/src/learner.cc:742: \n",
      "Parameters: { \"predictor\" } are not used.\n",
      "\n",
      "2024-02-02 13:49:16,469 - distributed.utils_perf - WARNING - full garbage collections took 90% CPU time recently (threshold: 10%)\n",
      "2024-02-02 13:49:16,902 - distributed.utils_perf - WARNING - full garbage collections took 90% CPU time recently (threshold: 10%)\n"
     ]
    },
    {
     "name": "stdout",
     "output_type": "stream",
     "text": [
      "1\n"
     ]
    },
    {
     "name": "stderr",
     "output_type": "stream",
     "text": [
      "[13:49:22] task [xgboost.dask-4]:tcp://127.0.0.1:38713 got new rank 0\n",
      "[13:49:35] WARNING: /workspace/src/learner.cc:742: \n",
      "Parameters: { \"predictor\" } are not used.\n",
      "\n",
      "2024-02-02 13:49:41,030 - distributed.utils_perf - WARNING - full garbage collections took 90% CPU time recently (threshold: 10%)\n",
      "2024-02-02 13:49:41,467 - distributed.utils_perf - WARNING - full garbage collections took 90% CPU time recently (threshold: 10%)\n"
     ]
    },
    {
     "name": "stdout",
     "output_type": "stream",
     "text": [
      "2\n"
     ]
    },
    {
     "name": "stderr",
     "output_type": "stream",
     "text": [
      "[13:49:46] task [xgboost.dask-1]:tcp://127.0.0.1:45615 got new rank 0\n",
      "[13:49:59] WARNING: /workspace/src/learner.cc:742: \n",
      "Parameters: { \"predictor\" } are not used.\n",
      "\n",
      "2024-02-02 13:50:05,082 - distributed.utils_perf - WARNING - full garbage collections took 90% CPU time recently (threshold: 10%)\n",
      "2024-02-02 13:50:05,517 - distributed.utils_perf - WARNING - full garbage collections took 90% CPU time recently (threshold: 10%)\n"
     ]
    },
    {
     "name": "stdout",
     "output_type": "stream",
     "text": [
      "3\n"
     ]
    },
    {
     "name": "stderr",
     "output_type": "stream",
     "text": [
      "[13:50:10] task [xgboost.dask-0]:tcp://127.0.0.1:40795 got new rank 0\n",
      "[13:50:23] WARNING: /workspace/src/learner.cc:742: \n",
      "Parameters: { \"predictor\" } are not used.\n",
      "\n",
      "2024-02-02 13:50:29,019 - distributed.utils_perf - WARNING - full garbage collections took 90% CPU time recently (threshold: 10%)\n",
      "2024-02-02 13:50:29,456 - distributed.utils_perf - WARNING - full garbage collections took 90% CPU time recently (threshold: 10%)\n"
     ]
    },
    {
     "name": "stdout",
     "output_type": "stream",
     "text": [
      "4\n"
     ]
    },
    {
     "name": "stderr",
     "output_type": "stream",
     "text": [
      "[13:50:34] task [xgboost.dask-3]:tcp://127.0.0.1:38175 got new rank 0\n",
      "[13:50:47] WARNING: /workspace/src/learner.cc:742: \n",
      "Parameters: { \"predictor\" } are not used.\n",
      "\n",
      "2024-02-02 13:50:53,099 - distributed.utils_perf - WARNING - full garbage collections took 90% CPU time recently (threshold: 10%)\n",
      "2024-02-02 13:50:53,538 - distributed.utils_perf - WARNING - full garbage collections took 90% CPU time recently (threshold: 10%)\n"
     ]
    },
    {
     "name": "stdout",
     "output_type": "stream",
     "text": [
      "1\n",
      "0\n"
     ]
    },
    {
     "name": "stderr",
     "output_type": "stream",
     "text": [
      "[13:50:59] task [xgboost.dask-2]:tcp://127.0.0.1:43677 got new rank 0\n",
      "[13:51:11] WARNING: /workspace/src/learner.cc:742: \n",
      "Parameters: { \"predictor\" } are not used.\n",
      "\n",
      "2024-02-02 13:51:17,385 - distributed.utils_perf - WARNING - full garbage collections took 90% CPU time recently (threshold: 10%)\n",
      "2024-02-02 13:51:17,827 - distributed.utils_perf - WARNING - full garbage collections took 90% CPU time recently (threshold: 10%)\n"
     ]
    },
    {
     "name": "stdout",
     "output_type": "stream",
     "text": [
      "1\n"
     ]
    },
    {
     "name": "stderr",
     "output_type": "stream",
     "text": [
      "[13:51:23] task [xgboost.dask-6]:tcp://127.0.0.1:38997 got new rank 0\n",
      "[13:51:36] WARNING: /workspace/src/learner.cc:742: \n",
      "Parameters: { \"predictor\" } are not used.\n",
      "\n",
      "2024-02-02 13:51:41,721 - distributed.utils_perf - WARNING - full garbage collections took 90% CPU time recently (threshold: 10%)\n",
      "2024-02-02 13:51:42,136 - distributed.utils_perf - WARNING - full garbage collections took 90% CPU time recently (threshold: 10%)\n"
     ]
    },
    {
     "name": "stdout",
     "output_type": "stream",
     "text": [
      "2\n"
     ]
    },
    {
     "name": "stderr",
     "output_type": "stream",
     "text": [
      "[13:51:47] task [xgboost.dask-5]:tcp://127.0.0.1:34431 got new rank 0\n",
      "[13:52:00] WARNING: /workspace/src/learner.cc:742: \n",
      "Parameters: { \"predictor\" } are not used.\n",
      "\n",
      "2024-02-02 13:52:05,896 - distributed.utils_perf - WARNING - full garbage collections took 90% CPU time recently (threshold: 10%)\n",
      "2024-02-02 13:52:06,314 - distributed.utils_perf - WARNING - full garbage collections took 90% CPU time recently (threshold: 10%)\n"
     ]
    },
    {
     "name": "stdout",
     "output_type": "stream",
     "text": [
      "3\n"
     ]
    },
    {
     "name": "stderr",
     "output_type": "stream",
     "text": [
      "[13:52:11] task [xgboost.dask-7]:tcp://127.0.0.1:41419 got new rank 0\n",
      "[13:52:24] WARNING: /workspace/src/learner.cc:742: \n",
      "Parameters: { \"predictor\" } are not used.\n",
      "\n",
      "2024-02-02 13:52:29,711 - distributed.utils_perf - WARNING - full garbage collections took 90% CPU time recently (threshold: 10%)\n",
      "2024-02-02 13:52:30,145 - distributed.utils_perf - WARNING - full garbage collections took 90% CPU time recently (threshold: 10%)\n"
     ]
    },
    {
     "name": "stdout",
     "output_type": "stream",
     "text": [
      "4\n"
     ]
    },
    {
     "name": "stderr",
     "output_type": "stream",
     "text": [
      "[13:52:35] task [xgboost.dask-4]:tcp://127.0.0.1:38713 got new rank 0\n",
      "[13:52:48] WARNING: /workspace/src/learner.cc:742: \n",
      "Parameters: { \"predictor\" } are not used.\n",
      "\n",
      "2024-02-02 13:52:54,027 - distributed.utils_perf - WARNING - full garbage collections took 90% CPU time recently (threshold: 10%)\n",
      "2024-02-02 13:52:54,464 - distributed.utils_perf - WARNING - full garbage collections took 90% CPU time recently (threshold: 10%)\n"
     ]
    },
    {
     "name": "stdout",
     "output_type": "stream",
     "text": [
      "2\n",
      "0\n"
     ]
    },
    {
     "name": "stderr",
     "output_type": "stream",
     "text": [
      "[13:53:00] task [xgboost.dask-1]:tcp://127.0.0.1:45615 got new rank 0\n",
      "[13:53:11] WARNING: /workspace/src/learner.cc:742: \n",
      "Parameters: { \"predictor\" } are not used.\n",
      "\n",
      "2024-02-02 13:53:17,160 - distributed.utils_perf - WARNING - full garbage collections took 90% CPU time recently (threshold: 10%)\n",
      "2024-02-02 13:53:17,601 - distributed.utils_perf - WARNING - full garbage collections took 90% CPU time recently (threshold: 10%)\n"
     ]
    },
    {
     "name": "stdout",
     "output_type": "stream",
     "text": [
      "1\n"
     ]
    },
    {
     "name": "stderr",
     "output_type": "stream",
     "text": [
      "[13:53:23] task [xgboost.dask-0]:tcp://127.0.0.1:40795 got new rank 0\n",
      "[13:53:34] WARNING: /workspace/src/learner.cc:742: \n",
      "Parameters: { \"predictor\" } are not used.\n",
      "\n",
      "2024-02-02 13:53:40,118 - distributed.utils_perf - WARNING - full garbage collections took 90% CPU time recently (threshold: 10%)\n",
      "2024-02-02 13:53:40,532 - distributed.utils_perf - WARNING - full garbage collections took 90% CPU time recently (threshold: 10%)\n"
     ]
    },
    {
     "name": "stdout",
     "output_type": "stream",
     "text": [
      "2\n"
     ]
    },
    {
     "name": "stderr",
     "output_type": "stream",
     "text": [
      "[13:53:46] task [xgboost.dask-3]:tcp://127.0.0.1:38175 got new rank 0\n",
      "[13:53:57] WARNING: /workspace/src/learner.cc:742: \n",
      "Parameters: { \"predictor\" } are not used.\n",
      "\n",
      "2024-02-02 13:54:03,655 - distributed.utils_perf - WARNING - full garbage collections took 90% CPU time recently (threshold: 10%)\n",
      "2024-02-02 13:54:04,083 - distributed.utils_perf - WARNING - full garbage collections took 90% CPU time recently (threshold: 10%)\n"
     ]
    },
    {
     "name": "stdout",
     "output_type": "stream",
     "text": [
      "3\n"
     ]
    },
    {
     "name": "stderr",
     "output_type": "stream",
     "text": [
      "[13:54:09] task [xgboost.dask-2]:tcp://127.0.0.1:43677 got new rank 0\n",
      "[13:54:21] WARNING: /workspace/src/learner.cc:742: \n",
      "Parameters: { \"predictor\" } are not used.\n",
      "\n",
      "2024-02-02 13:54:27,430 - distributed.utils_perf - WARNING - full garbage collections took 90% CPU time recently (threshold: 10%)\n",
      "2024-02-02 13:54:27,870 - distributed.utils_perf - WARNING - full garbage collections took 90% CPU time recently (threshold: 10%)\n"
     ]
    },
    {
     "name": "stdout",
     "output_type": "stream",
     "text": [
      "4\n"
     ]
    },
    {
     "name": "stderr",
     "output_type": "stream",
     "text": [
      "[13:54:33] task [xgboost.dask-6]:tcp://127.0.0.1:38997 got new rank 0\n",
      "[13:54:45] WARNING: /workspace/src/learner.cc:742: \n",
      "Parameters: { \"predictor\" } are not used.\n",
      "\n",
      "2024-02-02 13:54:50,913 - distributed.utils_perf - WARNING - full garbage collections took 90% CPU time recently (threshold: 10%)\n",
      "2024-02-02 13:54:51,340 - distributed.utils_perf - WARNING - full garbage collections took 90% CPU time recently (threshold: 10%)\n"
     ]
    },
    {
     "name": "stdout",
     "output_type": "stream",
     "text": [
      "3\n",
      "0\n"
     ]
    },
    {
     "name": "stderr",
     "output_type": "stream",
     "text": [
      "[13:54:56] task [xgboost.dask-5]:tcp://127.0.0.1:34431 got new rank 0\n",
      "[13:55:08] WARNING: /workspace/src/learner.cc:742: \n",
      "Parameters: { \"predictor\" } are not used.\n",
      "\n",
      "2024-02-02 13:55:14,049 - distributed.utils_perf - WARNING - full garbage collections took 97% CPU time recently (threshold: 10%)\n",
      "2024-02-02 13:55:14,488 - distributed.utils_perf - WARNING - full garbage collections took 97% CPU time recently (threshold: 10%)\n"
     ]
    },
    {
     "name": "stdout",
     "output_type": "stream",
     "text": [
      "1\n"
     ]
    },
    {
     "name": "stderr",
     "output_type": "stream",
     "text": [
      "[13:55:20] task [xgboost.dask-7]:tcp://127.0.0.1:41419 got new rank 0\n",
      "[13:55:32] WARNING: /workspace/src/learner.cc:742: \n",
      "Parameters: { \"predictor\" } are not used.\n",
      "\n",
      "2024-02-02 13:55:37,800 - distributed.utils_perf - WARNING - full garbage collections took 97% CPU time recently (threshold: 10%)\n",
      "2024-02-02 13:55:38,244 - distributed.utils_perf - WARNING - full garbage collections took 97% CPU time recently (threshold: 10%)\n"
     ]
    },
    {
     "name": "stdout",
     "output_type": "stream",
     "text": [
      "2\n"
     ]
    },
    {
     "name": "stderr",
     "output_type": "stream",
     "text": [
      "[13:55:43] task [xgboost.dask-4]:tcp://127.0.0.1:38713 got new rank 0\n",
      "[13:55:56] WARNING: /workspace/src/learner.cc:742: \n",
      "Parameters: { \"predictor\" } are not used.\n",
      "\n",
      "2024-02-02 13:56:01,468 - distributed.utils_perf - WARNING - full garbage collections took 97% CPU time recently (threshold: 10%)\n",
      "2024-02-02 13:56:01,904 - distributed.utils_perf - WARNING - full garbage collections took 97% CPU time recently (threshold: 10%)\n"
     ]
    },
    {
     "name": "stdout",
     "output_type": "stream",
     "text": [
      "3\n"
     ]
    },
    {
     "name": "stderr",
     "output_type": "stream",
     "text": [
      "[13:56:07] task [xgboost.dask-1]:tcp://127.0.0.1:45615 got new rank 0\n",
      "[13:56:19] WARNING: /workspace/src/learner.cc:742: \n",
      "Parameters: { \"predictor\" } are not used.\n",
      "\n",
      "2024-02-02 13:56:24,913 - distributed.utils_perf - WARNING - full garbage collections took 97% CPU time recently (threshold: 10%)\n",
      "2024-02-02 13:56:25,364 - distributed.utils_perf - WARNING - full garbage collections took 97% CPU time recently (threshold: 10%)\n"
     ]
    },
    {
     "name": "stdout",
     "output_type": "stream",
     "text": [
      "4\n"
     ]
    },
    {
     "name": "stderr",
     "output_type": "stream",
     "text": [
      "[13:56:30] task [xgboost.dask-0]:tcp://127.0.0.1:40795 got new rank 0\n",
      "[13:56:42] WARNING: /workspace/src/learner.cc:742: \n",
      "Parameters: { \"predictor\" } are not used.\n",
      "\n",
      "2024-02-02 13:56:48,193 - distributed.utils_perf - WARNING - full garbage collections took 97% CPU time recently (threshold: 10%)\n",
      "2024-02-02 13:56:48,606 - distributed.utils_perf - WARNING - full garbage collections took 97% CPU time recently (threshold: 10%)\n"
     ]
    },
    {
     "name": "stdout",
     "output_type": "stream",
     "text": [
      "4\n",
      "0\n"
     ]
    },
    {
     "name": "stderr",
     "output_type": "stream",
     "text": [
      "[13:56:54] task [xgboost.dask-3]:tcp://127.0.0.1:38175 got new rank 0\n",
      "[13:57:06] WARNING: /workspace/src/learner.cc:742: \n",
      "Parameters: { \"predictor\" } are not used.\n",
      "\n",
      "2024-02-02 13:57:11,643 - distributed.utils_perf - WARNING - full garbage collections took 97% CPU time recently (threshold: 10%)\n",
      "2024-02-02 13:57:12,076 - distributed.utils_perf - WARNING - full garbage collections took 97% CPU time recently (threshold: 10%)\n"
     ]
    },
    {
     "name": "stdout",
     "output_type": "stream",
     "text": [
      "1\n"
     ]
    },
    {
     "name": "stderr",
     "output_type": "stream",
     "text": [
      "[13:57:17] task [xgboost.dask-2]:tcp://127.0.0.1:43677 got new rank 0\n",
      "[13:57:29] WARNING: /workspace/src/learner.cc:742: \n",
      "Parameters: { \"predictor\" } are not used.\n",
      "\n",
      "2024-02-02 13:57:34,631 - distributed.utils_perf - WARNING - full garbage collections took 97% CPU time recently (threshold: 10%)\n",
      "2024-02-02 13:57:35,074 - distributed.utils_perf - WARNING - full garbage collections took 97% CPU time recently (threshold: 10%)\n"
     ]
    },
    {
     "name": "stdout",
     "output_type": "stream",
     "text": [
      "2\n"
     ]
    },
    {
     "name": "stderr",
     "output_type": "stream",
     "text": [
      "[13:57:40] task [xgboost.dask-6]:tcp://127.0.0.1:38997 got new rank 0\n",
      "[13:57:52] WARNING: /workspace/src/learner.cc:742: \n",
      "Parameters: { \"predictor\" } are not used.\n",
      "\n",
      "2024-02-02 13:57:57,860 - distributed.utils_perf - WARNING - full garbage collections took 97% CPU time recently (threshold: 10%)\n",
      "2024-02-02 13:57:58,301 - distributed.utils_perf - WARNING - full garbage collections took 97% CPU time recently (threshold: 10%)\n"
     ]
    },
    {
     "name": "stdout",
     "output_type": "stream",
     "text": [
      "3\n"
     ]
    },
    {
     "name": "stderr",
     "output_type": "stream",
     "text": [
      "[13:58:04] task [xgboost.dask-5]:tcp://127.0.0.1:34431 got new rank 0\n",
      "[13:58:16] WARNING: /workspace/src/learner.cc:742: \n",
      "Parameters: { \"predictor\" } are not used.\n",
      "\n",
      "2024-02-02 13:58:21,216 - distributed.utils_perf - WARNING - full garbage collections took 97% CPU time recently (threshold: 10%)\n",
      "2024-02-02 13:58:21,655 - distributed.utils_perf - WARNING - full garbage collections took 97% CPU time recently (threshold: 10%)\n"
     ]
    },
    {
     "name": "stdout",
     "output_type": "stream",
     "text": [
      "4\n"
     ]
    },
    {
     "name": "stderr",
     "output_type": "stream",
     "text": [
      "[13:58:27] task [xgboost.dask-7]:tcp://127.0.0.1:41419 got new rank 0\n",
      "[13:58:38] WARNING: /workspace/src/learner.cc:742: \n",
      "Parameters: { \"predictor\" } are not used.\n",
      "\n",
      "2024-02-02 13:58:44,364 - distributed.utils_perf - WARNING - full garbage collections took 97% CPU time recently (threshold: 10%)\n",
      "2024-02-02 13:58:44,805 - distributed.utils_perf - WARNING - full garbage collections took 97% CPU time recently (threshold: 10%)\n"
     ]
    },
    {
     "ename": "TypeError",
     "evalue": "'numpy.float64' object is not callable",
     "output_type": "error",
     "traceback": [
      "\u001b[0;31m---------------------------------------------------------------------------\u001b[0m",
      "\u001b[0;31mTypeError\u001b[0m                                 Traceback (most recent call last)",
      "File \u001b[0;32m<timed exec>:41\u001b[0m\n",
      "Cell \u001b[0;32mIn[56], line 12\u001b[0m, in \u001b[0;36mgini_normalized\u001b[0;34m(a, p)\u001b[0m\n\u001b[1;32m     11\u001b[0m \u001b[38;5;28;01mdef\u001b[39;00m \u001b[38;5;21mgini_normalized\u001b[39m(a, p):\n\u001b[0;32m---> 12\u001b[0m     \u001b[38;5;28;01mreturn\u001b[39;00m \u001b[43mgini\u001b[49m\u001b[43m(\u001b[49m\u001b[43ma\u001b[49m\u001b[43m,\u001b[49m\u001b[43m \u001b[49m\u001b[43mp\u001b[49m\u001b[43m)\u001b[49m \u001b[38;5;241m/\u001b[39m gini(a, a)\n",
      "\u001b[0;31mTypeError\u001b[0m: 'numpy.float64' object is not callable"
     ]
    }
   ],
   "source": [
    "%%time\n",
    "num_round = 2000\n",
    "n_seeds = 5\n",
    "n_folds = 5\n",
    "\n",
    "best_params['learning_rate'] = 0.008\n",
    "best_params['device'] = 'cuda'\n",
    "best_params['tree_method'] = 'hist'\n",
    "\n",
    "\n",
    "train_oof = np.zeros((target.shape[0],))\n",
    "test_preds = 0\n",
    "\n",
    "kf = KFold(n_folds, shuffle=True, random_state=137)\n",
    "\n",
    "for i, (train_index, val_index) in enumerate(kf.split(train,target)):\n",
    "    print(i)\n",
    "    for jj in range(n_seeds):\n",
    "\n",
    "        best_params['random_state'] = 3*jj**2+1777\n",
    "    \n",
    "        print(jj)\n",
    "        dtrain = xgb.dask.DaskDMatrix(client, train_folds[i].values, train_ys[i], enable_categorical=True)\n",
    "        dval = xgb.dask.DaskDMatrix(client, val_folds[i].values, val_ys[i], enable_categorical=True)\n",
    "        \n",
    "        output = xgb.dask.train(client, best_params, dtrain, num_round)\n",
    "        booster = output['booster']  # booster is the trained model\n",
    "        booster.set_param({'predictor': 'gpu_predictor'})\n",
    "        val_predictions = xgb.dask.predict(client, booster, dval)\n",
    "        val_predictions = val_predictions.compute()\n",
    "\n",
    "        test_predictions = xgb.dask.predict(client, booster, dtest)\n",
    "        test_predictions = test_predictions.compute()\n",
    "    \n",
    "        train_oof[val_index] += val_predictions/n_seeds\n",
    "        test_preds += test_predictions/(n_folds*n_seeds)\n",
    "    \n",
    "        del dtrain, dval, output\n",
    "        gc.collect()\n",
    "        gc.collect()\n",
    "\n",
    "gini = gini_normalized(target, train_oof)\n",
    "print(gini)"
   ]
  },
  {
   "cell_type": "code",
   "execution_count": 69,
   "id": "9d0ca0af-cb1d-4121-8c2d-b5e306a48dc3",
   "metadata": {},
   "outputs": [
    {
     "name": "stdout",
     "output_type": "stream",
     "text": [
      "0.2894314359568208\n"
     ]
    }
   ],
   "source": [
    "gini = gini_normalized(target, train_oof)\n",
    "print(gini)"
   ]
  },
  {
   "cell_type": "code",
   "execution_count": 70,
   "id": "61dd22cd-78c3-42f1-af9d-fcefc5ee224b",
   "metadata": {},
   "outputs": [
    {
     "data": {
      "text/html": [
       "<div>\n",
       "<style scoped>\n",
       "    .dataframe tbody tr th:only-of-type {\n",
       "        vertical-align: middle;\n",
       "    }\n",
       "\n",
       "    .dataframe tbody tr th {\n",
       "        vertical-align: top;\n",
       "    }\n",
       "\n",
       "    .dataframe thead th {\n",
       "        text-align: right;\n",
       "    }\n",
       "</style>\n",
       "<table border=\"1\" class=\"dataframe\">\n",
       "  <thead>\n",
       "    <tr style=\"text-align: right;\">\n",
       "      <th></th>\n",
       "      <th>id</th>\n",
       "      <th>target</th>\n",
       "    </tr>\n",
       "  </thead>\n",
       "  <tbody>\n",
       "    <tr>\n",
       "      <th>0</th>\n",
       "      <td>0</td>\n",
       "      <td>0.028294</td>\n",
       "    </tr>\n",
       "    <tr>\n",
       "      <th>1</th>\n",
       "      <td>1</td>\n",
       "      <td>0.022451</td>\n",
       "    </tr>\n",
       "    <tr>\n",
       "      <th>2</th>\n",
       "      <td>2</td>\n",
       "      <td>0.022705</td>\n",
       "    </tr>\n",
       "    <tr>\n",
       "      <th>3</th>\n",
       "      <td>3</td>\n",
       "      <td>0.013813</td>\n",
       "    </tr>\n",
       "    <tr>\n",
       "      <th>4</th>\n",
       "      <td>4</td>\n",
       "      <td>0.035861</td>\n",
       "    </tr>\n",
       "  </tbody>\n",
       "</table>\n",
       "</div>"
      ],
      "text/plain": [
       "   id    target\n",
       "0   0  0.028294\n",
       "1   1  0.022451\n",
       "2   2  0.022705\n",
       "3   3  0.013813\n",
       "4   4  0.035861"
      ]
     },
     "execution_count": 70,
     "metadata": {},
     "output_type": "execute_result"
    }
   ],
   "source": [
    "submission['target'] = test_preds\n",
    "submission.to_csv('../submissions/best_xgb_oho_optuna_h100_3.csv', index=False)\n",
    "submission.head()"
   ]
  },
  {
   "cell_type": "markdown",
   "id": "ae77718a-05a4-4d29-a145-2afbe34b406a",
   "metadata": {},
   "source": [
    "0.285 public, 0.2913 public"
   ]
  },
  {
   "cell_type": "code",
   "execution_count": 79,
   "id": "edaa01d3-605d-4b67-9527-b347fade491e",
   "metadata": {},
   "outputs": [
    {
     "name": "stdout",
     "output_type": "stream",
     "text": [
      "0\n",
      "0\n"
     ]
    },
    {
     "name": "stderr",
     "output_type": "stream",
     "text": [
      "[14:32:21] task [xgboost.dask-0]:tcp://127.0.0.1:40795 got new rank 0\n",
      "[14:32:43] WARNING: /workspace/src/learner.cc:742: \n",
      "Parameters: { \"predictor\" } are not used.\n",
      "\n",
      "2024-02-02 14:32:50,236 - distributed.utils_perf - WARNING - full garbage collections took 89% CPU time recently (threshold: 10%)\n",
      "2024-02-02 14:32:50,659 - distributed.utils_perf - WARNING - full garbage collections took 89% CPU time recently (threshold: 10%)\n"
     ]
    },
    {
     "name": "stdout",
     "output_type": "stream",
     "text": [
      "1\n"
     ]
    },
    {
     "name": "stderr",
     "output_type": "stream",
     "text": [
      "[14:32:56] task [xgboost.dask-3]:tcp://127.0.0.1:38175 got new rank 0\n",
      "[14:33:18] WARNING: /workspace/src/learner.cc:742: \n",
      "Parameters: { \"predictor\" } are not used.\n",
      "\n",
      "2024-02-02 14:33:24,882 - distributed.utils_perf - WARNING - full garbage collections took 89% CPU time recently (threshold: 10%)\n",
      "2024-02-02 14:33:25,305 - distributed.utils_perf - WARNING - full garbage collections took 89% CPU time recently (threshold: 10%)\n"
     ]
    },
    {
     "name": "stdout",
     "output_type": "stream",
     "text": [
      "2\n"
     ]
    },
    {
     "name": "stderr",
     "output_type": "stream",
     "text": [
      "[14:33:30] task [xgboost.dask-2]:tcp://127.0.0.1:43677 got new rank 0\n",
      "[14:33:52] WARNING: /workspace/src/learner.cc:742: \n",
      "Parameters: { \"predictor\" } are not used.\n",
      "\n",
      "2024-02-02 14:33:58,577 - distributed.utils_perf - WARNING - full garbage collections took 89% CPU time recently (threshold: 10%)\n",
      "2024-02-02 14:33:58,987 - distributed.utils_perf - WARNING - full garbage collections took 89% CPU time recently (threshold: 10%)\n"
     ]
    },
    {
     "name": "stdout",
     "output_type": "stream",
     "text": [
      "3\n"
     ]
    },
    {
     "name": "stderr",
     "output_type": "stream",
     "text": [
      "[14:34:04] task [xgboost.dask-6]:tcp://127.0.0.1:38997 got new rank 0\n",
      "[14:34:26] WARNING: /workspace/src/learner.cc:742: \n",
      "Parameters: { \"predictor\" } are not used.\n",
      "\n",
      "2024-02-02 14:34:32,820 - distributed.utils_perf - WARNING - full garbage collections took 89% CPU time recently (threshold: 10%)\n",
      "2024-02-02 14:34:33,234 - distributed.utils_perf - WARNING - full garbage collections took 89% CPU time recently (threshold: 10%)\n"
     ]
    },
    {
     "name": "stdout",
     "output_type": "stream",
     "text": [
      "4\n"
     ]
    },
    {
     "name": "stderr",
     "output_type": "stream",
     "text": [
      "[14:34:38] task [xgboost.dask-5]:tcp://127.0.0.1:34431 got new rank 0\n",
      "[14:35:00] WARNING: /workspace/src/learner.cc:742: \n",
      "Parameters: { \"predictor\" } are not used.\n",
      "\n",
      "2024-02-02 14:35:07,020 - distributed.utils_perf - WARNING - full garbage collections took 89% CPU time recently (threshold: 10%)\n",
      "2024-02-02 14:35:07,434 - distributed.utils_perf - WARNING - full garbage collections took 89% CPU time recently (threshold: 10%)\n"
     ]
    },
    {
     "name": "stdout",
     "output_type": "stream",
     "text": [
      "1\n",
      "0\n"
     ]
    },
    {
     "name": "stderr",
     "output_type": "stream",
     "text": [
      "[14:35:13] task [xgboost.dask-7]:tcp://127.0.0.1:41419 got new rank 0\n",
      "[14:35:34] WARNING: /workspace/src/learner.cc:742: \n",
      "Parameters: { \"predictor\" } are not used.\n",
      "\n",
      "2024-02-02 14:35:41,198 - distributed.utils_perf - WARNING - full garbage collections took 89% CPU time recently (threshold: 10%)\n",
      "2024-02-02 14:35:41,627 - distributed.utils_perf - WARNING - full garbage collections took 89% CPU time recently (threshold: 10%)\n"
     ]
    },
    {
     "name": "stdout",
     "output_type": "stream",
     "text": [
      "1\n"
     ]
    },
    {
     "name": "stderr",
     "output_type": "stream",
     "text": [
      "[14:35:47] task [xgboost.dask-4]:tcp://127.0.0.1:38713 got new rank 0\n",
      "[14:36:09] WARNING: /workspace/src/learner.cc:742: \n",
      "Parameters: { \"predictor\" } are not used.\n",
      "\n",
      "2024-02-02 14:36:16,221 - distributed.utils_perf - WARNING - full garbage collections took 89% CPU time recently (threshold: 10%)\n",
      "2024-02-02 14:36:16,634 - distributed.utils_perf - WARNING - full garbage collections took 89% CPU time recently (threshold: 10%)\n"
     ]
    },
    {
     "name": "stdout",
     "output_type": "stream",
     "text": [
      "2\n"
     ]
    },
    {
     "name": "stderr",
     "output_type": "stream",
     "text": [
      "[14:36:22] task [xgboost.dask-1]:tcp://127.0.0.1:45615 got new rank 0\n",
      "[14:36:44] WARNING: /workspace/src/learner.cc:742: \n",
      "Parameters: { \"predictor\" } are not used.\n",
      "\n",
      "2024-02-02 14:36:50,225 - distributed.utils_perf - WARNING - full garbage collections took 89% CPU time recently (threshold: 10%)\n",
      "2024-02-02 14:36:50,649 - distributed.utils_perf - WARNING - full garbage collections took 89% CPU time recently (threshold: 10%)\n"
     ]
    },
    {
     "name": "stdout",
     "output_type": "stream",
     "text": [
      "3\n"
     ]
    },
    {
     "name": "stderr",
     "output_type": "stream",
     "text": [
      "[14:36:56] task [xgboost.dask-0]:tcp://127.0.0.1:40795 got new rank 0\n",
      "[14:37:17] WARNING: /workspace/src/learner.cc:742: \n",
      "Parameters: { \"predictor\" } are not used.\n",
      "\n",
      "2024-02-02 14:37:24,377 - distributed.utils_perf - WARNING - full garbage collections took 89% CPU time recently (threshold: 10%)\n",
      "2024-02-02 14:37:24,809 - distributed.utils_perf - WARNING - full garbage collections took 89% CPU time recently (threshold: 10%)\n"
     ]
    },
    {
     "name": "stdout",
     "output_type": "stream",
     "text": [
      "4\n"
     ]
    },
    {
     "name": "stderr",
     "output_type": "stream",
     "text": [
      "[14:37:30] task [xgboost.dask-3]:tcp://127.0.0.1:38175 got new rank 0\n",
      "[14:37:51] WARNING: /workspace/src/learner.cc:742: \n",
      "Parameters: { \"predictor\" } are not used.\n",
      "\n",
      "2024-02-02 14:37:58,124 - distributed.utils_perf - WARNING - full garbage collections took 89% CPU time recently (threshold: 10%)\n",
      "2024-02-02 14:37:58,555 - distributed.utils_perf - WARNING - full garbage collections took 89% CPU time recently (threshold: 10%)\n"
     ]
    },
    {
     "name": "stdout",
     "output_type": "stream",
     "text": [
      "2\n",
      "0\n"
     ]
    },
    {
     "name": "stderr",
     "output_type": "stream",
     "text": [
      "[14:38:04] task [xgboost.dask-2]:tcp://127.0.0.1:43677 got new rank 0\n",
      "[14:38:24] WARNING: /workspace/src/learner.cc:742: \n",
      "Parameters: { \"predictor\" } are not used.\n",
      "\n",
      "2024-02-02 14:38:30,725 - distributed.utils_perf - WARNING - full garbage collections took 89% CPU time recently (threshold: 10%)\n",
      "2024-02-02 14:38:31,141 - distributed.utils_perf - WARNING - full garbage collections took 89% CPU time recently (threshold: 10%)\n"
     ]
    },
    {
     "name": "stdout",
     "output_type": "stream",
     "text": [
      "1\n"
     ]
    },
    {
     "name": "stderr",
     "output_type": "stream",
     "text": [
      "[14:38:37] task [xgboost.dask-6]:tcp://127.0.0.1:38997 got new rank 0\n",
      "[14:38:57] WARNING: /workspace/src/learner.cc:742: \n",
      "Parameters: { \"predictor\" } are not used.\n",
      "\n",
      "2024-02-02 14:39:03,603 - distributed.utils_perf - WARNING - full garbage collections took 89% CPU time recently (threshold: 10%)\n",
      "2024-02-02 14:39:04,042 - distributed.utils_perf - WARNING - full garbage collections took 89% CPU time recently (threshold: 10%)\n"
     ]
    },
    {
     "name": "stdout",
     "output_type": "stream",
     "text": [
      "2\n"
     ]
    },
    {
     "name": "stderr",
     "output_type": "stream",
     "text": [
      "[14:39:09] task [xgboost.dask-5]:tcp://127.0.0.1:34431 got new rank 0\n",
      "[14:39:30] WARNING: /workspace/src/learner.cc:742: \n",
      "Parameters: { \"predictor\" } are not used.\n",
      "\n",
      "2024-02-02 14:39:36,677 - distributed.utils_perf - WARNING - full garbage collections took 89% CPU time recently (threshold: 10%)\n",
      "2024-02-02 14:39:37,115 - distributed.utils_perf - WARNING - full garbage collections took 89% CPU time recently (threshold: 10%)\n"
     ]
    },
    {
     "name": "stdout",
     "output_type": "stream",
     "text": [
      "3\n"
     ]
    },
    {
     "name": "stderr",
     "output_type": "stream",
     "text": [
      "[14:39:42] task [xgboost.dask-7]:tcp://127.0.0.1:41419 got new rank 0\n",
      "[14:40:03] WARNING: /workspace/src/learner.cc:742: \n",
      "Parameters: { \"predictor\" } are not used.\n",
      "\n",
      "2024-02-02 14:40:09,573 - distributed.utils_perf - WARNING - full garbage collections took 89% CPU time recently (threshold: 10%)\n",
      "2024-02-02 14:40:10,003 - distributed.utils_perf - WARNING - full garbage collections took 89% CPU time recently (threshold: 10%)\n"
     ]
    },
    {
     "name": "stdout",
     "output_type": "stream",
     "text": [
      "4\n"
     ]
    },
    {
     "name": "stderr",
     "output_type": "stream",
     "text": [
      "[14:40:15] task [xgboost.dask-4]:tcp://127.0.0.1:38713 got new rank 0\n",
      "[14:40:36] WARNING: /workspace/src/learner.cc:742: \n",
      "Parameters: { \"predictor\" } are not used.\n",
      "\n",
      "2024-02-02 14:40:42,710 - distributed.utils_perf - WARNING - full garbage collections took 89% CPU time recently (threshold: 10%)\n",
      "2024-02-02 14:40:43,149 - distributed.utils_perf - WARNING - full garbage collections took 89% CPU time recently (threshold: 10%)\n"
     ]
    },
    {
     "name": "stdout",
     "output_type": "stream",
     "text": [
      "3\n",
      "0\n"
     ]
    },
    {
     "name": "stderr",
     "output_type": "stream",
     "text": [
      "[14:40:48] task [xgboost.dask-1]:tcp://127.0.0.1:45615 got new rank 0\n",
      "[14:41:09] WARNING: /workspace/src/learner.cc:742: \n",
      "Parameters: { \"predictor\" } are not used.\n",
      "\n",
      "2024-02-02 14:41:16,005 - distributed.utils_perf - WARNING - full garbage collections took 97% CPU time recently (threshold: 10%)\n",
      "2024-02-02 14:41:16,438 - distributed.utils_perf - WARNING - full garbage collections took 97% CPU time recently (threshold: 10%)\n"
     ]
    },
    {
     "name": "stdout",
     "output_type": "stream",
     "text": [
      "1\n"
     ]
    },
    {
     "name": "stderr",
     "output_type": "stream",
     "text": [
      "[14:41:22] task [xgboost.dask-0]:tcp://127.0.0.1:40795 got new rank 0\n",
      "[14:41:42] WARNING: /workspace/src/learner.cc:742: \n",
      "Parameters: { \"predictor\" } are not used.\n",
      "\n",
      "2024-02-02 14:41:49,137 - distributed.utils_perf - WARNING - full garbage collections took 97% CPU time recently (threshold: 10%)\n",
      "2024-02-02 14:41:49,548 - distributed.utils_perf - WARNING - full garbage collections took 97% CPU time recently (threshold: 10%)\n"
     ]
    },
    {
     "name": "stdout",
     "output_type": "stream",
     "text": [
      "2\n"
     ]
    },
    {
     "name": "stderr",
     "output_type": "stream",
     "text": [
      "[14:41:55] task [xgboost.dask-3]:tcp://127.0.0.1:38175 got new rank 0\n",
      "[14:42:16] WARNING: /workspace/src/learner.cc:742: \n",
      "Parameters: { \"predictor\" } are not used.\n",
      "\n",
      "2024-02-02 14:42:22,350 - distributed.utils_perf - WARNING - full garbage collections took 97% CPU time recently (threshold: 10%)\n",
      "2024-02-02 14:42:22,775 - distributed.utils_perf - WARNING - full garbage collections took 97% CPU time recently (threshold: 10%)\n"
     ]
    },
    {
     "name": "stdout",
     "output_type": "stream",
     "text": [
      "3\n"
     ]
    },
    {
     "name": "stderr",
     "output_type": "stream",
     "text": [
      "[14:42:28] task [xgboost.dask-2]:tcp://127.0.0.1:43677 got new rank 0\n",
      "[14:42:49] WARNING: /workspace/src/learner.cc:742: \n",
      "Parameters: { \"predictor\" } are not used.\n",
      "\n",
      "2024-02-02 14:42:55,895 - distributed.utils_perf - WARNING - full garbage collections took 97% CPU time recently (threshold: 10%)\n",
      "2024-02-02 14:42:56,329 - distributed.utils_perf - WARNING - full garbage collections took 97% CPU time recently (threshold: 10%)\n"
     ]
    },
    {
     "name": "stdout",
     "output_type": "stream",
     "text": [
      "4\n"
     ]
    },
    {
     "name": "stderr",
     "output_type": "stream",
     "text": [
      "[14:43:02] task [xgboost.dask-6]:tcp://127.0.0.1:38997 got new rank 0\n",
      "[14:43:23] WARNING: /workspace/src/learner.cc:742: \n",
      "Parameters: { \"predictor\" } are not used.\n",
      "\n",
      "2024-02-02 14:43:29,345 - distributed.utils_perf - WARNING - full garbage collections took 97% CPU time recently (threshold: 10%)\n",
      "2024-02-02 14:43:29,777 - distributed.utils_perf - WARNING - full garbage collections took 97% CPU time recently (threshold: 10%)\n"
     ]
    },
    {
     "name": "stdout",
     "output_type": "stream",
     "text": [
      "4\n",
      "0\n"
     ]
    },
    {
     "name": "stderr",
     "output_type": "stream",
     "text": [
      "[14:43:35] task [xgboost.dask-5]:tcp://127.0.0.1:34431 got new rank 0\n",
      "[14:43:56] WARNING: /workspace/src/learner.cc:742: \n",
      "Parameters: { \"predictor\" } are not used.\n",
      "\n",
      "2024-02-02 14:44:02,285 - distributed.utils_perf - WARNING - full garbage collections took 97% CPU time recently (threshold: 10%)\n",
      "2024-02-02 14:44:02,705 - distributed.utils_perf - WARNING - full garbage collections took 97% CPU time recently (threshold: 10%)\n"
     ]
    },
    {
     "name": "stdout",
     "output_type": "stream",
     "text": [
      "1\n"
     ]
    },
    {
     "name": "stderr",
     "output_type": "stream",
     "text": [
      "[14:44:08] task [xgboost.dask-7]:tcp://127.0.0.1:41419 got new rank 0\n",
      "[14:44:28] WARNING: /workspace/src/learner.cc:742: \n",
      "Parameters: { \"predictor\" } are not used.\n",
      "\n",
      "2024-02-02 14:44:34,568 - distributed.utils_perf - WARNING - full garbage collections took 97% CPU time recently (threshold: 10%)\n",
      "2024-02-02 14:44:34,977 - distributed.utils_perf - WARNING - full garbage collections took 97% CPU time recently (threshold: 10%)\n"
     ]
    },
    {
     "name": "stdout",
     "output_type": "stream",
     "text": [
      "2\n"
     ]
    },
    {
     "name": "stderr",
     "output_type": "stream",
     "text": [
      "[14:44:40] task [xgboost.dask-4]:tcp://127.0.0.1:38713 got new rank 0\n",
      "[14:45:01] WARNING: /workspace/src/learner.cc:742: \n",
      "Parameters: { \"predictor\" } are not used.\n",
      "\n",
      "2024-02-02 14:45:07,975 - distributed.utils_perf - WARNING - full garbage collections took 97% CPU time recently (threshold: 10%)\n",
      "2024-02-02 14:45:08,398 - distributed.utils_perf - WARNING - full garbage collections took 97% CPU time recently (threshold: 10%)\n"
     ]
    },
    {
     "name": "stdout",
     "output_type": "stream",
     "text": [
      "3\n"
     ]
    },
    {
     "name": "stderr",
     "output_type": "stream",
     "text": [
      "[14:45:14] task [xgboost.dask-1]:tcp://127.0.0.1:45615 got new rank 0\n",
      "[14:45:34] WARNING: /workspace/src/learner.cc:742: \n",
      "Parameters: { \"predictor\" } are not used.\n",
      "\n",
      "2024-02-02 14:45:40,719 - distributed.utils_perf - WARNING - full garbage collections took 97% CPU time recently (threshold: 10%)\n",
      "2024-02-02 14:45:41,134 - distributed.utils_perf - WARNING - full garbage collections took 97% CPU time recently (threshold: 10%)\n"
     ]
    },
    {
     "name": "stdout",
     "output_type": "stream",
     "text": [
      "4\n"
     ]
    },
    {
     "name": "stderr",
     "output_type": "stream",
     "text": [
      "[14:45:46] task [xgboost.dask-0]:tcp://127.0.0.1:40795 got new rank 0\n",
      "[14:46:07] WARNING: /workspace/src/learner.cc:742: \n",
      "Parameters: { \"predictor\" } are not used.\n",
      "\n",
      "2024-02-02 14:46:13,616 - distributed.utils_perf - WARNING - full garbage collections took 97% CPU time recently (threshold: 10%)\n",
      "2024-02-02 14:46:14,035 - distributed.utils_perf - WARNING - full garbage collections took 97% CPU time recently (threshold: 10%)\n"
     ]
    },
    {
     "name": "stdout",
     "output_type": "stream",
     "text": [
      "0.289393324895057\n",
      "CPU times: user 53 s, sys: 33.1 s, total: 1min 26s\n",
      "Wall time: 13min 57s\n"
     ]
    }
   ],
   "source": [
    "%%time\n",
    "num_round = 4000\n",
    "n_seeds = 5\n",
    "n_folds = 5\n",
    "\n",
    "best_params['learning_rate'] = 0.004\n",
    "best_params['device'] = 'cuda'\n",
    "best_params['tree_method'] = 'hist'\n",
    "\n",
    "\n",
    "train_oof = np.zeros((target.shape[0],))\n",
    "test_preds = 0\n",
    "\n",
    "kf = KFold(n_folds, shuffle=True, random_state=137)\n",
    "\n",
    "for i, (train_index, val_index) in enumerate(kf.split(train,target)):\n",
    "    print(i)\n",
    "    for jj in range(n_seeds):\n",
    "\n",
    "        best_params['random_state'] = 3*jj**2+1777\n",
    "    \n",
    "        print(jj)\n",
    "        dtrain = xgb.dask.DaskDMatrix(client, train_folds[i].values, train_ys[i], enable_categorical=True)\n",
    "        dval = xgb.dask.DaskDMatrix(client, val_folds[i].values, val_ys[i], enable_categorical=True)\n",
    "        \n",
    "        output = xgb.dask.train(client, best_params, dtrain, num_round)\n",
    "        booster = output['booster']  # booster is the trained model\n",
    "        booster.set_param({'predictor': 'gpu_predictor'})\n",
    "        val_predictions = xgb.dask.predict(client, booster, dval)\n",
    "        val_predictions = val_predictions.compute()\n",
    "\n",
    "        test_predictions = xgb.dask.predict(client, booster, dtest)\n",
    "        test_predictions = test_predictions.compute()\n",
    "    \n",
    "        train_oof[val_index] += val_predictions/n_seeds\n",
    "        test_preds += test_predictions/(n_folds*n_seeds)\n",
    "    \n",
    "        del dtrain, dval, output\n",
    "        gc.collect()\n",
    "        gc.collect()\n",
    "\n",
    "gini = gini_normalized(target, train_oof)\n",
    "print(gini)"
   ]
  },
  {
   "cell_type": "code",
   "execution_count": 80,
   "id": "8eb9aa92-e05d-4b35-88c7-e1785ba1fd00",
   "metadata": {},
   "outputs": [
    {
     "data": {
      "text/html": [
       "<div>\n",
       "<style scoped>\n",
       "    .dataframe tbody tr th:only-of-type {\n",
       "        vertical-align: middle;\n",
       "    }\n",
       "\n",
       "    .dataframe tbody tr th {\n",
       "        vertical-align: top;\n",
       "    }\n",
       "\n",
       "    .dataframe thead th {\n",
       "        text-align: right;\n",
       "    }\n",
       "</style>\n",
       "<table border=\"1\" class=\"dataframe\">\n",
       "  <thead>\n",
       "    <tr style=\"text-align: right;\">\n",
       "      <th></th>\n",
       "      <th>id</th>\n",
       "      <th>target</th>\n",
       "    </tr>\n",
       "  </thead>\n",
       "  <tbody>\n",
       "    <tr>\n",
       "      <th>0</th>\n",
       "      <td>0</td>\n",
       "      <td>0.028226</td>\n",
       "    </tr>\n",
       "    <tr>\n",
       "      <th>1</th>\n",
       "      <td>1</td>\n",
       "      <td>0.022360</td>\n",
       "    </tr>\n",
       "    <tr>\n",
       "      <th>2</th>\n",
       "      <td>2</td>\n",
       "      <td>0.022910</td>\n",
       "    </tr>\n",
       "    <tr>\n",
       "      <th>3</th>\n",
       "      <td>3</td>\n",
       "      <td>0.013812</td>\n",
       "    </tr>\n",
       "    <tr>\n",
       "      <th>4</th>\n",
       "      <td>4</td>\n",
       "      <td>0.035636</td>\n",
       "    </tr>\n",
       "  </tbody>\n",
       "</table>\n",
       "</div>"
      ],
      "text/plain": [
       "   id    target\n",
       "0   0  0.028226\n",
       "1   1  0.022360\n",
       "2   2  0.022910\n",
       "3   3  0.013812\n",
       "4   4  0.035636"
      ]
     },
     "execution_count": 80,
     "metadata": {},
     "output_type": "execute_result"
    }
   ],
   "source": [
    "submission['target'] = test_preds\n",
    "submission.to_csv('../submissions/best_xgb_oho_optuna_h100_4.csv', index=False)\n",
    "submission.head()"
   ]
  },
  {
   "cell_type": "markdown",
   "id": "77e149dd-b6b7-4aa0-990f-368d1dade9bc",
   "metadata": {},
   "source": [
    "0.2849 public, 0.2913 private"
   ]
  },
  {
   "cell_type": "code",
   "execution_count": null,
   "id": "74c2f83a-4ae3-406c-87d6-d0c2caf8f7d6",
   "metadata": {},
   "outputs": [],
   "source": []
  }
 ],
 "metadata": {
  "kernelspec": {
   "display_name": "Python 3 (ipykernel)",
   "language": "python",
   "name": "python3"
  },
  "language_info": {
   "codemirror_mode": {
    "name": "ipython",
    "version": 3
   },
   "file_extension": ".py",
   "mimetype": "text/x-python",
   "name": "python",
   "nbconvert_exporter": "python",
   "pygments_lexer": "ipython3",
   "version": "3.10.12"
  }
 },
 "nbformat": 4,
 "nbformat_minor": 5
}
