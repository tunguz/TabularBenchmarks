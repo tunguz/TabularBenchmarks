{
 "cells": [
  {
   "cell_type": "code",
   "execution_count": 1,
   "metadata": {
    "tags": []
   },
   "outputs": [],
   "source": [
    "%load_ext watermark"
   ]
  },
  {
   "cell_type": "code",
   "execution_count": 2,
   "metadata": {
    "tags": []
   },
   "outputs": [
    {
     "name": "stdout",
     "output_type": "stream",
     "text": [
      "Last updated: 2024-01-12T12:29:41.598186-05:00\n",
      "\n",
      "Python implementation: CPython\n",
      "Python version       : 3.7.11\n",
      "IPython version      : 7.10.1\n",
      "\n",
      "Compiler    : GCC 7.5.0\n",
      "OS          : Linux\n",
      "Release     : 4.15.0-161-generic\n",
      "Machine     : x86_64\n",
      "Processor   : x86_64\n",
      "CPU cores   : 40\n",
      "Architecture: 64bit\n",
      "\n"
     ]
    }
   ],
   "source": [
    "%watermark"
   ]
  },
  {
   "cell_type": "code",
   "execution_count": 3,
   "metadata": {
    "tags": []
   },
   "outputs": [
    {
     "name": "stdout",
     "output_type": "stream",
     "text": [
      "GPU Info: \n",
      "  GPU 0: Tesla V100-DGXS-32GB\n",
      "  GPU 1: Tesla V100-DGXS-32GB\n",
      "  GPU 2: Tesla V100-DGXS-32GB\n",
      "  GPU 3: Tesla V100-DGXS-32GB\n",
      "\n"
     ]
    }
   ],
   "source": [
    "%watermark --gpu"
   ]
  },
  {
   "cell_type": "code",
   "execution_count": 2,
   "metadata": {
    "tags": []
   },
   "outputs": [],
   "source": [
    "import numpy as np # linear algebra\n",
    "import pandas as pd # data processing, CSV file I/O (e.g. pd.read_csv)\n",
    "from sklearn.model_selection import KFold\n",
    "from sklearn.metrics import roc_auc_score\n",
    "import sklearn\n",
    "import gc\n",
    "import os\n",
    "import xgboost as xgb"
   ]
  },
  {
   "cell_type": "code",
   "execution_count": 5,
   "metadata": {
    "tags": []
   },
   "outputs": [
    {
     "name": "stdout",
     "output_type": "stream",
     "text": [
      "numpy  : 1.21.6\n",
      "xgboost: 1.6.2\n",
      "pandas : 1.3.5\n",
      "sklearn: 1.0.2\n",
      "\n"
     ]
    }
   ],
   "source": [
    "%watermark --iversions"
   ]
  },
  {
   "cell_type": "code",
   "execution_count": 6,
   "metadata": {
    "tags": []
   },
   "outputs": [],
   "source": [
    "def gini(actual, pred, cmpcol = 0, sortcol = 1):\n",
    "    assert( len(actual) == len(pred) )\n",
    "    all = np.asarray(np.c_[ actual, pred, np.arange(len(actual)) ], dtype=float)\n",
    "    all = all[ np.lexsort((all[:,2], -1*all[:,1])) ]\n",
    "    totalLosses = all[:,0].sum()\n",
    "    giniSum = all[:,0].cumsum().sum() / totalLosses\n",
    "    \n",
    "    giniSum -= (len(actual) + 1) / 2.\n",
    "    return giniSum / len(actual)\n",
    " \n",
    "def gini_normalized(a, p):\n",
    "    return gini(a, p) / gini(a, a)"
   ]
  },
  {
   "cell_type": "code",
   "execution_count": 7,
   "metadata": {
    "tags": []
   },
   "outputs": [],
   "source": [
    "train = pd.read_csv('../input/train.csv.zip')\n",
    "test = pd.read_csv('../input/test.csv.zip')\n",
    "sample_submission = pd.read_csv('../input/sample_submission.csv.zip')"
   ]
  },
  {
   "cell_type": "code",
   "execution_count": 8,
   "metadata": {
    "tags": []
   },
   "outputs": [
    {
     "data": {
      "text/html": [
       "<div>\n",
       "<style scoped>\n",
       "    .dataframe tbody tr th:only-of-type {\n",
       "        vertical-align: middle;\n",
       "    }\n",
       "\n",
       "    .dataframe tbody tr th {\n",
       "        vertical-align: top;\n",
       "    }\n",
       "\n",
       "    .dataframe thead th {\n",
       "        text-align: right;\n",
       "    }\n",
       "</style>\n",
       "<table border=\"1\" class=\"dataframe\">\n",
       "  <thead>\n",
       "    <tr style=\"text-align: right;\">\n",
       "      <th></th>\n",
       "      <th>number</th>\n",
       "      <th>value</th>\n",
       "      <th>params_alpha</th>\n",
       "      <th>params_colsample_bytree</th>\n",
       "      <th>params_eval_metric</th>\n",
       "      <th>params_lambda</th>\n",
       "      <th>params_learning_rate</th>\n",
       "      <th>params_max_depth</th>\n",
       "      <th>params_min_child_weight</th>\n",
       "      <th>params_objective</th>\n",
       "      <th>params_subsample</th>\n",
       "      <th>params_tree_method</th>\n",
       "      <th>state</th>\n",
       "    </tr>\n",
       "  </thead>\n",
       "  <tbody>\n",
       "    <tr>\n",
       "      <th>0</th>\n",
       "      <td>0</td>\n",
       "      <td>0.260580</td>\n",
       "      <td>0.518387</td>\n",
       "      <td>0.588129</td>\n",
       "      <td>logloss</td>\n",
       "      <td>0.803620</td>\n",
       "      <td>0.001024</td>\n",
       "      <td>19</td>\n",
       "      <td>73</td>\n",
       "      <td>binary:logistic</td>\n",
       "      <td>0.734509</td>\n",
       "      <td>gpu_hist</td>\n",
       "      <td>COMPLETE</td>\n",
       "    </tr>\n",
       "    <tr>\n",
       "      <th>1</th>\n",
       "      <td>1</td>\n",
       "      <td>0.272333</td>\n",
       "      <td>0.554771</td>\n",
       "      <td>0.386440</td>\n",
       "      <td>logloss</td>\n",
       "      <td>0.515043</td>\n",
       "      <td>0.004684</td>\n",
       "      <td>19</td>\n",
       "      <td>226</td>\n",
       "      <td>binary:logistic</td>\n",
       "      <td>0.740431</td>\n",
       "      <td>gpu_hist</td>\n",
       "      <td>COMPLETE</td>\n",
       "    </tr>\n",
       "    <tr>\n",
       "      <th>2</th>\n",
       "      <td>2</td>\n",
       "      <td>0.273310</td>\n",
       "      <td>0.001337</td>\n",
       "      <td>0.321878</td>\n",
       "      <td>logloss</td>\n",
       "      <td>0.224638</td>\n",
       "      <td>0.035482</td>\n",
       "      <td>25</td>\n",
       "      <td>235</td>\n",
       "      <td>binary:logistic</td>\n",
       "      <td>0.647692</td>\n",
       "      <td>gpu_hist</td>\n",
       "      <td>COMPLETE</td>\n",
       "    </tr>\n",
       "    <tr>\n",
       "      <th>3</th>\n",
       "      <td>3</td>\n",
       "      <td>0.213742</td>\n",
       "      <td>0.475032</td>\n",
       "      <td>0.907356</td>\n",
       "      <td>logloss</td>\n",
       "      <td>0.025882</td>\n",
       "      <td>0.019162</td>\n",
       "      <td>21</td>\n",
       "      <td>5</td>\n",
       "      <td>binary:logistic</td>\n",
       "      <td>0.939027</td>\n",
       "      <td>gpu_hist</td>\n",
       "      <td>COMPLETE</td>\n",
       "    </tr>\n",
       "    <tr>\n",
       "      <th>4</th>\n",
       "      <td>4</td>\n",
       "      <td>0.250605</td>\n",
       "      <td>7.983068</td>\n",
       "      <td>0.797204</td>\n",
       "      <td>logloss</td>\n",
       "      <td>1.452732</td>\n",
       "      <td>0.037789</td>\n",
       "      <td>8</td>\n",
       "      <td>12</td>\n",
       "      <td>binary:logistic</td>\n",
       "      <td>0.532211</td>\n",
       "      <td>gpu_hist</td>\n",
       "      <td>COMPLETE</td>\n",
       "    </tr>\n",
       "  </tbody>\n",
       "</table>\n",
       "</div>"
      ],
      "text/plain": [
       "   number     value  params_alpha  params_colsample_bytree params_eval_metric  \\\n",
       "0       0  0.260580      0.518387                 0.588129            logloss   \n",
       "1       1  0.272333      0.554771                 0.386440            logloss   \n",
       "2       2  0.273310      0.001337                 0.321878            logloss   \n",
       "3       3  0.213742      0.475032                 0.907356            logloss   \n",
       "4       4  0.250605      7.983068                 0.797204            logloss   \n",
       "\n",
       "   params_lambda  params_learning_rate  params_max_depth  \\\n",
       "0       0.803620              0.001024                19   \n",
       "1       0.515043              0.004684                19   \n",
       "2       0.224638              0.035482                25   \n",
       "3       0.025882              0.019162                21   \n",
       "4       1.452732              0.037789                 8   \n",
       "\n",
       "   params_min_child_weight params_objective  params_subsample  \\\n",
       "0                       73  binary:logistic          0.734509   \n",
       "1                      226  binary:logistic          0.740431   \n",
       "2                      235  binary:logistic          0.647692   \n",
       "3                        5  binary:logistic          0.939027   \n",
       "4                       12  binary:logistic          0.532211   \n",
       "\n",
       "  params_tree_method     state  \n",
       "0           gpu_hist  COMPLETE  \n",
       "1           gpu_hist  COMPLETE  \n",
       "2           gpu_hist  COMPLETE  \n",
       "3           gpu_hist  COMPLETE  \n",
       "4           gpu_hist  COMPLETE  "
      ]
     },
     "execution_count": 8,
     "metadata": {},
     "output_type": "execute_result"
    }
   ],
   "source": [
    "optuna_log = pd.read_csv('optuna_xgb_output_0.csv')\n",
    "optuna_log.head()"
   ]
  },
  {
   "cell_type": "code",
   "execution_count": 9,
   "metadata": {
    "tags": []
   },
   "outputs": [
    {
     "data": {
      "text/plain": [
       "0.2834224878819652"
      ]
     },
     "execution_count": 9,
     "metadata": {},
     "output_type": "execute_result"
    }
   ],
   "source": [
    "optuna_log.value.max()"
   ]
  },
  {
   "cell_type": "code",
   "execution_count": 10,
   "metadata": {
    "tags": []
   },
   "outputs": [],
   "source": [
    "max_value_row = optuna_log[optuna_log['value'] == optuna_log['value'].max()]"
   ]
  },
  {
   "cell_type": "code",
   "execution_count": 11,
   "metadata": {
    "tags": []
   },
   "outputs": [
    {
     "data": {
      "text/html": [
       "<div>\n",
       "<style scoped>\n",
       "    .dataframe tbody tr th:only-of-type {\n",
       "        vertical-align: middle;\n",
       "    }\n",
       "\n",
       "    .dataframe tbody tr th {\n",
       "        vertical-align: top;\n",
       "    }\n",
       "\n",
       "    .dataframe thead th {\n",
       "        text-align: right;\n",
       "    }\n",
       "</style>\n",
       "<table border=\"1\" class=\"dataframe\">\n",
       "  <thead>\n",
       "    <tr style=\"text-align: right;\">\n",
       "      <th></th>\n",
       "      <th>number</th>\n",
       "      <th>value</th>\n",
       "      <th>params_alpha</th>\n",
       "      <th>params_colsample_bytree</th>\n",
       "      <th>params_eval_metric</th>\n",
       "      <th>params_lambda</th>\n",
       "      <th>params_learning_rate</th>\n",
       "      <th>params_max_depth</th>\n",
       "      <th>params_min_child_weight</th>\n",
       "      <th>params_objective</th>\n",
       "      <th>params_subsample</th>\n",
       "      <th>params_tree_method</th>\n",
       "      <th>state</th>\n",
       "    </tr>\n",
       "  </thead>\n",
       "  <tbody>\n",
       "    <tr>\n",
       "      <th>94</th>\n",
       "      <td>94</td>\n",
       "      <td>0.283422</td>\n",
       "      <td>0.654147</td>\n",
       "      <td>0.917583</td>\n",
       "      <td>logloss</td>\n",
       "      <td>4.645511</td>\n",
       "      <td>0.013001</td>\n",
       "      <td>7</td>\n",
       "      <td>194</td>\n",
       "      <td>binary:logistic</td>\n",
       "      <td>0.66007</td>\n",
       "      <td>gpu_hist</td>\n",
       "      <td>COMPLETE</td>\n",
       "    </tr>\n",
       "  </tbody>\n",
       "</table>\n",
       "</div>"
      ],
      "text/plain": [
       "    number     value  params_alpha  params_colsample_bytree  \\\n",
       "94      94  0.283422      0.654147                 0.917583   \n",
       "\n",
       "   params_eval_metric  params_lambda  params_learning_rate  params_max_depth  \\\n",
       "94            logloss       4.645511              0.013001                 7   \n",
       "\n",
       "    params_min_child_weight params_objective  params_subsample  \\\n",
       "94                      194  binary:logistic           0.66007   \n",
       "\n",
       "   params_tree_method     state  \n",
       "94           gpu_hist  COMPLETE  "
      ]
     },
     "execution_count": 11,
     "metadata": {},
     "output_type": "execute_result"
    }
   ],
   "source": [
    "max_value_row"
   ]
  },
  {
   "cell_type": "code",
   "execution_count": 12,
   "metadata": {
    "tags": []
   },
   "outputs": [],
   "source": [
    "columns = test.columns[1:]"
   ]
  },
  {
   "cell_type": "code",
   "execution_count": 13,
   "metadata": {
    "tags": []
   },
   "outputs": [],
   "source": [
    "X = train[columns].values\n",
    "X_test = test[columns].values\n",
    "Y = train.target.values"
   ]
  },
  {
   "cell_type": "code",
   "execution_count": 14,
   "metadata": {
    "tags": []
   },
   "outputs": [],
   "source": [
    "params = {'objective': 'binary:logistic',\n",
    " 'tree_method': 'hist',\n",
    " 'lambda': 4.645511,\n",
    " 'alpha': 0.654147,\n",
    " 'colsample_bytree': 0.917,\n",
    " 'subsample': 0.66,\n",
    " 'learning_rate': 0.013,\n",
    " 'max_depth': 7,\n",
    " 'min_child_weight': 194,\n",
    " 'eval_metric': 'logloss'}"
   ]
  },
  {
   "cell_type": "code",
   "execution_count": 15,
   "metadata": {
    "tags": []
   },
   "outputs": [],
   "source": [
    "dtest = xgb.DMatrix(X_test, enable_categorical=True)"
   ]
  },
  {
   "cell_type": "code",
   "execution_count": 1,
   "metadata": {
    "tags": []
   },
   "outputs": [
    {
     "ename": "NameError",
     "evalue": "name 'np' is not defined",
     "output_type": "error",
     "traceback": [
      "\u001b[0;31m---------------------------------------------------------------------------\u001b[0m",
      "\u001b[0;31mNameError\u001b[0m                                 Traceback (most recent call last)",
      "\u001b[0;32m<timed exec>\u001b[0m in \u001b[0;36m<module>\u001b[0;34m\u001b[0m\n",
      "\u001b[0;31mNameError\u001b[0m: name 'np' is not defined"
     ]
    }
   ],
   "source": [
    "%%time\n",
    "train_oof = np.zeros((X.shape[0], ))\n",
    "test_preds = 0\n",
    "train_oof.shape\n",
    "num_round = 1000\n",
    "\n",
    "n_splits = 5\n",
    "kf = KFold(n_splits=n_splits, random_state=137, shuffle=True)\n",
    "\n",
    "for jj, (train_index, val_index) in enumerate(kf.split(X)):\n",
    "    print(\"Fitting fold\", jj+1)\n",
    "    train_features = X[train_index]\n",
    "    train_target = Y[train_index]\n",
    "    \n",
    "    val_features = X[val_index]\n",
    "    val_target = Y[val_index]\n",
    "    \n",
    "    dtrain = xgb.DMatrix(train_features, train_target, enable_categorical=True)\n",
    "    dval = xgb.DMatrix(val_features, val_target, enable_categorical=True)\n",
    "    \n",
    "    model = xgb.train(params, dtrain, num_round)\n",
    "    #model.set_param({'predictor': 'cpu_predictor'})\n",
    "    val_pred = model.predict(dval)\n",
    "    train_oof[val_index] = val_pred\n",
    "    print(\"Fold normalized:\", gini_normalized(val_target, val_pred))\n",
    "    test_preds += model.predict(dtest)/n_splits\n",
    "    del train_features, train_target, val_features, val_target\n",
    "    gc.collect()"
   ]
  },
  {
   "cell_type": "code",
   "execution_count": 17,
   "metadata": {},
   "outputs": [
    {
     "data": {
      "text/plain": [
       "0.28346581036663465"
      ]
     },
     "execution_count": 17,
     "metadata": {},
     "output_type": "execute_result"
    }
   ],
   "source": [
    "gini_normalized(Y, train_oof)"
   ]
  },
  {
   "cell_type": "code",
   "execution_count": 18,
   "metadata": {},
   "outputs": [
    {
     "name": "stdout",
     "output_type": "stream",
     "text": [
      "Fitting fold 1\n",
      "Fold normalized: 0.2857341685206029\n",
      "Fitting fold 2\n",
      "Fold normalized: 0.2923887984192146\n",
      "Fitting fold 3\n",
      "Fold normalized: 0.27523881916887216\n",
      "Fitting fold 4\n",
      "Fold normalized: 0.2844621179904104\n",
      "Fitting fold 5\n",
      "Fold normalized: 0.2797413515106076\n",
      "CPU times: user 5min 11s, sys: 3.86 s, total: 5min 15s\n",
      "Wall time: 31.4 s\n"
     ]
    }
   ],
   "source": [
    "%%time\n",
    "params = {'objective': 'binary:logistic',\n",
    " 'tree_method': 'gpu_hist',\n",
    " #'device':'cuda',\n",
    " 'lambda': 4.645511,\n",
    " 'alpha': 0.654147,\n",
    " 'colsample_bytree': 0.917,\n",
    " 'subsample': 0.66,\n",
    " 'learning_rate': 0.013,\n",
    " 'max_depth': 7,\n",
    " 'min_child_weight': 194,\n",
    " 'eval_metric': 'logloss'}\n",
    "\n",
    "train_oof = np.zeros((X.shape[0], ))\n",
    "test_preds = 0\n",
    "train_oof.shape\n",
    "num_round = 1000\n",
    "\n",
    "n_splits = 5\n",
    "kf = KFold(n_splits=n_splits, random_state=137, shuffle=True)\n",
    "\n",
    "for jj, (train_index, val_index) in enumerate(kf.split(X)):\n",
    "    print(\"Fitting fold\", jj+1)\n",
    "    train_features = X[train_index]\n",
    "    train_target = Y[train_index]\n",
    "    \n",
    "    val_features = X[val_index]\n",
    "    val_target = Y[val_index]\n",
    "    \n",
    "    dtrain = xgb.DMatrix(train_features, train_target, enable_categorical=True)\n",
    "    dval = xgb.DMatrix(val_features, val_target, enable_categorical=True)\n",
    "    \n",
    "    model = xgb.train(params, dtrain, num_round)\n",
    "    #model.set_param({'predictor': 'gpu_predictor'})\n",
    "    val_pred = model.predict(dval)\n",
    "    train_oof[val_index] = val_pred\n",
    "    print(\"Fold normalized:\", gini_normalized(val_target, val_pred))\n",
    "    test_preds += model.predict(dtest)/n_splits\n",
    "    del train_features, train_target, val_features, val_target\n",
    "    gc.collect()"
   ]
  },
  {
   "cell_type": "code",
   "execution_count": 19,
   "metadata": {
    "tags": []
   },
   "outputs": [
    {
     "data": {
      "text/plain": [
       "0.28329662478517637"
      ]
     },
     "execution_count": 19,
     "metadata": {},
     "output_type": "execute_result"
    }
   ],
   "source": [
    "gini_normalized(Y, train_oof)"
   ]
  },
  {
   "cell_type": "code",
   "execution_count": 20,
   "metadata": {
    "tags": []
   },
   "outputs": [
    {
     "data": {
      "text/plain": [
       "0.6416483115888524"
      ]
     },
     "execution_count": 20,
     "metadata": {},
     "output_type": "execute_result"
    }
   ],
   "source": [
    "roc_auc_score(Y, train_oof)"
   ]
  },
  {
   "cell_type": "code",
   "execution_count": 21,
   "metadata": {
    "tags": []
   },
   "outputs": [],
   "source": [
    "sample_submission['target'] = test_preds"
   ]
  },
  {
   "cell_type": "code",
   "execution_count": 22,
   "metadata": {
    "tags": []
   },
   "outputs": [],
   "source": [
    "sample_submission.to_csv('../submissions/XGB_5_fold_optuna_best_3.csv.zip', index=False, compression='zip')"
   ]
  },
  {
   "cell_type": "code",
   "execution_count": 23,
   "metadata": {},
   "outputs": [],
   "source": [
    "val_features = X[val_index]\n",
    "val_target = Y[val_index]"
   ]
  },
  {
   "cell_type": "code",
   "execution_count": 24,
   "metadata": {},
   "outputs": [],
   "source": [
    "dval = xgb.DMatrix(val_features, val_target, enable_categorical=True)"
   ]
  },
  {
   "cell_type": "markdown",
   "metadata": {},
   "source": [
    "On the leaderbaord this submission scores 0.2791 on the public test set, and 0.28408on the private dataset."
   ]
  },
  {
   "cell_type": "code",
   "execution_count": 25,
   "metadata": {},
   "outputs": [
    {
     "name": "stdout",
     "output_type": "stream",
     "text": [
      "CPU times: user 1.28 s, sys: 332 ms, total: 1.61 s\n",
      "Wall time: 1.61 s\n"
     ]
    }
   ],
   "source": [
    "%%time\n",
    "shap_values = model.predict(dval, pred_contribs=True)"
   ]
  },
  {
   "cell_type": "code",
   "execution_count": 26,
   "metadata": {},
   "outputs": [
    {
     "data": {
      "text/plain": [
       "(119042, 58)"
      ]
     },
     "execution_count": 26,
     "metadata": {},
     "output_type": "execute_result"
    }
   ],
   "source": [
    "shap_values.shape"
   ]
  },
  {
   "cell_type": "code",
   "execution_count": 27,
   "metadata": {},
   "outputs": [
    {
     "data": {
      "text/plain": [
       "array([3.77797974e+03, 1.69239893e+03, 1.17771230e+04, 4.48138525e+03,\n",
       "       9.72645215e+03, 4.97610303e+03, 5.65329395e+03, 2.17470898e+03,\n",
       "       2.62467114e+03, 0.00000000e+00, 0.00000000e+00, 0.00000000e+00,\n",
       "       0.00000000e+00, 0.00000000e+00, 1.09453125e+04, 4.53101270e+03,\n",
       "       7.89881592e+03, 1.74906830e+02, 6.46144678e+03, 5.03993408e+03,\n",
       "       8.97555957e+03, 5.70123535e+03, 1.25791016e+03, 5.41536914e+03,\n",
       "       6.24417603e+02, 5.54664551e+02, 1.61843103e+03, 4.84520117e+03,\n",
       "       5.27585327e+02, 3.53954175e+03, 0.00000000e+00, 2.52670996e+03,\n",
       "       2.57715039e+03, 1.21780554e+03, 1.81504941e+04, 2.76894019e+03,\n",
       "       2.84395142e+03, 8.75968079e+02, 1.72568799e+03, 9.48456177e+02,\n",
       "       6.46486389e+02, 5.17987305e+02, 8.47497559e+02, 7.89650879e+02,\n",
       "       9.21966064e+02, 8.22010559e+02, 1.06422925e+03, 1.38781763e+03,\n",
       "       7.58653259e+02, 7.01478516e+02, 1.28183582e+03, 2.65834167e+02,\n",
       "       2.69060120e+02, 5.21981812e+02, 1.96371964e+02, 5.96262268e+02,\n",
       "       5.48024231e+02, 3.90841156e+05], dtype=float32)"
      ]
     },
     "execution_count": 27,
     "metadata": {},
     "output_type": "execute_result"
    }
   ],
   "source": [
    "np.abs(shap_values).sum(axis=0)"
   ]
  },
  {
   "cell_type": "code",
   "execution_count": 28,
   "metadata": {},
   "outputs": [
    {
     "data": {
      "text/plain": [
       "array([3.77797974e+03, 1.69239893e+03, 1.17771230e+04, 4.48138525e+03,\n",
       "       9.72645215e+03, 4.97610303e+03, 5.65329395e+03, 2.17470898e+03,\n",
       "       2.62467114e+03, 0.00000000e+00, 0.00000000e+00, 0.00000000e+00,\n",
       "       0.00000000e+00, 0.00000000e+00, 1.09453125e+04, 4.53101270e+03,\n",
       "       7.89881592e+03, 1.74906830e+02, 6.46144678e+03, 5.03993408e+03,\n",
       "       8.97555957e+03, 5.70123535e+03, 1.25791016e+03, 5.41536914e+03,\n",
       "       6.24417603e+02, 5.54664551e+02, 1.61843103e+03, 4.84520117e+03,\n",
       "       5.27585327e+02, 3.53954175e+03, 0.00000000e+00, 2.52670996e+03,\n",
       "       2.57715039e+03, 1.21780554e+03, 1.81504941e+04, 2.76894019e+03,\n",
       "       2.84395142e+03, 8.75968079e+02, 1.72568799e+03, 9.48456177e+02,\n",
       "       6.46486389e+02, 5.17987305e+02, 8.47497559e+02, 7.89650879e+02,\n",
       "       9.21966064e+02, 8.22010559e+02, 1.06422925e+03, 1.38781763e+03,\n",
       "       7.58653259e+02, 7.01478516e+02, 1.28183582e+03, 2.65834167e+02,\n",
       "       2.69060120e+02, 5.21981812e+02, 1.96371964e+02, 5.96262268e+02,\n",
       "       5.48024231e+02, 3.90841156e+05], dtype=float32)"
      ]
     },
     "execution_count": 28,
     "metadata": {},
     "output_type": "execute_result"
    }
   ],
   "source": [
    "np.abs(shap_values).sum(axis=0)"
   ]
  },
  {
   "cell_type": "code",
   "execution_count": null,
   "metadata": {},
   "outputs": [],
   "source": []
  }
 ],
 "metadata": {
  "kernelspec": {
   "display_name": "Python 3",
   "language": "python",
   "name": "python3"
  },
  "language_info": {
   "codemirror_mode": {
    "name": "ipython",
    "version": 3
   },
   "file_extension": ".py",
   "mimetype": "text/x-python",
   "name": "python",
   "nbconvert_exporter": "python",
   "pygments_lexer": "ipython3",
   "version": "3.7.11"
  }
 },
 "nbformat": 4,
 "nbformat_minor": 5
}
