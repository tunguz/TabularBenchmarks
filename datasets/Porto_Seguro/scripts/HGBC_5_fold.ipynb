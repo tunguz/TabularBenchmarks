{
 "cells": [
  {
   "cell_type": "code",
   "execution_count": 1,
   "id": "95de3bfc-a13e-4a03-ac08-737b67571788",
   "metadata": {},
   "outputs": [],
   "source": [
    "%load_ext watermark"
   ]
  },
  {
   "cell_type": "code",
   "execution_count": 2,
   "id": "80a97bab-4bd3-4f10-9995-505058f83d7d",
   "metadata": {},
   "outputs": [
    {
     "name": "stdout",
     "output_type": "stream",
     "text": [
      "Last updated: 2023-07-17T18:14:49.851490-04:00\n",
      "\n",
      "Python implementation: CPython\n",
      "Python version       : 3.10.12\n",
      "IPython version      : 8.10.0\n",
      "\n",
      "Compiler    : GCC 12.3.0\n",
      "OS          : Linux\n",
      "Release     : 5.15.0-76-generic\n",
      "Machine     : x86_64\n",
      "Processor   : x86_64\n",
      "CPU cores   : 16\n",
      "Architecture: 64bit\n",
      "\n"
     ]
    }
   ],
   "source": [
    "%watermark"
   ]
  },
  {
   "cell_type": "code",
   "execution_count": 3,
   "id": "03d96dd1-d117-493a-911d-cad0f263b9ab",
   "metadata": {},
   "outputs": [
    {
     "name": "stdout",
     "output_type": "stream",
     "text": [
      "GPU Info: \n",
      "  GPU 0: Quadro RTX 5000\n",
      "\n"
     ]
    }
   ],
   "source": [
    "%watermark --gpu"
   ]
  },
  {
   "cell_type": "code",
   "execution_count": 4,
   "id": "4fb2004a-95ef-4746-afe1-93f221c502cf",
   "metadata": {},
   "outputs": [],
   "source": [
    "import numpy as np # linear algebra\n",
    "import pandas as pd # data processing, CSV file I/O (e.g. pd.read_csv)\n",
    "from sklearn.ensemble import HistGradientBoostingClassifier\n",
    "from sklearn.model_selection import KFold\n",
    "from sklearn.metrics import roc_auc_score\n",
    "import sklearn\n",
    "import gc\n",
    "import os"
   ]
  },
  {
   "cell_type": "code",
   "execution_count": 5,
   "id": "a3f9ebaf-f51a-4125-8f9c-d36d85ba432f",
   "metadata": {},
   "outputs": [
    {
     "name": "stdout",
     "output_type": "stream",
     "text": [
      "numpy  : 1.25.1\n",
      "sklearn: 1.3.0\n",
      "pandas : 2.0.3\n",
      "\n"
     ]
    }
   ],
   "source": [
    "%watermark --iversions"
   ]
  },
  {
   "cell_type": "code",
   "execution_count": 6,
   "id": "44478fc2-56b6-433d-84ba-8477dc7c3145",
   "metadata": {},
   "outputs": [],
   "source": [
    "def gini(actual, pred, cmpcol = 0, sortcol = 1):\n",
    "    assert( len(actual) == len(pred) )\n",
    "    all = np.asarray(np.c_[ actual, pred, np.arange(len(actual)) ], dtype=float)\n",
    "    all = all[ np.lexsort((all[:,2], -1*all[:,1])) ]\n",
    "    totalLosses = all[:,0].sum()\n",
    "    giniSum = all[:,0].cumsum().sum() / totalLosses\n",
    "    \n",
    "    giniSum -= (len(actual) + 1) / 2.\n",
    "    return giniSum / len(actual)\n",
    " \n",
    "def gini_normalized(a, p):\n",
    "    return gini(a, p) / gini(a, a)"
   ]
  },
  {
   "cell_type": "code",
   "execution_count": 7,
   "id": "d182729e-f05b-4914-8a48-65a3034dee66",
   "metadata": {},
   "outputs": [],
   "source": [
    "train = pd.read_csv('../input/train.csv.zip')\n",
    "test = pd.read_csv('../input/test.csv.zip')\n",
    "sample_submission = pd.read_csv('../input/sample_submission.csv.zip')"
   ]
  },
  {
   "cell_type": "code",
   "execution_count": 8,
   "id": "426868fa-bfa3-498b-9a56-13631376ffc9",
   "metadata": {},
   "outputs": [],
   "source": [
    "columns = test.columns[1:]"
   ]
  },
  {
   "cell_type": "code",
   "execution_count": 9,
   "id": "2e33893d-fd90-4783-ab50-573926cacc14",
   "metadata": {},
   "outputs": [],
   "source": [
    "X = train[columns].values\n",
    "X_test = test[columns].values\n",
    "Y = train.target.values"
   ]
  },
  {
   "cell_type": "code",
   "execution_count": 57,
   "id": "a1bb3208-e352-4e6f-a5f1-f55897bb5b20",
   "metadata": {},
   "outputs": [
    {
     "name": "stdout",
     "output_type": "stream",
     "text": [
      "Fitting fold 1\n",
      "Fold normalized: 0.2826404904629799\n",
      "Fitting fold 2\n",
      "Fold normalized: 0.2900991098434515\n",
      "Fitting fold 3\n",
      "Fold normalized: 0.27227223692921887\n",
      "Fitting fold 4\n",
      "Fold normalized: 0.2795800880508094\n",
      "Fitting fold 5\n",
      "Fold normalized: 0.273442372028705\n",
      "CPU times: user 40min 39s, sys: 1.8 s, total: 40min 41s\n",
      "Wall time: 5min 7s\n"
     ]
    }
   ],
   "source": [
    "%%time\n",
    "train_oof = np.zeros((X.shape[0], ))\n",
    "test_preds = 0\n",
    "train_oof.shape\n",
    "\n",
    "n_splits = 5\n",
    "kf = KFold(n_splits=n_splits, random_state=137, shuffle=True)\n",
    "\n",
    "for jj, (train_index, val_index) in enumerate(kf.split(X)):\n",
    "    print(\"Fitting fold\", jj+1)\n",
    "    train_features = X[train_index]\n",
    "    train_target = Y[train_index]\n",
    "    \n",
    "    val_features = X[val_index]\n",
    "    val_target = Y[val_index]\n",
    "    \n",
    "    model = HistGradientBoostingClassifier(max_iter=1800, learning_rate = 0.005, validation_fraction=None, \n",
    "                                           max_depth=10, random_state=42)\n",
    "    model.fit(train_features, train_target)\n",
    "    val_pred = model.predict_proba(val_features)[:,1]\n",
    "    train_oof[val_index] = val_pred\n",
    "    print(\"Fold normalized:\", gini_normalized(val_target, val_pred))\n",
    "    test_preds += model.predict_proba(X_test)[:,1]/n_splits\n",
    "    del train_features, train_target, val_features, val_target\n",
    "    gc.collect()"
   ]
  },
  {
   "cell_type": "code",
   "execution_count": 58,
   "id": "7d735c24-429e-4e47-963e-f073df8bf7af",
   "metadata": {},
   "outputs": [
    {
     "data": {
      "text/plain": [
       "0.27938769785394113"
      ]
     },
     "execution_count": 58,
     "metadata": {},
     "output_type": "execute_result"
    }
   ],
   "source": [
    "gini_normalized(Y, train_oof)"
   ]
  },
  {
   "cell_type": "code",
   "execution_count": 59,
   "id": "ed3d6985-e40b-49cd-a974-072876de6d13",
   "metadata": {},
   "outputs": [
    {
     "data": {
      "text/plain": [
       "0.6396938489269706"
      ]
     },
     "execution_count": 59,
     "metadata": {},
     "output_type": "execute_result"
    }
   ],
   "source": [
    "roc_auc_score(Y, train_oof)"
   ]
  },
  {
   "cell_type": "code",
   "execution_count": 60,
   "id": "20697d97-d6c5-4390-8f8f-80502736ef88",
   "metadata": {},
   "outputs": [],
   "source": [
    "sample_submission['target'] = test_preds"
   ]
  },
  {
   "cell_type": "code",
   "execution_count": 62,
   "id": "352dd235-0e71-4f9f-864e-dbb1edfdbf5c",
   "metadata": {},
   "outputs": [],
   "source": [
    "sample_submission.to_csv('../submissions/HGBC_5_fold.csv.zip', index=False, compression='zip')"
   ]
  },
  {
   "cell_type": "markdown",
   "id": "c2009496-1d15-4eb7-99bd-a7eb2ac2fa32",
   "metadata": {},
   "source": [
    "On the leaderbaord this submission scores 0.2787 on the public test set, and 0.28261 on the private dataset."
   ]
  },
  {
   "cell_type": "code",
   "execution_count": null,
   "id": "099431f9-7150-4aa8-9c01-b404bad0d2b6",
   "metadata": {},
   "outputs": [],
   "source": []
  }
 ],
 "metadata": {
  "kernelspec": {
   "display_name": "Python 3 (ipykernel)",
   "language": "python",
   "name": "python3"
  },
  "language_info": {
   "codemirror_mode": {
    "name": "ipython",
    "version": 3
   },
   "file_extension": ".py",
   "mimetype": "text/x-python",
   "name": "python",
   "nbconvert_exporter": "python",
   "pygments_lexer": "ipython3",
   "version": "3.10.12"
  }
 },
 "nbformat": 4,
 "nbformat_minor": 5
}
