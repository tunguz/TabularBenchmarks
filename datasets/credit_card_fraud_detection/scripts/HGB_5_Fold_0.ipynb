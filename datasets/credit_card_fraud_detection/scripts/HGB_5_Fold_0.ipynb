{
 "cells": [
  {
   "cell_type": "code",
   "execution_count": 2,
   "id": "e2d478a6-14e3-4b3c-98b6-a0c921914fbe",
   "metadata": {},
   "outputs": [],
   "source": [
    "%load_ext watermark\n"
   ]
  },
  {
   "cell_type": "code",
   "execution_count": 3,
   "id": "3ceae3da-b9cf-4712-ab20-d9b5d72ee1aa",
   "metadata": {},
   "outputs": [
    {
     "name": "stdout",
     "output_type": "stream",
     "text": [
      "Last updated: 2022-08-15T19:07:33.658443-04:00\n",
      "\n",
      "Python implementation: CPython\n",
      "Python version       : 3.8.9\n",
      "IPython version      : 8.4.0\n",
      "\n",
      "Compiler    : Clang 13.1.6 (clang-1316.0.21.2.5)\n",
      "OS          : Darwin\n",
      "Release     : 21.5.0\n",
      "Machine     : arm64\n",
      "Processor   : arm\n",
      "CPU cores   : 20\n",
      "Architecture: 64bit\n",
      "\n"
     ]
    }
   ],
   "source": [
    "%watermark"
   ]
  },
  {
   "cell_type": "code",
   "execution_count": 7,
   "id": "257a949f-86d3-449d-87d9-bc70bfbf95eb",
   "metadata": {},
   "outputs": [],
   "source": [
    "import pandas as pd\n",
    "import numpy as np\n",
    "\n",
    "from sklearn import metrics\n",
    "from sklearn.metrics import roc_auc_score\n",
    "from sklearn.ensemble import HistGradientBoostingClassifier\n",
    "from sklearn.linear_model import LogisticRegression\n",
    "from sklearn.neural_network import MLPClassifier\n",
    "from sklearn.model_selection import train_test_split, KFold, StratifiedKFold"
   ]
  },
  {
   "cell_type": "code",
   "execution_count": 8,
   "id": "a34e981d-9364-42dd-92a5-3f689ba05a57",
   "metadata": {},
   "outputs": [
    {
     "name": "stdout",
     "output_type": "stream",
     "text": [
      "pandas : 1.4.3\n",
      "numpy  : 1.23.1\n",
      "sklearn: 1.1.2\n",
      "\n"
     ]
    }
   ],
   "source": [
    "%watermark --iversions"
   ]
  },
  {
   "cell_type": "code",
   "execution_count": 3,
   "id": "af6945b1-d50c-4d51-9f40-8ae2700d887d",
   "metadata": {},
   "outputs": [],
   "source": [
    "data = pd.read_csv('../input/creditcard.csv.gz', compression='gzip')"
   ]
  },
  {
   "cell_type": "code",
   "execution_count": 4,
   "id": "0b4e8a10-2470-4f2c-91e6-19cb2f8343a3",
   "metadata": {},
   "outputs": [
    {
     "data": {
      "text/plain": [
       "Index(['Time', 'V1', 'V2', 'V3', 'V4', 'V5', 'V6', 'V7', 'V8', 'V9', 'V10',\n",
       "       'V11', 'V12', 'V13', 'V14', 'V15', 'V16', 'V17', 'V18', 'V19', 'V20',\n",
       "       'V21', 'V22', 'V23', 'V24', 'V25', 'V26', 'V27', 'V28', 'Amount',\n",
       "       'Class'],\n",
       "      dtype='object')"
      ]
     },
     "execution_count": 4,
     "metadata": {},
     "output_type": "execute_result"
    }
   ],
   "source": [
    "data.columns"
   ]
  },
  {
   "cell_type": "code",
   "execution_count": 5,
   "id": "2a9cb34d-a1f3-4061-a08c-43e3e46255cc",
   "metadata": {},
   "outputs": [],
   "source": [
    "features = data.columns[:-1]\n",
    "target = data.Class.values"
   ]
  },
  {
   "cell_type": "code",
   "execution_count": 8,
   "id": "c3f3d10f-dd1a-4642-98e2-9400a7c6e390",
   "metadata": {},
   "outputs": [],
   "source": [
    "train = data.copy()"
   ]
  },
  {
   "cell_type": "code",
   "execution_count": 12,
   "id": "e212ef88-be98-43a7-8c4b-650fd1cbac88",
   "metadata": {},
   "outputs": [
    {
     "name": "stdout",
     "output_type": "stream",
     "text": [
      "Fold: 0\n",
      "Fold: 0 - score 0.29\n",
      "Fold: 1\n",
      "Fold: 1 - score 0.4\n",
      "Fold: 2\n",
      "Fold: 2 - score 0.66\n",
      "Fold: 3\n",
      "Fold: 3 - score 0.28\n",
      "Fold: 4\n",
      "Fold: 4 - score 0.74\n",
      "CPU times: user 15 s, sys: 17.6 s, total: 32.6 s\n",
      "Wall time: 6.69 s\n"
     ]
    }
   ],
   "source": [
    "%%time\n",
    "\n",
    "train_oof = np.zeros((train.shape[0],))\n",
    "\n",
    "n_fold = 5 \n",
    "\n",
    "\n",
    "\n",
    "kf = StratifiedKFold(n_splits=n_fold, random_state=137, shuffle=True)\n",
    "\n",
    "\n",
    "for fold, (idx_tr, idx_va) in enumerate(kf.split(train, target)):\n",
    "    X_tr = train.iloc[idx_tr][features]\n",
    "    X_va = train.iloc[idx_va][features]\n",
    "    y_tr = target[idx_tr]\n",
    "    y_va = target[idx_va]\n",
    "\n",
    "    print(f'Fold: {fold}')\n",
    "    clf = HistGradientBoostingClassifier()\n",
    "    clf.fit(X_tr, y_tr)\n",
    "    val_predictions = clf.predict_proba(X_va)[:,1]\n",
    "    train_oof[idx_va] = val_predictions\n",
    "    score = roc_auc_score(y_va, val_predictions)\n",
    "    print(f'Fold: {fold} - score {score:.2}')"
   ]
  },
  {
   "cell_type": "code",
   "execution_count": 13,
   "id": "276cabd3-c080-4cdc-9dd1-8bbf553e0b81",
   "metadata": {},
   "outputs": [
    {
     "data": {
      "text/plain": [
       "0.4671539954324679"
      ]
     },
     "execution_count": 13,
     "metadata": {},
     "output_type": "execute_result"
    }
   ],
   "source": [
    "roc_auc_score(target, train_oof)"
   ]
  },
  {
   "cell_type": "code",
   "execution_count": 55,
   "id": "e34ebcc5-2b20-4dfa-b11b-3b0d7b14bc45",
   "metadata": {},
   "outputs": [
    {
     "name": "stdout",
     "output_type": "stream",
     "text": [
      "Fold: 0\n",
      "Fold: 0 - score 0.9083\n",
      "Fold: 1\n",
      "Fold: 1 - score 0.9536\n",
      "Fold: 2\n",
      "Fold: 2 - score 0.731\n",
      "Fold: 3\n",
      "Fold: 3 - score 0.8575\n",
      "Fold: 4\n",
      "Fold: 4 - score 0.8984\n",
      "CPU times: user 1min 30s, sys: 1min 37s, total: 3min 8s\n",
      "Wall time: 24.5 s\n"
     ]
    }
   ],
   "source": [
    "%%time\n",
    "\n",
    "train_oof = np.zeros((train.shape[0],))\n",
    "\n",
    "n_fold = 5 \n",
    "\n",
    "\n",
    "\n",
    "kf = StratifiedKFold(n_splits=n_fold, random_state=137, shuffle=True)\n",
    "\n",
    "\n",
    "for fold, (idx_tr, idx_va) in enumerate(kf.split(train, target)):\n",
    "    X_tr = train.iloc[idx_tr][features]\n",
    "    X_va = train.iloc[idx_va][features]\n",
    "    y_tr = target[idx_tr]\n",
    "    y_va = target[idx_va]\n",
    "\n",
    "    print(f'Fold: {fold}')\n",
    "    clf = HistGradientBoostingClassifier(early_stopping=None, max_iter=420, max_depth=2, \n",
    "                                         random_state=137, max_bins=250)\n",
    "    clf.fit(X_tr, y_tr)\n",
    "    val_predictions = clf.predict_proba(X_va)[:,1]\n",
    "    train_oof[idx_va] = val_predictions\n",
    "    score = roc_auc_score(y_va, val_predictions)\n",
    "    print(f'Fold: {fold} - score {score:.4}')"
   ]
  },
  {
   "cell_type": "code",
   "execution_count": 52,
   "id": "8596fb5b-0d40-4f96-9b1f-c32dc31b37ba",
   "metadata": {},
   "outputs": [
    {
     "data": {
      "text/plain": [
       "0.8570062598037304"
      ]
     },
     "execution_count": 52,
     "metadata": {},
     "output_type": "execute_result"
    }
   ],
   "source": [
    "roc_auc_score(target, train_oof)"
   ]
  },
  {
   "cell_type": "code",
   "execution_count": 46,
   "id": "8a15d51a-354d-49c6-8e4a-631f078e2c53",
   "metadata": {},
   "outputs": [
    {
     "data": {
      "text/plain": [
       "0.8570062598037304"
      ]
     },
     "execution_count": 46,
     "metadata": {},
     "output_type": "execute_result"
    }
   ],
   "source": [
    "0.8570062598037304"
   ]
  },
  {
   "cell_type": "code",
   "execution_count": null,
   "id": "394b58f4-a293-4b75-9d3c-a7c20e721730",
   "metadata": {},
   "outputs": [],
   "source": []
  }
 ],
 "metadata": {
  "kernelspec": {
   "display_name": "Python 3 (ipykernel)",
   "language": "python",
   "name": "python3"
  },
  "language_info": {
   "codemirror_mode": {
    "name": "ipython",
    "version": 3
   },
   "file_extension": ".py",
   "mimetype": "text/x-python",
   "name": "python",
   "nbconvert_exporter": "python",
   "pygments_lexer": "ipython3",
   "version": "3.8.9"
  }
 },
 "nbformat": 4,
 "nbformat_minor": 5
}
