{
 "cells": [
  {
   "cell_type": "code",
   "execution_count": 1,
   "id": "933b7aab-ac09-4608-a787-5a76b2be8940",
   "metadata": {},
   "outputs": [],
   "source": [
    "%load_ext watermark"
   ]
  },
  {
   "cell_type": "code",
   "execution_count": 2,
   "id": "94090294-43da-43b0-8ab4-d8a96ae1c76a",
   "metadata": {},
   "outputs": [
    {
     "name": "stdout",
     "output_type": "stream",
     "text": [
      "Last updated: 2022-08-29T12:57:19.789707-04:00\n",
      "\n",
      "Python implementation: CPython\n",
      "Python version       : 3.8.10\n",
      "IPython version      : 7.28.0\n",
      "\n",
      "Compiler    : GCC 9.3.0\n",
      "OS          : Linux\n",
      "Release     : 5.11.0-37-generic\n",
      "Machine     : x86_64\n",
      "Processor   : x86_64\n",
      "CPU cores   : 32\n",
      "Architecture: 64bit\n",
      "\n"
     ]
    }
   ],
   "source": [
    "%watermark"
   ]
  },
  {
   "cell_type": "code",
   "execution_count": 23,
   "id": "820305ea-07a1-4b4c-9e34-50f38d585c2a",
   "metadata": {},
   "outputs": [],
   "source": [
    "import keras_tuner\n",
    "from tensorflow import keras\n",
    "import pandas as pd\n",
    "import numpy as np\n",
    "from sklearn.metrics import accuracy_score\n",
    "import keras_tuner as kt\n",
    "from tensorflow.keras import layers"
   ]
  },
  {
   "cell_type": "code",
   "execution_count": 21,
   "id": "37f7ed3f-a48b-4f8e-8e48-2984714de89f",
   "metadata": {},
   "outputs": [
    {
     "name": "stdout",
     "output_type": "stream",
     "text": [
      "numpy      : 1.22.4\n",
      "keras_tuner: 1.1.3\n",
      "pandas     : 1.4.3\n",
      "tensorflow : 2.9.1\n",
      "\n"
     ]
    }
   ],
   "source": [
    "%watermark --iversions"
   ]
  },
  {
   "cell_type": "code",
   "execution_count": 7,
   "id": "ecb27f4e-1edb-486e-8121-59e3a2eb3484",
   "metadata": {},
   "outputs": [],
   "source": [
    "def load_data(path):\n",
    "    data = pd.read_csv(path)\n",
    "    y = data[\"label\"]\n",
    "    x = data.drop(labels=[\"label\"], axis=1).values.reshape(-1, 28, 28, 1)\n",
    "    return x, y\n",
    "\n",
    "x_train, y_train = load_data(\"../input/train.csv.gz\")\n",
    "x_test, y_test = load_data(\"../input/test.csv.gz\")"
   ]
  },
  {
   "cell_type": "code",
   "execution_count": 8,
   "id": "e789393f-7ac7-4966-90f1-ba8ab4a8bc21",
   "metadata": {},
   "outputs": [
    {
     "data": {
      "text/plain": [
       "(60000, 28, 28, 1)"
      ]
     },
     "execution_count": 8,
     "metadata": {},
     "output_type": "execute_result"
    }
   ],
   "source": [
    "x_train.shape"
   ]
  },
  {
   "cell_type": "code",
   "execution_count": 9,
   "id": "34593157-eed1-4cc0-b22b-259b32398089",
   "metadata": {},
   "outputs": [
    {
     "data": {
      "text/plain": [
       "(10000, 28, 28, 1)"
      ]
     },
     "execution_count": 9,
     "metadata": {},
     "output_type": "execute_result"
    }
   ],
   "source": [
    "x_test.shape"
   ]
  },
  {
   "cell_type": "code",
   "execution_count": 10,
   "id": "b3e3318f-4e95-40e2-9ee8-4e13eb2b4758",
   "metadata": {},
   "outputs": [],
   "source": [
    "def augment_images(x, hp):\n",
    "    use_rotation = hp.Boolean('use_rotation')\n",
    "    if use_rotation:\n",
    "        x = layers.experimental.preprocessing.RandomRotation(\n",
    "            hp.Float('rotation_factor', min_value=0.05, max_value=0.2)\n",
    "        )(x)\n",
    "    use_zoom = hp.Boolean('use_zoom')\n",
    "    if use_zoom:\n",
    "        x = layers.experimental.preprocessing.RandomZoom(\n",
    "            hp.Float('use_zoom', min_value=0.05, max_value=0.2)\n",
    "        )(x)\n",
    "    return x\n",
    "\n",
    "def make_model(hp):\n",
    "    inputs = keras.Input(shape=(28, 28, 1))\n",
    "    x = layers.experimental.preprocessing.Rescaling(1. / 255)(inputs)\n",
    "    x = layers.experimental.preprocessing.Resizing(64, 64)(x)\n",
    "    x = augment_images(x, hp)\n",
    "    \n",
    "    num_block = hp.Int('num_block', min_value=2, max_value=5, step=1)\n",
    "    num_filters = hp.Int('num_filters', min_value=32, max_value=128, step=32)\n",
    "    for i in range(num_block):\n",
    "        x = layers.Conv2D(\n",
    "            num_filters,\n",
    "            kernel_size=3,\n",
    "            activation='relu',\n",
    "            padding='same'\n",
    "        )(x)\n",
    "        x = layers.Conv2D(\n",
    "            num_filters,\n",
    "            kernel_size=3,\n",
    "            activation='relu',\n",
    "            padding='same'\n",
    "        )(x)\n",
    "        x = layers.MaxPooling2D(2)(x)\n",
    "    \n",
    "    reduction_type = hp.Choice('reduction_type', ['flatten', 'avg'])\n",
    "    if reduction_type == 'flatten':\n",
    "        x = layers.Flatten()(x)\n",
    "    else:\n",
    "        x = layers.GlobalAveragePooling2D()(x)\n",
    "\n",
    "    x = layers.Dense(\n",
    "        units=hp.Int('num_dense_units', min_value=32, max_value=512, step=32),\n",
    "        activation='relu'\n",
    "    )(x)\n",
    "    x = layers.Dropout(\n",
    "        hp.Float('dense_dropout', min_value=0., max_value=0.7)\n",
    "    )(x)\n",
    "    outputs = layers.Dense(10)(x)\n",
    "    model = keras.Model(inputs, outputs)\n",
    "    \n",
    "    learning_rate = hp.Float('learning_rate', min_value=3e-4, max_value=3e-3)\n",
    "    optimizer = keras.optimizers.Adam(learning_rate=1e-3)\n",
    "    model.compile(loss=keras.losses.SparseCategoricalCrossentropy(from_logits=True),\n",
    "                  optimizer=optimizer,\n",
    "                  metrics=[keras.metrics.SparseCategoricalAccuracy(name='acc')])\n",
    "    model.summary()\n",
    "    return model"
   ]
  },
  {
   "cell_type": "code",
   "execution_count": 14,
   "id": "8955b409-3cec-4c64-ae7d-bb6c0587603c",
   "metadata": {},
   "outputs": [
    {
     "name": "stdout",
     "output_type": "stream",
     "text": [
      "Trial 100 Complete [00h 04m 24s]\n",
      "val_acc: 0.9794999957084656\n",
      "\n",
      "Best val_acc So Far: 0.9939166903495789\n",
      "Total elapsed time: 04h 46m 55s\n",
      "INFO:tensorflow:Oracle triggered exit\n",
      "CPU times: user 5h 19min 40s, sys: 10min 17s, total: 5h 29min 57s\n",
      "Wall time: 4h 46min 56s\n"
     ]
    }
   ],
   "source": [
    "%%time\n",
    "\n",
    "tuner = kt.tuners.RandomSearch(\n",
    "    make_model,\n",
    "    objective='val_acc',\n",
    "    max_trials=100,\n",
    "    overwrite=True)\n",
    "\n",
    "callbacks=[keras.callbacks.EarlyStopping(monitor='val_acc', mode='max', patience=3, baseline=0.9)]\n",
    "tuner.search(x_train, y_train, validation_split=0.2, callbacks=callbacks, verbose=1, epochs=100)"
   ]
  },
  {
   "cell_type": "code",
   "execution_count": 15,
   "id": "e6383746-c3a9-4637-abb3-d552aa73e7c7",
   "metadata": {},
   "outputs": [
    {
     "name": "stdout",
     "output_type": "stream",
     "text": [
      "Model: \"model_1\"\n",
      "_________________________________________________________________\n",
      " Layer (type)                Output Shape              Param #   \n",
      "=================================================================\n",
      " input_2 (InputLayer)        [(None, 28, 28, 1)]       0         \n",
      "                                                                 \n",
      " rescaling_1 (Rescaling)     (None, 28, 28, 1)         0         \n",
      "                                                                 \n",
      " resizing_1 (Resizing)       (None, 64, 64, 1)         0         \n",
      "                                                                 \n",
      " conv2d_8 (Conv2D)           (None, 64, 64, 96)        960       \n",
      "                                                                 \n",
      " conv2d_9 (Conv2D)           (None, 64, 64, 96)        83040     \n",
      "                                                                 \n",
      " max_pooling2d_4 (MaxPooling  (None, 32, 32, 96)       0         \n",
      " 2D)                                                             \n",
      "                                                                 \n",
      " conv2d_10 (Conv2D)          (None, 32, 32, 96)        83040     \n",
      "                                                                 \n",
      " conv2d_11 (Conv2D)          (None, 32, 32, 96)        83040     \n",
      "                                                                 \n",
      " max_pooling2d_5 (MaxPooling  (None, 16, 16, 96)       0         \n",
      " 2D)                                                             \n",
      "                                                                 \n",
      " conv2d_12 (Conv2D)          (None, 16, 16, 96)        83040     \n",
      "                                                                 \n",
      " conv2d_13 (Conv2D)          (None, 16, 16, 96)        83040     \n",
      "                                                                 \n",
      " max_pooling2d_6 (MaxPooling  (None, 8, 8, 96)         0         \n",
      " 2D)                                                             \n",
      "                                                                 \n",
      " conv2d_14 (Conv2D)          (None, 8, 8, 96)          83040     \n",
      "                                                                 \n",
      " conv2d_15 (Conv2D)          (None, 8, 8, 96)          83040     \n",
      "                                                                 \n",
      " max_pooling2d_7 (MaxPooling  (None, 4, 4, 96)         0         \n",
      " 2D)                                                             \n",
      "                                                                 \n",
      " global_average_pooling2d_1   (None, 96)               0         \n",
      " (GlobalAveragePooling2D)                                        \n",
      "                                                                 \n",
      " dense_2 (Dense)             (None, 320)               31040     \n",
      "                                                                 \n",
      " dropout_1 (Dropout)         (None, 320)               0         \n",
      "                                                                 \n",
      " dense_3 (Dense)             (None, 10)                3210      \n",
      "                                                                 \n",
      "=================================================================\n",
      "Total params: 616,490\n",
      "Trainable params: 616,490\n",
      "Non-trainable params: 0\n",
      "_________________________________________________________________\n",
      "Epoch 1/50\n",
      "1500/1500 [==============================] - 20s 13ms/step - loss: 0.4491 - acc: 0.8455 - val_loss: 0.0523 - val_acc: 0.9842\n",
      "Epoch 2/50\n",
      "1500/1500 [==============================] - 19s 13ms/step - loss: 0.0765 - acc: 0.9783 - val_loss: 0.0493 - val_acc: 0.9859\n",
      "Epoch 3/50\n",
      "1500/1500 [==============================] - 19s 13ms/step - loss: 0.0529 - acc: 0.9843 - val_loss: 0.0575 - val_acc: 0.9851\n",
      "Epoch 4/50\n",
      "1500/1500 [==============================] - 19s 13ms/step - loss: 0.0447 - acc: 0.9873 - val_loss: 0.0405 - val_acc: 0.9887\n",
      "Epoch 5/50\n",
      "1500/1500 [==============================] - 19s 13ms/step - loss: 0.0347 - acc: 0.9899 - val_loss: 0.0558 - val_acc: 0.9837\n",
      "Epoch 6/50\n",
      "1500/1500 [==============================] - 19s 13ms/step - loss: 0.0315 - acc: 0.9908 - val_loss: 0.0415 - val_acc: 0.9885\n",
      "Epoch 7/50\n",
      "1500/1500 [==============================] - 19s 13ms/step - loss: 0.0275 - acc: 0.9921 - val_loss: 0.0285 - val_acc: 0.9935\n",
      "Epoch 8/50\n",
      "1500/1500 [==============================] - 19s 13ms/step - loss: 0.0236 - acc: 0.9930 - val_loss: 0.0411 - val_acc: 0.9879\n",
      "Epoch 9/50\n",
      "1500/1500 [==============================] - 19s 13ms/step - loss: 0.0209 - acc: 0.9941 - val_loss: 0.0342 - val_acc: 0.9918\n",
      "Epoch 10/50\n",
      "1500/1500 [==============================] - 19s 13ms/step - loss: 0.0190 - acc: 0.9946 - val_loss: 0.0560 - val_acc: 0.9913\n",
      "Epoch 11/50\n",
      "1500/1500 [==============================] - 19s 13ms/step - loss: 0.0191 - acc: 0.9947 - val_loss: 0.0336 - val_acc: 0.9918\n",
      "Epoch 12/50\n",
      "1500/1500 [==============================] - 19s 13ms/step - loss: 0.0155 - acc: 0.9954 - val_loss: 0.0258 - val_acc: 0.9940\n",
      "Epoch 13/50\n",
      "1500/1500 [==============================] - 19s 13ms/step - loss: 0.0139 - acc: 0.9954 - val_loss: 0.0311 - val_acc: 0.9921\n",
      "Epoch 14/50\n",
      "1500/1500 [==============================] - 19s 13ms/step - loss: 0.0130 - acc: 0.9963 - val_loss: 0.0532 - val_acc: 0.9912\n",
      "Epoch 15/50\n",
      "1500/1500 [==============================] - 19s 13ms/step - loss: 0.0138 - acc: 0.9959 - val_loss: 0.0402 - val_acc: 0.9911\n",
      "Epoch 16/50\n",
      "1500/1500 [==============================] - 19s 13ms/step - loss: 0.0105 - acc: 0.9971 - val_loss: 0.0418 - val_acc: 0.9923\n",
      "Epoch 17/50\n",
      "1500/1500 [==============================] - 19s 13ms/step - loss: 0.0117 - acc: 0.9965 - val_loss: 0.0398 - val_acc: 0.9898\n",
      "Epoch 18/50\n",
      "1500/1500 [==============================] - 19s 13ms/step - loss: 0.0115 - acc: 0.9964 - val_loss: 0.0330 - val_acc: 0.9944\n",
      "Epoch 19/50\n",
      "1500/1500 [==============================] - 19s 13ms/step - loss: 0.0110 - acc: 0.9966 - val_loss: 0.0325 - val_acc: 0.9933\n",
      "Epoch 20/50\n",
      "1500/1500 [==============================] - 19s 13ms/step - loss: 0.0097 - acc: 0.9972 - val_loss: 0.0424 - val_acc: 0.9915\n",
      "Epoch 21/50\n",
      "1500/1500 [==============================] - 19s 13ms/step - loss: 0.0103 - acc: 0.9970 - val_loss: 0.0419 - val_acc: 0.9929\n",
      "Epoch 22/50\n",
      "1500/1500 [==============================] - 19s 13ms/step - loss: 0.0096 - acc: 0.9973 - val_loss: 0.0407 - val_acc: 0.9915\n",
      "Epoch 23/50\n",
      "1500/1500 [==============================] - 19s 13ms/step - loss: 0.0093 - acc: 0.9970 - val_loss: 0.0352 - val_acc: 0.9937\n",
      "Epoch 24/50\n",
      "1500/1500 [==============================] - 19s 13ms/step - loss: 0.0087 - acc: 0.9973 - val_loss: 0.0445 - val_acc: 0.9912\n",
      "Epoch 25/50\n",
      "1500/1500 [==============================] - 19s 13ms/step - loss: 0.0089 - acc: 0.9973 - val_loss: 0.0334 - val_acc: 0.9915\n",
      "Epoch 26/50\n",
      "1500/1500 [==============================] - 20s 13ms/step - loss: 0.0077 - acc: 0.9979 - val_loss: 0.0430 - val_acc: 0.9915\n",
      "Epoch 27/50\n",
      "1500/1500 [==============================] - 20s 13ms/step - loss: 0.0103 - acc: 0.9970 - val_loss: 0.0518 - val_acc: 0.9922\n",
      "Epoch 28/50\n",
      "1500/1500 [==============================] - 20s 13ms/step - loss: 0.0081 - acc: 0.9976 - val_loss: 0.0407 - val_acc: 0.9926\n",
      "Epoch 29/50\n",
      "1500/1500 [==============================] - 20s 13ms/step - loss: 0.0070 - acc: 0.9981 - val_loss: 0.0424 - val_acc: 0.9922\n",
      "Epoch 30/50\n",
      "1500/1500 [==============================] - 20s 13ms/step - loss: 0.0091 - acc: 0.9975 - val_loss: 0.0589 - val_acc: 0.9912\n",
      "Epoch 31/50\n",
      "1500/1500 [==============================] - 20s 13ms/step - loss: 0.0076 - acc: 0.9979 - val_loss: 0.0592 - val_acc: 0.9930\n",
      "Epoch 32/50\n",
      "1500/1500 [==============================] - 20s 13ms/step - loss: 0.0065 - acc: 0.9983 - val_loss: 0.0464 - val_acc: 0.9938\n",
      "Epoch 33/50\n",
      "1500/1500 [==============================] - 20s 13ms/step - loss: 0.0080 - acc: 0.9976 - val_loss: 0.0582 - val_acc: 0.9920\n",
      "Epoch 34/50\n",
      "1500/1500 [==============================] - 20s 13ms/step - loss: 0.0087 - acc: 0.9977 - val_loss: 0.0498 - val_acc: 0.9921\n",
      "Epoch 35/50\n",
      "1500/1500 [==============================] - 20s 13ms/step - loss: 0.0073 - acc: 0.9981 - val_loss: 0.0675 - val_acc: 0.9928\n",
      "Epoch 36/50\n",
      "1500/1500 [==============================] - 20s 13ms/step - loss: 0.0082 - acc: 0.9979 - val_loss: 0.0598 - val_acc: 0.9907\n",
      "Epoch 37/50\n",
      "1500/1500 [==============================] - 20s 13ms/step - loss: 0.0071 - acc: 0.9982 - val_loss: 0.0505 - val_acc: 0.9927\n",
      "Epoch 38/50\n",
      "1500/1500 [==============================] - 20s 13ms/step - loss: 0.0093 - acc: 0.9977 - val_loss: 0.0443 - val_acc: 0.9922\n",
      "Epoch 39/50\n",
      "1500/1500 [==============================] - 20s 13ms/step - loss: 0.0067 - acc: 0.9982 - val_loss: 0.0399 - val_acc: 0.9908\n",
      "Epoch 40/50\n",
      "1500/1500 [==============================] - 20s 13ms/step - loss: 0.0083 - acc: 0.9979 - val_loss: 0.0540 - val_acc: 0.9924\n",
      "Epoch 41/50\n",
      "1500/1500 [==============================] - 20s 13ms/step - loss: 0.0063 - acc: 0.9981 - val_loss: 0.0547 - val_acc: 0.9921\n",
      "Epoch 42/50\n",
      "1500/1500 [==============================] - 20s 13ms/step - loss: 0.0074 - acc: 0.9980 - val_loss: 0.0432 - val_acc: 0.9925\n",
      "Epoch 43/50\n",
      "1500/1500 [==============================] - 20s 13ms/step - loss: 0.0051 - acc: 0.9987 - val_loss: 0.0623 - val_acc: 0.9921\n",
      "Epoch 44/50\n",
      "1500/1500 [==============================] - 20s 13ms/step - loss: 0.0089 - acc: 0.9977 - val_loss: 0.0486 - val_acc: 0.9918\n",
      "Epoch 45/50\n",
      "1500/1500 [==============================] - 20s 13ms/step - loss: 0.0065 - acc: 0.9984 - val_loss: 0.0684 - val_acc: 0.9922\n",
      "Epoch 46/50\n",
      "1500/1500 [==============================] - 20s 13ms/step - loss: 0.0095 - acc: 0.9977 - val_loss: 0.0841 - val_acc: 0.9919\n",
      "Epoch 47/50\n",
      "1500/1500 [==============================] - 19s 13ms/step - loss: 0.0073 - acc: 0.9983 - val_loss: 0.0505 - val_acc: 0.9915\n",
      "Epoch 48/50\n",
      "1500/1500 [==============================] - 20s 13ms/step - loss: 0.0083 - acc: 0.9982 - val_loss: 0.0622 - val_acc: 0.9925\n",
      "Epoch 49/50\n",
      "1500/1500 [==============================] - 19s 13ms/step - loss: 0.0062 - acc: 0.9986 - val_loss: 0.0554 - val_acc: 0.9912\n",
      "Epoch 50/50\n",
      "1500/1500 [==============================] - 19s 13ms/step - loss: 0.0067 - acc: 0.9983 - val_loss: 0.0657 - val_acc: 0.9918\n"
     ]
    }
   ],
   "source": [
    "best_hp = tuner.get_best_hyperparameters()[0]\n",
    "model = make_model(best_hp)\n",
    "history = model.fit(x_train, y_train, validation_split=0.2, epochs=50)"
   ]
  },
  {
   "cell_type": "code",
   "execution_count": 16,
   "id": "75096345-d522-41f7-b903-bd8caa81a8a1",
   "metadata": {},
   "outputs": [
    {
     "name": "stdout",
     "output_type": "stream",
     "text": [
      "Model: \"model_2\"\n",
      "_________________________________________________________________\n",
      " Layer (type)                Output Shape              Param #   \n",
      "=================================================================\n",
      " input_3 (InputLayer)        [(None, 28, 28, 1)]       0         \n",
      "                                                                 \n",
      " rescaling_2 (Rescaling)     (None, 28, 28, 1)         0         \n",
      "                                                                 \n",
      " resizing_2 (Resizing)       (None, 64, 64, 1)         0         \n",
      "                                                                 \n",
      " conv2d_16 (Conv2D)          (None, 64, 64, 96)        960       \n",
      "                                                                 \n",
      " conv2d_17 (Conv2D)          (None, 64, 64, 96)        83040     \n",
      "                                                                 \n",
      " max_pooling2d_8 (MaxPooling  (None, 32, 32, 96)       0         \n",
      " 2D)                                                             \n",
      "                                                                 \n",
      " conv2d_18 (Conv2D)          (None, 32, 32, 96)        83040     \n",
      "                                                                 \n",
      " conv2d_19 (Conv2D)          (None, 32, 32, 96)        83040     \n",
      "                                                                 \n",
      " max_pooling2d_9 (MaxPooling  (None, 16, 16, 96)       0         \n",
      " 2D)                                                             \n",
      "                                                                 \n",
      " conv2d_20 (Conv2D)          (None, 16, 16, 96)        83040     \n",
      "                                                                 \n",
      " conv2d_21 (Conv2D)          (None, 16, 16, 96)        83040     \n",
      "                                                                 \n",
      " max_pooling2d_10 (MaxPoolin  (None, 8, 8, 96)         0         \n",
      " g2D)                                                            \n",
      "                                                                 \n",
      " conv2d_22 (Conv2D)          (None, 8, 8, 96)          83040     \n",
      "                                                                 \n",
      " conv2d_23 (Conv2D)          (None, 8, 8, 96)          83040     \n",
      "                                                                 \n",
      " max_pooling2d_11 (MaxPoolin  (None, 4, 4, 96)         0         \n",
      " g2D)                                                            \n",
      "                                                                 \n",
      " global_average_pooling2d_2   (None, 96)               0         \n",
      " (GlobalAveragePooling2D)                                        \n",
      "                                                                 \n",
      " dense_4 (Dense)             (None, 320)               31040     \n",
      "                                                                 \n",
      " dropout_2 (Dropout)         (None, 320)               0         \n",
      "                                                                 \n",
      " dense_5 (Dense)             (None, 10)                3210      \n",
      "                                                                 \n",
      "=================================================================\n",
      "Total params: 616,490\n",
      "Trainable params: 616,490\n",
      "Non-trainable params: 0\n",
      "_________________________________________________________________\n",
      "Epoch 1/18\n",
      "1875/1875 [==============================] - 23s 12ms/step - loss: 0.3760 - acc: 0.8699\n",
      "Epoch 2/18\n",
      "1875/1875 [==============================] - 22s 12ms/step - loss: 0.0640 - acc: 0.9828\n",
      "Epoch 3/18\n",
      "1875/1875 [==============================] - 22s 12ms/step - loss: 0.0484 - acc: 0.9865\n",
      "Epoch 4/18\n",
      "1875/1875 [==============================] - 22s 12ms/step - loss: 0.0406 - acc: 0.9887\n",
      "Epoch 5/18\n",
      "1875/1875 [==============================] - 22s 12ms/step - loss: 0.0325 - acc: 0.9909\n",
      "Epoch 6/18\n",
      "1875/1875 [==============================] - 22s 12ms/step - loss: 0.0279 - acc: 0.9923\n",
      "Epoch 7/18\n",
      "1875/1875 [==============================] - 23s 12ms/step - loss: 0.0255 - acc: 0.9930\n",
      "Epoch 8/18\n",
      "1875/1875 [==============================] - 22s 12ms/step - loss: 0.0210 - acc: 0.9944\n",
      "Epoch 9/18\n",
      "1875/1875 [==============================] - 22s 12ms/step - loss: 0.0189 - acc: 0.9945\n",
      "Epoch 10/18\n",
      "1875/1875 [==============================] - 23s 12ms/step - loss: 0.0162 - acc: 0.9955\n",
      "Epoch 11/18\n",
      "1875/1875 [==============================] - 22s 12ms/step - loss: 0.0154 - acc: 0.9958\n",
      "Epoch 12/18\n",
      "1875/1875 [==============================] - 23s 12ms/step - loss: 0.0148 - acc: 0.9954\n",
      "Epoch 13/18\n",
      "1875/1875 [==============================] - 22s 12ms/step - loss: 0.0136 - acc: 0.9962\n",
      "Epoch 14/18\n",
      "1875/1875 [==============================] - 23s 12ms/step - loss: 0.0123 - acc: 0.9966\n",
      "Epoch 15/18\n",
      "1875/1875 [==============================] - 23s 12ms/step - loss: 0.0114 - acc: 0.9967\n",
      "Epoch 16/18\n",
      "1875/1875 [==============================] - 23s 12ms/step - loss: 0.0107 - acc: 0.9966\n",
      "Epoch 17/18\n",
      "1875/1875 [==============================] - 23s 12ms/step - loss: 0.0092 - acc: 0.9975\n",
      "Epoch 18/18\n",
      "1875/1875 [==============================] - 23s 12ms/step - loss: 0.0119 - acc: 0.9965\n"
     ]
    },
    {
     "data": {
      "text/plain": [
       "<keras.callbacks.History at 0x7fd540760850>"
      ]
     },
     "execution_count": 16,
     "metadata": {},
     "output_type": "execute_result"
    }
   ],
   "source": [
    "val_acc_per_epoch = history.history['val_acc']\n",
    "best_epoch = val_acc_per_epoch.index(max(val_acc_per_epoch)) + 1\n",
    "model = make_model(best_hp)\n",
    "model.fit(x_train, y_train, epochs=best_epoch)"
   ]
  },
  {
   "cell_type": "code",
   "execution_count": 17,
   "id": "f4299df5-2d41-4a8a-857a-13b1de08c596",
   "metadata": {},
   "outputs": [
    {
     "name": "stdout",
     "output_type": "stream",
     "text": [
      "313/313 [==============================] - 2s 4ms/step\n"
     ]
    }
   ],
   "source": [
    "predictions = model.predict(x_test)"
   ]
  },
  {
   "cell_type": "code",
   "execution_count": 18,
   "id": "fcd6ff54-d56e-4953-9881-52cdb9ab91e8",
   "metadata": {},
   "outputs": [
    {
     "data": {
      "text/plain": [
       "array([[-36.49712  , -13.070313 , -18.638115 , ...,  13.772348 ,\n",
       "        -29.663088 , -16.352293 ],\n",
       "       [-30.06915  , -15.743183 ,  14.344524 , ..., -15.8320265,\n",
       "        -24.241371 , -32.863167 ],\n",
       "       [-17.364965 ,   6.338301 , -16.232584 , ..., -12.676114 ,\n",
       "        -10.868713 , -17.373186 ],\n",
       "       ...,\n",
       "       [-55.760258 , -31.629309 , -40.37693  , ..., -33.89235  ,\n",
       "        -32.132187 , -20.16865  ],\n",
       "       [-46.783005 , -48.48218  , -51.36597  , ..., -57.92683  ,\n",
       "        -37.55024  , -38.759586 ],\n",
       "       [-11.318561 , -22.974426 , -20.178417 , ..., -51.011818 ,\n",
       "        -22.764912 , -29.583496 ]], dtype=float32)"
      ]
     },
     "execution_count": 18,
     "metadata": {},
     "output_type": "execute_result"
    }
   ],
   "source": [
    "predictions"
   ]
  },
  {
   "cell_type": "code",
   "execution_count": 22,
   "id": "da6c7009-b3b5-47bc-9b28-f98819634a9e",
   "metadata": {},
   "outputs": [
    {
     "data": {
      "text/plain": [
       "array([7, 2, 1, ..., 4, 5, 6])"
      ]
     },
     "execution_count": 22,
     "metadata": {},
     "output_type": "execute_result"
    }
   ],
   "source": [
    "preds = np.argmax(predictions, axis=1)\n",
    "preds"
   ]
  },
  {
   "cell_type": "code",
   "execution_count": 25,
   "id": "79d5b83e-61a7-4c01-ab49-4ac689cf51ec",
   "metadata": {},
   "outputs": [
    {
     "data": {
      "text/plain": [
       "array([7, 2, 1, ..., 4, 5, 6])"
      ]
     },
     "execution_count": 25,
     "metadata": {},
     "output_type": "execute_result"
    }
   ],
   "source": [
    "y_test.values"
   ]
  },
  {
   "cell_type": "code",
   "execution_count": 26,
   "id": "80a0248a-17cb-4bf0-8d70-fca19507ce10",
   "metadata": {},
   "outputs": [
    {
     "data": {
      "text/plain": [
       "0.9908"
      ]
     },
     "execution_count": 26,
     "metadata": {},
     "output_type": "execute_result"
    }
   ],
   "source": [
    "accuracy_score(y_test, preds)"
   ]
  },
  {
   "cell_type": "code",
   "execution_count": null,
   "id": "e0303dab-a2d6-48f7-b7f6-62ce847e7b2a",
   "metadata": {},
   "outputs": [],
   "source": []
  }
 ],
 "metadata": {
  "kernelspec": {
   "display_name": "Python 3 (ipykernel)",
   "language": "python",
   "name": "python3"
  },
  "language_info": {
   "codemirror_mode": {
    "name": "ipython",
    "version": 3
   },
   "file_extension": ".py",
   "mimetype": "text/x-python",
   "name": "python",
   "nbconvert_exporter": "python",
   "pygments_lexer": "ipython3",
   "version": "3.8.10"
  }
 },
 "nbformat": 4,
 "nbformat_minor": 5
}
