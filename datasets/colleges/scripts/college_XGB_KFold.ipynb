{
 "cells": [
  {
   "cell_type": "code",
   "execution_count": 1,
   "id": "c35b0b87-33c7-4935-a38e-f94dd22f15f7",
   "metadata": {},
   "outputs": [
    {
     "data": {
      "text/plain": [
       "'1.6.1'"
      ]
     },
     "execution_count": 1,
     "metadata": {},
     "output_type": "execute_result"
    }
   ],
   "source": [
    "import pandas as pd\n",
    "import numpy as np\n",
    "import xgboost as xgb\n",
    "from sklearn.metrics import mean_squared_error\n",
    "from xgboost import XGBRegressor\n",
    "\n",
    "from sklearn.model_selection import KFold\n",
    "xgb.__version__"
   ]
  },
  {
   "cell_type": "code",
   "execution_count": 2,
   "id": "9b701ede-773e-4a04-bd81-31df004e35fc",
   "metadata": {},
   "outputs": [
    {
     "data": {
      "text/html": [
       "<div>\n",
       "<style scoped>\n",
       "    .dataframe tbody tr th:only-of-type {\n",
       "        vertical-align: middle;\n",
       "    }\n",
       "\n",
       "    .dataframe tbody tr th {\n",
       "        vertical-align: top;\n",
       "    }\n",
       "\n",
       "    .dataframe thead th {\n",
       "        text-align: right;\n",
       "    }\n",
       "</style>\n",
       "<table border=\"1\" class=\"dataframe\">\n",
       "  <thead>\n",
       "    <tr style=\"text-align: right;\">\n",
       "      <th></th>\n",
       "      <th>UNITID</th>\n",
       "      <th>school_name</th>\n",
       "      <th>city</th>\n",
       "      <th>state</th>\n",
       "      <th>zip</th>\n",
       "      <th>school_webpage</th>\n",
       "      <th>latitude</th>\n",
       "      <th>longitude</th>\n",
       "      <th>admission_rate</th>\n",
       "      <th>sat_verbal_midrange</th>\n",
       "      <th>...</th>\n",
       "      <th>carnegie_undergraduate</th>\n",
       "      <th>carnegie_size</th>\n",
       "      <th>religious_affiliation</th>\n",
       "      <th>percent_female</th>\n",
       "      <th>agege24</th>\n",
       "      <th>faminc</th>\n",
       "      <th>mean_earnings_6_years</th>\n",
       "      <th>median_earnings_6_years</th>\n",
       "      <th>mean_earnings_10_years</th>\n",
       "      <th>median_earnings_10_years</th>\n",
       "    </tr>\n",
       "  </thead>\n",
       "  <tbody>\n",
       "    <tr>\n",
       "      <th>0</th>\n",
       "      <td>100654</td>\n",
       "      <td>'Alabama A &amp; M University'</td>\n",
       "      <td>Normal</td>\n",
       "      <td>AL</td>\n",
       "      <td>35762</td>\n",
       "      <td>www.aamu.edu/</td>\n",
       "      <td>34.7834</td>\n",
       "      <td>-86.5685</td>\n",
       "      <td>0.8989</td>\n",
       "      <td>410.0</td>\n",
       "      <td>...</td>\n",
       "      <td>'Full-time four-year inclusive'</td>\n",
       "      <td>'Medium 4-year highly residential (3000 to 9999)'</td>\n",
       "      <td>?</td>\n",
       "      <td>0.52999997138977</td>\n",
       "      <td>0.07999999821186</td>\n",
       "      <td>40211.22</td>\n",
       "      <td>26100.0</td>\n",
       "      <td>22800.0</td>\n",
       "      <td>35300.0</td>\n",
       "      <td>31400.0</td>\n",
       "    </tr>\n",
       "    <tr>\n",
       "      <th>1</th>\n",
       "      <td>100663</td>\n",
       "      <td>'University of Alabama at Birmingham'</td>\n",
       "      <td>Birmingham</td>\n",
       "      <td>AL</td>\n",
       "      <td>35294-0110</td>\n",
       "      <td>www.uab.edu</td>\n",
       "      <td>33.5022</td>\n",
       "      <td>-86.8092</td>\n",
       "      <td>0.8673</td>\n",
       "      <td>580.0</td>\n",
       "      <td>...</td>\n",
       "      <td>'Medium full-time four-year selective higher t...</td>\n",
       "      <td>'Large 4-year primarily nonresidential (over 9...</td>\n",
       "      <td>?</td>\n",
       "      <td>0.64999997615814</td>\n",
       "      <td>0.25999999046325</td>\n",
       "      <td>49894.65</td>\n",
       "      <td>37400.0</td>\n",
       "      <td>33200.0</td>\n",
       "      <td>46300.0</td>\n",
       "      <td>40300.0</td>\n",
       "    </tr>\n",
       "    <tr>\n",
       "      <th>2</th>\n",
       "      <td>100690</td>\n",
       "      <td>'Amridge University'</td>\n",
       "      <td>Montgomery</td>\n",
       "      <td>AL</td>\n",
       "      <td>36117-3553</td>\n",
       "      <td>www.amridgeuniversity.edu</td>\n",
       "      <td>32.3626</td>\n",
       "      <td>-86.17399999999999</td>\n",
       "      <td>?</td>\n",
       "      <td>?</td>\n",
       "      <td>...</td>\n",
       "      <td>'Medium full-time four-year inclusivestudents ...</td>\n",
       "      <td>'Very small 4-year primarily nonresidential (l...</td>\n",
       "      <td>'Churches of Christ'</td>\n",
       "      <td>0.50999999046325</td>\n",
       "      <td>0.82999998331069</td>\n",
       "      <td>38712.18</td>\n",
       "      <td>38500.0</td>\n",
       "      <td>32800.0</td>\n",
       "      <td>42100.0</td>\n",
       "      <td>38100.0</td>\n",
       "    </tr>\n",
       "    <tr>\n",
       "      <th>3</th>\n",
       "      <td>100706</td>\n",
       "      <td>'University of Alabama in Huntsville'</td>\n",
       "      <td>Huntsville</td>\n",
       "      <td>AL</td>\n",
       "      <td>35899</td>\n",
       "      <td>www.uah.edu</td>\n",
       "      <td>34.7228</td>\n",
       "      <td>-86.6384</td>\n",
       "      <td>0.8062</td>\n",
       "      <td>575.0</td>\n",
       "      <td>...</td>\n",
       "      <td>'Medium full-time four-year selective higher t...</td>\n",
       "      <td>'Medium 4-year primarily nonresidential (3000 ...</td>\n",
       "      <td>?</td>\n",
       "      <td>0.55000001192092</td>\n",
       "      <td>0.28999999165534</td>\n",
       "      <td>54155.4</td>\n",
       "      <td>39300.0</td>\n",
       "      <td>36700.0</td>\n",
       "      <td>52700.0</td>\n",
       "      <td>46600.0</td>\n",
       "    </tr>\n",
       "    <tr>\n",
       "      <th>4</th>\n",
       "      <td>100724</td>\n",
       "      <td>'Alabama State University'</td>\n",
       "      <td>Montgomery</td>\n",
       "      <td>AL</td>\n",
       "      <td>36104-0271</td>\n",
       "      <td>www.alasu.edu/email/index.aspx</td>\n",
       "      <td>32.3643</td>\n",
       "      <td>-86.2957</td>\n",
       "      <td>0.5125</td>\n",
       "      <td>430.0</td>\n",
       "      <td>...</td>\n",
       "      <td>'Full-time four-year inclusive'</td>\n",
       "      <td>'Medium 4-year primarily residential (3000 to ...</td>\n",
       "      <td>?</td>\n",
       "      <td>0.56999999284744</td>\n",
       "      <td>0.10999999940395</td>\n",
       "      <td>31846.99</td>\n",
       "      <td>21200.0</td>\n",
       "      <td>19300.0</td>\n",
       "      <td>30700.0</td>\n",
       "      <td>27800.0</td>\n",
       "    </tr>\n",
       "  </tbody>\n",
       "</table>\n",
       "<p>5 rows × 48 columns</p>\n",
       "</div>"
      ],
      "text/plain": [
       "   UNITID                            school_name        city state  \\\n",
       "0  100654             'Alabama A & M University'      Normal    AL   \n",
       "1  100663  'University of Alabama at Birmingham'  Birmingham    AL   \n",
       "2  100690                   'Amridge University'  Montgomery    AL   \n",
       "3  100706  'University of Alabama in Huntsville'  Huntsville    AL   \n",
       "4  100724             'Alabama State University'  Montgomery    AL   \n",
       "\n",
       "          zip                  school_webpage latitude           longitude  \\\n",
       "0       35762                   www.aamu.edu/  34.7834            -86.5685   \n",
       "1  35294-0110                     www.uab.edu  33.5022            -86.8092   \n",
       "2  36117-3553       www.amridgeuniversity.edu  32.3626  -86.17399999999999   \n",
       "3       35899                     www.uah.edu  34.7228            -86.6384   \n",
       "4  36104-0271  www.alasu.edu/email/index.aspx  32.3643            -86.2957   \n",
       "\n",
       "  admission_rate sat_verbal_midrange  ...  \\\n",
       "0         0.8989               410.0  ...   \n",
       "1         0.8673               580.0  ...   \n",
       "2              ?                   ?  ...   \n",
       "3         0.8062               575.0  ...   \n",
       "4         0.5125               430.0  ...   \n",
       "\n",
       "                              carnegie_undergraduate  \\\n",
       "0                    'Full-time four-year inclusive'   \n",
       "1  'Medium full-time four-year selective higher t...   \n",
       "2  'Medium full-time four-year inclusivestudents ...   \n",
       "3  'Medium full-time four-year selective higher t...   \n",
       "4                    'Full-time four-year inclusive'   \n",
       "\n",
       "                                       carnegie_size religious_affiliation  \\\n",
       "0  'Medium 4-year highly residential (3000 to 9999)'                     ?   \n",
       "1  'Large 4-year primarily nonresidential (over 9...                     ?   \n",
       "2  'Very small 4-year primarily nonresidential (l...  'Churches of Christ'   \n",
       "3  'Medium 4-year primarily nonresidential (3000 ...                     ?   \n",
       "4  'Medium 4-year primarily residential (3000 to ...                     ?   \n",
       "\n",
       "     percent_female           agege24    faminc mean_earnings_6_years  \\\n",
       "0  0.52999997138977  0.07999999821186  40211.22               26100.0   \n",
       "1  0.64999997615814  0.25999999046325  49894.65               37400.0   \n",
       "2  0.50999999046325  0.82999998331069  38712.18               38500.0   \n",
       "3  0.55000001192092  0.28999999165534   54155.4               39300.0   \n",
       "4  0.56999999284744  0.10999999940395  31846.99               21200.0   \n",
       "\n",
       "  median_earnings_6_years mean_earnings_10_years median_earnings_10_years  \n",
       "0                 22800.0                35300.0                  31400.0  \n",
       "1                 33200.0                46300.0                  40300.0  \n",
       "2                 32800.0                42100.0                  38100.0  \n",
       "3                 36700.0                52700.0                  46600.0  \n",
       "4                 19300.0                30700.0                  27800.0  \n",
       "\n",
       "[5 rows x 48 columns]"
      ]
     },
     "execution_count": 2,
     "metadata": {},
     "output_type": "execute_result"
    }
   ],
   "source": [
    "colleges = pd.read_csv('../../input/colleges/colleges.csv')\n",
    "colleges.head()"
   ]
  },
  {
   "cell_type": "code",
   "execution_count": 3,
   "id": "c778179e-22b0-4bb4-864d-f0a0fce7cf86",
   "metadata": {},
   "outputs": [
    {
     "data": {
      "text/plain": [
       "(7063, 48)"
      ]
     },
     "execution_count": 3,
     "metadata": {},
     "output_type": "execute_result"
    }
   ],
   "source": [
    "colleges.shape"
   ]
  },
  {
   "cell_type": "code",
   "execution_count": 4,
   "id": "4f8da5f2-9852-4d0e-850c-c6c7052603ad",
   "metadata": {},
   "outputs": [
    {
     "data": {
      "text/plain": [
       "Index(['UNITID', 'school_name', 'city', 'state', 'zip', 'school_webpage',\n",
       "       'latitude', 'longitude', 'admission_rate', 'sat_verbal_midrange',\n",
       "       'sat_math_midrange', 'sat_writing_midrange', 'act_combined_midrange',\n",
       "       'act_english_midrange', 'act_math_midrange', 'act_writing_midrange',\n",
       "       'sat_total_average', 'undergrad_size', 'percent_white', 'percent_black',\n",
       "       'percent_hispanic', 'percent_asian', 'percent_part_time',\n",
       "       'average_cost_academic_year', 'average_cost_program_year',\n",
       "       'tuition_(instate)', 'tuition_(out_of_state)', 'spend_per_student',\n",
       "       'faculty_salary', 'percent_part_time_faculty', 'percent_pell_grant',\n",
       "       'completion_rate', 'predominant_degree', 'highest_degree', 'ownership',\n",
       "       'region', 'gender', 'carnegie_basic_classification',\n",
       "       'carnegie_undergraduate', 'carnegie_size', 'religious_affiliation',\n",
       "       'percent_female', 'agege24', 'faminc', 'mean_earnings_6_years',\n",
       "       'median_earnings_6_years', 'mean_earnings_10_years',\n",
       "       'median_earnings_10_years'],\n",
       "      dtype='object')"
      ]
     },
     "execution_count": 4,
     "metadata": {},
     "output_type": "execute_result"
    }
   ],
   "source": [
    "colleges.columns"
   ]
  },
  {
   "cell_type": "code",
   "execution_count": 5,
   "id": "986902c3-1af7-4c3c-aa52-a8d2e6588fab",
   "metadata": {},
   "outputs": [],
   "source": [
    "colleges['admission_rate'] = pd.to_numeric(colleges['admission_rate'], errors='coerce')\n",
    "colleges['undergrad_size'] = pd.to_numeric(colleges['undergrad_size'], errors='coerce')\n",
    "colleges['sat_math_midrange'] = pd.to_numeric(colleges['sat_math_midrange'], errors='coerce')\n",
    "colleges['sat_verbal_midrange'] = pd.to_numeric(colleges['sat_verbal_midrange'], errors='coerce')\n",
    "colleges['act_writing_midrange'] = pd.to_numeric(colleges['act_writing_midrange'], errors='coerce')\n",
    "colleges['act_math_midrange'] = pd.to_numeric(colleges['act_math_midrange'], errors='coerce')\n",
    "colleges['act_english_midrange'] = pd.to_numeric(colleges['act_english_midrange'], errors='coerce')\n",
    "colleges['act_combined_midrange'] = pd.to_numeric(colleges['act_combined_midrange'], errors='coerce')\n",
    "colleges['completion_rate'] = pd.to_numeric(colleges['completion_rate'], errors='coerce') \n",
    "colleges['tuition_(instate)'] = pd.to_numeric(colleges['tuition_(instate)'], errors='coerce')\n",
    "colleges['tuition_(out_of_state)'] = pd.to_numeric(colleges['tuition_(out_of_state)'], errors='coerce')\n",
    "colleges['percent_white'] = pd.to_numeric(colleges['percent_white'], errors='coerce')\n",
    "colleges['percent_black'] = pd.to_numeric(colleges['percent_black'], errors='coerce')\n",
    "colleges['percent_hispanic'] = pd.to_numeric(colleges['percent_hispanic'], errors='coerce')\n",
    "colleges['percent_asian'] = pd.to_numeric(colleges['percent_asian'], errors='coerce')\n",
    "colleges['sat_total_average'] = pd.to_numeric(colleges['sat_total_average'], errors='coerce')\n",
    "colleges['completion_rate'] = pd.to_numeric(colleges['completion_rate'], errors='coerce')\n",
    "colleges['percent_female'] = pd.to_numeric(colleges['percent_female'], errors='coerce')\n",
    "colleges['agege24'] = pd.to_numeric(colleges['agege24'], errors='coerce')\n",
    "colleges['faculty_salary'] = pd.to_numeric(colleges['faculty_salary'], errors='coerce')\n",
    "colleges['percent_part_time'] = pd.to_numeric(colleges['percent_part_time'], errors='coerce')\n",
    "colleges['faminc'] = pd.to_numeric(colleges['faminc'], errors='coerce')\n",
    "colleges['average_cost_academic_year'] = pd.to_numeric(colleges['average_cost_academic_year'], errors='coerce')\n",
    "colleges['average_cost_program_year'] = pd.to_numeric(colleges['average_cost_program_year'], errors='coerce')\n",
    "colleges['spend_per_student'] = pd.to_numeric(colleges['spend_per_student'], errors='coerce')\n",
    "colleges['mean_earnings_6_years'] = pd.to_numeric(colleges['mean_earnings_6_years'], errors='coerce')\n",
    "colleges['median_earnings_6_years'] = pd.to_numeric(colleges['median_earnings_6_years'], errors='coerce')\n",
    "colleges['mean_earnings_10_years'] = pd.to_numeric(colleges['mean_earnings_10_years'], errors='coerce')\n",
    "colleges['median_earnings_10_years'] = pd.to_numeric(colleges['median_earnings_10_years'], errors='coerce')\n",
    "colleges['latitude'] = pd.to_numeric(colleges['latitude'], errors='coerce')\n",
    "colleges['longitude'] = pd.to_numeric(colleges['longitude'], errors='coerce')"
   ]
  },
  {
   "cell_type": "code",
   "execution_count": 6,
   "id": "624e815b-a325-40c6-8a91-b637ac54dc38",
   "metadata": {},
   "outputs": [],
   "source": [
    "columns = ['undergrad_size', 'spend_per_student', 'admission_rate', 'mean_earnings_6_years', 'median_earnings_6_years', 'sat_math_midrange', 'sat_verbal_midrange', \n",
    "           'act_math_midrange', 'act_writing_midrange', 'latitude', 'longitude', 'completion_rate', 'tuition_(out_of_state)', 'tuition_(instate)', 'percent_white', \n",
    "           'percent_black', 'percent_hispanic', 'percent_asian', 'median_earnings_10_years', 'sat_total_average', 'completion_rate', 'faculty_salary', 'percent_female',\n",
    "          'percent_part_time', 'agege24', 'faminc', 'average_cost_program_year', 'average_cost_academic_year']"
   ]
  },
  {
   "cell_type": "code",
   "execution_count": 7,
   "id": "79ffc208-417c-435f-94df-32c415c37a2f",
   "metadata": {},
   "outputs": [],
   "source": [
    "target = colleges['percent_pell_grant'].values"
   ]
  },
  {
   "cell_type": "code",
   "execution_count": 147,
   "id": "6bab580f-9152-4b5e-a8c2-6ecbf44f1bcf",
   "metadata": {},
   "outputs": [
    {
     "name": "stdout",
     "output_type": "stream",
     "text": [
      "Fold mean squared error: 0.020419346365676348\n",
      "Fold mean squared error: 0.019853995266933905\n",
      "Fold mean squared error: 0.02029785433509362\n",
      "Fold mean squared error: 0.018564315836440956\n",
      "Fold mean squared error: 0.020014994917144036\n"
     ]
    }
   ],
   "source": [
    "errors = []\n",
    "kf = KFold(n_splits=5, random_state=137, shuffle=True)\n",
    "for train_index, test_index in kf.split(colleges):\n",
    "    X_train, X_test = colleges.loc[train_index], colleges.loc[test_index]\n",
    "    y_train, y_test = target[train_index], target[test_index]\n",
    "    \n",
    "    clf = XGBRegressor(n_estimators=3500, learning_rate=0.01, max_depth=6, subsample=0.9, colsample_bytree=0.95, colsample_bynode=0.8,\n",
    "                       tree_method='gpu_hist', min_child_weight=2, reg_alpha=0.01)\n",
    "    clf.fit(X_train[columns].values, y_train)\n",
    "    preds = clf.predict(X_test[columns].values)\n",
    "    error = mean_squared_error(y_test, preds, squared=True)\n",
    "    print(\"Fold mean squared error:\", error)\n",
    "    errors.append(error)"
   ]
  },
  {
   "cell_type": "code",
   "execution_count": 148,
   "id": "488e03c4-75e9-48c0-a99c-06b22a481180",
   "metadata": {},
   "outputs": [
    {
     "data": {
      "text/plain": [
       "19.83010134425777"
      ]
     },
     "execution_count": 148,
     "metadata": {},
     "output_type": "execute_result"
    }
   ],
   "source": [
    "1000*np.mean(errors)"
   ]
  },
  {
   "cell_type": "code",
   "execution_count": 149,
   "id": "e7e4bd36-5892-4ac2-b07a-0a03afc7ef32",
   "metadata": {},
   "outputs": [
    {
     "data": {
      "text/plain": [
       "0.663772861803951"
      ]
     },
     "execution_count": 149,
     "metadata": {},
     "output_type": "execute_result"
    }
   ],
   "source": [
    "1000*np.std(errors)"
   ]
  },
  {
   "cell_type": "code",
   "execution_count": null,
   "id": "03d5e57c-7a84-4829-82cb-5e5e49262601",
   "metadata": {},
   "outputs": [],
   "source": []
  }
 ],
 "metadata": {
  "kernelspec": {
   "display_name": "Python 3 (ipykernel)",
   "language": "python",
   "name": "python3"
  },
  "language_info": {
   "codemirror_mode": {
    "name": "ipython",
    "version": 3
   },
   "file_extension": ".py",
   "mimetype": "text/x-python",
   "name": "python",
   "nbconvert_exporter": "python",
   "pygments_lexer": "ipython3",
   "version": "3.8.10"
  }
 },
 "nbformat": 4,
 "nbformat_minor": 5
}
