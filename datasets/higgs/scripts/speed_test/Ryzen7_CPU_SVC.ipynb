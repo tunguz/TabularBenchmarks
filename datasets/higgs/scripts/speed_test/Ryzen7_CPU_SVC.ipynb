{
 "cells": [
  {
   "cell_type": "code",
   "execution_count": 1,
   "id": "c9b7746c",
   "metadata": {
    "tags": []
   },
   "outputs": [],
   "source": [
    "%load_ext watermark"
   ]
  },
  {
   "cell_type": "code",
   "execution_count": 2,
   "id": "c4c2e09d",
   "metadata": {
    "tags": []
   },
   "outputs": [
    {
     "name": "stdout",
     "output_type": "stream",
     "text": [
      "Last updated: 2024-11-18T09:28:11.381530-05:00\n",
      "\n",
      "Python implementation: CPython\n",
      "Python version       : 3.12.3\n",
      "IPython version      : 8.29.0\n",
      "\n",
      "Compiler    : GCC 13.2.0\n",
      "OS          : Linux\n",
      "Release     : 6.8.0-48-generic\n",
      "Machine     : x86_64\n",
      "Processor   : x86_64\n",
      "CPU cores   : 16\n",
      "Architecture: 64bit\n",
      "\n"
     ]
    }
   ],
   "source": [
    "%watermark"
   ]
  },
  {
   "cell_type": "code",
   "execution_count": 3,
   "id": "6603ba87",
   "metadata": {
    "tags": []
   },
   "outputs": [],
   "source": [
    "import numpy as np # linear algebra\n",
    "import pandas as pd # data processing, CSV file I/O (e.g. pd.read_csv)\n",
    "from sklearn.svm import SVC\n",
    "from sklearn.model_selection import KFold\n",
    "from sklearn.metrics import accuracy_score\n",
    "from time import time, sleep\n",
    "import sklearn\n",
    "import gc\n",
    "import os"
   ]
  },
  {
   "cell_type": "code",
   "execution_count": 4,
   "id": "b3f60efa",
   "metadata": {
    "tags": []
   },
   "outputs": [
    {
     "name": "stdout",
     "output_type": "stream",
     "text": [
      "pandas : 2.2.3\n",
      "numpy  : 2.0.0\n",
      "sklearn: 1.5.2\n",
      "\n"
     ]
    }
   ],
   "source": [
    "%watermark --iversions"
   ]
  },
  {
   "cell_type": "code",
   "execution_count": 5,
   "id": "37aa62cd",
   "metadata": {
    "tags": []
   },
   "outputs": [
    {
     "data": {
      "text/plain": [
       "1731940095.011863"
      ]
     },
     "execution_count": 5,
     "metadata": {},
     "output_type": "execute_result"
    }
   ],
   "source": [
    "time()"
   ]
  },
  {
   "cell_type": "code",
   "execution_count": 6,
   "id": "460ab404",
   "metadata": {
    "tags": []
   },
   "outputs": [],
   "source": [
    "X_num_train = np.load('../../input/higgs_small_roc/X_num_train.npy')\n",
    "X_num_val = np.load('../../input/higgs_small_roc/X_num_val.npy')\n",
    "X_num_test = np.load('../../input/higgs_small_roc/X_num_test.npy')\n",
    "\n",
    "y_train = np.load('../../input/higgs_small_roc/y_train.npy')\n",
    "y_val = np.load('../../input/higgs_small_roc/y_val.npy')\n",
    "y_test = np.load('../../input/higgs_small_roc/y_test.npy')"
   ]
  },
  {
   "cell_type": "code",
   "execution_count": null,
   "id": "cae3050c",
   "metadata": {
    "tags": []
   },
   "outputs": [
    {
     "name": "stdout",
     "output_type": "stream",
     "text": [
      "456.6069839000702\n",
      "447.6306862831116\n",
      "444.16746830940247\n",
      "446.3687026500702\n",
      "445.23067331314087\n",
      "444.3603093624115\n"
     ]
    }
   ],
   "source": [
    "%%time\n",
    "times = []\n",
    "for i in range(10):\n",
    "    time_now = time()\n",
    "    model = SVC()\n",
    "    model.fit(X_num_train, y_train)\n",
    "    time_now = time() - time_now\n",
    "    print(time_now)\n",
    "    times.append(time_now)"
   ]
  },
  {
   "cell_type": "code",
   "execution_count": null,
   "id": "548268d5",
   "metadata": {},
   "outputs": [],
   "source": [
    "np.mean(times)"
   ]
  },
  {
   "cell_type": "code",
   "execution_count": null,
   "id": "aec74019-8dde-4486-9904-6bd7df458ef2",
   "metadata": {},
   "outputs": [],
   "source": [
    "np.median(times)"
   ]
  },
  {
   "cell_type": "code",
   "execution_count": null,
   "id": "0e52900f-08f7-4731-8c61-8b32d99e1eed",
   "metadata": {},
   "outputs": [],
   "source": []
  }
 ],
 "metadata": {
  "kernelspec": {
   "display_name": "Python 3 (ipykernel)",
   "language": "python",
   "name": "python3"
  },
  "language_info": {
   "codemirror_mode": {
    "name": "ipython",
    "version": 3
   },
   "file_extension": ".py",
   "mimetype": "text/x-python",
   "name": "python",
   "nbconvert_exporter": "python",
   "pygments_lexer": "ipython3",
   "version": "3.12.3"
  }
 },
 "nbformat": 4,
 "nbformat_minor": 5
}
