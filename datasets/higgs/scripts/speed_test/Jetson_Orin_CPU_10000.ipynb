{
 "cells": [
  {
   "cell_type": "code",
   "execution_count": 1,
   "id": "3facf96d-6117-4ab1-a084-c04d9f18c710",
   "metadata": {},
   "outputs": [],
   "source": [
    "%load_ext watermark"
   ]
  },
  {
   "cell_type": "code",
   "execution_count": 2,
   "id": "b972a901-a22d-443a-85bd-8a0e3555272d",
   "metadata": {},
   "outputs": [
    {
     "name": "stdout",
     "output_type": "stream",
     "text": [
      "Last updated: 2023-02-03T13:57:09.866408-05:00\n",
      "\n",
      "Python implementation: CPython\n",
      "Python version       : 3.9.13\n",
      "IPython version      : 7.31.1\n",
      "\n",
      "Compiler    : GCC 11.2.0\n",
      "OS          : Linux\n",
      "Release     : 5.10.65-tegra\n",
      "Machine     : aarch64\n",
      "Processor   : aarch64\n",
      "CPU cores   : 12\n",
      "Architecture: 64bit\n",
      "\n"
     ]
    }
   ],
   "source": [
    "%watermark"
   ]
  },
  {
   "cell_type": "code",
   "execution_count": 3,
   "id": "af434515-cc64-4cdb-8391-6a9cffe56146",
   "metadata": {},
   "outputs": [],
   "source": [
    "import numpy as np # linear algebra\n",
    "import pandas as pd # data processing, CSV file I/O (e.g. pd.read_csv)\n",
    "import xgboost as xgb\n",
    "from sklearn.model_selection import KFold\n",
    "from sklearn.metrics import accuracy_score, roc_auc_score\n",
    "import sklearn\n",
    "from time import time\n",
    "import gc\n",
    "import os"
   ]
  },
  {
   "cell_type": "code",
   "execution_count": 4,
   "id": "a929dccd-24b6-4f31-be5c-13faeda150c0",
   "metadata": {},
   "outputs": [
    {
     "data": {
      "text/plain": [
       "1675450631.7381613"
      ]
     },
     "execution_count": 4,
     "metadata": {},
     "output_type": "execute_result"
    }
   ],
   "source": [
    "time()"
   ]
  },
  {
   "cell_type": "code",
   "execution_count": 5,
   "id": "89fcce9f-a3e0-49db-bc8a-2b3ac89a8fc9",
   "metadata": {},
   "outputs": [],
   "source": [
    "X_num_train = np.load('../../input/higgs_small_roc/X_num_train.npy')\n",
    "X_num_val = np.load('../../input/higgs_small_roc/X_num_val.npy')\n",
    "X_num_test = np.load('../../input/higgs_small_roc/X_num_test.npy')\n",
    "\n",
    "y_train = np.load('../../input/higgs_small_roc/y_train.npy')\n",
    "y_val = np.load('../../input/higgs_small_roc/y_val.npy')\n",
    "y_test = np.load('../../input/higgs_small_roc/y_test.npy')"
   ]
  },
  {
   "cell_type": "code",
   "execution_count": 6,
   "id": "c9409dd8-906a-4015-b3dc-c753488dd1a8",
   "metadata": {},
   "outputs": [],
   "source": [
    "dtrain = xgb.DMatrix(X_num_train, y_train)"
   ]
  },
  {
   "cell_type": "code",
   "execution_count": 7,
   "id": "6b724d78-2abe-4353-a791-fe72281930c1",
   "metadata": {},
   "outputs": [],
   "source": [
    "dtest = xgb.DMatrix(X_num_test, y_test)"
   ]
  },
  {
   "cell_type": "code",
   "execution_count": 8,
   "id": "9a69761c-a305-44a5-a8c4-0c757dacbcb4",
   "metadata": {},
   "outputs": [],
   "source": [
    "params = {'objective': 'binary:logistic',\n",
    " 'tree_method': 'hist',\n",
    " 'lambda': 0.00225413045593838,\n",
    " 'alpha': 0.0024814391199754634,\n",
    " 'colsample_bytree': 0.9992202812531069,\n",
    " 'subsample': 0.7959167299709581,\n",
    " 'learning_rate': 0.013864120039764286,\n",
    " 'max_depth': 17,\n",
    " 'min_child_weight': 30,\n",
    " 'eval_metric': 'logloss'}"
   ]
  },
  {
   "cell_type": "code",
   "execution_count": 9,
   "id": "f84939c2-08d4-4625-b7d5-30f5b7b55bf1",
   "metadata": {},
   "outputs": [
    {
     "name": "stdout",
     "output_type": "stream",
     "text": [
      "0\n",
      "1\n",
      "2\n",
      "3\n",
      "4\n",
      "5\n",
      "6\n",
      "7\n",
      "8\n",
      "9\n",
      "10\n",
      "11\n",
      "12\n",
      "13\n",
      "14\n",
      "CPU times: user 4h 10min 7s, sys: 2min 2s, total: 4h 12min 9s\n",
      "Wall time: 24min 8s\n"
     ]
    }
   ],
   "source": [
    "%%time \n",
    "num_round = 10_000\n",
    "scores = []\n",
    "\n",
    "for jj in range(15):\n",
    "    print(jj)\n",
    "    params['seed'] = 5*jj**3 + 137\n",
    "\n",
    "    output = xgb.train(params, dtrain, num_round)"
   ]
  },
  {
   "cell_type": "code",
   "execution_count": null,
   "id": "b27686a7-fbbe-4d06-8f31-b4be40c4feba",
   "metadata": {},
   "outputs": [],
   "source": []
  }
 ],
 "metadata": {
  "kernelspec": {
   "display_name": "Python 3 (ipykernel)",
   "language": "python",
   "name": "python3"
  },
  "language_info": {
   "codemirror_mode": {
    "name": "ipython",
    "version": 3
   },
   "file_extension": ".py",
   "mimetype": "text/x-python",
   "name": "python",
   "nbconvert_exporter": "python",
   "pygments_lexer": "ipython3",
   "version": "3.9.13"
  }
 },
 "nbformat": 4,
 "nbformat_minor": 5
}
