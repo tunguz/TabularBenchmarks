{
 "cells": [
  {
   "cell_type": "code",
   "execution_count": 1,
   "id": "c9b7746c",
   "metadata": {
    "tags": []
   },
   "outputs": [],
   "source": [
    "%load_ext watermark"
   ]
  },
  {
   "cell_type": "code",
   "execution_count": 2,
   "id": "c4c2e09d",
   "metadata": {
    "tags": []
   },
   "outputs": [
    {
     "name": "stdout",
     "output_type": "stream",
     "text": [
      "Last updated: 2025-09-01T14:31:32.621926-04:00\n",
      "\n",
      "Python implementation: CPython\n",
      "Python version       : 3.12.3\n",
      "IPython version      : 8.26.0\n",
      "\n",
      "Compiler    : GCC 13.3.0\n",
      "OS          : Linux\n",
      "Release     : 6.8.0-71-generic\n",
      "Machine     : x86_64\n",
      "Processor   : x86_64\n",
      "CPU cores   : 16\n",
      "Architecture: 64bit\n",
      "\n"
     ]
    }
   ],
   "source": [
    "%watermark"
   ]
  },
  {
   "cell_type": "code",
   "execution_count": 6,
   "id": "6603ba87",
   "metadata": {
    "tags": []
   },
   "outputs": [],
   "source": [
    "import cupy as cp # linear algebra\n",
    "from cuml.linear_model import LogisticRegression\n",
    "from cuml.metrics import accuracy_score\n",
    "from time import time, sleep\n",
    "import gc\n",
    "import os"
   ]
  },
  {
   "cell_type": "code",
   "execution_count": 7,
   "id": "b3f60efa",
   "metadata": {
    "tags": []
   },
   "outputs": [
    {
     "name": "stdout",
     "output_type": "stream",
     "text": [
      "cuml: 25.08.00\n",
      "cupy: 13.6.0\n",
      "\n"
     ]
    }
   ],
   "source": [
    "%watermark --iversions"
   ]
  },
  {
   "cell_type": "code",
   "execution_count": 8,
   "id": "37aa62cd",
   "metadata": {
    "tags": []
   },
   "outputs": [
    {
     "data": {
      "text/plain": [
       "1756751543.7225065"
      ]
     },
     "execution_count": 8,
     "metadata": {},
     "output_type": "execute_result"
    }
   ],
   "source": [
    "time()"
   ]
  },
  {
   "cell_type": "code",
   "execution_count": 9,
   "id": "460ab404",
   "metadata": {
    "tags": []
   },
   "outputs": [],
   "source": [
    "X_num_train = cp.load('../../input/higgs_small_roc/X_num_train.npy')\n",
    "X_num_val = cp.load('../../input/higgs_small_roc/X_num_val.npy')\n",
    "X_num_test = cp.load('../../input/higgs_small_roc/X_num_test.npy')\n",
    "\n",
    "y_train = cp.load('../../input/higgs_small_roc/y_train.npy')\n",
    "y_val = cp.load('../../input/higgs_small_roc/y_val.npy')\n",
    "y_test = cp.load('../../input/higgs_small_roc/y_test.npy')"
   ]
  },
  {
   "cell_type": "code",
   "execution_count": 12,
   "id": "cae3050c",
   "metadata": {
    "tags": []
   },
   "outputs": [
    {
     "name": "stdout",
     "output_type": "stream",
     "text": [
      "0.08282804489135742\n",
      "0.0633230209350586\n",
      "0.05183577537536621\n",
      "0.057626962661743164\n",
      "0.06463050842285156\n",
      "0.0601963996887207\n",
      "[2025-09-01 14:33:32.640] [CUML] [warning] L-BFGS line search failed (code 3); stopping at the last valid step\n",
      "0.0454254150390625\n",
      "0.037676334381103516\n",
      "0.05323505401611328\n",
      "0.04817008972167969\n",
      "CPU times: user 558 ms, sys: 11 ms, total: 569 ms\n",
      "Wall time: 565 ms\n"
     ]
    }
   ],
   "source": [
    "%%time\n",
    "times = []\n",
    "for i in range(10):\n",
    "    time_now = time()\n",
    "    model = LogisticRegression()\n",
    "    model.fit(X_num_train, y_train)\n",
    "    time_now = time() - time_now\n",
    "    print(time_now)\n",
    "    times.append(time_now)"
   ]
  },
  {
   "cell_type": "code",
   "execution_count": 13,
   "id": "548268d5",
   "metadata": {},
   "outputs": [
    {
     "data": {
      "text/plain": [
       "array(0.05649476)"
      ]
     },
     "execution_count": 13,
     "metadata": {},
     "output_type": "execute_result"
    }
   ],
   "source": [
    "cp.mean(cp.array(times))"
   ]
  },
  {
   "cell_type": "code",
   "execution_count": 14,
   "id": "aec74019-8dde-4486-9904-6bd7df458ef2",
   "metadata": {},
   "outputs": [
    {
     "data": {
      "text/plain": [
       "array(0.05543101)"
      ]
     },
     "execution_count": 14,
     "metadata": {},
     "output_type": "execute_result"
    }
   ],
   "source": [
    "cp.median(cp.array(times))"
   ]
  },
  {
   "cell_type": "code",
   "execution_count": null,
   "id": "0e52900f-08f7-4731-8c61-8b32d99e1eed",
   "metadata": {},
   "outputs": [],
   "source": []
  }
 ],
 "metadata": {
  "kernelspec": {
   "display_name": "Python 3 (ipykernel)",
   "language": "python",
   "name": "python3"
  },
  "language_info": {
   "codemirror_mode": {
    "name": "ipython",
    "version": 3
   },
   "file_extension": ".py",
   "mimetype": "text/x-python",
   "name": "python",
   "nbconvert_exporter": "python",
   "pygments_lexer": "ipython3",
   "version": "3.12.3"
  }
 },
 "nbformat": 4,
 "nbformat_minor": 5
}
