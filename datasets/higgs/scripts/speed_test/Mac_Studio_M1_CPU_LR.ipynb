{
 "cells": [
  {
   "cell_type": "code",
   "execution_count": 1,
   "id": "c9b7746c",
   "metadata": {
    "tags": []
   },
   "outputs": [],
   "source": [
    "%load_ext watermark"
   ]
  },
  {
   "cell_type": "code",
   "execution_count": 2,
   "id": "c4c2e09d",
   "metadata": {
    "tags": []
   },
   "outputs": [
    {
     "name": "stdout",
     "output_type": "stream",
     "text": [
      "Last updated: 2024-11-18T11:32:01.975636-05:00\n",
      "\n",
      "Python implementation: CPython\n",
      "Python version       : 3.9.6\n",
      "IPython version      : 8.10.0\n",
      "\n",
      "Compiler    : Clang 16.0.0 (clang-1600.0.26.4)\n",
      "OS          : Darwin\n",
      "Release     : 24.1.0\n",
      "Machine     : arm64\n",
      "Processor   : arm\n",
      "CPU cores   : 20\n",
      "Architecture: 64bit\n",
      "\n"
     ]
    }
   ],
   "source": [
    "%watermark"
   ]
  },
  {
   "cell_type": "code",
   "execution_count": 3,
   "id": "6603ba87",
   "metadata": {
    "tags": []
   },
   "outputs": [],
   "source": [
    "import numpy as np # linear algebra\n",
    "import pandas as pd # data processing, CSV file I/O (e.g. pd.read_csv)\n",
    "from sklearn.linear_model import LogisticRegression\n",
    "from sklearn.model_selection import KFold\n",
    "from sklearn.metrics import accuracy_score\n",
    "from time import time, sleep\n",
    "import sklearn\n",
    "import gc\n",
    "import os"
   ]
  },
  {
   "cell_type": "code",
   "execution_count": 4,
   "id": "b3f60efa",
   "metadata": {
    "tags": []
   },
   "outputs": [
    {
     "name": "stdout",
     "output_type": "stream",
     "text": [
      "numpy  : 2.0.2\n",
      "pandas : 2.2.3\n",
      "sklearn: 1.5.2\n",
      "\n"
     ]
    }
   ],
   "source": [
    "%watermark --iversions"
   ]
  },
  {
   "cell_type": "code",
   "execution_count": 5,
   "id": "37aa62cd",
   "metadata": {
    "tags": []
   },
   "outputs": [
    {
     "data": {
      "text/plain": [
       "1731947526.5385869"
      ]
     },
     "execution_count": 5,
     "metadata": {},
     "output_type": "execute_result"
    }
   ],
   "source": [
    "time()"
   ]
  },
  {
   "cell_type": "code",
   "execution_count": 6,
   "id": "460ab404",
   "metadata": {
    "tags": []
   },
   "outputs": [],
   "source": [
    "X_num_train = np.load('../../input/higgs_small_roc/X_num_train.npy')\n",
    "X_num_val = np.load('../../input/higgs_small_roc/X_num_val.npy')\n",
    "X_num_test = np.load('../../input/higgs_small_roc/X_num_test.npy')\n",
    "\n",
    "y_train = np.load('../../input/higgs_small_roc/y_train.npy')\n",
    "y_val = np.load('../../input/higgs_small_roc/y_val.npy')\n",
    "y_test = np.load('../../input/higgs_small_roc/y_test.npy')"
   ]
  },
  {
   "cell_type": "code",
   "execution_count": 7,
   "id": "cae3050c",
   "metadata": {
    "tags": []
   },
   "outputs": [
    {
     "name": "stdout",
     "output_type": "stream",
     "text": [
      "0.14621400833129883\n",
      "0.1271810531616211\n",
      "0.1257789134979248\n",
      "0.12539315223693848\n",
      "0.1259899139404297\n",
      "0.12378883361816406\n",
      "0.12633228302001953\n",
      "0.1262667179107666\n",
      "0.12776398658752441\n",
      "0.12621092796325684\n",
      "CPU times: user 2.82 s, sys: 417 ms, total: 3.24 s\n",
      "Wall time: 1.28 s\n"
     ]
    }
   ],
   "source": [
    "%%time\n",
    "times = []\n",
    "for i in range(10):\n",
    "    time_now = time()\n",
    "    model = LogisticRegression()\n",
    "    model.fit(X_num_train, y_train)\n",
    "    time_now = time() - time_now\n",
    "    print(time_now)\n",
    "    times.append(time_now)"
   ]
  },
  {
   "cell_type": "code",
   "execution_count": 8,
   "id": "548268d5",
   "metadata": {
    "tags": []
   },
   "outputs": [
    {
     "data": {
      "text/plain": [
       "np.float64(0.12809197902679442)"
      ]
     },
     "execution_count": 8,
     "metadata": {},
     "output_type": "execute_result"
    }
   ],
   "source": [
    "np.mean(times)"
   ]
  },
  {
   "cell_type": "code",
   "execution_count": 9,
   "id": "aec74019-8dde-4486-9904-6bd7df458ef2",
   "metadata": {
    "tags": []
   },
   "outputs": [
    {
     "data": {
      "text/plain": [
       "np.float64(0.12623882293701172)"
      ]
     },
     "execution_count": 9,
     "metadata": {},
     "output_type": "execute_result"
    }
   ],
   "source": [
    "np.median(times)"
   ]
  },
  {
   "cell_type": "code",
   "execution_count": null,
   "id": "0e52900f-08f7-4731-8c61-8b32d99e1eed",
   "metadata": {},
   "outputs": [],
   "source": []
  }
 ],
 "metadata": {
  "kernelspec": {
   "display_name": "Python 3 (ipykernel)",
   "language": "python",
   "name": "python3"
  },
  "language_info": {
   "codemirror_mode": {
    "name": "ipython",
    "version": 3
   },
   "file_extension": ".py",
   "mimetype": "text/x-python",
   "name": "python",
   "nbconvert_exporter": "python",
   "pygments_lexer": "ipython3",
   "version": "3.9.6"
  }
 },
 "nbformat": 4,
 "nbformat_minor": 5
}
