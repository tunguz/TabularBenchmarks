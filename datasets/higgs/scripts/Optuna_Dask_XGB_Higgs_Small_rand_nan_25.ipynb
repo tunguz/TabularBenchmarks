{
 "cells": [
  {
   "cell_type": "code",
   "execution_count": 1,
   "metadata": {},
   "outputs": [],
   "source": [
    "import os\n",
    "#os.environ[\"CUDA_DEVICE_ORDER\"]=\"PCI_BUS_ID\"\n",
    "#os.environ[\"CUDA_VISIBLE_DEVICES\"]=\"0, 1, 2, 4\""
   ]
  },
  {
   "cell_type": "code",
   "execution_count": 2,
   "metadata": {},
   "outputs": [
    {
     "data": {
      "text/plain": [
       "'1.6.2'"
      ]
     },
     "execution_count": 2,
     "metadata": {},
     "output_type": "execute_result"
    }
   ],
   "source": [
    "from dask.distributed import Client\n",
    "from dask_cuda import LocalCUDACluster\n",
    "from dask import dataframe as dd\n",
    "import pandas as pd\n",
    "import xgboost as xgb\n",
    "from sklearn.model_selection import KFold, train_test_split\n",
    "from sklearn.metrics import roc_auc_score\n",
    "import optuna\n",
    "import gc\n",
    "xgb.__version__"
   ]
  },
  {
   "cell_type": "code",
   "execution_count": 3,
   "metadata": {},
   "outputs": [
    {
     "name": "stdout",
     "output_type": "stream",
     "text": [
      "Tue Nov 22 12:45:10 2022       \n",
      "+-----------------------------------------------------------------------------+\n",
      "| NVIDIA-SMI 450.142.00   Driver Version: 450.142.00   CUDA Version: 11.0     |\n",
      "|-------------------------------+----------------------+----------------------+\n",
      "| GPU  Name        Persistence-M| Bus-Id        Disp.A | Volatile Uncorr. ECC |\n",
      "| Fan  Temp  Perf  Pwr:Usage/Cap|         Memory-Usage | GPU-Util  Compute M. |\n",
      "|                               |                      |               MIG M. |\n",
      "|===============================+======================+======================|\n",
      "|   0  Tesla V100-DGXS...  On   | 00000000:07:00.0  On |                    0 |\n",
      "| N/A   43C    P0    38W / 300W |    358MiB / 32499MiB |      0%      Default |\n",
      "|                               |                      |                  N/A |\n",
      "+-------------------------------+----------------------+----------------------+\n",
      "|   1  Tesla V100-DGXS...  On   | 00000000:08:00.0 Off |                    0 |\n",
      "| N/A   44C    P0    36W / 300W |      1MiB / 32508MiB |      0%      Default |\n",
      "|                               |                      |                  N/A |\n",
      "+-------------------------------+----------------------+----------------------+\n",
      "|   2  Tesla V100-DGXS...  On   | 00000000:0E:00.0 Off |                    0 |\n",
      "| N/A   48C    P0    38W / 300W |      1MiB / 32508MiB |      0%      Default |\n",
      "|                               |                      |                  N/A |\n",
      "+-------------------------------+----------------------+----------------------+\n",
      "|   3  Tesla V100-DGXS...  On   | 00000000:0F:00.0 Off |                    0 |\n",
      "| N/A   43C    P0    39W / 300W |      1MiB / 32508MiB |      0%      Default |\n",
      "|                               |                      |                  N/A |\n",
      "+-------------------------------+----------------------+----------------------+\n",
      "                                                                               \n",
      "+-----------------------------------------------------------------------------+\n",
      "| Processes:                                                                  |\n",
      "|  GPU   GI   CI        PID   Type   Process name                  GPU Memory |\n",
      "|        ID   ID                                                   Usage      |\n",
      "|=============================================================================|\n",
      "|    0   N/A  N/A      4182      G   /usr/lib/xorg/Xorg                126MiB |\n",
      "|    0   N/A  N/A      4663      G   /usr/bin/gnome-shell               80MiB |\n",
      "|    0   N/A  N/A      4710      G   ...mviewer/tv_bin/TeamViewer       21MiB |\n",
      "|    0   N/A  N/A     37701      G   ...AAAAAAAAA= --shared-files      125MiB |\n",
      "+-----------------------------------------------------------------------------+\n"
     ]
    }
   ],
   "source": [
    "!nvidia-smi"
   ]
  },
  {
   "cell_type": "code",
   "execution_count": 4,
   "metadata": {},
   "outputs": [
    {
     "name": "stdout",
     "output_type": "stream",
     "text": [
      "GPU 0: Tesla V100-DGXS-32GB (UUID: GPU-d752af09-1f62-bf3b-4f70-78b84e9e41f6)\n",
      "GPU 1: Tesla V100-DGXS-32GB (UUID: GPU-054a4a35-f98a-3ebc-9100-0f697c246b43)\n",
      "GPU 2: Tesla V100-DGXS-32GB (UUID: GPU-454525d4-bebd-7fb8-0ba3-3b85e2f99abd)\n",
      "GPU 3: Tesla V100-DGXS-32GB (UUID: GPU-af0fb74e-f5eb-0833-17ff-494cc6bdcee1)\n"
     ]
    }
   ],
   "source": [
    "!nvidia-smi -L"
   ]
  },
  {
   "cell_type": "code",
   "execution_count": 5,
   "metadata": {},
   "outputs": [],
   "source": [
    "train_x = dd.read_csv('../input/higgs_small_roc/xgtrain_25.csv')\n",
    "test_x = dd.read_csv('../input/higgs_small_roc/xgval.csv')"
   ]
  },
  {
   "cell_type": "code",
   "execution_count": 6,
   "metadata": {},
   "outputs": [],
   "source": [
    "train_y = train_x['target']\n",
    "train_x = train_x[train_x.columns.difference(['target'])]\n",
    "\n",
    "test_y = test_x['target']\n",
    "test_x = test_x[test_x.columns.difference(['target'])]"
   ]
  },
  {
   "cell_type": "code",
   "execution_count": 7,
   "metadata": {},
   "outputs": [],
   "source": [
    "cluster = LocalCUDACluster(n_workers=4)\n",
    "client = Client(cluster)"
   ]
  },
  {
   "cell_type": "code",
   "execution_count": 8,
   "metadata": {},
   "outputs": [],
   "source": [
    "dtrain = xgb.dask.DaskDMatrix(client, train_x, train_y)"
   ]
  },
  {
   "cell_type": "code",
   "execution_count": 9,
   "metadata": {},
   "outputs": [],
   "source": [
    "dtest = xgb.dask.DaskDMatrix(client, test_x, test_y)\n"
   ]
  },
  {
   "cell_type": "code",
   "execution_count": 10,
   "metadata": {},
   "outputs": [],
   "source": [
    "num_round = 1000"
   ]
  },
  {
   "cell_type": "code",
   "execution_count": 11,
   "metadata": {},
   "outputs": [],
   "source": [
    "def objective(trial):\n",
    "        \n",
    "    params = {\n",
    "        'objective': trial.suggest_categorical('objective',['binary:logistic']),\n",
    "        'tree_method': trial.suggest_categorical('tree_method',['gpu_hist']),  # 'gpu_hist','hist'\n",
    "        'lambda': trial.suggest_loguniform('lambda',1e-3,10.0),\n",
    "        'alpha': trial.suggest_loguniform('alpha',1e-3,10.0),\n",
    "        'colsample_bytree': trial.suggest_uniform('colsample_bytree', 0.3,1.0),\n",
    "        'subsample': trial.suggest_uniform('subsample', 0.4, 1.0),\n",
    "        'learning_rate': trial.suggest_loguniform('learning_rate', 0.001,0.1),\n",
    "        #'n_estimators': trial.suggest_categorical('n_estimators', [1000]),\n",
    "        'max_depth': trial.suggest_int('max_depth', 3,25),\n",
    "        #'random_state': trial.suggest_categorical('random_state', [24,48,2020]),\n",
    "        'min_child_weight': trial.suggest_int('min_child_weight', 1,300),\n",
    "        'eval_metric': trial.suggest_categorical('eval_metric',['logloss']),\n",
    "\n",
    "    }\n",
    "\n",
    "    output = xgb.dask.train(client, params, dtrain, num_round)\n",
    "    \n",
    "    booster = output['booster']  # booster is the trained model\n",
    "    booster.set_param({'predictor': 'gpu_predictor'})\n",
    "\n",
    "    predictions = xgb.dask.predict(client, booster, dtest)\n",
    "    \n",
    "    predictions = predictions.compute()\n",
    "\n",
    "    roc = roc_auc_score(test_y, predictions)\n",
    "    \n",
    "    return roc"
   ]
  },
  {
   "cell_type": "code",
   "execution_count": 12,
   "metadata": {},
   "outputs": [
    {
     "name": "stderr",
     "output_type": "stream",
     "text": [
      "\u001b[32m[I 2022-11-22 12:45:27,544]\u001b[0m A new study created in memory with name: no-name-4ce0f96b-c7bd-4f7b-8eb5-1de270acfc98\u001b[0m\n"
     ]
    }
   ],
   "source": [
    "study = optuna.create_study(direction='maximize')"
   ]
  },
  {
   "cell_type": "code",
   "execution_count": 13,
   "metadata": {},
   "outputs": [
    {
     "name": "stderr",
     "output_type": "stream",
     "text": [
      "/home/tunguz/anaconda3/lib/python3.7/site-packages/xgboost/dask.py:884: RuntimeWarning: coroutine 'Client._wait_for_workers' was never awaited\n",
      "  client.wait_for_workers(n_workers)\n",
      "\u001b[32m[I 2022-11-22 12:47:08,292]\u001b[0m Trial 0 finished with value: 0.7935334679154088 and parameters: {'objective': 'binary:logistic', 'tree_method': 'gpu_hist', 'lambda': 0.003961234975462876, 'alpha': 5.163282307483754, 'colsample_bytree': 0.419837194899298, 'subsample': 0.9587301405732236, 'learning_rate': 0.0013632602782531042, 'max_depth': 14, 'min_child_weight': 182, 'eval_metric': 'logloss'}. Best is trial 0 with value: 0.7935334679154088.\u001b[0m\n",
      "/home/tunguz/anaconda3/lib/python3.7/site-packages/xgboost/dask.py:884: RuntimeWarning: coroutine 'Client._wait_for_workers' was never awaited\n",
      "  client.wait_for_workers(n_workers)\n",
      "\u001b[32m[I 2022-11-22 12:48:14,972]\u001b[0m Trial 1 finished with value: 0.8090076590597857 and parameters: {'objective': 'binary:logistic', 'tree_method': 'gpu_hist', 'lambda': 0.6230627882871737, 'alpha': 0.006520581585788793, 'colsample_bytree': 0.42502312257940034, 'subsample': 0.6560526552497019, 'learning_rate': 0.025364886742435724, 'max_depth': 20, 'min_child_weight': 210, 'eval_metric': 'logloss'}. Best is trial 1 with value: 0.8090076590597857.\u001b[0m\n"
     ]
    },
    {
     "name": "stdout",
     "output_type": "stream",
     "text": [
      "CPU times: user 15.9 s, sys: 4.36 s, total: 20.3 s\n",
      "Wall time: 2min 46s\n"
     ]
    }
   ],
   "source": [
    "%%time\n",
    "study.optimize(objective, n_trials=2)"
   ]
  },
  {
   "cell_type": "code",
   "execution_count": 14,
   "metadata": {},
   "outputs": [
    {
     "name": "stderr",
     "output_type": "stream",
     "text": [
      "/home/tunguz/anaconda3/lib/python3.7/site-packages/xgboost/dask.py:884: RuntimeWarning: coroutine 'Client._wait_for_workers' was never awaited\n",
      "  client.wait_for_workers(n_workers)\n",
      "\u001b[32m[I 2022-11-22 12:51:02,557]\u001b[0m Trial 2 finished with value: 0.813148019476767 and parameters: {'objective': 'binary:logistic', 'tree_method': 'gpu_hist', 'lambda': 0.014531274498856248, 'alpha': 0.4916602240331523, 'colsample_bytree': 0.6769872815591004, 'subsample': 0.5275264500358462, 'learning_rate': 0.013309384141125213, 'max_depth': 23, 'min_child_weight': 153, 'eval_metric': 'logloss'}. Best is trial 2 with value: 0.813148019476767.\u001b[0m\n",
      "/home/tunguz/anaconda3/lib/python3.7/site-packages/xgboost/dask.py:884: RuntimeWarning: coroutine 'Client._wait_for_workers' was never awaited\n",
      "  client.wait_for_workers(n_workers)\n",
      "\u001b[32m[I 2022-11-22 12:56:20,106]\u001b[0m Trial 3 finished with value: 0.8103800094547919 and parameters: {'objective': 'binary:logistic', 'tree_method': 'gpu_hist', 'lambda': 0.035919197157901143, 'alpha': 1.4671550231410304, 'colsample_bytree': 0.8310865653933583, 'subsample': 0.48569330670369376, 'learning_rate': 0.007771862879653412, 'max_depth': 23, 'min_child_weight': 41, 'eval_metric': 'logloss'}. Best is trial 2 with value: 0.813148019476767.\u001b[0m\n",
      "/home/tunguz/anaconda3/lib/python3.7/site-packages/xgboost/dask.py:884: RuntimeWarning: coroutine 'Client._wait_for_workers' was never awaited\n",
      "  client.wait_for_workers(n_workers)\n",
      "\u001b[32m[I 2022-11-22 12:57:44,648]\u001b[0m Trial 4 finished with value: 0.809822617967705 and parameters: {'objective': 'binary:logistic', 'tree_method': 'gpu_hist', 'lambda': 0.0024168920790538667, 'alpha': 7.394206541998715, 'colsample_bytree': 0.9553103462470574, 'subsample': 0.6401233517925374, 'learning_rate': 0.006655145950448401, 'max_depth': 13, 'min_child_weight': 55, 'eval_metric': 'logloss'}. Best is trial 2 with value: 0.813148019476767.\u001b[0m\n",
      "/home/tunguz/anaconda3/lib/python3.7/site-packages/xgboost/dask.py:884: RuntimeWarning: coroutine 'Client._wait_for_workers' was never awaited\n",
      "  client.wait_for_workers(n_workers)\n",
      "\u001b[32m[I 2022-11-22 12:58:13,415]\u001b[0m Trial 5 finished with value: 0.8118126833920475 and parameters: {'objective': 'binary:logistic', 'tree_method': 'gpu_hist', 'lambda': 3.484131012082252, 'alpha': 0.08926514421438261, 'colsample_bytree': 0.8836798415442808, 'subsample': 0.566107437338299, 'learning_rate': 0.0104215699876068, 'max_depth': 12, 'min_child_weight': 297, 'eval_metric': 'logloss'}. Best is trial 2 with value: 0.813148019476767.\u001b[0m\n",
      "/home/tunguz/anaconda3/lib/python3.7/site-packages/xgboost/dask.py:884: RuntimeWarning: coroutine 'Client._wait_for_workers' was never awaited\n",
      "  client.wait_for_workers(n_workers)\n",
      "\u001b[32m[I 2022-11-22 13:00:06,833]\u001b[0m Trial 6 finished with value: 0.8039838877196497 and parameters: {'objective': 'binary:logistic', 'tree_method': 'gpu_hist', 'lambda': 0.025053269684646787, 'alpha': 0.03483324811340682, 'colsample_bytree': 0.5653227304330297, 'subsample': 0.889917703915839, 'learning_rate': 0.002895548828312335, 'max_depth': 13, 'min_child_weight': 84, 'eval_metric': 'logloss'}. Best is trial 2 with value: 0.813148019476767.\u001b[0m\n",
      "/home/tunguz/anaconda3/lib/python3.7/site-packages/xgboost/dask.py:884: RuntimeWarning: coroutine 'Client._wait_for_workers' was never awaited\n",
      "  client.wait_for_workers(n_workers)\n",
      "\u001b[32m[I 2022-11-22 13:00:16,631]\u001b[0m Trial 7 finished with value: 0.8057779322051762 and parameters: {'objective': 'binary:logistic', 'tree_method': 'gpu_hist', 'lambda': 0.0025516749307416316, 'alpha': 0.002880471186503511, 'colsample_bytree': 0.40023819547720163, 'subsample': 0.5268914208460032, 'learning_rate': 0.017190828130236188, 'max_depth': 6, 'min_child_weight': 211, 'eval_metric': 'logloss'}. Best is trial 2 with value: 0.813148019476767.\u001b[0m\n",
      "/home/tunguz/anaconda3/lib/python3.7/site-packages/xgboost/dask.py:884: RuntimeWarning: coroutine 'Client._wait_for_workers' was never awaited\n",
      "  client.wait_for_workers(n_workers)\n",
      "\u001b[32m[I 2022-11-22 13:00:22,551]\u001b[0m Trial 8 finished with value: 0.7871371260511086 and parameters: {'objective': 'binary:logistic', 'tree_method': 'gpu_hist', 'lambda': 0.09081761442394996, 'alpha': 0.012645429166948422, 'colsample_bytree': 0.3644308260598181, 'subsample': 0.6759860750604894, 'learning_rate': 0.01693092082359508, 'max_depth': 3, 'min_child_weight': 281, 'eval_metric': 'logloss'}. Best is trial 2 with value: 0.813148019476767.\u001b[0m\n",
      "/home/tunguz/anaconda3/lib/python3.7/site-packages/xgboost/dask.py:884: RuntimeWarning: coroutine 'Client._wait_for_workers' was never awaited\n",
      "  client.wait_for_workers(n_workers)\n",
      "\u001b[32m[I 2022-11-22 13:30:40,144]\u001b[0m Trial 9 finished with value: 0.7965216397072041 and parameters: {'objective': 'binary:logistic', 'tree_method': 'gpu_hist', 'lambda': 0.06209822039616404, 'alpha': 1.305191043465497, 'colsample_bytree': 0.8514116079569938, 'subsample': 0.577070009183531, 'learning_rate': 0.0010513197139589996, 'max_depth': 22, 'min_child_weight': 2, 'eval_metric': 'logloss'}. Best is trial 2 with value: 0.813148019476767.\u001b[0m\n",
      "/home/tunguz/anaconda3/lib/python3.7/site-packages/xgboost/dask.py:884: RuntimeWarning: coroutine 'Client._wait_for_workers' was never awaited\n",
      "  client.wait_for_workers(n_workers)\n",
      "\u001b[32m[I 2022-11-22 13:31:42,659]\u001b[0m Trial 10 finished with value: 0.8082885378649546 and parameters: {'objective': 'binary:logistic', 'tree_method': 'gpu_hist', 'lambda': 0.5712556733315592, 'alpha': 0.37890848939566657, 'colsample_bytree': 0.6915462216686764, 'subsample': 0.8210558025006179, 'learning_rate': 0.04291358729134046, 'max_depth': 18, 'min_child_weight': 123, 'eval_metric': 'logloss'}. Best is trial 2 with value: 0.813148019476767.\u001b[0m\n",
      "/home/tunguz/anaconda3/lib/python3.7/site-packages/xgboost/dask.py:884: RuntimeWarning: coroutine 'Client._wait_for_workers' was never awaited\n",
      "  client.wait_for_workers(n_workers)\n",
      "\u001b[32m[I 2022-11-22 13:32:04,056]\u001b[0m Trial 11 finished with value: 0.8034916789221537 and parameters: {'objective': 'binary:logistic', 'tree_method': 'gpu_hist', 'lambda': 6.992365297181253, 'alpha': 0.09854603514187293, 'colsample_bytree': 0.6813323731859453, 'subsample': 0.42244927245378444, 'learning_rate': 0.004514359345832591, 'max_depth': 9, 'min_child_weight': 297, 'eval_metric': 'logloss'}. Best is trial 2 with value: 0.813148019476767.\u001b[0m\n",
      "/home/tunguz/anaconda3/lib/python3.7/site-packages/xgboost/dask.py:884: RuntimeWarning: coroutine 'Client._wait_for_workers' was never awaited\n",
      "  client.wait_for_workers(n_workers)\n",
      "\u001b[32m[I 2022-11-22 13:39:16,393]\u001b[0m Trial 12 finished with value: 0.805570334103231 and parameters: {'objective': 'binary:logistic', 'tree_method': 'gpu_hist', 'lambda': 9.010041806505134, 'alpha': 0.2266265842313001, 'colsample_bytree': 0.9951557972210207, 'subsample': 0.7515003682096831, 'learning_rate': 0.0746524785802437, 'max_depth': 25, 'min_child_weight': 250, 'eval_metric': 'logloss'}. Best is trial 2 with value: 0.813148019476767.\u001b[0m\n",
      "/home/tunguz/anaconda3/lib/python3.7/site-packages/xgboost/dask.py:884: RuntimeWarning: coroutine 'Client._wait_for_workers' was never awaited\n",
      "  client.wait_for_workers(n_workers)\n",
      "\u001b[32m[I 2022-11-22 13:40:10,570]\u001b[0m Trial 13 finished with value: 0.8127528387203993 and parameters: {'objective': 'binary:logistic', 'tree_method': 'gpu_hist', 'lambda': 0.5152876237712027, 'alpha': 0.03962372030023427, 'colsample_bytree': 0.7948040642782106, 'subsample': 0.4241085845699035, 'learning_rate': 0.011789324907428995, 'max_depth': 17, 'min_child_weight': 154, 'eval_metric': 'logloss'}. Best is trial 2 with value: 0.813148019476767.\u001b[0m\n",
      "/home/tunguz/anaconda3/lib/python3.7/site-packages/xgboost/dask.py:884: RuntimeWarning: coroutine 'Client._wait_for_workers' was never awaited\n",
      "  client.wait_for_workers(n_workers)\n",
      "\u001b[32m[I 2022-11-22 13:40:50,725]\u001b[0m Trial 14 finished with value: 0.8086188131314119 and parameters: {'objective': 'binary:logistic', 'tree_method': 'gpu_hist', 'lambda': 0.01186641866565579, 'alpha': 0.03182681476916991, 'colsample_bytree': 0.5965015497674757, 'subsample': 0.4031946241784954, 'learning_rate': 0.038228425347996475, 'max_depth': 17, 'min_child_weight': 150, 'eval_metric': 'logloss'}. Best is trial 2 with value: 0.813148019476767.\u001b[0m\n",
      "/home/tunguz/anaconda3/lib/python3.7/site-packages/xgboost/dask.py:884: RuntimeWarning: coroutine 'Client._wait_for_workers' was never awaited\n",
      "  client.wait_for_workers(n_workers)\n",
      "\u001b[32m[I 2022-11-22 13:42:38,741]\u001b[0m Trial 15 finished with value: 0.8047003755175155 and parameters: {'objective': 'binary:logistic', 'tree_method': 'gpu_hist', 'lambda': 0.4840634685730368, 'alpha': 0.671689690257412, 'colsample_bytree': 0.7535732391961109, 'subsample': 0.47576240356384275, 'learning_rate': 0.002553618555542242, 'max_depth': 18, 'min_child_weight': 124, 'eval_metric': 'logloss'}. Best is trial 2 with value: 0.813148019476767.\u001b[0m\n",
      "/home/tunguz/anaconda3/lib/python3.7/site-packages/xgboost/dask.py:884: RuntimeWarning: coroutine 'Client._wait_for_workers' was never awaited\n",
      "  client.wait_for_workers(n_workers)\n",
      "\u001b[32m[I 2022-11-22 13:50:26,485]\u001b[0m Trial 16 finished with value: 0.8113420472520446 and parameters: {'objective': 'binary:logistic', 'tree_method': 'gpu_hist', 'lambda': 0.3172389839529579, 'alpha': 0.001774353537907458, 'colsample_bytree': 0.505770551236537, 'subsample': 0.581366443405145, 'learning_rate': 0.012959993529236644, 'max_depth': 25, 'min_child_weight': 170, 'eval_metric': 'logloss'}. Best is trial 2 with value: 0.813148019476767.\u001b[0m\n",
      "/home/tunguz/anaconda3/lib/python3.7/site-packages/xgboost/dask.py:884: RuntimeWarning: coroutine 'Client._wait_for_workers' was never awaited\n",
      "  client.wait_for_workers(n_workers)\n",
      "\u001b[32m[I 2022-11-22 13:51:32,328]\u001b[0m Trial 17 finished with value: 0.8015487945140292 and parameters: {'objective': 'binary:logistic', 'tree_method': 'gpu_hist', 'lambda': 0.010473993550516609, 'alpha': 0.027756021156157037, 'colsample_bytree': 0.7786616822367688, 'subsample': 0.4713203871641224, 'learning_rate': 0.09523601524584405, 'max_depth': 21, 'min_child_weight': 114, 'eval_metric': 'logloss'}. Best is trial 2 with value: 0.813148019476767.\u001b[0m\n",
      "/home/tunguz/anaconda3/lib/python3.7/site-packages/xgboost/dask.py:884: RuntimeWarning: coroutine 'Client._wait_for_workers' was never awaited\n",
      "  client.wait_for_workers(n_workers)\n",
      "\u001b[32m[I 2022-11-22 13:52:48,498]\u001b[0m Trial 18 finished with value: 0.8098388178431543 and parameters: {'objective': 'binary:logistic', 'tree_method': 'gpu_hist', 'lambda': 0.0010314200957586943, 'alpha': 0.1606811174567783, 'colsample_bytree': 0.7503018971653247, 'subsample': 0.7789825072597406, 'learning_rate': 0.005133901976095669, 'max_depth': 16, 'min_child_weight': 221, 'eval_metric': 'logloss'}. Best is trial 2 with value: 0.813148019476767.\u001b[0m\n",
      "/home/tunguz/anaconda3/lib/python3.7/site-packages/xgboost/dask.py:884: RuntimeWarning: coroutine 'Client._wait_for_workers' was never awaited\n",
      "  client.wait_for_workers(n_workers)\n",
      "\u001b[32m[I 2022-11-22 13:53:52,382]\u001b[0m Trial 19 finished with value: 0.8098399429477401 and parameters: {'objective': 'binary:logistic', 'tree_method': 'gpu_hist', 'lambda': 1.6986024535997117, 'alpha': 2.254576017199323, 'colsample_bytree': 0.6363337124268823, 'subsample': 0.5309562989177697, 'learning_rate': 0.03613337107595947, 'max_depth': 20, 'min_child_weight': 155, 'eval_metric': 'logloss'}. Best is trial 2 with value: 0.813148019476767.\u001b[0m\n",
      "/home/tunguz/anaconda3/lib/python3.7/site-packages/xgboost/dask.py:884: RuntimeWarning: coroutine 'Client._wait_for_workers' was never awaited\n",
      "  client.wait_for_workers(n_workers)\n",
      "\u001b[32m[I 2022-11-22 13:54:17,081]\u001b[0m Trial 20 finished with value: 0.8109596747515052 and parameters: {'objective': 'binary:logistic', 'tree_method': 'gpu_hist', 'lambda': 0.2016929230296934, 'alpha': 0.6307038616300217, 'colsample_bytree': 0.5006048013355219, 'subsample': 0.4478965251973098, 'learning_rate': 0.022696621830305602, 'max_depth': 10, 'min_child_weight': 84, 'eval_metric': 'logloss'}. Best is trial 2 with value: 0.813148019476767.\u001b[0m\n",
      "/home/tunguz/anaconda3/lib/python3.7/site-packages/xgboost/dask.py:884: RuntimeWarning: coroutine 'Client._wait_for_workers' was never awaited\n",
      "  client.wait_for_workers(n_workers)\n",
      "\u001b[32m[I 2022-11-22 13:54:45,658]\u001b[0m Trial 21 finished with value: 0.8119514055263051 and parameters: {'objective': 'binary:logistic', 'tree_method': 'gpu_hist', 'lambda': 3.0541174046022324, 'alpha': 0.07128806969332467, 'colsample_bytree': 0.9049451079641712, 'subsample': 0.5671630772648485, 'learning_rate': 0.011107116261642336, 'max_depth': 11, 'min_child_weight': 238, 'eval_metric': 'logloss'}. Best is trial 2 with value: 0.813148019476767.\u001b[0m\n",
      "/home/tunguz/anaconda3/lib/python3.7/site-packages/xgboost/dask.py:884: RuntimeWarning: coroutine 'Client._wait_for_workers' was never awaited\n",
      "  client.wait_for_workers(n_workers)\n",
      "\u001b[32m[I 2022-11-22 13:55:04,954]\u001b[0m Trial 22 finished with value: 0.8095518835620459 and parameters: {'objective': 'binary:logistic', 'tree_method': 'gpu_hist', 'lambda': 1.3431924403516653, 'alpha': 0.061368555493964874, 'colsample_bytree': 0.9134738557126741, 'subsample': 0.6144056138725168, 'learning_rate': 0.009328569353054787, 'max_depth': 9, 'min_child_weight': 254, 'eval_metric': 'logloss'}. Best is trial 2 with value: 0.813148019476767.\u001b[0m\n",
      "/home/tunguz/anaconda3/lib/python3.7/site-packages/xgboost/dask.py:884: RuntimeWarning: coroutine 'Client._wait_for_workers' was never awaited\n",
      "  client.wait_for_workers(n_workers)\n",
      "\u001b[32m[I 2022-11-22 13:55:48,447]\u001b[0m Trial 23 finished with value: 0.8129675461788578 and parameters: {'objective': 'binary:logistic', 'tree_method': 'gpu_hist', 'lambda': 1.716537081101449, 'alpha': 0.016459818298610106, 'colsample_bytree': 0.8032004558152157, 'subsample': 0.5267124572913252, 'learning_rate': 0.014364890217717429, 'max_depth': 15, 'min_child_weight': 183, 'eval_metric': 'logloss'}. Best is trial 2 with value: 0.813148019476767.\u001b[0m\n",
      "/home/tunguz/anaconda3/lib/python3.7/site-packages/xgboost/dask.py:884: RuntimeWarning: coroutine 'Client._wait_for_workers' was never awaited\n",
      "  client.wait_for_workers(n_workers)\n",
      "\u001b[32m[I 2022-11-22 13:56:33,226]\u001b[0m Trial 24 finished with value: 0.81347003582333 and parameters: {'objective': 'binary:logistic', 'tree_method': 'gpu_hist', 'lambda': 0.15432150368690797, 'alpha': 0.010199823393166912, 'colsample_bytree': 0.7874315755012223, 'subsample': 0.4995368229150463, 'learning_rate': 0.015262385805286856, 'max_depth': 16, 'min_child_weight': 181, 'eval_metric': 'logloss'}. Best is trial 24 with value: 0.81347003582333.\u001b[0m\n",
      "/home/tunguz/anaconda3/lib/python3.7/site-packages/xgboost/dask.py:884: RuntimeWarning: coroutine 'Client._wait_for_workers' was never awaited\n",
      "  client.wait_for_workers(n_workers)\n",
      "\u001b[32m[I 2022-11-22 13:57:22,016]\u001b[0m Trial 25 finished with value: 0.8127797597011409 and parameters: {'objective': 'binary:logistic', 'tree_method': 'gpu_hist', 'lambda': 0.21097036160120639, 'alpha': 0.006748530787796484, 'colsample_bytree': 0.7304958791666338, 'subsample': 0.7267179661976372, 'learning_rate': 0.016075686579565002, 'max_depth': 15, 'min_child_weight': 185, 'eval_metric': 'logloss'}. Best is trial 24 with value: 0.81347003582333.\u001b[0m\n",
      "/home/tunguz/anaconda3/lib/python3.7/site-packages/xgboost/dask.py:884: RuntimeWarning: coroutine 'Client._wait_for_workers' was never awaited\n",
      "  client.wait_for_workers(n_workers)\n",
      "\u001b[32m[I 2022-11-22 13:58:10,763]\u001b[0m Trial 26 finished with value: 0.8114565714847753 and parameters: {'objective': 'binary:logistic', 'tree_method': 'gpu_hist', 'lambda': 0.014095114222806179, 'alpha': 0.01331829550449413, 'colsample_bytree': 0.8200270247273764, 'subsample': 0.5114192648157714, 'learning_rate': 0.027232235583359084, 'max_depth': 19, 'min_child_weight': 206, 'eval_metric': 'logloss'}. Best is trial 24 with value: 0.81347003582333.\u001b[0m\n",
      "/home/tunguz/anaconda3/lib/python3.7/site-packages/xgboost/dask.py:884: RuntimeWarning: coroutine 'Client._wait_for_workers' was never awaited\n",
      "  client.wait_for_workers(n_workers)\n",
      "\u001b[32m[I 2022-11-22 14:00:32,726]\u001b[0m Trial 27 finished with value: 0.8065100247144712 and parameters: {'objective': 'binary:logistic', 'tree_method': 'gpu_hist', 'lambda': 0.1287197152143375, 'alpha': 0.0012278678418817953, 'colsample_bytree': 0.6886433902639804, 'subsample': 0.6204500586713299, 'learning_rate': 0.057463203027567064, 'max_depth': 23, 'min_child_weight': 187, 'eval_metric': 'logloss'}. Best is trial 24 with value: 0.81347003582333.\u001b[0m\n",
      "/home/tunguz/anaconda3/lib/python3.7/site-packages/xgboost/dask.py:884: RuntimeWarning: coroutine 'Client._wait_for_workers' was never awaited\n",
      "  client.wait_for_workers(n_workers)\n",
      "\u001b[32m[I 2022-11-22 14:00:46,636]\u001b[0m Trial 28 finished with value: 0.8029969427158055 and parameters: {'objective': 'binary:logistic', 'tree_method': 'gpu_hist', 'lambda': 0.03984722796011648, 'alpha': 0.01254761787071352, 'colsample_bytree': 0.6459805979369146, 'subsample': 0.5202023363070241, 'learning_rate': 0.005784458194088182, 'max_depth': 7, 'min_child_weight': 134, 'eval_metric': 'logloss'}. Best is trial 24 with value: 0.81347003582333.\u001b[0m\n",
      "/home/tunguz/anaconda3/lib/python3.7/site-packages/xgboost/dask.py:884: RuntimeWarning: coroutine 'Client._wait_for_workers' was never awaited\n",
      "  client.wait_for_workers(n_workers)\n",
      "\u001b[32m[I 2022-11-22 14:02:02,914]\u001b[0m Trial 29 finished with value: 0.8061037478179494 and parameters: {'objective': 'binary:logistic', 'tree_method': 'gpu_hist', 'lambda': 0.006997959502305761, 'alpha': 0.003500939300543155, 'colsample_bytree': 0.579142254397099, 'subsample': 0.6822809380338803, 'learning_rate': 0.0036523443528754026, 'max_depth': 14, 'min_child_weight': 181, 'eval_metric': 'logloss'}. Best is trial 24 with value: 0.81347003582333.\u001b[0m\n",
      "/home/tunguz/anaconda3/lib/python3.7/site-packages/xgboost/dask.py:884: RuntimeWarning: coroutine 'Client._wait_for_workers' was never awaited\n",
      "  client.wait_for_workers(n_workers)\n",
      "\u001b[32m[I 2022-11-22 14:03:06,465]\u001b[0m Trial 30 finished with value: 0.8112388963591485 and parameters: {'objective': 'binary:logistic', 'tree_method': 'gpu_hist', 'lambda': 0.0049967985259842, 'alpha': 0.19296835501281928, 'colsample_bytree': 0.7206108887661182, 'subsample': 0.8775113257916541, 'learning_rate': 0.022980897749726475, 'max_depth': 15, 'min_child_weight': 108, 'eval_metric': 'logloss'}. Best is trial 24 with value: 0.81347003582333.\u001b[0m\n",
      "/home/tunguz/anaconda3/lib/python3.7/site-packages/xgboost/dask.py:884: RuntimeWarning: coroutine 'Client._wait_for_workers' was never awaited\n",
      "  client.wait_for_workers(n_workers)\n",
      "\u001b[32m[I 2022-11-22 14:03:52,998]\u001b[0m Trial 31 finished with value: 0.8122690111367743 and parameters: {'objective': 'binary:logistic', 'tree_method': 'gpu_hist', 'lambda': 0.1473126789778235, 'alpha': 0.006201831941554416, 'colsample_bytree': 0.7276894241791814, 'subsample': 0.7100908120958831, 'learning_rate': 0.017424438012325783, 'max_depth': 15, 'min_child_weight': 190, 'eval_metric': 'logloss'}. Best is trial 24 with value: 0.81347003582333.\u001b[0m\n",
      "/home/tunguz/anaconda3/lib/python3.7/site-packages/xgboost/dask.py:884: RuntimeWarning: coroutine 'Client._wait_for_workers' was never awaited\n",
      "  client.wait_for_workers(n_workers)\n",
      "\u001b[32m[I 2022-11-22 14:04:52,957]\u001b[0m Trial 32 finished with value: 0.8125126778089198 and parameters: {'objective': 'binary:logistic', 'tree_method': 'gpu_hist', 'lambda': 0.2701220020623227, 'alpha': 0.00771358487762457, 'colsample_bytree': 0.7824474191010682, 'subsample': 0.7140683515077467, 'learning_rate': 0.014263094379759133, 'max_depth': 16, 'min_child_weight': 169, 'eval_metric': 'logloss'}. Best is trial 24 with value: 0.81347003582333.\u001b[0m\n",
      "/home/tunguz/anaconda3/lib/python3.7/site-packages/xgboost/dask.py:884: RuntimeWarning: coroutine 'Client._wait_for_workers' was never awaited\n",
      "  client.wait_for_workers(n_workers)\n",
      "\u001b[32m[I 2022-11-22 14:05:39,758]\u001b[0m Trial 33 finished with value: 0.8115988238384941 and parameters: {'objective': 'binary:logistic', 'tree_method': 'gpu_hist', 'lambda': 1.2034219031494762, 'alpha': 0.004355416152052909, 'colsample_bytree': 0.8541109783109098, 'subsample': 0.7546607772066708, 'learning_rate': 0.008524244964031157, 'max_depth': 13, 'min_child_weight': 200, 'eval_metric': 'logloss'}. Best is trial 24 with value: 0.81347003582333.\u001b[0m\n",
      "/home/tunguz/anaconda3/lib/python3.7/site-packages/xgboost/dask.py:884: RuntimeWarning: coroutine 'Client._wait_for_workers' was never awaited\n",
      "  client.wait_for_workers(n_workers)\n",
      "\u001b[32m[I 2022-11-22 14:06:50,537]\u001b[0m Trial 34 finished with value: 0.8098068012800493 and parameters: {'objective': 'binary:logistic', 'tree_method': 'gpu_hist', 'lambda': 0.08035783518039477, 'alpha': 0.020080029009706856, 'colsample_bytree': 0.6319682660071657, 'subsample': 0.9672643148095481, 'learning_rate': 0.030226415542558543, 'max_depth': 20, 'min_child_weight': 224, 'eval_metric': 'logloss'}. Best is trial 24 with value: 0.81347003582333.\u001b[0m\n",
      "/home/tunguz/anaconda3/lib/python3.7/site-packages/xgboost/dask.py:884: RuntimeWarning: coroutine 'Client._wait_for_workers' was never awaited\n",
      "  client.wait_for_workers(n_workers)\n",
      "\u001b[32m[I 2022-11-22 14:07:40,917]\u001b[0m Trial 35 finished with value: 0.8002438688648537 and parameters: {'objective': 'binary:logistic', 'tree_method': 'gpu_hist', 'lambda': 0.024879502440124917, 'alpha': 0.007711305087255549, 'colsample_bytree': 0.30992928333029857, 'subsample': 0.6431742909495333, 'learning_rate': 0.007544015070066551, 'max_depth': 12, 'min_child_weight': 144, 'eval_metric': 'logloss'}. Best is trial 24 with value: 0.81347003582333.\u001b[0m\n",
      "/home/tunguz/anaconda3/lib/python3.7/site-packages/xgboost/dask.py:884: RuntimeWarning: coroutine 'Client._wait_for_workers' was never awaited\n",
      "  client.wait_for_workers(n_workers)\n",
      "\u001b[32m[I 2022-11-22 14:08:26,074]\u001b[0m Trial 36 finished with value: 0.8126403527206137 and parameters: {'objective': 'binary:logistic', 'tree_method': 'gpu_hist', 'lambda': 0.9118766759844046, 'alpha': 3.9485320394820587, 'colsample_bytree': 0.8123000732376903, 'subsample': 0.6121726434527737, 'learning_rate': 0.019968457116655097, 'max_depth': 15, 'min_child_weight': 169, 'eval_metric': 'logloss'}. Best is trial 24 with value: 0.81347003582333.\u001b[0m\n",
      "/home/tunguz/anaconda3/lib/python3.7/site-packages/xgboost/dask.py:884: RuntimeWarning: coroutine 'Client._wait_for_workers' was never awaited\n",
      "  client.wait_for_workers(n_workers)\n",
      "\u001b[32m[I 2022-11-22 14:10:52,601]\u001b[0m Trial 37 finished with value: 0.812861264560158 and parameters: {'objective': 'binary:logistic', 'tree_method': 'gpu_hist', 'lambda': 0.0497930317151598, 'alpha': 0.0021840879574581444, 'colsample_bytree': 0.9407925517922018, 'subsample': 0.49328726407881873, 'learning_rate': 0.013438878553337776, 'max_depth': 22, 'min_child_weight': 87, 'eval_metric': 'logloss'}. Best is trial 24 with value: 0.81347003582333.\u001b[0m\n",
      "/home/tunguz/anaconda3/lib/python3.7/site-packages/xgboost/dask.py:884: RuntimeWarning: coroutine 'Client._wait_for_workers' was never awaited\n",
      "  client.wait_for_workers(n_workers)\n",
      "\u001b[32m[I 2022-11-22 14:14:18,700]\u001b[0m Trial 38 finished with value: 0.8117090840879034 and parameters: {'objective': 'binary:logistic', 'tree_method': 'gpu_hist', 'lambda': 0.040467821232119484, 'alpha': 0.0015615050101319668, 'colsample_bytree': 0.9504504999036658, 'subsample': 0.4985443840910491, 'learning_rate': 0.007396244213667105, 'max_depth': 23, 'min_child_weight': 96, 'eval_metric': 'logloss'}. Best is trial 24 with value: 0.81347003582333.\u001b[0m\n",
      "/home/tunguz/anaconda3/lib/python3.7/site-packages/xgboost/dask.py:884: RuntimeWarning: coroutine 'Client._wait_for_workers' was never awaited\n",
      "  client.wait_for_workers(n_workers)\n",
      "\u001b[32m[I 2022-11-22 14:19:31,220]\u001b[0m Trial 39 finished with value: 0.8019206660384344 and parameters: {'objective': 'binary:logistic', 'tree_method': 'gpu_hist', 'lambda': 0.019243426375600357, 'alpha': 0.0022527900465912696, 'colsample_bytree': 0.88352463925781, 'subsample': 0.5503781734369559, 'learning_rate': 0.0018616688160110557, 'max_depth': 22, 'min_child_weight': 58, 'eval_metric': 'logloss'}. Best is trial 24 with value: 0.81347003582333.\u001b[0m\n",
      "/home/tunguz/anaconda3/lib/python3.7/site-packages/xgboost/dask.py:884: RuntimeWarning: coroutine 'Client._wait_for_workers' was never awaited\n",
      "  client.wait_for_workers(n_workers)\n",
      "\u001b[32m[I 2022-11-22 14:26:55,331]\u001b[0m Trial 40 finished with value: 0.8095880255086321 and parameters: {'objective': 'binary:logistic', 'tree_method': 'gpu_hist', 'lambda': 0.0515867183156339, 'alpha': 0.01578413708003878, 'colsample_bytree': 0.9517515734812263, 'subsample': 0.4682215091971459, 'learning_rate': 0.01045900324820607, 'max_depth': 24, 'min_child_weight': 27, 'eval_metric': 'logloss'}. Best is trial 24 with value: 0.81347003582333.\u001b[0m\n",
      "/home/tunguz/anaconda3/lib/python3.7/site-packages/xgboost/dask.py:884: RuntimeWarning: coroutine 'Client._wait_for_workers' was never awaited\n",
      "  client.wait_for_workers(n_workers)\n",
      "\u001b[32m[I 2022-11-22 14:27:52,901]\u001b[0m Trial 41 finished with value: 0.8126456032086808 and parameters: {'objective': 'binary:logistic', 'tree_method': 'gpu_hist', 'lambda': 0.10039136427955726, 'alpha': 0.004643711105179693, 'colsample_bytree': 0.8547973657112994, 'subsample': 0.4436139028581131, 'learning_rate': 0.014584957816625357, 'max_depth': 19, 'min_child_weight': 169, 'eval_metric': 'logloss'}. Best is trial 24 with value: 0.81347003582333.\u001b[0m\n",
      "/home/tunguz/anaconda3/lib/python3.7/site-packages/xgboost/dask.py:884: RuntimeWarning: coroutine 'Client._wait_for_workers' was never awaited\n",
      "  client.wait_for_workers(n_workers)\n",
      "\u001b[32m[I 2022-11-22 14:29:27,247]\u001b[0m Trial 42 finished with value: 0.8118911798192371 and parameters: {'objective': 'binary:logistic', 'tree_method': 'gpu_hist', 'lambda': 0.1984886720947163, 'alpha': 0.009456183912668746, 'colsample_bytree': 0.7191212360943481, 'subsample': 0.5494066192140344, 'learning_rate': 0.01821881871159758, 'max_depth': 21, 'min_child_weight': 135, 'eval_metric': 'logloss'}. Best is trial 24 with value: 0.81347003582333.\u001b[0m\n",
      "/home/tunguz/anaconda3/lib/python3.7/site-packages/xgboost/dask.py:884: RuntimeWarning: coroutine 'Client._wait_for_workers' was never awaited\n",
      "  client.wait_for_workers(n_workers)\n",
      "\u001b[32m[I 2022-11-22 14:30:06,819]\u001b[0m Trial 43 finished with value: 0.8127863880346791 and parameters: {'objective': 'binary:logistic', 'tree_method': 'gpu_hist', 'lambda': 3.3993152884004796, 'alpha': 0.0027853092282227663, 'colsample_bytree': 0.993954037668076, 'subsample': 0.5851855783672187, 'learning_rate': 0.014513290000060625, 'max_depth': 14, 'min_child_weight': 198, 'eval_metric': 'logloss'}. Best is trial 24 with value: 0.81347003582333.\u001b[0m\n",
      "/home/tunguz/anaconda3/lib/python3.7/site-packages/xgboost/dask.py:884: RuntimeWarning: coroutine 'Client._wait_for_workers' was never awaited\n",
      "  client.wait_for_workers(n_workers)\n",
      "\u001b[32m[I 2022-11-22 14:31:02,472]\u001b[0m Trial 44 finished with value: 0.8120391962957252 and parameters: {'objective': 'binary:logistic', 'tree_method': 'gpu_hist', 'lambda': 4.091801431785263, 'alpha': 0.002733221947411323, 'colsample_bytree': 0.9991792819332155, 'subsample': 0.49348637591107963, 'learning_rate': 0.012368347707875163, 'max_depth': 13, 'min_child_weight': 70, 'eval_metric': 'logloss'}. Best is trial 24 with value: 0.81347003582333.\u001b[0m\n",
      "/home/tunguz/anaconda3/lib/python3.7/site-packages/xgboost/dask.py:884: RuntimeWarning: coroutine 'Client._wait_for_workers' was never awaited\n",
      "  client.wait_for_workers(n_workers)\n",
      "\u001b[32m[I 2022-11-22 14:31:08,456]\u001b[0m Trial 45 finished with value: 0.7922451416353399 and parameters: {'objective': 'binary:logistic', 'tree_method': 'gpu_hist', 'lambda': 3.0353179312316176, 'alpha': 0.0023877291622419645, 'colsample_bytree': 0.932714893530004, 'subsample': 0.5404657123705107, 'learning_rate': 0.0223636190615172, 'max_depth': 3, 'min_child_weight': 224, 'eval_metric': 'logloss'}. Best is trial 24 with value: 0.81347003582333.\u001b[0m\n",
      "/home/tunguz/anaconda3/lib/python3.7/site-packages/xgboost/dask.py:884: RuntimeWarning: coroutine 'Client._wait_for_workers' was never awaited\n",
      "  client.wait_for_workers(n_workers)\n",
      "\u001b[32m[I 2022-11-22 14:32:11,633]\u001b[0m Trial 46 finished with value: 0.8126110918484509 and parameters: {'objective': 'binary:logistic', 'tree_method': 'gpu_hist', 'lambda': 2.0255370985971495, 'alpha': 0.001271579577297484, 'colsample_bytree': 0.8819083225967301, 'subsample': 0.5811941084721993, 'learning_rate': 0.009257584943738677, 'max_depth': 18, 'min_child_weight': 193, 'eval_metric': 'logloss'}. Best is trial 24 with value: 0.81347003582333.\u001b[0m\n",
      "/home/tunguz/anaconda3/lib/python3.7/site-packages/xgboost/dask.py:884: RuntimeWarning: coroutine 'Client._wait_for_workers' was never awaited\n",
      "  client.wait_for_workers(n_workers)\n",
      "\u001b[32m[I 2022-11-22 14:36:12,885]\u001b[0m Trial 47 finished with value: 0.8104590602813426 and parameters: {'objective': 'binary:logistic', 'tree_method': 'gpu_hist', 'lambda': 6.718832171101102, 'alpha': 0.004266935660433971, 'colsample_bytree': 0.9910218132044782, 'subsample': 0.5981484091253559, 'learning_rate': 0.029419395130731617, 'max_depth': 24, 'min_child_weight': 215, 'eval_metric': 'logloss'}. Best is trial 24 with value: 0.81347003582333.\u001b[0m\n",
      "/home/tunguz/anaconda3/lib/python3.7/site-packages/xgboost/dask.py:884: RuntimeWarning: coroutine 'Client._wait_for_workers' was never awaited\n",
      "  client.wait_for_workers(n_workers)\n",
      "\u001b[32m[I 2022-11-22 14:36:54,925]\u001b[0m Trial 48 finished with value: 0.8118296007254935 and parameters: {'objective': 'binary:logistic', 'tree_method': 'gpu_hist', 'lambda': 4.988932653567812, 'alpha': 0.0010358447474811494, 'colsample_bytree': 0.5240734358451113, 'subsample': 0.45050470531770426, 'learning_rate': 0.01413716749032958, 'max_depth': 17, 'min_child_weight': 240, 'eval_metric': 'logloss'}. Best is trial 24 with value: 0.81347003582333.\u001b[0m\n",
      "/home/tunguz/anaconda3/lib/python3.7/site-packages/xgboost/dask.py:884: RuntimeWarning: coroutine 'Client._wait_for_workers' was never awaited\n",
      "  client.wait_for_workers(n_workers)\n",
      "\u001b[32m[I 2022-11-22 14:37:28,767]\u001b[0m Trial 49 finished with value: 0.8093706520414811 and parameters: {'objective': 'binary:logistic', 'tree_method': 'gpu_hist', 'lambda': 0.027991354772277186, 'alpha': 9.522998116961114, 'colsample_bytree': 0.9782617920570711, 'subsample': 0.5058539039606612, 'learning_rate': 0.006206661993068423, 'max_depth': 12, 'min_child_weight': 269, 'eval_metric': 'logloss'}. Best is trial 24 with value: 0.81347003582333.\u001b[0m\n",
      "/home/tunguz/anaconda3/lib/python3.7/site-packages/xgboost/dask.py:884: RuntimeWarning: coroutine 'Client._wait_for_workers' was never awaited\n",
      "  client.wait_for_workers(n_workers)\n",
      "\u001b[32m[I 2022-11-22 14:38:03,848]\u001b[0m Trial 50 finished with value: 0.8128324031816523 and parameters: {'objective': 'binary:logistic', 'tree_method': 'gpu_hist', 'lambda': 0.0028216760407938335, 'alpha': 0.048996207368034436, 'colsample_bytree': 0.9196943212940065, 'subsample': 0.40562976895203723, 'learning_rate': 0.01960069265159026, 'max_depth': 14, 'min_child_weight': 158, 'eval_metric': 'logloss'}. Best is trial 24 with value: 0.81347003582333.\u001b[0m\n",
      "/home/tunguz/anaconda3/lib/python3.7/site-packages/xgboost/dask.py:884: RuntimeWarning: coroutine 'Client._wait_for_workers' was never awaited\n",
      "  client.wait_for_workers(n_workers)\n",
      "\u001b[32m[I 2022-11-22 14:38:38,680]\u001b[0m Trial 51 finished with value: 0.8122545315299309 and parameters: {'objective': 'binary:logistic', 'tree_method': 'gpu_hist', 'lambda': 0.0022678720780496785, 'alpha': 0.045997365197685026, 'colsample_bytree': 0.9652799742220441, 'subsample': 0.41348790154726134, 'learning_rate': 0.019095316010850624, 'max_depth': 14, 'min_child_weight': 161, 'eval_metric': 'logloss'}. Best is trial 24 with value: 0.81347003582333.\u001b[0m\n",
      "/home/tunguz/anaconda3/lib/python3.7/site-packages/xgboost/dask.py:884: RuntimeWarning: coroutine 'Client._wait_for_workers' was never awaited\n",
      "  client.wait_for_workers(n_workers)\n",
      "\u001b[32m[I 2022-11-22 14:39:17,828]\u001b[0m Trial 52 finished with value: 0.8093248488707341 and parameters: {'objective': 'binary:logistic', 'tree_method': 'gpu_hist', 'lambda': 0.0013472089969765219, 'alpha': 0.2944837431714144, 'colsample_bytree': 0.9256226698137737, 'subsample': 0.475495215905093, 'learning_rate': 0.0462716633218976, 'max_depth': 16, 'min_child_weight': 140, 'eval_metric': 'logloss'}. Best is trial 24 with value: 0.81347003582333.\u001b[0m\n",
      "/home/tunguz/anaconda3/lib/python3.7/site-packages/xgboost/dask.py:884: RuntimeWarning: coroutine 'Client._wait_for_workers' was never awaited\n",
      "  client.wait_for_workers(n_workers)\n",
      "\u001b[32m[I 2022-11-22 14:39:48,026]\u001b[0m Trial 53 finished with value: 0.8119721955023471 and parameters: {'objective': 'binary:logistic', 'tree_method': 'gpu_hist', 'lambda': 0.0036924511662839573, 'alpha': 0.15568523165252707, 'colsample_bytree': 0.8388196199335517, 'subsample': 0.4389403283521084, 'learning_rate': 0.01161098719126929, 'max_depth': 11, 'min_child_weight': 124, 'eval_metric': 'logloss'}. Best is trial 24 with value: 0.81347003582333.\u001b[0m\n",
      "/home/tunguz/anaconda3/lib/python3.7/site-packages/xgboost/dask.py:884: RuntimeWarning: coroutine 'Client._wait_for_workers' was never awaited\n",
      "  client.wait_for_workers(n_workers)\n",
      "\u001b[32m[I 2022-11-22 14:40:24,983]\u001b[0m Trial 54 finished with value: 0.8125326280329883 and parameters: {'objective': 'binary:logistic', 'tree_method': 'gpu_hist', 'lambda': 0.008332405771679947, 'alpha': 0.022320266738508118, 'colsample_bytree': 0.8951078020891065, 'subsample': 0.5351102476040039, 'learning_rate': 0.015525976153805632, 'max_depth': 13, 'min_child_weight': 177, 'eval_metric': 'logloss'}. Best is trial 24 with value: 0.81347003582333.\u001b[0m\n",
      "/home/tunguz/anaconda3/lib/python3.7/site-packages/xgboost/dask.py:884: RuntimeWarning: coroutine 'Client._wait_for_workers' was never awaited\n",
      "  client.wait_for_workers(n_workers)\n",
      "\u001b[32m[I 2022-11-22 14:42:02,660]\u001b[0m Trial 55 finished with value: 0.8114986895303572 and parameters: {'objective': 'binary:logistic', 'tree_method': 'gpu_hist', 'lambda': 0.8546520981395569, 'alpha': 0.05144966571666593, 'colsample_bytree': 0.8717541591854606, 'subsample': 0.4003471124443342, 'learning_rate': 0.02467787103445028, 'max_depth': 22, 'min_child_weight': 154, 'eval_metric': 'logloss'}. Best is trial 24 with value: 0.81347003582333.\u001b[0m\n",
      "/home/tunguz/anaconda3/lib/python3.7/site-packages/xgboost/dask.py:884: RuntimeWarning: coroutine 'Client._wait_for_workers' was never awaited\n",
      "  client.wait_for_workers(n_workers)\n",
      "\u001b[32m[I 2022-11-22 14:42:31,394]\u001b[0m Trial 56 finished with value: 0.810884439497028 and parameters: {'objective': 'binary:logistic', 'tree_method': 'gpu_hist', 'lambda': 0.017809664548715392, 'alpha': 0.10418799040453805, 'colsample_bytree': 0.7604341724996344, 'subsample': 0.46212967107868486, 'learning_rate': 0.035324962265527525, 'max_depth': 14, 'min_child_weight': 208, 'eval_metric': 'logloss'}. Best is trial 24 with value: 0.81347003582333.\u001b[0m\n",
      "/home/tunguz/anaconda3/lib/python3.7/site-packages/xgboost/dask.py:884: RuntimeWarning: coroutine 'Client._wait_for_workers' was never awaited\n",
      "  client.wait_for_workers(n_workers)\n",
      "\u001b[32m[I 2022-11-22 14:42:47,173]\u001b[0m Trial 57 finished with value: 0.808360030923744 and parameters: {'objective': 'binary:logistic', 'tree_method': 'gpu_hist', 'lambda': 0.0645070418308643, 'alpha': 0.5789129765577572, 'colsample_bytree': 0.9368695470324374, 'subsample': 0.4897306761739903, 'learning_rate': 0.009616347629262105, 'max_depth': 8, 'min_child_weight': 200, 'eval_metric': 'logloss'}. Best is trial 24 with value: 0.81347003582333.\u001b[0m\n",
      "/home/tunguz/anaconda3/lib/python3.7/site-packages/xgboost/dask.py:884: RuntimeWarning: coroutine 'Client._wait_for_workers' was never awaited\n",
      "  client.wait_for_workers(n_workers)\n",
      "\u001b[32m[I 2022-11-22 14:43:51,068]\u001b[0m Trial 58 finished with value: 0.8121309493899911 and parameters: {'objective': 'binary:logistic', 'tree_method': 'gpu_hist', 'lambda': 2.1258998283996333, 'alpha': 1.0923247775588065, 'colsample_bytree': 0.7971690115220967, 'subsample': 0.5600393773913948, 'learning_rate': 0.02093778287879068, 'max_depth': 17, 'min_child_weight': 112, 'eval_metric': 'logloss'}. Best is trial 24 with value: 0.81347003582333.\u001b[0m\n",
      "/home/tunguz/anaconda3/lib/python3.7/site-packages/xgboost/dask.py:884: RuntimeWarning: coroutine 'Client._wait_for_workers' was never awaited\n",
      "  client.wait_for_workers(n_workers)\n",
      "\u001b[32m[I 2022-11-22 14:47:03,922]\u001b[0m Trial 59 finished with value: 0.8103515394170119 and parameters: {'objective': 'binary:logistic', 'tree_method': 'gpu_hist', 'lambda': 0.002017698026004236, 'alpha': 0.030922521838251338, 'colsample_bytree': 0.6138411613923587, 'subsample': 0.42810274329998954, 'learning_rate': 0.01263931319153808, 'max_depth': 19, 'min_child_weight': 28, 'eval_metric': 'logloss'}. Best is trial 24 with value: 0.81347003582333.\u001b[0m\n",
      "/home/tunguz/anaconda3/lib/python3.7/site-packages/xgboost/dask.py:884: RuntimeWarning: coroutine 'Client._wait_for_workers' was never awaited\n",
      "  client.wait_for_workers(n_workers)\n",
      "\u001b[32m[I 2022-11-22 14:47:12,427]\u001b[0m Trial 60 finished with value: 0.7977118780650132 and parameters: {'objective': 'binary:logistic', 'tree_method': 'gpu_hist', 'lambda': 0.3913780254632369, 'alpha': 0.011162824179534118, 'colsample_bytree': 0.6707056365426585, 'subsample': 0.5154280808623328, 'learning_rate': 0.008347285842779403, 'max_depth': 5, 'min_child_weight': 99, 'eval_metric': 'logloss'}. Best is trial 24 with value: 0.81347003582333.\u001b[0m\n",
      "/home/tunguz/anaconda3/lib/python3.7/site-packages/xgboost/dask.py:884: RuntimeWarning: coroutine 'Client._wait_for_workers' was never awaited\n",
      "  client.wait_for_workers(n_workers)\n",
      "\u001b[32m[I 2022-11-22 14:48:05,021]\u001b[0m Trial 61 finished with value: 0.8113684790568793 and parameters: {'objective': 'binary:logistic', 'tree_method': 'gpu_hist', 'lambda': 0.16483094011980098, 'alpha': 0.017952428658662797, 'colsample_bytree': 0.7043653628540665, 'subsample': 0.7976072394403237, 'learning_rate': 0.01615326854570667, 'max_depth': 15, 'min_child_weight': 179, 'eval_metric': 'logloss'}. Best is trial 24 with value: 0.81347003582333.\u001b[0m\n",
      "/home/tunguz/anaconda3/lib/python3.7/site-packages/xgboost/dask.py:884: RuntimeWarning: coroutine 'Client._wait_for_workers' was never awaited\n",
      "  client.wait_for_workers(n_workers)\n",
      "\u001b[32m[I 2022-11-22 14:48:57,244]\u001b[0m Trial 62 finished with value: 0.8126426681532396 and parameters: {'objective': 'binary:logistic', 'tree_method': 'gpu_hist', 'lambda': 0.28308830134012253, 'alpha': 0.005325857174048903, 'colsample_bytree': 0.666037365554789, 'subsample': 0.5908327846884194, 'learning_rate': 0.01687677712699653, 'max_depth': 16, 'min_child_weight': 161, 'eval_metric': 'logloss'}. Best is trial 24 with value: 0.81347003582333.\u001b[0m\n",
      "/home/tunguz/anaconda3/lib/python3.7/site-packages/xgboost/dask.py:884: RuntimeWarning: coroutine 'Client._wait_for_workers' was never awaited\n",
      "  client.wait_for_workers(n_workers)\n",
      "\u001b[32m[I 2022-11-22 14:49:28,568]\u001b[0m Trial 63 finished with value: 0.8118360578474642 and parameters: {'objective': 'binary:logistic', 'tree_method': 'gpu_hist', 'lambda': 0.10598856931762218, 'alpha': 0.0031652968756568194, 'colsample_bytree': 0.7649331332587994, 'subsample': 0.7342750889019726, 'learning_rate': 0.010764037603697933, 'max_depth': 11, 'min_child_weight': 198, 'eval_metric': 'logloss'}. Best is trial 24 with value: 0.81347003582333.\u001b[0m\n",
      "/home/tunguz/anaconda3/lib/python3.7/site-packages/xgboost/dask.py:884: RuntimeWarning: coroutine 'Client._wait_for_workers' was never awaited\n",
      "  client.wait_for_workers(n_workers)\n",
      "\u001b[32m[I 2022-11-22 14:50:13,739]\u001b[0m Trial 64 finished with value: 0.8124095187630921 and parameters: {'objective': 'binary:logistic', 'tree_method': 'gpu_hist', 'lambda': 0.003942645072582813, 'alpha': 0.0018151749993833566, 'colsample_bytree': 0.734970707643263, 'subsample': 0.6534732652392121, 'learning_rate': 0.012968299155491936, 'max_depth': 14, 'min_child_weight': 184, 'eval_metric': 'logloss'}. Best is trial 24 with value: 0.81347003582333.\u001b[0m\n",
      "/home/tunguz/anaconda3/lib/python3.7/site-packages/xgboost/dask.py:884: RuntimeWarning: coroutine 'Client._wait_for_workers' was never awaited\n",
      "  client.wait_for_workers(n_workers)\n",
      "\u001b[32m[I 2022-11-22 14:50:51,791]\u001b[0m Trial 65 finished with value: 0.8115190229422196 and parameters: {'objective': 'binary:logistic', 'tree_method': 'gpu_hist', 'lambda': 0.0633205549821851, 'alpha': 0.009139040897324882, 'colsample_bytree': 0.9155456264237205, 'subsample': 0.6810630871471541, 'learning_rate': 0.026496096832801408, 'max_depth': 13, 'min_child_weight': 147, 'eval_metric': 'logloss'}. Best is trial 24 with value: 0.81347003582333.\u001b[0m\n",
      "/home/tunguz/anaconda3/lib/python3.7/site-packages/xgboost/dask.py:884: RuntimeWarning: coroutine 'Client._wait_for_workers' was never awaited\n",
      "  client.wait_for_workers(n_workers)\n",
      "\u001b[32m[I 2022-11-22 14:52:03,879]\u001b[0m Trial 66 finished with value: 0.8108076144208537 and parameters: {'objective': 'binary:logistic', 'tree_method': 'gpu_hist', 'lambda': 0.005770980789513678, 'alpha': 0.00598794009093321, 'colsample_bytree': 0.8301723467918013, 'subsample': 0.9359438488657779, 'learning_rate': 0.019886630793404074, 'max_depth': 18, 'min_child_weight': 163, 'eval_metric': 'logloss'}. Best is trial 24 with value: 0.81347003582333.\u001b[0m\n",
      "/home/tunguz/anaconda3/lib/python3.7/site-packages/xgboost/dask.py:884: RuntimeWarning: coroutine 'Client._wait_for_workers' was never awaited\n",
      "  client.wait_for_workers(n_workers)\n",
      "\u001b[32m[I 2022-11-22 14:53:27,384]\u001b[0m Trial 67 finished with value: 0.8106486077923243 and parameters: {'objective': 'binary:logistic', 'tree_method': 'gpu_hist', 'lambda': 0.5992778807505902, 'alpha': 0.0033747665219930837, 'colsample_bytree': 0.8042188048338899, 'subsample': 0.5252892610286987, 'learning_rate': 0.03219615192980249, 'max_depth': 21, 'min_child_weight': 128, 'eval_metric': 'logloss'}. Best is trial 24 with value: 0.81347003582333.\u001b[0m\n",
      "/home/tunguz/anaconda3/lib/python3.7/site-packages/xgboost/dask.py:884: RuntimeWarning: coroutine 'Client._wait_for_workers' was never awaited\n",
      "  client.wait_for_workers(n_workers)\n",
      "\u001b[32m[I 2022-11-22 14:54:23,730]\u001b[0m Trial 68 finished with value: 0.8109782878947616 and parameters: {'objective': 'binary:logistic', 'tree_method': 'gpu_hist', 'lambda': 0.010039100026194313, 'alpha': 0.08614694053917263, 'colsample_bytree': 0.9662527380147938, 'subsample': 0.8483863166071491, 'learning_rate': 0.013938356743488771, 'max_depth': 15, 'min_child_weight': 176, 'eval_metric': 'logloss'}. Best is trial 24 with value: 0.81347003582333.\u001b[0m\n",
      "/home/tunguz/anaconda3/lib/python3.7/site-packages/xgboost/dask.py:884: RuntimeWarning: coroutine 'Client._wait_for_workers' was never awaited\n",
      "  client.wait_for_workers(n_workers)\n",
      "\u001b[32m[I 2022-11-22 14:54:55,101]\u001b[0m Trial 69 finished with value: 0.8124510171858585 and parameters: {'objective': 'binary:logistic', 'tree_method': 'gpu_hist', 'lambda': 0.41304520181225174, 'alpha': 0.026059933822065225, 'colsample_bytree': 0.7492121649018643, 'subsample': 0.6322417944133056, 'learning_rate': 0.01601882795411006, 'max_depth': 12, 'min_child_weight': 191, 'eval_metric': 'logloss'}. Best is trial 24 with value: 0.81347003582333.\u001b[0m\n",
      "/home/tunguz/anaconda3/lib/python3.7/site-packages/xgboost/dask.py:884: RuntimeWarning: coroutine 'Client._wait_for_workers' was never awaited\n",
      "  client.wait_for_workers(n_workers)\n",
      "\u001b[32m[I 2022-11-22 15:02:32,220]\u001b[0m Trial 70 finished with value: 0.8121929850479145 and parameters: {'objective': 'binary:logistic', 'tree_method': 'gpu_hist', 'lambda': 0.014123527937492589, 'alpha': 0.01448123537923584, 'colsample_bytree': 0.8650494402580616, 'subsample': 0.5658597042534608, 'learning_rate': 0.006873394611253364, 'max_depth': 25, 'min_child_weight': 235, 'eval_metric': 'logloss'}. Best is trial 24 with value: 0.81347003582333.\u001b[0m\n",
      "/home/tunguz/anaconda3/lib/python3.7/site-packages/xgboost/dask.py:884: RuntimeWarning: coroutine 'Client._wait_for_workers' was never awaited\n",
      "  client.wait_for_workers(n_workers)\n",
      "\u001b[32m[I 2022-11-22 15:03:23,261]\u001b[0m Trial 71 finished with value: 0.812928257200604 and parameters: {'objective': 'binary:logistic', 'tree_method': 'gpu_hist', 'lambda': 1.1156350654106826, 'alpha': 0.040742964118798, 'colsample_bytree': 0.7871534338428509, 'subsample': 0.45704070481178205, 'learning_rate': 0.011928855460604912, 'max_depth': 16, 'min_child_weight': 153, 'eval_metric': 'logloss'}. Best is trial 24 with value: 0.81347003582333.\u001b[0m\n",
      "/home/tunguz/anaconda3/lib/python3.7/site-packages/xgboost/dask.py:884: RuntimeWarning: coroutine 'Client._wait_for_workers' was never awaited\n",
      "  client.wait_for_workers(n_workers)\n",
      "\u001b[32m[I 2022-11-22 15:04:21,024]\u001b[0m Trial 72 finished with value: 0.8114358793439147 and parameters: {'objective': 'binary:logistic', 'tree_method': 'gpu_hist', 'lambda': 0.9269346822489093, 'alpha': 0.03856330918165744, 'colsample_bytree': 0.6952441356335632, 'subsample': 0.4608419513218932, 'learning_rate': 0.01103096835782616, 'max_depth': 17, 'min_child_weight': 151, 'eval_metric': 'logloss'}. Best is trial 24 with value: 0.81347003582333.\u001b[0m\n",
      "/home/tunguz/anaconda3/lib/python3.7/site-packages/xgboost/dask.py:884: RuntimeWarning: coroutine 'Client._wait_for_workers' was never awaited\n",
      "  client.wait_for_workers(n_workers)\n",
      "\u001b[32m[I 2022-11-22 15:05:00,660]\u001b[0m Trial 73 finished with value: 0.8132091664651264 and parameters: {'objective': 'binary:logistic', 'tree_method': 'gpu_hist', 'lambda': 9.593244730397767, 'alpha': 0.12805015504086337, 'colsample_bytree': 0.8354214179753097, 'subsample': 0.4932238757867241, 'learning_rate': 0.017380046652152703, 'max_depth': 16, 'min_child_weight': 215, 'eval_metric': 'logloss'}. Best is trial 24 with value: 0.81347003582333.\u001b[0m\n",
      "/home/tunguz/anaconda3/lib/python3.7/site-packages/xgboost/dask.py:884: RuntimeWarning: coroutine 'Client._wait_for_workers' was never awaited\n",
      "  client.wait_for_workers(n_workers)\n",
      "\u001b[32m[I 2022-11-22 15:09:01,634]\u001b[0m Trial 74 finished with value: 0.8127155227516366 and parameters: {'objective': 'binary:logistic', 'tree_method': 'gpu_hist', 'lambda': 7.650925615723341, 'alpha': 0.4690268320270332, 'colsample_bytree': 0.7775786195094256, 'subsample': 0.49120343926520105, 'learning_rate': 0.01807119845398398, 'max_depth': 24, 'min_child_weight': 218, 'eval_metric': 'logloss'}. Best is trial 24 with value: 0.81347003582333.\u001b[0m\n",
      "/home/tunguz/anaconda3/lib/python3.7/site-packages/xgboost/dask.py:884: RuntimeWarning: coroutine 'Client._wait_for_workers' was never awaited\n",
      "  client.wait_for_workers(n_workers)\n",
      "\u001b[32m[I 2022-11-22 15:09:46,990]\u001b[0m Trial 75 finished with value: 0.8124935917956199 and parameters: {'objective': 'binary:logistic', 'tree_method': 'gpu_hist', 'lambda': 9.692490816699896, 'alpha': 0.12745299866931115, 'colsample_bytree': 0.8388467863891517, 'subsample': 0.42628102250123673, 'learning_rate': 0.008737273814743964, 'max_depth': 16, 'min_child_weight': 207, 'eval_metric': 'logloss'}. Best is trial 24 with value: 0.81347003582333.\u001b[0m\n",
      "/home/tunguz/anaconda3/lib/python3.7/site-packages/xgboost/dask.py:884: RuntimeWarning: coroutine 'Client._wait_for_workers' was never awaited\n",
      "  client.wait_for_workers(n_workers)\n",
      "\u001b[32m[I 2022-11-22 15:12:56,916]\u001b[0m Trial 76 finished with value: 0.8105957115709277 and parameters: {'objective': 'binary:logistic', 'tree_method': 'gpu_hist', 'lambda': 4.376206468592157, 'alpha': 0.06264587578239432, 'colsample_bytree': 0.9048914081326659, 'subsample': 0.4762209262771186, 'learning_rate': 0.023364567964104282, 'max_depth': 14, 'min_child_weight': 2, 'eval_metric': 'logloss'}. Best is trial 24 with value: 0.81347003582333.\u001b[0m\n",
      "/home/tunguz/anaconda3/lib/python3.7/site-packages/xgboost/dask.py:884: RuntimeWarning: coroutine 'Client._wait_for_workers' was never awaited\n",
      "  client.wait_for_workers(n_workers)\n",
      "\u001b[32m[I 2022-11-22 15:13:45,390]\u001b[0m Trial 77 finished with value: 0.8133333274632224 and parameters: {'objective': 'binary:logistic', 'tree_method': 'gpu_hist', 'lambda': 2.6515181656132065, 'alpha': 0.2689443910926634, 'colsample_bytree': 0.8161642958262616, 'subsample': 0.5161098648810855, 'learning_rate': 0.012848429969320037, 'max_depth': 18, 'min_child_weight': 229, 'eval_metric': 'logloss'}. Best is trial 24 with value: 0.81347003582333.\u001b[0m\n",
      "/home/tunguz/anaconda3/lib/python3.7/site-packages/xgboost/dask.py:884: RuntimeWarning: coroutine 'Client._wait_for_workers' was never awaited\n",
      "  client.wait_for_workers(n_workers)\n",
      "\u001b[32m[I 2022-11-22 15:14:46,366]\u001b[0m Trial 78 finished with value: 0.8127564178574513 and parameters: {'objective': 'binary:logistic', 'tree_method': 'gpu_hist', 'lambda': 2.246481573782183, 'alpha': 0.24750528447587508, 'colsample_bytree': 0.8227025026329727, 'subsample': 0.5069614409926716, 'learning_rate': 0.010064462253707086, 'max_depth': 20, 'min_child_weight': 255, 'eval_metric': 'logloss'}. Best is trial 24 with value: 0.81347003582333.\u001b[0m\n",
      "/home/tunguz/anaconda3/lib/python3.7/site-packages/xgboost/dask.py:884: RuntimeWarning: coroutine 'Client._wait_for_workers' was never awaited\n",
      "  client.wait_for_workers(n_workers)\n",
      "\u001b[32m[I 2022-11-22 15:16:12,268]\u001b[0m Trial 79 finished with value: 0.8098210199930759 and parameters: {'objective': 'binary:logistic', 'tree_method': 'gpu_hist', 'lambda': 1.3603722568618144, 'alpha': 0.8936223747694735, 'colsample_bytree': 0.7787002420621774, 'subsample': 0.45239786243171753, 'learning_rate': 0.004789619231752485, 'max_depth': 18, 'min_child_weight': 138, 'eval_metric': 'logloss'}. Best is trial 24 with value: 0.81347003582333.\u001b[0m\n",
      "/home/tunguz/anaconda3/lib/python3.7/site-packages/xgboost/dask.py:884: RuntimeWarning: coroutine 'Client._wait_for_workers' was never awaited\n",
      "  client.wait_for_workers(n_workers)\n",
      "\u001b[32m[I 2022-11-22 15:17:02,111]\u001b[0m Trial 80 finished with value: 0.812992322938541 and parameters: {'objective': 'binary:logistic', 'tree_method': 'gpu_hist', 'lambda': 1.5245178968795678, 'alpha': 0.3629404453799978, 'colsample_bytree': 0.8073825861140694, 'subsample': 0.43378000840391706, 'learning_rate': 0.012785865362120596, 'max_depth': 19, 'min_child_weight': 229, 'eval_metric': 'logloss'}. Best is trial 24 with value: 0.81347003582333.\u001b[0m\n",
      "/home/tunguz/anaconda3/lib/python3.7/site-packages/xgboost/dask.py:884: RuntimeWarning: coroutine 'Client._wait_for_workers' was never awaited\n",
      "  client.wait_for_workers(n_workers)\n",
      "\u001b[32m[I 2022-11-22 15:17:48,223]\u001b[0m Trial 81 finished with value: 0.8128846308626427 and parameters: {'objective': 'binary:logistic', 'tree_method': 'gpu_hist', 'lambda': 5.502601468821154, 'alpha': 0.34220550276354345, 'colsample_bytree': 0.8056881431015971, 'subsample': 0.4318478997301699, 'learning_rate': 0.012804812288307493, 'max_depth': 19, 'min_child_weight': 263, 'eval_metric': 'logloss'}. Best is trial 24 with value: 0.81347003582333.\u001b[0m\n",
      "/home/tunguz/anaconda3/lib/python3.7/site-packages/xgboost/dask.py:884: RuntimeWarning: coroutine 'Client._wait_for_workers' was never awaited\n",
      "  client.wait_for_workers(n_workers)\n",
      "\u001b[32m[I 2022-11-22 15:18:33,747]\u001b[0m Trial 82 finished with value: 0.8131172503122247 and parameters: {'objective': 'binary:logistic', 'tree_method': 'gpu_hist', 'lambda': 6.309975348081569, 'alpha': 0.2826277684664812, 'colsample_bytree': 0.790321612405909, 'subsample': 0.4316877654911093, 'learning_rate': 0.01265480688705594, 'max_depth': 19, 'min_child_weight': 272, 'eval_metric': 'logloss'}. Best is trial 24 with value: 0.81347003582333.\u001b[0m\n",
      "/home/tunguz/anaconda3/lib/python3.7/site-packages/xgboost/dask.py:884: RuntimeWarning: coroutine 'Client._wait_for_workers' was never awaited\n",
      "  client.wait_for_workers(n_workers)\n",
      "\u001b[32m[I 2022-11-22 15:19:19,979]\u001b[0m Trial 83 finished with value: 0.8130919925295665 and parameters: {'objective': 'binary:logistic', 'tree_method': 'gpu_hist', 'lambda': 5.838004197701863, 'alpha': 0.35800132481200675, 'colsample_bytree': 0.8076201290384157, 'subsample': 0.43075221253684753, 'learning_rate': 0.011863170230887338, 'max_depth': 19, 'min_child_weight': 270, 'eval_metric': 'logloss'}. Best is trial 24 with value: 0.81347003582333.\u001b[0m\n",
      "/home/tunguz/anaconda3/lib/python3.7/site-packages/xgboost/dask.py:884: RuntimeWarning: coroutine 'Client._wait_for_workers' was never awaited\n",
      "  client.wait_for_workers(n_workers)\n",
      "\u001b[32m[I 2022-11-22 15:20:11,608]\u001b[0m Trial 84 finished with value: 0.813089774932122 and parameters: {'objective': 'binary:logistic', 'tree_method': 'gpu_hist', 'lambda': 2.5966881799016788, 'alpha': 0.46087381286757695, 'colsample_bytree': 0.7854053795755743, 'subsample': 0.4158194750847949, 'learning_rate': 0.011667079092274693, 'max_depth': 20, 'min_child_weight': 290, 'eval_metric': 'logloss'}. Best is trial 24 with value: 0.81347003582333.\u001b[0m\n",
      "/home/tunguz/anaconda3/lib/python3.7/site-packages/xgboost/dask.py:884: RuntimeWarning: coroutine 'Client._wait_for_workers' was never awaited\n",
      "  client.wait_for_workers(n_workers)\n",
      "\u001b[32m[I 2022-11-22 15:21:18,780]\u001b[0m Trial 85 finished with value: 0.811667104642162 and parameters: {'objective': 'binary:logistic', 'tree_method': 'gpu_hist', 'lambda': 2.7779347594503063, 'alpha': 0.41988035249678457, 'colsample_bytree': 0.7403509550462063, 'subsample': 0.4116867559482539, 'learning_rate': 0.009478205866121836, 'max_depth': 21, 'min_child_weight': 286, 'eval_metric': 'logloss'}. Best is trial 24 with value: 0.81347003582333.\u001b[0m\n",
      "/home/tunguz/anaconda3/lib/python3.7/site-packages/xgboost/dask.py:884: RuntimeWarning: coroutine 'Client._wait_for_workers' was never awaited\n",
      "  client.wait_for_workers(n_workers)\n",
      "\u001b[32m[I 2022-11-22 15:22:04,359]\u001b[0m Trial 86 finished with value: 0.8119219000661887 and parameters: {'objective': 'binary:logistic', 'tree_method': 'gpu_hist', 'lambda': 6.223795855975593, 'alpha': 0.20097015710640997, 'colsample_bytree': 0.8141058242766038, 'subsample': 0.4791543583001737, 'learning_rate': 0.008242189866635562, 'max_depth': 18, 'min_child_weight': 292, 'eval_metric': 'logloss'}. Best is trial 24 with value: 0.81347003582333.\u001b[0m\n",
      "/home/tunguz/anaconda3/lib/python3.7/site-packages/xgboost/dask.py:884: RuntimeWarning: coroutine 'Client._wait_for_workers' was never awaited\n",
      "  client.wait_for_workers(n_workers)\n",
      "\u001b[32m[I 2022-11-22 15:22:58,777]\u001b[0m Trial 87 finished with value: 0.8125481267563046 and parameters: {'objective': 'binary:logistic', 'tree_method': 'gpu_hist', 'lambda': 1.6732531064943126, 'alpha': 1.7220947748576474, 'colsample_bytree': 0.8454330402066095, 'subsample': 0.4425115110355875, 'learning_rate': 0.010931579021329903, 'max_depth': 20, 'min_child_weight': 274, 'eval_metric': 'logloss'}. Best is trial 24 with value: 0.81347003582333.\u001b[0m\n",
      "/home/tunguz/anaconda3/lib/python3.7/site-packages/xgboost/dask.py:884: RuntimeWarning: coroutine 'Client._wait_for_workers' was never awaited\n",
      "  client.wait_for_workers(n_workers)\n",
      "\u001b[32m[I 2022-11-22 15:23:47,450]\u001b[0m Trial 88 finished with value: 0.8137274157267315 and parameters: {'objective': 'binary:logistic', 'tree_method': 'gpu_hist', 'lambda': 8.00643243327783, 'alpha': 0.7588721829649899, 'colsample_bytree': 0.7702336971805667, 'subsample': 0.42082150540766544, 'learning_rate': 0.015396525028803423, 'max_depth': 20, 'min_child_weight': 299, 'eval_metric': 'logloss'}. Best is trial 88 with value: 0.8137274157267315.\u001b[0m\n",
      "/home/tunguz/anaconda3/lib/python3.7/site-packages/xgboost/dask.py:884: RuntimeWarning: coroutine 'Client._wait_for_workers' was never awaited\n",
      "  client.wait_for_workers(n_workers)\n",
      "\u001b[32m[I 2022-11-22 15:24:43,864]\u001b[0m Trial 89 finished with value: 0.8110582681555356 and parameters: {'objective': 'binary:logistic', 'tree_method': 'gpu_hist', 'lambda': 7.946699345696593, 'alpha': 0.8729588339447107, 'colsample_bytree': 0.766235567705932, 'subsample': 0.4188283336248871, 'learning_rate': 0.007050616992772538, 'max_depth': 20, 'min_child_weight': 281, 'eval_metric': 'logloss'}. Best is trial 88 with value: 0.8137274157267315.\u001b[0m\n",
      "/home/tunguz/anaconda3/lib/python3.7/site-packages/xgboost/dask.py:884: RuntimeWarning: coroutine 'Client._wait_for_workers' was never awaited\n",
      "  client.wait_for_workers(n_workers)\n",
      "\u001b[32m[I 2022-11-22 15:25:30,087]\u001b[0m Trial 90 finished with value: 0.8136527185657519 and parameters: {'objective': 'binary:logistic', 'tree_method': 'gpu_hist', 'lambda': 4.296829821403819, 'alpha': 0.4873896113697424, 'colsample_bytree': 0.8249661040238374, 'subsample': 0.4355649356713571, 'learning_rate': 0.0153815620274615, 'max_depth': 19, 'min_child_weight': 247, 'eval_metric': 'logloss'}. Best is trial 88 with value: 0.8137274157267315.\u001b[0m\n",
      "/home/tunguz/anaconda3/lib/python3.7/site-packages/xgboost/dask.py:884: RuntimeWarning: coroutine 'Client._wait_for_workers' was never awaited\n",
      "  client.wait_for_workers(n_workers)\n",
      "\u001b[32m[I 2022-11-22 15:26:13,827]\u001b[0m Trial 91 finished with value: 0.8134588336950626 and parameters: {'objective': 'binary:logistic', 'tree_method': 'gpu_hist', 'lambda': 3.615742524984553, 'alpha': 0.528266652338191, 'colsample_bytree': 0.8609798990441446, 'subsample': 0.4254553204265967, 'learning_rate': 0.01522569760968473, 'max_depth': 19, 'min_child_weight': 298, 'eval_metric': 'logloss'}. Best is trial 88 with value: 0.8137274157267315.\u001b[0m\n",
      "/home/tunguz/anaconda3/lib/python3.7/site-packages/xgboost/dask.py:884: RuntimeWarning: coroutine 'Client._wait_for_workers' was never awaited\n",
      "  client.wait_for_workers(n_workers)\n",
      "\u001b[32m[I 2022-11-22 15:26:55,290]\u001b[0m Trial 92 finished with value: 0.8137903563600826 and parameters: {'objective': 'binary:logistic', 'tree_method': 'gpu_hist', 'lambda': 4.5618476089967706, 'alpha': 0.6712452594753081, 'colsample_bytree': 0.8623059161862144, 'subsample': 0.41952771932175126, 'learning_rate': 0.015177390288165763, 'max_depth': 19, 'min_child_weight': 300, 'eval_metric': 'logloss'}. Best is trial 92 with value: 0.8137903563600826.\u001b[0m\n",
      "/home/tunguz/anaconda3/lib/python3.7/site-packages/xgboost/dask.py:884: RuntimeWarning: coroutine 'Client._wait_for_workers' was never awaited\n",
      "  client.wait_for_workers(n_workers)\n",
      "\u001b[32m[I 2022-11-22 15:27:31,124]\u001b[0m Trial 93 finished with value: 0.8132325735322701 and parameters: {'objective': 'binary:logistic', 'tree_method': 'gpu_hist', 'lambda': 3.8384107630620643, 'alpha': 0.5565383645372546, 'colsample_bytree': 0.8627391714231664, 'subsample': 0.46887303194464336, 'learning_rate': 0.015240046739622582, 'max_depth': 17, 'min_child_weight': 298, 'eval_metric': 'logloss'}. Best is trial 92 with value: 0.8137903563600826.\u001b[0m\n",
      "/home/tunguz/anaconda3/lib/python3.7/site-packages/xgboost/dask.py:884: RuntimeWarning: coroutine 'Client._wait_for_workers' was never awaited\n",
      "  client.wait_for_workers(n_workers)\n",
      "\u001b[32m[I 2022-11-22 15:28:04,852]\u001b[0m Trial 94 finished with value: 0.812264143836501 and parameters: {'objective': 'binary:logistic', 'tree_method': 'gpu_hist', 'lambda': 3.949976675196094, 'alpha': 0.5808527701636653, 'colsample_bytree': 0.8644960502883224, 'subsample': 0.474631737441174, 'learning_rate': 0.02168640938403757, 'max_depth': 17, 'min_child_weight': 300, 'eval_metric': 'logloss'}. Best is trial 92 with value: 0.8137903563600826.\u001b[0m\n",
      "/home/tunguz/anaconda3/lib/python3.7/site-packages/xgboost/dask.py:884: RuntimeWarning: coroutine 'Client._wait_for_workers' was never awaited\n",
      "  client.wait_for_workers(n_workers)\n",
      "\u001b[32m[I 2022-11-22 15:28:44,169]\u001b[0m Trial 95 finished with value: 0.8128718063009509 and parameters: {'objective': 'binary:logistic', 'tree_method': 'gpu_hist', 'lambda': 4.768446404857554, 'alpha': 0.26790160222823883, 'colsample_bytree': 0.8783674685831585, 'subsample': 0.4518411186800632, 'learning_rate': 0.015603808280002022, 'max_depth': 18, 'min_child_weight': 278, 'eval_metric': 'logloss'}. Best is trial 92 with value: 0.8137903563600826.\u001b[0m\n",
      "/home/tunguz/anaconda3/lib/python3.7/site-packages/xgboost/dask.py:884: RuntimeWarning: coroutine 'Client._wait_for_workers' was never awaited\n",
      "  client.wait_for_workers(n_workers)\n",
      "\u001b[32m[I 2022-11-22 15:29:23,707]\u001b[0m Trial 96 finished with value: 0.8128619167947002 and parameters: {'objective': 'binary:logistic', 'tree_method': 'gpu_hist', 'lambda': 3.6471184654196342, 'alpha': 0.886231847056522, 'colsample_bytree': 0.8953373285836076, 'subsample': 0.5076704424446329, 'learning_rate': 0.017977509048014845, 'max_depth': 17, 'min_child_weight': 249, 'eval_metric': 'logloss'}. Best is trial 92 with value: 0.8137903563600826.\u001b[0m\n",
      "/home/tunguz/anaconda3/lib/python3.7/site-packages/xgboost/dask.py:884: RuntimeWarning: coroutine 'Client._wait_for_workers' was never awaited\n",
      "  client.wait_for_workers(n_workers)\n",
      "\u001b[32m[I 2022-11-22 15:30:01,654]\u001b[0m Trial 97 finished with value: 0.8132195125355566 and parameters: {'objective': 'binary:logistic', 'tree_method': 'gpu_hist', 'lambda': 9.663266070475203, 'alpha': 0.694714017414806, 'colsample_bytree': 0.8509296228426317, 'subsample': 0.4603732712937489, 'learning_rate': 0.01653734724421725, 'max_depth': 18, 'min_child_weight': 294, 'eval_metric': 'logloss'}. Best is trial 92 with value: 0.8137903563600826.\u001b[0m\n",
      "/home/tunguz/anaconda3/lib/python3.7/site-packages/xgboost/dask.py:884: RuntimeWarning: coroutine 'Client._wait_for_workers' was never awaited\n",
      "  client.wait_for_workers(n_workers)\n",
      "\u001b[32m[I 2022-11-22 15:31:05,123]\u001b[0m Trial 98 finished with value: 0.8133131652629274 and parameters: {'objective': 'binary:logistic', 'tree_method': 'gpu_hist', 'lambda': 8.411669474621581, 'alpha': 1.7162737335218154, 'colsample_bytree': 0.8486929028154961, 'subsample': 0.40098189891634495, 'learning_rate': 0.014680807373549591, 'max_depth': 21, 'min_child_weight': 294, 'eval_metric': 'logloss'}. Best is trial 92 with value: 0.8137903563600826.\u001b[0m\n",
      "/home/tunguz/anaconda3/lib/python3.7/site-packages/xgboost/dask.py:884: RuntimeWarning: coroutine 'Client._wait_for_workers' was never awaited\n",
      "  client.wait_for_workers(n_workers)\n",
      "\u001b[32m[I 2022-11-22 15:32:03,945]\u001b[0m Trial 99 finished with value: 0.812248416831095 and parameters: {'objective': 'binary:logistic', 'tree_method': 'gpu_hist', 'lambda': 9.888777613390639, 'alpha': 1.7589581924877333, 'colsample_bytree': 0.8574735313381756, 'subsample': 0.4038821828117212, 'learning_rate': 0.025058059088392502, 'max_depth': 21, 'min_child_weight': 293, 'eval_metric': 'logloss'}. Best is trial 92 with value: 0.8137903563600826.\u001b[0m\n",
      "/home/tunguz/anaconda3/lib/python3.7/site-packages/xgboost/dask.py:884: RuntimeWarning: coroutine 'Client._wait_for_workers' was never awaited\n",
      "  client.wait_for_workers(n_workers)\n",
      "\u001b[32m[I 2022-11-22 15:32:42,461]\u001b[0m Trial 100 finished with value: 0.8134606925635087 and parameters: {'objective': 'binary:logistic', 'tree_method': 'gpu_hist', 'lambda': 8.877804723825653, 'alpha': 0.7175566464586274, 'colsample_bytree': 0.8301353229952018, 'subsample': 0.4437762513788939, 'learning_rate': 0.015081367237777536, 'max_depth': 18, 'min_child_weight': 288, 'eval_metric': 'logloss'}. Best is trial 92 with value: 0.8137903563600826.\u001b[0m\n",
      "/home/tunguz/anaconda3/lib/python3.7/site-packages/xgboost/dask.py:884: RuntimeWarning: coroutine 'Client._wait_for_workers' was never awaited\n",
      "  client.wait_for_workers(n_workers)\n",
      "\u001b[32m[I 2022-11-22 15:33:20,761]\u001b[0m Trial 101 finished with value: 0.8130452925363236 and parameters: {'objective': 'binary:logistic', 'tree_method': 'gpu_hist', 'lambda': 8.12904633642085, 'alpha': 0.7872208937437735, 'colsample_bytree': 0.8325292823197833, 'subsample': 0.46342755624548904, 'learning_rate': 0.015212188981369876, 'max_depth': 18, 'min_child_weight': 300, 'eval_metric': 'logloss'}. Best is trial 92 with value: 0.8137903563600826.\u001b[0m\n",
      "/home/tunguz/anaconda3/lib/python3.7/site-packages/xgboost/dask.py:884: RuntimeWarning: coroutine 'Client._wait_for_workers' was never awaited\n",
      "  client.wait_for_workers(n_workers)\n",
      "\u001b[32m[I 2022-11-22 15:33:55,807]\u001b[0m Trial 102 finished with value: 0.8129247351340746 and parameters: {'objective': 'binary:logistic', 'tree_method': 'gpu_hist', 'lambda': 5.184263812206792, 'alpha': 1.2078582797026478, 'colsample_bytree': 0.892130871131444, 'subsample': 0.44349732375926304, 'learning_rate': 0.017354856083891486, 'max_depth': 17, 'min_child_weight': 285, 'eval_metric': 'logloss'}. Best is trial 92 with value: 0.8137903563600826.\u001b[0m\n",
      "/home/tunguz/anaconda3/lib/python3.7/site-packages/xgboost/dask.py:884: RuntimeWarning: coroutine 'Client._wait_for_workers' was never awaited\n",
      "  client.wait_for_workers(n_workers)\n",
      "\u001b[32m[I 2022-11-22 15:34:37,998]\u001b[0m Trial 103 finished with value: 0.8127507841815904 and parameters: {'objective': 'binary:logistic', 'tree_method': 'gpu_hist', 'lambda': 7.235945028621438, 'alpha': 0.6987614261829505, 'colsample_bytree': 0.8508003639635984, 'subsample': 0.48833928604337634, 'learning_rate': 0.020619320311374114, 'max_depth': 19, 'min_child_weight': 295, 'eval_metric': 'logloss'}. Best is trial 92 with value: 0.8137903563600826.\u001b[0m\n",
      "/home/tunguz/anaconda3/lib/python3.7/site-packages/xgboost/dask.py:884: RuntimeWarning: coroutine 'Client._wait_for_workers' was never awaited\n",
      "  client.wait_for_workers(n_workers)\n",
      "\u001b[32m[I 2022-11-22 15:35:17,883]\u001b[0m Trial 104 finished with value: 0.8133636482165169 and parameters: {'objective': 'binary:logistic', 'tree_method': 'gpu_hist', 'lambda': 3.2440901207554846, 'alpha': 2.5369301406002225, 'colsample_bytree': 0.8258400672688886, 'subsample': 0.4212301665179686, 'learning_rate': 0.014707627378313153, 'max_depth': 18, 'min_child_weight': 261, 'eval_metric': 'logloss'}. Best is trial 92 with value: 0.8137903563600826.\u001b[0m\n",
      "/home/tunguz/anaconda3/lib/python3.7/site-packages/xgboost/dask.py:884: RuntimeWarning: coroutine 'Client._wait_for_workers' was never awaited\n",
      "  client.wait_for_workers(n_workers)\n",
      "\u001b[32m[I 2022-11-22 15:36:12,803]\u001b[0m Trial 105 finished with value: 0.8138137715801582 and parameters: {'objective': 'binary:logistic', 'tree_method': 'gpu_hist', 'lambda': 3.5497022292680778, 'alpha': 3.1527108329161275, 'colsample_bytree': 0.8674959326856344, 'subsample': 0.4233078167832187, 'learning_rate': 0.014403710834005655, 'max_depth': 20, 'min_child_weight': 262, 'eval_metric': 'logloss'}. Best is trial 105 with value: 0.8138137715801582.\u001b[0m\n",
      "/home/tunguz/anaconda3/lib/python3.7/site-packages/xgboost/dask.py:884: RuntimeWarning: coroutine 'Client._wait_for_workers' was never awaited\n",
      "  client.wait_for_workers(n_workers)\n",
      "\u001b[32m[I 2022-11-22 15:37:05,281]\u001b[0m Trial 106 finished with value: 0.813597930864182 and parameters: {'objective': 'binary:logistic', 'tree_method': 'gpu_hist', 'lambda': 3.3549632439401678, 'alpha': 4.383698427356214, 'colsample_bytree': 0.8203284610846562, 'subsample': 0.4143329097285288, 'learning_rate': 0.014721172480175357, 'max_depth': 20, 'min_child_weight': 262, 'eval_metric': 'logloss'}. Best is trial 105 with value: 0.8138137715801582.\u001b[0m\n",
      "/home/tunguz/anaconda3/lib/python3.7/site-packages/xgboost/dask.py:884: RuntimeWarning: coroutine 'Client._wait_for_workers' was never awaited\n",
      "  client.wait_for_workers(n_workers)\n",
      "\u001b[32m[I 2022-11-22 15:38:11,413]\u001b[0m Trial 107 finished with value: 0.8135859215956683 and parameters: {'objective': 'binary:logistic', 'tree_method': 'gpu_hist', 'lambda': 3.1518792609988213, 'alpha': 7.330585913806396, 'colsample_bytree': 0.82536719694532, 'subsample': 0.4184615611132523, 'learning_rate': 0.013819067729538502, 'max_depth': 21, 'min_child_weight': 260, 'eval_metric': 'logloss'}. Best is trial 105 with value: 0.8138137715801582.\u001b[0m\n",
      "/home/tunguz/anaconda3/lib/python3.7/site-packages/xgboost/dask.py:884: RuntimeWarning: coroutine 'Client._wait_for_workers' was never awaited\n",
      "  client.wait_for_workers(n_workers)\n",
      "\u001b[32m[I 2022-11-22 15:39:02,583]\u001b[0m Trial 108 finished with value: 0.8129865180511129 and parameters: {'objective': 'binary:logistic', 'tree_method': 'gpu_hist', 'lambda': 2.427696097947937, 'alpha': 4.812771596014439, 'colsample_bytree': 0.8760719259479166, 'subsample': 0.42339701611331154, 'learning_rate': 0.018893785158915398, 'max_depth': 20, 'min_child_weight': 263, 'eval_metric': 'logloss'}. Best is trial 105 with value: 0.8138137715801582.\u001b[0m\n",
      "/home/tunguz/anaconda3/lib/python3.7/site-packages/xgboost/dask.py:884: RuntimeWarning: coroutine 'Client._wait_for_workers' was never awaited\n",
      "  client.wait_for_workers(n_workers)\n",
      "\u001b[32m[I 2022-11-22 15:40:33,247]\u001b[0m Trial 109 finished with value: 0.8132131777075625 and parameters: {'objective': 'binary:logistic', 'tree_method': 'gpu_hist', 'lambda': 3.107722214541449, 'alpha': 2.8579379409387333, 'colsample_bytree': 0.7673581398525767, 'subsample': 0.414323786474441, 'learning_rate': 0.014020165490140353, 'max_depth': 22, 'min_child_weight': 249, 'eval_metric': 'logloss'}. Best is trial 105 with value: 0.8138137715801582.\u001b[0m\n",
      "/home/tunguz/anaconda3/lib/python3.7/site-packages/xgboost/dask.py:884: RuntimeWarning: coroutine 'Client._wait_for_workers' was never awaited\n",
      "  client.wait_for_workers(n_workers)\n",
      "\u001b[32m[I 2022-11-22 15:41:32,447]\u001b[0m Trial 110 finished with value: 0.8128087270677596 and parameters: {'objective': 'binary:logistic', 'tree_method': 'gpu_hist', 'lambda': 4.8401951460967885, 'alpha': 6.173178922314842, 'colsample_bytree': 0.8223095608307581, 'subsample': 0.4412117319685626, 'learning_rate': 0.010335035082711943, 'max_depth': 20, 'min_child_weight': 261, 'eval_metric': 'logloss'}. Best is trial 105 with value: 0.8138137715801582.\u001b[0m\n",
      "/home/tunguz/anaconda3/lib/python3.7/site-packages/xgboost/dask.py:884: RuntimeWarning: coroutine 'Client._wait_for_workers' was never awaited\n",
      "  client.wait_for_workers(n_workers)\n",
      "\u001b[32m[I 2022-11-22 15:42:38,954]\u001b[0m Trial 111 finished with value: 0.8129185389059209 and parameters: {'objective': 'binary:logistic', 'tree_method': 'gpu_hist', 'lambda': 2.0334971545137797, 'alpha': 3.068482501674316, 'colsample_bytree': 0.8212799915545821, 'subsample': 0.4006056018635642, 'learning_rate': 0.013807865100042602, 'max_depth': 21, 'min_child_weight': 242, 'eval_metric': 'logloss'}. Best is trial 105 with value: 0.8138137715801582.\u001b[0m\n",
      "/home/tunguz/anaconda3/lib/python3.7/site-packages/xgboost/dask.py:884: RuntimeWarning: coroutine 'Client._wait_for_workers' was never awaited\n",
      "  client.wait_for_workers(n_workers)\n",
      "\u001b[32m[I 2022-11-22 15:43:43,154]\u001b[0m Trial 112 finished with value: 0.8135857014665102 and parameters: {'objective': 'binary:logistic', 'tree_method': 'gpu_hist', 'lambda': 3.3062714537541336, 'alpha': 7.7770267893702005, 'colsample_bytree': 0.8427137672877578, 'subsample': 0.4160266935760119, 'learning_rate': 0.014551826124490092, 'max_depth': 21, 'min_child_weight': 278, 'eval_metric': 'logloss'}. Best is trial 105 with value: 0.8138137715801582.\u001b[0m\n",
      "/home/tunguz/anaconda3/lib/python3.7/site-packages/xgboost/dask.py:884: RuntimeWarning: coroutine 'Client._wait_for_workers' was never awaited\n",
      "  client.wait_for_workers(n_workers)\n",
      "\u001b[32m[I 2022-11-22 15:45:12,039]\u001b[0m Trial 113 finished with value: 0.8129181801769225 and parameters: {'objective': 'binary:logistic', 'tree_method': 'gpu_hist', 'lambda': 3.217950842612873, 'alpha': 8.189431795280212, 'colsample_bytree': 0.8277127371382986, 'subsample': 0.42196318679347344, 'learning_rate': 0.019863041272101593, 'max_depth': 22, 'min_child_weight': 258, 'eval_metric': 'logloss'}. Best is trial 105 with value: 0.8138137715801582.\u001b[0m\n",
      "/home/tunguz/anaconda3/lib/python3.7/site-packages/xgboost/dask.py:884: RuntimeWarning: coroutine 'Client._wait_for_workers' was never awaited\n",
      "  client.wait_for_workers(n_workers)\n",
      "\u001b[32m[I 2022-11-22 15:45:56,475]\u001b[0m Trial 114 finished with value: 0.8129845042769628 and parameters: {'objective': 'binary:logistic', 'tree_method': 'gpu_hist', 'lambda': 4.203412239174908, 'alpha': 4.219661787519347, 'colsample_bytree': 0.7967952717869594, 'subsample': 0.4149669451458611, 'learning_rate': 0.013437314945668875, 'max_depth': 19, 'min_child_weight': 277, 'eval_metric': 'logloss'}. Best is trial 105 with value: 0.8138137715801582.\u001b[0m\n",
      "/home/tunguz/anaconda3/lib/python3.7/site-packages/xgboost/dask.py:884: RuntimeWarning: coroutine 'Client._wait_for_workers' was never awaited\n",
      "  client.wait_for_workers(n_workers)\n",
      "\u001b[32m[I 2022-11-22 15:46:50,764]\u001b[0m Trial 115 finished with value: 0.8136576429365479 and parameters: {'objective': 'binary:logistic', 'tree_method': 'gpu_hist', 'lambda': 2.674004195408164, 'alpha': 6.360968968620003, 'colsample_bytree': 0.8918444632364053, 'subsample': 0.44499010296842106, 'learning_rate': 0.01650257475211628, 'max_depth': 20, 'min_child_weight': 267, 'eval_metric': 'logloss'}. Best is trial 105 with value: 0.8138137715801582.\u001b[0m\n",
      "/home/tunguz/anaconda3/lib/python3.7/site-packages/xgboost/dask.py:884: RuntimeWarning: coroutine 'Client._wait_for_workers' was never awaited\n",
      "  client.wait_for_workers(n_workers)\n",
      "\u001b[32m[I 2022-11-22 15:47:40,681]\u001b[0m Trial 116 finished with value: 0.812450544315815 and parameters: {'objective': 'binary:logistic', 'tree_method': 'gpu_hist', 'lambda': 3.4726271047256336, 'alpha': 6.531999572578354, 'colsample_bytree': 0.8891198161270684, 'subsample': 0.4451292274379223, 'learning_rate': 0.02207495421738806, 'max_depth': 20, 'min_child_weight': 284, 'eval_metric': 'logloss'}. Best is trial 105 with value: 0.8138137715801582.\u001b[0m\n",
      "/home/tunguz/anaconda3/lib/python3.7/site-packages/xgboost/dask.py:884: RuntimeWarning: coroutine 'Client._wait_for_workers' was never awaited\n",
      "  client.wait_for_workers(n_workers)\n",
      "\u001b[32m[I 2022-11-22 15:49:56,907]\u001b[0m Trial 117 finished with value: 0.813847573635323 and parameters: {'objective': 'binary:logistic', 'tree_method': 'gpu_hist', 'lambda': 6.4169517726839835, 'alpha': 3.348098928784741, 'colsample_bytree': 0.9088506236200025, 'subsample': 0.43575864088386324, 'learning_rate': 0.016765024482905413, 'max_depth': 23, 'min_child_weight': 269, 'eval_metric': 'logloss'}. Best is trial 117 with value: 0.813847573635323.\u001b[0m\n",
      "/home/tunguz/anaconda3/lib/python3.7/site-packages/xgboost/dask.py:884: RuntimeWarning: coroutine 'Client._wait_for_workers' was never awaited\n",
      "  client.wait_for_workers(n_workers)\n",
      "\u001b[32m[I 2022-11-22 15:51:26,623]\u001b[0m Trial 118 finished with value: 0.8117081872654076 and parameters: {'objective': 'binary:logistic', 'tree_method': 'gpu_hist', 'lambda': 5.853470384513382, 'alpha': 5.568478685680888, 'colsample_bytree': 0.9066782633776682, 'subsample': 0.4538994437986458, 'learning_rate': 0.028072698598642986, 'max_depth': 22, 'min_child_weight': 266, 'eval_metric': 'logloss'}. Best is trial 117 with value: 0.813847573635323.\u001b[0m\n",
      "/home/tunguz/anaconda3/lib/python3.7/site-packages/xgboost/dask.py:884: RuntimeWarning: coroutine 'Client._wait_for_workers' was never awaited\n",
      "  client.wait_for_workers(n_workers)\n",
      "\u001b[32m[I 2022-11-22 15:53:42,934]\u001b[0m Trial 119 finished with value: 0.8121204647197204 and parameters: {'objective': 'binary:logistic', 'tree_method': 'gpu_hist', 'lambda': 1.9171108754136459, 'alpha': 9.103580839146018, 'colsample_bytree': 0.4428081781441386, 'subsample': 0.43700240791871303, 'learning_rate': 0.016606706825722867, 'max_depth': 23, 'min_child_weight': 279, 'eval_metric': 'logloss'}. Best is trial 117 with value: 0.813847573635323.\u001b[0m\n",
      "/home/tunguz/anaconda3/lib/python3.7/site-packages/xgboost/dask.py:884: RuntimeWarning: coroutine 'Client._wait_for_workers' was never awaited\n",
      "  client.wait_for_workers(n_workers)\n",
      "\u001b[32m[I 2022-11-22 15:54:47,525]\u001b[0m Trial 120 finished with value: 0.8125514368466078 and parameters: {'objective': 'binary:logistic', 'tree_method': 'gpu_hist', 'lambda': 6.616060488799835, 'alpha': 3.788044450769579, 'colsample_bytree': 0.8724511569606295, 'subsample': 0.412583425972608, 'learning_rate': 0.018893344181346305, 'max_depth': 21, 'min_child_weight': 247, 'eval_metric': 'logloss'}. Best is trial 117 with value: 0.813847573635323.\u001b[0m\n",
      "/home/tunguz/anaconda3/lib/python3.7/site-packages/xgboost/dask.py:884: RuntimeWarning: coroutine 'Client._wait_for_workers' was never awaited\n",
      "  client.wait_for_workers(n_workers)\n",
      "\u001b[32m[I 2022-11-22 15:55:45,590]\u001b[0m Trial 121 finished with value: 0.7930100089303953 and parameters: {'objective': 'binary:logistic', 'tree_method': 'gpu_hist', 'lambda': 4.425129858217251, 'alpha': 7.117200865423909, 'colsample_bytree': 0.8379373490064104, 'subsample': 0.4262659085810678, 'learning_rate': 0.0010394358186248418, 'max_depth': 19, 'min_child_weight': 269, 'eval_metric': 'logloss'}. Best is trial 117 with value: 0.813847573635323.\u001b[0m\n",
      "/home/tunguz/anaconda3/lib/python3.7/site-packages/xgboost/dask.py:884: RuntimeWarning: coroutine 'Client._wait_for_workers' was never awaited\n",
      "  client.wait_for_workers(n_workers)\n",
      "\u001b[32m[I 2022-11-22 15:56:53,531]\u001b[0m Trial 122 finished with value: 0.813526641628687 and parameters: {'objective': 'binary:logistic', 'tree_method': 'gpu_hist', 'lambda': 2.8414989769271766, 'alpha': 2.3710981335810035, 'colsample_bytree': 0.9192409877946448, 'subsample': 0.43709863522827935, 'learning_rate': 0.015205878670140817, 'max_depth': 21, 'min_child_weight': 255, 'eval_metric': 'logloss'}. Best is trial 117 with value: 0.813847573635323.\u001b[0m\n",
      "/home/tunguz/anaconda3/lib/python3.7/site-packages/xgboost/dask.py:884: RuntimeWarning: coroutine 'Client._wait_for_workers' was never awaited\n",
      "  client.wait_for_workers(n_workers)\n",
      "\u001b[32m[I 2022-11-22 15:57:46,548]\u001b[0m Trial 123 finished with value: 0.8130493853080778 and parameters: {'objective': 'binary:logistic', 'tree_method': 'gpu_hist', 'lambda': 2.4579066257515683, 'alpha': 3.494219083852489, 'colsample_bytree': 0.9216275651763565, 'subsample': 0.44045623792620187, 'learning_rate': 0.01726713661788335, 'max_depth': 20, 'min_child_weight': 254, 'eval_metric': 'logloss'}. Best is trial 117 with value: 0.813847573635323.\u001b[0m\n",
      "/home/tunguz/anaconda3/lib/python3.7/site-packages/xgboost/dask.py:884: RuntimeWarning: coroutine 'Client._wait_for_workers' was never awaited\n",
      "  client.wait_for_workers(n_workers)\n",
      "\u001b[32m[I 2022-11-22 16:00:27,040]\u001b[0m Trial 124 finished with value: 0.8124515797381513 and parameters: {'objective': 'binary:logistic', 'tree_method': 'gpu_hist', 'lambda': 4.814538401535557, 'alpha': 5.084587277611837, 'colsample_bytree': 0.9402129964373163, 'subsample': 0.9909397830789433, 'learning_rate': 0.015977631162817994, 'max_depth': 23, 'min_child_weight': 287, 'eval_metric': 'logloss'}. Best is trial 117 with value: 0.813847573635323.\u001b[0m\n",
      "/home/tunguz/anaconda3/lib/python3.7/site-packages/xgboost/dask.py:884: RuntimeWarning: coroutine 'Client._wait_for_workers' was never awaited\n",
      "  client.wait_for_workers(n_workers)\n",
      "\u001b[32m[I 2022-11-22 16:01:36,550]\u001b[0m Trial 125 finished with value: 0.8133508481136204 and parameters: {'objective': 'binary:logistic', 'tree_method': 'gpu_hist', 'lambda': 2.9629279613489876, 'alpha': 1.9549246472690593, 'colsample_bytree': 0.8926599603141023, 'subsample': 0.45185878459162476, 'learning_rate': 0.011287246369427085, 'max_depth': 21, 'min_child_weight': 272, 'eval_metric': 'logloss'}. Best is trial 117 with value: 0.813847573635323.\u001b[0m\n",
      "/home/tunguz/anaconda3/lib/python3.7/site-packages/xgboost/dask.py:884: RuntimeWarning: coroutine 'Client._wait_for_workers' was never awaited\n",
      "  client.wait_for_workers(n_workers)\n",
      "\u001b[32m[I 2022-11-22 16:03:08,735]\u001b[0m Trial 126 finished with value: 0.8122218382734883 and parameters: {'objective': 'binary:logistic', 'tree_method': 'gpu_hist', 'lambda': 5.624298377074632, 'alpha': 2.4425356155765163, 'colsample_bytree': 0.9117623343183446, 'subsample': 0.4645535764368949, 'learning_rate': 0.01875153177664406, 'max_depth': 22, 'min_child_weight': 243, 'eval_metric': 'logloss'}. Best is trial 117 with value: 0.813847573635323.\u001b[0m\n",
      "/home/tunguz/anaconda3/lib/python3.7/site-packages/xgboost/dask.py:884: RuntimeWarning: coroutine 'Client._wait_for_workers' was never awaited\n",
      "  client.wait_for_workers(n_workers)\n",
      "\u001b[32m[I 2022-11-22 16:04:08,975]\u001b[0m Trial 127 finished with value: 0.812144964279723 and parameters: {'objective': 'binary:logistic', 'tree_method': 'gpu_hist', 'lambda': 7.111144152511919, 'alpha': 3.1942004414551612, 'colsample_bytree': 0.8715353194287523, 'subsample': 0.4097423637473771, 'learning_rate': 0.02337289534092185, 'max_depth': 21, 'min_child_weight': 283, 'eval_metric': 'logloss'}. Best is trial 117 with value: 0.813847573635323.\u001b[0m\n",
      "/home/tunguz/anaconda3/lib/python3.7/site-packages/xgboost/dask.py:884: RuntimeWarning: coroutine 'Client._wait_for_workers' was never awaited\n",
      "  client.wait_for_workers(n_workers)\n",
      "\u001b[32m[I 2022-11-22 16:05:02,880]\u001b[0m Trial 128 finished with value: 0.8132208170046415 and parameters: {'objective': 'binary:logistic', 'tree_method': 'gpu_hist', 'lambda': 3.8629239871303227, 'alpha': 1.3220833953830349, 'colsample_bytree': 0.9630733879915985, 'subsample': 0.43126340263750584, 'learning_rate': 0.013479542828564705, 'max_depth': 20, 'min_child_weight': 255, 'eval_metric': 'logloss'}. Best is trial 117 with value: 0.813847573635323.\u001b[0m\n",
      "/home/tunguz/anaconda3/lib/python3.7/site-packages/xgboost/dask.py:884: RuntimeWarning: coroutine 'Client._wait_for_workers' was never awaited\n",
      "  client.wait_for_workers(n_workers)\n",
      "\u001b[32m[I 2022-11-22 16:07:19,738]\u001b[0m Trial 129 finished with value: 0.8131988203946958 and parameters: {'objective': 'binary:logistic', 'tree_method': 'gpu_hist', 'lambda': 1.9093658556726532, 'alpha': 4.188181332679095, 'colsample_bytree': 0.90248416947667, 'subsample': 0.40028003250067695, 'learning_rate': 0.014773471005340143, 'max_depth': 23, 'min_child_weight': 274, 'eval_metric': 'logloss'}. Best is trial 117 with value: 0.813847573635323.\u001b[0m\n",
      "/home/tunguz/anaconda3/lib/python3.7/site-packages/xgboost/dask.py:884: RuntimeWarning: coroutine 'Client._wait_for_workers' was never awaited\n",
      "  client.wait_for_workers(n_workers)\n",
      "\u001b[32m[I 2022-11-22 16:08:29,260]\u001b[0m Trial 130 finished with value: 0.797374738029996 and parameters: {'objective': 'binary:logistic', 'tree_method': 'gpu_hist', 'lambda': 2.6928884054527225, 'alpha': 7.499706832129433, 'colsample_bytree': 0.9323969744567419, 'subsample': 0.4759867376513295, 'learning_rate': 0.0017367927541192911, 'max_depth': 19, 'min_child_weight': 236, 'eval_metric': 'logloss'}. Best is trial 117 with value: 0.813847573635323.\u001b[0m\n",
      "/home/tunguz/anaconda3/lib/python3.7/site-packages/xgboost/dask.py:884: RuntimeWarning: coroutine 'Client._wait_for_workers' was never awaited\n",
      "  client.wait_for_workers(n_workers)\n",
      "\u001b[32m[I 2022-11-22 16:09:13,626]\u001b[0m Trial 131 finished with value: 0.813355030567624 and parameters: {'objective': 'binary:logistic', 'tree_method': 'gpu_hist', 'lambda': 3.439734126637261, 'alpha': 2.1873991732140836, 'colsample_bytree': 0.8400824154455901, 'subsample': 0.4204820954422922, 'learning_rate': 0.015167837973430414, 'max_depth': 19, 'min_child_weight': 266, 'eval_metric': 'logloss'}. Best is trial 117 with value: 0.813847573635323.\u001b[0m\n",
      "/home/tunguz/anaconda3/lib/python3.7/site-packages/xgboost/dask.py:884: RuntimeWarning: coroutine 'Client._wait_for_workers' was never awaited\n",
      "  client.wait_for_workers(n_workers)\n",
      "\u001b[32m[I 2022-11-22 16:10:07,938]\u001b[0m Trial 132 finished with value: 0.813476933203617 and parameters: {'objective': 'binary:logistic', 'tree_method': 'gpu_hist', 'lambda': 1.4662825850951549, 'alpha': 2.578769965709323, 'colsample_bytree': 0.859861106458366, 'subsample': 0.42444108434996025, 'learning_rate': 0.012002148969706363, 'max_depth': 20, 'min_child_weight': 261, 'eval_metric': 'logloss'}. Best is trial 117 with value: 0.813847573635323.\u001b[0m\n",
      "/home/tunguz/anaconda3/lib/python3.7/site-packages/xgboost/dask.py:884: RuntimeWarning: coroutine 'Client._wait_for_workers' was never awaited\n",
      "  client.wait_for_workers(n_workers)\n",
      "\u001b[32m[I 2022-11-22 16:11:00,701]\u001b[0m Trial 133 finished with value: 0.8131188238280583 and parameters: {'objective': 'binary:logistic', 'tree_method': 'gpu_hist', 'lambda': 4.424474916980006, 'alpha': 5.608331003799963, 'colsample_bytree': 0.8809738240579925, 'subsample': 0.4357336126244244, 'learning_rate': 0.011893428714730843, 'max_depth': 20, 'min_child_weight': 289, 'eval_metric': 'logloss'}. Best is trial 117 with value: 0.813847573635323.\u001b[0m\n",
      "/home/tunguz/anaconda3/lib/python3.7/site-packages/xgboost/dask.py:884: RuntimeWarning: coroutine 'Client._wait_for_workers' was never awaited\n",
      "  client.wait_for_workers(n_workers)\n",
      "\u001b[32m[I 2022-11-22 16:11:54,063]\u001b[0m Trial 134 finished with value: 0.8124683666246888 and parameters: {'objective': 'binary:logistic', 'tree_method': 'gpu_hist', 'lambda': 1.5339768622903656, 'alpha': 1.0680616219315924, 'colsample_bytree': 0.855207176395613, 'subsample': 0.4515821055927171, 'learning_rate': 0.016248726716725646, 'max_depth': 20, 'min_child_weight': 278, 'eval_metric': 'logloss'}. Best is trial 117 with value: 0.813847573635323.\u001b[0m\n",
      "/home/tunguz/anaconda3/lib/python3.7/site-packages/xgboost/dask.py:884: RuntimeWarning: coroutine 'Client._wait_for_workers' was never awaited\n",
      "  client.wait_for_workers(n_workers)\n",
      "\u001b[32m[I 2022-11-22 16:13:03,279]\u001b[0m Trial 135 finished with value: 0.812791459158247 and parameters: {'objective': 'binary:logistic', 'tree_method': 'gpu_hist', 'lambda': 1.0933475791309324, 'alpha': 9.583211999372052, 'colsample_bytree': 0.8651371484193008, 'subsample': 0.42808229772880585, 'learning_rate': 0.010306105333708683, 'max_depth': 21, 'min_child_weight': 258, 'eval_metric': 'logloss'}. Best is trial 117 with value: 0.813847573635323.\u001b[0m\n",
      "/home/tunguz/anaconda3/lib/python3.7/site-packages/xgboost/dask.py:884: RuntimeWarning: coroutine 'Client._wait_for_workers' was never awaited\n",
      "  client.wait_for_workers(n_workers)\n",
      "\u001b[32m[I 2022-11-22 16:16:54,888]\u001b[0m Trial 136 finished with value: 0.8123198039017714 and parameters: {'objective': 'binary:logistic', 'tree_method': 'gpu_hist', 'lambda': 2.1938332510295084, 'alpha': 4.876334815009136, 'colsample_bytree': 0.841650591598598, 'subsample': 0.44439262099578025, 'learning_rate': 0.020845064211657015, 'max_depth': 24, 'min_child_weight': 268, 'eval_metric': 'logloss'}. Best is trial 117 with value: 0.813847573635323.\u001b[0m\n",
      "/home/tunguz/anaconda3/lib/python3.7/site-packages/xgboost/dask.py:884: RuntimeWarning: coroutine 'Client._wait_for_workers' was never awaited\n",
      "  client.wait_for_workers(n_workers)\n",
      "\u001b[32m[I 2022-11-22 16:18:01,383]\u001b[0m Trial 137 finished with value: 0.812943209677491 and parameters: {'objective': 'binary:logistic', 'tree_method': 'gpu_hist', 'lambda': 0.6836791429786547, 'alpha': 2.735789020426819, 'colsample_bytree': 0.8025417226411052, 'subsample': 0.4157631570754096, 'learning_rate': 0.01331769928329873, 'max_depth': 21, 'min_child_weight': 252, 'eval_metric': 'logloss'}. Best is trial 117 with value: 0.813847573635323.\u001b[0m\n",
      "/home/tunguz/anaconda3/lib/python3.7/site-packages/xgboost/dask.py:884: RuntimeWarning: coroutine 'Client._wait_for_workers' was never awaited\n",
      "  client.wait_for_workers(n_workers)\n",
      "\u001b[32m[I 2022-11-22 16:18:53,157]\u001b[0m Trial 138 finished with value: 0.8131723967427928 and parameters: {'objective': 'binary:logistic', 'tree_method': 'gpu_hist', 'lambda': 5.329757238925546, 'alpha': 6.444606446968333, 'colsample_bytree': 0.8814494858092948, 'subsample': 0.4642680123379649, 'learning_rate': 0.01822977807644808, 'max_depth': 20, 'min_child_weight': 282, 'eval_metric': 'logloss'}. Best is trial 117 with value: 0.813847573635323.\u001b[0m\n",
      "/home/tunguz/anaconda3/lib/python3.7/site-packages/xgboost/dask.py:884: RuntimeWarning: coroutine 'Client._wait_for_workers' was never awaited\n",
      "  client.wait_for_workers(n_workers)\n",
      "\u001b[32m[I 2022-11-22 16:19:41,688]\u001b[0m Trial 139 finished with value: 0.8132030925309491 and parameters: {'objective': 'binary:logistic', 'tree_method': 'gpu_hist', 'lambda': 6.862650301493881, 'alpha': 4.326755904711211, 'colsample_bytree': 0.9252262574662398, 'subsample': 0.48145722827102555, 'learning_rate': 0.012191911650030448, 'max_depth': 19, 'min_child_weight': 275, 'eval_metric': 'logloss'}. Best is trial 117 with value: 0.813847573635323.\u001b[0m\n",
      "/home/tunguz/anaconda3/lib/python3.7/site-packages/xgboost/dask.py:884: RuntimeWarning: coroutine 'Client._wait_for_workers' was never awaited\n",
      "  client.wait_for_workers(n_workers)\n",
      "\u001b[32m[I 2022-11-22 16:21:08,543]\u001b[0m Trial 140 finished with value: 0.8131861588916396 and parameters: {'objective': 'binary:logistic', 'tree_method': 'gpu_hist', 'lambda': 3.6763186699011468, 'alpha': 1.4313420378438955, 'colsample_bytree': 0.9480218237183573, 'subsample': 0.4382505665376636, 'learning_rate': 0.016835250370151985, 'max_depth': 22, 'min_child_weight': 289, 'eval_metric': 'logloss'}. Best is trial 117 with value: 0.813847573635323.\u001b[0m\n",
      "/home/tunguz/anaconda3/lib/python3.7/site-packages/xgboost/dask.py:884: RuntimeWarning: coroutine 'Client._wait_for_workers' was never awaited\n",
      "  client.wait_for_workers(n_workers)\n",
      "\u001b[32m[I 2022-11-22 16:21:50,542]\u001b[0m Trial 141 finished with value: 0.812757396209265 and parameters: {'objective': 'binary:logistic', 'tree_method': 'gpu_hist', 'lambda': 2.9872199025008435, 'alpha': 2.5144198823122386, 'colsample_bytree': 0.8227209588303197, 'subsample': 0.4207066084723729, 'learning_rate': 0.014460283369485325, 'max_depth': 18, 'min_child_weight': 261, 'eval_metric': 'logloss'}. Best is trial 117 with value: 0.813847573635323.\u001b[0m\n",
      "/home/tunguz/anaconda3/lib/python3.7/site-packages/xgboost/dask.py:884: RuntimeWarning: coroutine 'Client._wait_for_workers' was never awaited\n",
      "  client.wait_for_workers(n_workers)\n",
      "\u001b[32m[I 2022-11-22 16:22:34,482]\u001b[0m Trial 142 finished with value: 0.813035476406459 and parameters: {'objective': 'binary:logistic', 'tree_method': 'gpu_hist', 'lambda': 3.199932949282564, 'alpha': 2.129599673479089, 'colsample_bytree': 0.8622069156407662, 'subsample': 0.4082452624851098, 'learning_rate': 0.015215200684343351, 'max_depth': 19, 'min_child_weight': 264, 'eval_metric': 'logloss'}. Best is trial 117 with value: 0.813847573635323.\u001b[0m\n",
      "/home/tunguz/anaconda3/lib/python3.7/site-packages/xgboost/dask.py:884: RuntimeWarning: coroutine 'Client._wait_for_workers' was never awaited\n",
      "  client.wait_for_workers(n_workers)\n",
      "\u001b[32m[I 2022-11-22 16:23:16,870]\u001b[0m Trial 143 finished with value: 0.8136108777198507 and parameters: {'objective': 'binary:logistic', 'tree_method': 'gpu_hist', 'lambda': 4.2467965969658525, 'alpha': 3.609750087596619, 'colsample_bytree': 0.83117211671119, 'subsample': 0.42859504114673036, 'learning_rate': 0.013717023276723044, 'max_depth': 18, 'min_child_weight': 246, 'eval_metric': 'logloss'}. Best is trial 117 with value: 0.813847573635323.\u001b[0m\n",
      "/home/tunguz/anaconda3/lib/python3.7/site-packages/xgboost/dask.py:884: RuntimeWarning: coroutine 'Client._wait_for_workers' was never awaited\n",
      "  client.wait_for_workers(n_workers)\n",
      "\u001b[32m[I 2022-11-22 16:24:14,908]\u001b[0m Trial 144 finished with value: 0.8122308798748336 and parameters: {'objective': 'binary:logistic', 'tree_method': 'gpu_hist', 'lambda': 4.464389893007531, 'alpha': 3.802248744777008, 'colsample_bytree': 0.7773609500766382, 'subsample': 0.4510630894978381, 'learning_rate': 0.011087429740415433, 'max_depth': 20, 'min_child_weight': 247, 'eval_metric': 'logloss'}. Best is trial 117 with value: 0.813847573635323.\u001b[0m\n",
      "/home/tunguz/anaconda3/lib/python3.7/site-packages/xgboost/dask.py:884: RuntimeWarning: coroutine 'Client._wait_for_workers' was never awaited\n",
      "  client.wait_for_workers(n_workers)\n",
      "\u001b[32m[I 2022-11-22 16:25:25,546]\u001b[0m Trial 145 finished with value: 0.8132511377579359 and parameters: {'objective': 'binary:logistic', 'tree_method': 'gpu_hist', 'lambda': 5.929280556405842, 'alpha': 3.327136737161771, 'colsample_bytree': 0.8535378566929978, 'subsample': 0.4314055190037815, 'learning_rate': 0.012595722099683666, 'max_depth': 21, 'min_child_weight': 230, 'eval_metric': 'logloss'}. Best is trial 117 with value: 0.813847573635323.\u001b[0m\n",
      "/home/tunguz/anaconda3/lib/python3.7/site-packages/xgboost/dask.py:884: RuntimeWarning: coroutine 'Client._wait_for_workers' was never awaited\n",
      "  client.wait_for_workers(n_workers)\n",
      "\u001b[32m[I 2022-11-22 16:26:07,081]\u001b[0m Trial 146 finished with value: 0.8127519255920399 and parameters: {'objective': 'binary:logistic', 'tree_method': 'gpu_hist', 'lambda': 7.755046013391491, 'alpha': 1.0547768313439143, 'colsample_bytree': 0.9038274208339903, 'subsample': 0.4017194028461817, 'learning_rate': 0.01330158297546637, 'max_depth': 19, 'min_child_weight': 300, 'eval_metric': 'logloss'}. Best is trial 117 with value: 0.813847573635323.\u001b[0m\n",
      "/home/tunguz/anaconda3/lib/python3.7/site-packages/xgboost/dask.py:884: RuntimeWarning: coroutine 'Client._wait_for_workers' was never awaited\n",
      "  client.wait_for_workers(n_workers)\n",
      "\u001b[32m[I 2022-11-22 16:27:10,296]\u001b[0m Trial 147 finished with value: 0.8126608573440435 and parameters: {'objective': 'binary:logistic', 'tree_method': 'gpu_hist', 'lambda': 1.7676206618298498, 'alpha': 8.168044061669756, 'colsample_bytree': 0.8383365471750902, 'subsample': 0.4585636619348059, 'learning_rate': 0.009301786797709505, 'max_depth': 20, 'min_child_weight': 242, 'eval_metric': 'logloss'}. Best is trial 117 with value: 0.813847573635323.\u001b[0m\n",
      "/home/tunguz/anaconda3/lib/python3.7/site-packages/xgboost/dask.py:884: RuntimeWarning: coroutine 'Client._wait_for_workers' was never awaited\n",
      "  client.wait_for_workers(n_workers)\n",
      "\u001b[32m[I 2022-11-22 16:28:38,682]\u001b[0m Trial 148 finished with value: 0.8131890776412174 and parameters: {'objective': 'binary:logistic', 'tree_method': 'gpu_hist', 'lambda': 2.4394751701506148, 'alpha': 0.520458161705903, 'colsample_bytree': 0.80546763933189, 'subsample': 0.4290658708544129, 'learning_rate': 0.017729874231717027, 'max_depth': 22, 'min_child_weight': 256, 'eval_metric': 'logloss'}. Best is trial 117 with value: 0.813847573635323.\u001b[0m\n",
      "/home/tunguz/anaconda3/lib/python3.7/site-packages/xgboost/dask.py:884: RuntimeWarning: coroutine 'Client._wait_for_workers' was never awaited\n",
      "  client.wait_for_workers(n_workers)\n",
      "\u001b[32m[I 2022-11-22 16:29:23,855]\u001b[0m Trial 149 finished with value: 0.8134120766312972 and parameters: {'objective': 'binary:logistic', 'tree_method': 'gpu_hist', 'lambda': 5.2939476719829255, 'alpha': 5.4317331688403465, 'colsample_bytree': 0.7890328429242859, 'subsample': 0.44602927216078403, 'learning_rate': 0.01602237370715657, 'max_depth': 19, 'min_child_weight': 271, 'eval_metric': 'logloss'}. Best is trial 117 with value: 0.813847573635323.\u001b[0m\n",
      "/home/tunguz/anaconda3/lib/python3.7/site-packages/xgboost/dask.py:884: RuntimeWarning: coroutine 'Client._wait_for_workers' was never awaited\n",
      "  client.wait_for_workers(n_workers)\n",
      "\u001b[32m[I 2022-11-22 16:30:26,884]\u001b[0m Trial 150 finished with value: 0.8129720384442692 and parameters: {'objective': 'binary:logistic', 'tree_method': 'gpu_hist', 'lambda': 3.8879482961089438, 'alpha': 1.4618584739094804, 'colsample_bytree': 0.8850925719216929, 'subsample': 0.41421115171049727, 'learning_rate': 0.014087227986166979, 'max_depth': 21, 'min_child_weight': 288, 'eval_metric': 'logloss'}. Best is trial 117 with value: 0.813847573635323.\u001b[0m\n",
      "/home/tunguz/anaconda3/lib/python3.7/site-packages/xgboost/dask.py:884: RuntimeWarning: coroutine 'Client._wait_for_workers' was never awaited\n",
      "  client.wait_for_workers(n_workers)\n",
      "\u001b[32m[I 2022-11-22 16:31:12,471]\u001b[0m Trial 151 finished with value: 0.8132183629721754 and parameters: {'objective': 'binary:logistic', 'tree_method': 'gpu_hist', 'lambda': 5.276597788114367, 'alpha': 5.591037197794484, 'colsample_bytree': 0.7938986157715416, 'subsample': 0.4405417872632247, 'learning_rate': 0.015614232427673493, 'max_depth': 19, 'min_child_weight': 268, 'eval_metric': 'logloss'}. Best is trial 117 with value: 0.813847573635323.\u001b[0m\n",
      "/home/tunguz/anaconda3/lib/python3.7/site-packages/xgboost/dask.py:884: RuntimeWarning: coroutine 'Client._wait_for_workers' was never awaited\n",
      "  client.wait_for_workers(n_workers)\n",
      "\u001b[32m[I 2022-11-22 16:31:52,380]\u001b[0m Trial 152 finished with value: 0.8131400703682803 and parameters: {'objective': 'binary:logistic', 'tree_method': 'gpu_hist', 'lambda': 6.400176139454715, 'alpha': 4.555748524268295, 'colsample_bytree': 0.8237718874219514, 'subsample': 0.4263580353455499, 'learning_rate': 0.0196548029227894, 'max_depth': 18, 'min_child_weight': 272, 'eval_metric': 'logloss'}. Best is trial 117 with value: 0.813847573635323.\u001b[0m\n",
      "/home/tunguz/anaconda3/lib/python3.7/site-packages/xgboost/dask.py:884: RuntimeWarning: coroutine 'Client._wait_for_workers' was never awaited\n",
      "  client.wait_for_workers(n_workers)\n",
      "\u001b[32m[I 2022-11-22 16:32:37,765]\u001b[0m Trial 153 finished with value: 0.8126621862719241 and parameters: {'objective': 'binary:logistic', 'tree_method': 'gpu_hist', 'lambda': 4.668294539647327, 'alpha': 7.603270160566332, 'colsample_bytree': 0.7572486224826527, 'subsample': 0.46798570863643824, 'learning_rate': 0.01674007087486519, 'max_depth': 19, 'min_child_weight': 280, 'eval_metric': 'logloss'}. Best is trial 117 with value: 0.813847573635323.\u001b[0m\n",
      "/home/tunguz/anaconda3/lib/python3.7/site-packages/xgboost/dask.py:884: RuntimeWarning: coroutine 'Client._wait_for_workers' was never awaited\n",
      "  client.wait_for_workers(n_workers)\n",
      "\u001b[32m[I 2022-11-22 16:33:34,778]\u001b[0m Trial 154 finished with value: 0.8131531395179257 and parameters: {'objective': 'binary:logistic', 'tree_method': 'gpu_hist', 'lambda': 7.9849224560328915, 'alpha': 3.4171602971011894, 'colsample_bytree': 0.8141865930268202, 'subsample': 0.44737807514716954, 'learning_rate': 0.011758679851149055, 'max_depth': 20, 'min_child_weight': 250, 'eval_metric': 'logloss'}. Best is trial 117 with value: 0.813847573635323.\u001b[0m\n",
      "/home/tunguz/anaconda3/lib/python3.7/site-packages/xgboost/dask.py:884: RuntimeWarning: coroutine 'Client._wait_for_workers' was never awaited\n",
      "  client.wait_for_workers(n_workers)\n",
      "\u001b[32m[I 2022-11-22 16:34:13,150]\u001b[0m Trial 155 finished with value: 0.8127391825596658 and parameters: {'objective': 'binary:logistic', 'tree_method': 'gpu_hist', 'lambda': 2.6592471188354834, 'alpha': 6.316877686740771, 'colsample_bytree': 0.8679991447594332, 'subsample': 0.4111700603742638, 'learning_rate': 0.013599331540367307, 'max_depth': 18, 'min_child_weight': 292, 'eval_metric': 'logloss'}. Best is trial 117 with value: 0.813847573635323.\u001b[0m\n",
      "/home/tunguz/anaconda3/lib/python3.7/site-packages/xgboost/dask.py:884: RuntimeWarning: coroutine 'Client._wait_for_workers' was never awaited\n",
      "  client.wait_for_workers(n_workers)\n",
      "\u001b[32m[I 2022-11-22 16:35:05,974]\u001b[0m Trial 156 finished with value: 0.8132658864115281 and parameters: {'objective': 'binary:logistic', 'tree_method': 'gpu_hist', 'lambda': 4.101473799441347, 'alpha': 0.683525871007962, 'colsample_bytree': 0.7861042958181755, 'subsample': 0.44098028741057665, 'learning_rate': 0.01556532467417847, 'max_depth': 20, 'min_child_weight': 258, 'eval_metric': 'logloss'}. Best is trial 117 with value: 0.813847573635323.\u001b[0m\n",
      "/home/tunguz/anaconda3/lib/python3.7/site-packages/xgboost/dask.py:884: RuntimeWarning: coroutine 'Client._wait_for_workers' was never awaited\n",
      "  client.wait_for_workers(n_workers)\n",
      "\u001b[32m[I 2022-11-22 16:35:48,586]\u001b[0m Trial 157 finished with value: 0.8127978836684906 and parameters: {'objective': 'binary:logistic', 'tree_method': 'gpu_hist', 'lambda': 5.473631043731435, 'alpha': 2.955504190248998, 'colsample_bytree': 0.8415560326457168, 'subsample': 0.4202065487446526, 'learning_rate': 0.018305366880321375, 'max_depth': 19, 'min_child_weight': 274, 'eval_metric': 'logloss'}. Best is trial 117 with value: 0.813847573635323.\u001b[0m\n",
      "/home/tunguz/anaconda3/lib/python3.7/site-packages/xgboost/dask.py:884: RuntimeWarning: coroutine 'Client._wait_for_workers' was never awaited\n",
      "  client.wait_for_workers(n_workers)\n",
      "\u001b[32m[I 2022-11-22 16:36:23,405]\u001b[0m Trial 158 finished with value: 0.8128939659695322 and parameters: {'objective': 'binary:logistic', 'tree_method': 'gpu_hist', 'lambda': 2.1652955863941816, 'alpha': 5.057392895119067, 'colsample_bytree': 0.8524842034176706, 'subsample': 0.45676250435433263, 'learning_rate': 0.021343347499684983, 'max_depth': 17, 'min_child_weight': 285, 'eval_metric': 'logloss'}. Best is trial 117 with value: 0.813847573635323.\u001b[0m\n",
      "/home/tunguz/anaconda3/lib/python3.7/site-packages/xgboost/dask.py:884: RuntimeWarning: coroutine 'Client._wait_for_workers' was never awaited\n",
      "  client.wait_for_workers(n_workers)\n",
      "\u001b[32m[I 2022-11-22 16:37:31,252]\u001b[0m Trial 159 finished with value: 0.8137836057325676 and parameters: {'objective': 'binary:logistic', 'tree_method': 'gpu_hist', 'lambda': 3.578803057087837, 'alpha': 0.7742506690401044, 'colsample_bytree': 0.8315315322518299, 'subsample': 0.4317951002593612, 'learning_rate': 0.012385271853881198, 'max_depth': 21, 'min_child_weight': 265, 'eval_metric': 'logloss'}. Best is trial 117 with value: 0.813847573635323.\u001b[0m\n",
      "/home/tunguz/anaconda3/lib/python3.7/site-packages/xgboost/dask.py:884: RuntimeWarning: coroutine 'Client._wait_for_workers' was never awaited\n",
      "  client.wait_for_workers(n_workers)\n",
      "\u001b[32m[I 2022-11-22 16:38:41,886]\u001b[0m Trial 160 finished with value: 0.8133213181947087 and parameters: {'objective': 'binary:logistic', 'tree_method': 'gpu_hist', 'lambda': 3.465981333710749, 'alpha': 0.7962647441984162, 'colsample_bytree': 0.8297712349589497, 'subsample': 0.4330055607449717, 'learning_rate': 0.01105213988750504, 'max_depth': 21, 'min_child_weight': 236, 'eval_metric': 'logloss'}. Best is trial 117 with value: 0.813847573635323.\u001b[0m\n",
      "/home/tunguz/anaconda3/lib/python3.7/site-packages/xgboost/dask.py:884: RuntimeWarning: coroutine 'Client._wait_for_workers' was never awaited\n",
      "  client.wait_for_workers(n_workers)\n",
      "\u001b[32m[I 2022-11-22 16:39:34,102]\u001b[0m Trial 161 finished with value: 0.8141570263140113 and parameters: {'objective': 'binary:logistic', 'tree_method': 'gpu_hist', 'lambda': 2.8655256733732037, 'alpha': 0.4495276508513745, 'colsample_bytree': 0.8114757656243607, 'subsample': 0.41002461895298087, 'learning_rate': 0.012531720695646295, 'max_depth': 20, 'min_child_weight': 265, 'eval_metric': 'logloss'}. Best is trial 161 with value: 0.8141570263140113.\u001b[0m\n",
      "/home/tunguz/anaconda3/lib/python3.7/site-packages/xgboost/dask.py:884: RuntimeWarning: coroutine 'Client._wait_for_workers' was never awaited\n",
      "  client.wait_for_workers(n_workers)\n",
      "\u001b[32m[I 2022-11-22 16:40:38,536]\u001b[0m Trial 162 finished with value: 0.8133663386840047 and parameters: {'objective': 'binary:logistic', 'tree_method': 'gpu_hist', 'lambda': 2.981113338533601, 'alpha': 0.5133857913535178, 'colsample_bytree': 0.811340515551359, 'subsample': 0.4005085195616359, 'learning_rate': 0.01238027984770324, 'max_depth': 21, 'min_child_weight': 266, 'eval_metric': 'logloss'}. Best is trial 161 with value: 0.8141570263140113.\u001b[0m\n",
      "/home/tunguz/anaconda3/lib/python3.7/site-packages/xgboost/dask.py:884: RuntimeWarning: coroutine 'Client._wait_for_workers' was never awaited\n",
      "  client.wait_for_workers(n_workers)\n",
      "\u001b[32m[I 2022-11-22 16:41:36,888]\u001b[0m Trial 163 finished with value: 0.812636618677858 and parameters: {'objective': 'binary:logistic', 'tree_method': 'gpu_hist', 'lambda': 2.4922612968842963, 'alpha': 0.3933745431522152, 'colsample_bytree': 0.8473205216954445, 'subsample': 0.41910836556655917, 'learning_rate': 0.010237935644313627, 'max_depth': 20, 'min_child_weight': 247, 'eval_metric': 'logloss'}. Best is trial 161 with value: 0.8141570263140113.\u001b[0m\n",
      "/home/tunguz/anaconda3/lib/python3.7/site-packages/xgboost/dask.py:884: RuntimeWarning: coroutine 'Client._wait_for_workers' was never awaited\n",
      "  client.wait_for_workers(n_workers)\n",
      "\u001b[32m[I 2022-11-22 16:43:05,909]\u001b[0m Trial 164 finished with value: 0.8123867802363541 and parameters: {'objective': 'binary:logistic', 'tree_method': 'gpu_hist', 'lambda': 1.4199408317514326, 'alpha': 0.6493330305537078, 'colsample_bytree': 0.8743216743077499, 'subsample': 0.41045222737198833, 'learning_rate': 0.014182310577938702, 'max_depth': 22, 'min_child_weight': 260, 'eval_metric': 'logloss'}. Best is trial 161 with value: 0.8141570263140113.\u001b[0m\n",
      "/home/tunguz/anaconda3/lib/python3.7/site-packages/xgboost/dask.py:884: RuntimeWarning: coroutine 'Client._wait_for_workers' was never awaited\n",
      "  client.wait_for_workers(n_workers)\n",
      "\u001b[32m[I 2022-11-22 16:43:59,796]\u001b[0m Trial 165 finished with value: 0.8135934467517024 and parameters: {'objective': 'binary:logistic', 'tree_method': 'gpu_hist', 'lambda': 3.8910737609212287, 'alpha': 0.4630068053649689, 'colsample_bytree': 0.8336667461927971, 'subsample': 0.42709449234982877, 'learning_rate': 0.013317096562020904, 'max_depth': 20, 'min_child_weight': 253, 'eval_metric': 'logloss'}. Best is trial 161 with value: 0.8141570263140113.\u001b[0m\n",
      "/home/tunguz/anaconda3/lib/python3.7/site-packages/xgboost/dask.py:884: RuntimeWarning: coroutine 'Client._wait_for_workers' was never awaited\n",
      "  client.wait_for_workers(n_workers)\n",
      "\u001b[32m[I 2022-11-22 16:44:54,676]\u001b[0m Trial 166 finished with value: 0.8133111025711868 and parameters: {'objective': 'binary:logistic', 'tree_method': 'gpu_hist', 'lambda': 4.364239484261707, 'alpha': 0.9932003928224007, 'colsample_bytree': 0.8318198712069422, 'subsample': 0.4334761865659513, 'learning_rate': 0.012296256207955164, 'max_depth': 20, 'min_child_weight': 252, 'eval_metric': 'logloss'}. Best is trial 161 with value: 0.8141570263140113.\u001b[0m\n",
      "/home/tunguz/anaconda3/lib/python3.7/site-packages/xgboost/dask.py:884: RuntimeWarning: coroutine 'Client._wait_for_workers' was never awaited\n",
      "  client.wait_for_workers(n_workers)\n",
      "\u001b[32m[I 2022-11-22 16:46:01,629]\u001b[0m Trial 167 finished with value: 0.8129407882567519 and parameters: {'objective': 'binary:logistic', 'tree_method': 'gpu_hist', 'lambda': 1.8111107535734143, 'alpha': 0.3411900064614475, 'colsample_bytree': 0.8106058126304788, 'subsample': 0.41092280094007533, 'learning_rate': 0.01321025405389027, 'max_depth': 21, 'min_child_weight': 243, 'eval_metric': 'logloss'}. Best is trial 161 with value: 0.8141570263140113.\u001b[0m\n",
      "/home/tunguz/anaconda3/lib/python3.7/site-packages/xgboost/dask.py:884: RuntimeWarning: coroutine 'Client._wait_for_workers' was never awaited\n",
      "  client.wait_for_workers(n_workers)\n",
      "\u001b[32m[I 2022-11-22 16:46:58,962]\u001b[0m Trial 168 finished with value: 0.8115367148041848 and parameters: {'objective': 'binary:logistic', 'tree_method': 'gpu_hist', 'lambda': 2.9440961917085935, 'alpha': 0.44019477154566516, 'colsample_bytree': 0.5429691636262585, 'subsample': 0.4242685098779416, 'learning_rate': 0.011341849007169977, 'max_depth': 20, 'min_child_weight': 263, 'eval_metric': 'logloss'}. Best is trial 161 with value: 0.8141570263140113.\u001b[0m\n",
      "/home/tunguz/anaconda3/lib/python3.7/site-packages/xgboost/dask.py:884: RuntimeWarning: coroutine 'Client._wait_for_workers' was never awaited\n",
      "  client.wait_for_workers(n_workers)\n",
      "\u001b[32m[I 2022-11-22 16:48:34,282]\u001b[0m Trial 169 finished with value: 0.8130118818218841 and parameters: {'objective': 'binary:logistic', 'tree_method': 'gpu_hist', 'lambda': 8.828481660173335, 'alpha': 1.775385286000918, 'colsample_bytree': 0.8218845601988171, 'subsample': 0.45515407947247233, 'learning_rate': 0.009790558616434679, 'max_depth': 22, 'min_child_weight': 255, 'eval_metric': 'logloss'}. Best is trial 161 with value: 0.8141570263140113.\u001b[0m\n",
      "/home/tunguz/anaconda3/lib/python3.7/site-packages/xgboost/dask.py:884: RuntimeWarning: coroutine 'Client._wait_for_workers' was never awaited\n",
      "  client.wait_for_workers(n_workers)\n",
      "\u001b[32m[I 2022-11-22 16:49:38,787]\u001b[0m Trial 170 finished with value: 0.8134826973263863 and parameters: {'objective': 'binary:logistic', 'tree_method': 'gpu_hist', 'lambda': 6.527854929028415, 'alpha': 0.7110516107523867, 'colsample_bytree': 0.8029823447604887, 'subsample': 0.43717923254515956, 'learning_rate': 0.014492330003920221, 'max_depth': 21, 'min_child_weight': 276, 'eval_metric': 'logloss'}. Best is trial 161 with value: 0.8141570263140113.\u001b[0m\n",
      "/home/tunguz/anaconda3/lib/python3.7/site-packages/xgboost/dask.py:884: RuntimeWarning: coroutine 'Client._wait_for_workers' was never awaited\n",
      "  client.wait_for_workers(n_workers)\n",
      "\u001b[32m[I 2022-11-22 16:50:43,469]\u001b[0m Trial 171 finished with value: 0.8129278414010832 and parameters: {'objective': 'binary:logistic', 'tree_method': 'gpu_hist', 'lambda': 6.973359150094031, 'alpha': 0.8011719509129084, 'colsample_bytree': 0.8008783851896917, 'subsample': 0.43642022108288747, 'learning_rate': 0.014288275515565437, 'max_depth': 21, 'min_child_weight': 276, 'eval_metric': 'logloss'}. Best is trial 161 with value: 0.8141570263140113.\u001b[0m\n",
      "/home/tunguz/anaconda3/lib/python3.7/site-packages/xgboost/dask.py:884: RuntimeWarning: coroutine 'Client._wait_for_workers' was never awaited\n",
      "  client.wait_for_workers(n_workers)\n",
      "\u001b[32m[I 2022-11-22 16:52:59,835]\u001b[0m Trial 172 finished with value: 0.8133295200440807 and parameters: {'objective': 'binary:logistic', 'tree_method': 'gpu_hist', 'lambda': 3.892175714496962, 'alpha': 0.6426229291241564, 'colsample_bytree': 0.8345645817821835, 'subsample': 0.4008156040692823, 'learning_rate': 0.01721693015932207, 'max_depth': 23, 'min_child_weight': 263, 'eval_metric': 'logloss'}. Best is trial 161 with value: 0.8141570263140113.\u001b[0m\n",
      "/home/tunguz/anaconda3/lib/python3.7/site-packages/xgboost/dask.py:884: RuntimeWarning: coroutine 'Client._wait_for_workers' was never awaited\n",
      "  client.wait_for_workers(n_workers)\n",
      "\u001b[32m[I 2022-11-22 16:54:04,563]\u001b[0m Trial 173 finished with value: 0.813235524893575 and parameters: {'objective': 'binary:logistic', 'tree_method': 'gpu_hist', 'lambda': 6.2951412843440275, 'alpha': 0.9445094003329962, 'colsample_bytree': 0.8485191333897945, 'subsample': 0.4240623636116859, 'learning_rate': 0.013806014636403206, 'max_depth': 21, 'min_child_weight': 270, 'eval_metric': 'logloss'}. Best is trial 161 with value: 0.8141570263140113.\u001b[0m\n",
      "/home/tunguz/anaconda3/lib/python3.7/site-packages/xgboost/dask.py:884: RuntimeWarning: coroutine 'Client._wait_for_workers' was never awaited\n",
      "  client.wait_for_workers(n_workers)\n",
      "\u001b[32m[I 2022-11-22 16:54:57,718]\u001b[0m Trial 174 finished with value: 0.8127778356092406 and parameters: {'objective': 'binary:logistic', 'tree_method': 'gpu_hist', 'lambda': 4.616916838306812, 'alpha': 1.2264516278396618, 'colsample_bytree': 0.7961613908406984, 'subsample': 0.4442526356128712, 'learning_rate': 0.012450757492022797, 'max_depth': 20, 'min_child_weight': 280, 'eval_metric': 'logloss'}. Best is trial 161 with value: 0.8141570263140113.\u001b[0m\n",
      "/home/tunguz/anaconda3/lib/python3.7/site-packages/xgboost/dask.py:884: RuntimeWarning: coroutine 'Client._wait_for_workers' was never awaited\n",
      "  client.wait_for_workers(n_workers)\n",
      "\u001b[32m[I 2022-11-22 16:55:50,482]\u001b[0m Trial 175 finished with value: 0.81264802462942 and parameters: {'objective': 'binary:logistic', 'tree_method': 'gpu_hist', 'lambda': 9.974505076232361, 'alpha': 0.5581794225214357, 'colsample_bytree': 0.7672102783509179, 'subsample': 0.4158042495561948, 'learning_rate': 0.015067203188084254, 'max_depth': 20, 'min_child_weight': 253, 'eval_metric': 'logloss'}. Best is trial 161 with value: 0.8141570263140113.\u001b[0m\n",
      "/home/tunguz/anaconda3/lib/python3.7/site-packages/xgboost/dask.py:884: RuntimeWarning: coroutine 'Client._wait_for_workers' was never awaited\n",
      "  client.wait_for_workers(n_workers)\n",
      "\u001b[32m[I 2022-11-22 16:57:00,070]\u001b[0m Trial 176 finished with value: 0.8138135106863412 and parameters: {'objective': 'binary:logistic', 'tree_method': 'gpu_hist', 'lambda': 3.4052414289145574, 'alpha': 3.751505292479168, 'colsample_bytree': 0.7754582206261676, 'subsample': 0.469112598719807, 'learning_rate': 0.0163982704106203, 'max_depth': 21, 'min_child_weight': 258, 'eval_metric': 'logloss'}. Best is trial 161 with value: 0.8141570263140113.\u001b[0m\n",
      "/home/tunguz/anaconda3/lib/python3.7/site-packages/xgboost/dask.py:884: RuntimeWarning: coroutine 'Client._wait_for_workers' was never awaited\n",
      "  client.wait_for_workers(n_workers)\n",
      "\u001b[32m[I 2022-11-22 16:58:31,434]\u001b[0m Trial 177 finished with value: 0.814036892864215 and parameters: {'objective': 'binary:logistic', 'tree_method': 'gpu_hist', 'lambda': 2.2776838808131235, 'alpha': 4.100332870557949, 'colsample_bytree': 0.7714845565521008, 'subsample': 0.473887440736492, 'learning_rate': 0.01667369208690859, 'max_depth': 22, 'min_child_weight': 260, 'eval_metric': 'logloss'}. Best is trial 161 with value: 0.8141570263140113.\u001b[0m\n",
      "/home/tunguz/anaconda3/lib/python3.7/site-packages/xgboost/dask.py:884: RuntimeWarning: coroutine 'Client._wait_for_workers' was never awaited\n",
      "  client.wait_for_workers(n_workers)\n",
      "\u001b[32m[I 2022-11-22 17:00:03,489]\u001b[0m Trial 178 finished with value: 0.8137216679098257 and parameters: {'objective': 'binary:logistic', 'tree_method': 'gpu_hist', 'lambda': 2.4130714968187146, 'alpha': 3.7845567698824287, 'colsample_bytree': 0.7720717128336505, 'subsample': 0.4724213078241666, 'learning_rate': 0.016830325052334217, 'max_depth': 22, 'min_child_weight': 259, 'eval_metric': 'logloss'}. Best is trial 161 with value: 0.8141570263140113.\u001b[0m\n",
      "/home/tunguz/anaconda3/lib/python3.7/site-packages/xgboost/dask.py:884: RuntimeWarning: coroutine 'Client._wait_for_workers' was never awaited\n",
      "  client.wait_for_workers(n_workers)\n",
      "\u001b[32m[I 2022-11-22 17:01:34,571]\u001b[0m Trial 179 finished with value: 0.8117672715620261 and parameters: {'objective': 'binary:logistic', 'tree_method': 'gpu_hist', 'lambda': 2.7411386280836254, 'alpha': 3.8527946126392947, 'colsample_bytree': 0.7317502222730882, 'subsample': 0.4714624615063777, 'learning_rate': 0.019616387570096892, 'max_depth': 22, 'min_child_weight': 249, 'eval_metric': 'logloss'}. Best is trial 161 with value: 0.8141570263140113.\u001b[0m\n",
      "/home/tunguz/anaconda3/lib/python3.7/site-packages/xgboost/dask.py:884: RuntimeWarning: coroutine 'Client._wait_for_workers' was never awaited\n",
      "  client.wait_for_workers(n_workers)\n",
      "\u001b[32m[I 2022-11-22 17:03:57,614]\u001b[0m Trial 180 finished with value: 0.8119338685700436 and parameters: {'objective': 'binary:logistic', 'tree_method': 'gpu_hist', 'lambda': 2.164784961506471, 'alpha': 4.1215136929831475, 'colsample_bytree': 0.7489254030487027, 'subsample': 0.4792811379074541, 'learning_rate': 0.016946725560239292, 'max_depth': 23, 'min_child_weight': 244, 'eval_metric': 'logloss'}. Best is trial 161 with value: 0.8141570263140113.\u001b[0m\n",
      "/home/tunguz/anaconda3/lib/python3.7/site-packages/xgboost/dask.py:884: RuntimeWarning: coroutine 'Client._wait_for_workers' was never awaited\n",
      "  client.wait_for_workers(n_workers)\n",
      "\u001b[32m[I 2022-11-22 17:05:28,527]\u001b[0m Trial 181 finished with value: 0.8133278813047926 and parameters: {'objective': 'binary:logistic', 'tree_method': 'gpu_hist', 'lambda': 3.390962196285432, 'alpha': 2.736877635595324, 'colsample_bytree': 0.7155230919664679, 'subsample': 0.4634869455869406, 'learning_rate': 0.016289268169947642, 'max_depth': 22, 'min_child_weight': 260, 'eval_metric': 'logloss'}. Best is trial 161 with value: 0.8141570263140113.\u001b[0m\n",
      "/home/tunguz/anaconda3/lib/python3.7/site-packages/xgboost/dask.py:884: RuntimeWarning: coroutine 'Client._wait_for_workers' was never awaited\n",
      "  client.wait_for_workers(n_workers)\n",
      "\u001b[32m[I 2022-11-22 17:06:32,538]\u001b[0m Trial 182 finished with value: 0.8128626913232194 and parameters: {'objective': 'binary:logistic', 'tree_method': 'gpu_hist', 'lambda': 2.411919644506618, 'alpha': 2.2121474279073463, 'colsample_bytree': 0.7832925167064753, 'subsample': 0.43446108193222266, 'learning_rate': 0.01826060689407422, 'max_depth': 21, 'min_child_weight': 266, 'eval_metric': 'logloss'}. Best is trial 161 with value: 0.8141570263140113.\u001b[0m\n",
      "/home/tunguz/anaconda3/lib/python3.7/site-packages/xgboost/dask.py:884: RuntimeWarning: coroutine 'Client._wait_for_workers' was never awaited\n",
      "  client.wait_for_workers(n_workers)\n",
      "\u001b[32m[I 2022-11-22 17:08:06,507]\u001b[0m Trial 183 finished with value: 0.8127911656527028 and parameters: {'objective': 'binary:logistic', 'tree_method': 'gpu_hist', 'lambda': 3.0607079316598544, 'alpha': 3.3610696505819884, 'colsample_bytree': 0.7418278248734171, 'subsample': 0.44853149095459693, 'learning_rate': 0.013449426393215384, 'max_depth': 22, 'min_child_weight': 258, 'eval_metric': 'logloss'}. Best is trial 161 with value: 0.8141570263140113.\u001b[0m\n",
      "/home/tunguz/anaconda3/lib/python3.7/site-packages/xgboost/dask.py:884: RuntimeWarning: coroutine 'Client._wait_for_workers' was never awaited\n",
      "  client.wait_for_workers(n_workers)\n",
      "\u001b[32m[I 2022-11-22 17:09:13,115]\u001b[0m Trial 184 finished with value: 0.8130770645114751 and parameters: {'objective': 'binary:logistic', 'tree_method': 'gpu_hist', 'lambda': 3.6849053801976486, 'alpha': 4.463893022346712, 'colsample_bytree': 0.7687420212780733, 'subsample': 0.42696349737193057, 'learning_rate': 0.014822819503813693, 'max_depth': 21, 'min_child_weight': 254, 'eval_metric': 'logloss'}. Best is trial 161 with value: 0.8141570263140113.\u001b[0m\n",
      "/home/tunguz/anaconda3/lib/python3.7/site-packages/xgboost/dask.py:884: RuntimeWarning: coroutine 'Client._wait_for_workers' was never awaited\n",
      "  client.wait_for_workers(n_workers)\n",
      "\u001b[32m[I 2022-11-22 17:13:15,598]\u001b[0m Trial 185 finished with value: 0.8052158120176562 and parameters: {'objective': 'binary:logistic', 'tree_method': 'gpu_hist', 'lambda': 2.0742935586783764, 'alpha': 9.796305054642232, 'colsample_bytree': 0.7774566838330538, 'subsample': 0.45984045155684666, 'learning_rate': 0.0034583430692413835, 'max_depth': 24, 'min_child_weight': 268, 'eval_metric': 'logloss'}. Best is trial 161 with value: 0.8141570263140113.\u001b[0m\n",
      "/home/tunguz/anaconda3/lib/python3.7/site-packages/xgboost/dask.py:884: RuntimeWarning: coroutine 'Client._wait_for_workers' was never awaited\n",
      "  client.wait_for_workers(n_workers)\n",
      "\u001b[32m[I 2022-11-22 17:14:48,984]\u001b[0m Trial 186 finished with value: 0.8126050749847964 and parameters: {'objective': 'binary:logistic', 'tree_method': 'gpu_hist', 'lambda': 2.707054007207778, 'alpha': 6.6660518823524475, 'colsample_bytree': 0.8146857407892768, 'subsample': 0.4123019919098691, 'learning_rate': 0.011985158003938366, 'max_depth': 22, 'min_child_weight': 237, 'eval_metric': 'logloss'}. Best is trial 161 with value: 0.8141570263140113.\u001b[0m\n",
      "/home/tunguz/anaconda3/lib/python3.7/site-packages/xgboost/dask.py:884: RuntimeWarning: coroutine 'Client._wait_for_workers' was never awaited\n",
      "  client.wait_for_workers(n_workers)\n",
      "\u001b[32m[I 2022-11-22 17:15:56,930]\u001b[0m Trial 187 finished with value: 0.81269690960838 and parameters: {'objective': 'binary:logistic', 'tree_method': 'gpu_hist', 'lambda': 4.081471769198021, 'alpha': 2.8328634774573533, 'colsample_bytree': 0.8916986211433138, 'subsample': 0.4880248066461382, 'learning_rate': 0.016862793383652607, 'max_depth': 21, 'min_child_weight': 265, 'eval_metric': 'logloss'}. Best is trial 161 with value: 0.8141570263140113.\u001b[0m\n",
      "/home/tunguz/anaconda3/lib/python3.7/site-packages/xgboost/dask.py:884: RuntimeWarning: coroutine 'Client._wait_for_workers' was never awaited\n",
      "  client.wait_for_workers(n_workers)\n",
      "\u001b[32m[I 2022-11-22 17:18:17,282]\u001b[0m Trial 188 finished with value: 0.8130626256692904 and parameters: {'objective': 'binary:logistic', 'tree_method': 'gpu_hist', 'lambda': 1.7715957777180618, 'alpha': 3.6023636379408734, 'colsample_bytree': 0.7967458476856821, 'subsample': 0.4352203314770088, 'learning_rate': 0.013403897930282883, 'max_depth': 23, 'min_child_weight': 259, 'eval_metric': 'logloss'}. Best is trial 161 with value: 0.8141570263140113.\u001b[0m\n",
      "/home/tunguz/anaconda3/lib/python3.7/site-packages/xgboost/dask.py:884: RuntimeWarning: coroutine 'Client._wait_for_workers' was never awaited\n",
      "  client.wait_for_workers(n_workers)\n",
      "\u001b[32m[I 2022-11-22 17:19:25,038]\u001b[0m Trial 189 finished with value: 0.8128204509836611 and parameters: {'objective': 'binary:logistic', 'tree_method': 'gpu_hist', 'lambda': 4.890705835142351, 'alpha': 4.9123607415635755, 'colsample_bytree': 0.9192531523685371, 'subsample': 0.4501847789850135, 'learning_rate': 0.015805548473082555, 'max_depth': 21, 'min_child_weight': 251, 'eval_metric': 'logloss'}. Best is trial 161 with value: 0.8141570263140113.\u001b[0m\n",
      "/home/tunguz/anaconda3/lib/python3.7/site-packages/xgboost/dask.py:884: RuntimeWarning: coroutine 'Client._wait_for_workers' was never awaited\n",
      "  client.wait_for_workers(n_workers)\n",
      "\u001b[32m[I 2022-11-22 17:19:32,118]\u001b[0m Trial 190 finished with value: 0.7883912100176964 and parameters: {'objective': 'binary:logistic', 'tree_method': 'gpu_hist', 'lambda': 2.612734724625213, 'alpha': 2.409606199410324, 'colsample_bytree': 0.32350716629789733, 'subsample': 0.42182235236900106, 'learning_rate': 0.010654830831527635, 'max_depth': 4, 'min_child_weight': 275, 'eval_metric': 'logloss'}. Best is trial 161 with value: 0.8141570263140113.\u001b[0m\n",
      "/home/tunguz/anaconda3/lib/python3.7/site-packages/xgboost/dask.py:884: RuntimeWarning: coroutine 'Client._wait_for_workers' was never awaited\n",
      "  client.wait_for_workers(n_workers)\n",
      "\u001b[32m[I 2022-11-22 17:20:27,875]\u001b[0m Trial 191 finished with value: 0.8131978094311549 and parameters: {'objective': 'binary:logistic', 'tree_method': 'gpu_hist', 'lambda': 3.327517405904875, 'alpha': 6.098414852644486, 'colsample_bytree': 0.762055264915184, 'subsample': 0.5012129346257514, 'learning_rate': 0.018065244816988978, 'max_depth': 20, 'min_child_weight': 257, 'eval_metric': 'logloss'}. Best is trial 161 with value: 0.8141570263140113.\u001b[0m\n",
      "/home/tunguz/anaconda3/lib/python3.7/site-packages/xgboost/dask.py:884: RuntimeWarning: coroutine 'Client._wait_for_workers' was never awaited\n",
      "  client.wait_for_workers(n_workers)\n",
      "\u001b[32m[I 2022-11-22 17:21:23,228]\u001b[0m Trial 192 finished with value: 0.8125660632062233 and parameters: {'objective': 'binary:logistic', 'tree_method': 'gpu_hist', 'lambda': 3.7788671916285153, 'alpha': 7.819885803136346, 'colsample_bytree': 0.7758575725154497, 'subsample': 0.47056660112092213, 'learning_rate': 0.014377505718037281, 'max_depth': 20, 'min_child_weight': 264, 'eval_metric': 'logloss'}. Best is trial 161 with value: 0.8141570263140113.\u001b[0m\n",
      "/home/tunguz/anaconda3/lib/python3.7/site-packages/xgboost/dask.py:884: RuntimeWarning: coroutine 'Client._wait_for_workers' was never awaited\n",
      "  client.wait_for_workers(n_workers)\n",
      "\u001b[32m[I 2022-11-22 17:22:30,211]\u001b[0m Trial 193 finished with value: 0.8133228509458836 and parameters: {'objective': 'binary:logistic', 'tree_method': 'gpu_hist', 'lambda': 3.0343697656987296, 'alpha': 3.3404681137963124, 'colsample_bytree': 0.7534201839829608, 'subsample': 0.43772760347275413, 'learning_rate': 0.015712029498051464, 'max_depth': 21, 'min_child_weight': 271, 'eval_metric': 'logloss'}. Best is trial 161 with value: 0.8141570263140113.\u001b[0m\n",
      "/home/tunguz/anaconda3/lib/python3.7/site-packages/xgboost/dask.py:884: RuntimeWarning: coroutine 'Client._wait_for_workers' was never awaited\n",
      "  client.wait_for_workers(n_workers)\n",
      "\u001b[32m[I 2022-11-22 17:24:00,121]\u001b[0m Trial 194 finished with value: 0.8133147632375567 and parameters: {'objective': 'binary:logistic', 'tree_method': 'gpu_hist', 'lambda': 4.931250324224402, 'alpha': 0.2040211254960492, 'colsample_bytree': 0.810669022920605, 'subsample': 0.4000143883292229, 'learning_rate': 0.013112574776451738, 'max_depth': 22, 'min_child_weight': 249, 'eval_metric': 'logloss'}. Best is trial 161 with value: 0.8141570263140113.\u001b[0m\n",
      "/home/tunguz/anaconda3/lib/python3.7/site-packages/xgboost/dask.py:884: RuntimeWarning: coroutine 'Client._wait_for_workers' was never awaited\n",
      "  client.wait_for_workers(n_workers)\n",
      "\u001b[32m[I 2022-11-22 17:24:52,221]\u001b[0m Trial 195 finished with value: 0.8131966761736374 and parameters: {'objective': 'binary:logistic', 'tree_method': 'gpu_hist', 'lambda': 2.0494267934941828, 'alpha': 4.226318833455871, 'colsample_bytree': 0.862317003606762, 'subsample': 0.4511673084162548, 'learning_rate': 0.01993033634589482, 'max_depth': 20, 'min_child_weight': 261, 'eval_metric': 'logloss'}. Best is trial 161 with value: 0.8141570263140113.\u001b[0m\n",
      "/home/tunguz/anaconda3/lib/python3.7/site-packages/xgboost/dask.py:884: RuntimeWarning: coroutine 'Client._wait_for_workers' was never awaited\n",
      "  client.wait_for_workers(n_workers)\n",
      "\u001b[32m[I 2022-11-22 17:26:04,882]\u001b[0m Trial 196 finished with value: 0.8133337595686069 and parameters: {'objective': 'binary:logistic', 'tree_method': 'gpu_hist', 'lambda': 1.319081860490476, 'alpha': 5.591331561464676, 'colsample_bytree': 0.7973239780285237, 'subsample': 0.4856681978732884, 'learning_rate': 0.012370333576230262, 'max_depth': 21, 'min_child_weight': 244, 'eval_metric': 'logloss'}. Best is trial 161 with value: 0.8141570263140113.\u001b[0m\n",
      "/home/tunguz/anaconda3/lib/python3.7/site-packages/xgboost/dask.py:884: RuntimeWarning: coroutine 'Client._wait_for_workers' was never awaited\n",
      "  client.wait_for_workers(n_workers)\n",
      "\u001b[32m[I 2022-11-22 17:27:34,563]\u001b[0m Trial 197 finished with value: 0.8135955583610337 and parameters: {'objective': 'binary:logistic', 'tree_method': 'gpu_hist', 'lambda': 5.827371602605931, 'alpha': 0.3171230204522205, 'colsample_bytree': 0.8205919367049496, 'subsample': 0.4254430076189647, 'learning_rate': 0.014519936162283933, 'max_depth': 22, 'min_child_weight': 279, 'eval_metric': 'logloss'}. Best is trial 161 with value: 0.8141570263140113.\u001b[0m\n",
      "/home/tunguz/anaconda3/lib/python3.7/site-packages/xgboost/dask.py:884: RuntimeWarning: coroutine 'Client._wait_for_workers' was never awaited\n",
      "  client.wait_for_workers(n_workers)\n",
      "\u001b[32m[I 2022-11-22 17:29:02,022]\u001b[0m Trial 198 finished with value: 0.8128866201779975 and parameters: {'objective': 'binary:logistic', 'tree_method': 'gpu_hist', 'lambda': 5.989968253065026, 'alpha': 0.36120643501693217, 'colsample_bytree': 0.8250413119956239, 'subsample': 0.4199231524192475, 'learning_rate': 0.014274742269163046, 'max_depth': 22, 'min_child_weight': 279, 'eval_metric': 'logloss'}. Best is trial 161 with value: 0.8141570263140113.\u001b[0m\n",
      "/home/tunguz/anaconda3/lib/python3.7/site-packages/xgboost/dask.py:884: RuntimeWarning: coroutine 'Client._wait_for_workers' was never awaited\n",
      "  client.wait_for_workers(n_workers)\n",
      "\u001b[32m[I 2022-11-22 17:30:52,270]\u001b[0m Trial 199 finished with value: 0.811656032960803 and parameters: {'objective': 'binary:logistic', 'tree_method': 'gpu_hist', 'lambda': 4.201864536624811, 'alpha': 0.4285398454661392, 'colsample_bytree': 0.8416018493355072, 'subsample': 0.9178318841799137, 'learning_rate': 0.016612993142272405, 'max_depth': 22, 'min_child_weight': 272, 'eval_metric': 'logloss'}. Best is trial 161 with value: 0.8141570263140113.\u001b[0m\n",
      "/home/tunguz/anaconda3/lib/python3.7/site-packages/xgboost/dask.py:884: RuntimeWarning: coroutine 'Client._wait_for_workers' was never awaited\n",
      "  client.wait_for_workers(n_workers)\n",
      "\u001b[32m[I 2022-11-22 17:33:10,998]\u001b[0m Trial 200 finished with value: 0.813723559389999 and parameters: {'objective': 'binary:logistic', 'tree_method': 'gpu_hist', 'lambda': 3.3381980773711866, 'alpha': 0.5229624872268718, 'colsample_bytree': 0.8531803381384412, 'subsample': 0.4289030007042212, 'learning_rate': 0.011384910817772, 'max_depth': 23, 'min_child_weight': 281, 'eval_metric': 'logloss'}. Best is trial 161 with value: 0.8141570263140113.\u001b[0m\n",
      "/home/tunguz/anaconda3/lib/python3.7/site-packages/xgboost/dask.py:884: RuntimeWarning: coroutine 'Client._wait_for_workers' was never awaited\n",
      "  client.wait_for_workers(n_workers)\n",
      "\u001b[32m[I 2022-11-22 17:35:26,893]\u001b[0m Trial 201 finished with value: 0.8127835263556238 and parameters: {'objective': 'binary:logistic', 'tree_method': 'gpu_hist', 'lambda': 3.5188701750181726, 'alpha': 0.4554175005692141, 'colsample_bytree': 0.8566564755624924, 'subsample': 0.42691434858299465, 'learning_rate': 0.011400358579555948, 'max_depth': 23, 'min_child_weight': 284, 'eval_metric': 'logloss'}. Best is trial 161 with value: 0.8141570263140113.\u001b[0m\n",
      "/home/tunguz/anaconda3/lib/python3.7/site-packages/xgboost/dask.py:884: RuntimeWarning: coroutine 'Client._wait_for_workers' was never awaited\n",
      "  client.wait_for_workers(n_workers)\n",
      "\u001b[32m[I 2022-11-22 17:37:33,025]\u001b[0m Trial 202 finished with value: 0.8006442267329024 and parameters: {'objective': 'binary:logistic', 'tree_method': 'gpu_hist', 'lambda': 5.251833608370538, 'alpha': 0.6196895675960996, 'colsample_bytree': 0.8174115435535447, 'subsample': 0.4090320919608923, 'learning_rate': 0.09707017603593987, 'max_depth': 23, 'min_child_weight': 278, 'eval_metric': 'logloss'}. Best is trial 161 with value: 0.8141570263140113.\u001b[0m\n",
      "/home/tunguz/anaconda3/lib/python3.7/site-packages/xgboost/dask.py:884: RuntimeWarning: coroutine 'Client._wait_for_workers' was never awaited\n",
      "  client.wait_for_workers(n_workers)\n",
      "\u001b[32m[I 2022-11-22 17:39:50,008]\u001b[0m Trial 203 finished with value: 0.8137229642259789 and parameters: {'objective': 'binary:logistic', 'tree_method': 'gpu_hist', 'lambda': 2.2764444718555645, 'alpha': 0.29730258359462736, 'colsample_bytree': 0.8753821893208982, 'subsample': 0.4356772186947774, 'learning_rate': 0.012892287471427719, 'max_depth': 23, 'min_child_weight': 270, 'eval_metric': 'logloss'}. Best is trial 161 with value: 0.8141570263140113.\u001b[0m\n",
      "/home/tunguz/anaconda3/lib/python3.7/site-packages/xgboost/dask.py:884: RuntimeWarning: coroutine 'Client._wait_for_workers' was never awaited\n",
      "  client.wait_for_workers(n_workers)\n",
      "\u001b[32m[I 2022-11-22 17:42:06,225]\u001b[0m Trial 204 finished with value: 0.8133282807984499 and parameters: {'objective': 'binary:logistic', 'tree_method': 'gpu_hist', 'lambda': 2.445344500120696, 'alpha': 0.30070170398163354, 'colsample_bytree': 0.8997707192438903, 'subsample': 0.43414820593690895, 'learning_rate': 0.014609635117524772, 'max_depth': 23, 'min_child_weight': 269, 'eval_metric': 'logloss'}. Best is trial 161 with value: 0.8141570263140113.\u001b[0m\n",
      "/home/tunguz/anaconda3/lib/python3.7/site-packages/xgboost/dask.py:884: RuntimeWarning: coroutine 'Client._wait_for_workers' was never awaited\n",
      "  client.wait_for_workers(n_workers)\n",
      "\u001b[32m[I 2022-11-22 17:45:57,360]\u001b[0m Trial 205 finished with value: 0.8128141813791212 and parameters: {'objective': 'binary:logistic', 'tree_method': 'gpu_hist', 'lambda': 3.029398316980092, 'alpha': 0.22745699508037787, 'colsample_bytree': 0.8879604338332654, 'subsample': 0.44266330085833605, 'learning_rate': 0.01291773604393263, 'max_depth': 24, 'min_child_weight': 294, 'eval_metric': 'logloss'}. Best is trial 161 with value: 0.8141570263140113.\u001b[0m\n",
      "/home/tunguz/anaconda3/lib/python3.7/site-packages/xgboost/dask.py:884: RuntimeWarning: coroutine 'Client._wait_for_workers' was never awaited\n",
      "  client.wait_for_workers(n_workers)\n",
      "\u001b[32m[I 2022-11-22 17:48:13,059]\u001b[0m Trial 206 finished with value: 0.8130793880970326 and parameters: {'objective': 'binary:logistic', 'tree_method': 'gpu_hist', 'lambda': 4.35107270448934, 'alpha': 0.30089133154320974, 'colsample_bytree': 0.8742431706585346, 'subsample': 0.4129565157228242, 'learning_rate': 0.015398710175575576, 'max_depth': 23, 'min_child_weight': 282, 'eval_metric': 'logloss'}. Best is trial 161 with value: 0.8141570263140113.\u001b[0m\n",
      "/home/tunguz/anaconda3/lib/python3.7/site-packages/xgboost/dask.py:884: RuntimeWarning: coroutine 'Client._wait_for_workers' was never awaited\n",
      "  client.wait_for_workers(n_workers)\n",
      "\u001b[32m[I 2022-11-22 17:52:19,358]\u001b[0m Trial 207 finished with value: 0.8122153077751315 and parameters: {'objective': 'binary:logistic', 'tree_method': 'gpu_hist', 'lambda': 6.784276354850832, 'alpha': 0.5770781706443145, 'colsample_bytree': 0.8407686461383141, 'subsample': 0.7691109009814655, 'learning_rate': 0.01786153677665131, 'max_depth': 24, 'min_child_weight': 268, 'eval_metric': 'logloss'}. Best is trial 161 with value: 0.8141570263140113.\u001b[0m\n",
      "/home/tunguz/anaconda3/lib/python3.7/site-packages/xgboost/dask.py:884: RuntimeWarning: coroutine 'Client._wait_for_workers' was never awaited\n",
      "  client.wait_for_workers(n_workers)\n",
      "\u001b[32m[I 2022-11-22 17:53:53,222]\u001b[0m Trial 208 finished with value: 0.8132751889066906 and parameters: {'objective': 'binary:logistic', 'tree_method': 'gpu_hist', 'lambda': 3.4738639128323916, 'alpha': 0.37519811248524165, 'colsample_bytree': 0.8308937357631747, 'subsample': 0.4562959626477291, 'learning_rate': 0.013410887013734643, 'max_depth': 22, 'min_child_weight': 257, 'eval_metric': 'logloss'}. Best is trial 161 with value: 0.8141570263140113.\u001b[0m\n",
      "/home/tunguz/anaconda3/lib/python3.7/site-packages/xgboost/dask.py:884: RuntimeWarning: coroutine 'Client._wait_for_workers' was never awaited\n",
      "  client.wait_for_workers(n_workers)\n",
      "\u001b[32m[I 2022-11-22 18:01:04,607]\u001b[0m Trial 209 finished with value: 0.8133542315803096 and parameters: {'objective': 'binary:logistic', 'tree_method': 'gpu_hist', 'lambda': 5.718259074492406, 'alpha': 0.4820748303960316, 'colsample_bytree': 0.8102557215282257, 'subsample': 0.4319254412184253, 'learning_rate': 0.01426626040277448, 'max_depth': 25, 'min_child_weight': 275, 'eval_metric': 'logloss'}. Best is trial 161 with value: 0.8141570263140113.\u001b[0m\n",
      "/home/tunguz/anaconda3/lib/python3.7/site-packages/xgboost/dask.py:884: RuntimeWarning: coroutine 'Client._wait_for_workers' was never awaited\n",
      "  client.wait_for_workers(n_workers)\n",
      "\u001b[32m[I 2022-11-22 18:02:06,748]\u001b[0m Trial 210 finished with value: 0.8135286635557688 and parameters: {'objective': 'binary:logistic', 'tree_method': 'gpu_hist', 'lambda': 2.2294593494348116, 'alpha': 0.7660119416301518, 'colsample_bytree': 0.8689538365497209, 'subsample': 0.41944496891537436, 'learning_rate': 0.01596314701114731, 'max_depth': 21, 'min_child_weight': 287, 'eval_metric': 'logloss'}. Best is trial 161 with value: 0.8141570263140113.\u001b[0m\n",
      "/home/tunguz/anaconda3/lib/python3.7/site-packages/xgboost/dask.py:884: RuntimeWarning: coroutine 'Client._wait_for_workers' was never awaited\n",
      "  client.wait_for_workers(n_workers)\n",
      "\u001b[32m[I 2022-11-22 18:03:10,854]\u001b[0m Trial 211 finished with value: 0.8135016855045046 and parameters: {'objective': 'binary:logistic', 'tree_method': 'gpu_hist', 'lambda': 2.29207253098151, 'alpha': 0.6739738169588048, 'colsample_bytree': 0.8754016670719158, 'subsample': 0.42406183578106366, 'learning_rate': 0.016086123389612784, 'max_depth': 21, 'min_child_weight': 290, 'eval_metric': 'logloss'}. Best is trial 161 with value: 0.8141570263140113.\u001b[0m\n",
      "/home/tunguz/anaconda3/lib/python3.7/site-packages/xgboost/dask.py:884: RuntimeWarning: coroutine 'Client._wait_for_workers' was never awaited\n",
      "  client.wait_for_workers(n_workers)\n",
      "\u001b[32m[I 2022-11-22 18:04:36,435]\u001b[0m Trial 212 finished with value: 0.8132216078390243 and parameters: {'objective': 'binary:logistic', 'tree_method': 'gpu_hist', 'lambda': 2.2933680284866798, 'alpha': 0.7932913605910424, 'colsample_bytree': 0.8711114432720809, 'subsample': 0.41714160967169595, 'learning_rate': 0.016392072091336758, 'max_depth': 22, 'min_child_weight': 293, 'eval_metric': 'logloss'}. Best is trial 161 with value: 0.8141570263140113.\u001b[0m\n",
      "/home/tunguz/anaconda3/lib/python3.7/site-packages/xgboost/dask.py:884: RuntimeWarning: coroutine 'Client._wait_for_workers' was never awaited\n",
      "  client.wait_for_workers(n_workers)\n",
      "\u001b[32m[I 2022-11-22 18:05:36,220]\u001b[0m Trial 213 finished with value: 0.8133316398063437 and parameters: {'objective': 'binary:logistic', 'tree_method': 'gpu_hist', 'lambda': 2.7490927627505757, 'alpha': 0.536010306676276, 'colsample_bytree': 0.9122435776164696, 'subsample': 0.4112528454649708, 'learning_rate': 0.018711143427512855, 'max_depth': 21, 'min_child_weight': 300, 'eval_metric': 'logloss'}. Best is trial 161 with value: 0.8141570263140113.\u001b[0m\n",
      "/home/tunguz/anaconda3/lib/python3.7/site-packages/xgboost/dask.py:884: RuntimeWarning: coroutine 'Client._wait_for_workers' was never awaited\n",
      "  client.wait_for_workers(n_workers)\n",
      "\u001b[32m[I 2022-11-22 18:07:02,830]\u001b[0m Trial 214 finished with value: 0.8130729228221302 and parameters: {'objective': 'binary:logistic', 'tree_method': 'gpu_hist', 'lambda': 1.873005107047144, 'alpha': 0.4194739533000036, 'colsample_bytree': 0.8832197944318615, 'subsample': 0.4266117640699603, 'learning_rate': 0.01596926029244748, 'max_depth': 22, 'min_child_weight': 290, 'eval_metric': 'logloss'}. Best is trial 161 with value: 0.8141570263140113.\u001b[0m\n",
      "/home/tunguz/anaconda3/lib/python3.7/site-packages/xgboost/dask.py:884: RuntimeWarning: coroutine 'Client._wait_for_workers' was never awaited\n",
      "  client.wait_for_workers(n_workers)\n",
      "\u001b[32m[I 2022-11-22 18:09:18,062]\u001b[0m Trial 215 finished with value: 0.8125506541651567 and parameters: {'objective': 'binary:logistic', 'tree_method': 'gpu_hist', 'lambda': 2.364589839501477, 'alpha': 0.6272787410083379, 'colsample_bytree': 0.8516321218026117, 'subsample': 0.42093128677016206, 'learning_rate': 0.017399749588109435, 'max_depth': 23, 'min_child_weight': 285, 'eval_metric': 'logloss'}. Best is trial 161 with value: 0.8141570263140113.\u001b[0m\n",
      "/home/tunguz/anaconda3/lib/python3.7/site-packages/xgboost/dask.py:884: RuntimeWarning: coroutine 'Client._wait_for_workers' was never awaited\n",
      "  client.wait_for_workers(n_workers)\n",
      "\u001b[32m[I 2022-11-22 18:10:23,520]\u001b[0m Trial 216 finished with value: 0.8123615958300819 and parameters: {'objective': 'binary:logistic', 'tree_method': 'gpu_hist', 'lambda': 3.0351512639725127, 'alpha': 0.9373527550442143, 'colsample_bytree': 0.8990467508594834, 'subsample': 0.445423037697875, 'learning_rate': 0.013099991515059764, 'max_depth': 21, 'min_child_weight': 281, 'eval_metric': 'logloss'}. Best is trial 161 with value: 0.8141570263140113.\u001b[0m\n",
      "/home/tunguz/anaconda3/lib/python3.7/site-packages/xgboost/dask.py:884: RuntimeWarning: coroutine 'Client._wait_for_workers' was never awaited\n",
      "  client.wait_for_workers(n_workers)\n",
      "\u001b[32m[I 2022-11-22 18:11:11,889]\u001b[0m Trial 217 finished with value: 0.813203769224287 and parameters: {'objective': 'binary:logistic', 'tree_method': 'gpu_hist', 'lambda': 1.724972534463699, 'alpha': 0.17362623892977402, 'colsample_bytree': 0.8662116224751407, 'subsample': 0.40989259903482117, 'learning_rate': 0.015326402869841016, 'max_depth': 20, 'min_child_weight': 295, 'eval_metric': 'logloss'}. Best is trial 161 with value: 0.8141570263140113.\u001b[0m\n",
      "/home/tunguz/anaconda3/lib/python3.7/site-packages/xgboost/dask.py:884: RuntimeWarning: coroutine 'Client._wait_for_workers' was never awaited\n",
      "  client.wait_for_workers(n_workers)\n",
      "\u001b[32m[I 2022-11-22 18:12:16,800]\u001b[0m Trial 218 finished with value: 0.8132241026361494 and parameters: {'objective': 'binary:logistic', 'tree_method': 'gpu_hist', 'lambda': 3.7039995362228253, 'alpha': 0.47238116639875133, 'colsample_bytree': 0.8496564493486246, 'subsample': 0.4293123516352737, 'learning_rate': 0.0113368473998571, 'max_depth': 21, 'min_child_weight': 287, 'eval_metric': 'logloss'}. Best is trial 161 with value: 0.8141570263140113.\u001b[0m\n",
      "/home/tunguz/anaconda3/lib/python3.7/site-packages/xgboost/dask.py:884: RuntimeWarning: coroutine 'Client._wait_for_workers' was never awaited\n",
      "  client.wait_for_workers(n_workers)\n",
      "\u001b[32m[I 2022-11-22 18:13:08,873]\u001b[0m Trial 219 finished with value: 0.8133139642502422 and parameters: {'objective': 'binary:logistic', 'tree_method': 'gpu_hist', 'lambda': 2.2471499437502285, 'alpha': 7.043179436209294, 'colsample_bytree': 0.8800861244304673, 'subsample': 0.4008034333714926, 'learning_rate': 0.01916456998415923, 'max_depth': 20, 'min_child_weight': 265, 'eval_metric': 'logloss'}. Best is trial 161 with value: 0.8141570263140113.\u001b[0m\n",
      "/home/tunguz/anaconda3/lib/python3.7/site-packages/xgboost/dask.py:884: RuntimeWarning: coroutine 'Client._wait_for_workers' was never awaited\n",
      "  client.wait_for_workers(n_workers)\n",
      "\u001b[32m[I 2022-11-22 18:14:54,521]\u001b[0m Trial 220 finished with value: 0.8123579107049168 and parameters: {'objective': 'binary:logistic', 'tree_method': 'gpu_hist', 'lambda': 2.76445798879513, 'alpha': 0.8285697211105825, 'colsample_bytree': 0.8360479292014212, 'subsample': 0.8236574843817069, 'learning_rate': 0.016983587797710368, 'max_depth': 22, 'min_child_weight': 272, 'eval_metric': 'logloss'}. Best is trial 161 with value: 0.8141570263140113.\u001b[0m\n",
      "/home/tunguz/anaconda3/lib/python3.7/site-packages/xgboost/dask.py:884: RuntimeWarning: coroutine 'Client._wait_for_workers' was never awaited\n",
      "  client.wait_for_workers(n_workers)\n",
      "\u001b[32m[I 2022-11-22 18:15:59,252]\u001b[0m Trial 221 finished with value: 0.8131010422838436 and parameters: {'objective': 'binary:logistic', 'tree_method': 'gpu_hist', 'lambda': 4.065073513082498, 'alpha': 0.6116334743580119, 'colsample_bytree': 0.821670957354262, 'subsample': 0.44148237890595576, 'learning_rate': 0.014285365406817636, 'max_depth': 21, 'min_child_weight': 277, 'eval_metric': 'logloss'}. Best is trial 161 with value: 0.8141570263140113.\u001b[0m\n",
      "/home/tunguz/anaconda3/lib/python3.7/site-packages/xgboost/dask.py:884: RuntimeWarning: coroutine 'Client._wait_for_workers' was never awaited\n",
      "  client.wait_for_workers(n_workers)\n",
      "\u001b[32m[I 2022-11-22 18:17:04,543]\u001b[0m Trial 222 finished with value: 0.8136125327650022 and parameters: {'objective': 'binary:logistic', 'tree_method': 'gpu_hist', 'lambda': 4.750828780322239, 'alpha': 0.7633310384911174, 'colsample_bytree': 0.8644176140840799, 'subsample': 0.43368939978259746, 'learning_rate': 0.014593643969446653, 'max_depth': 21, 'min_child_weight': 264, 'eval_metric': 'logloss'}. Best is trial 161 with value: 0.8141570263140113.\u001b[0m\n",
      "/home/tunguz/anaconda3/lib/python3.7/site-packages/xgboost/dask.py:884: RuntimeWarning: coroutine 'Client._wait_for_workers' was never awaited\n",
      "  client.wait_for_workers(n_workers)\n",
      "\u001b[32m[I 2022-11-22 18:18:13,379]\u001b[0m Trial 223 finished with value: 0.8134144898991045 and parameters: {'objective': 'binary:logistic', 'tree_method': 'gpu_hist', 'lambda': 3.3097763214094837, 'alpha': 0.7152652959057568, 'colsample_bytree': 0.8701090048117445, 'subsample': 0.4210248149119001, 'learning_rate': 0.01248998588929709, 'max_depth': 21, 'min_child_weight': 252, 'eval_metric': 'logloss'}. Best is trial 161 with value: 0.8141570263140113.\u001b[0m\n",
      "/home/tunguz/anaconda3/lib/python3.7/site-packages/xgboost/dask.py:884: RuntimeWarning: coroutine 'Client._wait_for_workers' was never awaited\n",
      "  client.wait_for_workers(n_workers)\n",
      "\u001b[32m[I 2022-11-22 18:19:05,649]\u001b[0m Trial 224 finished with value: 0.813174997528031 and parameters: {'objective': 'binary:logistic', 'tree_method': 'gpu_hist', 'lambda': 4.666597228062864, 'alpha': 0.3196880079581976, 'colsample_bytree': 0.8906992008625609, 'subsample': 0.4332951560927227, 'learning_rate': 0.015322835249942497, 'max_depth': 20, 'min_child_weight': 262, 'eval_metric': 'logloss'}. Best is trial 161 with value: 0.8141570263140113.\u001b[0m\n",
      "/home/tunguz/anaconda3/lib/python3.7/site-packages/xgboost/dask.py:884: RuntimeWarning: coroutine 'Client._wait_for_workers' was never awaited\n",
      "  client.wait_for_workers(n_workers)\n",
      "\u001b[32m[I 2022-11-22 18:21:25,806]\u001b[0m Trial 225 finished with value: 0.8133570035771152 and parameters: {'objective': 'binary:logistic', 'tree_method': 'gpu_hist', 'lambda': 4.018585294309065, 'alpha': 1.063905765727623, 'colsample_bytree': 0.8552778938044174, 'subsample': 0.4576745650687684, 'learning_rate': 0.013893789357913962, 'max_depth': 23, 'min_child_weight': 254, 'eval_metric': 'logloss'}. Best is trial 161 with value: 0.8141570263140113.\u001b[0m\n",
      "/home/tunguz/anaconda3/lib/python3.7/site-packages/xgboost/dask.py:884: RuntimeWarning: coroutine 'Client._wait_for_workers' was never awaited\n",
      "  client.wait_for_workers(n_workers)\n",
      "\u001b[32m[I 2022-11-22 18:22:47,578]\u001b[0m Trial 226 finished with value: 0.8041859907455746 and parameters: {'objective': 'binary:logistic', 'tree_method': 'gpu_hist', 'lambda': 3.092212442538581, 'alpha': 3.808320892550944, 'colsample_bytree': 0.8440046426733275, 'subsample': 0.4153645369629418, 'learning_rate': 0.07119476422151347, 'max_depth': 22, 'min_child_weight': 268, 'eval_metric': 'logloss'}. Best is trial 161 with value: 0.8141570263140113.\u001b[0m\n",
      "/home/tunguz/anaconda3/lib/python3.7/site-packages/xgboost/dask.py:884: RuntimeWarning: coroutine 'Client._wait_for_workers' was never awaited\n",
      "  client.wait_for_workers(n_workers)\n",
      "\u001b[32m[I 2022-11-22 18:23:54,028]\u001b[0m Trial 227 finished with value: 0.8137519560513929 and parameters: {'objective': 'binary:logistic', 'tree_method': 'gpu_hist', 'lambda': 2.4608995793384585, 'alpha': 4.69804776731297, 'colsample_bytree': 0.9091492543275371, 'subsample': 0.44630878907526755, 'learning_rate': 0.016231907183194946, 'max_depth': 21, 'min_child_weight': 259, 'eval_metric': 'logloss'}. Best is trial 161 with value: 0.8141570263140113.\u001b[0m\n",
      "/home/tunguz/anaconda3/lib/python3.7/site-packages/xgboost/dask.py:884: RuntimeWarning: coroutine 'Client._wait_for_workers' was never awaited\n",
      "  client.wait_for_workers(n_workers)\n",
      "\u001b[32m[I 2022-11-22 18:25:26,814]\u001b[0m Trial 228 finished with value: 0.8131374125125197 and parameters: {'objective': 'binary:logistic', 'tree_method': 'gpu_hist', 'lambda': 4.758843984562419, 'alpha': 4.303690172660467, 'colsample_bytree': 0.9138092926700941, 'subsample': 0.4483612687193571, 'learning_rate': 0.012858230323814708, 'max_depth': 22, 'min_child_weight': 258, 'eval_metric': 'logloss'}. Best is trial 161 with value: 0.8141570263140113.\u001b[0m\n",
      "/home/tunguz/anaconda3/lib/python3.7/site-packages/xgboost/dask.py:884: RuntimeWarning: coroutine 'Client._wait_for_workers' was never awaited\n",
      "  client.wait_for_workers(n_workers)\n",
      "\u001b[32m[I 2022-11-22 18:29:19,954]\u001b[0m Trial 229 finished with value: 0.8123437164506856 and parameters: {'objective': 'binary:logistic', 'tree_method': 'gpu_hist', 'lambda': 3.492503283789325, 'alpha': 5.109786082699146, 'colsample_bytree': 0.9059676471992355, 'subsample': 0.47149465952825204, 'learning_rate': 0.021113832076947996, 'max_depth': 24, 'min_child_weight': 263, 'eval_metric': 'logloss'}. Best is trial 161 with value: 0.8141570263140113.\u001b[0m\n",
      "/home/tunguz/anaconda3/lib/python3.7/site-packages/xgboost/dask.py:884: RuntimeWarning: coroutine 'Client._wait_for_workers' was never awaited\n",
      "  client.wait_for_workers(n_workers)\n",
      "\u001b[32m[I 2022-11-22 18:30:12,757]\u001b[0m Trial 230 finished with value: 0.8132725310509299 and parameters: {'objective': 'binary:logistic', 'tree_method': 'gpu_hist', 'lambda': 2.7091934157800432, 'alpha': 3.257756839387, 'colsample_bytree': 0.9283689720125521, 'subsample': 0.4411020529263147, 'learning_rate': 0.01753099918734586, 'max_depth': 20, 'min_child_weight': 255, 'eval_metric': 'logloss'}. Best is trial 161 with value: 0.8141570263140113.\u001b[0m\n",
      "/home/tunguz/anaconda3/lib/python3.7/site-packages/xgboost/dask.py:884: RuntimeWarning: coroutine 'Client._wait_for_workers' was never awaited\n",
      "  client.wait_for_workers(n_workers)\n",
      "\u001b[32m[I 2022-11-22 18:31:16,799]\u001b[0m Trial 231 finished with value: 0.8128519539120636 and parameters: {'objective': 'binary:logistic', 'tree_method': 'gpu_hist', 'lambda': 2.0707593416304353, 'alpha': 0.5158774163293687, 'colsample_bytree': 0.8792286624196206, 'subsample': 0.4292471267041686, 'learning_rate': 0.015776478827969637, 'max_depth': 21, 'min_child_weight': 269, 'eval_metric': 'logloss'}. Best is trial 161 with value: 0.8141570263140113.\u001b[0m\n",
      "/home/tunguz/anaconda3/lib/python3.7/site-packages/xgboost/dask.py:884: RuntimeWarning: coroutine 'Client._wait_for_workers' was never awaited\n",
      "  client.wait_for_workers(n_workers)\n",
      "\u001b[32m[I 2022-11-22 18:32:22,313]\u001b[0m Trial 232 finished with value: 0.8133369636707969 and parameters: {'objective': 'binary:logistic', 'tree_method': 'gpu_hist', 'lambda': 2.462214524196612, 'alpha': 5.888974569640325, 'colsample_bytree': 0.8581140204084099, 'subsample': 0.4249482937583339, 'learning_rate': 0.01476438054164181, 'max_depth': 21, 'min_child_weight': 263, 'eval_metric': 'logloss'}. Best is trial 161 with value: 0.8141570263140113.\u001b[0m\n",
      "/home/tunguz/anaconda3/lib/python3.7/site-packages/xgboost/dask.py:884: RuntimeWarning: coroutine 'Client._wait_for_workers' was never awaited\n",
      "  client.wait_for_workers(n_workers)\n",
      "\u001b[32m[I 2022-11-22 18:33:31,280]\u001b[0m Trial 233 finished with value: 0.8131050046086893 and parameters: {'objective': 'binary:logistic', 'tree_method': 'gpu_hist', 'lambda': 1.5608176531982045, 'alpha': 4.628030661734676, 'colsample_bytree': 0.833272278154569, 'subsample': 0.4383130083919376, 'learning_rate': 0.016197632359439964, 'max_depth': 21, 'min_child_weight': 249, 'eval_metric': 'logloss'}. Best is trial 161 with value: 0.8141570263140113.\u001b[0m\n",
      "/home/tunguz/anaconda3/lib/python3.7/site-packages/xgboost/dask.py:884: RuntimeWarning: coroutine 'Client._wait_for_workers' was never awaited\n",
      "  client.wait_for_workers(n_workers)\n",
      "\u001b[32m[I 2022-11-22 18:34:22,535]\u001b[0m Trial 234 finished with value: 0.8133695346332629 and parameters: {'objective': 'binary:logistic', 'tree_method': 'gpu_hist', 'lambda': 2.969526230396604, 'alpha': 8.555261130872186, 'colsample_bytree': 0.9008821676424544, 'subsample': 0.41053763370678276, 'learning_rate': 0.013724376577745681, 'max_depth': 20, 'min_child_weight': 291, 'eval_metric': 'logloss'}. Best is trial 161 with value: 0.8141570263140113.\u001b[0m\n",
      "/home/tunguz/anaconda3/lib/python3.7/site-packages/xgboost/dask.py:884: RuntimeWarning: coroutine 'Client._wait_for_workers' was never awaited\n",
      "  client.wait_for_workers(n_workers)\n",
      "\u001b[32m[I 2022-11-22 18:35:26,048]\u001b[0m Trial 235 finished with value: 0.812949128705964 and parameters: {'objective': 'binary:logistic', 'tree_method': 'gpu_hist', 'lambda': 3.92358756398538, 'alpha': 0.750705872546728, 'colsample_bytree': 0.9432690796877953, 'subsample': 0.4562765359082011, 'learning_rate': 0.01745928849961898, 'max_depth': 21, 'min_child_weight': 300, 'eval_metric': 'logloss'}. Best is trial 161 with value: 0.8141570263140113.\u001b[0m\n",
      "/home/tunguz/anaconda3/lib/python3.7/site-packages/xgboost/dask.py:884: RuntimeWarning: coroutine 'Client._wait_for_workers' was never awaited\n",
      "  client.wait_for_workers(n_workers)\n",
      "\u001b[32m[I 2022-11-22 18:36:12,264]\u001b[0m Trial 236 finished with value: 0.8126778399009438 and parameters: {'objective': 'binary:logistic', 'tree_method': 'gpu_hist', 'lambda': 2.130927146461212, 'alpha': 3.083474474693511, 'colsample_bytree': 0.8625332692386551, 'subsample': 0.4238279901071196, 'learning_rate': 0.01177020000284615, 'max_depth': 19, 'min_child_weight': 273, 'eval_metric': 'logloss'}. Best is trial 161 with value: 0.8141570263140113.\u001b[0m\n",
      "/home/tunguz/anaconda3/lib/python3.7/site-packages/xgboost/dask.py:884: RuntimeWarning: coroutine 'Client._wait_for_workers' was never awaited\n",
      "  client.wait_for_workers(n_workers)\n",
      "\u001b[32m[I 2022-11-22 18:37:44,464]\u001b[0m Trial 237 finished with value: 0.813085486490005 and parameters: {'objective': 'binary:logistic', 'tree_method': 'gpu_hist', 'lambda': 5.152090413000504, 'alpha': 3.9884523899551687, 'colsample_bytree': 0.8876904896462345, 'subsample': 0.4486056982019027, 'learning_rate': 0.015236154812286105, 'max_depth': 22, 'min_child_weight': 258, 'eval_metric': 'logloss'}. Best is trial 161 with value: 0.8141570263140113.\u001b[0m\n",
      "/home/tunguz/anaconda3/lib/python3.7/site-packages/xgboost/dask.py:884: RuntimeWarning: coroutine 'Client._wait_for_workers' was never awaited\n",
      "  client.wait_for_workers(n_workers)\n",
      "\u001b[32m[I 2022-11-22 18:38:38,041]\u001b[0m Trial 238 finished with value: 0.8131825960604512 and parameters: {'objective': 'binary:logistic', 'tree_method': 'gpu_hist', 'lambda': 2.6267303139940665, 'alpha': 0.38284382120140725, 'colsample_bytree': 0.8727063058195297, 'subsample': 0.4351422244879913, 'learning_rate': 0.013484269279617359, 'max_depth': 20, 'min_child_weight': 283, 'eval_metric': 'logloss'}. Best is trial 161 with value: 0.8141570263140113.\u001b[0m\n",
      "/home/tunguz/anaconda3/lib/python3.7/site-packages/xgboost/dask.py:884: RuntimeWarning: coroutine 'Client._wait_for_workers' was never awaited\n",
      "  client.wait_for_workers(n_workers)\n",
      "\u001b[32m[I 2022-11-22 18:39:41,924]\u001b[0m Trial 239 finished with value: 0.8131169894184077 and parameters: {'objective': 'binary:logistic', 'tree_method': 'gpu_hist', 'lambda': 3.601897395524623, 'alpha': 0.906968416189225, 'colsample_bytree': 0.8402573315641603, 'subsample': 0.41767700308640654, 'learning_rate': 0.016411192696266962, 'max_depth': 21, 'min_child_weight': 266, 'eval_metric': 'logloss'}. Best is trial 161 with value: 0.8141570263140113.\u001b[0m\n",
      "/home/tunguz/anaconda3/lib/python3.7/site-packages/xgboost/dask.py:884: RuntimeWarning: coroutine 'Client._wait_for_workers' was never awaited\n",
      "  client.wait_for_workers(n_workers)\n",
      "\u001b[32m[I 2022-11-22 18:41:58,064]\u001b[0m Trial 240 finished with value: 0.8129365161204984 and parameters: {'objective': 'binary:logistic', 'tree_method': 'gpu_hist', 'lambda': 3.0957721934214795, 'alpha': 0.4851342681530991, 'colsample_bytree': 0.8214354886524002, 'subsample': 0.40075858592557845, 'learning_rate': 0.010491776431556129, 'max_depth': 23, 'min_child_weight': 276, 'eval_metric': 'logloss'}. Best is trial 161 with value: 0.8141570263140113.\u001b[0m\n",
      "/home/tunguz/anaconda3/lib/python3.7/site-packages/xgboost/dask.py:884: RuntimeWarning: coroutine 'Client._wait_for_workers' was never awaited\n",
      "  client.wait_for_workers(n_workers)\n",
      "\u001b[32m[I 2022-11-22 18:43:04,218]\u001b[0m Trial 241 finished with value: 0.8132233525664255 and parameters: {'objective': 'binary:logistic', 'tree_method': 'gpu_hist', 'lambda': 7.477981593710531, 'alpha': 0.7058436641725002, 'colsample_bytree': 0.8002921018703651, 'subsample': 0.43835090092765244, 'learning_rate': 0.014437386272953661, 'max_depth': 21, 'min_child_weight': 279, 'eval_metric': 'logloss'}. Best is trial 161 with value: 0.8141570263140113.\u001b[0m\n",
      "/home/tunguz/anaconda3/lib/python3.7/site-packages/xgboost/dask.py:884: RuntimeWarning: coroutine 'Client._wait_for_workers' was never awaited\n",
      "  client.wait_for_workers(n_workers)\n",
      "\u001b[32m[I 2022-11-22 18:44:08,610]\u001b[0m Trial 242 finished with value: 0.812841803511996 and parameters: {'objective': 'binary:logistic', 'tree_method': 'gpu_hist', 'lambda': 5.295094577249707, 'alpha': 0.5826817811333305, 'colsample_bytree': 0.8106522581649299, 'subsample': 0.42971027523943406, 'learning_rate': 0.01446571635744834, 'max_depth': 21, 'min_child_weight': 272, 'eval_metric': 'logloss'}. Best is trial 161 with value: 0.8141570263140113.\u001b[0m\n",
      "/home/tunguz/anaconda3/lib/python3.7/site-packages/xgboost/dask.py:884: RuntimeWarning: coroutine 'Client._wait_for_workers' was never awaited\n",
      "  client.wait_for_workers(n_workers)\n",
      "\u001b[32m[I 2022-11-22 18:45:01,439]\u001b[0m Trial 243 finished with value: 0.8133029170276785 and parameters: {'objective': 'binary:logistic', 'tree_method': 'gpu_hist', 'lambda': 6.051984241580711, 'alpha': 0.7502880874558994, 'colsample_bytree': 0.7871202884672535, 'subsample': 0.46254982266420086, 'learning_rate': 0.018352994765459874, 'max_depth': 20, 'min_child_weight': 262, 'eval_metric': 'logloss'}. Best is trial 161 with value: 0.8141570263140113.\u001b[0m\n",
      "/home/tunguz/anaconda3/lib/python3.7/site-packages/xgboost/dask.py:884: RuntimeWarning: coroutine 'Client._wait_for_workers' was never awaited\n",
      "  client.wait_for_workers(n_workers)\n",
      "\u001b[32m[I 2022-11-22 18:46:09,487]\u001b[0m Trial 244 finished with value: 0.8131453208563474 and parameters: {'objective': 'binary:logistic', 'tree_method': 'gpu_hist', 'lambda': 4.810993609035233, 'alpha': 0.6083118162601099, 'colsample_bytree': 0.8281360048626684, 'subsample': 0.4421204176230906, 'learning_rate': 0.012503948649079024, 'max_depth': 21, 'min_child_weight': 253, 'eval_metric': 'logloss'}. Best is trial 161 with value: 0.8141570263140113.\u001b[0m\n",
      "/home/tunguz/anaconda3/lib/python3.7/site-packages/xgboost/dask.py:884: RuntimeWarning: coroutine 'Client._wait_for_workers' was never awaited\n",
      "  client.wait_for_workers(n_workers)\n",
      "\u001b[32m[I 2022-11-22 18:47:35,277]\u001b[0m Trial 245 finished with value: 0.8134761586750977 and parameters: {'objective': 'binary:logistic', 'tree_method': 'gpu_hist', 'lambda': 2.4200732226496138, 'alpha': 1.1843779511254657, 'colsample_bytree': 0.8463814271393333, 'subsample': 0.4147549514131528, 'learning_rate': 0.015678485812755598, 'max_depth': 22, 'min_child_weight': 288, 'eval_metric': 'logloss'}. Best is trial 161 with value: 0.8141570263140113.\u001b[0m\n",
      "/home/tunguz/anaconda3/lib/python3.7/site-packages/xgboost/dask.py:884: RuntimeWarning: coroutine 'Client._wait_for_workers' was never awaited\n",
      "  client.wait_for_workers(n_workers)\n",
      "\u001b[32m[I 2022-11-22 18:49:09,613]\u001b[0m Trial 246 finished with value: 0.8138523594062786 and parameters: {'objective': 'binary:logistic', 'tree_method': 'gpu_hist', 'lambda': 4.029515279604001, 'alpha': 6.829429465405812, 'colsample_bytree': 0.7913299620920557, 'subsample': 0.4309429719863255, 'learning_rate': 0.013981204077496801, 'max_depth': 22, 'min_child_weight': 246, 'eval_metric': 'logloss'}. Best is trial 161 with value: 0.8141570263140113.\u001b[0m\n",
      "/home/tunguz/anaconda3/lib/python3.7/site-packages/xgboost/dask.py:884: RuntimeWarning: coroutine 'Client._wait_for_workers' was never awaited\n",
      "  client.wait_for_workers(n_workers)\n",
      "\u001b[32m[I 2022-11-22 18:50:43,762]\u001b[0m Trial 247 finished with value: 0.8114353657092125 and parameters: {'objective': 'binary:logistic', 'tree_method': 'gpu_hist', 'lambda': 4.116576475111057, 'alpha': 6.880234464359177, 'colsample_bytree': 0.4433663043588483, 'subsample': 0.42473263103338177, 'learning_rate': 0.013414845045101887, 'max_depth': 22, 'min_child_weight': 242, 'eval_metric': 'logloss'}. Best is trial 161 with value: 0.8141570263140113.\u001b[0m\n",
      "/home/tunguz/anaconda3/lib/python3.7/site-packages/xgboost/dask.py:884: RuntimeWarning: coroutine 'Client._wait_for_workers' was never awaited\n",
      "  client.wait_for_workers(n_workers)\n",
      "\u001b[32m[I 2022-11-22 18:52:14,002]\u001b[0m Trial 248 finished with value: 0.813639633110243 and parameters: {'objective': 'binary:logistic', 'tree_method': 'gpu_hist', 'lambda': 3.4411651420135905, 'alpha': 5.237594638813749, 'colsample_bytree': 0.7861733406185816, 'subsample': 0.41046441058574423, 'learning_rate': 0.016808409662130767, 'max_depth': 22, 'min_child_weight': 244, 'eval_metric': 'logloss'}. Best is trial 161 with value: 0.8141570263140113.\u001b[0m\n",
      "/home/tunguz/anaconda3/lib/python3.7/site-packages/xgboost/dask.py:884: RuntimeWarning: coroutine 'Client._wait_for_workers' was never awaited\n",
      "  client.wait_for_workers(n_workers)\n",
      "\u001b[32m[I 2022-11-22 18:53:48,113]\u001b[0m Trial 249 finished with value: 0.8130839700446937 and parameters: {'objective': 'binary:logistic', 'tree_method': 'gpu_hist', 'lambda': 3.4849174811473262, 'alpha': 5.219446519181121, 'colsample_bytree': 0.7728285909336096, 'subsample': 0.41385208690861736, 'learning_rate': 0.011752757446952141, 'max_depth': 22, 'min_child_weight': 247, 'eval_metric': 'logloss'}. Best is trial 161 with value: 0.8141570263140113.\u001b[0m\n",
      "/home/tunguz/anaconda3/lib/python3.7/site-packages/xgboost/dask.py:884: RuntimeWarning: coroutine 'Client._wait_for_workers' was never awaited\n",
      "  client.wait_for_workers(n_workers)\n",
      "\u001b[32m[I 2022-11-22 18:56:06,312]\u001b[0m Trial 250 finished with value: 0.8132010053804132 and parameters: {'objective': 'binary:logistic', 'tree_method': 'gpu_hist', 'lambda': 4.100361630988866, 'alpha': 7.9011660502914625, 'colsample_bytree': 0.7904785870919459, 'subsample': 0.4081105375219505, 'learning_rate': 0.019273836927435277, 'max_depth': 23, 'min_child_weight': 231, 'eval_metric': 'logloss'}. Best is trial 161 with value: 0.8141570263140113.\u001b[0m\n",
      "/home/tunguz/anaconda3/lib/python3.7/site-packages/xgboost/dask.py:884: RuntimeWarning: coroutine 'Client._wait_for_workers' was never awaited\n",
      "  client.wait_for_workers(n_workers)\n",
      "\u001b[32m[I 2022-11-22 18:58:28,104]\u001b[0m Trial 251 finished with value: 0.8131287622518999 and parameters: {'objective': 'binary:logistic', 'tree_method': 'gpu_hist', 'lambda': 3.2297698444650393, 'alpha': 5.668312501191375, 'colsample_bytree': 0.7555505095333502, 'subsample': 0.45157161504934035, 'learning_rate': 0.017596068216785964, 'max_depth': 23, 'min_child_weight': 240, 'eval_metric': 'logloss'}. Best is trial 161 with value: 0.8141570263140113.\u001b[0m\n"
     ]
    },
    {
     "name": "stdout",
     "output_type": "stream",
     "text": [
      "CPU times: user 30min 54s, sys: 8min 27s, total: 39min 21s\n",
      "Wall time: 6h 10min 13s\n"
     ]
    }
   ],
   "source": [
    "%%time\n",
    "study.optimize(objective, n_trials=250)"
   ]
  },
  {
   "cell_type": "code",
   "execution_count": 15,
   "metadata": {},
   "outputs": [
    {
     "data": {
      "text/plain": [
       "{'objective': 'binary:logistic',\n",
       " 'tree_method': 'gpu_hist',\n",
       " 'lambda': 2.8655256733732037,\n",
       " 'alpha': 0.4495276508513745,\n",
       " 'colsample_bytree': 0.8114757656243607,\n",
       " 'subsample': 0.41002461895298087,\n",
       " 'learning_rate': 0.012531720695646295,\n",
       " 'max_depth': 20,\n",
       " 'min_child_weight': 265,\n",
       " 'eval_metric': 'logloss'}"
      ]
     },
     "execution_count": 15,
     "metadata": {},
     "output_type": "execute_result"
    }
   ],
   "source": [
    "study.best_trial.params"
   ]
  },
  {
   "cell_type": "code",
   "execution_count": 16,
   "metadata": {},
   "outputs": [],
   "source": [
    "real_test_x = dd.read_csv('../input/higgs_small_roc/xgtest.csv')"
   ]
  },
  {
   "cell_type": "code",
   "execution_count": 17,
   "metadata": {},
   "outputs": [],
   "source": [
    "real_test_y = real_test_x['target']\n",
    "real_test_x = real_test_x[real_test_x.columns.difference(['target'])]"
   ]
  },
  {
   "cell_type": "code",
   "execution_count": 18,
   "metadata": {},
   "outputs": [],
   "source": [
    "drealtest = xgb.dask.DaskDMatrix(client, real_test_x, real_test_y)"
   ]
  },
  {
   "cell_type": "code",
   "execution_count": 19,
   "metadata": {},
   "outputs": [
    {
     "name": "stderr",
     "output_type": "stream",
     "text": [
      "/home/tunguz/anaconda3/lib/python3.7/site-packages/xgboost/dask.py:884: RuntimeWarning: coroutine 'Client._wait_for_workers' was never awaited\n",
      "  client.wait_for_workers(n_workers)\n"
     ]
    },
    {
     "name": "stdout",
     "output_type": "stream",
     "text": [
      "CPU times: user 4.11 s, sys: 1.33 s, total: 5.43 s\n",
      "Wall time: 52.5 s\n"
     ]
    },
    {
     "data": {
      "text/plain": [
       "0.8074576706304264"
      ]
     },
     "execution_count": 19,
     "metadata": {},
     "output_type": "execute_result"
    }
   ],
   "source": [
    "%%time\n",
    "params = study.best_trial.params\n",
    "\n",
    "output = xgb.dask.train(client, params, dtrain, num_round)\n",
    "    \n",
    "booster = output['booster']  # booster is the trained model\n",
    "booster.set_param({'predictor': 'gpu_predictor'})\n",
    "\n",
    "predictions = xgb.dask.predict(client, booster, drealtest)\n",
    "    \n",
    "predictions = predictions.compute()\n",
    "\n",
    "roc_auc_score(real_test_y, predictions)"
   ]
  },
  {
   "cell_type": "code",
   "execution_count": 20,
   "metadata": {},
   "outputs": [
    {
     "name": "stdout",
     "output_type": "stream",
     "text": [
      "0\n"
     ]
    },
    {
     "name": "stderr",
     "output_type": "stream",
     "text": [
      "/home/tunguz/anaconda3/lib/python3.7/site-packages/xgboost/dask.py:884: RuntimeWarning: coroutine 'Client._wait_for_workers' was never awaited\n",
      "  client.wait_for_workers(n_workers)\n"
     ]
    },
    {
     "name": "stdout",
     "output_type": "stream",
     "text": [
      "1\n"
     ]
    },
    {
     "name": "stderr",
     "output_type": "stream",
     "text": [
      "/home/tunguz/anaconda3/lib/python3.7/site-packages/xgboost/dask.py:884: RuntimeWarning: coroutine 'Client._wait_for_workers' was never awaited\n",
      "  client.wait_for_workers(n_workers)\n"
     ]
    },
    {
     "name": "stdout",
     "output_type": "stream",
     "text": [
      "2\n"
     ]
    },
    {
     "name": "stderr",
     "output_type": "stream",
     "text": [
      "/home/tunguz/anaconda3/lib/python3.7/site-packages/xgboost/dask.py:884: RuntimeWarning: coroutine 'Client._wait_for_workers' was never awaited\n",
      "  client.wait_for_workers(n_workers)\n"
     ]
    },
    {
     "name": "stdout",
     "output_type": "stream",
     "text": [
      "3\n"
     ]
    },
    {
     "name": "stderr",
     "output_type": "stream",
     "text": [
      "/home/tunguz/anaconda3/lib/python3.7/site-packages/xgboost/dask.py:884: RuntimeWarning: coroutine 'Client._wait_for_workers' was never awaited\n",
      "  client.wait_for_workers(n_workers)\n"
     ]
    },
    {
     "name": "stdout",
     "output_type": "stream",
     "text": [
      "4\n"
     ]
    },
    {
     "name": "stderr",
     "output_type": "stream",
     "text": [
      "/home/tunguz/anaconda3/lib/python3.7/site-packages/xgboost/dask.py:884: RuntimeWarning: coroutine 'Client._wait_for_workers' was never awaited\n",
      "  client.wait_for_workers(n_workers)\n"
     ]
    },
    {
     "name": "stdout",
     "output_type": "stream",
     "text": [
      "5\n"
     ]
    },
    {
     "name": "stderr",
     "output_type": "stream",
     "text": [
      "/home/tunguz/anaconda3/lib/python3.7/site-packages/xgboost/dask.py:884: RuntimeWarning: coroutine 'Client._wait_for_workers' was never awaited\n",
      "  client.wait_for_workers(n_workers)\n"
     ]
    },
    {
     "name": "stdout",
     "output_type": "stream",
     "text": [
      "6\n"
     ]
    },
    {
     "name": "stderr",
     "output_type": "stream",
     "text": [
      "/home/tunguz/anaconda3/lib/python3.7/site-packages/xgboost/dask.py:884: RuntimeWarning: coroutine 'Client._wait_for_workers' was never awaited\n",
      "  client.wait_for_workers(n_workers)\n"
     ]
    },
    {
     "name": "stdout",
     "output_type": "stream",
     "text": [
      "7\n"
     ]
    },
    {
     "name": "stderr",
     "output_type": "stream",
     "text": [
      "/home/tunguz/anaconda3/lib/python3.7/site-packages/xgboost/dask.py:884: RuntimeWarning: coroutine 'Client._wait_for_workers' was never awaited\n",
      "  client.wait_for_workers(n_workers)\n"
     ]
    },
    {
     "name": "stdout",
     "output_type": "stream",
     "text": [
      "8\n"
     ]
    },
    {
     "name": "stderr",
     "output_type": "stream",
     "text": [
      "/home/tunguz/anaconda3/lib/python3.7/site-packages/xgboost/dask.py:884: RuntimeWarning: coroutine 'Client._wait_for_workers' was never awaited\n",
      "  client.wait_for_workers(n_workers)\n"
     ]
    },
    {
     "name": "stdout",
     "output_type": "stream",
     "text": [
      "9\n"
     ]
    },
    {
     "name": "stderr",
     "output_type": "stream",
     "text": [
      "/home/tunguz/anaconda3/lib/python3.7/site-packages/xgboost/dask.py:884: RuntimeWarning: coroutine 'Client._wait_for_workers' was never awaited\n",
      "  client.wait_for_workers(n_workers)\n"
     ]
    },
    {
     "name": "stdout",
     "output_type": "stream",
     "text": [
      "10\n"
     ]
    },
    {
     "name": "stderr",
     "output_type": "stream",
     "text": [
      "/home/tunguz/anaconda3/lib/python3.7/site-packages/xgboost/dask.py:884: RuntimeWarning: coroutine 'Client._wait_for_workers' was never awaited\n",
      "  client.wait_for_workers(n_workers)\n"
     ]
    },
    {
     "name": "stdout",
     "output_type": "stream",
     "text": [
      "11\n"
     ]
    },
    {
     "name": "stderr",
     "output_type": "stream",
     "text": [
      "/home/tunguz/anaconda3/lib/python3.7/site-packages/xgboost/dask.py:884: RuntimeWarning: coroutine 'Client._wait_for_workers' was never awaited\n",
      "  client.wait_for_workers(n_workers)\n"
     ]
    },
    {
     "name": "stdout",
     "output_type": "stream",
     "text": [
      "12\n"
     ]
    },
    {
     "name": "stderr",
     "output_type": "stream",
     "text": [
      "/home/tunguz/anaconda3/lib/python3.7/site-packages/xgboost/dask.py:884: RuntimeWarning: coroutine 'Client._wait_for_workers' was never awaited\n",
      "  client.wait_for_workers(n_workers)\n"
     ]
    },
    {
     "name": "stdout",
     "output_type": "stream",
     "text": [
      "13\n"
     ]
    },
    {
     "name": "stderr",
     "output_type": "stream",
     "text": [
      "/home/tunguz/anaconda3/lib/python3.7/site-packages/xgboost/dask.py:884: RuntimeWarning: coroutine 'Client._wait_for_workers' was never awaited\n",
      "  client.wait_for_workers(n_workers)\n"
     ]
    },
    {
     "name": "stdout",
     "output_type": "stream",
     "text": [
      "14\n"
     ]
    },
    {
     "name": "stderr",
     "output_type": "stream",
     "text": [
      "/home/tunguz/anaconda3/lib/python3.7/site-packages/xgboost/dask.py:884: RuntimeWarning: coroutine 'Client._wait_for_workers' was never awaited\n",
      "  client.wait_for_workers(n_workers)\n"
     ]
    },
    {
     "name": "stdout",
     "output_type": "stream",
     "text": [
      "CPU times: user 1min 2s, sys: 21.2 s, total: 1min 23s\n",
      "Wall time: 13min 10s\n"
     ]
    }
   ],
   "source": [
    "%%time \n",
    "scores = []\n",
    "\n",
    "for jj in range(15):\n",
    "    print(jj)\n",
    "    params = study.best_trial.params\n",
    "    params['seed'] = 5*jj**3 + 137\n",
    "\n",
    "    output = xgb.dask.train(client, params, dtrain, num_round)\n",
    "\n",
    "    booster = output['booster']  # booster is the trained model\n",
    "    booster.set_param({'predictor': 'gpu_predictor'})\n",
    "\n",
    "    predictions = xgb.dask.predict(client, booster, drealtest)\n",
    "\n",
    "    predictions = predictions.compute()\n",
    "\n",
    "    scores.append(roc_auc_score(real_test_y, predictions))"
   ]
  },
  {
   "cell_type": "code",
   "execution_count": 21,
   "metadata": {},
   "outputs": [
    {
     "data": {
      "text/plain": [
       "[0.8071062570946812,\n",
       " 0.8076533305574232,\n",
       " 0.8078773444244514,\n",
       " 0.8074879812740854,\n",
       " 0.8074852418890068,\n",
       " 0.8083387977543304,\n",
       " 0.8076772649561947,\n",
       " 0.8074070624478049,\n",
       " 0.8078224941083655,\n",
       " 0.8070745167529051,\n",
       " 0.8071636798238028,\n",
       " 0.8077998850501843,\n",
       " 0.8080221978895255,\n",
       " 0.8074078920901431,\n",
       " 0.8078664077556427]"
      ]
     },
     "execution_count": 21,
     "metadata": {},
     "output_type": "execute_result"
    }
   ],
   "source": [
    "scores"
   ]
  },
  {
   "cell_type": "code",
   "execution_count": 22,
   "metadata": {},
   "outputs": [
    {
     "data": {
      "text/plain": [
       "0.8076126902579032"
      ]
     },
     "execution_count": 22,
     "metadata": {},
     "output_type": "execute_result"
    }
   ],
   "source": [
    "import numpy as np\n",
    "np.mean(scores)"
   ]
  },
  {
   "cell_type": "code",
   "execution_count": null,
   "metadata": {},
   "outputs": [],
   "source": []
  }
 ],
 "metadata": {
  "kernelspec": {
   "display_name": "Python 3",
   "language": "python",
   "name": "python3"
  },
  "language_info": {
   "codemirror_mode": {
    "name": "ipython",
    "version": 3
   },
   "file_extension": ".py",
   "mimetype": "text/x-python",
   "name": "python",
   "nbconvert_exporter": "python",
   "pygments_lexer": "ipython3",
   "version": "3.7.11"
  }
 },
 "nbformat": 4,
 "nbformat_minor": 4
}
