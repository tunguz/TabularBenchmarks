{
 "cells": [
  {
   "cell_type": "code",
   "execution_count": 2,
   "metadata": {},
   "outputs": [],
   "source": [
    "%load_ext watermark"
   ]
  },
  {
   "cell_type": "code",
   "execution_count": 3,
   "metadata": {},
   "outputs": [
    {
     "name": "stdout",
     "output_type": "stream",
     "text": [
      "Last updated: 2022-11-22T10:48:13.748455-05:00\n",
      "\n",
      "Python implementation: CPython\n",
      "Python version       : 3.7.11\n",
      "IPython version      : 7.10.1\n",
      "\n",
      "Compiler    : GCC 7.5.0\n",
      "OS          : Linux\n",
      "Release     : 4.15.0-161-generic\n",
      "Machine     : x86_64\n",
      "Processor   : x86_64\n",
      "CPU cores   : 40\n",
      "Architecture: 64bit\n",
      "\n"
     ]
    }
   ],
   "source": [
    "%watermark"
   ]
  },
  {
   "cell_type": "code",
   "execution_count": 4,
   "metadata": {},
   "outputs": [],
   "source": [
    "import numpy as np\n",
    "import pandas as pd"
   ]
  },
  {
   "cell_type": "code",
   "execution_count": 5,
   "metadata": {},
   "outputs": [
    {
     "name": "stdout",
     "output_type": "stream",
     "text": [
      "pandas: 1.3.5\n",
      "numpy : 1.19.2\n",
      "\n"
     ]
    }
   ],
   "source": [
    "%watermark --iversions"
   ]
  },
  {
   "cell_type": "code",
   "execution_count": 6,
   "metadata": {},
   "outputs": [],
   "source": [
    "X_num_train = np.load('../input/higgs_small_roc/X_num_train.npy')\n",
    "X_num_val = np.load('../input/higgs_small_roc/X_num_val.npy')\n",
    "X_num_test = np.load('../input/higgs_small_roc/X_num_test.npy')\n",
    "\n",
    "y_train = np.load('../input/higgs_small_roc/y_train.npy')\n",
    "y_val = np.load('../input/higgs_small_roc/y_val.npy')\n",
    "y_test = np.load('../input/higgs_small_roc/y_test.npy')"
   ]
  },
  {
   "cell_type": "code",
   "execution_count": 7,
   "metadata": {},
   "outputs": [
    {
     "data": {
      "text/plain": [
       "(62751, 28)"
      ]
     },
     "execution_count": 7,
     "metadata": {},
     "output_type": "execute_result"
    }
   ],
   "source": [
    "X_num_train.shape"
   ]
  },
  {
   "cell_type": "code",
   "execution_count": 8,
   "metadata": {},
   "outputs": [
    {
     "data": {
      "text/plain": [
       "1757028"
      ]
     },
     "execution_count": 8,
     "metadata": {},
     "output_type": "execute_result"
    }
   ],
   "source": [
    "X_num_train.size"
   ]
  },
  {
   "cell_type": "code",
   "execution_count": 11,
   "metadata": {},
   "outputs": [
    {
     "data": {
      "text/plain": [
       "array([1414611,  654367, 1711713, ...,  820382,  363316,  745408])"
      ]
     },
     "execution_count": 11,
     "metadata": {},
     "output_type": "execute_result"
    }
   ],
   "source": [
    "index_nan = np.random.choice(X_num_train.size, X_num_train.shape[0]*2, replace=False)\n",
    "index_nan"
   ]
  },
  {
   "cell_type": "code",
   "execution_count": 12,
   "metadata": {},
   "outputs": [],
   "source": [
    "trains = []\n",
    "for i in range(5):\n",
    "    trains.append(X_num_train)"
   ]
  },
  {
   "cell_type": "code",
   "execution_count": 13,
   "metadata": {},
   "outputs": [],
   "source": [
    "X_num_train_5 = np.vstack(trains)"
   ]
  },
  {
   "cell_type": "code",
   "execution_count": 14,
   "metadata": {},
   "outputs": [
    {
     "data": {
      "text/plain": [
       "(313755, 28)"
      ]
     },
     "execution_count": 14,
     "metadata": {},
     "output_type": "execute_result"
    }
   ],
   "source": [
    "X_num_train_5.shape"
   ]
  },
  {
   "cell_type": "code",
   "execution_count": 15,
   "metadata": {},
   "outputs": [
    {
     "data": {
      "text/plain": [
       "array([7395956, 8355326,   47831, ...,  998976, 5750957, 4188573])"
      ]
     },
     "execution_count": 15,
     "metadata": {},
     "output_type": "execute_result"
    }
   ],
   "source": [
    "index_nan = np.random.choice(X_num_train_5.size, X_num_train_5.shape[0]*2, replace=False)\n",
    "index_nan"
   ]
  },
  {
   "cell_type": "code",
   "execution_count": 16,
   "metadata": {},
   "outputs": [],
   "source": [
    "X_num_train_5.ravel()[index_nan] = np.nan"
   ]
  },
  {
   "cell_type": "code",
   "execution_count": 26,
   "metadata": {},
   "outputs": [
    {
     "data": {
      "text/plain": [
       "array([ 0.7267291 ,         nan,         nan,  0.80474496,         nan,\n",
       "        0.82492304, -0.7922094 , -1.4801266 ,  2.1730762 ,  0.5755049 ,\n",
       "       -0.03588055,  0.88429826,  2.2148721 ,  0.7528887 , -1.0830232 ,\n",
       "        0.59291756,  0.        ,  1.1092063 , -1.6869278 ,  0.2595374 ,\n",
       "        0.        ,  0.5264462 ,  1.1162164 ,  1.0526779 ,  0.78055453,\n",
       "        0.9455386 ,  0.79644614,  0.70450157], dtype=float32)"
      ]
     },
     "execution_count": 26,
     "metadata": {},
     "output_type": "execute_result"
    }
   ],
   "source": [
    "X_num_train_5[8]"
   ]
  },
  {
   "cell_type": "code",
   "execution_count": 27,
   "metadata": {},
   "outputs": [],
   "source": [
    "columns = [f'Col{i}' for i in range(28)]"
   ]
  },
  {
   "cell_type": "code",
   "execution_count": 28,
   "metadata": {},
   "outputs": [],
   "source": [
    "X_num_train_5 = pd.DataFrame(X_num_train_5, columns=columns)\n",
    "X_num_test = pd.DataFrame(X_num_test, columns=columns)\n",
    "X_num_val = pd.DataFrame(X_num_val, columns=columns)"
   ]
  },
  {
   "cell_type": "code",
   "execution_count": 29,
   "metadata": {},
   "outputs": [],
   "source": [
    "y_train_5 = []\n",
    "for i in range(5):\n",
    "    y_train_5.append(y_train)"
   ]
  },
  {
   "cell_type": "code",
   "execution_count": 32,
   "metadata": {},
   "outputs": [],
   "source": [
    "y_train_5 = np.hstack(y_train_5)"
   ]
  },
  {
   "cell_type": "code",
   "execution_count": 34,
   "metadata": {},
   "outputs": [
    {
     "data": {
      "text/html": [
       "<div>\n",
       "<style scoped>\n",
       "    .dataframe tbody tr th:only-of-type {\n",
       "        vertical-align: middle;\n",
       "    }\n",
       "\n",
       "    .dataframe tbody tr th {\n",
       "        vertical-align: top;\n",
       "    }\n",
       "\n",
       "    .dataframe thead th {\n",
       "        text-align: right;\n",
       "    }\n",
       "</style>\n",
       "<table border=\"1\" class=\"dataframe\">\n",
       "  <thead>\n",
       "    <tr style=\"text-align: right;\">\n",
       "      <th></th>\n",
       "      <th>Col0</th>\n",
       "      <th>Col1</th>\n",
       "      <th>Col2</th>\n",
       "      <th>Col3</th>\n",
       "      <th>Col4</th>\n",
       "      <th>Col5</th>\n",
       "      <th>Col6</th>\n",
       "      <th>Col7</th>\n",
       "      <th>Col8</th>\n",
       "      <th>Col9</th>\n",
       "      <th>...</th>\n",
       "      <th>Col19</th>\n",
       "      <th>Col20</th>\n",
       "      <th>Col21</th>\n",
       "      <th>Col22</th>\n",
       "      <th>Col23</th>\n",
       "      <th>Col24</th>\n",
       "      <th>Col25</th>\n",
       "      <th>Col26</th>\n",
       "      <th>Col27</th>\n",
       "      <th>target</th>\n",
       "    </tr>\n",
       "  </thead>\n",
       "  <tbody>\n",
       "    <tr>\n",
       "      <th>0</th>\n",
       "      <td>2.118879</td>\n",
       "      <td>-0.047779</td>\n",
       "      <td>0.422666</td>\n",
       "      <td>0.887075</td>\n",
       "      <td>1.190011</td>\n",
       "      <td>1.125486</td>\n",
       "      <td>0.433695</td>\n",
       "      <td>-1.338761</td>\n",
       "      <td>0.000000</td>\n",
       "      <td>NaN</td>\n",
       "      <td>...</td>\n",
       "      <td>-1.553466</td>\n",
       "      <td>0.000000</td>\n",
       "      <td>0.742982</td>\n",
       "      <td>0.823960</td>\n",
       "      <td>1.211727</td>\n",
       "      <td>0.916147</td>\n",
       "      <td>NaN</td>\n",
       "      <td>0.654138</td>\n",
       "      <td>0.825789</td>\n",
       "      <td>0</td>\n",
       "    </tr>\n",
       "    <tr>\n",
       "      <th>1</th>\n",
       "      <td>0.597891</td>\n",
       "      <td>1.086895</td>\n",
       "      <td>0.923151</td>\n",
       "      <td>0.226966</td>\n",
       "      <td>NaN</td>\n",
       "      <td>0.797166</td>\n",
       "      <td>0.150490</td>\n",
       "      <td>-0.124122</td>\n",
       "      <td>1.086538</td>\n",
       "      <td>1.316699</td>\n",
       "      <td>...</td>\n",
       "      <td>-1.554576</td>\n",
       "      <td>0.000000</td>\n",
       "      <td>0.847783</td>\n",
       "      <td>0.790057</td>\n",
       "      <td>0.983838</td>\n",
       "      <td>1.056745</td>\n",
       "      <td>1.567410</td>\n",
       "      <td>0.940275</td>\n",
       "      <td>0.807826</td>\n",
       "      <td>1</td>\n",
       "    </tr>\n",
       "    <tr>\n",
       "      <th>2</th>\n",
       "      <td>0.745762</td>\n",
       "      <td>-1.198036</td>\n",
       "      <td>-0.740429</td>\n",
       "      <td>1.239304</td>\n",
       "      <td>0.256762</td>\n",
       "      <td>NaN</td>\n",
       "      <td>-0.103009</td>\n",
       "      <td>1.449852</td>\n",
       "      <td>2.173076</td>\n",
       "      <td>0.923754</td>\n",
       "      <td>...</td>\n",
       "      <td>-1.242160</td>\n",
       "      <td>0.000000</td>\n",
       "      <td>0.803592</td>\n",
       "      <td>0.958226</td>\n",
       "      <td>1.042696</td>\n",
       "      <td>0.962325</td>\n",
       "      <td>0.753004</td>\n",
       "      <td>0.781717</td>\n",
       "      <td>0.711513</td>\n",
       "      <td>1</td>\n",
       "    </tr>\n",
       "    <tr>\n",
       "      <th>3</th>\n",
       "      <td>0.754730</td>\n",
       "      <td>1.291428</td>\n",
       "      <td>0.714523</td>\n",
       "      <td>0.850122</td>\n",
       "      <td>0.253473</td>\n",
       "      <td>0.934852</td>\n",
       "      <td>-0.733786</td>\n",
       "      <td>1.407166</td>\n",
       "      <td>NaN</td>\n",
       "      <td>0.883717</td>\n",
       "      <td>...</td>\n",
       "      <td>-0.825421</td>\n",
       "      <td>0.000000</td>\n",
       "      <td>2.054786</td>\n",
       "      <td>1.577448</td>\n",
       "      <td>0.999547</td>\n",
       "      <td>2.386760</td>\n",
       "      <td>1.455588</td>\n",
       "      <td>1.757753</td>\n",
       "      <td>1.538811</td>\n",
       "      <td>0</td>\n",
       "    </tr>\n",
       "    <tr>\n",
       "      <th>4</th>\n",
       "      <td>1.336332</td>\n",
       "      <td>-0.407173</td>\n",
       "      <td>1.026355</td>\n",
       "      <td>2.019245</td>\n",
       "      <td>0.558858</td>\n",
       "      <td>1.559704</td>\n",
       "      <td>-0.726854</td>\n",
       "      <td>NaN</td>\n",
       "      <td>0.000000</td>\n",
       "      <td>0.810315</td>\n",
       "      <td>...</td>\n",
       "      <td>1.100229</td>\n",
       "      <td>3.101961</td>\n",
       "      <td>0.922455</td>\n",
       "      <td>0.879696</td>\n",
       "      <td>0.983609</td>\n",
       "      <td>0.971203</td>\n",
       "      <td>1.022390</td>\n",
       "      <td>1.006686</td>\n",
       "      <td>1.130976</td>\n",
       "      <td>0</td>\n",
       "    </tr>\n",
       "  </tbody>\n",
       "</table>\n",
       "<p>5 rows × 29 columns</p>\n",
       "</div>"
      ],
      "text/plain": [
       "       Col0      Col1      Col2      Col3      Col4      Col5      Col6  \\\n",
       "0  2.118879 -0.047779  0.422666  0.887075  1.190011  1.125486  0.433695   \n",
       "1  0.597891  1.086895  0.923151  0.226966       NaN  0.797166  0.150490   \n",
       "2  0.745762 -1.198036 -0.740429  1.239304  0.256762       NaN -0.103009   \n",
       "3  0.754730  1.291428  0.714523  0.850122  0.253473  0.934852 -0.733786   \n",
       "4  1.336332 -0.407173  1.026355  2.019245  0.558858  1.559704 -0.726854   \n",
       "\n",
       "       Col7      Col8      Col9  ...     Col19     Col20     Col21     Col22  \\\n",
       "0 -1.338761  0.000000       NaN  ... -1.553466  0.000000  0.742982  0.823960   \n",
       "1 -0.124122  1.086538  1.316699  ... -1.554576  0.000000  0.847783  0.790057   \n",
       "2  1.449852  2.173076  0.923754  ... -1.242160  0.000000  0.803592  0.958226   \n",
       "3  1.407166       NaN  0.883717  ... -0.825421  0.000000  2.054786  1.577448   \n",
       "4       NaN  0.000000  0.810315  ...  1.100229  3.101961  0.922455  0.879696   \n",
       "\n",
       "      Col23     Col24     Col25     Col26     Col27  target  \n",
       "0  1.211727  0.916147       NaN  0.654138  0.825789       0  \n",
       "1  0.983838  1.056745  1.567410  0.940275  0.807826       1  \n",
       "2  1.042696  0.962325  0.753004  0.781717  0.711513       1  \n",
       "3  0.999547  2.386760  1.455588  1.757753  1.538811       0  \n",
       "4  0.983609  0.971203  1.022390  1.006686  1.130976       0  \n",
       "\n",
       "[5 rows x 29 columns]"
      ]
     },
     "execution_count": 34,
     "metadata": {},
     "output_type": "execute_result"
    }
   ],
   "source": [
    "X_num_train_5.head()"
   ]
  },
  {
   "cell_type": "code",
   "execution_count": null,
   "metadata": {},
   "outputs": [],
   "source": [
    "X_num_train_5['target'] = y_train_5\n",
    "X_num_test['target'] = y_test\n",
    "X_num_val['target'] = y_val"
   ]
  },
  {
   "cell_type": "code",
   "execution_count": 35,
   "metadata": {},
   "outputs": [
    {
     "data": {
      "text/html": [
       "<div>\n",
       "<style scoped>\n",
       "    .dataframe tbody tr th:only-of-type {\n",
       "        vertical-align: middle;\n",
       "    }\n",
       "\n",
       "    .dataframe tbody tr th {\n",
       "        vertical-align: top;\n",
       "    }\n",
       "\n",
       "    .dataframe thead th {\n",
       "        text-align: right;\n",
       "    }\n",
       "</style>\n",
       "<table border=\"1\" class=\"dataframe\">\n",
       "  <thead>\n",
       "    <tr style=\"text-align: right;\">\n",
       "      <th></th>\n",
       "      <th>Col0</th>\n",
       "      <th>Col1</th>\n",
       "      <th>Col2</th>\n",
       "      <th>Col3</th>\n",
       "      <th>Col4</th>\n",
       "      <th>Col5</th>\n",
       "      <th>Col6</th>\n",
       "      <th>Col7</th>\n",
       "      <th>Col8</th>\n",
       "      <th>Col9</th>\n",
       "      <th>...</th>\n",
       "      <th>Col19</th>\n",
       "      <th>Col20</th>\n",
       "      <th>Col21</th>\n",
       "      <th>Col22</th>\n",
       "      <th>Col23</th>\n",
       "      <th>Col24</th>\n",
       "      <th>Col25</th>\n",
       "      <th>Col26</th>\n",
       "      <th>Col27</th>\n",
       "      <th>target</th>\n",
       "    </tr>\n",
       "  </thead>\n",
       "  <tbody>\n",
       "    <tr>\n",
       "      <th>0</th>\n",
       "      <td>1.036929</td>\n",
       "      <td>1.006056</td>\n",
       "      <td>1.200027</td>\n",
       "      <td>0.454295</td>\n",
       "      <td>-1.117098</td>\n",
       "      <td>NaN</td>\n",
       "      <td>1.233801</td>\n",
       "      <td>-0.254400</td>\n",
       "      <td>2.173076</td>\n",
       "      <td>0.703801</td>\n",
       "      <td>...</td>\n",
       "      <td>-1.349813</td>\n",
       "      <td>3.101961</td>\n",
       "      <td>1.015689</td>\n",
       "      <td>1.134209</td>\n",
       "      <td>0.987833</td>\n",
       "      <td>0.577949</td>\n",
       "      <td>0.881929</td>\n",
       "      <td>NaN</td>\n",
       "      <td>0.723618</td>\n",
       "      <td>1</td>\n",
       "    </tr>\n",
       "    <tr>\n",
       "      <th>1</th>\n",
       "      <td>1.047544</td>\n",
       "      <td>-0.712999</td>\n",
       "      <td>0.062561</td>\n",
       "      <td>1.428549</td>\n",
       "      <td>0.688818</td>\n",
       "      <td>0.721315</td>\n",
       "      <td>-1.170477</td>\n",
       "      <td>-0.922425</td>\n",
       "      <td>0.000000</td>\n",
       "      <td>NaN</td>\n",
       "      <td>...</td>\n",
       "      <td>1.405431</td>\n",
       "      <td>1.550981</td>\n",
       "      <td>0.844791</td>\n",
       "      <td>0.923488</td>\n",
       "      <td>0.991520</td>\n",
       "      <td>0.887377</td>\n",
       "      <td>NaN</td>\n",
       "      <td>0.712471</td>\n",
       "      <td>0.712422</td>\n",
       "      <td>0</td>\n",
       "    </tr>\n",
       "    <tr>\n",
       "      <th>2</th>\n",
       "      <td>0.936275</td>\n",
       "      <td>-1.703525</td>\n",
       "      <td>-0.577299</td>\n",
       "      <td>1.001859</td>\n",
       "      <td>0.871798</td>\n",
       "      <td>0.655816</td>\n",
       "      <td>-1.412093</td>\n",
       "      <td>0.269587</td>\n",
       "      <td>2.173076</td>\n",
       "      <td>0.892908</td>\n",
       "      <td>...</td>\n",
       "      <td>0.422127</td>\n",
       "      <td>0.000000</td>\n",
       "      <td>0.816192</td>\n",
       "      <td>1.095531</td>\n",
       "      <td>1.295066</td>\n",
       "      <td>0.783746</td>\n",
       "      <td>0.871041</td>\n",
       "      <td>0.923142</td>\n",
       "      <td>0.840195</td>\n",
       "      <td>1</td>\n",
       "    </tr>\n",
       "    <tr>\n",
       "      <th>3</th>\n",
       "      <td>0.696167</td>\n",
       "      <td>-0.463663</td>\n",
       "      <td>-0.658309</td>\n",
       "      <td>0.675300</td>\n",
       "      <td>1.132573</td>\n",
       "      <td>0.840679</td>\n",
       "      <td>0.499050</td>\n",
       "      <td>0.495218</td>\n",
       "      <td>2.173076</td>\n",
       "      <td>1.247074</td>\n",
       "      <td>...</td>\n",
       "      <td>1.071374</td>\n",
       "      <td>0.000000</td>\n",
       "      <td>1.210503</td>\n",
       "      <td>0.853027</td>\n",
       "      <td>0.988402</td>\n",
       "      <td>0.963329</td>\n",
       "      <td>0.761007</td>\n",
       "      <td>0.785013</td>\n",
       "      <td>NaN</td>\n",
       "      <td>1</td>\n",
       "    </tr>\n",
       "    <tr>\n",
       "      <th>4</th>\n",
       "      <td>0.596427</td>\n",
       "      <td>1.417071</td>\n",
       "      <td>-1.251456</td>\n",
       "      <td>1.092743</td>\n",
       "      <td>1.628276</td>\n",
       "      <td>0.982579</td>\n",
       "      <td>-0.162423</td>\n",
       "      <td>0.373255</td>\n",
       "      <td>0.000000</td>\n",
       "      <td>NaN</td>\n",
       "      <td>...</td>\n",
       "      <td>0.620785</td>\n",
       "      <td>0.000000</td>\n",
       "      <td>0.847467</td>\n",
       "      <td>0.887198</td>\n",
       "      <td>0.996937</td>\n",
       "      <td>1.759708</td>\n",
       "      <td>0.579911</td>\n",
       "      <td>1.134156</td>\n",
       "      <td>1.408581</td>\n",
       "      <td>0</td>\n",
       "    </tr>\n",
       "  </tbody>\n",
       "</table>\n",
       "<p>5 rows × 29 columns</p>\n",
       "</div>"
      ],
      "text/plain": [
       "       Col0      Col1      Col2      Col3      Col4      Col5      Col6  \\\n",
       "0  1.036929  1.006056  1.200027  0.454295 -1.117098       NaN  1.233801   \n",
       "1  1.047544 -0.712999  0.062561  1.428549  0.688818  0.721315 -1.170477   \n",
       "2  0.936275 -1.703525 -0.577299  1.001859  0.871798  0.655816 -1.412093   \n",
       "3  0.696167 -0.463663 -0.658309  0.675300  1.132573  0.840679  0.499050   \n",
       "4  0.596427  1.417071 -1.251456  1.092743  1.628276  0.982579 -0.162423   \n",
       "\n",
       "       Col7      Col8      Col9  ...     Col19     Col20     Col21     Col22  \\\n",
       "0 -0.254400  2.173076  0.703801  ... -1.349813  3.101961  1.015689  1.134209   \n",
       "1 -0.922425  0.000000       NaN  ...  1.405431  1.550981  0.844791  0.923488   \n",
       "2  0.269587  2.173076  0.892908  ...  0.422127  0.000000  0.816192  1.095531   \n",
       "3  0.495218  2.173076  1.247074  ...  1.071374  0.000000  1.210503  0.853027   \n",
       "4  0.373255  0.000000       NaN  ...  0.620785  0.000000  0.847467  0.887198   \n",
       "\n",
       "      Col23     Col24     Col25     Col26     Col27  target  \n",
       "0  0.987833  0.577949  0.881929       NaN  0.723618       1  \n",
       "1  0.991520  0.887377       NaN  0.712471  0.712422       0  \n",
       "2  1.295066  0.783746  0.871041  0.923142  0.840195       1  \n",
       "3  0.988402  0.963329  0.761007  0.785013       NaN       1  \n",
       "4  0.996937  1.759708  0.579911  1.134156  1.408581       0  \n",
       "\n",
       "[5 rows x 29 columns]"
      ]
     },
     "execution_count": 35,
     "metadata": {},
     "output_type": "execute_result"
    }
   ],
   "source": [
    "X_num_train_5 = X_num_train_5.sample(frac=1).reset_index(drop=True)\n",
    "X_num_train_5.head()"
   ]
  },
  {
   "cell_type": "code",
   "execution_count": 36,
   "metadata": {},
   "outputs": [
    {
     "data": {
      "text/html": [
       "<div>\n",
       "<style scoped>\n",
       "    .dataframe tbody tr th:only-of-type {\n",
       "        vertical-align: middle;\n",
       "    }\n",
       "\n",
       "    .dataframe tbody tr th {\n",
       "        vertical-align: top;\n",
       "    }\n",
       "\n",
       "    .dataframe thead th {\n",
       "        text-align: right;\n",
       "    }\n",
       "</style>\n",
       "<table border=\"1\" class=\"dataframe\">\n",
       "  <thead>\n",
       "    <tr style=\"text-align: right;\">\n",
       "      <th></th>\n",
       "      <th>Col0</th>\n",
       "      <th>Col1</th>\n",
       "      <th>Col2</th>\n",
       "      <th>Col3</th>\n",
       "      <th>Col4</th>\n",
       "      <th>Col5</th>\n",
       "      <th>Col6</th>\n",
       "      <th>Col7</th>\n",
       "      <th>Col8</th>\n",
       "      <th>Col9</th>\n",
       "      <th>...</th>\n",
       "      <th>Col19</th>\n",
       "      <th>Col20</th>\n",
       "      <th>Col21</th>\n",
       "      <th>Col22</th>\n",
       "      <th>Col23</th>\n",
       "      <th>Col24</th>\n",
       "      <th>Col25</th>\n",
       "      <th>Col26</th>\n",
       "      <th>Col27</th>\n",
       "      <th>target</th>\n",
       "    </tr>\n",
       "  </thead>\n",
       "  <tbody>\n",
       "    <tr>\n",
       "      <th>0</th>\n",
       "      <td>0.336554</td>\n",
       "      <td>NaN</td>\n",
       "      <td>-1.034505</td>\n",
       "      <td>2.136067</td>\n",
       "      <td>1.091630</td>\n",
       "      <td>0.825747</td>\n",
       "      <td>-0.228769</td>\n",
       "      <td>-0.582593</td>\n",
       "      <td>0.000000</td>\n",
       "      <td>0.542392</td>\n",
       "      <td>...</td>\n",
       "      <td>0.241225</td>\n",
       "      <td>NaN</td>\n",
       "      <td>0.857981</td>\n",
       "      <td>0.907894</td>\n",
       "      <td>1.105223</td>\n",
       "      <td>0.733101</td>\n",
       "      <td>0.449465</td>\n",
       "      <td>0.660714</td>\n",
       "      <td>0.842115</td>\n",
       "      <td>0</td>\n",
       "    </tr>\n",
       "    <tr>\n",
       "      <th>1</th>\n",
       "      <td>0.516269</td>\n",
       "      <td>-1.261344</td>\n",
       "      <td>-1.145478</td>\n",
       "      <td>1.446142</td>\n",
       "      <td>-0.372901</td>\n",
       "      <td>0.645922</td>\n",
       "      <td>-0.557525</td>\n",
       "      <td>1.326227</td>\n",
       "      <td>0.000000</td>\n",
       "      <td>NaN</td>\n",
       "      <td>...</td>\n",
       "      <td>-1.567894</td>\n",
       "      <td>0.0</td>\n",
       "      <td>0.721187</td>\n",
       "      <td>0.868237</td>\n",
       "      <td>0.987552</td>\n",
       "      <td>0.497126</td>\n",
       "      <td>0.778771</td>\n",
       "      <td>0.676624</td>\n",
       "      <td>0.729427</td>\n",
       "      <td>0</td>\n",
       "    </tr>\n",
       "    <tr>\n",
       "      <th>2</th>\n",
       "      <td>0.411038</td>\n",
       "      <td>0.301876</td>\n",
       "      <td>0.824940</td>\n",
       "      <td>1.426709</td>\n",
       "      <td>-0.961902</td>\n",
       "      <td>1.082889</td>\n",
       "      <td>0.600054</td>\n",
       "      <td>1.534672</td>\n",
       "      <td>2.173076</td>\n",
       "      <td>1.186514</td>\n",
       "      <td>...</td>\n",
       "      <td>0.677941</td>\n",
       "      <td>0.0</td>\n",
       "      <td>1.053019</td>\n",
       "      <td>NaN</td>\n",
       "      <td>1.060117</td>\n",
       "      <td>0.974307</td>\n",
       "      <td>1.836427</td>\n",
       "      <td>1.193518</td>\n",
       "      <td>1.026776</td>\n",
       "      <td>1</td>\n",
       "    </tr>\n",
       "    <tr>\n",
       "      <th>3</th>\n",
       "      <td>0.381757</td>\n",
       "      <td>-0.107191</td>\n",
       "      <td>1.440837</td>\n",
       "      <td>1.568934</td>\n",
       "      <td>-0.289028</td>\n",
       "      <td>1.317495</td>\n",
       "      <td>0.531728</td>\n",
       "      <td>-0.903022</td>\n",
       "      <td>2.173076</td>\n",
       "      <td>1.207792</td>\n",
       "      <td>...</td>\n",
       "      <td>0.789478</td>\n",
       "      <td>0.0</td>\n",
       "      <td>0.345580</td>\n",
       "      <td>0.882028</td>\n",
       "      <td>1.072079</td>\n",
       "      <td>0.996085</td>\n",
       "      <td>1.824473</td>\n",
       "      <td>1.113359</td>\n",
       "      <td>0.960487</td>\n",
       "      <td>1</td>\n",
       "    </tr>\n",
       "    <tr>\n",
       "      <th>4</th>\n",
       "      <td>1.397091</td>\n",
       "      <td>-0.829876</td>\n",
       "      <td>0.923151</td>\n",
       "      <td>0.252031</td>\n",
       "      <td>-1.126705</td>\n",
       "      <td>0.976991</td>\n",
       "      <td>-0.040625</td>\n",
       "      <td>-0.810441</td>\n",
       "      <td>2.173076</td>\n",
       "      <td>0.436004</td>\n",
       "      <td>...</td>\n",
       "      <td>1.444830</td>\n",
       "      <td>0.0</td>\n",
       "      <td>0.982152</td>\n",
       "      <td>0.860474</td>\n",
       "      <td>0.991044</td>\n",
       "      <td>1.210401</td>\n",
       "      <td>0.834887</td>\n",
       "      <td>0.836636</td>\n",
       "      <td>0.787843</td>\n",
       "      <td>0</td>\n",
       "    </tr>\n",
       "  </tbody>\n",
       "</table>\n",
       "<p>5 rows × 29 columns</p>\n",
       "</div>"
      ],
      "text/plain": [
       "       Col0      Col1      Col2      Col3      Col4      Col5      Col6  \\\n",
       "0  0.336554       NaN -1.034505  2.136067  1.091630  0.825747 -0.228769   \n",
       "1  0.516269 -1.261344 -1.145478  1.446142 -0.372901  0.645922 -0.557525   \n",
       "2  0.411038  0.301876  0.824940  1.426709 -0.961902  1.082889  0.600054   \n",
       "3  0.381757 -0.107191  1.440837  1.568934 -0.289028  1.317495  0.531728   \n",
       "4  1.397091 -0.829876  0.923151  0.252031 -1.126705  0.976991 -0.040625   \n",
       "\n",
       "       Col7      Col8      Col9  ...     Col19  Col20     Col21     Col22  \\\n",
       "0 -0.582593  0.000000  0.542392  ...  0.241225    NaN  0.857981  0.907894   \n",
       "1  1.326227  0.000000       NaN  ... -1.567894    0.0  0.721187  0.868237   \n",
       "2  1.534672  2.173076  1.186514  ...  0.677941    0.0  1.053019       NaN   \n",
       "3 -0.903022  2.173076  1.207792  ...  0.789478    0.0  0.345580  0.882028   \n",
       "4 -0.810441  2.173076  0.436004  ...  1.444830    0.0  0.982152  0.860474   \n",
       "\n",
       "      Col23     Col24     Col25     Col26     Col27  target  \n",
       "0  1.105223  0.733101  0.449465  0.660714  0.842115       0  \n",
       "1  0.987552  0.497126  0.778771  0.676624  0.729427       0  \n",
       "2  1.060117  0.974307  1.836427  1.193518  1.026776       1  \n",
       "3  1.072079  0.996085  1.824473  1.113359  0.960487       1  \n",
       "4  0.991044  1.210401  0.834887  0.836636  0.787843       0  \n",
       "\n",
       "[5 rows x 29 columns]"
      ]
     },
     "execution_count": 36,
     "metadata": {},
     "output_type": "execute_result"
    }
   ],
   "source": [
    "X_num_train_5 = X_num_train_5.sample(frac=1).reset_index(drop=True)\n",
    "X_num_train_5.head()"
   ]
  },
  {
   "cell_type": "code",
   "execution_count": 33,
   "metadata": {},
   "outputs": [],
   "source": []
  },
  {
   "cell_type": "code",
   "execution_count": 37,
   "metadata": {},
   "outputs": [],
   "source": [
    "X_num_train_5.to_csv('../input/higgs_small_roc/xgtrain_5.csv', index=False)\n",
    "X_num_val.to_csv('../input/higgs_small_roc/xgval.csv', index=False)\n",
    "X_num_test.to_csv('../input/higgs_small_roc/xgtest.csv', index=False)"
   ]
  },
  {
   "cell_type": "code",
   "execution_count": null,
   "metadata": {},
   "outputs": [],
   "source": []
  }
 ],
 "metadata": {
  "kernelspec": {
   "display_name": "Python 3 (ipykernel)",
   "language": "python",
   "name": "python3"
  },
  "language_info": {
   "codemirror_mode": {
    "name": "ipython",
    "version": 3
   },
   "file_extension": ".py",
   "mimetype": "text/x-python",
   "name": "python",
   "nbconvert_exporter": "python",
   "pygments_lexer": "ipython3",
   "version": "3.9.6"
  }
 },
 "nbformat": 4,
 "nbformat_minor": 4
}
