{
 "cells": [
  {
   "cell_type": "code",
   "execution_count": 1,
   "id": "ef5a119f",
   "metadata": {},
   "outputs": [],
   "source": [
    "%load_ext watermark"
   ]
  },
  {
   "cell_type": "code",
   "execution_count": 2,
   "id": "2819656b",
   "metadata": {},
   "outputs": [
    {
     "name": "stdout",
     "output_type": "stream",
     "text": [
      "Last updated: 2022-12-01T07:42:45.492289-05:00\n",
      "\n",
      "Python implementation: CPython\n",
      "Python version       : 3.7.11\n",
      "IPython version      : 7.10.1\n",
      "\n",
      "Compiler    : GCC 7.5.0\n",
      "OS          : Linux\n",
      "Release     : 4.15.0-161-generic\n",
      "Machine     : x86_64\n",
      "Processor   : x86_64\n",
      "CPU cores   : 40\n",
      "Architecture: 64bit\n",
      "\n"
     ]
    }
   ],
   "source": [
    "%watermark"
   ]
  },
  {
   "cell_type": "code",
   "execution_count": 3,
   "id": "0d0943e8",
   "metadata": {},
   "outputs": [],
   "source": [
    "import numpy as np\n",
    "import pandas as pd\n",
    "from sklearn.svm import SVC\n",
    "from sklearn.metrics import roc_auc_score"
   ]
  },
  {
   "cell_type": "code",
   "execution_count": 4,
   "id": "5d183be9",
   "metadata": {},
   "outputs": [
    {
     "name": "stdout",
     "output_type": "stream",
     "text": [
      "pandas: 1.3.5\n",
      "numpy : 1.19.2\n",
      "\n"
     ]
    }
   ],
   "source": [
    "%watermark --iversions"
   ]
  },
  {
   "cell_type": "code",
   "execution_count": 5,
   "id": "ae1cf2ee",
   "metadata": {},
   "outputs": [],
   "source": [
    "X_num_train = np.load('../input/higgs_small_roc/X_num_train.npy')\n",
    "X_num_val = np.load('../input/higgs_small_roc/X_num_val.npy')\n",
    "X_num_test = np.load('../input/higgs_small_roc/X_num_test.npy')\n",
    "\n",
    "y_train = np.load('../input/higgs_small_roc/y_train.npy')\n",
    "y_val = np.load('../input/higgs_small_roc/y_val.npy')\n",
    "y_test = np.load('../input/higgs_small_roc/y_test.npy')"
   ]
  },
  {
   "cell_type": "code",
   "execution_count": 6,
   "id": "325cc103",
   "metadata": {},
   "outputs": [
    {
     "data": {
      "text/plain": [
       "(62751, 28)"
      ]
     },
     "execution_count": 6,
     "metadata": {},
     "output_type": "execute_result"
    }
   ],
   "source": [
    "X_num_train.shape"
   ]
  },
  {
   "cell_type": "code",
   "execution_count": 7,
   "id": "6461d3b5",
   "metadata": {},
   "outputs": [],
   "source": [
    "clf = SVC(probability=True)"
   ]
  },
  {
   "cell_type": "code",
   "execution_count": 8,
   "id": "38a77e7d",
   "metadata": {},
   "outputs": [
    {
     "name": "stdout",
     "output_type": "stream",
     "text": [
      "CPU times: user 28min 44s, sys: 193 ms, total: 28min 44s\n",
      "Wall time: 28min 44s\n"
     ]
    },
    {
     "data": {
      "text/plain": [
       "SVC(probability=True)"
      ]
     },
     "execution_count": 8,
     "metadata": {},
     "output_type": "execute_result"
    }
   ],
   "source": [
    "%%time\n",
    "clf.fit(X_num_train, y_train)"
   ]
  },
  {
   "cell_type": "code",
   "execution_count": 9,
   "id": "bce31286",
   "metadata": {},
   "outputs": [],
   "source": [
    "val_preds = clf.predict_proba(X_num_val)[:,1]\n",
    "test_preds = clf.predict_proba(X_num_test)[:,1]"
   ]
  },
  {
   "cell_type": "code",
   "execution_count": 10,
   "id": "9b675766",
   "metadata": {},
   "outputs": [
    {
     "data": {
      "text/plain": [
       "array([0.69233106, 0.72129929, 0.41165272, ..., 0.34958244, 0.33879077,\n",
       "       0.64660545])"
      ]
     },
     "execution_count": 10,
     "metadata": {},
     "output_type": "execute_result"
    }
   ],
   "source": [
    "val_preds"
   ]
  },
  {
   "cell_type": "code",
   "execution_count": 11,
   "id": "417e88b2",
   "metadata": {},
   "outputs": [
    {
     "data": {
      "text/plain": [
       "0.7257018826358729"
      ]
     },
     "execution_count": 11,
     "metadata": {},
     "output_type": "execute_result"
    }
   ],
   "source": [
    "roc_auc_score(y_val, val_preds)"
   ]
  },
  {
   "cell_type": "code",
   "execution_count": 12,
   "id": "1541154a",
   "metadata": {},
   "outputs": [
    {
     "data": {
      "text/plain": [
       "0.7199672004293268"
      ]
     },
     "execution_count": 12,
     "metadata": {},
     "output_type": "execute_result"
    }
   ],
   "source": [
    "roc_auc_score(y_test, test_preds)"
   ]
  },
  {
   "cell_type": "code",
   "execution_count": null,
   "id": "95818006",
   "metadata": {},
   "outputs": [],
   "source": []
  }
 ],
 "metadata": {
  "kernelspec": {
   "display_name": "Python 3 (ipykernel)",
   "language": "python",
   "name": "python3"
  },
  "language_info": {
   "codemirror_mode": {
    "name": "ipython",
    "version": 3
   },
   "file_extension": ".py",
   "mimetype": "text/x-python",
   "name": "python",
   "nbconvert_exporter": "python",
   "pygments_lexer": "ipython3",
   "version": "3.10.2"
  }
 },
 "nbformat": 4,
 "nbformat_minor": 5
}
