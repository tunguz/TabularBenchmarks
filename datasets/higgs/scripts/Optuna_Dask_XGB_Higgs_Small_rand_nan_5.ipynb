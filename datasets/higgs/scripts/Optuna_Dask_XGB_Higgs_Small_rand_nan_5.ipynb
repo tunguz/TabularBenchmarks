{
 "cells": [
  {
   "cell_type": "code",
   "execution_count": 1,
   "metadata": {},
   "outputs": [],
   "source": [
    "import os\n",
    "#os.environ[\"CUDA_DEVICE_ORDER\"]=\"PCI_BUS_ID\"\n",
    "#os.environ[\"CUDA_VISIBLE_DEVICES\"]=\"0, 1, 2, 4\""
   ]
  },
  {
   "cell_type": "code",
   "execution_count": 2,
   "metadata": {},
   "outputs": [
    {
     "data": {
      "text/plain": [
       "'1.6.2'"
      ]
     },
     "execution_count": 2,
     "metadata": {},
     "output_type": "execute_result"
    }
   ],
   "source": [
    "from dask.distributed import Client\n",
    "from dask_cuda import LocalCUDACluster\n",
    "from dask import dataframe as dd\n",
    "import pandas as pd\n",
    "import xgboost as xgb\n",
    "from sklearn.model_selection import KFold, train_test_split\n",
    "from sklearn.metrics import roc_auc_score\n",
    "import optuna\n",
    "import gc\n",
    "xgb.__version__"
   ]
  },
  {
   "cell_type": "code",
   "execution_count": 3,
   "metadata": {},
   "outputs": [
    {
     "name": "stdout",
     "output_type": "stream",
     "text": [
      "Tue Nov 22 11:02:19 2022       \n",
      "+-----------------------------------------------------------------------------+\n",
      "| NVIDIA-SMI 450.142.00   Driver Version: 450.142.00   CUDA Version: 11.0     |\n",
      "|-------------------------------+----------------------+----------------------+\n",
      "| GPU  Name        Persistence-M| Bus-Id        Disp.A | Volatile Uncorr. ECC |\n",
      "| Fan  Temp  Perf  Pwr:Usage/Cap|         Memory-Usage | GPU-Util  Compute M. |\n",
      "|                               |                      |               MIG M. |\n",
      "|===============================+======================+======================|\n",
      "|   0  Tesla V100-DGXS...  On   | 00000000:07:00.0  On |                    0 |\n",
      "| N/A   36C    P0    37W / 300W |    356MiB / 32499MiB |      0%      Default |\n",
      "|                               |                      |                  N/A |\n",
      "+-------------------------------+----------------------+----------------------+\n",
      "|   1  Tesla V100-DGXS...  On   | 00000000:08:00.0 Off |                    0 |\n",
      "| N/A   37C    P0    35W / 300W |      1MiB / 32508MiB |      0%      Default |\n",
      "|                               |                      |                  N/A |\n",
      "+-------------------------------+----------------------+----------------------+\n",
      "|   2  Tesla V100-DGXS...  On   | 00000000:0E:00.0 Off |                    0 |\n",
      "| N/A   40C    P0    36W / 300W |      1MiB / 32508MiB |      0%      Default |\n",
      "|                               |                      |                  N/A |\n",
      "+-------------------------------+----------------------+----------------------+\n",
      "|   3  Tesla V100-DGXS...  On   | 00000000:0F:00.0 Off |                    0 |\n",
      "| N/A   36C    P0    37W / 300W |      1MiB / 32508MiB |      0%      Default |\n",
      "|                               |                      |                  N/A |\n",
      "+-------------------------------+----------------------+----------------------+\n",
      "                                                                               \n",
      "+-----------------------------------------------------------------------------+\n",
      "| Processes:                                                                  |\n",
      "|  GPU   GI   CI        PID   Type   Process name                  GPU Memory |\n",
      "|        ID   ID                                                   Usage      |\n",
      "|=============================================================================|\n",
      "|    0   N/A  N/A      4182      G   /usr/lib/xorg/Xorg                126MiB |\n",
      "|    0   N/A  N/A      4663      G   /usr/bin/gnome-shell               80MiB |\n",
      "|    0   N/A  N/A      4710      G   ...mviewer/tv_bin/TeamViewer       21MiB |\n",
      "|    0   N/A  N/A     37701      G   ...AAAAAAAAA= --shared-files      123MiB |\n",
      "+-----------------------------------------------------------------------------+\n"
     ]
    }
   ],
   "source": [
    "!nvidia-smi"
   ]
  },
  {
   "cell_type": "code",
   "execution_count": 4,
   "metadata": {},
   "outputs": [
    {
     "name": "stdout",
     "output_type": "stream",
     "text": [
      "GPU 0: Tesla V100-DGXS-32GB (UUID: GPU-d752af09-1f62-bf3b-4f70-78b84e9e41f6)\n",
      "GPU 1: Tesla V100-DGXS-32GB (UUID: GPU-054a4a35-f98a-3ebc-9100-0f697c246b43)\n",
      "GPU 2: Tesla V100-DGXS-32GB (UUID: GPU-454525d4-bebd-7fb8-0ba3-3b85e2f99abd)\n",
      "GPU 3: Tesla V100-DGXS-32GB (UUID: GPU-af0fb74e-f5eb-0833-17ff-494cc6bdcee1)\n"
     ]
    }
   ],
   "source": [
    "!nvidia-smi -L"
   ]
  },
  {
   "cell_type": "code",
   "execution_count": 5,
   "metadata": {},
   "outputs": [],
   "source": [
    "train_x = dd.read_csv('../input/higgs_small_roc/xgtrain_5.csv')\n",
    "test_x = dd.read_csv('../input/higgs_small_roc/xgval.csv')"
   ]
  },
  {
   "cell_type": "code",
   "execution_count": 6,
   "metadata": {},
   "outputs": [],
   "source": [
    "train_y = train_x['target']\n",
    "train_x = train_x[train_x.columns.difference(['target'])]\n",
    "\n",
    "test_y = test_x['target']\n",
    "test_x = test_x[test_x.columns.difference(['target'])]"
   ]
  },
  {
   "cell_type": "code",
   "execution_count": 7,
   "metadata": {},
   "outputs": [],
   "source": [
    "cluster = LocalCUDACluster(n_workers=4)\n",
    "client = Client(cluster)"
   ]
  },
  {
   "cell_type": "code",
   "execution_count": 8,
   "metadata": {},
   "outputs": [],
   "source": [
    "dtrain = xgb.dask.DaskDMatrix(client, train_x, train_y)"
   ]
  },
  {
   "cell_type": "code",
   "execution_count": 9,
   "metadata": {},
   "outputs": [],
   "source": [
    "dtest = xgb.dask.DaskDMatrix(client, test_x, test_y)\n"
   ]
  },
  {
   "cell_type": "code",
   "execution_count": 10,
   "metadata": {},
   "outputs": [],
   "source": [
    "num_round = 1000"
   ]
  },
  {
   "cell_type": "code",
   "execution_count": 11,
   "metadata": {},
   "outputs": [],
   "source": [
    "def objective(trial):\n",
    "        \n",
    "    params = {\n",
    "        'objective': trial.suggest_categorical('objective',['binary:logistic']),\n",
    "        'tree_method': trial.suggest_categorical('tree_method',['gpu_hist']),  # 'gpu_hist','hist'\n",
    "        'lambda': trial.suggest_loguniform('lambda',1e-3,10.0),\n",
    "        'alpha': trial.suggest_loguniform('alpha',1e-3,10.0),\n",
    "        'colsample_bytree': trial.suggest_uniform('colsample_bytree', 0.3,1.0),\n",
    "        'subsample': trial.suggest_uniform('subsample', 0.4, 1.0),\n",
    "        'learning_rate': trial.suggest_loguniform('learning_rate', 0.001,0.1),\n",
    "        #'n_estimators': trial.suggest_categorical('n_estimators', [1000]),\n",
    "        'max_depth': trial.suggest_categorical('max_depth', [3,5,7,9,11,13,15,17,20]),\n",
    "        #'random_state': trial.suggest_categorical('random_state', [24,48,2020]),\n",
    "        'min_child_weight': trial.suggest_int('min_child_weight', 1,300),\n",
    "        'eval_metric': trial.suggest_categorical('eval_metric',['logloss']),\n",
    "\n",
    "    }\n",
    "\n",
    "    output = xgb.dask.train(client, params, dtrain, num_round)\n",
    "    \n",
    "    booster = output['booster']  # booster is the trained model\n",
    "    booster.set_param({'predictor': 'gpu_predictor'})\n",
    "\n",
    "    predictions = xgb.dask.predict(client, booster, dtest)\n",
    "    \n",
    "    predictions = predictions.compute()\n",
    "\n",
    "    roc = roc_auc_score(test_y, predictions)\n",
    "    \n",
    "    return roc"
   ]
  },
  {
   "cell_type": "code",
   "execution_count": 12,
   "metadata": {},
   "outputs": [
    {
     "name": "stderr",
     "output_type": "stream",
     "text": [
      "\u001b[32m[I 2022-11-22 11:02:40,096]\u001b[0m A new study created in memory with name: no-name-3e39f0d4-ae39-433f-8ff4-d984ee3a4fbb\u001b[0m\n"
     ]
    }
   ],
   "source": [
    "study = optuna.create_study(direction='maximize')"
   ]
  },
  {
   "cell_type": "code",
   "execution_count": 13,
   "metadata": {},
   "outputs": [
    {
     "name": "stderr",
     "output_type": "stream",
     "text": [
      "/home/tunguz/anaconda3/lib/python3.7/site-packages/xgboost/dask.py:884: RuntimeWarning: coroutine 'Client._wait_for_workers' was never awaited\n",
      "  client.wait_for_workers(n_workers)\n",
      "\u001b[32m[I 2022-11-22 11:03:04,613]\u001b[0m Trial 0 finished with value: 0.7881945449972698 and parameters: {'objective': 'binary:logistic', 'tree_method': 'gpu_hist', 'lambda': 0.06078714253656832, 'alpha': 0.032731970079114756, 'colsample_bytree': 0.549202422235106, 'subsample': 0.4975849611872824, 'learning_rate': 0.0015034354898505351, 'max_depth': 13, 'min_child_weight': 188, 'eval_metric': 'logloss'}. Best is trial 0 with value: 0.7881945449972698.\u001b[0m\n",
      "/home/tunguz/anaconda3/lib/python3.7/site-packages/xgboost/dask.py:884: RuntimeWarning: coroutine 'Client._wait_for_workers' was never awaited\n",
      "  client.wait_for_workers(n_workers)\n",
      "\u001b[32m[I 2022-11-22 11:03:41,558]\u001b[0m Trial 1 finished with value: 0.8043907516272599 and parameters: {'objective': 'binary:logistic', 'tree_method': 'gpu_hist', 'lambda': 1.2309549736100152, 'alpha': 0.0045073854819310906, 'colsample_bytree': 0.8155570162836969, 'subsample': 0.4254043563079752, 'learning_rate': 0.003125593723210638, 'max_depth': 17, 'min_child_weight': 54, 'eval_metric': 'logloss'}. Best is trial 1 with value: 0.8043907516272599.\u001b[0m\n"
     ]
    },
    {
     "name": "stdout",
     "output_type": "stream",
     "text": [
      "CPU times: user 4.22 s, sys: 1.76 s, total: 5.99 s\n",
      "Wall time: 56.1 s\n"
     ]
    }
   ],
   "source": [
    "%%time\n",
    "study.optimize(objective, n_trials=2)"
   ]
  },
  {
   "cell_type": "code",
   "execution_count": 14,
   "metadata": {},
   "outputs": [
    {
     "name": "stderr",
     "output_type": "stream",
     "text": [
      "/home/tunguz/anaconda3/lib/python3.7/site-packages/xgboost/dask.py:884: RuntimeWarning: coroutine 'Client._wait_for_workers' was never awaited\n",
      "  client.wait_for_workers(n_workers)\n",
      "\u001b[32m[I 2022-11-22 11:04:07,880]\u001b[0m Trial 2 finished with value: 0.806526469177874 and parameters: {'objective': 'binary:logistic', 'tree_method': 'gpu_hist', 'lambda': 0.04864079708732217, 'alpha': 0.001757914379717806, 'colsample_bytree': 0.4740547871053419, 'subsample': 0.6452009965081721, 'learning_rate': 0.009483743557546227, 'max_depth': 11, 'min_child_weight': 175, 'eval_metric': 'logloss'}. Best is trial 2 with value: 0.806526469177874.\u001b[0m\n",
      "/home/tunguz/anaconda3/lib/python3.7/site-packages/xgboost/dask.py:884: RuntimeWarning: coroutine 'Client._wait_for_workers' was never awaited\n",
      "  client.wait_for_workers(n_workers)\n",
      "\u001b[32m[I 2022-11-22 11:04:26,873]\u001b[0m Trial 3 finished with value: 0.8030585707271398 and parameters: {'objective': 'binary:logistic', 'tree_method': 'gpu_hist', 'lambda': 1.5879739194889615, 'alpha': 3.738755697347314, 'colsample_bytree': 0.49460369634333295, 'subsample': 0.9806533773533954, 'learning_rate': 0.08376497268951315, 'max_depth': 17, 'min_child_weight': 138, 'eval_metric': 'logloss'}. Best is trial 2 with value: 0.806526469177874.\u001b[0m\n",
      "/home/tunguz/anaconda3/lib/python3.7/site-packages/xgboost/dask.py:884: RuntimeWarning: coroutine 'Client._wait_for_workers' was never awaited\n",
      "  client.wait_for_workers(n_workers)\n",
      "\u001b[32m[I 2022-11-22 11:05:20,134]\u001b[0m Trial 4 finished with value: 0.7994447511033851 and parameters: {'objective': 'binary:logistic', 'tree_method': 'gpu_hist', 'lambda': 0.6234130908276034, 'alpha': 0.003873363682305226, 'colsample_bytree': 0.946304502644157, 'subsample': 0.7929422674375295, 'learning_rate': 0.002016696712898428, 'max_depth': 17, 'min_child_weight': 67, 'eval_metric': 'logloss'}. Best is trial 2 with value: 0.806526469177874.\u001b[0m\n",
      "/home/tunguz/anaconda3/lib/python3.7/site-packages/xgboost/dask.py:884: RuntimeWarning: coroutine 'Client._wait_for_workers' was never awaited\n",
      "  client.wait_for_workers(n_workers)\n",
      "\u001b[32m[I 2022-11-22 11:05:30,567]\u001b[0m Trial 5 finished with value: 0.8057588135801494 and parameters: {'objective': 'binary:logistic', 'tree_method': 'gpu_hist', 'lambda': 0.26136847837479477, 'alpha': 0.7267980771813328, 'colsample_bytree': 0.8035562942457837, 'subsample': 0.793153138327473, 'learning_rate': 0.008691835114407732, 'max_depth': 9, 'min_child_weight': 255, 'eval_metric': 'logloss'}. Best is trial 2 with value: 0.806526469177874.\u001b[0m\n",
      "/home/tunguz/anaconda3/lib/python3.7/site-packages/xgboost/dask.py:884: RuntimeWarning: coroutine 'Client._wait_for_workers' was never awaited\n",
      "  client.wait_for_workers(n_workers)\n",
      "\u001b[32m[I 2022-11-22 11:05:35,363]\u001b[0m Trial 6 finished with value: 0.7996388887149597 and parameters: {'objective': 'binary:logistic', 'tree_method': 'gpu_hist', 'lambda': 0.05088563259369721, 'alpha': 0.007353989380004893, 'colsample_bytree': 0.7058868710605266, 'subsample': 0.46353831607019064, 'learning_rate': 0.013747082081990268, 'max_depth': 5, 'min_child_weight': 218, 'eval_metric': 'logloss'}. Best is trial 2 with value: 0.806526469177874.\u001b[0m\n",
      "/home/tunguz/anaconda3/lib/python3.7/site-packages/xgboost/dask.py:884: RuntimeWarning: coroutine 'Client._wait_for_workers' was never awaited\n",
      "  client.wait_for_workers(n_workers)\n",
      "\u001b[32m[I 2022-11-22 11:05:59,462]\u001b[0m Trial 7 finished with value: 0.8022358909928236 and parameters: {'objective': 'binary:logistic', 'tree_method': 'gpu_hist', 'lambda': 0.38801699786918753, 'alpha': 0.006887022589664699, 'colsample_bytree': 0.5175052957690072, 'subsample': 0.7185324192493026, 'learning_rate': 0.004269202435952442, 'max_depth': 17, 'min_child_weight': 150, 'eval_metric': 'logloss'}. Best is trial 2 with value: 0.806526469177874.\u001b[0m\n",
      "/home/tunguz/anaconda3/lib/python3.7/site-packages/xgboost/dask.py:884: RuntimeWarning: coroutine 'Client._wait_for_workers' was never awaited\n",
      "  client.wait_for_workers(n_workers)\n",
      "\u001b[32m[I 2022-11-22 11:06:02,867]\u001b[0m Trial 8 finished with value: 0.7878403979465569 and parameters: {'objective': 'binary:logistic', 'tree_method': 'gpu_hist', 'lambda': 4.083197933304308, 'alpha': 0.0992556025076924, 'colsample_bytree': 0.5114052366377355, 'subsample': 0.44094106816952333, 'learning_rate': 0.017211828902340468, 'max_depth': 3, 'min_child_weight': 294, 'eval_metric': 'logloss'}. Best is trial 2 with value: 0.806526469177874.\u001b[0m\n",
      "/home/tunguz/anaconda3/lib/python3.7/site-packages/xgboost/dask.py:884: RuntimeWarning: coroutine 'Client._wait_for_workers' was never awaited\n",
      "  client.wait_for_workers(n_workers)\n",
      "\u001b[32m[I 2022-11-22 11:06:06,257]\u001b[0m Trial 9 finished with value: 0.7933230407461355 and parameters: {'objective': 'binary:logistic', 'tree_method': 'gpu_hist', 'lambda': 7.007995353737115, 'alpha': 0.20222768858833357, 'colsample_bytree': 0.4083480459101919, 'subsample': 0.9397340178049292, 'learning_rate': 0.03415518616581003, 'max_depth': 3, 'min_child_weight': 232, 'eval_metric': 'logloss'}. Best is trial 2 with value: 0.806526469177874.\u001b[0m\n",
      "/home/tunguz/anaconda3/lib/python3.7/site-packages/xgboost/dask.py:884: RuntimeWarning: coroutine 'Client._wait_for_workers' was never awaited\n",
      "  client.wait_for_workers(n_workers)\n",
      "\u001b[32m[I 2022-11-22 11:06:24,483]\u001b[0m Trial 10 finished with value: 0.7969326534570909 and parameters: {'objective': 'binary:logistic', 'tree_method': 'gpu_hist', 'lambda': 0.0033556855864461006, 'alpha': 0.0010292152648579114, 'colsample_bytree': 0.3039724118507875, 'subsample': 0.594065898946013, 'learning_rate': 0.006830019880994299, 'max_depth': 11, 'min_child_weight': 101, 'eval_metric': 'logloss'}. Best is trial 2 with value: 0.806526469177874.\u001b[0m\n",
      "/home/tunguz/anaconda3/lib/python3.7/site-packages/xgboost/dask.py:884: RuntimeWarning: coroutine 'Client._wait_for_workers' was never awaited\n",
      "  client.wait_for_workers(n_workers)\n",
      "\u001b[32m[I 2022-11-22 11:06:34,918]\u001b[0m Trial 11 finished with value: 0.8043674750070244 and parameters: {'objective': 'binary:logistic', 'tree_method': 'gpu_hist', 'lambda': 0.008813974411809916, 'alpha': 2.9706766628980086, 'colsample_bytree': 0.7076954737878135, 'subsample': 0.807278363781488, 'learning_rate': 0.007486368653226061, 'max_depth': 9, 'min_child_weight': 300, 'eval_metric': 'logloss'}. Best is trial 2 with value: 0.806526469177874.\u001b[0m\n",
      "/home/tunguz/anaconda3/lib/python3.7/site-packages/xgboost/dask.py:884: RuntimeWarning: coroutine 'Client._wait_for_workers' was never awaited\n",
      "  client.wait_for_workers(n_workers)\n",
      "\u001b[32m[I 2022-11-22 11:09:14,149]\u001b[0m Trial 12 finished with value: 0.8101074650982774 and parameters: {'objective': 'binary:logistic', 'tree_method': 'gpu_hist', 'lambda': 0.13817918217654918, 'alpha': 0.6199267992549694, 'colsample_bytree': 0.8637702251764818, 'subsample': 0.6136416317933331, 'learning_rate': 0.025659882485712247, 'max_depth': 20, 'min_child_weight': 3, 'eval_metric': 'logloss'}. Best is trial 12 with value: 0.8101074650982774.\u001b[0m\n",
      "/home/tunguz/anaconda3/lib/python3.7/site-packages/xgboost/dask.py:884: RuntimeWarning: coroutine 'Client._wait_for_workers' was never awaited\n",
      "  client.wait_for_workers(n_workers)\n",
      "\u001b[32m[I 2022-11-22 11:12:33,012]\u001b[0m Trial 13 finished with value: 0.81057178271615 and parameters: {'objective': 'binary:logistic', 'tree_method': 'gpu_hist', 'lambda': 0.02456492872768286, 'alpha': 0.5956058952440082, 'colsample_bytree': 0.9280222107210468, 'subsample': 0.6036178713397595, 'learning_rate': 0.031537027817652684, 'max_depth': 20, 'min_child_weight': 1, 'eval_metric': 'logloss'}. Best is trial 13 with value: 0.81057178271615.\u001b[0m\n",
      "/home/tunguz/anaconda3/lib/python3.7/site-packages/xgboost/dask.py:884: RuntimeWarning: coroutine 'Client._wait_for_workers' was never awaited\n",
      "  client.wait_for_workers(n_workers)\n",
      "\u001b[32m[I 2022-11-22 11:13:34,968]\u001b[0m Trial 14 finished with value: 0.8093015559446352 and parameters: {'objective': 'binary:logistic', 'tree_method': 'gpu_hist', 'lambda': 0.012751408950541868, 'alpha': 0.7926304432166577, 'colsample_bytree': 0.9815099751220184, 'subsample': 0.5711796631684563, 'learning_rate': 0.03508028454063162, 'max_depth': 20, 'min_child_weight': 17, 'eval_metric': 'logloss'}. Best is trial 13 with value: 0.81057178271615.\u001b[0m\n",
      "/home/tunguz/anaconda3/lib/python3.7/site-packages/xgboost/dask.py:884: RuntimeWarning: coroutine 'Client._wait_for_workers' was never awaited\n",
      "  client.wait_for_workers(n_workers)\n",
      "\u001b[32m[I 2022-11-22 11:15:07,859]\u001b[0m Trial 15 finished with value: 0.8113509665594132 and parameters: {'objective': 'binary:logistic', 'tree_method': 'gpu_hist', 'lambda': 0.0012829879723550493, 'alpha': 9.122996037783706, 'colsample_bytree': 0.8624378388263981, 'subsample': 0.6823264391739029, 'learning_rate': 0.033432688708506006, 'max_depth': 20, 'min_child_weight': 8, 'eval_metric': 'logloss'}. Best is trial 15 with value: 0.8113509665594132.\u001b[0m\n",
      "/home/tunguz/anaconda3/lib/python3.7/site-packages/xgboost/dask.py:884: RuntimeWarning: coroutine 'Client._wait_for_workers' was never awaited\n",
      "  client.wait_for_workers(n_workers)\n",
      "\u001b[32m[I 2022-11-22 11:15:36,351]\u001b[0m Trial 16 finished with value: 0.8065106443372866 and parameters: {'objective': 'binary:logistic', 'tree_method': 'gpu_hist', 'lambda': 0.0011680287142446682, 'alpha': 7.554981588244269, 'colsample_bytree': 0.8780003314556548, 'subsample': 0.6952198549348538, 'learning_rate': 0.07297750425747139, 'max_depth': 15, 'min_child_weight': 45, 'eval_metric': 'logloss'}. Best is trial 15 with value: 0.8113509665594132.\u001b[0m\n",
      "/home/tunguz/anaconda3/lib/python3.7/site-packages/xgboost/dask.py:884: RuntimeWarning: coroutine 'Client._wait_for_workers' was never awaited\n",
      "  client.wait_for_workers(n_workers)\n",
      "\u001b[32m[I 2022-11-22 11:15:43,611]\u001b[0m Trial 17 finished with value: 0.8099459229079642 and parameters: {'objective': 'binary:logistic', 'tree_method': 'gpu_hist', 'lambda': 0.009056403998461283, 'alpha': 9.873921872892863, 'colsample_bytree': 0.6451244574273669, 'subsample': 0.5342707276744887, 'learning_rate': 0.04908726694184428, 'max_depth': 7, 'min_child_weight': 101, 'eval_metric': 'logloss'}. Best is trial 15 with value: 0.8113509665594132.\u001b[0m\n",
      "/home/tunguz/anaconda3/lib/python3.7/site-packages/xgboost/dask.py:884: RuntimeWarning: coroutine 'Client._wait_for_workers' was never awaited\n",
      "  client.wait_for_workers(n_workers)\n",
      "\u001b[32m[I 2022-11-22 11:16:44,154]\u001b[0m Trial 18 finished with value: 0.8123742084155475 and parameters: {'objective': 'binary:logistic', 'tree_method': 'gpu_hist', 'lambda': 0.0010462547321227413, 'alpha': 1.7365333658250415, 'colsample_bytree': 0.925188841555591, 'subsample': 0.6990824285995982, 'learning_rate': 0.019834217879430512, 'max_depth': 20, 'min_child_weight': 30, 'eval_metric': 'logloss'}. Best is trial 18 with value: 0.8123742084155475.\u001b[0m\n",
      "/home/tunguz/anaconda3/lib/python3.7/site-packages/xgboost/dask.py:884: RuntimeWarning: coroutine 'Client._wait_for_workers' was never awaited\n",
      "  client.wait_for_workers(n_workers)\n",
      "\u001b[32m[I 2022-11-22 11:17:18,383]\u001b[0m Trial 19 finished with value: 0.8129470170966326 and parameters: {'objective': 'binary:logistic', 'tree_method': 'gpu_hist', 'lambda': 0.001040733776016116, 'alpha': 1.5532958684356033, 'colsample_bytree': 0.7577219037278949, 'subsample': 0.8739816352481417, 'learning_rate': 0.018124999217720004, 'max_depth': 20, 'min_child_weight': 95, 'eval_metric': 'logloss'}. Best is trial 19 with value: 0.8129470170966326.\u001b[0m\n",
      "/home/tunguz/anaconda3/lib/python3.7/site-packages/xgboost/dask.py:884: RuntimeWarning: coroutine 'Client._wait_for_workers' was never awaited\n",
      "  client.wait_for_workers(n_workers)\n",
      "\u001b[32m[I 2022-11-22 11:17:53,227]\u001b[0m Trial 20 finished with value: 0.8122195880643166 and parameters: {'objective': 'binary:logistic', 'tree_method': 'gpu_hist', 'lambda': 0.002956076271353325, 'alpha': 2.039016557486309, 'colsample_bytree': 0.7567087522463982, 'subsample': 0.8764021347770337, 'learning_rate': 0.01764792435307415, 'max_depth': 20, 'min_child_weight': 95, 'eval_metric': 'logloss'}. Best is trial 19 with value: 0.8129470170966326.\u001b[0m\n",
      "/home/tunguz/anaconda3/lib/python3.7/site-packages/xgboost/dask.py:884: RuntimeWarning: coroutine 'Client._wait_for_workers' was never awaited\n",
      "  client.wait_for_workers(n_workers)\n",
      "\u001b[32m[I 2022-11-22 11:18:28,212]\u001b[0m Trial 21 finished with value: 0.8120947503728825 and parameters: {'objective': 'binary:logistic', 'tree_method': 'gpu_hist', 'lambda': 0.004246689322733547, 'alpha': 2.075108484853665, 'colsample_bytree': 0.7203414490738053, 'subsample': 0.8836000613050949, 'learning_rate': 0.01681834393747004, 'max_depth': 20, 'min_child_weight': 101, 'eval_metric': 'logloss'}. Best is trial 19 with value: 0.8129470170966326.\u001b[0m\n",
      "/home/tunguz/anaconda3/lib/python3.7/site-packages/xgboost/dask.py:884: RuntimeWarning: coroutine 'Client._wait_for_workers' was never awaited\n",
      "  client.wait_for_workers(n_workers)\n",
      "\u001b[32m[I 2022-11-22 11:19:07,192]\u001b[0m Trial 22 finished with value: 0.8109309356669763 and parameters: {'objective': 'binary:logistic', 'tree_method': 'gpu_hist', 'lambda': 0.0024839268472836504, 'alpha': 1.620735906203589, 'colsample_bytree': 0.610000681555381, 'subsample': 0.8604035434664792, 'learning_rate': 0.02026498864754577, 'max_depth': 20, 'min_child_weight': 73, 'eval_metric': 'logloss'}. Best is trial 19 with value: 0.8129470170966326.\u001b[0m\n",
      "/home/tunguz/anaconda3/lib/python3.7/site-packages/xgboost/dask.py:884: RuntimeWarning: coroutine 'Client._wait_for_workers' was never awaited\n",
      "  client.wait_for_workers(n_workers)\n",
      "\u001b[32m[I 2022-11-22 11:19:36,104]\u001b[0m Trial 23 finished with value: 0.8119469458726206 and parameters: {'objective': 'binary:logistic', 'tree_method': 'gpu_hist', 'lambda': 0.0010173088492727638, 'alpha': 0.19178484303298973, 'colsample_bytree': 0.7722918606436873, 'subsample': 0.749587947917004, 'learning_rate': 0.012452386582273624, 'max_depth': 20, 'min_child_weight': 125, 'eval_metric': 'logloss'}. Best is trial 19 with value: 0.8129470170966326.\u001b[0m\n",
      "/home/tunguz/anaconda3/lib/python3.7/site-packages/xgboost/dask.py:884: RuntimeWarning: coroutine 'Client._wait_for_workers' was never awaited\n",
      "  client.wait_for_workers(n_workers)\n",
      "\u001b[32m[I 2022-11-22 11:19:59,959]\u001b[0m Trial 24 finished with value: 0.8092287258050335 and parameters: {'objective': 'binary:logistic', 'tree_method': 'gpu_hist', 'lambda': 0.0024578009870946543, 'alpha': 0.30407721847198693, 'colsample_bytree': 0.7660549793419278, 'subsample': 0.8788384002030716, 'learning_rate': 0.04914668882005034, 'max_depth': 13, 'min_child_weight': 37, 'eval_metric': 'logloss'}. Best is trial 19 with value: 0.8129470170966326.\u001b[0m\n",
      "/home/tunguz/anaconda3/lib/python3.7/site-packages/xgboost/dask.py:884: RuntimeWarning: coroutine 'Client._wait_for_workers' was never awaited\n",
      "  client.wait_for_workers(n_workers)\n",
      "\u001b[32m[I 2022-11-22 11:20:08,836]\u001b[0m Trial 25 finished with value: 0.8016975284485139 and parameters: {'objective': 'binary:logistic', 'tree_method': 'gpu_hist', 'lambda': 0.004239709672974338, 'alpha': 1.6072928860249782, 'colsample_bytree': 0.623540974151676, 'subsample': 0.9269460016750354, 'learning_rate': 0.0054203794287912156, 'max_depth': 7, 'min_child_weight': 76, 'eval_metric': 'logloss'}. Best is trial 19 with value: 0.8129470170966326.\u001b[0m\n",
      "/home/tunguz/anaconda3/lib/python3.7/site-packages/xgboost/dask.py:884: RuntimeWarning: coroutine 'Client._wait_for_workers' was never awaited\n",
      "  client.wait_for_workers(n_workers)\n",
      "\u001b[32m[I 2022-11-22 11:20:13,655]\u001b[0m Trial 26 finished with value: 0.8039791019486942 and parameters: {'objective': 'binary:logistic', 'tree_method': 'gpu_hist', 'lambda': 0.016207134611618948, 'alpha': 0.06448902229264844, 'colsample_bytree': 0.9902377272433647, 'subsample': 0.8337085183784705, 'learning_rate': 0.020534328331693254, 'max_depth': 5, 'min_child_weight': 120, 'eval_metric': 'logloss'}. Best is trial 19 with value: 0.8129470170966326.\u001b[0m\n",
      "/home/tunguz/anaconda3/lib/python3.7/site-packages/xgboost/dask.py:884: RuntimeWarning: coroutine 'Client._wait_for_workers' was never awaited\n",
      "  client.wait_for_workers(n_workers)\n",
      "\u001b[32m[I 2022-11-22 11:20:57,974]\u001b[0m Trial 27 finished with value: 0.8123728224171447 and parameters: {'objective': 'binary:logistic', 'tree_method': 'gpu_hist', 'lambda': 0.0016634430883021886, 'alpha': 4.484638765013745, 'colsample_bytree': 0.9187400369828087, 'subsample': 0.7432895712989486, 'learning_rate': 0.01162755215056684, 'max_depth': 15, 'min_child_weight': 34, 'eval_metric': 'logloss'}. Best is trial 19 with value: 0.8129470170966326.\u001b[0m\n",
      "/home/tunguz/anaconda3/lib/python3.7/site-packages/xgboost/dask.py:884: RuntimeWarning: coroutine 'Client._wait_for_workers' was never awaited\n",
      "  client.wait_for_workers(n_workers)\n",
      "\u001b[32m[I 2022-11-22 11:21:43,571]\u001b[0m Trial 28 finished with value: 0.8114961865803003 and parameters: {'objective': 'binary:logistic', 'tree_method': 'gpu_hist', 'lambda': 0.006223955229850765, 'alpha': 4.754128398998894, 'colsample_bytree': 0.9333621733130325, 'subsample': 0.7219456160309602, 'learning_rate': 0.011838875209752828, 'max_depth': 15, 'min_child_weight': 31, 'eval_metric': 'logloss'}. Best is trial 19 with value: 0.8129470170966326.\u001b[0m\n",
      "/home/tunguz/anaconda3/lib/python3.7/site-packages/xgboost/dask.py:884: RuntimeWarning: coroutine 'Client._wait_for_workers' was never awaited\n",
      "  client.wait_for_workers(n_workers)\n",
      "\u001b[32m[I 2022-11-22 11:22:05,214]\u001b[0m Trial 29 finished with value: 0.807655030606758 and parameters: {'objective': 'binary:logistic', 'tree_method': 'gpu_hist', 'lambda': 0.001766218565907468, 'alpha': 0.043164112719229084, 'colsample_bytree': 0.8875361268886119, 'subsample': 0.7429624200387114, 'learning_rate': 0.055285424409981666, 'max_depth': 15, 'min_child_weight': 61, 'eval_metric': 'logloss'}. Best is trial 19 with value: 0.8129470170966326.\u001b[0m\n",
      "/home/tunguz/anaconda3/lib/python3.7/site-packages/xgboost/dask.py:884: RuntimeWarning: coroutine 'Client._wait_for_workers' was never awaited\n",
      "  client.wait_for_workers(n_workers)\n",
      "\u001b[32m[I 2022-11-22 11:22:26,032]\u001b[0m Trial 30 finished with value: 0.7921507877558357 and parameters: {'objective': 'binary:logistic', 'tree_method': 'gpu_hist', 'lambda': 0.021416473679717007, 'alpha': 1.2512083323967158, 'colsample_bytree': 0.8195698153560235, 'subsample': 0.6625982160017835, 'learning_rate': 0.00160442751497019, 'max_depth': 13, 'min_child_weight': 178, 'eval_metric': 'logloss'}. Best is trial 19 with value: 0.8129470170966326.\u001b[0m\n",
      "/home/tunguz/anaconda3/lib/python3.7/site-packages/xgboost/dask.py:884: RuntimeWarning: coroutine 'Client._wait_for_workers' was never awaited\n",
      "  client.wait_for_workers(n_workers)\n",
      "\u001b[32m[I 2022-11-22 11:22:51,090]\u001b[0m Trial 31 finished with value: 0.8126098199910929 and parameters: {'objective': 'binary:logistic', 'tree_method': 'gpu_hist', 'lambda': 0.0018052241008793114, 'alpha': 4.333779723873188, 'colsample_bytree': 0.7462804296395625, 'subsample': 0.946246142336088, 'learning_rate': 0.021561691573000114, 'max_depth': 15, 'min_child_weight': 87, 'eval_metric': 'logloss'}. Best is trial 19 with value: 0.8129470170966326.\u001b[0m\n",
      "/home/tunguz/anaconda3/lib/python3.7/site-packages/xgboost/dask.py:884: RuntimeWarning: coroutine 'Client._wait_for_workers' was never awaited\n",
      "  client.wait_for_workers(n_workers)\n",
      "\u001b[32m[I 2022-11-22 11:23:43,412]\u001b[0m Trial 32 finished with value: 0.8111683979580364 and parameters: {'objective': 'binary:logistic', 'tree_method': 'gpu_hist', 'lambda': 0.0019010265847273764, 'alpha': 5.0348313254658255, 'colsample_bytree': 0.588237009447387, 'subsample': 0.9849482874592134, 'learning_rate': 0.023343290039772625, 'max_depth': 15, 'min_child_weight': 28, 'eval_metric': 'logloss'}. Best is trial 19 with value: 0.8129470170966326.\u001b[0m\n",
      "/home/tunguz/anaconda3/lib/python3.7/site-packages/xgboost/dask.py:884: RuntimeWarning: coroutine 'Client._wait_for_workers' was never awaited\n",
      "  client.wait_for_workers(n_workers)\n",
      "\u001b[32m[I 2022-11-22 11:24:13,757]\u001b[0m Trial 33 finished with value: 0.8117298332992867 and parameters: {'objective': 'binary:logistic', 'tree_method': 'gpu_hist', 'lambda': 0.005810119149602551, 'alpha': 3.0096844701111674, 'colsample_bytree': 0.6719664066427403, 'subsample': 0.9277402079493473, 'learning_rate': 0.011258802437504703, 'max_depth': 15, 'min_child_weight': 83, 'eval_metric': 'logloss'}. Best is trial 19 with value: 0.8129470170966326.\u001b[0m\n",
      "/home/tunguz/anaconda3/lib/python3.7/site-packages/xgboost/dask.py:884: RuntimeWarning: coroutine 'Client._wait_for_workers' was never awaited\n",
      "  client.wait_for_workers(n_workers)\n",
      "\u001b[32m[I 2022-11-22 11:25:05,482]\u001b[0m Trial 34 finished with value: 0.8061478307200904 and parameters: {'objective': 'binary:logistic', 'tree_method': 'gpu_hist', 'lambda': 0.0016324391602864786, 'alpha': 0.3377967624115874, 'colsample_bytree': 0.8320758581011845, 'subsample': 0.7616268866603563, 'learning_rate': 0.0034584578970516242, 'max_depth': 15, 'min_child_weight': 52, 'eval_metric': 'logloss'}. Best is trial 19 with value: 0.8129470170966326.\u001b[0m\n",
      "/home/tunguz/anaconda3/lib/python3.7/site-packages/xgboost/dask.py:884: RuntimeWarning: coroutine 'Client._wait_for_workers' was never awaited\n",
      "  client.wait_for_workers(n_workers)\n",
      "\u001b[32m[I 2022-11-22 11:25:45,482]\u001b[0m Trial 35 finished with value: 0.7919571148613727 and parameters: {'objective': 'binary:logistic', 'tree_method': 'gpu_hist', 'lambda': 0.0010372852266435598, 'alpha': 4.789119528541112, 'colsample_bytree': 0.9120014747647283, 'subsample': 0.9536028426312838, 'learning_rate': 0.001001889149033879, 'max_depth': 11, 'min_child_weight': 43, 'eval_metric': 'logloss'}. Best is trial 19 with value: 0.8129470170966326.\u001b[0m\n",
      "/home/tunguz/anaconda3/lib/python3.7/site-packages/xgboost/dask.py:884: RuntimeWarning: coroutine 'Client._wait_for_workers' was never awaited\n",
      "  client.wait_for_workers(n_workers)\n",
      "\u001b[32m[I 2022-11-22 11:26:07,404]\u001b[0m Trial 36 finished with value: 0.8104359956373335 and parameters: {'objective': 'binary:logistic', 'tree_method': 'gpu_hist', 'lambda': 0.08898842963684998, 'alpha': 0.015511198102149168, 'colsample_bytree': 0.9572169532119219, 'subsample': 0.8260076414748037, 'learning_rate': 0.009325299679857674, 'max_depth': 15, 'min_child_weight': 130, 'eval_metric': 'logloss'}. Best is trial 19 with value: 0.8129470170966326.\u001b[0m\n",
      "/home/tunguz/anaconda3/lib/python3.7/site-packages/xgboost/dask.py:884: RuntimeWarning: coroutine 'Client._wait_for_workers' was never awaited\n",
      "  client.wait_for_workers(n_workers)\n",
      "\u001b[32m[I 2022-11-22 11:26:17,889]\u001b[0m Trial 37 finished with value: 0.8089265292356307 and parameters: {'objective': 'binary:logistic', 'tree_method': 'gpu_hist', 'lambda': 0.03483098410853264, 'alpha': 1.0405242605428828, 'colsample_bytree': 0.8022527236539208, 'subsample': 0.996711004294017, 'learning_rate': 0.014042411750445618, 'max_depth': 9, 'min_child_weight': 158, 'eval_metric': 'logloss'}. Best is trial 19 with value: 0.8129470170966326.\u001b[0m\n",
      "/home/tunguz/anaconda3/lib/python3.7/site-packages/xgboost/dask.py:884: RuntimeWarning: coroutine 'Client._wait_for_workers' was never awaited\n",
      "  client.wait_for_workers(n_workers)\n",
      "\u001b[32m[I 2022-11-22 11:26:22,712]\u001b[0m Trial 38 finished with value: 0.8059035444251296 and parameters: {'objective': 'binary:logistic', 'tree_method': 'gpu_hist', 'lambda': 0.005733804078766626, 'alpha': 2.8940332430231006, 'colsample_bytree': 0.741794276755078, 'subsample': 0.649351833235202, 'learning_rate': 0.027092342992289468, 'max_depth': 5, 'min_child_weight': 58, 'eval_metric': 'logloss'}. Best is trial 19 with value: 0.8129470170966326.\u001b[0m\n",
      "/home/tunguz/anaconda3/lib/python3.7/site-packages/xgboost/dask.py:884: RuntimeWarning: coroutine 'Client._wait_for_workers' was never awaited\n",
      "  client.wait_for_workers(n_workers)\n",
      "\u001b[32m[I 2022-11-22 11:27:46,050]\u001b[0m Trial 39 finished with value: 0.8099984114827717 and parameters: {'objective': 'binary:logistic', 'tree_method': 'gpu_hist', 'lambda': 0.0019550530608484487, 'alpha': 5.961232690950026, 'colsample_bytree': 0.8303968473992313, 'subsample': 0.7784545910124918, 'learning_rate': 0.006196505615377416, 'max_depth': 17, 'min_child_weight': 22, 'eval_metric': 'logloss'}. Best is trial 19 with value: 0.8129470170966326.\u001b[0m\n",
      "/home/tunguz/anaconda3/lib/python3.7/site-packages/xgboost/dask.py:884: RuntimeWarning: coroutine 'Client._wait_for_workers' was never awaited\n",
      "  client.wait_for_workers(n_workers)\n",
      "\u001b[32m[I 2022-11-22 11:27:49,522]\u001b[0m Trial 40 finished with value: 0.7873197761818033 and parameters: {'objective': 'binary:logistic', 'tree_method': 'gpu_hist', 'lambda': 0.010432060543603057, 'alpha': 0.4299874560982993, 'colsample_bytree': 0.691013234019047, 'subsample': 0.911403577640385, 'learning_rate': 0.014828633229536743, 'max_depth': 3, 'min_child_weight': 115, 'eval_metric': 'logloss'}. Best is trial 19 with value: 0.8129470170966326.\u001b[0m\n",
      "/home/tunguz/anaconda3/lib/python3.7/site-packages/xgboost/dask.py:884: RuntimeWarning: coroutine 'Client._wait_for_workers' was never awaited\n",
      "  client.wait_for_workers(n_workers)\n",
      "\u001b[32m[I 2022-11-22 11:28:25,817]\u001b[0m Trial 41 finished with value: 0.8122042931642951 and parameters: {'objective': 'binary:logistic', 'tree_method': 'gpu_hist', 'lambda': 0.0030668248993354053, 'alpha': 1.9839577884294495, 'colsample_bytree': 0.7596888527500555, 'subsample': 0.8574943532846718, 'learning_rate': 0.0190665979659981, 'max_depth': 20, 'min_child_weight': 90, 'eval_metric': 'logloss'}. Best is trial 19 with value: 0.8129470170966326.\u001b[0m\n",
      "/home/tunguz/anaconda3/lib/python3.7/site-packages/xgboost/dask.py:884: RuntimeWarning: coroutine 'Client._wait_for_workers' was never awaited\n",
      "  client.wait_for_workers(n_workers)\n",
      "\u001b[32m[I 2022-11-22 11:29:06,255]\u001b[0m Trial 42 finished with value: 0.811798913090269 and parameters: {'objective': 'binary:logistic', 'tree_method': 'gpu_hist', 'lambda': 0.0028315335524445357, 'alpha': 2.8241376486529086, 'colsample_bytree': 0.7924996385789906, 'subsample': 0.9021481069829254, 'learning_rate': 0.010269198997335022, 'max_depth': 20, 'min_child_weight': 89, 'eval_metric': 'logloss'}. Best is trial 19 with value: 0.8129470170966326.\u001b[0m\n",
      "/home/tunguz/anaconda3/lib/python3.7/site-packages/xgboost/dask.py:884: RuntimeWarning: coroutine 'Client._wait_for_workers' was never awaited\n",
      "  client.wait_for_workers(n_workers)\n",
      "\u001b[32m[I 2022-11-22 11:29:35,337]\u001b[0m Trial 43 finished with value: 0.8117019910372539 and parameters: {'objective': 'binary:logistic', 'tree_method': 'gpu_hist', 'lambda': 0.0015575754909750337, 'alpha': 1.2956824519874564, 'colsample_bytree': 0.5516821105382839, 'subsample': 0.9649649536906946, 'learning_rate': 0.01644986509441957, 'max_depth': 20, 'min_child_weight': 145, 'eval_metric': 'logloss'}. Best is trial 19 with value: 0.8129470170966326.\u001b[0m\n",
      "/home/tunguz/anaconda3/lib/python3.7/site-packages/xgboost/dask.py:884: RuntimeWarning: coroutine 'Client._wait_for_workers' was never awaited\n",
      "  client.wait_for_workers(n_workers)\n",
      "\u001b[32m[I 2022-11-22 11:29:55,830]\u001b[0m Trial 44 finished with value: 0.8099636555345884 and parameters: {'objective': 'binary:logistic', 'tree_method': 'gpu_hist', 'lambda': 0.974755963033499, 'alpha': 0.8779795716790686, 'colsample_bytree': 0.8973610004477268, 'subsample': 0.4001858088391005, 'learning_rate': 0.024184571929861752, 'max_depth': 15, 'min_child_weight': 67, 'eval_metric': 'logloss'}. Best is trial 19 with value: 0.8129470170966326.\u001b[0m\n",
      "/home/tunguz/anaconda3/lib/python3.7/site-packages/xgboost/dask.py:884: RuntimeWarning: coroutine 'Client._wait_for_workers' was never awaited\n",
      "  client.wait_for_workers(n_workers)\n",
      "\u001b[32m[I 2022-11-22 11:30:13,813]\u001b[0m Trial 45 finished with value: 0.8093303031820959 and parameters: {'objective': 'binary:logistic', 'tree_method': 'gpu_hist', 'lambda': 0.003998258400659838, 'alpha': 3.6296063276146224, 'colsample_bytree': 0.733062389869788, 'subsample': 0.8180288431578293, 'learning_rate': 0.008060489449436868, 'max_depth': 11, 'min_child_weight': 110, 'eval_metric': 'logloss'}. Best is trial 19 with value: 0.8129470170966326.\u001b[0m\n",
      "/home/tunguz/anaconda3/lib/python3.7/site-packages/xgboost/dask.py:884: RuntimeWarning: coroutine 'Client._wait_for_workers' was never awaited\n",
      "  client.wait_for_workers(n_workers)\n",
      "\u001b[32m[I 2022-11-22 11:30:46,452]\u001b[0m Trial 46 finished with value: 0.8098163483631653 and parameters: {'objective': 'binary:logistic', 'tree_method': 'gpu_hist', 'lambda': 0.0010193065371154999, 'alpha': 4.927845536336792, 'colsample_bytree': 0.8417939358399864, 'subsample': 0.8421095157746563, 'learning_rate': 0.040750975061716044, 'max_depth': 20, 'min_child_weight': 87, 'eval_metric': 'logloss'}. Best is trial 19 with value: 0.8129470170966326.\u001b[0m\n",
      "/home/tunguz/anaconda3/lib/python3.7/site-packages/xgboost/dask.py:884: RuntimeWarning: coroutine 'Client._wait_for_workers' was never awaited\n",
      "  client.wait_for_workers(n_workers)\n",
      "\u001b[32m[I 2022-11-22 11:31:05,733]\u001b[0m Trial 47 finished with value: 0.8100562157691007 and parameters: {'objective': 'binary:logistic', 'tree_method': 'gpu_hist', 'lambda': 0.002091517149228954, 'alpha': 0.5716867889290066, 'colsample_bytree': 0.43286129220269276, 'subsample': 0.7853814860031346, 'learning_rate': 0.021570338732872542, 'max_depth': 17, 'min_child_weight': 161, 'eval_metric': 'logloss'}. Best is trial 19 with value: 0.8129470170966326.\u001b[0m\n",
      "/home/tunguz/anaconda3/lib/python3.7/site-packages/xgboost/dask.py:884: RuntimeWarning: coroutine 'Client._wait_for_workers' was never awaited\n",
      "  client.wait_for_workers(n_workers)\n",
      "\u001b[32m[I 2022-11-22 11:31:14,695]\u001b[0m Trial 48 finished with value: 0.8112120732135883 and parameters: {'objective': 'binary:logistic', 'tree_method': 'gpu_hist', 'lambda': 0.007034553614195432, 'alpha': 2.2033690886512756, 'colsample_bytree': 0.9666461860236146, 'subsample': 0.712897906928227, 'learning_rate': 0.027267778546461757, 'max_depth': 9, 'min_child_weight': 193, 'eval_metric': 'logloss'}. Best is trial 19 with value: 0.8129470170966326.\u001b[0m\n",
      "/home/tunguz/anaconda3/lib/python3.7/site-packages/xgboost/dask.py:884: RuntimeWarning: coroutine 'Client._wait_for_workers' was never awaited\n",
      "  client.wait_for_workers(n_workers)\n",
      "\u001b[32m[I 2022-11-22 11:31:23,105]\u001b[0m Trial 49 finished with value: 0.8079636435334727 and parameters: {'objective': 'binary:logistic', 'tree_method': 'gpu_hist', 'lambda': 2.8655873035141037, 'alpha': 6.708093659854013, 'colsample_bytree': 0.66847229685823, 'subsample': 0.8895330725611683, 'learning_rate': 0.014393678769565975, 'max_depth': 7, 'min_child_weight': 16, 'eval_metric': 'logloss'}. Best is trial 19 with value: 0.8129470170966326.\u001b[0m\n",
      "/home/tunguz/anaconda3/lib/python3.7/site-packages/xgboost/dask.py:884: RuntimeWarning: coroutine 'Client._wait_for_workers' was never awaited\n",
      "  client.wait_for_workers(n_workers)\n",
      "\u001b[32m[I 2022-11-22 11:31:26,743]\u001b[0m Trial 50 finished with value: 0.7704703566575015 and parameters: {'objective': 'binary:logistic', 'tree_method': 'gpu_hist', 'lambda': 0.2824241534674614, 'alpha': 0.14132503347685477, 'colsample_bytree': 0.8505510868758484, 'subsample': 0.633882596980121, 'learning_rate': 0.004526344632538169, 'max_depth': 3, 'min_child_weight': 54, 'eval_metric': 'logloss'}. Best is trial 19 with value: 0.8129470170966326.\u001b[0m\n",
      "/home/tunguz/anaconda3/lib/python3.7/site-packages/xgboost/dask.py:884: RuntimeWarning: coroutine 'Client._wait_for_workers' was never awaited\n",
      "  client.wait_for_workers(n_workers)\n",
      "\u001b[32m[I 2022-11-22 11:32:01,025]\u001b[0m Trial 51 finished with value: 0.8121616859428064 and parameters: {'objective': 'binary:logistic', 'tree_method': 'gpu_hist', 'lambda': 0.0029263835908233025, 'alpha': 2.144868948858014, 'colsample_bytree': 0.7763831300549231, 'subsample': 0.8604986373347602, 'learning_rate': 0.018632927389657078, 'max_depth': 20, 'min_child_weight': 94, 'eval_metric': 'logloss'}. Best is trial 19 with value: 0.8129470170966326.\u001b[0m\n",
      "/home/tunguz/anaconda3/lib/python3.7/site-packages/xgboost/dask.py:884: RuntimeWarning: coroutine 'Client._wait_for_workers' was never awaited\n",
      "  client.wait_for_workers(n_workers)\n",
      "\u001b[32m[I 2022-11-22 11:32:42,908]\u001b[0m Trial 52 finished with value: 0.8123932455112566 and parameters: {'objective': 'binary:logistic', 'tree_method': 'gpu_hist', 'lambda': 0.003925337806643721, 'alpha': 1.9459963002692449, 'colsample_bytree': 0.7508742213064176, 'subsample': 0.9609862133535855, 'learning_rate': 0.017417339501332157, 'max_depth': 20, 'min_child_weight': 74, 'eval_metric': 'logloss'}. Best is trial 19 with value: 0.8129470170966326.\u001b[0m\n",
      "/home/tunguz/anaconda3/lib/python3.7/site-packages/xgboost/dask.py:884: RuntimeWarning: coroutine 'Client._wait_for_workers' was never awaited\n",
      "  client.wait_for_workers(n_workers)\n",
      "\u001b[32m[I 2022-11-22 11:33:22,681]\u001b[0m Trial 53 finished with value: 0.8108439112731436 and parameters: {'objective': 'binary:logistic', 'tree_method': 'gpu_hist', 'lambda': 0.001486092430451405, 'alpha': 3.561775551620218, 'colsample_bytree': 0.702091204967723, 'subsample': 0.952055272770981, 'learning_rate': 0.02899775101715758, 'max_depth': 20, 'min_child_weight': 75, 'eval_metric': 'logloss'}. Best is trial 19 with value: 0.8129470170966326.\u001b[0m\n",
      "/home/tunguz/anaconda3/lib/python3.7/site-packages/xgboost/dask.py:884: RuntimeWarning: coroutine 'Client._wait_for_workers' was never awaited\n",
      "  client.wait_for_workers(n_workers)\n",
      "\u001b[32m[I 2022-11-22 11:34:11,413]\u001b[0m Trial 54 finished with value: 0.8099480100585003 and parameters: {'objective': 'binary:logistic', 'tree_method': 'gpu_hist', 'lambda': 0.0040978555851748566, 'alpha': 9.799280008202983, 'colsample_bytree': 0.7303359681459745, 'subsample': 0.9779339056784528, 'learning_rate': 0.038612899769043134, 'max_depth': 20, 'min_child_weight': 47, 'eval_metric': 'logloss'}. Best is trial 19 with value: 0.8129470170966326.\u001b[0m\n",
      "/home/tunguz/anaconda3/lib/python3.7/site-packages/xgboost/dask.py:884: RuntimeWarning: coroutine 'Client._wait_for_workers' was never awaited\n",
      "  client.wait_for_workers(n_workers)\n",
      "\u001b[32m[I 2022-11-22 11:34:47,790]\u001b[0m Trial 55 finished with value: 0.8066339329716823 and parameters: {'objective': 'binary:logistic', 'tree_method': 'gpu_hist', 'lambda': 0.0012973102979150339, 'alpha': 1.4337117196158191, 'colsample_bytree': 0.31406826142122957, 'subsample': 0.9323538365626237, 'learning_rate': 0.016174543083315607, 'max_depth': 20, 'min_child_weight': 105, 'eval_metric': 'logloss'}. Best is trial 19 with value: 0.8129470170966326.\u001b[0m\n",
      "/home/tunguz/anaconda3/lib/python3.7/site-packages/xgboost/dask.py:884: RuntimeWarning: coroutine 'Client._wait_for_workers' was never awaited\n",
      "  client.wait_for_workers(n_workers)\n",
      "\u001b[32m[I 2022-11-22 11:35:14,982]\u001b[0m Trial 56 finished with value: 0.8119159565789202 and parameters: {'objective': 'binary:logistic', 'tree_method': 'gpu_hist', 'lambda': 0.00252087706438512, 'alpha': 1.0511065666870456, 'colsample_bytree': 0.9173283502852159, 'subsample': 0.6757550935498683, 'learning_rate': 0.012293223226121657, 'max_depth': 20, 'min_child_weight': 134, 'eval_metric': 'logloss'}. Best is trial 19 with value: 0.8129470170966326.\u001b[0m\n",
      "/home/tunguz/anaconda3/lib/python3.7/site-packages/xgboost/dask.py:884: RuntimeWarning: coroutine 'Client._wait_for_workers' was never awaited\n",
      "  client.wait_for_workers(n_workers)\n",
      "\u001b[32m[I 2022-11-22 11:35:44,583]\u001b[0m Trial 57 finished with value: 0.8118853178612865 and parameters: {'objective': 'binary:logistic', 'tree_method': 'gpu_hist', 'lambda': 0.014879775265090026, 'alpha': 0.4882264543572401, 'colsample_bytree': 0.8711050486377803, 'subsample': 0.5091302583860045, 'learning_rate': 0.009679735818705829, 'max_depth': 13, 'min_child_weight': 35, 'eval_metric': 'logloss'}. Best is trial 19 with value: 0.8129470170966326.\u001b[0m\n",
      "/home/tunguz/anaconda3/lib/python3.7/site-packages/xgboost/dask.py:884: RuntimeWarning: coroutine 'Client._wait_for_workers' was never awaited\n",
      "  client.wait_for_workers(n_workers)\n",
      "\u001b[32m[I 2022-11-22 11:35:58,224]\u001b[0m Trial 58 finished with value: 0.8104941260409337 and parameters: {'objective': 'binary:logistic', 'tree_method': 'gpu_hist', 'lambda': 0.005240856552325777, 'alpha': 0.785686538510931, 'colsample_bytree': 0.788862014225431, 'subsample': 0.903843445984112, 'learning_rate': 0.02380066705881314, 'max_depth': 15, 'min_child_weight': 279, 'eval_metric': 'logloss'}. Best is trial 19 with value: 0.8129470170966326.\u001b[0m\n",
      "/home/tunguz/anaconda3/lib/python3.7/site-packages/xgboost/dask.py:884: RuntimeWarning: coroutine 'Client._wait_for_workers' was never awaited\n",
      "  client.wait_for_workers(n_workers)\n",
      "\u001b[32m[I 2022-11-22 11:36:03,367]\u001b[0m Trial 59 finished with value: 0.7959924247523531 and parameters: {'objective': 'binary:logistic', 'tree_method': 'gpu_hist', 'lambda': 0.0013631506079121243, 'alpha': 2.1362516118625208, 'colsample_bytree': 0.7498965473433307, 'subsample': 0.8024462190242073, 'learning_rate': 0.007190841155975967, 'max_depth': 5, 'min_child_weight': 67, 'eval_metric': 'logloss'}. Best is trial 19 with value: 0.8129470170966326.\u001b[0m\n",
      "/home/tunguz/anaconda3/lib/python3.7/site-packages/xgboost/dask.py:884: RuntimeWarning: coroutine 'Client._wait_for_workers' was never awaited\n",
      "  client.wait_for_workers(n_workers)\n",
      "\u001b[32m[I 2022-11-22 11:37:48,859]\u001b[0m Trial 60 finished with value: 0.811171235178296 and parameters: {'objective': 'binary:logistic', 'tree_method': 'gpu_hist', 'lambda': 0.008173994958297572, 'alpha': 3.707946357168947, 'colsample_bytree': 0.6496798319182671, 'subsample': 0.5790566853663458, 'learning_rate': 0.013170756720587621, 'max_depth': 20, 'min_child_weight': 12, 'eval_metric': 'logloss'}. Best is trial 19 with value: 0.8129470170966326.\u001b[0m\n",
      "/home/tunguz/anaconda3/lib/python3.7/site-packages/xgboost/dask.py:884: RuntimeWarning: coroutine 'Client._wait_for_workers' was never awaited\n",
      "  client.wait_for_workers(n_workers)\n",
      "\u001b[32m[I 2022-11-22 11:38:23,149]\u001b[0m Trial 61 finished with value: 0.8122907957704938 and parameters: {'objective': 'binary:logistic', 'tree_method': 'gpu_hist', 'lambda': 0.00351542917938466, 'alpha': 1.7085452012929645, 'colsample_bytree': 0.7594343200255721, 'subsample': 0.8498373378392103, 'learning_rate': 0.018614905566115995, 'max_depth': 20, 'min_child_weight': 99, 'eval_metric': 'logloss'}. Best is trial 19 with value: 0.8129470170966326.\u001b[0m\n",
      "/home/tunguz/anaconda3/lib/python3.7/site-packages/xgboost/dask.py:884: RuntimeWarning: coroutine 'Client._wait_for_workers' was never awaited\n",
      "  client.wait_for_workers(n_workers)\n",
      "\u001b[32m[I 2022-11-22 11:39:00,700]\u001b[0m Trial 62 finished with value: 0.8121817258491246 and parameters: {'objective': 'binary:logistic', 'tree_method': 'gpu_hist', 'lambda': 0.0037526960141905734, 'alpha': 1.6991731885154937, 'colsample_bytree': 0.6892046905767414, 'subsample': 0.8723004938660806, 'learning_rate': 0.018294313035525686, 'max_depth': 20, 'min_child_weight': 81, 'eval_metric': 'logloss'}. Best is trial 19 with value: 0.8129470170966326.\u001b[0m\n",
      "/home/tunguz/anaconda3/lib/python3.7/site-packages/xgboost/dask.py:884: RuntimeWarning: coroutine 'Client._wait_for_workers' was never awaited\n",
      "  client.wait_for_workers(n_workers)\n",
      "\u001b[32m[I 2022-11-22 11:39:30,982]\u001b[0m Trial 63 finished with value: 0.8103267626573287 and parameters: {'objective': 'binary:logistic', 'tree_method': 'gpu_hist', 'lambda': 0.0020078395964182845, 'alpha': 0.0029274746341869, 'colsample_bytree': 0.9963568796333065, 'subsample': 0.9157859661982095, 'learning_rate': 0.030172303879152224, 'max_depth': 20, 'min_child_weight': 98, 'eval_metric': 'logloss'}. Best is trial 19 with value: 0.8129470170966326.\u001b[0m\n",
      "/home/tunguz/anaconda3/lib/python3.7/site-packages/xgboost/dask.py:884: RuntimeWarning: coroutine 'Client._wait_for_workers' was never awaited\n",
      "  client.wait_for_workers(n_workers)\n",
      "\u001b[32m[I 2022-11-22 11:40:02,472]\u001b[0m Trial 64 finished with value: 0.8119776905783677 and parameters: {'objective': 'binary:logistic', 'tree_method': 'gpu_hist', 'lambda': 0.0023879082093513364, 'alpha': 2.627474545813797, 'colsample_bytree': 0.8107638752475916, 'subsample': 0.7347336752425604, 'learning_rate': 0.010709362294418335, 'max_depth': 20, 'min_child_weight': 112, 'eval_metric': 'logloss'}. Best is trial 19 with value: 0.8129470170966326.\u001b[0m\n",
      "/home/tunguz/anaconda3/lib/python3.7/site-packages/xgboost/dask.py:884: RuntimeWarning: coroutine 'Client._wait_for_workers' was never awaited\n",
      "  client.wait_for_workers(n_workers)\n",
      "\u001b[32m[I 2022-11-22 11:40:32,612]\u001b[0m Trial 65 finished with value: 0.812654612198299 and parameters: {'objective': 'binary:logistic', 'tree_method': 'gpu_hist', 'lambda': 0.0013978230280196735, 'alpha': 7.243001967771875, 'colsample_bytree': 0.9376941132983646, 'subsample': 0.7691007472709925, 'learning_rate': 0.01584206477828551, 'max_depth': 15, 'min_child_weight': 63, 'eval_metric': 'logloss'}. Best is trial 19 with value: 0.8129470170966326.\u001b[0m\n",
      "/home/tunguz/anaconda3/lib/python3.7/site-packages/xgboost/dask.py:884: RuntimeWarning: coroutine 'Client._wait_for_workers' was never awaited\n",
      "  client.wait_for_workers(n_workers)\n",
      "\u001b[32m[I 2022-11-22 11:41:00,994]\u001b[0m Trial 66 finished with value: 0.8121296856855649 and parameters: {'objective': 'binary:logistic', 'tree_method': 'gpu_hist', 'lambda': 0.0014152463928688934, 'alpha': 6.213941644795561, 'colsample_bytree': 0.8967132744389918, 'subsample': 0.7651780679686554, 'learning_rate': 0.021167570705243423, 'max_depth': 15, 'min_child_weight': 65, 'eval_metric': 'logloss'}. Best is trial 19 with value: 0.8129470170966326.\u001b[0m\n",
      "/home/tunguz/anaconda3/lib/python3.7/site-packages/xgboost/dask.py:884: RuntimeWarning: coroutine 'Client._wait_for_workers' was never awaited\n",
      "  client.wait_for_workers(n_workers)\n",
      "\u001b[32m[I 2022-11-22 11:41:35,390]\u001b[0m Trial 67 finished with value: 0.812774876095004 and parameters: {'objective': 'binary:logistic', 'tree_method': 'gpu_hist', 'lambda': 0.0011369506115500362, 'alpha': 7.776640623229072, 'colsample_bytree': 0.9682820549198843, 'subsample': 0.7047124706516665, 'learning_rate': 0.015204949630411737, 'max_depth': 15, 'min_child_weight': 47, 'eval_metric': 'logloss'}. Best is trial 19 with value: 0.8129470170966326.\u001b[0m\n",
      "/home/tunguz/anaconda3/lib/python3.7/site-packages/xgboost/dask.py:884: RuntimeWarning: coroutine 'Client._wait_for_workers' was never awaited\n",
      "  client.wait_for_workers(n_workers)\n",
      "\u001b[32m[I 2022-11-22 11:42:15,899]\u001b[0m Trial 68 finished with value: 0.8120670711694852 and parameters: {'objective': 'binary:logistic', 'tree_method': 'gpu_hist', 'lambda': 0.0010139609283398537, 'alpha': 7.939293884649476, 'colsample_bytree': 0.9429938423491426, 'subsample': 0.7154658570211679, 'learning_rate': 0.008806495621434167, 'max_depth': 15, 'min_child_weight': 42, 'eval_metric': 'logloss'}. Best is trial 19 with value: 0.8129470170966326.\u001b[0m\n",
      "/home/tunguz/anaconda3/lib/python3.7/site-packages/xgboost/dask.py:884: RuntimeWarning: coroutine 'Client._wait_for_workers' was never awaited\n",
      "  client.wait_for_workers(n_workers)\n",
      "\u001b[32m[I 2022-11-22 11:43:01,260]\u001b[0m Trial 69 finished with value: 0.8120800017192904 and parameters: {'objective': 'binary:logistic', 'tree_method': 'gpu_hist', 'lambda': 0.0017295523425740675, 'alpha': 4.689058996156619, 'colsample_bytree': 0.969943982785811, 'subsample': 0.700533217768017, 'learning_rate': 0.01538194181934918, 'max_depth': 15, 'min_child_weight': 28, 'eval_metric': 'logloss'}. Best is trial 19 with value: 0.8129470170966326.\u001b[0m\n",
      "/home/tunguz/anaconda3/lib/python3.7/site-packages/xgboost/dask.py:884: RuntimeWarning: coroutine 'Client._wait_for_workers' was never awaited\n",
      "  client.wait_for_workers(n_workers)\n",
      "\u001b[32m[I 2022-11-22 11:45:25,786]\u001b[0m Trial 70 finished with value: 0.8120713596116022 and parameters: {'objective': 'binary:logistic', 'tree_method': 'gpu_hist', 'lambda': 0.0013389178848032042, 'alpha': 8.036028993267646, 'colsample_bytree': 0.9308291803478906, 'subsample': 0.6268771218778646, 'learning_rate': 0.012223488042451198, 'max_depth': 15, 'min_child_weight': 1, 'eval_metric': 'logloss'}. Best is trial 19 with value: 0.8129470170966326.\u001b[0m\n",
      "/home/tunguz/anaconda3/lib/python3.7/site-packages/xgboost/dask.py:884: RuntimeWarning: coroutine 'Client._wait_for_workers' was never awaited\n",
      "  client.wait_for_workers(n_workers)\n",
      "\u001b[32m[I 2022-11-22 11:45:56,277]\u001b[0m Trial 71 finished with value: 0.8128451054493675 and parameters: {'objective': 'binary:logistic', 'tree_method': 'gpu_hist', 'lambda': 0.0021807095770959447, 'alpha': 3.7170100149536855, 'colsample_bytree': 0.948153199108614, 'subsample': 0.7363553440832147, 'learning_rate': 0.021287780063149252, 'max_depth': 15, 'min_child_weight': 52, 'eval_metric': 'logloss'}. Best is trial 19 with value: 0.8129470170966326.\u001b[0m\n",
      "/home/tunguz/anaconda3/lib/python3.7/site-packages/xgboost/dask.py:884: RuntimeWarning: coroutine 'Client._wait_for_workers' was never awaited\n",
      "  client.wait_for_workers(n_workers)\n",
      "\u001b[32m[I 2022-11-22 11:46:25,204]\u001b[0m Trial 72 finished with value: 0.8127313802039511 and parameters: {'objective': 'binary:logistic', 'tree_method': 'gpu_hist', 'lambda': 0.0021826304601639647, 'alpha': 6.049573888631615, 'colsample_bytree': 0.950453302687067, 'subsample': 0.6835855689061299, 'learning_rate': 0.021931314221634975, 'max_depth': 15, 'min_child_weight': 57, 'eval_metric': 'logloss'}. Best is trial 19 with value: 0.8129470170966326.\u001b[0m\n",
      "/home/tunguz/anaconda3/lib/python3.7/site-packages/xgboost/dask.py:884: RuntimeWarning: coroutine 'Client._wait_for_workers' was never awaited\n",
      "  client.wait_for_workers(n_workers)\n",
      "\u001b[32m[I 2022-11-22 11:46:54,769]\u001b[0m Trial 73 finished with value: 0.812003951171635 and parameters: {'objective': 'binary:logistic', 'tree_method': 'gpu_hist', 'lambda': 0.0021624122566012735, 'alpha': 6.357587816143635, 'colsample_bytree': 0.9501490319949215, 'subsample': 0.6874454364305893, 'learning_rate': 0.022199950617158935, 'max_depth': 15, 'min_child_weight': 55, 'eval_metric': 'logloss'}. Best is trial 19 with value: 0.8129470170966326.\u001b[0m\n",
      "/home/tunguz/anaconda3/lib/python3.7/site-packages/xgboost/dask.py:884: RuntimeWarning: coroutine 'Client._wait_for_workers' was never awaited\n",
      "  client.wait_for_workers(n_workers)\n",
      "\u001b[32m[I 2022-11-22 11:47:19,661]\u001b[0m Trial 74 finished with value: 0.8115041601475824 and parameters: {'objective': 'binary:logistic', 'tree_method': 'gpu_hist', 'lambda': 0.0012593216633557142, 'alpha': 9.901313944152172, 'colsample_bytree': 0.9802091456432066, 'subsample': 0.6662287889133439, 'learning_rate': 0.033748462089750395, 'max_depth': 15, 'min_child_weight': 74, 'eval_metric': 'logloss'}. Best is trial 19 with value: 0.8129470170966326.\u001b[0m\n",
      "/home/tunguz/anaconda3/lib/python3.7/site-packages/xgboost/dask.py:884: RuntimeWarning: coroutine 'Client._wait_for_workers' was never awaited\n",
      "  client.wait_for_workers(n_workers)\n",
      "\u001b[32m[I 2022-11-22 11:47:47,541]\u001b[0m Trial 75 finished with value: 0.8103761205063322 and parameters: {'objective': 'binary:logistic', 'tree_method': 'gpu_hist', 'lambda': 0.14903033107138186, 'alpha': 3.452824350339575, 'colsample_bytree': 0.9018306303238289, 'subsample': 0.7020566350611263, 'learning_rate': 0.042514425607948124, 'max_depth': 15, 'min_child_weight': 50, 'eval_metric': 'logloss'}. Best is trial 19 with value: 0.8129470170966326.\u001b[0m\n",
      "/home/tunguz/anaconda3/lib/python3.7/site-packages/xgboost/dask.py:884: RuntimeWarning: coroutine 'Client._wait_for_workers' was never awaited\n",
      "  client.wait_for_workers(n_workers)\n",
      "\u001b[32m[I 2022-11-22 11:48:15,407]\u001b[0m Trial 76 finished with value: 0.8123632753340289 and parameters: {'objective': 'binary:logistic', 'tree_method': 'gpu_hist', 'lambda': 0.0050499080641594335, 'alpha': 5.311202247412427, 'colsample_bytree': 0.865353872214019, 'subsample': 0.7299772732272218, 'learning_rate': 0.02627665196177606, 'max_depth': 15, 'min_child_weight': 60, 'eval_metric': 'logloss'}. Best is trial 19 with value: 0.8129470170966326.\u001b[0m\n",
      "/home/tunguz/anaconda3/lib/python3.7/site-packages/xgboost/dask.py:884: RuntimeWarning: coroutine 'Client._wait_for_workers' was never awaited\n",
      "  client.wait_for_workers(n_workers)\n",
      "\u001b[32m[I 2022-11-22 11:48:24,499]\u001b[0m Trial 77 finished with value: 0.8086696385081361 and parameters: {'objective': 'binary:logistic', 'tree_method': 'gpu_hist', 'lambda': 0.0028551203159287693, 'alpha': 2.606708896323263, 'colsample_bytree': 0.9982536893937548, 'subsample': 0.7589238059287016, 'learning_rate': 0.013892123499260705, 'max_depth': 7, 'min_child_weight': 39, 'eval_metric': 'logloss'}. Best is trial 19 with value: 0.8129470170966326.\u001b[0m\n",
      "/home/tunguz/anaconda3/lib/python3.7/site-packages/xgboost/dask.py:884: RuntimeWarning: coroutine 'Client._wait_for_workers' was never awaited\n",
      "  client.wait_for_workers(n_workers)\n",
      "\u001b[32m[I 2022-11-22 11:48:48,745]\u001b[0m Trial 78 finished with value: 0.8131647166810549 and parameters: {'objective': 'binary:logistic', 'tree_method': 'gpu_hist', 'lambda': 0.00102372467892664, 'alpha': 4.008107561438574, 'colsample_bytree': 0.9511182468488388, 'subsample': 0.6640787875127127, 'learning_rate': 0.02060842039432289, 'max_depth': 11, 'min_child_weight': 22, 'eval_metric': 'logloss'}. Best is trial 78 with value: 0.8131647166810549.\u001b[0m\n",
      "/home/tunguz/anaconda3/lib/python3.7/site-packages/xgboost/dask.py:884: RuntimeWarning: coroutine 'Client._wait_for_workers' was never awaited\n",
      "  client.wait_for_workers(n_workers)\n",
      "\u001b[32m[I 2022-11-22 11:49:13,914]\u001b[0m Trial 79 finished with value: 0.8129500744460507 and parameters: {'objective': 'binary:logistic', 'tree_method': 'gpu_hist', 'lambda': 9.477632367666292, 'alpha': 7.4299604444896135, 'colsample_bytree': 0.9570315285467688, 'subsample': 0.643371407876999, 'learning_rate': 0.016864269101423173, 'max_depth': 11, 'min_child_weight': 21, 'eval_metric': 'logloss'}. Best is trial 78 with value: 0.8131647166810549.\u001b[0m\n",
      "/home/tunguz/anaconda3/lib/python3.7/site-packages/xgboost/dask.py:884: RuntimeWarning: coroutine 'Client._wait_for_workers' was never awaited\n",
      "  client.wait_for_workers(n_workers)\n",
      "\u001b[32m[I 2022-11-22 11:49:38,309]\u001b[0m Trial 80 finished with value: 0.8127755283295465 and parameters: {'objective': 'binary:logistic', 'tree_method': 'gpu_hist', 'lambda': 0.6846237693904409, 'alpha': 7.247224661560597, 'colsample_bytree': 0.9515342687752985, 'subsample': 0.6489279587990182, 'learning_rate': 0.024559645813918948, 'max_depth': 11, 'min_child_weight': 24, 'eval_metric': 'logloss'}. Best is trial 78 with value: 0.8131647166810549.\u001b[0m\n",
      "/home/tunguz/anaconda3/lib/python3.7/site-packages/xgboost/dask.py:884: RuntimeWarning: coroutine 'Client._wait_for_workers' was never awaited\n",
      "  client.wait_for_workers(n_workers)\n",
      "\u001b[32m[I 2022-11-22 11:50:03,734]\u001b[0m Trial 81 finished with value: 0.8115637743847668 and parameters: {'objective': 'binary:logistic', 'tree_method': 'gpu_hist', 'lambda': 5.14329897039916, 'alpha': 7.3906611212200035, 'colsample_bytree': 0.9561421853859697, 'subsample': 0.6522158876509164, 'learning_rate': 0.024620876562625727, 'max_depth': 11, 'min_child_weight': 20, 'eval_metric': 'logloss'}. Best is trial 78 with value: 0.8131647166810549.\u001b[0m\n",
      "/home/tunguz/anaconda3/lib/python3.7/site-packages/xgboost/dask.py:884: RuntimeWarning: coroutine 'Client._wait_for_workers' was never awaited\n",
      "  client.wait_for_workers(n_workers)\n",
      "\u001b[32m[I 2022-11-22 11:50:26,343]\u001b[0m Trial 82 finished with value: 0.8121078358283913 and parameters: {'objective': 'binary:logistic', 'tree_method': 'gpu_hist', 'lambda': 0.685486734641712, 'alpha': 4.145188709241822, 'colsample_bytree': 0.9756474555829145, 'subsample': 0.6074793364134833, 'learning_rate': 0.020951047742962352, 'max_depth': 11, 'min_child_weight': 26, 'eval_metric': 'logloss'}. Best is trial 78 with value: 0.8131647166810549.\u001b[0m\n",
      "/home/tunguz/anaconda3/lib/python3.7/site-packages/xgboost/dask.py:884: RuntimeWarning: coroutine 'Client._wait_for_workers' was never awaited\n",
      "  client.wait_for_workers(n_workers)\n",
      "\u001b[32m[I 2022-11-22 11:50:57,881]\u001b[0m Trial 83 finished with value: 0.8128927022651062 and parameters: {'objective': 'binary:logistic', 'tree_method': 'gpu_hist', 'lambda': 2.0351521090259794, 'alpha': 6.128950582824729, 'colsample_bytree': 0.936931011479965, 'subsample': 0.6728406797044648, 'learning_rate': 0.015635344369669728, 'max_depth': 11, 'min_child_weight': 11, 'eval_metric': 'logloss'}. Best is trial 78 with value: 0.8131647166810549.\u001b[0m\n",
      "/home/tunguz/anaconda3/lib/python3.7/site-packages/xgboost/dask.py:884: RuntimeWarning: coroutine 'Client._wait_for_workers' was never awaited\n",
      "  client.wait_for_workers(n_workers)\n",
      "\u001b[32m[I 2022-11-22 11:51:28,895]\u001b[0m Trial 84 finished with value: 0.8131400296036214 and parameters: {'objective': 'binary:logistic', 'tree_method': 'gpu_hist', 'lambda': 9.897236930490587, 'alpha': 7.51227982616563, 'colsample_bytree': 0.9318391277282235, 'subsample': 0.6322941703677432, 'learning_rate': 0.015990793510583225, 'max_depth': 11, 'min_child_weight': 11, 'eval_metric': 'logloss'}. Best is trial 78 with value: 0.8131647166810549.\u001b[0m\n",
      "/home/tunguz/anaconda3/lib/python3.7/site-packages/xgboost/dask.py:884: RuntimeWarning: coroutine 'Client._wait_for_workers' was never awaited\n",
      "  client.wait_for_workers(n_workers)\n",
      "\u001b[32m[I 2022-11-22 11:51:59,545]\u001b[0m Trial 85 finished with value: 0.811845384801422 and parameters: {'objective': 'binary:logistic', 'tree_method': 'gpu_hist', 'lambda': 8.091711123436609, 'alpha': 6.191016133945876, 'colsample_bytree': 0.9102592275824744, 'subsample': 0.5576045125999394, 'learning_rate': 0.03092564797107057, 'max_depth': 11, 'min_child_weight': 10, 'eval_metric': 'logloss'}. Best is trial 78 with value: 0.8131647166810549.\u001b[0m\n",
      "/home/tunguz/anaconda3/lib/python3.7/site-packages/xgboost/dask.py:884: RuntimeWarning: coroutine 'Client._wait_for_workers' was never awaited\n",
      "  client.wait_for_workers(n_workers)\n",
      "\u001b[32m[I 2022-11-22 11:52:26,600]\u001b[0m Trial 86 finished with value: 0.8131759758798449 and parameters: {'objective': 'binary:logistic', 'tree_method': 'gpu_hist', 'lambda': 2.7142773308501944, 'alpha': 8.362042016862503, 'colsample_bytree': 0.8866906126041312, 'subsample': 0.6398604959819779, 'learning_rate': 0.017225362567904797, 'max_depth': 11, 'min_child_weight': 18, 'eval_metric': 'logloss'}. Best is trial 86 with value: 0.8131759758798449.\u001b[0m\n",
      "/home/tunguz/anaconda3/lib/python3.7/site-packages/xgboost/dask.py:884: RuntimeWarning: coroutine 'Client._wait_for_workers' was never awaited\n",
      "  client.wait_for_workers(n_workers)\n",
      "\u001b[32m[I 2022-11-22 11:53:02,279]\u001b[0m Trial 87 finished with value: 0.8128945529806206 and parameters: {'objective': 'binary:logistic', 'tree_method': 'gpu_hist', 'lambda': 1.579950832063491, 'alpha': 8.30886137841292, 'colsample_bytree': 0.8870136997539729, 'subsample': 0.632945721135579, 'learning_rate': 0.013471263464557098, 'max_depth': 11, 'min_child_weight': 7, 'eval_metric': 'logloss'}. Best is trial 86 with value: 0.8131759758798449.\u001b[0m\n",
      "/home/tunguz/anaconda3/lib/python3.7/site-packages/xgboost/dask.py:884: RuntimeWarning: coroutine 'Client._wait_for_workers' was never awaited\n",
      "  client.wait_for_workers(n_workers)\n",
      "\u001b[32m[I 2022-11-22 11:53:41,253]\u001b[0m Trial 88 finished with value: 0.8130962320540926 and parameters: {'objective': 'binary:logistic', 'tree_method': 'gpu_hist', 'lambda': 2.3078363844198733, 'alpha': 3.215792266971222, 'colsample_bytree': 0.8836578820391205, 'subsample': 0.624506994903982, 'learning_rate': 0.012959952294387941, 'max_depth': 11, 'min_child_weight': 5, 'eval_metric': 'logloss'}. Best is trial 86 with value: 0.8131759758798449.\u001b[0m\n",
      "/home/tunguz/anaconda3/lib/python3.7/site-packages/xgboost/dask.py:884: RuntimeWarning: coroutine 'Client._wait_for_workers' was never awaited\n",
      "  client.wait_for_workers(n_workers)\n",
      "\u001b[32m[I 2022-11-22 11:54:16,809]\u001b[0m Trial 89 finished with value: 0.8119749674991528 and parameters: {'objective': 'binary:logistic', 'tree_method': 'gpu_hist', 'lambda': 2.1337347473494495, 'alpha': 3.38578438490733, 'colsample_bytree': 0.8824646154418901, 'subsample': 0.5908513555676796, 'learning_rate': 0.010933929327485048, 'max_depth': 11, 'min_child_weight': 7, 'eval_metric': 'logloss'}. Best is trial 86 with value: 0.8131759758798449.\u001b[0m\n",
      "/home/tunguz/anaconda3/lib/python3.7/site-packages/xgboost/dask.py:884: RuntimeWarning: coroutine 'Client._wait_for_workers' was never awaited\n",
      "  client.wait_for_workers(n_workers)\n",
      "\u001b[32m[I 2022-11-22 11:54:47,319]\u001b[0m Trial 90 finished with value: 0.8131328387177905 and parameters: {'objective': 'binary:logistic', 'tree_method': 'gpu_hist', 'lambda': 5.162668458728891, 'alpha': 9.920400708104047, 'colsample_bytree': 0.8479305129627343, 'subsample': 0.6315077006599821, 'learning_rate': 0.0173255040149786, 'max_depth': 11, 'min_child_weight': 12, 'eval_metric': 'logloss'}. Best is trial 86 with value: 0.8131759758798449.\u001b[0m\n",
      "/home/tunguz/anaconda3/lib/python3.7/site-packages/xgboost/dask.py:884: RuntimeWarning: coroutine 'Client._wait_for_workers' was never awaited\n",
      "  client.wait_for_workers(n_workers)\n",
      "\u001b[32m[I 2022-11-22 11:55:16,988]\u001b[0m Trial 91 finished with value: 0.8136900916050369 and parameters: {'objective': 'binary:logistic', 'tree_method': 'gpu_hist', 'lambda': 5.547196173251181, 'alpha': 9.846733566653675, 'colsample_bytree': 0.8460596492758485, 'subsample': 0.624410036544098, 'learning_rate': 0.016838536382710267, 'max_depth': 11, 'min_child_weight': 13, 'eval_metric': 'logloss'}. Best is trial 91 with value: 0.8136900916050369.\u001b[0m\n",
      "/home/tunguz/anaconda3/lib/python3.7/site-packages/xgboost/dask.py:884: RuntimeWarning: coroutine 'Client._wait_for_workers' was never awaited\n",
      "  client.wait_for_workers(n_workers)\n",
      "\u001b[32m[I 2022-11-22 11:55:46,177]\u001b[0m Trial 92 finished with value: 0.813117796558654 and parameters: {'objective': 'binary:logistic', 'tree_method': 'gpu_hist', 'lambda': 9.77024800974941, 'alpha': 9.9413990457551, 'colsample_bytree': 0.8471477359127801, 'subsample': 0.6265311620176622, 'learning_rate': 0.016031125009030964, 'max_depth': 11, 'min_child_weight': 14, 'eval_metric': 'logloss'}. Best is trial 91 with value: 0.8136900916050369.\u001b[0m\n",
      "/home/tunguz/anaconda3/lib/python3.7/site-packages/xgboost/dask.py:884: RuntimeWarning: coroutine 'Client._wait_for_workers' was never awaited\n",
      "  client.wait_for_workers(n_workers)\n",
      "\u001b[32m[I 2022-11-22 11:56:13,368]\u001b[0m Trial 93 finished with value: 0.8132703053005537 and parameters: {'objective': 'binary:logistic', 'tree_method': 'gpu_hist', 'lambda': 9.993449293088933, 'alpha': 9.665062137902042, 'colsample_bytree': 0.850427751409445, 'subsample': 0.6242609046602651, 'learning_rate': 0.013173571275243797, 'max_depth': 11, 'min_child_weight': 18, 'eval_metric': 'logloss'}. Best is trial 91 with value: 0.8136900916050369.\u001b[0m\n",
      "/home/tunguz/anaconda3/lib/python3.7/site-packages/xgboost/dask.py:884: RuntimeWarning: coroutine 'Client._wait_for_workers' was never awaited\n",
      "  client.wait_for_workers(n_workers)\n",
      "\u001b[32m[I 2022-11-22 11:56:40,220]\u001b[0m Trial 94 finished with value: 0.812127892040573 and parameters: {'objective': 'binary:logistic', 'tree_method': 'gpu_hist', 'lambda': 9.481733147650363, 'alpha': 9.705806327354907, 'colsample_bytree': 0.8541234536279588, 'subsample': 0.6190820517802633, 'learning_rate': 0.012628678586460424, 'max_depth': 11, 'min_child_weight': 19, 'eval_metric': 'logloss'}. Best is trial 91 with value: 0.8136900916050369.\u001b[0m\n",
      "/home/tunguz/anaconda3/lib/python3.7/site-packages/xgboost/dask.py:884: RuntimeWarning: coroutine 'Client._wait_for_workers' was never awaited\n",
      "  client.wait_for_workers(n_workers)\n",
      "\u001b[32m[I 2022-11-22 11:57:07,088]\u001b[0m Trial 95 finished with value: 0.8130749936668027 and parameters: {'objective': 'binary:logistic', 'tree_method': 'gpu_hist', 'lambda': 4.9653267124954334, 'alpha': 5.447968453423975, 'colsample_bytree': 0.8239348688936516, 'subsample': 0.5963259588570595, 'learning_rate': 0.017229587877320898, 'max_depth': 11, 'min_child_weight': 16, 'eval_metric': 'logloss'}. Best is trial 91 with value: 0.8136900916050369.\u001b[0m\n",
      "/home/tunguz/anaconda3/lib/python3.7/site-packages/xgboost/dask.py:884: RuntimeWarning: coroutine 'Client._wait_for_workers' was never awaited\n",
      "  client.wait_for_workers(n_workers)\n",
      "\u001b[32m[I 2022-11-22 11:57:33,602]\u001b[0m Trial 96 finished with value: 0.8124564959560154 and parameters: {'objective': 'binary:logistic', 'tree_method': 'gpu_hist', 'lambda': 4.902708300425905, 'alpha': 5.274724071630291, 'colsample_bytree': 0.8265153937006144, 'subsample': 0.5515777822493265, 'learning_rate': 0.017056706003483912, 'max_depth': 11, 'min_child_weight': 16, 'eval_metric': 'logloss'}. Best is trial 91 with value: 0.8136900916050369.\u001b[0m\n",
      "/home/tunguz/anaconda3/lib/python3.7/site-packages/xgboost/dask.py:884: RuntimeWarning: coroutine 'Client._wait_for_workers' was never awaited\n",
      "  client.wait_for_workers(n_workers)\n",
      "\u001b[32m[I 2022-11-22 11:58:04,581]\u001b[0m Trial 97 finished with value: 0.8000257127162517 and parameters: {'objective': 'binary:logistic', 'tree_method': 'gpu_hist', 'lambda': 5.886236803109722, 'alpha': 9.04083256158788, 'colsample_bytree': 0.8371346916601416, 'subsample': 0.5857417839632074, 'learning_rate': 0.002372862703825068, 'max_depth': 11, 'min_child_weight': 35, 'eval_metric': 'logloss'}. Best is trial 91 with value: 0.8136900916050369.\u001b[0m\n",
      "/home/tunguz/anaconda3/lib/python3.7/site-packages/xgboost/dask.py:884: RuntimeWarning: coroutine 'Client._wait_for_workers' was never awaited\n",
      "  client.wait_for_workers(n_workers)\n",
      "\u001b[32m[I 2022-11-22 11:58:46,674]\u001b[0m Trial 98 finished with value: 0.8120865974411012 and parameters: {'objective': 'binary:logistic', 'tree_method': 'gpu_hist', 'lambda': 3.3582134103448853, 'alpha': 0.0224233432259171, 'colsample_bytree': 0.8514139575903232, 'subsample': 0.5973559325399408, 'learning_rate': 0.019706306042361538, 'max_depth': 11, 'min_child_weight': 2, 'eval_metric': 'logloss'}. Best is trial 91 with value: 0.8136900916050369.\u001b[0m\n",
      "/home/tunguz/anaconda3/lib/python3.7/site-packages/xgboost/dask.py:884: RuntimeWarning: coroutine 'Client._wait_for_workers' was never awaited\n",
      "  client.wait_for_workers(n_workers)\n",
      "\u001b[32m[I 2022-11-22 11:59:10,350]\u001b[0m Trial 99 finished with value: 0.811399680326806 and parameters: {'objective': 'binary:logistic', 'tree_method': 'gpu_hist', 'lambda': 6.885362579447722, 'alpha': 5.387337362645417, 'colsample_bytree': 0.8811054574954107, 'subsample': 0.6122323227584949, 'learning_rate': 0.00987123595783066, 'max_depth': 11, 'min_child_weight': 30, 'eval_metric': 'logloss'}. Best is trial 91 with value: 0.8136900916050369.\u001b[0m\n",
      "/home/tunguz/anaconda3/lib/python3.7/site-packages/xgboost/dask.py:884: RuntimeWarning: coroutine 'Client._wait_for_workers' was never awaited\n",
      "  client.wait_for_workers(n_workers)\n",
      "\u001b[32m[I 2022-11-22 11:59:37,993]\u001b[0m Trial 100 finished with value: 0.8125151155355224 and parameters: {'objective': 'binary:logistic', 'tree_method': 'gpu_hist', 'lambda': 9.763625808626935, 'alpha': 4.260082626963837, 'colsample_bytree': 0.8677148204449978, 'subsample': 0.6410455367439074, 'learning_rate': 0.013779294359196632, 'max_depth': 11, 'min_child_weight': 15, 'eval_metric': 'logloss'}. Best is trial 91 with value: 0.8136900916050369.\u001b[0m\n",
      "/home/tunguz/anaconda3/lib/python3.7/site-packages/xgboost/dask.py:884: RuntimeWarning: coroutine 'Client._wait_for_workers' was never awaited\n",
      "  client.wait_for_workers(n_workers)\n",
      "\u001b[32m[I 2022-11-22 12:00:03,158]\u001b[0m Trial 101 finished with value: 0.8121054633252431 and parameters: {'objective': 'binary:logistic', 'tree_method': 'gpu_hist', 'lambda': 3.1330955144579313, 'alpha': 9.611795052826619, 'colsample_bytree': 0.8021579359528814, 'subsample': 0.6555814387517938, 'learning_rate': 0.018926417141374004, 'max_depth': 11, 'min_child_weight': 23, 'eval_metric': 'logloss'}. Best is trial 91 with value: 0.8136900916050369.\u001b[0m\n"
     ]
    },
    {
     "name": "stdout",
     "output_type": "stream",
     "text": [
      "CPU times: user 4min 2s, sys: 1min 4s, total: 5min 6s\n",
      "Wall time: 56min 9s\n"
     ]
    }
   ],
   "source": [
    "%%time\n",
    "study.optimize(objective, n_trials=100)"
   ]
  },
  {
   "cell_type": "code",
   "execution_count": 15,
   "metadata": {},
   "outputs": [
    {
     "data": {
      "text/plain": [
       "{'objective': 'binary:logistic',\n",
       " 'tree_method': 'gpu_hist',\n",
       " 'lambda': 5.547196173251181,\n",
       " 'alpha': 9.846733566653675,\n",
       " 'colsample_bytree': 0.8460596492758485,\n",
       " 'subsample': 0.624410036544098,\n",
       " 'learning_rate': 0.016838536382710267,\n",
       " 'max_depth': 11,\n",
       " 'min_child_weight': 13,\n",
       " 'eval_metric': 'logloss'}"
      ]
     },
     "execution_count": 15,
     "metadata": {},
     "output_type": "execute_result"
    }
   ],
   "source": [
    "study.best_trial.params"
   ]
  },
  {
   "cell_type": "code",
   "execution_count": 16,
   "metadata": {},
   "outputs": [],
   "source": [
    "real_test_x = dd.read_csv('../input/higgs_small_roc/xgtest.csv')"
   ]
  },
  {
   "cell_type": "code",
   "execution_count": 17,
   "metadata": {},
   "outputs": [],
   "source": [
    "real_test_y = real_test_x['target']\n",
    "real_test_x = real_test_x[real_test_x.columns.difference(['target'])]"
   ]
  },
  {
   "cell_type": "code",
   "execution_count": 18,
   "metadata": {},
   "outputs": [],
   "source": [
    "drealtest = xgb.dask.DaskDMatrix(client, real_test_x, real_test_y)"
   ]
  },
  {
   "cell_type": "code",
   "execution_count": 19,
   "metadata": {},
   "outputs": [
    {
     "name": "stderr",
     "output_type": "stream",
     "text": [
      "/home/tunguz/anaconda3/lib/python3.7/site-packages/xgboost/dask.py:884: RuntimeWarning: coroutine 'Client._wait_for_workers' was never awaited\n",
      "  client.wait_for_workers(n_workers)\n"
     ]
    },
    {
     "data": {
      "text/plain": [
       "0.8077271843791392"
      ]
     },
     "execution_count": 19,
     "metadata": {},
     "output_type": "execute_result"
    }
   ],
   "source": [
    "params = study.best_trial.params\n",
    "\n",
    "output = xgb.dask.train(client, params, dtrain, num_round)\n",
    "    \n",
    "booster = output['booster']  # booster is the trained model\n",
    "booster.set_param({'predictor': 'gpu_predictor'})\n",
    "\n",
    "predictions = xgb.dask.predict(client, booster, drealtest)\n",
    "    \n",
    "predictions = predictions.compute()\n",
    "\n",
    "roc_auc_score(real_test_y, predictions)"
   ]
  },
  {
   "cell_type": "code",
   "execution_count": 20,
   "metadata": {},
   "outputs": [
    {
     "name": "stdout",
     "output_type": "stream",
     "text": [
      "0\n"
     ]
    },
    {
     "name": "stderr",
     "output_type": "stream",
     "text": [
      "/home/tunguz/anaconda3/lib/python3.7/site-packages/xgboost/dask.py:884: RuntimeWarning: coroutine 'Client._wait_for_workers' was never awaited\n",
      "  client.wait_for_workers(n_workers)\n"
     ]
    },
    {
     "name": "stdout",
     "output_type": "stream",
     "text": [
      "1\n"
     ]
    },
    {
     "name": "stderr",
     "output_type": "stream",
     "text": [
      "/home/tunguz/anaconda3/lib/python3.7/site-packages/xgboost/dask.py:884: RuntimeWarning: coroutine 'Client._wait_for_workers' was never awaited\n",
      "  client.wait_for_workers(n_workers)\n"
     ]
    },
    {
     "name": "stdout",
     "output_type": "stream",
     "text": [
      "2\n"
     ]
    },
    {
     "name": "stderr",
     "output_type": "stream",
     "text": [
      "/home/tunguz/anaconda3/lib/python3.7/site-packages/xgboost/dask.py:884: RuntimeWarning: coroutine 'Client._wait_for_workers' was never awaited\n",
      "  client.wait_for_workers(n_workers)\n"
     ]
    },
    {
     "name": "stdout",
     "output_type": "stream",
     "text": [
      "3\n"
     ]
    },
    {
     "name": "stderr",
     "output_type": "stream",
     "text": [
      "/home/tunguz/anaconda3/lib/python3.7/site-packages/xgboost/dask.py:884: RuntimeWarning: coroutine 'Client._wait_for_workers' was never awaited\n",
      "  client.wait_for_workers(n_workers)\n"
     ]
    },
    {
     "name": "stdout",
     "output_type": "stream",
     "text": [
      "4\n"
     ]
    },
    {
     "name": "stderr",
     "output_type": "stream",
     "text": [
      "/home/tunguz/anaconda3/lib/python3.7/site-packages/xgboost/dask.py:884: RuntimeWarning: coroutine 'Client._wait_for_workers' was never awaited\n",
      "  client.wait_for_workers(n_workers)\n"
     ]
    },
    {
     "name": "stdout",
     "output_type": "stream",
     "text": [
      "5\n"
     ]
    },
    {
     "name": "stderr",
     "output_type": "stream",
     "text": [
      "/home/tunguz/anaconda3/lib/python3.7/site-packages/xgboost/dask.py:884: RuntimeWarning: coroutine 'Client._wait_for_workers' was never awaited\n",
      "  client.wait_for_workers(n_workers)\n"
     ]
    },
    {
     "name": "stdout",
     "output_type": "stream",
     "text": [
      "6\n"
     ]
    },
    {
     "name": "stderr",
     "output_type": "stream",
     "text": [
      "/home/tunguz/anaconda3/lib/python3.7/site-packages/xgboost/dask.py:884: RuntimeWarning: coroutine 'Client._wait_for_workers' was never awaited\n",
      "  client.wait_for_workers(n_workers)\n"
     ]
    },
    {
     "name": "stdout",
     "output_type": "stream",
     "text": [
      "7\n"
     ]
    },
    {
     "name": "stderr",
     "output_type": "stream",
     "text": [
      "/home/tunguz/anaconda3/lib/python3.7/site-packages/xgboost/dask.py:884: RuntimeWarning: coroutine 'Client._wait_for_workers' was never awaited\n",
      "  client.wait_for_workers(n_workers)\n"
     ]
    },
    {
     "name": "stdout",
     "output_type": "stream",
     "text": [
      "8\n"
     ]
    },
    {
     "name": "stderr",
     "output_type": "stream",
     "text": [
      "/home/tunguz/anaconda3/lib/python3.7/site-packages/xgboost/dask.py:884: RuntimeWarning: coroutine 'Client._wait_for_workers' was never awaited\n",
      "  client.wait_for_workers(n_workers)\n"
     ]
    },
    {
     "name": "stdout",
     "output_type": "stream",
     "text": [
      "9\n"
     ]
    },
    {
     "name": "stderr",
     "output_type": "stream",
     "text": [
      "/home/tunguz/anaconda3/lib/python3.7/site-packages/xgboost/dask.py:884: RuntimeWarning: coroutine 'Client._wait_for_workers' was never awaited\n",
      "  client.wait_for_workers(n_workers)\n"
     ]
    },
    {
     "name": "stdout",
     "output_type": "stream",
     "text": [
      "10\n"
     ]
    },
    {
     "name": "stderr",
     "output_type": "stream",
     "text": [
      "/home/tunguz/anaconda3/lib/python3.7/site-packages/xgboost/dask.py:884: RuntimeWarning: coroutine 'Client._wait_for_workers' was never awaited\n",
      "  client.wait_for_workers(n_workers)\n"
     ]
    },
    {
     "name": "stdout",
     "output_type": "stream",
     "text": [
      "11\n"
     ]
    },
    {
     "name": "stderr",
     "output_type": "stream",
     "text": [
      "/home/tunguz/anaconda3/lib/python3.7/site-packages/xgboost/dask.py:884: RuntimeWarning: coroutine 'Client._wait_for_workers' was never awaited\n",
      "  client.wait_for_workers(n_workers)\n"
     ]
    },
    {
     "name": "stdout",
     "output_type": "stream",
     "text": [
      "12\n"
     ]
    },
    {
     "name": "stderr",
     "output_type": "stream",
     "text": [
      "/home/tunguz/anaconda3/lib/python3.7/site-packages/xgboost/dask.py:884: RuntimeWarning: coroutine 'Client._wait_for_workers' was never awaited\n",
      "  client.wait_for_workers(n_workers)\n"
     ]
    },
    {
     "name": "stdout",
     "output_type": "stream",
     "text": [
      "13\n"
     ]
    },
    {
     "name": "stderr",
     "output_type": "stream",
     "text": [
      "/home/tunguz/anaconda3/lib/python3.7/site-packages/xgboost/dask.py:884: RuntimeWarning: coroutine 'Client._wait_for_workers' was never awaited\n",
      "  client.wait_for_workers(n_workers)\n"
     ]
    },
    {
     "name": "stdout",
     "output_type": "stream",
     "text": [
      "14\n"
     ]
    },
    {
     "name": "stderr",
     "output_type": "stream",
     "text": [
      "/home/tunguz/anaconda3/lib/python3.7/site-packages/xgboost/dask.py:884: RuntimeWarning: coroutine 'Client._wait_for_workers' was never awaited\n",
      "  client.wait_for_workers(n_workers)\n"
     ]
    },
    {
     "name": "stdout",
     "output_type": "stream",
     "text": [
      "CPU times: user 31.3 s, sys: 10.2 s, total: 41.5 s\n",
      "Wall time: 7min 32s\n"
     ]
    }
   ],
   "source": [
    "%%time \n",
    "scores = []\n",
    "\n",
    "for jj in range(15):\n",
    "    print(jj)\n",
    "    params = study.best_trial.params\n",
    "    params['seed'] = 5*jj**3 + 137\n",
    "\n",
    "    output = xgb.dask.train(client, params, dtrain, num_round)\n",
    "\n",
    "    booster = output['booster']  # booster is the trained model\n",
    "    booster.set_param({'predictor': 'gpu_predictor'})\n",
    "\n",
    "    predictions = xgb.dask.predict(client, booster, drealtest)\n",
    "\n",
    "    predictions = predictions.compute()\n",
    "\n",
    "    scores.append(roc_auc_score(real_test_y, predictions))"
   ]
  },
  {
   "cell_type": "code",
   "execution_count": 21,
   "metadata": {},
   "outputs": [
    {
     "data": {
      "text/plain": [
       "[0.8074247562664738,\n",
       " 0.8074238796632487,\n",
       " 0.8071942878864131,\n",
       " 0.8079727272039462,\n",
       " 0.8074459878053012,\n",
       " 0.8073759221618079,\n",
       " 0.8071367921070227,\n",
       " 0.8073548628128997,\n",
       " 0.8076396492856597,\n",
       " 0.8075297555920633,\n",
       " 0.8064598039591679,\n",
       " 0.8069119955585436,\n",
       " 0.8073610877393734,\n",
       " 0.8072892375821719,\n",
       " 0.8076572596183071]"
      ]
     },
     "execution_count": 21,
     "metadata": {},
     "output_type": "execute_result"
    }
   ],
   "source": [
    "scores"
   ]
  },
  {
   "cell_type": "code",
   "execution_count": 22,
   "metadata": {},
   "outputs": [
    {
     "data": {
      "text/plain": [
       "0.8073452003494933"
      ]
     },
     "execution_count": 22,
     "metadata": {},
     "output_type": "execute_result"
    }
   ],
   "source": [
    "import numpy as np\n",
    "np.mean(scores)"
   ]
  },
  {
   "cell_type": "code",
   "execution_count": null,
   "metadata": {},
   "outputs": [],
   "source": []
  }
 ],
 "metadata": {
  "kernelspec": {
   "display_name": "Python 3 (ipykernel)",
   "language": "python",
   "name": "python3"
  },
  "language_info": {
   "codemirror_mode": {
    "name": "ipython",
    "version": 3
   },
   "file_extension": ".py",
   "mimetype": "text/x-python",
   "name": "python",
   "nbconvert_exporter": "python",
   "pygments_lexer": "ipython3",
   "version": "3.8.10"
  }
 },
 "nbformat": 4,
 "nbformat_minor": 4
}
