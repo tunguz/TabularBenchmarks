{
 "cells": [
  {
   "cell_type": "code",
   "execution_count": 1,
   "metadata": {},
   "outputs": [],
   "source": [
    "%load_ext watermark"
   ]
  },
  {
   "cell_type": "code",
   "execution_count": 2,
   "metadata": {},
   "outputs": [
    {
     "name": "stdout",
     "output_type": "stream",
     "text": [
      "Last updated: 2022-11-22T18:35:24.842725-05:00\n",
      "\n",
      "Python implementation: CPython\n",
      "Python version       : 3.7.11\n",
      "IPython version      : 7.10.1\n",
      "\n",
      "Compiler    : GCC 7.5.0\n",
      "OS          : Linux\n",
      "Release     : 4.15.0-161-generic\n",
      "Machine     : x86_64\n",
      "Processor   : x86_64\n",
      "CPU cores   : 40\n",
      "Architecture: 64bit\n",
      "\n"
     ]
    }
   ],
   "source": [
    "%watermark"
   ]
  },
  {
   "cell_type": "code",
   "execution_count": 3,
   "metadata": {},
   "outputs": [],
   "source": [
    "import numpy as np\n",
    "import pandas as pd"
   ]
  },
  {
   "cell_type": "code",
   "execution_count": 4,
   "metadata": {},
   "outputs": [
    {
     "name": "stdout",
     "output_type": "stream",
     "text": [
      "pandas: 1.3.5\n",
      "numpy : 1.19.2\n",
      "\n"
     ]
    }
   ],
   "source": [
    "%watermark --iversions"
   ]
  },
  {
   "cell_type": "code",
   "execution_count": 5,
   "metadata": {},
   "outputs": [],
   "source": [
    "X_num_train = np.load('../input/higgs_small_roc/X_num_train.npy')\n",
    "X_num_val = np.load('../input/higgs_small_roc/X_num_val.npy')\n",
    "X_num_test = np.load('../input/higgs_small_roc/X_num_test.npy')\n",
    "\n",
    "y_train = np.load('../input/higgs_small_roc/y_train.npy')\n",
    "y_val = np.load('../input/higgs_small_roc/y_val.npy')\n",
    "y_test = np.load('../input/higgs_small_roc/y_test.npy')"
   ]
  },
  {
   "cell_type": "code",
   "execution_count": 6,
   "metadata": {},
   "outputs": [
    {
     "data": {
      "text/plain": [
       "(62751, 28)"
      ]
     },
     "execution_count": 6,
     "metadata": {},
     "output_type": "execute_result"
    }
   ],
   "source": [
    "X_num_train.shape"
   ]
  },
  {
   "cell_type": "code",
   "execution_count": 7,
   "metadata": {},
   "outputs": [
    {
     "data": {
      "text/plain": [
       "1757028"
      ]
     },
     "execution_count": 7,
     "metadata": {},
     "output_type": "execute_result"
    }
   ],
   "source": [
    "X_num_train.size"
   ]
  },
  {
   "cell_type": "code",
   "execution_count": 8,
   "metadata": {},
   "outputs": [
    {
     "data": {
      "text/plain": [
       "array([ 191089,  429829,  836125, ..., 1347092,   57740, 1029336])"
      ]
     },
     "execution_count": 8,
     "metadata": {},
     "output_type": "execute_result"
    }
   ],
   "source": [
    "index_nan = np.random.choice(X_num_train.size, X_num_train.shape[0]*3, replace=False)\n",
    "index_nan"
   ]
  },
  {
   "cell_type": "code",
   "execution_count": 9,
   "metadata": {},
   "outputs": [],
   "source": [
    "trains = []\n",
    "for i in range(25):\n",
    "    trains.append(X_num_train)"
   ]
  },
  {
   "cell_type": "code",
   "execution_count": 10,
   "metadata": {},
   "outputs": [],
   "source": [
    "X_num_train_25 = np.vstack(trains)"
   ]
  },
  {
   "cell_type": "code",
   "execution_count": 11,
   "metadata": {},
   "outputs": [
    {
     "data": {
      "text/plain": [
       "(1568775, 28)"
      ]
     },
     "execution_count": 11,
     "metadata": {},
     "output_type": "execute_result"
    }
   ],
   "source": [
    "X_num_train_25.shape"
   ]
  },
  {
   "cell_type": "code",
   "execution_count": 12,
   "metadata": {},
   "outputs": [
    {
     "data": {
      "text/plain": [
       "array([23773715, 17854431, 34655554, ..., 38320321,  4377295,  2514287])"
      ]
     },
     "execution_count": 12,
     "metadata": {},
     "output_type": "execute_result"
    }
   ],
   "source": [
    "index_nan = np.random.choice(X_num_train_25.size, X_num_train_25.shape[0]*3, replace=False)\n",
    "index_nan"
   ]
  },
  {
   "cell_type": "code",
   "execution_count": 13,
   "metadata": {},
   "outputs": [],
   "source": [
    "X_num_train_25.ravel()[index_nan] = np.nan"
   ]
  },
  {
   "cell_type": "code",
   "execution_count": 14,
   "metadata": {},
   "outputs": [
    {
     "data": {
      "text/plain": [
       "array([ 0.7267291 ,         nan, -0.8125607 ,  0.80474496,  1.0561434 ,\n",
       "        0.82492304, -0.7922094 , -1.4801266 ,  2.1730762 ,  0.5755049 ,\n",
       "       -0.03588055,         nan,         nan,  0.7528887 , -1.0830232 ,\n",
       "        0.59291756,  0.        ,  1.1092063 , -1.6869278 ,  0.2595374 ,\n",
       "        0.        ,  0.5264462 ,  1.1162164 ,  1.0526779 ,  0.78055453,\n",
       "        0.9455386 ,  0.79644614,  0.70450157], dtype=float32)"
      ]
     },
     "execution_count": 14,
     "metadata": {},
     "output_type": "execute_result"
    }
   ],
   "source": [
    "X_num_train_25[8]"
   ]
  },
  {
   "cell_type": "code",
   "execution_count": 15,
   "metadata": {},
   "outputs": [],
   "source": [
    "columns = [f'Col{i}' for i in range(28)]"
   ]
  },
  {
   "cell_type": "code",
   "execution_count": 16,
   "metadata": {},
   "outputs": [],
   "source": [
    "X_num_train_25 = pd.DataFrame(X_num_train_25, columns=columns)\n",
    "X_num_test = pd.DataFrame(X_num_test, columns=columns)\n",
    "X_num_val = pd.DataFrame(X_num_val, columns=columns)"
   ]
  },
  {
   "cell_type": "code",
   "execution_count": 17,
   "metadata": {},
   "outputs": [],
   "source": [
    "y_train_25 = []\n",
    "for i in range(25):\n",
    "    y_train_25.append(y_train)"
   ]
  },
  {
   "cell_type": "code",
   "execution_count": 18,
   "metadata": {},
   "outputs": [],
   "source": [
    "y_train_25 = np.hstack(y_train_25)"
   ]
  },
  {
   "cell_type": "code",
   "execution_count": 19,
   "metadata": {},
   "outputs": [
    {
     "data": {
      "text/html": [
       "<div>\n",
       "<style scoped>\n",
       "    .dataframe tbody tr th:only-of-type {\n",
       "        vertical-align: middle;\n",
       "    }\n",
       "\n",
       "    .dataframe tbody tr th {\n",
       "        vertical-align: top;\n",
       "    }\n",
       "\n",
       "    .dataframe thead th {\n",
       "        text-align: right;\n",
       "    }\n",
       "</style>\n",
       "<table border=\"1\" class=\"dataframe\">\n",
       "  <thead>\n",
       "    <tr style=\"text-align: right;\">\n",
       "      <th></th>\n",
       "      <th>Col0</th>\n",
       "      <th>Col1</th>\n",
       "      <th>Col2</th>\n",
       "      <th>Col3</th>\n",
       "      <th>Col4</th>\n",
       "      <th>Col5</th>\n",
       "      <th>Col6</th>\n",
       "      <th>Col7</th>\n",
       "      <th>Col8</th>\n",
       "      <th>Col9</th>\n",
       "      <th>...</th>\n",
       "      <th>Col18</th>\n",
       "      <th>Col19</th>\n",
       "      <th>Col20</th>\n",
       "      <th>Col21</th>\n",
       "      <th>Col22</th>\n",
       "      <th>Col23</th>\n",
       "      <th>Col24</th>\n",
       "      <th>Col25</th>\n",
       "      <th>Col26</th>\n",
       "      <th>Col27</th>\n",
       "    </tr>\n",
       "  </thead>\n",
       "  <tbody>\n",
       "    <tr>\n",
       "      <th>0</th>\n",
       "      <td>2.118879</td>\n",
       "      <td>-0.047779</td>\n",
       "      <td>0.422666</td>\n",
       "      <td>0.887075</td>\n",
       "      <td>1.190011</td>\n",
       "      <td>1.125486</td>\n",
       "      <td>0.433695</td>\n",
       "      <td>-1.338761</td>\n",
       "      <td>NaN</td>\n",
       "      <td>0.439529</td>\n",
       "      <td>...</td>\n",
       "      <td>NaN</td>\n",
       "      <td>-1.553466</td>\n",
       "      <td>0.000000</td>\n",
       "      <td>0.742982</td>\n",
       "      <td>0.823960</td>\n",
       "      <td>1.211727</td>\n",
       "      <td>0.916147</td>\n",
       "      <td>0.578919</td>\n",
       "      <td>0.654138</td>\n",
       "      <td>0.825789</td>\n",
       "    </tr>\n",
       "    <tr>\n",
       "      <th>1</th>\n",
       "      <td>0.597891</td>\n",
       "      <td>1.086895</td>\n",
       "      <td>0.923151</td>\n",
       "      <td>0.226966</td>\n",
       "      <td>0.371219</td>\n",
       "      <td>0.797166</td>\n",
       "      <td>0.150490</td>\n",
       "      <td>-0.124122</td>\n",
       "      <td>NaN</td>\n",
       "      <td>1.316699</td>\n",
       "      <td>...</td>\n",
       "      <td>0.799050</td>\n",
       "      <td>-1.554576</td>\n",
       "      <td>0.000000</td>\n",
       "      <td>0.847783</td>\n",
       "      <td>NaN</td>\n",
       "      <td>NaN</td>\n",
       "      <td>1.056745</td>\n",
       "      <td>1.567410</td>\n",
       "      <td>0.940275</td>\n",
       "      <td>0.807826</td>\n",
       "    </tr>\n",
       "    <tr>\n",
       "      <th>2</th>\n",
       "      <td>0.745762</td>\n",
       "      <td>-1.198036</td>\n",
       "      <td>-0.740429</td>\n",
       "      <td>1.239304</td>\n",
       "      <td>0.256762</td>\n",
       "      <td>0.490740</td>\n",
       "      <td>-0.103009</td>\n",
       "      <td>1.449852</td>\n",
       "      <td>2.173076</td>\n",
       "      <td>0.923754</td>\n",
       "      <td>...</td>\n",
       "      <td>1.765957</td>\n",
       "      <td>-1.242160</td>\n",
       "      <td>NaN</td>\n",
       "      <td>0.803592</td>\n",
       "      <td>NaN</td>\n",
       "      <td>1.042696</td>\n",
       "      <td>0.962325</td>\n",
       "      <td>0.753004</td>\n",
       "      <td>0.781717</td>\n",
       "      <td>0.711513</td>\n",
       "    </tr>\n",
       "    <tr>\n",
       "      <th>3</th>\n",
       "      <td>0.754730</td>\n",
       "      <td>1.291428</td>\n",
       "      <td>NaN</td>\n",
       "      <td>0.850122</td>\n",
       "      <td>0.253473</td>\n",
       "      <td>0.934852</td>\n",
       "      <td>-0.733786</td>\n",
       "      <td>1.407166</td>\n",
       "      <td>2.173076</td>\n",
       "      <td>0.883717</td>\n",
       "      <td>...</td>\n",
       "      <td>NaN</td>\n",
       "      <td>-0.825421</td>\n",
       "      <td>0.000000</td>\n",
       "      <td>2.054786</td>\n",
       "      <td>1.577448</td>\n",
       "      <td>0.999547</td>\n",
       "      <td>2.386760</td>\n",
       "      <td>1.455588</td>\n",
       "      <td>1.757753</td>\n",
       "      <td>1.538811</td>\n",
       "    </tr>\n",
       "    <tr>\n",
       "      <th>4</th>\n",
       "      <td>1.336332</td>\n",
       "      <td>-0.407173</td>\n",
       "      <td>1.026355</td>\n",
       "      <td>2.019245</td>\n",
       "      <td>0.558858</td>\n",
       "      <td>1.559704</td>\n",
       "      <td>-0.726854</td>\n",
       "      <td>-1.027756</td>\n",
       "      <td>0.000000</td>\n",
       "      <td>0.810315</td>\n",
       "      <td>...</td>\n",
       "      <td>0.766570</td>\n",
       "      <td>1.100229</td>\n",
       "      <td>3.101961</td>\n",
       "      <td>0.922455</td>\n",
       "      <td>0.879696</td>\n",
       "      <td>0.983609</td>\n",
       "      <td>0.971203</td>\n",
       "      <td>1.022390</td>\n",
       "      <td>1.006686</td>\n",
       "      <td>1.130976</td>\n",
       "    </tr>\n",
       "  </tbody>\n",
       "</table>\n",
       "<p>5 rows × 28 columns</p>\n",
       "</div>"
      ],
      "text/plain": [
       "       Col0      Col1      Col2      Col3      Col4      Col5      Col6  \\\n",
       "0  2.118879 -0.047779  0.422666  0.887075  1.190011  1.125486  0.433695   \n",
       "1  0.597891  1.086895  0.923151  0.226966  0.371219  0.797166  0.150490   \n",
       "2  0.745762 -1.198036 -0.740429  1.239304  0.256762  0.490740 -0.103009   \n",
       "3  0.754730  1.291428       NaN  0.850122  0.253473  0.934852 -0.733786   \n",
       "4  1.336332 -0.407173  1.026355  2.019245  0.558858  1.559704 -0.726854   \n",
       "\n",
       "       Col7      Col8      Col9  ...     Col18     Col19     Col20     Col21  \\\n",
       "0 -1.338761       NaN  0.439529  ...       NaN -1.553466  0.000000  0.742982   \n",
       "1 -0.124122       NaN  1.316699  ...  0.799050 -1.554576  0.000000  0.847783   \n",
       "2  1.449852  2.173076  0.923754  ...  1.765957 -1.242160       NaN  0.803592   \n",
       "3  1.407166  2.173076  0.883717  ...       NaN -0.825421  0.000000  2.054786   \n",
       "4 -1.027756  0.000000  0.810315  ...  0.766570  1.100229  3.101961  0.922455   \n",
       "\n",
       "      Col22     Col23     Col24     Col25     Col26     Col27  \n",
       "0  0.823960  1.211727  0.916147  0.578919  0.654138  0.825789  \n",
       "1       NaN       NaN  1.056745  1.567410  0.940275  0.807826  \n",
       "2       NaN  1.042696  0.962325  0.753004  0.781717  0.711513  \n",
       "3  1.577448  0.999547  2.386760  1.455588  1.757753  1.538811  \n",
       "4  0.879696  0.983609  0.971203  1.022390  1.006686  1.130976  \n",
       "\n",
       "[5 rows x 28 columns]"
      ]
     },
     "execution_count": 19,
     "metadata": {},
     "output_type": "execute_result"
    }
   ],
   "source": [
    "X_num_train_25.head()"
   ]
  },
  {
   "cell_type": "code",
   "execution_count": 20,
   "metadata": {},
   "outputs": [],
   "source": [
    "X_num_train_25['target'] = y_train_25\n",
    "X_num_test['target'] = y_test\n",
    "X_num_val['target'] = y_val"
   ]
  },
  {
   "cell_type": "code",
   "execution_count": 21,
   "metadata": {},
   "outputs": [
    {
     "data": {
      "text/html": [
       "<div>\n",
       "<style scoped>\n",
       "    .dataframe tbody tr th:only-of-type {\n",
       "        vertical-align: middle;\n",
       "    }\n",
       "\n",
       "    .dataframe tbody tr th {\n",
       "        vertical-align: top;\n",
       "    }\n",
       "\n",
       "    .dataframe thead th {\n",
       "        text-align: right;\n",
       "    }\n",
       "</style>\n",
       "<table border=\"1\" class=\"dataframe\">\n",
       "  <thead>\n",
       "    <tr style=\"text-align: right;\">\n",
       "      <th></th>\n",
       "      <th>Col0</th>\n",
       "      <th>Col1</th>\n",
       "      <th>Col2</th>\n",
       "      <th>Col3</th>\n",
       "      <th>Col4</th>\n",
       "      <th>Col5</th>\n",
       "      <th>Col6</th>\n",
       "      <th>Col7</th>\n",
       "      <th>Col8</th>\n",
       "      <th>Col9</th>\n",
       "      <th>...</th>\n",
       "      <th>Col19</th>\n",
       "      <th>Col20</th>\n",
       "      <th>Col21</th>\n",
       "      <th>Col22</th>\n",
       "      <th>Col23</th>\n",
       "      <th>Col24</th>\n",
       "      <th>Col25</th>\n",
       "      <th>Col26</th>\n",
       "      <th>Col27</th>\n",
       "      <th>target</th>\n",
       "    </tr>\n",
       "  </thead>\n",
       "  <tbody>\n",
       "    <tr>\n",
       "      <th>0</th>\n",
       "      <td>0.578492</td>\n",
       "      <td>NaN</td>\n",
       "      <td>0.169649</td>\n",
       "      <td>1.137164</td>\n",
       "      <td>1.346456</td>\n",
       "      <td>0.706383</td>\n",
       "      <td>-0.781317</td>\n",
       "      <td>-0.997266</td>\n",
       "      <td>2.173076</td>\n",
       "      <td>0.711103</td>\n",
       "      <td>...</td>\n",
       "      <td>1.602425</td>\n",
       "      <td>0.000000</td>\n",
       "      <td>NaN</td>\n",
       "      <td>0.823432</td>\n",
       "      <td>0.987815</td>\n",
       "      <td>0.740955</td>\n",
       "      <td>1.060955</td>\n",
       "      <td>0.863233</td>\n",
       "      <td>NaN</td>\n",
       "      <td>0</td>\n",
       "    </tr>\n",
       "    <tr>\n",
       "      <th>1</th>\n",
       "      <td>1.308881</td>\n",
       "      <td>NaN</td>\n",
       "      <td>0.660702</td>\n",
       "      <td>0.216433</td>\n",
       "      <td>0.221429</td>\n",
       "      <td>1.664503</td>\n",
       "      <td>0.351506</td>\n",
       "      <td>-1.518379</td>\n",
       "      <td>0.000000</td>\n",
       "      <td>NaN</td>\n",
       "      <td>...</td>\n",
       "      <td>-0.560173</td>\n",
       "      <td>3.101961</td>\n",
       "      <td>0.865910</td>\n",
       "      <td>0.998969</td>\n",
       "      <td>0.996867</td>\n",
       "      <td>0.713393</td>\n",
       "      <td>1.303954</td>\n",
       "      <td>1.285414</td>\n",
       "      <td>1.088218</td>\n",
       "      <td>0</td>\n",
       "    </tr>\n",
       "    <tr>\n",
       "      <th>2</th>\n",
       "      <td>2.324764</td>\n",
       "      <td>0.562900</td>\n",
       "      <td>-1.455645</td>\n",
       "      <td>0.457724</td>\n",
       "      <td>0.035080</td>\n",
       "      <td>2.124005</td>\n",
       "      <td>NaN</td>\n",
       "      <td>NaN</td>\n",
       "      <td>2.173076</td>\n",
       "      <td>NaN</td>\n",
       "      <td>...</td>\n",
       "      <td>-0.012472</td>\n",
       "      <td>NaN</td>\n",
       "      <td>1.150136</td>\n",
       "      <td>0.943345</td>\n",
       "      <td>1.392562</td>\n",
       "      <td>2.057497</td>\n",
       "      <td>1.632758</td>\n",
       "      <td>1.432589</td>\n",
       "      <td>1.304788</td>\n",
       "      <td>1</td>\n",
       "    </tr>\n",
       "    <tr>\n",
       "      <th>3</th>\n",
       "      <td>0.362175</td>\n",
       "      <td>NaN</td>\n",
       "      <td>1.071854</td>\n",
       "      <td>2.654360</td>\n",
       "      <td>0.479483</td>\n",
       "      <td>1.424859</td>\n",
       "      <td>-0.866477</td>\n",
       "      <td>-1.276671</td>\n",
       "      <td>2.173076</td>\n",
       "      <td>0.730996</td>\n",
       "      <td>...</td>\n",
       "      <td>0.796692</td>\n",
       "      <td>0.000000</td>\n",
       "      <td>1.049395</td>\n",
       "      <td>0.851536</td>\n",
       "      <td>0.978458</td>\n",
       "      <td>NaN</td>\n",
       "      <td>0.717230</td>\n",
       "      <td>1.656526</td>\n",
       "      <td>1.411692</td>\n",
       "      <td>1</td>\n",
       "    </tr>\n",
       "    <tr>\n",
       "      <th>4</th>\n",
       "      <td>0.808168</td>\n",
       "      <td>1.560244</td>\n",
       "      <td>-1.694235</td>\n",
       "      <td>0.832291</td>\n",
       "      <td>0.317696</td>\n",
       "      <td>0.973968</td>\n",
       "      <td>0.834738</td>\n",
       "      <td>0.083317</td>\n",
       "      <td>2.173076</td>\n",
       "      <td>1.203637</td>\n",
       "      <td>...</td>\n",
       "      <td>NaN</td>\n",
       "      <td>0.000000</td>\n",
       "      <td>0.421167</td>\n",
       "      <td>0.789350</td>\n",
       "      <td>NaN</td>\n",
       "      <td>1.880767</td>\n",
       "      <td>2.320791</td>\n",
       "      <td>1.477240</td>\n",
       "      <td>1.112820</td>\n",
       "      <td>0</td>\n",
       "    </tr>\n",
       "  </tbody>\n",
       "</table>\n",
       "<p>5 rows × 29 columns</p>\n",
       "</div>"
      ],
      "text/plain": [
       "       Col0      Col1      Col2      Col3      Col4      Col5      Col6  \\\n",
       "0  0.578492       NaN  0.169649  1.137164  1.346456  0.706383 -0.781317   \n",
       "1  1.308881       NaN  0.660702  0.216433  0.221429  1.664503  0.351506   \n",
       "2  2.324764  0.562900 -1.455645  0.457724  0.035080  2.124005       NaN   \n",
       "3  0.362175       NaN  1.071854  2.654360  0.479483  1.424859 -0.866477   \n",
       "4  0.808168  1.560244 -1.694235  0.832291  0.317696  0.973968  0.834738   \n",
       "\n",
       "       Col7      Col8      Col9  ...     Col19     Col20     Col21     Col22  \\\n",
       "0 -0.997266  2.173076  0.711103  ...  1.602425  0.000000       NaN  0.823432   \n",
       "1 -1.518379  0.000000       NaN  ... -0.560173  3.101961  0.865910  0.998969   \n",
       "2       NaN  2.173076       NaN  ... -0.012472       NaN  1.150136  0.943345   \n",
       "3 -1.276671  2.173076  0.730996  ...  0.796692  0.000000  1.049395  0.851536   \n",
       "4  0.083317  2.173076  1.203637  ...       NaN  0.000000  0.421167  0.789350   \n",
       "\n",
       "      Col23     Col24     Col25     Col26     Col27  target  \n",
       "0  0.987815  0.740955  1.060955  0.863233       NaN       0  \n",
       "1  0.996867  0.713393  1.303954  1.285414  1.088218       0  \n",
       "2  1.392562  2.057497  1.632758  1.432589  1.304788       1  \n",
       "3  0.978458       NaN  0.717230  1.656526  1.411692       1  \n",
       "4       NaN  1.880767  2.320791  1.477240  1.112820       0  \n",
       "\n",
       "[5 rows x 29 columns]"
      ]
     },
     "execution_count": 21,
     "metadata": {},
     "output_type": "execute_result"
    }
   ],
   "source": [
    "X_num_train_25 = X_num_train_25.sample(frac=1).reset_index(drop=True)\n",
    "X_num_train_25.head()"
   ]
  },
  {
   "cell_type": "code",
   "execution_count": 22,
   "metadata": {},
   "outputs": [
    {
     "data": {
      "text/html": [
       "<div>\n",
       "<style scoped>\n",
       "    .dataframe tbody tr th:only-of-type {\n",
       "        vertical-align: middle;\n",
       "    }\n",
       "\n",
       "    .dataframe tbody tr th {\n",
       "        vertical-align: top;\n",
       "    }\n",
       "\n",
       "    .dataframe thead th {\n",
       "        text-align: right;\n",
       "    }\n",
       "</style>\n",
       "<table border=\"1\" class=\"dataframe\">\n",
       "  <thead>\n",
       "    <tr style=\"text-align: right;\">\n",
       "      <th></th>\n",
       "      <th>Col0</th>\n",
       "      <th>Col1</th>\n",
       "      <th>Col2</th>\n",
       "      <th>Col3</th>\n",
       "      <th>Col4</th>\n",
       "      <th>Col5</th>\n",
       "      <th>Col6</th>\n",
       "      <th>Col7</th>\n",
       "      <th>Col8</th>\n",
       "      <th>Col9</th>\n",
       "      <th>...</th>\n",
       "      <th>Col19</th>\n",
       "      <th>Col20</th>\n",
       "      <th>Col21</th>\n",
       "      <th>Col22</th>\n",
       "      <th>Col23</th>\n",
       "      <th>Col24</th>\n",
       "      <th>Col25</th>\n",
       "      <th>Col26</th>\n",
       "      <th>Col27</th>\n",
       "      <th>target</th>\n",
       "    </tr>\n",
       "  </thead>\n",
       "  <tbody>\n",
       "    <tr>\n",
       "      <th>0</th>\n",
       "      <td>0.392188</td>\n",
       "      <td>-0.476325</td>\n",
       "      <td>-0.419161</td>\n",
       "      <td>1.380128</td>\n",
       "      <td>0.104439</td>\n",
       "      <td>0.248897</td>\n",
       "      <td>-0.345616</td>\n",
       "      <td>1.281877</td>\n",
       "      <td>2.173076</td>\n",
       "      <td>1.020826</td>\n",
       "      <td>...</td>\n",
       "      <td>-1.577327</td>\n",
       "      <td>0.0</td>\n",
       "      <td>0.577486</td>\n",
       "      <td>1.203902</td>\n",
       "      <td>0.993673</td>\n",
       "      <td>0.785857</td>\n",
       "      <td>0.627040</td>\n",
       "      <td>0.917488</td>\n",
       "      <td>0.820388</td>\n",
       "      <td>1</td>\n",
       "    </tr>\n",
       "    <tr>\n",
       "      <th>1</th>\n",
       "      <td>0.435928</td>\n",
       "      <td>NaN</td>\n",
       "      <td>0.800527</td>\n",
       "      <td>1.151687</td>\n",
       "      <td>NaN</td>\n",
       "      <td>1.162679</td>\n",
       "      <td>NaN</td>\n",
       "      <td>-1.483453</td>\n",
       "      <td>2.173076</td>\n",
       "      <td>1.382546</td>\n",
       "      <td>...</td>\n",
       "      <td>-0.778254</td>\n",
       "      <td>0.0</td>\n",
       "      <td>0.743372</td>\n",
       "      <td>1.156230</td>\n",
       "      <td>NaN</td>\n",
       "      <td>1.073451</td>\n",
       "      <td>0.959847</td>\n",
       "      <td>1.777208</td>\n",
       "      <td>1.359101</td>\n",
       "      <td>1</td>\n",
       "    </tr>\n",
       "    <tr>\n",
       "      <th>2</th>\n",
       "      <td>1.996812</td>\n",
       "      <td>1.271949</td>\n",
       "      <td>-0.009674</td>\n",
       "      <td>1.744268</td>\n",
       "      <td>NaN</td>\n",
       "      <td>0.861108</td>\n",
       "      <td>1.469476</td>\n",
       "      <td>-1.484562</td>\n",
       "      <td>1.086538</td>\n",
       "      <td>0.492912</td>\n",
       "      <td>...</td>\n",
       "      <td>1.324414</td>\n",
       "      <td>0.0</td>\n",
       "      <td>0.483322</td>\n",
       "      <td>0.498010</td>\n",
       "      <td>1.068540</td>\n",
       "      <td>1.111729</td>\n",
       "      <td>0.883074</td>\n",
       "      <td>1.041028</td>\n",
       "      <td>0.844712</td>\n",
       "      <td>1</td>\n",
       "    </tr>\n",
       "    <tr>\n",
       "      <th>3</th>\n",
       "      <td>1.622742</td>\n",
       "      <td>-1.190244</td>\n",
       "      <td>-0.927417</td>\n",
       "      <td>2.146134</td>\n",
       "      <td>NaN</td>\n",
       "      <td>1.187504</td>\n",
       "      <td>0.504992</td>\n",
       "      <td>0.969209</td>\n",
       "      <td>1.086538</td>\n",
       "      <td>NaN</td>\n",
       "      <td>...</td>\n",
       "      <td>0.155214</td>\n",
       "      <td>0.0</td>\n",
       "      <td>0.898371</td>\n",
       "      <td>1.250772</td>\n",
       "      <td>1.081083</td>\n",
       "      <td>1.499588</td>\n",
       "      <td>0.632972</td>\n",
       "      <td>1.631003</td>\n",
       "      <td>1.570494</td>\n",
       "      <td>0</td>\n",
       "    </tr>\n",
       "    <tr>\n",
       "      <th>4</th>\n",
       "      <td>0.556897</td>\n",
       "      <td>0.877492</td>\n",
       "      <td>1.206685</td>\n",
       "      <td>0.523024</td>\n",
       "      <td>-1.085213</td>\n",
       "      <td>2.270210</td>\n",
       "      <td>-1.047689</td>\n",
       "      <td>1.393860</td>\n",
       "      <td>0.000000</td>\n",
       "      <td>2.880043</td>\n",
       "      <td>...</td>\n",
       "      <td>-1.546252</td>\n",
       "      <td>0.0</td>\n",
       "      <td>1.484622</td>\n",
       "      <td>1.526148</td>\n",
       "      <td>0.990836</td>\n",
       "      <td>2.552061</td>\n",
       "      <td>0.808916</td>\n",
       "      <td>1.739306</td>\n",
       "      <td>1.975971</td>\n",
       "      <td>1</td>\n",
       "    </tr>\n",
       "  </tbody>\n",
       "</table>\n",
       "<p>5 rows × 29 columns</p>\n",
       "</div>"
      ],
      "text/plain": [
       "       Col0      Col1      Col2      Col3      Col4      Col5      Col6  \\\n",
       "0  0.392188 -0.476325 -0.419161  1.380128  0.104439  0.248897 -0.345616   \n",
       "1  0.435928       NaN  0.800527  1.151687       NaN  1.162679       NaN   \n",
       "2  1.996812  1.271949 -0.009674  1.744268       NaN  0.861108  1.469476   \n",
       "3  1.622742 -1.190244 -0.927417  2.146134       NaN  1.187504  0.504992   \n",
       "4  0.556897  0.877492  1.206685  0.523024 -1.085213  2.270210 -1.047689   \n",
       "\n",
       "       Col7      Col8      Col9  ...     Col19  Col20     Col21     Col22  \\\n",
       "0  1.281877  2.173076  1.020826  ... -1.577327    0.0  0.577486  1.203902   \n",
       "1 -1.483453  2.173076  1.382546  ... -0.778254    0.0  0.743372  1.156230   \n",
       "2 -1.484562  1.086538  0.492912  ...  1.324414    0.0  0.483322  0.498010   \n",
       "3  0.969209  1.086538       NaN  ...  0.155214    0.0  0.898371  1.250772   \n",
       "4  1.393860  0.000000  2.880043  ... -1.546252    0.0  1.484622  1.526148   \n",
       "\n",
       "      Col23     Col24     Col25     Col26     Col27  target  \n",
       "0  0.993673  0.785857  0.627040  0.917488  0.820388       1  \n",
       "1       NaN  1.073451  0.959847  1.777208  1.359101       1  \n",
       "2  1.068540  1.111729  0.883074  1.041028  0.844712       1  \n",
       "3  1.081083  1.499588  0.632972  1.631003  1.570494       0  \n",
       "4  0.990836  2.552061  0.808916  1.739306  1.975971       1  \n",
       "\n",
       "[5 rows x 29 columns]"
      ]
     },
     "execution_count": 22,
     "metadata": {},
     "output_type": "execute_result"
    }
   ],
   "source": [
    "X_num_train_25 = X_num_train_25.sample(frac=1).reset_index(drop=True)\n",
    "X_num_train_25.head()"
   ]
  },
  {
   "cell_type": "code",
   "execution_count": 33,
   "metadata": {},
   "outputs": [],
   "source": []
  },
  {
   "cell_type": "code",
   "execution_count": 23,
   "metadata": {},
   "outputs": [],
   "source": [
    "X_num_train_25.to_csv('../input/higgs_small_roc/xgtrain_25_3.csv', index=False)\n",
    "X_num_val.to_csv('../input/higgs_small_roc/xgval.csv', index=False)\n",
    "X_num_test.to_csv('../input/higgs_small_roc/xgtest.csv', index=False)"
   ]
  },
  {
   "cell_type": "code",
   "execution_count": null,
   "metadata": {},
   "outputs": [],
   "source": []
  }
 ],
 "metadata": {
  "kernelspec": {
   "display_name": "Python 3",
   "language": "python",
   "name": "python3"
  },
  "language_info": {
   "codemirror_mode": {
    "name": "ipython",
    "version": 3
   },
   "file_extension": ".py",
   "mimetype": "text/x-python",
   "name": "python",
   "nbconvert_exporter": "python",
   "pygments_lexer": "ipython3",
   "version": "3.7.11"
  }
 },
 "nbformat": 4,
 "nbformat_minor": 4
}
