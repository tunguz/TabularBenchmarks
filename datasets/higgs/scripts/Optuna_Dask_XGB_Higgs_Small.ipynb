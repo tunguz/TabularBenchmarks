{
 "cells": [
  {
   "cell_type": "code",
   "execution_count": 1,
   "metadata": {},
   "outputs": [],
   "source": [
    "import os\n",
    "#os.environ[\"CUDA_DEVICE_ORDER\"]=\"PCI_BUS_ID\"\n",
    "#os.environ[\"CUDA_VISIBLE_DEVICES\"]=\"0, 1, 2, 4\""
   ]
  },
  {
   "cell_type": "code",
   "execution_count": 2,
   "metadata": {},
   "outputs": [
    {
     "data": {
      "text/plain": [
       "'1.6.2'"
      ]
     },
     "execution_count": 2,
     "metadata": {},
     "output_type": "execute_result"
    }
   ],
   "source": [
    "from dask.distributed import Client\n",
    "from dask_cuda import LocalCUDACluster\n",
    "from dask import dataframe as dd\n",
    "import pandas as pd\n",
    "import xgboost as xgb\n",
    "from sklearn.model_selection import KFold, train_test_split\n",
    "from sklearn.metrics import roc_auc_score\n",
    "import optuna\n",
    "import gc\n",
    "xgb.__version__"
   ]
  },
  {
   "cell_type": "code",
   "execution_count": 3,
   "metadata": {},
   "outputs": [
    {
     "name": "stdout",
     "output_type": "stream",
     "text": [
      "Tue Nov 22 09:38:17 2022       \n",
      "+-----------------------------------------------------------------------------+\n",
      "| NVIDIA-SMI 450.142.00   Driver Version: 450.142.00   CUDA Version: 11.0     |\n",
      "|-------------------------------+----------------------+----------------------+\n",
      "| GPU  Name        Persistence-M| Bus-Id        Disp.A | Volatile Uncorr. ECC |\n",
      "| Fan  Temp  Perf  Pwr:Usage/Cap|         Memory-Usage | GPU-Util  Compute M. |\n",
      "|                               |                      |               MIG M. |\n",
      "|===============================+======================+======================|\n",
      "|   0  Tesla V100-DGXS...  On   | 00000000:07:00.0  On |                    0 |\n",
      "| N/A   33C    P0    36W / 300W |    346MiB / 32499MiB |      0%      Default |\n",
      "|                               |                      |                  N/A |\n",
      "+-------------------------------+----------------------+----------------------+\n",
      "|   1  Tesla V100-DGXS...  On   | 00000000:08:00.0 Off |                    0 |\n",
      "| N/A   34C    P0    35W / 300W |      1MiB / 32508MiB |      0%      Default |\n",
      "|                               |                      |                  N/A |\n",
      "+-------------------------------+----------------------+----------------------+\n",
      "|   2  Tesla V100-DGXS...  On   | 00000000:0E:00.0 Off |                    0 |\n",
      "| N/A   36C    P0    35W / 300W |      1MiB / 32508MiB |      0%      Default |\n",
      "|                               |                      |                  N/A |\n",
      "+-------------------------------+----------------------+----------------------+\n",
      "|   3  Tesla V100-DGXS...  On   | 00000000:0F:00.0 Off |                    0 |\n",
      "| N/A   33C    P0    37W / 300W |      1MiB / 32508MiB |      0%      Default |\n",
      "|                               |                      |                  N/A |\n",
      "+-------------------------------+----------------------+----------------------+\n",
      "                                                                               \n",
      "+-----------------------------------------------------------------------------+\n",
      "| Processes:                                                                  |\n",
      "|  GPU   GI   CI        PID   Type   Process name                  GPU Memory |\n",
      "|        ID   ID                                                   Usage      |\n",
      "|=============================================================================|\n",
      "|    0   N/A  N/A      4182      G   /usr/lib/xorg/Xorg                126MiB |\n",
      "|    0   N/A  N/A      4663      G   /usr/bin/gnome-shell               80MiB |\n",
      "|    0   N/A  N/A      4710      G   ...mviewer/tv_bin/TeamViewer       21MiB |\n",
      "|    0   N/A  N/A     37701      G   ...AAAAAAAAA= --shared-files      113MiB |\n",
      "+-----------------------------------------------------------------------------+\n"
     ]
    }
   ],
   "source": [
    "!nvidia-smi"
   ]
  },
  {
   "cell_type": "code",
   "execution_count": 4,
   "metadata": {},
   "outputs": [
    {
     "name": "stdout",
     "output_type": "stream",
     "text": [
      "GPU 0: Tesla V100-DGXS-32GB (UUID: GPU-d752af09-1f62-bf3b-4f70-78b84e9e41f6)\n",
      "GPU 1: Tesla V100-DGXS-32GB (UUID: GPU-054a4a35-f98a-3ebc-9100-0f697c246b43)\n",
      "GPU 2: Tesla V100-DGXS-32GB (UUID: GPU-454525d4-bebd-7fb8-0ba3-3b85e2f99abd)\n",
      "GPU 3: Tesla V100-DGXS-32GB (UUID: GPU-af0fb74e-f5eb-0833-17ff-494cc6bdcee1)\n"
     ]
    }
   ],
   "source": [
    "!nvidia-smi -L"
   ]
  },
  {
   "cell_type": "code",
   "execution_count": 5,
   "metadata": {},
   "outputs": [],
   "source": [
    "train_x = dd.read_csv('../input/higgs_small_roc/xgtrain.csv')\n",
    "test_x = dd.read_csv('../input/higgs_small_roc/xgval.csv')"
   ]
  },
  {
   "cell_type": "code",
   "execution_count": 6,
   "metadata": {},
   "outputs": [],
   "source": [
    "train_y = train_x['target']\n",
    "train_x = train_x[train_x.columns.difference(['target'])]\n",
    "\n",
    "test_y = test_x['target']\n",
    "test_x = test_x[test_x.columns.difference(['target'])]"
   ]
  },
  {
   "cell_type": "code",
   "execution_count": 7,
   "metadata": {},
   "outputs": [],
   "source": [
    "cluster = LocalCUDACluster(n_workers=4)\n",
    "client = Client(cluster)"
   ]
  },
  {
   "cell_type": "code",
   "execution_count": 8,
   "metadata": {},
   "outputs": [],
   "source": [
    "dtrain = xgb.dask.DaskDMatrix(client, train_x, train_y)"
   ]
  },
  {
   "cell_type": "code",
   "execution_count": 9,
   "metadata": {},
   "outputs": [],
   "source": [
    "dtest = xgb.dask.DaskDMatrix(client, test_x, test_y)\n"
   ]
  },
  {
   "cell_type": "code",
   "execution_count": 10,
   "metadata": {},
   "outputs": [],
   "source": [
    "num_round = 1000"
   ]
  },
  {
   "cell_type": "code",
   "execution_count": 11,
   "metadata": {},
   "outputs": [],
   "source": [
    "def objective(trial):\n",
    "        \n",
    "    params = {\n",
    "        'objective': trial.suggest_categorical('objective',['binary:logistic']),\n",
    "        'tree_method': trial.suggest_categorical('tree_method',['gpu_hist']),  # 'gpu_hist','hist'\n",
    "        'lambda': trial.suggest_loguniform('lambda',1e-3,10.0),\n",
    "        'alpha': trial.suggest_loguniform('alpha',1e-3,10.0),\n",
    "        'colsample_bytree': trial.suggest_uniform('colsample_bytree', 0.3,1.0),\n",
    "        'subsample': trial.suggest_uniform('subsample', 0.4, 1.0),\n",
    "        'learning_rate': trial.suggest_loguniform('learning_rate', 0.001,0.1),\n",
    "        #'n_estimators': trial.suggest_categorical('n_estimators', [1000]),\n",
    "        'max_depth': trial.suggest_categorical('max_depth', [3,5,7,9,11,13,15,17,20]),\n",
    "        #'random_state': trial.suggest_categorical('random_state', [24,48,2020]),\n",
    "        'min_child_weight': trial.suggest_int('min_child_weight', 1,300),\n",
    "        'eval_metric': trial.suggest_categorical('eval_metric',['logloss']),\n",
    "\n",
    "    }\n",
    "\n",
    "    output = xgb.dask.train(client, params, dtrain, num_round)\n",
    "    \n",
    "    booster = output['booster']  # booster is the trained model\n",
    "    booster.set_param({'predictor': 'gpu_predictor'})\n",
    "\n",
    "    predictions = xgb.dask.predict(client, booster, dtest)\n",
    "    \n",
    "    predictions = predictions.compute()\n",
    "\n",
    "    roc = roc_auc_score(test_y, predictions)\n",
    "    \n",
    "    return roc"
   ]
  },
  {
   "cell_type": "code",
   "execution_count": 12,
   "metadata": {},
   "outputs": [
    {
     "name": "stderr",
     "output_type": "stream",
     "text": [
      "\u001b[32m[I 2022-11-22 09:42:05,228]\u001b[0m A new study created in memory with name: no-name-8c33ae5e-70e1-43d3-bc33-63e7ea590aff\u001b[0m\n"
     ]
    }
   ],
   "source": [
    "study = optuna.create_study(direction='maximize')"
   ]
  },
  {
   "cell_type": "code",
   "execution_count": 13,
   "metadata": {},
   "outputs": [
    {
     "name": "stderr",
     "output_type": "stream",
     "text": [
      "/home/tunguz/anaconda3/lib/python3.7/site-packages/xgboost/dask.py:884: RuntimeWarning: coroutine 'Client._wait_for_workers' was never awaited\n",
      "  client.wait_for_workers(n_workers)\n",
      "\u001b[32m[I 2022-11-22 09:42:28,445]\u001b[0m Trial 0 finished with value: 0.8072308335661811 and parameters: {'objective': 'binary:logistic', 'tree_method': 'gpu_hist', 'lambda': 0.001660145817172364, 'alpha': 0.011519684485366492, 'colsample_bytree': 0.6416004872801018, 'subsample': 0.9862816131324632, 'learning_rate': 0.009872848483584594, 'max_depth': 13, 'min_child_weight': 80, 'eval_metric': 'logloss'}. Best is trial 0 with value: 0.8072308335661811.\u001b[0m\n",
      "/home/tunguz/anaconda3/lib/python3.7/site-packages/xgboost/dask.py:884: RuntimeWarning: coroutine 'Client._wait_for_workers' was never awaited\n",
      "  client.wait_for_workers(n_workers)\n",
      "\u001b[32m[I 2022-11-22 09:42:32,016]\u001b[0m Trial 1 finished with value: 0.7965091168039882 and parameters: {'objective': 'binary:logistic', 'tree_method': 'gpu_hist', 'lambda': 0.004282644835748452, 'alpha': 0.5013109514116071, 'colsample_bytree': 0.5802516574192984, 'subsample': 0.4742092224699038, 'learning_rate': 0.022123803312360597, 'max_depth': 13, 'min_child_weight': 202, 'eval_metric': 'logloss'}. Best is trial 0 with value: 0.8072308335661811.\u001b[0m\n"
     ]
    },
    {
     "name": "stdout",
     "output_type": "stream",
     "text": [
      "CPU times: user 1.82 s, sys: 404 ms, total: 2.23 s\n",
      "Wall time: 15.7 s\n"
     ]
    }
   ],
   "source": [
    "%%time\n",
    "study.optimize(objective, n_trials=2)"
   ]
  },
  {
   "cell_type": "code",
   "execution_count": 14,
   "metadata": {},
   "outputs": [
    {
     "name": "stderr",
     "output_type": "stream",
     "text": [
      "/home/tunguz/anaconda3/lib/python3.7/site-packages/xgboost/dask.py:884: RuntimeWarning: coroutine 'Client._wait_for_workers' was never awaited\n",
      "  client.wait_for_workers(n_workers)\n",
      "\u001b[32m[I 2022-11-22 09:42:55,075]\u001b[0m Trial 2 finished with value: 0.7784224328113631 and parameters: {'objective': 'binary:logistic', 'tree_method': 'gpu_hist', 'lambda': 4.563797514468498, 'alpha': 0.4357393891330122, 'colsample_bytree': 0.4723867792668185, 'subsample': 0.6493434430452186, 'learning_rate': 0.0032128837300423475, 'max_depth': 15, 'min_child_weight': 248, 'eval_metric': 'logloss'}. Best is trial 0 with value: 0.8072308335661811.\u001b[0m\n",
      "/home/tunguz/anaconda3/lib/python3.7/site-packages/xgboost/dask.py:884: RuntimeWarning: coroutine 'Client._wait_for_workers' was never awaited\n",
      "  client.wait_for_workers(n_workers)\n",
      "\u001b[32m[I 2022-11-22 09:42:59,203]\u001b[0m Trial 3 finished with value: 0.784379054452975 and parameters: {'objective': 'binary:logistic', 'tree_method': 'gpu_hist', 'lambda': 9.24683868012415, 'alpha': 0.8041019416248201, 'colsample_bytree': 0.707091637576382, 'subsample': 0.7192513142188203, 'learning_rate': 0.003892843794936174, 'max_depth': 13, 'min_child_weight': 279, 'eval_metric': 'logloss'}. Best is trial 0 with value: 0.8072308335661811.\u001b[0m\n",
      "/home/tunguz/anaconda3/lib/python3.7/site-packages/xgboost/dask.py:884: RuntimeWarning: coroutine 'Client._wait_for_workers' was never awaited\n",
      "  client.wait_for_workers(n_workers)\n",
      "\u001b[32m[I 2022-11-22 09:43:04,763]\u001b[0m Trial 4 finished with value: 0.803473595719463 and parameters: {'objective': 'binary:logistic', 'tree_method': 'gpu_hist', 'lambda': 0.0027005265408760123, 'alpha': 0.0020829463032633042, 'colsample_bytree': 0.3338307330193291, 'subsample': 0.9429175916841418, 'learning_rate': 0.062196631758122706, 'max_depth': 11, 'min_child_weight': 119, 'eval_metric': 'logloss'}. Best is trial 0 with value: 0.8072308335661811.\u001b[0m\n",
      "/home/tunguz/anaconda3/lib/python3.7/site-packages/xgboost/dask.py:884: RuntimeWarning: coroutine 'Client._wait_for_workers' was never awaited\n",
      "  client.wait_for_workers(n_workers)\n",
      "\u001b[32m[I 2022-11-22 09:43:20,249]\u001b[0m Trial 5 finished with value: 0.8111707460023891 and parameters: {'objective': 'binary:logistic', 'tree_method': 'gpu_hist', 'lambda': 0.07197710569769429, 'alpha': 0.006050367723468575, 'colsample_bytree': 0.668566958962866, 'subsample': 0.942056898069, 'learning_rate': 0.02201178453563311, 'max_depth': 17, 'min_child_weight': 46, 'eval_metric': 'logloss'}. Best is trial 5 with value: 0.8111707460023891.\u001b[0m\n",
      "/home/tunguz/anaconda3/lib/python3.7/site-packages/xgboost/dask.py:884: RuntimeWarning: coroutine 'Client._wait_for_workers' was never awaited\n",
      "  client.wait_for_workers(n_workers)\n",
      "\u001b[32m[I 2022-11-22 09:43:23,942]\u001b[0m Trial 6 finished with value: 0.8014171083598989 and parameters: {'objective': 'binary:logistic', 'tree_method': 'gpu_hist', 'lambda': 0.012099217320819628, 'alpha': 2.036712412092834, 'colsample_bytree': 0.5691599851617886, 'subsample': 0.5614670528502064, 'learning_rate': 0.06415421678174074, 'max_depth': 9, 'min_child_weight': 183, 'eval_metric': 'logloss'}. Best is trial 5 with value: 0.8111707460023891.\u001b[0m\n",
      "/home/tunguz/anaconda3/lib/python3.7/site-packages/xgboost/dask.py:884: RuntimeWarning: coroutine 'Client._wait_for_workers' was never awaited\n",
      "  client.wait_for_workers(n_workers)\n",
      "\u001b[32m[I 2022-11-22 09:43:26,701]\u001b[0m Trial 7 finished with value: 0.80167755376565 and parameters: {'objective': 'binary:logistic', 'tree_method': 'gpu_hist', 'lambda': 0.004341134453437755, 'alpha': 0.9453946001814075, 'colsample_bytree': 0.7213339508660317, 'subsample': 0.6373893037420961, 'learning_rate': 0.013688503039855464, 'max_depth': 5, 'min_child_weight': 51, 'eval_metric': 'logloss'}. Best is trial 5 with value: 0.8111707460023891.\u001b[0m\n",
      "/home/tunguz/anaconda3/lib/python3.7/site-packages/xgboost/dask.py:884: RuntimeWarning: coroutine 'Client._wait_for_workers' was never awaited\n",
      "  client.wait_for_workers(n_workers)\n",
      "\u001b[32m[I 2022-11-22 09:43:30,982]\u001b[0m Trial 8 finished with value: 0.802020963405207 and parameters: {'objective': 'binary:logistic', 'tree_method': 'gpu_hist', 'lambda': 0.599991275955188, 'alpha': 0.055668365740421416, 'colsample_bytree': 0.6440149781087448, 'subsample': 0.8569135029992095, 'learning_rate': 0.02957273575258994, 'max_depth': 11, 'min_child_weight': 248, 'eval_metric': 'logloss'}. Best is trial 5 with value: 0.8111707460023891.\u001b[0m\n",
      "/home/tunguz/anaconda3/lib/python3.7/site-packages/xgboost/dask.py:884: RuntimeWarning: coroutine 'Client._wait_for_workers' was never awaited\n",
      "  client.wait_for_workers(n_workers)\n",
      "\u001b[32m[I 2022-11-22 09:44:00,785]\u001b[0m Trial 9 finished with value: 0.8017431685606253 and parameters: {'objective': 'binary:logistic', 'tree_method': 'gpu_hist', 'lambda': 0.3750394567137241, 'alpha': 0.00556325248544551, 'colsample_bytree': 0.3128640024359046, 'subsample': 0.761304421650278, 'learning_rate': 0.009300775343405928, 'max_depth': 17, 'min_child_weight': 22, 'eval_metric': 'logloss'}. Best is trial 5 with value: 0.8111707460023891.\u001b[0m\n",
      "/home/tunguz/anaconda3/lib/python3.7/site-packages/xgboost/dask.py:884: RuntimeWarning: coroutine 'Client._wait_for_workers' was never awaited\n",
      "  client.wait_for_workers(n_workers)\n",
      "\u001b[32m[I 2022-11-22 09:44:10,503]\u001b[0m Trial 10 finished with value: 0.7797928265027418 and parameters: {'objective': 'binary:logistic', 'tree_method': 'gpu_hist', 'lambda': 0.05078397591938348, 'alpha': 0.043300690999185376, 'colsample_bytree': 0.9301247435010019, 'subsample': 0.8434725231337145, 'learning_rate': 0.0012831754973776153, 'max_depth': 17, 'min_child_weight': 125, 'eval_metric': 'logloss'}. Best is trial 5 with value: 0.8111707460023891.\u001b[0m\n",
      "/home/tunguz/anaconda3/lib/python3.7/site-packages/xgboost/dask.py:884: RuntimeWarning: coroutine 'Client._wait_for_workers' was never awaited\n",
      "  client.wait_for_workers(n_workers)\n",
      "\u001b[32m[I 2022-11-22 09:44:12,251]\u001b[0m Trial 11 finished with value: 0.7801420736414542 and parameters: {'objective': 'binary:logistic', 'tree_method': 'gpu_hist', 'lambda': 0.0011000364174759323, 'alpha': 0.01112237973671858, 'colsample_bytree': 0.833664589606339, 'subsample': 0.9686102656572849, 'learning_rate': 0.0071189415247343525, 'max_depth': 3, 'min_child_weight': 71, 'eval_metric': 'logloss'}. Best is trial 5 with value: 0.8111707460023891.\u001b[0m\n",
      "/home/tunguz/anaconda3/lib/python3.7/site-packages/xgboost/dask.py:884: RuntimeWarning: coroutine 'Client._wait_for_workers' was never awaited\n",
      "  client.wait_for_workers(n_workers)\n",
      "\u001b[32m[I 2022-11-22 09:44:19,019]\u001b[0m Trial 12 finished with value: 0.8091600536606403 and parameters: {'objective': 'binary:logistic', 'tree_method': 'gpu_hist', 'lambda': 0.04463117326061477, 'alpha': 0.001088104130795993, 'colsample_bytree': 0.8112644560250584, 'subsample': 0.9886909806736163, 'learning_rate': 0.026780578315369737, 'max_depth': 7, 'min_child_weight': 2, 'eval_metric': 'logloss'}. Best is trial 5 with value: 0.8111707460023891.\u001b[0m\n",
      "/home/tunguz/anaconda3/lib/python3.7/site-packages/xgboost/dask.py:884: RuntimeWarning: coroutine 'Client._wait_for_workers' was never awaited\n",
      "  client.wait_for_workers(n_workers)\n",
      "\u001b[32m[I 2022-11-22 09:44:25,432]\u001b[0m Trial 13 finished with value: 0.8102145701630873 and parameters: {'objective': 'binary:logistic', 'tree_method': 'gpu_hist', 'lambda': 0.05365427975632813, 'alpha': 0.0010047979128540543, 'colsample_bytree': 0.8128389889771918, 'subsample': 0.8781147635162774, 'learning_rate': 0.02682789768788471, 'max_depth': 7, 'min_child_weight': 4, 'eval_metric': 'logloss'}. Best is trial 5 with value: 0.8111707460023891.\u001b[0m\n",
      "/home/tunguz/anaconda3/lib/python3.7/site-packages/xgboost/dask.py:884: RuntimeWarning: coroutine 'Client._wait_for_workers' was never awaited\n",
      "  client.wait_for_workers(n_workers)\n",
      "\u001b[32m[I 2022-11-22 09:44:30,055]\u001b[0m Trial 14 finished with value: 0.8094208659483215 and parameters: {'objective': 'binary:logistic', 'tree_method': 'gpu_hist', 'lambda': 0.22238998475829458, 'alpha': 0.004538753600837179, 'colsample_bytree': 0.9941219223316047, 'subsample': 0.8589642730485044, 'learning_rate': 0.041920997279040605, 'max_depth': 7, 'min_child_weight': 31, 'eval_metric': 'logloss'}. Best is trial 5 with value: 0.8111707460023891.\u001b[0m\n",
      "/home/tunguz/anaconda3/lib/python3.7/site-packages/xgboost/dask.py:884: RuntimeWarning: coroutine 'Client._wait_for_workers' was never awaited\n",
      "  client.wait_for_workers(n_workers)\n",
      "\u001b[32m[I 2022-11-22 09:44:43,054]\u001b[0m Trial 15 finished with value: 0.8087053565022697 and parameters: {'objective': 'binary:logistic', 'tree_method': 'gpu_hist', 'lambda': 0.019372340031926574, 'alpha': 0.0011085864148185126, 'colsample_bytree': 0.798045749991616, 'subsample': 0.7871682010433967, 'learning_rate': 0.016413839225646532, 'max_depth': 20, 'min_child_weight': 104, 'eval_metric': 'logloss'}. Best is trial 5 with value: 0.8111707460023891.\u001b[0m\n",
      "/home/tunguz/anaconda3/lib/python3.7/site-packages/xgboost/dask.py:884: RuntimeWarning: coroutine 'Client._wait_for_workers' was never awaited\n",
      "  client.wait_for_workers(n_workers)\n",
      "\u001b[32m[I 2022-11-22 09:44:49,488]\u001b[0m Trial 16 finished with value: 0.8106663648777438 and parameters: {'objective': 'binary:logistic', 'tree_method': 'gpu_hist', 'lambda': 1.164737092958895, 'alpha': 9.885255268881911, 'colsample_bytree': 0.4616223831162022, 'subsample': 0.9050567727755181, 'learning_rate': 0.04110758009905976, 'max_depth': 7, 'min_child_weight': 6, 'eval_metric': 'logloss'}. Best is trial 5 with value: 0.8111707460023891.\u001b[0m\n",
      "/home/tunguz/anaconda3/lib/python3.7/site-packages/xgboost/dask.py:884: RuntimeWarning: coroutine 'Client._wait_for_workers' was never awaited\n",
      "  client.wait_for_workers(n_workers)\n",
      "\u001b[32m[I 2022-11-22 09:44:55,964]\u001b[0m Trial 17 finished with value: 0.8054121183090845 and parameters: {'objective': 'binary:logistic', 'tree_method': 'gpu_hist', 'lambda': 0.9891721792280073, 'alpha': 9.50298522728582, 'colsample_bytree': 0.45079137046801465, 'subsample': 0.9073294646172944, 'learning_rate': 0.07950795694041424, 'max_depth': 17, 'min_child_weight': 157, 'eval_metric': 'logloss'}. Best is trial 5 with value: 0.8111707460023891.\u001b[0m\n",
      "/home/tunguz/anaconda3/lib/python3.7/site-packages/xgboost/dask.py:884: RuntimeWarning: coroutine 'Client._wait_for_workers' was never awaited\n",
      "  client.wait_for_workers(n_workers)\n",
      "\u001b[32m[I 2022-11-22 09:44:58,643]\u001b[0m Trial 18 finished with value: 0.8059742384966045 and parameters: {'objective': 'binary:logistic', 'tree_method': 'gpu_hist', 'lambda': 1.6845528460834085, 'alpha': 0.16077931481805066, 'colsample_bytree': 0.4365956886373896, 'subsample': 0.7637053025466727, 'learning_rate': 0.04212091208341326, 'max_depth': 5, 'min_child_weight': 57, 'eval_metric': 'logloss'}. Best is trial 5 with value: 0.8111707460023891.\u001b[0m\n",
      "/home/tunguz/anaconda3/lib/python3.7/site-packages/xgboost/dask.py:884: RuntimeWarning: coroutine 'Client._wait_for_workers' was never awaited\n",
      "  client.wait_for_workers(n_workers)\n",
      "\u001b[32m[I 2022-11-22 09:45:11,485]\u001b[0m Trial 19 finished with value: 0.8025140038017448 and parameters: {'objective': 'binary:logistic', 'tree_method': 'gpu_hist', 'lambda': 0.18203329948323368, 'alpha': 3.7430511384943457, 'colsample_bytree': 0.5310179434678494, 'subsample': 0.812079638386496, 'learning_rate': 0.09302711352359115, 'max_depth': 20, 'min_child_weight': 91, 'eval_metric': 'logloss'}. Best is trial 5 with value: 0.8111707460023891.\u001b[0m\n",
      "/home/tunguz/anaconda3/lib/python3.7/site-packages/xgboost/dask.py:884: RuntimeWarning: coroutine 'Client._wait_for_workers' was never awaited\n",
      "  client.wait_for_workers(n_workers)\n",
      "\u001b[32m[I 2022-11-22 09:45:34,633]\u001b[0m Trial 20 finished with value: 0.804103132499882 and parameters: {'objective': 'binary:logistic', 'tree_method': 'gpu_hist', 'lambda': 1.6708205049214664, 'alpha': 0.1279655259751684, 'colsample_bytree': 0.5219535770585876, 'subsample': 0.9114085564628542, 'learning_rate': 0.0045131026079308825, 'max_depth': 15, 'min_child_weight': 38, 'eval_metric': 'logloss'}. Best is trial 5 with value: 0.8111707460023891.\u001b[0m\n",
      "/home/tunguz/anaconda3/lib/python3.7/site-packages/xgboost/dask.py:884: RuntimeWarning: coroutine 'Client._wait_for_workers' was never awaited\n",
      "  client.wait_for_workers(n_workers)\n",
      "\u001b[32m[I 2022-11-22 09:45:41,107]\u001b[0m Trial 21 finished with value: 0.8089811783373602 and parameters: {'objective': 'binary:logistic', 'tree_method': 'gpu_hist', 'lambda': 0.08486102214424375, 'alpha': 0.025429523288639535, 'colsample_bytree': 0.7235547029689212, 'subsample': 0.9090753521009894, 'learning_rate': 0.039302685867563976, 'max_depth': 7, 'min_child_weight': 3, 'eval_metric': 'logloss'}. Best is trial 5 with value: 0.8111707460023891.\u001b[0m\n",
      "/home/tunguz/anaconda3/lib/python3.7/site-packages/xgboost/dask.py:884: RuntimeWarning: coroutine 'Client._wait_for_workers' was never awaited\n",
      "  client.wait_for_workers(n_workers)\n",
      "\u001b[32m[I 2022-11-22 09:45:48,050]\u001b[0m Trial 22 finished with value: 0.8105504057290194 and parameters: {'objective': 'binary:logistic', 'tree_method': 'gpu_hist', 'lambda': 0.025819940817780846, 'alpha': 0.004576122721440016, 'colsample_bytree': 0.8942104856517112, 'subsample': 0.8780403721955082, 'learning_rate': 0.01777044325086522, 'max_depth': 7, 'min_child_weight': 2, 'eval_metric': 'logloss'}. Best is trial 5 with value: 0.8111707460023891.\u001b[0m\n",
      "/home/tunguz/anaconda3/lib/python3.7/site-packages/xgboost/dask.py:884: RuntimeWarning: coroutine 'Client._wait_for_workers' was never awaited\n",
      "  client.wait_for_workers(n_workers)\n",
      "\u001b[32m[I 2022-11-22 09:45:53,207]\u001b[0m Trial 23 finished with value: 0.8095283134362663 and parameters: {'objective': 'binary:logistic', 'tree_method': 'gpu_hist', 'lambda': 0.016441398452821256, 'alpha': 0.004150634453865026, 'colsample_bytree': 0.9082732646017531, 'subsample': 0.8154745540870105, 'learning_rate': 0.017891354287810187, 'max_depth': 7, 'min_child_weight': 26, 'eval_metric': 'logloss'}. Best is trial 5 with value: 0.8111707460023891.\u001b[0m\n",
      "/home/tunguz/anaconda3/lib/python3.7/site-packages/xgboost/dask.py:884: RuntimeWarning: coroutine 'Client._wait_for_workers' was never awaited\n",
      "  client.wait_for_workers(n_workers)\n",
      "\u001b[32m[I 2022-11-22 09:45:54,996]\u001b[0m Trial 24 finished with value: 0.7887690739469608 and parameters: {'objective': 'binary:logistic', 'tree_method': 'gpu_hist', 'lambda': 0.14730631905179875, 'alpha': 0.019164264145000512, 'colsample_bytree': 0.8922138114790453, 'subsample': 0.40295872957986256, 'learning_rate': 0.012391260265674274, 'max_depth': 3, 'min_child_weight': 57, 'eval_metric': 'logloss'}. Best is trial 5 with value: 0.8111707460023891.\u001b[0m\n",
      "/home/tunguz/anaconda3/lib/python3.7/site-packages/xgboost/dask.py:884: RuntimeWarning: coroutine 'Client._wait_for_workers' was never awaited\n",
      "  client.wait_for_workers(n_workers)\n",
      "\u001b[32m[I 2022-11-22 09:46:06,087]\u001b[0m Trial 25 finished with value: 0.8008109949524873 and parameters: {'objective': 'binary:logistic', 'tree_method': 'gpu_hist', 'lambda': 0.02055465348800771, 'alpha': 0.0025678160925104, 'colsample_bytree': 0.38963310231879156, 'subsample': 0.7100029991926281, 'learning_rate': 0.006228495721192232, 'max_depth': 9, 'min_child_weight': 30, 'eval_metric': 'logloss'}. Best is trial 5 with value: 0.8111707460023891.\u001b[0m\n",
      "/home/tunguz/anaconda3/lib/python3.7/site-packages/xgboost/dask.py:884: RuntimeWarning: coroutine 'Client._wait_for_workers' was never awaited\n",
      "  client.wait_for_workers(n_workers)\n",
      "\u001b[32m[I 2022-11-22 09:46:16,932]\u001b[0m Trial 26 finished with value: 0.8078952567416919 and parameters: {'objective': 'binary:logistic', 'tree_method': 'gpu_hist', 'lambda': 0.007666309138203472, 'alpha': 0.07770815510514588, 'colsample_bytree': 0.97679641652143, 'subsample': 0.9385006240066548, 'learning_rate': 0.04787472375830357, 'max_depth': 17, 'min_child_weight': 72, 'eval_metric': 'logloss'}. Best is trial 5 with value: 0.8111707460023891.\u001b[0m\n",
      "/home/tunguz/anaconda3/lib/python3.7/site-packages/xgboost/dask.py:884: RuntimeWarning: coroutine 'Client._wait_for_workers' was never awaited\n",
      "  client.wait_for_workers(n_workers)\n",
      "\u001b[32m[I 2022-11-22 09:46:22,441]\u001b[0m Trial 27 finished with value: 0.8095620258091817 and parameters: {'objective': 'binary:logistic', 'tree_method': 'gpu_hist', 'lambda': 0.03416229153074428, 'alpha': 0.29339544243843174, 'colsample_bytree': 0.7569601016558621, 'subsample': 0.9972520633251615, 'learning_rate': 0.018649750765611595, 'max_depth': 7, 'min_child_weight': 17, 'eval_metric': 'logloss'}. Best is trial 5 with value: 0.8111707460023891.\u001b[0m\n",
      "/home/tunguz/anaconda3/lib/python3.7/site-packages/xgboost/dask.py:884: RuntimeWarning: coroutine 'Client._wait_for_workers' was never awaited\n",
      "  client.wait_for_workers(n_workers)\n",
      "\u001b[32m[I 2022-11-22 09:46:26,044]\u001b[0m Trial 28 finished with value: 0.8052124448568305 and parameters: {'objective': 'binary:logistic', 'tree_method': 'gpu_hist', 'lambda': 0.3563834332113986, 'alpha': 0.010243070881493415, 'colsample_bytree': 0.5950469720811963, 'subsample': 0.8871123867253763, 'learning_rate': 0.035081997312289843, 'max_depth': 7, 'min_child_weight': 138, 'eval_metric': 'logloss'}. Best is trial 5 with value: 0.8111707460023891.\u001b[0m\n",
      "/home/tunguz/anaconda3/lib/python3.7/site-packages/xgboost/dask.py:884: RuntimeWarning: coroutine 'Client._wait_for_workers' was never awaited\n",
      "  client.wait_for_workers(n_workers)\n",
      "\u001b[32m[I 2022-11-22 09:46:37,390]\u001b[0m Trial 29 finished with value: 0.803694768452824 and parameters: {'objective': 'binary:logistic', 'tree_method': 'gpu_hist', 'lambda': 0.0942800138879807, 'alpha': 0.03384911233488908, 'colsample_bytree': 0.3658135461087848, 'subsample': 0.953366312561719, 'learning_rate': 0.00981317963961159, 'max_depth': 17, 'min_child_weight': 88, 'eval_metric': 'logloss'}. Best is trial 5 with value: 0.8111707460023891.\u001b[0m\n",
      "/home/tunguz/anaconda3/lib/python3.7/site-packages/xgboost/dask.py:884: RuntimeWarning: coroutine 'Client._wait_for_workers' was never awaited\n",
      "  client.wait_for_workers(n_workers)\n",
      "\u001b[32m[I 2022-11-22 09:46:44,061]\u001b[0m Trial 30 finished with value: 0.7898050343766738 and parameters: {'objective': 'binary:logistic', 'tree_method': 'gpu_hist', 'lambda': 2.706108207233404, 'alpha': 0.016054018537176234, 'colsample_bytree': 0.6577793838184816, 'subsample': 0.8281895234493708, 'learning_rate': 0.001904237302000968, 'max_depth': 7, 'min_child_weight': 47, 'eval_metric': 'logloss'}. Best is trial 5 with value: 0.8111707460023891.\u001b[0m\n",
      "/home/tunguz/anaconda3/lib/python3.7/site-packages/xgboost/dask.py:884: RuntimeWarning: coroutine 'Client._wait_for_workers' was never awaited\n",
      "  client.wait_for_workers(n_workers)\n",
      "\u001b[32m[I 2022-11-22 09:46:51,262]\u001b[0m Trial 31 finished with value: 0.8105429376435079 and parameters: {'objective': 'binary:logistic', 'tree_method': 'gpu_hist', 'lambda': 0.07047589335044203, 'alpha': 0.0023681311934629894, 'colsample_bytree': 0.8575556900971296, 'subsample': 0.8688683978255639, 'learning_rate': 0.024751360216691647, 'max_depth': 7, 'min_child_weight': 1, 'eval_metric': 'logloss'}. Best is trial 5 with value: 0.8111707460023891.\u001b[0m\n",
      "/home/tunguz/anaconda3/lib/python3.7/site-packages/xgboost/dask.py:884: RuntimeWarning: coroutine 'Client._wait_for_workers' was never awaited\n",
      "  client.wait_for_workers(n_workers)\n",
      "\u001b[32m[I 2022-11-22 09:46:58,427]\u001b[0m Trial 32 finished with value: 0.8105078148133944 and parameters: {'objective': 'binary:logistic', 'tree_method': 'gpu_hist', 'lambda': 0.029995355995714682, 'alpha': 0.0027511592116301587, 'colsample_bytree': 0.8522776687863352, 'subsample': 0.9273643829162975, 'learning_rate': 0.023022724225048495, 'max_depth': 7, 'min_child_weight': 1, 'eval_metric': 'logloss'}. Best is trial 5 with value: 0.8111707460023891.\u001b[0m\n",
      "/home/tunguz/anaconda3/lib/python3.7/site-packages/xgboost/dask.py:884: RuntimeWarning: coroutine 'Client._wait_for_workers' was never awaited\n",
      "  client.wait_for_workers(n_workers)\n",
      "\u001b[32m[I 2022-11-22 09:47:20,418]\u001b[0m Trial 33 finished with value: 0.8125829071632833 and parameters: {'objective': 'binary:logistic', 'tree_method': 'gpu_hist', 'lambda': 0.08104703575276391, 'alpha': 0.00775243378196659, 'colsample_bytree': 0.9594827663832521, 'subsample': 0.8789441066493893, 'learning_rate': 0.013918407557173405, 'max_depth': 13, 'min_child_weight': 19, 'eval_metric': 'logloss'}. Best is trial 33 with value: 0.8125829071632833.\u001b[0m\n",
      "/home/tunguz/anaconda3/lib/python3.7/site-packages/xgboost/dask.py:884: RuntimeWarning: coroutine 'Client._wait_for_workers' was never awaited\n",
      "  client.wait_for_workers(n_workers)\n",
      "\u001b[32m[I 2022-11-22 09:47:30,320]\u001b[0m Trial 34 finished with value: 0.8098177180557046 and parameters: {'objective': 'binary:logistic', 'tree_method': 'gpu_hist', 'lambda': 0.1312925854693315, 'alpha': 0.009526976798755847, 'colsample_bytree': 0.9628432664837068, 'subsample': 0.7790556596942348, 'learning_rate': 0.012321268019265336, 'max_depth': 13, 'min_child_weight': 66, 'eval_metric': 'logloss'}. Best is trial 33 with value: 0.8125829071632833.\u001b[0m\n",
      "/home/tunguz/anaconda3/lib/python3.7/site-packages/xgboost/dask.py:884: RuntimeWarning: coroutine 'Client._wait_for_workers' was never awaited\n",
      "  client.wait_for_workers(n_workers)\n",
      "\u001b[32m[I 2022-11-22 09:47:44,186]\u001b[0m Trial 35 finished with value: 0.8090560874745661 and parameters: {'objective': 'binary:logistic', 'tree_method': 'gpu_hist', 'lambda': 0.3078674068354572, 'alpha': 0.007210887616712926, 'colsample_bytree': 0.9442113869868725, 'subsample': 0.6655738159880731, 'learning_rate': 0.00721346759066591, 'max_depth': 13, 'min_child_weight': 40, 'eval_metric': 'logloss'}. Best is trial 33 with value: 0.8125829071632833.\u001b[0m\n",
      "/home/tunguz/anaconda3/lib/python3.7/site-packages/xgboost/dask.py:884: RuntimeWarning: coroutine 'Client._wait_for_workers' was never awaited\n",
      "  client.wait_for_workers(n_workers)\n",
      "\u001b[32m[I 2022-11-22 09:48:01,409]\u001b[0m Trial 36 finished with value: 0.8106661773603129 and parameters: {'objective': 'binary:logistic', 'tree_method': 'gpu_hist', 'lambda': 5.919526793805482, 'alpha': 9.57161899101244, 'colsample_bytree': 0.7713905092210643, 'subsample': 0.577238019378138, 'learning_rate': 0.018628651639314393, 'max_depth': 13, 'min_child_weight': 18, 'eval_metric': 'logloss'}. Best is trial 33 with value: 0.8125829071632833.\u001b[0m\n",
      "/home/tunguz/anaconda3/lib/python3.7/site-packages/xgboost/dask.py:884: RuntimeWarning: coroutine 'Client._wait_for_workers' was never awaited\n",
      "  client.wait_for_workers(n_workers)\n",
      "\u001b[32m[I 2022-11-22 09:48:05,203]\u001b[0m Trial 37 finished with value: 0.8027529906910478 and parameters: {'objective': 'binary:logistic', 'tree_method': 'gpu_hist', 'lambda': 6.550131217057318, 'alpha': 6.470614580864224, 'colsample_bytree': 0.6779425557752281, 'subsample': 0.5550000249654617, 'learning_rate': 0.0576077302520307, 'max_depth': 13, 'min_child_weight': 203, 'eval_metric': 'logloss'}. Best is trial 33 with value: 0.8125829071632833.\u001b[0m\n",
      "/home/tunguz/anaconda3/lib/python3.7/site-packages/xgboost/dask.py:884: RuntimeWarning: coroutine 'Client._wait_for_workers' was never awaited\n",
      "  client.wait_for_workers(n_workers)\n",
      "\u001b[32m[I 2022-11-22 09:48:11,178]\u001b[0m Trial 38 finished with value: 0.8072512974249519 and parameters: {'objective': 'binary:logistic', 'tree_method': 'gpu_hist', 'lambda': 3.412726733408253, 'alpha': 1.963255177888802, 'colsample_bytree': 0.5838678340137983, 'subsample': 0.5734799850532831, 'learning_rate': 0.03181131184923806, 'max_depth': 13, 'min_child_weight': 104, 'eval_metric': 'logloss'}. Best is trial 33 with value: 0.8125829071632833.\u001b[0m\n",
      "/home/tunguz/anaconda3/lib/python3.7/site-packages/xgboost/dask.py:884: RuntimeWarning: coroutine 'Client._wait_for_workers' was never awaited\n",
      "  client.wait_for_workers(n_workers)\n",
      "\u001b[32m[I 2022-11-22 09:48:27,583]\u001b[0m Trial 39 finished with value: 0.8111138874561471 and parameters: {'objective': 'binary:logistic', 'tree_method': 'gpu_hist', 'lambda': 8.99283525951859, 'alpha': 3.243424499381408, 'colsample_bytree': 0.7647867037878955, 'subsample': 0.4907746071321537, 'learning_rate': 0.014624540773540466, 'max_depth': 13, 'min_child_weight': 19, 'eval_metric': 'logloss'}. Best is trial 33 with value: 0.8125829071632833.\u001b[0m\n",
      "/home/tunguz/anaconda3/lib/python3.7/site-packages/xgboost/dask.py:884: RuntimeWarning: coroutine 'Client._wait_for_workers' was never awaited\n",
      "  client.wait_for_workers(n_workers)\n",
      "\u001b[32m[I 2022-11-22 09:48:30,757]\u001b[0m Trial 40 finished with value: 0.7918024374396194 and parameters: {'objective': 'binary:logistic', 'tree_method': 'gpu_hist', 'lambda': 0.7052679381173902, 'alpha': 1.9606287922700225, 'colsample_bytree': 0.6929729342741524, 'subsample': 0.4959416012645765, 'learning_rate': 0.014123906531651303, 'max_depth': 11, 'min_child_weight': 285, 'eval_metric': 'logloss'}. Best is trial 33 with value: 0.8125829071632833.\u001b[0m\n",
      "/home/tunguz/anaconda3/lib/python3.7/site-packages/xgboost/dask.py:884: RuntimeWarning: coroutine 'Client._wait_for_workers' was never awaited\n",
      "  client.wait_for_workers(n_workers)\n",
      "\u001b[32m[I 2022-11-22 09:48:44,932]\u001b[0m Trial 41 finished with value: 0.8102100289800851 and parameters: {'objective': 'binary:logistic', 'tree_method': 'gpu_hist', 'lambda': 7.6420030388526605, 'alpha': 3.761980047073846, 'colsample_bytree': 0.7580435403714192, 'subsample': 0.4842617997602438, 'learning_rate': 0.022270321992598045, 'max_depth': 13, 'min_child_weight': 23, 'eval_metric': 'logloss'}. Best is trial 33 with value: 0.8125829071632833.\u001b[0m\n",
      "/home/tunguz/anaconda3/lib/python3.7/site-packages/xgboost/dask.py:884: RuntimeWarning: coroutine 'Client._wait_for_workers' was never awaited\n",
      "  client.wait_for_workers(n_workers)\n",
      "\u001b[32m[I 2022-11-22 09:49:01,631]\u001b[0m Trial 42 finished with value: 0.8084032333092528 and parameters: {'objective': 'binary:logistic', 'tree_method': 'gpu_hist', 'lambda': 9.774440553960714, 'alpha': 9.517633690355694, 'colsample_bytree': 0.7682924432125744, 'subsample': 0.5246066806853773, 'learning_rate': 0.010609727971971024, 'max_depth': 13, 'min_child_weight': 17, 'eval_metric': 'logloss'}. Best is trial 33 with value: 0.8125829071632833.\u001b[0m\n",
      "/home/tunguz/anaconda3/lib/python3.7/site-packages/xgboost/dask.py:884: RuntimeWarning: coroutine 'Client._wait_for_workers' was never awaited\n",
      "  client.wait_for_workers(n_workers)\n",
      "\u001b[32m[I 2022-11-22 09:49:10,130]\u001b[0m Trial 43 finished with value: 0.803481495910359 and parameters: {'objective': 'binary:logistic', 'tree_method': 'gpu_hist', 'lambda': 5.843041798958765, 'alpha': 4.676150917573468, 'colsample_bytree': 0.6255136288229018, 'subsample': 0.42831206457886517, 'learning_rate': 0.008001767290346478, 'max_depth': 13, 'min_child_weight': 47, 'eval_metric': 'logloss'}. Best is trial 33 with value: 0.8125829071632833.\u001b[0m\n",
      "/home/tunguz/anaconda3/lib/python3.7/site-packages/xgboost/dask.py:884: RuntimeWarning: coroutine 'Client._wait_for_workers' was never awaited\n",
      "  client.wait_for_workers(n_workers)\n",
      "\u001b[32m[I 2022-11-22 09:49:38,022]\u001b[0m Trial 44 finished with value: 0.8080958759340324 and parameters: {'objective': 'binary:logistic', 'tree_method': 'gpu_hist', 'lambda': 3.4714931223442633, 'alpha': 0.9224640121382586, 'colsample_bytree': 0.6244695172436596, 'subsample': 0.578388581558434, 'learning_rate': 0.005644015178390658, 'max_depth': 15, 'min_child_weight': 17, 'eval_metric': 'logloss'}. Best is trial 33 with value: 0.8125829071632833.\u001b[0m\n",
      "/home/tunguz/anaconda3/lib/python3.7/site-packages/xgboost/dask.py:884: RuntimeWarning: coroutine 'Client._wait_for_workers' was never awaited\n",
      "  client.wait_for_workers(n_workers)\n",
      "\u001b[32m[I 2022-11-22 09:49:47,974]\u001b[0m Trial 45 finished with value: 0.8079185578207226 and parameters: {'objective': 'binary:logistic', 'tree_method': 'gpu_hist', 'lambda': 1.7533773153777492, 'alpha': 2.6084209780147907, 'colsample_bytree': 0.5361100971929096, 'subsample': 0.4505116112298074, 'learning_rate': 0.014736032677652593, 'max_depth': 13, 'min_child_weight': 40, 'eval_metric': 'logloss'}. Best is trial 33 with value: 0.8125829071632833.\u001b[0m\n",
      "/home/tunguz/anaconda3/lib/python3.7/site-packages/xgboost/dask.py:884: RuntimeWarning: coroutine 'Client._wait_for_workers' was never awaited\n",
      "  client.wait_for_workers(n_workers)\n",
      "\u001b[32m[I 2022-11-22 09:49:50,699]\u001b[0m Trial 46 finished with value: 0.8040445781438292 and parameters: {'objective': 'binary:logistic', 'tree_method': 'gpu_hist', 'lambda': 4.608695455848419, 'alpha': 0.6031217349934548, 'colsample_bytree': 0.7337208368053011, 'subsample': 0.6797222352608002, 'learning_rate': 0.020802823407617438, 'max_depth': 5, 'min_child_weight': 61, 'eval_metric': 'logloss'}. Best is trial 33 with value: 0.8125829071632833.\u001b[0m\n",
      "/home/tunguz/anaconda3/lib/python3.7/site-packages/xgboost/dask.py:884: RuntimeWarning: coroutine 'Client._wait_for_workers' was never awaited\n",
      "  client.wait_for_workers(n_workers)\n",
      "\u001b[32m[I 2022-11-22 09:49:54,716]\u001b[0m Trial 47 finished with value: 0.8010388938545678 and parameters: {'objective': 'binary:logistic', 'tree_method': 'gpu_hist', 'lambda': 1.043799190015308, 'alpha': 5.858561213514159, 'colsample_bytree': 0.4918704182077712, 'subsample': 0.6341314727792065, 'learning_rate': 0.03033199870985761, 'max_depth': 13, 'min_child_weight': 216, 'eval_metric': 'logloss'}. Best is trial 33 with value: 0.8125829071632833.\u001b[0m\n",
      "/home/tunguz/anaconda3/lib/python3.7/site-packages/xgboost/dask.py:884: RuntimeWarning: coroutine 'Client._wait_for_workers' was never awaited\n",
      "  client.wait_for_workers(n_workers)\n",
      "\u001b[32m[I 2022-11-22 09:49:56,525]\u001b[0m Trial 48 finished with value: 0.8009442546224513 and parameters: {'objective': 'binary:logistic', 'tree_method': 'gpu_hist', 'lambda': 2.0990905417761834, 'alpha': 1.128402433724384, 'colsample_bytree': 0.7836506393217066, 'subsample': 0.5946284935753945, 'learning_rate': 0.05439714804070752, 'max_depth': 3, 'min_child_weight': 32, 'eval_metric': 'logloss'}. Best is trial 33 with value: 0.8125829071632833.\u001b[0m\n",
      "/home/tunguz/anaconda3/lib/python3.7/site-packages/xgboost/dask.py:884: RuntimeWarning: coroutine 'Client._wait_for_workers' was never awaited\n",
      "  client.wait_for_workers(n_workers)\n",
      "\u001b[32m[I 2022-11-22 09:50:00,317]\u001b[0m Trial 49 finished with value: 0.7953757043806942 and parameters: {'objective': 'binary:logistic', 'tree_method': 'gpu_hist', 'lambda': 0.5977599264595685, 'alpha': 0.30295629588725076, 'colsample_bytree': 0.6702280070222733, 'subsample': 0.7307340893394972, 'learning_rate': 0.01214442767173178, 'max_depth': 9, 'min_child_weight': 263, 'eval_metric': 'logloss'}. Best is trial 33 with value: 0.8125829071632833.\u001b[0m\n",
      "/home/tunguz/anaconda3/lib/python3.7/site-packages/xgboost/dask.py:884: RuntimeWarning: coroutine 'Client._wait_for_workers' was never awaited\n",
      "  client.wait_for_workers(n_workers)\n",
      "\u001b[32m[I 2022-11-22 09:50:07,785]\u001b[0m Trial 50 finished with value: 0.8058675492313155 and parameters: {'objective': 'binary:logistic', 'tree_method': 'gpu_hist', 'lambda': 0.006742864446753962, 'alpha': 6.165089599181399, 'colsample_bytree': 0.7070965954446493, 'subsample': 0.5275534181066954, 'learning_rate': 0.014945773970301427, 'max_depth': 17, 'min_child_weight': 82, 'eval_metric': 'logloss'}. Best is trial 33 with value: 0.8125829071632833.\u001b[0m\n",
      "/home/tunguz/anaconda3/lib/python3.7/site-packages/xgboost/dask.py:884: RuntimeWarning: coroutine 'Client._wait_for_workers' was never awaited\n",
      "  client.wait_for_workers(n_workers)\n",
      "\u001b[32m[I 2022-11-22 09:50:22,713]\u001b[0m Trial 51 finished with value: 0.8124345645695239 and parameters: {'objective': 'binary:logistic', 'tree_method': 'gpu_hist', 'lambda': 0.06473919339099478, 'alpha': 0.0037024833701467044, 'colsample_bytree': 0.8767957960563258, 'subsample': 0.9658961933959583, 'learning_rate': 0.018851153209368997, 'max_depth': 11, 'min_child_weight': 18, 'eval_metric': 'logloss'}. Best is trial 33 with value: 0.8125829071632833.\u001b[0m\n",
      "/home/tunguz/anaconda3/lib/python3.7/site-packages/xgboost/dask.py:884: RuntimeWarning: coroutine 'Client._wait_for_workers' was never awaited\n",
      "  client.wait_for_workers(n_workers)\n",
      "\u001b[32m[I 2022-11-22 09:50:35,891]\u001b[0m Trial 52 finished with value: 0.8108511184648381 and parameters: {'objective': 'binary:logistic', 'tree_method': 'gpu_hist', 'lambda': 0.0623994389589276, 'alpha': 0.006321304208664875, 'colsample_bytree': 0.8638817259394768, 'subsample': 0.9844272755919704, 'learning_rate': 0.020706581034444452, 'max_depth': 11, 'min_child_weight': 23, 'eval_metric': 'logloss'}. Best is trial 33 with value: 0.8125829071632833.\u001b[0m\n",
      "/home/tunguz/anaconda3/lib/python3.7/site-packages/xgboost/dask.py:884: RuntimeWarning: coroutine 'Client._wait_for_workers' was never awaited\n",
      "  client.wait_for_workers(n_workers)\n",
      "\u001b[32m[I 2022-11-22 09:50:49,385]\u001b[0m Trial 53 finished with value: 0.8055283465045577 and parameters: {'objective': 'binary:logistic', 'tree_method': 'gpu_hist', 'lambda': 0.05712726489352035, 'alpha': 0.0017364320949417717, 'colsample_bytree': 0.839666865968647, 'subsample': 0.969372118088251, 'learning_rate': 0.06992353793604295, 'max_depth': 11, 'min_child_weight': 13, 'eval_metric': 'logloss'}. Best is trial 33 with value: 0.8125829071632833.\u001b[0m\n",
      "/home/tunguz/anaconda3/lib/python3.7/site-packages/xgboost/dask.py:884: RuntimeWarning: coroutine 'Client._wait_for_workers' was never awaited\n",
      "  client.wait_for_workers(n_workers)\n",
      "\u001b[32m[I 2022-11-22 09:50:58,388]\u001b[0m Trial 54 finished with value: 0.809669342850218 and parameters: {'objective': 'binary:logistic', 'tree_method': 'gpu_hist', 'lambda': 0.1120663174321825, 'alpha': 0.005750112527582223, 'colsample_bytree': 0.9289230894961508, 'subsample': 0.9682192932264547, 'learning_rate': 0.026456272914008105, 'max_depth': 11, 'min_child_weight': 49, 'eval_metric': 'logloss'}. Best is trial 33 with value: 0.8125829071632833.\u001b[0m\n",
      "/home/tunguz/anaconda3/lib/python3.7/site-packages/xgboost/dask.py:884: RuntimeWarning: coroutine 'Client._wait_for_workers' was never awaited\n",
      "  client.wait_for_workers(n_workers)\n",
      "\u001b[32m[I 2022-11-22 09:51:08,242]\u001b[0m Trial 55 finished with value: 0.8104585058819815 and parameters: {'objective': 'binary:logistic', 'tree_method': 'gpu_hist', 'lambda': 0.04003913060521034, 'alpha': 0.001508478207469095, 'colsample_bytree': 0.8933155352367439, 'subsample': 0.9252783637951125, 'learning_rate': 0.036328985718529834, 'max_depth': 11, 'min_child_weight': 34, 'eval_metric': 'logloss'}. Best is trial 33 with value: 0.8125829071632833.\u001b[0m\n",
      "/home/tunguz/anaconda3/lib/python3.7/site-packages/xgboost/dask.py:884: RuntimeWarning: coroutine 'Client._wait_for_workers' was never awaited\n",
      "  client.wait_for_workers(n_workers)\n",
      "\u001b[32m[I 2022-11-22 09:51:14,559]\u001b[0m Trial 56 finished with value: 0.8031664666263325 and parameters: {'objective': 'binary:logistic', 'tree_method': 'gpu_hist', 'lambda': 0.27477016967677725, 'alpha': 0.0034403986071790777, 'colsample_bytree': 0.822500137486909, 'subsample': 0.9540541094722486, 'learning_rate': 0.008937178012171561, 'max_depth': 11, 'min_child_weight': 157, 'eval_metric': 'logloss'}. Best is trial 33 with value: 0.8125829071632833.\u001b[0m\n",
      "/home/tunguz/anaconda3/lib/python3.7/site-packages/xgboost/dask.py:884: RuntimeWarning: coroutine 'Client._wait_for_workers' was never awaited\n",
      "  client.wait_for_workers(n_workers)\n",
      "\u001b[32m[I 2022-11-22 09:51:25,836]\u001b[0m Trial 57 finished with value: 0.803900328321824 and parameters: {'objective': 'binary:logistic', 'tree_method': 'gpu_hist', 'lambda': 0.07002188646769554, 'alpha': 0.014911484165723883, 'colsample_bytree': 0.8650033804641922, 'subsample': 0.9001200826713237, 'learning_rate': 0.011063236350432415, 'max_depth': 20, 'min_child_weight': 176, 'eval_metric': 'logloss'}. Best is trial 33 with value: 0.8125829071632833.\u001b[0m\n",
      "/home/tunguz/anaconda3/lib/python3.7/site-packages/xgboost/dask.py:884: RuntimeWarning: coroutine 'Client._wait_for_workers' was never awaited\n",
      "  client.wait_for_workers(n_workers)\n",
      "\u001b[32m[I 2022-11-22 09:51:41,896]\u001b[0m Trial 58 finished with value: 0.8082299508971746 and parameters: {'objective': 'binary:logistic', 'tree_method': 'gpu_hist', 'lambda': 0.1832932732733299, 'alpha': 0.005981508370760173, 'colsample_bytree': 0.9174315207058267, 'subsample': 0.9820990292383464, 'learning_rate': 0.047635094843656356, 'max_depth': 11, 'min_child_weight': 10, 'eval_metric': 'logloss'}. Best is trial 33 with value: 0.8125829071632833.\u001b[0m\n",
      "/home/tunguz/anaconda3/lib/python3.7/site-packages/xgboost/dask.py:884: RuntimeWarning: coroutine 'Client._wait_for_workers' was never awaited\n",
      "  client.wait_for_workers(n_workers)\n",
      "\u001b[32m[I 2022-11-22 09:51:54,756]\u001b[0m Trial 59 finished with value: 0.8109712763734297 and parameters: {'objective': 'binary:logistic', 'tree_method': 'gpu_hist', 'lambda': 0.0144479511138274, 'alpha': 0.008976983091452681, 'colsample_bytree': 0.8779747414430856, 'subsample': 0.9987695897577222, 'learning_rate': 0.01595611708318006, 'max_depth': 11, 'min_child_weight': 27, 'eval_metric': 'logloss'}. Best is trial 33 with value: 0.8125829071632833.\u001b[0m\n",
      "/home/tunguz/anaconda3/lib/python3.7/site-packages/xgboost/dask.py:884: RuntimeWarning: coroutine 'Client._wait_for_workers' was never awaited\n",
      "  client.wait_for_workers(n_workers)\n",
      "\u001b[32m[I 2022-11-22 09:52:02,886]\u001b[0m Trial 60 finished with value: 0.8094792246340117 and parameters: {'objective': 'binary:logistic', 'tree_method': 'gpu_hist', 'lambda': 0.003099740393363753, 'alpha': 0.007240731456738517, 'colsample_bytree': 0.8688460618996343, 'subsample': 0.9432066735125471, 'learning_rate': 0.01583131024032674, 'max_depth': 11, 'min_child_weight': 75, 'eval_metric': 'logloss'}. Best is trial 33 with value: 0.8125829071632833.\u001b[0m\n",
      "/home/tunguz/anaconda3/lib/python3.7/site-packages/xgboost/dask.py:884: RuntimeWarning: coroutine 'Client._wait_for_workers' was never awaited\n",
      "  client.wait_for_workers(n_workers)\n",
      "\u001b[32m[I 2022-11-22 09:52:16,433]\u001b[0m Trial 61 finished with value: 0.8103343530368171 and parameters: {'objective': 'binary:logistic', 'tree_method': 'gpu_hist', 'lambda': 0.042604956044184995, 'alpha': 0.022673073115442127, 'colsample_bytree': 0.9651781900117913, 'subsample': 0.9947011333719241, 'learning_rate': 0.0209909209960859, 'max_depth': 11, 'min_child_weight': 24, 'eval_metric': 'logloss'}. Best is trial 33 with value: 0.8125829071632833.\u001b[0m\n",
      "/home/tunguz/anaconda3/lib/python3.7/site-packages/xgboost/dask.py:884: RuntimeWarning: coroutine 'Client._wait_for_workers' was never awaited\n",
      "  client.wait_for_workers(n_workers)\n",
      "\u001b[32m[I 2022-11-22 09:52:33,502]\u001b[0m Trial 62 finished with value: 0.8118051908477406 and parameters: {'objective': 'binary:logistic', 'tree_method': 'gpu_hist', 'lambda': 0.010408218879068645, 'alpha': 0.003315656408805472, 'colsample_bytree': 0.800448324682605, 'subsample': 0.9724727667799122, 'learning_rate': 0.01686785026750326, 'max_depth': 17, 'min_child_weight': 43, 'eval_metric': 'logloss'}. Best is trial 33 with value: 0.8125829071632833.\u001b[0m\n",
      "/home/tunguz/anaconda3/lib/python3.7/site-packages/xgboost/dask.py:884: RuntimeWarning: coroutine 'Client._wait_for_workers' was never awaited\n",
      "  client.wait_for_workers(n_workers)\n",
      "\u001b[32m[I 2022-11-22 09:52:48,633]\u001b[0m Trial 63 finished with value: 0.8116190594151753 and parameters: {'objective': 'binary:logistic', 'tree_method': 'gpu_hist', 'lambda': 0.013828599402025011, 'alpha': 0.003114115876736362, 'colsample_bytree': 0.8214621353311444, 'subsample': 0.9703881871208685, 'learning_rate': 0.01681280096996089, 'max_depth': 17, 'min_child_weight': 51, 'eval_metric': 'logloss'}. Best is trial 33 with value: 0.8125829071632833.\u001b[0m\n",
      "/home/tunguz/anaconda3/lib/python3.7/site-packages/xgboost/dask.py:884: RuntimeWarning: coroutine 'Client._wait_for_workers' was never awaited\n",
      "  client.wait_for_workers(n_workers)\n",
      "\u001b[32m[I 2022-11-22 09:53:03,422]\u001b[0m Trial 64 finished with value: 0.8107032650469856 and parameters: {'objective': 'binary:logistic', 'tree_method': 'gpu_hist', 'lambda': 0.011794576046372723, 'alpha': 0.003414666656371283, 'colsample_bytree': 0.7998516119668705, 'subsample': 0.9574620837854438, 'learning_rate': 0.013209604816110413, 'max_depth': 17, 'min_child_weight': 56, 'eval_metric': 'logloss'}. Best is trial 33 with value: 0.8125829071632833.\u001b[0m\n",
      "/home/tunguz/anaconda3/lib/python3.7/site-packages/xgboost/dask.py:884: RuntimeWarning: coroutine 'Client._wait_for_workers' was never awaited\n",
      "  client.wait_for_workers(n_workers)\n",
      "\u001b[32m[I 2022-11-22 09:53:20,096]\u001b[0m Trial 65 finished with value: 0.8124277242597594 and parameters: {'objective': 'binary:logistic', 'tree_method': 'gpu_hist', 'lambda': 0.011442719133689968, 'alpha': 0.0014317116498583273, 'colsample_bytree': 0.9943131810095202, 'subsample': 0.9319324433088261, 'learning_rate': 0.017014452752812357, 'max_depth': 17, 'min_child_weight': 43, 'eval_metric': 'logloss'}. Best is trial 33 with value: 0.8125829071632833.\u001b[0m\n",
      "/home/tunguz/anaconda3/lib/python3.7/site-packages/xgboost/dask.py:884: RuntimeWarning: coroutine 'Client._wait_for_workers' was never awaited\n",
      "  client.wait_for_workers(n_workers)\n",
      "\u001b[32m[I 2022-11-22 09:53:36,818]\u001b[0m Trial 66 finished with value: 0.8119616945262129 and parameters: {'objective': 'binary:logistic', 'tree_method': 'gpu_hist', 'lambda': 0.009541469160083584, 'alpha': 0.0016818446411298882, 'colsample_bytree': 0.9969559903215766, 'subsample': 0.9283746825774006, 'learning_rate': 0.017909238207094606, 'max_depth': 17, 'min_child_weight': 42, 'eval_metric': 'logloss'}. Best is trial 33 with value: 0.8125829071632833.\u001b[0m\n",
      "/home/tunguz/anaconda3/lib/python3.7/site-packages/xgboost/dask.py:884: RuntimeWarning: coroutine 'Client._wait_for_workers' was never awaited\n",
      "  client.wait_for_workers(n_workers)\n",
      "\u001b[32m[I 2022-11-22 09:53:45,822]\u001b[0m Trial 67 finished with value: 0.8096062717699585 and parameters: {'objective': 'binary:logistic', 'tree_method': 'gpu_hist', 'lambda': 0.00878321597246638, 'alpha': 0.0014252475958525929, 'colsample_bytree': 0.9980190733953288, 'subsample': 0.8416947654031021, 'learning_rate': 0.027277949405117335, 'max_depth': 17, 'min_child_weight': 101, 'eval_metric': 'logloss'}. Best is trial 33 with value: 0.8125829071632833.\u001b[0m\n",
      "/home/tunguz/anaconda3/lib/python3.7/site-packages/xgboost/dask.py:884: RuntimeWarning: coroutine 'Client._wait_for_workers' was never awaited\n",
      "  client.wait_for_workers(n_workers)\n",
      "\u001b[32m[I 2022-11-22 09:53:50,797]\u001b[0m Trial 68 finished with value: 0.7994090249563198 and parameters: {'objective': 'binary:logistic', 'tree_method': 'gpu_hist', 'lambda': 0.0037207935878666182, 'alpha': 0.0017361700118961954, 'colsample_bytree': 0.9578139418061568, 'subsample': 0.9302764570013675, 'learning_rate': 0.01818559058076708, 'max_depth': 17, 'min_child_weight': 299, 'eval_metric': 'logloss'}. Best is trial 33 with value: 0.8125829071632833.\u001b[0m\n",
      "/home/tunguz/anaconda3/lib/python3.7/site-packages/xgboost/dask.py:884: RuntimeWarning: coroutine 'Client._wait_for_workers' was never awaited\n",
      "  client.wait_for_workers(n_workers)\n",
      "\u001b[32m[I 2022-11-22 09:54:03,708]\u001b[0m Trial 69 finished with value: 0.8102386457706372 and parameters: {'objective': 'binary:logistic', 'tree_method': 'gpu_hist', 'lambda': 0.0018370273432030753, 'alpha': 0.0010073950709230948, 'colsample_bytree': 0.9403975325958666, 'subsample': 0.9108181807976623, 'learning_rate': 0.011119926644350648, 'max_depth': 17, 'min_child_weight': 69, 'eval_metric': 'logloss'}. Best is trial 33 with value: 0.8125829071632833.\u001b[0m\n",
      "/home/tunguz/anaconda3/lib/python3.7/site-packages/xgboost/dask.py:884: RuntimeWarning: coroutine 'Client._wait_for_workers' was never awaited\n",
      "  client.wait_for_workers(n_workers)\n",
      "\u001b[32m[I 2022-11-22 09:54:19,618]\u001b[0m Trial 70 finished with value: 0.8110790581315777 and parameters: {'objective': 'binary:logistic', 'tree_method': 'gpu_hist', 'lambda': 0.004941939535818481, 'alpha': 0.0031382910633821473, 'colsample_bytree': 0.9855121336831464, 'subsample': 0.8782639579395823, 'learning_rate': 0.023546579560834665, 'max_depth': 17, 'min_child_weight': 42, 'eval_metric': 'logloss'}. Best is trial 33 with value: 0.8125829071632833.\u001b[0m\n",
      "/home/tunguz/anaconda3/lib/python3.7/site-packages/xgboost/dask.py:884: RuntimeWarning: coroutine 'Client._wait_for_workers' was never awaited\n",
      "  client.wait_for_workers(n_workers)\n",
      "\u001b[32m[I 2022-11-22 09:54:36,038]\u001b[0m Trial 71 finished with value: 0.8097691102764247 and parameters: {'objective': 'binary:logistic', 'tree_method': 'gpu_hist', 'lambda': 0.02305871995147773, 'alpha': 0.004486283114472161, 'colsample_bytree': 0.9172368940338812, 'subsample': 0.9681737487060754, 'learning_rate': 0.008786030315180252, 'max_depth': 17, 'min_child_weight': 55, 'eval_metric': 'logloss'}. Best is trial 33 with value: 0.8125829071632833.\u001b[0m\n",
      "/home/tunguz/anaconda3/lib/python3.7/site-packages/xgboost/dask.py:884: RuntimeWarning: coroutine 'Client._wait_for_workers' was never awaited\n",
      "  client.wait_for_workers(n_workers)\n",
      "\u001b[32m[I 2022-11-22 09:54:54,896]\u001b[0m Trial 72 finished with value: 0.8121019575645771 and parameters: {'objective': 'binary:logistic', 'tree_method': 'gpu_hist', 'lambda': 0.01114193492443833, 'alpha': 0.002083459544406076, 'colsample_bytree': 0.7418174590768511, 'subsample': 0.8892242482968358, 'learning_rate': 0.01622078062171247, 'max_depth': 17, 'min_child_weight': 35, 'eval_metric': 'logloss'}. Best is trial 33 with value: 0.8125829071632833.\u001b[0m\n",
      "/home/tunguz/anaconda3/lib/python3.7/site-packages/xgboost/dask.py:884: RuntimeWarning: coroutine 'Client._wait_for_workers' was never awaited\n",
      "  client.wait_for_workers(n_workers)\n",
      "\u001b[32m[I 2022-11-22 09:55:13,184]\u001b[0m Trial 73 finished with value: 0.8124300967629078 and parameters: {'objective': 'binary:logistic', 'tree_method': 'gpu_hist', 'lambda': 0.010973804823381643, 'alpha': 0.0018223931546363533, 'colsample_bytree': 0.832280729161672, 'subsample': 0.893648467751988, 'learning_rate': 0.018929087152816042, 'max_depth': 17, 'min_child_weight': 35, 'eval_metric': 'logloss'}. Best is trial 33 with value: 0.8125829071632833.\u001b[0m\n",
      "/home/tunguz/anaconda3/lib/python3.7/site-packages/xgboost/dask.py:884: RuntimeWarning: coroutine 'Client._wait_for_workers' was never awaited\n",
      "  client.wait_for_workers(n_workers)\n",
      "\u001b[32m[I 2022-11-22 09:55:21,820]\u001b[0m Trial 74 finished with value: 0.8081545199723348 and parameters: {'objective': 'binary:logistic', 'tree_method': 'gpu_hist', 'lambda': 0.010031298923826471, 'alpha': 0.002229760700979904, 'colsample_bytree': 0.8326286573628334, 'subsample': 0.8944125908223295, 'learning_rate': 0.016576250915705797, 'max_depth': 17, 'min_child_weight': 119, 'eval_metric': 'logloss'}. Best is trial 33 with value: 0.8125829071632833.\u001b[0m\n",
      "/home/tunguz/anaconda3/lib/python3.7/site-packages/xgboost/dask.py:884: RuntimeWarning: coroutine 'Client._wait_for_workers' was never awaited\n",
      "  client.wait_for_workers(n_workers)\n",
      "\u001b[32m[I 2022-11-22 09:55:33,980]\u001b[0m Trial 75 finished with value: 0.8104628350887573 and parameters: {'objective': 'binary:logistic', 'tree_method': 'gpu_hist', 'lambda': 0.005007190700534008, 'alpha': 0.001260882344207306, 'colsample_bytree': 0.8109286022629993, 'subsample': 0.8540710842177603, 'learning_rate': 0.019888994189753064, 'max_depth': 17, 'min_child_weight': 64, 'eval_metric': 'logloss'}. Best is trial 33 with value: 0.8125829071632833.\u001b[0m\n",
      "/home/tunguz/anaconda3/lib/python3.7/site-packages/xgboost/dask.py:884: RuntimeWarning: coroutine 'Client._wait_for_workers' was never awaited\n",
      "  client.wait_for_workers(n_workers)\n",
      "\u001b[32m[I 2022-11-22 09:55:54,506]\u001b[0m Trial 76 finished with value: 0.811596410570687 and parameters: {'objective': 'binary:logistic', 'tree_method': 'gpu_hist', 'lambda': 0.005825779486549479, 'alpha': 0.0018583240931450543, 'colsample_bytree': 0.9457566859240526, 'subsample': 0.9197775307194429, 'learning_rate': 0.012962118502580994, 'max_depth': 17, 'min_child_weight': 34, 'eval_metric': 'logloss'}. Best is trial 33 with value: 0.8125829071632833.\u001b[0m\n",
      "/home/tunguz/anaconda3/lib/python3.7/site-packages/xgboost/dask.py:884: RuntimeWarning: coroutine 'Client._wait_for_workers' was never awaited\n",
      "  client.wait_for_workers(n_workers)\n",
      "\u001b[32m[I 2022-11-22 09:56:15,873]\u001b[0m Trial 77 finished with value: 0.7912557996695518 and parameters: {'objective': 'binary:logistic', 'tree_method': 'gpu_hist', 'lambda': 0.016720162752466076, 'alpha': 0.0022566640347985696, 'colsample_bytree': 0.7438044568526725, 'subsample': 0.9417776671088628, 'learning_rate': 0.0010553912021956458, 'max_depth': 17, 'min_child_weight': 52, 'eval_metric': 'logloss'}. Best is trial 33 with value: 0.8125829071632833.\u001b[0m\n",
      "/home/tunguz/anaconda3/lib/python3.7/site-packages/xgboost/dask.py:884: RuntimeWarning: coroutine 'Client._wait_for_workers' was never awaited\n",
      "  client.wait_for_workers(n_workers)\n",
      "\u001b[32m[I 2022-11-22 09:56:59,384]\u001b[0m Trial 78 finished with value: 0.8118137677319743 and parameters: {'objective': 'binary:logistic', 'tree_method': 'gpu_hist', 'lambda': 0.012168122265998449, 'alpha': 0.0037826244804977037, 'colsample_bytree': 0.9784400533087372, 'subsample': 0.8641155991208403, 'learning_rate': 0.01729725847719056, 'max_depth': 17, 'min_child_weight': 10, 'eval_metric': 'logloss'}. Best is trial 33 with value: 0.8125829071632833.\u001b[0m\n",
      "/home/tunguz/anaconda3/lib/python3.7/site-packages/xgboost/dask.py:884: RuntimeWarning: coroutine 'Client._wait_for_workers' was never awaited\n",
      "  client.wait_for_workers(n_workers)\n",
      "\u001b[32m[I 2022-11-22 09:57:33,209]\u001b[0m Trial 79 finished with value: 0.8114967002150026 and parameters: {'objective': 'binary:logistic', 'tree_method': 'gpu_hist', 'lambda': 0.010967589091833353, 'alpha': 0.0041420915000743835, 'colsample_bytree': 0.98161339297136, 'subsample': 0.8664659160155214, 'learning_rate': 0.025113551128591177, 'max_depth': 15, 'min_child_weight': 10, 'eval_metric': 'logloss'}. Best is trial 33 with value: 0.8125829071632833.\u001b[0m\n",
      "/home/tunguz/anaconda3/lib/python3.7/site-packages/xgboost/dask.py:884: RuntimeWarning: coroutine 'Client._wait_for_workers' was never awaited\n",
      "  client.wait_for_workers(n_workers)\n",
      "\u001b[32m[I 2022-11-22 09:58:00,028]\u001b[0m Trial 80 finished with value: 0.802868949839772 and parameters: {'objective': 'binary:logistic', 'tree_method': 'gpu_hist', 'lambda': 0.02858545988646444, 'alpha': 0.0013994792572314964, 'colsample_bytree': 0.9718785899754991, 'subsample': 0.8868076148197737, 'learning_rate': 0.0029655077465937686, 'max_depth': 17, 'min_child_weight': 36, 'eval_metric': 'logloss'}. Best is trial 33 with value: 0.8125829071632833.\u001b[0m\n",
      "/home/tunguz/anaconda3/lib/python3.7/site-packages/xgboost/dask.py:884: RuntimeWarning: coroutine 'Client._wait_for_workers' was never awaited\n",
      "  client.wait_for_workers(n_workers)\n",
      "\u001b[32m[I 2022-11-22 09:58:15,376]\u001b[0m Trial 81 finished with value: 0.8114005445375749 and parameters: {'objective': 'binary:logistic', 'tree_method': 'gpu_hist', 'lambda': 0.013953679622797041, 'alpha': 0.002950053003338719, 'colsample_bytree': 0.9031792616112939, 'subsample': 0.8057390198092274, 'learning_rate': 0.017827687793314787, 'max_depth': 17, 'min_child_weight': 44, 'eval_metric': 'logloss'}. Best is trial 33 with value: 0.8125829071632833.\u001b[0m\n",
      "/home/tunguz/anaconda3/lib/python3.7/site-packages/xgboost/dask.py:884: RuntimeWarning: coroutine 'Client._wait_for_workers' was never awaited\n",
      "  client.wait_for_workers(n_workers)\n",
      "\u001b[32m[I 2022-11-22 09:58:35,537]\u001b[0m Trial 82 finished with value: 0.8128616885126104 and parameters: {'objective': 'binary:logistic', 'tree_method': 'gpu_hist', 'lambda': 0.007794016183924836, 'alpha': 0.0021618285114300383, 'colsample_bytree': 0.9975548188764983, 'subsample': 0.8381813985740972, 'learning_rate': 0.017128981295977327, 'max_depth': 17, 'min_child_weight': 30, 'eval_metric': 'logloss'}. Best is trial 82 with value: 0.8128616885126104.\u001b[0m\n",
      "/home/tunguz/anaconda3/lib/python3.7/site-packages/xgboost/dask.py:884: RuntimeWarning: coroutine 'Client._wait_for_workers' was never awaited\n",
      "  client.wait_for_workers(n_workers)\n",
      "\u001b[32m[I 2022-11-22 09:58:38,606]\u001b[0m Trial 83 finished with value: 0.8026547234042887 and parameters: {'objective': 'binary:logistic', 'tree_method': 'gpu_hist', 'lambda': 0.007072998728687432, 'alpha': 0.00199095390286518, 'colsample_bytree': 0.9532189050441376, 'subsample': 0.8390710915457559, 'learning_rate': 0.01181252724056943, 'max_depth': 5, 'min_child_weight': 9, 'eval_metric': 'logloss'}. Best is trial 82 with value: 0.8128616885126104.\u001b[0m\n",
      "/home/tunguz/anaconda3/lib/python3.7/site-packages/xgboost/dask.py:884: RuntimeWarning: coroutine 'Client._wait_for_workers' was never awaited\n",
      "  client.wait_for_workers(n_workers)\n",
      "\u001b[32m[I 2022-11-22 09:58:59,078]\u001b[0m Trial 84 finished with value: 0.8128820056186092 and parameters: {'objective': 'binary:logistic', 'tree_method': 'gpu_hist', 'lambda': 0.00225413045593838, 'alpha': 0.0024814391199754634, 'colsample_bytree': 0.9992202812531069, 'subsample': 0.7959167299709581, 'learning_rate': 0.013864120039764286, 'max_depth': 17, 'min_child_weight': 30, 'eval_metric': 'logloss'}. Best is trial 84 with value: 0.8128820056186092.\u001b[0m\n",
      "/home/tunguz/anaconda3/lib/python3.7/site-packages/xgboost/dask.py:884: RuntimeWarning: coroutine 'Client._wait_for_workers' was never awaited\n",
      "  client.wait_for_workers(n_workers)\n",
      "\u001b[32m[I 2022-11-22 09:59:07,877]\u001b[0m Trial 85 finished with value: 0.8105573112622382 and parameters: {'objective': 'binary:logistic', 'tree_method': 'gpu_hist', 'lambda': 0.0019933688653843164, 'alpha': 0.0024208855810152223, 'colsample_bytree': 0.9982335336603839, 'subsample': 0.7992314516967538, 'learning_rate': 0.013521017275115548, 'max_depth': 9, 'min_child_weight': 28, 'eval_metric': 'logloss'}. Best is trial 84 with value: 0.8128820056186092.\u001b[0m\n",
      "/home/tunguz/anaconda3/lib/python3.7/site-packages/xgboost/dask.py:884: RuntimeWarning: coroutine 'Client._wait_for_workers' was never awaited\n",
      "  client.wait_for_workers(n_workers)\n",
      "\u001b[32m[I 2022-11-22 09:59:09,701]\u001b[0m Trial 86 finished with value: 0.7855906697979143 and parameters: {'objective': 'binary:logistic', 'tree_method': 'gpu_hist', 'lambda': 0.001149494203222058, 'alpha': 0.0012099729153027946, 'colsample_bytree': 0.9701052838536821, 'subsample': 0.858943188097016, 'learning_rate': 0.009770973110548488, 'max_depth': 3, 'min_child_weight': 15, 'eval_metric': 'logloss'}. Best is trial 84 with value: 0.8128820056186092.\u001b[0m\n",
      "/home/tunguz/anaconda3/lib/python3.7/site-packages/xgboost/dask.py:884: RuntimeWarning: coroutine 'Client._wait_for_workers' was never awaited\n",
      "  client.wait_for_workers(n_workers)\n",
      "\u001b[32m[I 2022-11-22 09:59:28,658]\u001b[0m Trial 87 finished with value: 0.8105773104038976 and parameters: {'objective': 'binary:logistic', 'tree_method': 'gpu_hist', 'lambda': 0.002400972005596918, 'alpha': 0.004539028402238087, 'colsample_bytree': 0.9995847826323211, 'subsample': 0.8306282630779, 'learning_rate': 0.028972149374810824, 'max_depth': 17, 'min_child_weight': 29, 'eval_metric': 'logloss'}. Best is trial 84 with value: 0.8128820056186092.\u001b[0m\n",
      "/home/tunguz/anaconda3/lib/python3.7/site-packages/xgboost/dask.py:884: RuntimeWarning: coroutine 'Client._wait_for_workers' was never awaited\n",
      "  client.wait_for_workers(n_workers)\n",
      "\u001b[32m[I 2022-11-22 10:00:18,717]\u001b[0m Trial 88 finished with value: 0.8110034478422385 and parameters: {'objective': 'binary:logistic', 'tree_method': 'gpu_hist', 'lambda': 0.019263375716996455, 'alpha': 0.0018440225393162432, 'colsample_bytree': 0.9303263998145302, 'subsample': 0.7394320311483418, 'learning_rate': 0.02286698956793971, 'max_depth': 17, 'min_child_weight': 6, 'eval_metric': 'logloss'}. Best is trial 84 with value: 0.8128820056186092.\u001b[0m\n",
      "/home/tunguz/anaconda3/lib/python3.7/site-packages/xgboost/dask.py:884: RuntimeWarning: coroutine 'Client._wait_for_workers' was never awaited\n",
      "  client.wait_for_workers(n_workers)\n",
      "\u001b[32m[I 2022-11-22 10:00:50,625]\u001b[0m Trial 89 finished with value: 0.8117078448422728 and parameters: {'objective': 'binary:logistic', 'tree_method': 'gpu_hist', 'lambda': 0.0013633520356361852, 'alpha': 0.0026896921792777034, 'colsample_bytree': 0.9834208459346706, 'subsample': 0.8186596624825809, 'learning_rate': 0.019662093390247947, 'max_depth': 20, 'min_child_weight': 21, 'eval_metric': 'logloss'}. Best is trial 84 with value: 0.8128820056186092.\u001b[0m\n",
      "/home/tunguz/anaconda3/lib/python3.7/site-packages/xgboost/dask.py:884: RuntimeWarning: coroutine 'Client._wait_for_workers' was never awaited\n",
      "  client.wait_for_workers(n_workers)\n",
      "\u001b[32m[I 2022-11-22 10:01:08,377]\u001b[0m Trial 90 finished with value: 0.8125853448898859 and parameters: {'objective': 'binary:logistic', 'tree_method': 'gpu_hist', 'lambda': 0.0037459977756600705, 'alpha': 0.003838661417079363, 'colsample_bytree': 0.9330056072023687, 'subsample': 0.7832061550246575, 'learning_rate': 0.014579677629436507, 'max_depth': 17, 'min_child_weight': 36, 'eval_metric': 'logloss'}. Best is trial 84 with value: 0.8128820056186092.\u001b[0m\n",
      "/home/tunguz/anaconda3/lib/python3.7/site-packages/xgboost/dask.py:884: RuntimeWarning: coroutine 'Client._wait_for_workers' was never awaited\n",
      "  client.wait_for_workers(n_workers)\n",
      "\u001b[32m[I 2022-11-22 10:01:27,132]\u001b[0m Trial 91 finished with value: 0.8123965637544915 and parameters: {'objective': 'binary:logistic', 'tree_method': 'gpu_hist', 'lambda': 0.004009616187876025, 'alpha': 0.0038251722549114, 'colsample_bytree': 0.932455093239387, 'subsample': 0.8766109880096511, 'learning_rate': 0.01409085163064396, 'max_depth': 17, 'min_child_weight': 37, 'eval_metric': 'logloss'}. Best is trial 84 with value: 0.8128820056186092.\u001b[0m\n",
      "/home/tunguz/anaconda3/lib/python3.7/site-packages/xgboost/dask.py:884: RuntimeWarning: coroutine 'Client._wait_for_workers' was never awaited\n",
      "  client.wait_for_workers(n_workers)\n",
      "\u001b[32m[I 2022-11-22 10:01:44,997]\u001b[0m Trial 92 finished with value: 0.8120483194263886 and parameters: {'objective': 'binary:logistic', 'tree_method': 'gpu_hist', 'lambda': 0.003439057407003874, 'alpha': 0.0014979553458966174, 'colsample_bytree': 0.9306881149530348, 'subsample': 0.7821395109204089, 'learning_rate': 0.01484386606778451, 'max_depth': 17, 'min_child_weight': 36, 'eval_metric': 'logloss'}. Best is trial 84 with value: 0.8128820056186092.\u001b[0m\n",
      "/home/tunguz/anaconda3/lib/python3.7/site-packages/xgboost/dask.py:884: RuntimeWarning: coroutine 'Client._wait_for_workers' was never awaited\n",
      "  client.wait_for_workers(n_workers)\n",
      "\u001b[32m[I 2022-11-22 10:02:02,784]\u001b[0m Trial 93 finished with value: 0.8121194863679068 and parameters: {'objective': 'binary:logistic', 'tree_method': 'gpu_hist', 'lambda': 0.003984615597062863, 'alpha': 0.007420619954564616, 'colsample_bytree': 0.9273620389267796, 'subsample': 0.7866820655906535, 'learning_rate': 0.014761008335272408, 'max_depth': 17, 'min_child_weight': 36, 'eval_metric': 'logloss'}. Best is trial 84 with value: 0.8128820056186092.\u001b[0m\n",
      "/home/tunguz/anaconda3/lib/python3.7/site-packages/xgboost/dask.py:884: RuntimeWarning: coroutine 'Client._wait_for_workers' was never awaited\n",
      "  client.wait_for_workers(n_workers)\n",
      "\u001b[32m[I 2022-11-22 10:02:15,368]\u001b[0m Trial 94 finished with value: 0.8099144036736979 and parameters: {'objective': 'binary:logistic', 'tree_method': 'gpu_hist', 'lambda': 0.0024931098368067874, 'alpha': 0.012297256551337796, 'colsample_bytree': 0.8788563670509, 'subsample': 0.7675745719589689, 'learning_rate': 0.01021439785115267, 'max_depth': 17, 'min_child_weight': 63, 'eval_metric': 'logloss'}. Best is trial 84 with value: 0.8128820056186092.\u001b[0m\n",
      "/home/tunguz/anaconda3/lib/python3.7/site-packages/xgboost/dask.py:884: RuntimeWarning: coroutine 'Client._wait_for_workers' was never awaited\n",
      "  client.wait_for_workers(n_workers)\n",
      "\u001b[32m[I 2022-11-22 10:02:36,007]\u001b[0m Trial 95 finished with value: 0.8121451110324951 and parameters: {'objective': 'binary:logistic', 'tree_method': 'gpu_hist', 'lambda': 0.004381265509620868, 'alpha': 0.00807543137019157, 'colsample_bytree': 0.9085290482481181, 'subsample': 0.7975739257337326, 'learning_rate': 0.013910413029934001, 'max_depth': 17, 'min_child_weight': 32, 'eval_metric': 'logloss'}. Best is trial 84 with value: 0.8128820056186092.\u001b[0m\n",
      "/home/tunguz/anaconda3/lib/python3.7/site-packages/xgboost/dask.py:884: RuntimeWarning: coroutine 'Client._wait_for_workers' was never awaited\n",
      "  client.wait_for_workers(n_workers)\n",
      "\u001b[32m[I 2022-11-22 10:02:38,935]\u001b[0m Trial 96 finished with value: 0.8025152185885801 and parameters: {'objective': 'binary:logistic', 'tree_method': 'gpu_hist', 'lambda': 0.004389527797128727, 'alpha': 0.008284142512738795, 'colsample_bytree': 0.9135785994010365, 'subsample': 0.7924083383516523, 'learning_rate': 0.011693028231242918, 'max_depth': 5, 'min_child_weight': 24, 'eval_metric': 'logloss'}. Best is trial 84 with value: 0.8128820056186092.\u001b[0m\n",
      "/home/tunguz/anaconda3/lib/python3.7/site-packages/xgboost/dask.py:884: RuntimeWarning: coroutine 'Client._wait_for_workers' was never awaited\n",
      "  client.wait_for_workers(n_workers)\n",
      "\u001b[32m[I 2022-11-22 10:02:49,401]\u001b[0m Trial 97 finished with value: 0.809501612584683 and parameters: {'objective': 'binary:logistic', 'tree_method': 'gpu_hist', 'lambda': 0.00609227387374428, 'alpha': 0.011932976895775375, 'colsample_bytree': 0.8965982133100021, 'subsample': 0.7482795291784524, 'learning_rate': 0.013519126553766235, 'max_depth': 17, 'min_child_weight': 77, 'eval_metric': 'logloss'}. Best is trial 84 with value: 0.8128820056186092.\u001b[0m\n",
      "/home/tunguz/anaconda3/lib/python3.7/site-packages/xgboost/dask.py:884: RuntimeWarning: coroutine 'Client._wait_for_workers' was never awaited\n",
      "  client.wait_for_workers(n_workers)\n",
      "\u001b[32m[I 2022-11-22 10:03:01,368]\u001b[0m Trial 98 finished with value: 0.8108229663913976 and parameters: {'objective': 'binary:logistic', 'tree_method': 'gpu_hist', 'lambda': 0.0029673116364618466, 'alpha': 0.005109451640455459, 'colsample_bytree': 0.9525993313065887, 'subsample': 0.81889883101314, 'learning_rate': 0.014650134484145446, 'max_depth': 15, 'min_child_weight': 58, 'eval_metric': 'logloss'}. Best is trial 84 with value: 0.8128820056186092.\u001b[0m\n",
      "/home/tunguz/anaconda3/lib/python3.7/site-packages/xgboost/dask.py:884: RuntimeWarning: coroutine 'Client._wait_for_workers' was never awaited\n",
      "  client.wait_for_workers(n_workers)\n",
      "\u001b[32m[I 2022-11-22 10:03:08,586]\u001b[0m Trial 99 finished with value: 0.8092723766017902 and parameters: {'objective': 'binary:logistic', 'tree_method': 'gpu_hist', 'lambda': 0.003968558842018762, 'alpha': 0.006905816716733802, 'colsample_bytree': 0.8798290133925565, 'subsample': 0.7111840008800265, 'learning_rate': 0.012616216537809479, 'max_depth': 9, 'min_child_weight': 48, 'eval_metric': 'logloss'}. Best is trial 84 with value: 0.8128820056186092.\u001b[0m\n",
      "/home/tunguz/anaconda3/lib/python3.7/site-packages/xgboost/dask.py:884: RuntimeWarning: coroutine 'Client._wait_for_workers' was never awaited\n",
      "  client.wait_for_workers(n_workers)\n",
      "\u001b[32m[I 2022-11-22 10:03:30,581]\u001b[0m Trial 100 finished with value: 0.8119195927864947 and parameters: {'objective': 'binary:logistic', 'tree_method': 'gpu_hist', 'lambda': 0.0015547402563801285, 'alpha': 0.04229439517896693, 'colsample_bytree': 0.9339230018207141, 'subsample': 0.7722248253008801, 'learning_rate': 0.008281493193942625, 'max_depth': 17, 'min_child_weight': 31, 'eval_metric': 'logloss'}. Best is trial 84 with value: 0.8128820056186092.\u001b[0m\n",
      "/home/tunguz/anaconda3/lib/python3.7/site-packages/xgboost/dask.py:884: RuntimeWarning: coroutine 'Client._wait_for_workers' was never awaited\n",
      "  client.wait_for_workers(n_workers)\n",
      "\u001b[32m[I 2022-11-22 10:03:47,637]\u001b[0m Trial 101 finished with value: 0.8122606217699715 and parameters: {'objective': 'binary:logistic', 'tree_method': 'gpu_hist', 'lambda': 0.005294090389711348, 'alpha': 0.0026780795608361573, 'colsample_bytree': 0.963723133636814, 'subsample': 0.7529588477344166, 'learning_rate': 0.015484920571858999, 'max_depth': 17, 'min_child_weight': 37, 'eval_metric': 'logloss'}. Best is trial 84 with value: 0.8128820056186092.\u001b[0m\n"
     ]
    },
    {
     "name": "stdout",
     "output_type": "stream",
     "text": [
      "CPU times: user 1min 38s, sys: 27.8 s, total: 2min 5s\n",
      "Wall time: 20min 56s\n"
     ]
    }
   ],
   "source": [
    "%%time\n",
    "study.optimize(objective, n_trials=100)"
   ]
  },
  {
   "cell_type": "code",
   "execution_count": 15,
   "metadata": {},
   "outputs": [
    {
     "data": {
      "text/plain": [
       "{'objective': 'binary:logistic',\n",
       " 'tree_method': 'gpu_hist',\n",
       " 'lambda': 0.00225413045593838,\n",
       " 'alpha': 0.0024814391199754634,\n",
       " 'colsample_bytree': 0.9992202812531069,\n",
       " 'subsample': 0.7959167299709581,\n",
       " 'learning_rate': 0.013864120039764286,\n",
       " 'max_depth': 17,\n",
       " 'min_child_weight': 30,\n",
       " 'eval_metric': 'logloss'}"
      ]
     },
     "execution_count": 15,
     "metadata": {},
     "output_type": "execute_result"
    }
   ],
   "source": [
    "study.best_trial.params"
   ]
  },
  {
   "cell_type": "code",
   "execution_count": 16,
   "metadata": {},
   "outputs": [],
   "source": [
    "real_test_x = dd.read_csv('../input/higgs_small_roc/xgtest.csv')"
   ]
  },
  {
   "cell_type": "code",
   "execution_count": 17,
   "metadata": {},
   "outputs": [],
   "source": [
    "real_test_y = real_test_x['target']\n",
    "real_test_x = real_test_x[real_test_x.columns.difference(['target'])]"
   ]
  },
  {
   "cell_type": "code",
   "execution_count": 18,
   "metadata": {},
   "outputs": [],
   "source": [
    "drealtest = xgb.dask.DaskDMatrix(client, real_test_x, real_test_y)"
   ]
  },
  {
   "cell_type": "code",
   "execution_count": 19,
   "metadata": {},
   "outputs": [
    {
     "name": "stderr",
     "output_type": "stream",
     "text": [
      "/home/tunguz/anaconda3/lib/python3.7/site-packages/xgboost/dask.py:884: RuntimeWarning: coroutine 'Client._wait_for_workers' was never awaited\n",
      "  client.wait_for_workers(n_workers)\n"
     ]
    },
    {
     "data": {
      "text/plain": [
       "0.8068239438953064"
      ]
     },
     "execution_count": 19,
     "metadata": {},
     "output_type": "execute_result"
    }
   ],
   "source": [
    "params = study.best_trial.params\n",
    "\n",
    "output = xgb.dask.train(client, params, dtrain, num_round)\n",
    "    \n",
    "booster = output['booster']  # booster is the trained model\n",
    "booster.set_param({'predictor': 'gpu_predictor'})\n",
    "\n",
    "predictions = xgb.dask.predict(client, booster, drealtest)\n",
    "    \n",
    "predictions = predictions.compute()\n",
    "\n",
    "roc_auc_score(real_test_y, predictions)"
   ]
  },
  {
   "cell_type": "code",
   "execution_count": 20,
   "metadata": {},
   "outputs": [
    {
     "name": "stderr",
     "output_type": "stream",
     "text": [
      "/home/tunguz/anaconda3/lib/python3.7/site-packages/xgboost/dask.py:884: RuntimeWarning: coroutine 'Client._wait_for_workers' was never awaited\n",
      "  client.wait_for_workers(n_workers)\n"
     ]
    },
    {
     "name": "stdout",
     "output_type": "stream",
     "text": [
      "CPU times: user 1.88 s, sys: 331 ms, total: 2.21 s\n",
      "Wall time: 21.5 s\n"
     ]
    },
    {
     "data": {
      "text/plain": [
       "0.8063297066483833"
      ]
     },
     "execution_count": 20,
     "metadata": {},
     "output_type": "execute_result"
    }
   ],
   "source": [
    "%%time\n",
    "params = study.best_trial.params\n",
    "params['seed'] = 2022\n",
    "\n",
    "output = xgb.dask.train(client, params, dtrain, num_round)\n",
    "    \n",
    "booster = output['booster']  # booster is the trained model\n",
    "booster.set_param({'predictor': 'gpu_predictor'})\n",
    "\n",
    "predictions = xgb.dask.predict(client, booster, drealtest)\n",
    "    \n",
    "predictions = predictions.compute()\n",
    "\n",
    "roc_auc_score(real_test_y, predictions)"
   ]
  },
  {
   "cell_type": "code",
   "execution_count": 21,
   "metadata": {},
   "outputs": [
    {
     "name": "stdout",
     "output_type": "stream",
     "text": [
      "0\n"
     ]
    },
    {
     "name": "stderr",
     "output_type": "stream",
     "text": [
      "/home/tunguz/anaconda3/lib/python3.7/site-packages/xgboost/dask.py:884: RuntimeWarning: coroutine 'Client._wait_for_workers' was never awaited\n",
      "  client.wait_for_workers(n_workers)\n"
     ]
    },
    {
     "name": "stdout",
     "output_type": "stream",
     "text": [
      "1\n"
     ]
    },
    {
     "name": "stderr",
     "output_type": "stream",
     "text": [
      "/home/tunguz/anaconda3/lib/python3.7/site-packages/xgboost/dask.py:884: RuntimeWarning: coroutine 'Client._wait_for_workers' was never awaited\n",
      "  client.wait_for_workers(n_workers)\n"
     ]
    },
    {
     "name": "stdout",
     "output_type": "stream",
     "text": [
      "2\n"
     ]
    },
    {
     "name": "stderr",
     "output_type": "stream",
     "text": [
      "/home/tunguz/anaconda3/lib/python3.7/site-packages/xgboost/dask.py:884: RuntimeWarning: coroutine 'Client._wait_for_workers' was never awaited\n",
      "  client.wait_for_workers(n_workers)\n"
     ]
    },
    {
     "name": "stdout",
     "output_type": "stream",
     "text": [
      "3\n"
     ]
    },
    {
     "name": "stderr",
     "output_type": "stream",
     "text": [
      "/home/tunguz/anaconda3/lib/python3.7/site-packages/xgboost/dask.py:884: RuntimeWarning: coroutine 'Client._wait_for_workers' was never awaited\n",
      "  client.wait_for_workers(n_workers)\n"
     ]
    },
    {
     "name": "stdout",
     "output_type": "stream",
     "text": [
      "4\n"
     ]
    },
    {
     "name": "stderr",
     "output_type": "stream",
     "text": [
      "/home/tunguz/anaconda3/lib/python3.7/site-packages/xgboost/dask.py:884: RuntimeWarning: coroutine 'Client._wait_for_workers' was never awaited\n",
      "  client.wait_for_workers(n_workers)\n"
     ]
    },
    {
     "name": "stdout",
     "output_type": "stream",
     "text": [
      "5\n"
     ]
    },
    {
     "name": "stderr",
     "output_type": "stream",
     "text": [
      "/home/tunguz/anaconda3/lib/python3.7/site-packages/xgboost/dask.py:884: RuntimeWarning: coroutine 'Client._wait_for_workers' was never awaited\n",
      "  client.wait_for_workers(n_workers)\n"
     ]
    },
    {
     "name": "stdout",
     "output_type": "stream",
     "text": [
      "6\n"
     ]
    },
    {
     "name": "stderr",
     "output_type": "stream",
     "text": [
      "/home/tunguz/anaconda3/lib/python3.7/site-packages/xgboost/dask.py:884: RuntimeWarning: coroutine 'Client._wait_for_workers' was never awaited\n",
      "  client.wait_for_workers(n_workers)\n"
     ]
    },
    {
     "name": "stdout",
     "output_type": "stream",
     "text": [
      "7\n"
     ]
    },
    {
     "name": "stderr",
     "output_type": "stream",
     "text": [
      "/home/tunguz/anaconda3/lib/python3.7/site-packages/xgboost/dask.py:884: RuntimeWarning: coroutine 'Client._wait_for_workers' was never awaited\n",
      "  client.wait_for_workers(n_workers)\n"
     ]
    },
    {
     "name": "stdout",
     "output_type": "stream",
     "text": [
      "8\n"
     ]
    },
    {
     "name": "stderr",
     "output_type": "stream",
     "text": [
      "/home/tunguz/anaconda3/lib/python3.7/site-packages/xgboost/dask.py:884: RuntimeWarning: coroutine 'Client._wait_for_workers' was never awaited\n",
      "  client.wait_for_workers(n_workers)\n"
     ]
    },
    {
     "name": "stdout",
     "output_type": "stream",
     "text": [
      "9\n"
     ]
    },
    {
     "name": "stderr",
     "output_type": "stream",
     "text": [
      "/home/tunguz/anaconda3/lib/python3.7/site-packages/xgboost/dask.py:884: RuntimeWarning: coroutine 'Client._wait_for_workers' was never awaited\n",
      "  client.wait_for_workers(n_workers)\n"
     ]
    },
    {
     "name": "stdout",
     "output_type": "stream",
     "text": [
      "10\n"
     ]
    },
    {
     "name": "stderr",
     "output_type": "stream",
     "text": [
      "/home/tunguz/anaconda3/lib/python3.7/site-packages/xgboost/dask.py:884: RuntimeWarning: coroutine 'Client._wait_for_workers' was never awaited\n",
      "  client.wait_for_workers(n_workers)\n"
     ]
    },
    {
     "name": "stdout",
     "output_type": "stream",
     "text": [
      "11\n"
     ]
    },
    {
     "name": "stderr",
     "output_type": "stream",
     "text": [
      "/home/tunguz/anaconda3/lib/python3.7/site-packages/xgboost/dask.py:884: RuntimeWarning: coroutine 'Client._wait_for_workers' was never awaited\n",
      "  client.wait_for_workers(n_workers)\n"
     ]
    },
    {
     "name": "stdout",
     "output_type": "stream",
     "text": [
      "12\n"
     ]
    },
    {
     "name": "stderr",
     "output_type": "stream",
     "text": [
      "/home/tunguz/anaconda3/lib/python3.7/site-packages/xgboost/dask.py:884: RuntimeWarning: coroutine 'Client._wait_for_workers' was never awaited\n",
      "  client.wait_for_workers(n_workers)\n"
     ]
    },
    {
     "name": "stdout",
     "output_type": "stream",
     "text": [
      "13\n"
     ]
    },
    {
     "name": "stderr",
     "output_type": "stream",
     "text": [
      "/home/tunguz/anaconda3/lib/python3.7/site-packages/xgboost/dask.py:884: RuntimeWarning: coroutine 'Client._wait_for_workers' was never awaited\n",
      "  client.wait_for_workers(n_workers)\n"
     ]
    },
    {
     "name": "stdout",
     "output_type": "stream",
     "text": [
      "14\n"
     ]
    },
    {
     "name": "stderr",
     "output_type": "stream",
     "text": [
      "/home/tunguz/anaconda3/lib/python3.7/site-packages/xgboost/dask.py:884: RuntimeWarning: coroutine 'Client._wait_for_workers' was never awaited\n",
      "  client.wait_for_workers(n_workers)\n"
     ]
    },
    {
     "name": "stdout",
     "output_type": "stream",
     "text": [
      "CPU times: user 23.5 s, sys: 4.35 s, total: 27.9 s\n",
      "Wall time: 5min 9s\n"
     ]
    }
   ],
   "source": [
    "%%time \n",
    "scores = []\n",
    "\n",
    "for jj in range(15):\n",
    "    print(jj)\n",
    "    params = study.best_trial.params\n",
    "    params['seed'] = 5*jj**3 + 137\n",
    "\n",
    "    output = xgb.dask.train(client, params, dtrain, num_round)\n",
    "\n",
    "    booster = output['booster']  # booster is the trained model\n",
    "    booster.set_param({'predictor': 'gpu_predictor'})\n",
    "\n",
    "    predictions = xgb.dask.predict(client, booster, drealtest)\n",
    "\n",
    "    predictions = predictions.compute()\n",
    "\n",
    "    scores.append(roc_auc_score(real_test_y, predictions))"
   ]
  },
  {
   "cell_type": "code",
   "execution_count": 22,
   "metadata": {},
   "outputs": [
    {
     "data": {
      "text/plain": [
       "[0.8067397221533028,\n",
       " 0.8066990070642219,\n",
       " 0.8063826106965943,\n",
       " 0.8064383115265237,\n",
       " 0.8064385880739696,\n",
       " 0.8062720699863317,\n",
       " 0.8067426754713112,\n",
       " 0.8064104376311154,\n",
       " 0.8061099140433141,\n",
       " 0.8061604909186776,\n",
       " 0.8066853310103347,\n",
       " 0.8062528838550297,\n",
       " 0.8066905749760565,\n",
       " 0.8061511717915344,\n",
       " 0.8065482678346361]"
      ]
     },
     "execution_count": 22,
     "metadata": {},
     "output_type": "execute_result"
    }
   ],
   "source": [
    "scores"
   ]
  },
  {
   "cell_type": "code",
   "execution_count": 24,
   "metadata": {},
   "outputs": [
    {
     "data": {
      "text/plain": [
       "0.8064481371355302"
      ]
     },
     "execution_count": 24,
     "metadata": {},
     "output_type": "execute_result"
    }
   ],
   "source": [
    "import numpy as np\n",
    "np.mean(scores)"
   ]
  },
  {
   "cell_type": "code",
   "execution_count": null,
   "metadata": {},
   "outputs": [],
   "source": []
  }
 ],
 "metadata": {
  "kernelspec": {
   "display_name": "Python 3 (ipykernel)",
   "language": "python",
   "name": "python3"
  },
  "language_info": {
   "codemirror_mode": {
    "name": "ipython",
    "version": 3
   },
   "file_extension": ".py",
   "mimetype": "text/x-python",
   "name": "python",
   "nbconvert_exporter": "python",
   "pygments_lexer": "ipython3",
   "version": "3.10.12"
  }
 },
 "nbformat": 4,
 "nbformat_minor": 4
}
