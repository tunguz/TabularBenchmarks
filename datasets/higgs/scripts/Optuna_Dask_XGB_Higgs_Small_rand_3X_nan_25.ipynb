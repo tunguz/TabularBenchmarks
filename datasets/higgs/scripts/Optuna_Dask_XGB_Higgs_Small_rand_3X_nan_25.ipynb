{
 "cells": [
  {
   "cell_type": "code",
   "execution_count": 1,
   "metadata": {},
   "outputs": [],
   "source": [
    "import os\n",
    "#os.environ[\"CUDA_DEVICE_ORDER\"]=\"PCI_BUS_ID\"\n",
    "#os.environ[\"CUDA_VISIBLE_DEVICES\"]=\"0, 1, 2, 4\""
   ]
  },
  {
   "cell_type": "code",
   "execution_count": 2,
   "metadata": {},
   "outputs": [
    {
     "data": {
      "text/plain": [
       "'1.6.2'"
      ]
     },
     "execution_count": 2,
     "metadata": {},
     "output_type": "execute_result"
    }
   ],
   "source": [
    "from dask.distributed import Client\n",
    "from dask_cuda import LocalCUDACluster\n",
    "from dask import dataframe as dd\n",
    "import pandas as pd\n",
    "import xgboost as xgb\n",
    "from sklearn.model_selection import KFold, train_test_split\n",
    "from sklearn.metrics import roc_auc_score\n",
    "import optuna\n",
    "import gc\n",
    "xgb.__version__"
   ]
  },
  {
   "cell_type": "code",
   "execution_count": 3,
   "metadata": {},
   "outputs": [
    {
     "name": "stdout",
     "output_type": "stream",
     "text": [
      "Tue Nov 22 19:15:34 2022       \n",
      "+-----------------------------------------------------------------------------+\n",
      "| NVIDIA-SMI 450.142.00   Driver Version: 450.142.00   CUDA Version: 11.0     |\n",
      "|-------------------------------+----------------------+----------------------+\n",
      "| GPU  Name        Persistence-M| Bus-Id        Disp.A | Volatile Uncorr. ECC |\n",
      "| Fan  Temp  Perf  Pwr:Usage/Cap|         Memory-Usage | GPU-Util  Compute M. |\n",
      "|                               |                      |               MIG M. |\n",
      "|===============================+======================+======================|\n",
      "|   0  Tesla V100-DGXS...  On   | 00000000:07:00.0  On |                    0 |\n",
      "| N/A   41C    P0    39W / 300W |    359MiB / 32499MiB |      0%      Default |\n",
      "|                               |                      |                  N/A |\n",
      "+-------------------------------+----------------------+----------------------+\n",
      "|   1  Tesla V100-DGXS...  On   | 00000000:08:00.0 Off |                    0 |\n",
      "| N/A   43C    P0    36W / 300W |      1MiB / 32508MiB |      0%      Default |\n",
      "|                               |                      |                  N/A |\n",
      "+-------------------------------+----------------------+----------------------+\n",
      "|   2  Tesla V100-DGXS...  On   | 00000000:0E:00.0 Off |                    0 |\n",
      "| N/A   45C    P0    37W / 300W |      1MiB / 32508MiB |      0%      Default |\n",
      "|                               |                      |                  N/A |\n",
      "+-------------------------------+----------------------+----------------------+\n",
      "|   3  Tesla V100-DGXS...  On   | 00000000:0F:00.0 Off |                    0 |\n",
      "| N/A   42C    P0    39W / 300W |      1MiB / 32508MiB |      0%      Default |\n",
      "|                               |                      |                  N/A |\n",
      "+-------------------------------+----------------------+----------------------+\n",
      "                                                                               \n",
      "+-----------------------------------------------------------------------------+\n",
      "| Processes:                                                                  |\n",
      "|  GPU   GI   CI        PID   Type   Process name                  GPU Memory |\n",
      "|        ID   ID                                                   Usage      |\n",
      "|=============================================================================|\n",
      "|    0   N/A  N/A      4182      G   /usr/lib/xorg/Xorg                126MiB |\n",
      "|    0   N/A  N/A      4663      G   /usr/bin/gnome-shell               80MiB |\n",
      "|    0   N/A  N/A      4710      G   ...mviewer/tv_bin/TeamViewer       21MiB |\n",
      "|    0   N/A  N/A     37701      G   ...AAAAAAAAA= --shared-files      126MiB |\n",
      "+-----------------------------------------------------------------------------+\n"
     ]
    }
   ],
   "source": [
    "!nvidia-smi"
   ]
  },
  {
   "cell_type": "code",
   "execution_count": 4,
   "metadata": {},
   "outputs": [
    {
     "name": "stdout",
     "output_type": "stream",
     "text": [
      "GPU 0: Tesla V100-DGXS-32GB (UUID: GPU-d752af09-1f62-bf3b-4f70-78b84e9e41f6)\n",
      "GPU 1: Tesla V100-DGXS-32GB (UUID: GPU-054a4a35-f98a-3ebc-9100-0f697c246b43)\n",
      "GPU 2: Tesla V100-DGXS-32GB (UUID: GPU-454525d4-bebd-7fb8-0ba3-3b85e2f99abd)\n",
      "GPU 3: Tesla V100-DGXS-32GB (UUID: GPU-af0fb74e-f5eb-0833-17ff-494cc6bdcee1)\n"
     ]
    }
   ],
   "source": [
    "!nvidia-smi -L"
   ]
  },
  {
   "cell_type": "code",
   "execution_count": 5,
   "metadata": {},
   "outputs": [],
   "source": [
    "train_x = dd.read_csv('../input/higgs_small_roc/xgtrain_25_3.csv')\n",
    "test_x = dd.read_csv('../input/higgs_small_roc/xgval.csv')"
   ]
  },
  {
   "cell_type": "code",
   "execution_count": 6,
   "metadata": {},
   "outputs": [],
   "source": [
    "train_y = train_x['target']\n",
    "train_x = train_x[train_x.columns.difference(['target'])]\n",
    "\n",
    "test_y = test_x['target']\n",
    "test_x = test_x[test_x.columns.difference(['target'])]"
   ]
  },
  {
   "cell_type": "code",
   "execution_count": 7,
   "metadata": {},
   "outputs": [],
   "source": [
    "cluster = LocalCUDACluster(n_workers=4)\n",
    "client = Client(cluster)"
   ]
  },
  {
   "cell_type": "code",
   "execution_count": 8,
   "metadata": {},
   "outputs": [],
   "source": [
    "dtrain = xgb.dask.DaskDMatrix(client, train_x, train_y)"
   ]
  },
  {
   "cell_type": "code",
   "execution_count": 9,
   "metadata": {},
   "outputs": [],
   "source": [
    "dtest = xgb.dask.DaskDMatrix(client, test_x, test_y)\n"
   ]
  },
  {
   "cell_type": "code",
   "execution_count": 10,
   "metadata": {},
   "outputs": [],
   "source": [
    "num_round = 1000"
   ]
  },
  {
   "cell_type": "code",
   "execution_count": 11,
   "metadata": {},
   "outputs": [],
   "source": [
    "def objective(trial):\n",
    "        \n",
    "    params = {\n",
    "        'objective': trial.suggest_categorical('objective',['binary:logistic']),\n",
    "        'tree_method': trial.suggest_categorical('tree_method',['gpu_hist']),  # 'gpu_hist','hist'\n",
    "        'lambda': trial.suggest_loguniform('lambda',1e-3,10.0),\n",
    "        'alpha': trial.suggest_loguniform('alpha',1e-3,10.0),\n",
    "        'colsample_bytree': trial.suggest_uniform('colsample_bytree', 0.3,1.0),\n",
    "        'subsample': trial.suggest_uniform('subsample', 0.4, 1.0),\n",
    "        'learning_rate': trial.suggest_loguniform('learning_rate', 0.001,0.1),\n",
    "        #'n_estimators': trial.suggest_categorical('n_estimators', [1000]),\n",
    "        'max_depth': trial.suggest_int('max_depth', 3,25),\n",
    "        #'random_state': trial.suggest_categorical('random_state', [24,48,2020]),\n",
    "        'min_child_weight': trial.suggest_int('min_child_weight', 1,300),\n",
    "        'eval_metric': trial.suggest_categorical('eval_metric',['logloss']),\n",
    "\n",
    "    }\n",
    "\n",
    "    output = xgb.dask.train(client, params, dtrain, num_round)\n",
    "    \n",
    "    booster = output['booster']  # booster is the trained model\n",
    "    booster.set_param({'predictor': 'gpu_predictor'})\n",
    "\n",
    "    predictions = xgb.dask.predict(client, booster, dtest)\n",
    "    \n",
    "    predictions = predictions.compute()\n",
    "\n",
    "    roc = roc_auc_score(test_y, predictions)\n",
    "    \n",
    "    return roc"
   ]
  },
  {
   "cell_type": "code",
   "execution_count": 12,
   "metadata": {},
   "outputs": [
    {
     "name": "stderr",
     "output_type": "stream",
     "text": [
      "\u001b[32m[I 2022-11-22 19:15:57,975]\u001b[0m A new study created in memory with name: no-name-0edc52dc-a426-4d11-b222-3fad700cba43\u001b[0m\n"
     ]
    }
   ],
   "source": [
    "study = optuna.create_study(direction='maximize')"
   ]
  },
  {
   "cell_type": "code",
   "execution_count": 13,
   "metadata": {},
   "outputs": [
    {
     "name": "stderr",
     "output_type": "stream",
     "text": [
      "/home/tunguz/anaconda3/lib/python3.7/site-packages/xgboost/dask.py:884: RuntimeWarning: coroutine 'Client._wait_for_workers' was never awaited\n",
      "  client.wait_for_workers(n_workers)\n",
      "\u001b[32m[I 2022-11-22 19:16:13,868]\u001b[0m Trial 0 finished with value: 0.8094874183304518 and parameters: {'objective': 'binary:logistic', 'tree_method': 'gpu_hist', 'lambda': 0.056071448038671784, 'alpha': 1.9019092519236398, 'colsample_bytree': 0.5490627208494752, 'subsample': 0.5562034008141327, 'learning_rate': 0.042093909972864975, 'max_depth': 9, 'min_child_weight': 233, 'eval_metric': 'logloss'}. Best is trial 0 with value: 0.8094874183304518.\u001b[0m\n",
      "/home/tunguz/anaconda3/lib/python3.7/site-packages/xgboost/dask.py:884: RuntimeWarning: coroutine 'Client._wait_for_workers' was never awaited\n",
      "  client.wait_for_workers(n_workers)\n",
      "\u001b[32m[I 2022-11-22 19:17:17,710]\u001b[0m Trial 1 finished with value: 0.8064716488645771 and parameters: {'objective': 'binary:logistic', 'tree_method': 'gpu_hist', 'lambda': 9.414737387351568, 'alpha': 0.006998003981925643, 'colsample_bytree': 0.958937250944675, 'subsample': 0.7599799130405096, 'learning_rate': 0.0044876488738710574, 'max_depth': 11, 'min_child_weight': 35, 'eval_metric': 'logloss'}. Best is trial 0 with value: 0.8094874183304518.\u001b[0m\n"
     ]
    },
    {
     "name": "stdout",
     "output_type": "stream",
     "text": [
      "CPU times: user 8.83 s, sys: 2.67 s, total: 11.5 s\n",
      "Wall time: 1min 19s\n"
     ]
    }
   ],
   "source": [
    "%%time\n",
    "study.optimize(objective, n_trials=2)"
   ]
  },
  {
   "cell_type": "code",
   "execution_count": 14,
   "metadata": {},
   "outputs": [
    {
     "name": "stderr",
     "output_type": "stream",
     "text": [
      "/home/tunguz/anaconda3/lib/python3.7/site-packages/xgboost/dask.py:884: RuntimeWarning: coroutine 'Client._wait_for_workers' was never awaited\n",
      "  client.wait_for_workers(n_workers)\n",
      "\u001b[32m[I 2022-11-22 19:17:51,022]\u001b[0m Trial 2 finished with value: 0.8131713694733884 and parameters: {'objective': 'binary:logistic', 'tree_method': 'gpu_hist', 'lambda': 0.13262777006712875, 'alpha': 0.0010968738856912688, 'colsample_bytree': 0.7725257476589437, 'subsample': 0.647021024558522, 'learning_rate': 0.01791516877631808, 'max_depth': 14, 'min_child_weight': 271, 'eval_metric': 'logloss'}. Best is trial 2 with value: 0.8131713694733884.\u001b[0m\n",
      "/home/tunguz/anaconda3/lib/python3.7/site-packages/xgboost/dask.py:884: RuntimeWarning: coroutine 'Client._wait_for_workers' was never awaited\n",
      "  client.wait_for_workers(n_workers)\n",
      "\u001b[32m[I 2022-11-22 19:18:19,869]\u001b[0m Trial 3 finished with value: 0.7867546720212514 and parameters: {'objective': 'binary:logistic', 'tree_method': 'gpu_hist', 'lambda': 1.146089753070209, 'alpha': 0.0665778994784606, 'colsample_bytree': 0.38547983969915833, 'subsample': 0.4204416953697622, 'learning_rate': 0.0015711535421786306, 'max_depth': 10, 'min_child_weight': 257, 'eval_metric': 'logloss'}. Best is trial 2 with value: 0.8131713694733884.\u001b[0m\n",
      "/home/tunguz/anaconda3/lib/python3.7/site-packages/xgboost/dask.py:884: RuntimeWarning: coroutine 'Client._wait_for_workers' was never awaited\n",
      "  client.wait_for_workers(n_workers)\n",
      "\u001b[32m[I 2022-11-22 19:19:20,643]\u001b[0m Trial 4 finished with value: 0.8098553275300113 and parameters: {'objective': 'binary:logistic', 'tree_method': 'gpu_hist', 'lambda': 6.325645319926946, 'alpha': 0.003877848890988134, 'colsample_bytree': 0.48413265783428255, 'subsample': 0.40566103169134704, 'learning_rate': 0.008515051248463133, 'max_depth': 13, 'min_child_weight': 90, 'eval_metric': 'logloss'}. Best is trial 2 with value: 0.8131713694733884.\u001b[0m\n",
      "/home/tunguz/anaconda3/lib/python3.7/site-packages/xgboost/dask.py:884: RuntimeWarning: coroutine 'Client._wait_for_workers' was never awaited\n",
      "  client.wait_for_workers(n_workers)\n",
      "\u001b[32m[I 2022-11-22 19:19:38,626]\u001b[0m Trial 5 finished with value: 0.8033927430949885 and parameters: {'objective': 'binary:logistic', 'tree_method': 'gpu_hist', 'lambda': 0.004541396797950304, 'alpha': 3.4609712762992406, 'colsample_bytree': 0.436386721604061, 'subsample': 0.8391343864066025, 'learning_rate': 0.006602303871201744, 'max_depth': 8, 'min_child_weight': 283, 'eval_metric': 'logloss'}. Best is trial 2 with value: 0.8131713694733884.\u001b[0m\n",
      "/home/tunguz/anaconda3/lib/python3.7/site-packages/xgboost/dask.py:884: RuntimeWarning: coroutine 'Client._wait_for_workers' was never awaited\n",
      "  client.wait_for_workers(n_workers)\n",
      "\u001b[32m[I 2022-11-22 19:22:09,022]\u001b[0m Trial 6 finished with value: 0.7995248618110675 and parameters: {'objective': 'binary:logistic', 'tree_method': 'gpu_hist', 'lambda': 1.4232014453038713, 'alpha': 7.448377350234837, 'colsample_bytree': 0.617234320450895, 'subsample': 0.508881342855426, 'learning_rate': 0.001139195002527062, 'max_depth': 16, 'min_child_weight': 68, 'eval_metric': 'logloss'}. Best is trial 2 with value: 0.8131713694733884.\u001b[0m\n",
      "/home/tunguz/anaconda3/lib/python3.7/site-packages/xgboost/dask.py:884: RuntimeWarning: coroutine 'Client._wait_for_workers' was never awaited\n",
      "  client.wait_for_workers(n_workers)\n",
      "\u001b[32m[I 2022-11-22 19:22:50,582]\u001b[0m Trial 7 finished with value: 0.8052984501341908 and parameters: {'objective': 'binary:logistic', 'tree_method': 'gpu_hist', 'lambda': 0.16759063063157723, 'alpha': 0.004686263019260186, 'colsample_bytree': 0.9413477389587319, 'subsample': 0.737940396513767, 'learning_rate': 0.08652145692597674, 'max_depth': 16, 'min_child_weight': 115, 'eval_metric': 'logloss'}. Best is trial 2 with value: 0.8131713694733884.\u001b[0m\n",
      "/home/tunguz/anaconda3/lib/python3.7/site-packages/xgboost/dask.py:884: RuntimeWarning: coroutine 'Client._wait_for_workers' was never awaited\n",
      "  client.wait_for_workers(n_workers)\n",
      "\u001b[32m[I 2022-11-22 19:23:32,924]\u001b[0m Trial 8 finished with value: 0.8018360549124088 and parameters: {'objective': 'binary:logistic', 'tree_method': 'gpu_hist', 'lambda': 0.04571692582175411, 'alpha': 0.004805103856699522, 'colsample_bytree': 0.690388082715355, 'subsample': 0.6666712550993992, 'learning_rate': 0.09596253438568446, 'max_depth': 13, 'min_child_weight': 44, 'eval_metric': 'logloss'}. Best is trial 2 with value: 0.8131713694733884.\u001b[0m\n",
      "/home/tunguz/anaconda3/lib/python3.7/site-packages/xgboost/dask.py:884: RuntimeWarning: coroutine 'Client._wait_for_workers' was never awaited\n",
      "  client.wait_for_workers(n_workers)\n",
      "\u001b[32m[I 2022-11-22 19:25:18,260]\u001b[0m Trial 9 finished with value: 0.8032463082872661 and parameters: {'objective': 'binary:logistic', 'tree_method': 'gpu_hist', 'lambda': 0.0032747450737825004, 'alpha': 0.06577496085940997, 'colsample_bytree': 0.7735962177655478, 'subsample': 0.926379619831202, 'learning_rate': 0.002469761926407797, 'max_depth': 19, 'min_child_weight': 269, 'eval_metric': 'logloss'}. Best is trial 2 with value: 0.8131713694733884.\u001b[0m\n",
      "/home/tunguz/anaconda3/lib/python3.7/site-packages/xgboost/dask.py:884: RuntimeWarning: coroutine 'Client._wait_for_workers' was never awaited\n",
      "  client.wait_for_workers(n_workers)\n",
      "\u001b[32m[I 2022-11-22 19:25:24,992]\u001b[0m Trial 10 finished with value: 0.7996522432172173 and parameters: {'objective': 'binary:logistic', 'tree_method': 'gpu_hist', 'lambda': 0.01246585284364352, 'alpha': 0.0010024468381874747, 'colsample_bytree': 0.7816069486620254, 'subsample': 0.6179660789722057, 'learning_rate': 0.021296367478450796, 'max_depth': 4, 'min_child_weight': 181, 'eval_metric': 'logloss'}. Best is trial 2 with value: 0.8131713694733884.\u001b[0m\n",
      "/home/tunguz/anaconda3/lib/python3.7/site-packages/xgboost/dask.py:884: RuntimeWarning: coroutine 'Client._wait_for_workers' was never awaited\n",
      "  client.wait_for_workers(n_workers)\n",
      "\u001b[32m[I 2022-11-22 19:29:39,994]\u001b[0m Trial 11 finished with value: 0.8107380943715551 and parameters: {'objective': 'binary:logistic', 'tree_method': 'gpu_hist', 'lambda': 8.002250609432147, 'alpha': 0.0010020473033699566, 'colsample_bytree': 0.4931448258007234, 'subsample': 0.43345996806988824, 'learning_rate': 0.014342902738646595, 'max_depth': 24, 'min_child_weight': 145, 'eval_metric': 'logloss'}. Best is trial 2 with value: 0.8131713694733884.\u001b[0m\n",
      "/home/tunguz/anaconda3/lib/python3.7/site-packages/xgboost/dask.py:884: RuntimeWarning: coroutine 'Client._wait_for_workers' was never awaited\n",
      "  client.wait_for_workers(n_workers)\n",
      "\u001b[32m[I 2022-11-22 19:37:06,480]\u001b[0m Trial 12 finished with value: 0.8075375550127225 and parameters: {'objective': 'binary:logistic', 'tree_method': 'gpu_hist', 'lambda': 0.40144948974384537, 'alpha': 0.001177899020270588, 'colsample_bytree': 0.33235111189121447, 'subsample': 0.5207188339550379, 'learning_rate': 0.02305245839216616, 'max_depth': 25, 'min_child_weight': 179, 'eval_metric': 'logloss'}. Best is trial 2 with value: 0.8131713694733884.\u001b[0m\n",
      "/home/tunguz/anaconda3/lib/python3.7/site-packages/xgboost/dask.py:884: RuntimeWarning: coroutine 'Client._wait_for_workers' was never awaited\n",
      "  client.wait_for_workers(n_workers)\n",
      "\u001b[32m[I 2022-11-22 19:40:27,465]\u001b[0m Trial 13 finished with value: 0.8112530498487207 and parameters: {'objective': 'binary:logistic', 'tree_method': 'gpu_hist', 'lambda': 1.659446035725783, 'alpha': 0.02452247630754865, 'colsample_bytree': 0.7875134914611327, 'subsample': 0.9724690985700486, 'learning_rate': 0.017609391824459933, 'max_depth': 23, 'min_child_weight': 141, 'eval_metric': 'logloss'}. Best is trial 2 with value: 0.8131713694733884.\u001b[0m\n",
      "/home/tunguz/anaconda3/lib/python3.7/site-packages/xgboost/dask.py:884: RuntimeWarning: coroutine 'Client._wait_for_workers' was never awaited\n",
      "  client.wait_for_workers(n_workers)\n",
      "\u001b[32m[I 2022-11-22 19:41:34,521]\u001b[0m Trial 14 finished with value: 0.8090388603297123 and parameters: {'objective': 'binary:logistic', 'tree_method': 'gpu_hist', 'lambda': 0.7292588550196559, 'alpha': 0.2474970809565741, 'colsample_bytree': 0.8363583921151457, 'subsample': 0.9360295377881955, 'learning_rate': 0.03771883428764409, 'max_depth': 20, 'min_child_weight': 207, 'eval_metric': 'logloss'}. Best is trial 2 with value: 0.8131713694733884.\u001b[0m\n",
      "/home/tunguz/anaconda3/lib/python3.7/site-packages/xgboost/dask.py:884: RuntimeWarning: coroutine 'Client._wait_for_workers' was never awaited\n",
      "  client.wait_for_workers(n_workers)\n",
      "\u001b[32m[I 2022-11-22 19:43:39,892]\u001b[0m Trial 15 finished with value: 0.812911193114386 and parameters: {'objective': 'binary:logistic', 'tree_method': 'gpu_hist', 'lambda': 0.15094104355990529, 'alpha': 0.02116944419453282, 'colsample_bytree': 0.8581963789946293, 'subsample': 0.822750999806212, 'learning_rate': 0.013047079322145015, 'max_depth': 21, 'min_child_weight': 131, 'eval_metric': 'logloss'}. Best is trial 2 with value: 0.8131713694733884.\u001b[0m\n",
      "/home/tunguz/anaconda3/lib/python3.7/site-packages/xgboost/dask.py:884: RuntimeWarning: coroutine 'Client._wait_for_workers' was never awaited\n",
      "  client.wait_for_workers(n_workers)\n",
      "\u001b[32m[I 2022-11-22 19:45:36,631]\u001b[0m Trial 16 finished with value: 0.809660888259961 and parameters: {'objective': 'binary:logistic', 'tree_method': 'gpu_hist', 'lambda': 0.019099875721690213, 'alpha': 0.5290460800781073, 'colsample_bytree': 0.8755262882246635, 'subsample': 0.8430824563765533, 'learning_rate': 0.004530652801137171, 'max_depth': 20, 'min_child_weight': 203, 'eval_metric': 'logloss'}. Best is trial 2 with value: 0.8131713694733884.\u001b[0m\n",
      "/home/tunguz/anaconda3/lib/python3.7/site-packages/xgboost/dask.py:884: RuntimeWarning: coroutine 'Client._wait_for_workers' was never awaited\n",
      "  client.wait_for_workers(n_workers)\n",
      "\u001b[32m[I 2022-11-22 19:47:15,774]\u001b[0m Trial 17 finished with value: 0.8117204981923972 and parameters: {'objective': 'binary:logistic', 'tree_method': 'gpu_hist', 'lambda': 0.1834050527788407, 'alpha': 0.01822861631373124, 'colsample_bytree': 0.6834761429971912, 'subsample': 0.8231002193074627, 'learning_rate': 0.011452026222788871, 'max_depth': 17, 'min_child_weight': 108, 'eval_metric': 'logloss'}. Best is trial 2 with value: 0.8131713694733884.\u001b[0m\n",
      "/home/tunguz/anaconda3/lib/python3.7/site-packages/xgboost/dask.py:884: RuntimeWarning: coroutine 'Client._wait_for_workers' was never awaited\n",
      "  client.wait_for_workers(n_workers)\n",
      "\u001b[32m[I 2022-11-22 19:48:46,166]\u001b[0m Trial 18 finished with value: 0.8091032603378523 and parameters: {'objective': 'binary:logistic', 'tree_method': 'gpu_hist', 'lambda': 0.0014353396095642128, 'alpha': 0.02477218668134494, 'colsample_bytree': 0.8754094803466729, 'subsample': 0.6600352954440019, 'learning_rate': 0.03269022504648895, 'max_depth': 22, 'min_child_weight': 295, 'eval_metric': 'logloss'}. Best is trial 2 with value: 0.8131713694733884.\u001b[0m\n",
      "/home/tunguz/anaconda3/lib/python3.7/site-packages/xgboost/dask.py:884: RuntimeWarning: coroutine 'Client._wait_for_workers' was never awaited\n",
      "  client.wait_for_workers(n_workers)\n",
      "\u001b[32m[I 2022-11-22 19:48:56,902]\u001b[0m Trial 19 finished with value: 0.7974862701367631 and parameters: {'objective': 'binary:logistic', 'tree_method': 'gpu_hist', 'lambda': 0.08327218250263867, 'alpha': 0.21358324957220648, 'colsample_bytree': 0.6275139053252684, 'subsample': 0.7772025960145521, 'learning_rate': 0.0055929440310315695, 'max_depth': 6, 'min_child_weight': 242, 'eval_metric': 'logloss'}. Best is trial 2 with value: 0.8131713694733884.\u001b[0m\n",
      "/home/tunguz/anaconda3/lib/python3.7/site-packages/xgboost/dask.py:884: RuntimeWarning: coroutine 'Client._wait_for_workers' was never awaited\n",
      "  client.wait_for_workers(n_workers)\n",
      "\u001b[32m[I 2022-11-22 19:49:26,923]\u001b[0m Trial 20 finished with value: 0.8059400206419188 and parameters: {'objective': 'binary:logistic', 'tree_method': 'gpu_hist', 'lambda': 0.02847809202310273, 'alpha': 0.010163551972252717, 'colsample_bytree': 0.986370891909756, 'subsample': 0.6036324167981152, 'learning_rate': 0.05699674729055459, 'max_depth': 14, 'min_child_weight': 179, 'eval_metric': 'logloss'}. Best is trial 2 with value: 0.8131713694733884.\u001b[0m\n",
      "/home/tunguz/anaconda3/lib/python3.7/site-packages/xgboost/dask.py:884: RuntimeWarning: coroutine 'Client._wait_for_workers' was never awaited\n",
      "  client.wait_for_workers(n_workers)\n",
      "\u001b[32m[I 2022-11-22 20:01:53,309]\u001b[0m Trial 21 finished with value: 0.8060999240929438 and parameters: {'objective': 'binary:logistic', 'tree_method': 'gpu_hist', 'lambda': 0.207328764632106, 'alpha': 0.023195430319464135, 'colsample_bytree': 0.6926712501531755, 'subsample': 0.839317081849421, 'learning_rate': 0.012233515534709529, 'max_depth': 17, 'min_child_weight': 1, 'eval_metric': 'logloss'}. Best is trial 2 with value: 0.8131713694733884.\u001b[0m\n",
      "/home/tunguz/anaconda3/lib/python3.7/site-packages/xgboost/dask.py:884: RuntimeWarning: coroutine 'Client._wait_for_workers' was never awaited\n",
      "  client.wait_for_workers(n_workers)\n",
      "\u001b[32m[I 2022-11-22 20:03:42,028]\u001b[0m Trial 22 finished with value: 0.8121838619172512 and parameters: {'objective': 'binary:logistic', 'tree_method': 'gpu_hist', 'lambda': 0.32131024659598517, 'alpha': 0.01387166093617989, 'colsample_bytree': 0.7390550529844889, 'subsample': 0.7150745376541539, 'learning_rate': 0.008922873606990164, 'max_depth': 18, 'min_child_weight': 107, 'eval_metric': 'logloss'}. Best is trial 2 with value: 0.8131713694733884.\u001b[0m\n",
      "/home/tunguz/anaconda3/lib/python3.7/site-packages/xgboost/dask.py:884: RuntimeWarning: coroutine 'Client._wait_for_workers' was never awaited\n",
      "  client.wait_for_workers(n_workers)\n",
      "\u001b[32m[I 2022-11-22 20:06:01,277]\u001b[0m Trial 23 finished with value: 0.8116085747449046 and parameters: {'objective': 'binary:logistic', 'tree_method': 'gpu_hist', 'lambda': 0.4556523207439818, 'alpha': 0.0027098658774100275, 'colsample_bytree': 0.739552492551328, 'subsample': 0.7181570875968857, 'learning_rate': 0.008140016207191033, 'max_depth': 21, 'min_child_weight': 125, 'eval_metric': 'logloss'}. Best is trial 2 with value: 0.8131713694733884.\u001b[0m\n",
      "/home/tunguz/anaconda3/lib/python3.7/site-packages/xgboost/dask.py:884: RuntimeWarning: coroutine 'Client._wait_for_workers' was never awaited\n",
      "  client.wait_for_workers(n_workers)\n",
      "\u001b[32m[I 2022-11-22 20:07:29,713]\u001b[0m Trial 24 finished with value: 0.8115565998047992 and parameters: {'objective': 'binary:logistic', 'tree_method': 'gpu_hist', 'lambda': 3.3714262873104794, 'alpha': 0.011746036587368938, 'colsample_bytree': 0.8448899621001688, 'subsample': 0.6802197994545058, 'learning_rate': 0.025528268331558943, 'max_depth': 18, 'min_child_weight': 81, 'eval_metric': 'logloss'}. Best is trial 2 with value: 0.8131713694733884.\u001b[0m\n",
      "/home/tunguz/anaconda3/lib/python3.7/site-packages/xgboost/dask.py:884: RuntimeWarning: coroutine 'Client._wait_for_workers' was never awaited\n",
      "  client.wait_for_workers(n_workers)\n",
      "\u001b[32m[I 2022-11-22 20:09:10,709]\u001b[0m Trial 25 finished with value: 0.8063706014280807 and parameters: {'objective': 'binary:logistic', 'tree_method': 'gpu_hist', 'lambda': 0.40010648737604465, 'alpha': 0.0023699554930533785, 'colsample_bytree': 0.9047602693200731, 'subsample': 0.7995660405479095, 'learning_rate': 0.003307876462933924, 'max_depth': 15, 'min_child_weight': 157, 'eval_metric': 'logloss'}. Best is trial 2 with value: 0.8131713694733884.\u001b[0m\n",
      "/home/tunguz/anaconda3/lib/python3.7/site-packages/xgboost/dask.py:884: RuntimeWarning: coroutine 'Client._wait_for_workers' was never awaited\n",
      "  client.wait_for_workers(n_workers)\n",
      "\u001b[32m[I 2022-11-22 20:10:11,993]\u001b[0m Trial 26 finished with value: 0.8120774253928474 and parameters: {'objective': 'binary:logistic', 'tree_method': 'gpu_hist', 'lambda': 0.0974914050820511, 'alpha': 0.045783390076148824, 'colsample_bytree': 0.7454352820785461, 'subsample': 0.8882627572252484, 'learning_rate': 0.009782436547365565, 'max_depth': 12, 'min_child_weight': 61, 'eval_metric': 'logloss'}. Best is trial 2 with value: 0.8131713694733884.\u001b[0m\n",
      "/home/tunguz/anaconda3/lib/python3.7/site-packages/xgboost/dask.py:884: RuntimeWarning: coroutine 'Client._wait_for_workers' was never awaited\n",
      "  client.wait_for_workers(n_workers)\n",
      "\u001b[32m[I 2022-11-22 20:11:36,836]\u001b[0m Trial 27 finished with value: 0.812781659334246 and parameters: {'objective': 'binary:logistic', 'tree_method': 'gpu_hist', 'lambda': 0.21667504969638576, 'alpha': 0.15614629899742985, 'colsample_bytree': 0.8162201216168975, 'subsample': 0.621265611201572, 'learning_rate': 0.01577992135438601, 'max_depth': 18, 'min_child_weight': 98, 'eval_metric': 'logloss'}. Best is trial 2 with value: 0.8131713694733884.\u001b[0m\n",
      "/home/tunguz/anaconda3/lib/python3.7/site-packages/xgboost/dask.py:884: RuntimeWarning: coroutine 'Client._wait_for_workers' was never awaited\n",
      "  client.wait_for_workers(n_workers)\n",
      "\u001b[32m[I 2022-11-22 20:13:10,347]\u001b[0m Trial 28 finished with value: 0.8130310575174335 and parameters: {'objective': 'binary:logistic', 'tree_method': 'gpu_hist', 'lambda': 0.01200691750132131, 'alpha': 0.1814063818290255, 'colsample_bytree': 0.8176115235655743, 'subsample': 0.6328890830068403, 'learning_rate': 0.015562022698597853, 'max_depth': 21, 'min_child_weight': 161, 'eval_metric': 'logloss'}. Best is trial 2 with value: 0.8131713694733884.\u001b[0m\n",
      "/home/tunguz/anaconda3/lib/python3.7/site-packages/xgboost/dask.py:884: RuntimeWarning: coroutine 'Client._wait_for_workers' was never awaited\n",
      "  client.wait_for_workers(n_workers)\n",
      "\u001b[32m[I 2022-11-22 20:14:43,314]\u001b[0m Trial 29 finished with value: 0.8087547795747274 and parameters: {'objective': 'binary:logistic', 'tree_method': 'gpu_hist', 'lambda': 0.01173347813511547, 'alpha': 0.699367912625093, 'colsample_bytree': 0.9129158071853178, 'subsample': 0.5669286158129105, 'learning_rate': 0.04570879027189753, 'max_depth': 22, 'min_child_weight': 218, 'eval_metric': 'logloss'}. Best is trial 2 with value: 0.8131713694733884.\u001b[0m\n",
      "/home/tunguz/anaconda3/lib/python3.7/site-packages/xgboost/dask.py:884: RuntimeWarning: coroutine 'Client._wait_for_workers' was never awaited\n",
      "  client.wait_for_workers(n_workers)\n",
      "\u001b[32m[I 2022-11-22 20:14:56,891]\u001b[0m Trial 30 finished with value: 0.8096385410739486 and parameters: {'objective': 'binary:logistic', 'tree_method': 'gpu_hist', 'lambda': 0.05712756329744987, 'alpha': 0.9933666781775103, 'colsample_bytree': 0.558789124216976, 'subsample': 0.4801128140724008, 'learning_rate': 0.028687388189017615, 'max_depth': 8, 'min_child_weight': 158, 'eval_metric': 'logloss'}. Best is trial 2 with value: 0.8131713694733884.\u001b[0m\n",
      "/home/tunguz/anaconda3/lib/python3.7/site-packages/xgboost/dask.py:884: RuntimeWarning: coroutine 'Client._wait_for_workers' was never awaited\n",
      "  client.wait_for_workers(n_workers)\n",
      "\u001b[32m[I 2022-11-22 20:16:42,217]\u001b[0m Trial 31 finished with value: 0.8120075710733459 and parameters: {'objective': 'binary:logistic', 'tree_method': 'gpu_hist', 'lambda': 0.0445136510131146, 'alpha': 0.15635336881095122, 'colsample_bytree': 0.8145908781314399, 'subsample': 0.6175880843931711, 'learning_rate': 0.017090033510677286, 'max_depth': 20, 'min_child_weight': 92, 'eval_metric': 'logloss'}. Best is trial 2 with value: 0.8131713694733884.\u001b[0m\n",
      "/home/tunguz/anaconda3/lib/python3.7/site-packages/xgboost/dask.py:884: RuntimeWarning: coroutine 'Client._wait_for_workers' was never awaited\n",
      "  client.wait_for_workers(n_workers)\n",
      "\u001b[32m[I 2022-11-22 20:18:45,906]\u001b[0m Trial 32 finished with value: 0.8131035044692416 and parameters: {'objective': 'binary:logistic', 'tree_method': 'gpu_hist', 'lambda': 0.12671165611719493, 'alpha': 0.09311254113101997, 'colsample_bytree': 0.84294440289968, 'subsample': 0.5713459722760628, 'learning_rate': 0.015206296164404429, 'max_depth': 22, 'min_child_weight': 133, 'eval_metric': 'logloss'}. Best is trial 2 with value: 0.8131713694733884.\u001b[0m\n",
      "/home/tunguz/anaconda3/lib/python3.7/site-packages/xgboost/dask.py:884: RuntimeWarning: coroutine 'Client._wait_for_workers' was never awaited\n",
      "  client.wait_for_workers(n_workers)\n",
      "\u001b[32m[I 2022-11-22 20:26:34,144]\u001b[0m Trial 33 finished with value: 0.812335547213041 and parameters: {'objective': 'binary:logistic', 'tree_method': 'gpu_hist', 'lambda': 0.11098620832468002, 'alpha': 0.42777728985402447, 'colsample_bytree': 0.9944588541876236, 'subsample': 0.5716651153716115, 'learning_rate': 0.01930812250480751, 'max_depth': 25, 'min_child_weight': 131, 'eval_metric': 'logloss'}. Best is trial 2 with value: 0.8131713694733884.\u001b[0m\n",
      "/home/tunguz/anaconda3/lib/python3.7/site-packages/xgboost/dask.py:884: RuntimeWarning: coroutine 'Client._wait_for_workers' was never awaited\n",
      "  client.wait_for_workers(n_workers)\n",
      "\u001b[32m[I 2022-11-22 20:29:12,040]\u001b[0m Trial 34 finished with value: 0.8134586706364271 and parameters: {'objective': 'binary:logistic', 'tree_method': 'gpu_hist', 'lambda': 0.00623675699115079, 'alpha': 0.045832125733080244, 'colsample_bytree': 0.873148980831161, 'subsample': 0.6485717048205879, 'learning_rate': 0.011445108546368488, 'max_depth': 23, 'min_child_weight': 228, 'eval_metric': 'logloss'}. Best is trial 34 with value: 0.8134586706364271.\u001b[0m\n",
      "/home/tunguz/anaconda3/lib/python3.7/site-packages/xgboost/dask.py:884: RuntimeWarning: coroutine 'Client._wait_for_workers' was never awaited\n",
      "  client.wait_for_workers(n_workers)\n",
      "\u001b[32m[I 2022-11-22 20:31:44,107]\u001b[0m Trial 35 finished with value: 0.8124617790558095 and parameters: {'objective': 'binary:logistic', 'tree_method': 'gpu_hist', 'lambda': 0.005993016994775627, 'alpha': 0.09004648140022051, 'colsample_bytree': 0.9381404532669712, 'subsample': 0.5332058538389326, 'learning_rate': 0.007153145030385987, 'max_depth': 23, 'min_child_weight': 246, 'eval_metric': 'logloss'}. Best is trial 34 with value: 0.8134586706364271.\u001b[0m\n",
      "/home/tunguz/anaconda3/lib/python3.7/site-packages/xgboost/dask.py:884: RuntimeWarning: coroutine 'Client._wait_for_workers' was never awaited\n",
      "  client.wait_for_workers(n_workers)\n",
      "\u001b[32m[I 2022-11-22 20:32:16,471]\u001b[0m Trial 36 finished with value: 0.8081570392282553 and parameters: {'objective': 'binary:logistic', 'tree_method': 'gpu_hist', 'lambda': 0.0011845578248023709, 'alpha': 1.9319813008963025, 'colsample_bytree': 0.9028249639470359, 'subsample': 0.6459613971851033, 'learning_rate': 0.005531885977956349, 'max_depth': 11, 'min_child_weight': 273, 'eval_metric': 'logloss'}. Best is trial 34 with value: 0.8134586706364271.\u001b[0m\n",
      "/home/tunguz/anaconda3/lib/python3.7/site-packages/xgboost/dask.py:884: RuntimeWarning: coroutine 'Client._wait_for_workers' was never awaited\n",
      "  client.wait_for_workers(n_workers)\n",
      "\u001b[32m[I 2022-11-22 20:36:09,390]\u001b[0m Trial 37 finished with value: 0.808126009169896 and parameters: {'objective': 'binary:logistic', 'tree_method': 'gpu_hist', 'lambda': 0.007257128059099555, 'alpha': 0.043854683887067564, 'colsample_bytree': 0.8026141198840592, 'subsample': 0.5868665192268332, 'learning_rate': 0.04898351878325708, 'max_depth': 24, 'min_child_weight': 220, 'eval_metric': 'logloss'}. Best is trial 34 with value: 0.8134586706364271.\u001b[0m\n",
      "/home/tunguz/anaconda3/lib/python3.7/site-packages/xgboost/dask.py:884: RuntimeWarning: coroutine 'Client._wait_for_workers' was never awaited\n",
      "  client.wait_for_workers(n_workers)\n",
      "\u001b[32m[I 2022-11-22 20:36:25,138]\u001b[0m Trial 38 finished with value: 0.804897749843007 and parameters: {'objective': 'binary:logistic', 'tree_method': 'gpu_hist', 'lambda': 0.0021905859114693263, 'alpha': 0.3169879179326725, 'colsample_bytree': 0.7255283651770201, 'subsample': 0.47526384944208666, 'learning_rate': 0.0671794314255183, 'max_depth': 10, 'min_child_weight': 254, 'eval_metric': 'logloss'}. Best is trial 34 with value: 0.8134586706364271.\u001b[0m\n",
      "/home/tunguz/anaconda3/lib/python3.7/site-packages/xgboost/dask.py:884: RuntimeWarning: coroutine 'Client._wait_for_workers' was never awaited\n",
      "  client.wait_for_workers(n_workers)\n",
      "\u001b[32m[I 2022-11-22 20:37:09,567]\u001b[0m Trial 39 finished with value: 0.811366962611568 and parameters: {'objective': 'binary:logistic', 'tree_method': 'gpu_hist', 'lambda': 0.03065306540803083, 'alpha': 1.7190158769964883, 'colsample_bytree': 0.5794563685882914, 'subsample': 0.5459609085790291, 'learning_rate': 0.010510781663459416, 'max_depth': 15, 'min_child_weight': 234, 'eval_metric': 'logloss'}. Best is trial 34 with value: 0.8134586706364271.\u001b[0m\n",
      "/home/tunguz/anaconda3/lib/python3.7/site-packages/xgboost/dask.py:884: RuntimeWarning: coroutine 'Client._wait_for_workers' was never awaited\n",
      "  client.wait_for_workers(n_workers)\n",
      "\u001b[32m[I 2022-11-22 20:39:32,093]\u001b[0m Trial 40 finished with value: 0.8114177716824285 and parameters: {'objective': 'binary:logistic', 'tree_method': 'gpu_hist', 'lambda': 0.01092366065625762, 'alpha': 8.874581921061658, 'colsample_bytree': 0.9540880046496195, 'subsample': 0.6958281759582776, 'learning_rate': 0.030702384273236794, 'max_depth': 23, 'min_child_weight': 293, 'eval_metric': 'logloss'}. Best is trial 34 with value: 0.8134586706364271.\u001b[0m\n",
      "/home/tunguz/anaconda3/lib/python3.7/site-packages/xgboost/dask.py:884: RuntimeWarning: coroutine 'Client._wait_for_workers' was never awaited\n",
      "  client.wait_for_workers(n_workers)\n",
      "\u001b[32m[I 2022-11-22 20:41:16,062]\u001b[0m Trial 41 finished with value: 0.81298975476503 and parameters: {'objective': 'binary:logistic', 'tree_method': 'gpu_hist', 'lambda': 0.020034716620530073, 'alpha': 0.049389886989705443, 'colsample_bytree': 0.8628206097674792, 'subsample': 0.7532632736046357, 'learning_rate': 0.013621446987026727, 'max_depth': 21, 'min_child_weight': 160, 'eval_metric': 'logloss'}. Best is trial 34 with value: 0.8134586706364271.\u001b[0m\n",
      "/home/tunguz/anaconda3/lib/python3.7/site-packages/xgboost/dask.py:884: RuntimeWarning: coroutine 'Client._wait_for_workers' was never awaited\n",
      "  client.wait_for_workers(n_workers)\n",
      "\u001b[32m[I 2022-11-22 20:42:56,079]\u001b[0m Trial 42 finished with value: 0.8136495552282208 and parameters: {'objective': 'binary:logistic', 'tree_method': 'gpu_hist', 'lambda': 0.003985449232437432, 'alpha': 0.1120338150807451, 'colsample_bytree': 0.8850378362199638, 'subsample': 0.7446466121671828, 'learning_rate': 0.014253898058047118, 'max_depth': 21, 'min_child_weight': 167, 'eval_metric': 'logloss'}. Best is trial 42 with value: 0.8136495552282208.\u001b[0m\n",
      "/home/tunguz/anaconda3/lib/python3.7/site-packages/xgboost/dask.py:884: RuntimeWarning: coroutine 'Client._wait_for_workers' was never awaited\n",
      "  client.wait_for_workers(n_workers)\n",
      "\u001b[32m[I 2022-11-22 20:47:11,224]\u001b[0m Trial 43 finished with value: 0.8127037662240081 and parameters: {'objective': 'binary:logistic', 'tree_method': 'gpu_hist', 'lambda': 0.003186328639258808, 'alpha': 0.11302947982261591, 'colsample_bytree': 0.9082581275885484, 'subsample': 0.6509693629748794, 'learning_rate': 0.021088552012006337, 'max_depth': 24, 'min_child_weight': 174, 'eval_metric': 'logloss'}. Best is trial 42 with value: 0.8136495552282208.\u001b[0m\n",
      "/home/tunguz/anaconda3/lib/python3.7/site-packages/xgboost/dask.py:884: RuntimeWarning: coroutine 'Client._wait_for_workers' was never awaited\n",
      "  client.wait_for_workers(n_workers)\n",
      "\u001b[32m[I 2022-11-22 20:48:19,007]\u001b[0m Trial 44 finished with value: 0.8126899551575708 and parameters: {'objective': 'binary:logistic', 'tree_method': 'gpu_hist', 'lambda': 0.004809005852092117, 'alpha': 0.11722353146392948, 'colsample_bytree': 0.7692515517134406, 'subsample': 0.7269047927831136, 'learning_rate': 0.015620180586034278, 'max_depth': 19, 'min_child_weight': 194, 'eval_metric': 'logloss'}. Best is trial 42 with value: 0.8136495552282208.\u001b[0m\n",
      "/home/tunguz/anaconda3/lib/python3.7/site-packages/xgboost/dask.py:884: RuntimeWarning: coroutine 'Client._wait_for_workers' was never awaited\n",
      "  client.wait_for_workers(n_workers)\n",
      "\u001b[32m[I 2022-11-22 20:49:54,015]\u001b[0m Trial 45 finished with value: 0.8113410770531626 and parameters: {'objective': 'binary:logistic', 'tree_method': 'gpu_hist', 'lambda': 0.002175228623889936, 'alpha': 0.006786569783232511, 'colsample_bytree': 0.8235379788683571, 'subsample': 0.6904756019208443, 'learning_rate': 0.024216683317276028, 'max_depth': 22, 'min_child_weight': 280, 'eval_metric': 'logloss'}. Best is trial 42 with value: 0.8136495552282208.\u001b[0m\n",
      "/home/tunguz/anaconda3/lib/python3.7/site-packages/xgboost/dask.py:884: RuntimeWarning: coroutine 'Client._wait_for_workers' was never awaited\n",
      "  client.wait_for_workers(n_workers)\n",
      "\u001b[32m[I 2022-11-22 20:57:27,910]\u001b[0m Trial 46 finished with value: 0.8117305752160788 and parameters: {'objective': 'binary:logistic', 'tree_method': 'gpu_hist', 'lambda': 0.008667602508992069, 'alpha': 0.038614326677504335, 'colsample_bytree': 0.9304972148456453, 'subsample': 0.645243905090106, 'learning_rate': 0.006669269764060338, 'max_depth': 25, 'min_child_weight': 263, 'eval_metric': 'logloss'}. Best is trial 42 with value: 0.8136495552282208.\u001b[0m\n",
      "/home/tunguz/anaconda3/lib/python3.7/site-packages/xgboost/dask.py:884: RuntimeWarning: coroutine 'Client._wait_for_workers' was never awaited\n",
      "  client.wait_for_workers(n_workers)\n",
      "\u001b[32m[I 2022-11-22 20:58:07,220]\u001b[0m Trial 47 finished with value: 0.8125307365528152 and parameters: {'objective': 'binary:logistic', 'tree_method': 'gpu_hist', 'lambda': 0.0656026286457285, 'alpha': 0.06498896005603694, 'colsample_bytree': 0.8863856370394977, 'subsample': 0.5915133552568022, 'learning_rate': 0.010059410922673229, 'max_depth': 13, 'min_child_weight': 194, 'eval_metric': 'logloss'}. Best is trial 42 with value: 0.8136495552282208.\u001b[0m\n",
      "/home/tunguz/anaconda3/lib/python3.7/site-packages/xgboost/dask.py:884: RuntimeWarning: coroutine 'Client._wait_for_workers' was never awaited\n",
      "  client.wait_for_workers(n_workers)\n",
      "\u001b[32m[I 2022-11-22 20:58:56,114]\u001b[0m Trial 48 finished with value: 0.812661884613448 and parameters: {'objective': 'binary:logistic', 'tree_method': 'gpu_hist', 'lambda': 0.018211394983672285, 'alpha': 0.3267337092175684, 'colsample_bytree': 0.7716456453627107, 'subsample': 0.4993755828331775, 'learning_rate': 0.01904158315942936, 'max_depth': 19, 'min_child_weight': 223, 'eval_metric': 'logloss'}. Best is trial 42 with value: 0.8136495552282208.\u001b[0m\n",
      "/home/tunguz/anaconda3/lib/python3.7/site-packages/xgboost/dask.py:884: RuntimeWarning: coroutine 'Client._wait_for_workers' was never awaited\n",
      "  client.wait_for_workers(n_workers)\n",
      "\u001b[32m[I 2022-11-22 21:01:40,192]\u001b[0m Trial 49 finished with value: 0.8100051050397641 and parameters: {'objective': 'binary:logistic', 'tree_method': 'gpu_hist', 'lambda': 0.003924468460213761, 'alpha': 0.19193863514364426, 'colsample_bytree': 0.8522746449323674, 'subsample': 0.7628693238262013, 'learning_rate': 0.03715699572036109, 'max_depth': 23, 'min_child_weight': 143, 'eval_metric': 'logloss'}. Best is trial 42 with value: 0.8136495552282208.\u001b[0m\n",
      "/home/tunguz/anaconda3/lib/python3.7/site-packages/xgboost/dask.py:884: RuntimeWarning: coroutine 'Client._wait_for_workers' was never awaited\n",
      "  client.wait_for_workers(n_workers)\n",
      "\u001b[32m[I 2022-11-22 21:03:21,225]\u001b[0m Trial 50 finished with value: 0.7990749504236524 and parameters: {'objective': 'binary:logistic', 'tree_method': 'gpu_hist', 'lambda': 0.03543480804296574, 'alpha': 0.07941144579759733, 'colsample_bytree': 0.695485364335841, 'subsample': 0.6240190588368009, 'learning_rate': 0.0014113597170909023, 'max_depth': 16, 'min_child_weight': 168, 'eval_metric': 'logloss'}. Best is trial 42 with value: 0.8136495552282208.\u001b[0m\n",
      "/home/tunguz/anaconda3/lib/python3.7/site-packages/xgboost/dask.py:884: RuntimeWarning: coroutine 'Client._wait_for_workers' was never awaited\n",
      "  client.wait_for_workers(n_workers)\n",
      "\u001b[32m[I 2022-11-22 21:05:05,383]\u001b[0m Trial 51 finished with value: 0.8130938187862854 and parameters: {'objective': 'binary:logistic', 'tree_method': 'gpu_hist', 'lambda': 0.02047336418152569, 'alpha': 0.05991568223503619, 'colsample_bytree': 0.8576806292508545, 'subsample': 0.7529793064363566, 'learning_rate': 0.0135781140572536, 'max_depth': 21, 'min_child_weight': 165, 'eval_metric': 'logloss'}. Best is trial 42 with value: 0.8136495552282208.\u001b[0m\n",
      "/home/tunguz/anaconda3/lib/python3.7/site-packages/xgboost/dask.py:884: RuntimeWarning: coroutine 'Client._wait_for_workers' was never awaited\n",
      "  client.wait_for_workers(n_workers)\n",
      "\u001b[32m[I 2022-11-22 21:06:36,560]\u001b[0m Trial 52 finished with value: 0.8127348044352991 and parameters: {'objective': 'binary:logistic', 'tree_method': 'gpu_hist', 'lambda': 0.017054948046278922, 'alpha': 0.031144495267899516, 'colsample_bytree': 0.9723379662688025, 'subsample': 0.6747071374080058, 'learning_rate': 0.012127889572341575, 'max_depth': 21, 'min_child_weight': 194, 'eval_metric': 'logloss'}. Best is trial 42 with value: 0.8136495552282208.\u001b[0m\n",
      "/home/tunguz/anaconda3/lib/python3.7/site-packages/xgboost/dask.py:884: RuntimeWarning: coroutine 'Client._wait_for_workers' was never awaited\n",
      "  client.wait_for_workers(n_workers)\n",
      "\u001b[32m[I 2022-11-22 21:08:19,183]\u001b[0m Trial 53 finished with value: 0.8126321590241736 and parameters: {'objective': 'binary:logistic', 'tree_method': 'gpu_hist', 'lambda': 0.0022474601313662575, 'alpha': 0.06575176214588858, 'colsample_bytree': 0.8342939189229116, 'subsample': 0.7367697054328167, 'learning_rate': 0.014909909966430957, 'max_depth': 20, 'min_child_weight': 120, 'eval_metric': 'logloss'}. Best is trial 42 with value: 0.8136495552282208.\u001b[0m\n",
      "/home/tunguz/anaconda3/lib/python3.7/site-packages/xgboost/dask.py:884: RuntimeWarning: coroutine 'Client._wait_for_workers' was never awaited\n",
      "  client.wait_for_workers(n_workers)\n",
      "\u001b[32m[I 2022-11-22 21:11:02,232]\u001b[0m Trial 54 finished with value: 0.8117833736022939 and parameters: {'objective': 'binary:logistic', 'tree_method': 'gpu_hist', 'lambda': 0.13269787039638953, 'alpha': 0.11760531121665231, 'colsample_bytree': 0.8007351507610009, 'subsample': 0.7996777269508442, 'learning_rate': 0.007828234575285668, 'max_depth': 22, 'min_child_weight': 146, 'eval_metric': 'logloss'}. Best is trial 42 with value: 0.8136495552282208.\u001b[0m\n",
      "/home/tunguz/anaconda3/lib/python3.7/site-packages/xgboost/dask.py:884: RuntimeWarning: coroutine 'Client._wait_for_workers' was never awaited\n",
      "  client.wait_for_workers(n_workers)\n",
      "\u001b[32m[I 2022-11-22 21:12:19,326]\u001b[0m Trial 55 finished with value: 0.8133910991378241 and parameters: {'objective': 'binary:logistic', 'tree_method': 'gpu_hist', 'lambda': 0.0057594327850186856, 'alpha': 0.30819741098136333, 'colsample_bytree': 0.8838273893160068, 'subsample': 0.7030397710913866, 'learning_rate': 0.012368640280361222, 'max_depth': 19, 'min_child_weight': 168, 'eval_metric': 'logloss'}. Best is trial 42 with value: 0.8136495552282208.\u001b[0m\n",
      "/home/tunguz/anaconda3/lib/python3.7/site-packages/xgboost/dask.py:884: RuntimeWarning: coroutine 'Client._wait_for_workers' was never awaited\n",
      "  client.wait_for_workers(n_workers)\n",
      "\u001b[32m[I 2022-11-22 21:13:38,831]\u001b[0m Trial 56 finished with value: 0.8133168585410244 and parameters: {'objective': 'binary:logistic', 'tree_method': 'gpu_hist', 'lambda': 0.004938593986989734, 'alpha': 0.001482092639214827, 'colsample_bytree': 0.8796075909645702, 'subsample': 0.7796697786914049, 'learning_rate': 0.011473228422868758, 'max_depth': 19, 'min_child_weight': 184, 'eval_metric': 'logloss'}. Best is trial 42 with value: 0.8136495552282208.\u001b[0m\n",
      "/home/tunguz/anaconda3/lib/python3.7/site-packages/xgboost/dask.py:884: RuntimeWarning: coroutine 'Client._wait_for_workers' was never awaited\n",
      "  client.wait_for_workers(n_workers)\n",
      "\u001b[32m[I 2022-11-22 21:14:38,131]\u001b[0m Trial 57 finished with value: 0.8131725271897012 and parameters: {'objective': 'binary:logistic', 'tree_method': 'gpu_hist', 'lambda': 0.8722825595765905, 'alpha': 0.0018804548640588, 'colsample_bytree': 0.883454926808842, 'subsample': 0.7085027712371744, 'learning_rate': 0.011075006924441865, 'max_depth': 17, 'min_child_weight': 204, 'eval_metric': 'logloss'}. Best is trial 42 with value: 0.8136495552282208.\u001b[0m\n",
      "/home/tunguz/anaconda3/lib/python3.7/site-packages/xgboost/dask.py:884: RuntimeWarning: coroutine 'Client._wait_for_workers' was never awaited\n",
      "  client.wait_for_workers(n_workers)\n",
      "\u001b[32m[I 2022-11-22 21:15:57,840]\u001b[0m Trial 58 finished with value: 0.8106930901881226 and parameters: {'objective': 'binary:logistic', 'tree_method': 'gpu_hist', 'lambda': 2.0253925955118235, 'alpha': 0.0017893293334772583, 'colsample_bytree': 0.9651092615116763, 'subsample': 0.7799689501187235, 'learning_rate': 0.005752699031848543, 'max_depth': 17, 'min_child_weight': 210, 'eval_metric': 'logloss'}. Best is trial 42 with value: 0.8136495552282208.\u001b[0m\n",
      "/home/tunguz/anaconda3/lib/python3.7/site-packages/xgboost/dask.py:884: RuntimeWarning: coroutine 'Client._wait_for_workers' was never awaited\n",
      "  client.wait_for_workers(n_workers)\n",
      "\u001b[32m[I 2022-11-22 21:16:48,677]\u001b[0m Trial 59 finished with value: 0.812085227748562 and parameters: {'objective': 'binary:logistic', 'tree_method': 'gpu_hist', 'lambda': 0.8368286227107957, 'alpha': 0.0015920865555934366, 'colsample_bytree': 0.8974394242410588, 'subsample': 0.7078578255729203, 'learning_rate': 0.00909446894167393, 'max_depth': 14, 'min_child_weight': 188, 'eval_metric': 'logloss'}. Best is trial 42 with value: 0.8136495552282208.\u001b[0m\n",
      "/home/tunguz/anaconda3/lib/python3.7/site-packages/xgboost/dask.py:884: RuntimeWarning: coroutine 'Client._wait_for_workers' was never awaited\n",
      "  client.wait_for_workers(n_workers)\n",
      "\u001b[32m[I 2022-11-22 21:18:08,784]\u001b[0m Trial 60 finished with value: 0.8086836452449362 and parameters: {'objective': 'binary:logistic', 'tree_method': 'gpu_hist', 'lambda': 0.005810495237331203, 'alpha': 0.0026733109224257885, 'colsample_bytree': 0.9338808709061038, 'subsample': 0.8637510679350449, 'learning_rate': 0.004382763735935895, 'max_depth': 16, 'min_child_weight': 232, 'eval_metric': 'logloss'}. Best is trial 42 with value: 0.8136495552282208.\u001b[0m\n",
      "/home/tunguz/anaconda3/lib/python3.7/site-packages/xgboost/dask.py:884: RuntimeWarning: coroutine 'Client._wait_for_workers' was never awaited\n",
      "  client.wait_for_workers(n_workers)\n",
      "\u001b[32m[I 2022-11-22 21:19:23,957]\u001b[0m Trial 61 finished with value: 0.8126316616953351 and parameters: {'objective': 'binary:logistic', 'tree_method': 'gpu_hist', 'lambda': 4.701698662050004, 'alpha': 0.004438625704649255, 'colsample_bytree': 0.8752057235156344, 'subsample': 0.6968055541663573, 'learning_rate': 0.011197555356569674, 'max_depth': 19, 'min_child_weight': 182, 'eval_metric': 'logloss'}. Best is trial 42 with value: 0.8136495552282208.\u001b[0m\n",
      "/home/tunguz/anaconda3/lib/python3.7/site-packages/xgboost/dask.py:884: RuntimeWarning: coroutine 'Client._wait_for_workers' was never awaited\n",
      "  client.wait_for_workers(n_workers)\n",
      "\u001b[32m[I 2022-11-22 21:20:22,066]\u001b[0m Trial 62 finished with value: 0.810405087872951 and parameters: {'objective': 'binary:logistic', 'tree_method': 'gpu_hist', 'lambda': 0.002666488522900897, 'alpha': 0.0013826960001445156, 'colsample_bytree': 0.47573767733205136, 'subsample': 0.6655021500144076, 'learning_rate': 0.018672341293813767, 'max_depth': 18, 'min_child_weight': 205, 'eval_metric': 'logloss'}. Best is trial 42 with value: 0.8136495552282208.\u001b[0m\n",
      "/home/tunguz/anaconda3/lib/python3.7/site-packages/xgboost/dask.py:884: RuntimeWarning: coroutine 'Client._wait_for_workers' was never awaited\n",
      "  client.wait_for_workers(n_workers)\n",
      "\u001b[32m[I 2022-11-22 21:20:27,991]\u001b[0m Trial 63 finished with value: 0.7846811287284009 and parameters: {'objective': 'binary:logistic', 'tree_method': 'gpu_hist', 'lambda': 0.0015117548535885652, 'alpha': 0.0020181120203725963, 'colsample_bytree': 0.9240695180107736, 'subsample': 0.7785687071066227, 'learning_rate': 0.01181353948748548, 'max_depth': 3, 'min_child_weight': 171, 'eval_metric': 'logloss'}. Best is trial 42 with value: 0.8136495552282208.\u001b[0m\n",
      "/home/tunguz/anaconda3/lib/python3.7/site-packages/xgboost/dask.py:884: RuntimeWarning: coroutine 'Client._wait_for_workers' was never awaited\n",
      "  client.wait_for_workers(n_workers)\n",
      "\u001b[32m[I 2022-11-22 21:21:22,184]\u001b[0m Trial 64 finished with value: 0.8123903838322013 and parameters: {'objective': 'binary:logistic', 'tree_method': 'gpu_hist', 'lambda': 0.2708999367963474, 'alpha': 0.003375224465738466, 'colsample_bytree': 0.8803433539639665, 'subsample': 0.8055940260536794, 'learning_rate': 0.02217499631121081, 'max_depth': 15, 'min_child_weight': 133, 'eval_metric': 'logloss'}. Best is trial 42 with value: 0.8136495552282208.\u001b[0m\n",
      "/home/tunguz/anaconda3/lib/python3.7/site-packages/xgboost/dask.py:884: RuntimeWarning: coroutine 'Client._wait_for_workers' was never awaited\n",
      "  client.wait_for_workers(n_workers)\n",
      "\u001b[32m[I 2022-11-22 21:22:42,854]\u001b[0m Trial 65 finished with value: 0.8123654766256099 and parameters: {'objective': 'binary:logistic', 'tree_method': 'gpu_hist', 'lambda': 0.6785364011746201, 'alpha': 0.0011069910183951364, 'colsample_bytree': 0.8394280041895776, 'subsample': 0.7320740252714782, 'learning_rate': 0.008480551647300575, 'max_depth': 17, 'min_child_weight': 151, 'eval_metric': 'logloss'}. Best is trial 42 with value: 0.8136495552282208.\u001b[0m\n",
      "/home/tunguz/anaconda3/lib/python3.7/site-packages/xgboost/dask.py:884: RuntimeWarning: coroutine 'Client._wait_for_workers' was never awaited\n",
      "  client.wait_for_workers(n_workers)\n",
      "\u001b[32m[I 2022-11-22 21:23:44,679]\u001b[0m Trial 66 finished with value: 0.8114723066431132 and parameters: {'objective': 'binary:logistic', 'tree_method': 'gpu_hist', 'lambda': 0.007901237745108008, 'alpha': 0.8922360563880022, 'colsample_bytree': 0.7582572732132944, 'subsample': 0.6725295273564885, 'learning_rate': 0.026905514752638245, 'max_depth': 20, 'min_child_weight': 213, 'eval_metric': 'logloss'}. Best is trial 42 with value: 0.8136495552282208.\u001b[0m\n",
      "/home/tunguz/anaconda3/lib/python3.7/site-packages/xgboost/dask.py:884: RuntimeWarning: coroutine 'Client._wait_for_workers' was never awaited\n",
      "  client.wait_for_workers(n_workers)\n",
      "\u001b[32m[I 2022-11-22 21:24:55,120]\u001b[0m Trial 67 finished with value: 0.8084833521698669 and parameters: {'objective': 'binary:logistic', 'tree_method': 'gpu_hist', 'lambda': 0.0773568386012335, 'alpha': 0.0065738265687409125, 'colsample_bytree': 0.3800056215701722, 'subsample': 0.5999620280815934, 'learning_rate': 0.013186113332604492, 'max_depth': 19, 'min_child_weight': 201, 'eval_metric': 'logloss'}. Best is trial 42 with value: 0.8136495552282208.\u001b[0m\n",
      "/home/tunguz/anaconda3/lib/python3.7/site-packages/xgboost/dask.py:884: RuntimeWarning: coroutine 'Client._wait_for_workers' was never awaited\n",
      "  client.wait_for_workers(n_workers)\n",
      "\u001b[32m[I 2022-11-22 21:25:55,138]\u001b[0m Trial 68 finished with value: 0.8130624952223819 and parameters: {'objective': 'binary:logistic', 'tree_method': 'gpu_hist', 'lambda': 0.0034810559907356127, 'alpha': 0.003382446699933626, 'colsample_bytree': 0.7927653907673796, 'subsample': 0.711925497499072, 'learning_rate': 0.016975850801096547, 'max_depth': 18, 'min_child_weight': 184, 'eval_metric': 'logloss'}. Best is trial 42 with value: 0.8136495552282208.\u001b[0m\n",
      "/home/tunguz/anaconda3/lib/python3.7/site-packages/xgboost/dask.py:884: RuntimeWarning: coroutine 'Client._wait_for_workers' was never awaited\n",
      "  client.wait_for_workers(n_workers)\n",
      "\u001b[32m[I 2022-11-22 21:30:18,206]\u001b[0m Trial 69 finished with value: 0.812560592588998 and parameters: {'objective': 'binary:logistic', 'tree_method': 'gpu_hist', 'lambda': 1.2082074262718898, 'alpha': 5.31202264753928, 'colsample_bytree': 0.6669078452633039, 'subsample': 0.7512542290257642, 'learning_rate': 0.010018815016159524, 'max_depth': 24, 'min_child_weight': 230, 'eval_metric': 'logloss'}. Best is trial 42 with value: 0.8136495552282208.\u001b[0m\n",
      "/home/tunguz/anaconda3/lib/python3.7/site-packages/xgboost/dask.py:884: RuntimeWarning: coroutine 'Client._wait_for_workers' was never awaited\n",
      "  client.wait_for_workers(n_workers)\n",
      "\u001b[32m[I 2022-11-22 21:31:55,931]\u001b[0m Trial 70 finished with value: 0.8119188427167708 and parameters: {'objective': 'binary:logistic', 'tree_method': 'gpu_hist', 'lambda': 0.004678104793190925, 'alpha': 0.2602074125870642, 'colsample_bytree': 0.86721443048823, 'subsample': 0.9924352959933549, 'learning_rate': 0.007384675686140263, 'max_depth': 20, 'min_child_weight': 247, 'eval_metric': 'logloss'}. Best is trial 42 with value: 0.8136495552282208.\u001b[0m\n",
      "/home/tunguz/anaconda3/lib/python3.7/site-packages/xgboost/dask.py:884: RuntimeWarning: coroutine 'Client._wait_for_workers' was never awaited\n",
      "  client.wait_for_workers(n_workers)\n",
      "\u001b[32m[I 2022-11-22 21:33:39,070]\u001b[0m Trial 71 finished with value: 0.8128291583148034 and parameters: {'objective': 'binary:logistic', 'tree_method': 'gpu_hist', 'lambda': 0.009466486490835858, 'alpha': 0.014708152961463163, 'colsample_bytree': 0.8478351741040082, 'subsample': 0.7659724067769926, 'learning_rate': 0.013466876233997078, 'max_depth': 21, 'min_child_weight': 167, 'eval_metric': 'logloss'}. Best is trial 42 with value: 0.8136495552282208.\u001b[0m\n",
      "/home/tunguz/anaconda3/lib/python3.7/site-packages/xgboost/dask.py:884: RuntimeWarning: coroutine 'Client._wait_for_workers' was never awaited\n",
      "  client.wait_for_workers(n_workers)\n",
      "\u001b[32m[I 2022-11-22 21:35:57,212]\u001b[0m Trial 72 finished with value: 0.8124152910387932 and parameters: {'objective': 'binary:logistic', 'tree_method': 'gpu_hist', 'lambda': 0.006056897406119271, 'alpha': 0.009092736951111497, 'colsample_bytree': 0.8908128986867644, 'subsample': 0.7509332288089398, 'learning_rate': 0.014508806877513792, 'max_depth': 22, 'min_child_weight': 140, 'eval_metric': 'logloss'}. Best is trial 42 with value: 0.8136495552282208.\u001b[0m\n",
      "/home/tunguz/anaconda3/lib/python3.7/site-packages/xgboost/dask.py:884: RuntimeWarning: coroutine 'Client._wait_for_workers' was never awaited\n",
      "  client.wait_for_workers(n_workers)\n",
      "\u001b[32m[I 2022-11-22 21:39:02,752]\u001b[0m Trial 73 finished with value: 0.8119173262714594 and parameters: {'objective': 'binary:logistic', 'tree_method': 'gpu_hist', 'lambda': 0.0015925038451416408, 'alpha': 0.0012651740496028776, 'colsample_bytree': 0.9524414983957623, 'subsample': 0.6829967892386607, 'learning_rate': 0.020372350565226554, 'max_depth': 23, 'min_child_weight': 110, 'eval_metric': 'logloss'}. Best is trial 42 with value: 0.8136495552282208.\u001b[0m\n",
      "/home/tunguz/anaconda3/lib/python3.7/site-packages/xgboost/dask.py:884: RuntimeWarning: coroutine 'Client._wait_for_workers' was never awaited\n",
      "  client.wait_for_workers(n_workers)\n",
      "\u001b[32m[I 2022-11-22 21:39:42,811]\u001b[0m Trial 74 finished with value: 0.8125385878261204 and parameters: {'objective': 'binary:logistic', 'tree_method': 'gpu_hist', 'lambda': 0.02429706651260443, 'alpha': 0.48404069675867073, 'colsample_bytree': 0.918662620425196, 'subsample': 0.8197491374238206, 'learning_rate': 0.011683505997424001, 'max_depth': 12, 'min_child_weight': 154, 'eval_metric': 'logloss'}. Best is trial 42 with value: 0.8136495552282208.\u001b[0m\n",
      "/home/tunguz/anaconda3/lib/python3.7/site-packages/xgboost/dask.py:884: RuntimeWarning: coroutine 'Client._wait_for_workers' was never awaited\n",
      "  client.wait_for_workers(n_workers)\n",
      "\u001b[32m[I 2022-11-22 21:41:08,785]\u001b[0m Trial 75 finished with value: 0.8129019232309507 and parameters: {'objective': 'binary:logistic', 'tree_method': 'gpu_hist', 'lambda': 0.01492115228711499, 'alpha': 0.031165787200218835, 'colsample_bytree': 0.8603869208375227, 'subsample': 0.7359068295717812, 'learning_rate': 0.009060769550594141, 'max_depth': 19, 'min_child_weight': 176, 'eval_metric': 'logloss'}. Best is trial 42 with value: 0.8136495552282208.\u001b[0m\n",
      "/home/tunguz/anaconda3/lib/python3.7/site-packages/xgboost/dask.py:884: RuntimeWarning: coroutine 'Client._wait_for_workers' was never awaited\n",
      "  client.wait_for_workers(n_workers)\n",
      "\u001b[32m[I 2022-11-22 21:42:50,089]\u001b[0m Trial 76 finished with value: 0.8124442420995482 and parameters: {'objective': 'binary:logistic', 'tree_method': 'gpu_hist', 'lambda': 0.039450117112262054, 'alpha': 0.14696364700520245, 'colsample_bytree': 0.8401504043802317, 'subsample': 0.7896338402262412, 'learning_rate': 0.015708596033491926, 'max_depth': 21, 'min_child_weight': 166, 'eval_metric': 'logloss'}. Best is trial 42 with value: 0.8136495552282208.\u001b[0m\n",
      "/home/tunguz/anaconda3/lib/python3.7/site-packages/xgboost/dask.py:884: RuntimeWarning: coroutine 'Client._wait_for_workers' was never awaited\n",
      "  client.wait_for_workers(n_workers)\n",
      "\u001b[32m[I 2022-11-22 21:44:54,061]\u001b[0m Trial 77 finished with value: 0.8133079310807239 and parameters: {'objective': 'binary:logistic', 'tree_method': 'gpu_hist', 'lambda': 2.3832196851498204, 'alpha': 0.09105014025223525, 'colsample_bytree': 0.8159124285428914, 'subsample': 0.7177403704731378, 'learning_rate': 0.011007366133259259, 'max_depth': 22, 'min_child_weight': 189, 'eval_metric': 'logloss'}. Best is trial 42 with value: 0.8136495552282208.\u001b[0m\n",
      "/home/tunguz/anaconda3/lib/python3.7/site-packages/xgboost/dask.py:884: RuntimeWarning: coroutine 'Client._wait_for_workers' was never awaited\n",
      "  client.wait_for_workers(n_workers)\n",
      "\u001b[32m[I 2022-11-22 21:49:13,347]\u001b[0m Trial 78 finished with value: 0.811261463674319 and parameters: {'objective': 'binary:logistic', 'tree_method': 'gpu_hist', 'lambda': 2.246845475552321, 'alpha': 0.0022158890020524567, 'colsample_bytree': 0.8180304557775033, 'subsample': 0.6516259588065573, 'learning_rate': 0.006291158367990195, 'max_depth': 24, 'min_child_weight': 240, 'eval_metric': 'logloss'}. Best is trial 42 with value: 0.8136495552282208.\u001b[0m\n",
      "/home/tunguz/anaconda3/lib/python3.7/site-packages/xgboost/dask.py:884: RuntimeWarning: coroutine 'Client._wait_for_workers' was never awaited\n",
      "  client.wait_for_workers(n_workers)\n",
      "\u001b[32m[I 2022-11-22 21:50:17,682]\u001b[0m Trial 79 finished with value: 0.8128128198395137 and parameters: {'objective': 'binary:logistic', 'tree_method': 'gpu_hist', 'lambda': 2.471043220076324, 'alpha': 0.08790645620922509, 'colsample_bytree': 0.7877112048270941, 'subsample': 0.7163017435332132, 'learning_rate': 0.010716155888052465, 'max_depth': 17, 'min_child_weight': 196, 'eval_metric': 'logloss'}. Best is trial 42 with value: 0.8136495552282208.\u001b[0m\n",
      "/home/tunguz/anaconda3/lib/python3.7/site-packages/xgboost/dask.py:884: RuntimeWarning: coroutine 'Client._wait_for_workers' was never awaited\n",
      "  client.wait_for_workers(n_workers)\n",
      "\u001b[32m[I 2022-11-22 21:52:07,616]\u001b[0m Trial 80 finished with value: 0.8129864528276585 and parameters: {'objective': 'binary:logistic', 'tree_method': 'gpu_hist', 'lambda': 8.978076577026602, 'alpha': 0.25464045471216795, 'colsample_bytree': 0.7154812604759059, 'subsample': 0.6363648229037495, 'learning_rate': 0.017838380650390624, 'max_depth': 22, 'min_child_weight': 187, 'eval_metric': 'logloss'}. Best is trial 42 with value: 0.8136495552282208.\u001b[0m\n",
      "/home/tunguz/anaconda3/lib/python3.7/site-packages/xgboost/dask.py:884: RuntimeWarning: coroutine 'Client._wait_for_workers' was never awaited\n",
      "  client.wait_for_workers(n_workers)\n",
      "\u001b[32m[I 2022-11-22 21:54:15,697]\u001b[0m Trial 81 finished with value: 0.8137753712714686 and parameters: {'objective': 'binary:logistic', 'tree_method': 'gpu_hist', 'lambda': 6.728888313659899, 'alpha': 0.03321079834101474, 'colsample_bytree': 0.8833727097500816, 'subsample': 0.7082475270614293, 'learning_rate': 0.01291766314175997, 'max_depth': 22, 'min_child_weight': 162, 'eval_metric': 'logloss'}. Best is trial 81 with value: 0.8137753712714686.\u001b[0m\n",
      "/home/tunguz/anaconda3/lib/python3.7/site-packages/xgboost/dask.py:884: RuntimeWarning: coroutine 'Client._wait_for_workers' was never awaited\n",
      "  client.wait_for_workers(n_workers)\n",
      "\u001b[32m[I 2022-11-22 21:57:14,615]\u001b[0m Trial 82 finished with value: 0.8131179351584943 and parameters: {'objective': 'binary:logistic', 'tree_method': 'gpu_hist', 'lambda': 5.5667598651672945, 'alpha': 0.03566556356494263, 'colsample_bytree': 0.8947658703234417, 'subsample': 0.69821146272795, 'learning_rate': 0.009703494472509993, 'max_depth': 23, 'min_child_weight': 177, 'eval_metric': 'logloss'}. Best is trial 81 with value: 0.8137753712714686.\u001b[0m\n",
      "/home/tunguz/anaconda3/lib/python3.7/site-packages/xgboost/dask.py:884: RuntimeWarning: coroutine 'Client._wait_for_workers' was never awaited\n",
      "  client.wait_for_workers(n_workers)\n",
      "\u001b[32m[I 2022-11-22 21:59:59,051]\u001b[0m Trial 83 finished with value: 0.812951664267748 and parameters: {'objective': 'binary:logistic', 'tree_method': 'gpu_hist', 'lambda': 5.5379905483772776, 'alpha': 0.017542394773936203, 'colsample_bytree': 0.8940149630140211, 'subsample': 0.6998414280596733, 'learning_rate': 0.009827173294939335, 'max_depth': 23, 'min_child_weight': 218, 'eval_metric': 'logloss'}. Best is trial 81 with value: 0.8137753712714686.\u001b[0m\n",
      "/home/tunguz/anaconda3/lib/python3.7/site-packages/xgboost/dask.py:884: RuntimeWarning: coroutine 'Client._wait_for_workers' was never awaited\n",
      "  client.wait_for_workers(n_workers)\n",
      "\u001b[32m[I 2022-11-22 22:07:53,235]\u001b[0m Trial 84 finished with value: 0.8133085914681981 and parameters: {'objective': 'binary:logistic', 'tree_method': 'gpu_hist', 'lambda': 3.7372947148229034, 'alpha': 0.03480148270378568, 'colsample_bytree': 0.9449819836419033, 'subsample': 0.6609128870999794, 'learning_rate': 0.00847873512923555, 'max_depth': 25, 'min_child_weight': 177, 'eval_metric': 'logloss'}. Best is trial 81 with value: 0.8137753712714686.\u001b[0m\n",
      "/home/tunguz/anaconda3/lib/python3.7/site-packages/xgboost/dask.py:884: RuntimeWarning: coroutine 'Client._wait_for_workers' was never awaited\n",
      "  client.wait_for_workers(n_workers)\n",
      "\u001b[32m[I 2022-11-22 22:15:46,256]\u001b[0m Trial 85 finished with value: 0.8121159072308548 and parameters: {'objective': 'binary:logistic', 'tree_method': 'gpu_hist', 'lambda': 4.300383159472309, 'alpha': 0.051070941626192905, 'colsample_bytree': 0.978170051510024, 'subsample': 0.724354368666049, 'learning_rate': 0.00784718334169354, 'max_depth': 25, 'min_child_weight': 203, 'eval_metric': 'logloss'}. Best is trial 81 with value: 0.8137753712714686.\u001b[0m\n",
      "/home/tunguz/anaconda3/lib/python3.7/site-packages/xgboost/dask.py:884: RuntimeWarning: coroutine 'Client._wait_for_workers' was never awaited\n",
      "  client.wait_for_workers(n_workers)\n",
      "\u001b[32m[I 2022-11-22 22:20:04,823]\u001b[0m Trial 86 finished with value: 0.8130244536426908 and parameters: {'objective': 'binary:logistic', 'tree_method': 'gpu_hist', 'lambda': 3.1685171598464, 'alpha': 0.0010000901118651278, 'colsample_bytree': 0.9454912319630374, 'subsample': 0.662723040766935, 'learning_rate': 0.01209430163773282, 'max_depth': 24, 'min_child_weight': 188, 'eval_metric': 'logloss'}. Best is trial 81 with value: 0.8137753712714686.\u001b[0m\n",
      "/home/tunguz/anaconda3/lib/python3.7/site-packages/xgboost/dask.py:884: RuntimeWarning: coroutine 'Client._wait_for_workers' was never awaited\n",
      "  client.wait_for_workers(n_workers)\n",
      "\u001b[32m[I 2022-11-22 22:20:55,369]\u001b[0m Trial 87 finished with value: 0.8110375515558794 and parameters: {'objective': 'binary:logistic', 'tree_method': 'gpu_hist', 'lambda': 7.502963677153162, 'alpha': 0.022587713676032965, 'colsample_bytree': 0.9106171569725552, 'subsample': 0.6077288414649529, 'learning_rate': 0.006741155436594679, 'max_depth': 16, 'min_child_weight': 286, 'eval_metric': 'logloss'}. Best is trial 81 with value: 0.8137753712714686.\u001b[0m\n",
      "/home/tunguz/anaconda3/lib/python3.7/site-packages/xgboost/dask.py:884: RuntimeWarning: coroutine 'Client._wait_for_workers' was never awaited\n",
      "  client.wait_for_workers(n_workers)\n",
      "\u001b[32m[I 2022-11-22 22:22:34,510]\u001b[0m Trial 88 finished with value: 0.8125079654143503 and parameters: {'objective': 'binary:logistic', 'tree_method': 'gpu_hist', 'lambda': 1.7255241715396108, 'alpha': 0.0015487108890830231, 'colsample_bytree': 0.99934938977559, 'subsample': 0.6876699237276427, 'learning_rate': 0.008411600141266459, 'max_depth': 20, 'min_child_weight': 158, 'eval_metric': 'logloss'}. Best is trial 81 with value: 0.8137753712714686.\u001b[0m\n",
      "/home/tunguz/anaconda3/lib/python3.7/site-packages/xgboost/dask.py:884: RuntimeWarning: coroutine 'Client._wait_for_workers' was never awaited\n",
      "  client.wait_for_workers(n_workers)\n",
      "\u001b[32m[I 2022-11-22 22:23:21,045]\u001b[0m Trial 89 finished with value: 0.8081866914411435 and parameters: {'objective': 'binary:logistic', 'tree_method': 'gpu_hist', 'lambda': 2.8318257821388855, 'alpha': 0.027119939162720454, 'colsample_bytree': 0.8707321204721288, 'subsample': 0.6359697454502817, 'learning_rate': 0.004877480806045558, 'max_depth': 13, 'min_child_weight': 254, 'eval_metric': 'logloss'}. Best is trial 81 with value: 0.8137753712714686.\u001b[0m\n",
      "/home/tunguz/anaconda3/lib/python3.7/site-packages/xgboost/dask.py:884: RuntimeWarning: coroutine 'Client._wait_for_workers' was never awaited\n",
      "  client.wait_for_workers(n_workers)\n",
      "\u001b[32m[I 2022-11-22 22:31:00,670]\u001b[0m Trial 90 finished with value: 0.8134633748780649 and parameters: {'objective': 'binary:logistic', 'tree_method': 'gpu_hist', 'lambda': 3.781596739142398, 'alpha': 0.07523053728242124, 'colsample_bytree': 0.8277512565914165, 'subsample': 0.7159178157112513, 'learning_rate': 0.01302229468901405, 'max_depth': 25, 'min_child_weight': 212, 'eval_metric': 'logloss'}. Best is trial 81 with value: 0.8137753712714686.\u001b[0m\n",
      "/home/tunguz/anaconda3/lib/python3.7/site-packages/xgboost/dask.py:884: RuntimeWarning: coroutine 'Client._wait_for_workers' was never awaited\n",
      "  client.wait_for_workers(n_workers)\n",
      "\u001b[32m[I 2022-11-22 22:38:40,814]\u001b[0m Trial 91 finished with value: 0.8128832611701036 and parameters: {'objective': 'binary:logistic', 'tree_method': 'gpu_hist', 'lambda': 3.8427352487999524, 'alpha': 0.07669832075056165, 'colsample_bytree': 0.8267393561556712, 'subsample': 0.7426476603783833, 'learning_rate': 0.012552173520251146, 'max_depth': 25, 'min_child_weight': 213, 'eval_metric': 'logloss'}. Best is trial 81 with value: 0.8137753712714686.\u001b[0m\n",
      "/home/tunguz/anaconda3/lib/python3.7/site-packages/xgboost/dask.py:884: RuntimeWarning: coroutine 'Client._wait_for_workers' was never awaited\n",
      "  client.wait_for_workers(n_workers)\n",
      "\u001b[32m[I 2022-11-22 22:46:18,225]\u001b[0m Trial 92 finished with value: 0.8133755596498491 and parameters: {'objective': 'binary:logistic', 'tree_method': 'gpu_hist', 'lambda': 1.153045245410447, 'alpha': 0.13551264906635255, 'colsample_bytree': 0.806046902486616, 'subsample': 0.6793824024004635, 'learning_rate': 0.010736867716030695, 'max_depth': 25, 'min_child_weight': 226, 'eval_metric': 'logloss'}. Best is trial 81 with value: 0.8137753712714686.\u001b[0m\n",
      "/home/tunguz/anaconda3/lib/python3.7/site-packages/xgboost/dask.py:884: RuntimeWarning: coroutine 'Client._wait_for_workers' was never awaited\n",
      "  client.wait_for_workers(n_workers)\n",
      "\u001b[32m[I 2022-11-22 22:53:57,206]\u001b[0m Trial 93 finished with value: 0.8131129129525171 and parameters: {'objective': 'binary:logistic', 'tree_method': 'gpu_hist', 'lambda': 7.278196152360629, 'alpha': 0.1360913941311857, 'colsample_bytree': 0.8086785002000614, 'subsample': 0.7199702304765448, 'learning_rate': 0.01077700803104731, 'max_depth': 25, 'min_child_weight': 226, 'eval_metric': 'logloss'}. Best is trial 81 with value: 0.8137753712714686.\u001b[0m\n",
      "/home/tunguz/anaconda3/lib/python3.7/site-packages/xgboost/dask.py:884: RuntimeWarning: coroutine 'Client._wait_for_workers' was never awaited\n",
      "  client.wait_for_workers(n_workers)\n",
      "\u001b[32m[I 2022-11-22 22:58:14,723]\u001b[0m Trial 94 finished with value: 0.8140949988090198 and parameters: {'objective': 'binary:logistic', 'tree_method': 'gpu_hist', 'lambda': 1.4953596354362106, 'alpha': 0.10117676462961618, 'colsample_bytree': 0.916400425273186, 'subsample': 0.6768486896139785, 'learning_rate': 0.013832352228409594, 'max_depth': 24, 'min_child_weight': 196, 'eval_metric': 'logloss'}. Best is trial 94 with value: 0.8140949988090198.\u001b[0m\n",
      "/home/tunguz/anaconda3/lib/python3.7/site-packages/xgboost/dask.py:884: RuntimeWarning: coroutine 'Client._wait_for_workers' was never awaited\n",
      "  client.wait_for_workers(n_workers)\n",
      "\u001b[32m[I 2022-11-22 23:02:28,651]\u001b[0m Trial 95 finished with value: 0.8128690179982818 and parameters: {'objective': 'binary:logistic', 'tree_method': 'gpu_hist', 'lambda': 1.4985263231139982, 'alpha': 0.10188341334520709, 'colsample_bytree': 0.9242502323753816, 'subsample': 0.6812413155307491, 'learning_rate': 0.016726554920723367, 'max_depth': 24, 'min_child_weight': 198, 'eval_metric': 'logloss'}. Best is trial 94 with value: 0.8140949988090198.\u001b[0m\n",
      "/home/tunguz/anaconda3/lib/python3.7/site-packages/xgboost/dask.py:884: RuntimeWarning: coroutine 'Client._wait_for_workers' was never awaited\n",
      "  client.wait_for_workers(n_workers)\n",
      "\u001b[32m[I 2022-11-22 23:10:14,390]\u001b[0m Trial 96 finished with value: 0.813091226153979 and parameters: {'objective': 'binary:logistic', 'tree_method': 'gpu_hist', 'lambda': 1.0876681284314946, 'alpha': 0.056680986960728104, 'colsample_bytree': 0.9406352505631118, 'subsample': 0.7664594869285822, 'learning_rate': 0.014166719361576813, 'max_depth': 25, 'min_child_weight': 191, 'eval_metric': 'logloss'}. Best is trial 94 with value: 0.8140949988090198.\u001b[0m\n",
      "/home/tunguz/anaconda3/lib/python3.7/site-packages/xgboost/dask.py:884: RuntimeWarning: coroutine 'Client._wait_for_workers' was never awaited\n",
      "  client.wait_for_workers(n_workers)\n",
      "\u001b[32m[I 2022-11-22 23:14:36,860]\u001b[0m Trial 97 finished with value: 0.8132255212462791 and parameters: {'objective': 'binary:logistic', 'tree_method': 'gpu_hist', 'lambda': 2.9135501113052062, 'alpha': 0.32781034965076683, 'colsample_bytree': 0.9572838605312257, 'subsample': 0.6587072136437483, 'learning_rate': 0.013221037804748318, 'max_depth': 24, 'min_child_weight': 179, 'eval_metric': 'logloss'}. Best is trial 94 with value: 0.8140949988090198.\u001b[0m\n",
      "/home/tunguz/anaconda3/lib/python3.7/site-packages/xgboost/dask.py:884: RuntimeWarning: coroutine 'Client._wait_for_workers' was never awaited\n",
      "  client.wait_for_workers(n_workers)\n",
      "\u001b[32m[I 2022-11-22 23:17:29,873]\u001b[0m Trial 98 finished with value: 0.8123095556665224 and parameters: {'objective': 'binary:logistic', 'tree_method': 'gpu_hist', 'lambda': 9.394345690094573, 'alpha': 0.18459849244683607, 'colsample_bytree': 0.908395110182026, 'subsample': 0.6735503135708902, 'learning_rate': 0.007322449508657313, 'max_depth': 23, 'min_child_weight': 209, 'eval_metric': 'logloss'}. Best is trial 94 with value: 0.8140949988090198.\u001b[0m\n",
      "/home/tunguz/anaconda3/lib/python3.7/site-packages/xgboost/dask.py:884: RuntimeWarning: coroutine 'Client._wait_for_workers' was never awaited\n",
      "  client.wait_for_workers(n_workers)\n",
      "\u001b[32m[I 2022-11-22 23:19:45,634]\u001b[0m Trial 99 finished with value: 0.813178054877449 and parameters: {'objective': 'binary:logistic', 'tree_method': 'gpu_hist', 'lambda': 3.8837938009477484, 'alpha': 0.040576459106725776, 'colsample_bytree': 0.8502881513500048, 'subsample': 0.7392455617494451, 'learning_rate': 0.009334962003355887, 'max_depth': 22, 'min_child_weight': 172, 'eval_metric': 'logloss'}. Best is trial 94 with value: 0.8140949988090198.\u001b[0m\n",
      "/home/tunguz/anaconda3/lib/python3.7/site-packages/xgboost/dask.py:884: RuntimeWarning: coroutine 'Client._wait_for_workers' was never awaited\n",
      "  client.wait_for_workers(n_workers)\n",
      "\u001b[32m[I 2022-11-22 23:22:39,295]\u001b[0m Trial 100 finished with value: 0.8128305850778652 and parameters: {'objective': 'binary:logistic', 'tree_method': 'gpu_hist', 'lambda': 5.87445901843429, 'alpha': 0.0729701436470051, 'colsample_bytree': 0.8740636993137233, 'subsample': 0.6863843662636041, 'learning_rate': 0.014666925771235798, 'max_depth': 23, 'min_child_weight': 162, 'eval_metric': 'logloss'}. Best is trial 94 with value: 0.8140949988090198.\u001b[0m\n",
      "/home/tunguz/anaconda3/lib/python3.7/site-packages/xgboost/dask.py:884: RuntimeWarning: coroutine 'Client._wait_for_workers' was never awaited\n",
      "  client.wait_for_workers(n_workers)\n",
      "\u001b[32m[I 2022-11-22 23:27:00,963]\u001b[0m Trial 101 finished with value: 0.8129098560335739 and parameters: {'objective': 'binary:logistic', 'tree_method': 'gpu_hist', 'lambda': 1.8955618441489486, 'alpha': 0.20600741017036678, 'colsample_bytree': 0.9581244528756891, 'subsample': 0.6616055656214715, 'learning_rate': 0.013248650701294181, 'max_depth': 24, 'min_child_weight': 181, 'eval_metric': 'logloss'}. Best is trial 94 with value: 0.8140949988090198.\u001b[0m\n",
      "/home/tunguz/anaconda3/lib/python3.7/site-packages/xgboost/dask.py:884: RuntimeWarning: coroutine 'Client._wait_for_workers' was never awaited\n",
      "  client.wait_for_workers(n_workers)\n",
      "\u001b[32m[I 2022-11-22 23:31:24,360]\u001b[0m Trial 102 finished with value: 0.8127311926865202 and parameters: {'objective': 'binary:logistic', 'tree_method': 'gpu_hist', 'lambda': 2.428319292816292, 'alpha': 0.3677028145490433, 'colsample_bytree': 0.9674338831777974, 'subsample': 0.6492972971731343, 'learning_rate': 0.012515288663740184, 'max_depth': 24, 'min_child_weight': 177, 'eval_metric': 'logloss'}. Best is trial 94 with value: 0.8140949988090198.\u001b[0m\n",
      "/home/tunguz/anaconda3/lib/python3.7/site-packages/xgboost/dask.py:884: RuntimeWarning: coroutine 'Client._wait_for_workers' was never awaited\n",
      "  client.wait_for_workers(n_workers)\n",
      "\u001b[32m[I 2022-11-22 23:38:57,951]\u001b[0m Trial 103 finished with value: 0.8131795631698286 and parameters: {'objective': 'binary:logistic', 'tree_method': 'gpu_hist', 'lambda': 3.257145781470374, 'alpha': 0.1316998913549227, 'colsample_bytree': 0.9865159466886457, 'subsample': 0.6997712589002297, 'learning_rate': 0.011160713706926681, 'max_depth': 25, 'min_child_weight': 239, 'eval_metric': 'logloss'}. Best is trial 94 with value: 0.8140949988090198.\u001b[0m\n",
      "/home/tunguz/anaconda3/lib/python3.7/site-packages/xgboost/dask.py:884: RuntimeWarning: coroutine 'Client._wait_for_workers' was never awaited\n",
      "  client.wait_for_workers(n_workers)\n",
      "\u001b[32m[I 2022-11-22 23:43:03,624]\u001b[0m Trial 104 finished with value: 0.8138137634272264 and parameters: {'objective': 'binary:logistic', 'tree_method': 'gpu_hist', 'lambda': 0.6010188930544552, 'alpha': 0.6510914688312079, 'colsample_bytree': 0.9271208101937876, 'subsample': 0.627942035639406, 'learning_rate': 0.016193869453591088, 'max_depth': 24, 'min_child_weight': 227, 'eval_metric': 'logloss'}. Best is trial 94 with value: 0.8140949988090198.\u001b[0m\n",
      "/home/tunguz/anaconda3/lib/python3.7/site-packages/xgboost/dask.py:884: RuntimeWarning: coroutine 'Client._wait_for_workers' was never awaited\n",
      "  client.wait_for_workers(n_workers)\n",
      "\u001b[32m[I 2022-11-22 23:50:26,843]\u001b[0m Trial 105 finished with value: 0.8121517719777605 and parameters: {'objective': 'binary:logistic', 'tree_method': 'gpu_hist', 'lambda': 0.5643166510029591, 'alpha': 0.7175165385602564, 'colsample_bytree': 0.9313334022094393, 'subsample': 0.6203769915828021, 'learning_rate': 0.023583917157188765, 'max_depth': 25, 'min_child_weight': 215, 'eval_metric': 'logloss'}. Best is trial 94 with value: 0.8140949988090198.\u001b[0m\n",
      "/home/tunguz/anaconda3/lib/python3.7/site-packages/xgboost/dask.py:884: RuntimeWarning: coroutine 'Client._wait_for_workers' was never awaited\n",
      "  client.wait_for_workers(n_workers)\n",
      "\u001b[32m[I 2022-11-22 23:52:56,878]\u001b[0m Trial 106 finished with value: 0.8130940796801024 and parameters: {'objective': 'binary:logistic', 'tree_method': 'gpu_hist', 'lambda': 1.3246905500074493, 'alpha': 0.11032037666175715, 'colsample_bytree': 0.8301777082981384, 'subsample': 0.6344219264004758, 'learning_rate': 0.02031025157781723, 'max_depth': 23, 'min_child_weight': 223, 'eval_metric': 'logloss'}. Best is trial 94 with value: 0.8140949988090198.\u001b[0m\n",
      "/home/tunguz/anaconda3/lib/python3.7/site-packages/xgboost/dask.py:884: RuntimeWarning: coroutine 'Client._wait_for_workers' was never awaited\n",
      "  client.wait_for_workers(n_workers)\n",
      "\u001b[32m[I 2022-11-22 23:56:58,818]\u001b[0m Trial 107 finished with value: 0.812518670213779 and parameters: {'objective': 'binary:logistic', 'tree_method': 'gpu_hist', 'lambda': 0.8970433862609329, 'alpha': 2.1436262768099135, 'colsample_bytree': 0.9033327858934903, 'subsample': 0.5833101000829701, 'learning_rate': 0.0165724849922621, 'max_depth': 24, 'min_child_weight': 229, 'eval_metric': 'logloss'}. Best is trial 94 with value: 0.8140949988090198.\u001b[0m\n",
      "/home/tunguz/anaconda3/lib/python3.7/site-packages/xgboost/dask.py:884: RuntimeWarning: coroutine 'Client._wait_for_workers' was never awaited\n",
      "  client.wait_for_workers(n_workers)\n",
      "\u001b[32m[I 2022-11-22 23:59:24,503]\u001b[0m Trial 108 finished with value: 0.8124188212582544 and parameters: {'objective': 'binary:logistic', 'tree_method': 'gpu_hist', 'lambda': 0.0026944947775058687, 'alpha': 0.6210539269814772, 'colsample_bytree': 0.9170905352039606, 'subsample': 0.7088621344822874, 'learning_rate': 0.008426982677979242, 'max_depth': 22, 'min_child_weight': 148, 'eval_metric': 'logloss'}. Best is trial 94 with value: 0.8140949988090198.\u001b[0m\n",
      "/home/tunguz/anaconda3/lib/python3.7/site-packages/xgboost/dask.py:884: RuntimeWarning: coroutine 'Client._wait_for_workers' was never awaited\n",
      "  client.wait_for_workers(n_workers)\n",
      "\u001b[32m[I 2022-11-23 00:00:50,711]\u001b[0m Trial 109 finished with value: 0.8124333987002792 and parameters: {'objective': 'binary:logistic', 'tree_method': 'gpu_hist', 'lambda': 4.5859949153244965, 'alpha': 1.1740954884913166, 'colsample_bytree': 0.6030632832960443, 'subsample': 0.670023873612018, 'learning_rate': 0.010228610519587606, 'max_depth': 21, 'min_child_weight': 247, 'eval_metric': 'logloss'}. Best is trial 94 with value: 0.8140949988090198.\u001b[0m\n",
      "/home/tunguz/anaconda3/lib/python3.7/site-packages/xgboost/dask.py:884: RuntimeWarning: coroutine 'Client._wait_for_workers' was never awaited\n",
      "  client.wait_for_workers(n_workers)\n",
      "\u001b[32m[I 2022-11-23 00:08:15,236]\u001b[0m Trial 110 finished with value: 0.8134127777834305 and parameters: {'objective': 'binary:logistic', 'tree_method': 'gpu_hist', 'lambda': 1.0479117278729189, 'alpha': 0.16282308631153583, 'colsample_bytree': 0.7585935054386339, 'subsample': 0.6131728144431193, 'learning_rate': 0.018028180195279048, 'max_depth': 25, 'min_child_weight': 235, 'eval_metric': 'logloss'}. Best is trial 94 with value: 0.8140949988090198.\u001b[0m\n",
      "/home/tunguz/anaconda3/lib/python3.7/site-packages/xgboost/dask.py:884: RuntimeWarning: coroutine 'Client._wait_for_workers' was never awaited\n",
      "  client.wait_for_workers(n_workers)\n",
      "\u001b[32m[I 2022-11-23 00:15:38,914]\u001b[0m Trial 111 finished with value: 0.8130140505017379 and parameters: {'objective': 'binary:logistic', 'tree_method': 'gpu_hist', 'lambda': 1.5933583863658656, 'alpha': 0.08901412218993558, 'colsample_bytree': 0.8010476437673888, 'subsample': 0.6152281690412056, 'learning_rate': 0.018430559436332195, 'max_depth': 25, 'min_child_weight': 222, 'eval_metric': 'logloss'}. Best is trial 94 with value: 0.8140949988090198.\u001b[0m\n",
      "/home/tunguz/anaconda3/lib/python3.7/site-packages/xgboost/dask.py:884: RuntimeWarning: coroutine 'Client._wait_for_workers' was never awaited\n",
      "  client.wait_for_workers(n_workers)\n",
      "\u001b[32m[I 2022-11-23 00:23:11,891]\u001b[0m Trial 112 finished with value: 0.8130089712252382 and parameters: {'objective': 'binary:logistic', 'tree_method': 'gpu_hist', 'lambda': 1.1278522695090516, 'alpha': 0.2377268545516331, 'colsample_bytree': 0.7818862233499357, 'subsample': 0.7297546019023458, 'learning_rate': 0.015512727726424631, 'max_depth': 25, 'min_child_weight': 234, 'eval_metric': 'logloss'}. Best is trial 94 with value: 0.8140949988090198.\u001b[0m\n",
      "/home/tunguz/anaconda3/lib/python3.7/site-packages/xgboost/dask.py:884: RuntimeWarning: coroutine 'Client._wait_for_workers' was never awaited\n",
      "  client.wait_for_workers(n_workers)\n",
      "\u001b[32m[I 2022-11-23 00:24:52,883]\u001b[0m Trial 113 finished with value: 0.8133708227964843 and parameters: {'objective': 'binary:logistic', 'tree_method': 'gpu_hist', 'lambda': 0.6218735159455305, 'alpha': 0.05833595737808184, 'colsample_bytree': 0.861691645848223, 'subsample': 0.6289700733462137, 'learning_rate': 0.011535883690413334, 'max_depth': 22, 'min_child_weight': 265, 'eval_metric': 'logloss'}. Best is trial 94 with value: 0.8140949988090198.\u001b[0m\n",
      "/home/tunguz/anaconda3/lib/python3.7/site-packages/xgboost/dask.py:884: RuntimeWarning: coroutine 'Client._wait_for_workers' was never awaited\n",
      "  client.wait_for_workers(n_workers)\n",
      "\u001b[32m[I 2022-11-23 00:28:51,070]\u001b[0m Trial 114 finished with value: 0.8132633997673349 and parameters: {'objective': 'binary:logistic', 'tree_method': 'gpu_hist', 'lambda': 0.44932718390800874, 'alpha': 0.05531287293699649, 'colsample_bytree': 0.8835003906972214, 'subsample': 0.553518562211332, 'learning_rate': 0.01439205299502453, 'max_depth': 24, 'min_child_weight': 256, 'eval_metric': 'logloss'}. Best is trial 94 with value: 0.8140949988090198.\u001b[0m\n",
      "/home/tunguz/anaconda3/lib/python3.7/site-packages/xgboost/dask.py:884: RuntimeWarning: coroutine 'Client._wait_for_workers' was never awaited\n",
      "  client.wait_for_workers(n_workers)\n",
      "\u001b[32m[I 2022-11-23 00:31:20,892]\u001b[0m Trial 115 finished with value: 0.8130030277379697 and parameters: {'objective': 'binary:logistic', 'tree_method': 'gpu_hist', 'lambda': 0.7913068760814382, 'alpha': 0.044513678279692395, 'colsample_bytree': 0.8600352535449355, 'subsample': 0.6064091901509121, 'learning_rate': 0.008979886252800532, 'max_depth': 23, 'min_child_weight': 268, 'eval_metric': 'logloss'}. Best is trial 94 with value: 0.8140949988090198.\u001b[0m\n",
      "/home/tunguz/anaconda3/lib/python3.7/site-packages/xgboost/dask.py:884: RuntimeWarning: coroutine 'Client._wait_for_workers' was never awaited\n",
      "  client.wait_for_workers(n_workers)\n",
      "\u001b[32m[I 2022-11-23 00:38:51,164]\u001b[0m Trial 116 finished with value: 0.8133522178061595 and parameters: {'objective': 'binary:logistic', 'tree_method': 'gpu_hist', 'lambda': 0.661331841874625, 'alpha': 0.0709867643224579, 'colsample_bytree': 0.7539864881656871, 'subsample': 0.6278967916661156, 'learning_rate': 0.012003155341540051, 'max_depth': 25, 'min_child_weight': 237, 'eval_metric': 'logloss'}. Best is trial 94 with value: 0.8140949988090198.\u001b[0m\n",
      "/home/tunguz/anaconda3/lib/python3.7/site-packages/xgboost/dask.py:884: RuntimeWarning: coroutine 'Client._wait_for_workers' was never awaited\n",
      "  client.wait_for_workers(n_workers)\n",
      "\u001b[32m[I 2022-11-23 00:41:16,556]\u001b[0m Trial 117 finished with value: 0.8127678482678085 and parameters: {'objective': 'binary:logistic', 'tree_method': 'gpu_hist', 'lambda': 0.3485105679462197, 'alpha': 0.16084342256999534, 'colsample_bytree': 0.7621594675034621, 'subsample': 0.5807445340952064, 'learning_rate': 0.011893017655154233, 'max_depth': 23, 'min_child_weight': 263, 'eval_metric': 'logloss'}. Best is trial 94 with value: 0.8140949988090198.\u001b[0m\n",
      "/home/tunguz/anaconda3/lib/python3.7/site-packages/xgboost/dask.py:884: RuntimeWarning: coroutine 'Client._wait_for_workers' was never awaited\n",
      "  client.wait_for_workers(n_workers)\n",
      "\u001b[32m[I 2022-11-23 00:45:18,763]\u001b[0m Trial 118 finished with value: 0.8133806552322125 and parameters: {'objective': 'binary:logistic', 'tree_method': 'gpu_hist', 'lambda': 0.4940971176852227, 'alpha': 0.06616429369690682, 'colsample_bytree': 0.8665032721333988, 'subsample': 0.6319842293179312, 'learning_rate': 0.017774438633431137, 'max_depth': 24, 'min_child_weight': 239, 'eval_metric': 'logloss'}. Best is trial 94 with value: 0.8140949988090198.\u001b[0m\n",
      "/home/tunguz/anaconda3/lib/python3.7/site-packages/xgboost/dask.py:884: RuntimeWarning: coroutine 'Client._wait_for_workers' was never awaited\n",
      "  client.wait_for_workers(n_workers)\n",
      "\u001b[32m[I 2022-11-23 00:49:19,308]\u001b[0m Trial 119 finished with value: 0.8126786225823948 and parameters: {'objective': 'binary:logistic', 'tree_method': 'gpu_hist', 'lambda': 0.6320453980926813, 'alpha': 0.07022373478009987, 'colsample_bytree': 0.7563131291686723, 'subsample': 0.6282661972575008, 'learning_rate': 0.022407254592497337, 'max_depth': 24, 'min_child_weight': 237, 'eval_metric': 'logloss'}. Best is trial 94 with value: 0.8140949988090198.\u001b[0m\n",
      "/home/tunguz/anaconda3/lib/python3.7/site-packages/xgboost/dask.py:884: RuntimeWarning: coroutine 'Client._wait_for_workers' was never awaited\n",
      "  client.wait_for_workers(n_workers)\n",
      "\u001b[32m[I 2022-11-23 00:49:32,025]\u001b[0m Trial 120 finished with value: 0.8093381952200601 and parameters: {'objective': 'binary:logistic', 'tree_method': 'gpu_hist', 'lambda': 0.5379616201040842, 'alpha': 0.13134295213475555, 'colsample_bytree': 0.717759432896635, 'subsample': 0.5946270602054877, 'learning_rate': 0.026472712407788347, 'max_depth': 7, 'min_child_weight': 23, 'eval_metric': 'logloss'}. Best is trial 94 with value: 0.8140949988090198.\u001b[0m\n",
      "/home/tunguz/anaconda3/lib/python3.7/site-packages/xgboost/dask.py:884: RuntimeWarning: coroutine 'Client._wait_for_workers' was never awaited\n",
      "  client.wait_for_workers(n_workers)\n",
      "\u001b[32m[I 2022-11-23 00:53:34,279]\u001b[0m Trial 121 finished with value: 0.813813559603932 and parameters: {'objective': 'binary:logistic', 'tree_method': 'gpu_hist', 'lambda': 0.9693523724816238, 'alpha': 0.06631530355926539, 'colsample_bytree': 0.8513899792461685, 'subsample': 0.6371691923834258, 'learning_rate': 0.017324327699646102, 'max_depth': 24, 'min_child_weight': 246, 'eval_metric': 'logloss'}. Best is trial 94 with value: 0.8140949988090198.\u001b[0m\n",
      "/home/tunguz/anaconda3/lib/python3.7/site-packages/xgboost/dask.py:884: RuntimeWarning: coroutine 'Client._wait_for_workers' was never awaited\n",
      "  client.wait_for_workers(n_workers)\n",
      "\u001b[32m[I 2022-11-23 00:57:36,585]\u001b[0m Trial 122 finished with value: 0.8136509493795553 and parameters: {'objective': 'binary:logistic', 'tree_method': 'gpu_hist', 'lambda': 0.8776835937310878, 'alpha': 0.06396371476039281, 'colsample_bytree': 0.8462922960300556, 'subsample': 0.6443776759980537, 'learning_rate': 0.018340082531758842, 'max_depth': 24, 'min_child_weight': 245, 'eval_metric': 'logloss'}. Best is trial 94 with value: 0.8140949988090198.\u001b[0m\n",
      "/home/tunguz/anaconda3/lib/python3.7/site-packages/xgboost/dask.py:884: RuntimeWarning: coroutine 'Client._wait_for_workers' was never awaited\n",
      "  client.wait_for_workers(n_workers)\n",
      "\u001b[32m[I 2022-11-23 01:01:35,336]\u001b[0m Trial 123 finished with value: 0.8132689926785368 and parameters: {'objective': 'binary:logistic', 'tree_method': 'gpu_hist', 'lambda': 0.24957439815515212, 'alpha': 0.04786715938859766, 'colsample_bytree': 0.8487269955932538, 'subsample': 0.6405271841210224, 'learning_rate': 0.019193959553634954, 'max_depth': 24, 'min_child_weight': 250, 'eval_metric': 'logloss'}. Best is trial 94 with value: 0.8140949988090198.\u001b[0m\n",
      "/home/tunguz/anaconda3/lib/python3.7/site-packages/xgboost/dask.py:884: RuntimeWarning: coroutine 'Client._wait_for_workers' was never awaited\n",
      "  client.wait_for_workers(n_workers)\n",
      "\u001b[32m[I 2022-11-23 01:04:00,964]\u001b[0m Trial 124 finished with value: 0.8134346439464677 and parameters: {'objective': 'binary:logistic', 'tree_method': 'gpu_hist', 'lambda': 0.9922943611501666, 'alpha': 0.059029130698566024, 'colsample_bytree': 0.835389740495891, 'subsample': 0.6111976660933982, 'learning_rate': 0.016872673362514988, 'max_depth': 23, 'min_child_weight': 262, 'eval_metric': 'logloss'}. Best is trial 94 with value: 0.8140949988090198.\u001b[0m\n",
      "/home/tunguz/anaconda3/lib/python3.7/site-packages/xgboost/dask.py:884: RuntimeWarning: coroutine 'Client._wait_for_workers' was never awaited\n",
      "  client.wait_for_workers(n_workers)\n",
      "\u001b[32m[I 2022-11-23 01:06:23,571]\u001b[0m Trial 125 finished with value: 0.813726502598372 and parameters: {'objective': 'binary:logistic', 'tree_method': 'gpu_hist', 'lambda': 0.9435825838429315, 'alpha': 0.10558446238342736, 'colsample_bytree': 0.8333833281713744, 'subsample': 0.6478639814195094, 'learning_rate': 0.017931012694020254, 'max_depth': 23, 'min_child_weight': 277, 'eval_metric': 'logloss'}. Best is trial 94 with value: 0.8140949988090198.\u001b[0m\n",
      "/home/tunguz/anaconda3/lib/python3.7/site-packages/xgboost/dask.py:884: RuntimeWarning: coroutine 'Client._wait_for_workers' was never awaited\n",
      "  client.wait_for_workers(n_workers)\n",
      "\u001b[32m[I 2022-11-23 01:08:49,248]\u001b[0m Trial 126 finished with value: 0.8146422317431072 and parameters: {'objective': 'binary:logistic', 'tree_method': 'gpu_hist', 'lambda': 0.487925669934271, 'alpha': 0.02968106363177915, 'colsample_bytree': 0.8316132965578497, 'subsample': 0.6513397111981933, 'learning_rate': 0.017195258162539133, 'max_depth': 23, 'min_child_weight': 274, 'eval_metric': 'logloss'}. Best is trial 126 with value: 0.8146422317431072.\u001b[0m\n",
      "/home/tunguz/anaconda3/lib/python3.7/site-packages/xgboost/dask.py:884: RuntimeWarning: coroutine 'Client._wait_for_workers' was never awaited\n",
      "  client.wait_for_workers(n_workers)\n",
      "\u001b[32m[I 2022-11-23 01:11:08,442]\u001b[0m Trial 127 finished with value: 0.8123906121142913 and parameters: {'objective': 'binary:logistic', 'tree_method': 'gpu_hist', 'lambda': 0.9700783662232968, 'alpha': 0.028060298426106026, 'colsample_bytree': 0.8287600954692266, 'subsample': 0.6126933917490467, 'learning_rate': 0.02093213806803946, 'max_depth': 23, 'min_child_weight': 280, 'eval_metric': 'logloss'}. Best is trial 126 with value: 0.8146422317431072.\u001b[0m\n",
      "/home/tunguz/anaconda3/lib/python3.7/site-packages/xgboost/dask.py:884: RuntimeWarning: coroutine 'Client._wait_for_workers' was never awaited\n",
      "  client.wait_for_workers(n_workers)\n",
      "\u001b[32m[I 2022-11-23 01:13:34,057]\u001b[0m Trial 128 finished with value: 0.8120040571597481 and parameters: {'objective': 'binary:logistic', 'tree_method': 'gpu_hist', 'lambda': 0.7525505327278741, 'alpha': 0.01730987748864055, 'colsample_bytree': 0.8917345404110709, 'subsample': 0.6492268077999075, 'learning_rate': 0.0246499501584429, 'max_depth': 23, 'min_child_weight': 244, 'eval_metric': 'logloss'}. Best is trial 126 with value: 0.8146422317431072.\u001b[0m\n",
      "/home/tunguz/anaconda3/lib/python3.7/site-packages/xgboost/dask.py:884: RuntimeWarning: coroutine 'Client._wait_for_workers' was never awaited\n",
      "  client.wait_for_workers(n_workers)\n",
      "\u001b[32m[I 2022-11-23 01:15:03,365]\u001b[0m Trial 129 finished with value: 0.8107738368244839 and parameters: {'objective': 'binary:logistic', 'tree_method': 'gpu_hist', 'lambda': 1.33769065599597, 'alpha': 0.10446679128021708, 'colsample_bytree': 0.8465073100265261, 'subsample': 0.6505110211946957, 'learning_rate': 0.03166545825600828, 'max_depth': 22, 'min_child_weight': 287, 'eval_metric': 'logloss'}. Best is trial 126 with value: 0.8146422317431072.\u001b[0m\n",
      "/home/tunguz/anaconda3/lib/python3.7/site-packages/xgboost/dask.py:884: RuntimeWarning: coroutine 'Client._wait_for_workers' was never awaited\n",
      "  client.wait_for_workers(n_workers)\n",
      "\u001b[32m[I 2022-11-23 01:17:24,341]\u001b[0m Trial 130 finished with value: 0.8132196511353968 and parameters: {'objective': 'binary:logistic', 'tree_method': 'gpu_hist', 'lambda': 0.9560832242578181, 'alpha': 0.03859517908809083, 'colsample_bytree': 0.8358705533671382, 'subsample': 0.5988119094602091, 'learning_rate': 0.0166025344231344, 'max_depth': 23, 'min_child_weight': 276, 'eval_metric': 'logloss'}. Best is trial 126 with value: 0.8146422317431072.\u001b[0m\n",
      "/home/tunguz/anaconda3/lib/python3.7/site-packages/xgboost/dask.py:884: RuntimeWarning: coroutine 'Client._wait_for_workers' was never awaited\n",
      "  client.wait_for_workers(n_workers)\n",
      "\u001b[32m[I 2022-11-23 01:21:20,227]\u001b[0m Trial 131 finished with value: 0.8122811426992649 and parameters: {'objective': 'binary:logistic', 'tree_method': 'gpu_hist', 'lambda': 0.47817362525024637, 'alpha': 0.08849150301072346, 'colsample_bytree': 0.8727932236377095, 'subsample': 0.5732119290999553, 'learning_rate': 0.018095399144320557, 'max_depth': 24, 'min_child_weight': 259, 'eval_metric': 'logloss'}. Best is trial 126 with value: 0.8146422317431072.\u001b[0m\n",
      "/home/tunguz/anaconda3/lib/python3.7/site-packages/xgboost/dask.py:884: RuntimeWarning: coroutine 'Client._wait_for_workers' was never awaited\n",
      "  client.wait_for_workers(n_workers)\n",
      "\u001b[32m[I 2022-11-23 01:25:18,155]\u001b[0m Trial 132 finished with value: 0.8134718702329807 and parameters: {'objective': 'binary:logistic', 'tree_method': 'gpu_hist', 'lambda': 0.36387254591721596, 'alpha': 0.06387816379919269, 'colsample_bytree': 0.8636418545716037, 'subsample': 0.6411101738707414, 'learning_rate': 0.0196940339943358, 'max_depth': 24, 'min_child_weight': 272, 'eval_metric': 'logloss'}. Best is trial 126 with value: 0.8146422317431072.\u001b[0m\n",
      "/home/tunguz/anaconda3/lib/python3.7/site-packages/xgboost/dask.py:884: RuntimeWarning: coroutine 'Client._wait_for_workers' was never awaited\n",
      "  client.wait_for_workers(n_workers)\n",
      "\u001b[32m[I 2022-11-23 01:27:42,664]\u001b[0m Trial 133 finished with value: 0.8129917848450434 and parameters: {'objective': 'binary:logistic', 'tree_method': 'gpu_hist', 'lambda': 0.3923659984394551, 'alpha': 0.03247973410295764, 'colsample_bytree': 0.821165040675847, 'subsample': 0.6123599682871228, 'learning_rate': 0.016081947842909058, 'max_depth': 23, 'min_child_weight': 274, 'eval_metric': 'logloss'}. Best is trial 126 with value: 0.8146422317431072.\u001b[0m\n",
      "/home/tunguz/anaconda3/lib/python3.7/site-packages/xgboost/dask.py:884: RuntimeWarning: coroutine 'Client._wait_for_workers' was never awaited\n",
      "  client.wait_for_workers(n_workers)\n",
      "\u001b[32m[I 2022-11-23 01:31:35,039]\u001b[0m Trial 134 finished with value: 0.8122239417298878 and parameters: {'objective': 'binary:logistic', 'tree_method': 'gpu_hist', 'lambda': 0.2983149361561609, 'alpha': 0.04470500022093258, 'colsample_bytree': 0.8863648394214283, 'subsample': 0.6418239823749625, 'learning_rate': 0.02011158007839947, 'max_depth': 24, 'min_child_weight': 295, 'eval_metric': 'logloss'}. Best is trial 126 with value: 0.8146422317431072.\u001b[0m\n",
      "/home/tunguz/anaconda3/lib/python3.7/site-packages/xgboost/dask.py:884: RuntimeWarning: coroutine 'Client._wait_for_workers' was never awaited\n",
      "  client.wait_for_workers(n_workers)\n",
      "\u001b[32m[I 2022-11-23 01:33:09,218]\u001b[0m Trial 135 finished with value: 0.8123148713780438 and parameters: {'objective': 'binary:logistic', 'tree_method': 'gpu_hist', 'lambda': 0.17698093112510407, 'alpha': 0.16668397007113486, 'colsample_bytree': 0.7944523834784788, 'subsample': 0.6681528084828671, 'learning_rate': 0.022938726595027235, 'max_depth': 22, 'min_child_weight': 289, 'eval_metric': 'logloss'}. Best is trial 126 with value: 0.8146422317431072.\u001b[0m\n",
      "/home/tunguz/anaconda3/lib/python3.7/site-packages/xgboost/dask.py:884: RuntimeWarning: coroutine 'Client._wait_for_workers' was never awaited\n",
      "  client.wait_for_workers(n_workers)\n",
      "\u001b[32m[I 2022-11-23 01:37:08,588]\u001b[0m Trial 136 finished with value: 0.8139130335245945 and parameters: {'objective': 'binary:logistic', 'tree_method': 'gpu_hist', 'lambda': 0.9812060221614698, 'alpha': 0.056784097253458274, 'colsample_bytree': 0.853132558898484, 'subsample': 0.653950108334246, 'learning_rate': 0.014368397775002114, 'max_depth': 24, 'min_child_weight': 272, 'eval_metric': 'logloss'}. Best is trial 126 with value: 0.8146422317431072.\u001b[0m\n",
      "/home/tunguz/anaconda3/lib/python3.7/site-packages/xgboost/dask.py:884: RuntimeWarning: coroutine 'Client._wait_for_workers' was never awaited\n",
      "  client.wait_for_workers(n_workers)\n",
      "\u001b[32m[I 2022-11-23 01:41:10,050]\u001b[0m Trial 137 finished with value: 0.8137927370161627 and parameters: {'objective': 'binary:logistic', 'tree_method': 'gpu_hist', 'lambda': 0.776468903090078, 'alpha': 0.05978293713436239, 'colsample_bytree': 0.8368851834905887, 'subsample': 0.6527298452408421, 'learning_rate': 0.015097433057601639, 'max_depth': 24, 'min_child_weight': 268, 'eval_metric': 'logloss'}. Best is trial 126 with value: 0.8146422317431072.\u001b[0m\n",
      "/home/tunguz/anaconda3/lib/python3.7/site-packages/xgboost/dask.py:884: RuntimeWarning: coroutine 'Client._wait_for_workers' was never awaited\n",
      "  client.wait_for_workers(n_workers)\n",
      "\u001b[32m[I 2022-11-23 01:43:38,179]\u001b[0m Trial 138 finished with value: 0.8131827346602915 and parameters: {'objective': 'binary:logistic', 'tree_method': 'gpu_hist', 'lambda': 0.8791489410193886, 'alpha': 0.02229390735085568, 'colsample_bytree': 0.8413051695857209, 'subsample': 0.6603258530008771, 'learning_rate': 0.014894662071080464, 'max_depth': 23, 'min_child_weight': 273, 'eval_metric': 'logloss'}. Best is trial 126 with value: 0.8146422317431072.\u001b[0m\n",
      "/home/tunguz/anaconda3/lib/python3.7/site-packages/xgboost/dask.py:884: RuntimeWarning: coroutine 'Client._wait_for_workers' was never awaited\n",
      "  client.wait_for_workers(n_workers)\n",
      "\u001b[32m[I 2022-11-23 01:47:39,168]\u001b[0m Trial 139 finished with value: 0.8135853998080345 and parameters: {'objective': 'binary:logistic', 'tree_method': 'gpu_hist', 'lambda': 0.6884741582404981, 'alpha': 0.05338853734906631, 'colsample_bytree': 0.8526260795066501, 'subsample': 0.6862411895472035, 'learning_rate': 0.01578982742680061, 'max_depth': 24, 'min_child_weight': 264, 'eval_metric': 'logloss'}. Best is trial 126 with value: 0.8146422317431072.\u001b[0m\n",
      "/home/tunguz/anaconda3/lib/python3.7/site-packages/xgboost/dask.py:884: RuntimeWarning: coroutine 'Client._wait_for_workers' was never awaited\n",
      "  client.wait_for_workers(n_workers)\n",
      "\u001b[32m[I 2022-11-23 01:51:43,287]\u001b[0m Trial 140 finished with value: 0.8135498285666729 and parameters: {'objective': 'binary:logistic', 'tree_method': 'gpu_hist', 'lambda': 0.3562125759946561, 'alpha': 0.0529310027450884, 'colsample_bytree': 0.8567467811838243, 'subsample': 0.6854851839551883, 'learning_rate': 0.01402782159579879, 'max_depth': 24, 'min_child_weight': 268, 'eval_metric': 'logloss'}. Best is trial 126 with value: 0.8146422317431072.\u001b[0m\n",
      "/home/tunguz/anaconda3/lib/python3.7/site-packages/xgboost/dask.py:884: RuntimeWarning: coroutine 'Client._wait_for_workers' was never awaited\n",
      "  client.wait_for_workers(n_workers)\n",
      "\u001b[32m[I 2022-11-23 01:55:47,938]\u001b[0m Trial 141 finished with value: 0.8130860245835025 and parameters: {'objective': 'binary:logistic', 'tree_method': 'gpu_hist', 'lambda': 0.4133403193055299, 'alpha': 0.051757497961489395, 'colsample_bytree': 0.8552782751158999, 'subsample': 0.6894253591789776, 'learning_rate': 0.013771218557882246, 'max_depth': 24, 'min_child_weight': 269, 'eval_metric': 'logloss'}. Best is trial 126 with value: 0.8146422317431072.\u001b[0m\n",
      "/home/tunguz/anaconda3/lib/python3.7/site-packages/xgboost/dask.py:884: RuntimeWarning: coroutine 'Client._wait_for_workers' was never awaited\n",
      "  client.wait_for_workers(n_workers)\n",
      "\u001b[32m[I 2022-11-23 01:59:46,752]\u001b[0m Trial 142 finished with value: 0.8130565272763182 and parameters: {'objective': 'binary:logistic', 'tree_method': 'gpu_hist', 'lambda': 0.23385967956797307, 'alpha': 0.03861119305784752, 'colsample_bytree': 0.9029616130516075, 'subsample': 0.6769182365487342, 'learning_rate': 0.015378431967246814, 'max_depth': 24, 'min_child_weight': 298, 'eval_metric': 'logloss'}. Best is trial 126 with value: 0.8146422317431072.\u001b[0m\n",
      "/home/tunguz/anaconda3/lib/python3.7/site-packages/xgboost/dask.py:884: RuntimeWarning: coroutine 'Client._wait_for_workers' was never awaited\n",
      "  client.wait_for_workers(n_workers)\n",
      "\u001b[32m[I 2022-11-23 02:03:44,054]\u001b[0m Trial 143 finished with value: 0.8131947602346689 and parameters: {'objective': 'binary:logistic', 'tree_method': 'gpu_hist', 'lambda': 0.5340066447915239, 'alpha': 0.0803706654479372, 'colsample_bytree': 0.8580865582251398, 'subsample': 0.6540549953785013, 'learning_rate': 0.019495352810666146, 'max_depth': 24, 'min_child_weight': 279, 'eval_metric': 'logloss'}. Best is trial 126 with value: 0.8146422317431072.\u001b[0m\n",
      "/home/tunguz/anaconda3/lib/python3.7/site-packages/xgboost/dask.py:884: RuntimeWarning: coroutine 'Client._wait_for_workers' was never awaited\n",
      "  client.wait_for_workers(n_workers)\n",
      "\u001b[32m[I 2022-11-23 02:11:10,859]\u001b[0m Trial 144 finished with value: 0.8128820545361999 and parameters: {'objective': 'binary:logistic', 'tree_method': 'gpu_hist', 'lambda': 0.6904965786212024, 'alpha': 0.02763516052385167, 'colsample_bytree': 0.8128934788618286, 'subsample': 0.6909622386911204, 'learning_rate': 0.014160916406040515, 'max_depth': 25, 'min_child_weight': 251, 'eval_metric': 'logloss'}. Best is trial 126 with value: 0.8146422317431072.\u001b[0m\n",
      "/home/tunguz/anaconda3/lib/python3.7/site-packages/xgboost/dask.py:884: RuntimeWarning: coroutine 'Client._wait_for_workers' was never awaited\n",
      "  client.wait_for_workers(n_workers)\n",
      "\u001b[32m[I 2022-11-23 02:15:10,134]\u001b[0m Trial 145 finished with value: 0.8127483546079197 and parameters: {'objective': 'binary:logistic', 'tree_method': 'gpu_hist', 'lambda': 0.7575830229083231, 'alpha': 0.04533793253502876, 'colsample_bytree': 0.8753188605451618, 'subsample': 0.6675275372684571, 'learning_rate': 0.021327244662346184, 'max_depth': 24, 'min_child_weight': 257, 'eval_metric': 'logloss'}. Best is trial 126 with value: 0.8146422317431072.\u001b[0m\n",
      "/home/tunguz/anaconda3/lib/python3.7/site-packages/xgboost/dask.py:884: RuntimeWarning: coroutine 'Client._wait_for_workers' was never awaited\n",
      "  client.wait_for_workers(n_workers)\n",
      "\u001b[32m[I 2022-11-23 02:17:29,144]\u001b[0m Trial 146 finished with value: 0.8101104246125139 and parameters: {'objective': 'binary:logistic', 'tree_method': 'gpu_hist', 'lambda': 0.34582521497902613, 'alpha': 0.06672806777240886, 'colsample_bytree': 0.916615726180935, 'subsample': 0.6424821040582102, 'learning_rate': 0.028512154231544535, 'max_depth': 23, 'min_child_weight': 268, 'eval_metric': 'logloss'}. Best is trial 126 with value: 0.8146422317431072.\u001b[0m\n",
      "/home/tunguz/anaconda3/lib/python3.7/site-packages/xgboost/dask.py:884: RuntimeWarning: coroutine 'Client._wait_for_workers' was never awaited\n",
      "  client.wait_for_workers(n_workers)\n",
      "\u001b[32m[I 2022-11-23 02:19:09,046]\u001b[0m Trial 147 finished with value: 0.8131186933811501 and parameters: {'objective': 'binary:logistic', 'tree_method': 'gpu_hist', 'lambda': 1.359368752194083, 'alpha': 0.03433834918420314, 'colsample_bytree': 0.8280935269612197, 'subsample': 0.6801993714338198, 'learning_rate': 0.0154309993663826, 'max_depth': 22, 'min_child_weight': 284, 'eval_metric': 'logloss'}. Best is trial 126 with value: 0.8146422317431072.\u001b[0m\n",
      "/home/tunguz/anaconda3/lib/python3.7/site-packages/xgboost/dask.py:884: RuntimeWarning: coroutine 'Client._wait_for_workers' was never awaited\n",
      "  client.wait_for_workers(n_workers)\n",
      "\u001b[32m[I 2022-11-23 02:26:35,595]\u001b[0m Trial 148 finished with value: 0.8133937651465166 and parameters: {'objective': 'binary:logistic', 'tree_method': 'gpu_hist', 'lambda': 0.5832920434276806, 'alpha': 0.05431665387495039, 'colsample_bytree': 0.8948278974017134, 'subsample': 0.7018053774140323, 'learning_rate': 0.013261672015828964, 'max_depth': 25, 'min_child_weight': 260, 'eval_metric': 'logloss'}. Best is trial 126 with value: 0.8146422317431072.\u001b[0m\n",
      "/home/tunguz/anaconda3/lib/python3.7/site-packages/xgboost/dask.py:884: RuntimeWarning: coroutine 'Client._wait_for_workers' was never awaited\n",
      "  client.wait_for_workers(n_workers)\n",
      "\u001b[32m[I 2022-11-23 02:30:34,510]\u001b[0m Trial 149 finished with value: 0.8124837838186871 and parameters: {'objective': 'binary:logistic', 'tree_method': 'gpu_hist', 'lambda': 0.4029541989072971, 'alpha': 0.07948944140450315, 'colsample_bytree': 0.8668490382986033, 'subsample': 0.6549439417308816, 'learning_rate': 0.01804541287199515, 'max_depth': 24, 'min_child_weight': 272, 'eval_metric': 'logloss'}. Best is trial 126 with value: 0.8146422317431072.\u001b[0m\n",
      "/home/tunguz/anaconda3/lib/python3.7/site-packages/xgboost/dask.py:884: RuntimeWarning: coroutine 'Client._wait_for_workers' was never awaited\n",
      "  client.wait_for_workers(n_workers)\n",
      "\u001b[32m[I 2022-11-23 02:33:23,576]\u001b[0m Trial 150 finished with value: 0.7993374422152806 and parameters: {'objective': 'binary:logistic', 'tree_method': 'gpu_hist', 'lambda': 1.7445506099267705, 'alpha': 0.10756399300939934, 'colsample_bytree': 0.5234526062088605, 'subsample': 0.6428803980325455, 'learning_rate': 0.0022458257112585984, 'max_depth': 23, 'min_child_weight': 253, 'eval_metric': 'logloss'}. Best is trial 126 with value: 0.8146422317431072.\u001b[0m\n",
      "/home/tunguz/anaconda3/lib/python3.7/site-packages/xgboost/dask.py:884: RuntimeWarning: coroutine 'Client._wait_for_workers' was never awaited\n",
      "  client.wait_for_workers(n_workers)\n",
      "\u001b[32m[I 2022-11-23 02:35:48,476]\u001b[0m Trial 151 finished with value: 0.8137993490438372 and parameters: {'objective': 'binary:logistic', 'tree_method': 'gpu_hist', 'lambda': 0.8432489015894742, 'alpha': 0.06462087049027945, 'colsample_bytree': 0.8401345255177035, 'subsample': 0.6243317385802439, 'learning_rate': 0.01680549941384799, 'max_depth': 23, 'min_child_weight': 264, 'eval_metric': 'logloss'}. Best is trial 126 with value: 0.8146422317431072.\u001b[0m\n",
      "/home/tunguz/anaconda3/lib/python3.7/site-packages/xgboost/dask.py:884: RuntimeWarning: coroutine 'Client._wait_for_workers' was never awaited\n",
      "  client.wait_for_workers(n_workers)\n",
      "\u001b[32m[I 2022-11-23 02:39:48,083]\u001b[0m Trial 152 finished with value: 0.8130319054223387 and parameters: {'objective': 'binary:logistic', 'tree_method': 'gpu_hist', 'lambda': 0.7866463860586252, 'alpha': 0.0610896463259861, 'colsample_bytree': 0.8532129298028263, 'subsample': 0.6697822809619869, 'learning_rate': 0.016503969593263088, 'max_depth': 24, 'min_child_weight': 280, 'eval_metric': 'logloss'}. Best is trial 126 with value: 0.8146422317431072.\u001b[0m\n",
      "/home/tunguz/anaconda3/lib/python3.7/site-packages/xgboost/dask.py:884: RuntimeWarning: coroutine 'Client._wait_for_workers' was never awaited\n",
      "  client.wait_for_workers(n_workers)\n",
      "\u001b[32m[I 2022-11-23 02:42:10,785]\u001b[0m Trial 153 finished with value: 0.8138368199183037 and parameters: {'objective': 'binary:logistic', 'tree_method': 'gpu_hist', 'lambda': 0.6704443282114202, 'alpha': 0.04889386298942717, 'colsample_bytree': 0.8423033311668008, 'subsample': 0.6268812386709339, 'learning_rate': 0.014404529143620585, 'max_depth': 23, 'min_child_weight': 290, 'eval_metric': 'logloss'}. Best is trial 126 with value: 0.8146422317431072.\u001b[0m\n",
      "/home/tunguz/anaconda3/lib/python3.7/site-packages/xgboost/dask.py:884: RuntimeWarning: coroutine 'Client._wait_for_workers' was never awaited\n",
      "  client.wait_for_workers(n_workers)\n",
      "\u001b[32m[I 2022-11-23 02:44:36,119]\u001b[0m Trial 154 finished with value: 0.8133910094555746 and parameters: {'objective': 'binary:logistic', 'tree_method': 'gpu_hist', 'lambda': 0.6297260702803336, 'alpha': 0.040695936874855426, 'colsample_bytree': 0.8407606703480378, 'subsample': 0.6355387014062079, 'learning_rate': 0.014506852400285437, 'max_depth': 23, 'min_child_weight': 290, 'eval_metric': 'logloss'}. Best is trial 126 with value: 0.8146422317431072.\u001b[0m\n",
      "/home/tunguz/anaconda3/lib/python3.7/site-packages/xgboost/dask.py:884: RuntimeWarning: coroutine 'Client._wait_for_workers' was never awaited\n",
      "  client.wait_for_workers(n_workers)\n",
      "\u001b[32m[I 2022-11-23 02:46:10,936]\u001b[0m Trial 155 finished with value: 0.8132162921275029 and parameters: {'objective': 'binary:logistic', 'tree_method': 'gpu_hist', 'lambda': 1.236289643168203, 'alpha': 0.08121202486166054, 'colsample_bytree': 0.8206831739001142, 'subsample': 0.6289843865575392, 'learning_rate': 0.019322803744110755, 'max_depth': 22, 'min_child_weight': 266, 'eval_metric': 'logloss'}. Best is trial 126 with value: 0.8146422317431072.\u001b[0m\n",
      "/home/tunguz/anaconda3/lib/python3.7/site-packages/xgboost/dask.py:884: RuntimeWarning: coroutine 'Client._wait_for_workers' was never awaited\n",
      "  client.wait_for_workers(n_workers)\n",
      "\u001b[32m[I 2022-11-23 02:49:58,664]\u001b[0m Trial 156 finished with value: 0.8124752313932486 and parameters: {'objective': 'binary:logistic', 'tree_method': 'gpu_hist', 'lambda': 0.4992163804896382, 'alpha': 0.05110177491381783, 'colsample_bytree': 0.8073300634308085, 'subsample': 0.4078824979297707, 'learning_rate': 0.013186244909685934, 'max_depth': 24, 'min_child_weight': 283, 'eval_metric': 'logloss'}. Best is trial 126 with value: 0.8146422317431072.\u001b[0m\n",
      "/home/tunguz/anaconda3/lib/python3.7/site-packages/xgboost/dask.py:884: RuntimeWarning: coroutine 'Client._wait_for_workers' was never awaited\n",
      "  client.wait_for_workers(n_workers)\n",
      "\u001b[32m[I 2022-11-23 02:57:18,271]\u001b[0m Trial 157 finished with value: 0.8134434817245186 and parameters: {'objective': 'binary:logistic', 'tree_method': 'gpu_hist', 'lambda': 0.8205239839149382, 'alpha': 0.09241024367950368, 'colsample_bytree': 0.7862398762497207, 'subsample': 0.6581179789284055, 'learning_rate': 0.01644368261177668, 'max_depth': 25, 'min_child_weight': 273, 'eval_metric': 'logloss'}. Best is trial 126 with value: 0.8146422317431072.\u001b[0m\n",
      "/home/tunguz/anaconda3/lib/python3.7/site-packages/xgboost/dask.py:884: RuntimeWarning: coroutine 'Client._wait_for_workers' was never awaited\n",
      "  client.wait_for_workers(n_workers)\n",
      "\u001b[32m[I 2022-11-23 02:59:37,576]\u001b[0m Trial 158 finished with value: 0.8128551743201173 and parameters: {'objective': 'binary:logistic', 'tree_method': 'gpu_hist', 'lambda': 0.29799217500602776, 'alpha': 0.06470891216633239, 'colsample_bytree': 0.8492464304626074, 'subsample': 0.6225019748141001, 'learning_rate': 0.02176667316312871, 'max_depth': 23, 'min_child_weight': 300, 'eval_metric': 'logloss'}. Best is trial 126 with value: 0.8146422317431072.\u001b[0m\n",
      "/home/tunguz/anaconda3/lib/python3.7/site-packages/xgboost/dask.py:884: RuntimeWarning: coroutine 'Client._wait_for_workers' was never awaited\n",
      "  client.wait_for_workers(n_workers)\n",
      "\u001b[32m[I 2022-11-23 03:07:01,062]\u001b[0m Trial 159 finished with value: 0.8130023428917001 and parameters: {'objective': 'binary:logistic', 'tree_method': 'gpu_hist', 'lambda': 1.0441630124011863, 'alpha': 0.019110168197412406, 'colsample_bytree': 0.8788793254058085, 'subsample': 0.7120848661857831, 'learning_rate': 0.015119316065362279, 'max_depth': 25, 'min_child_weight': 277, 'eval_metric': 'logloss'}. Best is trial 126 with value: 0.8146422317431072.\u001b[0m\n",
      "/home/tunguz/anaconda3/lib/python3.7/site-packages/xgboost/dask.py:884: RuntimeWarning: coroutine 'Client._wait_for_workers' was never awaited\n",
      "  client.wait_for_workers(n_workers)\n",
      "\u001b[32m[I 2022-11-23 03:11:03,720]\u001b[0m Trial 160 finished with value: 0.8138109099011029 and parameters: {'objective': 'binary:logistic', 'tree_method': 'gpu_hist', 'lambda': 1.5218635552827255, 'alpha': 0.11964086653084255, 'colsample_bytree': 0.8323005595575781, 'subsample': 0.6867449082849227, 'learning_rate': 0.017452247841960967, 'max_depth': 24, 'min_child_weight': 262, 'eval_metric': 'logloss'}. Best is trial 126 with value: 0.8146422317431072.\u001b[0m\n",
      "/home/tunguz/anaconda3/lib/python3.7/site-packages/xgboost/dask.py:884: RuntimeWarning: coroutine 'Client._wait_for_workers' was never awaited\n",
      "  client.wait_for_workers(n_workers)\n",
      "\u001b[32m[I 2022-11-23 03:15:06,202]\u001b[0m Trial 161 finished with value: 0.8132006221926195 and parameters: {'objective': 'binary:logistic', 'tree_method': 'gpu_hist', 'lambda': 1.544281112378418, 'alpha': 0.10229867692670087, 'colsample_bytree': 0.8256604207457714, 'subsample': 0.6882448196411237, 'learning_rate': 0.017533018204284892, 'max_depth': 24, 'min_child_weight': 261, 'eval_metric': 'logloss'}. Best is trial 126 with value: 0.8146422317431072.\u001b[0m\n",
      "/home/tunguz/anaconda3/lib/python3.7/site-packages/xgboost/dask.py:884: RuntimeWarning: coroutine 'Client._wait_for_workers' was never awaited\n",
      "  client.wait_for_workers(n_workers)\n",
      "\u001b[32m[I 2022-11-23 03:19:11,288]\u001b[0m Trial 162 finished with value: 0.8134481370485657 and parameters: {'objective': 'binary:logistic', 'tree_method': 'gpu_hist', 'lambda': 0.7536316958952907, 'alpha': 0.12626395516990016, 'colsample_bytree': 0.860163175283276, 'subsample': 0.6730232377244202, 'learning_rate': 0.012932761970570434, 'max_depth': 24, 'min_child_weight': 267, 'eval_metric': 'logloss'}. Best is trial 126 with value: 0.8146422317431072.\u001b[0m\n",
      "/home/tunguz/anaconda3/lib/python3.7/site-packages/xgboost/dask.py:884: RuntimeWarning: coroutine 'Client._wait_for_workers' was never awaited\n",
      "  client.wait_for_workers(n_workers)\n",
      "\u001b[32m[I 2022-11-23 03:23:08,676]\u001b[0m Trial 163 finished with value: 0.8131521856249072 and parameters: {'objective': 'binary:logistic', 'tree_method': 'gpu_hist', 'lambda': 1.9644700294100017, 'alpha': 0.073074269331616, 'colsample_bytree': 0.8376331835308845, 'subsample': 0.6462602875838985, 'learning_rate': 0.019212283117981458, 'max_depth': 24, 'min_child_weight': 255, 'eval_metric': 'logloss'}. Best is trial 126 with value: 0.8146422317431072.\u001b[0m\n",
      "/home/tunguz/anaconda3/lib/python3.7/site-packages/xgboost/dask.py:884: RuntimeWarning: coroutine 'Client._wait_for_workers' was never awaited\n",
      "  client.wait_for_workers(n_workers)\n",
      "\u001b[32m[I 2022-11-23 03:24:53,241]\u001b[0m Trial 164 finished with value: 0.8129190933052821 and parameters: {'objective': 'binary:logistic', 'tree_method': 'gpu_hist', 'lambda': 0.5813174000243143, 'alpha': 0.030792784244281855, 'colsample_bytree': 0.8110050924762285, 'subsample': 0.6970683533597498, 'learning_rate': 0.015767367583908592, 'max_depth': 22, 'min_child_weight': 249, 'eval_metric': 'logloss'}. Best is trial 126 with value: 0.8146422317431072.\u001b[0m\n",
      "/home/tunguz/anaconda3/lib/python3.7/site-packages/xgboost/dask.py:884: RuntimeWarning: coroutine 'Client._wait_for_workers' was never awaited\n",
      "  client.wait_for_workers(n_workers)\n",
      "\u001b[32m[I 2022-11-23 03:27:24,770]\u001b[0m Trial 165 finished with value: 0.8129530991837415 and parameters: {'objective': 'binary:logistic', 'tree_method': 'gpu_hist', 'lambda': 1.2015486539060922, 'alpha': 0.051185702113978326, 'colsample_bytree': 0.8455829616717117, 'subsample': 0.7263658157504839, 'learning_rate': 0.017388348516441516, 'max_depth': 23, 'min_child_weight': 245, 'eval_metric': 'logloss'}. Best is trial 126 with value: 0.8146422317431072.\u001b[0m\n",
      "/home/tunguz/anaconda3/lib/python3.7/site-packages/xgboost/dask.py:884: RuntimeWarning: coroutine 'Client._wait_for_workers' was never awaited\n",
      "  client.wait_for_workers(n_workers)\n",
      "\u001b[32m[I 2022-11-23 03:34:45,427]\u001b[0m Trial 166 finished with value: 0.813511403799188 and parameters: {'objective': 'binary:logistic', 'tree_method': 'gpu_hist', 'lambda': 0.6694856680293811, 'alpha': 0.06291688885126191, 'colsample_bytree': 0.8639008714618498, 'subsample': 0.6219965272831831, 'learning_rate': 0.014144503828424682, 'max_depth': 25, 'min_child_weight': 284, 'eval_metric': 'logloss'}. Best is trial 126 with value: 0.8146422317431072.\u001b[0m\n",
      "/home/tunguz/anaconda3/lib/python3.7/site-packages/xgboost/dask.py:884: RuntimeWarning: coroutine 'Client._wait_for_workers' was never awaited\n",
      "  client.wait_for_workers(n_workers)\n",
      "\u001b[32m[I 2022-11-23 03:37:08,907]\u001b[0m Trial 167 finished with value: 0.8133731626879055 and parameters: {'objective': 'binary:logistic', 'tree_method': 'gpu_hist', 'lambda': 0.8668625749766078, 'alpha': 3.5317067492731264, 'colsample_bytree': 0.8707388244105917, 'subsample': 0.6233770944576122, 'learning_rate': 0.014256069478615966, 'max_depth': 23, 'min_child_weight': 290, 'eval_metric': 'logloss'}. Best is trial 126 with value: 0.8146422317431072.\u001b[0m\n",
      "/home/tunguz/anaconda3/lib/python3.7/site-packages/xgboost/dask.py:884: RuntimeWarning: coroutine 'Client._wait_for_workers' was never awaited\n",
      "  client.wait_for_workers(n_workers)\n",
      "\u001b[32m[I 2022-11-23 03:44:25,354]\u001b[0m Trial 168 finished with value: 0.811954055229134 and parameters: {'objective': 'binary:logistic', 'tree_method': 'gpu_hist', 'lambda': 0.6865015052235672, 'alpha': 0.02454357624762745, 'colsample_bytree': 0.8961816327500691, 'subsample': 0.6544282871086382, 'learning_rate': 0.024155648682038063, 'max_depth': 25, 'min_child_weight': 281, 'eval_metric': 'logloss'}. Best is trial 126 with value: 0.8146422317431072.\u001b[0m\n",
      "/home/tunguz/anaconda3/lib/python3.7/site-packages/xgboost/dask.py:884: RuntimeWarning: coroutine 'Client._wait_for_workers' was never awaited\n",
      "  client.wait_for_workers(n_workers)\n",
      "\u001b[32m[I 2022-11-23 03:48:18,508]\u001b[0m Trial 169 finished with value: 0.8131378935354947 and parameters: {'objective': 'binary:logistic', 'tree_method': 'gpu_hist', 'lambda': 0.3609733822047707, 'alpha': 0.0393117691735366, 'colsample_bytree': 0.9278747742888958, 'subsample': 0.605619796900261, 'learning_rate': 0.020705466776061852, 'max_depth': 24, 'min_child_weight': 273, 'eval_metric': 'logloss'}. Best is trial 126 with value: 0.8146422317431072.\u001b[0m\n",
      "/home/tunguz/anaconda3/lib/python3.7/site-packages/xgboost/dask.py:884: RuntimeWarning: coroutine 'Client._wait_for_workers' was never awaited\n",
      "  client.wait_for_workers(n_workers)\n",
      "\u001b[32m[I 2022-11-23 03:48:26,544]\u001b[0m Trial 170 finished with value: 0.8030541192263873 and parameters: {'objective': 'binary:logistic', 'tree_method': 'gpu_hist', 'lambda': 0.5043203973157727, 'alpha': 0.059316647339268835, 'colsample_bytree': 0.8842412844313492, 'subsample': 0.63689643122362, 'learning_rate': 0.016289538640261284, 'max_depth': 5, 'min_child_weight': 294, 'eval_metric': 'logloss'}. Best is trial 126 with value: 0.8146422317431072.\u001b[0m\n",
      "/home/tunguz/anaconda3/lib/python3.7/site-packages/xgboost/dask.py:884: RuntimeWarning: coroutine 'Client._wait_for_workers' was never awaited\n",
      "  client.wait_for_workers(n_workers)\n",
      "\u001b[32m[I 2022-11-23 03:55:53,111]\u001b[0m Trial 171 finished with value: 0.8124141577812753 and parameters: {'objective': 'binary:logistic', 'tree_method': 'gpu_hist', 'lambda': 0.9380539154758483, 'alpha': 0.08120503881679629, 'colsample_bytree': 0.8308958082029893, 'subsample': 0.6774555328692202, 'learning_rate': 0.013863378869308324, 'max_depth': 25, 'min_child_weight': 265, 'eval_metric': 'logloss'}. Best is trial 126 with value: 0.8146422317431072.\u001b[0m\n",
      "/home/tunguz/anaconda3/lib/python3.7/site-packages/xgboost/dask.py:884: RuntimeWarning: coroutine 'Client._wait_for_workers' was never awaited\n",
      "  client.wait_for_workers(n_workers)\n",
      "\u001b[32m[I 2022-11-23 04:03:12,435]\u001b[0m Trial 172 finished with value: 0.813085266360847 and parameters: {'objective': 'binary:logistic', 'tree_method': 'gpu_hist', 'lambda': 0.45222372574120434, 'alpha': 0.11071521386841646, 'colsample_bytree': 0.8590741978476202, 'subsample': 0.6212613680124257, 'learning_rate': 0.01240798762944854, 'max_depth': 25, 'min_child_weight': 284, 'eval_metric': 'logloss'}. Best is trial 126 with value: 0.8146422317431072.\u001b[0m\n",
      "/home/tunguz/anaconda3/lib/python3.7/site-packages/xgboost/dask.py:884: RuntimeWarning: coroutine 'Client._wait_for_workers' was never awaited\n",
      "  client.wait_for_workers(n_workers)\n",
      "\u001b[32m[I 2022-11-23 04:05:40,196]\u001b[0m Trial 173 finished with value: 0.8134441991825152 and parameters: {'objective': 'binary:logistic', 'tree_method': 'gpu_hist', 'lambda': 1.5131551988576932, 'alpha': 0.0686226161627572, 'colsample_bytree': 0.84182168779012, 'subsample': 0.6625585678595473, 'learning_rate': 0.015094312965263857, 'max_depth': 23, 'min_child_weight': 276, 'eval_metric': 'logloss'}. Best is trial 126 with value: 0.8146422317431072.\u001b[0m\n",
      "/home/tunguz/anaconda3/lib/python3.7/site-packages/xgboost/dask.py:884: RuntimeWarning: coroutine 'Client._wait_for_workers' was never awaited\n",
      "  client.wait_for_workers(n_workers)\n",
      "\u001b[32m[I 2022-11-23 04:09:38,495]\u001b[0m Trial 174 finished with value: 0.813557312958048 and parameters: {'objective': 'binary:logistic', 'tree_method': 'gpu_hist', 'lambda': 0.6611490525489498, 'alpha': 0.051034094793094585, 'colsample_bytree': 0.8648530358702063, 'subsample': 0.6004932277489595, 'learning_rate': 0.01725446508164735, 'max_depth': 24, 'min_child_weight': 259, 'eval_metric': 'logloss'}. Best is trial 126 with value: 0.8146422317431072.\u001b[0m\n",
      "/home/tunguz/anaconda3/lib/python3.7/site-packages/xgboost/dask.py:884: RuntimeWarning: coroutine 'Client._wait_for_workers' was never awaited\n",
      "  client.wait_for_workers(n_workers)\n",
      "\u001b[32m[I 2022-11-23 04:13:33,832]\u001b[0m Trial 175 finished with value: 0.814082206859055 and parameters: {'objective': 'binary:logistic', 'tree_method': 'gpu_hist', 'lambda': 0.6552670743786733, 'alpha': 0.05620126486823556, 'colsample_bytree': 0.9063980070217443, 'subsample': 0.5899489231399319, 'learning_rate': 0.018340777418251564, 'max_depth': 24, 'min_child_weight': 259, 'eval_metric': 'logloss'}. Best is trial 126 with value: 0.8146422317431072.\u001b[0m\n",
      "/home/tunguz/anaconda3/lib/python3.7/site-packages/xgboost/dask.py:884: RuntimeWarning: coroutine 'Client._wait_for_workers' was never awaited\n",
      "  client.wait_for_workers(n_workers)\n",
      "\u001b[32m[I 2022-11-23 04:15:58,039]\u001b[0m Trial 176 finished with value: 0.8135574678637518 and parameters: {'objective': 'binary:logistic', 'tree_method': 'gpu_hist', 'lambda': 0.6903416324227758, 'alpha': 0.04672405590298667, 'colsample_bytree': 0.8836861862994131, 'subsample': 0.5890130468743509, 'learning_rate': 0.017642604347054586, 'max_depth': 23, 'min_child_weight': 258, 'eval_metric': 'logloss'}. Best is trial 126 with value: 0.8146422317431072.\u001b[0m\n",
      "/home/tunguz/anaconda3/lib/python3.7/site-packages/xgboost/dask.py:884: RuntimeWarning: coroutine 'Client._wait_for_workers' was never awaited\n",
      "  client.wait_for_workers(n_workers)\n",
      "\u001b[32m[I 2022-11-23 04:18:21,214]\u001b[0m Trial 177 finished with value: 0.813449465976446 and parameters: {'objective': 'binary:logistic', 'tree_method': 'gpu_hist', 'lambda': 1.0358697030762316, 'alpha': 0.04532192923819839, 'colsample_bytree': 0.9102121332691718, 'subsample': 0.5931217146255544, 'learning_rate': 0.017393617624146384, 'max_depth': 23, 'min_child_weight': 258, 'eval_metric': 'logloss'}. Best is trial 126 with value: 0.8146422317431072.\u001b[0m\n",
      "/home/tunguz/anaconda3/lib/python3.7/site-packages/xgboost/dask.py:884: RuntimeWarning: coroutine 'Client._wait_for_workers' was never awaited\n",
      "  client.wait_for_workers(n_workers)\n",
      "\u001b[32m[I 2022-11-23 04:19:32,324]\u001b[0m Trial 178 finished with value: 0.8125094574008662 and parameters: {'objective': 'binary:logistic', 'tree_method': 'gpu_hist', 'lambda': 0.5821953128188855, 'alpha': 0.03274560419211274, 'colsample_bytree': 0.6428492241476154, 'subsample': 0.5798605853974935, 'learning_rate': 0.018556347616285187, 'max_depth': 21, 'min_child_weight': 252, 'eval_metric': 'logloss'}. Best is trial 126 with value: 0.8146422317431072.\u001b[0m\n",
      "/home/tunguz/anaconda3/lib/python3.7/site-packages/xgboost/dask.py:884: RuntimeWarning: coroutine 'Client._wait_for_workers' was never awaited\n",
      "  client.wait_for_workers(n_workers)\n",
      "\u001b[32m[I 2022-11-23 04:21:05,953]\u001b[0m Trial 179 finished with value: 0.812413244652916 and parameters: {'objective': 'binary:logistic', 'tree_method': 'gpu_hist', 'lambda': 0.8178998976073836, 'alpha': 0.04960405943798978, 'colsample_bytree': 0.9026411692891689, 'subsample': 0.5662219582737412, 'learning_rate': 0.022352424290725672, 'max_depth': 22, 'min_child_weight': 262, 'eval_metric': 'logloss'}. Best is trial 126 with value: 0.8146422317431072.\u001b[0m\n",
      "/home/tunguz/anaconda3/lib/python3.7/site-packages/xgboost/dask.py:884: RuntimeWarning: coroutine 'Client._wait_for_workers' was never awaited\n",
      "  client.wait_for_workers(n_workers)\n",
      "\u001b[32m[I 2022-11-23 04:23:30,420]\u001b[0m Trial 180 finished with value: 0.8130416237170219 and parameters: {'objective': 'binary:logistic', 'tree_method': 'gpu_hist', 'lambda': 1.2681467105332416, 'alpha': 0.0369128153221207, 'colsample_bytree': 0.8849462744442758, 'subsample': 0.5906587112489813, 'learning_rate': 0.017165884486169253, 'max_depth': 23, 'min_child_weight': 243, 'eval_metric': 'logloss'}. Best is trial 126 with value: 0.8146422317431072.\u001b[0m\n",
      "/home/tunguz/anaconda3/lib/python3.7/site-packages/xgboost/dask.py:884: RuntimeWarning: coroutine 'Client._wait_for_workers' was never awaited\n",
      "  client.wait_for_workers(n_workers)\n",
      "\u001b[32m[I 2022-11-23 04:27:29,255]\u001b[0m Trial 181 finished with value: 0.8136467017020973 and parameters: {'objective': 'binary:logistic', 'tree_method': 'gpu_hist', 'lambda': 0.6768314245881709, 'alpha': 0.05704049325797732, 'colsample_bytree': 0.8764671521412316, 'subsample': 0.610939777849119, 'learning_rate': 0.015514379383279531, 'max_depth': 24, 'min_child_weight': 269, 'eval_metric': 'logloss'}. Best is trial 126 with value: 0.8146422317431072.\u001b[0m\n",
      "/home/tunguz/anaconda3/lib/python3.7/site-packages/xgboost/dask.py:884: RuntimeWarning: coroutine 'Client._wait_for_workers' was never awaited\n",
      "  client.wait_for_workers(n_workers)\n",
      "\u001b[32m[I 2022-11-23 04:31:26,094]\u001b[0m Trial 182 finished with value: 0.8133390182096057 and parameters: {'objective': 'binary:logistic', 'tree_method': 'gpu_hist', 'lambda': 0.6814393755906937, 'alpha': 0.05407288826052403, 'colsample_bytree': 0.9155794436629466, 'subsample': 0.5386639893456309, 'learning_rate': 0.015917625152791368, 'max_depth': 24, 'min_child_weight': 257, 'eval_metric': 'logloss'}. Best is trial 126 with value: 0.8146422317431072.\u001b[0m\n",
      "/home/tunguz/anaconda3/lib/python3.7/site-packages/xgboost/dask.py:884: RuntimeWarning: coroutine 'Client._wait_for_workers' was never awaited\n",
      "  client.wait_for_workers(n_workers)\n",
      "\u001b[32m[I 2022-11-23 04:35:23,145]\u001b[0m Trial 183 finished with value: 0.8132486592666744 and parameters: {'objective': 'binary:logistic', 'tree_method': 'gpu_hist', 'lambda': 0.9360650794151056, 'alpha': 0.04635273981661472, 'colsample_bytree': 0.8819400468614971, 'subsample': 0.6014888012188663, 'learning_rate': 0.01865804090620377, 'max_depth': 24, 'min_child_weight': 268, 'eval_metric': 'logloss'}. Best is trial 126 with value: 0.8146422317431072.\u001b[0m\n",
      "/home/tunguz/anaconda3/lib/python3.7/site-packages/xgboost/dask.py:884: RuntimeWarning: coroutine 'Client._wait_for_workers' was never awaited\n",
      "  client.wait_for_workers(n_workers)\n",
      "\u001b[32m[I 2022-11-23 04:39:18,716]\u001b[0m Trial 184 finished with value: 0.8130930687165615 and parameters: {'objective': 'binary:logistic', 'tree_method': 'gpu_hist', 'lambda': 0.5703644178579222, 'alpha': 0.09454654957830161, 'colsample_bytree': 0.9390221185510095, 'subsample': 0.5687347723069708, 'learning_rate': 0.015473940455221567, 'max_depth': 24, 'min_child_weight': 263, 'eval_metric': 'logloss'}. Best is trial 126 with value: 0.8146422317431072.\u001b[0m\n",
      "/home/tunguz/anaconda3/lib/python3.7/site-packages/xgboost/dask.py:884: RuntimeWarning: coroutine 'Client._wait_for_workers' was never awaited\n",
      "  client.wait_for_workers(n_workers)\n",
      "\u001b[32m[I 2022-11-23 04:41:42,908]\u001b[0m Trial 185 finished with value: 0.8130906146840955 and parameters: {'objective': 'binary:logistic', 'tree_method': 'gpu_hist', 'lambda': 0.7655367934402386, 'alpha': 0.04153157674943755, 'colsample_bytree': 0.8951688430796262, 'subsample': 0.598491111644293, 'learning_rate': 0.020813736479893263, 'max_depth': 23, 'min_child_weight': 249, 'eval_metric': 'logloss'}. Best is trial 126 with value: 0.8146422317431072.\u001b[0m\n",
      "/home/tunguz/anaconda3/lib/python3.7/site-packages/xgboost/dask.py:884: RuntimeWarning: coroutine 'Client._wait_for_workers' was never awaited\n",
      "  client.wait_for_workers(n_workers)\n",
      "\u001b[32m[I 2022-11-23 04:43:16,368]\u001b[0m Trial 186 finished with value: 0.8125331090559635 and parameters: {'objective': 'binary:logistic', 'tree_method': 'gpu_hist', 'lambda': 1.1162932161017223, 'alpha': 0.028151767219093484, 'colsample_bytree': 0.8503426241307905, 'subsample': 0.5560625427321966, 'learning_rate': 0.017075171832991183, 'max_depth': 22, 'min_child_weight': 269, 'eval_metric': 'logloss'}. Best is trial 126 with value: 0.8146422317431072.\u001b[0m\n",
      "/home/tunguz/anaconda3/lib/python3.7/site-packages/xgboost/dask.py:884: RuntimeWarning: coroutine 'Client._wait_for_workers' was never awaited\n",
      "  client.wait_for_workers(n_workers)\n",
      "\u001b[32m[I 2022-11-23 04:47:17,976]\u001b[0m Trial 187 finished with value: 0.8136834388127036 and parameters: {'objective': 'binary:logistic', 'tree_method': 'gpu_hist', 'lambda': 0.47488629654169306, 'alpha': 0.056588488031688075, 'colsample_bytree': 0.869897315327578, 'subsample': 0.6132485906059789, 'learning_rate': 0.014542158966908187, 'max_depth': 24, 'min_child_weight': 257, 'eval_metric': 'logloss'}. Best is trial 126 with value: 0.8146422317431072.\u001b[0m\n",
      "/home/tunguz/anaconda3/lib/python3.7/site-packages/xgboost/dask.py:884: RuntimeWarning: coroutine 'Client._wait_for_workers' was never awaited\n",
      "  client.wait_for_workers(n_workers)\n",
      "\u001b[32m[I 2022-11-23 04:49:41,089]\u001b[0m Trial 188 finished with value: 0.8125187191313696 and parameters: {'objective': 'binary:logistic', 'tree_method': 'gpu_hist', 'lambda': 0.4494539452287754, 'alpha': 0.0773854178226879, 'colsample_bytree': 0.9250992618883609, 'subsample': 0.6143534813356195, 'learning_rate': 0.019002293272487085, 'max_depth': 23, 'min_child_weight': 256, 'eval_metric': 'logloss'}. Best is trial 126 with value: 0.8146422317431072.\u001b[0m\n",
      "/home/tunguz/anaconda3/lib/python3.7/site-packages/xgboost/dask.py:884: RuntimeWarning: coroutine 'Client._wait_for_workers' was never awaited\n",
      "  client.wait_for_workers(n_workers)\n",
      "\u001b[32m[I 2022-11-23 04:53:44,000]\u001b[0m Trial 189 finished with value: 0.814114737056862 and parameters: {'objective': 'binary:logistic', 'tree_method': 'gpu_hist', 'lambda': 0.8966642024908174, 'alpha': 0.059602603606087844, 'colsample_bytree': 0.8727020345065906, 'subsample': 0.6069162583669325, 'learning_rate': 0.015313342796042613, 'max_depth': 24, 'min_child_weight': 243, 'eval_metric': 'logloss'}. Best is trial 126 with value: 0.8146422317431072.\u001b[0m\n",
      "/home/tunguz/anaconda3/lib/python3.7/site-packages/xgboost/dask.py:884: RuntimeWarning: coroutine 'Client._wait_for_workers' was never awaited\n",
      "  client.wait_for_workers(n_workers)\n",
      "\u001b[32m[I 2022-11-23 04:54:01,545]\u001b[0m Trial 190 finished with value: 0.8110104349047751 and parameters: {'objective': 'binary:logistic', 'tree_method': 'gpu_hist', 'lambda': 0.8653670361805977, 'alpha': 0.09485683351600877, 'colsample_bytree': 0.8753344430791529, 'subsample': 0.6326886414500504, 'learning_rate': 0.01519879509544893, 'max_depth': 9, 'min_child_weight': 246, 'eval_metric': 'logloss'}. Best is trial 126 with value: 0.8146422317431072.\u001b[0m\n",
      "/home/tunguz/anaconda3/lib/python3.7/site-packages/xgboost/dask.py:884: RuntimeWarning: coroutine 'Client._wait_for_workers' was never awaited\n",
      "  client.wait_for_workers(n_workers)\n",
      "\u001b[32m[I 2022-11-23 04:57:59,848]\u001b[0m Trial 191 finished with value: 0.813649620451675 and parameters: {'objective': 'binary:logistic', 'tree_method': 'gpu_hist', 'lambda': 0.6993989970472774, 'alpha': 0.056071155328818185, 'colsample_bytree': 0.8726188532825926, 'subsample': 0.5946008335099959, 'learning_rate': 0.01623135382129376, 'max_depth': 24, 'min_child_weight': 261, 'eval_metric': 'logloss'}. Best is trial 126 with value: 0.8146422317431072.\u001b[0m\n",
      "/home/tunguz/anaconda3/lib/python3.7/site-packages/xgboost/dask.py:884: RuntimeWarning: coroutine 'Client._wait_for_workers' was never awaited\n",
      "  client.wait_for_workers(n_workers)\n",
      "\u001b[32m[I 2022-11-23 05:02:04,131]\u001b[0m Trial 192 finished with value: 0.8132969001640239 and parameters: {'objective': 'binary:logistic', 'tree_method': 'gpu_hist', 'lambda': 1.0249882700372999, 'alpha': 0.0637609538798716, 'colsample_bytree': 0.905801013700847, 'subsample': 0.6122020584767129, 'learning_rate': 0.012429656473009322, 'max_depth': 24, 'min_child_weight': 251, 'eval_metric': 'logloss'}. Best is trial 126 with value: 0.8146422317431072.\u001b[0m\n",
      "/home/tunguz/anaconda3/lib/python3.7/site-packages/xgboost/dask.py:884: RuntimeWarning: coroutine 'Client._wait_for_workers' was never awaited\n",
      "  client.wait_for_workers(n_workers)\n",
      "\u001b[32m[I 2022-11-23 05:04:25,728]\u001b[0m Trial 193 finished with value: 0.8134284803300411 and parameters: {'objective': 'binary:logistic', 'tree_method': 'gpu_hist', 'lambda': 0.7395636166387479, 'alpha': 0.0382431458622152, 'colsample_bytree': 0.8918952699278839, 'subsample': 0.579547626911141, 'learning_rate': 0.015972613894307083, 'max_depth': 23, 'min_child_weight': 265, 'eval_metric': 'logloss'}. Best is trial 126 with value: 0.8146422317431072.\u001b[0m\n",
      "/home/tunguz/anaconda3/lib/python3.7/site-packages/xgboost/dask.py:884: RuntimeWarning: coroutine 'Client._wait_for_workers' was never awaited\n",
      "  client.wait_for_workers(n_workers)\n",
      "\u001b[32m[I 2022-11-23 05:08:27,068]\u001b[0m Trial 194 finished with value: 0.8130450724071655 and parameters: {'objective': 'binary:logistic', 'tree_method': 'gpu_hist', 'lambda': 0.5620231940727288, 'alpha': 0.07387732856854809, 'colsample_bytree': 0.8758778250382704, 'subsample': 0.5895671887902458, 'learning_rate': 0.014305741968127063, 'max_depth': 24, 'min_child_weight': 243, 'eval_metric': 'logloss'}. Best is trial 126 with value: 0.8146422317431072.\u001b[0m\n",
      "/home/tunguz/anaconda3/lib/python3.7/site-packages/xgboost/dask.py:884: RuntimeWarning: coroutine 'Client._wait_for_workers' was never awaited\n",
      "  client.wait_for_workers(n_workers)\n",
      "\u001b[32m[I 2022-11-23 05:10:52,678]\u001b[0m Trial 195 finished with value: 0.8134558497220307 and parameters: {'objective': 'binary:logistic', 'tree_method': 'gpu_hist', 'lambda': 1.331483842046703, 'alpha': 0.05702138144193085, 'colsample_bytree': 0.8440409760924644, 'subsample': 0.6059823682318448, 'learning_rate': 0.013608011283856202, 'max_depth': 23, 'min_child_weight': 277, 'eval_metric': 'logloss'}. Best is trial 126 with value: 0.8146422317431072.\u001b[0m\n",
      "/home/tunguz/anaconda3/lib/python3.7/site-packages/xgboost/dask.py:884: RuntimeWarning: coroutine 'Client._wait_for_workers' was never awaited\n",
      "  client.wait_for_workers(n_workers)\n",
      "\u001b[32m[I 2022-11-23 05:15:15,670]\u001b[0m Trial 196 finished with value: 0.7943928032310134 and parameters: {'objective': 'binary:logistic', 'tree_method': 'gpu_hist', 'lambda': 0.8821103318675555, 'alpha': 0.04405714304740919, 'colsample_bytree': 0.8229383101918272, 'subsample': 0.6244986686726953, 'learning_rate': 0.0010405383895554202, 'max_depth': 24, 'min_child_weight': 260, 'eval_metric': 'logloss'}. Best is trial 126 with value: 0.8146422317431072.\u001b[0m\n",
      "/home/tunguz/anaconda3/lib/python3.7/site-packages/xgboost/dask.py:884: RuntimeWarning: coroutine 'Client._wait_for_workers' was never awaited\n",
      "  client.wait_for_workers(n_workers)\n",
      "\u001b[32m[I 2022-11-23 05:17:41,682]\u001b[0m Trial 197 finished with value: 0.8137357806347391 and parameters: {'objective': 'binary:logistic', 'tree_method': 'gpu_hist', 'lambda': 1.1353356364333236, 'alpha': 0.03177185574999578, 'colsample_bytree': 0.8724742422889022, 'subsample': 0.5853425842713817, 'learning_rate': 0.01790741030637211, 'max_depth': 23, 'min_child_weight': 241, 'eval_metric': 'logloss'}. Best is trial 126 with value: 0.8146422317431072.\u001b[0m\n",
      "/home/tunguz/anaconda3/lib/python3.7/site-packages/xgboost/dask.py:884: RuntimeWarning: coroutine 'Client._wait_for_workers' was never awaited\n",
      "  client.wait_for_workers(n_workers)\n",
      "\u001b[32m[I 2022-11-23 05:21:43,893]\u001b[0m Trial 198 finished with value: 0.8137640631550882 and parameters: {'objective': 'binary:logistic', 'tree_method': 'gpu_hist', 'lambda': 1.6753905535261608, 'alpha': 0.03221416812865865, 'colsample_bytree': 0.8515488688901591, 'subsample': 0.6427650736344502, 'learning_rate': 0.019963124470539335, 'max_depth': 24, 'min_child_weight': 231, 'eval_metric': 'logloss'}. Best is trial 126 with value: 0.8146422317431072.\u001b[0m\n",
      "/home/tunguz/anaconda3/lib/python3.7/site-packages/xgboost/dask.py:884: RuntimeWarning: coroutine 'Client._wait_for_workers' was never awaited\n",
      "  client.wait_for_workers(n_workers)\n",
      "\u001b[32m[I 2022-11-23 05:23:23,545]\u001b[0m Trial 199 finished with value: 0.8128253182839343 and parameters: {'objective': 'binary:logistic', 'tree_method': 'gpu_hist', 'lambda': 1.9593462757127984, 'alpha': 0.02154970478085259, 'colsample_bytree': 0.8697284883836731, 'subsample': 0.6451027908423779, 'learning_rate': 0.020660942333079017, 'max_depth': 22, 'min_child_weight': 230, 'eval_metric': 'logloss'}. Best is trial 126 with value: 0.8146422317431072.\u001b[0m\n",
      "/home/tunguz/anaconda3/lib/python3.7/site-packages/xgboost/dask.py:884: RuntimeWarning: coroutine 'Client._wait_for_workers' was never awaited\n",
      "  client.wait_for_workers(n_workers)\n",
      "\u001b[32m[I 2022-11-23 05:30:49,752]\u001b[0m Trial 200 finished with value: 0.8103347525304744 and parameters: {'objective': 'binary:logistic', 'tree_method': 'gpu_hist', 'lambda': 1.4673235057738934, 'alpha': 0.03124896091150179, 'colsample_bytree': 0.43283957153799923, 'subsample': 0.6343182588046886, 'learning_rate': 0.019309459353831757, 'max_depth': 25, 'min_child_weight': 239, 'eval_metric': 'logloss'}. Best is trial 126 with value: 0.8146422317431072.\u001b[0m\n",
      "/home/tunguz/anaconda3/lib/python3.7/site-packages/xgboost/dask.py:884: RuntimeWarning: coroutine 'Client._wait_for_workers' was never awaited\n",
      "  client.wait_for_workers(n_workers)\n",
      "\u001b[32m[I 2022-11-23 05:34:49,499]\u001b[0m Trial 201 finished with value: 0.8142182955963472 and parameters: {'objective': 'binary:logistic', 'tree_method': 'gpu_hist', 'lambda': 1.1121481625473038, 'alpha': 0.03577740010408929, 'colsample_bytree': 0.8522101683108112, 'subsample': 0.619058889262621, 'learning_rate': 0.015854762868190323, 'max_depth': 24, 'min_child_weight': 242, 'eval_metric': 'logloss'}. Best is trial 126 with value: 0.8146422317431072.\u001b[0m\n",
      "/home/tunguz/anaconda3/lib/python3.7/site-packages/xgboost/dask.py:884: RuntimeWarning: coroutine 'Client._wait_for_workers' was never awaited\n",
      "  client.wait_for_workers(n_workers)\n",
      "\u001b[32m[I 2022-11-23 05:38:52,673]\u001b[0m Trial 202 finished with value: 0.8137988517149986 and parameters: {'objective': 'binary:logistic', 'tree_method': 'gpu_hist', 'lambda': 1.1806464101354015, 'alpha': 0.024820068448320378, 'colsample_bytree': 0.8350935487988925, 'subsample': 0.6201518605694848, 'learning_rate': 0.01658475607701588, 'max_depth': 24, 'min_child_weight': 232, 'eval_metric': 'logloss'}. Best is trial 126 with value: 0.8146422317431072.\u001b[0m\n",
      "/home/tunguz/anaconda3/lib/python3.7/site-packages/xgboost/dask.py:884: RuntimeWarning: coroutine 'Client._wait_for_workers' was never awaited\n",
      "  client.wait_for_workers(n_workers)\n",
      "\u001b[32m[I 2022-11-23 05:41:21,083]\u001b[0m Trial 203 finished with value: 0.8120631577622301 and parameters: {'objective': 'binary:logistic', 'tree_method': 'gpu_hist', 'lambda': 1.7078156325130756, 'alpha': 0.025567038602937287, 'colsample_bytree': 0.831043942742835, 'subsample': 0.6239701838759473, 'learning_rate': 0.01859581048475552, 'max_depth': 23, 'min_child_weight': 234, 'eval_metric': 'logloss'}. Best is trial 126 with value: 0.8146422317431072.\u001b[0m\n",
      "/home/tunguz/anaconda3/lib/python3.7/site-packages/xgboost/dask.py:884: RuntimeWarning: coroutine 'Client._wait_for_workers' was never awaited\n",
      "  client.wait_for_workers(n_workers)\n",
      "\u001b[32m[I 2022-11-23 05:45:24,759]\u001b[0m Trial 204 finished with value: 0.8130769829821572 and parameters: {'objective': 'binary:logistic', 'tree_method': 'gpu_hist', 'lambda': 1.2222418048113575, 'alpha': 0.014975071442157055, 'colsample_bytree': 0.8158760107075174, 'subsample': 0.6538596011243788, 'learning_rate': 0.01697091067224531, 'max_depth': 24, 'min_child_weight': 230, 'eval_metric': 'logloss'}. Best is trial 126 with value: 0.8146422317431072.\u001b[0m\n",
      "/home/tunguz/anaconda3/lib/python3.7/site-packages/xgboost/dask.py:884: RuntimeWarning: coroutine 'Client._wait_for_workers' was never awaited\n",
      "  client.wait_for_workers(n_workers)\n",
      "\u001b[32m[I 2022-11-23 05:49:24,802]\u001b[0m Trial 205 finished with value: 0.8129086820113973 and parameters: {'objective': 'binary:logistic', 'tree_method': 'gpu_hist', 'lambda': 1.0920857678109073, 'alpha': 0.024223568045454606, 'colsample_bytree': 0.839951216758174, 'subsample': 0.6393059342799461, 'learning_rate': 0.021819627521316987, 'max_depth': 24, 'min_child_weight': 246, 'eval_metric': 'logloss'}. Best is trial 126 with value: 0.8146422317431072.\u001b[0m\n",
      "/home/tunguz/anaconda3/lib/python3.7/site-packages/xgboost/dask.py:884: RuntimeWarning: coroutine 'Client._wait_for_workers' was never awaited\n",
      "  client.wait_for_workers(n_workers)\n",
      "\u001b[32m[I 2022-11-23 05:51:55,232]\u001b[0m Trial 206 finished with value: 0.81356849062752 and parameters: {'objective': 'binary:logistic', 'tree_method': 'gpu_hist', 'lambda': 1.4385162820092463, 'alpha': 0.03381371254770008, 'colsample_bytree': 0.8516245982641114, 'subsample': 0.6147124851682808, 'learning_rate': 0.014639843596422075, 'max_depth': 23, 'min_child_weight': 240, 'eval_metric': 'logloss'}. Best is trial 126 with value: 0.8146422317431072.\u001b[0m\n",
      "/home/tunguz/anaconda3/lib/python3.7/site-packages/xgboost/dask.py:884: RuntimeWarning: coroutine 'Client._wait_for_workers' was never awaited\n",
      "  client.wait_for_workers(n_workers)\n",
      "\u001b[32m[I 2022-11-23 05:54:29,828]\u001b[0m Trial 207 finished with value: 0.8130889677918756 and parameters: {'objective': 'binary:logistic', 'tree_method': 'gpu_hist', 'lambda': 1.1402060123491258, 'alpha': 0.02790361233177524, 'colsample_bytree': 0.8020951786088361, 'subsample': 0.6306334774733149, 'learning_rate': 0.013117511515215454, 'max_depth': 23, 'min_child_weight': 221, 'eval_metric': 'logloss'}. Best is trial 126 with value: 0.8146422317431072.\u001b[0m\n",
      "/home/tunguz/anaconda3/lib/python3.7/site-packages/xgboost/dask.py:884: RuntimeWarning: coroutine 'Client._wait_for_workers' was never awaited\n",
      "  client.wait_for_workers(n_workers)\n",
      "\u001b[32m[I 2022-11-23 06:01:54,689]\u001b[0m Trial 208 finished with value: 0.8134481452014974 and parameters: {'objective': 'binary:logistic', 'tree_method': 'gpu_hist', 'lambda': 0.9953010340021835, 'alpha': 0.03184516844203713, 'colsample_bytree': 0.8355797187356114, 'subsample': 0.6006734906761125, 'learning_rate': 0.016609048034852997, 'max_depth': 25, 'min_child_weight': 232, 'eval_metric': 'logloss'}. Best is trial 126 with value: 0.8146422317431072.\u001b[0m\n",
      "/home/tunguz/anaconda3/lib/python3.7/site-packages/xgboost/dask.py:884: RuntimeWarning: coroutine 'Client._wait_for_workers' was never awaited\n",
      "  client.wait_for_workers(n_workers)\n",
      "\u001b[32m[I 2022-11-23 06:05:57,629]\u001b[0m Trial 209 finished with value: 0.8125044922654114 and parameters: {'objective': 'binary:logistic', 'tree_method': 'gpu_hist', 'lambda': 2.243566820222577, 'alpha': 0.03665494214448281, 'colsample_bytree': 0.8516281780362615, 'subsample': 0.6500091518214401, 'learning_rate': 0.018497116962319017, 'max_depth': 24, 'min_child_weight': 239, 'eval_metric': 'logloss'}. Best is trial 126 with value: 0.8146422317431072.\u001b[0m\n",
      "/home/tunguz/anaconda3/lib/python3.7/site-packages/xgboost/dask.py:884: RuntimeWarning: coroutine 'Client._wait_for_workers' was never awaited\n",
      "  client.wait_for_workers(n_workers)\n",
      "\u001b[32m[I 2022-11-23 06:09:54,908]\u001b[0m Trial 210 finished with value: 0.8119853461813102 and parameters: {'objective': 'binary:logistic', 'tree_method': 'gpu_hist', 'lambda': 1.6594226922453637, 'alpha': 1.3291340605492, 'colsample_bytree': 0.8674910268538228, 'subsample': 0.661718472946088, 'learning_rate': 0.02559163644606761, 'max_depth': 24, 'min_child_weight': 250, 'eval_metric': 'logloss'}. Best is trial 126 with value: 0.8146422317431072.\u001b[0m\n",
      "/home/tunguz/anaconda3/lib/python3.7/site-packages/xgboost/dask.py:884: RuntimeWarning: coroutine 'Client._wait_for_workers' was never awaited\n",
      "  client.wait_for_workers(n_workers)\n",
      "\u001b[32m[I 2022-11-23 06:13:56,969]\u001b[0m Trial 211 finished with value: 0.8135085421201327 and parameters: {'objective': 'binary:logistic', 'tree_method': 'gpu_hist', 'lambda': 0.9271547492962663, 'alpha': 0.042289213439018744, 'colsample_bytree': 0.8989836976438372, 'subsample': 0.6137007680829549, 'learning_rate': 0.015588005100788166, 'max_depth': 24, 'min_child_weight': 245, 'eval_metric': 'logloss'}. Best is trial 126 with value: 0.8146422317431072.\u001b[0m\n",
      "/home/tunguz/anaconda3/lib/python3.7/site-packages/xgboost/dask.py:884: RuntimeWarning: coroutine 'Client._wait_for_workers' was never awaited\n",
      "  client.wait_for_workers(n_workers)\n",
      "\u001b[32m[I 2022-11-23 06:18:04,495]\u001b[0m Trial 212 finished with value: 0.8050616808423322 and parameters: {'objective': 'binary:logistic', 'tree_method': 'gpu_hist', 'lambda': 1.307275090881506, 'alpha': 0.021610523173621787, 'colsample_bytree': 0.31046752778179376, 'subsample': 0.583866942196578, 'learning_rate': 0.014505097171549053, 'max_depth': 24, 'min_child_weight': 226, 'eval_metric': 'logloss'}. Best is trial 126 with value: 0.8146422317431072.\u001b[0m\n",
      "/home/tunguz/anaconda3/lib/python3.7/site-packages/xgboost/dask.py:884: RuntimeWarning: coroutine 'Client._wait_for_workers' was never awaited\n",
      "  client.wait_for_workers(n_workers)\n",
      "\u001b[32m[I 2022-11-23 06:26:18,076]\u001b[0m Trial 213 finished with value: 0.8115393074364914 and parameters: {'objective': 'binary:logistic', 'tree_method': 'gpu_hist', 'lambda': 0.8206093348011033, 'alpha': 0.08325847595213319, 'colsample_bytree': 0.8715218691236304, 'subsample': 0.9445629565410244, 'learning_rate': 0.015831573587885124, 'max_depth': 25, 'min_child_weight': 153, 'eval_metric': 'logloss'}. Best is trial 126 with value: 0.8146422317431072.\u001b[0m\n",
      "/home/tunguz/anaconda3/lib/python3.7/site-packages/xgboost/dask.py:884: RuntimeWarning: coroutine 'Client._wait_for_workers' was never awaited\n",
      "  client.wait_for_workers(n_workers)\n",
      "\u001b[32m[I 2022-11-23 06:28:42,692]\u001b[0m Trial 214 finished with value: 0.8130141157251922 and parameters: {'objective': 'binary:logistic', 'tree_method': 'gpu_hist', 'lambda': 1.1075996599473639, 'alpha': 0.12194009259518855, 'colsample_bytree': 0.853774960249639, 'subsample': 0.6204522563966793, 'learning_rate': 0.01749207717358365, 'max_depth': 23, 'min_child_weight': 255, 'eval_metric': 'logloss'}. Best is trial 126 with value: 0.8146422317431072.\u001b[0m\n",
      "/home/tunguz/anaconda3/lib/python3.7/site-packages/xgboost/dask.py:884: RuntimeWarning: coroutine 'Client._wait_for_workers' was never awaited\n",
      "  client.wait_for_workers(n_workers)\n",
      "\u001b[32m[I 2022-11-23 06:33:05,894]\u001b[0m Trial 215 finished with value: 0.8128117518054505 and parameters: {'objective': 'binary:logistic', 'tree_method': 'gpu_hist', 'lambda': 0.09283033238880298, 'alpha': 0.06316285296669436, 'colsample_bytree': 0.8346348874406087, 'subsample': 0.6048267632859502, 'learning_rate': 0.019982637023845912, 'max_depth': 24, 'min_child_weight': 138, 'eval_metric': 'logloss'}. Best is trial 126 with value: 0.8146422317431072.\u001b[0m\n",
      "/home/tunguz/anaconda3/lib/python3.7/site-packages/xgboost/dask.py:884: RuntimeWarning: coroutine 'Client._wait_for_workers' was never awaited\n",
      "  client.wait_for_workers(n_workers)\n",
      "\u001b[32m[I 2022-11-23 06:40:33,525]\u001b[0m Trial 216 finished with value: 0.8132518062983419 and parameters: {'objective': 'binary:logistic', 'tree_method': 'gpu_hist', 'lambda': 0.8355380087861224, 'alpha': 0.017969366704983922, 'colsample_bytree': 0.8884196499516427, 'subsample': 0.6398029351868462, 'learning_rate': 0.013218205679653539, 'max_depth': 25, 'min_child_weight': 234, 'eval_metric': 'logloss'}. Best is trial 126 with value: 0.8146422317431072.\u001b[0m\n",
      "/home/tunguz/anaconda3/lib/python3.7/site-packages/xgboost/dask.py:884: RuntimeWarning: coroutine 'Client._wait_for_workers' was never awaited\n",
      "  client.wait_for_workers(n_workers)\n",
      "\u001b[32m[I 2022-11-23 06:43:00,555]\u001b[0m Trial 217 finished with value: 0.813877649800664 and parameters: {'objective': 'binary:logistic', 'tree_method': 'gpu_hist', 'lambda': 0.569284976308466, 'alpha': 0.03775585836280267, 'colsample_bytree': 0.8222879885230081, 'subsample': 0.5644733965904283, 'learning_rate': 0.014866499845790476, 'max_depth': 23, 'min_child_weight': 242, 'eval_metric': 'logloss'}. Best is trial 126 with value: 0.8146422317431072.\u001b[0m\n",
      "/home/tunguz/anaconda3/lib/python3.7/site-packages/xgboost/dask.py:884: RuntimeWarning: coroutine 'Client._wait_for_workers' was never awaited\n",
      "  client.wait_for_workers(n_workers)\n",
      "\u001b[32m[I 2022-11-23 06:44:39,270]\u001b[0m Trial 218 finished with value: 0.8131859713742084 and parameters: {'objective': 'binary:logistic', 'tree_method': 'gpu_hist', 'lambda': 0.49368824316748505, 'alpha': 0.027209117473441537, 'colsample_bytree': 0.8073213396136957, 'subsample': 0.567014326131009, 'learning_rate': 0.01454304567556672, 'max_depth': 22, 'min_child_weight': 238, 'eval_metric': 'logloss'}. Best is trial 126 with value: 0.8146422317431072.\u001b[0m\n",
      "/home/tunguz/anaconda3/lib/python3.7/site-packages/xgboost/dask.py:884: RuntimeWarning: coroutine 'Client._wait_for_workers' was never awaited\n",
      "  client.wait_for_workers(n_workers)\n",
      "\u001b[32m[I 2022-11-23 06:47:06,499]\u001b[0m Trial 219 finished with value: 0.8126602214153646 and parameters: {'objective': 'binary:logistic', 'tree_method': 'gpu_hist', 'lambda': 1.3125751024460741, 'alpha': 0.036272127187413475, 'colsample_bytree': 0.8208014020498314, 'subsample': 0.5490913658237809, 'learning_rate': 0.012107188722182066, 'max_depth': 23, 'min_child_weight': 251, 'eval_metric': 'logloss'}. Best is trial 126 with value: 0.8146422317431072.\u001b[0m\n",
      "/home/tunguz/anaconda3/lib/python3.7/site-packages/xgboost/dask.py:884: RuntimeWarning: coroutine 'Client._wait_for_workers' was never awaited\n",
      "  client.wait_for_workers(n_workers)\n",
      "\u001b[32m[I 2022-11-23 06:49:28,317]\u001b[0m Trial 220 finished with value: 0.8129899912000517 and parameters: {'objective': 'binary:logistic', 'tree_method': 'gpu_hist', 'lambda': 1.0002901451140482, 'alpha': 0.04000410022052416, 'colsample_bytree': 0.8409800091504704, 'subsample': 0.5315862094724891, 'learning_rate': 0.01742502910485109, 'max_depth': 23, 'min_child_weight': 242, 'eval_metric': 'logloss'}. Best is trial 126 with value: 0.8146422317431072.\u001b[0m\n",
      "/home/tunguz/anaconda3/lib/python3.7/site-packages/xgboost/dask.py:884: RuntimeWarning: coroutine 'Client._wait_for_workers' was never awaited\n",
      "  client.wait_for_workers(n_workers)\n",
      "\u001b[32m[I 2022-11-23 06:53:25,245]\u001b[0m Trial 221 finished with value: 0.8139321439966898 and parameters: {'objective': 'binary:logistic', 'tree_method': 'gpu_hist', 'lambda': 0.6115748092092789, 'alpha': 0.05552654532441241, 'colsample_bytree': 0.8621834622628538, 'subsample': 0.593593811466312, 'learning_rate': 0.015795452241883588, 'max_depth': 24, 'min_child_weight': 273, 'eval_metric': 'logloss'}. Best is trial 126 with value: 0.8146422317431072.\u001b[0m\n",
      "/home/tunguz/anaconda3/lib/python3.7/site-packages/xgboost/dask.py:884: RuntimeWarning: coroutine 'Client._wait_for_workers' was never awaited\n",
      "  client.wait_for_workers(n_workers)\n",
      "\u001b[32m[I 2022-11-23 06:57:30,311]\u001b[0m Trial 222 finished with value: 0.8134601952346701 and parameters: {'objective': 'binary:logistic', 'tree_method': 'gpu_hist', 'lambda': 0.5691143967148616, 'alpha': 0.07023386649958434, 'colsample_bytree': 0.8608477027808701, 'subsample': 0.5802440803157964, 'learning_rate': 0.016018819265293728, 'max_depth': 24, 'min_child_weight': 218, 'eval_metric': 'logloss'}. Best is trial 126 with value: 0.8146422317431072.\u001b[0m\n",
      "/home/tunguz/anaconda3/lib/python3.7/site-packages/xgboost/dask.py:884: RuntimeWarning: coroutine 'Client._wait_for_workers' was never awaited\n",
      "  client.wait_for_workers(n_workers)\n",
      "\u001b[32m[I 2022-11-23 06:59:51,738]\u001b[0m Trial 223 finished with value: 0.8130941204447613 and parameters: {'objective': 'binary:logistic', 'tree_method': 'gpu_hist', 'lambda': 0.7798006993066584, 'alpha': 0.04662036988803842, 'colsample_bytree': 0.8248678493248819, 'subsample': 0.5697170000609895, 'learning_rate': 0.013798054395322393, 'max_depth': 23, 'min_child_weight': 276, 'eval_metric': 'logloss'}. Best is trial 126 with value: 0.8146422317431072.\u001b[0m\n",
      "/home/tunguz/anaconda3/lib/python3.7/site-packages/xgboost/dask.py:884: RuntimeWarning: coroutine 'Client._wait_for_workers' was never awaited\n",
      "  client.wait_for_workers(n_workers)\n",
      "\u001b[32m[I 2022-11-23 07:03:52,290]\u001b[0m Trial 224 finished with value: 0.8130670200995205 and parameters: {'objective': 'binary:logistic', 'tree_method': 'gpu_hist', 'lambda': 0.5909567305060603, 'alpha': 0.03135649400263454, 'colsample_bytree': 0.846265499069361, 'subsample': 0.6300130242410399, 'learning_rate': 0.018546795892213495, 'max_depth': 24, 'min_child_weight': 248, 'eval_metric': 'logloss'}. Best is trial 126 with value: 0.8146422317431072.\u001b[0m\n",
      "/home/tunguz/anaconda3/lib/python3.7/site-packages/xgboost/dask.py:884: RuntimeWarning: coroutine 'Client._wait_for_workers' was never awaited\n",
      "  client.wait_for_workers(n_workers)\n",
      "\u001b[32m[I 2022-11-23 07:05:30,059]\u001b[0m Trial 225 finished with value: 0.8134750498763755 and parameters: {'objective': 'binary:logistic', 'tree_method': 'gpu_hist', 'lambda': 0.46436747175290316, 'alpha': 0.09460793423819606, 'colsample_bytree': 0.8622289510962082, 'subsample': 0.5920565045014428, 'learning_rate': 0.016884114887538076, 'max_depth': 22, 'min_child_weight': 243, 'eval_metric': 'logloss'}. Best is trial 126 with value: 0.8146422317431072.\u001b[0m\n",
      "/home/tunguz/anaconda3/lib/python3.7/site-packages/xgboost/dask.py:884: RuntimeWarning: coroutine 'Client._wait_for_workers' was never awaited\n",
      "  client.wait_for_workers(n_workers)\n",
      "\u001b[32m[I 2022-11-23 07:08:03,611]\u001b[0m Trial 226 finished with value: 0.8128542938034848 and parameters: {'objective': 'binary:logistic', 'tree_method': 'gpu_hist', 'lambda': 0.9049675069044688, 'alpha': 0.0576874150994863, 'colsample_bytree': 0.8350683659869884, 'subsample': 0.6466106392207709, 'learning_rate': 0.015187784450522728, 'max_depth': 23, 'min_child_weight': 229, 'eval_metric': 'logloss'}. Best is trial 126 with value: 0.8146422317431072.\u001b[0m\n",
      "/home/tunguz/anaconda3/lib/python3.7/site-packages/xgboost/dask.py:884: RuntimeWarning: coroutine 'Client._wait_for_workers' was never awaited\n",
      "  client.wait_for_workers(n_workers)\n",
      "\u001b[32m[I 2022-11-23 07:12:15,493]\u001b[0m Trial 227 finished with value: 0.81245848527137 and parameters: {'objective': 'binary:logistic', 'tree_method': 'gpu_hist', 'lambda': 0.1427910525679227, 'alpha': 0.042860317931608834, 'colsample_bytree': 0.8534727627266726, 'subsample': 0.5607922610586149, 'learning_rate': 0.02026240829730192, 'max_depth': 24, 'min_child_weight': 163, 'eval_metric': 'logloss'}. Best is trial 126 with value: 0.8146422317431072.\u001b[0m\n",
      "/home/tunguz/anaconda3/lib/python3.7/site-packages/xgboost/dask.py:884: RuntimeWarning: coroutine 'Client._wait_for_workers' was never awaited\n",
      "  client.wait_for_workers(n_workers)\n",
      "\u001b[32m[I 2022-11-23 07:19:38,348]\u001b[0m Trial 228 finished with value: 0.8134005402328268 and parameters: {'objective': 'binary:logistic', 'tree_method': 'gpu_hist', 'lambda': 1.7449637814554175, 'alpha': 0.07316030934367339, 'colsample_bytree': 0.8792445182428366, 'subsample': 0.6015545309221221, 'learning_rate': 0.012553814613344245, 'max_depth': 25, 'min_child_weight': 254, 'eval_metric': 'logloss'}. Best is trial 126 with value: 0.8146422317431072.\u001b[0m\n",
      "/home/tunguz/anaconda3/lib/python3.7/site-packages/xgboost/dask.py:884: RuntimeWarning: coroutine 'Client._wait_for_workers' was never awaited\n",
      "  client.wait_for_workers(n_workers)\n",
      "\u001b[32m[I 2022-11-23 07:23:38,892]\u001b[0m Trial 229 finished with value: 0.8133076620339751 and parameters: {'objective': 'binary:logistic', 'tree_method': 'gpu_hist', 'lambda': 0.7370016990444453, 'alpha': 0.05180507901007495, 'colsample_bytree': 0.9134915616510806, 'subsample': 0.6208985390855662, 'learning_rate': 0.014317576694231407, 'max_depth': 24, 'min_child_weight': 262, 'eval_metric': 'logloss'}. Best is trial 126 with value: 0.8146422317431072.\u001b[0m\n",
      "/home/tunguz/anaconda3/lib/python3.7/site-packages/xgboost/dask.py:884: RuntimeWarning: coroutine 'Client._wait_for_workers' was never awaited\n",
      "  client.wait_for_workers(n_workers)\n",
      "\u001b[32m[I 2022-11-23 07:25:52,388]\u001b[0m Trial 230 finished with value: 0.8127939458024402 and parameters: {'objective': 'binary:logistic', 'tree_method': 'gpu_hist', 'lambda': 1.155955553632845, 'alpha': 0.03546640673866597, 'colsample_bytree': 0.8661226780596989, 'subsample': 0.438301386736276, 'learning_rate': 0.018280953663296955, 'max_depth': 23, 'min_child_weight': 273, 'eval_metric': 'logloss'}. Best is trial 126 with value: 0.8146422317431072.\u001b[0m\n",
      "/home/tunguz/anaconda3/lib/python3.7/site-packages/xgboost/dask.py:884: RuntimeWarning: coroutine 'Client._wait_for_workers' was never awaited\n",
      "  client.wait_for_workers(n_workers)\n",
      "\u001b[32m[I 2022-11-23 07:29:50,234]\u001b[0m Trial 231 finished with value: 0.8133877238240668 and parameters: {'objective': 'binary:logistic', 'tree_method': 'gpu_hist', 'lambda': 0.6472880563715533, 'alpha': 0.05754901279994706, 'colsample_bytree': 0.8814000799433438, 'subsample': 0.6110091018231341, 'learning_rate': 0.016061772131384048, 'max_depth': 24, 'min_child_weight': 270, 'eval_metric': 'logloss'}. Best is trial 126 with value: 0.8146422317431072.\u001b[0m\n",
      "/home/tunguz/anaconda3/lib/python3.7/site-packages/xgboost/dask.py:884: RuntimeWarning: coroutine 'Client._wait_for_workers' was never awaited\n",
      "  client.wait_for_workers(n_workers)\n",
      "\u001b[32m[I 2022-11-23 07:33:33,837]\u001b[0m Trial 232 finished with value: 0.8018165123349292 and parameters: {'objective': 'binary:logistic', 'tree_method': 'gpu_hist', 'lambda': 0.6773299095420384, 'alpha': 0.05958417841417537, 'colsample_bytree': 0.8460279926769513, 'subsample': 0.5888640716982242, 'learning_rate': 0.09224850816651728, 'max_depth': 24, 'min_child_weight': 265, 'eval_metric': 'logloss'}. Best is trial 126 with value: 0.8146422317431072.\u001b[0m\n",
      "/home/tunguz/anaconda3/lib/python3.7/site-packages/xgboost/dask.py:884: RuntimeWarning: coroutine 'Client._wait_for_workers' was never awaited\n",
      "  client.wait_for_workers(n_workers)\n",
      "\u001b[32m[I 2022-11-23 07:37:32,518]\u001b[0m Trial 233 finished with value: 0.8133643249098546 and parameters: {'objective': 'binary:logistic', 'tree_method': 'gpu_hist', 'lambda': 0.553490853210248, 'alpha': 0.0849075756240919, 'colsample_bytree': 0.8941741293466141, 'subsample': 0.628201402829671, 'learning_rate': 0.015274012134351905, 'max_depth': 24, 'min_child_weight': 279, 'eval_metric': 'logloss'}. Best is trial 126 with value: 0.8146422317431072.\u001b[0m\n",
      "/home/tunguz/anaconda3/lib/python3.7/site-packages/xgboost/dask.py:884: RuntimeWarning: coroutine 'Client._wait_for_workers' was never awaited\n",
      "  client.wait_for_workers(n_workers)\n",
      "\u001b[32m[I 2022-11-23 07:39:59,241]\u001b[0m Trial 234 finished with value: 0.8140169263342827 and parameters: {'objective': 'binary:logistic', 'tree_method': 'gpu_hist', 'lambda': 0.8646111421973262, 'alpha': 0.04656341798449671, 'colsample_bytree': 0.8703212312148587, 'subsample': 0.5977366971014632, 'learning_rate': 0.016681848859744455, 'max_depth': 23, 'min_child_weight': 235, 'eval_metric': 'logloss'}. Best is trial 126 with value: 0.8146422317431072.\u001b[0m\n",
      "/home/tunguz/anaconda3/lib/python3.7/site-packages/xgboost/dask.py:884: RuntimeWarning: coroutine 'Client._wait_for_workers' was never awaited\n",
      "  client.wait_for_workers(n_workers)\n",
      "\u001b[32m[I 2022-11-23 07:42:27,110]\u001b[0m Trial 235 finished with value: 0.8136004256613072 and parameters: {'objective': 'binary:logistic', 'tree_method': 'gpu_hist', 'lambda': 0.9270814642803897, 'alpha': 0.046729939968318875, 'colsample_bytree': 0.8243184166611472, 'subsample': 0.5951943133992135, 'learning_rate': 0.016871134658027705, 'max_depth': 23, 'min_child_weight': 235, 'eval_metric': 'logloss'}. Best is trial 126 with value: 0.8146422317431072.\u001b[0m\n",
      "/home/tunguz/anaconda3/lib/python3.7/site-packages/xgboost/dask.py:884: RuntimeWarning: coroutine 'Client._wait_for_workers' was never awaited\n",
      "  client.wait_for_workers(n_workers)\n",
      "\u001b[32m[I 2022-11-23 07:44:04,486]\u001b[0m Trial 236 finished with value: 0.8118895003152902 and parameters: {'objective': 'binary:logistic', 'tree_method': 'gpu_hist', 'lambda': 1.4714299322613085, 'alpha': 0.030392309558095625, 'colsample_bytree': 0.8630104906258235, 'subsample': 0.5756143357164879, 'learning_rate': 0.01990170709787803, 'max_depth': 22, 'min_child_weight': 226, 'eval_metric': 'logloss'}. Best is trial 126 with value: 0.8146422317431072.\u001b[0m\n",
      "/home/tunguz/anaconda3/lib/python3.7/site-packages/xgboost/dask.py:884: RuntimeWarning: coroutine 'Client._wait_for_workers' was never awaited\n",
      "  client.wait_for_workers(n_workers)\n",
      "\u001b[32m[I 2022-11-23 07:46:37,080]\u001b[0m Trial 237 finished with value: 0.8138974940366196 and parameters: {'objective': 'binary:logistic', 'tree_method': 'gpu_hist', 'lambda': 1.0523820753694146, 'alpha': 0.024434179850841644, 'colsample_bytree': 0.8393544225063485, 'subsample': 0.6667728309620391, 'learning_rate': 0.013269871072477919, 'max_depth': 23, 'min_child_weight': 242, 'eval_metric': 'logloss'}. Best is trial 126 with value: 0.8146422317431072.\u001b[0m\n",
      "/home/tunguz/anaconda3/lib/python3.7/site-packages/xgboost/dask.py:884: RuntimeWarning: coroutine 'Client._wait_for_workers' was never awaited\n",
      "  client.wait_for_workers(n_workers)\n",
      "\u001b[32m[I 2022-11-23 07:49:10,498]\u001b[0m Trial 238 finished with value: 0.813737419374027 and parameters: {'objective': 'binary:logistic', 'tree_method': 'gpu_hist', 'lambda': 1.1755647892382997, 'alpha': 0.025570845997358555, 'colsample_bytree': 0.8371254785786371, 'subsample': 0.6639656744165999, 'learning_rate': 0.013720619768477724, 'max_depth': 23, 'min_child_weight': 244, 'eval_metric': 'logloss'}. Best is trial 126 with value: 0.8146422317431072.\u001b[0m\n",
      "/home/tunguz/anaconda3/lib/python3.7/site-packages/xgboost/dask.py:884: RuntimeWarning: coroutine 'Client._wait_for_workers' was never awaited\n",
      "  client.wait_for_workers(n_workers)\n",
      "\u001b[32m[I 2022-11-23 07:51:43,012]\u001b[0m Trial 239 finished with value: 0.8129355377686848 and parameters: {'objective': 'binary:logistic', 'tree_method': 'gpu_hist', 'lambda': 1.1450602314673366, 'alpha': 0.020449591065486578, 'colsample_bytree': 0.7980865220100345, 'subsample': 0.6683485260240511, 'learning_rate': 0.013350772661044844, 'max_depth': 23, 'min_child_weight': 240, 'eval_metric': 'logloss'}. Best is trial 126 with value: 0.8146422317431072.\u001b[0m\n",
      "/home/tunguz/anaconda3/lib/python3.7/site-packages/xgboost/dask.py:884: RuntimeWarning: coroutine 'Client._wait_for_workers' was never awaited\n",
      "  client.wait_for_workers(n_workers)\n",
      "\u001b[32m[I 2022-11-23 07:54:21,318]\u001b[0m Trial 240 finished with value: 0.8127094569703913 and parameters: {'objective': 'binary:logistic', 'tree_method': 'gpu_hist', 'lambda': 0.9504533787563277, 'alpha': 0.01304672808881017, 'colsample_bytree': 0.8138722737733628, 'subsample': 0.6592072990029378, 'learning_rate': 0.01118148987645326, 'max_depth': 23, 'min_child_weight': 234, 'eval_metric': 'logloss'}. Best is trial 126 with value: 0.8146422317431072.\u001b[0m\n",
      "/home/tunguz/anaconda3/lib/python3.7/site-packages/xgboost/dask.py:884: RuntimeWarning: coroutine 'Client._wait_for_workers' was never awaited\n",
      "  client.wait_for_workers(n_workers)\n",
      "\u001b[32m[I 2022-11-23 07:56:50,277]\u001b[0m Trial 241 finished with value: 0.8131765221262741 and parameters: {'objective': 'binary:logistic', 'tree_method': 'gpu_hist', 'lambda': 0.7986820826245108, 'alpha': 0.022930823917939953, 'colsample_bytree': 0.833330238787804, 'subsample': 0.6450709735120592, 'learning_rate': 0.0147124350606598, 'max_depth': 23, 'min_child_weight': 246, 'eval_metric': 'logloss'}. Best is trial 126 with value: 0.8146422317431072.\u001b[0m\n",
      "/home/tunguz/anaconda3/lib/python3.7/site-packages/xgboost/dask.py:884: RuntimeWarning: coroutine 'Client._wait_for_workers' was never awaited\n",
      "  client.wait_for_workers(n_workers)\n",
      "\u001b[32m[I 2022-11-23 08:02:24,699]\u001b[0m Trial 242 finished with value: 0.8108741341912566 and parameters: {'objective': 'binary:logistic', 'tree_method': 'gpu_hist', 'lambda': 1.2506451103656295, 'alpha': 0.023655745261691813, 'colsample_bytree': 0.8454210922254547, 'subsample': 0.6723280452652408, 'learning_rate': 0.018528201828343024, 'max_depth': 24, 'min_child_weight': 66, 'eval_metric': 'logloss'}. Best is trial 126 with value: 0.8146422317431072.\u001b[0m\n",
      "/home/tunguz/anaconda3/lib/python3.7/site-packages/xgboost/dask.py:884: RuntimeWarning: coroutine 'Client._wait_for_workers' was never awaited\n",
      "  client.wait_for_workers(n_workers)\n",
      "\u001b[32m[I 2022-11-23 08:04:51,773]\u001b[0m Trial 243 finished with value: 0.813625137197536 and parameters: {'objective': 'binary:logistic', 'tree_method': 'gpu_hist', 'lambda': 1.0554424304211358, 'alpha': 0.029846673576693277, 'colsample_bytree': 0.8380025588695548, 'subsample': 0.6539620866443442, 'learning_rate': 0.016841247031547255, 'max_depth': 23, 'min_child_weight': 253, 'eval_metric': 'logloss'}. Best is trial 126 with value: 0.8146422317431072.\u001b[0m\n",
      "/home/tunguz/anaconda3/lib/python3.7/site-packages/xgboost/dask.py:884: RuntimeWarning: coroutine 'Client._wait_for_workers' was never awaited\n",
      "  client.wait_for_workers(n_workers)\n",
      "\u001b[32m[I 2022-11-23 08:08:56,678]\u001b[0m Trial 244 finished with value: 0.813486023722553 and parameters: {'objective': 'binary:logistic', 'tree_method': 'gpu_hist', 'lambda': 0.8187489676677076, 'alpha': 0.026839056993917886, 'colsample_bytree': 0.8205172407818457, 'subsample': 0.6324217054036314, 'learning_rate': 0.013757831698697561, 'max_depth': 24, 'min_child_weight': 242, 'eval_metric': 'logloss'}. Best is trial 126 with value: 0.8146422317431072.\u001b[0m\n",
      "/home/tunguz/anaconda3/lib/python3.7/site-packages/xgboost/dask.py:884: RuntimeWarning: coroutine 'Client._wait_for_workers' was never awaited\n",
      "  client.wait_for_workers(n_workers)\n",
      "\u001b[32m[I 2022-11-23 08:11:27,664]\u001b[0m Trial 245 finished with value: 0.8130893509796693 and parameters: {'objective': 'binary:logistic', 'tree_method': 'gpu_hist', 'lambda': 1.458926540467423, 'alpha': 0.03701242231646253, 'colsample_bytree': 0.8537016934014445, 'subsample': 0.6639901574652792, 'learning_rate': 0.015746223159358207, 'max_depth': 23, 'min_child_weight': 235, 'eval_metric': 'logloss'}. Best is trial 126 with value: 0.8146422317431072.\u001b[0m\n",
      "/home/tunguz/anaconda3/lib/python3.7/site-packages/xgboost/dask.py:884: RuntimeWarning: coroutine 'Client._wait_for_workers' was never awaited\n",
      "  client.wait_for_workers(n_workers)\n",
      "\u001b[32m[I 2022-11-23 08:18:56,218]\u001b[0m Trial 246 finished with value: 0.8137349898003562 and parameters: {'objective': 'binary:logistic', 'tree_method': 'gpu_hist', 'lambda': 0.942151747146063, 'alpha': 0.01792986320847239, 'colsample_bytree': 0.8562573341725945, 'subsample': 0.6407873464388151, 'learning_rate': 0.012245141907759532, 'max_depth': 25, 'min_child_weight': 247, 'eval_metric': 'logloss'}. Best is trial 126 with value: 0.8146422317431072.\u001b[0m\n",
      "/home/tunguz/anaconda3/lib/python3.7/site-packages/xgboost/dask.py:884: RuntimeWarning: coroutine 'Client._wait_for_workers' was never awaited\n",
      "  client.wait_for_workers(n_workers)\n",
      "\u001b[32m[I 2022-11-23 08:26:24,908]\u001b[0m Trial 247 finished with value: 0.8130592340496695 and parameters: {'objective': 'binary:logistic', 'tree_method': 'gpu_hist', 'lambda': 1.1197539515797208, 'alpha': 0.021173797962546932, 'colsample_bytree': 0.8343654585642765, 'subsample': 0.641029811997179, 'learning_rate': 0.012011922126859684, 'max_depth': 25, 'min_child_weight': 246, 'eval_metric': 'logloss'}. Best is trial 126 with value: 0.8146422317431072.\u001b[0m\n",
      "/home/tunguz/anaconda3/lib/python3.7/site-packages/xgboost/dask.py:884: RuntimeWarning: coroutine 'Client._wait_for_workers' was never awaited\n",
      "  client.wait_for_workers(n_workers)\n",
      "\u001b[32m[I 2022-11-23 08:33:35,061]\u001b[0m Trial 248 finished with value: 0.8050341810034343 and parameters: {'objective': 'binary:logistic', 'tree_method': 'gpu_hist', 'lambda': 0.9728700729843341, 'alpha': 0.014055205163257862, 'colsample_bytree': 0.8524100573099391, 'subsample': 0.6505595336892617, 'learning_rate': 0.07512625083661864, 'max_depth': 25, 'min_child_weight': 240, 'eval_metric': 'logloss'}. Best is trial 126 with value: 0.8146422317431072.\u001b[0m\n",
      "/home/tunguz/anaconda3/lib/python3.7/site-packages/xgboost/dask.py:884: RuntimeWarning: coroutine 'Client._wait_for_workers' was never awaited\n",
      "  client.wait_for_workers(n_workers)\n",
      "\u001b[32m[I 2022-11-23 08:35:19,783]\u001b[0m Trial 249 finished with value: 0.813625283950308 and parameters: {'objective': 'binary:logistic', 'tree_method': 'gpu_hist', 'lambda': 1.306338699823148, 'alpha': 0.02574593292932667, 'colsample_bytree': 0.8434039230676431, 'subsample': 0.677969471866511, 'learning_rate': 0.012675593559176423, 'max_depth': 22, 'min_child_weight': 250, 'eval_metric': 'logloss'}. Best is trial 126 with value: 0.8146422317431072.\u001b[0m\n",
      "/home/tunguz/anaconda3/lib/python3.7/site-packages/xgboost/dask.py:884: RuntimeWarning: coroutine 'Client._wait_for_workers' was never awaited\n",
      "  client.wait_for_workers(n_workers)\n",
      "\u001b[32m[I 2022-11-23 08:42:49,896]\u001b[0m Trial 250 finished with value: 0.8136178077118646 and parameters: {'objective': 'binary:logistic', 'tree_method': 'gpu_hist', 'lambda': 1.942979680852985, 'alpha': 0.01738185838493301, 'colsample_bytree': 0.8275920344204941, 'subsample': 0.6370905652850991, 'learning_rate': 0.01385430956042613, 'max_depth': 25, 'min_child_weight': 229, 'eval_metric': 'logloss'}. Best is trial 126 with value: 0.8146422317431072.\u001b[0m\n",
      "/home/tunguz/anaconda3/lib/python3.7/site-packages/xgboost/dask.py:884: RuntimeWarning: coroutine 'Client._wait_for_workers' was never awaited\n",
      "  client.wait_for_workers(n_workers)\n",
      "\u001b[32m[I 2022-11-23 08:46:53,098]\u001b[0m Trial 251 finished with value: 0.8132783114795628 and parameters: {'objective': 'binary:logistic', 'tree_method': 'gpu_hist', 'lambda': 0.8674484418907142, 'alpha': 0.0193297999414442, 'colsample_bytree': 0.8580923641124347, 'subsample': 0.6203093363231157, 'learning_rate': 0.014598031669873276, 'max_depth': 24, 'min_child_weight': 237, 'eval_metric': 'logloss'}. Best is trial 126 with value: 0.8146422317431072.\u001b[0m\n"
     ]
    },
    {
     "name": "stdout",
     "output_type": "stream",
     "text": [
      "CPU times: user 1h 11min 20s, sys: 16min 16s, total: 1h 27min 37s\n",
      "Wall time: 13h 29min 35s\n"
     ]
    }
   ],
   "source": [
    "%%time\n",
    "study.optimize(objective, n_trials=250)"
   ]
  },
  {
   "cell_type": "code",
   "execution_count": 15,
   "metadata": {},
   "outputs": [
    {
     "data": {
      "text/plain": [
       "{'objective': 'binary:logistic',\n",
       " 'tree_method': 'gpu_hist',\n",
       " 'lambda': 0.487925669934271,\n",
       " 'alpha': 0.02968106363177915,\n",
       " 'colsample_bytree': 0.8316132965578497,\n",
       " 'subsample': 0.6513397111981933,\n",
       " 'learning_rate': 0.017195258162539133,\n",
       " 'max_depth': 23,\n",
       " 'min_child_weight': 274,\n",
       " 'eval_metric': 'logloss'}"
      ]
     },
     "execution_count": 15,
     "metadata": {},
     "output_type": "execute_result"
    }
   ],
   "source": [
    "study.best_trial.params"
   ]
  },
  {
   "cell_type": "code",
   "execution_count": 16,
   "metadata": {},
   "outputs": [],
   "source": [
    "real_test_x = dd.read_csv('../input/higgs_small_roc/xgtest.csv')"
   ]
  },
  {
   "cell_type": "code",
   "execution_count": 17,
   "metadata": {},
   "outputs": [],
   "source": [
    "real_test_y = real_test_x['target']\n",
    "real_test_x = real_test_x[real_test_x.columns.difference(['target'])]"
   ]
  },
  {
   "cell_type": "code",
   "execution_count": 18,
   "metadata": {},
   "outputs": [],
   "source": [
    "drealtest = xgb.dask.DaskDMatrix(client, real_test_x, real_test_y)"
   ]
  },
  {
   "cell_type": "code",
   "execution_count": 19,
   "metadata": {},
   "outputs": [
    {
     "name": "stderr",
     "output_type": "stream",
     "text": [
      "/home/tunguz/anaconda3/lib/python3.7/site-packages/xgboost/dask.py:884: RuntimeWarning: coroutine 'Client._wait_for_workers' was never awaited\n",
      "  client.wait_for_workers(n_workers)\n"
     ]
    },
    {
     "name": "stdout",
     "output_type": "stream",
     "text": [
      "CPU times: user 13.1 s, sys: 2.81 s, total: 15.9 s\n",
      "Wall time: 2min 26s\n"
     ]
    },
    {
     "data": {
      "text/plain": [
       "0.8068979385996837"
      ]
     },
     "execution_count": 19,
     "metadata": {},
     "output_type": "execute_result"
    }
   ],
   "source": [
    "%%time\n",
    "params = study.best_trial.params\n",
    "\n",
    "output = xgb.dask.train(client, params, dtrain, num_round)\n",
    "    \n",
    "booster = output['booster']  # booster is the trained model\n",
    "booster.set_param({'predictor': 'gpu_predictor'})\n",
    "\n",
    "predictions = xgb.dask.predict(client, booster, drealtest)\n",
    "    \n",
    "predictions = predictions.compute()\n",
    "\n",
    "roc_auc_score(real_test_y, predictions)"
   ]
  },
  {
   "cell_type": "code",
   "execution_count": 20,
   "metadata": {},
   "outputs": [
    {
     "name": "stdout",
     "output_type": "stream",
     "text": [
      "0\n"
     ]
    },
    {
     "name": "stderr",
     "output_type": "stream",
     "text": [
      "/home/tunguz/anaconda3/lib/python3.7/site-packages/xgboost/dask.py:884: RuntimeWarning: coroutine 'Client._wait_for_workers' was never awaited\n",
      "  client.wait_for_workers(n_workers)\n"
     ]
    },
    {
     "name": "stdout",
     "output_type": "stream",
     "text": [
      "0.8063484910032072\n",
      "1\n"
     ]
    },
    {
     "name": "stderr",
     "output_type": "stream",
     "text": [
      "/home/tunguz/anaconda3/lib/python3.7/site-packages/xgboost/dask.py:884: RuntimeWarning: coroutine 'Client._wait_for_workers' was never awaited\n",
      "  client.wait_for_workers(n_workers)\n"
     ]
    },
    {
     "name": "stdout",
     "output_type": "stream",
     "text": [
      "0.8062360196786988\n",
      "2\n"
     ]
    },
    {
     "name": "stderr",
     "output_type": "stream",
     "text": [
      "/home/tunguz/anaconda3/lib/python3.7/site-packages/xgboost/dask.py:884: RuntimeWarning: coroutine 'Client._wait_for_workers' was never awaited\n",
      "  client.wait_for_workers(n_workers)\n"
     ]
    },
    {
     "name": "stdout",
     "output_type": "stream",
     "text": [
      "0.8066813810779454\n",
      "3\n"
     ]
    },
    {
     "name": "stderr",
     "output_type": "stream",
     "text": [
      "/home/tunguz/anaconda3/lib/python3.7/site-packages/xgboost/dask.py:884: RuntimeWarning: coroutine 'Client._wait_for_workers' was never awaited\n",
      "  client.wait_for_workers(n_workers)\n"
     ]
    },
    {
     "name": "stdout",
     "output_type": "stream",
     "text": [
      "0.8064821573414086\n",
      "4\n"
     ]
    },
    {
     "name": "stderr",
     "output_type": "stream",
     "text": [
      "/home/tunguz/anaconda3/lib/python3.7/site-packages/xgboost/dask.py:884: RuntimeWarning: coroutine 'Client._wait_for_workers' was never awaited\n",
      "  client.wait_for_workers(n_workers)\n"
     ]
    },
    {
     "name": "stdout",
     "output_type": "stream",
     "text": [
      "0.8063657047772528\n",
      "5\n"
     ]
    },
    {
     "name": "stderr",
     "output_type": "stream",
     "text": [
      "/home/tunguz/anaconda3/lib/python3.7/site-packages/xgboost/dask.py:884: RuntimeWarning: coroutine 'Client._wait_for_workers' was never awaited\n",
      "  client.wait_for_workers(n_workers)\n"
     ]
    },
    {
     "name": "stdout",
     "output_type": "stream",
     "text": [
      "0.8068816536076266\n",
      "6\n"
     ]
    },
    {
     "name": "stderr",
     "output_type": "stream",
     "text": [
      "/home/tunguz/anaconda3/lib/python3.7/site-packages/xgboost/dask.py:884: RuntimeWarning: coroutine 'Client._wait_for_workers' was never awaited\n",
      "  client.wait_for_workers(n_workers)\n"
     ]
    },
    {
     "name": "stdout",
     "output_type": "stream",
     "text": [
      "0.806654070713182\n",
      "7\n"
     ]
    },
    {
     "name": "stderr",
     "output_type": "stream",
     "text": [
      "/home/tunguz/anaconda3/lib/python3.7/site-packages/xgboost/dask.py:884: RuntimeWarning: coroutine 'Client._wait_for_workers' was never awaited\n",
      "  client.wait_for_workers(n_workers)\n"
     ]
    },
    {
     "name": "stdout",
     "output_type": "stream",
     "text": [
      "0.8063837638472654\n",
      "8\n"
     ]
    },
    {
     "name": "stderr",
     "output_type": "stream",
     "text": [
      "/home/tunguz/anaconda3/lib/python3.7/site-packages/xgboost/dask.py:884: RuntimeWarning: coroutine 'Client._wait_for_workers' was never awaited\n",
      "  client.wait_for_workers(n_workers)\n"
     ]
    },
    {
     "name": "stdout",
     "output_type": "stream",
     "text": [
      "0.8064824808497415\n",
      "9\n"
     ]
    },
    {
     "name": "stderr",
     "output_type": "stream",
     "text": [
      "/home/tunguz/anaconda3/lib/python3.7/site-packages/xgboost/dask.py:884: RuntimeWarning: coroutine 'Client._wait_for_workers' was never awaited\n",
      "  client.wait_for_workers(n_workers)\n"
     ]
    },
    {
     "name": "stdout",
     "output_type": "stream",
     "text": [
      "0.8068242778393921\n",
      "10\n"
     ]
    },
    {
     "name": "stderr",
     "output_type": "stream",
     "text": [
      "/home/tunguz/anaconda3/lib/python3.7/site-packages/xgboost/dask.py:884: RuntimeWarning: coroutine 'Client._wait_for_workers' was never awaited\n",
      "  client.wait_for_workers(n_workers)\n"
     ]
    },
    {
     "name": "stdout",
     "output_type": "stream",
     "text": [
      "0.8066332252972037\n",
      "11\n"
     ]
    },
    {
     "name": "stderr",
     "output_type": "stream",
     "text": [
      "/home/tunguz/anaconda3/lib/python3.7/site-packages/xgboost/dask.py:884: RuntimeWarning: coroutine 'Client._wait_for_workers' was never awaited\n",
      "  client.wait_for_workers(n_workers)\n"
     ]
    },
    {
     "name": "stdout",
     "output_type": "stream",
     "text": [
      "0.8068352823405932\n",
      "12\n"
     ]
    },
    {
     "name": "stderr",
     "output_type": "stream",
     "text": [
      "/home/tunguz/anaconda3/lib/python3.7/site-packages/xgboost/dask.py:884: RuntimeWarning: coroutine 'Client._wait_for_workers' was never awaited\n",
      "  client.wait_for_workers(n_workers)\n"
     ]
    },
    {
     "name": "stdout",
     "output_type": "stream",
     "text": [
      "0.8063938969631178\n",
      "13\n"
     ]
    },
    {
     "name": "stderr",
     "output_type": "stream",
     "text": [
      "/home/tunguz/anaconda3/lib/python3.7/site-packages/xgboost/dask.py:884: RuntimeWarning: coroutine 'Client._wait_for_workers' was never awaited\n",
      "  client.wait_for_workers(n_workers)\n"
     ]
    },
    {
     "name": "stdout",
     "output_type": "stream",
     "text": [
      "0.8068374112341399\n",
      "14\n"
     ]
    },
    {
     "name": "stderr",
     "output_type": "stream",
     "text": [
      "/home/tunguz/anaconda3/lib/python3.7/site-packages/xgboost/dask.py:884: RuntimeWarning: coroutine 'Client._wait_for_workers' was never awaited\n",
      "  client.wait_for_workers(n_workers)\n"
     ]
    },
    {
     "name": "stdout",
     "output_type": "stream",
     "text": [
      "0.8067598944632332\n",
      "CPU times: user 3min 9s, sys: 46.5 s, total: 3min 55s\n",
      "Wall time: 36min 15s\n"
     ]
    }
   ],
   "source": [
    "%%time \n",
    "scores = []\n",
    "\n",
    "for jj in range(15):\n",
    "    print(jj)\n",
    "    params = study.best_trial.params\n",
    "    params['seed'] = 5*jj**3 + 137\n",
    "\n",
    "    output = xgb.dask.train(client, params, dtrain, num_round)\n",
    "\n",
    "    booster = output['booster']  # booster is the trained model\n",
    "    booster.set_param({'predictor': 'gpu_predictor'})\n",
    "\n",
    "    predictions = xgb.dask.predict(client, booster, drealtest)\n",
    "\n",
    "    predictions = predictions.compute()\n",
    "    score = roc_auc_score(real_test_y, predictions)\n",
    "    print(score)\n",
    "\n",
    "    scores.append(score)"
   ]
  },
  {
   "cell_type": "code",
   "execution_count": 21,
   "metadata": {},
   "outputs": [
    {
     "data": {
      "text/plain": [
       "0.8065866474022673"
      ]
     },
     "execution_count": 21,
     "metadata": {},
     "output_type": "execute_result"
    }
   ],
   "source": [
    "import numpy as np\n",
    "np.mean(scores)"
   ]
  },
  {
   "cell_type": "code",
   "execution_count": 22,
   "metadata": {},
   "outputs": [
    {
     "data": {
      "text/plain": [
       "[0.8063484910032072,\n",
       " 0.8062360196786988,\n",
       " 0.8066813810779454,\n",
       " 0.8064821573414086,\n",
       " 0.8063657047772528,\n",
       " 0.8068816536076266,\n",
       " 0.806654070713182,\n",
       " 0.8063837638472654,\n",
       " 0.8064824808497415,\n",
       " 0.8068242778393921,\n",
       " 0.8066332252972037,\n",
       " 0.8068352823405932,\n",
       " 0.8063938969631178,\n",
       " 0.8068374112341399,\n",
       " 0.8067598944632332]"
      ]
     },
     "execution_count": 22,
     "metadata": {},
     "output_type": "execute_result"
    }
   ],
   "source": [
    "scores"
   ]
  },
  {
   "cell_type": "code",
   "execution_count": null,
   "metadata": {},
   "outputs": [],
   "source": []
  }
 ],
 "metadata": {
  "kernelspec": {
   "display_name": "Python 3",
   "language": "python",
   "name": "python3"
  },
  "language_info": {
   "codemirror_mode": {
    "name": "ipython",
    "version": 3
   },
   "file_extension": ".py",
   "mimetype": "text/x-python",
   "name": "python",
   "nbconvert_exporter": "python",
   "pygments_lexer": "ipython3",
   "version": "3.7.11"
  }
 },
 "nbformat": 4,
 "nbformat_minor": 4
}
