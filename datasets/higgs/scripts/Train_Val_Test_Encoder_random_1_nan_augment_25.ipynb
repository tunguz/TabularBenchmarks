{
 "cells": [
  {
   "cell_type": "code",
   "execution_count": 1,
   "metadata": {},
   "outputs": [],
   "source": [
    "%load_ext watermark"
   ]
  },
  {
   "cell_type": "code",
   "execution_count": 2,
   "metadata": {},
   "outputs": [
    {
     "name": "stdout",
     "output_type": "stream",
     "text": [
      "Last updated: 2022-11-23T08:54:23.856943-05:00\n",
      "\n",
      "Python implementation: CPython\n",
      "Python version       : 3.7.11\n",
      "IPython version      : 7.10.1\n",
      "\n",
      "Compiler    : GCC 7.5.0\n",
      "OS          : Linux\n",
      "Release     : 4.15.0-161-generic\n",
      "Machine     : x86_64\n",
      "Processor   : x86_64\n",
      "CPU cores   : 40\n",
      "Architecture: 64bit\n",
      "\n"
     ]
    }
   ],
   "source": [
    "%watermark"
   ]
  },
  {
   "cell_type": "code",
   "execution_count": 3,
   "metadata": {},
   "outputs": [],
   "source": [
    "import numpy as np\n",
    "import pandas as pd"
   ]
  },
  {
   "cell_type": "code",
   "execution_count": 4,
   "metadata": {},
   "outputs": [
    {
     "name": "stdout",
     "output_type": "stream",
     "text": [
      "pandas: 1.3.5\n",
      "numpy : 1.19.2\n",
      "\n"
     ]
    }
   ],
   "source": [
    "%watermark --iversions"
   ]
  },
  {
   "cell_type": "code",
   "execution_count": 5,
   "metadata": {},
   "outputs": [],
   "source": [
    "X_num_train = np.load('../input/higgs_small_roc/X_num_train.npy')\n",
    "X_num_val = np.load('../input/higgs_small_roc/X_num_val.npy')\n",
    "X_num_test = np.load('../input/higgs_small_roc/X_num_test.npy')\n",
    "\n",
    "y_train = np.load('../input/higgs_small_roc/y_train.npy')\n",
    "y_val = np.load('../input/higgs_small_roc/y_val.npy')\n",
    "y_test = np.load('../input/higgs_small_roc/y_test.npy')"
   ]
  },
  {
   "cell_type": "code",
   "execution_count": 6,
   "metadata": {},
   "outputs": [
    {
     "data": {
      "text/plain": [
       "(62751, 28)"
      ]
     },
     "execution_count": 6,
     "metadata": {},
     "output_type": "execute_result"
    }
   ],
   "source": [
    "X_num_train.shape"
   ]
  },
  {
   "cell_type": "code",
   "execution_count": 7,
   "metadata": {},
   "outputs": [
    {
     "data": {
      "text/plain": [
       "1757028"
      ]
     },
     "execution_count": 7,
     "metadata": {},
     "output_type": "execute_result"
    }
   ],
   "source": [
    "X_num_train.size"
   ]
  },
  {
   "cell_type": "code",
   "execution_count": 8,
   "metadata": {},
   "outputs": [
    {
     "data": {
      "text/plain": [
       "array([ 774434, 1239938, 1273853, ...,  614945, 1472188,  949556])"
      ]
     },
     "execution_count": 8,
     "metadata": {},
     "output_type": "execute_result"
    }
   ],
   "source": [
    "index_nan = np.random.choice(X_num_train.size, X_num_train.shape[0]*1, replace=False)\n",
    "index_nan"
   ]
  },
  {
   "cell_type": "code",
   "execution_count": 9,
   "metadata": {},
   "outputs": [],
   "source": [
    "trains = []\n",
    "for i in range(25):\n",
    "    trains.append(X_num_train)"
   ]
  },
  {
   "cell_type": "code",
   "execution_count": 10,
   "metadata": {},
   "outputs": [],
   "source": [
    "X_num_train_25 = np.vstack(trains)"
   ]
  },
  {
   "cell_type": "code",
   "execution_count": 11,
   "metadata": {},
   "outputs": [
    {
     "data": {
      "text/plain": [
       "(1568775, 28)"
      ]
     },
     "execution_count": 11,
     "metadata": {},
     "output_type": "execute_result"
    }
   ],
   "source": [
    "X_num_train_25.shape"
   ]
  },
  {
   "cell_type": "code",
   "execution_count": 12,
   "metadata": {},
   "outputs": [
    {
     "data": {
      "text/plain": [
       "array([ 1578342, 26999917,  8074739, ..., 21608445, 23396313, 41304993])"
      ]
     },
     "execution_count": 12,
     "metadata": {},
     "output_type": "execute_result"
    }
   ],
   "source": [
    "index_nan = np.random.choice(X_num_train_25.size, X_num_train_25.shape[0]*1, replace=False)\n",
    "index_nan"
   ]
  },
  {
   "cell_type": "code",
   "execution_count": 13,
   "metadata": {},
   "outputs": [],
   "source": [
    "X_num_train_25.ravel()[index_nan] = np.nan"
   ]
  },
  {
   "cell_type": "code",
   "execution_count": 14,
   "metadata": {},
   "outputs": [
    {
     "data": {
      "text/plain": [
       "array([ 0.7267291 , -1.3421831 , -0.8125607 ,  0.80474496,  1.0561434 ,\n",
       "        0.82492304, -0.7922094 , -1.4801266 ,  2.1730762 ,  0.5755049 ,\n",
       "       -0.03588055,  0.88429826,  2.2148721 ,  0.7528887 , -1.0830232 ,\n",
       "        0.59291756,         nan,  1.1092063 , -1.6869278 ,  0.2595374 ,\n",
       "        0.        ,  0.5264462 ,  1.1162164 ,  1.0526779 ,  0.78055453,\n",
       "        0.9455386 ,  0.79644614,  0.70450157], dtype=float32)"
      ]
     },
     "execution_count": 14,
     "metadata": {},
     "output_type": "execute_result"
    }
   ],
   "source": [
    "X_num_train_25[8]"
   ]
  },
  {
   "cell_type": "code",
   "execution_count": 15,
   "metadata": {},
   "outputs": [],
   "source": [
    "columns = [f'Col{i}' for i in range(28)]"
   ]
  },
  {
   "cell_type": "code",
   "execution_count": 16,
   "metadata": {},
   "outputs": [],
   "source": [
    "X_num_train_25 = pd.DataFrame(X_num_train_25, columns=columns)\n",
    "X_num_test = pd.DataFrame(X_num_test, columns=columns)\n",
    "X_num_val = pd.DataFrame(X_num_val, columns=columns)"
   ]
  },
  {
   "cell_type": "code",
   "execution_count": 17,
   "metadata": {},
   "outputs": [],
   "source": [
    "y_train_25 = []\n",
    "for i in range(25):\n",
    "    y_train_25.append(y_train)"
   ]
  },
  {
   "cell_type": "code",
   "execution_count": 18,
   "metadata": {},
   "outputs": [],
   "source": [
    "y_train_25 = np.hstack(y_train_25)"
   ]
  },
  {
   "cell_type": "code",
   "execution_count": 19,
   "metadata": {},
   "outputs": [
    {
     "data": {
      "text/html": [
       "<div>\n",
       "<style scoped>\n",
       "    .dataframe tbody tr th:only-of-type {\n",
       "        vertical-align: middle;\n",
       "    }\n",
       "\n",
       "    .dataframe tbody tr th {\n",
       "        vertical-align: top;\n",
       "    }\n",
       "\n",
       "    .dataframe thead th {\n",
       "        text-align: right;\n",
       "    }\n",
       "</style>\n",
       "<table border=\"1\" class=\"dataframe\">\n",
       "  <thead>\n",
       "    <tr style=\"text-align: right;\">\n",
       "      <th></th>\n",
       "      <th>Col0</th>\n",
       "      <th>Col1</th>\n",
       "      <th>Col2</th>\n",
       "      <th>Col3</th>\n",
       "      <th>Col4</th>\n",
       "      <th>Col5</th>\n",
       "      <th>Col6</th>\n",
       "      <th>Col7</th>\n",
       "      <th>Col8</th>\n",
       "      <th>Col9</th>\n",
       "      <th>...</th>\n",
       "      <th>Col18</th>\n",
       "      <th>Col19</th>\n",
       "      <th>Col20</th>\n",
       "      <th>Col21</th>\n",
       "      <th>Col22</th>\n",
       "      <th>Col23</th>\n",
       "      <th>Col24</th>\n",
       "      <th>Col25</th>\n",
       "      <th>Col26</th>\n",
       "      <th>Col27</th>\n",
       "    </tr>\n",
       "  </thead>\n",
       "  <tbody>\n",
       "    <tr>\n",
       "      <th>0</th>\n",
       "      <td>2.118879</td>\n",
       "      <td>-0.047779</td>\n",
       "      <td>0.422666</td>\n",
       "      <td>0.887075</td>\n",
       "      <td>1.190011</td>\n",
       "      <td>1.125486</td>\n",
       "      <td>0.433695</td>\n",
       "      <td>-1.338761</td>\n",
       "      <td>0.000000</td>\n",
       "      <td>0.439529</td>\n",
       "      <td>...</td>\n",
       "      <td>-0.323596</td>\n",
       "      <td>-1.553466</td>\n",
       "      <td>0.000000</td>\n",
       "      <td>0.742982</td>\n",
       "      <td>0.823960</td>\n",
       "      <td>1.211727</td>\n",
       "      <td>0.916147</td>\n",
       "      <td>0.578919</td>\n",
       "      <td>0.654138</td>\n",
       "      <td>0.825789</td>\n",
       "    </tr>\n",
       "    <tr>\n",
       "      <th>1</th>\n",
       "      <td>0.597891</td>\n",
       "      <td>1.086895</td>\n",
       "      <td>0.923151</td>\n",
       "      <td>0.226966</td>\n",
       "      <td>0.371219</td>\n",
       "      <td>0.797166</td>\n",
       "      <td>0.150490</td>\n",
       "      <td>-0.124122</td>\n",
       "      <td>1.086538</td>\n",
       "      <td>1.316699</td>\n",
       "      <td>...</td>\n",
       "      <td>0.799050</td>\n",
       "      <td>-1.554576</td>\n",
       "      <td>0.000000</td>\n",
       "      <td>0.847783</td>\n",
       "      <td>0.790057</td>\n",
       "      <td>0.983838</td>\n",
       "      <td>1.056745</td>\n",
       "      <td>1.567410</td>\n",
       "      <td>0.940275</td>\n",
       "      <td>0.807826</td>\n",
       "    </tr>\n",
       "    <tr>\n",
       "      <th>2</th>\n",
       "      <td>0.745762</td>\n",
       "      <td>-1.198036</td>\n",
       "      <td>-0.740429</td>\n",
       "      <td>1.239304</td>\n",
       "      <td>0.256762</td>\n",
       "      <td>0.490740</td>\n",
       "      <td>-0.103009</td>\n",
       "      <td>1.449852</td>\n",
       "      <td>2.173076</td>\n",
       "      <td>0.923754</td>\n",
       "      <td>...</td>\n",
       "      <td>1.765957</td>\n",
       "      <td>-1.242160</td>\n",
       "      <td>0.000000</td>\n",
       "      <td>0.803592</td>\n",
       "      <td>0.958226</td>\n",
       "      <td>1.042696</td>\n",
       "      <td>0.962325</td>\n",
       "      <td>0.753004</td>\n",
       "      <td>0.781717</td>\n",
       "      <td>0.711513</td>\n",
       "    </tr>\n",
       "    <tr>\n",
       "      <th>3</th>\n",
       "      <td>0.754730</td>\n",
       "      <td>1.291428</td>\n",
       "      <td>0.714523</td>\n",
       "      <td>NaN</td>\n",
       "      <td>0.253473</td>\n",
       "      <td>0.934852</td>\n",
       "      <td>-0.733786</td>\n",
       "      <td>1.407166</td>\n",
       "      <td>2.173076</td>\n",
       "      <td>0.883717</td>\n",
       "      <td>...</td>\n",
       "      <td>1.262099</td>\n",
       "      <td>-0.825421</td>\n",
       "      <td>0.000000</td>\n",
       "      <td>2.054786</td>\n",
       "      <td>1.577448</td>\n",
       "      <td>0.999547</td>\n",
       "      <td>2.386760</td>\n",
       "      <td>1.455588</td>\n",
       "      <td>1.757753</td>\n",
       "      <td>1.538811</td>\n",
       "    </tr>\n",
       "    <tr>\n",
       "      <th>4</th>\n",
       "      <td>1.336332</td>\n",
       "      <td>-0.407173</td>\n",
       "      <td>1.026355</td>\n",
       "      <td>2.019245</td>\n",
       "      <td>0.558858</td>\n",
       "      <td>1.559704</td>\n",
       "      <td>-0.726854</td>\n",
       "      <td>-1.027756</td>\n",
       "      <td>0.000000</td>\n",
       "      <td>0.810315</td>\n",
       "      <td>...</td>\n",
       "      <td>0.766570</td>\n",
       "      <td>1.100229</td>\n",
       "      <td>3.101961</td>\n",
       "      <td>0.922455</td>\n",
       "      <td>0.879696</td>\n",
       "      <td>0.983609</td>\n",
       "      <td>0.971203</td>\n",
       "      <td>1.022390</td>\n",
       "      <td>1.006686</td>\n",
       "      <td>1.130976</td>\n",
       "    </tr>\n",
       "  </tbody>\n",
       "</table>\n",
       "<p>5 rows × 28 columns</p>\n",
       "</div>"
      ],
      "text/plain": [
       "       Col0      Col1      Col2      Col3      Col4      Col5      Col6  \\\n",
       "0  2.118879 -0.047779  0.422666  0.887075  1.190011  1.125486  0.433695   \n",
       "1  0.597891  1.086895  0.923151  0.226966  0.371219  0.797166  0.150490   \n",
       "2  0.745762 -1.198036 -0.740429  1.239304  0.256762  0.490740 -0.103009   \n",
       "3  0.754730  1.291428  0.714523       NaN  0.253473  0.934852 -0.733786   \n",
       "4  1.336332 -0.407173  1.026355  2.019245  0.558858  1.559704 -0.726854   \n",
       "\n",
       "       Col7      Col8      Col9  ...     Col18     Col19     Col20     Col21  \\\n",
       "0 -1.338761  0.000000  0.439529  ... -0.323596 -1.553466  0.000000  0.742982   \n",
       "1 -0.124122  1.086538  1.316699  ...  0.799050 -1.554576  0.000000  0.847783   \n",
       "2  1.449852  2.173076  0.923754  ...  1.765957 -1.242160  0.000000  0.803592   \n",
       "3  1.407166  2.173076  0.883717  ...  1.262099 -0.825421  0.000000  2.054786   \n",
       "4 -1.027756  0.000000  0.810315  ...  0.766570  1.100229  3.101961  0.922455   \n",
       "\n",
       "      Col22     Col23     Col24     Col25     Col26     Col27  \n",
       "0  0.823960  1.211727  0.916147  0.578919  0.654138  0.825789  \n",
       "1  0.790057  0.983838  1.056745  1.567410  0.940275  0.807826  \n",
       "2  0.958226  1.042696  0.962325  0.753004  0.781717  0.711513  \n",
       "3  1.577448  0.999547  2.386760  1.455588  1.757753  1.538811  \n",
       "4  0.879696  0.983609  0.971203  1.022390  1.006686  1.130976  \n",
       "\n",
       "[5 rows x 28 columns]"
      ]
     },
     "execution_count": 19,
     "metadata": {},
     "output_type": "execute_result"
    }
   ],
   "source": [
    "X_num_train_25.head()"
   ]
  },
  {
   "cell_type": "code",
   "execution_count": 20,
   "metadata": {},
   "outputs": [],
   "source": [
    "X_num_train_25['target'] = y_train_25\n",
    "X_num_test['target'] = y_test\n",
    "X_num_val['target'] = y_val"
   ]
  },
  {
   "cell_type": "code",
   "execution_count": 21,
   "metadata": {},
   "outputs": [
    {
     "data": {
      "text/html": [
       "<div>\n",
       "<style scoped>\n",
       "    .dataframe tbody tr th:only-of-type {\n",
       "        vertical-align: middle;\n",
       "    }\n",
       "\n",
       "    .dataframe tbody tr th {\n",
       "        vertical-align: top;\n",
       "    }\n",
       "\n",
       "    .dataframe thead th {\n",
       "        text-align: right;\n",
       "    }\n",
       "</style>\n",
       "<table border=\"1\" class=\"dataframe\">\n",
       "  <thead>\n",
       "    <tr style=\"text-align: right;\">\n",
       "      <th></th>\n",
       "      <th>Col0</th>\n",
       "      <th>Col1</th>\n",
       "      <th>Col2</th>\n",
       "      <th>Col3</th>\n",
       "      <th>Col4</th>\n",
       "      <th>Col5</th>\n",
       "      <th>Col6</th>\n",
       "      <th>Col7</th>\n",
       "      <th>Col8</th>\n",
       "      <th>Col9</th>\n",
       "      <th>...</th>\n",
       "      <th>Col19</th>\n",
       "      <th>Col20</th>\n",
       "      <th>Col21</th>\n",
       "      <th>Col22</th>\n",
       "      <th>Col23</th>\n",
       "      <th>Col24</th>\n",
       "      <th>Col25</th>\n",
       "      <th>Col26</th>\n",
       "      <th>Col27</th>\n",
       "      <th>target</th>\n",
       "    </tr>\n",
       "  </thead>\n",
       "  <tbody>\n",
       "    <tr>\n",
       "      <th>0</th>\n",
       "      <td>1.521538</td>\n",
       "      <td>0.868726</td>\n",
       "      <td>0.065890</td>\n",
       "      <td>1.913573</td>\n",
       "      <td>-0.164498</td>\n",
       "      <td>0.691451</td>\n",
       "      <td>1.112003</td>\n",
       "      <td>1.197612</td>\n",
       "      <td>0.000000</td>\n",
       "      <td>0.508272</td>\n",
       "      <td>...</td>\n",
       "      <td>1.428182</td>\n",
       "      <td>0.000000</td>\n",
       "      <td>0.993843</td>\n",
       "      <td>0.972384</td>\n",
       "      <td>0.982740</td>\n",
       "      <td>1.268167</td>\n",
       "      <td>0.762958</td>\n",
       "      <td>0.887896</td>\n",
       "      <td>0.953018</td>\n",
       "      <td>1</td>\n",
       "    </tr>\n",
       "    <tr>\n",
       "      <th>1</th>\n",
       "      <td>1.645069</td>\n",
       "      <td>0.422648</td>\n",
       "      <td>-0.960709</td>\n",
       "      <td>0.990600</td>\n",
       "      <td>1.722206</td>\n",
       "      <td>0.805960</td>\n",
       "      <td>-0.708040</td>\n",
       "      <td>0.011248</td>\n",
       "      <td>2.173076</td>\n",
       "      <td>1.052301</td>\n",
       "      <td>...</td>\n",
       "      <td>1.614633</td>\n",
       "      <td>0.000000</td>\n",
       "      <td>0.916381</td>\n",
       "      <td>1.012631</td>\n",
       "      <td>1.171068</td>\n",
       "      <td>1.206123</td>\n",
       "      <td>1.011313</td>\n",
       "      <td>1.072842</td>\n",
       "      <td>0.895347</td>\n",
       "      <td>1</td>\n",
       "    </tr>\n",
       "    <tr>\n",
       "      <th>2</th>\n",
       "      <td>0.652610</td>\n",
       "      <td>-1.825271</td>\n",
       "      <td>1.650019</td>\n",
       "      <td>0.479689</td>\n",
       "      <td>-0.814242</td>\n",
       "      <td>0.933386</td>\n",
       "      <td>-1.198204</td>\n",
       "      <td>-0.317044</td>\n",
       "      <td>0.000000</td>\n",
       "      <td>0.299399</td>\n",
       "      <td>...</td>\n",
       "      <td>1.409870</td>\n",
       "      <td>3.101961</td>\n",
       "      <td>0.974951</td>\n",
       "      <td>0.984349</td>\n",
       "      <td>0.995891</td>\n",
       "      <td>0.618927</td>\n",
       "      <td>0.350304</td>\n",
       "      <td>0.695416</td>\n",
       "      <td>0.639008</td>\n",
       "      <td>1</td>\n",
       "    </tr>\n",
       "    <tr>\n",
       "      <th>3</th>\n",
       "      <td>0.698729</td>\n",
       "      <td>-1.206801</td>\n",
       "      <td>0.760577</td>\n",
       "      <td>0.893693</td>\n",
       "      <td>0.428602</td>\n",
       "      <td>0.729743</td>\n",
       "      <td>0.040574</td>\n",
       "      <td>-1.231212</td>\n",
       "      <td>2.173076</td>\n",
       "      <td>NaN</td>\n",
       "      <td>...</td>\n",
       "      <td>0.034798</td>\n",
       "      <td>0.000000</td>\n",
       "      <td>0.743899</td>\n",
       "      <td>0.870864</td>\n",
       "      <td>0.982310</td>\n",
       "      <td>0.749382</td>\n",
       "      <td>0.604286</td>\n",
       "      <td>0.736275</td>\n",
       "      <td>0.718284</td>\n",
       "      <td>0</td>\n",
       "    </tr>\n",
       "    <tr>\n",
       "      <th>4</th>\n",
       "      <td>NaN</td>\n",
       "      <td>-1.336339</td>\n",
       "      <td>0.185185</td>\n",
       "      <td>0.879533</td>\n",
       "      <td>-1.397903</td>\n",
       "      <td>1.204910</td>\n",
       "      <td>-0.048547</td>\n",
       "      <td>-0.683489</td>\n",
       "      <td>2.173076</td>\n",
       "      <td>1.136909</td>\n",
       "      <td>...</td>\n",
       "      <td>0.547537</td>\n",
       "      <td>3.101961</td>\n",
       "      <td>1.060595</td>\n",
       "      <td>0.864659</td>\n",
       "      <td>0.987117</td>\n",
       "      <td>0.886045</td>\n",
       "      <td>1.154138</td>\n",
       "      <td>1.173581</td>\n",
       "      <td>0.936603</td>\n",
       "      <td>0</td>\n",
       "    </tr>\n",
       "  </tbody>\n",
       "</table>\n",
       "<p>5 rows × 29 columns</p>\n",
       "</div>"
      ],
      "text/plain": [
       "       Col0      Col1      Col2      Col3      Col4      Col5      Col6  \\\n",
       "0  1.521538  0.868726  0.065890  1.913573 -0.164498  0.691451  1.112003   \n",
       "1  1.645069  0.422648 -0.960709  0.990600  1.722206  0.805960 -0.708040   \n",
       "2  0.652610 -1.825271  1.650019  0.479689 -0.814242  0.933386 -1.198204   \n",
       "3  0.698729 -1.206801  0.760577  0.893693  0.428602  0.729743  0.040574   \n",
       "4       NaN -1.336339  0.185185  0.879533 -1.397903  1.204910 -0.048547   \n",
       "\n",
       "       Col7      Col8      Col9  ...     Col19     Col20     Col21     Col22  \\\n",
       "0  1.197612  0.000000  0.508272  ...  1.428182  0.000000  0.993843  0.972384   \n",
       "1  0.011248  2.173076  1.052301  ...  1.614633  0.000000  0.916381  1.012631   \n",
       "2 -0.317044  0.000000  0.299399  ...  1.409870  3.101961  0.974951  0.984349   \n",
       "3 -1.231212  2.173076       NaN  ...  0.034798  0.000000  0.743899  0.870864   \n",
       "4 -0.683489  2.173076  1.136909  ...  0.547537  3.101961  1.060595  0.864659   \n",
       "\n",
       "      Col23     Col24     Col25     Col26     Col27  target  \n",
       "0  0.982740  1.268167  0.762958  0.887896  0.953018       1  \n",
       "1  1.171068  1.206123  1.011313  1.072842  0.895347       1  \n",
       "2  0.995891  0.618927  0.350304  0.695416  0.639008       1  \n",
       "3  0.982310  0.749382  0.604286  0.736275  0.718284       0  \n",
       "4  0.987117  0.886045  1.154138  1.173581  0.936603       0  \n",
       "\n",
       "[5 rows x 29 columns]"
      ]
     },
     "execution_count": 21,
     "metadata": {},
     "output_type": "execute_result"
    }
   ],
   "source": [
    "X_num_train_25 = X_num_train_25.sample(frac=1).reset_index(drop=True)\n",
    "X_num_train_25.head()"
   ]
  },
  {
   "cell_type": "code",
   "execution_count": 22,
   "metadata": {},
   "outputs": [
    {
     "data": {
      "text/html": [
       "<div>\n",
       "<style scoped>\n",
       "    .dataframe tbody tr th:only-of-type {\n",
       "        vertical-align: middle;\n",
       "    }\n",
       "\n",
       "    .dataframe tbody tr th {\n",
       "        vertical-align: top;\n",
       "    }\n",
       "\n",
       "    .dataframe thead th {\n",
       "        text-align: right;\n",
       "    }\n",
       "</style>\n",
       "<table border=\"1\" class=\"dataframe\">\n",
       "  <thead>\n",
       "    <tr style=\"text-align: right;\">\n",
       "      <th></th>\n",
       "      <th>Col0</th>\n",
       "      <th>Col1</th>\n",
       "      <th>Col2</th>\n",
       "      <th>Col3</th>\n",
       "      <th>Col4</th>\n",
       "      <th>Col5</th>\n",
       "      <th>Col6</th>\n",
       "      <th>Col7</th>\n",
       "      <th>Col8</th>\n",
       "      <th>Col9</th>\n",
       "      <th>...</th>\n",
       "      <th>Col19</th>\n",
       "      <th>Col20</th>\n",
       "      <th>Col21</th>\n",
       "      <th>Col22</th>\n",
       "      <th>Col23</th>\n",
       "      <th>Col24</th>\n",
       "      <th>Col25</th>\n",
       "      <th>Col26</th>\n",
       "      <th>Col27</th>\n",
       "      <th>target</th>\n",
       "    </tr>\n",
       "  </thead>\n",
       "  <tbody>\n",
       "    <tr>\n",
       "      <th>0</th>\n",
       "      <td>0.942131</td>\n",
       "      <td>1.897237</td>\n",
       "      <td>-0.410838</td>\n",
       "      <td>1.208800</td>\n",
       "      <td>0.618111</td>\n",
       "      <td>0.773989</td>\n",
       "      <td>0.104939</td>\n",
       "      <td>-1.721834</td>\n",
       "      <td>2.173076</td>\n",
       "      <td>0.787778</td>\n",
       "      <td>...</td>\n",
       "      <td>0.534219</td>\n",
       "      <td>0.000000</td>\n",
       "      <td>0.859762</td>\n",
       "      <td>0.952683</td>\n",
       "      <td>1.183130</td>\n",
       "      <td>1.517570</td>\n",
       "      <td>0.823106</td>\n",
       "      <td>1.280084</td>\n",
       "      <td>1.002378</td>\n",
       "      <td>1</td>\n",
       "    </tr>\n",
       "    <tr>\n",
       "      <th>1</th>\n",
       "      <td>0.546465</td>\n",
       "      <td>0.679776</td>\n",
       "      <td>-1.326917</td>\n",
       "      <td>1.833739</td>\n",
       "      <td>0.259129</td>\n",
       "      <td>0.860925</td>\n",
       "      <td>-0.111921</td>\n",
       "      <td>-0.497216</td>\n",
       "      <td>0.000000</td>\n",
       "      <td>1.459977</td>\n",
       "      <td>...</td>\n",
       "      <td>-1.526275</td>\n",
       "      <td>0.000000</td>\n",
       "      <td>1.556438</td>\n",
       "      <td>1.039222</td>\n",
       "      <td>1.373045</td>\n",
       "      <td>1.160709</td>\n",
       "      <td>0.714822</td>\n",
       "      <td>0.942559</td>\n",
       "      <td>0.888690</td>\n",
       "      <td>1</td>\n",
       "    </tr>\n",
       "    <tr>\n",
       "      <th>2</th>\n",
       "      <td>0.949268</td>\n",
       "      <td>-0.456846</td>\n",
       "      <td>0.110279</td>\n",
       "      <td>NaN</td>\n",
       "      <td>1.445008</td>\n",
       "      <td>1.170649</td>\n",
       "      <td>-0.316899</td>\n",
       "      <td>1.506953</td>\n",
       "      <td>0.000000</td>\n",
       "      <td>1.642789</td>\n",
       "      <td>...</td>\n",
       "      <td>1.342171</td>\n",
       "      <td>0.000000</td>\n",
       "      <td>0.645799</td>\n",
       "      <td>0.649397</td>\n",
       "      <td>1.220441</td>\n",
       "      <td>1.104470</td>\n",
       "      <td>0.334128</td>\n",
       "      <td>0.922434</td>\n",
       "      <td>0.827273</td>\n",
       "      <td>0</td>\n",
       "    </tr>\n",
       "    <tr>\n",
       "      <th>3</th>\n",
       "      <td>1.168696</td>\n",
       "      <td>-0.960387</td>\n",
       "      <td>0.644056</td>\n",
       "      <td>1.668392</td>\n",
       "      <td>0.903572</td>\n",
       "      <td>1.639952</td>\n",
       "      <td>-0.894203</td>\n",
       "      <td>-1.452962</td>\n",
       "      <td>2.173076</td>\n",
       "      <td>1.190795</td>\n",
       "      <td>...</td>\n",
       "      <td>0.260647</td>\n",
       "      <td>0.000000</td>\n",
       "      <td>0.976780</td>\n",
       "      <td>2.543204</td>\n",
       "      <td>0.992699</td>\n",
       "      <td>1.698556</td>\n",
       "      <td>1.149998</td>\n",
       "      <td>2.191567</td>\n",
       "      <td>1.840188</td>\n",
       "      <td>1</td>\n",
       "    </tr>\n",
       "    <tr>\n",
       "      <th>4</th>\n",
       "      <td>0.499249</td>\n",
       "      <td>1.289481</td>\n",
       "      <td>-0.978464</td>\n",
       "      <td>0.788959</td>\n",
       "      <td>0.565607</td>\n",
       "      <td>0.669466</td>\n",
       "      <td>-0.527818</td>\n",
       "      <td>NaN</td>\n",
       "      <td>0.000000</td>\n",
       "      <td>1.000051</td>\n",
       "      <td>...</td>\n",
       "      <td>-1.687199</td>\n",
       "      <td>3.101961</td>\n",
       "      <td>1.008931</td>\n",
       "      <td>0.926738</td>\n",
       "      <td>0.986293</td>\n",
       "      <td>1.303238</td>\n",
       "      <td>1.018709</td>\n",
       "      <td>0.912322</td>\n",
       "      <td>0.865946</td>\n",
       "      <td>0</td>\n",
       "    </tr>\n",
       "  </tbody>\n",
       "</table>\n",
       "<p>5 rows × 29 columns</p>\n",
       "</div>"
      ],
      "text/plain": [
       "       Col0      Col1      Col2      Col3      Col4      Col5      Col6  \\\n",
       "0  0.942131  1.897237 -0.410838  1.208800  0.618111  0.773989  0.104939   \n",
       "1  0.546465  0.679776 -1.326917  1.833739  0.259129  0.860925 -0.111921   \n",
       "2  0.949268 -0.456846  0.110279       NaN  1.445008  1.170649 -0.316899   \n",
       "3  1.168696 -0.960387  0.644056  1.668392  0.903572  1.639952 -0.894203   \n",
       "4  0.499249  1.289481 -0.978464  0.788959  0.565607  0.669466 -0.527818   \n",
       "\n",
       "       Col7      Col8      Col9  ...     Col19     Col20     Col21     Col22  \\\n",
       "0 -1.721834  2.173076  0.787778  ...  0.534219  0.000000  0.859762  0.952683   \n",
       "1 -0.497216  0.000000  1.459977  ... -1.526275  0.000000  1.556438  1.039222   \n",
       "2  1.506953  0.000000  1.642789  ...  1.342171  0.000000  0.645799  0.649397   \n",
       "3 -1.452962  2.173076  1.190795  ...  0.260647  0.000000  0.976780  2.543204   \n",
       "4       NaN  0.000000  1.000051  ... -1.687199  3.101961  1.008931  0.926738   \n",
       "\n",
       "      Col23     Col24     Col25     Col26     Col27  target  \n",
       "0  1.183130  1.517570  0.823106  1.280084  1.002378       1  \n",
       "1  1.373045  1.160709  0.714822  0.942559  0.888690       1  \n",
       "2  1.220441  1.104470  0.334128  0.922434  0.827273       0  \n",
       "3  0.992699  1.698556  1.149998  2.191567  1.840188       1  \n",
       "4  0.986293  1.303238  1.018709  0.912322  0.865946       0  \n",
       "\n",
       "[5 rows x 29 columns]"
      ]
     },
     "execution_count": 22,
     "metadata": {},
     "output_type": "execute_result"
    }
   ],
   "source": [
    "X_num_train_25 = X_num_train_25.sample(frac=1).reset_index(drop=True)\n",
    "X_num_train_25.head()"
   ]
  },
  {
   "cell_type": "code",
   "execution_count": null,
   "metadata": {},
   "outputs": [],
   "source": []
  },
  {
   "cell_type": "code",
   "execution_count": 23,
   "metadata": {},
   "outputs": [],
   "source": [
    "X_num_train_25.to_csv('../input/higgs_small_roc/xgtrain_25_1.csv', index=False)\n",
    "X_num_val.to_csv('../input/higgs_small_roc/xgval.csv', index=False)\n",
    "X_num_test.to_csv('../input/higgs_small_roc/xgtest.csv', index=False)"
   ]
  },
  {
   "cell_type": "code",
   "execution_count": null,
   "metadata": {},
   "outputs": [],
   "source": []
  }
 ],
 "metadata": {
  "kernelspec": {
   "display_name": "Python 3",
   "language": "python",
   "name": "python3"
  },
  "language_info": {
   "codemirror_mode": {
    "name": "ipython",
    "version": 3
   },
   "file_extension": ".py",
   "mimetype": "text/x-python",
   "name": "python",
   "nbconvert_exporter": "python",
   "pygments_lexer": "ipython3",
   "version": "3.7.11"
  }
 },
 "nbformat": 4,
 "nbformat_minor": 4
}
