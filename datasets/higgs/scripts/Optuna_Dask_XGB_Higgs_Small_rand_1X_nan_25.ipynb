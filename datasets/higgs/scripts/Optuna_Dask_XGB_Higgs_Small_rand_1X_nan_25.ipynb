{
 "cells": [
  {
   "cell_type": "code",
   "execution_count": 1,
   "metadata": {},
   "outputs": [],
   "source": [
    "import os\n",
    "#os.environ[\"CUDA_DEVICE_ORDER\"]=\"PCI_BUS_ID\"\n",
    "#os.environ[\"CUDA_VISIBLE_DEVICES\"]=\"0, 1, 2, 4\""
   ]
  },
  {
   "cell_type": "code",
   "execution_count": 2,
   "metadata": {},
   "outputs": [
    {
     "data": {
      "text/plain": [
       "'1.6.2'"
      ]
     },
     "execution_count": 2,
     "metadata": {},
     "output_type": "execute_result"
    }
   ],
   "source": [
    "from dask.distributed import Client\n",
    "from dask_cuda import LocalCUDACluster\n",
    "from dask import dataframe as dd\n",
    "import pandas as pd\n",
    "import xgboost as xgb\n",
    "from sklearn.model_selection import KFold, train_test_split\n",
    "from sklearn.metrics import roc_auc_score\n",
    "import optuna\n",
    "import gc\n",
    "xgb.__version__"
   ]
  },
  {
   "cell_type": "code",
   "execution_count": 3,
   "metadata": {},
   "outputs": [
    {
     "name": "stdout",
     "output_type": "stream",
     "text": [
      "Wed Nov 23 11:01:32 2022       \n",
      "+-----------------------------------------------------------------------------+\n",
      "| NVIDIA-SMI 450.142.00   Driver Version: 450.142.00   CUDA Version: 11.0     |\n",
      "|-------------------------------+----------------------+----------------------+\n",
      "| GPU  Name        Persistence-M| Bus-Id        Disp.A | Volatile Uncorr. ECC |\n",
      "| Fan  Temp  Perf  Pwr:Usage/Cap|         Memory-Usage | GPU-Util  Compute M. |\n",
      "|                               |                      |               MIG M. |\n",
      "|===============================+======================+======================|\n",
      "|   0  Tesla V100-DGXS...  On   | 00000000:07:00.0  On |                    0 |\n",
      "| N/A   39C    P0    37W / 300W |    357MiB / 32499MiB |      0%      Default |\n",
      "|                               |                      |                  N/A |\n",
      "+-------------------------------+----------------------+----------------------+\n",
      "|   1  Tesla V100-DGXS...  On   | 00000000:08:00.0 Off |                    0 |\n",
      "| N/A   40C    P0    36W / 300W |      1MiB / 32508MiB |      0%      Default |\n",
      "|                               |                      |                  N/A |\n",
      "+-------------------------------+----------------------+----------------------+\n",
      "|   2  Tesla V100-DGXS...  On   | 00000000:0E:00.0 Off |                    0 |\n",
      "| N/A   43C    P0    36W / 300W |      1MiB / 32508MiB |      0%      Default |\n",
      "|                               |                      |                  N/A |\n",
      "+-------------------------------+----------------------+----------------------+\n",
      "|   3  Tesla V100-DGXS...  On   | 00000000:0F:00.0 Off |                    0 |\n",
      "| N/A   39C    P0    38W / 300W |      1MiB / 32508MiB |      0%      Default |\n",
      "|                               |                      |                  N/A |\n",
      "+-------------------------------+----------------------+----------------------+\n",
      "                                                                               \n",
      "+-----------------------------------------------------------------------------+\n",
      "| Processes:                                                                  |\n",
      "|  GPU   GI   CI        PID   Type   Process name                  GPU Memory |\n",
      "|        ID   ID                                                   Usage      |\n",
      "|=============================================================================|\n",
      "|    0   N/A  N/A      4182      G   /usr/lib/xorg/Xorg                126MiB |\n",
      "|    0   N/A  N/A      4663      G   /usr/bin/gnome-shell               80MiB |\n",
      "|    0   N/A  N/A      4710      G   ...mviewer/tv_bin/TeamViewer       21MiB |\n",
      "|    0   N/A  N/A     37701      G   ...AAAAAAAAA= --shared-files      126MiB |\n",
      "+-----------------------------------------------------------------------------+\n"
     ]
    }
   ],
   "source": [
    "!nvidia-smi"
   ]
  },
  {
   "cell_type": "code",
   "execution_count": 4,
   "metadata": {},
   "outputs": [
    {
     "name": "stdout",
     "output_type": "stream",
     "text": [
      "GPU 0: Tesla V100-DGXS-32GB (UUID: GPU-d752af09-1f62-bf3b-4f70-78b84e9e41f6)\n",
      "GPU 1: Tesla V100-DGXS-32GB (UUID: GPU-054a4a35-f98a-3ebc-9100-0f697c246b43)\n",
      "GPU 2: Tesla V100-DGXS-32GB (UUID: GPU-454525d4-bebd-7fb8-0ba3-3b85e2f99abd)\n",
      "GPU 3: Tesla V100-DGXS-32GB (UUID: GPU-af0fb74e-f5eb-0833-17ff-494cc6bdcee1)\n"
     ]
    }
   ],
   "source": [
    "!nvidia-smi -L"
   ]
  },
  {
   "cell_type": "code",
   "execution_count": 5,
   "metadata": {},
   "outputs": [],
   "source": [
    "train_x = dd.read_csv('../input/higgs_small_roc/xgtrain_25_1.csv')\n",
    "test_x = dd.read_csv('../input/higgs_small_roc/xgval.csv')"
   ]
  },
  {
   "cell_type": "code",
   "execution_count": 6,
   "metadata": {},
   "outputs": [],
   "source": [
    "train_y = train_x['target']\n",
    "train_x = train_x[train_x.columns.difference(['target'])]\n",
    "\n",
    "test_y = test_x['target']\n",
    "test_x = test_x[test_x.columns.difference(['target'])]"
   ]
  },
  {
   "cell_type": "code",
   "execution_count": 7,
   "metadata": {},
   "outputs": [],
   "source": [
    "cluster = LocalCUDACluster(n_workers=4)\n",
    "client = Client(cluster)"
   ]
  },
  {
   "cell_type": "code",
   "execution_count": 8,
   "metadata": {},
   "outputs": [],
   "source": [
    "dtrain = xgb.dask.DaskDMatrix(client, train_x, train_y)"
   ]
  },
  {
   "cell_type": "code",
   "execution_count": 9,
   "metadata": {},
   "outputs": [],
   "source": [
    "dtest = xgb.dask.DaskDMatrix(client, test_x, test_y)\n"
   ]
  },
  {
   "cell_type": "code",
   "execution_count": 10,
   "metadata": {},
   "outputs": [],
   "source": [
    "num_round = 1000"
   ]
  },
  {
   "cell_type": "code",
   "execution_count": 11,
   "metadata": {},
   "outputs": [],
   "source": [
    "def objective(trial):\n",
    "        \n",
    "    params = {\n",
    "        'objective': trial.suggest_categorical('objective',['binary:logistic']),\n",
    "        'tree_method': trial.suggest_categorical('tree_method',['gpu_hist']),  # 'gpu_hist','hist'\n",
    "        'lambda': trial.suggest_loguniform('lambda',1e-3,10.0),\n",
    "        'alpha': trial.suggest_loguniform('alpha',1e-3,10.0),\n",
    "        'colsample_bytree': trial.suggest_uniform('colsample_bytree', 0.3,1.0),\n",
    "        'subsample': trial.suggest_uniform('subsample', 0.4, 1.0),\n",
    "        'learning_rate': trial.suggest_loguniform('learning_rate', 0.001,0.1),\n",
    "        #'n_estimators': trial.suggest_categorical('n_estimators', [1000]),\n",
    "        'max_depth': trial.suggest_int('max_depth', 3,25),\n",
    "        #'random_state': trial.suggest_categorical('random_state', [24,48,2020]),\n",
    "        'min_child_weight': trial.suggest_int('min_child_weight', 1,300),\n",
    "        'eval_metric': trial.suggest_categorical('eval_metric',['logloss']),\n",
    "\n",
    "    }\n",
    "\n",
    "    output = xgb.dask.train(client, params, dtrain, num_round)\n",
    "    \n",
    "    booster = output['booster']  # booster is the trained model\n",
    "    booster.set_param({'predictor': 'gpu_predictor'})\n",
    "\n",
    "    predictions = xgb.dask.predict(client, booster, dtest)\n",
    "    \n",
    "    predictions = predictions.compute()\n",
    "\n",
    "    roc = roc_auc_score(test_y, predictions)\n",
    "    \n",
    "    return roc"
   ]
  },
  {
   "cell_type": "code",
   "execution_count": 12,
   "metadata": {},
   "outputs": [
    {
     "name": "stderr",
     "output_type": "stream",
     "text": [
      "\u001b[32m[I 2022-11-23 11:01:51,497]\u001b[0m A new study created in memory with name: no-name-c88668df-4c1d-467c-8e76-d61368f35b5c\u001b[0m\n"
     ]
    }
   ],
   "source": [
    "study = optuna.create_study(direction='maximize')"
   ]
  },
  {
   "cell_type": "code",
   "execution_count": 13,
   "metadata": {},
   "outputs": [
    {
     "name": "stderr",
     "output_type": "stream",
     "text": [
      "/home/tunguz/anaconda3/lib/python3.7/site-packages/xgboost/dask.py:884: RuntimeWarning: coroutine 'Client._wait_for_workers' was never awaited\n",
      "  client.wait_for_workers(n_workers)\n",
      "\u001b[32m[I 2022-11-23 11:03:11,014]\u001b[0m Trial 0 finished with value: 0.7967290421387867 and parameters: {'objective': 'binary:logistic', 'tree_method': 'gpu_hist', 'lambda': 1.4302933999940595, 'alpha': 0.36678549574141117, 'colsample_bytree': 0.5241408612068813, 'subsample': 0.5056222280707688, 'learning_rate': 0.0013535646005831616, 'max_depth': 17, 'min_child_weight': 199, 'eval_metric': 'logloss'}. Best is trial 0 with value: 0.7967290421387867.\u001b[0m\n",
      "/home/tunguz/anaconda3/lib/python3.7/site-packages/xgboost/dask.py:884: RuntimeWarning: coroutine 'Client._wait_for_workers' was never awaited\n",
      "  client.wait_for_workers(n_workers)\n",
      "\u001b[32m[I 2022-11-23 11:06:38,348]\u001b[0m Trial 1 finished with value: 0.8104304353378587 and parameters: {'objective': 'binary:logistic', 'tree_method': 'gpu_hist', 'lambda': 0.0024972685915398253, 'alpha': 3.214886070218261, 'colsample_bytree': 0.7403875154996924, 'subsample': 0.7212559329638162, 'learning_rate': 0.012810977366741276, 'max_depth': 17, 'min_child_weight': 25, 'eval_metric': 'logloss'}. Best is trial 1 with value: 0.8104304353378587.\u001b[0m\n"
     ]
    },
    {
     "name": "stdout",
     "output_type": "stream",
     "text": [
      "CPU times: user 21.4 s, sys: 7.75 s, total: 29.1 s\n",
      "Wall time: 4min 45s\n"
     ]
    }
   ],
   "source": [
    "%%time\n",
    "study.optimize(objective, n_trials=2)"
   ]
  },
  {
   "cell_type": "code",
   "execution_count": 14,
   "metadata": {},
   "outputs": [
    {
     "name": "stderr",
     "output_type": "stream",
     "text": [
      "/home/tunguz/anaconda3/lib/python3.7/site-packages/xgboost/dask.py:884: RuntimeWarning: coroutine 'Client._wait_for_workers' was never awaited\n",
      "  client.wait_for_workers(n_workers)\n",
      "\u001b[32m[I 2022-11-23 11:08:31,273]\u001b[0m Trial 2 finished with value: 0.8042090635425153 and parameters: {'objective': 'binary:logistic', 'tree_method': 'gpu_hist', 'lambda': 0.0018430598756334455, 'alpha': 0.5893734065103096, 'colsample_bytree': 0.841668298873077, 'subsample': 0.5185479948628189, 'learning_rate': 0.002722620736173878, 'max_depth': 22, 'min_child_weight': 225, 'eval_metric': 'logloss'}. Best is trial 1 with value: 0.8104304353378587.\u001b[0m\n",
      "/home/tunguz/anaconda3/lib/python3.7/site-packages/xgboost/dask.py:884: RuntimeWarning: coroutine 'Client._wait_for_workers' was never awaited\n",
      "  client.wait_for_workers(n_workers)\n",
      "\u001b[32m[I 2022-11-23 11:09:07,546]\u001b[0m Trial 3 finished with value: 0.8077696526746703 and parameters: {'objective': 'binary:logistic', 'tree_method': 'gpu_hist', 'lambda': 0.41859399764712163, 'alpha': 0.05469976389292323, 'colsample_bytree': 0.7507519379701724, 'subsample': 0.7774787451386951, 'learning_rate': 0.06204796092753033, 'max_depth': 18, 'min_child_weight': 285, 'eval_metric': 'logloss'}. Best is trial 1 with value: 0.8104304353378587.\u001b[0m\n",
      "/home/tunguz/anaconda3/lib/python3.7/site-packages/xgboost/dask.py:884: RuntimeWarning: coroutine 'Client._wait_for_workers' was never awaited\n",
      "  client.wait_for_workers(n_workers)\n",
      "\u001b[32m[I 2022-11-23 11:11:05,388]\u001b[0m Trial 4 finished with value: 0.8112217833553397 and parameters: {'objective': 'binary:logistic', 'tree_method': 'gpu_hist', 'lambda': 0.25496570705563015, 'alpha': 1.4149564695002805, 'colsample_bytree': 0.7164420335836259, 'subsample': 0.4733537251501351, 'learning_rate': 0.007738600444789182, 'max_depth': 18, 'min_child_weight': 73, 'eval_metric': 'logloss'}. Best is trial 4 with value: 0.8112217833553397.\u001b[0m\n",
      "/home/tunguz/anaconda3/lib/python3.7/site-packages/xgboost/dask.py:884: RuntimeWarning: coroutine 'Client._wait_for_workers' was never awaited\n",
      "  client.wait_for_workers(n_workers)\n",
      "\u001b[32m[I 2022-11-23 11:14:20,637]\u001b[0m Trial 5 finished with value: 0.8012827806558713 and parameters: {'objective': 'binary:logistic', 'tree_method': 'gpu_hist', 'lambda': 0.6577384433103686, 'alpha': 1.603472906153088, 'colsample_bytree': 0.5992217034589551, 'subsample': 0.9587154035700802, 'learning_rate': 0.0014793409263260582, 'max_depth': 20, 'min_child_weight': 138, 'eval_metric': 'logloss'}. Best is trial 4 with value: 0.8112217833553397.\u001b[0m\n",
      "/home/tunguz/anaconda3/lib/python3.7/site-packages/xgboost/dask.py:884: RuntimeWarning: coroutine 'Client._wait_for_workers' was never awaited\n",
      "  client.wait_for_workers(n_workers)\n",
      "\u001b[32m[I 2022-11-23 11:14:27,675]\u001b[0m Trial 6 finished with value: 0.7535038528798895 and parameters: {'objective': 'binary:logistic', 'tree_method': 'gpu_hist', 'lambda': 0.029740647052936765, 'alpha': 4.521705542018248, 'colsample_bytree': 0.9688825303740403, 'subsample': 0.8026599067767155, 'learning_rate': 0.0013934014797591706, 'max_depth': 4, 'min_child_weight': 118, 'eval_metric': 'logloss'}. Best is trial 4 with value: 0.8112217833553397.\u001b[0m\n",
      "/home/tunguz/anaconda3/lib/python3.7/site-packages/xgboost/dask.py:884: RuntimeWarning: coroutine 'Client._wait_for_workers' was never awaited\n",
      "  client.wait_for_workers(n_workers)\n",
      "\u001b[32m[I 2022-11-23 11:19:05,636]\u001b[0m Trial 7 finished with value: 0.7992867962030558 and parameters: {'objective': 'binary:logistic', 'tree_method': 'gpu_hist', 'lambda': 0.003286066678599603, 'alpha': 0.5928615360169038, 'colsample_bytree': 0.36115658845653736, 'subsample': 0.4466090772895215, 'learning_rate': 0.0062077584909447335, 'max_depth': 16, 'min_child_weight': 13, 'eval_metric': 'logloss'}. Best is trial 4 with value: 0.8112217833553397.\u001b[0m\n",
      "/home/tunguz/anaconda3/lib/python3.7/site-packages/xgboost/dask.py:884: RuntimeWarning: coroutine 'Client._wait_for_workers' was never awaited\n",
      "  client.wait_for_workers(n_workers)\n",
      "\u001b[32m[I 2022-11-23 11:19:24,466]\u001b[0m Trial 8 finished with value: 0.8066997678958158 and parameters: {'objective': 'binary:logistic', 'tree_method': 'gpu_hist', 'lambda': 0.0064831920624855615, 'alpha': 2.866245780671768, 'colsample_bytree': 0.969183502620039, 'subsample': 0.5831982603474825, 'learning_rate': 0.06084829093152657, 'max_depth': 9, 'min_child_weight': 127, 'eval_metric': 'logloss'}. Best is trial 4 with value: 0.8112217833553397.\u001b[0m\n",
      "/home/tunguz/anaconda3/lib/python3.7/site-packages/xgboost/dask.py:884: RuntimeWarning: coroutine 'Client._wait_for_workers' was never awaited\n",
      "  client.wait_for_workers(n_workers)\n",
      "\u001b[32m[I 2022-11-23 11:19:57,039]\u001b[0m Trial 9 finished with value: 0.7944740227374179 and parameters: {'objective': 'binary:logistic', 'tree_method': 'gpu_hist', 'lambda': 0.034921509049219646, 'alpha': 0.743001711477414, 'colsample_bytree': 0.3796723973833348, 'subsample': 0.6831090920811222, 'learning_rate': 0.003014283067989044, 'max_depth': 9, 'min_child_weight': 9, 'eval_metric': 'logloss'}. Best is trial 4 with value: 0.8112217833553397.\u001b[0m\n",
      "/home/tunguz/anaconda3/lib/python3.7/site-packages/xgboost/dask.py:884: RuntimeWarning: coroutine 'Client._wait_for_workers' was never awaited\n",
      "  client.wait_for_workers(n_workers)\n",
      "\u001b[32m[I 2022-11-23 11:27:06,640]\u001b[0m Trial 10 finished with value: 0.8089628668525796 and parameters: {'objective': 'binary:logistic', 'tree_method': 'gpu_hist', 'lambda': 4.2442226525841615, 'alpha': 0.0036908422005308313, 'colsample_bytree': 0.5101277474732123, 'subsample': 0.4075461788873582, 'learning_rate': 0.023998929044289952, 'max_depth': 25, 'min_child_weight': 71, 'eval_metric': 'logloss'}. Best is trial 4 with value: 0.8112217833553397.\u001b[0m\n",
      "/home/tunguz/anaconda3/lib/python3.7/site-packages/xgboost/dask.py:884: RuntimeWarning: coroutine 'Client._wait_for_workers' was never awaited\n",
      "  client.wait_for_workers(n_workers)\n",
      "\u001b[32m[I 2022-11-23 11:28:11,538]\u001b[0m Trial 11 finished with value: 0.8112215713791133 and parameters: {'objective': 'binary:logistic', 'tree_method': 'gpu_hist', 'lambda': 0.15024786293756082, 'alpha': 8.091186386831454, 'colsample_bytree': 0.7397185210831356, 'subsample': 0.6608696947857885, 'learning_rate': 0.014514395367254273, 'max_depth': 13, 'min_child_weight': 66, 'eval_metric': 'logloss'}. Best is trial 4 with value: 0.8112217833553397.\u001b[0m\n",
      "/home/tunguz/anaconda3/lib/python3.7/site-packages/xgboost/dask.py:884: RuntimeWarning: coroutine 'Client._wait_for_workers' was never awaited\n",
      "  client.wait_for_workers(n_workers)\n",
      "\u001b[32m[I 2022-11-23 11:28:58,318]\u001b[0m Trial 12 finished with value: 0.811604946690262 and parameters: {'objective': 'binary:logistic', 'tree_method': 'gpu_hist', 'lambda': 0.13421635579920949, 'alpha': 8.300703561387628, 'colsample_bytree': 0.7157750053770029, 'subsample': 0.6690158395245638, 'learning_rate': 0.019216159011699086, 'max_depth': 12, 'min_child_weight': 72, 'eval_metric': 'logloss'}. Best is trial 12 with value: 0.811604946690262.\u001b[0m\n",
      "/home/tunguz/anaconda3/lib/python3.7/site-packages/xgboost/dask.py:884: RuntimeWarning: coroutine 'Client._wait_for_workers' was never awaited\n",
      "  client.wait_for_workers(n_workers)\n",
      "\u001b[32m[I 2022-11-23 11:29:43,831]\u001b[0m Trial 13 finished with value: 0.8098324667092967 and parameters: {'objective': 'binary:logistic', 'tree_method': 'gpu_hist', 'lambda': 0.11881078905386085, 'alpha': 0.09655782286090112, 'colsample_bytree': 0.6444530667708782, 'subsample': 0.891108187997887, 'learning_rate': 0.02757364390873709, 'max_depth': 12, 'min_child_weight': 80, 'eval_metric': 'logloss'}. Best is trial 12 with value: 0.811604946690262.\u001b[0m\n",
      "/home/tunguz/anaconda3/lib/python3.7/site-packages/xgboost/dask.py:884: RuntimeWarning: coroutine 'Client._wait_for_workers' was never awaited\n",
      "  client.wait_for_workers(n_workers)\n",
      "\u001b[32m[I 2022-11-23 11:30:12,390]\u001b[0m Trial 14 finished with value: 0.8088926130394207 and parameters: {'objective': 'binary:logistic', 'tree_method': 'gpu_hist', 'lambda': 0.02271712345030567, 'alpha': 0.02457308248819143, 'colsample_bytree': 0.8559293094912297, 'subsample': 0.570315675620512, 'learning_rate': 0.006046155376241784, 'max_depth': 10, 'min_child_weight': 180, 'eval_metric': 'logloss'}. Best is trial 12 with value: 0.811604946690262.\u001b[0m\n",
      "/home/tunguz/anaconda3/lib/python3.7/site-packages/xgboost/dask.py:884: RuntimeWarning: coroutine 'Client._wait_for_workers' was never awaited\n",
      "  client.wait_for_workers(n_workers)\n",
      "\u001b[32m[I 2022-11-23 11:30:23,955]\u001b[0m Trial 15 finished with value: 0.8100379450489789 and parameters: {'objective': 'binary:logistic', 'tree_method': 'gpu_hist', 'lambda': 0.31612356816720616, 'alpha': 8.913262741262708, 'colsample_bytree': 0.8488578934017682, 'subsample': 0.5999836742539449, 'learning_rate': 0.03259870917513473, 'max_depth': 7, 'min_child_weight': 100, 'eval_metric': 'logloss'}. Best is trial 12 with value: 0.811604946690262.\u001b[0m\n",
      "/home/tunguz/anaconda3/lib/python3.7/site-packages/xgboost/dask.py:884: RuntimeWarning: coroutine 'Client._wait_for_workers' was never awaited\n",
      "  client.wait_for_workers(n_workers)\n",
      "\u001b[32m[I 2022-11-23 11:32:52,979]\u001b[0m Trial 16 finished with value: 0.8077569341010916 and parameters: {'objective': 'binary:logistic', 'tree_method': 'gpu_hist', 'lambda': 7.502024458386476, 'alpha': 0.21408613060814197, 'colsample_bytree': 0.5312528696121148, 'subsample': 0.8453017635350069, 'learning_rate': 0.006649752725018493, 'max_depth': 14, 'min_child_weight': 45, 'eval_metric': 'logloss'}. Best is trial 12 with value: 0.811604946690262.\u001b[0m\n",
      "/home/tunguz/anaconda3/lib/python3.7/site-packages/xgboost/dask.py:884: RuntimeWarning: coroutine 'Client._wait_for_workers' was never awaited\n",
      "  client.wait_for_workers(n_workers)\n",
      "\u001b[32m[I 2022-11-23 11:35:46,789]\u001b[0m Trial 17 finished with value: 0.8114035285106067 and parameters: {'objective': 'binary:logistic', 'tree_method': 'gpu_hist', 'lambda': 2.3699474468251953, 'alpha': 1.6058277638545442, 'colsample_bytree': 0.6910306888340738, 'subsample': 0.49117742360373706, 'learning_rate': 0.016764123511447186, 'max_depth': 23, 'min_child_weight': 96, 'eval_metric': 'logloss'}. Best is trial 12 with value: 0.811604946690262.\u001b[0m\n",
      "/home/tunguz/anaconda3/lib/python3.7/site-packages/xgboost/dask.py:884: RuntimeWarning: coroutine 'Client._wait_for_workers' was never awaited\n",
      "  client.wait_for_workers(n_workers)\n",
      "\u001b[32m[I 2022-11-23 11:39:44,781]\u001b[0m Trial 18 finished with value: 0.8109266798365866 and parameters: {'objective': 'binary:logistic', 'tree_method': 'gpu_hist', 'lambda': 1.5773339317109503, 'alpha': 0.00955078355607771, 'colsample_bytree': 0.6054762854966995, 'subsample': 0.6313490783359608, 'learning_rate': 0.020990036219354174, 'max_depth': 24, 'min_child_weight': 166, 'eval_metric': 'logloss'}. Best is trial 12 with value: 0.811604946690262.\u001b[0m\n",
      "/home/tunguz/anaconda3/lib/python3.7/site-packages/xgboost/dask.py:884: RuntimeWarning: coroutine 'Client._wait_for_workers' was never awaited\n",
      "  client.wait_for_workers(n_workers)\n",
      "\u001b[32m[I 2022-11-23 11:39:50,398]\u001b[0m Trial 19 finished with value: 0.795073295835065 and parameters: {'objective': 'binary:logistic', 'tree_method': 'gpu_hist', 'lambda': 2.431799385918318, 'alpha': 0.0011952946673076342, 'colsample_bytree': 0.43945727220556113, 'subsample': 0.7476091483452096, 'learning_rate': 0.03559070109797283, 'max_depth': 3, 'min_child_weight': 104, 'eval_metric': 'logloss'}. Best is trial 12 with value: 0.811604946690262.\u001b[0m\n",
      "/home/tunguz/anaconda3/lib/python3.7/site-packages/xgboost/dask.py:884: RuntimeWarning: coroutine 'Client._wait_for_workers' was never awaited\n",
      "  client.wait_for_workers(n_workers)\n",
      "\u001b[32m[I 2022-11-23 11:42:50,370]\u001b[0m Trial 20 finished with value: 0.8113017717690453 and parameters: {'objective': 'binary:logistic', 'tree_method': 'gpu_hist', 'lambda': 0.06288393614994453, 'alpha': 1.5709420841820547, 'colsample_bytree': 0.6833479772685925, 'subsample': 0.5451077928318607, 'learning_rate': 0.01478802125294928, 'max_depth': 21, 'min_child_weight': 43, 'eval_metric': 'logloss'}. Best is trial 12 with value: 0.811604946690262.\u001b[0m\n",
      "/home/tunguz/anaconda3/lib/python3.7/site-packages/xgboost/dask.py:884: RuntimeWarning: coroutine 'Client._wait_for_workers' was never awaited\n",
      "  client.wait_for_workers(n_workers)\n",
      "\u001b[32m[I 2022-11-23 11:45:46,500]\u001b[0m Trial 21 finished with value: 0.81061046022452 and parameters: {'objective': 'binary:logistic', 'tree_method': 'gpu_hist', 'lambda': 0.0636597759539793, 'alpha': 1.5961326485981804, 'colsample_bytree': 0.6762664574333164, 'subsample': 0.5139012329682918, 'learning_rate': 0.016739702697289797, 'max_depth': 22, 'min_child_weight': 54, 'eval_metric': 'logloss'}. Best is trial 12 with value: 0.811604946690262.\u001b[0m\n",
      "/home/tunguz/anaconda3/lib/python3.7/site-packages/xgboost/dask.py:884: RuntimeWarning: coroutine 'Client._wait_for_workers' was never awaited\n",
      "  client.wait_for_workers(n_workers)\n",
      "\u001b[32m[I 2022-11-23 11:49:37,778]\u001b[0m Trial 22 finished with value: 0.8098773078340935 and parameters: {'objective': 'binary:logistic', 'tree_method': 'gpu_hist', 'lambda': 0.01031070061932591, 'alpha': 9.092171357853962, 'colsample_bytree': 0.7972953640057656, 'subsample': 0.5404518111979105, 'learning_rate': 0.010496128875733922, 'max_depth': 21, 'min_child_weight': 32, 'eval_metric': 'logloss'}. Best is trial 12 with value: 0.811604946690262.\u001b[0m\n",
      "/home/tunguz/anaconda3/lib/python3.7/site-packages/xgboost/dask.py:884: RuntimeWarning: coroutine 'Client._wait_for_workers' was never awaited\n",
      "  client.wait_for_workers(n_workers)\n",
      "\u001b[32m[I 2022-11-23 11:53:13,027]\u001b[0m Trial 23 finished with value: 0.8050581913875299 and parameters: {'objective': 'binary:logistic', 'tree_method': 'gpu_hist', 'lambda': 0.7541190266737986, 'alpha': 0.2057307043631429, 'colsample_bytree': 0.6497730039878714, 'subsample': 0.6215375265615759, 'learning_rate': 0.09044206833954754, 'max_depth': 24, 'min_child_weight': 94, 'eval_metric': 'logloss'}. Best is trial 12 with value: 0.811604946690262.\u001b[0m\n",
      "/home/tunguz/anaconda3/lib/python3.7/site-packages/xgboost/dask.py:884: RuntimeWarning: coroutine 'Client._wait_for_workers' was never awaited\n",
      "  client.wait_for_workers(n_workers)\n",
      "\u001b[32m[I 2022-11-23 11:54:21,615]\u001b[0m Trial 24 finished with value: 0.8098479654326127 and parameters: {'objective': 'binary:logistic', 'tree_method': 'gpu_hist', 'lambda': 0.08690336579338513, 'alpha': 3.4665995871474022, 'colsample_bytree': 0.5815478029316437, 'subsample': 0.4505524027988206, 'learning_rate': 0.0449286283453633, 'max_depth': 15, 'min_child_weight': 38, 'eval_metric': 'logloss'}. Best is trial 12 with value: 0.811604946690262.\u001b[0m\n",
      "/home/tunguz/anaconda3/lib/python3.7/site-packages/xgboost/dask.py:884: RuntimeWarning: coroutine 'Client._wait_for_workers' was never awaited\n",
      "  client.wait_for_workers(n_workers)\n",
      "\u001b[32m[I 2022-11-23 11:55:24,975]\u001b[0m Trial 25 finished with value: 0.812480359587339 and parameters: {'objective': 'binary:logistic', 'tree_method': 'gpu_hist', 'lambda': 9.78618265298754, 'alpha': 1.0635397155667434, 'colsample_bytree': 0.7005204589047895, 'subsample': 0.40805186472806565, 'learning_rate': 0.018949121781080176, 'max_depth': 20, 'min_child_weight': 157, 'eval_metric': 'logloss'}. Best is trial 25 with value: 0.812480359587339.\u001b[0m\n",
      "/home/tunguz/anaconda3/lib/python3.7/site-packages/xgboost/dask.py:884: RuntimeWarning: coroutine 'Client._wait_for_workers' was never awaited\n",
      "  client.wait_for_workers(n_workers)\n",
      "\u001b[32m[I 2022-11-23 11:56:40,689]\u001b[0m Trial 26 finished with value: 0.8089181969393503 and parameters: {'objective': 'binary:logistic', 'tree_method': 'gpu_hist', 'lambda': 8.871137627788537, 'alpha': 0.9989207062435702, 'colsample_bytree': 0.9204933334040999, 'subsample': 0.40007347610228605, 'learning_rate': 0.004391639364883885, 'max_depth': 19, 'min_child_weight': 153, 'eval_metric': 'logloss'}. Best is trial 25 with value: 0.812480359587339.\u001b[0m\n",
      "/home/tunguz/anaconda3/lib/python3.7/site-packages/xgboost/dask.py:884: RuntimeWarning: coroutine 'Client._wait_for_workers' was never awaited\n",
      "  client.wait_for_workers(n_workers)\n",
      "\u001b[32m[I 2022-11-23 11:57:06,392]\u001b[0m Trial 27 finished with value: 0.8128160565534309 and parameters: {'objective': 'binary:logistic', 'tree_method': 'gpu_hist', 'lambda': 4.411417394712019, 'alpha': 4.331346729665679, 'colsample_bytree': 0.7875310773301232, 'subsample': 0.45432383925467307, 'learning_rate': 0.019481981532278068, 'max_depth': 12, 'min_child_weight': 230, 'eval_metric': 'logloss'}. Best is trial 27 with value: 0.8128160565534309.\u001b[0m\n",
      "/home/tunguz/anaconda3/lib/python3.7/site-packages/xgboost/dask.py:884: RuntimeWarning: coroutine 'Client._wait_for_workers' was never awaited\n",
      "  client.wait_for_workers(n_workers)\n",
      "\u001b[32m[I 2022-11-23 11:57:32,681]\u001b[0m Trial 28 finished with value: 0.8111778879706296 and parameters: {'objective': 'binary:logistic', 'tree_method': 'gpu_hist', 'lambda': 4.5978485636759405, 'alpha': 5.223573867505336, 'colsample_bytree': 0.785957951492805, 'subsample': 0.4538454751845292, 'learning_rate': 0.009677798266904484, 'max_depth': 11, 'min_child_weight': 235, 'eval_metric': 'logloss'}. Best is trial 27 with value: 0.8128160565534309.\u001b[0m\n",
      "/home/tunguz/anaconda3/lib/python3.7/site-packages/xgboost/dask.py:884: RuntimeWarning: coroutine 'Client._wait_for_workers' was never awaited\n",
      "  client.wait_for_workers(n_workers)\n",
      "\u001b[32m[I 2022-11-23 11:57:43,510]\u001b[0m Trial 29 finished with value: 0.8091158403115906 and parameters: {'objective': 'binary:logistic', 'tree_method': 'gpu_hist', 'lambda': 4.296237536769024, 'alpha': 0.37715174879252306, 'colsample_bytree': 0.8862223817838535, 'subsample': 0.9863943077953564, 'learning_rate': 0.0523094635292028, 'max_depth': 7, 'min_child_weight': 276, 'eval_metric': 'logloss'}. Best is trial 27 with value: 0.8128160565534309.\u001b[0m\n",
      "/home/tunguz/anaconda3/lib/python3.7/site-packages/xgboost/dask.py:884: RuntimeWarning: coroutine 'Client._wait_for_workers' was never awaited\n",
      "  client.wait_for_workers(n_workers)\n",
      "\u001b[32m[I 2022-11-23 11:58:13,335]\u001b[0m Trial 30 finished with value: 0.8117715110865523 and parameters: {'objective': 'binary:logistic', 'tree_method': 'gpu_hist', 'lambda': 1.378818206165276, 'alpha': 0.25150854473288253, 'colsample_bytree': 0.7784445149399869, 'subsample': 0.4175979115384863, 'learning_rate': 0.02364426127945402, 'max_depth': 14, 'min_child_weight': 205, 'eval_metric': 'logloss'}. Best is trial 27 with value: 0.8128160565534309.\u001b[0m\n",
      "/home/tunguz/anaconda3/lib/python3.7/site-packages/xgboost/dask.py:884: RuntimeWarning: coroutine 'Client._wait_for_workers' was never awaited\n",
      "  client.wait_for_workers(n_workers)\n",
      "\u001b[32m[I 2022-11-23 11:58:44,689]\u001b[0m Trial 31 finished with value: 0.8119116599838715 and parameters: {'objective': 'binary:logistic', 'tree_method': 'gpu_hist', 'lambda': 9.997559221046496, 'alpha': 0.25951854370187877, 'colsample_bytree': 0.7967273723682985, 'subsample': 0.4226069163772377, 'learning_rate': 0.020210784425738832, 'max_depth': 14, 'min_child_weight': 204, 'eval_metric': 'logloss'}. Best is trial 27 with value: 0.8128160565534309.\u001b[0m\n",
      "/home/tunguz/anaconda3/lib/python3.7/site-packages/xgboost/dask.py:884: RuntimeWarning: coroutine 'Client._wait_for_workers' was never awaited\n",
      "  client.wait_for_workers(n_workers)\n",
      "\u001b[32m[I 2022-11-23 11:59:15,685]\u001b[0m Trial 32 finished with value: 0.8115757673474169 and parameters: {'objective': 'binary:logistic', 'tree_method': 'gpu_hist', 'lambda': 9.821903674457195, 'alpha': 0.22633312100832748, 'colsample_bytree': 0.7971878744520735, 'subsample': 0.4295505469776636, 'learning_rate': 0.03573813823449847, 'max_depth': 15, 'min_child_weight': 205, 'eval_metric': 'logloss'}. Best is trial 27 with value: 0.8128160565534309.\u001b[0m\n",
      "/home/tunguz/anaconda3/lib/python3.7/site-packages/xgboost/dask.py:884: RuntimeWarning: coroutine 'Client._wait_for_workers' was never awaited\n",
      "  client.wait_for_workers(n_workers)\n",
      "\u001b[32m[I 2022-11-23 11:59:50,375]\u001b[0m Trial 33 finished with value: 0.8122265099033987 and parameters: {'objective': 'binary:logistic', 'tree_method': 'gpu_hist', 'lambda': 1.1095445965777082, 'alpha': 0.07864361994689054, 'colsample_bytree': 0.8114179911515595, 'subsample': 0.4902519001175268, 'learning_rate': 0.025788061648917362, 'max_depth': 16, 'min_child_weight': 257, 'eval_metric': 'logloss'}. Best is trial 27 with value: 0.8128160565534309.\u001b[0m\n",
      "/home/tunguz/anaconda3/lib/python3.7/site-packages/xgboost/dask.py:884: RuntimeWarning: coroutine 'Client._wait_for_workers' was never awaited\n",
      "  client.wait_for_workers(n_workers)\n",
      "\u001b[32m[I 2022-11-23 12:00:32,724]\u001b[0m Trial 34 finished with value: 0.8122938857316389 and parameters: {'objective': 'binary:logistic', 'tree_method': 'gpu_hist', 'lambda': 5.439718446022906, 'alpha': 0.08589019434830306, 'colsample_bytree': 0.9086717402409064, 'subsample': 0.5000697197764384, 'learning_rate': 0.01126620006849436, 'max_depth': 17, 'min_child_weight': 258, 'eval_metric': 'logloss'}. Best is trial 27 with value: 0.8128160565534309.\u001b[0m\n",
      "/home/tunguz/anaconda3/lib/python3.7/site-packages/xgboost/dask.py:884: RuntimeWarning: coroutine 'Client._wait_for_workers' was never awaited\n",
      "  client.wait_for_workers(n_workers)\n",
      "\u001b[32m[I 2022-11-23 12:01:13,644]\u001b[0m Trial 35 finished with value: 0.8125749743606601 and parameters: {'objective': 'binary:logistic', 'tree_method': 'gpu_hist', 'lambda': 2.158073892207793, 'alpha': 0.043542433261094804, 'colsample_bytree': 0.9201678725974757, 'subsample': 0.4841159470330808, 'learning_rate': 0.012427812838938889, 'max_depth': 17, 'min_child_weight': 258, 'eval_metric': 'logloss'}. Best is trial 27 with value: 0.8128160565534309.\u001b[0m\n",
      "/home/tunguz/anaconda3/lib/python3.7/site-packages/xgboost/dask.py:884: RuntimeWarning: coroutine 'Client._wait_for_workers' was never awaited\n",
      "  client.wait_for_workers(n_workers)\n",
      "\u001b[32m[I 2022-11-23 12:02:03,522]\u001b[0m Trial 36 finished with value: 0.812171722201829 and parameters: {'objective': 'binary:logistic', 'tree_method': 'gpu_hist', 'lambda': 2.7684434870039767, 'alpha': 0.03612419622304186, 'colsample_bytree': 0.915480282077017, 'subsample': 0.5319604065105021, 'learning_rate': 0.009974819205904366, 'max_depth': 18, 'min_child_weight': 244, 'eval_metric': 'logloss'}. Best is trial 27 with value: 0.8128160565534309.\u001b[0m\n",
      "/home/tunguz/anaconda3/lib/python3.7/site-packages/xgboost/dask.py:884: RuntimeWarning: coroutine 'Client._wait_for_workers' was never awaited\n",
      "  client.wait_for_workers(n_workers)\n",
      "\u001b[32m[I 2022-11-23 12:02:56,562]\u001b[0m Trial 37 finished with value: 0.8070182051053267 and parameters: {'objective': 'binary:logistic', 'tree_method': 'gpu_hist', 'lambda': 5.237667984733132, 'alpha': 0.014045114648944236, 'colsample_bytree': 0.9350507541283203, 'subsample': 0.47283284105076717, 'learning_rate': 0.0038805960609627987, 'max_depth': 17, 'min_child_weight': 267, 'eval_metric': 'logloss'}. Best is trial 27 with value: 0.8128160565534309.\u001b[0m\n",
      "/home/tunguz/anaconda3/lib/python3.7/site-packages/xgboost/dask.py:884: RuntimeWarning: coroutine 'Client._wait_for_workers' was never awaited\n",
      "  client.wait_for_workers(n_workers)\n",
      "\u001b[32m[I 2022-11-23 12:03:42,629]\u001b[0m Trial 38 finished with value: 0.812610121649569 and parameters: {'objective': 'binary:logistic', 'tree_method': 'gpu_hist', 'lambda': 0.536629788472201, 'alpha': 0.05193449797618362, 'colsample_bytree': 0.998653503330728, 'subsample': 0.5023577329648452, 'learning_rate': 0.011829328344346902, 'max_depth': 19, 'min_child_weight': 287, 'eval_metric': 'logloss'}. Best is trial 27 with value: 0.8128160565534309.\u001b[0m\n",
      "/home/tunguz/anaconda3/lib/python3.7/site-packages/xgboost/dask.py:884: RuntimeWarning: coroutine 'Client._wait_for_workers' was never awaited\n",
      "  client.wait_for_workers(n_workers)\n",
      "\u001b[32m[I 2022-11-23 12:04:30,522]\u001b[0m Trial 39 finished with value: 0.8120910978594444 and parameters: {'objective': 'binary:logistic', 'tree_method': 'gpu_hist', 'lambda': 0.64271012787717, 'alpha': 0.04611574358739985, 'colsample_bytree': 0.994076431208813, 'subsample': 0.46607810441748565, 'learning_rate': 0.00846904599101312, 'max_depth': 19, 'min_child_weight': 283, 'eval_metric': 'logloss'}. Best is trial 27 with value: 0.8128160565534309.\u001b[0m\n",
      "/home/tunguz/anaconda3/lib/python3.7/site-packages/xgboost/dask.py:884: RuntimeWarning: coroutine 'Client._wait_for_workers' was never awaited\n",
      "  client.wait_for_workers(n_workers)\n",
      "\u001b[32m[I 2022-11-23 12:05:26,969]\u001b[0m Trial 40 finished with value: 0.8131082413226063 and parameters: {'objective': 'binary:logistic', 'tree_method': 'gpu_hist', 'lambda': 0.49756106551314444, 'alpha': 0.021637812568224047, 'colsample_bytree': 0.9566076551020962, 'subsample': 0.5767258044440455, 'learning_rate': 0.013177620620725927, 'max_depth': 20, 'min_child_weight': 293, 'eval_metric': 'logloss'}. Best is trial 40 with value: 0.8131082413226063.\u001b[0m\n",
      "/home/tunguz/anaconda3/lib/python3.7/site-packages/xgboost/dask.py:884: RuntimeWarning: coroutine 'Client._wait_for_workers' was never awaited\n",
      "  client.wait_for_workers(n_workers)\n",
      "\u001b[32m[I 2022-11-23 12:06:21,023]\u001b[0m Trial 41 finished with value: 0.8126979857953752 and parameters: {'objective': 'binary:logistic', 'tree_method': 'gpu_hist', 'lambda': 0.39387639211520664, 'alpha': 0.020869076023758284, 'colsample_bytree': 0.9614635173210972, 'subsample': 0.5496366038466182, 'learning_rate': 0.01347357945189847, 'max_depth': 20, 'min_child_weight': 288, 'eval_metric': 'logloss'}. Best is trial 40 with value: 0.8131082413226063.\u001b[0m\n",
      "/home/tunguz/anaconda3/lib/python3.7/site-packages/xgboost/dask.py:884: RuntimeWarning: coroutine 'Client._wait_for_workers' was never awaited\n",
      "  client.wait_for_workers(n_workers)\n",
      "\u001b[32m[I 2022-11-23 12:07:07,601]\u001b[0m Trial 42 finished with value: 0.8122107258274703 and parameters: {'objective': 'binary:logistic', 'tree_method': 'gpu_hist', 'lambda': 0.40745235008930064, 'alpha': 0.017075881280622665, 'colsample_bytree': 0.9949979231624827, 'subsample': 0.5620353667467021, 'learning_rate': 0.013925788528497574, 'max_depth': 19, 'min_child_weight': 296, 'eval_metric': 'logloss'}. Best is trial 40 with value: 0.8131082413226063.\u001b[0m\n",
      "/home/tunguz/anaconda3/lib/python3.7/site-packages/xgboost/dask.py:884: RuntimeWarning: coroutine 'Client._wait_for_workers' was never awaited\n",
      "  client.wait_for_workers(n_workers)\n",
      "\u001b[32m[I 2022-11-23 12:08:11,611]\u001b[0m Trial 43 finished with value: 0.8125375605567161 and parameters: {'objective': 'binary:logistic', 'tree_method': 'gpu_hist', 'lambda': 0.2372980340024785, 'alpha': 0.006342616280891683, 'colsample_bytree': 0.9446873265884475, 'subsample': 0.5170938209377245, 'learning_rate': 0.012277790439962329, 'max_depth': 21, 'min_child_weight': 296, 'eval_metric': 'logloss'}. Best is trial 40 with value: 0.8131082413226063.\u001b[0m\n",
      "/home/tunguz/anaconda3/lib/python3.7/site-packages/xgboost/dask.py:884: RuntimeWarning: coroutine 'Client._wait_for_workers' was never awaited\n",
      "  client.wait_for_workers(n_workers)\n",
      "\u001b[32m[I 2022-11-23 12:09:16,026]\u001b[0m Trial 44 finished with value: 0.8114177146119061 and parameters: {'objective': 'binary:logistic', 'tree_method': 'gpu_hist', 'lambda': 0.7498869509389765, 'alpha': 0.03043060580779517, 'colsample_bytree': 0.8788261986425491, 'subsample': 0.6060387830337205, 'learning_rate': 0.007036362745807241, 'max_depth': 18, 'min_child_weight': 219, 'eval_metric': 'logloss'}. Best is trial 40 with value: 0.8131082413226063.\u001b[0m\n",
      "/home/tunguz/anaconda3/lib/python3.7/site-packages/xgboost/dask.py:884: RuntimeWarning: coroutine 'Client._wait_for_workers' was never awaited\n",
      "  client.wait_for_workers(n_workers)\n",
      "\u001b[32m[I 2022-11-23 12:10:21,366]\u001b[0m Trial 45 finished with value: 0.8095410075510499 and parameters: {'objective': 'binary:logistic', 'tree_method': 'gpu_hist', 'lambda': 0.23913370098142323, 'alpha': 0.0049714966133631525, 'colsample_bytree': 0.9634839035930686, 'subsample': 0.70417040235125, 'learning_rate': 0.004956574322038556, 'max_depth': 16, 'min_child_weight': 253, 'eval_metric': 'logloss'}. Best is trial 40 with value: 0.8131082413226063.\u001b[0m\n",
      "/home/tunguz/anaconda3/lib/python3.7/site-packages/xgboost/dask.py:884: RuntimeWarning: coroutine 'Client._wait_for_workers' was never awaited\n",
      "  client.wait_for_workers(n_workers)\n",
      "\u001b[32m[I 2022-11-23 12:11:23,654]\u001b[0m Trial 46 finished with value: 0.8118806625372393 and parameters: {'objective': 'binary:logistic', 'tree_method': 'gpu_hist', 'lambda': 0.5118115943264754, 'alpha': 0.05661059697196083, 'colsample_bytree': 0.8855136092476477, 'subsample': 0.5754091276452569, 'learning_rate': 0.008588380740406297, 'max_depth': 20, 'min_child_weight': 275, 'eval_metric': 'logloss'}. Best is trial 40 with value: 0.8131082413226063.\u001b[0m\n",
      "/home/tunguz/anaconda3/lib/python3.7/site-packages/xgboost/dask.py:884: RuntimeWarning: coroutine 'Client._wait_for_workers' was never awaited\n",
      "  client.wait_for_workers(n_workers)\n",
      "\u001b[32m[I 2022-11-23 12:12:48,389]\u001b[0m Trial 47 finished with value: 0.8015248493533879 and parameters: {'objective': 'binary:logistic', 'tree_method': 'gpu_hist', 'lambda': 1.2311657232558642, 'alpha': 0.018886438982836238, 'colsample_bytree': 0.9645672723435184, 'subsample': 0.6459802876739568, 'learning_rate': 0.0023074614349871247, 'max_depth': 18, 'min_child_weight': 232, 'eval_metric': 'logloss'}. Best is trial 40 with value: 0.8131082413226063.\u001b[0m\n",
      "/home/tunguz/anaconda3/lib/python3.7/site-packages/xgboost/dask.py:884: RuntimeWarning: coroutine 'Client._wait_for_workers' was never awaited\n",
      "  client.wait_for_workers(n_workers)\n",
      "\u001b[32m[I 2022-11-23 12:14:15,321]\u001b[0m Trial 48 finished with value: 0.813248267925949 and parameters: {'objective': 'binary:logistic', 'tree_method': 'gpu_hist', 'lambda': 2.0603953236810946, 'alpha': 0.12376138176519916, 'colsample_bytree': 0.9956510672438069, 'subsample': 0.5529407012123001, 'learning_rate': 0.01263206007522666, 'max_depth': 22, 'min_child_weight': 300, 'eval_metric': 'logloss'}. Best is trial 48 with value: 0.813248267925949.\u001b[0m\n",
      "/home/tunguz/anaconda3/lib/python3.7/site-packages/xgboost/dask.py:884: RuntimeWarning: coroutine 'Client._wait_for_workers' was never awaited\n",
      "  client.wait_for_workers(n_workers)\n",
      "\u001b[32m[I 2022-11-23 12:15:42,644]\u001b[0m Trial 49 finished with value: 0.8129422231727453 and parameters: {'objective': 'binary:logistic', 'tree_method': 'gpu_hist', 'lambda': 0.00111489129958609, 'alpha': 0.0022109976939719425, 'colsample_bytree': 0.9889960390681017, 'subsample': 0.5526919708015499, 'learning_rate': 0.01573796806964542, 'max_depth': 22, 'min_child_weight': 296, 'eval_metric': 'logloss'}. Best is trial 48 with value: 0.813248267925949.\u001b[0m\n",
      "/home/tunguz/anaconda3/lib/python3.7/site-packages/xgboost/dask.py:884: RuntimeWarning: coroutine 'Client._wait_for_workers' was never awaited\n",
      "  client.wait_for_workers(n_workers)\n",
      "\u001b[32m[I 2022-11-23 12:22:04,740]\u001b[0m Trial 50 finished with value: 0.8100744212657681 and parameters: {'objective': 'binary:logistic', 'tree_method': 'gpu_hist', 'lambda': 0.0013267643556473256, 'alpha': 0.002030562406654822, 'colsample_bytree': 0.862422385177037, 'subsample': 0.5868077646570209, 'learning_rate': 0.030704844893863065, 'max_depth': 25, 'min_child_weight': 299, 'eval_metric': 'logloss'}. Best is trial 48 with value: 0.813248267925949.\u001b[0m\n",
      "/home/tunguz/anaconda3/lib/python3.7/site-packages/xgboost/dask.py:884: RuntimeWarning: coroutine 'Client._wait_for_workers' was never awaited\n",
      "  client.wait_for_workers(n_workers)\n",
      "\u001b[32m[I 2022-11-23 12:24:13,152]\u001b[0m Trial 51 finished with value: 0.813018444931968 and parameters: {'objective': 'binary:logistic', 'tree_method': 'gpu_hist', 'lambda': 0.0043684164190552965, 'alpha': 0.13277660910894054, 'colsample_bytree': 0.9938179667190459, 'subsample': 0.5451966608650779, 'learning_rate': 0.016173772411069688, 'max_depth': 23, 'min_child_weight': 289, 'eval_metric': 'logloss'}. Best is trial 48 with value: 0.813248267925949.\u001b[0m\n",
      "/home/tunguz/anaconda3/lib/python3.7/site-packages/xgboost/dask.py:884: RuntimeWarning: coroutine 'Client._wait_for_workers' was never awaited\n",
      "  client.wait_for_workers(n_workers)\n",
      "\u001b[32m[I 2022-11-23 12:26:24,547]\u001b[0m Trial 52 finished with value: 0.8128969499425642 and parameters: {'objective': 'binary:logistic', 'tree_method': 'gpu_hist', 'lambda': 0.0033167345644490435, 'alpha': 0.12289152420374602, 'colsample_bytree': 0.9579519071077844, 'subsample': 0.5355159532766075, 'learning_rate': 0.016771074090599934, 'max_depth': 23, 'min_child_weight': 268, 'eval_metric': 'logloss'}. Best is trial 48 with value: 0.813248267925949.\u001b[0m\n",
      "/home/tunguz/anaconda3/lib/python3.7/site-packages/xgboost/dask.py:884: RuntimeWarning: coroutine 'Client._wait_for_workers' was never awaited\n",
      "  client.wait_for_workers(n_workers)\n",
      "\u001b[32m[I 2022-11-23 12:28:36,654]\u001b[0m Trial 53 finished with value: 0.8127881001503532 and parameters: {'objective': 'binary:logistic', 'tree_method': 'gpu_hist', 'lambda': 0.0030897900614171338, 'alpha': 0.13186561839991115, 'colsample_bytree': 0.9485989863984313, 'subsample': 0.6063632977416389, 'learning_rate': 0.015681250566986816, 'max_depth': 23, 'min_child_weight': 281, 'eval_metric': 'logloss'}. Best is trial 48 with value: 0.813248267925949.\u001b[0m\n",
      "/home/tunguz/anaconda3/lib/python3.7/site-packages/xgboost/dask.py:884: RuntimeWarning: coroutine 'Client._wait_for_workers' was never awaited\n",
      "  client.wait_for_workers(n_workers)\n",
      "\u001b[32m[I 2022-11-23 12:30:47,273]\u001b[0m Trial 54 finished with value: 0.8121052431960849 and parameters: {'objective': 'binary:logistic', 'tree_method': 'gpu_hist', 'lambda': 0.007163237445300166, 'alpha': 0.128378211555878, 'colsample_bytree': 0.8388623987388432, 'subsample': 0.5275493424791571, 'learning_rate': 0.017662911545836976, 'max_depth': 23, 'min_child_weight': 266, 'eval_metric': 'logloss'}. Best is trial 48 with value: 0.813248267925949.\u001b[0m\n",
      "/home/tunguz/anaconda3/lib/python3.7/site-packages/xgboost/dask.py:884: RuntimeWarning: coroutine 'Client._wait_for_workers' was never awaited\n",
      "  client.wait_for_workers(n_workers)\n",
      "\u001b[32m[I 2022-11-23 12:32:15,139]\u001b[0m Trial 55 finished with value: 0.8120809719181723 and parameters: {'objective': 'binary:logistic', 'tree_method': 'gpu_hist', 'lambda': 0.0010363332796312725, 'alpha': 0.44096551365303555, 'colsample_bytree': 0.9766354983749447, 'subsample': 0.5610659930001369, 'learning_rate': 0.02303750927527679, 'max_depth': 22, 'min_child_weight': 245, 'eval_metric': 'logloss'}. Best is trial 48 with value: 0.813248267925949.\u001b[0m\n",
      "/home/tunguz/anaconda3/lib/python3.7/site-packages/xgboost/dask.py:884: RuntimeWarning: coroutine 'Client._wait_for_workers' was never awaited\n",
      "  client.wait_for_workers(n_workers)\n",
      "\u001b[32m[I 2022-11-23 12:35:48,850]\u001b[0m Trial 56 finished with value: 0.8109705670683648 and parameters: {'objective': 'binary:logistic', 'tree_method': 'gpu_hist', 'lambda': 0.0021184241778596756, 'alpha': 0.0015425591125587913, 'colsample_bytree': 0.8266543083897981, 'subsample': 0.6328023261894324, 'learning_rate': 0.029217863905264083, 'max_depth': 24, 'min_child_weight': 271, 'eval_metric': 'logloss'}. Best is trial 48 with value: 0.813248267925949.\u001b[0m\n",
      "/home/tunguz/anaconda3/lib/python3.7/site-packages/xgboost/dask.py:884: RuntimeWarning: coroutine 'Client._wait_for_workers' was never awaited\n",
      "  client.wait_for_workers(n_workers)\n",
      "\u001b[32m[I 2022-11-23 12:37:10,982]\u001b[0m Trial 57 finished with value: 0.8091277028273324 and parameters: {'objective': 'binary:logistic', 'tree_method': 'gpu_hist', 'lambda': 0.013765735579796093, 'alpha': 0.002618752583636247, 'colsample_bytree': 0.8984834095935466, 'subsample': 0.6744209322053625, 'learning_rate': 0.03865931573945964, 'max_depth': 22, 'min_child_weight': 299, 'eval_metric': 'logloss'}. Best is trial 48 with value: 0.813248267925949.\u001b[0m\n",
      "/home/tunguz/anaconda3/lib/python3.7/site-packages/xgboost/dask.py:884: RuntimeWarning: coroutine 'Client._wait_for_workers' was never awaited\n",
      "  client.wait_for_workers(n_workers)\n",
      "\u001b[32m[I 2022-11-23 12:43:46,733]\u001b[0m Trial 58 finished with value: 0.8116404445552374 and parameters: {'objective': 'binary:logistic', 'tree_method': 'gpu_hist', 'lambda': 0.004447057076098391, 'alpha': 0.00990101900110213, 'colsample_bytree': 0.7432059865830887, 'subsample': 0.5889864813974506, 'learning_rate': 0.02005384075987313, 'max_depth': 25, 'min_child_weight': 221, 'eval_metric': 'logloss'}. Best is trial 48 with value: 0.813248267925949.\u001b[0m\n",
      "/home/tunguz/anaconda3/lib/python3.7/site-packages/xgboost/dask.py:884: RuntimeWarning: coroutine 'Client._wait_for_workers' was never awaited\n",
      "  client.wait_for_workers(n_workers)\n",
      "\u001b[32m[I 2022-11-23 12:47:19,626]\u001b[0m Trial 59 finished with value: 0.8128234512625565 and parameters: {'objective': 'binary:logistic', 'tree_method': 'gpu_hist', 'lambda': 0.0017081136171140806, 'alpha': 0.14757271456049012, 'colsample_bytree': 0.9384359459036575, 'subsample': 0.524681072764653, 'learning_rate': 0.015843183520882955, 'max_depth': 24, 'min_child_weight': 288, 'eval_metric': 'logloss'}. Best is trial 48 with value: 0.813248267925949.\u001b[0m\n",
      "/home/tunguz/anaconda3/lib/python3.7/site-packages/xgboost/dask.py:884: RuntimeWarning: coroutine 'Client._wait_for_workers' was never awaited\n",
      "  client.wait_for_workers(n_workers)\n",
      "\u001b[32m[I 2022-11-23 12:51:17,050]\u001b[0m Trial 60 finished with value: 0.8104872612723739 and parameters: {'objective': 'binary:logistic', 'tree_method': 'gpu_hist', 'lambda': 0.004330261237153863, 'alpha': 0.17321981703584394, 'colsample_bytree': 0.9374453306419489, 'subsample': 0.7282063017451668, 'learning_rate': 0.005536140012649394, 'max_depth': 24, 'min_child_weight': 283, 'eval_metric': 'logloss'}. Best is trial 48 with value: 0.813248267925949.\u001b[0m\n",
      "/home/tunguz/anaconda3/lib/python3.7/site-packages/xgboost/dask.py:884: RuntimeWarning: coroutine 'Client._wait_for_workers' was never awaited\n",
      "  client.wait_for_workers(n_workers)\n",
      "\u001b[32m[I 2022-11-23 12:53:24,045]\u001b[0m Trial 61 finished with value: 0.81259987341432 and parameters: {'objective': 'binary:logistic', 'tree_method': 'gpu_hist', 'lambda': 0.0015342637618348455, 'alpha': 0.07739910268069845, 'colsample_bytree': 0.971853310929949, 'subsample': 0.5265529457994124, 'learning_rate': 0.016783979250227392, 'max_depth': 23, 'min_child_weight': 291, 'eval_metric': 'logloss'}. Best is trial 48 with value: 0.813248267925949.\u001b[0m\n",
      "/home/tunguz/anaconda3/lib/python3.7/site-packages/xgboost/dask.py:884: RuntimeWarning: coroutine 'Client._wait_for_workers' was never awaited\n",
      "  client.wait_for_workers(n_workers)\n",
      "\u001b[32m[I 2022-11-23 12:54:32,582]\u001b[0m Trial 62 finished with value: 0.8124381518595076 and parameters: {'objective': 'binary:logistic', 'tree_method': 'gpu_hist', 'lambda': 0.0023315568499039214, 'alpha': 0.5647915620768269, 'colsample_bytree': 0.9960820861409145, 'subsample': 0.5545945803995078, 'learning_rate': 0.013947385916271033, 'max_depth': 21, 'min_child_weight': 265, 'eval_metric': 'logloss'}. Best is trial 48 with value: 0.813248267925949.\u001b[0m\n",
      "/home/tunguz/anaconda3/lib/python3.7/site-packages/xgboost/dask.py:884: RuntimeWarning: coroutine 'Client._wait_for_workers' was never awaited\n",
      "  client.wait_for_workers(n_workers)\n",
      "\u001b[32m[I 2022-11-23 12:56:43,772]\u001b[0m Trial 63 finished with value: 0.8122232405777546 and parameters: {'objective': 'binary:logistic', 'tree_method': 'gpu_hist', 'lambda': 0.0010099196493814657, 'alpha': 0.12794382234424734, 'colsample_bytree': 0.931985882536616, 'subsample': 0.4399378763021101, 'learning_rate': 0.008290411331596465, 'max_depth': 23, 'min_child_weight': 276, 'eval_metric': 'logloss'}. Best is trial 48 with value: 0.813248267925949.\u001b[0m\n",
      "/home/tunguz/anaconda3/lib/python3.7/site-packages/xgboost/dask.py:884: RuntimeWarning: coroutine 'Client._wait_for_workers' was never awaited\n",
      "  client.wait_for_workers(n_workers)\n",
      "\u001b[32m[I 2022-11-23 12:58:08,865]\u001b[0m Trial 64 finished with value: 0.8121149614907681 and parameters: {'objective': 'binary:logistic', 'tree_method': 'gpu_hist', 'lambda': 0.0032605228655236814, 'alpha': 2.5784082112700726, 'colsample_bytree': 0.9726841243480143, 'subsample': 0.4671554410235583, 'learning_rate': 0.021734770000916538, 'max_depth': 22, 'min_child_weight': 241, 'eval_metric': 'logloss'}. Best is trial 48 with value: 0.813248267925949.\u001b[0m\n",
      "/home/tunguz/anaconda3/lib/python3.7/site-packages/xgboost/dask.py:884: RuntimeWarning: coroutine 'Client._wait_for_workers' was never awaited\n",
      "  client.wait_for_workers(n_workers)\n",
      "\u001b[32m[I 2022-11-23 13:04:38,064]\u001b[0m Trial 65 finished with value: 0.8127932364973753 and parameters: {'objective': 'binary:logistic', 'tree_method': 'gpu_hist', 'lambda': 0.0016270362446161872, 'alpha': 0.06280702224554782, 'colsample_bytree': 0.8681527589737325, 'subsample': 0.5091031953176415, 'learning_rate': 0.009332386824022107, 'max_depth': 25, 'min_child_weight': 289, 'eval_metric': 'logloss'}. Best is trial 48 with value: 0.813248267925949.\u001b[0m\n",
      "/home/tunguz/anaconda3/lib/python3.7/site-packages/xgboost/dask.py:884: RuntimeWarning: coroutine 'Client._wait_for_workers' was never awaited\n",
      "  client.wait_for_workers(n_workers)\n",
      "\u001b[32m[I 2022-11-23 13:05:29,387]\u001b[0m Trial 66 finished with value: 0.7935796216622223 and parameters: {'objective': 'binary:logistic', 'tree_method': 'gpu_hist', 'lambda': 0.005531156336430976, 'alpha': 0.15381821189388434, 'colsample_bytree': 0.9012666483245059, 'subsample': 0.5803050879407764, 'learning_rate': 0.0011023679319255475, 'max_depth': 11, 'min_child_weight': 192, 'eval_metric': 'logloss'}. Best is trial 48 with value: 0.813248267925949.\u001b[0m\n",
      "/home/tunguz/anaconda3/lib/python3.7/site-packages/xgboost/dask.py:884: RuntimeWarning: coroutine 'Client._wait_for_workers' was never awaited\n",
      "  client.wait_for_workers(n_workers)\n",
      "\u001b[32m[I 2022-11-23 13:09:02,790]\u001b[0m Trial 67 finished with value: 0.8124553953102249 and parameters: {'objective': 'binary:logistic', 'tree_method': 'gpu_hist', 'lambda': 0.008450891358283122, 'alpha': 0.3121072263634689, 'colsample_bytree': 0.9452285747952229, 'subsample': 0.5388852963184699, 'learning_rate': 0.014993561614446352, 'max_depth': 24, 'min_child_weight': 300, 'eval_metric': 'logloss'}. Best is trial 48 with value: 0.813248267925949.\u001b[0m\n",
      "/home/tunguz/anaconda3/lib/python3.7/site-packages/xgboost/dask.py:884: RuntimeWarning: coroutine 'Client._wait_for_workers' was never awaited\n",
      "  client.wait_for_workers(n_workers)\n",
      "\u001b[32m[I 2022-11-23 13:10:39,519]\u001b[0m Trial 68 finished with value: 0.8125445965368434 and parameters: {'objective': 'binary:logistic', 'tree_method': 'gpu_hist', 'lambda': 0.0025844357457362127, 'alpha': 0.11346487618398585, 'colsample_bytree': 0.9847570174938199, 'subsample': 0.6193922572271496, 'learning_rate': 0.010855489197221749, 'max_depth': 22, 'min_child_weight': 274, 'eval_metric': 'logloss'}. Best is trial 48 with value: 0.813248267925949.\u001b[0m\n",
      "/home/tunguz/anaconda3/lib/python3.7/site-packages/xgboost/dask.py:884: RuntimeWarning: coroutine 'Client._wait_for_workers' was never awaited\n",
      "  client.wait_for_workers(n_workers)\n",
      "\u001b[32m[I 2022-11-23 13:11:11,252]\u001b[0m Trial 69 finished with value: 0.8102719586498954 and parameters: {'objective': 'binary:logistic', 'tree_method': 'gpu_hist', 'lambda': 3.400642760766503, 'alpha': 0.5475130844058738, 'colsample_bytree': 0.767031118216131, 'subsample': 0.8125203407202254, 'learning_rate': 0.025788428177703826, 'max_depth': 13, 'min_child_weight': 252, 'eval_metric': 'logloss'}. Best is trial 48 with value: 0.813248267925949.\u001b[0m\n",
      "/home/tunguz/anaconda3/lib/python3.7/site-packages/xgboost/dask.py:884: RuntimeWarning: coroutine 'Client._wait_for_workers' was never awaited\n",
      "  client.wait_for_workers(n_workers)\n",
      "\u001b[32m[I 2022-11-23 13:12:23,990]\u001b[0m Trial 70 finished with value: 0.8065389839281581 and parameters: {'objective': 'binary:logistic', 'tree_method': 'gpu_hist', 'lambda': 1.652438246776759, 'alpha': 0.0031651431542457395, 'colsample_bytree': 0.4130352087817762, 'subsample': 0.48990588798186846, 'learning_rate': 0.007467589529519536, 'max_depth': 21, 'min_child_weight': 265, 'eval_metric': 'logloss'}. Best is trial 48 with value: 0.813248267925949.\u001b[0m\n",
      "/home/tunguz/anaconda3/lib/python3.7/site-packages/xgboost/dask.py:884: RuntimeWarning: coroutine 'Client._wait_for_workers' was never awaited\n",
      "  client.wait_for_workers(n_workers)\n",
      "\u001b[32m[I 2022-11-23 13:18:55,019]\u001b[0m Trial 71 finished with value: 0.812642464329945 and parameters: {'objective': 'binary:logistic', 'tree_method': 'gpu_hist', 'lambda': 0.0015241111778039394, 'alpha': 0.06694463438894853, 'colsample_bytree': 0.8723368600962491, 'subsample': 0.515759583450996, 'learning_rate': 0.009345447896439485, 'max_depth': 25, 'min_child_weight': 289, 'eval_metric': 'logloss'}. Best is trial 48 with value: 0.813248267925949.\u001b[0m\n",
      "/home/tunguz/anaconda3/lib/python3.7/site-packages/xgboost/dask.py:884: RuntimeWarning: coroutine 'Client._wait_for_workers' was never awaited\n",
      "  client.wait_for_workers(n_workers)\n",
      "\u001b[32m[I 2022-11-23 13:22:25,817]\u001b[0m Trial 72 finished with value: 0.81294860691833 and parameters: {'objective': 'binary:logistic', 'tree_method': 'gpu_hist', 'lambda': 0.001783271807153277, 'alpha': 0.17999995148534645, 'colsample_bytree': 0.9125311868002959, 'subsample': 0.5015272270910315, 'learning_rate': 0.017436109322074494, 'max_depth': 24, 'min_child_weight': 280, 'eval_metric': 'logloss'}. Best is trial 48 with value: 0.813248267925949.\u001b[0m\n",
      "/home/tunguz/anaconda3/lib/python3.7/site-packages/xgboost/dask.py:884: RuntimeWarning: coroutine 'Client._wait_for_workers' was never awaited\n",
      "  client.wait_for_workers(n_workers)\n",
      "\u001b[32m[I 2022-11-23 13:25:55,102]\u001b[0m Trial 73 finished with value: 0.8122429706726652 and parameters: {'objective': 'binary:logistic', 'tree_method': 'gpu_hist', 'lambda': 0.001984209041938625, 'alpha': 0.09724131856289563, 'colsample_bytree': 0.9174333567429009, 'subsample': 0.4526166180706908, 'learning_rate': 0.01837930997007621, 'max_depth': 24, 'min_child_weight': 277, 'eval_metric': 'logloss'}. Best is trial 48 with value: 0.813248267925949.\u001b[0m\n",
      "/home/tunguz/anaconda3/lib/python3.7/site-packages/xgboost/dask.py:884: RuntimeWarning: coroutine 'Client._wait_for_workers' was never awaited\n",
      "  client.wait_for_workers(n_workers)\n",
      "\u001b[32m[I 2022-11-23 13:28:32,097]\u001b[0m Trial 74 finished with value: 0.812115825701537 and parameters: {'objective': 'binary:logistic', 'tree_method': 'gpu_hist', 'lambda': 0.015189375496319138, 'alpha': 0.16940853832015806, 'colsample_bytree': 0.9502336235757224, 'subsample': 0.544092744290444, 'learning_rate': 0.01601272868191103, 'max_depth': 23, 'min_child_weight': 136, 'eval_metric': 'logloss'}. Best is trial 48 with value: 0.813248267925949.\u001b[0m\n",
      "/home/tunguz/anaconda3/lib/python3.7/site-packages/xgboost/dask.py:884: RuntimeWarning: coroutine 'Client._wait_for_workers' was never awaited\n",
      "  client.wait_for_workers(n_workers)\n",
      "\u001b[32m[I 2022-11-23 13:28:47,255]\u001b[0m Trial 75 finished with value: 0.8095087953175821 and parameters: {'objective': 'binary:logistic', 'tree_method': 'gpu_hist', 'lambda': 0.0385398041489787, 'alpha': 0.001037713599175437, 'colsample_bytree': 0.9035224463143874, 'subsample': 0.9013377068754671, 'learning_rate': 0.012438557526934527, 'max_depth': 8, 'min_child_weight': 261, 'eval_metric': 'logloss'}. Best is trial 48 with value: 0.813248267925949.\u001b[0m\n",
      "/home/tunguz/anaconda3/lib/python3.7/site-packages/xgboost/dask.py:884: RuntimeWarning: coroutine 'Client._wait_for_workers' was never awaited\n",
      "  client.wait_for_workers(n_workers)\n",
      "\u001b[32m[I 2022-11-23 13:32:19,265]\u001b[0m Trial 76 finished with value: 0.8124214138905609 and parameters: {'objective': 'binary:logistic', 'tree_method': 'gpu_hist', 'lambda': 6.366118487255024, 'alpha': 0.029371411900860487, 'colsample_bytree': 0.9595280709478684, 'subsample': 0.4801242256653083, 'learning_rate': 0.021627688086680627, 'max_depth': 24, 'min_child_weight': 248, 'eval_metric': 'logloss'}. Best is trial 48 with value: 0.813248267925949.\u001b[0m\n",
      "/home/tunguz/anaconda3/lib/python3.7/site-packages/xgboost/dask.py:884: RuntimeWarning: coroutine 'Client._wait_for_workers' was never awaited\n",
      "  client.wait_for_workers(n_workers)\n",
      "\u001b[32m[I 2022-11-23 13:33:23,894]\u001b[0m Trial 77 finished with value: 0.8118933892637499 and parameters: {'objective': 'binary:logistic', 'tree_method': 'gpu_hist', 'lambda': 0.00395209365588705, 'alpha': 0.8207106758315276, 'colsample_bytree': 0.9268758714212768, 'subsample': 0.5719643761015811, 'learning_rate': 0.017980508411958213, 'max_depth': 21, 'min_child_weight': 282, 'eval_metric': 'logloss'}. Best is trial 48 with value: 0.813248267925949.\u001b[0m\n",
      "/home/tunguz/anaconda3/lib/python3.7/site-packages/xgboost/dask.py:884: RuntimeWarning: coroutine 'Client._wait_for_workers' was never awaited\n",
      "  client.wait_for_workers(n_workers)\n",
      "\u001b[32m[I 2022-11-23 13:34:43,606]\u001b[0m Trial 78 finished with value: 0.8118456946128297 and parameters: {'objective': 'binary:logistic', 'tree_method': 'gpu_hist', 'lambda': 0.001137107711314675, 'alpha': 0.3045809361866049, 'colsample_bytree': 0.9789325560975258, 'subsample': 0.49663772555258895, 'learning_rate': 0.02598779431242741, 'max_depth': 22, 'min_child_weight': 292, 'eval_metric': 'logloss'}. Best is trial 48 with value: 0.813248267925949.\u001b[0m\n",
      "/home/tunguz/anaconda3/lib/python3.7/site-packages/xgboost/dask.py:884: RuntimeWarning: coroutine 'Client._wait_for_workers' was never awaited\n",
      "  client.wait_for_workers(n_workers)\n",
      "\u001b[32m[I 2022-11-23 13:37:06,891]\u001b[0m Trial 79 finished with value: 0.8124809302925637 and parameters: {'objective': 'binary:logistic', 'tree_method': 'gpu_hist', 'lambda': 0.17010869895561653, 'alpha': 5.484423194154537, 'colsample_bytree': 0.8467948074113509, 'subsample': 0.5588919152232109, 'learning_rate': 0.01113411587811903, 'max_depth': 23, 'min_child_weight': 231, 'eval_metric': 'logloss'}. Best is trial 48 with value: 0.813248267925949.\u001b[0m\n",
      "/home/tunguz/anaconda3/lib/python3.7/site-packages/xgboost/dask.py:884: RuntimeWarning: coroutine 'Client._wait_for_workers' was never awaited\n",
      "  client.wait_for_workers(n_workers)\n",
      "\u001b[32m[I 2022-11-23 13:37:33,375]\u001b[0m Trial 80 finished with value: 0.8125375850155114 and parameters: {'objective': 'binary:logistic', 'tree_method': 'gpu_hist', 'lambda': 0.0026786147615463535, 'alpha': 0.3969644698636995, 'colsample_bytree': 0.8897593479445333, 'subsample': 0.529957197087659, 'learning_rate': 0.013701910712327568, 'max_depth': 12, 'min_child_weight': 272, 'eval_metric': 'logloss'}. Best is trial 48 with value: 0.813248267925949.\u001b[0m\n",
      "/home/tunguz/anaconda3/lib/python3.7/site-packages/xgboost/dask.py:884: RuntimeWarning: coroutine 'Client._wait_for_workers' was never awaited\n",
      "  client.wait_for_workers(n_workers)\n",
      "\u001b[32m[I 2022-11-23 13:44:02,761]\u001b[0m Trial 81 finished with value: 0.8123518775353986 and parameters: {'objective': 'binary:logistic', 'tree_method': 'gpu_hist', 'lambda': 0.0016059367754688901, 'alpha': 0.06486728140784112, 'colsample_bytree': 0.8240843795591665, 'subsample': 0.5084062939792529, 'learning_rate': 0.009502226039519307, 'max_depth': 25, 'min_child_weight': 289, 'eval_metric': 'logloss'}. Best is trial 48 with value: 0.813248267925949.\u001b[0m\n",
      "/home/tunguz/anaconda3/lib/python3.7/site-packages/xgboost/dask.py:884: RuntimeWarning: coroutine 'Client._wait_for_workers' was never awaited\n",
      "  client.wait_for_workers(n_workers)\n",
      "\u001b[32m[I 2022-11-23 13:50:28,482]\u001b[0m Trial 82 finished with value: 0.8077466124894566 and parameters: {'objective': 'binary:logistic', 'tree_method': 'gpu_hist', 'lambda': 0.0018923650348072968, 'alpha': 0.010624032521157725, 'colsample_bytree': 0.3229743954455416, 'subsample': 0.5067585946214989, 'learning_rate': 0.015263721943264169, 'max_depth': 25, 'min_child_weight': 284, 'eval_metric': 'logloss'}. Best is trial 48 with value: 0.813248267925949.\u001b[0m\n",
      "/home/tunguz/anaconda3/lib/python3.7/site-packages/xgboost/dask.py:884: RuntimeWarning: coroutine 'Client._wait_for_workers' was never awaited\n",
      "  client.wait_for_workers(n_workers)\n",
      "\u001b[32m[I 2022-11-23 13:51:16,528]\u001b[0m Trial 83 finished with value: 0.813125362479347 and parameters: {'objective': 'binary:logistic', 'tree_method': 'gpu_hist', 'lambda': 0.0012772252774040224, 'alpha': 0.20569933806961635, 'colsample_bytree': 0.8624404922982786, 'subsample': 0.43838884982781456, 'learning_rate': 0.019057000303575492, 'max_depth': 20, 'min_child_weight': 293, 'eval_metric': 'logloss'}. Best is trial 48 with value: 0.813248267925949.\u001b[0m\n",
      "/home/tunguz/anaconda3/lib/python3.7/site-packages/xgboost/dask.py:884: RuntimeWarning: coroutine 'Client._wait_for_workers' was never awaited\n",
      "  client.wait_for_workers(n_workers)\n",
      "\u001b[32m[I 2022-11-23 13:52:02,224]\u001b[0m Trial 84 finished with value: 0.8128668493184279 and parameters: {'objective': 'binary:logistic', 'tree_method': 'gpu_hist', 'lambda': 0.005840946494549245, 'alpha': 0.20619956923069555, 'colsample_bytree': 0.9995565522191574, 'subsample': 0.43436779367219824, 'learning_rate': 0.019100151568506134, 'max_depth': 20, 'min_child_weight': 300, 'eval_metric': 'logloss'}. Best is trial 48 with value: 0.813248267925949.\u001b[0m\n",
      "/home/tunguz/anaconda3/lib/python3.7/site-packages/xgboost/dask.py:884: RuntimeWarning: coroutine 'Client._wait_for_workers' was never awaited\n",
      "  client.wait_for_workers(n_workers)\n",
      "\u001b[32m[I 2022-11-23 13:52:46,871]\u001b[0m Trial 85 finished with value: 0.8113032474496976 and parameters: {'objective': 'binary:logistic', 'tree_method': 'gpu_hist', 'lambda': 0.0035707338937470295, 'alpha': 0.20316746412259382, 'colsample_bytree': 0.983025905170449, 'subsample': 0.437571892821315, 'learning_rate': 0.023870472369340087, 'max_depth': 20, 'min_child_weight': 300, 'eval_metric': 'logloss'}. Best is trial 48 with value: 0.813248267925949.\u001b[0m\n",
      "/home/tunguz/anaconda3/lib/python3.7/site-packages/xgboost/dask.py:884: RuntimeWarning: coroutine 'Client._wait_for_workers' was never awaited\n",
      "  client.wait_for_workers(n_workers)\n",
      "\u001b[32m[I 2022-11-23 13:53:35,137]\u001b[0m Trial 86 finished with value: 0.8125561084765185 and parameters: {'objective': 'binary:logistic', 'tree_method': 'gpu_hist', 'lambda': 0.0012602222818044653, 'alpha': 0.2901788336169469, 'colsample_bytree': 0.9968945837487888, 'subsample': 0.4686678982320524, 'learning_rate': 0.019366925010749936, 'max_depth': 20, 'min_child_weight': 282, 'eval_metric': 'logloss'}. Best is trial 48 with value: 0.813248267925949.\u001b[0m\n",
      "/home/tunguz/anaconda3/lib/python3.7/site-packages/xgboost/dask.py:884: RuntimeWarning: coroutine 'Client._wait_for_workers' was never awaited\n",
      "  client.wait_for_workers(n_workers)\n",
      "\u001b[32m[I 2022-11-23 13:55:04,369]\u001b[0m Trial 87 finished with value: 0.8126828376481258 and parameters: {'objective': 'binary:logistic', 'tree_method': 'gpu_hist', 'lambda': 0.005814615412102194, 'alpha': 0.1092054170532411, 'colsample_bytree': 0.9549661484195289, 'subsample': 0.5907844989373132, 'learning_rate': 0.012847056674607922, 'max_depth': 22, 'min_child_weight': 295, 'eval_metric': 'logloss'}. Best is trial 48 with value: 0.813248267925949.\u001b[0m\n",
      "/home/tunguz/anaconda3/lib/python3.7/site-packages/xgboost/dask.py:884: RuntimeWarning: coroutine 'Client._wait_for_workers' was never awaited\n",
      "  client.wait_for_workers(n_workers)\n",
      "\u001b[32m[I 2022-11-23 14:02:20,133]\u001b[0m Trial 88 finished with value: 0.8086520689401475 and parameters: {'objective': 'binary:logistic', 'tree_method': 'gpu_hist', 'lambda': 0.005112058799831906, 'alpha': 0.19612827375324274, 'colsample_bytree': 0.9289278675702953, 'subsample': 0.4175076972952474, 'learning_rate': 0.016245129438233412, 'max_depth': 21, 'min_child_weight': 3, 'eval_metric': 'logloss'}. Best is trial 48 with value: 0.813248267925949.\u001b[0m\n",
      "/home/tunguz/anaconda3/lib/python3.7/site-packages/xgboost/dask.py:884: RuntimeWarning: coroutine 'Client._wait_for_workers' was never awaited\n",
      "  client.wait_for_workers(n_workers)\n",
      "\u001b[32m[I 2022-11-23 14:03:02,822]\u001b[0m Trial 89 finished with value: 0.8112474813963142 and parameters: {'objective': 'binary:logistic', 'tree_method': 'gpu_hist', 'lambda': 0.002591507525744588, 'alpha': 0.08803340664757114, 'colsample_bytree': 0.5162418700406596, 'subsample': 0.4772626926617248, 'learning_rate': 0.02134636651231395, 'max_depth': 19, 'min_child_weight': 267, 'eval_metric': 'logloss'}. Best is trial 48 with value: 0.813248267925949.\u001b[0m\n",
      "/home/tunguz/anaconda3/lib/python3.7/site-packages/xgboost/dask.py:884: RuntimeWarning: coroutine 'Client._wait_for_workers' was never awaited\n",
      "  client.wait_for_workers(n_workers)\n",
      "\u001b[32m[I 2022-11-23 14:05:01,231]\u001b[0m Trial 90 finished with value: 0.809914591191129 and parameters: {'objective': 'binary:logistic', 'tree_method': 'gpu_hist', 'lambda': 0.008785057762253447, 'alpha': 0.1579973313038518, 'colsample_bytree': 0.9424589313683138, 'subsample': 0.40009682648011147, 'learning_rate': 0.028112109911779273, 'max_depth': 23, 'min_child_weight': 292, 'eval_metric': 'logloss'}. Best is trial 48 with value: 0.813248267925949.\u001b[0m\n",
      "/home/tunguz/anaconda3/lib/python3.7/site-packages/xgboost/dask.py:884: RuntimeWarning: coroutine 'Client._wait_for_workers' was never awaited\n",
      "  client.wait_for_workers(n_workers)\n",
      "\u001b[32m[I 2022-11-23 14:06:01,680]\u001b[0m Trial 91 finished with value: 0.8124696466349786 and parameters: {'objective': 'binary:logistic', 'tree_method': 'gpu_hist', 'lambda': 0.0030039845201769145, 'alpha': 2.083313740096621, 'colsample_bytree': 0.9794624782091191, 'subsample': 0.4555241635372007, 'learning_rate': 0.01869413257904077, 'max_depth': 21, 'min_child_weight': 278, 'eval_metric': 'logloss'}. Best is trial 48 with value: 0.813248267925949.\u001b[0m\n",
      "/home/tunguz/anaconda3/lib/python3.7/site-packages/xgboost/dask.py:884: RuntimeWarning: coroutine 'Client._wait_for_workers' was never awaited\n",
      "  client.wait_for_workers(n_workers)\n",
      "\u001b[32m[I 2022-11-23 14:06:27,258]\u001b[0m Trial 92 finished with value: 0.8111586307457623 and parameters: {'objective': 'binary:logistic', 'tree_method': 'gpu_hist', 'lambda': 1.8882009134302606, 'alpha': 0.14702001328120617, 'colsample_bytree': 0.9102014069752458, 'subsample': 0.44036591787840557, 'learning_rate': 0.03316436813560362, 'max_depth': 13, 'min_child_weight': 259, 'eval_metric': 'logloss'}. Best is trial 48 with value: 0.813248267925949.\u001b[0m\n",
      "/home/tunguz/anaconda3/lib/python3.7/site-packages/xgboost/dask.py:884: RuntimeWarning: coroutine 'Client._wait_for_workers' was never awaited\n",
      "  client.wait_for_workers(n_workers)\n",
      "\u001b[32m[I 2022-11-23 14:06:48,786]\u001b[0m Trial 93 finished with value: 0.8117524250732524 and parameters: {'objective': 'binary:logistic', 'tree_method': 'gpu_hist', 'lambda': 0.001306363219217508, 'alpha': 0.23546585813828858, 'colsample_bytree': 0.959495754294059, 'subsample': 0.4555366071657534, 'learning_rate': 0.014537160377467186, 'max_depth': 10, 'min_child_weight': 171, 'eval_metric': 'logloss'}. Best is trial 48 with value: 0.813248267925949.\u001b[0m\n",
      "/home/tunguz/anaconda3/lib/python3.7/site-packages/xgboost/dask.py:884: RuntimeWarning: coroutine 'Client._wait_for_workers' was never awaited\n",
      "  client.wait_for_workers(n_workers)\n",
      "\u001b[32m[I 2022-11-23 14:08:10,316]\u001b[0m Trial 94 finished with value: 0.8121416134247609 and parameters: {'objective': 'binary:logistic', 'tree_method': 'gpu_hist', 'lambda': 0.0020336597829165443, 'alpha': 0.03739609815996084, 'colsample_bytree': 0.6227021672501425, 'subsample': 0.42724936506925604, 'learning_rate': 0.017227819544544044, 'max_depth': 22, 'min_child_weight': 270, 'eval_metric': 'logloss'}. Best is trial 48 with value: 0.813248267925949.\u001b[0m\n",
      "/home/tunguz/anaconda3/lib/python3.7/site-packages/xgboost/dask.py:884: RuntimeWarning: coroutine 'Client._wait_for_workers' was never awaited\n",
      "  client.wait_for_workers(n_workers)\n",
      "\u001b[32m[I 2022-11-23 14:09:04,879]\u001b[0m Trial 95 finished with value: 0.81254389538471 and parameters: {'objective': 'binary:logistic', 'tree_method': 'gpu_hist', 'lambda': 3.8448820294909827, 'alpha': 0.005434320779478585, 'colsample_bytree': 0.9874505317690606, 'subsample': 0.5479483401402708, 'learning_rate': 0.011626822122686526, 'max_depth': 20, 'min_child_weight': 300, 'eval_metric': 'logloss'}. Best is trial 48 with value: 0.813248267925949.\u001b[0m\n",
      "/home/tunguz/anaconda3/lib/python3.7/site-packages/xgboost/dask.py:884: RuntimeWarning: coroutine 'Client._wait_for_workers' was never awaited\n",
      "  client.wait_for_workers(n_workers)\n",
      "\u001b[32m[I 2022-11-23 14:12:34,231]\u001b[0m Trial 96 finished with value: 0.811729596864265 and parameters: {'objective': 'binary:logistic', 'tree_method': 'gpu_hist', 'lambda': 3.122683433148362, 'alpha': 0.4985838023929079, 'colsample_bytree': 0.9289600868650197, 'subsample': 0.4902057657188504, 'learning_rate': 0.023036698998595666, 'max_depth': 24, 'min_child_weight': 293, 'eval_metric': 'logloss'}. Best is trial 48 with value: 0.813248267925949.\u001b[0m\n",
      "/home/tunguz/anaconda3/lib/python3.7/site-packages/xgboost/dask.py:884: RuntimeWarning: coroutine 'Client._wait_for_workers' was never awaited\n",
      "  client.wait_for_workers(n_workers)\n",
      "\u001b[32m[I 2022-11-23 14:16:04,268]\u001b[0m Trial 97 finished with value: 0.8123908974669036 and parameters: {'objective': 'binary:logistic', 'tree_method': 'gpu_hist', 'lambda': 0.0017695555856653263, 'alpha': 0.10886039106218162, 'colsample_bytree': 0.9988464097911921, 'subsample': 0.5248848323721031, 'learning_rate': 0.01949152432090972, 'max_depth': 24, 'min_child_weight': 283, 'eval_metric': 'logloss'}. Best is trial 48 with value: 0.813248267925949.\u001b[0m\n",
      "/home/tunguz/anaconda3/lib/python3.7/site-packages/xgboost/dask.py:884: RuntimeWarning: coroutine 'Client._wait_for_workers' was never awaited\n",
      "  client.wait_for_workers(n_workers)\n",
      "\u001b[32m[I 2022-11-23 14:18:12,728]\u001b[0m Trial 98 finished with value: 0.8128905009735253 and parameters: {'objective': 'binary:logistic', 'tree_method': 'gpu_hist', 'lambda': 0.025973207477319526, 'alpha': 0.7067511508958446, 'colsample_bytree': 0.968553028851334, 'subsample': 0.41779858285756977, 'learning_rate': 0.01375237753145308, 'max_depth': 23, 'min_child_weight': 251, 'eval_metric': 'logloss'}. Best is trial 48 with value: 0.813248267925949.\u001b[0m\n",
      "/home/tunguz/anaconda3/lib/python3.7/site-packages/xgboost/dask.py:884: RuntimeWarning: coroutine 'Client._wait_for_workers' was never awaited\n",
      "  client.wait_for_workers(n_workers)\n",
      "\u001b[32m[I 2022-11-23 14:20:16,220]\u001b[0m Trial 99 finished with value: 0.8128432384279896 and parameters: {'objective': 'binary:logistic', 'tree_method': 'gpu_hist', 'lambda': 0.04633367423187122, 'alpha': 1.1683208093072535, 'colsample_bytree': 0.9499551551601859, 'subsample': 0.4145917326780279, 'learning_rate': 0.01347862233530682, 'max_depth': 23, 'min_child_weight': 287, 'eval_metric': 'logloss'}. Best is trial 48 with value: 0.813248267925949.\u001b[0m\n",
      "/home/tunguz/anaconda3/lib/python3.7/site-packages/xgboost/dask.py:884: RuntimeWarning: coroutine 'Client._wait_for_workers' was never awaited\n",
      "  client.wait_for_workers(n_workers)\n",
      "\u001b[32m[I 2022-11-23 14:20:24,112]\u001b[0m Trial 100 finished with value: 0.8023156022068486 and parameters: {'objective': 'binary:logistic', 'tree_method': 'gpu_hist', 'lambda': 0.028164949413906445, 'alpha': 1.2887128671252757, 'colsample_bytree': 0.9748565189863728, 'subsample': 0.4126615566028961, 'learning_rate': 0.013430311532936072, 'max_depth': 5, 'min_child_weight': 239, 'eval_metric': 'logloss'}. Best is trial 48 with value: 0.813248267925949.\u001b[0m\n",
      "/home/tunguz/anaconda3/lib/python3.7/site-packages/xgboost/dask.py:884: RuntimeWarning: coroutine 'Client._wait_for_workers' was never awaited\n",
      "  client.wait_for_workers(n_workers)\n",
      "\u001b[32m[I 2022-11-23 14:22:36,384]\u001b[0m Trial 101 finished with value: 0.8130830732221979 and parameters: {'objective': 'binary:logistic', 'tree_method': 'gpu_hist', 'lambda': 0.05614611278936516, 'alpha': 0.6709366947506058, 'colsample_bytree': 0.9621322770937977, 'subsample': 0.5674141182304524, 'learning_rate': 0.014893036794802642, 'max_depth': 23, 'min_child_weight': 286, 'eval_metric': 'logloss'}. Best is trial 48 with value: 0.813248267925949.\u001b[0m\n",
      "/home/tunguz/anaconda3/lib/python3.7/site-packages/xgboost/dask.py:884: RuntimeWarning: coroutine 'Client._wait_for_workers' was never awaited\n",
      "  client.wait_for_workers(n_workers)\n",
      "\u001b[32m[I 2022-11-23 14:24:42,054]\u001b[0m Trial 102 finished with value: 0.8127441558480524 and parameters: {'objective': 'binary:logistic', 'tree_method': 'gpu_hist', 'lambda': 0.05727488581359023, 'alpha': 1.015832549871996, 'colsample_bytree': 0.9635129906448149, 'subsample': 0.4258067204692076, 'learning_rate': 0.01047702619358977, 'max_depth': 23, 'min_child_weight': 278, 'eval_metric': 'logloss'}. Best is trial 48 with value: 0.813248267925949.\u001b[0m\n",
      "/home/tunguz/anaconda3/lib/python3.7/site-packages/xgboost/dask.py:884: RuntimeWarning: coroutine 'Client._wait_for_workers' was never awaited\n",
      "  client.wait_for_workers(n_workers)\n",
      "\u001b[32m[I 2022-11-23 14:26:55,945]\u001b[0m Trial 103 finished with value: 0.8112605423930276 and parameters: {'objective': 'binary:logistic', 'tree_method': 'gpu_hist', 'lambda': 0.05152651306400037, 'alpha': 0.6604961416124125, 'colsample_bytree': 0.9485226875533792, 'subsample': 0.5702081631036819, 'learning_rate': 0.0123527562653632, 'max_depth': 22, 'min_child_weight': 116, 'eval_metric': 'logloss'}. Best is trial 48 with value: 0.813248267925949.\u001b[0m\n",
      "/home/tunguz/anaconda3/lib/python3.7/site-packages/xgboost/dask.py:884: RuntimeWarning: coroutine 'Client._wait_for_workers' was never awaited\n",
      "  client.wait_for_workers(n_workers)\n",
      "\u001b[32m[I 2022-11-23 14:29:03,177]\u001b[0m Trial 104 finished with value: 0.8135765131123929 and parameters: {'objective': 'binary:logistic', 'tree_method': 'gpu_hist', 'lambda': 0.08137298051829323, 'alpha': 1.3286776084220442, 'colsample_bytree': 0.9664056039997946, 'subsample': 0.4317835799850385, 'learning_rate': 0.014446323746602898, 'max_depth': 23, 'min_child_weight': 254, 'eval_metric': 'logloss'}. Best is trial 104 with value: 0.8135765131123929.\u001b[0m\n",
      "/home/tunguz/anaconda3/lib/python3.7/site-packages/xgboost/dask.py:884: RuntimeWarning: coroutine 'Client._wait_for_workers' was never awaited\n",
      "  client.wait_for_workers(n_workers)\n",
      "\u001b[32m[I 2022-11-23 14:30:13,776]\u001b[0m Trial 105 finished with value: 0.8123553017667468 and parameters: {'objective': 'binary:logistic', 'tree_method': 'gpu_hist', 'lambda': 0.09914491665776863, 'alpha': 0.7145612657499654, 'colsample_bytree': 0.9684937874436036, 'subsample': 0.6535729589294479, 'learning_rate': 0.016687824681870637, 'max_depth': 21, 'min_child_weight': 271, 'eval_metric': 'logloss'}. Best is trial 104 with value: 0.8135765131123929.\u001b[0m\n",
      "/home/tunguz/anaconda3/lib/python3.7/site-packages/xgboost/dask.py:884: RuntimeWarning: coroutine 'Client._wait_for_workers' was never awaited\n",
      "  client.wait_for_workers(n_workers)\n",
      "\u001b[32m[I 2022-11-23 14:32:33,012]\u001b[0m Trial 106 finished with value: 0.8124936570190742 and parameters: {'objective': 'binary:logistic', 'tree_method': 'gpu_hist', 'lambda': 0.022231363544271174, 'alpha': 2.1596831775399745, 'colsample_bytree': 0.9151151057070523, 'subsample': 0.6052328595302165, 'learning_rate': 0.014470688689442563, 'max_depth': 23, 'min_child_weight': 253, 'eval_metric': 'logloss'}. Best is trial 104 with value: 0.8135765131123929.\u001b[0m\n",
      "/home/tunguz/anaconda3/lib/python3.7/site-packages/xgboost/dask.py:884: RuntimeWarning: coroutine 'Client._wait_for_workers' was never awaited\n",
      "  client.wait_for_workers(n_workers)\n",
      "\u001b[32m[I 2022-11-23 14:34:05,324]\u001b[0m Trial 107 finished with value: 0.8129472779904496 and parameters: {'objective': 'binary:logistic', 'tree_method': 'gpu_hist', 'lambda': 0.08469174630531268, 'alpha': 0.4231303310510188, 'colsample_bytree': 0.9851993071031705, 'subsample': 0.5394287410903513, 'learning_rate': 0.010575803012319264, 'max_depth': 22, 'min_child_weight': 264, 'eval_metric': 'logloss'}. Best is trial 104 with value: 0.8135765131123929.\u001b[0m\n",
      "/home/tunguz/anaconda3/lib/python3.7/site-packages/xgboost/dask.py:884: RuntimeWarning: coroutine 'Client._wait_for_workers' was never awaited\n",
      "  client.wait_for_workers(n_workers)\n",
      "\u001b[32m[I 2022-11-23 14:35:37,719]\u001b[0m Trial 108 finished with value: 0.812616790747766 and parameters: {'objective': 'binary:logistic', 'tree_method': 'gpu_hist', 'lambda': 0.08530904836766298, 'alpha': 0.8615815156408373, 'colsample_bytree': 0.8908154184975026, 'subsample': 0.5365473155864863, 'learning_rate': 0.011322518324039724, 'max_depth': 22, 'min_child_weight': 261, 'eval_metric': 'logloss'}. Best is trial 104 with value: 0.8135765131123929.\u001b[0m\n",
      "/home/tunguz/anaconda3/lib/python3.7/site-packages/xgboost/dask.py:884: RuntimeWarning: coroutine 'Client._wait_for_workers' was never awaited\n",
      "  client.wait_for_workers(n_workers)\n",
      "\u001b[32m[I 2022-11-23 14:38:07,541]\u001b[0m Trial 109 finished with value: 0.8107517097676298 and parameters: {'objective': 'binary:logistic', 'tree_method': 'gpu_hist', 'lambda': 0.1412902017176378, 'alpha': 0.41455274271577985, 'colsample_bytree': 0.9841319092390802, 'subsample': 0.5948610196279713, 'learning_rate': 0.0062420310972056145, 'max_depth': 23, 'min_child_weight': 250, 'eval_metric': 'logloss'}. Best is trial 104 with value: 0.8135765131123929.\u001b[0m\n",
      "/home/tunguz/anaconda3/lib/python3.7/site-packages/xgboost/dask.py:884: RuntimeWarning: coroutine 'Client._wait_for_workers' was never awaited\n",
      "  client.wait_for_workers(n_workers)\n",
      "\u001b[32m[I 2022-11-23 14:39:43,885]\u001b[0m Trial 110 finished with value: 0.8119015748072581 and parameters: {'objective': 'binary:logistic', 'tree_method': 'gpu_hist', 'lambda': 0.06662108799882357, 'alpha': 0.34237433869204037, 'colsample_bytree': 0.9357447582252868, 'subsample': 0.56620987910133, 'learning_rate': 0.008548892998397905, 'max_depth': 22, 'min_child_weight': 264, 'eval_metric': 'logloss'}. Best is trial 104 with value: 0.8135765131123929.\u001b[0m\n",
      "/home/tunguz/anaconda3/lib/python3.7/site-packages/xgboost/dask.py:884: RuntimeWarning: coroutine 'Client._wait_for_workers' was never awaited\n",
      "  client.wait_for_workers(n_workers)\n",
      "\u001b[32m[I 2022-11-23 14:40:33,269]\u001b[0m Trial 111 finished with value: 0.8129405762805255 and parameters: {'objective': 'binary:logistic', 'tree_method': 'gpu_hist', 'lambda': 0.19336745603697084, 'alpha': 0.23489639378095237, 'colsample_bytree': 0.9994219788608523, 'subsample': 0.5527701735001097, 'learning_rate': 0.010326377261612977, 'max_depth': 19, 'min_child_weight': 293, 'eval_metric': 'logloss'}. Best is trial 104 with value: 0.8135765131123929.\u001b[0m\n",
      "/home/tunguz/anaconda3/lib/python3.7/site-packages/xgboost/dask.py:884: RuntimeWarning: coroutine 'Client._wait_for_workers' was never awaited\n",
      "  client.wait_for_workers(n_workers)\n",
      "\u001b[32m[I 2022-11-23 14:41:43,542]\u001b[0m Trial 112 finished with value: 0.8125823201521951 and parameters: {'objective': 'binary:logistic', 'tree_method': 'gpu_hist', 'lambda': 0.07212429675781737, 'alpha': 0.238772590195651, 'colsample_bytree': 0.9716443410380492, 'subsample': 0.5515588640340665, 'learning_rate': 0.010085996383223557, 'max_depth': 21, 'min_child_weight': 294, 'eval_metric': 'logloss'}. Best is trial 104 with value: 0.8135765131123929.\u001b[0m\n",
      "/home/tunguz/anaconda3/lib/python3.7/site-packages/xgboost/dask.py:884: RuntimeWarning: coroutine 'Client._wait_for_workers' was never awaited\n",
      "  client.wait_for_workers(n_workers)\n",
      "\u001b[32m[I 2022-11-23 14:45:19,349]\u001b[0m Trial 113 finished with value: 0.8130913076832968 and parameters: {'objective': 'binary:logistic', 'tree_method': 'gpu_hist', 'lambda': 0.17088884697298343, 'alpha': 1.4304535813565873, 'colsample_bytree': 0.9599976354642156, 'subsample': 0.5415047243899762, 'learning_rate': 0.012012265179276097, 'max_depth': 24, 'min_child_weight': 277, 'eval_metric': 'logloss'}. Best is trial 104 with value: 0.8135765131123929.\u001b[0m\n",
      "/home/tunguz/anaconda3/lib/python3.7/site-packages/xgboost/dask.py:884: RuntimeWarning: coroutine 'Client._wait_for_workers' was never awaited\n",
      "  client.wait_for_workers(n_workers)\n",
      "\u001b[32m[I 2022-11-23 14:46:13,832]\u001b[0m Trial 114 finished with value: 0.8115293771655818 and parameters: {'objective': 'binary:logistic', 'tree_method': 'gpu_hist', 'lambda': 0.1968036329757108, 'alpha': 0.4852113362965609, 'colsample_bytree': 0.9839168054583104, 'subsample': 0.5404234976156221, 'learning_rate': 0.007482992808857177, 'max_depth': 19, 'min_child_weight': 277, 'eval_metric': 'logloss'}. Best is trial 104 with value: 0.8135765131123929.\u001b[0m\n",
      "/home/tunguz/anaconda3/lib/python3.7/site-packages/xgboost/dask.py:884: RuntimeWarning: coroutine 'Client._wait_for_workers' was never awaited\n",
      "  client.wait_for_workers(n_workers)\n",
      "\u001b[32m[I 2022-11-23 14:49:55,925]\u001b[0m Trial 115 finished with value: 0.8115530614324062 and parameters: {'objective': 'binary:logistic', 'tree_method': 'gpu_hist', 'lambda': 0.3037168444073412, 'alpha': 1.5271639669302486, 'colsample_bytree': 0.5468273317732336, 'subsample': 0.5787434297623653, 'learning_rate': 0.01196065550052025, 'max_depth': 24, 'min_child_weight': 272, 'eval_metric': 'logloss'}. Best is trial 104 with value: 0.8135765131123929.\u001b[0m\n",
      "/home/tunguz/anaconda3/lib/python3.7/site-packages/xgboost/dask.py:884: RuntimeWarning: coroutine 'Client._wait_for_workers' was never awaited\n",
      "  client.wait_for_workers(n_workers)\n",
      "\u001b[32m[I 2022-11-23 14:56:35,241]\u001b[0m Trial 116 finished with value: 0.8104974279783052 and parameters: {'objective': 'binary:logistic', 'tree_method': 'gpu_hist', 'lambda': 0.11544039861850505, 'alpha': 0.18170251789947844, 'colsample_bytree': 0.48745358247999837, 'subsample': 0.6266845015299677, 'learning_rate': 0.010322648067940528, 'max_depth': 25, 'min_child_weight': 283, 'eval_metric': 'logloss'}. Best is trial 104 with value: 0.8135765131123929.\u001b[0m\n",
      "/home/tunguz/anaconda3/lib/python3.7/site-packages/xgboost/dask.py:884: RuntimeWarning: coroutine 'Client._wait_for_workers' was never awaited\n",
      "  client.wait_for_workers(n_workers)\n",
      "\u001b[32m[I 2022-11-23 14:58:06,028]\u001b[0m Trial 117 finished with value: 0.8124641678648215 and parameters: {'objective': 'binary:logistic', 'tree_method': 'gpu_hist', 'lambda': 0.16087540458390484, 'alpha': 0.269893703308709, 'colsample_bytree': 0.9581691698781751, 'subsample': 0.6141003120041715, 'learning_rate': 0.015840440488880524, 'max_depth': 22, 'min_child_weight': 287, 'eval_metric': 'logloss'}. Best is trial 104 with value: 0.8135765131123929.\u001b[0m\n",
      "/home/tunguz/anaconda3/lib/python3.7/site-packages/xgboost/dask.py:884: RuntimeWarning: coroutine 'Client._wait_for_workers' was never awaited\n",
      "  client.wait_for_workers(n_workers)\n",
      "\u001b[32m[I 2022-11-23 15:01:43,926]\u001b[0m Trial 118 finished with value: 0.8122496723825894 and parameters: {'objective': 'binary:logistic', 'tree_method': 'gpu_hist', 'lambda': 0.9782661261912751, 'alpha': 0.3405061695373081, 'colsample_bytree': 0.9195696223999718, 'subsample': 0.5561929403825538, 'learning_rate': 0.00885048590504497, 'max_depth': 24, 'min_child_weight': 293, 'eval_metric': 'logloss'}. Best is trial 104 with value: 0.8135765131123929.\u001b[0m\n",
      "/home/tunguz/anaconda3/lib/python3.7/site-packages/xgboost/dask.py:884: RuntimeWarning: coroutine 'Client._wait_for_workers' was never awaited\n",
      "  client.wait_for_workers(n_workers)\n",
      "\u001b[32m[I 2022-11-23 15:03:55,338]\u001b[0m Trial 119 finished with value: 0.8125733763860311 and parameters: {'objective': 'binary:logistic', 'tree_method': 'gpu_hist', 'lambda': 0.3005636252299858, 'alpha': 1.945676639282109, 'colsample_bytree': 0.9416512933380681, 'subsample': 0.5203058075367635, 'learning_rate': 0.014772415046077209, 'max_depth': 23, 'min_child_weight': 278, 'eval_metric': 'logloss'}. Best is trial 104 with value: 0.8135765131123929.\u001b[0m\n",
      "/home/tunguz/anaconda3/lib/python3.7/site-packages/xgboost/dask.py:884: RuntimeWarning: coroutine 'Client._wait_for_workers' was never awaited\n",
      "  client.wait_for_workers(n_workers)\n",
      "\u001b[32m[I 2022-11-23 15:05:06,267]\u001b[0m Trial 120 finished with value: 0.8124262322732434 and parameters: {'objective': 'binary:logistic', 'tree_method': 'gpu_hist', 'lambda': 0.19088183225266045, 'alpha': 0.9410601465901459, 'colsample_bytree': 0.9992211402637382, 'subsample': 0.5631626822057845, 'learning_rate': 0.010931367530150558, 'max_depth': 21, 'min_child_weight': 271, 'eval_metric': 'logloss'}. Best is trial 104 with value: 0.8135765131123929.\u001b[0m\n",
      "/home/tunguz/anaconda3/lib/python3.7/site-packages/xgboost/dask.py:884: RuntimeWarning: coroutine 'Client._wait_for_workers' was never awaited\n",
      "  client.wait_for_workers(n_workers)\n",
      "\u001b[32m[I 2022-11-23 15:07:24,151]\u001b[0m Trial 121 finished with value: 0.8131131086228798 and parameters: {'objective': 'binary:logistic', 'tree_method': 'gpu_hist', 'lambda': 0.040420462733000255, 'alpha': 0.7121315957661286, 'colsample_bytree': 0.9682630465493086, 'subsample': 0.5804988341268562, 'learning_rate': 0.01291276386915195, 'max_depth': 23, 'min_child_weight': 257, 'eval_metric': 'logloss'}. Best is trial 104 with value: 0.8135765131123929.\u001b[0m\n",
      "/home/tunguz/anaconda3/lib/python3.7/site-packages/xgboost/dask.py:884: RuntimeWarning: coroutine 'Client._wait_for_workers' was never awaited\n",
      "  client.wait_for_workers(n_workers)\n",
      "\u001b[32m[I 2022-11-23 15:11:04,314]\u001b[0m Trial 122 finished with value: 0.8124822755263077 and parameters: {'objective': 'binary:logistic', 'tree_method': 'gpu_hist', 'lambda': 0.11424584259437179, 'alpha': 0.5949202476546117, 'colsample_bytree': 0.985502809901053, 'subsample': 0.5814958147656736, 'learning_rate': 0.01269502210192745, 'max_depth': 24, 'min_child_weight': 258, 'eval_metric': 'logloss'}. Best is trial 104 with value: 0.8135765131123929.\u001b[0m\n",
      "/home/tunguz/anaconda3/lib/python3.7/site-packages/xgboost/dask.py:884: RuntimeWarning: coroutine 'Client._wait_for_workers' was never awaited\n",
      "  client.wait_for_workers(n_workers)\n",
      "\u001b[32m[I 2022-11-23 15:12:33,321]\u001b[0m Trial 123 finished with value: 0.8127841459784392 and parameters: {'objective': 'binary:logistic', 'tree_method': 'gpu_hist', 'lambda': 0.08673938565170437, 'alpha': 0.0747009838034789, 'colsample_bytree': 0.9562474242454038, 'subsample': 0.5384137059525097, 'learning_rate': 0.017412969206239845, 'max_depth': 22, 'min_child_weight': 264, 'eval_metric': 'logloss'}. Best is trial 104 with value: 0.8135765131123929.\u001b[0m\n",
      "/home/tunguz/anaconda3/lib/python3.7/site-packages/xgboost/dask.py:884: RuntimeWarning: coroutine 'Client._wait_for_workers' was never awaited\n",
      "  client.wait_for_workers(n_workers)\n",
      "\u001b[32m[I 2022-11-23 15:14:47,584]\u001b[0m Trial 124 finished with value: 0.8128437846744188 and parameters: {'objective': 'binary:logistic', 'tree_method': 'gpu_hist', 'lambda': 0.03819664840488387, 'alpha': 0.12942736704497204, 'colsample_bytree': 0.9706182925191675, 'subsample': 0.6003461892253918, 'learning_rate': 0.011678632432841382, 'max_depth': 23, 'min_child_weight': 286, 'eval_metric': 'logloss'}. Best is trial 104 with value: 0.8135765131123929.\u001b[0m\n",
      "/home/tunguz/anaconda3/lib/python3.7/site-packages/xgboost/dask.py:884: RuntimeWarning: coroutine 'Client._wait_for_workers' was never awaited\n",
      "  client.wait_for_workers(n_workers)\n",
      "\u001b[32m[I 2022-11-23 15:21:15,153]\u001b[0m Trial 125 finished with value: 0.8127414653805645 and parameters: {'objective': 'binary:logistic', 'tree_method': 'gpu_hist', 'lambda': 0.07477645888589109, 'alpha': 1.2340608121985064, 'colsample_bytree': 0.9242652063937327, 'subsample': 0.5125344745990563, 'learning_rate': 0.012931672682954642, 'max_depth': 25, 'min_child_weight': 294, 'eval_metric': 'logloss'}. Best is trial 104 with value: 0.8135765131123929.\u001b[0m\n",
      "/home/tunguz/anaconda3/lib/python3.7/site-packages/xgboost/dask.py:884: RuntimeWarning: coroutine 'Client._wait_for_workers' was never awaited\n",
      "  client.wait_for_workers(n_workers)\n",
      "\u001b[32m[I 2022-11-23 15:22:02,246]\u001b[0m Trial 126 finished with value: 0.8117012165087345 and parameters: {'objective': 'binary:logistic', 'tree_method': 'gpu_hist', 'lambda': 0.3731358768721222, 'alpha': 1.7436193953389387, 'colsample_bytree': 0.9041601940208454, 'subsample': 0.5018251560809861, 'learning_rate': 0.007881756108226355, 'max_depth': 18, 'min_child_weight': 281, 'eval_metric': 'logloss'}. Best is trial 104 with value: 0.8135765131123929.\u001b[0m\n",
      "/home/tunguz/anaconda3/lib/python3.7/site-packages/xgboost/dask.py:884: RuntimeWarning: coroutine 'Client._wait_for_workers' was never awaited\n",
      "  client.wait_for_workers(n_workers)\n",
      "\u001b[32m[I 2022-11-23 15:25:55,499]\u001b[0m Trial 127 finished with value: 0.7982930271953106 and parameters: {'objective': 'binary:logistic', 'tree_method': 'gpu_hist', 'lambda': 0.1311469338935373, 'alpha': 3.157765077723612, 'colsample_bytree': 0.9862298495152803, 'subsample': 0.5544454079711928, 'learning_rate': 0.0018708993591714039, 'max_depth': 24, 'min_child_weight': 275, 'eval_metric': 'logloss'}. Best is trial 104 with value: 0.8135765131123929.\u001b[0m\n",
      "/home/tunguz/anaconda3/lib/python3.7/site-packages/xgboost/dask.py:884: RuntimeWarning: coroutine 'Client._wait_for_workers' was never awaited\n",
      "  client.wait_for_workers(n_workers)\n",
      "\u001b[32m[I 2022-11-23 15:27:28,933]\u001b[0m Trial 128 finished with value: 0.8131162719604108 and parameters: {'objective': 'binary:logistic', 'tree_method': 'gpu_hist', 'lambda': 0.48280237512018714, 'alpha': 0.3965304563761821, 'colsample_bytree': 0.9481296688547929, 'subsample': 0.5309917520992237, 'learning_rate': 0.015209270697402, 'max_depth': 22, 'min_child_weight': 238, 'eval_metric': 'logloss'}. Best is trial 104 with value: 0.8135765131123929.\u001b[0m\n",
      "/home/tunguz/anaconda3/lib/python3.7/site-packages/xgboost/dask.py:884: RuntimeWarning: coroutine 'Client._wait_for_workers' was never awaited\n",
      "  client.wait_for_workers(n_workers)\n",
      "\u001b[32m[I 2022-11-23 15:29:03,393]\u001b[0m Trial 129 finished with value: 0.8125446862190929 and parameters: {'objective': 'binary:logistic', 'tree_method': 'gpu_hist', 'lambda': 0.2302047097956118, 'alpha': 0.4513172263422552, 'colsample_bytree': 0.9457775270346315, 'subsample': 0.5731339838718228, 'learning_rate': 0.014416284397069316, 'max_depth': 22, 'min_child_weight': 237, 'eval_metric': 'logloss'}. Best is trial 104 with value: 0.8135765131123929.\u001b[0m\n",
      "/home/tunguz/anaconda3/lib/python3.7/site-packages/xgboost/dask.py:884: RuntimeWarning: coroutine 'Client._wait_for_workers' was never awaited\n",
      "  client.wait_for_workers(n_workers)\n",
      "\u001b[32m[I 2022-11-23 15:30:05,545]\u001b[0m Trial 130 finished with value: 0.8126732824120781 and parameters: {'objective': 'binary:logistic', 'tree_method': 'gpu_hist', 'lambda': 0.5307703415761996, 'alpha': 0.007615007056984703, 'colsample_bytree': 0.9330332419085016, 'subsample': 0.590057450288637, 'learning_rate': 0.010543767987729068, 'max_depth': 20, 'min_child_weight': 257, 'eval_metric': 'logloss'}. Best is trial 104 with value: 0.8135765131123929.\u001b[0m\n",
      "/home/tunguz/anaconda3/lib/python3.7/site-packages/xgboost/dask.py:884: RuntimeWarning: coroutine 'Client._wait_for_workers' was never awaited\n",
      "  client.wait_for_workers(n_workers)\n",
      "\u001b[32m[I 2022-11-23 15:30:58,552]\u001b[0m Trial 131 finished with value: 0.8053337686346669 and parameters: {'objective': 'binary:logistic', 'tree_method': 'gpu_hist', 'lambda': 0.10667670495704985, 'alpha': 0.3612183675968274, 'colsample_bytree': 0.9611441104567552, 'subsample': 0.5281183590397028, 'learning_rate': 0.09549661946577015, 'max_depth': 21, 'min_child_weight': 223, 'eval_metric': 'logloss'}. Best is trial 104 with value: 0.8135765131123929.\u001b[0m\n",
      "/home/tunguz/anaconda3/lib/python3.7/site-packages/xgboost/dask.py:884: RuntimeWarning: coroutine 'Client._wait_for_workers' was never awaited\n",
      "  client.wait_for_workers(n_workers)\n",
      "\u001b[32m[I 2022-11-23 15:33:07,964]\u001b[0m Trial 132 finished with value: 0.8124371898135574 and parameters: {'objective': 'binary:logistic', 'tree_method': 'gpu_hist', 'lambda': 0.9615964047835177, 'alpha': 0.0016229498757038283, 'colsample_bytree': 0.973029287881142, 'subsample': 0.5485335402002156, 'learning_rate': 0.020808177237631256, 'max_depth': 23, 'min_child_weight': 268, 'eval_metric': 'logloss'}. Best is trial 104 with value: 0.8135765131123929.\u001b[0m\n",
      "/home/tunguz/anaconda3/lib/python3.7/site-packages/xgboost/dask.py:884: RuntimeWarning: coroutine 'Client._wait_for_workers' was never awaited\n",
      "  client.wait_for_workers(n_workers)\n",
      "\u001b[32m[I 2022-11-23 15:36:09,426]\u001b[0m Trial 133 finished with value: 0.8105447394414316 and parameters: {'objective': 'binary:logistic', 'tree_method': 'gpu_hist', 'lambda': 0.0429489711963988, 'alpha': 0.28653542645342583, 'colsample_bytree': 0.9514451267453032, 'subsample': 0.5370213208551673, 'learning_rate': 0.015848696784745916, 'max_depth': 23, 'min_child_weight': 85, 'eval_metric': 'logloss'}. Best is trial 104 with value: 0.8135765131123929.\u001b[0m\n",
      "/home/tunguz/anaconda3/lib/python3.7/site-packages/xgboost/dask.py:884: RuntimeWarning: coroutine 'Client._wait_for_workers' was never awaited\n",
      "  client.wait_for_workers(n_workers)\n",
      "\u001b[32m[I 2022-11-23 15:37:10,456]\u001b[0m Trial 134 finished with value: 0.8122368722796929 and parameters: {'objective': 'binary:logistic', 'tree_method': 'gpu_hist', 'lambda': 0.001155263244132063, 'alpha': 0.22256213421673415, 'colsample_bytree': 0.715231122317635, 'subsample': 0.5647191753961989, 'learning_rate': 0.017448902815800343, 'max_depth': 20, 'min_child_weight': 215, 'eval_metric': 'logloss'}. Best is trial 104 with value: 0.8135765131123929.\u001b[0m\n",
      "/home/tunguz/anaconda3/lib/python3.7/site-packages/xgboost/dask.py:884: RuntimeWarning: coroutine 'Client._wait_for_workers' was never awaited\n",
      "  client.wait_for_workers(n_workers)\n",
      "\u001b[32m[I 2022-11-23 15:38:38,394]\u001b[0m Trial 135 finished with value: 0.8126368714187432 and parameters: {'objective': 'binary:logistic', 'tree_method': 'gpu_hist', 'lambda': 0.0014355033398079765, 'alpha': 0.09581246157068155, 'colsample_bytree': 0.9877845141794893, 'subsample': 0.5463382612010581, 'learning_rate': 0.015810932007105184, 'max_depth': 22, 'min_child_weight': 289, 'eval_metric': 'logloss'}. Best is trial 104 with value: 0.8135765131123929.\u001b[0m\n",
      "/home/tunguz/anaconda3/lib/python3.7/site-packages/xgboost/dask.py:884: RuntimeWarning: coroutine 'Client._wait_for_workers' was never awaited\n",
      "  client.wait_for_workers(n_workers)\n",
      "\u001b[32m[I 2022-11-23 15:40:21,316]\u001b[0m Trial 136 finished with value: 0.8119950318642662 and parameters: {'objective': 'binary:logistic', 'tree_method': 'gpu_hist', 'lambda': 0.6217608166572824, 'alpha': 0.6167332792919892, 'colsample_bytree': 0.9998014551973506, 'subsample': 0.7594620336099571, 'learning_rate': 0.009333563646941906, 'max_depth': 22, 'min_child_weight': 295, 'eval_metric': 'logloss'}. Best is trial 104 with value: 0.8135765131123929.\u001b[0m\n",
      "/home/tunguz/anaconda3/lib/python3.7/site-packages/xgboost/dask.py:884: RuntimeWarning: coroutine 'Client._wait_for_workers' was never awaited\n",
      "  client.wait_for_workers(n_workers)\n",
      "\u001b[32m[I 2022-11-23 15:41:30,955]\u001b[0m Trial 137 finished with value: 0.8121074118759387 and parameters: {'objective': 'binary:logistic', 'tree_method': 'gpu_hist', 'lambda': 0.019062283124724032, 'alpha': 0.1798432575520351, 'colsample_bytree': 0.9756354057662068, 'subsample': 0.5183477374249824, 'learning_rate': 0.012494184718427401, 'max_depth': 21, 'min_child_weight': 246, 'eval_metric': 'logloss'}. Best is trial 104 with value: 0.8135765131123929.\u001b[0m\n",
      "/home/tunguz/anaconda3/lib/python3.7/site-packages/xgboost/dask.py:884: RuntimeWarning: coroutine 'Client._wait_for_workers' was never awaited\n",
      "  client.wait_for_workers(n_workers)\n",
      "\u001b[32m[I 2022-11-23 15:45:04,382]\u001b[0m Trial 138 finished with value: 0.812996268957523 and parameters: {'objective': 'binary:logistic', 'tree_method': 'gpu_hist', 'lambda': 0.054254693650885005, 'alpha': 0.7712231617825965, 'colsample_bytree': 0.9399863935339956, 'subsample': 0.4972073727552434, 'learning_rate': 0.014448156509163472, 'max_depth': 24, 'min_child_weight': 280, 'eval_metric': 'logloss'}. Best is trial 104 with value: 0.8135765131123929.\u001b[0m\n",
      "/home/tunguz/anaconda3/lib/python3.7/site-packages/xgboost/dask.py:884: RuntimeWarning: coroutine 'Client._wait_for_workers' was never awaited\n",
      "  client.wait_for_workers(n_workers)\n",
      "\u001b[32m[I 2022-11-23 15:48:35,327]\u001b[0m Trial 139 finished with value: 0.8126321997888326 and parameters: {'objective': 'binary:logistic', 'tree_method': 'gpu_hist', 'lambda': 0.05182741029305518, 'alpha': 0.8269708450860837, 'colsample_bytree': 0.8775802397496218, 'subsample': 0.49789942158280165, 'learning_rate': 0.01446411895255082, 'max_depth': 24, 'min_child_weight': 300, 'eval_metric': 'logloss'}. Best is trial 104 with value: 0.8135765131123929.\u001b[0m\n",
      "/home/tunguz/anaconda3/lib/python3.7/site-packages/xgboost/dask.py:884: RuntimeWarning: coroutine 'Client._wait_for_workers' was never awaited\n",
      "  client.wait_for_workers(n_workers)\n",
      "\u001b[32m[I 2022-11-23 15:54:59,713]\u001b[0m Trial 140 finished with value: 0.8120014971391689 and parameters: {'objective': 'binary:logistic', 'tree_method': 'gpu_hist', 'lambda': 0.03403248926381872, 'alpha': 0.5168185499351768, 'colsample_bytree': 0.9332391037005415, 'subsample': 0.47713287014887046, 'learning_rate': 0.018544067856137617, 'max_depth': 25, 'min_child_weight': 281, 'eval_metric': 'logloss'}. Best is trial 104 with value: 0.8135765131123929.\u001b[0m\n",
      "/home/tunguz/anaconda3/lib/python3.7/site-packages/xgboost/dask.py:884: RuntimeWarning: coroutine 'Client._wait_for_workers' was never awaited\n",
      "  client.wait_for_workers(n_workers)\n",
      "\u001b[32m[I 2022-11-23 15:57:08,402]\u001b[0m Trial 141 finished with value: 0.8128179154218771 and parameters: {'objective': 'binary:logistic', 'tree_method': 'gpu_hist', 'lambda': 0.08980062006861607, 'alpha': 0.003969096899182117, 'colsample_bytree': 0.9584950823011062, 'subsample': 0.5300508339636538, 'learning_rate': 0.013367831140518462, 'max_depth': 23, 'min_child_weight': 287, 'eval_metric': 'logloss'}. Best is trial 104 with value: 0.8135765131123929.\u001b[0m\n",
      "/home/tunguz/anaconda3/lib/python3.7/site-packages/xgboost/dask.py:884: RuntimeWarning: coroutine 'Client._wait_for_workers' was never awaited\n",
      "  client.wait_for_workers(n_workers)\n",
      "\u001b[32m[I 2022-11-23 16:00:45,768]\u001b[0m Trial 142 finished with value: 0.8127832817676703 and parameters: {'objective': 'binary:logistic', 'tree_method': 'gpu_hist', 'lambda': 0.0010058635078987383, 'alpha': 1.1058956764829662, 'colsample_bytree': 0.9110376906566883, 'subsample': 0.5132002774078505, 'learning_rate': 0.011427238172929443, 'max_depth': 24, 'min_child_weight': 274, 'eval_metric': 'logloss'}. Best is trial 104 with value: 0.8135765131123929.\u001b[0m\n",
      "/home/tunguz/anaconda3/lib/python3.7/site-packages/xgboost/dask.py:884: RuntimeWarning: coroutine 'Client._wait_for_workers' was never awaited\n",
      "  client.wait_for_workers(n_workers)\n",
      "\u001b[32m[I 2022-11-23 16:04:23,346]\u001b[0m Trial 143 finished with value: 0.8128019845931765 and parameters: {'objective': 'binary:logistic', 'tree_method': 'gpu_hist', 'lambda': 0.1968859128509069, 'alpha': 0.7263671255040003, 'colsample_bytree': 0.9400848208814583, 'subsample': 0.5783429900310222, 'learning_rate': 0.017178180306362353, 'max_depth': 24, 'min_child_weight': 267, 'eval_metric': 'logloss'}. Best is trial 104 with value: 0.8135765131123929.\u001b[0m\n",
      "/home/tunguz/anaconda3/lib/python3.7/site-packages/xgboost/dask.py:884: RuntimeWarning: coroutine 'Client._wait_for_workers' was never awaited\n",
      "  client.wait_for_workers(n_workers)\n",
      "\u001b[32m[I 2022-11-23 16:05:10,323]\u001b[0m Trial 144 finished with value: 0.8124101954564299 and parameters: {'objective': 'binary:logistic', 'tree_method': 'gpu_hist', 'lambda': 0.057036927446223504, 'alpha': 1.4508717748748525, 'colsample_bytree': 0.9648537755763802, 'subsample': 0.4901398898530942, 'learning_rate': 0.015272581556487447, 'max_depth': 19, 'min_child_weight': 256, 'eval_metric': 'logloss'}. Best is trial 104 with value: 0.8135765131123929.\u001b[0m\n",
      "/home/tunguz/anaconda3/lib/python3.7/site-packages/xgboost/dask.py:884: RuntimeWarning: coroutine 'Client._wait_for_workers' was never awaited\n",
      "  client.wait_for_workers(n_workers)\n",
      "\u001b[32m[I 2022-11-23 16:07:30,281]\u001b[0m Trial 145 finished with value: 0.812516542298584 and parameters: {'objective': 'binary:logistic', 'tree_method': 'gpu_hist', 'lambda': 0.07406796797732194, 'alpha': 0.11565914000799672, 'colsample_bytree': 0.984483217959298, 'subsample': 0.5510678798111867, 'learning_rate': 0.019760997620999005, 'max_depth': 23, 'min_child_weight': 188, 'eval_metric': 'logloss'}. Best is trial 104 with value: 0.8135765131123929.\u001b[0m\n",
      "/home/tunguz/anaconda3/lib/python3.7/site-packages/xgboost/dask.py:884: RuntimeWarning: coroutine 'Client._wait_for_workers' was never awaited\n",
      "  client.wait_for_workers(n_workers)\n",
      "\u001b[32m[I 2022-11-23 16:08:56,723]\u001b[0m Trial 146 finished with value: 0.8120582252385027 and parameters: {'objective': 'binary:logistic', 'tree_method': 'gpu_hist', 'lambda': 0.002260321717853296, 'alpha': 0.41649991838871253, 'colsample_bytree': 0.9480944760294596, 'subsample': 0.5643255046951332, 'learning_rate': 0.02287646049907025, 'max_depth': 22, 'min_child_weight': 279, 'eval_metric': 'logloss'}. Best is trial 104 with value: 0.8135765131123929.\u001b[0m\n",
      "/home/tunguz/anaconda3/lib/python3.7/site-packages/xgboost/dask.py:884: RuntimeWarning: coroutine 'Client._wait_for_workers' was never awaited\n",
      "  client.wait_for_workers(n_workers)\n",
      "\u001b[32m[I 2022-11-23 16:11:01,519]\u001b[0m Trial 147 finished with value: 0.8129081113061727 and parameters: {'objective': 'binary:logistic', 'tree_method': 'gpu_hist', 'lambda': 0.14257941616988942, 'alpha': 0.253822551288631, 'colsample_bytree': 0.9196364083206598, 'subsample': 0.4645141063486831, 'learning_rate': 0.01319673637069558, 'max_depth': 23, 'min_child_weight': 292, 'eval_metric': 'logloss'}. Best is trial 104 with value: 0.8135765131123929.\u001b[0m\n",
      "/home/tunguz/anaconda3/lib/python3.7/site-packages/xgboost/dask.py:884: RuntimeWarning: coroutine 'Client._wait_for_workers' was never awaited\n",
      "  client.wait_for_workers(n_workers)\n",
      "\u001b[32m[I 2022-11-23 16:17:25,970]\u001b[0m Trial 148 finished with value: 0.8128269244114953 and parameters: {'objective': 'binary:logistic', 'tree_method': 'gpu_hist', 'lambda': 0.12570583506041125, 'alpha': 0.2812308002607729, 'colsample_bytree': 0.9194931109014053, 'subsample': 0.45419052236002505, 'learning_rate': 0.012182007943129108, 'max_depth': 25, 'min_child_weight': 291, 'eval_metric': 'logloss'}. Best is trial 104 with value: 0.8135765131123929.\u001b[0m\n",
      "/home/tunguz/anaconda3/lib/python3.7/site-packages/xgboost/dask.py:884: RuntimeWarning: coroutine 'Client._wait_for_workers' was never awaited\n",
      "  client.wait_for_workers(n_workers)\n",
      "\u001b[32m[I 2022-11-23 16:19:34,909]\u001b[0m Trial 149 finished with value: 0.8126164320187677 and parameters: {'objective': 'binary:logistic', 'tree_method': 'gpu_hist', 'lambda': 0.4636947763315729, 'alpha': 0.14637692685407033, 'colsample_bytree': 0.9046681736965402, 'subsample': 0.46159709458158066, 'learning_rate': 0.010361025668009607, 'max_depth': 23, 'min_child_weight': 295, 'eval_metric': 'logloss'}. Best is trial 104 with value: 0.8135765131123929.\u001b[0m\n",
      "/home/tunguz/anaconda3/lib/python3.7/site-packages/xgboost/dask.py:884: RuntimeWarning: coroutine 'Client._wait_for_workers' was never awaited\n",
      "  client.wait_for_workers(n_workers)\n",
      "\u001b[32m[I 2022-11-23 16:23:07,302]\u001b[0m Trial 150 finished with value: 0.8130704687896639 and parameters: {'objective': 'binary:logistic', 'tree_method': 'gpu_hist', 'lambda': 0.24506353302636738, 'alpha': 0.38052380617780346, 'colsample_bytree': 0.9767228471628104, 'subsample': 0.4851661606268537, 'learning_rate': 0.013311376125472653, 'max_depth': 24, 'min_child_weight': 286, 'eval_metric': 'logloss'}. Best is trial 104 with value: 0.8135765131123929.\u001b[0m\n",
      "/home/tunguz/anaconda3/lib/python3.7/site-packages/xgboost/dask.py:884: RuntimeWarning: coroutine 'Client._wait_for_workers' was never awaited\n",
      "  client.wait_for_workers(n_workers)\n",
      "\u001b[32m[I 2022-11-23 16:26:37,706]\u001b[0m Trial 151 finished with value: 0.812859576903279 and parameters: {'objective': 'binary:logistic', 'tree_method': 'gpu_hist', 'lambda': 0.24281293832317916, 'alpha': 0.3643709527650003, 'colsample_bytree': 0.9808757002348022, 'subsample': 0.4794064334959857, 'learning_rate': 0.013433227612446082, 'max_depth': 24, 'min_child_weight': 286, 'eval_metric': 'logloss'}. Best is trial 104 with value: 0.8135765131123929.\u001b[0m\n",
      "/home/tunguz/anaconda3/lib/python3.7/site-packages/xgboost/dask.py:884: RuntimeWarning: coroutine 'Client._wait_for_workers' was never awaited\n",
      "  client.wait_for_workers(n_workers)\n",
      "\u001b[32m[I 2022-11-23 16:30:07,031]\u001b[0m Trial 152 finished with value: 0.8125296032952978 and parameters: {'objective': 'binary:logistic', 'tree_method': 'gpu_hist', 'lambda': 0.16972761830950142, 'alpha': 0.23319299772064397, 'colsample_bytree': 0.6621566835152782, 'subsample': 0.4470283044500616, 'learning_rate': 0.01479979254763442, 'max_depth': 24, 'min_child_weight': 283, 'eval_metric': 'logloss'}. Best is trial 104 with value: 0.8135765131123929.\u001b[0m\n",
      "/home/tunguz/anaconda3/lib/python3.7/site-packages/xgboost/dask.py:884: RuntimeWarning: coroutine 'Client._wait_for_workers' was never awaited\n",
      "  client.wait_for_workers(n_workers)\n",
      "\u001b[32m[I 2022-11-23 16:31:34,276]\u001b[0m Trial 153 finished with value: 0.8128938518284873 and parameters: {'objective': 'binary:logistic', 'tree_method': 'gpu_hist', 'lambda': 0.15091093142724782, 'alpha': 0.550714385805559, 'colsample_bytree': 0.9722008915293945, 'subsample': 0.49537457623953657, 'learning_rate': 0.009815024724806545, 'max_depth': 22, 'min_child_weight': 291, 'eval_metric': 'logloss'}. Best is trial 104 with value: 0.8135765131123929.\u001b[0m\n",
      "/home/tunguz/anaconda3/lib/python3.7/site-packages/xgboost/dask.py:884: RuntimeWarning: coroutine 'Client._wait_for_workers' was never awaited\n",
      "  client.wait_for_workers(n_workers)\n",
      "\u001b[32m[I 2022-11-23 16:33:41,735]\u001b[0m Trial 154 finished with value: 0.8126288326280068 and parameters: {'objective': 'binary:logistic', 'tree_method': 'gpu_hist', 'lambda': 0.3583515352090721, 'alpha': 0.01283474613564392, 'colsample_bytree': 0.8914758915922291, 'subsample': 0.4714288489242612, 'learning_rate': 0.011568625052937447, 'max_depth': 23, 'min_child_weight': 300, 'eval_metric': 'logloss'}. Best is trial 104 with value: 0.8135765131123929.\u001b[0m\n",
      "/home/tunguz/anaconda3/lib/python3.7/site-packages/xgboost/dask.py:884: RuntimeWarning: coroutine 'Client._wait_for_workers' was never awaited\n",
      "  client.wait_for_workers(n_workers)\n",
      "\u001b[32m[I 2022-11-23 16:40:11,372]\u001b[0m Trial 155 finished with value: 0.8132008749335047 and parameters: {'objective': 'binary:logistic', 'tree_method': 'gpu_hist', 'lambda': 0.2154730733732167, 'alpha': 0.8896729603189154, 'colsample_bytree': 0.9977236306997178, 'subsample': 0.5115648135231993, 'learning_rate': 0.013276663142586076, 'max_depth': 25, 'min_child_weight': 275, 'eval_metric': 'logloss'}. Best is trial 104 with value: 0.8135765131123929.\u001b[0m\n",
      "/home/tunguz/anaconda3/lib/python3.7/site-packages/xgboost/dask.py:884: RuntimeWarning: coroutine 'Client._wait_for_workers' was never awaited\n",
      "  client.wait_for_workers(n_workers)\n",
      "\u001b[32m[I 2022-11-23 16:46:37,855]\u001b[0m Trial 156 finished with value: 0.8125387101200973 and parameters: {'objective': 'binary:logistic', 'tree_method': 'gpu_hist', 'lambda': 0.2877612451718266, 'alpha': 0.884699011259238, 'colsample_bytree': 0.9998097312681574, 'subsample': 0.5047832977333421, 'learning_rate': 0.015836462440937712, 'max_depth': 25, 'min_child_weight': 276, 'eval_metric': 'logloss'}. Best is trial 104 with value: 0.8135765131123929.\u001b[0m\n",
      "/home/tunguz/anaconda3/lib/python3.7/site-packages/xgboost/dask.py:884: RuntimeWarning: coroutine 'Client._wait_for_workers' was never awaited\n",
      "  client.wait_for_workers(n_workers)\n",
      "\u001b[32m[I 2022-11-23 16:53:11,345]\u001b[0m Trial 157 finished with value: 0.8130302829889143 and parameters: {'objective': 'binary:logistic', 'tree_method': 'gpu_hist', 'lambda': 0.7831005634275975, 'alpha': 1.0481840004871583, 'colsample_bytree': 0.990552345286464, 'subsample': 0.5304467342144367, 'learning_rate': 0.013908943551300172, 'max_depth': 25, 'min_child_weight': 261, 'eval_metric': 'logloss'}. Best is trial 104 with value: 0.8135765131123929.\u001b[0m\n",
      "/home/tunguz/anaconda3/lib/python3.7/site-packages/xgboost/dask.py:884: RuntimeWarning: coroutine 'Client._wait_for_workers' was never awaited\n",
      "  client.wait_for_workers(n_workers)\n",
      "\u001b[32m[I 2022-11-23 16:59:46,454]\u001b[0m Trial 158 finished with value: 0.8137048973291516 and parameters: {'objective': 'binary:logistic', 'tree_method': 'gpu_hist', 'lambda': 0.6965575492223023, 'alpha': 1.0242577216346989, 'colsample_bytree': 0.964502838020275, 'subsample': 0.5257022963338749, 'learning_rate': 0.014217534003913575, 'max_depth': 25, 'min_child_weight': 243, 'eval_metric': 'logloss'}. Best is trial 158 with value: 0.8137048973291516.\u001b[0m\n",
      "/home/tunguz/anaconda3/lib/python3.7/site-packages/xgboost/dask.py:884: RuntimeWarning: coroutine 'Client._wait_for_workers' was never awaited\n",
      "  client.wait_for_workers(n_workers)\n",
      "\u001b[32m[I 2022-11-23 17:06:21,937]\u001b[0m Trial 159 finished with value: 0.8134136256883356 and parameters: {'objective': 'binary:logistic', 'tree_method': 'gpu_hist', 'lambda': 0.7821049287647097, 'alpha': 1.030005178821339, 'colsample_bytree': 0.9611861939979763, 'subsample': 0.5195066789837106, 'learning_rate': 0.014120123945935344, 'max_depth': 25, 'min_child_weight': 228, 'eval_metric': 'logloss'}. Best is trial 158 with value: 0.8137048973291516.\u001b[0m\n",
      "/home/tunguz/anaconda3/lib/python3.7/site-packages/xgboost/dask.py:884: RuntimeWarning: coroutine 'Client._wait_for_workers' was never awaited\n",
      "  client.wait_for_workers(n_workers)\n",
      "\u001b[32m[I 2022-11-23 17:12:55,673]\u001b[0m Trial 160 finished with value: 0.8130675744988817 and parameters: {'objective': 'binary:logistic', 'tree_method': 'gpu_hist', 'lambda': 0.7827727966582659, 'alpha': 1.0469398890439074, 'colsample_bytree': 0.9547340498351468, 'subsample': 0.5186969843586702, 'learning_rate': 0.014142214217518935, 'max_depth': 25, 'min_child_weight': 244, 'eval_metric': 'logloss'}. Best is trial 158 with value: 0.8137048973291516.\u001b[0m\n",
      "/home/tunguz/anaconda3/lib/python3.7/site-packages/xgboost/dask.py:884: RuntimeWarning: coroutine 'Client._wait_for_workers' was never awaited\n",
      "  client.wait_for_workers(n_workers)\n",
      "\u001b[32m[I 2022-11-23 17:19:31,036]\u001b[0m Trial 161 finished with value: 0.8128907455614787 and parameters: {'objective': 'binary:logistic', 'tree_method': 'gpu_hist', 'lambda': 0.7557769466446884, 'alpha': 1.344919502451212, 'colsample_bytree': 0.958487435106727, 'subsample': 0.5161355155287906, 'learning_rate': 0.0143545031542019, 'max_depth': 25, 'min_child_weight': 241, 'eval_metric': 'logloss'}. Best is trial 158 with value: 0.8137048973291516.\u001b[0m\n",
      "/home/tunguz/anaconda3/lib/python3.7/site-packages/xgboost/dask.py:884: RuntimeWarning: coroutine 'Client._wait_for_workers' was never awaited\n",
      "  client.wait_for_workers(n_workers)\n",
      "\u001b[32m[I 2022-11-23 17:26:04,452]\u001b[0m Trial 162 finished with value: 0.8119708910332621 and parameters: {'objective': 'binary:logistic', 'tree_method': 'gpu_hist', 'lambda': 1.2673450692065331, 'alpha': 1.0726305040382191, 'colsample_bytree': 0.9402224632140752, 'subsample': 0.5260682973577667, 'learning_rate': 0.017803140912865556, 'max_depth': 25, 'min_child_weight': 233, 'eval_metric': 'logloss'}. Best is trial 158 with value: 0.8137048973291516.\u001b[0m\n",
      "/home/tunguz/anaconda3/lib/python3.7/site-packages/xgboost/dask.py:884: RuntimeWarning: coroutine 'Client._wait_for_workers' was never awaited\n",
      "  client.wait_for_workers(n_workers)\n",
      "\u001b[32m[I 2022-11-23 17:32:38,022]\u001b[0m Trial 163 finished with value: 0.8138226664287315 and parameters: {'objective': 'binary:logistic', 'tree_method': 'gpu_hist', 'lambda': 0.8139870597947683, 'alpha': 2.445642907844675, 'colsample_bytree': 0.9689413170825708, 'subsample': 0.504368260417652, 'learning_rate': 0.013757621594455764, 'max_depth': 25, 'min_child_weight': 244, 'eval_metric': 'logloss'}. Best is trial 163 with value: 0.8138226664287315.\u001b[0m\n",
      "/home/tunguz/anaconda3/lib/python3.7/site-packages/xgboost/dask.py:884: RuntimeWarning: coroutine 'Client._wait_for_workers' was never awaited\n",
      "  client.wait_for_workers(n_workers)\n",
      "\u001b[32m[I 2022-11-23 17:39:13,082]\u001b[0m Trial 164 finished with value: 0.8129509712685467 and parameters: {'objective': 'binary:logistic', 'tree_method': 'gpu_hist', 'lambda': 0.7228518125820234, 'alpha': 2.5802665668045064, 'colsample_bytree': 0.9631664160355171, 'subsample': 0.4876267152583432, 'learning_rate': 0.01258686649664297, 'max_depth': 25, 'min_child_weight': 246, 'eval_metric': 'logloss'}. Best is trial 163 with value: 0.8138226664287315.\u001b[0m\n",
      "/home/tunguz/anaconda3/lib/python3.7/site-packages/xgboost/dask.py:884: RuntimeWarning: coroutine 'Client._wait_for_workers' was never awaited\n",
      "  client.wait_for_workers(n_workers)\n",
      "\u001b[32m[I 2022-11-23 17:45:46,589]\u001b[0m Trial 165 finished with value: 0.8131988040888323 and parameters: {'objective': 'binary:logistic', 'tree_method': 'gpu_hist', 'lambda': 0.9202794525723479, 'alpha': 1.767646254080245, 'colsample_bytree': 0.9754415580742565, 'subsample': 0.5158366995918034, 'learning_rate': 0.014017480479741896, 'max_depth': 25, 'min_child_weight': 242, 'eval_metric': 'logloss'}. Best is trial 163 with value: 0.8138226664287315.\u001b[0m\n",
      "/home/tunguz/anaconda3/lib/python3.7/site-packages/xgboost/dask.py:884: RuntimeWarning: coroutine 'Client._wait_for_workers' was never awaited\n",
      "  client.wait_for_workers(n_workers)\n",
      "\u001b[32m[I 2022-11-23 17:52:22,689]\u001b[0m Trial 166 finished with value: 0.8126024334348992 and parameters: {'objective': 'binary:logistic', 'tree_method': 'gpu_hist', 'lambda': 0.8554138316707486, 'alpha': 2.5404440682652156, 'colsample_bytree': 0.972163114860713, 'subsample': 0.5198497101023477, 'learning_rate': 0.013412855492893495, 'max_depth': 25, 'min_child_weight': 229, 'eval_metric': 'logloss'}. Best is trial 163 with value: 0.8138226664287315.\u001b[0m\n",
      "/home/tunguz/anaconda3/lib/python3.7/site-packages/xgboost/dask.py:884: RuntimeWarning: coroutine 'Client._wait_for_workers' was never awaited\n",
      "  client.wait_for_workers(n_workers)\n",
      "\u001b[32m[I 2022-11-23 17:59:03,262]\u001b[0m Trial 167 finished with value: 0.8132929622979737 and parameters: {'objective': 'binary:logistic', 'tree_method': 'gpu_hist', 'lambda': 0.6520809681921157, 'alpha': 1.7562200732372413, 'colsample_bytree': 0.9778394718639192, 'subsample': 0.5265198672977959, 'learning_rate': 0.011642510978871215, 'max_depth': 25, 'min_child_weight': 227, 'eval_metric': 'logloss'}. Best is trial 163 with value: 0.8138226664287315.\u001b[0m\n",
      "/home/tunguz/anaconda3/lib/python3.7/site-packages/xgboost/dask.py:884: RuntimeWarning: coroutine 'Client._wait_for_workers' was never awaited\n",
      "  client.wait_for_workers(n_workers)\n",
      "\u001b[32m[I 2022-11-23 18:05:44,419]\u001b[0m Trial 168 finished with value: 0.8123929030881218 and parameters: {'objective': 'binary:logistic', 'tree_method': 'gpu_hist', 'lambda': 0.596068486743088, 'alpha': 1.7950691973005528, 'colsample_bytree': 0.9510665083623049, 'subsample': 0.5115065011981835, 'learning_rate': 0.011677145341830078, 'max_depth': 25, 'min_child_weight': 215, 'eval_metric': 'logloss'}. Best is trial 163 with value: 0.8138226664287315.\u001b[0m\n",
      "/home/tunguz/anaconda3/lib/python3.7/site-packages/xgboost/dask.py:884: RuntimeWarning: coroutine 'Client._wait_for_workers' was never awaited\n",
      "  client.wait_for_workers(n_workers)\n",
      "\u001b[32m[I 2022-11-23 18:12:21,255]\u001b[0m Trial 169 finished with value: 0.8130819155058849 and parameters: {'objective': 'binary:logistic', 'tree_method': 'gpu_hist', 'lambda': 1.0903629783003335, 'alpha': 1.4748420938040683, 'colsample_bytree': 0.9761277898920384, 'subsample': 0.5322677760311303, 'learning_rate': 0.012337368466869846, 'max_depth': 25, 'min_child_weight': 241, 'eval_metric': 'logloss'}. Best is trial 163 with value: 0.8138226664287315.\u001b[0m\n",
      "/home/tunguz/anaconda3/lib/python3.7/site-packages/xgboost/dask.py:884: RuntimeWarning: coroutine 'Client._wait_for_workers' was never awaited\n",
      "  client.wait_for_workers(n_workers)\n",
      "\u001b[32m[I 2022-11-23 18:18:57,779]\u001b[0m Trial 170 finished with value: 0.8128883567524667 and parameters: {'objective': 'binary:logistic', 'tree_method': 'gpu_hist', 'lambda': 1.0640068433206238, 'alpha': 1.5701063470479197, 'colsample_bytree': 0.9724874108282793, 'subsample': 0.5056716089132436, 'learning_rate': 0.012314448125097991, 'max_depth': 25, 'min_child_weight': 236, 'eval_metric': 'logloss'}. Best is trial 163 with value: 0.8138226664287315.\u001b[0m\n",
      "/home/tunguz/anaconda3/lib/python3.7/site-packages/xgboost/dask.py:884: RuntimeWarning: coroutine 'Client._wait_for_workers' was never awaited\n",
      "  client.wait_for_workers(n_workers)\n",
      "\u001b[32m[I 2022-11-23 18:25:33,155]\u001b[0m Trial 171 finished with value: 0.8131599716747583 and parameters: {'objective': 'binary:logistic', 'tree_method': 'gpu_hist', 'lambda': 1.466173030807638, 'alpha': 2.2037993266669624, 'colsample_bytree': 0.9816495441198042, 'subsample': 0.5263622930139008, 'learning_rate': 0.013670993330131822, 'max_depth': 25, 'min_child_weight': 245, 'eval_metric': 'logloss'}. Best is trial 163 with value: 0.8138226664287315.\u001b[0m\n",
      "/home/tunguz/anaconda3/lib/python3.7/site-packages/xgboost/dask.py:884: RuntimeWarning: coroutine 'Client._wait_for_workers' was never awaited\n",
      "  client.wait_for_workers(n_workers)\n",
      "\u001b[32m[I 2022-11-23 18:32:12,499]\u001b[0m Trial 172 finished with value: 0.8122539200600474 and parameters: {'objective': 'binary:logistic', 'tree_method': 'gpu_hist', 'lambda': 1.4052866691898434, 'alpha': 2.210239474608486, 'colsample_bytree': 0.962399240968399, 'subsample': 0.5213420343431282, 'learning_rate': 0.011169303496016981, 'max_depth': 25, 'min_child_weight': 227, 'eval_metric': 'logloss'}. Best is trial 163 with value: 0.8138226664287315.\u001b[0m\n",
      "/home/tunguz/anaconda3/lib/python3.7/site-packages/xgboost/dask.py:884: RuntimeWarning: coroutine 'Client._wait_for_workers' was never awaited\n",
      "  client.wait_for_workers(n_workers)\n",
      "\u001b[32m[I 2022-11-23 18:38:47,535]\u001b[0m Trial 173 finished with value: 0.8130054654645724 and parameters: {'objective': 'binary:logistic', 'tree_method': 'gpu_hist', 'lambda': 1.7479443810790374, 'alpha': 3.8354190502873933, 'colsample_bytree': 0.9791437596838225, 'subsample': 0.532087114949225, 'learning_rate': 0.012434992679220606, 'max_depth': 25, 'min_child_weight': 247, 'eval_metric': 'logloss'}. Best is trial 163 with value: 0.8138226664287315.\u001b[0m\n",
      "/home/tunguz/anaconda3/lib/python3.7/site-packages/xgboost/dask.py:884: RuntimeWarning: coroutine 'Client._wait_for_workers' was never awaited\n",
      "  client.wait_for_workers(n_workers)\n",
      "\u001b[32m[I 2022-11-23 18:42:27,999]\u001b[0m Trial 174 finished with value: 0.8131321864832478 and parameters: {'objective': 'binary:logistic', 'tree_method': 'gpu_hist', 'lambda': 1.1315702699770656, 'alpha': 1.767899730052588, 'colsample_bytree': 0.9527535650428517, 'subsample': 0.5431093779199428, 'learning_rate': 0.01526214316499598, 'max_depth': 24, 'min_child_weight': 240, 'eval_metric': 'logloss'}. Best is trial 163 with value: 0.8138226664287315.\u001b[0m\n",
      "/home/tunguz/anaconda3/lib/python3.7/site-packages/xgboost/dask.py:884: RuntimeWarning: coroutine 'Client._wait_for_workers' was never awaited\n",
      "  client.wait_for_workers(n_workers)\n",
      "\u001b[32m[I 2022-11-23 18:46:09,135]\u001b[0m Trial 175 finished with value: 0.8130899787554166 and parameters: {'objective': 'binary:logistic', 'tree_method': 'gpu_hist', 'lambda': 1.1898941773099019, 'alpha': 2.0037317080252675, 'colsample_bytree': 0.9771465101081581, 'subsample': 0.545753335882129, 'learning_rate': 0.01525559300488415, 'max_depth': 24, 'min_child_weight': 234, 'eval_metric': 'logloss'}. Best is trial 163 with value: 0.8138226664287315.\u001b[0m\n",
      "/home/tunguz/anaconda3/lib/python3.7/site-packages/xgboost/dask.py:884: RuntimeWarning: coroutine 'Client._wait_for_workers' was never awaited\n",
      "  client.wait_for_workers(n_workers)\n",
      "\u001b[32m[I 2022-11-23 18:49:49,837]\u001b[0m Trial 176 finished with value: 0.8128753365204121 and parameters: {'objective': 'binary:logistic', 'tree_method': 'gpu_hist', 'lambda': 2.4250278450727794, 'alpha': 1.7470740298164522, 'colsample_bytree': 0.9332349624067389, 'subsample': 0.5409892112042136, 'learning_rate': 0.015787191474983912, 'max_depth': 24, 'min_child_weight': 239, 'eval_metric': 'logloss'}. Best is trial 163 with value: 0.8138226664287315.\u001b[0m\n",
      "/home/tunguz/anaconda3/lib/python3.7/site-packages/xgboost/dask.py:884: RuntimeWarning: coroutine 'Client._wait_for_workers' was never awaited\n",
      "  client.wait_for_workers(n_workers)\n",
      "\u001b[32m[I 2022-11-23 18:53:30,933]\u001b[0m Trial 177 finished with value: 0.8122996009368174 and parameters: {'objective': 'binary:logistic', 'tree_method': 'gpu_hist', 'lambda': 2.0696663966574347, 'alpha': 2.9744924409034335, 'colsample_bytree': 0.9505482997538983, 'subsample': 0.5571423455037734, 'learning_rate': 0.016834592535439754, 'max_depth': 24, 'min_child_weight': 217, 'eval_metric': 'logloss'}. Best is trial 163 with value: 0.8138226664287315.\u001b[0m\n",
      "/home/tunguz/anaconda3/lib/python3.7/site-packages/xgboost/dask.py:884: RuntimeWarning: coroutine 'Client._wait_for_workers' was never awaited\n",
      "  client.wait_for_workers(n_workers)\n",
      "\u001b[32m[I 2022-11-23 19:00:10,986]\u001b[0m Trial 178 finished with value: 0.812657229289401 and parameters: {'objective': 'binary:logistic', 'tree_method': 'gpu_hist', 'lambda': 1.1386625092845053, 'alpha': 2.2628749424313073, 'colsample_bytree': 0.9638242374803598, 'subsample': 0.5678746032760449, 'learning_rate': 0.015037330353629055, 'max_depth': 25, 'min_child_weight': 228, 'eval_metric': 'logloss'}. Best is trial 163 with value: 0.8138226664287315.\u001b[0m\n",
      "/home/tunguz/anaconda3/lib/python3.7/site-packages/xgboost/dask.py:884: RuntimeWarning: coroutine 'Client._wait_for_workers' was never awaited\n",
      "  client.wait_for_workers(n_workers)\n",
      "\u001b[32m[I 2022-11-23 19:03:34,799]\u001b[0m Trial 179 finished with value: 0.8067022626929408 and parameters: {'objective': 'binary:logistic', 'tree_method': 'gpu_hist', 'lambda': 1.377306277573468, 'alpha': 1.3977951350622677, 'colsample_bytree': 0.9905734333674558, 'subsample': 0.6920772687959118, 'learning_rate': 0.07759013873849112, 'max_depth': 24, 'min_child_weight': 235, 'eval_metric': 'logloss'}. Best is trial 163 with value: 0.8138226664287315.\u001b[0m\n",
      "/home/tunguz/anaconda3/lib/python3.7/site-packages/xgboost/dask.py:884: RuntimeWarning: coroutine 'Client._wait_for_workers' was never awaited\n",
      "  client.wait_for_workers(n_workers)\n",
      "\u001b[32m[I 2022-11-23 19:10:18,338]\u001b[0m Trial 180 finished with value: 0.813239511677216 and parameters: {'objective': 'binary:logistic', 'tree_method': 'gpu_hist', 'lambda': 0.9071595510238304, 'alpha': 1.873520696833041, 'colsample_bytree': 0.9743946311422348, 'subsample': 0.5450801982093562, 'learning_rate': 0.011452933852839221, 'max_depth': 25, 'min_child_weight': 222, 'eval_metric': 'logloss'}. Best is trial 163 with value: 0.8138226664287315.\u001b[0m\n",
      "/home/tunguz/anaconda3/lib/python3.7/site-packages/xgboost/dask.py:884: RuntimeWarning: coroutine 'Client._wait_for_workers' was never awaited\n",
      "  client.wait_for_workers(n_workers)\n",
      "\u001b[32m[I 2022-11-23 19:16:59,926]\u001b[0m Trial 181 finished with value: 0.8132404084997118 and parameters: {'objective': 'binary:logistic', 'tree_method': 'gpu_hist', 'lambda': 0.9417995573375452, 'alpha': 1.9665627064970963, 'colsample_bytree': 0.9771208846846666, 'subsample': 0.5370573640010369, 'learning_rate': 0.01180764778188128, 'max_depth': 25, 'min_child_weight': 220, 'eval_metric': 'logloss'}. Best is trial 163 with value: 0.8138226664287315.\u001b[0m\n",
      "/home/tunguz/anaconda3/lib/python3.7/site-packages/xgboost/dask.py:884: RuntimeWarning: coroutine 'Client._wait_for_workers' was never awaited\n",
      "  client.wait_for_workers(n_workers)\n",
      "\u001b[32m[I 2022-11-23 19:23:40,524]\u001b[0m Trial 182 finished with value: 0.8129516479618843 and parameters: {'objective': 'binary:logistic', 'tree_method': 'gpu_hist', 'lambda': 0.6263513612471522, 'alpha': 1.9590871045623774, 'colsample_bytree': 0.9670626498092256, 'subsample': 0.548223160420904, 'learning_rate': 0.011169555880861104, 'max_depth': 25, 'min_child_weight': 226, 'eval_metric': 'logloss'}. Best is trial 163 with value: 0.8138226664287315.\u001b[0m\n",
      "/home/tunguz/anaconda3/lib/python3.7/site-packages/xgboost/dask.py:884: RuntimeWarning: coroutine 'Client._wait_for_workers' was never awaited\n",
      "  client.wait_for_workers(n_workers)\n",
      "\u001b[32m[I 2022-11-23 19:27:24,520]\u001b[0m Trial 183 finished with value: 0.8128798858563461 and parameters: {'objective': 'binary:logistic', 'tree_method': 'gpu_hist', 'lambda': 0.9435039794187474, 'alpha': 3.542186842977248, 'colsample_bytree': 0.9855080295648427, 'subsample': 0.5398455111591296, 'learning_rate': 0.00950755102369436, 'max_depth': 24, 'min_child_weight': 251, 'eval_metric': 'logloss'}. Best is trial 163 with value: 0.8138226664287315.\u001b[0m\n",
      "/home/tunguz/anaconda3/lib/python3.7/site-packages/xgboost/dask.py:884: RuntimeWarning: coroutine 'Client._wait_for_workers' was never awaited\n",
      "  client.wait_for_workers(n_workers)\n",
      "\u001b[32m[I 2022-11-23 19:31:12,183]\u001b[0m Trial 184 finished with value: 0.8125892501442089 and parameters: {'objective': 'binary:logistic', 'tree_method': 'gpu_hist', 'lambda': 0.5055413207814846, 'alpha': 2.667230047751859, 'colsample_bytree': 0.9488199751310182, 'subsample': 0.5842422130395621, 'learning_rate': 0.013616682424678924, 'max_depth': 24, 'min_child_weight': 221, 'eval_metric': 'logloss'}. Best is trial 163 with value: 0.8138226664287315.\u001b[0m\n",
      "/home/tunguz/anaconda3/lib/python3.7/site-packages/xgboost/dask.py:884: RuntimeWarning: coroutine 'Client._wait_for_workers' was never awaited\n",
      "  client.wait_for_workers(n_workers)\n",
      "\u001b[32m[I 2022-11-23 19:37:54,410]\u001b[0m Trial 185 finished with value: 0.8127535561783961 and parameters: {'objective': 'binary:logistic', 'tree_method': 'gpu_hist', 'lambda': 1.4911613614949821, 'alpha': 1.3007016111489251, 'colsample_bytree': 0.99922598969079, 'subsample': 0.562695543456277, 'learning_rate': 0.015034939468586316, 'max_depth': 25, 'min_child_weight': 203, 'eval_metric': 'logloss'}. Best is trial 163 with value: 0.8138226664287315.\u001b[0m\n",
      "/home/tunguz/anaconda3/lib/python3.7/site-packages/xgboost/dask.py:884: RuntimeWarning: coroutine 'Client._wait_for_workers' was never awaited\n",
      "  client.wait_for_workers(n_workers)\n",
      "\u001b[32m[I 2022-11-23 19:44:34,324]\u001b[0m Trial 186 finished with value: 0.8133672192006369 and parameters: {'objective': 'binary:logistic', 'tree_method': 'gpu_hist', 'lambda': 0.8669464007885059, 'alpha': 2.2305639303843763, 'colsample_bytree': 0.9667818962153564, 'subsample': 0.5355327683044518, 'learning_rate': 0.011554477161219469, 'max_depth': 25, 'min_child_weight': 232, 'eval_metric': 'logloss'}. Best is trial 163 with value: 0.8138226664287315.\u001b[0m\n",
      "/home/tunguz/anaconda3/lib/python3.7/site-packages/xgboost/dask.py:884: RuntimeWarning: coroutine 'Client._wait_for_workers' was never awaited\n",
      "  client.wait_for_workers(n_workers)\n",
      "\u001b[32m[I 2022-11-23 19:51:13,915]\u001b[0m Trial 187 finished with value: 0.8128655366964113 and parameters: {'objective': 'binary:logistic', 'tree_method': 'gpu_hist', 'lambda': 0.8974630551349384, 'alpha': 4.63137523828774, 'colsample_bytree': 0.9800749004430875, 'subsample': 0.5250776190584759, 'learning_rate': 0.011026921159821486, 'max_depth': 25, 'min_child_weight': 234, 'eval_metric': 'logloss'}. Best is trial 163 with value: 0.8138226664287315.\u001b[0m\n",
      "/home/tunguz/anaconda3/lib/python3.7/site-packages/xgboost/dask.py:884: RuntimeWarning: coroutine 'Client._wait_for_workers' was never awaited\n",
      "  client.wait_for_workers(n_workers)\n",
      "\u001b[32m[I 2022-11-23 19:57:55,640]\u001b[0m Trial 188 finished with value: 0.8129191096111456 and parameters: {'objective': 'binary:logistic', 'tree_method': 'gpu_hist', 'lambda': 1.1351661993383046, 'alpha': 1.7686222258593995, 'colsample_bytree': 0.9306937572392141, 'subsample': 0.5428656311977775, 'learning_rate': 0.012004696143268528, 'max_depth': 25, 'min_child_weight': 213, 'eval_metric': 'logloss'}. Best is trial 163 with value: 0.8138226664287315.\u001b[0m\n",
      "/home/tunguz/anaconda3/lib/python3.7/site-packages/xgboost/dask.py:884: RuntimeWarning: coroutine 'Client._wait_for_workers' was never awaited\n",
      "  client.wait_for_workers(n_workers)\n",
      "\u001b[32m[I 2022-11-23 20:01:38,611]\u001b[0m Trial 189 finished with value: 0.8127307524282041 and parameters: {'objective': 'binary:logistic', 'tree_method': 'gpu_hist', 'lambda': 0.43930055070327295, 'alpha': 2.3222889073751416, 'colsample_bytree': 0.9473173273986262, 'subsample': 0.5077192561304373, 'learning_rate': 0.008892220798602862, 'max_depth': 24, 'min_child_weight': 241, 'eval_metric': 'logloss'}. Best is trial 163 with value: 0.8138226664287315.\u001b[0m\n",
      "/home/tunguz/anaconda3/lib/python3.7/site-packages/xgboost/dask.py:884: RuntimeWarning: coroutine 'Client._wait_for_workers' was never awaited\n",
      "  client.wait_for_workers(n_workers)\n",
      "\u001b[32m[I 2022-11-23 20:08:17,047]\u001b[0m Trial 190 finished with value: 0.8130504614950729 and parameters: {'objective': 'binary:logistic', 'tree_method': 'gpu_hist', 'lambda': 0.6510357734749489, 'alpha': 3.125558347033061, 'colsample_bytree': 0.969438687563339, 'subsample': 0.5285179402812255, 'learning_rate': 0.012922013885712517, 'max_depth': 25, 'min_child_weight': 230, 'eval_metric': 'logloss'}. Best is trial 163 with value: 0.8138226664287315.\u001b[0m\n",
      "/home/tunguz/anaconda3/lib/python3.7/site-packages/xgboost/dask.py:884: RuntimeWarning: coroutine 'Client._wait_for_workers' was never awaited\n",
      "  client.wait_for_workers(n_workers)\n",
      "\u001b[32m[I 2022-11-23 20:11:59,540]\u001b[0m Trial 191 finished with value: 0.8122951412831332 and parameters: {'objective': 'binary:logistic', 'tree_method': 'gpu_hist', 'lambda': 0.8130767100555608, 'alpha': 1.9030481760921472, 'colsample_bytree': 0.9596718016706559, 'subsample': 0.5519724645895838, 'learning_rate': 0.01608358995522201, 'max_depth': 24, 'min_child_weight': 223, 'eval_metric': 'logloss'}. Best is trial 163 with value: 0.8138226664287315.\u001b[0m\n",
      "/home/tunguz/anaconda3/lib/python3.7/site-packages/xgboost/dask.py:884: RuntimeWarning: coroutine 'Client._wait_for_workers' was never awaited\n",
      "  client.wait_for_workers(n_workers)\n",
      "\u001b[32m[I 2022-11-23 20:15:40,161]\u001b[0m Trial 192 finished with value: 0.8117526125906833 and parameters: {'objective': 'binary:logistic', 'tree_method': 'gpu_hist', 'lambda': 1.2473933567616304, 'alpha': 1.2552060193440377, 'colsample_bytree': 0.978195880194516, 'subsample': 0.5727043693386601, 'learning_rate': 0.014230886246010183, 'max_depth': 24, 'min_child_weight': 250, 'eval_metric': 'logloss'}. Best is trial 163 with value: 0.8138226664287315.\u001b[0m\n",
      "/home/tunguz/anaconda3/lib/python3.7/site-packages/xgboost/dask.py:884: RuntimeWarning: coroutine 'Client._wait_for_workers' was never awaited\n",
      "  client.wait_for_workers(n_workers)\n",
      "\u001b[32m[I 2022-11-23 20:22:55,401]\u001b[0m Trial 193 finished with value: 0.8116501791557842 and parameters: {'objective': 'binary:logistic', 'tree_method': 'gpu_hist', 'lambda': 1.5912076772631587, 'alpha': 1.54671990982662, 'colsample_bytree': 0.9861886705984695, 'subsample': 0.9308839961609403, 'learning_rate': 0.010241624546394518, 'max_depth': 25, 'min_child_weight': 208, 'eval_metric': 'logloss'}. Best is trial 163 with value: 0.8138226664287315.\u001b[0m\n",
      "/home/tunguz/anaconda3/lib/python3.7/site-packages/xgboost/dask.py:884: RuntimeWarning: coroutine 'Client._wait_for_workers' was never awaited\n",
      "  client.wait_for_workers(n_workers)\n",
      "\u001b[32m[I 2022-11-23 20:26:38,832]\u001b[0m Trial 194 finished with value: 0.8132208251575734 and parameters: {'objective': 'binary:logistic', 'tree_method': 'gpu_hist', 'lambda': 0.5607406547232122, 'alpha': 2.1504023721434593, 'colsample_bytree': 0.9593412234898692, 'subsample': 0.5373389307289393, 'learning_rate': 0.011613765486854588, 'max_depth': 24, 'min_child_weight': 235, 'eval_metric': 'logloss'}. Best is trial 163 with value: 0.8138226664287315.\u001b[0m\n",
      "/home/tunguz/anaconda3/lib/python3.7/site-packages/xgboost/dask.py:884: RuntimeWarning: coroutine 'Client._wait_for_workers' was never awaited\n",
      "  client.wait_for_workers(n_workers)\n",
      "\u001b[32m[I 2022-11-23 20:33:18,061]\u001b[0m Trial 195 finished with value: 0.8130852500549832 and parameters: {'objective': 'binary:logistic', 'tree_method': 'gpu_hist', 'lambda': 0.6727287298074853, 'alpha': 2.1566043008904514, 'colsample_bytree': 0.94816054097912, 'subsample': 0.5379734499956067, 'learning_rate': 0.011742011934305073, 'max_depth': 25, 'min_child_weight': 235, 'eval_metric': 'logloss'}. Best is trial 163 with value: 0.8138226664287315.\u001b[0m\n",
      "/home/tunguz/anaconda3/lib/python3.7/site-packages/xgboost/dask.py:884: RuntimeWarning: coroutine 'Client._wait_for_workers' was never awaited\n",
      "  client.wait_for_workers(n_workers)\n",
      "\u001b[32m[I 2022-11-23 20:37:01,345]\u001b[0m Trial 196 finished with value: 0.8129825312674718 and parameters: {'objective': 'binary:logistic', 'tree_method': 'gpu_hist', 'lambda': 0.5386753499914684, 'alpha': 2.782125759042833, 'colsample_bytree': 0.966142247585883, 'subsample': 0.5171870519919672, 'learning_rate': 0.013035203939723966, 'max_depth': 24, 'min_child_weight': 224, 'eval_metric': 'logloss'}. Best is trial 163 with value: 0.8138226664287315.\u001b[0m\n",
      "/home/tunguz/anaconda3/lib/python3.7/site-packages/xgboost/dask.py:884: RuntimeWarning: coroutine 'Client._wait_for_workers' was never awaited\n",
      "  client.wait_for_workers(n_workers)\n",
      "\u001b[32m[I 2022-11-23 20:40:41,946]\u001b[0m Trial 197 finished with value: 0.8123244836846139 and parameters: {'objective': 'binary:logistic', 'tree_method': 'gpu_hist', 'lambda': 0.9433719515129393, 'alpha': 1.7103998846207051, 'colsample_bytree': 0.9334106050889616, 'subsample': 0.5334212488193247, 'learning_rate': 0.01082798849395646, 'max_depth': 24, 'min_child_weight': 244, 'eval_metric': 'logloss'}. Best is trial 163 with value: 0.8138226664287315.\u001b[0m\n",
      "/home/tunguz/anaconda3/lib/python3.7/site-packages/xgboost/dask.py:884: RuntimeWarning: coroutine 'Client._wait_for_workers' was never awaited\n",
      "  client.wait_for_workers(n_workers)\n",
      "\u001b[32m[I 2022-11-23 20:47:31,159]\u001b[0m Trial 198 finished with value: 0.8128585251750794 and parameters: {'objective': 'binary:logistic', 'tree_method': 'gpu_hist', 'lambda': 0.42007409650149824, 'alpha': 2.0655180548915286, 'colsample_bytree': 0.9889015008868973, 'subsample': 0.5472843751038357, 'learning_rate': 0.009736193246282233, 'max_depth': 25, 'min_child_weight': 210, 'eval_metric': 'logloss'}. Best is trial 163 with value: 0.8138226664287315.\u001b[0m\n",
      "/home/tunguz/anaconda3/lib/python3.7/site-packages/xgboost/dask.py:884: RuntimeWarning: coroutine 'Client._wait_for_workers' was never awaited\n",
      "  client.wait_for_workers(n_workers)\n",
      "\u001b[32m[I 2022-11-23 20:51:08,464]\u001b[0m Trial 199 finished with value: 0.8119284794821362 and parameters: {'objective': 'binary:logistic', 'tree_method': 'gpu_hist', 'lambda': 0.5880244822965078, 'alpha': 1.2606542476153237, 'colsample_bytree': 0.954759370620618, 'subsample': 0.5074297639200932, 'learning_rate': 0.011942957813720477, 'max_depth': 24, 'min_child_weight': 254, 'eval_metric': 'logloss'}. Best is trial 163 with value: 0.8138226664287315.\u001b[0m\n",
      "/home/tunguz/anaconda3/lib/python3.7/site-packages/xgboost/dask.py:884: RuntimeWarning: coroutine 'Client._wait_for_workers' was never awaited\n",
      "  client.wait_for_workers(n_workers)\n",
      "\u001b[32m[I 2022-11-23 20:51:45,304]\u001b[0m Trial 200 finished with value: 0.8123824510295784 and parameters: {'objective': 'binary:logistic', 'tree_method': 'gpu_hist', 'lambda': 0.8355475422459465, 'alpha': 0.9345163475299204, 'colsample_bytree': 0.9995672936441, 'subsample': 0.5579278452793435, 'learning_rate': 0.01804125878790015, 'max_depth': 15, 'min_child_weight': 233, 'eval_metric': 'logloss'}. Best is trial 163 with value: 0.8138226664287315.\u001b[0m\n",
      "/home/tunguz/anaconda3/lib/python3.7/site-packages/xgboost/dask.py:884: RuntimeWarning: coroutine 'Client._wait_for_workers' was never awaited\n",
      "  client.wait_for_workers(n_workers)\n",
      "\u001b[32m[I 2022-11-23 20:58:24,622]\u001b[0m Trial 201 finished with value: 0.8126358930669293 and parameters: {'objective': 'binary:logistic', 'tree_method': 'gpu_hist', 'lambda': 0.6757032895367014, 'alpha': 2.3268343703863423, 'colsample_bytree': 0.9471032787755751, 'subsample': 0.5351928355367038, 'learning_rate': 0.011287261492408118, 'max_depth': 25, 'min_child_weight': 237, 'eval_metric': 'logloss'}. Best is trial 163 with value: 0.8138226664287315.\u001b[0m\n",
      "/home/tunguz/anaconda3/lib/python3.7/site-packages/xgboost/dask.py:884: RuntimeWarning: coroutine 'Client._wait_for_workers' was never awaited\n",
      "  client.wait_for_workers(n_workers)\n",
      "\u001b[32m[I 2022-11-23 21:05:02,725]\u001b[0m Trial 202 finished with value: 0.8130143032426231 and parameters: {'objective': 'binary:logistic', 'tree_method': 'gpu_hist', 'lambda': 0.5076760649781554, 'alpha': 2.07315431478213, 'colsample_bytree': 0.9717184584378122, 'subsample': 0.5416084570467607, 'learning_rate': 0.012942286934707888, 'max_depth': 25, 'min_child_weight': 229, 'eval_metric': 'logloss'}. Best is trial 163 with value: 0.8138226664287315.\u001b[0m\n",
      "/home/tunguz/anaconda3/lib/python3.7/site-packages/xgboost/dask.py:884: RuntimeWarning: coroutine 'Client._wait_for_workers' was never awaited\n",
      "  client.wait_for_workers(n_workers)\n",
      "\u001b[32m[I 2022-11-23 21:11:40,858]\u001b[0m Trial 203 finished with value: 0.8128612645601578 and parameters: {'objective': 'binary:logistic', 'tree_method': 'gpu_hist', 'lambda': 0.7084677405652591, 'alpha': 3.8750972079630808, 'colsample_bytree': 0.94431693237227, 'subsample': 0.5260146016441983, 'learning_rate': 0.011700303701072175, 'max_depth': 25, 'min_child_weight': 244, 'eval_metric': 'logloss'}. Best is trial 163 with value: 0.8138226664287315.\u001b[0m\n",
      "/home/tunguz/anaconda3/lib/python3.7/site-packages/xgboost/dask.py:884: RuntimeWarning: coroutine 'Client._wait_for_workers' was never awaited\n",
      "  client.wait_for_workers(n_workers)\n",
      "\u001b[32m[I 2022-11-23 21:18:17,308]\u001b[0m Trial 204 finished with value: 0.8138435786987503 and parameters: {'objective': 'binary:logistic', 'tree_method': 'gpu_hist', 'lambda': 0.9614672750303118, 'alpha': 1.5066291720335054, 'colsample_bytree': 0.9626922199863466, 'subsample': 0.519587445251974, 'learning_rate': 0.0139227853701842, 'max_depth': 25, 'min_child_weight': 238, 'eval_metric': 'logloss'}. Best is trial 204 with value: 0.8138435786987503.\u001b[0m\n",
      "/home/tunguz/anaconda3/lib/python3.7/site-packages/xgboost/dask.py:884: RuntimeWarning: coroutine 'Client._wait_for_workers' was never awaited\n",
      "  client.wait_for_workers(n_workers)\n",
      "\u001b[32m[I 2022-11-23 21:22:00,011]\u001b[0m Trial 205 finished with value: 0.8130440043731022 and parameters: {'objective': 'binary:logistic', 'tree_method': 'gpu_hist', 'lambda': 1.8923729215933451, 'alpha': 1.5653359371926958, 'colsample_bytree': 0.9807061187889203, 'subsample': 0.5149831603470759, 'learning_rate': 0.014233837345783842, 'max_depth': 24, 'min_child_weight': 220, 'eval_metric': 'logloss'}. Best is trial 204 with value: 0.8138435786987503.\u001b[0m\n",
      "/home/tunguz/anaconda3/lib/python3.7/site-packages/xgboost/dask.py:884: RuntimeWarning: coroutine 'Client._wait_for_workers' was never awaited\n",
      "  client.wait_for_workers(n_workers)\n",
      "\u001b[32m[I 2022-11-23 21:25:35,967]\u001b[0m Trial 206 finished with value: 0.8121502310736537 and parameters: {'objective': 'binary:logistic', 'tree_method': 'gpu_hist', 'lambda': 1.016320777291049, 'alpha': 1.1948763195449454, 'colsample_bytree': 0.9640371741277712, 'subsample': 0.5003854074797288, 'learning_rate': 0.016372345796619763, 'max_depth': 24, 'min_child_weight': 239, 'eval_metric': 'logloss'}. Best is trial 204 with value: 0.8138435786987503.\u001b[0m\n",
      "/home/tunguz/anaconda3/lib/python3.7/site-packages/xgboost/dask.py:884: RuntimeWarning: coroutine 'Client._wait_for_workers' was never awaited\n",
      "  client.wait_for_workers(n_workers)\n",
      "\u001b[32m[I 2022-11-23 21:32:12,206]\u001b[0m Trial 207 finished with value: 0.8133229732398604 and parameters: {'objective': 'binary:logistic', 'tree_method': 'gpu_hist', 'lambda': 1.3179061525348288, 'alpha': 1.658941110287552, 'colsample_bytree': 0.987982921661076, 'subsample': 0.523181375271245, 'learning_rate': 0.01278499630634217, 'max_depth': 25, 'min_child_weight': 247, 'eval_metric': 'logloss'}. Best is trial 204 with value: 0.8138435786987503.\u001b[0m\n",
      "/home/tunguz/anaconda3/lib/python3.7/site-packages/xgboost/dask.py:884: RuntimeWarning: coroutine 'Client._wait_for_workers' was never awaited\n",
      "  client.wait_for_workers(n_workers)\n",
      "\u001b[32m[I 2022-11-23 21:38:44,955]\u001b[0m Trial 208 finished with value: 0.8134030187240884 and parameters: {'objective': 'binary:logistic', 'tree_method': 'gpu_hist', 'lambda': 1.4552602077669963, 'alpha': 1.4238093499520295, 'colsample_bytree': 0.9880095711304607, 'subsample': 0.5254278906751573, 'learning_rate': 0.013132693376755477, 'max_depth': 25, 'min_child_weight': 249, 'eval_metric': 'logloss'}. Best is trial 204 with value: 0.8138435786987503.\u001b[0m\n",
      "/home/tunguz/anaconda3/lib/python3.7/site-packages/xgboost/dask.py:884: RuntimeWarning: coroutine 'Client._wait_for_workers' was never awaited\n",
      "  client.wait_for_workers(n_workers)\n",
      "\u001b[32m[I 2022-11-23 21:45:18,010]\u001b[0m Trial 209 finished with value: 0.8129481503541504 and parameters: {'objective': 'binary:logistic', 'tree_method': 'gpu_hist', 'lambda': 1.5235216850596163, 'alpha': 1.5870989645651805, 'colsample_bytree': 0.9896096808327488, 'subsample': 0.5183161565584702, 'learning_rate': 0.013340615032650736, 'max_depth': 25, 'min_child_weight': 254, 'eval_metric': 'logloss'}. Best is trial 204 with value: 0.8138435786987503.\u001b[0m\n",
      "/home/tunguz/anaconda3/lib/python3.7/site-packages/xgboost/dask.py:884: RuntimeWarning: coroutine 'Client._wait_for_workers' was never awaited\n",
      "  client.wait_for_workers(n_workers)\n",
      "\u001b[32m[I 2022-11-23 21:51:52,601]\u001b[0m Trial 210 finished with value: 0.8129001132800953 and parameters: {'objective': 'binary:logistic', 'tree_method': 'gpu_hist', 'lambda': 2.5079730360766312, 'alpha': 2.7893077820344683, 'colsample_bytree': 0.9995722323207322, 'subsample': 0.4975973058958503, 'learning_rate': 0.01396830229662937, 'max_depth': 25, 'min_child_weight': 250, 'eval_metric': 'logloss'}. Best is trial 204 with value: 0.8138435786987503.\u001b[0m\n",
      "/home/tunguz/anaconda3/lib/python3.7/site-packages/xgboost/dask.py:884: RuntimeWarning: coroutine 'Client._wait_for_workers' was never awaited\n",
      "  client.wait_for_workers(n_workers)\n",
      "\u001b[32m[I 2022-11-23 21:58:27,941]\u001b[0m Trial 211 finished with value: 0.8128687244927376 and parameters: {'objective': 'binary:logistic', 'tree_method': 'gpu_hist', 'lambda': 1.2854667893326834, 'alpha': 1.448843460651629, 'colsample_bytree': 0.9645469681312625, 'subsample': 0.5234767062577483, 'learning_rate': 0.012724970315383154, 'max_depth': 25, 'min_child_weight': 245, 'eval_metric': 'logloss'}. Best is trial 204 with value: 0.8138435786987503.\u001b[0m\n",
      "/home/tunguz/anaconda3/lib/python3.7/site-packages/xgboost/dask.py:884: RuntimeWarning: coroutine 'Client._wait_for_workers' was never awaited\n",
      "  client.wait_for_workers(n_workers)\n",
      "\u001b[32m[I 2022-11-23 22:05:05,055]\u001b[0m Trial 212 finished with value: 0.8122497294531118 and parameters: {'objective': 'binary:logistic', 'tree_method': 'gpu_hist', 'lambda': 0.9827973602581275, 'alpha': 1.1278539962840692, 'colsample_bytree': 0.9811927340157429, 'subsample': 0.5105056574273764, 'learning_rate': 0.010249264867678918, 'max_depth': 25, 'min_child_weight': 241, 'eval_metric': 'logloss'}. Best is trial 204 with value: 0.8138435786987503.\u001b[0m\n",
      "/home/tunguz/anaconda3/lib/python3.7/site-packages/xgboost/dask.py:884: RuntimeWarning: coroutine 'Client._wait_for_workers' was never awaited\n",
      "  client.wait_for_workers(n_workers)\n",
      "\u001b[32m[I 2022-11-23 22:11:40,125]\u001b[0m Trial 213 finished with value: 0.8132008667805729 and parameters: {'objective': 'binary:logistic', 'tree_method': 'gpu_hist', 'lambda': 1.689683224039556, 'alpha': 0.9016884484182323, 'colsample_bytree': 0.9566172705906252, 'subsample': 0.5313908986047492, 'learning_rate': 0.012539744265693308, 'max_depth': 25, 'min_child_weight': 246, 'eval_metric': 'logloss'}. Best is trial 204 with value: 0.8138435786987503.\u001b[0m\n",
      "/home/tunguz/anaconda3/lib/python3.7/site-packages/xgboost/dask.py:884: RuntimeWarning: coroutine 'Client._wait_for_workers' was never awaited\n",
      "  client.wait_for_workers(n_workers)\n",
      "\u001b[32m[I 2022-11-23 22:18:14,115]\u001b[0m Trial 214 finished with value: 0.8126878680070347 and parameters: {'objective': 'binary:logistic', 'tree_method': 'gpu_hist', 'lambda': 1.6420659649326066, 'alpha': 0.9069230742107935, 'colsample_bytree': 0.9732539936330525, 'subsample': 0.5266770982476732, 'learning_rate': 0.013657880502476145, 'max_depth': 25, 'min_child_weight': 249, 'eval_metric': 'logloss'}. Best is trial 204 with value: 0.8138435786987503.\u001b[0m\n",
      "/home/tunguz/anaconda3/lib/python3.7/site-packages/xgboost/dask.py:884: RuntimeWarning: coroutine 'Client._wait_for_workers' was never awaited\n",
      "  client.wait_for_workers(n_workers)\n",
      "\u001b[32m[I 2022-11-23 22:24:45,479]\u001b[0m Trial 215 finished with value: 0.812607920357988 and parameters: {'objective': 'binary:logistic', 'tree_method': 'gpu_hist', 'lambda': 0.8302722568396192, 'alpha': 1.8001657507899826, 'colsample_bytree': 0.9875275426288898, 'subsample': 0.5103157794274317, 'learning_rate': 0.012484193538459752, 'max_depth': 25, 'min_child_weight': 256, 'eval_metric': 'logloss'}. Best is trial 204 with value: 0.8138435786987503.\u001b[0m\n",
      "/home/tunguz/anaconda3/lib/python3.7/site-packages/xgboost/dask.py:884: RuntimeWarning: coroutine 'Client._wait_for_workers' was never awaited\n",
      "  client.wait_for_workers(n_workers)\n",
      "\u001b[32m[I 2022-11-23 22:31:21,838]\u001b[0m Trial 216 finished with value: 0.8130429363390388 and parameters: {'objective': 'binary:logistic', 'tree_method': 'gpu_hist', 'lambda': 1.8386796467469793, 'alpha': 0.9587047102016254, 'colsample_bytree': 0.9549671274547428, 'subsample': 0.5329345025514021, 'learning_rate': 0.015247118841272733, 'max_depth': 25, 'min_child_weight': 228, 'eval_metric': 'logloss'}. Best is trial 204 with value: 0.8138435786987503.\u001b[0m\n",
      "/home/tunguz/anaconda3/lib/python3.7/site-packages/xgboost/dask.py:884: RuntimeWarning: coroutine 'Client._wait_for_workers' was never awaited\n",
      "  client.wait_for_workers(n_workers)\n",
      "\u001b[32m[I 2022-11-23 22:38:02,226]\u001b[0m Trial 217 finished with value: 0.8132127211433829 and parameters: {'objective': 'binary:logistic', 'tree_method': 'gpu_hist', 'lambda': 1.3083821887084965, 'alpha': 0.7817069701059324, 'colsample_bytree': 0.9285068751454905, 'subsample': 0.5587865862420935, 'learning_rate': 0.011133562785206089, 'max_depth': 25, 'min_child_weight': 246, 'eval_metric': 'logloss'}. Best is trial 204 with value: 0.8138435786987503.\u001b[0m\n",
      "/home/tunguz/anaconda3/lib/python3.7/site-packages/xgboost/dask.py:884: RuntimeWarning: coroutine 'Client._wait_for_workers' was never awaited\n",
      "  client.wait_for_workers(n_workers)\n",
      "\u001b[32m[I 2022-11-23 22:44:41,792]\u001b[0m Trial 218 finished with value: 0.8126952871749556 and parameters: {'objective': 'binary:logistic', 'tree_method': 'gpu_hist', 'lambda': 1.3269271339664233, 'alpha': 0.8070471739494983, 'colsample_bytree': 0.7584348115729267, 'subsample': 0.5557490856910825, 'learning_rate': 0.010820375981771713, 'max_depth': 25, 'min_child_weight': 245, 'eval_metric': 'logloss'}. Best is trial 204 with value: 0.8138435786987503.\u001b[0m\n",
      "/home/tunguz/anaconda3/lib/python3.7/site-packages/xgboost/dask.py:884: RuntimeWarning: coroutine 'Client._wait_for_workers' was never awaited\n",
      "  client.wait_for_workers(n_workers)\n",
      "\u001b[32m[I 2022-11-23 22:51:18,095]\u001b[0m Trial 219 finished with value: 0.8126090862272328 and parameters: {'objective': 'binary:logistic', 'tree_method': 'gpu_hist', 'lambda': 2.151174362243709, 'alpha': 1.205139560665693, 'colsample_bytree': 0.9718994459039763, 'subsample': 0.5194093987120382, 'learning_rate': 0.011245876856673232, 'max_depth': 25, 'min_child_weight': 239, 'eval_metric': 'logloss'}. Best is trial 204 with value: 0.8138435786987503.\u001b[0m\n",
      "/home/tunguz/anaconda3/lib/python3.7/site-packages/xgboost/dask.py:884: RuntimeWarning: coroutine 'Client._wait_for_workers' was never awaited\n",
      "  client.wait_for_workers(n_workers)\n",
      "\u001b[32m[I 2022-11-23 22:54:58,150]\u001b[0m Trial 220 finished with value: 0.813071324847501 and parameters: {'objective': 'binary:logistic', 'tree_method': 'gpu_hist', 'lambda': 1.0336583476582588, 'alpha': 0.7118513745439302, 'colsample_bytree': 0.9253867658547408, 'subsample': 0.49454043800621317, 'learning_rate': 0.009888247628893008, 'max_depth': 24, 'min_child_weight': 251, 'eval_metric': 'logloss'}. Best is trial 204 with value: 0.8138435786987503.\u001b[0m\n",
      "/home/tunguz/anaconda3/lib/python3.7/site-packages/xgboost/dask.py:884: RuntimeWarning: coroutine 'Client._wait_for_workers' was never awaited\n",
      "  client.wait_for_workers(n_workers)\n",
      "\u001b[32m[I 2022-11-23 23:01:35,329]\u001b[0m Trial 221 finished with value: 0.8131227372353135 and parameters: {'objective': 'binary:logistic', 'tree_method': 'gpu_hist', 'lambda': 1.4419259188500642, 'alpha': 2.4521128003478796, 'colsample_bytree': 0.9383672774538158, 'subsample': 0.5362131836130927, 'learning_rate': 0.012828356572176654, 'max_depth': 25, 'min_child_weight': 231, 'eval_metric': 'logloss'}. Best is trial 204 with value: 0.8138435786987503.\u001b[0m\n",
      "/home/tunguz/anaconda3/lib/python3.7/site-packages/xgboost/dask.py:884: RuntimeWarning: coroutine 'Client._wait_for_workers' was never awaited\n",
      "  client.wait_for_workers(n_workers)\n",
      "\u001b[32m[I 2022-11-23 23:08:32,584]\u001b[0m Trial 222 finished with value: 0.8115675328863178 and parameters: {'objective': 'binary:logistic', 'tree_method': 'gpu_hist', 'lambda': 2.9517637551448606, 'alpha': 2.511323026062727, 'colsample_bytree': 0.9450800391720229, 'subsample': 0.7981070343836348, 'learning_rate': 0.012324330096499782, 'max_depth': 25, 'min_child_weight': 232, 'eval_metric': 'logloss'}. Best is trial 204 with value: 0.8138435786987503.\u001b[0m\n",
      "/home/tunguz/anaconda3/lib/python3.7/site-packages/xgboost/dask.py:884: RuntimeWarning: coroutine 'Client._wait_for_workers' was never awaited\n",
      "  client.wait_for_workers(n_workers)\n",
      "\u001b[32m[I 2022-11-23 23:15:07,941]\u001b[0m Trial 223 finished with value: 0.8126385590756219 and parameters: {'objective': 'binary:logistic', 'tree_method': 'gpu_hist', 'lambda': 1.4979168747341052, 'alpha': 1.9211953979529142, 'colsample_bytree': 0.9358981198463161, 'subsample': 0.533843782857192, 'learning_rate': 0.013828787691144647, 'max_depth': 25, 'min_child_weight': 239, 'eval_metric': 'logloss'}. Best is trial 204 with value: 0.8138435786987503.\u001b[0m\n",
      "/home/tunguz/anaconda3/lib/python3.7/site-packages/xgboost/dask.py:884: RuntimeWarning: coroutine 'Client._wait_for_workers' was never awaited\n",
      "  client.wait_for_workers(n_workers)\n",
      "\u001b[32m[I 2022-11-23 23:21:46,167]\u001b[0m Trial 224 finished with value: 0.8130291823431239 and parameters: {'objective': 'binary:logistic', 'tree_method': 'gpu_hist', 'lambda': 1.3276867699281452, 'alpha': 1.3794382790593336, 'colsample_bytree': 0.9605694925232953, 'subsample': 0.5471794404352182, 'learning_rate': 0.014693445849709138, 'max_depth': 25, 'min_child_weight': 225, 'eval_metric': 'logloss'}. Best is trial 204 with value: 0.8138435786987503.\u001b[0m\n",
      "/home/tunguz/anaconda3/lib/python3.7/site-packages/xgboost/dask.py:884: RuntimeWarning: coroutine 'Client._wait_for_workers' was never awaited\n",
      "  client.wait_for_workers(n_workers)\n",
      "\u001b[32m[I 2022-11-23 23:25:26,405]\u001b[0m Trial 225 finished with value: 0.8132581248204724 and parameters: {'objective': 'binary:logistic', 'tree_method': 'gpu_hist', 'lambda': 1.0848823598493902, 'alpha': 3.3012849756275884, 'colsample_bytree': 0.9856407914579933, 'subsample': 0.5247585130261515, 'learning_rate': 0.012272009274725661, 'max_depth': 24, 'min_child_weight': 246, 'eval_metric': 'logloss'}. Best is trial 204 with value: 0.8138435786987503.\u001b[0m\n",
      "/home/tunguz/anaconda3/lib/python3.7/site-packages/xgboost/dask.py:884: RuntimeWarning: coroutine 'Client._wait_for_workers' was never awaited\n",
      "  client.wait_for_workers(n_workers)\n",
      "\u001b[32m[I 2022-11-23 23:29:07,974]\u001b[0m Trial 226 finished with value: 0.8127417181214498 and parameters: {'objective': 'binary:logistic', 'tree_method': 'gpu_hist', 'lambda': 1.1302440385056778, 'alpha': 3.209059773742136, 'colsample_bytree': 0.9910170536224246, 'subsample': 0.5231724821093312, 'learning_rate': 0.01154981099083004, 'max_depth': 24, 'min_child_weight': 246, 'eval_metric': 'logloss'}. Best is trial 204 with value: 0.8138435786987503.\u001b[0m\n",
      "/home/tunguz/anaconda3/lib/python3.7/site-packages/xgboost/dask.py:884: RuntimeWarning: coroutine 'Client._wait_for_workers' was never awaited\n",
      "  client.wait_for_workers(n_workers)\n",
      "\u001b[32m[I 2022-11-23 23:35:45,623]\u001b[0m Trial 227 finished with value: 0.8125554317831806 and parameters: {'objective': 'binary:logistic', 'tree_method': 'gpu_hist', 'lambda': 0.8748015253547801, 'alpha': 2.480216393624325, 'colsample_bytree': 0.9997867258929068, 'subsample': 0.5064352718870574, 'learning_rate': 0.010757625300648803, 'max_depth': 25, 'min_child_weight': 233, 'eval_metric': 'logloss'}. Best is trial 204 with value: 0.8138435786987503.\u001b[0m\n",
      "/home/tunguz/anaconda3/lib/python3.7/site-packages/xgboost/dask.py:884: RuntimeWarning: coroutine 'Client._wait_for_workers' was never awaited\n",
      "  client.wait_for_workers(n_workers)\n",
      "\u001b[32m[I 2022-11-23 23:39:51,039]\u001b[0m Trial 228 finished with value: 0.8124330562771445 and parameters: {'objective': 'binary:logistic', 'tree_method': 'gpu_hist', 'lambda': 1.7944172610470288, 'alpha': 6.6285943908545235, 'colsample_bytree': 0.9794597008693895, 'subsample': 0.5257945011781572, 'learning_rate': 0.01250274123452783, 'max_depth': 24, 'min_child_weight': 146, 'eval_metric': 'logloss'}. Best is trial 204 with value: 0.8138435786987503.\u001b[0m\n",
      "/home/tunguz/anaconda3/lib/python3.7/site-packages/xgboost/dask.py:884: RuntimeWarning: coroutine 'Client._wait_for_workers' was never awaited\n",
      "  client.wait_for_workers(n_workers)\n",
      "\u001b[32m[I 2022-11-23 23:46:25,796]\u001b[0m Trial 229 finished with value: 0.8128567478359511 and parameters: {'objective': 'binary:logistic', 'tree_method': 'gpu_hist', 'lambda': 1.2020018399629049, 'alpha': 1.715785377976954, 'colsample_bytree': 0.9586357160625955, 'subsample': 0.5430421859873484, 'learning_rate': 0.016823910124039387, 'max_depth': 25, 'min_child_weight': 239, 'eval_metric': 'logloss'}. Best is trial 204 with value: 0.8138435786987503.\u001b[0m\n",
      "/home/tunguz/anaconda3/lib/python3.7/site-packages/xgboost/dask.py:884: RuntimeWarning: coroutine 'Client._wait_for_workers' was never awaited\n",
      "  client.wait_for_workers(n_workers)\n",
      "\u001b[32m[I 2022-11-23 23:50:03,046]\u001b[0m Trial 230 finished with value: 0.8124155437796783 and parameters: {'objective': 'binary:logistic', 'tree_method': 'gpu_hist', 'lambda': 1.00580175719637, 'alpha': 3.3269483136327183, 'colsample_bytree': 0.9833444362724185, 'subsample': 0.43312766915177414, 'learning_rate': 0.00905480179856604, 'max_depth': 24, 'min_child_weight': 246, 'eval_metric': 'logloss'}. Best is trial 204 with value: 0.8138435786987503.\u001b[0m\n",
      "/home/tunguz/anaconda3/lib/python3.7/site-packages/xgboost/dask.py:884: RuntimeWarning: coroutine 'Client._wait_for_workers' was never awaited\n",
      "  client.wait_for_workers(n_workers)\n",
      "\u001b[32m[I 2022-11-23 23:56:36,781]\u001b[0m Trial 231 finished with value: 0.8127125469315365 and parameters: {'objective': 'binary:logistic', 'tree_method': 'gpu_hist', 'lambda': 0.8471272737558181, 'alpha': 1.028212291578331, 'colsample_bytree': 0.9664315035297183, 'subsample': 0.5328720974906966, 'learning_rate': 0.013178224656026133, 'max_depth': 25, 'min_child_weight': 258, 'eval_metric': 'logloss'}. Best is trial 204 with value: 0.8138435786987503.\u001b[0m\n",
      "/home/tunguz/anaconda3/lib/python3.7/site-packages/xgboost/dask.py:884: RuntimeWarning: coroutine 'Client._wait_for_workers' was never awaited\n",
      "  client.wait_for_workers(n_workers)\n",
      "\u001b[32m[I 2022-11-24 00:03:14,716]\u001b[0m Trial 232 finished with value: 0.8126045613500942 and parameters: {'objective': 'binary:logistic', 'tree_method': 'gpu_hist', 'lambda': 2.1131967073390245, 'alpha': 2.4197802607282153, 'colsample_bytree': 0.9725339550405907, 'subsample': 0.5571136510167424, 'learning_rate': 0.014275743842595555, 'max_depth': 25, 'min_child_weight': 254, 'eval_metric': 'logloss'}. Best is trial 204 with value: 0.8138435786987503.\u001b[0m\n",
      "/home/tunguz/anaconda3/lib/python3.7/site-packages/xgboost/dask.py:884: RuntimeWarning: coroutine 'Client._wait_for_workers' was never awaited\n",
      "  client.wait_for_workers(n_workers)\n",
      "\u001b[32m[I 2022-11-24 00:06:54,163]\u001b[0m Trial 233 finished with value: 0.8123287476679353 and parameters: {'objective': 'binary:logistic', 'tree_method': 'gpu_hist', 'lambda': 0.6986224972496374, 'alpha': 1.6660291122016604, 'colsample_bytree': 0.9408257172164527, 'subsample': 0.512889470282902, 'learning_rate': 0.012079656986084281, 'max_depth': 24, 'min_child_weight': 243, 'eval_metric': 'logloss'}. Best is trial 204 with value: 0.8138435786987503.\u001b[0m\n",
      "/home/tunguz/anaconda3/lib/python3.7/site-packages/xgboost/dask.py:884: RuntimeWarning: coroutine 'Client._wait_for_workers' was never awaited\n",
      "  client.wait_for_workers(n_workers)\n",
      "\u001b[32m[I 2022-11-24 00:13:33,236]\u001b[0m Trial 234 finished with value: 0.8126753287979552 and parameters: {'objective': 'binary:logistic', 'tree_method': 'gpu_hist', 'lambda': 1.4645374384223047, 'alpha': 2.1939005138714975, 'colsample_bytree': 0.9508509170205125, 'subsample': 0.5370101542720682, 'learning_rate': 0.013023361264718, 'max_depth': 25, 'min_child_weight': 230, 'eval_metric': 'logloss'}. Best is trial 204 with value: 0.8138435786987503.\u001b[0m\n",
      "/home/tunguz/anaconda3/lib/python3.7/site-packages/xgboost/dask.py:884: RuntimeWarning: coroutine 'Client._wait_for_workers' was never awaited\n",
      "  client.wait_for_workers(n_workers)\n",
      "\u001b[32m[I 2022-11-24 00:20:05,738]\u001b[0m Trial 235 finished with value: 0.8128837992636011 and parameters: {'objective': 'binary:logistic', 'tree_method': 'gpu_hist', 'lambda': 1.1230452357404719, 'alpha': 2.8552304966977347, 'colsample_bytree': 0.9855762065785566, 'subsample': 0.520309422948594, 'learning_rate': 0.015308732726156378, 'max_depth': 25, 'min_child_weight': 249, 'eval_metric': 'logloss'}. Best is trial 204 with value: 0.8138435786987503.\u001b[0m\n",
      "/home/tunguz/anaconda3/lib/python3.7/site-packages/xgboost/dask.py:884: RuntimeWarning: coroutine 'Client._wait_for_workers' was never awaited\n",
      "  client.wait_for_workers(n_workers)\n",
      "\u001b[32m[I 2022-11-24 00:23:52,787]\u001b[0m Trial 236 finished with value: 0.8125219639982186 and parameters: {'objective': 'binary:logistic', 'tree_method': 'gpu_hist', 'lambda': 0.757018147618891, 'alpha': 0.7948628645274546, 'colsample_bytree': 0.9719525974123925, 'subsample': 0.5486474558976585, 'learning_rate': 0.011293637421580545, 'max_depth': 24, 'min_child_weight': 221, 'eval_metric': 'logloss'}. Best is trial 204 with value: 0.8138435786987503.\u001b[0m\n",
      "/home/tunguz/anaconda3/lib/python3.7/site-packages/xgboost/dask.py:884: RuntimeWarning: coroutine 'Client._wait_for_workers' was never awaited\n",
      "  client.wait_for_workers(n_workers)\n",
      "\u001b[32m[I 2022-11-24 00:30:41,229]\u001b[0m Trial 237 finished with value: 0.8054968272702914 and parameters: {'objective': 'binary:logistic', 'tree_method': 'gpu_hist', 'lambda': 1.6707806826630418, 'alpha': 1.3090692757298503, 'colsample_bytree': 0.9573791100695713, 'subsample': 0.5025539651262126, 'learning_rate': 0.003256468136624558, 'max_depth': 25, 'min_child_weight': 236, 'eval_metric': 'logloss'}. Best is trial 204 with value: 0.8138435786987503.\u001b[0m\n",
      "/home/tunguz/anaconda3/lib/python3.7/site-packages/xgboost/dask.py:884: RuntimeWarning: coroutine 'Client._wait_for_workers' was never awaited\n",
      "  client.wait_for_workers(n_workers)\n",
      "\u001b[32m[I 2022-11-24 00:34:39,621]\u001b[0m Trial 238 finished with value: 0.810174522962178 and parameters: {'objective': 'binary:logistic', 'tree_method': 'gpu_hist', 'lambda': 0.898771477179882, 'alpha': 4.352466005980027, 'colsample_bytree': 0.5852683910370164, 'subsample': 0.531661851023063, 'learning_rate': 0.013675593225038677, 'max_depth': 23, 'min_child_weight': 54, 'eval_metric': 'logloss'}. Best is trial 204 with value: 0.8138435786987503.\u001b[0m\n",
      "/home/tunguz/anaconda3/lib/python3.7/site-packages/xgboost/dask.py:884: RuntimeWarning: coroutine 'Client._wait_for_workers' was never awaited\n",
      "  client.wait_for_workers(n_workers)\n",
      "\u001b[32m[I 2022-11-24 00:38:19,119]\u001b[0m Trial 239 finished with value: 0.8131453942327335 and parameters: {'objective': 'binary:logistic', 'tree_method': 'gpu_hist', 'lambda': 0.6054823580115918, 'alpha': 1.9364485837519256, 'colsample_bytree': 0.9289870766833019, 'subsample': 0.517253080485988, 'learning_rate': 0.012463275252059926, 'max_depth': 24, 'min_child_weight': 239, 'eval_metric': 'logloss'}. Best is trial 204 with value: 0.8138435786987503.\u001b[0m\n",
      "/home/tunguz/anaconda3/lib/python3.7/site-packages/xgboost/dask.py:884: RuntimeWarning: coroutine 'Client._wait_for_workers' was never awaited\n",
      "  client.wait_for_workers(n_workers)\n",
      "\u001b[32m[I 2022-11-24 00:42:00,569]\u001b[0m Trial 240 finished with value: 0.8126420566833561 and parameters: {'objective': 'binary:logistic', 'tree_method': 'gpu_hist', 'lambda': 0.5881887776753426, 'alpha': 2.0297380766386, 'colsample_bytree': 0.9249296038291162, 'subsample': 0.48443765010924666, 'learning_rate': 0.009965153358062197, 'max_depth': 24, 'min_child_weight': 238, 'eval_metric': 'logloss'}. Best is trial 204 with value: 0.8138435786987503.\u001b[0m\n",
      "/home/tunguz/anaconda3/lib/python3.7/site-packages/xgboost/dask.py:884: RuntimeWarning: coroutine 'Client._wait_for_workers' was never awaited\n",
      "  client.wait_for_workers(n_workers)\n",
      "\u001b[32m[I 2022-11-24 00:45:40,350]\u001b[0m Trial 241 finished with value: 0.8130080336380834 and parameters: {'objective': 'binary:logistic', 'tree_method': 'gpu_hist', 'lambda': 1.3128683817177218, 'alpha': 1.6212896958450322, 'colsample_bytree': 0.941301341980913, 'subsample': 0.5143589318101522, 'learning_rate': 0.012230234211896316, 'max_depth': 24, 'min_child_weight': 243, 'eval_metric': 'logloss'}. Best is trial 204 with value: 0.8138435786987503.\u001b[0m\n",
      "/home/tunguz/anaconda3/lib/python3.7/site-packages/xgboost/dask.py:884: RuntimeWarning: coroutine 'Client._wait_for_workers' was never awaited\n",
      "  client.wait_for_workers(n_workers)\n",
      "\u001b[32m[I 2022-11-24 00:52:18,130]\u001b[0m Trial 242 finished with value: 0.8132653809297578 and parameters: {'objective': 'binary:logistic', 'tree_method': 'gpu_hist', 'lambda': 0.7364967782902189, 'alpha': 1.9083059760922465, 'colsample_bytree': 0.96959368805321, 'subsample': 0.5263933477819336, 'learning_rate': 0.01295670560227517, 'max_depth': 25, 'min_child_weight': 229, 'eval_metric': 'logloss'}. Best is trial 204 with value: 0.8138435786987503.\u001b[0m\n",
      "/home/tunguz/anaconda3/lib/python3.7/site-packages/xgboost/dask.py:884: RuntimeWarning: coroutine 'Client._wait_for_workers' was never awaited\n",
      "  client.wait_for_workers(n_workers)\n",
      "\u001b[32m[I 2022-11-24 00:58:57,065]\u001b[0m Trial 243 finished with value: 0.8128169778347222 and parameters: {'objective': 'binary:logistic', 'tree_method': 'gpu_hist', 'lambda': 0.6948515285758518, 'alpha': 2.128815522420781, 'colsample_bytree': 0.9832234125728926, 'subsample': 0.528280170314231, 'learning_rate': 0.014623475995263497, 'max_depth': 25, 'min_child_weight': 229, 'eval_metric': 'logloss'}. Best is trial 204 with value: 0.8138435786987503.\u001b[0m\n",
      "/home/tunguz/anaconda3/lib/python3.7/site-packages/xgboost/dask.py:884: RuntimeWarning: coroutine 'Client._wait_for_workers' was never awaited\n",
      "  client.wait_for_workers(n_workers)\n",
      "\u001b[32m[I 2022-11-24 01:05:37,719]\u001b[0m Trial 244 finished with value: 0.8123785294693915 and parameters: {'objective': 'binary:logistic', 'tree_method': 'gpu_hist', 'lambda': 0.5488244289171172, 'alpha': 1.9518358157442988, 'colsample_bytree': 0.95625406276669, 'subsample': 0.5163263629270126, 'learning_rate': 0.011296269733398931, 'max_depth': 25, 'min_child_weight': 224, 'eval_metric': 'logloss'}. Best is trial 204 with value: 0.8138435786987503.\u001b[0m\n",
      "/home/tunguz/anaconda3/lib/python3.7/site-packages/xgboost/dask.py:884: RuntimeWarning: coroutine 'Client._wait_for_workers' was never awaited\n",
      "  client.wait_for_workers(n_workers)\n",
      "\u001b[32m[I 2022-11-24 01:12:19,387]\u001b[0m Trial 245 finished with value: 0.8134657310753495 and parameters: {'objective': 'binary:logistic', 'tree_method': 'gpu_hist', 'lambda': 0.9744526111478552, 'alpha': 2.781898786592107, 'colsample_bytree': 0.9717741385791102, 'subsample': 0.5376626827564062, 'learning_rate': 0.013104867808028274, 'max_depth': 25, 'min_child_weight': 217, 'eval_metric': 'logloss'}. Best is trial 204 with value: 0.8138435786987503.\u001b[0m\n",
      "/home/tunguz/anaconda3/lib/python3.7/site-packages/xgboost/dask.py:884: RuntimeWarning: coroutine 'Client._wait_for_workers' was never awaited\n",
      "  client.wait_for_workers(n_workers)\n",
      "\u001b[32m[I 2022-11-24 01:19:03,521]\u001b[0m Trial 246 finished with value: 0.8122713510281956 and parameters: {'objective': 'binary:logistic', 'tree_method': 'gpu_hist', 'lambda': 0.9633253903681367, 'alpha': 2.9728413156986346, 'colsample_bytree': 0.9986670660700482, 'subsample': 0.5407541641239397, 'learning_rate': 0.012441669096710456, 'max_depth': 25, 'min_child_weight': 216, 'eval_metric': 'logloss'}. Best is trial 204 with value: 0.8138435786987503.\u001b[0m\n",
      "/home/tunguz/anaconda3/lib/python3.7/site-packages/xgboost/dask.py:884: RuntimeWarning: coroutine 'Client._wait_for_workers' was never awaited\n",
      "  client.wait_for_workers(n_workers)\n",
      "\u001b[32m[I 2022-11-24 01:25:41,896]\u001b[0m Trial 247 finished with value: 0.8128196438434147 and parameters: {'objective': 'binary:logistic', 'tree_method': 'gpu_hist', 'lambda': 1.1440782862723218, 'alpha': 3.763998571510981, 'colsample_bytree': 0.9733560093575797, 'subsample': 0.5063794126955845, 'learning_rate': 0.01370004274537482, 'max_depth': 25, 'min_child_weight': 218, 'eval_metric': 'logloss'}. Best is trial 204 with value: 0.8138435786987503.\u001b[0m\n",
      "/home/tunguz/anaconda3/lib/python3.7/site-packages/xgboost/dask.py:884: RuntimeWarning: coroutine 'Client._wait_for_workers' was never awaited\n",
      "  client.wait_for_workers(n_workers)\n",
      "\u001b[32m[I 2022-11-24 01:29:25,877]\u001b[0m Trial 248 finished with value: 0.8128477062346057 and parameters: {'objective': 'binary:logistic', 'tree_method': 'gpu_hist', 'lambda': 0.8399534737766333, 'alpha': 2.3696499791301706, 'colsample_bytree': 0.9853225505054037, 'subsample': 0.5256178098467761, 'learning_rate': 0.010927978855896657, 'max_depth': 24, 'min_child_weight': 234, 'eval_metric': 'logloss'}. Best is trial 204 with value: 0.8138435786987503.\u001b[0m\n",
      "/home/tunguz/anaconda3/lib/python3.7/site-packages/xgboost/dask.py:884: RuntimeWarning: coroutine 'Client._wait_for_workers' was never awaited\n",
      "  client.wait_for_workers(n_workers)\n",
      "\u001b[32m[I 2022-11-24 01:39:40,961]\u001b[0m Trial 249 finished with value: 0.8086164324753318 and parameters: {'objective': 'binary:logistic', 'tree_method': 'gpu_hist', 'lambda': 1.0285122325155904, 'alpha': 1.766318342319848, 'colsample_bytree': 0.9677477476670495, 'subsample': 0.5446603190031895, 'learning_rate': 0.011930439236290726, 'max_depth': 25, 'min_child_weight': 20, 'eval_metric': 'logloss'}. Best is trial 204 with value: 0.8138435786987503.\u001b[0m\n",
      "/home/tunguz/anaconda3/lib/python3.7/site-packages/xgboost/dask.py:884: RuntimeWarning: coroutine 'Client._wait_for_workers' was never awaited\n",
      "  client.wait_for_workers(n_workers)\n",
      "\u001b[32m[I 2022-11-24 01:43:20,047]\u001b[0m Trial 250 finished with value: 0.8131040996332615 and parameters: {'objective': 'binary:logistic', 'tree_method': 'gpu_hist', 'lambda': 1.4966825178160552, 'alpha': 1.4184111933719057, 'colsample_bytree': 0.9876193160413775, 'subsample': 0.4965886697755584, 'learning_rate': 0.013265480052218951, 'max_depth': 24, 'min_child_weight': 225, 'eval_metric': 'logloss'}. Best is trial 204 with value: 0.8138435786987503.\u001b[0m\n",
      "/home/tunguz/anaconda3/lib/python3.7/site-packages/xgboost/dask.py:884: RuntimeWarning: coroutine 'Client._wait_for_workers' was never awaited\n",
      "  client.wait_for_workers(n_workers)\n",
      "\u001b[32m[I 2022-11-24 01:49:57,939]\u001b[0m Trial 251 finished with value: 0.812967880449061 and parameters: {'objective': 'binary:logistic', 'tree_method': 'gpu_hist', 'lambda': 0.7506281619960075, 'alpha': 2.689104195680393, 'colsample_bytree': 0.9683519794080255, 'subsample': 0.40297085498412866, 'learning_rate': 0.010403908644874773, 'max_depth': 25, 'min_child_weight': 195, 'eval_metric': 'logloss'}. Best is trial 204 with value: 0.8138435786987503.\u001b[0m\n"
     ]
    },
    {
     "name": "stdout",
     "output_type": "stream",
     "text": [
      "CPU times: user 1h 6min 36s, sys: 16min 5s, total: 1h 22min 42s\n",
      "Wall time: 14h 43min 19s\n"
     ]
    }
   ],
   "source": [
    "%%time\n",
    "study.optimize(objective, n_trials=250)"
   ]
  },
  {
   "cell_type": "code",
   "execution_count": 15,
   "metadata": {},
   "outputs": [
    {
     "data": {
      "text/plain": [
       "{'objective': 'binary:logistic',\n",
       " 'tree_method': 'gpu_hist',\n",
       " 'lambda': 0.9614672750303118,\n",
       " 'alpha': 1.5066291720335054,\n",
       " 'colsample_bytree': 0.9626922199863466,\n",
       " 'subsample': 0.519587445251974,\n",
       " 'learning_rate': 0.0139227853701842,\n",
       " 'max_depth': 25,\n",
       " 'min_child_weight': 238,\n",
       " 'eval_metric': 'logloss'}"
      ]
     },
     "execution_count": 15,
     "metadata": {},
     "output_type": "execute_result"
    }
   ],
   "source": [
    "study.best_trial.params"
   ]
  },
  {
   "cell_type": "code",
   "execution_count": 16,
   "metadata": {},
   "outputs": [],
   "source": [
    "real_test_x = dd.read_csv('../input/higgs_small_roc/xgtest.csv')"
   ]
  },
  {
   "cell_type": "code",
   "execution_count": 17,
   "metadata": {},
   "outputs": [],
   "source": [
    "real_test_y = real_test_x['target']\n",
    "real_test_x = real_test_x[real_test_x.columns.difference(['target'])]"
   ]
  },
  {
   "cell_type": "code",
   "execution_count": 18,
   "metadata": {},
   "outputs": [],
   "source": [
    "drealtest = xgb.dask.DaskDMatrix(client, real_test_x, real_test_y)"
   ]
  },
  {
   "cell_type": "code",
   "execution_count": 19,
   "metadata": {},
   "outputs": [
    {
     "name": "stderr",
     "output_type": "stream",
     "text": [
      "/home/tunguz/anaconda3/lib/python3.7/site-packages/xgboost/dask.py:884: RuntimeWarning: coroutine 'Client._wait_for_workers' was never awaited\n",
      "  client.wait_for_workers(n_workers)\n"
     ]
    },
    {
     "name": "stdout",
     "output_type": "stream",
     "text": [
      "CPU times: user 31 s, sys: 7.05 s, total: 38 s\n",
      "Wall time: 6min 34s\n"
     ]
    },
    {
     "data": {
      "text/plain": [
       "0.8070034440592782"
      ]
     },
     "execution_count": 19,
     "metadata": {},
     "output_type": "execute_result"
    }
   ],
   "source": [
    "%%time\n",
    "params = study.best_trial.params\n",
    "\n",
    "output = xgb.dask.train(client, params, dtrain, num_round)\n",
    "    \n",
    "booster = output['booster']  # booster is the trained model\n",
    "booster.set_param({'predictor': 'gpu_predictor'})\n",
    "\n",
    "predictions = xgb.dask.predict(client, booster, drealtest)\n",
    "    \n",
    "predictions = predictions.compute()\n",
    "\n",
    "roc_auc_score(real_test_y, predictions)"
   ]
  },
  {
   "cell_type": "code",
   "execution_count": 20,
   "metadata": {},
   "outputs": [
    {
     "name": "stdout",
     "output_type": "stream",
     "text": [
      "0\n"
     ]
    },
    {
     "name": "stderr",
     "output_type": "stream",
     "text": [
      "/home/tunguz/anaconda3/lib/python3.7/site-packages/xgboost/dask.py:884: RuntimeWarning: coroutine 'Client._wait_for_workers' was never awaited\n",
      "  client.wait_for_workers(n_workers)\n"
     ]
    },
    {
     "name": "stdout",
     "output_type": "stream",
     "text": [
      "0.8073562559858825\n",
      "1\n"
     ]
    },
    {
     "name": "stderr",
     "output_type": "stream",
     "text": [
      "/home/tunguz/anaconda3/lib/python3.7/site-packages/xgboost/dask.py:884: RuntimeWarning: coroutine 'Client._wait_for_workers' was never awaited\n",
      "  client.wait_for_workers(n_workers)\n"
     ]
    },
    {
     "name": "stdout",
     "output_type": "stream",
     "text": [
      "0.8077819199019456\n",
      "2\n"
     ]
    },
    {
     "name": "stderr",
     "output_type": "stream",
     "text": [
      "/home/tunguz/anaconda3/lib/python3.7/site-packages/xgboost/dask.py:884: RuntimeWarning: coroutine 'Client._wait_for_workers' was never awaited\n",
      "  client.wait_for_workers(n_workers)\n"
     ]
    },
    {
     "name": "stdout",
     "output_type": "stream",
     "text": [
      "0.807922045971056\n",
      "3\n"
     ]
    },
    {
     "name": "stderr",
     "output_type": "stream",
     "text": [
      "/home/tunguz/anaconda3/lib/python3.7/site-packages/xgboost/dask.py:884: RuntimeWarning: coroutine 'Client._wait_for_workers' was never awaited\n",
      "  client.wait_for_workers(n_workers)\n"
     ]
    },
    {
     "name": "stdout",
     "output_type": "stream",
     "text": [
      "0.8073396787927504\n",
      "4\n"
     ]
    },
    {
     "name": "stderr",
     "output_type": "stream",
     "text": [
      "/home/tunguz/anaconda3/lib/python3.7/site-packages/xgboost/dask.py:884: RuntimeWarning: coroutine 'Client._wait_for_workers' was never awaited\n",
      "  client.wait_for_workers(n_workers)\n"
     ]
    },
    {
     "name": "stdout",
     "output_type": "stream",
     "text": [
      "0.8065484243709262\n",
      "5\n"
     ]
    },
    {
     "name": "stderr",
     "output_type": "stream",
     "text": [
      "/home/tunguz/anaconda3/lib/python3.7/site-packages/xgboost/dask.py:884: RuntimeWarning: coroutine 'Client._wait_for_workers' was never awaited\n",
      "  client.wait_for_workers(n_workers)\n"
     ]
    },
    {
     "name": "stdout",
     "output_type": "stream",
     "text": [
      "0.8075068595506836\n",
      "6\n"
     ]
    },
    {
     "name": "stderr",
     "output_type": "stream",
     "text": [
      "/home/tunguz/anaconda3/lib/python3.7/site-packages/xgboost/dask.py:884: RuntimeWarning: coroutine 'Client._wait_for_workers' was never awaited\n",
      "  client.wait_for_workers(n_workers)\n"
     ]
    },
    {
     "name": "stdout",
     "output_type": "stream",
     "text": [
      "0.8073579570135694\n",
      "7\n"
     ]
    },
    {
     "name": "stderr",
     "output_type": "stream",
     "text": [
      "/home/tunguz/anaconda3/lib/python3.7/site-packages/xgboost/dask.py:884: RuntimeWarning: coroutine 'Client._wait_for_workers' was never awaited\n",
      "  client.wait_for_workers(n_workers)\n"
     ]
    },
    {
     "name": "stdout",
     "output_type": "stream",
     "text": [
      "0.8073540122990562\n",
      "8\n"
     ]
    },
    {
     "name": "stderr",
     "output_type": "stream",
     "text": [
      "/home/tunguz/anaconda3/lib/python3.7/site-packages/xgboost/dask.py:884: RuntimeWarning: coroutine 'Client._wait_for_workers' was never awaited\n",
      "  client.wait_for_workers(n_workers)\n"
     ]
    },
    {
     "name": "stdout",
     "output_type": "stream",
     "text": [
      "0.8071119654513973\n",
      "9\n"
     ]
    },
    {
     "name": "stderr",
     "output_type": "stream",
     "text": [
      "/home/tunguz/anaconda3/lib/python3.7/site-packages/xgboost/dask.py:884: RuntimeWarning: coroutine 'Client._wait_for_workers' was never awaited\n",
      "  client.wait_for_workers(n_workers)\n"
     ]
    },
    {
     "name": "stdout",
     "output_type": "stream",
     "text": [
      "0.8073857891659668\n",
      "10\n"
     ]
    },
    {
     "name": "stderr",
     "output_type": "stream",
     "text": [
      "/home/tunguz/anaconda3/lib/python3.7/site-packages/xgboost/dask.py:884: RuntimeWarning: coroutine 'Client._wait_for_workers' was never awaited\n",
      "  client.wait_for_workers(n_workers)\n"
     ]
    },
    {
     "name": "stdout",
     "output_type": "stream",
     "text": [
      "0.8072857676944056\n",
      "11\n"
     ]
    },
    {
     "name": "stderr",
     "output_type": "stream",
     "text": [
      "/home/tunguz/anaconda3/lib/python3.7/site-packages/xgboost/dask.py:884: RuntimeWarning: coroutine 'Client._wait_for_workers' was never awaited\n",
      "  client.wait_for_workers(n_workers)\n"
     ]
    },
    {
     "name": "stdout",
     "output_type": "stream",
     "text": [
      "0.8071454485638708\n",
      "12\n"
     ]
    },
    {
     "name": "stderr",
     "output_type": "stream",
     "text": [
      "/home/tunguz/anaconda3/lib/python3.7/site-packages/xgboost/dask.py:884: RuntimeWarning: coroutine 'Client._wait_for_workers' was never awaited\n",
      "  client.wait_for_workers(n_workers)\n"
     ]
    },
    {
     "name": "stdout",
     "output_type": "stream",
     "text": [
      "0.8077363782772502\n",
      "13\n"
     ]
    },
    {
     "name": "stderr",
     "output_type": "stream",
     "text": [
      "/home/tunguz/anaconda3/lib/python3.7/site-packages/xgboost/dask.py:884: RuntimeWarning: coroutine 'Client._wait_for_workers' was never awaited\n",
      "  client.wait_for_workers(n_workers)\n"
     ]
    },
    {
     "name": "stdout",
     "output_type": "stream",
     "text": [
      "0.8072166464865299\n",
      "14\n"
     ]
    },
    {
     "name": "stderr",
     "output_type": "stream",
     "text": [
      "/home/tunguz/anaconda3/lib/python3.7/site-packages/xgboost/dask.py:884: RuntimeWarning: coroutine 'Client._wait_for_workers' was never awaited\n",
      "  client.wait_for_workers(n_workers)\n"
     ]
    },
    {
     "name": "stdout",
     "output_type": "stream",
     "text": [
      "0.8072339020035861\n",
      "CPU times: user 7min 33s, sys: 1min 48s, total: 9min 21s\n",
      "Wall time: 1h 38min 57s\n"
     ]
    }
   ],
   "source": [
    "%%time \n",
    "scores = []\n",
    "\n",
    "for jj in range(15):\n",
    "    print(jj)\n",
    "    params = study.best_trial.params\n",
    "    params['seed'] = 5*jj**3 + 137\n",
    "\n",
    "    output = xgb.dask.train(client, params, dtrain, num_round)\n",
    "\n",
    "    booster = output['booster']  # booster is the trained model\n",
    "    booster.set_param({'predictor': 'gpu_predictor'})\n",
    "\n",
    "    predictions = xgb.dask.predict(client, booster, drealtest)\n",
    "\n",
    "    predictions = predictions.compute()\n",
    "    score = roc_auc_score(real_test_y, predictions)\n",
    "    print(score)\n",
    "\n",
    "    scores.append(score)"
   ]
  },
  {
   "cell_type": "code",
   "execution_count": 21,
   "metadata": {},
   "outputs": [
    {
     "data": {
      "text/plain": [
       "0.8073522034352585"
      ]
     },
     "execution_count": 21,
     "metadata": {},
     "output_type": "execute_result"
    }
   ],
   "source": [
    "import numpy as np\n",
    "np.mean(scores)"
   ]
  },
  {
   "cell_type": "code",
   "execution_count": 22,
   "metadata": {},
   "outputs": [
    {
     "data": {
      "text/plain": [
       "[0.8073562559858825,\n",
       " 0.8077819199019456,\n",
       " 0.807922045971056,\n",
       " 0.8073396787927504,\n",
       " 0.8065484243709262,\n",
       " 0.8075068595506836,\n",
       " 0.8073579570135694,\n",
       " 0.8073540122990562,\n",
       " 0.8071119654513973,\n",
       " 0.8073857891659668,\n",
       " 0.8072857676944056,\n",
       " 0.8071454485638708,\n",
       " 0.8077363782772502,\n",
       " 0.8072166464865299,\n",
       " 0.8072339020035861]"
      ]
     },
     "execution_count": 22,
     "metadata": {},
     "output_type": "execute_result"
    }
   ],
   "source": [
    "scores"
   ]
  },
  {
   "cell_type": "code",
   "execution_count": 25,
   "metadata": {},
   "outputs": [
    {
     "name": "stdout",
     "output_type": "stream",
     "text": [
      "CPU times: user 662 ms, sys: 132 ms, total: 794 ms\n",
      "Wall time: 8.07 s\n"
     ]
    }
   ],
   "source": [
    "%%time\n",
    "shap_val_preds = xgb.dask.predict(client, booster, dtest, pred_contribs=True)"
   ]
  },
  {
   "cell_type": "code",
   "execution_count": 26,
   "metadata": {},
   "outputs": [
    {
     "name": "stdout",
     "output_type": "stream",
     "text": [
      "CPU times: user 732 ms, sys: 163 ms, total: 895 ms\n",
      "Wall time: 9.59 s\n"
     ]
    }
   ],
   "source": [
    "%%time\n",
    "shap_test_preds = xgb.dask.predict(client, booster, drealtest, pred_contribs=True)"
   ]
  },
  {
   "cell_type": "code",
   "execution_count": null,
   "metadata": {},
   "outputs": [],
   "source": []
  }
 ],
 "metadata": {
  "kernelspec": {
   "display_name": "Python 3",
   "language": "python",
   "name": "python3"
  },
  "language_info": {
   "codemirror_mode": {
    "name": "ipython",
    "version": 3
   },
   "file_extension": ".py",
   "mimetype": "text/x-python",
   "name": "python",
   "nbconvert_exporter": "python",
   "pygments_lexer": "ipython3",
   "version": "3.7.11"
  }
 },
 "nbformat": 4,
 "nbformat_minor": 4
}
