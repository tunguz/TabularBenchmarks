{
 "cells": [
  {
   "cell_type": "code",
   "execution_count": 1,
   "metadata": {},
   "outputs": [],
   "source": [
    "import os\n",
    "#os.environ[\"CUDA_DEVICE_ORDER\"]=\"PCI_BUS_ID\"\n",
    "#os.environ[\"CUDA_VISIBLE_DEVICES\"]=\"0, 1, 2, 4\""
   ]
  },
  {
   "cell_type": "code",
   "execution_count": 2,
   "metadata": {},
   "outputs": [
    {
     "data": {
      "text/plain": [
       "'1.6.2'"
      ]
     },
     "execution_count": 2,
     "metadata": {},
     "output_type": "execute_result"
    }
   ],
   "source": [
    "from dask.distributed import Client\n",
    "from dask_cuda import LocalCUDACluster\n",
    "from dask import dataframe as dd\n",
    "import pandas as pd\n",
    "import xgboost as xgb\n",
    "from sklearn.model_selection import KFold, train_test_split\n",
    "from sklearn.metrics import roc_auc_score\n",
    "import optuna\n",
    "import gc\n",
    "xgb.__version__"
   ]
  },
  {
   "cell_type": "code",
   "execution_count": 3,
   "metadata": {},
   "outputs": [
    {
     "name": "stdout",
     "output_type": "stream",
     "text": [
      "Mon Jan  9 16:29:36 2023       \n",
      "+-----------------------------------------------------------------------------+\n",
      "| NVIDIA-SMI 470.57.02    Driver Version: 470.57.02    CUDA Version: 11.4     |\n",
      "|-------------------------------+----------------------+----------------------+\n",
      "| GPU  Name        Persistence-M| Bus-Id        Disp.A | Volatile Uncorr. ECC |\n",
      "| Fan  Temp  Perf  Pwr:Usage/Cap|         Memory-Usage | GPU-Util  Compute M. |\n",
      "|                               |                      |               MIG M. |\n",
      "|===============================+======================+======================|\n",
      "|   0  NVIDIA TITAN RTX    On   | 00000000:09:00.0 Off |                  N/A |\n",
      "| 41%   33C    P8    32W / 280W |    905MiB / 24220MiB |      0%      Default |\n",
      "|                               |                      |                  N/A |\n",
      "+-------------------------------+----------------------+----------------------+\n",
      "|   1  NVIDIA TITAN RTX    On   | 00000000:41:00.0  On |                  N/A |\n",
      "| 41%   32C    P8    32W / 280W |    372MiB / 24217MiB |      3%      Default |\n",
      "|                               |                      |                  N/A |\n",
      "+-------------------------------+----------------------+----------------------+\n",
      "                                                                               \n",
      "+-----------------------------------------------------------------------------+\n",
      "| Processes:                                                                  |\n",
      "|  GPU   GI   CI        PID   Type   Process name                  GPU Memory |\n",
      "|        ID   ID                                                   Usage      |\n",
      "|=============================================================================|\n",
      "|    0   N/A  N/A      1301      G   /usr/lib/xorg/Xorg                  4MiB |\n",
      "|    0   N/A  N/A    192312      C   /usr/bin/python3                  869MiB |\n",
      "|    1   N/A  N/A      1301      G   /usr/lib/xorg/Xorg                161MiB |\n",
      "|    1   N/A  N/A      1556      G   /usr/bin/gnome-shell               29MiB |\n",
      "|    1   N/A  N/A      2380      G   ...mviewer/tv_bin/TeamViewer       19MiB |\n",
      "|    1   N/A  N/A      2707      G   /usr/lib/firefox/firefox          149MiB |\n",
      "|    1   N/A  N/A     19633      G   /usr/lib/firefox/firefox            3MiB |\n",
      "+-----------------------------------------------------------------------------+\n"
     ]
    }
   ],
   "source": [
    "!nvidia-smi"
   ]
  },
  {
   "cell_type": "code",
   "execution_count": 4,
   "metadata": {},
   "outputs": [
    {
     "name": "stdout",
     "output_type": "stream",
     "text": [
      "GPU 0: NVIDIA TITAN RTX (UUID: GPU-0eb32f58-b8d5-17c0-e952-f4ec26a9353f)\n",
      "GPU 1: NVIDIA TITAN RTX (UUID: GPU-50aeb092-88f5-4e0b-7f73-32741666f319)\n"
     ]
    }
   ],
   "source": [
    "!nvidia-smi -L"
   ]
  },
  {
   "cell_type": "code",
   "execution_count": 5,
   "metadata": {},
   "outputs": [],
   "source": [
    "train_x = dd.read_csv('../input/higgs_small_roc/xgtrain_aug_5.csv')\n",
    "test_x = dd.read_csv('../input/higgs_small_roc/xgval_aug.csv')"
   ]
  },
  {
   "cell_type": "code",
   "execution_count": 6,
   "metadata": {},
   "outputs": [],
   "source": [
    "train_y = train_x['target']\n",
    "train_x = train_x[train_x.columns.difference(['target'])]\n",
    "\n",
    "test_y = test_x['target']\n",
    "test_x = test_x[test_x.columns.difference(['target'])]"
   ]
  },
  {
   "cell_type": "code",
   "execution_count": 7,
   "metadata": {},
   "outputs": [
    {
     "name": "stderr",
     "output_type": "stream",
     "text": [
      "2023-01-09 16:30:11,858 - distributed.preloading - INFO - Creating preload: dask_cuda.initialize\n",
      "2023-01-09 16:30:11,859 - distributed.preloading - INFO - Import preload module: dask_cuda.initialize\n",
      "2023-01-09 16:30:11,863 - distributed.preloading - INFO - Creating preload: dask_cuda.initialize\n",
      "2023-01-09 16:30:11,863 - distributed.preloading - INFO - Import preload module: dask_cuda.initialize\n"
     ]
    }
   ],
   "source": [
    "cluster = LocalCUDACluster(n_workers=2)\n",
    "client = Client(cluster)"
   ]
  },
  {
   "cell_type": "code",
   "execution_count": 8,
   "metadata": {},
   "outputs": [],
   "source": [
    "dtrain = xgb.dask.DaskDMatrix(client, train_x, train_y)"
   ]
  },
  {
   "cell_type": "code",
   "execution_count": 9,
   "metadata": {},
   "outputs": [],
   "source": [
    "dtest = xgb.dask.DaskDMatrix(client, test_x, test_y)\n"
   ]
  },
  {
   "cell_type": "code",
   "execution_count": 10,
   "metadata": {},
   "outputs": [],
   "source": [
    "num_round = 1000"
   ]
  },
  {
   "cell_type": "code",
   "execution_count": 11,
   "metadata": {},
   "outputs": [],
   "source": [
    "def objective(trial):\n",
    "        \n",
    "    params = {\n",
    "        'objective': trial.suggest_categorical('objective',['binary:logistic']),\n",
    "        'tree_method': trial.suggest_categorical('tree_method',['gpu_hist']),  # 'gpu_hist','hist'\n",
    "        'lambda': trial.suggest_loguniform('lambda',1e-3,10.0),\n",
    "        'alpha': trial.suggest_loguniform('alpha',1e-3,10.0),\n",
    "        'colsample_bytree': trial.suggest_uniform('colsample_bytree', 0.3,1.0),\n",
    "        'subsample': trial.suggest_uniform('subsample', 0.4, 1.0),\n",
    "        'learning_rate': trial.suggest_loguniform('learning_rate', 0.001,0.1),\n",
    "        #'n_estimators': trial.suggest_categorical('n_estimators', [1000]),\n",
    "        'max_depth': trial.suggest_categorical('max_depth', [3,5,7,9,11,13,15,17,20]),\n",
    "        #'random_state': trial.suggest_categorical('random_state', [24,48,2020]),\n",
    "        'min_child_weight': trial.suggest_int('min_child_weight', 1,300),\n",
    "        'eval_metric': trial.suggest_categorical('eval_metric',['logloss']),\n",
    "\n",
    "    }\n",
    "\n",
    "    output = xgb.dask.train(client, params, dtrain, num_round)\n",
    "    \n",
    "    booster = output['booster']  # booster is the trained model\n",
    "    booster.set_param({'predictor': 'gpu_predictor'})\n",
    "\n",
    "    predictions = xgb.dask.predict(client, booster, dtest)\n",
    "    \n",
    "    predictions = predictions.compute()\n",
    "\n",
    "    roc = roc_auc_score(test_y, predictions)\n",
    "    \n",
    "    return roc"
   ]
  },
  {
   "cell_type": "code",
   "execution_count": 12,
   "metadata": {},
   "outputs": [
    {
     "name": "stderr",
     "output_type": "stream",
     "text": [
      "\u001b[32m[I 2023-01-09 16:30:22,623]\u001b[0m A new study created in memory with name: no-name-92d1e072-ed8b-4245-b581-8ca5de66bdbc\u001b[0m\n"
     ]
    }
   ],
   "source": [
    "study = optuna.create_study(direction='maximize')"
   ]
  },
  {
   "cell_type": "code",
   "execution_count": 13,
   "metadata": {},
   "outputs": [
    {
     "name": "stderr",
     "output_type": "stream",
     "text": [
      "/home/tunguz/.local/lib/python3.8/site-packages/xgboost/dask.py:884: RuntimeWarning: coroutine 'Client._wait_for_workers' was never awaited\n",
      "  client.wait_for_workers(n_workers)\n",
      "[16:30:24] task [xgboost.dask-0]:tcp://127.0.0.1:42715 got new rank 0\n",
      "\u001b[32m[I 2023-01-09 16:30:29,897]\u001b[0m Trial 0 finished with value: 0.7906961987379522 and parameters: {'objective': 'binary:logistic', 'tree_method': 'gpu_hist', 'lambda': 0.6050311712241306, 'alpha': 3.6704860933316574, 'colsample_bytree': 0.3731494171901087, 'subsample': 0.9372368597726295, 'learning_rate': 0.006007494687533758, 'max_depth': 5, 'min_child_weight': 37, 'eval_metric': 'logloss'}. Best is trial 0 with value: 0.7906961987379522.\u001b[0m\n",
      "/home/tunguz/.local/lib/python3.8/site-packages/xgboost/dask.py:884: RuntimeWarning: coroutine 'Client._wait_for_workers' was never awaited\n",
      "  client.wait_for_workers(n_workers)\n",
      "[16:30:29] task [xgboost.dask-0]:tcp://127.0.0.1:42715 got new rank 0\n",
      "\u001b[32m[I 2023-01-09 16:30:33,132]\u001b[0m Trial 1 finished with value: 0.7890093897641441 and parameters: {'objective': 'binary:logistic', 'tree_method': 'gpu_hist', 'lambda': 0.027747648194615414, 'alpha': 0.3016882303079122, 'colsample_bytree': 0.567906705369248, 'subsample': 0.4078248929645208, 'learning_rate': 0.0048101266074882815, 'max_depth': 5, 'min_child_weight': 295, 'eval_metric': 'logloss'}. Best is trial 0 with value: 0.7906961987379522.\u001b[0m\n"
     ]
    },
    {
     "name": "stdout",
     "output_type": "stream",
     "text": [
      "CPU times: user 649 ms, sys: 143 ms, total: 792 ms\n",
      "Wall time: 8.92 s\n"
     ]
    }
   ],
   "source": [
    "%%time\n",
    "study.optimize(objective, n_trials=2)"
   ]
  },
  {
   "cell_type": "code",
   "execution_count": 14,
   "metadata": {},
   "outputs": [
    {
     "name": "stderr",
     "output_type": "stream",
     "text": [
      "/home/tunguz/.local/lib/python3.8/site-packages/xgboost/dask.py:884: RuntimeWarning: coroutine 'Client._wait_for_workers' was never awaited\n",
      "  client.wait_for_workers(n_workers)\n",
      "[16:30:42] task [xgboost.dask-0]:tcp://127.0.0.1:42715 got new rank 0\n",
      "\u001b[32m[I 2023-01-09 16:31:07,037]\u001b[0m Trial 2 finished with value: 0.8109703877038656 and parameters: {'objective': 'binary:logistic', 'tree_method': 'gpu_hist', 'lambda': 0.6190144360307883, 'alpha': 0.015346075851411402, 'colsample_bytree': 0.6856321141454566, 'subsample': 0.5866610922148862, 'learning_rate': 0.022823021959782263, 'max_depth': 15, 'min_child_weight': 60, 'eval_metric': 'logloss'}. Best is trial 2 with value: 0.8109703877038656.\u001b[0m\n",
      "/home/tunguz/.local/lib/python3.8/site-packages/xgboost/dask.py:884: RuntimeWarning: coroutine 'Client._wait_for_workers' was never awaited\n",
      "  client.wait_for_workers(n_workers)\n",
      "[16:31:07] task [xgboost.dask-0]:tcp://127.0.0.1:42715 got new rank 0\n",
      "\u001b[32m[I 2023-01-09 16:31:34,022]\u001b[0m Trial 3 finished with value: 0.7907686456897602 and parameters: {'objective': 'binary:logistic', 'tree_method': 'gpu_hist', 'lambda': 2.9159033247252895, 'alpha': 0.001851745356688513, 'colsample_bytree': 0.47953818825836364, 'subsample': 0.6665947041306594, 'learning_rate': 0.0021646625674095485, 'max_depth': 20, 'min_child_weight': 297, 'eval_metric': 'logloss'}. Best is trial 2 with value: 0.8109703877038656.\u001b[0m\n",
      "/home/tunguz/.local/lib/python3.8/site-packages/xgboost/dask.py:884: RuntimeWarning: coroutine 'Client._wait_for_workers' was never awaited\n",
      "  client.wait_for_workers(n_workers)\n",
      "[16:31:34] task [xgboost.dask-0]:tcp://127.0.0.1:42715 got new rank 0\n",
      "\u001b[32m[I 2023-01-09 16:31:40,595]\u001b[0m Trial 4 finished with value: 0.806929501207547 and parameters: {'objective': 'binary:logistic', 'tree_method': 'gpu_hist', 'lambda': 0.2114455296263406, 'alpha': 0.24709719206117287, 'colsample_bytree': 0.5786468403200016, 'subsample': 0.4381982848685576, 'learning_rate': 0.00959205386520701, 'max_depth': 7, 'min_child_weight': 47, 'eval_metric': 'logloss'}. Best is trial 2 with value: 0.8109703877038656.\u001b[0m\n",
      "/home/tunguz/.local/lib/python3.8/site-packages/xgboost/dask.py:884: RuntimeWarning: coroutine 'Client._wait_for_workers' was never awaited\n",
      "  client.wait_for_workers(n_workers)\n",
      "[16:31:40] task [xgboost.dask-0]:tcp://127.0.0.1:42715 got new rank 0\n",
      "\u001b[32m[I 2023-01-09 16:32:09,029]\u001b[0m Trial 5 finished with value: 0.8072825313066059 and parameters: {'objective': 'binary:logistic', 'tree_method': 'gpu_hist', 'lambda': 1.548334800295921, 'alpha': 9.352344218752085, 'colsample_bytree': 0.7601022514275452, 'subsample': 0.8327263708730537, 'learning_rate': 0.0947948165254671, 'max_depth': 15, 'min_child_weight': 41, 'eval_metric': 'logloss'}. Best is trial 2 with value: 0.8109703877038656.\u001b[0m\n",
      "/home/tunguz/.local/lib/python3.8/site-packages/xgboost/dask.py:884: RuntimeWarning: coroutine 'Client._wait_for_workers' was never awaited\n",
      "  client.wait_for_workers(n_workers)\n",
      "[16:32:09] task [xgboost.dask-0]:tcp://127.0.0.1:42715 got new rank 0\n",
      "\u001b[32m[I 2023-01-09 16:32:12,181]\u001b[0m Trial 6 finished with value: 0.8010796666664057 and parameters: {'objective': 'binary:logistic', 'tree_method': 'gpu_hist', 'lambda': 0.20821776974793713, 'alpha': 0.06987655778170608, 'colsample_bytree': 0.574363396865383, 'subsample': 0.9120108318352099, 'learning_rate': 0.01179833877622349, 'max_depth': 5, 'min_child_weight': 217, 'eval_metric': 'logloss'}. Best is trial 2 with value: 0.8109703877038656.\u001b[0m\n",
      "/home/tunguz/.local/lib/python3.8/site-packages/xgboost/dask.py:884: RuntimeWarning: coroutine 'Client._wait_for_workers' was never awaited\n",
      "  client.wait_for_workers(n_workers)\n",
      "[16:32:12] task [xgboost.dask-0]:tcp://127.0.0.1:42715 got new rank 0\n",
      "\u001b[32m[I 2023-01-09 16:32:55,128]\u001b[0m Trial 7 finished with value: 0.8133170052937966 and parameters: {'objective': 'binary:logistic', 'tree_method': 'gpu_hist', 'lambda': 8.200615137312177, 'alpha': 1.2404321868349233, 'colsample_bytree': 0.7668733554534727, 'subsample': 0.6281480231054732, 'learning_rate': 0.011130110684281934, 'max_depth': 20, 'min_child_weight': 91, 'eval_metric': 'logloss'}. Best is trial 7 with value: 0.8133170052937966.\u001b[0m\n",
      "/home/tunguz/.local/lib/python3.8/site-packages/xgboost/dask.py:884: RuntimeWarning: coroutine 'Client._wait_for_workers' was never awaited\n",
      "  client.wait_for_workers(n_workers)\n",
      "[16:32:55] task [xgboost.dask-0]:tcp://127.0.0.1:42715 got new rank 0\n",
      "\u001b[32m[I 2023-01-09 16:33:05,347]\u001b[0m Trial 8 finished with value: 0.8082760801851929 and parameters: {'objective': 'binary:logistic', 'tree_method': 'gpu_hist', 'lambda': 6.971618789509208, 'alpha': 0.09045317878346533, 'colsample_bytree': 0.9153325106075323, 'subsample': 0.9581302023478061, 'learning_rate': 0.05419231913014607, 'max_depth': 13, 'min_child_weight': 263, 'eval_metric': 'logloss'}. Best is trial 7 with value: 0.8133170052937966.\u001b[0m\n",
      "/home/tunguz/.local/lib/python3.8/site-packages/xgboost/dask.py:884: RuntimeWarning: coroutine 'Client._wait_for_workers' was never awaited\n",
      "  client.wait_for_workers(n_workers)\n",
      "[16:33:05] task [xgboost.dask-0]:tcp://127.0.0.1:42715 got new rank 0\n",
      "\u001b[32m[I 2023-01-09 16:33:09,720]\u001b[0m Trial 9 finished with value: 0.8063216104610073 and parameters: {'objective': 'binary:logistic', 'tree_method': 'gpu_hist', 'lambda': 0.0852393217653348, 'alpha': 0.12279521951463272, 'colsample_bytree': 0.46474965326766093, 'subsample': 0.7879834251719304, 'learning_rate': 0.07323243028704313, 'max_depth': 7, 'min_child_weight': 260, 'eval_metric': 'logloss'}. Best is trial 7 with value: 0.8133170052937966.\u001b[0m\n",
      "/home/tunguz/.local/lib/python3.8/site-packages/xgboost/dask.py:884: RuntimeWarning: coroutine 'Client._wait_for_workers' was never awaited\n",
      "  client.wait_for_workers(n_workers)\n",
      "[16:33:09] task [xgboost.dask-0]:tcp://127.0.0.1:42715 got new rank 0\n",
      "\u001b[32m[I 2023-01-09 16:33:30,041]\u001b[0m Trial 10 finished with value: 0.7880448571697665 and parameters: {'objective': 'binary:logistic', 'tree_method': 'gpu_hist', 'lambda': 0.0020132688567808203, 'alpha': 1.5708080157106323, 'colsample_bytree': 0.98274770929404, 'subsample': 0.5456008128452073, 'learning_rate': 0.0010460650413919063, 'max_depth': 11, 'min_child_weight': 135, 'eval_metric': 'logloss'}. Best is trial 7 with value: 0.8133170052937966.\u001b[0m\n",
      "/home/tunguz/.local/lib/python3.8/site-packages/xgboost/dask.py:884: RuntimeWarning: coroutine 'Client._wait_for_workers' was never awaited\n",
      "  client.wait_for_workers(n_workers)\n",
      "[16:33:30] task [xgboost.dask-0]:tcp://127.0.0.1:42715 got new rank 0\n",
      "\u001b[32m[I 2023-01-09 16:33:38,776]\u001b[0m Trial 11 finished with value: 0.811313039120767 and parameters: {'objective': 'binary:logistic', 'tree_method': 'gpu_hist', 'lambda': 9.829188886320523, 'alpha': 0.007678836491368879, 'colsample_bytree': 0.743126427894026, 'subsample': 0.6335166666677373, 'learning_rate': 0.023832457578123738, 'max_depth': 9, 'min_child_weight': 107, 'eval_metric': 'logloss'}. Best is trial 7 with value: 0.8133170052937966.\u001b[0m\n",
      "/home/tunguz/.local/lib/python3.8/site-packages/xgboost/dask.py:884: RuntimeWarning: coroutine 'Client._wait_for_workers' was never awaited\n",
      "  client.wait_for_workers(n_workers)\n",
      "[16:33:38] task [xgboost.dask-0]:tcp://127.0.0.1:42715 got new rank 0\n",
      "\u001b[32m[I 2023-01-09 16:33:47,109]\u001b[0m Trial 12 finished with value: 0.8110099620347316 and parameters: {'objective': 'binary:logistic', 'tree_method': 'gpu_hist', 'lambda': 6.852941729590776, 'alpha': 0.004548960685668988, 'colsample_bytree': 0.8411512982863328, 'subsample': 0.6793393067940808, 'learning_rate': 0.029848539490184362, 'max_depth': 9, 'min_child_weight': 120, 'eval_metric': 'logloss'}. Best is trial 7 with value: 0.8133170052937966.\u001b[0m\n",
      "/home/tunguz/.local/lib/python3.8/site-packages/xgboost/dask.py:884: RuntimeWarning: coroutine 'Client._wait_for_workers' was never awaited\n",
      "  client.wait_for_workers(n_workers)\n",
      "[16:33:47] task [xgboost.dask-0]:tcp://127.0.0.1:42715 got new rank 0\n",
      "\u001b[32m[I 2023-01-09 16:33:55,763]\u001b[0m Trial 13 finished with value: 0.8119557184272171 and parameters: {'objective': 'binary:logistic', 'tree_method': 'gpu_hist', 'lambda': 0.0068068251525835064, 'alpha': 0.016164563551808373, 'colsample_bytree': 0.7555412965784474, 'subsample': 0.5617967236339019, 'learning_rate': 0.02152645407833737, 'max_depth': 9, 'min_child_weight': 100, 'eval_metric': 'logloss'}. Best is trial 7 with value: 0.8133170052937966.\u001b[0m\n",
      "/home/tunguz/.local/lib/python3.8/site-packages/xgboost/dask.py:884: RuntimeWarning: coroutine 'Client._wait_for_workers' was never awaited\n",
      "  client.wait_for_workers(n_workers)\n",
      "[16:33:55] task [xgboost.dask-0]:tcp://127.0.0.1:42715 got new rank 0\n",
      "\u001b[32m[I 2023-01-09 16:34:10,683]\u001b[0m Trial 14 finished with value: 0.8108764414709507 and parameters: {'objective': 'binary:logistic', 'tree_method': 'gpu_hist', 'lambda': 0.005494430438912725, 'alpha': 0.7785826234796098, 'colsample_bytree': 0.8446572011414586, 'subsample': 0.5104744239061607, 'learning_rate': 0.013503092452115381, 'max_depth': 17, 'min_child_weight': 189, 'eval_metric': 'logloss'}. Best is trial 7 with value: 0.8133170052937966.\u001b[0m\n",
      "/home/tunguz/.local/lib/python3.8/site-packages/xgboost/dask.py:884: RuntimeWarning: coroutine 'Client._wait_for_workers' was never awaited\n",
      "  client.wait_for_workers(n_workers)\n",
      "[16:34:10] task [xgboost.dask-0]:tcp://127.0.0.1:42715 got new rank 0\n",
      "\u001b[32m[I 2023-01-09 16:34:12,491]\u001b[0m Trial 15 finished with value: 0.7982193083861449 and parameters: {'objective': 'binary:logistic', 'tree_method': 'gpu_hist', 'lambda': 0.015713515827908395, 'alpha': 0.0321826802188731, 'colsample_bytree': 0.7968749155540259, 'subsample': 0.798802800163171, 'learning_rate': 0.03921033972750423, 'max_depth': 3, 'min_child_weight': 85, 'eval_metric': 'logloss'}. Best is trial 7 with value: 0.8133170052937966.\u001b[0m\n",
      "/home/tunguz/.local/lib/python3.8/site-packages/xgboost/dask.py:884: RuntimeWarning: coroutine 'Client._wait_for_workers' was never awaited\n",
      "  client.wait_for_workers(n_workers)\n",
      "[16:34:12] task [xgboost.dask-0]:tcp://127.0.0.1:42715 got new rank 0\n",
      "\u001b[32m[I 2023-01-09 16:34:42,132]\u001b[0m Trial 16 finished with value: 0.8018702483082993 and parameters: {'objective': 'binary:logistic', 'tree_method': 'gpu_hist', 'lambda': 0.0010993816316041327, 'alpha': 0.0013345824858534796, 'colsample_bytree': 0.6939430352804679, 'subsample': 0.4984808752682712, 'learning_rate': 0.003758248624326868, 'max_depth': 20, 'min_child_weight': 176, 'eval_metric': 'logloss'}. Best is trial 7 with value: 0.8133170052937966.\u001b[0m\n",
      "/home/tunguz/.local/lib/python3.8/site-packages/xgboost/dask.py:884: RuntimeWarning: coroutine 'Client._wait_for_workers' was never awaited\n",
      "  client.wait_for_workers(n_workers)\n",
      "[16:34:42] task [xgboost.dask-0]:tcp://127.0.0.1:42715 got new rank 0\n",
      "\u001b[32m[I 2023-01-09 16:35:02,970]\u001b[0m Trial 17 finished with value: 0.8118703653843995 and parameters: {'objective': 'binary:logistic', 'tree_method': 'gpu_hist', 'lambda': 0.027624431906863124, 'alpha': 0.7758514282576034, 'colsample_bytree': 0.8896048057965079, 'subsample': 0.7369361408215667, 'learning_rate': 0.017839371839565493, 'max_depth': 9, 'min_child_weight': 2, 'eval_metric': 'logloss'}. Best is trial 7 with value: 0.8133170052937966.\u001b[0m\n",
      "/home/tunguz/.local/lib/python3.8/site-packages/xgboost/dask.py:884: RuntimeWarning: coroutine 'Client._wait_for_workers' was never awaited\n",
      "  client.wait_for_workers(n_workers)\n",
      "[16:35:02] task [xgboost.dask-0]:tcp://127.0.0.1:42715 got new rank 0\n",
      "\u001b[32m[I 2023-01-09 16:35:48,264]\u001b[0m Trial 18 finished with value: 0.8108101825943647 and parameters: {'objective': 'binary:logistic', 'tree_method': 'gpu_hist', 'lambda': 0.004843355734453806, 'alpha': 0.027103024208255427, 'colsample_bytree': 0.6388305350396352, 'subsample': 0.604835430289828, 'learning_rate': 0.007729639649977988, 'max_depth': 20, 'min_child_weight': 88, 'eval_metric': 'logloss'}. Best is trial 7 with value: 0.8133170052937966.\u001b[0m\n",
      "/home/tunguz/.local/lib/python3.8/site-packages/xgboost/dask.py:884: RuntimeWarning: coroutine 'Client._wait_for_workers' was never awaited\n",
      "  client.wait_for_workers(n_workers)\n",
      "[16:35:48] task [xgboost.dask-0]:tcp://127.0.0.1:42715 got new rank 0\n",
      "\u001b[32m[I 2023-01-09 16:35:50,168]\u001b[0m Trial 19 finished with value: 0.7614056417505244 and parameters: {'objective': 'binary:logistic', 'tree_method': 'gpu_hist', 'lambda': 0.06800665430313202, 'alpha': 2.832543805593483, 'colsample_bytree': 0.9770430049150978, 'subsample': 0.7284578562392233, 'learning_rate': 0.0027386924147140518, 'max_depth': 3, 'min_child_weight': 5, 'eval_metric': 'logloss'}. Best is trial 7 with value: 0.8133170052937966.\u001b[0m\n",
      "/home/tunguz/.local/lib/python3.8/site-packages/xgboost/dask.py:884: RuntimeWarning: coroutine 'Client._wait_for_workers' was never awaited\n",
      "  client.wait_for_workers(n_workers)\n",
      "[16:35:50] task [xgboost.dask-0]:tcp://127.0.0.1:42715 got new rank 0\n",
      "\u001b[32m[I 2023-01-09 16:36:04,926]\u001b[0m Trial 20 finished with value: 0.8079212401352787 and parameters: {'objective': 'binary:logistic', 'tree_method': 'gpu_hist', 'lambda': 0.009999243120473351, 'alpha': 0.4344874171588008, 'colsample_bytree': 0.6299434621941806, 'subsample': 0.4710988083636788, 'learning_rate': 0.04465248620256386, 'max_depth': 17, 'min_child_weight': 148, 'eval_metric': 'logloss'}. Best is trial 7 with value: 0.8133170052937966.\u001b[0m\n",
      "/home/tunguz/.local/lib/python3.8/site-packages/xgboost/dask.py:884: RuntimeWarning: coroutine 'Client._wait_for_workers' was never awaited\n",
      "  client.wait_for_workers(n_workers)\n",
      "[16:36:04] task [xgboost.dask-0]:tcp://127.0.0.1:42715 got new rank 0\n",
      "\u001b[32m[I 2023-01-09 16:36:27,061]\u001b[0m Trial 21 finished with value: 0.8115030595017919 and parameters: {'objective': 'binary:logistic', 'tree_method': 'gpu_hist', 'lambda': 0.03106925184558077, 'alpha': 0.9428494542797794, 'colsample_bytree': 0.9013876846445088, 'subsample': 0.73760295855654, 'learning_rate': 0.016010625218119173, 'max_depth': 9, 'min_child_weight': 1, 'eval_metric': 'logloss'}. Best is trial 7 with value: 0.8133170052937966.\u001b[0m\n",
      "/home/tunguz/.local/lib/python3.8/site-packages/xgboost/dask.py:884: RuntimeWarning: coroutine 'Client._wait_for_workers' was never awaited\n",
      "  client.wait_for_workers(n_workers)\n",
      "[16:36:27] task [xgboost.dask-0]:tcp://127.0.0.1:42715 got new rank 0\n",
      "\u001b[32m[I 2023-01-09 16:36:36,844]\u001b[0m Trial 22 finished with value: 0.8115411581520057 and parameters: {'objective': 'binary:logistic', 'tree_method': 'gpu_hist', 'lambda': 0.00410023938346507, 'alpha': 2.398167320786989, 'colsample_bytree': 0.8782151035651986, 'subsample': 0.5649124317640586, 'learning_rate': 0.017672307643246697, 'max_depth': 9, 'min_child_weight': 86, 'eval_metric': 'logloss'}. Best is trial 7 with value: 0.8133170052937966.\u001b[0m\n",
      "/home/tunguz/.local/lib/python3.8/site-packages/xgboost/dask.py:884: RuntimeWarning: coroutine 'Client._wait_for_workers' was never awaited\n",
      "  client.wait_for_workers(n_workers)\n",
      "[16:36:36] task [xgboost.dask-0]:tcp://127.0.0.1:42715 got new rank 0\n",
      "\u001b[32m[I 2023-01-09 16:36:46,530]\u001b[0m Trial 23 finished with value: 0.8074405758891848 and parameters: {'objective': 'binary:logistic', 'tree_method': 'gpu_hist', 'lambda': 0.03528039773730926, 'alpha': 7.86178655130517, 'colsample_bytree': 0.7873300956214259, 'subsample': 0.6417938562700606, 'learning_rate': 0.00822136538245832, 'max_depth': 9, 'min_child_weight': 173, 'eval_metric': 'logloss'}. Best is trial 7 with value: 0.8133170052937966.\u001b[0m\n",
      "/home/tunguz/.local/lib/python3.8/site-packages/xgboost/dask.py:884: RuntimeWarning: coroutine 'Client._wait_for_workers' was never awaited\n",
      "  client.wait_for_workers(n_workers)\n",
      "[16:36:46] task [xgboost.dask-0]:tcp://127.0.0.1:42715 got new rank 0\n",
      "\u001b[32m[I 2023-01-09 16:37:08,839]\u001b[0m Trial 24 finished with value: 0.8113725229110429 and parameters: {'objective': 'binary:logistic', 'tree_method': 'gpu_hist', 'lambda': 0.01248772963644741, 'alpha': 0.6156824130630204, 'colsample_bytree': 0.6982156205895539, 'subsample': 0.7178054088736499, 'learning_rate': 0.025387526558986382, 'max_depth': 13, 'min_child_weight': 62, 'eval_metric': 'logloss'}. Best is trial 7 with value: 0.8133170052937966.\u001b[0m\n",
      "/home/tunguz/.local/lib/python3.8/site-packages/xgboost/dask.py:884: RuntimeWarning: coroutine 'Client._wait_for_workers' was never awaited\n",
      "  client.wait_for_workers(n_workers)\n",
      "[16:37:08] task [xgboost.dask-0]:tcp://127.0.0.1:42715 got new rank 0\n",
      "\u001b[32m[I 2023-01-09 16:37:31,671]\u001b[0m Trial 25 finished with value: 0.8093501881827102 and parameters: {'objective': 'binary:logistic', 'tree_method': 'gpu_hist', 'lambda': 0.1620610222650332, 'alpha': 0.18087487045980805, 'colsample_bytree': 0.8212061371057967, 'subsample': 0.8763412736134755, 'learning_rate': 0.035250859728291166, 'max_depth': 11, 'min_child_weight': 26, 'eval_metric': 'logloss'}. Best is trial 7 with value: 0.8133170052937966.\u001b[0m\n",
      "/home/tunguz/.local/lib/python3.8/site-packages/xgboost/dask.py:884: RuntimeWarning: coroutine 'Client._wait_for_workers' was never awaited\n",
      "  client.wait_for_workers(n_workers)\n",
      "[16:37:31] task [xgboost.dask-0]:tcp://127.0.0.1:42715 got new rank 0\n",
      "\u001b[32m[I 2023-01-09 16:38:11,537]\u001b[0m Trial 26 finished with value: 0.8121496929801562 and parameters: {'objective': 'binary:logistic', 'tree_method': 'gpu_hist', 'lambda': 0.7704455022479355, 'alpha': 0.05057022805002625, 'colsample_bytree': 0.9343533627714656, 'subsample': 0.7707823566502447, 'learning_rate': 0.01697436990022032, 'max_depth': 20, 'min_child_weight': 112, 'eval_metric': 'logloss'}. Best is trial 7 with value: 0.8133170052937966.\u001b[0m\n",
      "/home/tunguz/.local/lib/python3.8/site-packages/xgboost/dask.py:884: RuntimeWarning: coroutine 'Client._wait_for_workers' was never awaited\n",
      "  client.wait_for_workers(n_workers)\n",
      "[16:38:11] task [xgboost.dask-0]:tcp://127.0.0.1:42715 got new rank 0\n",
      "\u001b[32m[I 2023-01-09 16:38:55,120]\u001b[0m Trial 27 finished with value: 0.8124615100090608 and parameters: {'objective': 'binary:logistic', 'tree_method': 'gpu_hist', 'lambda': 1.8512378536544083, 'alpha': 0.04985785269715596, 'colsample_bytree': 0.935280553671248, 'subsample': 0.7817635036239305, 'learning_rate': 0.011742798427471569, 'max_depth': 20, 'min_child_weight': 106, 'eval_metric': 'logloss'}. Best is trial 7 with value: 0.8133170052937966.\u001b[0m\n",
      "/home/tunguz/.local/lib/python3.8/site-packages/xgboost/dask.py:884: RuntimeWarning: coroutine 'Client._wait_for_workers' was never awaited\n",
      "  client.wait_for_workers(n_workers)\n",
      "[16:38:55] task [xgboost.dask-0]:tcp://127.0.0.1:42715 got new rank 0\n",
      "\u001b[32m[I 2023-01-09 16:39:36,615]\u001b[0m Trial 28 finished with value: 0.8101198738604485 and parameters: {'objective': 'binary:logistic', 'tree_method': 'gpu_hist', 'lambda': 2.358985387637297, 'alpha': 0.06246696572498493, 'colsample_bytree': 0.9549926580367183, 'subsample': 0.7830646882791071, 'learning_rate': 0.006548861798380487, 'max_depth': 20, 'min_child_weight': 137, 'eval_metric': 'logloss'}. Best is trial 7 with value: 0.8133170052937966.\u001b[0m\n",
      "/home/tunguz/.local/lib/python3.8/site-packages/xgboost/dask.py:884: RuntimeWarning: coroutine 'Client._wait_for_workers' was never awaited\n",
      "  client.wait_for_workers(n_workers)\n",
      "[16:39:36] task [xgboost.dask-0]:tcp://127.0.0.1:42715 got new rank 0\n",
      "\u001b[32m[I 2023-01-09 16:40:20,439]\u001b[0m Trial 29 finished with value: 0.8123732871342562 and parameters: {'objective': 'binary:logistic', 'tree_method': 'gpu_hist', 'lambda': 0.8042404112415662, 'alpha': 0.03964032728387661, 'colsample_bytree': 0.9384477295618013, 'subsample': 0.8547285395650882, 'learning_rate': 0.01060069503135064, 'max_depth': 20, 'min_child_weight': 116, 'eval_metric': 'logloss'}. Best is trial 7 with value: 0.8133170052937966.\u001b[0m\n",
      "/home/tunguz/.local/lib/python3.8/site-packages/xgboost/dask.py:884: RuntimeWarning: coroutine 'Client._wait_for_workers' was never awaited\n",
      "  client.wait_for_workers(n_workers)\n",
      "[16:40:20] task [xgboost.dask-0]:tcp://127.0.0.1:42715 got new rank 0\n",
      "\u001b[32m[I 2023-01-09 16:41:33,213]\u001b[0m Trial 30 finished with value: 0.80072980805781 and parameters: {'objective': 'binary:logistic', 'tree_method': 'gpu_hist', 'lambda': 1.286974272255776, 'alpha': 0.011074747603482465, 'colsample_bytree': 0.3397575539665317, 'subsample': 0.8517826423606358, 'learning_rate': 0.005463341316775762, 'max_depth': 20, 'min_child_weight': 65, 'eval_metric': 'logloss'}. Best is trial 7 with value: 0.8133170052937966.\u001b[0m\n",
      "/home/tunguz/.local/lib/python3.8/site-packages/xgboost/dask.py:884: RuntimeWarning: coroutine 'Client._wait_for_workers' was never awaited\n",
      "  client.wait_for_workers(n_workers)\n",
      "[16:41:33] task [xgboost.dask-0]:tcp://127.0.0.1:42715 got new rank 0\n",
      "\u001b[32m[I 2023-01-09 16:42:18,380]\u001b[0m Trial 31 finished with value: 0.8121287480984101 and parameters: {'objective': 'binary:logistic', 'tree_method': 'gpu_hist', 'lambda': 0.5115104760835778, 'alpha': 0.03817053210078516, 'colsample_bytree': 0.959918133705024, 'subsample': 0.9085447475052346, 'learning_rate': 0.011631131865381294, 'max_depth': 20, 'min_child_weight': 110, 'eval_metric': 'logloss'}. Best is trial 7 with value: 0.8133170052937966.\u001b[0m\n",
      "/home/tunguz/.local/lib/python3.8/site-packages/xgboost/dask.py:884: RuntimeWarning: coroutine 'Client._wait_for_workers' was never awaited\n",
      "  client.wait_for_workers(n_workers)\n",
      "[16:42:18] task [xgboost.dask-0]:tcp://127.0.0.1:42715 got new rank 0\n",
      "\u001b[32m[I 2023-01-09 16:43:03,790]\u001b[0m Trial 32 finished with value: 0.8073860409285003 and parameters: {'objective': 'binary:logistic', 'tree_method': 'gpu_hist', 'lambda': 0.6160434246264093, 'alpha': 0.044728651004601154, 'colsample_bytree': 0.9274887236117013, 'subsample': 0.7725566024506119, 'learning_rate': 0.004307844261971147, 'max_depth': 20, 'min_child_weight': 126, 'eval_metric': 'logloss'}. Best is trial 7 with value: 0.8133170052937966.\u001b[0m\n",
      "/home/tunguz/.local/lib/python3.8/site-packages/xgboost/dask.py:884: RuntimeWarning: coroutine 'Client._wait_for_workers' was never awaited\n",
      "  client.wait_for_workers(n_workers)\n",
      "[16:43:03] task [xgboost.dask-0]:tcp://127.0.0.1:42715 got new rank 0\n",
      "\u001b[32m[I 2023-01-09 16:44:06,815]\u001b[0m Trial 33 finished with value: 0.8110818382813151 and parameters: {'objective': 'binary:logistic', 'tree_method': 'gpu_hist', 'lambda': 3.6178571444241463, 'alpha': 0.1606000932104756, 'colsample_bytree': 0.9943859949144066, 'subsample': 0.9818439532700143, 'learning_rate': 0.009428563815777847, 'max_depth': 20, 'min_child_weight': 73, 'eval_metric': 'logloss'}. Best is trial 7 with value: 0.8133170052937966.\u001b[0m\n",
      "/home/tunguz/.local/lib/python3.8/site-packages/xgboost/dask.py:884: RuntimeWarning: coroutine 'Client._wait_for_workers' was never awaited\n",
      "  client.wait_for_workers(n_workers)\n",
      "[16:44:06] task [xgboost.dask-0]:tcp://127.0.0.1:42715 got new rank 0\n",
      "\u001b[32m[I 2023-01-09 16:44:42,317]\u001b[0m Trial 34 finished with value: 0.8118767491299843 and parameters: {'objective': 'binary:logistic', 'tree_method': 'gpu_hist', 'lambda': 1.2596415662454121, 'alpha': 0.0045772095802710504, 'colsample_bytree': 0.8789671236829589, 'subsample': 0.8271013419400837, 'learning_rate': 0.013596003485500703, 'max_depth': 20, 'min_child_weight': 158, 'eval_metric': 'logloss'}. Best is trial 7 with value: 0.8133170052937966.\u001b[0m\n",
      "/home/tunguz/.local/lib/python3.8/site-packages/xgboost/dask.py:884: RuntimeWarning: coroutine 'Client._wait_for_workers' was never awaited\n",
      "  client.wait_for_workers(n_workers)\n",
      "[16:44:42] task [xgboost.dask-0]:tcp://127.0.0.1:42715 got new rank 0\n",
      "\u001b[32m[I 2023-01-09 16:45:27,040]\u001b[0m Trial 35 finished with value: 0.8103353721532897 and parameters: {'objective': 'binary:logistic', 'tree_method': 'gpu_hist', 'lambda': 4.459457248905211, 'alpha': 0.018527501765587078, 'colsample_bytree': 0.9416719110724893, 'subsample': 0.6858352511507274, 'learning_rate': 0.006280606899188203, 'max_depth': 20, 'min_child_weight': 104, 'eval_metric': 'logloss'}. Best is trial 7 with value: 0.8133170052937966.\u001b[0m\n",
      "/home/tunguz/.local/lib/python3.8/site-packages/xgboost/dask.py:884: RuntimeWarning: coroutine 'Client._wait_for_workers' was never awaited\n",
      "  client.wait_for_workers(n_workers)\n",
      "[16:45:27] task [xgboost.dask-0]:tcp://127.0.0.1:42715 got new rank 0\n",
      "\u001b[32m[I 2023-01-09 16:45:58,409]\u001b[0m Trial 36 finished with value: 0.8043749267866727 and parameters: {'objective': 'binary:logistic', 'tree_method': 'gpu_hist', 'lambda': 0.3779419192032372, 'alpha': 0.31259161149107123, 'colsample_bytree': 0.8503067736375697, 'subsample': 0.8801532246494108, 'learning_rate': 0.0032505227583681726, 'max_depth': 15, 'min_child_weight': 147, 'eval_metric': 'logloss'}. Best is trial 7 with value: 0.8133170052937966.\u001b[0m\n",
      "/home/tunguz/.local/lib/python3.8/site-packages/xgboost/dask.py:884: RuntimeWarning: coroutine 'Client._wait_for_workers' was never awaited\n",
      "  client.wait_for_workers(n_workers)\n",
      "[16:45:58] task [xgboost.dask-0]:tcp://127.0.0.1:42715 got new rank 0\n",
      "\u001b[32m[I 2023-01-09 16:46:31,049]\u001b[0m Trial 37 finished with value: 0.8109906640452056 and parameters: {'objective': 'binary:logistic', 'tree_method': 'gpu_hist', 'lambda': 0.9283899422351696, 'alpha': 0.054849092544453935, 'colsample_bytree': 0.7270101950476449, 'subsample': 0.8189665695726872, 'learning_rate': 0.01054718870931885, 'max_depth': 20, 'min_child_weight': 204, 'eval_metric': 'logloss'}. Best is trial 7 with value: 0.8133170052937966.\u001b[0m\n",
      "/home/tunguz/.local/lib/python3.8/site-packages/xgboost/dask.py:884: RuntimeWarning: coroutine 'Client._wait_for_workers' was never awaited\n",
      "  client.wait_for_workers(n_workers)\n",
      "[16:46:31] task [xgboost.dask-0]:tcp://127.0.0.1:42715 got new rank 0\n",
      "\u001b[32m[I 2023-01-09 16:46:34,308]\u001b[0m Trial 38 finished with value: 0.8028653054792658 and parameters: {'objective': 'binary:logistic', 'tree_method': 'gpu_hist', 'lambda': 2.0470056327318593, 'alpha': 0.10133875648297509, 'colsample_bytree': 0.5270228796003815, 'subsample': 0.7624014991342802, 'learning_rate': 0.015117340592773474, 'max_depth': 5, 'min_child_weight': 47, 'eval_metric': 'logloss'}. Best is trial 7 with value: 0.8133170052937966.\u001b[0m\n",
      "/home/tunguz/.local/lib/python3.8/site-packages/xgboost/dask.py:884: RuntimeWarning: coroutine 'Client._wait_for_workers' was never awaited\n",
      "  client.wait_for_workers(n_workers)\n",
      "[16:46:34] task [xgboost.dask-0]:tcp://127.0.0.1:42715 got new rank 0\n",
      "\u001b[32m[I 2023-01-09 16:46:41,027]\u001b[0m Trial 39 finished with value: 0.8026033028635444 and parameters: {'objective': 'binary:logistic', 'tree_method': 'gpu_hist', 'lambda': 0.35324557429918246, 'alpha': 0.023597163587100827, 'colsample_bytree': 0.40981457182303094, 'subsample': 0.6513086242507024, 'learning_rate': 0.007912454234796138, 'max_depth': 7, 'min_child_weight': 120, 'eval_metric': 'logloss'}. Best is trial 7 with value: 0.8133170052937966.\u001b[0m\n",
      "/home/tunguz/.local/lib/python3.8/site-packages/xgboost/dask.py:884: RuntimeWarning: coroutine 'Client._wait_for_workers' was never awaited\n",
      "  client.wait_for_workers(n_workers)\n",
      "[16:46:41] task [xgboost.dask-0]:tcp://127.0.0.1:42715 got new rank 0\n",
      "\u001b[32m[I 2023-01-09 16:48:07,620]\u001b[0m Trial 40 finished with value: 0.8111873942890865 and parameters: {'objective': 'binary:logistic', 'tree_method': 'gpu_hist', 'lambda': 4.180757860101886, 'alpha': 0.255023531618658, 'colsample_bytree': 0.912513886006101, 'subsample': 0.9356982647202245, 'learning_rate': 0.020007746925683297, 'max_depth': 20, 'min_child_weight': 29, 'eval_metric': 'logloss'}. Best is trial 7 with value: 0.8133170052937966.\u001b[0m\n",
      "/home/tunguz/.local/lib/python3.8/site-packages/xgboost/dask.py:884: RuntimeWarning: coroutine 'Client._wait_for_workers' was never awaited\n",
      "  client.wait_for_workers(n_workers)\n",
      "/home/tunguz/.local/lib/python3.8/site-packages/distributed/worker_state_machine.py:3649: FutureWarning: The `Worker.nthreads` attribute has been moved to `Worker.state.nthreads`\n",
      "  warnings.warn(\n",
      "/home/tunguz/.local/lib/python3.8/site-packages/distributed/worker_state_machine.py:3649: FutureWarning: The `Worker.nthreads` attribute has been moved to `Worker.state.nthreads`\n",
      "  warnings.warn(\n",
      "/home/tunguz/.local/lib/python3.8/site-packages/distributed/worker_state_machine.py:3649: FutureWarning: The `Worker.nthreads` attribute has been moved to `Worker.state.nthreads`\n",
      "  warnings.warn(\n",
      "/home/tunguz/.local/lib/python3.8/site-packages/distributed/worker_state_machine.py:3649: FutureWarning: The `Worker.nthreads` attribute has been moved to `Worker.state.nthreads`\n",
      "  warnings.warn(\n",
      "/home/tunguz/.local/lib/python3.8/site-packages/distributed/worker_state_machine.py:3649: FutureWarning: The `Worker.nthreads` attribute has been moved to `Worker.state.nthreads`\n",
      "  warnings.warn(\n",
      "/home/tunguz/.local/lib/python3.8/site-packages/distributed/worker_state_machine.py:3649: FutureWarning: The `Worker.nthreads` attribute has been moved to `Worker.state.nthreads`\n",
      "  warnings.warn(\n",
      "/home/tunguz/.local/lib/python3.8/site-packages/distributed/worker_state_machine.py:3649: FutureWarning: The `Worker.nthreads` attribute has been moved to `Worker.state.nthreads`\n",
      "  warnings.warn(\n",
      "/home/tunguz/.local/lib/python3.8/site-packages/distributed/worker_state_machine.py:3649: FutureWarning: The `Worker.nthreads` attribute has been moved to `Worker.state.nthreads`\n",
      "  warnings.warn(\n",
      "/home/tunguz/.local/lib/python3.8/site-packages/distributed/worker_state_machine.py:3649: FutureWarning: The `Worker.nthreads` attribute has been moved to `Worker.state.nthreads`\n",
      "  warnings.warn(\n",
      "/home/tunguz/.local/lib/python3.8/site-packages/distributed/worker_state_machine.py:3649: FutureWarning: The `Worker.nthreads` attribute has been moved to `Worker.state.nthreads`\n",
      "  warnings.warn(\n",
      "/home/tunguz/.local/lib/python3.8/site-packages/distributed/worker_state_machine.py:3649: FutureWarning: The `Worker.nthreads` attribute has been moved to `Worker.state.nthreads`\n",
      "  warnings.warn(\n",
      "/home/tunguz/.local/lib/python3.8/site-packages/distributed/worker_state_machine.py:3649: FutureWarning: The `Worker.nthreads` attribute has been moved to `Worker.state.nthreads`\n",
      "  warnings.warn(\n",
      "/home/tunguz/.local/lib/python3.8/site-packages/distributed/worker_state_machine.py:3649: FutureWarning: The `Worker.nthreads` attribute has been moved to `Worker.state.nthreads`\n",
      "  warnings.warn(\n",
      "/home/tunguz/.local/lib/python3.8/site-packages/distributed/worker_state_machine.py:3649: FutureWarning: The `Worker.nthreads` attribute has been moved to `Worker.state.nthreads`\n",
      "  warnings.warn(\n",
      "/home/tunguz/.local/lib/python3.8/site-packages/distributed/worker_state_machine.py:3649: FutureWarning: The `Worker.nthreads` attribute has been moved to `Worker.state.nthreads`\n",
      "  warnings.warn(\n",
      "/home/tunguz/.local/lib/python3.8/site-packages/distributed/worker_state_machine.py:3649: FutureWarning: The `Worker.nthreads` attribute has been moved to `Worker.state.nthreads`\n",
      "  warnings.warn(\n",
      "/home/tunguz/.local/lib/python3.8/site-packages/distributed/worker_state_machine.py:3649: FutureWarning: The `Worker.nthreads` attribute has been moved to `Worker.state.nthreads`\n",
      "  warnings.warn(\n",
      "/home/tunguz/.local/lib/python3.8/site-packages/distributed/worker_state_machine.py:3649: FutureWarning: The `Worker.nthreads` attribute has been moved to `Worker.state.nthreads`\n",
      "  warnings.warn(\n",
      "/home/tunguz/.local/lib/python3.8/site-packages/distributed/worker_state_machine.py:3649: FutureWarning: The `Worker.nthreads` attribute has been moved to `Worker.state.nthreads`\n",
      "  warnings.warn(\n",
      "/home/tunguz/.local/lib/python3.8/site-packages/distributed/worker_state_machine.py:3649: FutureWarning: The `Worker.nthreads` attribute has been moved to `Worker.state.nthreads`\n",
      "  warnings.warn(\n",
      "/home/tunguz/.local/lib/python3.8/site-packages/distributed/worker_state_machine.py:3649: FutureWarning: The `Worker.nthreads` attribute has been moved to `Worker.state.nthreads`\n",
      "  warnings.warn(\n",
      "/home/tunguz/.local/lib/python3.8/site-packages/distributed/worker_state_machine.py:3649: FutureWarning: The `Worker.nthreads` attribute has been moved to `Worker.state.nthreads`\n",
      "  warnings.warn(\n",
      "/home/tunguz/.local/lib/python3.8/site-packages/distributed/worker_state_machine.py:3649: FutureWarning: The `Worker.nthreads` attribute has been moved to `Worker.state.nthreads`\n",
      "  warnings.warn(\n",
      "/home/tunguz/.local/lib/python3.8/site-packages/distributed/worker_state_machine.py:3649: FutureWarning: The `Worker.nthreads` attribute has been moved to `Worker.state.nthreads`\n",
      "  warnings.warn(\n",
      "/home/tunguz/.local/lib/python3.8/site-packages/distributed/worker_state_machine.py:3649: FutureWarning: The `Worker.nthreads` attribute has been moved to `Worker.state.nthreads`\n",
      "  warnings.warn(\n",
      "/home/tunguz/.local/lib/python3.8/site-packages/distributed/worker_state_machine.py:3649: FutureWarning: The `Worker.nthreads` attribute has been moved to `Worker.state.nthreads`\n",
      "  warnings.warn(\n",
      "/home/tunguz/.local/lib/python3.8/site-packages/distributed/worker_state_machine.py:3649: FutureWarning: The `Worker.nthreads` attribute has been moved to `Worker.state.nthreads`\n",
      "  warnings.warn(\n",
      "/home/tunguz/.local/lib/python3.8/site-packages/distributed/worker_state_machine.py:3649: FutureWarning: The `Worker.nthreads` attribute has been moved to `Worker.state.nthreads`\n",
      "  warnings.warn(\n",
      "/home/tunguz/.local/lib/python3.8/site-packages/distributed/worker_state_machine.py:3649: FutureWarning: The `Worker.nthreads` attribute has been moved to `Worker.state.nthreads`\n",
      "  warnings.warn(\n",
      "/home/tunguz/.local/lib/python3.8/site-packages/distributed/worker_state_machine.py:3649: FutureWarning: The `Worker.nthreads` attribute has been moved to `Worker.state.nthreads`\n",
      "  warnings.warn(\n",
      "/home/tunguz/.local/lib/python3.8/site-packages/distributed/worker_state_machine.py:3649: FutureWarning: The `Worker.nthreads` attribute has been moved to `Worker.state.nthreads`\n",
      "  warnings.warn(\n",
      "/home/tunguz/.local/lib/python3.8/site-packages/distributed/worker_state_machine.py:3649: FutureWarning: The `Worker.nthreads` attribute has been moved to `Worker.state.nthreads`\n",
      "  warnings.warn(\n",
      "/home/tunguz/.local/lib/python3.8/site-packages/distributed/worker_state_machine.py:3649: FutureWarning: The `Worker.nthreads` attribute has been moved to `Worker.state.nthreads`\n",
      "  warnings.warn(\n",
      "/home/tunguz/.local/lib/python3.8/site-packages/distributed/worker_state_machine.py:3649: FutureWarning: The `Worker.nthreads` attribute has been moved to `Worker.state.nthreads`\n",
      "  warnings.warn(\n",
      "/home/tunguz/.local/lib/python3.8/site-packages/distributed/worker_state_machine.py:3649: FutureWarning: The `Worker.nthreads` attribute has been moved to `Worker.state.nthreads`\n",
      "  warnings.warn(\n",
      "/home/tunguz/.local/lib/python3.8/site-packages/distributed/worker_state_machine.py:3649: FutureWarning: The `Worker.nthreads` attribute has been moved to `Worker.state.nthreads`\n",
      "  warnings.warn(\n",
      "/home/tunguz/.local/lib/python3.8/site-packages/distributed/worker_state_machine.py:3649: FutureWarning: The `Worker.nthreads` attribute has been moved to `Worker.state.nthreads`\n",
      "  warnings.warn(\n",
      "/home/tunguz/.local/lib/python3.8/site-packages/distributed/worker_state_machine.py:3649: FutureWarning: The `Worker.nthreads` attribute has been moved to `Worker.state.nthreads`\n",
      "  warnings.warn(\n",
      "/home/tunguz/.local/lib/python3.8/site-packages/distributed/worker_state_machine.py:3649: FutureWarning: The `Worker.nthreads` attribute has been moved to `Worker.state.nthreads`\n",
      "  warnings.warn(\n",
      "/home/tunguz/.local/lib/python3.8/site-packages/distributed/worker_state_machine.py:3649: FutureWarning: The `Worker.nthreads` attribute has been moved to `Worker.state.nthreads`\n",
      "  warnings.warn(\n",
      "/home/tunguz/.local/lib/python3.8/site-packages/distributed/worker_state_machine.py:3649: FutureWarning: The `Worker.nthreads` attribute has been moved to `Worker.state.nthreads`\n",
      "  warnings.warn(\n",
      "[16:48:07] task [xgboost.dask-0]:tcp://127.0.0.1:42715 got new rank 0\n",
      "\u001b[32m[I 2023-01-09 16:48:54,476]\u001b[0m Trial 41 finished with value: 0.8117499628878545 and parameters: {'objective': 'binary:logistic', 'tree_method': 'gpu_hist', 'lambda': 0.37199721969340915, 'alpha': 0.05054482499626522, 'colsample_bytree': 0.9580681572315645, 'subsample': 0.9205131771923698, 'learning_rate': 0.010687313717274534, 'max_depth': 20, 'min_child_weight': 109, 'eval_metric': 'logloss'}. Best is trial 7 with value: 0.8133170052937966.\u001b[0m\n",
      "/home/tunguz/.local/lib/python3.8/site-packages/xgboost/dask.py:884: RuntimeWarning: coroutine 'Client._wait_for_workers' was never awaited\n",
      "  client.wait_for_workers(n_workers)\n",
      "[16:48:54] task [xgboost.dask-0]:tcp://127.0.0.1:42715 got new rank 0\n",
      "\u001b[32m[I 2023-01-09 16:49:43,305]\u001b[0m Trial 42 finished with value: 0.8124846398765242 and parameters: {'objective': 'binary:logistic', 'tree_method': 'gpu_hist', 'lambda': 0.7421524968790371, 'alpha': 0.01036782083404925, 'colsample_bytree': 0.9940539319777277, 'subsample': 0.874460895143333, 'learning_rate': 0.012217830036283463, 'max_depth': 20, 'min_child_weight': 92, 'eval_metric': 'logloss'}. Best is trial 7 with value: 0.8133170052937966.\u001b[0m\n",
      "/home/tunguz/.local/lib/python3.8/site-packages/xgboost/dask.py:884: RuntimeWarning: coroutine 'Client._wait_for_workers' was never awaited\n",
      "  client.wait_for_workers(n_workers)\n",
      "[16:49:43] task [xgboost.dask-0]:tcp://127.0.0.1:42715 got new rank 0\n",
      "\u001b[32m[I 2023-01-09 16:50:27,782]\u001b[0m Trial 43 finished with value: 0.8111329979282422 and parameters: {'objective': 'binary:logistic', 'tree_method': 'gpu_hist', 'lambda': 0.7275153194673019, 'alpha': 0.0066951103011806045, 'colsample_bytree': 0.9997786617436991, 'subsample': 0.8640712652455498, 'learning_rate': 0.02810780578329318, 'max_depth': 20, 'min_child_weight': 81, 'eval_metric': 'logloss'}. Best is trial 7 with value: 0.8133170052937966.\u001b[0m\n",
      "/home/tunguz/.local/lib/python3.8/site-packages/xgboost/dask.py:884: RuntimeWarning: coroutine 'Client._wait_for_workers' was never awaited\n",
      "  client.wait_for_workers(n_workers)\n",
      "[16:50:27] task [xgboost.dask-0]:tcp://127.0.0.1:42715 got new rank 0\n",
      "\u001b[32m[I 2023-01-09 16:50:49,078]\u001b[0m Trial 44 finished with value: 0.812785572741501 and parameters: {'objective': 'binary:logistic', 'tree_method': 'gpu_hist', 'lambda': 1.901621565381118, 'alpha': 0.012602588630465636, 'colsample_bytree': 0.9237402543942792, 'subsample': 0.8109366153243895, 'learning_rate': 0.0125850997468476, 'max_depth': 13, 'min_child_weight': 96, 'eval_metric': 'logloss'}. Best is trial 7 with value: 0.8133170052937966.\u001b[0m\n",
      "/home/tunguz/.local/lib/python3.8/site-packages/xgboost/dask.py:884: RuntimeWarning: coroutine 'Client._wait_for_workers' was never awaited\n",
      "  client.wait_for_workers(n_workers)\n",
      "[16:50:49] task [xgboost.dask-0]:tcp://127.0.0.1:42715 got new rank 0\n",
      "\u001b[32m[I 2023-01-09 16:51:19,239]\u001b[0m Trial 45 finished with value: 0.8082937965059535 and parameters: {'objective': 'binary:logistic', 'tree_method': 'gpu_hist', 'lambda': 6.874704311689953, 'alpha': 0.01060595815659935, 'colsample_bytree': 0.8610693048012897, 'subsample': 0.8432971729882435, 'learning_rate': 0.005209123866486633, 'max_depth': 13, 'min_child_weight': 95, 'eval_metric': 'logloss'}. Best is trial 7 with value: 0.8133170052937966.\u001b[0m\n",
      "/home/tunguz/.local/lib/python3.8/site-packages/xgboost/dask.py:884: RuntimeWarning: coroutine 'Client._wait_for_workers' was never awaited\n",
      "  client.wait_for_workers(n_workers)\n",
      "[16:51:19] task [xgboost.dask-0]:tcp://127.0.0.1:42715 got new rank 0\n",
      "\u001b[32m[I 2023-01-09 16:51:50,167]\u001b[0m Trial 46 finished with value: 0.811889467703563 and parameters: {'objective': 'binary:logistic', 'tree_method': 'gpu_hist', 'lambda': 1.83694747317526, 'alpha': 0.003488902337531779, 'colsample_bytree': 0.7864915145419525, 'subsample': 0.8068699217712364, 'learning_rate': 0.012599315919388098, 'max_depth': 13, 'min_child_weight': 50, 'eval_metric': 'logloss'}. Best is trial 7 with value: 0.8133170052937966.\u001b[0m\n",
      "/home/tunguz/.local/lib/python3.8/site-packages/xgboost/dask.py:884: RuntimeWarning: coroutine 'Client._wait_for_workers' was never awaited\n",
      "  client.wait_for_workers(n_workers)\n",
      "[16:51:50] task [xgboost.dask-0]:tcp://127.0.0.1:42715 got new rank 0\n",
      "\u001b[32m[I 2023-01-09 16:52:23,672]\u001b[0m Trial 47 finished with value: 0.7961233200721006 and parameters: {'objective': 'binary:logistic', 'tree_method': 'gpu_hist', 'lambda': 2.9559437108893443, 'alpha': 0.0029491350357639464, 'colsample_bytree': 0.8236865155728952, 'subsample': 0.8833346364855152, 'learning_rate': 0.0013787175024236383, 'max_depth': 13, 'min_child_weight': 132, 'eval_metric': 'logloss'}. Best is trial 7 with value: 0.8133170052937966.\u001b[0m\n",
      "/home/tunguz/.local/lib/python3.8/site-packages/xgboost/dask.py:884: RuntimeWarning: coroutine 'Client._wait_for_workers' was never awaited\n",
      "  client.wait_for_workers(n_workers)\n",
      "[16:52:23] task [xgboost.dask-0]:tcp://127.0.0.1:42715 got new rank 0\n",
      "\u001b[32m[I 2023-01-09 16:53:03,276]\u001b[0m Trial 48 finished with value: 0.8107940642482332 and parameters: {'objective': 'binary:logistic', 'tree_method': 'gpu_hist', 'lambda': 5.367422444811579, 'alpha': 0.012318280977037887, 'colsample_bytree': 0.9059893549170507, 'subsample': 0.9635193038231521, 'learning_rate': 0.008806918896126219, 'max_depth': 15, 'min_child_weight': 70, 'eval_metric': 'logloss'}. Best is trial 7 with value: 0.8133170052937966.\u001b[0m\n",
      "/home/tunguz/.local/lib/python3.8/site-packages/xgboost/dask.py:884: RuntimeWarning: coroutine 'Client._wait_for_workers' was never awaited\n",
      "  client.wait_for_workers(n_workers)\n",
      "[16:53:03] task [xgboost.dask-0]:tcp://127.0.0.1:42715 got new rank 0\n",
      "\u001b[32m[I 2023-01-09 16:53:06,601]\u001b[0m Trial 49 finished with value: 0.7959090610248901 and parameters: {'objective': 'binary:logistic', 'tree_method': 'gpu_hist', 'lambda': 9.054906017384164, 'alpha': 0.00758239210779919, 'colsample_bytree': 0.6013649865723153, 'subsample': 0.5972461611967519, 'learning_rate': 0.006643607559611956, 'max_depth': 5, 'min_child_weight': 96, 'eval_metric': 'logloss'}. Best is trial 7 with value: 0.8133170052937966.\u001b[0m\n",
      "/home/tunguz/.local/lib/python3.8/site-packages/xgboost/dask.py:884: RuntimeWarning: coroutine 'Client._wait_for_workers' was never awaited\n",
      "  client.wait_for_workers(n_workers)\n",
      "[16:53:06] task [xgboost.dask-0]:tcp://127.0.0.1:42715 got new rank 0\n",
      "\u001b[32m[I 2023-01-09 16:53:15,819]\u001b[0m Trial 50 finished with value: 0.8102277126891186 and parameters: {'objective': 'binary:logistic', 'tree_method': 'gpu_hist', 'lambda': 0.14007631351197072, 'alpha': 0.020652482917794607, 'colsample_bytree': 0.9693734971608666, 'subsample': 0.7020250993182868, 'learning_rate': 0.014156480558764855, 'max_depth': 11, 'min_child_weight': 274, 'eval_metric': 'logloss'}. Best is trial 7 with value: 0.8133170052937966.\u001b[0m\n",
      "/home/tunguz/.local/lib/python3.8/site-packages/xgboost/dask.py:884: RuntimeWarning: coroutine 'Client._wait_for_workers' was never awaited\n",
      "  client.wait_for_workers(n_workers)\n",
      "[16:53:15] task [xgboost.dask-0]:tcp://127.0.0.1:42715 got new rank 0\n",
      "\u001b[32m[I 2023-01-09 16:53:53,270]\u001b[0m Trial 51 finished with value: 0.8122520041210788 and parameters: {'objective': 'binary:logistic', 'tree_method': 'gpu_hist', 'lambda': 0.9955273558706496, 'alpha': 0.0846366773791342, 'colsample_bytree': 0.9320670029323848, 'subsample': 0.7559766442442368, 'learning_rate': 0.019840764518669955, 'max_depth': 20, 'min_child_weight': 119, 'eval_metric': 'logloss'}. Best is trial 7 with value: 0.8133170052937966.\u001b[0m\n",
      "/home/tunguz/.local/lib/python3.8/site-packages/xgboost/dask.py:884: RuntimeWarning: coroutine 'Client._wait_for_workers' was never awaited\n",
      "  client.wait_for_workers(n_workers)\n",
      "[16:53:53] task [xgboost.dask-0]:tcp://127.0.0.1:42715 got new rank 0\n",
      "\u001b[32m[I 2023-01-09 16:53:55,102]\u001b[0m Trial 52 finished with value: 0.793326937847527 and parameters: {'objective': 'binary:logistic', 'tree_method': 'gpu_hist', 'lambda': 1.031891767810228, 'alpha': 0.10273494186517802, 'colsample_bytree': 0.9253950169943201, 'subsample': 0.7557526393254854, 'learning_rate': 0.01983690567040571, 'max_depth': 3, 'min_child_weight': 162, 'eval_metric': 'logloss'}. Best is trial 7 with value: 0.8133170052937966.\u001b[0m\n",
      "/home/tunguz/.local/lib/python3.8/site-packages/xgboost/dask.py:884: RuntimeWarning: coroutine 'Client._wait_for_workers' was never awaited\n",
      "  client.wait_for_workers(n_workers)\n",
      "[16:53:55] task [xgboost.dask-0]:tcp://127.0.0.1:42715 got new rank 0\n",
      "\u001b[32m[I 2023-01-09 16:54:21,938]\u001b[0m Trial 53 finished with value: 0.8126798210633667 and parameters: {'objective': 'binary:logistic', 'tree_method': 'gpu_hist', 'lambda': 1.5937780601075016, 'alpha': 0.02928057729243961, 'colsample_bytree': 0.8671702460003766, 'subsample': 0.8189071047840134, 'learning_rate': 0.011641007341833811, 'max_depth': 17, 'min_child_weight': 120, 'eval_metric': 'logloss'}. Best is trial 7 with value: 0.8133170052937966.\u001b[0m\n",
      "/home/tunguz/.local/lib/python3.8/site-packages/xgboost/dask.py:884: RuntimeWarning: coroutine 'Client._wait_for_workers' was never awaited\n",
      "  client.wait_for_workers(n_workers)\n",
      "[16:54:21] task [xgboost.dask-0]:tcp://127.0.0.1:42715 got new rank 0\n",
      "\u001b[32m[I 2023-01-09 16:54:48,311]\u001b[0m Trial 54 finished with value: 0.8115953833012826 and parameters: {'objective': 'binary:logistic', 'tree_method': 'gpu_hist', 'lambda': 2.5742852005977293, 'alpha': 0.03237854873338912, 'colsample_bytree': 0.8720411602695993, 'subsample': 0.906557549594995, 'learning_rate': 0.010194470932805474, 'max_depth': 17, 'min_child_weight': 142, 'eval_metric': 'logloss'}. Best is trial 7 with value: 0.8133170052937966.\u001b[0m\n",
      "/home/tunguz/.local/lib/python3.8/site-packages/xgboost/dask.py:884: RuntimeWarning: coroutine 'Client._wait_for_workers' was never awaited\n",
      "  client.wait_for_workers(n_workers)\n",
      "[16:54:48] task [xgboost.dask-0]:tcp://127.0.0.1:42715 got new rank 0\n",
      "\u001b[32m[I 2023-01-09 16:55:22,663]\u001b[0m Trial 55 finished with value: 0.8120269016745991 and parameters: {'objective': 'binary:logistic', 'tree_method': 'gpu_hist', 'lambda': 1.5504957070094547, 'alpha': 0.017081278145180175, 'colsample_bytree': 0.8324224826303742, 'subsample': 0.8314203915584945, 'learning_rate': 0.012372736383846498, 'max_depth': 17, 'min_child_weight': 81, 'eval_metric': 'logloss'}. Best is trial 7 with value: 0.8133170052937966.\u001b[0m\n",
      "/home/tunguz/.local/lib/python3.8/site-packages/xgboost/dask.py:884: RuntimeWarning: coroutine 'Client._wait_for_workers' was never awaited\n",
      "  client.wait_for_workers(n_workers)\n",
      "[16:55:22] task [xgboost.dask-0]:tcp://127.0.0.1:42715 got new rank 0\n",
      "\u001b[32m[I 2023-01-09 16:55:56,810]\u001b[0m Trial 56 finished with value: 0.811776329469235 and parameters: {'objective': 'binary:logistic', 'tree_method': 'gpu_hist', 'lambda': 0.4490391052806866, 'alpha': 0.025097246450257255, 'colsample_bytree': 0.8971481185650477, 'subsample': 0.8061655262530887, 'learning_rate': 0.007622211206108734, 'max_depth': 17, 'min_child_weight': 98, 'eval_metric': 'logloss'}. Best is trial 7 with value: 0.8133170052937966.\u001b[0m\n",
      "/home/tunguz/.local/lib/python3.8/site-packages/xgboost/dask.py:884: RuntimeWarning: coroutine 'Client._wait_for_workers' was never awaited\n",
      "  client.wait_for_workers(n_workers)\n",
      "[16:55:56] task [xgboost.dask-0]:tcp://127.0.0.1:42715 got new rank 0\n",
      "\u001b[32m[I 2023-01-09 16:56:02,625]\u001b[0m Trial 57 finished with value: 0.8084369375292365 and parameters: {'objective': 'binary:logistic', 'tree_method': 'gpu_hist', 'lambda': 0.29133382492378423, 'alpha': 5.814240784270347, 'colsample_bytree': 0.8117553846330022, 'subsample': 0.6168581321652072, 'learning_rate': 0.014831913831829874, 'max_depth': 7, 'min_child_weight': 124, 'eval_metric': 'logloss'}. Best is trial 7 with value: 0.8133170052937966.\u001b[0m\n",
      "/home/tunguz/.local/lib/python3.8/site-packages/xgboost/dask.py:884: RuntimeWarning: coroutine 'Client._wait_for_workers' was never awaited\n",
      "  client.wait_for_workers(n_workers)\n",
      "[16:56:02] task [xgboost.dask-0]:tcp://127.0.0.1:42715 got new rank 0\n",
      "\u001b[32m[I 2023-01-09 16:56:36,021]\u001b[0m Trial 58 finished with value: 0.8111019597169511 and parameters: {'objective': 'binary:logistic', 'tree_method': 'gpu_hist', 'lambda': 0.23954559296351566, 'alpha': 0.0017213337860931155, 'colsample_bytree': 0.7664465745543045, 'subsample': 0.855341962657629, 'learning_rate': 0.009605767367776154, 'max_depth': 13, 'min_child_weight': 55, 'eval_metric': 'logloss'}. Best is trial 7 with value: 0.8133170052937966.\u001b[0m\n",
      "/home/tunguz/.local/lib/python3.8/site-packages/xgboost/dask.py:884: RuntimeWarning: coroutine 'Client._wait_for_workers' was never awaited\n",
      "  client.wait_for_workers(n_workers)\n",
      "[16:56:36] task [xgboost.dask-0]:tcp://127.0.0.1:42715 got new rank 0\n",
      "\u001b[32m[I 2023-01-09 16:57:11,979]\u001b[0m Trial 59 finished with value: 0.8121938492586833 and parameters: {'objective': 'binary:logistic', 'tree_method': 'gpu_hist', 'lambda': 2.7084109215025696, 'alpha': 0.005691187075047284, 'colsample_bytree': 0.9802480755675538, 'subsample': 0.7895800417226269, 'learning_rate': 0.011714641217235809, 'max_depth': 17, 'min_child_weight': 74, 'eval_metric': 'logloss'}. Best is trial 7 with value: 0.8133170052937966.\u001b[0m\n",
      "/home/tunguz/.local/lib/python3.8/site-packages/xgboost/dask.py:884: RuntimeWarning: coroutine 'Client._wait_for_workers' was never awaited\n",
      "  client.wait_for_workers(n_workers)\n",
      "[16:57:11] task [xgboost.dask-0]:tcp://127.0.0.1:42715 got new rank 0\n",
      "\u001b[32m[I 2023-01-09 16:57:13,797]\u001b[0m Trial 60 finished with value: 0.7954690391437256 and parameters: {'objective': 'binary:logistic', 'tree_method': 'gpu_hist', 'lambda': 5.742315554616002, 'alpha': 0.012927049118934277, 'colsample_bytree': 0.7272190952325127, 'subsample': 0.4053272709762908, 'learning_rate': 0.024727641368595867, 'max_depth': 3, 'min_child_weight': 89, 'eval_metric': 'logloss'}. Best is trial 7 with value: 0.8133170052937966.\u001b[0m\n",
      "/home/tunguz/.local/lib/python3.8/site-packages/xgboost/dask.py:884: RuntimeWarning: coroutine 'Client._wait_for_workers' was never awaited\n",
      "  client.wait_for_workers(n_workers)\n",
      "[16:57:13] task [xgboost.dask-0]:tcp://127.0.0.1:42715 got new rank 0\n",
      "\u001b[32m[I 2023-01-09 16:57:50,815]\u001b[0m Trial 61 finished with value: 0.8117600643703315 and parameters: {'objective': 'binary:logistic', 'tree_method': 'gpu_hist', 'lambda': 1.19627728160538, 'alpha': 0.08448152523720798, 'colsample_bytree': 0.9440288113632679, 'subsample': 0.7496700398840471, 'learning_rate': 0.020240332252514395, 'max_depth': 20, 'min_child_weight': 120, 'eval_metric': 'logloss'}. Best is trial 7 with value: 0.8133170052937966.\u001b[0m\n",
      "/home/tunguz/.local/lib/python3.8/site-packages/xgboost/dask.py:884: RuntimeWarning: coroutine 'Client._wait_for_workers' was never awaited\n",
      "  client.wait_for_workers(n_workers)\n",
      "[16:57:50] task [xgboost.dask-0]:tcp://127.0.0.1:42715 got new rank 0\n",
      "\u001b[32m[I 2023-01-09 16:58:32,135]\u001b[0m Trial 62 finished with value: 0.8107512205917229 and parameters: {'objective': 'binary:logistic', 'tree_method': 'gpu_hist', 'lambda': 1.641615536701317, 'alpha': 0.07628820170843417, 'colsample_bytree': 0.6662114755602592, 'subsample': 0.6674904752268718, 'learning_rate': 0.007269665889964555, 'max_depth': 20, 'min_child_weight': 115, 'eval_metric': 'logloss'}. Best is trial 7 with value: 0.8133170052937966.\u001b[0m\n",
      "/home/tunguz/.local/lib/python3.8/site-packages/xgboost/dask.py:884: RuntimeWarning: coroutine 'Client._wait_for_workers' was never awaited\n",
      "  client.wait_for_workers(n_workers)\n",
      "[16:58:32] task [xgboost.dask-0]:tcp://127.0.0.1:42715 got new rank 0\n",
      "\u001b[32m[I 2023-01-09 16:59:08,150]\u001b[0m Trial 63 finished with value: 0.8121894385225895 and parameters: {'objective': 'binary:logistic', 'tree_method': 'gpu_hist', 'lambda': 0.8929428508570023, 'alpha': 0.03517648721205894, 'colsample_bytree': 0.9209523754586916, 'subsample': 0.7131966590919305, 'learning_rate': 0.017550916517415062, 'max_depth': 20, 'min_child_weight': 129, 'eval_metric': 'logloss'}. Best is trial 7 with value: 0.8133170052937966.\u001b[0m\n",
      "/home/tunguz/.local/lib/python3.8/site-packages/xgboost/dask.py:884: RuntimeWarning: coroutine 'Client._wait_for_workers' was never awaited\n",
      "  client.wait_for_workers(n_workers)\n",
      "[16:59:08] task [xgboost.dask-0]:tcp://127.0.0.1:42715 got new rank 0\n",
      "\u001b[32m[I 2023-01-09 16:59:21,503]\u001b[0m Trial 64 finished with value: 0.8098819305464134 and parameters: {'objective': 'binary:logistic', 'tree_method': 'gpu_hist', 'lambda': 3.3136962691287204, 'alpha': 1.4198595052095955, 'colsample_bytree': 0.8642842620513604, 'subsample': 0.8181691848146402, 'learning_rate': 0.03132788439231509, 'max_depth': 11, 'min_child_weight': 101, 'eval_metric': 'logloss'}. Best is trial 7 with value: 0.8133170052937966.\u001b[0m\n",
      "/home/tunguz/.local/lib/python3.8/site-packages/xgboost/dask.py:884: RuntimeWarning: coroutine 'Client._wait_for_workers' was never awaited\n",
      "  client.wait_for_workers(n_workers)\n",
      "[16:59:21] task [xgboost.dask-0]:tcp://127.0.0.1:42715 got new rank 0\n",
      "\u001b[32m[I 2023-01-09 16:59:56,741]\u001b[0m Trial 65 finished with value: 0.8118429552277512 and parameters: {'objective': 'binary:logistic', 'tree_method': 'gpu_hist', 'lambda': 0.5604560514544409, 'alpha': 0.19803941454181193, 'colsample_bytree': 0.887444844717362, 'subsample': 0.7895507583960852, 'learning_rate': 0.015513341512072764, 'max_depth': 20, 'min_child_weight': 156, 'eval_metric': 'logloss'}. Best is trial 7 with value: 0.8133170052937966.\u001b[0m\n",
      "/home/tunguz/.local/lib/python3.8/site-packages/xgboost/dask.py:884: RuntimeWarning: coroutine 'Client._wait_for_workers' was never awaited\n",
      "  client.wait_for_workers(n_workers)\n",
      "[16:59:56] task [xgboost.dask-0]:tcp://127.0.0.1:42715 got new rank 0\n",
      "\u001b[32m[I 2023-01-09 17:00:15,723]\u001b[0m Trial 66 finished with value: 0.8111244373498718 and parameters: {'objective': 'binary:logistic', 'tree_method': 'gpu_hist', 'lambda': 1.9907659795912327, 'alpha': 0.1336051881834805, 'colsample_bytree': 0.9735528888245467, 'subsample': 0.8995692635430826, 'learning_rate': 0.011054396119056632, 'max_depth': 13, 'min_child_weight': 137, 'eval_metric': 'logloss'}. Best is trial 7 with value: 0.8133170052937966.\u001b[0m\n",
      "/home/tunguz/.local/lib/python3.8/site-packages/xgboost/dask.py:884: RuntimeWarning: coroutine 'Client._wait_for_workers' was never awaited\n",
      "  client.wait_for_workers(n_workers)\n",
      "[17:00:15] task [xgboost.dask-0]:tcp://127.0.0.1:42715 got new rank 0\n",
      "\u001b[32m[I 2023-01-09 17:00:50,261]\u001b[0m Trial 67 finished with value: 0.8108899101142533 and parameters: {'objective': 'binary:logistic', 'tree_method': 'gpu_hist', 'lambda': 0.7156888665257227, 'alpha': 0.009851465556380083, 'colsample_bytree': 0.943916034901585, 'subsample': 0.7418611305513264, 'learning_rate': 0.008745762572421423, 'max_depth': 20, 'min_child_weight': 170, 'eval_metric': 'logloss'}. Best is trial 7 with value: 0.8133170052937966.\u001b[0m\n",
      "/home/tunguz/.local/lib/python3.8/site-packages/xgboost/dask.py:884: RuntimeWarning: coroutine 'Client._wait_for_workers' was never awaited\n",
      "  client.wait_for_workers(n_workers)\n",
      "[17:00:50] task [xgboost.dask-0]:tcp://127.0.0.1:42715 got new rank 0\n",
      "\u001b[32m[I 2023-01-09 17:01:13,632]\u001b[0m Trial 68 finished with value: 0.8113606440894374 and parameters: {'objective': 'binary:logistic', 'tree_method': 'gpu_hist', 'lambda': 0.0657023991348417, 'alpha': 0.06806478459355546, 'colsample_bytree': 0.900713034262268, 'subsample': 0.8651034007121237, 'learning_rate': 0.022436147211278307, 'max_depth': 15, 'min_child_weight': 92, 'eval_metric': 'logloss'}. Best is trial 7 with value: 0.8133170052937966.\u001b[0m\n",
      "/home/tunguz/.local/lib/python3.8/site-packages/xgboost/dask.py:884: RuntimeWarning: coroutine 'Client._wait_for_workers' was never awaited\n",
      "  client.wait_for_workers(n_workers)\n",
      "[17:01:13] task [xgboost.dask-0]:tcp://127.0.0.1:42715 got new rank 0\n",
      "\u001b[32m[I 2023-01-09 17:01:41,954]\u001b[0m Trial 69 finished with value: 0.8125357913705196 and parameters: {'objective': 'binary:logistic', 'tree_method': 'gpu_hist', 'lambda': 9.72453279791851, 'alpha': 0.027961830049152155, 'colsample_bytree': 0.9970670540636878, 'subsample': 0.8401775012498316, 'learning_rate': 0.013397255720470565, 'max_depth': 17, 'min_child_weight': 107, 'eval_metric': 'logloss'}. Best is trial 7 with value: 0.8133170052937966.\u001b[0m\n",
      "/home/tunguz/.local/lib/python3.8/site-packages/xgboost/dask.py:884: RuntimeWarning: coroutine 'Client._wait_for_workers' was never awaited\n",
      "  client.wait_for_workers(n_workers)\n",
      "[17:01:41] task [xgboost.dask-0]:tcp://127.0.0.1:42715 got new rank 0\n",
      "\u001b[32m[I 2023-01-09 17:02:10,002]\u001b[0m Trial 70 finished with value: 0.8125079083438278 and parameters: {'objective': 'binary:logistic', 'tree_method': 'gpu_hist', 'lambda': 7.63624258666242, 'alpha': 0.016014944604296345, 'colsample_bytree': 0.9934846915585386, 'subsample': 0.8413582640417603, 'learning_rate': 0.013630387698284356, 'max_depth': 17, 'min_child_weight': 108, 'eval_metric': 'logloss'}. Best is trial 7 with value: 0.8133170052937966.\u001b[0m\n",
      "/home/tunguz/.local/lib/python3.8/site-packages/xgboost/dask.py:884: RuntimeWarning: coroutine 'Client._wait_for_workers' was never awaited\n",
      "  client.wait_for_workers(n_workers)\n",
      "[17:02:10] task [xgboost.dask-0]:tcp://127.0.0.1:42715 got new rank 0\n",
      "\u001b[32m[I 2023-01-09 17:02:39,169]\u001b[0m Trial 71 finished with value: 0.8122925160390996 and parameters: {'objective': 'binary:logistic', 'tree_method': 'gpu_hist', 'lambda': 9.049697519921025, 'alpha': 0.01563178999868254, 'colsample_bytree': 0.9971682883886899, 'subsample': 0.840369320362424, 'learning_rate': 0.01254145417139053, 'max_depth': 17, 'min_child_weight': 105, 'eval_metric': 'logloss'}. Best is trial 7 with value: 0.8133170052937966.\u001b[0m\n",
      "/home/tunguz/.local/lib/python3.8/site-packages/xgboost/dask.py:884: RuntimeWarning: coroutine 'Client._wait_for_workers' was never awaited\n",
      "  client.wait_for_workers(n_workers)\n",
      "[17:02:39] task [xgboost.dask-0]:tcp://127.0.0.1:42715 got new rank 0\n",
      "\u001b[32m[I 2023-01-09 17:03:07,793]\u001b[0m Trial 72 finished with value: 0.812464485829161 and parameters: {'objective': 'binary:logistic', 'tree_method': 'gpu_hist', 'lambda': 5.217882183212263, 'alpha': 0.02555458524369273, 'colsample_bytree': 0.9820151630186867, 'subsample': 0.8941426262842876, 'learning_rate': 0.013345900813263858, 'max_depth': 17, 'min_child_weight': 111, 'eval_metric': 'logloss'}. Best is trial 7 with value: 0.8133170052937966.\u001b[0m\n",
      "/home/tunguz/.local/lib/python3.8/site-packages/xgboost/dask.py:884: RuntimeWarning: coroutine 'Client._wait_for_workers' was never awaited\n",
      "  client.wait_for_workers(n_workers)\n",
      "[17:03:07] task [xgboost.dask-0]:tcp://127.0.0.1:42715 got new rank 0\n",
      "\u001b[32m[I 2023-01-09 17:03:42,627]\u001b[0m Trial 73 finished with value: 0.8124469651787631 and parameters: {'objective': 'binary:logistic', 'tree_method': 'gpu_hist', 'lambda': 5.1403045128947396, 'alpha': 0.02388018688055089, 'colsample_bytree': 0.9792980879915069, 'subsample': 0.8952957253099793, 'learning_rate': 0.013749091397916195, 'max_depth': 17, 'min_child_weight': 82, 'eval_metric': 'logloss'}. Best is trial 7 with value: 0.8133170052937966.\u001b[0m\n",
      "/home/tunguz/.local/lib/python3.8/site-packages/xgboost/dask.py:884: RuntimeWarning: coroutine 'Client._wait_for_workers' was never awaited\n",
      "  client.wait_for_workers(n_workers)\n",
      "[17:03:42] task [xgboost.dask-0]:tcp://127.0.0.1:42715 got new rank 0\n",
      "\u001b[32m[I 2023-01-09 17:04:10,765]\u001b[0m Trial 74 finished with value: 0.8111353215137999 and parameters: {'objective': 'binary:logistic', 'tree_method': 'gpu_hist', 'lambda': 7.685513758891069, 'alpha': 0.02879369993181061, 'colsample_bytree': 0.9573083951052933, 'subsample': 0.9451039407729592, 'learning_rate': 0.017423475317527765, 'max_depth': 17, 'min_child_weight': 108, 'eval_metric': 'logloss'}. Best is trial 7 with value: 0.8133170052937966.\u001b[0m\n",
      "/home/tunguz/.local/lib/python3.8/site-packages/xgboost/dask.py:884: RuntimeWarning: coroutine 'Client._wait_for_workers' was never awaited\n",
      "  client.wait_for_workers(n_workers)\n",
      "[17:04:10] task [xgboost.dask-0]:tcp://127.0.0.1:42715 got new rank 0\n",
      "\u001b[32m[I 2023-01-09 17:04:53,096]\u001b[0m Trial 75 finished with value: 0.8113061743522072 and parameters: {'objective': 'binary:logistic', 'tree_method': 'gpu_hist', 'lambda': 3.7377113266765374, 'alpha': 0.01374820532299421, 'colsample_bytree': 0.9971462596646898, 'subsample': 0.87123555614624, 'learning_rate': 0.009335956229846527, 'max_depth': 17, 'min_child_weight': 71, 'eval_metric': 'logloss'}. Best is trial 7 with value: 0.8133170052937966.\u001b[0m\n",
      "/home/tunguz/.local/lib/python3.8/site-packages/xgboost/dask.py:884: RuntimeWarning: coroutine 'Client._wait_for_workers' was never awaited\n",
      "  client.wait_for_workers(n_workers)\n",
      "[17:04:53] task [xgboost.dask-0]:tcp://127.0.0.1:42715 got new rank 0\n",
      "\u001b[32m[I 2023-01-09 17:05:16,043]\u001b[0m Trial 76 finished with value: 0.8071942269024833 and parameters: {'objective': 'binary:logistic', 'tree_method': 'gpu_hist', 'lambda': 6.361135663230426, 'alpha': 0.009168522889922811, 'colsample_bytree': 0.9661739586380563, 'subsample': 0.931327002793837, 'learning_rate': 0.06630899066514931, 'max_depth': 17, 'min_child_weight': 88, 'eval_metric': 'logloss'}. Best is trial 7 with value: 0.8133170052937966.\u001b[0m\n",
      "/home/tunguz/.local/lib/python3.8/site-packages/xgboost/dask.py:884: RuntimeWarning: coroutine 'Client._wait_for_workers' was never awaited\n",
      "  client.wait_for_workers(n_workers)\n",
      "[17:05:16] task [xgboost.dask-0]:tcp://127.0.0.1:42715 got new rank 0\n",
      "\u001b[32m[I 2023-01-09 17:05:47,173]\u001b[0m Trial 77 finished with value: 0.812634645668367 and parameters: {'objective': 'binary:logistic', 'tree_method': 'gpu_hist', 'lambda': 4.5516266307655275, 'alpha': 0.021171527521791127, 'colsample_bytree': 0.9150110989415544, 'subsample': 0.5403346341568684, 'learning_rate': 0.01568210007055324, 'max_depth': 17, 'min_child_weight': 60, 'eval_metric': 'logloss'}. Best is trial 7 with value: 0.8133170052937966.\u001b[0m\n",
      "/home/tunguz/.local/lib/python3.8/site-packages/xgboost/dask.py:884: RuntimeWarning: coroutine 'Client._wait_for_workers' was never awaited\n",
      "  client.wait_for_workers(n_workers)\n",
      "[17:05:47] task [xgboost.dask-0]:tcp://127.0.0.1:42715 got new rank 0\n",
      "\u001b[32m[I 2023-01-09 17:06:25,262]\u001b[0m Trial 78 finished with value: 0.8127259829631119 and parameters: {'objective': 'binary:logistic', 'tree_method': 'gpu_hist', 'lambda': 4.663365986307731, 'alpha': 0.01936904066908959, 'colsample_bytree': 0.980691624678683, 'subsample': 0.5421726722690176, 'learning_rate': 0.016355366546576315, 'max_depth': 17, 'min_child_weight': 44, 'eval_metric': 'logloss'}. Best is trial 7 with value: 0.8133170052937966.\u001b[0m\n",
      "/home/tunguz/.local/lib/python3.8/site-packages/xgboost/dask.py:884: RuntimeWarning: coroutine 'Client._wait_for_workers' was never awaited\n",
      "  client.wait_for_workers(n_workers)\n",
      "[17:06:25] task [xgboost.dask-0]:tcp://127.0.0.1:42715 got new rank 0\n",
      "\u001b[32m[I 2023-01-09 17:06:52,328]\u001b[0m Trial 79 finished with value: 0.8131242781394201 and parameters: {'objective': 'binary:logistic', 'tree_method': 'gpu_hist', 'lambda': 8.247401511290164, 'alpha': 0.005552477311780284, 'colsample_bytree': 0.9147475610860907, 'subsample': 0.5114454583644943, 'learning_rate': 0.026786057915743563, 'max_depth': 17, 'min_child_weight': 61, 'eval_metric': 'logloss'}. Best is trial 7 with value: 0.8133170052937966.\u001b[0m\n",
      "/home/tunguz/.local/lib/python3.8/site-packages/xgboost/dask.py:884: RuntimeWarning: coroutine 'Client._wait_for_workers' was never awaited\n",
      "  client.wait_for_workers(n_workers)\n",
      "[17:06:52] task [xgboost.dask-0]:tcp://127.0.0.1:42715 got new rank 0\n",
      "\u001b[32m[I 2023-01-09 17:07:25,126]\u001b[0m Trial 80 finished with value: 0.8104623214540553 and parameters: {'objective': 'binary:logistic', 'tree_method': 'gpu_hist', 'lambda': 9.59732197426275, 'alpha': 0.005123954853758083, 'colsample_bytree': 0.9150614998710095, 'subsample': 0.5231193610468813, 'learning_rate': 0.03890218548629346, 'max_depth': 17, 'min_child_weight': 38, 'eval_metric': 'logloss'}. Best is trial 7 with value: 0.8133170052937966.\u001b[0m\n",
      "/home/tunguz/.local/lib/python3.8/site-packages/xgboost/dask.py:884: RuntimeWarning: coroutine 'Client._wait_for_workers' was never awaited\n",
      "  client.wait_for_workers(n_workers)\n",
      "[17:07:25] task [xgboost.dask-0]:tcp://127.0.0.1:42715 got new rank 0\n",
      "\u001b[32m[I 2023-01-09 17:07:54,818]\u001b[0m Trial 81 finished with value: 0.813041811234453 and parameters: {'objective': 'binary:logistic', 'tree_method': 'gpu_hist', 'lambda': 4.313314749928129, 'alpha': 0.003122594791535873, 'colsample_bytree': 0.9531315218303418, 'subsample': 0.46873503631462704, 'learning_rate': 0.016103542962941902, 'max_depth': 17, 'min_child_weight': 56, 'eval_metric': 'logloss'}. Best is trial 7 with value: 0.8133170052937966.\u001b[0m\n",
      "/home/tunguz/.local/lib/python3.8/site-packages/xgboost/dask.py:884: RuntimeWarning: coroutine 'Client._wait_for_workers' was never awaited\n",
      "  client.wait_for_workers(n_workers)\n",
      "/home/tunguz/.local/lib/python3.8/site-packages/distributed/worker_state_machine.py:3649: FutureWarning: The `Worker.nthreads` attribute has been moved to `Worker.state.nthreads`\n",
      "  warnings.warn(\n",
      "/home/tunguz/.local/lib/python3.8/site-packages/distributed/worker_state_machine.py:3649: FutureWarning: The `Worker.nthreads` attribute has been moved to `Worker.state.nthreads`\n",
      "  warnings.warn(\n",
      "/home/tunguz/.local/lib/python3.8/site-packages/distributed/worker_state_machine.py:3649: FutureWarning: The `Worker.nthreads` attribute has been moved to `Worker.state.nthreads`\n",
      "  warnings.warn(\n",
      "/home/tunguz/.local/lib/python3.8/site-packages/distributed/worker_state_machine.py:3649: FutureWarning: The `Worker.nthreads` attribute has been moved to `Worker.state.nthreads`\n",
      "  warnings.warn(\n",
      "/home/tunguz/.local/lib/python3.8/site-packages/distributed/worker_state_machine.py:3649: FutureWarning: The `Worker.nthreads` attribute has been moved to `Worker.state.nthreads`\n",
      "  warnings.warn(\n",
      "/home/tunguz/.local/lib/python3.8/site-packages/distributed/worker_state_machine.py:3649: FutureWarning: The `Worker.nthreads` attribute has been moved to `Worker.state.nthreads`\n",
      "  warnings.warn(\n",
      "/home/tunguz/.local/lib/python3.8/site-packages/distributed/worker_state_machine.py:3649: FutureWarning: The `Worker.nthreads` attribute has been moved to `Worker.state.nthreads`\n",
      "  warnings.warn(\n",
      "/home/tunguz/.local/lib/python3.8/site-packages/distributed/worker_state_machine.py:3649: FutureWarning: The `Worker.nthreads` attribute has been moved to `Worker.state.nthreads`\n",
      "  warnings.warn(\n",
      "/home/tunguz/.local/lib/python3.8/site-packages/distributed/worker_state_machine.py:3649: FutureWarning: The `Worker.nthreads` attribute has been moved to `Worker.state.nthreads`\n",
      "  warnings.warn(\n",
      "/home/tunguz/.local/lib/python3.8/site-packages/distributed/worker_state_machine.py:3649: FutureWarning: The `Worker.nthreads` attribute has been moved to `Worker.state.nthreads`\n",
      "  warnings.warn(\n",
      "/home/tunguz/.local/lib/python3.8/site-packages/distributed/worker_state_machine.py:3649: FutureWarning: The `Worker.nthreads` attribute has been moved to `Worker.state.nthreads`\n",
      "  warnings.warn(\n",
      "/home/tunguz/.local/lib/python3.8/site-packages/distributed/worker_state_machine.py:3649: FutureWarning: The `Worker.nthreads` attribute has been moved to `Worker.state.nthreads`\n",
      "  warnings.warn(\n",
      "/home/tunguz/.local/lib/python3.8/site-packages/distributed/worker_state_machine.py:3649: FutureWarning: The `Worker.nthreads` attribute has been moved to `Worker.state.nthreads`\n",
      "  warnings.warn(\n",
      "/home/tunguz/.local/lib/python3.8/site-packages/distributed/worker_state_machine.py:3649: FutureWarning: The `Worker.nthreads` attribute has been moved to `Worker.state.nthreads`\n",
      "  warnings.warn(\n",
      "/home/tunguz/.local/lib/python3.8/site-packages/distributed/worker_state_machine.py:3649: FutureWarning: The `Worker.nthreads` attribute has been moved to `Worker.state.nthreads`\n",
      "  warnings.warn(\n",
      "/home/tunguz/.local/lib/python3.8/site-packages/distributed/worker_state_machine.py:3649: FutureWarning: The `Worker.nthreads` attribute has been moved to `Worker.state.nthreads`\n",
      "  warnings.warn(\n",
      "/home/tunguz/.local/lib/python3.8/site-packages/distributed/worker_state_machine.py:3649: FutureWarning: The `Worker.nthreads` attribute has been moved to `Worker.state.nthreads`\n",
      "  warnings.warn(\n",
      "/home/tunguz/.local/lib/python3.8/site-packages/distributed/worker_state_machine.py:3649: FutureWarning: The `Worker.nthreads` attribute has been moved to `Worker.state.nthreads`\n",
      "  warnings.warn(\n",
      "/home/tunguz/.local/lib/python3.8/site-packages/distributed/worker_state_machine.py:3649: FutureWarning: The `Worker.nthreads` attribute has been moved to `Worker.state.nthreads`\n",
      "  warnings.warn(\n",
      "/home/tunguz/.local/lib/python3.8/site-packages/distributed/worker_state_machine.py:3649: FutureWarning: The `Worker.nthreads` attribute has been moved to `Worker.state.nthreads`\n",
      "  warnings.warn(\n",
      "/home/tunguz/.local/lib/python3.8/site-packages/distributed/worker_state_machine.py:3649: FutureWarning: The `Worker.nthreads` attribute has been moved to `Worker.state.nthreads`\n",
      "  warnings.warn(\n",
      "/home/tunguz/.local/lib/python3.8/site-packages/distributed/worker_state_machine.py:3649: FutureWarning: The `Worker.nthreads` attribute has been moved to `Worker.state.nthreads`\n",
      "  warnings.warn(\n",
      "/home/tunguz/.local/lib/python3.8/site-packages/distributed/worker_state_machine.py:3649: FutureWarning: The `Worker.nthreads` attribute has been moved to `Worker.state.nthreads`\n",
      "  warnings.warn(\n",
      "/home/tunguz/.local/lib/python3.8/site-packages/distributed/worker_state_machine.py:3649: FutureWarning: The `Worker.nthreads` attribute has been moved to `Worker.state.nthreads`\n",
      "  warnings.warn(\n",
      "/home/tunguz/.local/lib/python3.8/site-packages/distributed/worker_state_machine.py:3649: FutureWarning: The `Worker.nthreads` attribute has been moved to `Worker.state.nthreads`\n",
      "  warnings.warn(\n",
      "/home/tunguz/.local/lib/python3.8/site-packages/distributed/worker_state_machine.py:3649: FutureWarning: The `Worker.nthreads` attribute has been moved to `Worker.state.nthreads`\n",
      "  warnings.warn(\n",
      "/home/tunguz/.local/lib/python3.8/site-packages/distributed/worker_state_machine.py:3649: FutureWarning: The `Worker.nthreads` attribute has been moved to `Worker.state.nthreads`\n",
      "  warnings.warn(\n",
      "/home/tunguz/.local/lib/python3.8/site-packages/distributed/worker_state_machine.py:3649: FutureWarning: The `Worker.nthreads` attribute has been moved to `Worker.state.nthreads`\n",
      "  warnings.warn(\n",
      "/home/tunguz/.local/lib/python3.8/site-packages/distributed/worker_state_machine.py:3649: FutureWarning: The `Worker.nthreads` attribute has been moved to `Worker.state.nthreads`\n",
      "  warnings.warn(\n",
      "/home/tunguz/.local/lib/python3.8/site-packages/distributed/worker_state_machine.py:3649: FutureWarning: The `Worker.nthreads` attribute has been moved to `Worker.state.nthreads`\n",
      "  warnings.warn(\n",
      "/home/tunguz/.local/lib/python3.8/site-packages/distributed/worker_state_machine.py:3649: FutureWarning: The `Worker.nthreads` attribute has been moved to `Worker.state.nthreads`\n",
      "  warnings.warn(\n",
      "/home/tunguz/.local/lib/python3.8/site-packages/distributed/worker_state_machine.py:3649: FutureWarning: The `Worker.nthreads` attribute has been moved to `Worker.state.nthreads`\n",
      "  warnings.warn(\n",
      "/home/tunguz/.local/lib/python3.8/site-packages/distributed/worker_state_machine.py:3649: FutureWarning: The `Worker.nthreads` attribute has been moved to `Worker.state.nthreads`\n",
      "  warnings.warn(\n",
      "/home/tunguz/.local/lib/python3.8/site-packages/distributed/worker_state_machine.py:3649: FutureWarning: The `Worker.nthreads` attribute has been moved to `Worker.state.nthreads`\n",
      "  warnings.warn(\n",
      "/home/tunguz/.local/lib/python3.8/site-packages/distributed/worker_state_machine.py:3649: FutureWarning: The `Worker.nthreads` attribute has been moved to `Worker.state.nthreads`\n",
      "  warnings.warn(\n",
      "/home/tunguz/.local/lib/python3.8/site-packages/distributed/worker_state_machine.py:3649: FutureWarning: The `Worker.nthreads` attribute has been moved to `Worker.state.nthreads`\n",
      "  warnings.warn(\n",
      "/home/tunguz/.local/lib/python3.8/site-packages/distributed/worker_state_machine.py:3649: FutureWarning: The `Worker.nthreads` attribute has been moved to `Worker.state.nthreads`\n",
      "  warnings.warn(\n",
      "/home/tunguz/.local/lib/python3.8/site-packages/distributed/worker_state_machine.py:3649: FutureWarning: The `Worker.nthreads` attribute has been moved to `Worker.state.nthreads`\n",
      "  warnings.warn(\n",
      "/home/tunguz/.local/lib/python3.8/site-packages/distributed/worker_state_machine.py:3649: FutureWarning: The `Worker.nthreads` attribute has been moved to `Worker.state.nthreads`\n",
      "  warnings.warn(\n",
      "/home/tunguz/.local/lib/python3.8/site-packages/distributed/worker_state_machine.py:3649: FutureWarning: The `Worker.nthreads` attribute has been moved to `Worker.state.nthreads`\n",
      "  warnings.warn(\n",
      "/home/tunguz/.local/lib/python3.8/site-packages/distributed/worker_state_machine.py:3649: FutureWarning: The `Worker.nthreads` attribute has been moved to `Worker.state.nthreads`\n",
      "  warnings.warn(\n",
      "[17:07:54] task [xgboost.dask-0]:tcp://127.0.0.1:42715 got new rank 0\n",
      "\u001b[32m[I 2023-01-09 17:08:42,123]\u001b[0m Trial 82 finished with value: 0.8117170576551855 and parameters: {'objective': 'binary:logistic', 'tree_method': 'gpu_hist', 'lambda': 4.2831832908121985, 'alpha': 0.0038609043257932804, 'colsample_bytree': 0.9507305974296466, 'subsample': 0.46007253168703405, 'learning_rate': 0.02684596477774606, 'max_depth': 17, 'min_child_weight': 21, 'eval_metric': 'logloss'}. Best is trial 7 with value: 0.8133170052937966.\u001b[0m\n",
      "/home/tunguz/.local/lib/python3.8/site-packages/xgboost/dask.py:884: RuntimeWarning: coroutine 'Client._wait_for_workers' was never awaited\n",
      "  client.wait_for_workers(n_workers)\n",
      "[17:08:42] task [xgboost.dask-0]:tcp://127.0.0.1:42715 got new rank 0\n",
      "\u001b[32m[I 2023-01-09 17:09:11,522]\u001b[0m Trial 83 finished with value: 0.8127302550993654 and parameters: {'objective': 'binary:logistic', 'tree_method': 'gpu_hist', 'lambda': 7.023897322529077, 'alpha': 0.00246456375458834, 'colsample_bytree': 0.843166120558952, 'subsample': 0.4917526621685963, 'learning_rate': 0.01636718718143394, 'max_depth': 17, 'min_child_weight': 59, 'eval_metric': 'logloss'}. Best is trial 7 with value: 0.8133170052937966.\u001b[0m\n",
      "/home/tunguz/.local/lib/python3.8/site-packages/xgboost/dask.py:884: RuntimeWarning: coroutine 'Client._wait_for_workers' was never awaited\n",
      "  client.wait_for_workers(n_workers)\n",
      "[17:09:11] task [xgboost.dask-0]:tcp://127.0.0.1:42715 got new rank 0\n",
      "\u001b[32m[I 2023-01-09 17:09:36,873]\u001b[0m Trial 84 finished with value: 0.8107564058563357 and parameters: {'objective': 'binary:logistic', 'tree_method': 'gpu_hist', 'lambda': 6.924093258320254, 'alpha': 0.002404670821894495, 'colsample_bytree': 0.8531280004828271, 'subsample': 0.4943225712705926, 'learning_rate': 0.0330967768290519, 'max_depth': 17, 'min_child_weight': 61, 'eval_metric': 'logloss'}. Best is trial 7 with value: 0.8133170052937966.\u001b[0m\n",
      "/home/tunguz/.local/lib/python3.8/site-packages/xgboost/dask.py:884: RuntimeWarning: coroutine 'Client._wait_for_workers' was never awaited\n",
      "  client.wait_for_workers(n_workers)\n",
      "[17:09:36] task [xgboost.dask-0]:tcp://127.0.0.1:42715 got new rank 0\n",
      "\u001b[32m[I 2023-01-09 17:10:07,175]\u001b[0m Trial 85 finished with value: 0.8128458718249547 and parameters: {'objective': 'binary:logistic', 'tree_method': 'gpu_hist', 'lambda': 4.247836986619841, 'alpha': 0.0010301616227040243, 'colsample_bytree': 0.8835268224436233, 'subsample': 0.4232935639841383, 'learning_rate': 0.023140696450309584, 'max_depth': 17, 'min_child_weight': 44, 'eval_metric': 'logloss'}. Best is trial 7 with value: 0.8133170052937966.\u001b[0m\n",
      "/home/tunguz/.local/lib/python3.8/site-packages/xgboost/dask.py:884: RuntimeWarning: coroutine 'Client._wait_for_workers' was never awaited\n",
      "  client.wait_for_workers(n_workers)\n",
      "[17:10:07] task [xgboost.dask-0]:tcp://127.0.0.1:42715 got new rank 0\n",
      "\u001b[32m[I 2023-01-09 17:10:53,048]\u001b[0m Trial 86 finished with value: 0.8091253140183204 and parameters: {'objective': 'binary:logistic', 'tree_method': 'gpu_hist', 'lambda': 3.371425076955535, 'alpha': 0.0012292170600245748, 'colsample_bytree': 0.8027229323840264, 'subsample': 0.42463615247903425, 'learning_rate': 0.04620238240202348, 'max_depth': 17, 'min_child_weight': 13, 'eval_metric': 'logloss'}. Best is trial 7 with value: 0.8133170052937966.\u001b[0m\n",
      "/home/tunguz/.local/lib/python3.8/site-packages/xgboost/dask.py:884: RuntimeWarning: coroutine 'Client._wait_for_workers' was never awaited\n",
      "  client.wait_for_workers(n_workers)\n",
      "[17:10:53] task [xgboost.dask-0]:tcp://127.0.0.1:42715 got new rank 0\n",
      "\u001b[32m[I 2023-01-09 17:11:27,493]\u001b[0m Trial 87 finished with value: 0.812267796349939 and parameters: {'objective': 'binary:logistic', 'tree_method': 'gpu_hist', 'lambda': 4.517036171114706, 'alpha': 0.0010667130056092283, 'colsample_bytree': 0.8402448807578395, 'subsample': 0.563539144345791, 'learning_rate': 0.021668967621004846, 'max_depth': 17, 'min_child_weight': 47, 'eval_metric': 'logloss'}. Best is trial 7 with value: 0.8133170052937966.\u001b[0m\n",
      "/home/tunguz/.local/lib/python3.8/site-packages/xgboost/dask.py:884: RuntimeWarning: coroutine 'Client._wait_for_workers' was never awaited\n",
      "  client.wait_for_workers(n_workers)\n",
      "[17:11:27] task [xgboost.dask-0]:tcp://127.0.0.1:42715 got new rank 0\n",
      "\u001b[32m[I 2023-01-09 17:12:13,714]\u001b[0m Trial 88 finished with value: 0.8126573678892411 and parameters: {'objective': 'binary:logistic', 'tree_method': 'gpu_hist', 'lambda': 2.4392603083126585, 'alpha': 0.0016442490170811303, 'colsample_bytree': 0.8795240538924931, 'subsample': 0.541130258146006, 'learning_rate': 0.016417913744556232, 'max_depth': 17, 'min_child_weight': 32, 'eval_metric': 'logloss'}. Best is trial 7 with value: 0.8133170052937966.\u001b[0m\n",
      "/home/tunguz/.local/lib/python3.8/site-packages/xgboost/dask.py:884: RuntimeWarning: coroutine 'Client._wait_for_workers' was never awaited\n",
      "  client.wait_for_workers(n_workers)\n",
      "[17:12:13] task [xgboost.dask-0]:tcp://127.0.0.1:42715 got new rank 0\n",
      "\u001b[32m[I 2023-01-09 17:12:55,476]\u001b[0m Trial 89 finished with value: 0.8117983749967714 and parameters: {'objective': 'binary:logistic', 'tree_method': 'gpu_hist', 'lambda': 2.662592868038825, 'alpha': 0.0018021941691281245, 'colsample_bytree': 0.8822994889517904, 'subsample': 0.4676552030339621, 'learning_rate': 0.023478510074014837, 'max_depth': 17, 'min_child_weight': 28, 'eval_metric': 'logloss'}. Best is trial 7 with value: 0.8133170052937966.\u001b[0m\n",
      "/home/tunguz/.local/lib/python3.8/site-packages/xgboost/dask.py:884: RuntimeWarning: coroutine 'Client._wait_for_workers' was never awaited\n",
      "  client.wait_for_workers(n_workers)\n",
      "[17:12:55] task [xgboost.dask-0]:tcp://127.0.0.1:42715 got new rank 0\n",
      "\u001b[32m[I 2023-01-09 17:12:58,680]\u001b[0m Trial 90 finished with value: 0.8057479946396756 and parameters: {'objective': 'binary:logistic', 'tree_method': 'gpu_hist', 'lambda': 2.1330396062650125, 'alpha': 0.002495460499923125, 'colsample_bytree': 0.7780504293403341, 'subsample': 0.4436615092376994, 'learning_rate': 0.019124545237434495, 'max_depth': 5, 'min_child_weight': 35, 'eval_metric': 'logloss'}. Best is trial 7 with value: 0.8133170052937966.\u001b[0m\n",
      "/home/tunguz/.local/lib/python3.8/site-packages/xgboost/dask.py:884: RuntimeWarning: coroutine 'Client._wait_for_workers' was never awaited\n",
      "  client.wait_for_workers(n_workers)\n",
      "[17:12:58] task [xgboost.dask-0]:tcp://127.0.0.1:42715 got new rank 0\n",
      "\u001b[32m[I 2023-01-09 17:13:37,093]\u001b[0m Trial 91 finished with value: 0.812459153811776 and parameters: {'objective': 'binary:logistic', 'tree_method': 'gpu_hist', 'lambda': 3.653108809366516, 'alpha': 0.0015162829526689638, 'colsample_bytree': 0.8953234354975655, 'subsample': 0.54859415716243, 'learning_rate': 0.015601171801734273, 'max_depth': 17, 'min_child_weight': 44, 'eval_metric': 'logloss'}. Best is trial 7 with value: 0.8133170052937966.\u001b[0m\n",
      "/home/tunguz/.local/lib/python3.8/site-packages/xgboost/dask.py:884: RuntimeWarning: coroutine 'Client._wait_for_workers' was never awaited\n",
      "  client.wait_for_workers(n_workers)\n",
      "[17:13:37] task [xgboost.dask-0]:tcp://127.0.0.1:42715 got new rank 0\n",
      "\u001b[32m[I 2023-01-09 17:14:07,618]\u001b[0m Trial 92 finished with value: 0.8132693351016717 and parameters: {'objective': 'binary:logistic', 'tree_method': 'gpu_hist', 'lambda': 5.936806045939418, 'alpha': 0.0021031225535277937, 'colsample_bytree': 0.8682752271341558, 'subsample': 0.5212287529732302, 'learning_rate': 0.01636773195357475, 'max_depth': 17, 'min_child_weight': 59, 'eval_metric': 'logloss'}. Best is trial 7 with value: 0.8133170052937966.\u001b[0m\n",
      "/home/tunguz/.local/lib/python3.8/site-packages/xgboost/dask.py:884: RuntimeWarning: coroutine 'Client._wait_for_workers' was never awaited\n",
      "  client.wait_for_workers(n_workers)\n",
      "[17:14:07] task [xgboost.dask-0]:tcp://127.0.0.1:42715 got new rank 0\n",
      "\u001b[32m[I 2023-01-09 17:14:35,483]\u001b[0m Trial 93 finished with value: 0.810620039919363 and parameters: {'objective': 'binary:logistic', 'tree_method': 'gpu_hist', 'lambda': 6.079534234603822, 'alpha': 0.002193155220717033, 'colsample_bytree': 0.8683763581371131, 'subsample': 0.4853652321374846, 'learning_rate': 0.02823426404259368, 'max_depth': 17, 'min_child_weight': 54, 'eval_metric': 'logloss'}. Best is trial 7 with value: 0.8133170052937966.\u001b[0m\n",
      "/home/tunguz/.local/lib/python3.8/site-packages/xgboost/dask.py:884: RuntimeWarning: coroutine 'Client._wait_for_workers' was never awaited\n",
      "  client.wait_for_workers(n_workers)\n",
      "[17:14:35] task [xgboost.dask-0]:tcp://127.0.0.1:42715 got new rank 0\n",
      "\u001b[32m[I 2023-01-09 17:14:42,236]\u001b[0m Trial 94 finished with value: 0.810182309012029 and parameters: {'objective': 'binary:logistic', 'tree_method': 'gpu_hist', 'lambda': 7.803846724792374, 'alpha': 0.0037067659047882845, 'colsample_bytree': 0.8221535917555884, 'subsample': 0.577732175997979, 'learning_rate': 0.018192951361496342, 'max_depth': 7, 'min_child_weight': 20, 'eval_metric': 'logloss'}. Best is trial 7 with value: 0.8133170052937966.\u001b[0m\n",
      "/home/tunguz/.local/lib/python3.8/site-packages/xgboost/dask.py:884: RuntimeWarning: coroutine 'Client._wait_for_workers' was never awaited\n",
      "  client.wait_for_workers(n_workers)\n",
      "[17:14:42] task [xgboost.dask-0]:tcp://127.0.0.1:42715 got new rank 0\n",
      "\u001b[32m[I 2023-01-09 17:15:23,145]\u001b[0m Trial 95 finished with value: 0.8128469398590181 and parameters: {'objective': 'binary:logistic', 'tree_method': 'gpu_hist', 'lambda': 2.3803516049907865, 'alpha': 0.0013647918397497456, 'colsample_bytree': 0.8492579656383314, 'subsample': 0.5258980684974428, 'learning_rate': 0.01714889748144144, 'max_depth': 17, 'min_child_weight': 37, 'eval_metric': 'logloss'}. Best is trial 7 with value: 0.8133170052937966.\u001b[0m\n",
      "/home/tunguz/.local/lib/python3.8/site-packages/xgboost/dask.py:884: RuntimeWarning: coroutine 'Client._wait_for_workers' was never awaited\n",
      "  client.wait_for_workers(n_workers)\n",
      "[17:15:23] task [xgboost.dask-0]:tcp://127.0.0.1:42715 got new rank 0\n",
      "\u001b[32m[I 2023-01-09 17:15:48,677]\u001b[0m Trial 96 finished with value: 0.8123991971514568 and parameters: {'objective': 'binary:logistic', 'tree_method': 'gpu_hist', 'lambda': 2.9959599592538377, 'alpha': 0.003190591293839164, 'colsample_bytree': 0.8448909043594055, 'subsample': 0.5146084856690185, 'learning_rate': 0.02563583269519581, 'max_depth': 17, 'min_child_weight': 67, 'eval_metric': 'logloss'}. Best is trial 7 with value: 0.8133170052937966.\u001b[0m\n",
      "/home/tunguz/.local/lib/python3.8/site-packages/xgboost/dask.py:884: RuntimeWarning: coroutine 'Client._wait_for_workers' was never awaited\n",
      "  client.wait_for_workers(n_workers)\n",
      "[17:15:48] task [xgboost.dask-0]:tcp://127.0.0.1:42715 got new rank 0\n",
      "\u001b[32m[I 2023-01-09 17:15:58,230]\u001b[0m Trial 97 finished with value: 0.8111823720831092 and parameters: {'objective': 'binary:logistic', 'tree_method': 'gpu_hist', 'lambda': 1.3701515586401996, 'alpha': 0.0010953073133972242, 'colsample_bytree': 0.8061204778044118, 'subsample': 0.42778885925267945, 'learning_rate': 0.02180089401858054, 'max_depth': 9, 'min_child_weight': 58, 'eval_metric': 'logloss'}. Best is trial 7 with value: 0.8133170052937966.\u001b[0m\n",
      "/home/tunguz/.local/lib/python3.8/site-packages/xgboost/dask.py:884: RuntimeWarning: coroutine 'Client._wait_for_workers' was never awaited\n",
      "  client.wait_for_workers(n_workers)\n",
      "[17:15:58] task [xgboost.dask-0]:tcp://127.0.0.1:42715 got new rank 0\n",
      "\u001b[32m[I 2023-01-09 17:16:20,348]\u001b[0m Trial 98 finished with value: 0.8110835503969891 and parameters: {'objective': 'binary:logistic', 'tree_method': 'gpu_hist', 'lambda': 5.285439477531334, 'alpha': 0.002074852198069373, 'colsample_bytree': 0.8576021436892519, 'subsample': 0.5246310325592459, 'learning_rate': 0.035863923452002226, 'max_depth': 13, 'min_child_weight': 40, 'eval_metric': 'logloss'}. Best is trial 7 with value: 0.8133170052937966.\u001b[0m\n",
      "/home/tunguz/.local/lib/python3.8/site-packages/xgboost/dask.py:884: RuntimeWarning: coroutine 'Client._wait_for_workers' was never awaited\n",
      "  client.wait_for_workers(n_workers)\n",
      "[17:16:20] task [xgboost.dask-0]:tcp://127.0.0.1:42715 got new rank 0\n",
      "\u001b[32m[I 2023-01-09 17:16:52,548]\u001b[0m Trial 99 finished with value: 0.8118484829154988 and parameters: {'objective': 'binary:logistic', 'tree_method': 'gpu_hist', 'lambda': 4.152523570996884, 'alpha': 0.002730676102278691, 'colsample_bytree': 0.8365666193441189, 'subsample': 0.5043695521699733, 'learning_rate': 0.018265522577337746, 'max_depth': 17, 'min_child_weight': 51, 'eval_metric': 'logloss'}. Best is trial 7 with value: 0.8133170052937966.\u001b[0m\n",
      "/home/tunguz/.local/lib/python3.8/site-packages/xgboost/dask.py:884: RuntimeWarning: coroutine 'Client._wait_for_workers' was never awaited\n",
      "  client.wait_for_workers(n_workers)\n",
      "[17:16:52] task [xgboost.dask-0]:tcp://127.0.0.1:42715 got new rank 0\n",
      "\u001b[32m[I 2023-01-09 17:16:54,347]\u001b[0m Trial 100 finished with value: 0.7972563166958737 and parameters: {'objective': 'binary:logistic', 'tree_method': 'gpu_hist', 'lambda': 5.98588932397913, 'alpha': 0.006687274085542281, 'colsample_bytree': 0.7470549273424152, 'subsample': 0.4814702625719885, 'learning_rate': 0.03077016611034086, 'max_depth': 3, 'min_child_weight': 77, 'eval_metric': 'logloss'}. Best is trial 7 with value: 0.8133170052937966.\u001b[0m\n",
      "/home/tunguz/.local/lib/python3.8/site-packages/xgboost/dask.py:884: RuntimeWarning: coroutine 'Client._wait_for_workers' was never awaited\n",
      "  client.wait_for_workers(n_workers)\n",
      "[17:16:54] task [xgboost.dask-0]:tcp://127.0.0.1:42715 got new rank 0\n",
      "\u001b[32m[I 2023-01-09 17:17:40,941]\u001b[0m Trial 101 finished with value: 0.8137059245985562 and parameters: {'objective': 'binary:logistic', 'tree_method': 'gpu_hist', 'lambda': 2.5032983959155435, 'alpha': 0.0013590474814060799, 'colsample_bytree': 0.8912585832206631, 'subsample': 0.5428660940893997, 'learning_rate': 0.01700089087330609, 'max_depth': 17, 'min_child_weight': 31, 'eval_metric': 'logloss'}. Best is trial 101 with value: 0.8137059245985562.\u001b[0m\n"
     ]
    },
    {
     "name": "stdout",
     "output_type": "stream",
     "text": [
      "CPU times: user 1min 23s, sys: 38.8 s, total: 2min 2s\n",
      "Wall time: 46min 58s\n"
     ]
    }
   ],
   "source": [
    "%%time\n",
    "study.optimize(objective, n_trials=100)"
   ]
  },
  {
   "cell_type": "code",
   "execution_count": 15,
   "metadata": {},
   "outputs": [
    {
     "data": {
      "text/plain": [
       "{'objective': 'binary:logistic',\n",
       " 'tree_method': 'gpu_hist',\n",
       " 'lambda': 2.5032983959155435,\n",
       " 'alpha': 0.0013590474814060799,\n",
       " 'colsample_bytree': 0.8912585832206631,\n",
       " 'subsample': 0.5428660940893997,\n",
       " 'learning_rate': 0.01700089087330609,\n",
       " 'max_depth': 17,\n",
       " 'min_child_weight': 31,\n",
       " 'eval_metric': 'logloss'}"
      ]
     },
     "execution_count": 15,
     "metadata": {},
     "output_type": "execute_result"
    }
   ],
   "source": [
    "study.best_trial.params"
   ]
  },
  {
   "cell_type": "code",
   "execution_count": 16,
   "metadata": {},
   "outputs": [],
   "source": [
    "real_test_x = dd.read_csv('../input/higgs_small_roc/xgtest.csv')"
   ]
  },
  {
   "cell_type": "code",
   "execution_count": 17,
   "metadata": {},
   "outputs": [],
   "source": [
    "real_test_y = real_test_x['target']\n",
    "real_test_x = real_test_x[real_test_x.columns.difference(['target'])]"
   ]
  },
  {
   "cell_type": "code",
   "execution_count": 18,
   "metadata": {},
   "outputs": [],
   "source": [
    "drealtest = xgb.dask.DaskDMatrix(client, real_test_x, real_test_y)"
   ]
  },
  {
   "cell_type": "code",
   "execution_count": 19,
   "metadata": {},
   "outputs": [
    {
     "name": "stderr",
     "output_type": "stream",
     "text": [
      "/home/tunguz/.local/lib/python3.8/site-packages/xgboost/dask.py:884: RuntimeWarning: coroutine 'Client._wait_for_workers' was never awaited\n",
      "  client.wait_for_workers(n_workers)\n",
      "[21:00:23] task [xgboost.dask-0]:tcp://127.0.0.1:42715 got new rank 0\n"
     ]
    },
    {
     "data": {
      "text/plain": [
       "0.8065767574394525"
      ]
     },
     "execution_count": 19,
     "metadata": {},
     "output_type": "execute_result"
    }
   ],
   "source": [
    "params = study.best_trial.params\n",
    "\n",
    "output = xgb.dask.train(client, params, dtrain, num_round)\n",
    "    \n",
    "booster = output['booster']  # booster is the trained model\n",
    "booster.set_param({'predictor': 'gpu_predictor'})\n",
    "\n",
    "predictions = xgb.dask.predict(client, booster, drealtest)\n",
    "    \n",
    "predictions = predictions.compute()\n",
    "\n",
    "roc_auc_score(real_test_y, predictions)"
   ]
  },
  {
   "cell_type": "code",
   "execution_count": 20,
   "metadata": {},
   "outputs": [
    {
     "name": "stdout",
     "output_type": "stream",
     "text": [
      "0\n"
     ]
    },
    {
     "name": "stderr",
     "output_type": "stream",
     "text": [
      "/home/tunguz/.local/lib/python3.8/site-packages/xgboost/dask.py:884: RuntimeWarning: coroutine 'Client._wait_for_workers' was never awaited\n",
      "  client.wait_for_workers(n_workers)\n",
      "[21:01:09] task [xgboost.dask-0]:tcp://127.0.0.1:42715 got new rank 0\n"
     ]
    },
    {
     "name": "stdout",
     "output_type": "stream",
     "text": [
      "1\n"
     ]
    },
    {
     "name": "stderr",
     "output_type": "stream",
     "text": [
      "/home/tunguz/.local/lib/python3.8/site-packages/xgboost/dask.py:884: RuntimeWarning: coroutine 'Client._wait_for_workers' was never awaited\n",
      "  client.wait_for_workers(n_workers)\n",
      "[21:01:56] task [xgboost.dask-0]:tcp://127.0.0.1:42715 got new rank 0\n"
     ]
    },
    {
     "name": "stdout",
     "output_type": "stream",
     "text": [
      "2\n"
     ]
    },
    {
     "name": "stderr",
     "output_type": "stream",
     "text": [
      "/home/tunguz/.local/lib/python3.8/site-packages/xgboost/dask.py:884: RuntimeWarning: coroutine 'Client._wait_for_workers' was never awaited\n",
      "  client.wait_for_workers(n_workers)\n",
      "[21:02:43] task [xgboost.dask-0]:tcp://127.0.0.1:42715 got new rank 0\n"
     ]
    },
    {
     "name": "stdout",
     "output_type": "stream",
     "text": [
      "3\n"
     ]
    },
    {
     "name": "stderr",
     "output_type": "stream",
     "text": [
      "/home/tunguz/.local/lib/python3.8/site-packages/xgboost/dask.py:884: RuntimeWarning: coroutine 'Client._wait_for_workers' was never awaited\n",
      "  client.wait_for_workers(n_workers)\n",
      "[21:03:29] task [xgboost.dask-0]:tcp://127.0.0.1:42715 got new rank 0\n"
     ]
    },
    {
     "name": "stdout",
     "output_type": "stream",
     "text": [
      "4\n"
     ]
    },
    {
     "name": "stderr",
     "output_type": "stream",
     "text": [
      "/home/tunguz/.local/lib/python3.8/site-packages/xgboost/dask.py:884: RuntimeWarning: coroutine 'Client._wait_for_workers' was never awaited\n",
      "  client.wait_for_workers(n_workers)\n",
      "[21:04:16] task [xgboost.dask-0]:tcp://127.0.0.1:42715 got new rank 0\n"
     ]
    },
    {
     "name": "stdout",
     "output_type": "stream",
     "text": [
      "5\n"
     ]
    },
    {
     "name": "stderr",
     "output_type": "stream",
     "text": [
      "/home/tunguz/.local/lib/python3.8/site-packages/xgboost/dask.py:884: RuntimeWarning: coroutine 'Client._wait_for_workers' was never awaited\n",
      "  client.wait_for_workers(n_workers)\n",
      "[21:05:03] task [xgboost.dask-0]:tcp://127.0.0.1:42715 got new rank 0\n"
     ]
    },
    {
     "name": "stdout",
     "output_type": "stream",
     "text": [
      "6\n"
     ]
    },
    {
     "name": "stderr",
     "output_type": "stream",
     "text": [
      "/home/tunguz/.local/lib/python3.8/site-packages/xgboost/dask.py:884: RuntimeWarning: coroutine 'Client._wait_for_workers' was never awaited\n",
      "  client.wait_for_workers(n_workers)\n",
      "[21:05:50] task [xgboost.dask-0]:tcp://127.0.0.1:42715 got new rank 0\n"
     ]
    },
    {
     "name": "stdout",
     "output_type": "stream",
     "text": [
      "7\n"
     ]
    },
    {
     "name": "stderr",
     "output_type": "stream",
     "text": [
      "/home/tunguz/.local/lib/python3.8/site-packages/xgboost/dask.py:884: RuntimeWarning: coroutine 'Client._wait_for_workers' was never awaited\n",
      "  client.wait_for_workers(n_workers)\n",
      "[21:06:37] task [xgboost.dask-0]:tcp://127.0.0.1:42715 got new rank 0\n"
     ]
    },
    {
     "name": "stdout",
     "output_type": "stream",
     "text": [
      "8\n"
     ]
    },
    {
     "name": "stderr",
     "output_type": "stream",
     "text": [
      "/home/tunguz/.local/lib/python3.8/site-packages/xgboost/dask.py:884: RuntimeWarning: coroutine 'Client._wait_for_workers' was never awaited\n",
      "  client.wait_for_workers(n_workers)\n",
      "[21:07:24] task [xgboost.dask-0]:tcp://127.0.0.1:42715 got new rank 0\n"
     ]
    },
    {
     "name": "stdout",
     "output_type": "stream",
     "text": [
      "9\n"
     ]
    },
    {
     "name": "stderr",
     "output_type": "stream",
     "text": [
      "/home/tunguz/.local/lib/python3.8/site-packages/xgboost/dask.py:884: RuntimeWarning: coroutine 'Client._wait_for_workers' was never awaited\n",
      "  client.wait_for_workers(n_workers)\n",
      "[21:08:11] task [xgboost.dask-0]:tcp://127.0.0.1:42715 got new rank 0\n"
     ]
    },
    {
     "name": "stdout",
     "output_type": "stream",
     "text": [
      "10\n"
     ]
    },
    {
     "name": "stderr",
     "output_type": "stream",
     "text": [
      "/home/tunguz/.local/lib/python3.8/site-packages/xgboost/dask.py:884: RuntimeWarning: coroutine 'Client._wait_for_workers' was never awaited\n",
      "  client.wait_for_workers(n_workers)\n",
      "[21:08:58] task [xgboost.dask-0]:tcp://127.0.0.1:42715 got new rank 0\n"
     ]
    },
    {
     "name": "stdout",
     "output_type": "stream",
     "text": [
      "11\n"
     ]
    },
    {
     "name": "stderr",
     "output_type": "stream",
     "text": [
      "/home/tunguz/.local/lib/python3.8/site-packages/xgboost/dask.py:884: RuntimeWarning: coroutine 'Client._wait_for_workers' was never awaited\n",
      "  client.wait_for_workers(n_workers)\n",
      "[21:09:45] task [xgboost.dask-0]:tcp://127.0.0.1:42715 got new rank 0\n"
     ]
    },
    {
     "name": "stdout",
     "output_type": "stream",
     "text": [
      "12\n"
     ]
    },
    {
     "name": "stderr",
     "output_type": "stream",
     "text": [
      "/home/tunguz/.local/lib/python3.8/site-packages/xgboost/dask.py:884: RuntimeWarning: coroutine 'Client._wait_for_workers' was never awaited\n",
      "  client.wait_for_workers(n_workers)\n",
      "[21:10:32] task [xgboost.dask-0]:tcp://127.0.0.1:42715 got new rank 0\n"
     ]
    },
    {
     "name": "stdout",
     "output_type": "stream",
     "text": [
      "13\n"
     ]
    },
    {
     "name": "stderr",
     "output_type": "stream",
     "text": [
      "/home/tunguz/.local/lib/python3.8/site-packages/xgboost/dask.py:884: RuntimeWarning: coroutine 'Client._wait_for_workers' was never awaited\n",
      "  client.wait_for_workers(n_workers)\n",
      "[21:11:18] task [xgboost.dask-0]:tcp://127.0.0.1:42715 got new rank 0\n"
     ]
    },
    {
     "name": "stdout",
     "output_type": "stream",
     "text": [
      "14\n"
     ]
    },
    {
     "name": "stderr",
     "output_type": "stream",
     "text": [
      "/home/tunguz/.local/lib/python3.8/site-packages/xgboost/dask.py:884: RuntimeWarning: coroutine 'Client._wait_for_workers' was never awaited\n",
      "  client.wait_for_workers(n_workers)\n",
      "[21:12:06] task [xgboost.dask-0]:tcp://127.0.0.1:42715 got new rank 0\n"
     ]
    },
    {
     "name": "stdout",
     "output_type": "stream",
     "text": [
      "CPU times: user 22.5 s, sys: 7.24 s, total: 29.7 s\n",
      "Wall time: 11min 42s\n"
     ]
    }
   ],
   "source": [
    "%%time \n",
    "scores = []\n",
    "\n",
    "for jj in range(15):\n",
    "    print(jj)\n",
    "    params = study.best_trial.params\n",
    "    params['seed'] = 5*jj**3 + 137\n",
    "\n",
    "    output = xgb.dask.train(client, params, dtrain, num_round)\n",
    "\n",
    "    booster = output['booster']  # booster is the trained model\n",
    "    booster.set_param({'predictor': 'gpu_predictor'})\n",
    "\n",
    "    predictions = xgb.dask.predict(client, booster, drealtest)\n",
    "\n",
    "    predictions = predictions.compute()\n",
    "\n",
    "    scores.append(roc_auc_score(real_test_y, predictions))"
   ]
  },
  {
   "cell_type": "code",
   "execution_count": 21,
   "metadata": {},
   "outputs": [
    {
     "data": {
      "text/plain": [
       "[0.8064256477406464,\n",
       " 0.8060767440034209,\n",
       " 0.8062614098649692,\n",
       " 0.8071505464290549,\n",
       " 0.8064136466250645,\n",
       " 0.8061058440997689,\n",
       " 0.8064499421728855,\n",
       " 0.8061004540335096,\n",
       " 0.8067507318723801,\n",
       " 0.8065671461112341,\n",
       " 0.8065574878221288,\n",
       " 0.8064025847272238,\n",
       " 0.8063274264364226,\n",
       " 0.8068129915728688,\n",
       " 0.8068820188589704]"
      ]
     },
     "execution_count": 21,
     "metadata": {},
     "output_type": "execute_result"
    }
   ],
   "source": [
    "scores"
   ]
  },
  {
   "cell_type": "code",
   "execution_count": 22,
   "metadata": {},
   "outputs": [
    {
     "data": {
      "text/plain": [
       "0.8064856414913699"
      ]
     },
     "execution_count": 22,
     "metadata": {},
     "output_type": "execute_result"
    },
    {
     "name": "stderr",
     "output_type": "stream",
     "text": [
      "2023-01-09 21:28:48,338 - distributed.nanny - ERROR - Worker process died unexpectedly\n",
      "/home/tunguz/.local/lib/python3.8/site-packages/distributed/worker_state_machine.py:3649: FutureWarning: The `Worker.nthreads` attribute has been moved to `Worker.state.nthreads`\n",
      "  warnings.warn(\n",
      "/home/tunguz/.local/lib/python3.8/site-packages/distributed/worker_state_machine.py:3649: FutureWarning: The `Worker.nthreads` attribute has been moved to `Worker.state.nthreads`\n",
      "  warnings.warn(\n",
      "/home/tunguz/.local/lib/python3.8/site-packages/distributed/worker_state_machine.py:3649: FutureWarning: The `Worker.nthreads` attribute has been moved to `Worker.state.nthreads`\n",
      "  warnings.warn(\n",
      "/home/tunguz/.local/lib/python3.8/site-packages/distributed/worker_state_machine.py:3649: FutureWarning: The `Worker.nthreads` attribute has been moved to `Worker.state.nthreads`\n",
      "  warnings.warn(\n",
      "/home/tunguz/.local/lib/python3.8/site-packages/distributed/worker_state_machine.py:3649: FutureWarning: The `Worker.nthreads` attribute has been moved to `Worker.state.nthreads`\n",
      "  warnings.warn(\n",
      "/home/tunguz/.local/lib/python3.8/site-packages/distributed/worker_state_machine.py:3649: FutureWarning: The `Worker.nthreads` attribute has been moved to `Worker.state.nthreads`\n",
      "  warnings.warn(\n",
      "/home/tunguz/.local/lib/python3.8/site-packages/distributed/worker_state_machine.py:3649: FutureWarning: The `Worker.nthreads` attribute has been moved to `Worker.state.nthreads`\n",
      "  warnings.warn(\n",
      "/home/tunguz/.local/lib/python3.8/site-packages/distributed/worker_state_machine.py:3649: FutureWarning: The `Worker.nthreads` attribute has been moved to `Worker.state.nthreads`\n",
      "  warnings.warn(\n",
      "/home/tunguz/.local/lib/python3.8/site-packages/distributed/worker_state_machine.py:3649: FutureWarning: The `Worker.nthreads` attribute has been moved to `Worker.state.nthreads`\n",
      "  warnings.warn(\n",
      "/home/tunguz/.local/lib/python3.8/site-packages/distributed/worker_state_machine.py:3649: FutureWarning: The `Worker.nthreads` attribute has been moved to `Worker.state.nthreads`\n",
      "  warnings.warn(\n",
      "/home/tunguz/.local/lib/python3.8/site-packages/distributed/worker_state_machine.py:3649: FutureWarning: The `Worker.nthreads` attribute has been moved to `Worker.state.nthreads`\n",
      "  warnings.warn(\n",
      "/home/tunguz/.local/lib/python3.8/site-packages/distributed/worker_state_machine.py:3649: FutureWarning: The `Worker.nthreads` attribute has been moved to `Worker.state.nthreads`\n",
      "  warnings.warn(\n",
      "/home/tunguz/.local/lib/python3.8/site-packages/distributed/worker_state_machine.py:3649: FutureWarning: The `Worker.nthreads` attribute has been moved to `Worker.state.nthreads`\n",
      "  warnings.warn(\n",
      "/home/tunguz/.local/lib/python3.8/site-packages/distributed/worker_state_machine.py:3649: FutureWarning: The `Worker.nthreads` attribute has been moved to `Worker.state.nthreads`\n",
      "  warnings.warn(\n",
      "/home/tunguz/.local/lib/python3.8/site-packages/distributed/worker_state_machine.py:3649: FutureWarning: The `Worker.nthreads` attribute has been moved to `Worker.state.nthreads`\n",
      "  warnings.warn(\n",
      "/home/tunguz/.local/lib/python3.8/site-packages/distributed/worker_state_machine.py:3649: FutureWarning: The `Worker.nthreads` attribute has been moved to `Worker.state.nthreads`\n",
      "  warnings.warn(\n",
      "/home/tunguz/.local/lib/python3.8/site-packages/distributed/worker_state_machine.py:3649: FutureWarning: The `Worker.nthreads` attribute has been moved to `Worker.state.nthreads`\n",
      "  warnings.warn(\n",
      "/home/tunguz/.local/lib/python3.8/site-packages/distributed/worker_state_machine.py:3649: FutureWarning: The `Worker.nthreads` attribute has been moved to `Worker.state.nthreads`\n",
      "  warnings.warn(\n",
      "/home/tunguz/.local/lib/python3.8/site-packages/distributed/worker_state_machine.py:3649: FutureWarning: The `Worker.nthreads` attribute has been moved to `Worker.state.nthreads`\n",
      "  warnings.warn(\n",
      "/home/tunguz/.local/lib/python3.8/site-packages/distributed/worker_state_machine.py:3649: FutureWarning: The `Worker.nthreads` attribute has been moved to `Worker.state.nthreads`\n",
      "  warnings.warn(\n",
      "/home/tunguz/.local/lib/python3.8/site-packages/distributed/worker_state_machine.py:3649: FutureWarning: The `Worker.nthreads` attribute has been moved to `Worker.state.nthreads`\n",
      "  warnings.warn(\n",
      "/home/tunguz/.local/lib/python3.8/site-packages/distributed/worker_state_machine.py:3649: FutureWarning: The `Worker.nthreads` attribute has been moved to `Worker.state.nthreads`\n",
      "  warnings.warn(\n",
      "/home/tunguz/.local/lib/python3.8/site-packages/distributed/worker_state_machine.py:3649: FutureWarning: The `Worker.nthreads` attribute has been moved to `Worker.state.nthreads`\n",
      "  warnings.warn(\n",
      "/home/tunguz/.local/lib/python3.8/site-packages/distributed/worker_state_machine.py:3649: FutureWarning: The `Worker.nthreads` attribute has been moved to `Worker.state.nthreads`\n",
      "  warnings.warn(\n",
      "/home/tunguz/.local/lib/python3.8/site-packages/distributed/worker_state_machine.py:3649: FutureWarning: The `Worker.nthreads` attribute has been moved to `Worker.state.nthreads`\n",
      "  warnings.warn(\n",
      "/home/tunguz/.local/lib/python3.8/site-packages/distributed/worker_state_machine.py:3649: FutureWarning: The `Worker.nthreads` attribute has been moved to `Worker.state.nthreads`\n",
      "  warnings.warn(\n",
      "/home/tunguz/.local/lib/python3.8/site-packages/distributed/worker_state_machine.py:3649: FutureWarning: The `Worker.nthreads` attribute has been moved to `Worker.state.nthreads`\n",
      "  warnings.warn(\n",
      "/home/tunguz/.local/lib/python3.8/site-packages/distributed/worker_state_machine.py:3649: FutureWarning: The `Worker.nthreads` attribute has been moved to `Worker.state.nthreads`\n",
      "  warnings.warn(\n",
      "/home/tunguz/.local/lib/python3.8/site-packages/distributed/worker_state_machine.py:3649: FutureWarning: The `Worker.nthreads` attribute has been moved to `Worker.state.nthreads`\n",
      "  warnings.warn(\n",
      "/home/tunguz/.local/lib/python3.8/site-packages/distributed/worker_state_machine.py:3649: FutureWarning: The `Worker.nthreads` attribute has been moved to `Worker.state.nthreads`\n",
      "  warnings.warn(\n",
      "/home/tunguz/.local/lib/python3.8/site-packages/distributed/worker_state_machine.py:3649: FutureWarning: The `Worker.nthreads` attribute has been moved to `Worker.state.nthreads`\n",
      "  warnings.warn(\n",
      "/home/tunguz/.local/lib/python3.8/site-packages/distributed/worker_state_machine.py:3649: FutureWarning: The `Worker.nthreads` attribute has been moved to `Worker.state.nthreads`\n",
      "  warnings.warn(\n",
      "/home/tunguz/.local/lib/python3.8/site-packages/distributed/worker_state_machine.py:3649: FutureWarning: The `Worker.nthreads` attribute has been moved to `Worker.state.nthreads`\n",
      "  warnings.warn(\n",
      "/home/tunguz/.local/lib/python3.8/site-packages/distributed/worker_state_machine.py:3649: FutureWarning: The `Worker.nthreads` attribute has been moved to `Worker.state.nthreads`\n",
      "  warnings.warn(\n",
      "/home/tunguz/.local/lib/python3.8/site-packages/distributed/worker_state_machine.py:3649: FutureWarning: The `Worker.nthreads` attribute has been moved to `Worker.state.nthreads`\n",
      "  warnings.warn(\n",
      "/home/tunguz/.local/lib/python3.8/site-packages/distributed/worker_state_machine.py:3649: FutureWarning: The `Worker.nthreads` attribute hasTraceback (most recent call last):\n",
      "  File \"/usr/lib/python3.8/multiprocessing/queues.py\", line 245, in _feed\n",
      "    send_bytes(obj)\n",
      "  File \"/usr/lib/python3.8/multiprocessing/connection.py\", line 200, in send_bytes\n",
      "    self._send_bytes(m[offset:offset + size])\n",
      " been moved to `Worker.state.nthreads`\n",
      "  warnings.warn(\n",
      "2023-01-09 21:28:48,343 - distributed.nanny - ERROR - Worker process died unexpectedly\n",
      "  File \"/usr/lib/python3.8/multiprocessing/connection.py\", line 411, in _send_bytes\n",
      "    self._send(header + buf)\n",
      "  File \"/usr/lib/python3.8/multiprocessing/connection.py\", line 368, in _send\n",
      "    n = write(self._handle, buf)\n",
      "BrokenPipeError: [Errno 32] Broken pipe\n"
     ]
    }
   ],
   "source": [
    "import numpy as np\n",
    "np.mean(scores)"
   ]
  },
  {
   "cell_type": "code",
   "execution_count": null,
   "metadata": {},
   "outputs": [],
   "source": []
  }
 ],
 "metadata": {
  "kernelspec": {
   "display_name": "Python 3 (ipykernel)",
   "language": "python",
   "name": "python3"
  },
  "language_info": {
   "codemirror_mode": {
    "name": "ipython",
    "version": 3
   },
   "file_extension": ".py",
   "mimetype": "text/x-python",
   "name": "python",
   "nbconvert_exporter": "python",
   "pygments_lexer": "ipython3",
   "version": "3.8.10"
  }
 },
 "nbformat": 4,
 "nbformat_minor": 4
}
