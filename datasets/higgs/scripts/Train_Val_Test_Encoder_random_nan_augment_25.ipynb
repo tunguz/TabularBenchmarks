{
 "cells": [
  {
   "cell_type": "code",
   "execution_count": 1,
   "metadata": {},
   "outputs": [],
   "source": [
    "%load_ext watermark"
   ]
  },
  {
   "cell_type": "code",
   "execution_count": 2,
   "metadata": {},
   "outputs": [
    {
     "name": "stdout",
     "output_type": "stream",
     "text": [
      "Last updated: 2022-11-22T12:13:04.678313-05:00\n",
      "\n",
      "Python implementation: CPython\n",
      "Python version       : 3.7.11\n",
      "IPython version      : 7.10.1\n",
      "\n",
      "Compiler    : GCC 7.5.0\n",
      "OS          : Linux\n",
      "Release     : 4.15.0-161-generic\n",
      "Machine     : x86_64\n",
      "Processor   : x86_64\n",
      "CPU cores   : 40\n",
      "Architecture: 64bit\n",
      "\n"
     ]
    }
   ],
   "source": [
    "%watermark"
   ]
  },
  {
   "cell_type": "code",
   "execution_count": 3,
   "metadata": {},
   "outputs": [],
   "source": [
    "import numpy as np\n",
    "import pandas as pd"
   ]
  },
  {
   "cell_type": "code",
   "execution_count": 4,
   "metadata": {},
   "outputs": [
    {
     "name": "stdout",
     "output_type": "stream",
     "text": [
      "pandas: 1.3.5\n",
      "numpy : 1.19.2\n",
      "\n"
     ]
    }
   ],
   "source": [
    "%watermark --iversions"
   ]
  },
  {
   "cell_type": "code",
   "execution_count": 5,
   "metadata": {},
   "outputs": [],
   "source": [
    "X_num_train = np.load('../input/higgs_small_roc/X_num_train.npy')\n",
    "X_num_val = np.load('../input/higgs_small_roc/X_num_val.npy')\n",
    "X_num_test = np.load('../input/higgs_small_roc/X_num_test.npy')\n",
    "\n",
    "y_train = np.load('../input/higgs_small_roc/y_train.npy')\n",
    "y_val = np.load('../input/higgs_small_roc/y_val.npy')\n",
    "y_test = np.load('../input/higgs_small_roc/y_test.npy')"
   ]
  },
  {
   "cell_type": "code",
   "execution_count": 6,
   "metadata": {},
   "outputs": [
    {
     "data": {
      "text/plain": [
       "(62751, 28)"
      ]
     },
     "execution_count": 6,
     "metadata": {},
     "output_type": "execute_result"
    }
   ],
   "source": [
    "X_num_train.shape"
   ]
  },
  {
   "cell_type": "code",
   "execution_count": 7,
   "metadata": {},
   "outputs": [
    {
     "data": {
      "text/plain": [
       "1757028"
      ]
     },
     "execution_count": 7,
     "metadata": {},
     "output_type": "execute_result"
    }
   ],
   "source": [
    "X_num_train.size"
   ]
  },
  {
   "cell_type": "code",
   "execution_count": 8,
   "metadata": {},
   "outputs": [
    {
     "data": {
      "text/plain": [
       "array([1606668,  522667,  143759, ..., 1523744,  502526, 1663306])"
      ]
     },
     "execution_count": 8,
     "metadata": {},
     "output_type": "execute_result"
    }
   ],
   "source": [
    "index_nan = np.random.choice(X_num_train.size, X_num_train.shape[0]*2, replace=False)\n",
    "index_nan"
   ]
  },
  {
   "cell_type": "code",
   "execution_count": 9,
   "metadata": {},
   "outputs": [],
   "source": [
    "trains = []\n",
    "for i in range(25):\n",
    "    trains.append(X_num_train)"
   ]
  },
  {
   "cell_type": "code",
   "execution_count": 10,
   "metadata": {},
   "outputs": [],
   "source": [
    "X_num_train_25 = np.vstack(trains)"
   ]
  },
  {
   "cell_type": "code",
   "execution_count": 11,
   "metadata": {},
   "outputs": [
    {
     "data": {
      "text/plain": [
       "(1568775, 28)"
      ]
     },
     "execution_count": 11,
     "metadata": {},
     "output_type": "execute_result"
    }
   ],
   "source": [
    "X_num_train_25.shape"
   ]
  },
  {
   "cell_type": "code",
   "execution_count": 12,
   "metadata": {},
   "outputs": [
    {
     "data": {
      "text/plain": [
       "array([10501428,   587231, 12354884, ..., 22403813, 10851299, 26614923])"
      ]
     },
     "execution_count": 12,
     "metadata": {},
     "output_type": "execute_result"
    }
   ],
   "source": [
    "index_nan = np.random.choice(X_num_train_25.size, X_num_train_25.shape[0]*2, replace=False)\n",
    "index_nan"
   ]
  },
  {
   "cell_type": "code",
   "execution_count": 13,
   "metadata": {},
   "outputs": [],
   "source": [
    "X_num_train_25.ravel()[index_nan] = np.nan"
   ]
  },
  {
   "cell_type": "code",
   "execution_count": 14,
   "metadata": {},
   "outputs": [
    {
     "data": {
      "text/plain": [
       "array([ 0.7267291 , -1.3421831 , -0.8125607 ,  0.80474496,  1.0561434 ,\n",
       "        0.82492304, -0.7922094 , -1.4801266 ,  2.1730762 ,  0.5755049 ,\n",
       "       -0.03588055,  0.88429826,  2.2148721 ,  0.7528887 , -1.0830232 ,\n",
       "        0.59291756,  0.        ,  1.1092063 , -1.6869278 ,  0.2595374 ,\n",
       "        0.        ,  0.5264462 ,  1.1162164 ,         nan,  0.78055453,\n",
       "        0.9455386 ,  0.79644614,  0.70450157], dtype=float32)"
      ]
     },
     "execution_count": 14,
     "metadata": {},
     "output_type": "execute_result"
    }
   ],
   "source": [
    "X_num_train_25[8]"
   ]
  },
  {
   "cell_type": "code",
   "execution_count": 15,
   "metadata": {},
   "outputs": [],
   "source": [
    "columns = [f'Col{i}' for i in range(28)]"
   ]
  },
  {
   "cell_type": "code",
   "execution_count": 16,
   "metadata": {},
   "outputs": [],
   "source": [
    "X_num_train_25 = pd.DataFrame(X_num_train_25, columns=columns)\n",
    "X_num_test = pd.DataFrame(X_num_test, columns=columns)\n",
    "X_num_val = pd.DataFrame(X_num_val, columns=columns)"
   ]
  },
  {
   "cell_type": "code",
   "execution_count": 17,
   "metadata": {},
   "outputs": [],
   "source": [
    "y_train_25 = []\n",
    "for i in range(25):\n",
    "    y_train_25.append(y_train)"
   ]
  },
  {
   "cell_type": "code",
   "execution_count": 18,
   "metadata": {},
   "outputs": [],
   "source": [
    "y_train_25 = np.hstack(y_train_25)"
   ]
  },
  {
   "cell_type": "code",
   "execution_count": 19,
   "metadata": {},
   "outputs": [
    {
     "data": {
      "text/html": [
       "<div>\n",
       "<style scoped>\n",
       "    .dataframe tbody tr th:only-of-type {\n",
       "        vertical-align: middle;\n",
       "    }\n",
       "\n",
       "    .dataframe tbody tr th {\n",
       "        vertical-align: top;\n",
       "    }\n",
       "\n",
       "    .dataframe thead th {\n",
       "        text-align: right;\n",
       "    }\n",
       "</style>\n",
       "<table border=\"1\" class=\"dataframe\">\n",
       "  <thead>\n",
       "    <tr style=\"text-align: right;\">\n",
       "      <th></th>\n",
       "      <th>Col0</th>\n",
       "      <th>Col1</th>\n",
       "      <th>Col2</th>\n",
       "      <th>Col3</th>\n",
       "      <th>Col4</th>\n",
       "      <th>Col5</th>\n",
       "      <th>Col6</th>\n",
       "      <th>Col7</th>\n",
       "      <th>Col8</th>\n",
       "      <th>Col9</th>\n",
       "      <th>...</th>\n",
       "      <th>Col18</th>\n",
       "      <th>Col19</th>\n",
       "      <th>Col20</th>\n",
       "      <th>Col21</th>\n",
       "      <th>Col22</th>\n",
       "      <th>Col23</th>\n",
       "      <th>Col24</th>\n",
       "      <th>Col25</th>\n",
       "      <th>Col26</th>\n",
       "      <th>Col27</th>\n",
       "    </tr>\n",
       "  </thead>\n",
       "  <tbody>\n",
       "    <tr>\n",
       "      <th>0</th>\n",
       "      <td>2.118879</td>\n",
       "      <td>-0.047779</td>\n",
       "      <td>0.422666</td>\n",
       "      <td>0.887075</td>\n",
       "      <td>1.190011</td>\n",
       "      <td>1.125486</td>\n",
       "      <td>0.433695</td>\n",
       "      <td>-1.338761</td>\n",
       "      <td>0.000000</td>\n",
       "      <td>0.439529</td>\n",
       "      <td>...</td>\n",
       "      <td>-0.323596</td>\n",
       "      <td>-1.553466</td>\n",
       "      <td>NaN</td>\n",
       "      <td>0.742982</td>\n",
       "      <td>0.823960</td>\n",
       "      <td>1.211727</td>\n",
       "      <td>0.916147</td>\n",
       "      <td>0.578919</td>\n",
       "      <td>0.654138</td>\n",
       "      <td>0.825789</td>\n",
       "    </tr>\n",
       "    <tr>\n",
       "      <th>1</th>\n",
       "      <td>0.597891</td>\n",
       "      <td>1.086895</td>\n",
       "      <td>0.923151</td>\n",
       "      <td>0.226966</td>\n",
       "      <td>0.371219</td>\n",
       "      <td>0.797166</td>\n",
       "      <td>0.150490</td>\n",
       "      <td>-0.124122</td>\n",
       "      <td>1.086538</td>\n",
       "      <td>1.316699</td>\n",
       "      <td>...</td>\n",
       "      <td>0.799050</td>\n",
       "      <td>-1.554576</td>\n",
       "      <td>0.000000</td>\n",
       "      <td>0.847783</td>\n",
       "      <td>0.790057</td>\n",
       "      <td>0.983838</td>\n",
       "      <td>1.056745</td>\n",
       "      <td>1.567410</td>\n",
       "      <td>0.940275</td>\n",
       "      <td>0.807826</td>\n",
       "    </tr>\n",
       "    <tr>\n",
       "      <th>2</th>\n",
       "      <td>0.745762</td>\n",
       "      <td>-1.198036</td>\n",
       "      <td>-0.740429</td>\n",
       "      <td>1.239304</td>\n",
       "      <td>0.256762</td>\n",
       "      <td>0.490740</td>\n",
       "      <td>-0.103009</td>\n",
       "      <td>1.449852</td>\n",
       "      <td>2.173076</td>\n",
       "      <td>NaN</td>\n",
       "      <td>...</td>\n",
       "      <td>1.765957</td>\n",
       "      <td>-1.242160</td>\n",
       "      <td>0.000000</td>\n",
       "      <td>0.803592</td>\n",
       "      <td>0.958226</td>\n",
       "      <td>1.042696</td>\n",
       "      <td>0.962325</td>\n",
       "      <td>0.753004</td>\n",
       "      <td>0.781717</td>\n",
       "      <td>0.711513</td>\n",
       "    </tr>\n",
       "    <tr>\n",
       "      <th>3</th>\n",
       "      <td>0.754730</td>\n",
       "      <td>1.291428</td>\n",
       "      <td>0.714523</td>\n",
       "      <td>0.850122</td>\n",
       "      <td>0.253473</td>\n",
       "      <td>0.934852</td>\n",
       "      <td>NaN</td>\n",
       "      <td>1.407166</td>\n",
       "      <td>2.173076</td>\n",
       "      <td>0.883717</td>\n",
       "      <td>...</td>\n",
       "      <td>1.262099</td>\n",
       "      <td>-0.825421</td>\n",
       "      <td>0.000000</td>\n",
       "      <td>2.054786</td>\n",
       "      <td>1.577448</td>\n",
       "      <td>0.999547</td>\n",
       "      <td>2.386760</td>\n",
       "      <td>NaN</td>\n",
       "      <td>1.757753</td>\n",
       "      <td>1.538811</td>\n",
       "    </tr>\n",
       "    <tr>\n",
       "      <th>4</th>\n",
       "      <td>1.336332</td>\n",
       "      <td>-0.407173</td>\n",
       "      <td>1.026355</td>\n",
       "      <td>2.019245</td>\n",
       "      <td>0.558858</td>\n",
       "      <td>1.559704</td>\n",
       "      <td>-0.726854</td>\n",
       "      <td>-1.027756</td>\n",
       "      <td>0.000000</td>\n",
       "      <td>0.810315</td>\n",
       "      <td>...</td>\n",
       "      <td>0.766570</td>\n",
       "      <td>1.100229</td>\n",
       "      <td>3.101961</td>\n",
       "      <td>0.922455</td>\n",
       "      <td>0.879696</td>\n",
       "      <td>0.983609</td>\n",
       "      <td>0.971203</td>\n",
       "      <td>1.022390</td>\n",
       "      <td>1.006686</td>\n",
       "      <td>1.130976</td>\n",
       "    </tr>\n",
       "  </tbody>\n",
       "</table>\n",
       "<p>5 rows × 28 columns</p>\n",
       "</div>"
      ],
      "text/plain": [
       "       Col0      Col1      Col2      Col3      Col4      Col5      Col6  \\\n",
       "0  2.118879 -0.047779  0.422666  0.887075  1.190011  1.125486  0.433695   \n",
       "1  0.597891  1.086895  0.923151  0.226966  0.371219  0.797166  0.150490   \n",
       "2  0.745762 -1.198036 -0.740429  1.239304  0.256762  0.490740 -0.103009   \n",
       "3  0.754730  1.291428  0.714523  0.850122  0.253473  0.934852       NaN   \n",
       "4  1.336332 -0.407173  1.026355  2.019245  0.558858  1.559704 -0.726854   \n",
       "\n",
       "       Col7      Col8      Col9  ...     Col18     Col19     Col20     Col21  \\\n",
       "0 -1.338761  0.000000  0.439529  ... -0.323596 -1.553466       NaN  0.742982   \n",
       "1 -0.124122  1.086538  1.316699  ...  0.799050 -1.554576  0.000000  0.847783   \n",
       "2  1.449852  2.173076       NaN  ...  1.765957 -1.242160  0.000000  0.803592   \n",
       "3  1.407166  2.173076  0.883717  ...  1.262099 -0.825421  0.000000  2.054786   \n",
       "4 -1.027756  0.000000  0.810315  ...  0.766570  1.100229  3.101961  0.922455   \n",
       "\n",
       "      Col22     Col23     Col24     Col25     Col26     Col27  \n",
       "0  0.823960  1.211727  0.916147  0.578919  0.654138  0.825789  \n",
       "1  0.790057  0.983838  1.056745  1.567410  0.940275  0.807826  \n",
       "2  0.958226  1.042696  0.962325  0.753004  0.781717  0.711513  \n",
       "3  1.577448  0.999547  2.386760       NaN  1.757753  1.538811  \n",
       "4  0.879696  0.983609  0.971203  1.022390  1.006686  1.130976  \n",
       "\n",
       "[5 rows x 28 columns]"
      ]
     },
     "execution_count": 19,
     "metadata": {},
     "output_type": "execute_result"
    }
   ],
   "source": [
    "X_num_train_25.head()"
   ]
  },
  {
   "cell_type": "code",
   "execution_count": 20,
   "metadata": {},
   "outputs": [],
   "source": [
    "X_num_train_25['target'] = y_train_25\n",
    "X_num_test['target'] = y_test\n",
    "X_num_val['target'] = y_val"
   ]
  },
  {
   "cell_type": "code",
   "execution_count": 21,
   "metadata": {},
   "outputs": [
    {
     "data": {
      "text/html": [
       "<div>\n",
       "<style scoped>\n",
       "    .dataframe tbody tr th:only-of-type {\n",
       "        vertical-align: middle;\n",
       "    }\n",
       "\n",
       "    .dataframe tbody tr th {\n",
       "        vertical-align: top;\n",
       "    }\n",
       "\n",
       "    .dataframe thead th {\n",
       "        text-align: right;\n",
       "    }\n",
       "</style>\n",
       "<table border=\"1\" class=\"dataframe\">\n",
       "  <thead>\n",
       "    <tr style=\"text-align: right;\">\n",
       "      <th></th>\n",
       "      <th>Col0</th>\n",
       "      <th>Col1</th>\n",
       "      <th>Col2</th>\n",
       "      <th>Col3</th>\n",
       "      <th>Col4</th>\n",
       "      <th>Col5</th>\n",
       "      <th>Col6</th>\n",
       "      <th>Col7</th>\n",
       "      <th>Col8</th>\n",
       "      <th>Col9</th>\n",
       "      <th>...</th>\n",
       "      <th>Col19</th>\n",
       "      <th>Col20</th>\n",
       "      <th>Col21</th>\n",
       "      <th>Col22</th>\n",
       "      <th>Col23</th>\n",
       "      <th>Col24</th>\n",
       "      <th>Col25</th>\n",
       "      <th>Col26</th>\n",
       "      <th>Col27</th>\n",
       "      <th>target</th>\n",
       "    </tr>\n",
       "  </thead>\n",
       "  <tbody>\n",
       "    <tr>\n",
       "      <th>0</th>\n",
       "      <td>0.557446</td>\n",
       "      <td>1.172604</td>\n",
       "      <td>1.573448</td>\n",
       "      <td>0.457527</td>\n",
       "      <td>-0.498181</td>\n",
       "      <td>0.945386</td>\n",
       "      <td>-0.707050</td>\n",
       "      <td>-0.189538</td>\n",
       "      <td>2.173076</td>\n",
       "      <td>0.861054</td>\n",
       "      <td>...</td>\n",
       "      <td>-1.111756</td>\n",
       "      <td>3.101961</td>\n",
       "      <td>0.869146</td>\n",
       "      <td>1.217670</td>\n",
       "      <td>0.983226</td>\n",
       "      <td>0.637365</td>\n",
       "      <td>0.653615</td>\n",
       "      <td>0.739847</td>\n",
       "      <td>0.699954</td>\n",
       "      <td>1</td>\n",
       "    </tr>\n",
       "    <tr>\n",
       "      <th>1</th>\n",
       "      <td>1.072982</td>\n",
       "      <td>1.092739</td>\n",
       "      <td>0.022056</td>\n",
       "      <td>0.822545</td>\n",
       "      <td>-1.341670</td>\n",
       "      <td>0.895919</td>\n",
       "      <td>1.495222</td>\n",
       "      <td>1.307932</td>\n",
       "      <td>0.000000</td>\n",
       "      <td>1.471056</td>\n",
       "      <td>...</td>\n",
       "      <td>1.028091</td>\n",
       "      <td>0.000000</td>\n",
       "      <td>0.798245</td>\n",
       "      <td>0.466048</td>\n",
       "      <td>1.225791</td>\n",
       "      <td>0.933668</td>\n",
       "      <td>0.761078</td>\n",
       "      <td>0.917583</td>\n",
       "      <td>0.827050</td>\n",
       "      <td>1</td>\n",
       "    </tr>\n",
       "    <tr>\n",
       "      <th>2</th>\n",
       "      <td>0.848796</td>\n",
       "      <td>1.012873</td>\n",
       "      <td>1.246635</td>\n",
       "      <td>0.577975</td>\n",
       "      <td>-1.079147</td>\n",
       "      <td>NaN</td>\n",
       "      <td>-0.163413</td>\n",
       "      <td>0.913771</td>\n",
       "      <td>NaN</td>\n",
       "      <td>1.053183</td>\n",
       "      <td>...</td>\n",
       "      <td>0.362196</td>\n",
       "      <td>0.000000</td>\n",
       "      <td>0.515816</td>\n",
       "      <td>NaN</td>\n",
       "      <td>NaN</td>\n",
       "      <td>1.167543</td>\n",
       "      <td>1.131612</td>\n",
       "      <td>0.974950</td>\n",
       "      <td>0.835583</td>\n",
       "      <td>0</td>\n",
       "    </tr>\n",
       "    <tr>\n",
       "      <th>3</th>\n",
       "      <td>NaN</td>\n",
       "      <td>-0.671119</td>\n",
       "      <td>-0.681059</td>\n",
       "      <td>NaN</td>\n",
       "      <td>-1.358681</td>\n",
       "      <td>2.282394</td>\n",
       "      <td>0.789188</td>\n",
       "      <td>0.874965</td>\n",
       "      <td>0.000000</td>\n",
       "      <td>1.821824</td>\n",
       "      <td>...</td>\n",
       "      <td>0.140231</td>\n",
       "      <td>0.000000</td>\n",
       "      <td>2.044763</td>\n",
       "      <td>1.825729</td>\n",
       "      <td>NaN</td>\n",
       "      <td>0.653768</td>\n",
       "      <td>0.965749</td>\n",
       "      <td>1.600420</td>\n",
       "      <td>1.297442</td>\n",
       "      <td>1</td>\n",
       "    </tr>\n",
       "    <tr>\n",
       "      <th>4</th>\n",
       "      <td>0.837816</td>\n",
       "      <td>-1.025643</td>\n",
       "      <td>0.737272</td>\n",
       "      <td>0.946560</td>\n",
       "      <td>-1.378883</td>\n",
       "      <td>1.026184</td>\n",
       "      <td>-0.798151</td>\n",
       "      <td>0.361614</td>\n",
       "      <td>1.086538</td>\n",
       "      <td>0.881576</td>\n",
       "      <td>...</td>\n",
       "      <td>-0.232772</td>\n",
       "      <td>NaN</td>\n",
       "      <td>1.147501</td>\n",
       "      <td>0.996309</td>\n",
       "      <td>1.165071</td>\n",
       "      <td>0.795698</td>\n",
       "      <td>NaN</td>\n",
       "      <td>0.863631</td>\n",
       "      <td>0.808135</td>\n",
       "      <td>1</td>\n",
       "    </tr>\n",
       "  </tbody>\n",
       "</table>\n",
       "<p>5 rows × 29 columns</p>\n",
       "</div>"
      ],
      "text/plain": [
       "       Col0      Col1      Col2      Col3      Col4      Col5      Col6  \\\n",
       "0  0.557446  1.172604  1.573448  0.457527 -0.498181  0.945386 -0.707050   \n",
       "1  1.072982  1.092739  0.022056  0.822545 -1.341670  0.895919  1.495222   \n",
       "2  0.848796  1.012873  1.246635  0.577975 -1.079147       NaN -0.163413   \n",
       "3       NaN -0.671119 -0.681059       NaN -1.358681  2.282394  0.789188   \n",
       "4  0.837816 -1.025643  0.737272  0.946560 -1.378883  1.026184 -0.798151   \n",
       "\n",
       "       Col7      Col8      Col9  ...     Col19     Col20     Col21     Col22  \\\n",
       "0 -0.189538  2.173076  0.861054  ... -1.111756  3.101961  0.869146  1.217670   \n",
       "1  1.307932  0.000000  1.471056  ...  1.028091  0.000000  0.798245  0.466048   \n",
       "2  0.913771       NaN  1.053183  ...  0.362196  0.000000  0.515816       NaN   \n",
       "3  0.874965  0.000000  1.821824  ...  0.140231  0.000000  2.044763  1.825729   \n",
       "4  0.361614  1.086538  0.881576  ... -0.232772       NaN  1.147501  0.996309   \n",
       "\n",
       "      Col23     Col24     Col25     Col26     Col27  target  \n",
       "0  0.983226  0.637365  0.653615  0.739847  0.699954       1  \n",
       "1  1.225791  0.933668  0.761078  0.917583  0.827050       1  \n",
       "2       NaN  1.167543  1.131612  0.974950  0.835583       0  \n",
       "3       NaN  0.653768  0.965749  1.600420  1.297442       1  \n",
       "4  1.165071  0.795698       NaN  0.863631  0.808135       1  \n",
       "\n",
       "[5 rows x 29 columns]"
      ]
     },
     "execution_count": 21,
     "metadata": {},
     "output_type": "execute_result"
    }
   ],
   "source": [
    "X_num_train_25 = X_num_train_25.sample(frac=1).reset_index(drop=True)\n",
    "X_num_train_25.head()"
   ]
  },
  {
   "cell_type": "code",
   "execution_count": 22,
   "metadata": {},
   "outputs": [
    {
     "data": {
      "text/html": [
       "<div>\n",
       "<style scoped>\n",
       "    .dataframe tbody tr th:only-of-type {\n",
       "        vertical-align: middle;\n",
       "    }\n",
       "\n",
       "    .dataframe tbody tr th {\n",
       "        vertical-align: top;\n",
       "    }\n",
       "\n",
       "    .dataframe thead th {\n",
       "        text-align: right;\n",
       "    }\n",
       "</style>\n",
       "<table border=\"1\" class=\"dataframe\">\n",
       "  <thead>\n",
       "    <tr style=\"text-align: right;\">\n",
       "      <th></th>\n",
       "      <th>Col0</th>\n",
       "      <th>Col1</th>\n",
       "      <th>Col2</th>\n",
       "      <th>Col3</th>\n",
       "      <th>Col4</th>\n",
       "      <th>Col5</th>\n",
       "      <th>Col6</th>\n",
       "      <th>Col7</th>\n",
       "      <th>Col8</th>\n",
       "      <th>Col9</th>\n",
       "      <th>...</th>\n",
       "      <th>Col19</th>\n",
       "      <th>Col20</th>\n",
       "      <th>Col21</th>\n",
       "      <th>Col22</th>\n",
       "      <th>Col23</th>\n",
       "      <th>Col24</th>\n",
       "      <th>Col25</th>\n",
       "      <th>Col26</th>\n",
       "      <th>Col27</th>\n",
       "      <th>target</th>\n",
       "    </tr>\n",
       "  </thead>\n",
       "  <tbody>\n",
       "    <tr>\n",
       "      <th>0</th>\n",
       "      <td>0.972144</td>\n",
       "      <td>-0.323412</td>\n",
       "      <td>0.905950</td>\n",
       "      <td>0.684020</td>\n",
       "      <td>-0.501370</td>\n",
       "      <td>1.154709</td>\n",
       "      <td>0.517865</td>\n",
       "      <td>-0.686816</td>\n",
       "      <td>0.000000</td>\n",
       "      <td>1.963213</td>\n",
       "      <td>...</td>\n",
       "      <td>-1.066253</td>\n",
       "      <td>3.101961</td>\n",
       "      <td>1.041885</td>\n",
       "      <td>0.598787</td>\n",
       "      <td>1.078135</td>\n",
       "      <td>NaN</td>\n",
       "      <td>0.926703</td>\n",
       "      <td>1.048794</td>\n",
       "      <td>0.915002</td>\n",
       "      <td>1</td>\n",
       "    </tr>\n",
       "    <tr>\n",
       "      <th>1</th>\n",
       "      <td>0.900039</td>\n",
       "      <td>-2.005456</td>\n",
       "      <td>-0.524030</td>\n",
       "      <td>1.548119</td>\n",
       "      <td>-0.449246</td>\n",
       "      <td>0.942455</td>\n",
       "      <td>-1.654700</td>\n",
       "      <td>1.361707</td>\n",
       "      <td>NaN</td>\n",
       "      <td>0.475538</td>\n",
       "      <td>...</td>\n",
       "      <td>0.952068</td>\n",
       "      <td>3.101961</td>\n",
       "      <td>0.644116</td>\n",
       "      <td>0.737511</td>\n",
       "      <td>1.007760</td>\n",
       "      <td>0.789694</td>\n",
       "      <td>0.679650</td>\n",
       "      <td>0.914662</td>\n",
       "      <td>0.733616</td>\n",
       "      <td>1</td>\n",
       "    </tr>\n",
       "    <tr>\n",
       "      <th>2</th>\n",
       "      <td>1.658794</td>\n",
       "      <td>0.920346</td>\n",
       "      <td>-0.277672</td>\n",
       "      <td>0.187332</td>\n",
       "      <td>0.188564</td>\n",
       "      <td>0.558529</td>\n",
       "      <td>1.370453</td>\n",
       "      <td>NaN</td>\n",
       "      <td>2.173076</td>\n",
       "      <td>NaN</td>\n",
       "      <td>...</td>\n",
       "      <td>-0.452517</td>\n",
       "      <td>0.000000</td>\n",
       "      <td>0.742486</td>\n",
       "      <td>0.771742</td>\n",
       "      <td>NaN</td>\n",
       "      <td>NaN</td>\n",
       "      <td>0.845798</td>\n",
       "      <td>0.748437</td>\n",
       "      <td>0.679288</td>\n",
       "      <td>0</td>\n",
       "    </tr>\n",
       "    <tr>\n",
       "      <th>3</th>\n",
       "      <td>1.473772</td>\n",
       "      <td>-0.897079</td>\n",
       "      <td>-0.101226</td>\n",
       "      <td>NaN</td>\n",
       "      <td>0.672246</td>\n",
       "      <td>1.562453</td>\n",
       "      <td>NaN</td>\n",
       "      <td>NaN</td>\n",
       "      <td>0.000000</td>\n",
       "      <td>0.918214</td>\n",
       "      <td>...</td>\n",
       "      <td>-1.378114</td>\n",
       "      <td>3.101961</td>\n",
       "      <td>2.404005</td>\n",
       "      <td>1.295527</td>\n",
       "      <td>1.152906</td>\n",
       "      <td>0.894913</td>\n",
       "      <td>0.477141</td>\n",
       "      <td>0.823846</td>\n",
       "      <td>NaN</td>\n",
       "      <td>0</td>\n",
       "    </tr>\n",
       "    <tr>\n",
       "      <th>4</th>\n",
       "      <td>0.413967</td>\n",
       "      <td>-0.373084</td>\n",
       "      <td>-0.067934</td>\n",
       "      <td>NaN</td>\n",
       "      <td>NaN</td>\n",
       "      <td>0.312655</td>\n",
       "      <td>1.723965</td>\n",
       "      <td>-0.442888</td>\n",
       "      <td>0.000000</td>\n",
       "      <td>0.511420</td>\n",
       "      <td>...</td>\n",
       "      <td>0.800022</td>\n",
       "      <td>1.550981</td>\n",
       "      <td>0.921747</td>\n",
       "      <td>0.992830</td>\n",
       "      <td>NaN</td>\n",
       "      <td>0.507957</td>\n",
       "      <td>0.370590</td>\n",
       "      <td>0.611096</td>\n",
       "      <td>0.625777</td>\n",
       "      <td>0</td>\n",
       "    </tr>\n",
       "  </tbody>\n",
       "</table>\n",
       "<p>5 rows × 29 columns</p>\n",
       "</div>"
      ],
      "text/plain": [
       "       Col0      Col1      Col2      Col3      Col4      Col5      Col6  \\\n",
       "0  0.972144 -0.323412  0.905950  0.684020 -0.501370  1.154709  0.517865   \n",
       "1  0.900039 -2.005456 -0.524030  1.548119 -0.449246  0.942455 -1.654700   \n",
       "2  1.658794  0.920346 -0.277672  0.187332  0.188564  0.558529  1.370453   \n",
       "3  1.473772 -0.897079 -0.101226       NaN  0.672246  1.562453       NaN   \n",
       "4  0.413967 -0.373084 -0.067934       NaN       NaN  0.312655  1.723965   \n",
       "\n",
       "       Col7      Col8      Col9  ...     Col19     Col20     Col21     Col22  \\\n",
       "0 -0.686816  0.000000  1.963213  ... -1.066253  3.101961  1.041885  0.598787   \n",
       "1  1.361707       NaN  0.475538  ...  0.952068  3.101961  0.644116  0.737511   \n",
       "2       NaN  2.173076       NaN  ... -0.452517  0.000000  0.742486  0.771742   \n",
       "3       NaN  0.000000  0.918214  ... -1.378114  3.101961  2.404005  1.295527   \n",
       "4 -0.442888  0.000000  0.511420  ...  0.800022  1.550981  0.921747  0.992830   \n",
       "\n",
       "      Col23     Col24     Col25     Col26     Col27  target  \n",
       "0  1.078135       NaN  0.926703  1.048794  0.915002       1  \n",
       "1  1.007760  0.789694  0.679650  0.914662  0.733616       1  \n",
       "2       NaN       NaN  0.845798  0.748437  0.679288       0  \n",
       "3  1.152906  0.894913  0.477141  0.823846       NaN       0  \n",
       "4       NaN  0.507957  0.370590  0.611096  0.625777       0  \n",
       "\n",
       "[5 rows x 29 columns]"
      ]
     },
     "execution_count": 22,
     "metadata": {},
     "output_type": "execute_result"
    }
   ],
   "source": [
    "X_num_train_25 = X_num_train_25.sample(frac=1).reset_index(drop=True)\n",
    "X_num_train_25.head()"
   ]
  },
  {
   "cell_type": "code",
   "execution_count": 33,
   "metadata": {},
   "outputs": [],
   "source": []
  },
  {
   "cell_type": "code",
   "execution_count": 23,
   "metadata": {},
   "outputs": [],
   "source": [
    "X_num_train_25.to_csv('../input/higgs_small_roc/xgtrain_25.csv', index=False)\n",
    "X_num_val.to_csv('../input/higgs_small_roc/xgval.csv', index=False)\n",
    "X_num_test.to_csv('../input/higgs_small_roc/xgtest.csv', index=False)"
   ]
  },
  {
   "cell_type": "code",
   "execution_count": null,
   "metadata": {},
   "outputs": [],
   "source": []
  }
 ],
 "metadata": {
  "kernelspec": {
   "display_name": "Python 3",
   "language": "python",
   "name": "python3"
  },
  "language_info": {
   "codemirror_mode": {
    "name": "ipython",
    "version": 3
   },
   "file_extension": ".py",
   "mimetype": "text/x-python",
   "name": "python",
   "nbconvert_exporter": "python",
   "pygments_lexer": "ipython3",
   "version": "3.7.11"
  }
 },
 "nbformat": 4,
 "nbformat_minor": 4
}
