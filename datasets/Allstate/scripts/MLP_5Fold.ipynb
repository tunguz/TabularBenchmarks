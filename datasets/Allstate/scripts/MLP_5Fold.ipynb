{
 "cells": [
  {
   "cell_type": "code",
   "execution_count": 8,
   "id": "a09e4cb2",
   "metadata": {},
   "outputs": [
    {
     "name": "stdout",
     "output_type": "stream",
     "text": [
      "Looking in indexes: https://pypi.org/simple, https://pypi.ngc.nvidia.com\n",
      "Requirement already satisfied: seaborn in /opt/conda/lib/python3.8/site-packages (0.11.2)\n",
      "Requirement already satisfied: scipy>=1.0 in /opt/conda/lib/python3.8/site-packages (from seaborn) (1.6.3)\n",
      "Requirement already satisfied: pandas>=0.23 in /opt/conda/lib/python3.8/site-packages (from seaborn) (1.3.5)\n",
      "Requirement already satisfied: matplotlib>=2.2 in /opt/conda/lib/python3.8/site-packages (from seaborn) (3.5.1)\n",
      "Requirement already satisfied: numpy>=1.15 in /opt/conda/lib/python3.8/site-packages (from seaborn) (1.22.3)\n",
      "Requirement already satisfied: fonttools>=4.22.0 in /opt/conda/lib/python3.8/site-packages (from matplotlib>=2.2->seaborn) (4.32.0)\n",
      "Requirement already satisfied: python-dateutil>=2.7 in /opt/conda/lib/python3.8/site-packages (from matplotlib>=2.2->seaborn) (2.8.2)\n",
      "Requirement already satisfied: cycler>=0.10 in /opt/conda/lib/python3.8/site-packages (from matplotlib>=2.2->seaborn) (0.11.0)\n",
      "Requirement already satisfied: pyparsing>=2.2.1 in /opt/conda/lib/python3.8/site-packages (from matplotlib>=2.2->seaborn) (3.0.8)\n",
      "Requirement already satisfied: pillow>=6.2.0 in /opt/conda/lib/python3.8/site-packages (from matplotlib>=2.2->seaborn) (9.1.0)\n",
      "Requirement already satisfied: kiwisolver>=1.0.1 in /opt/conda/lib/python3.8/site-packages (from matplotlib>=2.2->seaborn) (1.4.2)\n",
      "Requirement already satisfied: packaging>=20.0 in /opt/conda/lib/python3.8/site-packages (from matplotlib>=2.2->seaborn) (21.3)\n",
      "Requirement already satisfied: pytz>=2017.3 in /opt/conda/lib/python3.8/site-packages (from pandas>=0.23->seaborn) (2022.1)\n",
      "Requirement already satisfied: six>=1.5 in /opt/conda/lib/python3.8/site-packages (from python-dateutil>=2.7->matplotlib>=2.2->seaborn) (1.16.0)\n",
      "\u001b[33mWARNING: Running pip as the 'root' user can result in broken permissions and conflicting behaviour with the system package manager. It is recommended to use a virtual environment instead: https://pip.pypa.io/warnings/venv\u001b[0m\u001b[33m\n",
      "\u001b[0m\u001b[33mWARNING: There was an error checking the latest version of pip.\u001b[0m\u001b[33m\n",
      "\u001b[0m"
     ]
    }
   ],
   "source": [
    "import pandas as pd\n",
    "import numpy as np\n",
    "import xgboost as xgb\n",
    "from sklearn.metrics import mean_squared_error\n",
    "from sklearn.experimental import enable_hist_gradient_boosting\n",
    "from sklearn.ensemble import HistGradientBoostingRegressor\n",
    "from sklearn.linear_model import Ridge\n",
    "from sklearn.neural_network import MLPRegressor\n",
    "from sklearn.model_selection import train_test_split, KFold\n",
    "from sklearn.preprocessing import LabelEncoder\n",
    "import matplotlib.pyplot as plt\n",
    "!pip install seaborn\n",
    "import seaborn as sns"
   ]
  },
  {
   "cell_type": "code",
   "execution_count": 2,
   "id": "6ca80a59-362d-40dd-b151-a7d34b8293d2",
   "metadata": {},
   "outputs": [],
   "source": [
    "train = pd.read_csv('../../input/Allstate/train.csv.zip')\n",
    "test = pd.read_csv('../../input/Allstate/test.csv.zip')\n",
    "submission = pd.read_csv('../../input/Allstate/sample_submission.csv.zip')"
   ]
  },
  {
   "cell_type": "code",
   "execution_count": 3,
   "id": "0c766da0-2b08-4b7c-a007-f23dc925d2a0",
   "metadata": {},
   "outputs": [
    {
     "data": {
      "text/html": [
       "<div>\n",
       "<style scoped>\n",
       "    .dataframe tbody tr th:only-of-type {\n",
       "        vertical-align: middle;\n",
       "    }\n",
       "\n",
       "    .dataframe tbody tr th {\n",
       "        vertical-align: top;\n",
       "    }\n",
       "\n",
       "    .dataframe thead th {\n",
       "        text-align: right;\n",
       "    }\n",
       "</style>\n",
       "<table border=\"1\" class=\"dataframe\">\n",
       "  <thead>\n",
       "    <tr style=\"text-align: right;\">\n",
       "      <th></th>\n",
       "      <th>id</th>\n",
       "      <th>cat1</th>\n",
       "      <th>cat2</th>\n",
       "      <th>cat3</th>\n",
       "      <th>cat4</th>\n",
       "      <th>cat5</th>\n",
       "      <th>cat6</th>\n",
       "      <th>cat7</th>\n",
       "      <th>cat8</th>\n",
       "      <th>cat9</th>\n",
       "      <th>...</th>\n",
       "      <th>cont6</th>\n",
       "      <th>cont7</th>\n",
       "      <th>cont8</th>\n",
       "      <th>cont9</th>\n",
       "      <th>cont10</th>\n",
       "      <th>cont11</th>\n",
       "      <th>cont12</th>\n",
       "      <th>cont13</th>\n",
       "      <th>cont14</th>\n",
       "      <th>loss</th>\n",
       "    </tr>\n",
       "  </thead>\n",
       "  <tbody>\n",
       "    <tr>\n",
       "      <th>0</th>\n",
       "      <td>1</td>\n",
       "      <td>A</td>\n",
       "      <td>B</td>\n",
       "      <td>A</td>\n",
       "      <td>B</td>\n",
       "      <td>A</td>\n",
       "      <td>A</td>\n",
       "      <td>A</td>\n",
       "      <td>A</td>\n",
       "      <td>B</td>\n",
       "      <td>...</td>\n",
       "      <td>0.718367</td>\n",
       "      <td>0.335060</td>\n",
       "      <td>0.30260</td>\n",
       "      <td>0.67135</td>\n",
       "      <td>0.83510</td>\n",
       "      <td>0.569745</td>\n",
       "      <td>0.594646</td>\n",
       "      <td>0.822493</td>\n",
       "      <td>0.714843</td>\n",
       "      <td>2213.18</td>\n",
       "    </tr>\n",
       "    <tr>\n",
       "      <th>1</th>\n",
       "      <td>2</td>\n",
       "      <td>A</td>\n",
       "      <td>B</td>\n",
       "      <td>A</td>\n",
       "      <td>A</td>\n",
       "      <td>A</td>\n",
       "      <td>A</td>\n",
       "      <td>A</td>\n",
       "      <td>A</td>\n",
       "      <td>B</td>\n",
       "      <td>...</td>\n",
       "      <td>0.438917</td>\n",
       "      <td>0.436585</td>\n",
       "      <td>0.60087</td>\n",
       "      <td>0.35127</td>\n",
       "      <td>0.43919</td>\n",
       "      <td>0.338312</td>\n",
       "      <td>0.366307</td>\n",
       "      <td>0.611431</td>\n",
       "      <td>0.304496</td>\n",
       "      <td>1283.60</td>\n",
       "    </tr>\n",
       "    <tr>\n",
       "      <th>2</th>\n",
       "      <td>5</td>\n",
       "      <td>A</td>\n",
       "      <td>B</td>\n",
       "      <td>A</td>\n",
       "      <td>A</td>\n",
       "      <td>B</td>\n",
       "      <td>A</td>\n",
       "      <td>A</td>\n",
       "      <td>A</td>\n",
       "      <td>B</td>\n",
       "      <td>...</td>\n",
       "      <td>0.289648</td>\n",
       "      <td>0.315545</td>\n",
       "      <td>0.27320</td>\n",
       "      <td>0.26076</td>\n",
       "      <td>0.32446</td>\n",
       "      <td>0.381398</td>\n",
       "      <td>0.373424</td>\n",
       "      <td>0.195709</td>\n",
       "      <td>0.774425</td>\n",
       "      <td>3005.09</td>\n",
       "    </tr>\n",
       "    <tr>\n",
       "      <th>3</th>\n",
       "      <td>10</td>\n",
       "      <td>B</td>\n",
       "      <td>B</td>\n",
       "      <td>A</td>\n",
       "      <td>B</td>\n",
       "      <td>A</td>\n",
       "      <td>A</td>\n",
       "      <td>A</td>\n",
       "      <td>A</td>\n",
       "      <td>B</td>\n",
       "      <td>...</td>\n",
       "      <td>0.440945</td>\n",
       "      <td>0.391128</td>\n",
       "      <td>0.31796</td>\n",
       "      <td>0.32128</td>\n",
       "      <td>0.44467</td>\n",
       "      <td>0.327915</td>\n",
       "      <td>0.321570</td>\n",
       "      <td>0.605077</td>\n",
       "      <td>0.602642</td>\n",
       "      <td>939.85</td>\n",
       "    </tr>\n",
       "    <tr>\n",
       "      <th>4</th>\n",
       "      <td>11</td>\n",
       "      <td>A</td>\n",
       "      <td>B</td>\n",
       "      <td>A</td>\n",
       "      <td>B</td>\n",
       "      <td>A</td>\n",
       "      <td>A</td>\n",
       "      <td>A</td>\n",
       "      <td>A</td>\n",
       "      <td>B</td>\n",
       "      <td>...</td>\n",
       "      <td>0.178193</td>\n",
       "      <td>0.247408</td>\n",
       "      <td>0.24564</td>\n",
       "      <td>0.22089</td>\n",
       "      <td>0.21230</td>\n",
       "      <td>0.204687</td>\n",
       "      <td>0.202213</td>\n",
       "      <td>0.246011</td>\n",
       "      <td>0.432606</td>\n",
       "      <td>2763.85</td>\n",
       "    </tr>\n",
       "  </tbody>\n",
       "</table>\n",
       "<p>5 rows × 132 columns</p>\n",
       "</div>"
      ],
      "text/plain": [
       "   id cat1 cat2 cat3 cat4 cat5 cat6 cat7 cat8 cat9  ...     cont6     cont7  \\\n",
       "0   1    A    B    A    B    A    A    A    A    B  ...  0.718367  0.335060   \n",
       "1   2    A    B    A    A    A    A    A    A    B  ...  0.438917  0.436585   \n",
       "2   5    A    B    A    A    B    A    A    A    B  ...  0.289648  0.315545   \n",
       "3  10    B    B    A    B    A    A    A    A    B  ...  0.440945  0.391128   \n",
       "4  11    A    B    A    B    A    A    A    A    B  ...  0.178193  0.247408   \n",
       "\n",
       "     cont8    cont9   cont10    cont11    cont12    cont13    cont14     loss  \n",
       "0  0.30260  0.67135  0.83510  0.569745  0.594646  0.822493  0.714843  2213.18  \n",
       "1  0.60087  0.35127  0.43919  0.338312  0.366307  0.611431  0.304496  1283.60  \n",
       "2  0.27320  0.26076  0.32446  0.381398  0.373424  0.195709  0.774425  3005.09  \n",
       "3  0.31796  0.32128  0.44467  0.327915  0.321570  0.605077  0.602642   939.85  \n",
       "4  0.24564  0.22089  0.21230  0.204687  0.202213  0.246011  0.432606  2763.85  \n",
       "\n",
       "[5 rows x 132 columns]"
      ]
     },
     "execution_count": 3,
     "metadata": {},
     "output_type": "execute_result"
    }
   ],
   "source": [
    "train.head()"
   ]
  },
  {
   "cell_type": "code",
   "execution_count": 4,
   "id": "0ea957dd",
   "metadata": {},
   "outputs": [
    {
     "data": {
      "text/plain": [
       "(116, 14)"
      ]
     },
     "execution_count": 4,
     "metadata": {},
     "output_type": "execute_result"
    }
   ],
   "source": [
    "cats = [col for col in train.columns if col.startswith('cat')]\n",
    "conts = [col for col in train.columns if col.startswith('cont')]\n",
    "\n",
    "len(cats), len(conts)"
   ]
  },
  {
   "cell_type": "code",
   "execution_count": 5,
   "id": "0d8d88ca",
   "metadata": {},
   "outputs": [
    {
     "data": {
      "text/plain": [
       "<AxesSubplot:>"
      ]
     },
     "execution_count": 5,
     "metadata": {},
     "output_type": "execute_result"
    },
    {
     "data": {
      "image/png": "[encoded data removed]",
      "text/plain": [
       "<Figure size 432x288 with 1 Axes>"
      ]
     },
     "metadata": {
      "needs_background": "light"
     },
     "output_type": "display_data"
    }
   ],
   "source": [
    "train[cats].nunique().hist()"
   ]
  },
  {
   "cell_type": "code",
   "execution_count": 6,
   "id": "a8ca475f",
   "metadata": {},
   "outputs": [
    {
     "data": {
      "text/plain": [
       "(188318, 125546)"
      ]
     },
     "execution_count": 6,
     "metadata": {},
     "output_type": "execute_result"
    }
   ],
   "source": [
    "len(train), len(test)"
   ]
  },
  {
   "cell_type": "code",
   "execution_count": 9,
   "id": "83ecd002",
   "metadata": {},
   "outputs": [],
   "source": [
    "def plot_loss(loss):\n",
    "    loss.sort()\n",
    "\n",
    "    fig, (ax1, ax2, ax3) = a = plt.subplots(ncols=3, figsize=(15,4))\n",
    "    plt.tight_layout(pad=3)\n",
    "\n",
    "    ax1.hist(loss)\n",
    "    ax2.plot(loss)\n",
    "    sns.histplot(loss, label='loss', kde=True, linewidth=0, stat='density')\n",
    "    \n",
    "    print(loss.min(), loss.max())"
   ]
  },
  {
   "cell_type": "code",
   "execution_count": 11,
   "id": "4b9b3676",
   "metadata": {},
   "outputs": [
    {
     "data": {
      "text/plain": [
       "0.010938943701611104"
      ]
     },
     "execution_count": 11,
     "metadata": {},
     "output_type": "execute_result"
    }
   ],
   "source": [
    "((train['loss'].values) < 400).mean()"
   ]
  },
  {
   "cell_type": "code",
   "execution_count": 12,
   "id": "161d82d9",
   "metadata": {},
   "outputs": [
    {
     "name": "stdout",
     "output_type": "stream",
     "text": [
      "0.67 121012.25\n"
     ]
    },
    {
     "data": {
      "image/png": "[encoded data removed]",
      "text/plain": [
       "<Figure size 1080x288 with 3 Axes>"
      ]
     },
     "metadata": {
      "needs_background": "light"
     },
     "output_type": "display_data"
    }
   ],
   "source": [
    "plot_loss(train['loss'].values)"
   ]
  },
  {
   "cell_type": "code",
   "execution_count": 13,
   "id": "5d4a1dbc",
   "metadata": {},
   "outputs": [
    {
     "name": "stdout",
     "output_type": "stream",
     "text": [
      "-0.40047756659712525 11.703647059123911\n"
     ]
    },
    {
     "data": {
      "image/png": "[encoded data removed]",
      "text/plain": [
       "<Figure size 1080x288 with 3 Axes>"
      ]
     },
     "metadata": {
      "needs_background": "light"
     },
     "output_type": "display_data"
    }
   ],
   "source": [
    "plot_loss(np.log(train['loss'].values))"
   ]
  },
  {
   "cell_type": "code",
   "execution_count": 14,
   "id": "ccc4a9b2",
   "metadata": {},
   "outputs": [
    {
     "name": "stdout",
     "output_type": "stream",
     "text": [
      "5.301661767798426 11.70529842011712\n"
     ]
    },
    {
     "data": {
      "image/png": "[encoded data removed]",
      "text/plain": [
       "<Figure size 1080x288 with 3 Axes>"
      ]
     },
     "metadata": {
      "needs_background": "light"
     },
     "output_type": "display_data"
    }
   ],
   "source": [
    "plot_loss(np.log(train['loss'].values+200))"
   ]
  },
  {
   "cell_type": "code",
   "execution_count": 15,
   "id": "523d41de",
   "metadata": {},
   "outputs": [
    {
     "name": "stdout",
     "output_type": "stream",
     "text": [
      "9.210407369731783 11.783046109261749\n"
     ]
    },
    {
     "data": {
      "image/png": "[encoded data removed]",
      "text/plain": [
       "<Figure size 1080x288 with 3 Axes>"
      ]
     },
     "metadata": {
      "needs_background": "light"
     },
     "output_type": "display_data"
    }
   ],
   "source": [
    "plot_loss(np.log(train['loss'].values+10000))"
   ]
  },
  {
   "cell_type": "code",
   "execution_count": 17,
   "id": "200d6142",
   "metadata": {},
   "outputs": [],
   "source": [
    "from sklearn.preprocessing import StandardScaler, FunctionTransformer\n",
    "from sklearn.model_selection import train_test_split\n",
    "from sklearn.pipeline import Pipeline, FeatureUnion\n",
    "from sklearn.base import TransformerMixin"
   ]
  },
  {
   "cell_type": "code",
   "execution_count": 31,
   "id": "ba9ca9ed",
   "metadata": {},
   "outputs": [],
   "source": [
    "c_selector = ColumnSelector(cats)"
   ]
  },
  {
   "cell_type": "code",
   "execution_count": 32,
   "id": "185c670d",
   "metadata": {},
   "outputs": [
    {
     "data": {
      "text/html": [
       "<div>\n",
       "<style scoped>\n",
       "    .dataframe tbody tr th:only-of-type {\n",
       "        vertical-align: middle;\n",
       "    }\n",
       "\n",
       "    .dataframe tbody tr th {\n",
       "        vertical-align: top;\n",
       "    }\n",
       "\n",
       "    .dataframe thead th {\n",
       "        text-align: right;\n",
       "    }\n",
       "</style>\n",
       "<table border=\"1\" class=\"dataframe\">\n",
       "  <thead>\n",
       "    <tr style=\"text-align: right;\">\n",
       "      <th></th>\n",
       "      <th>cat1</th>\n",
       "      <th>cat2</th>\n",
       "      <th>cat3</th>\n",
       "      <th>cat4</th>\n",
       "      <th>cat5</th>\n",
       "      <th>cat6</th>\n",
       "      <th>cat7</th>\n",
       "      <th>cat8</th>\n",
       "      <th>cat9</th>\n",
       "      <th>cat10</th>\n",
       "      <th>...</th>\n",
       "      <th>cat107</th>\n",
       "      <th>cat108</th>\n",
       "      <th>cat109</th>\n",
       "      <th>cat110</th>\n",
       "      <th>cat111</th>\n",
       "      <th>cat112</th>\n",
       "      <th>cat113</th>\n",
       "      <th>cat114</th>\n",
       "      <th>cat115</th>\n",
       "      <th>cat116</th>\n",
       "    </tr>\n",
       "  </thead>\n",
       "  <tbody>\n",
       "    <tr>\n",
       "      <th>0</th>\n",
       "      <td>A</td>\n",
       "      <td>B</td>\n",
       "      <td>A</td>\n",
       "      <td>B</td>\n",
       "      <td>A</td>\n",
       "      <td>A</td>\n",
       "      <td>A</td>\n",
       "      <td>A</td>\n",
       "      <td>B</td>\n",
       "      <td>A</td>\n",
       "      <td>...</td>\n",
       "      <td>J</td>\n",
       "      <td>G</td>\n",
       "      <td>BU</td>\n",
       "      <td>BC</td>\n",
       "      <td>C</td>\n",
       "      <td>AS</td>\n",
       "      <td>S</td>\n",
       "      <td>A</td>\n",
       "      <td>O</td>\n",
       "      <td>LB</td>\n",
       "    </tr>\n",
       "    <tr>\n",
       "      <th>1</th>\n",
       "      <td>A</td>\n",
       "      <td>B</td>\n",
       "      <td>A</td>\n",
       "      <td>A</td>\n",
       "      <td>A</td>\n",
       "      <td>A</td>\n",
       "      <td>A</td>\n",
       "      <td>A</td>\n",
       "      <td>B</td>\n",
       "      <td>B</td>\n",
       "      <td>...</td>\n",
       "      <td>K</td>\n",
       "      <td>K</td>\n",
       "      <td>BI</td>\n",
       "      <td>CQ</td>\n",
       "      <td>A</td>\n",
       "      <td>AV</td>\n",
       "      <td>BM</td>\n",
       "      <td>A</td>\n",
       "      <td>O</td>\n",
       "      <td>DP</td>\n",
       "    </tr>\n",
       "    <tr>\n",
       "      <th>2</th>\n",
       "      <td>A</td>\n",
       "      <td>B</td>\n",
       "      <td>A</td>\n",
       "      <td>A</td>\n",
       "      <td>B</td>\n",
       "      <td>A</td>\n",
       "      <td>A</td>\n",
       "      <td>A</td>\n",
       "      <td>B</td>\n",
       "      <td>B</td>\n",
       "      <td>...</td>\n",
       "      <td>F</td>\n",
       "      <td>A</td>\n",
       "      <td>AB</td>\n",
       "      <td>DK</td>\n",
       "      <td>A</td>\n",
       "      <td>C</td>\n",
       "      <td>AF</td>\n",
       "      <td>A</td>\n",
       "      <td>I</td>\n",
       "      <td>GK</td>\n",
       "    </tr>\n",
       "    <tr>\n",
       "      <th>3</th>\n",
       "      <td>B</td>\n",
       "      <td>B</td>\n",
       "      <td>A</td>\n",
       "      <td>B</td>\n",
       "      <td>A</td>\n",
       "      <td>A</td>\n",
       "      <td>A</td>\n",
       "      <td>A</td>\n",
       "      <td>B</td>\n",
       "      <td>A</td>\n",
       "      <td>...</td>\n",
       "      <td>K</td>\n",
       "      <td>K</td>\n",
       "      <td>BI</td>\n",
       "      <td>CS</td>\n",
       "      <td>C</td>\n",
       "      <td>N</td>\n",
       "      <td>AE</td>\n",
       "      <td>A</td>\n",
       "      <td>O</td>\n",
       "      <td>DJ</td>\n",
       "    </tr>\n",
       "    <tr>\n",
       "      <th>4</th>\n",
       "      <td>A</td>\n",
       "      <td>B</td>\n",
       "      <td>A</td>\n",
       "      <td>B</td>\n",
       "      <td>A</td>\n",
       "      <td>A</td>\n",
       "      <td>A</td>\n",
       "      <td>A</td>\n",
       "      <td>B</td>\n",
       "      <td>B</td>\n",
       "      <td>...</td>\n",
       "      <td>G</td>\n",
       "      <td>B</td>\n",
       "      <td>H</td>\n",
       "      <td>C</td>\n",
       "      <td>C</td>\n",
       "      <td>Y</td>\n",
       "      <td>BM</td>\n",
       "      <td>A</td>\n",
       "      <td>K</td>\n",
       "      <td>CK</td>\n",
       "    </tr>\n",
       "    <tr>\n",
       "      <th>...</th>\n",
       "      <td>...</td>\n",
       "      <td>...</td>\n",
       "      <td>...</td>\n",
       "      <td>...</td>\n",
       "      <td>...</td>\n",
       "      <td>...</td>\n",
       "      <td>...</td>\n",
       "      <td>...</td>\n",
       "      <td>...</td>\n",
       "      <td>...</td>\n",
       "      <td>...</td>\n",
       "      <td>...</td>\n",
       "      <td>...</td>\n",
       "      <td>...</td>\n",
       "      <td>...</td>\n",
       "      <td>...</td>\n",
       "      <td>...</td>\n",
       "      <td>...</td>\n",
       "      <td>...</td>\n",
       "      <td>...</td>\n",
       "      <td>...</td>\n",
       "    </tr>\n",
       "    <tr>\n",
       "      <th>188313</th>\n",
       "      <td>A</td>\n",
       "      <td>B</td>\n",
       "      <td>A</td>\n",
       "      <td>A</td>\n",
       "      <td>A</td>\n",
       "      <td>A</td>\n",
       "      <td>A</td>\n",
       "      <td>A</td>\n",
       "      <td>B</td>\n",
       "      <td>A</td>\n",
       "      <td>...</td>\n",
       "      <td>G</td>\n",
       "      <td>B</td>\n",
       "      <td>BI</td>\n",
       "      <td>EG</td>\n",
       "      <td>A</td>\n",
       "      <td>G</td>\n",
       "      <td>BM</td>\n",
       "      <td>A</td>\n",
       "      <td>L</td>\n",
       "      <td>CK</td>\n",
       "    </tr>\n",
       "    <tr>\n",
       "      <th>188314</th>\n",
       "      <td>A</td>\n",
       "      <td>A</td>\n",
       "      <td>A</td>\n",
       "      <td>A</td>\n",
       "      <td>A</td>\n",
       "      <td>B</td>\n",
       "      <td>A</td>\n",
       "      <td>A</td>\n",
       "      <td>A</td>\n",
       "      <td>A</td>\n",
       "      <td>...</td>\n",
       "      <td>F</td>\n",
       "      <td>B</td>\n",
       "      <td>BI</td>\n",
       "      <td>BT</td>\n",
       "      <td>A</td>\n",
       "      <td>AV</td>\n",
       "      <td>AU</td>\n",
       "      <td>E</td>\n",
       "      <td>J</td>\n",
       "      <td>DF</td>\n",
       "    </tr>\n",
       "    <tr>\n",
       "      <th>188315</th>\n",
       "      <td>A</td>\n",
       "      <td>B</td>\n",
       "      <td>A</td>\n",
       "      <td>A</td>\n",
       "      <td>A</td>\n",
       "      <td>A</td>\n",
       "      <td>A</td>\n",
       "      <td>B</td>\n",
       "      <td>B</td>\n",
       "      <td>A</td>\n",
       "      <td>...</td>\n",
       "      <td>F</td>\n",
       "      <td>B</td>\n",
       "      <td>BI</td>\n",
       "      <td>DM</td>\n",
       "      <td>A</td>\n",
       "      <td>W</td>\n",
       "      <td>AF</td>\n",
       "      <td>A</td>\n",
       "      <td>K</td>\n",
       "      <td>DJ</td>\n",
       "    </tr>\n",
       "    <tr>\n",
       "      <th>188316</th>\n",
       "      <td>A</td>\n",
       "      <td>B</td>\n",
       "      <td>A</td>\n",
       "      <td>A</td>\n",
       "      <td>A</td>\n",
       "      <td>A</td>\n",
       "      <td>A</td>\n",
       "      <td>A</td>\n",
       "      <td>B</td>\n",
       "      <td>B</td>\n",
       "      <td>...</td>\n",
       "      <td>J</td>\n",
       "      <td>K</td>\n",
       "      <td>BI</td>\n",
       "      <td>AI</td>\n",
       "      <td>A</td>\n",
       "      <td>AS</td>\n",
       "      <td>AJ</td>\n",
       "      <td>A</td>\n",
       "      <td>O</td>\n",
       "      <td>MD</td>\n",
       "    </tr>\n",
       "    <tr>\n",
       "      <th>188317</th>\n",
       "      <td>B</td>\n",
       "      <td>A</td>\n",
       "      <td>A</td>\n",
       "      <td>B</td>\n",
       "      <td>A</td>\n",
       "      <td>A</td>\n",
       "      <td>A</td>\n",
       "      <td>A</td>\n",
       "      <td>A</td>\n",
       "      <td>A</td>\n",
       "      <td>...</td>\n",
       "      <td>G</td>\n",
       "      <td>G</td>\n",
       "      <td>BI</td>\n",
       "      <td>EG</td>\n",
       "      <td>K</td>\n",
       "      <td>AS</td>\n",
       "      <td>AD</td>\n",
       "      <td>A</td>\n",
       "      <td>O</td>\n",
       "      <td>MJ</td>\n",
       "    </tr>\n",
       "  </tbody>\n",
       "</table>\n",
       "<p>188318 rows × 116 columns</p>\n",
       "</div>"
      ],
      "text/plain": [
       "       cat1 cat2 cat3 cat4 cat5 cat6 cat7 cat8 cat9 cat10  ... cat107 cat108  \\\n",
       "0         A    B    A    B    A    A    A    A    B     A  ...      J      G   \n",
       "1         A    B    A    A    A    A    A    A    B     B  ...      K      K   \n",
       "2         A    B    A    A    B    A    A    A    B     B  ...      F      A   \n",
       "3         B    B    A    B    A    A    A    A    B     A  ...      K      K   \n",
       "4         A    B    A    B    A    A    A    A    B     B  ...      G      B   \n",
       "...     ...  ...  ...  ...  ...  ...  ...  ...  ...   ...  ...    ...    ...   \n",
       "188313    A    B    A    A    A    A    A    A    B     A  ...      G      B   \n",
       "188314    A    A    A    A    A    B    A    A    A     A  ...      F      B   \n",
       "188315    A    B    A    A    A    A    A    B    B     A  ...      F      B   \n",
       "188316    A    B    A    A    A    A    A    A    B     B  ...      J      K   \n",
       "188317    B    A    A    B    A    A    A    A    A     A  ...      G      G   \n",
       "\n",
       "       cat109 cat110 cat111 cat112 cat113 cat114 cat115 cat116  \n",
       "0          BU     BC      C     AS      S      A      O     LB  \n",
       "1          BI     CQ      A     AV     BM      A      O     DP  \n",
       "2          AB     DK      A      C     AF      A      I     GK  \n",
       "3          BI     CS      C      N     AE      A      O     DJ  \n",
       "4           H      C      C      Y     BM      A      K     CK  \n",
       "...       ...    ...    ...    ...    ...    ...    ...    ...  \n",
       "188313     BI     EG      A      G     BM      A      L     CK  \n",
       "188314     BI     BT      A     AV     AU      E      J     DF  \n",
       "188315     BI     DM      A      W     AF      A      K     DJ  \n",
       "188316     BI     AI      A     AS     AJ      A      O     MD  \n",
       "188317     BI     EG      K     AS     AD      A      O     MJ  \n",
       "\n",
       "[188318 rows x 116 columns]"
      ]
     },
     "execution_count": 32,
     "metadata": {},
     "output_type": "execute_result"
    }
   ],
   "source": [
    "c_selector.fit_transform(train)"
   ]
  },
  {
   "cell_type": "code",
   "execution_count": 29,
   "id": "fba241ff",
   "metadata": {},
   "outputs": [],
   "source": [
    "class ColumnSelector(TransformerMixin):\n",
    "    def __init__(self, cols):\n",
    "        self.cols = cols\n",
    "    def fit(self, X):\n",
    "        return self\n",
    "    def transform(self, X):\n",
    "        return X[self.cols]"
   ]
  },
  {
   "cell_type": "code",
   "execution_count": null,
   "id": "e0c4b177",
   "metadata": {},
   "outputs": [],
   "source": []
  },
  {
   "cell_type": "code",
   "execution_count": 51,
   "id": "0ec64489",
   "metadata": {},
   "outputs": [],
   "source": [
    "train_X = train.drop(columns='loss')\n",
    "train_y = np.log(train['loss']+200)\n",
    "test_X = test"
   ]
  },
  {
   "cell_type": "code",
   "execution_count": 49,
   "id": "cb9e6af3",
   "metadata": {},
   "outputs": [],
   "source": [
    "process_cats = Pipeline([('select cats', ColumnSelector(cats)), ('to_dummies', FunctionTransformer(pd.get_dummies))])\n",
    "process_conts = Pipeline([('select conts', ColumnSelector(conts)), ('scale', StandardScaler())])"
   ]
  },
  {
   "cell_type": "code",
   "execution_count": 102,
   "id": "5e527e6b",
   "metadata": {},
   "outputs": [],
   "source": [
    "union = FeatureUnion([('cats', process_cats), ('conts', process_conts)])"
   ]
  },
  {
   "cell_type": "code",
   "execution_count": 105,
   "id": "e1af4c01",
   "metadata": {},
   "outputs": [
    {
     "data": {
      "text/plain": [
       "(188318, 1153)"
      ]
     },
     "execution_count": 105,
     "metadata": {},
     "output_type": "execute_result"
    }
   ],
   "source": [
    "union.fit_transform(train_X)"
   ]
  },
  {
   "cell_type": "code",
   "execution_count": 114,
   "id": "ff4362e4",
   "metadata": {},
   "outputs": [],
   "source": [
    "X_train, X_valid, y_train, y_valid = train_test_split(union.fit_transform(train_X), train_y, test_size=0.2)"
   ]
  },
  {
   "cell_type": "code",
   "execution_count": 115,
   "id": "6b1b4e48",
   "metadata": {},
   "outputs": [],
   "source": [
    "rf = RandomForestRegressor(criterion='mae', n_jobs=-1)"
   ]
  },
  {
   "cell_type": "code",
   "execution_count": 116,
   "id": "9e8f699f",
   "metadata": {},
   "outputs": [
    {
     "ename": "KeyboardInterrupt",
     "evalue": "",
     "output_type": "error",
     "traceback": [
      "\u001b[0;31m---------------------------------------------------------------------------\u001b[0m",
      "\u001b[0;31mKeyboardInterrupt\u001b[0m                         Traceback (most recent call last)",
      "File \u001b[0;32m<timed eval>:1\u001b[0m, in \u001b[0;36m<module>\u001b[0;34m\u001b[0m\n",
      "File \u001b[0;32m/opt/conda/lib/python3.8/site-packages/sklearn/ensemble/_forest.py:387\u001b[0m, in \u001b[0;36mBaseForest.fit\u001b[0;34m(self, X, y, sample_weight)\u001b[0m\n\u001b[1;32m    377\u001b[0m trees \u001b[38;5;241m=\u001b[39m [\u001b[38;5;28mself\u001b[39m\u001b[38;5;241m.\u001b[39m_make_estimator(append\u001b[38;5;241m=\u001b[39m\u001b[38;5;28;01mFalse\u001b[39;00m,\n\u001b[1;32m    378\u001b[0m                               random_state\u001b[38;5;241m=\u001b[39mrandom_state)\n\u001b[1;32m    379\u001b[0m          \u001b[38;5;28;01mfor\u001b[39;00m i \u001b[38;5;129;01min\u001b[39;00m \u001b[38;5;28mrange\u001b[39m(n_more_estimators)]\n\u001b[1;32m    381\u001b[0m \u001b[38;5;66;03m# Parallel loop: we prefer the threading backend as the Cython code\u001b[39;00m\n\u001b[1;32m    382\u001b[0m \u001b[38;5;66;03m# for fitting the trees is internally releasing the Python GIL\u001b[39;00m\n\u001b[1;32m    383\u001b[0m \u001b[38;5;66;03m# making threading more efficient than multiprocessing in\u001b[39;00m\n\u001b[1;32m    384\u001b[0m \u001b[38;5;66;03m# that case. However, for joblib 0.12+ we respect any\u001b[39;00m\n\u001b[1;32m    385\u001b[0m \u001b[38;5;66;03m# parallel_backend contexts set at a higher level,\u001b[39;00m\n\u001b[1;32m    386\u001b[0m \u001b[38;5;66;03m# since correctness does not rely on using threads.\u001b[39;00m\n\u001b[0;32m--> 387\u001b[0m trees \u001b[38;5;241m=\u001b[39m \u001b[43mParallel\u001b[49m\u001b[43m(\u001b[49m\u001b[43mn_jobs\u001b[49m\u001b[38;5;241;43m=\u001b[39;49m\u001b[38;5;28;43mself\u001b[39;49m\u001b[38;5;241;43m.\u001b[39;49m\u001b[43mn_jobs\u001b[49m\u001b[43m,\u001b[49m\u001b[43m \u001b[49m\u001b[43mverbose\u001b[49m\u001b[38;5;241;43m=\u001b[39;49m\u001b[38;5;28;43mself\u001b[39;49m\u001b[38;5;241;43m.\u001b[39;49m\u001b[43mverbose\u001b[49m\u001b[43m,\u001b[49m\n\u001b[1;32m    388\u001b[0m \u001b[43m                 \u001b[49m\u001b[38;5;241;43m*\u001b[39;49m\u001b[38;5;241;43m*\u001b[39;49m\u001b[43m_joblib_parallel_args\u001b[49m\u001b[43m(\u001b[49m\u001b[43mprefer\u001b[49m\u001b[38;5;241;43m=\u001b[39;49m\u001b[38;5;124;43m'\u001b[39;49m\u001b[38;5;124;43mthreads\u001b[39;49m\u001b[38;5;124;43m'\u001b[39;49m\u001b[43m)\u001b[49m\u001b[43m)\u001b[49m\u001b[43m(\u001b[49m\n\u001b[1;32m    389\u001b[0m \u001b[43m    \u001b[49m\u001b[43mdelayed\u001b[49m\u001b[43m(\u001b[49m\u001b[43m_parallel_build_trees\u001b[49m\u001b[43m)\u001b[49m\u001b[43m(\u001b[49m\n\u001b[1;32m    390\u001b[0m \u001b[43m        \u001b[49m\u001b[43mt\u001b[49m\u001b[43m,\u001b[49m\u001b[43m \u001b[49m\u001b[38;5;28;43mself\u001b[39;49m\u001b[43m,\u001b[49m\u001b[43m \u001b[49m\u001b[43mX\u001b[49m\u001b[43m,\u001b[49m\u001b[43m \u001b[49m\u001b[43my\u001b[49m\u001b[43m,\u001b[49m\u001b[43m \u001b[49m\u001b[43msample_weight\u001b[49m\u001b[43m,\u001b[49m\u001b[43m \u001b[49m\u001b[43mi\u001b[49m\u001b[43m,\u001b[49m\u001b[43m \u001b[49m\u001b[38;5;28;43mlen\u001b[39;49m\u001b[43m(\u001b[49m\u001b[43mtrees\u001b[49m\u001b[43m)\u001b[49m\u001b[43m,\u001b[49m\n\u001b[1;32m    391\u001b[0m \u001b[43m        \u001b[49m\u001b[43mverbose\u001b[49m\u001b[38;5;241;43m=\u001b[39;49m\u001b[38;5;28;43mself\u001b[39;49m\u001b[38;5;241;43m.\u001b[39;49m\u001b[43mverbose\u001b[49m\u001b[43m,\u001b[49m\u001b[43m \u001b[49m\u001b[43mclass_weight\u001b[49m\u001b[38;5;241;43m=\u001b[39;49m\u001b[38;5;28;43mself\u001b[39;49m\u001b[38;5;241;43m.\u001b[39;49m\u001b[43mclass_weight\u001b[49m\u001b[43m,\u001b[49m\n\u001b[1;32m    392\u001b[0m \u001b[43m        \u001b[49m\u001b[43mn_samples_bootstrap\u001b[49m\u001b[38;5;241;43m=\u001b[39;49m\u001b[43mn_samples_bootstrap\u001b[49m\u001b[43m)\u001b[49m\n\u001b[1;32m    393\u001b[0m \u001b[43m    \u001b[49m\u001b[38;5;28;43;01mfor\u001b[39;49;00m\u001b[43m \u001b[49m\u001b[43mi\u001b[49m\u001b[43m,\u001b[49m\u001b[43m \u001b[49m\u001b[43mt\u001b[49m\u001b[43m \u001b[49m\u001b[38;5;129;43;01min\u001b[39;49;00m\u001b[43m \u001b[49m\u001b[38;5;28;43menumerate\u001b[39;49m\u001b[43m(\u001b[49m\u001b[43mtrees\u001b[49m\u001b[43m)\u001b[49m\u001b[43m)\u001b[49m\n\u001b[1;32m    395\u001b[0m \u001b[38;5;66;03m# Collect newly grown trees\u001b[39;00m\n\u001b[1;32m    396\u001b[0m \u001b[38;5;28mself\u001b[39m\u001b[38;5;241m.\u001b[39mestimators_\u001b[38;5;241m.\u001b[39mextend(trees)\n",
      "File \u001b[0;32m/opt/conda/lib/python3.8/site-packages/joblib/parallel.py:1056\u001b[0m, in \u001b[0;36mParallel.__call__\u001b[0;34m(self, iterable)\u001b[0m\n\u001b[1;32m   1053\u001b[0m     \u001b[38;5;28mself\u001b[39m\u001b[38;5;241m.\u001b[39m_iterating \u001b[38;5;241m=\u001b[39m \u001b[38;5;28;01mFalse\u001b[39;00m\n\u001b[1;32m   1055\u001b[0m \u001b[38;5;28;01mwith\u001b[39;00m \u001b[38;5;28mself\u001b[39m\u001b[38;5;241m.\u001b[39m_backend\u001b[38;5;241m.\u001b[39mretrieval_context():\n\u001b[0;32m-> 1056\u001b[0m     \u001b[38;5;28;43mself\u001b[39;49m\u001b[38;5;241;43m.\u001b[39;49m\u001b[43mretrieve\u001b[49m\u001b[43m(\u001b[49m\u001b[43m)\u001b[49m\n\u001b[1;32m   1057\u001b[0m \u001b[38;5;66;03m# Make sure that we get a last message telling us we are done\u001b[39;00m\n\u001b[1;32m   1058\u001b[0m elapsed_time \u001b[38;5;241m=\u001b[39m time\u001b[38;5;241m.\u001b[39mtime() \u001b[38;5;241m-\u001b[39m \u001b[38;5;28mself\u001b[39m\u001b[38;5;241m.\u001b[39m_start_time\n",
      "File \u001b[0;32m/opt/conda/lib/python3.8/site-packages/joblib/parallel.py:935\u001b[0m, in \u001b[0;36mParallel.retrieve\u001b[0;34m(self)\u001b[0m\n\u001b[1;32m    933\u001b[0m \u001b[38;5;28;01mtry\u001b[39;00m:\n\u001b[1;32m    934\u001b[0m     \u001b[38;5;28;01mif\u001b[39;00m \u001b[38;5;28mgetattr\u001b[39m(\u001b[38;5;28mself\u001b[39m\u001b[38;5;241m.\u001b[39m_backend, \u001b[38;5;124m'\u001b[39m\u001b[38;5;124msupports_timeout\u001b[39m\u001b[38;5;124m'\u001b[39m, \u001b[38;5;28;01mFalse\u001b[39;00m):\n\u001b[0;32m--> 935\u001b[0m         \u001b[38;5;28mself\u001b[39m\u001b[38;5;241m.\u001b[39m_output\u001b[38;5;241m.\u001b[39mextend(\u001b[43mjob\u001b[49m\u001b[38;5;241;43m.\u001b[39;49m\u001b[43mget\u001b[49m\u001b[43m(\u001b[49m\u001b[43mtimeout\u001b[49m\u001b[38;5;241;43m=\u001b[39;49m\u001b[38;5;28;43mself\u001b[39;49m\u001b[38;5;241;43m.\u001b[39;49m\u001b[43mtimeout\u001b[49m\u001b[43m)\u001b[49m)\n\u001b[1;32m    936\u001b[0m     \u001b[38;5;28;01melse\u001b[39;00m:\n\u001b[1;32m    937\u001b[0m         \u001b[38;5;28mself\u001b[39m\u001b[38;5;241m.\u001b[39m_output\u001b[38;5;241m.\u001b[39mextend(job\u001b[38;5;241m.\u001b[39mget())\n",
      "File \u001b[0;32m/opt/conda/lib/python3.8/multiprocessing/pool.py:765\u001b[0m, in \u001b[0;36mApplyResult.get\u001b[0;34m(self, timeout)\u001b[0m\n\u001b[1;32m    764\u001b[0m \u001b[38;5;28;01mdef\u001b[39;00m \u001b[38;5;21mget\u001b[39m(\u001b[38;5;28mself\u001b[39m, timeout\u001b[38;5;241m=\u001b[39m\u001b[38;5;28;01mNone\u001b[39;00m):\n\u001b[0;32m--> 765\u001b[0m     \u001b[38;5;28;43mself\u001b[39;49m\u001b[38;5;241;43m.\u001b[39;49m\u001b[43mwait\u001b[49m\u001b[43m(\u001b[49m\u001b[43mtimeout\u001b[49m\u001b[43m)\u001b[49m\n\u001b[1;32m    766\u001b[0m     \u001b[38;5;28;01mif\u001b[39;00m \u001b[38;5;129;01mnot\u001b[39;00m \u001b[38;5;28mself\u001b[39m\u001b[38;5;241m.\u001b[39mready():\n\u001b[1;32m    767\u001b[0m         \u001b[38;5;28;01mraise\u001b[39;00m \u001b[38;5;167;01mTimeoutError\u001b[39;00m\n",
      "File \u001b[0;32m/opt/conda/lib/python3.8/multiprocessing/pool.py:762\u001b[0m, in \u001b[0;36mApplyResult.wait\u001b[0;34m(self, timeout)\u001b[0m\n\u001b[1;32m    761\u001b[0m \u001b[38;5;28;01mdef\u001b[39;00m \u001b[38;5;21mwait\u001b[39m(\u001b[38;5;28mself\u001b[39m, timeout\u001b[38;5;241m=\u001b[39m\u001b[38;5;28;01mNone\u001b[39;00m):\n\u001b[0;32m--> 762\u001b[0m     \u001b[38;5;28;43mself\u001b[39;49m\u001b[38;5;241;43m.\u001b[39;49m\u001b[43m_event\u001b[49m\u001b[38;5;241;43m.\u001b[39;49m\u001b[43mwait\u001b[49m\u001b[43m(\u001b[49m\u001b[43mtimeout\u001b[49m\u001b[43m)\u001b[49m\n",
      "File \u001b[0;32m/opt/conda/lib/python3.8/threading.py:558\u001b[0m, in \u001b[0;36mEvent.wait\u001b[0;34m(self, timeout)\u001b[0m\n\u001b[1;32m    556\u001b[0m signaled \u001b[38;5;241m=\u001b[39m \u001b[38;5;28mself\u001b[39m\u001b[38;5;241m.\u001b[39m_flag\n\u001b[1;32m    557\u001b[0m \u001b[38;5;28;01mif\u001b[39;00m \u001b[38;5;129;01mnot\u001b[39;00m signaled:\n\u001b[0;32m--> 558\u001b[0m     signaled \u001b[38;5;241m=\u001b[39m \u001b[38;5;28;43mself\u001b[39;49m\u001b[38;5;241;43m.\u001b[39;49m\u001b[43m_cond\u001b[49m\u001b[38;5;241;43m.\u001b[39;49m\u001b[43mwait\u001b[49m\u001b[43m(\u001b[49m\u001b[43mtimeout\u001b[49m\u001b[43m)\u001b[49m\n\u001b[1;32m    559\u001b[0m \u001b[38;5;28;01mreturn\u001b[39;00m signaled\n",
      "File \u001b[0;32m/opt/conda/lib/python3.8/threading.py:302\u001b[0m, in \u001b[0;36mCondition.wait\u001b[0;34m(self, timeout)\u001b[0m\n\u001b[1;32m    300\u001b[0m \u001b[38;5;28;01mtry\u001b[39;00m:    \u001b[38;5;66;03m# restore state no matter what (e.g., KeyboardInterrupt)\u001b[39;00m\n\u001b[1;32m    301\u001b[0m     \u001b[38;5;28;01mif\u001b[39;00m timeout \u001b[38;5;129;01mis\u001b[39;00m \u001b[38;5;28;01mNone\u001b[39;00m:\n\u001b[0;32m--> 302\u001b[0m         \u001b[43mwaiter\u001b[49m\u001b[38;5;241;43m.\u001b[39;49m\u001b[43macquire\u001b[49m\u001b[43m(\u001b[49m\u001b[43m)\u001b[49m\n\u001b[1;32m    303\u001b[0m         gotit \u001b[38;5;241m=\u001b[39m \u001b[38;5;28;01mTrue\u001b[39;00m\n\u001b[1;32m    304\u001b[0m     \u001b[38;5;28;01melse\u001b[39;00m:\n",
      "\u001b[0;31mKeyboardInterrupt\u001b[0m: "
     ]
    }
   ],
   "source": [
    "%%time\n",
    "\n",
    "rf.fit(X_train, y_train)"
   ]
  },
  {
   "cell_type": "code",
   "execution_count": null,
   "id": "99ce8499",
   "metadata": {},
   "outputs": [],
   "source": [
    "rf.score(X_)"
   ]
  },
  {
   "cell_type": "code",
   "execution_count": null,
   "id": "a2c658b1",
   "metadata": {},
   "outputs": [],
   "source": [
    "rf.fit(union.fit_transform(train_X))"
   ]
  },
  {
   "cell_type": "code",
   "execution_count": null,
   "id": "6b2bc59d",
   "metadata": {},
   "outputs": [],
   "source": [
    "pipe = Pipeline()"
   ]
  },
  {
   "cell_type": "code",
   "execution_count": 107,
   "id": "8e52e0c1",
   "metadata": {},
   "outputs": [],
   "source": [
    "from sklearn.ensemble import RandomForestRegressor"
   ]
  },
  {
   "cell_type": "code",
   "execution_count": 100,
   "id": "a1e7348d",
   "metadata": {},
   "outputs": [
    {
     "data": {
      "text/plain": [
       "1.0"
      ]
     },
     "execution_count": 100,
     "metadata": {},
     "output_type": "execute_result"
    }
   ],
   "source": [
    "((train_X[conts[0]] - train_X[conts[0]].mean()) / train_X[conts[0]].std()).std()"
   ]
  },
  {
   "cell_type": "code",
   "execution_count": null,
   "id": "38646974",
   "metadata": {},
   "outputs": [],
   "source": []
  },
  {
   "cell_type": "code",
   "execution_count": 90,
   "id": "4549e33d",
   "metadata": {},
   "outputs": [],
   "source": [
    "a = StandardScaler().fit_transform(train_X[conts])"
   ]
  },
  {
   "cell_type": "code",
   "execution_count": 98,
   "id": "0533297e",
   "metadata": {},
   "outputs": [
    {
     "data": {
      "text/plain": [
       "0.9999999999999998"
      ]
     },
     "execution_count": 98,
     "metadata": {},
     "output_type": "execute_result"
    }
   ],
   "source": [
    "a[:, 0].std()"
   ]
  },
  {
   "cell_type": "code",
   "execution_count": 85,
   "id": "6ffc19cc",
   "metadata": {},
   "outputs": [
    {
     "data": {
      "text/plain": [
       "1.254932149536096"
      ]
     },
     "execution_count": 85,
     "metadata": {},
     "output_type": "execute_result"
    }
   ],
   "source": [
    "o[0].var()"
   ]
  },
  {
   "cell_type": "code",
   "execution_count": 73,
   "id": "8647dca7",
   "metadata": {},
   "outputs": [
    {
     "data": {
      "text/plain": [
       "1.254932149536096"
      ]
     },
     "execution_count": 73,
     "metadata": {},
     "output_type": "execute_result"
    }
   ],
   "source": [
    "o[0].var()"
   ]
  },
  {
   "cell_type": "code",
   "execution_count": 56,
   "id": "76af3e7d",
   "metadata": {},
   "outputs": [
    {
     "data": {
      "text/plain": [
       "<__main__.ColumnSelector at 0x7f2da667a940>"
      ]
     },
     "execution_count": 56,
     "metadata": {},
     "output_type": "execute_result"
    }
   ],
   "source": [
    "process_cats.named_steps['select cats']"
   ]
  },
  {
   "cell_type": "code",
   "execution_count": null,
   "id": "1be758d0",
   "metadata": {},
   "outputs": [],
   "source": [
    "process_conts = "
   ]
  },
  {
   "cell_type": "code",
   "execution_count": 44,
   "id": "2cef34b0",
   "metadata": {},
   "outputs": [
    {
     "data": {
      "text/plain": [
       "FeatureUnion(transformer_list=[('select cats',\n",
       "                                <__main__.ColumnSelector object at 0x7f2dbe8b0730>),\n",
       "                               ('select conts',\n",
       "                                <__main__.ColumnSelector object at 0x7f2dbe8b07f0>)])"
      ]
     },
     "execution_count": 44,
     "metadata": {},
     "output_type": "execute_result"
    }
   ],
   "source": [
    "fu"
   ]
  },
  {
   "cell_type": "code",
   "execution_count": 34,
   "id": "acae49f5",
   "metadata": {},
   "outputs": [],
   "source": [
    "fu = FeatureUnion([, ('select conts', ColumnSelector(conts))])"
   ]
  },
  {
   "cell_type": "code",
   "execution_count": 36,
   "id": "297fa696",
   "metadata": {},
   "outputs": [
    {
     "data": {
      "text/plain": [
       "(188318, 132)"
      ]
     },
     "execution_count": 36,
     "metadata": {},
     "output_type": "execute_result"
    }
   ],
   "source": [
    "train.shape"
   ]
  },
  {
   "cell_type": "code",
   "execution_count": 40,
   "id": "9deacd02",
   "metadata": {},
   "outputs": [
    {
     "data": {
      "text/plain": [
       "Index(['id', 'cat1', 'cat2', 'cat3', 'cat4', 'cat5', 'cat6', 'cat7', 'cat8',\n",
       "       'cat9',\n",
       "       ...\n",
       "       'cont6', 'cont7', 'cont8', 'cont9', 'cont10', 'cont11', 'cont12',\n",
       "       'cont13', 'cont14', 'loss'],\n",
       "      dtype='object', length=132)"
      ]
     },
     "execution_count": 40,
     "metadata": {},
     "output_type": "execute_result"
    }
   ],
   "source": [
    "train.columns"
   ]
  },
  {
   "cell_type": "code",
   "execution_count": 37,
   "id": "8c932672",
   "metadata": {},
   "outputs": [
    {
     "data": {
      "text/plain": [
       "(188318, 130)"
      ]
     },
     "execution_count": 37,
     "metadata": {},
     "output_type": "execute_result"
    }
   ],
   "source": [
    "fu.fit_transform(train).shape"
   ]
  },
  {
   "cell_type": "code",
   "execution_count": null,
   "id": "03102ab1",
   "metadata": {},
   "outputs": [],
   "source": []
  },
  {
   "cell_type": "code",
   "execution_count": null,
   "id": "fc3fed4b",
   "metadata": {},
   "outputs": [],
   "source": [
    "Pipeline([('sel_cols', )])"
   ]
  },
  {
   "cell_type": "code",
   "execution_count": null,
   "id": "a316829f",
   "metadata": {},
   "outputs": [],
   "source": []
  },
  {
   "cell_type": "code",
   "execution_count": 108,
   "id": "936d0c83",
   "metadata": {},
   "outputs": [
    {
     "data": {
      "text/html": [
       "<div>\n",
       "<style scoped>\n",
       "    .dataframe tbody tr th:only-of-type {\n",
       "        vertical-align: middle;\n",
       "    }\n",
       "\n",
       "    .dataframe tbody tr th {\n",
       "        vertical-align: top;\n",
       "    }\n",
       "\n",
       "    .dataframe thead th {\n",
       "        text-align: right;\n",
       "    }\n",
       "</style>\n",
       "<table border=\"1\" class=\"dataframe\">\n",
       "  <thead>\n",
       "    <tr style=\"text-align: right;\">\n",
       "      <th></th>\n",
       "      <th>cat1_A</th>\n",
       "      <th>cat1_B</th>\n",
       "      <th>cat2_A</th>\n",
       "      <th>cat2_B</th>\n",
       "      <th>cat3_A</th>\n",
       "      <th>cat3_B</th>\n",
       "      <th>cat4_A</th>\n",
       "      <th>cat4_B</th>\n",
       "      <th>cat5_A</th>\n",
       "      <th>cat5_B</th>\n",
       "    </tr>\n",
       "  </thead>\n",
       "  <tbody>\n",
       "    <tr>\n",
       "      <th>0</th>\n",
       "      <td>1</td>\n",
       "      <td>0</td>\n",
       "      <td>0</td>\n",
       "      <td>1</td>\n",
       "      <td>1</td>\n",
       "      <td>0</td>\n",
       "      <td>0</td>\n",
       "      <td>1</td>\n",
       "      <td>1</td>\n",
       "      <td>0</td>\n",
       "    </tr>\n",
       "    <tr>\n",
       "      <th>1</th>\n",
       "      <td>1</td>\n",
       "      <td>0</td>\n",
       "      <td>0</td>\n",
       "      <td>1</td>\n",
       "      <td>1</td>\n",
       "      <td>0</td>\n",
       "      <td>1</td>\n",
       "      <td>0</td>\n",
       "      <td>1</td>\n",
       "      <td>0</td>\n",
       "    </tr>\n",
       "    <tr>\n",
       "      <th>2</th>\n",
       "      <td>1</td>\n",
       "      <td>0</td>\n",
       "      <td>0</td>\n",
       "      <td>1</td>\n",
       "      <td>1</td>\n",
       "      <td>0</td>\n",
       "      <td>1</td>\n",
       "      <td>0</td>\n",
       "      <td>0</td>\n",
       "      <td>1</td>\n",
       "    </tr>\n",
       "    <tr>\n",
       "      <th>3</th>\n",
       "      <td>0</td>\n",
       "      <td>1</td>\n",
       "      <td>0</td>\n",
       "      <td>1</td>\n",
       "      <td>1</td>\n",
       "      <td>0</td>\n",
       "      <td>0</td>\n",
       "      <td>1</td>\n",
       "      <td>1</td>\n",
       "      <td>0</td>\n",
       "    </tr>\n",
       "    <tr>\n",
       "      <th>4</th>\n",
       "      <td>1</td>\n",
       "      <td>0</td>\n",
       "      <td>0</td>\n",
       "      <td>1</td>\n",
       "      <td>1</td>\n",
       "      <td>0</td>\n",
       "      <td>0</td>\n",
       "      <td>1</td>\n",
       "      <td>1</td>\n",
       "      <td>0</td>\n",
       "    </tr>\n",
       "    <tr>\n",
       "      <th>...</th>\n",
       "      <td>...</td>\n",
       "      <td>...</td>\n",
       "      <td>...</td>\n",
       "      <td>...</td>\n",
       "      <td>...</td>\n",
       "      <td>...</td>\n",
       "      <td>...</td>\n",
       "      <td>...</td>\n",
       "      <td>...</td>\n",
       "      <td>...</td>\n",
       "    </tr>\n",
       "    <tr>\n",
       "      <th>188313</th>\n",
       "      <td>1</td>\n",
       "      <td>0</td>\n",
       "      <td>0</td>\n",
       "      <td>1</td>\n",
       "      <td>1</td>\n",
       "      <td>0</td>\n",
       "      <td>1</td>\n",
       "      <td>0</td>\n",
       "      <td>1</td>\n",
       "      <td>0</td>\n",
       "    </tr>\n",
       "    <tr>\n",
       "      <th>188314</th>\n",
       "      <td>1</td>\n",
       "      <td>0</td>\n",
       "      <td>1</td>\n",
       "      <td>0</td>\n",
       "      <td>1</td>\n",
       "      <td>0</td>\n",
       "      <td>1</td>\n",
       "      <td>0</td>\n",
       "      <td>1</td>\n",
       "      <td>0</td>\n",
       "    </tr>\n",
       "    <tr>\n",
       "      <th>188315</th>\n",
       "      <td>1</td>\n",
       "      <td>0</td>\n",
       "      <td>0</td>\n",
       "      <td>1</td>\n",
       "      <td>1</td>\n",
       "      <td>0</td>\n",
       "      <td>1</td>\n",
       "      <td>0</td>\n",
       "      <td>1</td>\n",
       "      <td>0</td>\n",
       "    </tr>\n",
       "    <tr>\n",
       "      <th>188316</th>\n",
       "      <td>1</td>\n",
       "      <td>0</td>\n",
       "      <td>0</td>\n",
       "      <td>1</td>\n",
       "      <td>1</td>\n",
       "      <td>0</td>\n",
       "      <td>1</td>\n",
       "      <td>0</td>\n",
       "      <td>1</td>\n",
       "      <td>0</td>\n",
       "    </tr>\n",
       "    <tr>\n",
       "      <th>188317</th>\n",
       "      <td>0</td>\n",
       "      <td>1</td>\n",
       "      <td>1</td>\n",
       "      <td>0</td>\n",
       "      <td>1</td>\n",
       "      <td>0</td>\n",
       "      <td>0</td>\n",
       "      <td>1</td>\n",
       "      <td>1</td>\n",
       "      <td>0</td>\n",
       "    </tr>\n",
       "  </tbody>\n",
       "</table>\n",
       "<p>188318 rows × 10 columns</p>\n",
       "</div>"
      ],
      "text/plain": [
       "        cat1_A  cat1_B  cat2_A  cat2_B  cat3_A  cat3_B  cat4_A  cat4_B  \\\n",
       "0            1       0       0       1       1       0       0       1   \n",
       "1            1       0       0       1       1       0       1       0   \n",
       "2            1       0       0       1       1       0       1       0   \n",
       "3            0       1       0       1       1       0       0       1   \n",
       "4            1       0       0       1       1       0       0       1   \n",
       "...        ...     ...     ...     ...     ...     ...     ...     ...   \n",
       "188313       1       0       0       1       1       0       1       0   \n",
       "188314       1       0       1       0       1       0       1       0   \n",
       "188315       1       0       0       1       1       0       1       0   \n",
       "188316       1       0       0       1       1       0       1       0   \n",
       "188317       0       1       1       0       1       0       0       1   \n",
       "\n",
       "        cat5_A  cat5_B  \n",
       "0            1       0  \n",
       "1            1       0  \n",
       "2            0       1  \n",
       "3            1       0  \n",
       "4            1       0  \n",
       "...        ...     ...  \n",
       "188313       1       0  \n",
       "188314       1       0  \n",
       "188315       1       0  \n",
       "188316       1       0  \n",
       "188317       1       0  \n",
       "\n",
       "[188318 rows x 10 columns]"
      ]
     },
     "execution_count": 108,
     "metadata": {},
     "output_type": "execute_result"
    }
   ],
   "source": [
    "dummy = pd.get_dummies(train[cats[:5]])\n",
    "dummy"
   ]
  },
  {
   "cell_type": "code",
   "execution_count": 10,
   "id": "aad66b9e-f5a3-42b1-8762-dd685653fca3",
   "metadata": {},
   "outputs": [
    {
     "name": "stdout",
     "output_type": "stream",
     "text": [
      "[0, 1, 2, 3, 4, 5, 6, 7, 8, 9]\n",
      "[33898, 43407, 3458, 100139, 60086, 117290, 89806, 7751, 164059, 143297]\n",
      "Dim train (188318, 1190)\n",
      "Dim test (125546, 1190)\n"
     ]
    }
   ],
   "source": [
    "np.random.seed(123)\n",
    "index = list(train.index)\n",
    "print(index[0:10])\n",
    "np.random.shuffle(index)\n",
    "print(index[0:10])\n",
    "train = train.iloc[index]\n",
    "'train = train.iloc[np.random.permutation(len(train))]'\n",
    "\n",
    "## set test loss to NaN\n",
    "test['loss'] = np.nan\n",
    "\n",
    "## response and IDs\n",
    "## We are log-transforming the target\n",
    "\n",
    "y = np.log(train['loss'].values+200)\n",
    "id_train = train['id'].values\n",
    "id_test = test['id'].values\n",
    "\n",
    "## stack train test\n",
    "ntrain = train.shape[0]\n",
    "tr_te = pd.concat((train, test), axis = 0)\n",
    "\n",
    "## Preprocessing and transforming to sparse data\n",
    "sparse_data = []\n",
    "\n",
    "f_cat = [f for f in tr_te.columns if 'cat' in f]\n",
    "for f in f_cat:\n",
    "    dummy = pd.get_dummies(tr_te[f].astype('category'))\n",
    "    tmp = csr_matrix(dummy)\n",
    "    sparse_data.append(tmp)\n",
    "\n",
    "f_num = [f for f in tr_te.columns if 'cont' in f]\n",
    "scaler = StandardScaler()\n",
    "tmp = csr_matrix(scaler.fit_transform(tr_te[f_num]))\n",
    "sparse_data.append(tmp)\n",
    "\n",
    "del(tr_te, train, test)\n",
    "\n",
    "## sparse train and test data\n",
    "xtr_te = hstack(sparse_data, format = 'csr')\n",
    "xtrain = xtr_te[:ntrain, :]\n",
    "xtest = xtr_te[ntrain:, :]\n",
    "\n",
    "print('Dim train', xtrain.shape)\n",
    "print('Dim test', xtest.shape)\n",
    "\n",
    "del(xtr_te, sparse_data, tmp)"
   ]
  },
  {
   "cell_type": "code",
   "execution_count": 11,
   "id": "6f054bd2-0ec3-4b21-af8c-c35ab80f018c",
   "metadata": {},
   "outputs": [
    {
     "data": {
      "text/plain": [
       "array([7.56987608, 7.84829365, 7.41602364, ..., 7.33236921, 9.17228019,\n",
       "       6.37051723])"
      ]
     },
     "execution_count": 11,
     "metadata": {},
     "output_type": "execute_result"
    }
   ],
   "source": [
    "y"
   ]
  },
  {
   "cell_type": "code",
   "execution_count": 13,
   "id": "9047024c-9168-419c-8a1f-c8be7481e920",
   "metadata": {},
   "outputs": [
    {
     "name": "stdout",
     "output_type": "stream",
     "text": [
      "Feature shape: (1190,)\n"
     ]
    },
    {
     "name": "stderr",
     "output_type": "stream",
     "text": [
      "2022-06-06 07:24:02.546268: I tensorflow/stream_executor/cuda/cuda_gpu_executor.cc:936] successful NUMA node read from SysFS had negative value (-1), but there must be at least one NUMA node, so returning NUMA node zero\n",
      "2022-06-06 07:24:02.555097: I tensorflow/stream_executor/cuda/cuda_gpu_executor.cc:936] successful NUMA node read from SysFS had negative value (-1), but there must be at least one NUMA node, so returning NUMA node zero\n",
      "2022-06-06 07:24:02.555554: I tensorflow/stream_executor/cuda/cuda_gpu_executor.cc:936] successful NUMA node read from SysFS had negative value (-1), but there must be at least one NUMA node, so returning NUMA node zero\n",
      "2022-06-06 07:24:02.556647: I tensorflow/core/platform/cpu_feature_guard.cc:151] This TensorFlow binary is optimized with oneAPI Deep Neural Network Library (oneDNN) to use the following CPU instructions in performance-critical operations:  AVX2 FMA\n",
      "To enable them in other operations, rebuild TensorFlow with the appropriate compiler flags.\n",
      "2022-06-06 07:24:02.557661: I tensorflow/stream_executor/cuda/cuda_gpu_executor.cc:936] successful NUMA node read from SysFS had negative value (-1), but there must be at least one NUMA node, so returning NUMA node zero\n",
      "2022-06-06 07:24:02.558165: I tensorflow/stream_executor/cuda/cuda_gpu_executor.cc:936] successful NUMA node read from SysFS had negative value (-1), but there must be at least one NUMA node, so returning NUMA node zero\n",
      "2022-06-06 07:24:02.558563: I tensorflow/stream_executor/cuda/cuda_gpu_executor.cc:936] successful NUMA node read from SysFS had negative value (-1), but there must be at least one NUMA node, so returning NUMA node zero\n",
      "2022-06-06 07:24:02.868839: I tensorflow/stream_executor/cuda/cuda_gpu_executor.cc:936] successful NUMA node read from SysFS had negative value (-1), but there must be at least one NUMA node, so returning NUMA node zero\n",
      "2022-06-06 07:24:02.869269: I tensorflow/stream_executor/cuda/cuda_gpu_executor.cc:936] successful NUMA node read from SysFS had negative value (-1), but there must be at least one NUMA node, so returning NUMA node zero\n",
      "2022-06-06 07:24:02.869635: I tensorflow/stream_executor/cuda/cuda_gpu_executor.cc:936] successful NUMA node read from SysFS had negative value (-1), but there must be at least one NUMA node, so returning NUMA node zero\n",
      "2022-06-06 07:24:02.870444: I tensorflow/core/common_runtime/gpu/gpu_device.cc:1525] Created device /job:localhost/replica:0/task:0/device:GPU:0 with 13987 MB memory:  -> device: 0, name: Quadro RTX 5000, pci bus id: 0000:01:00.0, compute capability: 7.5\n"
     ]
    },
    {
     "data": {
      "text/plain": [
       "0"
      ]
     },
     "execution_count": 13,
     "metadata": {},
     "output_type": "execute_result"
    }
   ],
   "source": [
    "# Separate features and targets\n",
    "X = xtrain.toarray()\n",
    "Y = y\n",
    "\n",
    "# Set the input shape\n",
    "input_shape = (xtrain.shape[1],)\n",
    "print(f'Feature shape: {input_shape}')\n",
    "\n",
    "# Create the model\n",
    "model = Sequential()\n",
    "model.add(Dense(16, input_shape=input_shape, activation='relu'))\n",
    "model.add(Dense(8, activation='relu'))\n",
    "model.add(Dense(1, activation='linear'))\n",
    "del xtrain\n",
    "gc.collect()\n",
    "gc.collect()"
   ]
  },
  {
   "cell_type": "code",
   "execution_count": 14,
   "id": "5f2eecd1-18fb-4126-82bd-83cac46378c1",
   "metadata": {},
   "outputs": [
    {
     "data": {
      "text/plain": [
       "array([[ 0.        ,  1.        ,  1.        , ..., -0.95914517,\n",
       "        -0.61232072, -1.26329393],\n",
       "       [ 1.        ,  0.        ,  1.        , ...,  0.39395194,\n",
       "        -0.71240011, -1.1963163 ],\n",
       "       [ 1.        ,  0.        ,  1.        , ...,  0.91652738,\n",
       "         0.94750019, -0.90385702],\n",
       "       ...,\n",
       "       [ 0.        ,  1.        ,  1.        , ..., -0.83567771,\n",
       "        -0.01839175,  1.55127219],\n",
       "       [ 1.        ,  0.        ,  0.        , ..., -0.23903515,\n",
       "        -0.80958157, -0.56602101],\n",
       "       [ 0.        ,  1.        ,  1.        , ...,  0.39395194,\n",
       "         1.53407398, -0.95125139]])"
      ]
     },
     "execution_count": 14,
     "metadata": {},
     "output_type": "execute_result"
    }
   ],
   "source": [
    "X"
   ]
  },
  {
   "cell_type": "code",
   "execution_count": 18,
   "id": "e50670ef-2240-4623-96e9-0f14aec061e5",
   "metadata": {},
   "outputs": [],
   "source": [
    "## neural net\n",
    "def nn_model():\n",
    "    model = Sequential()\n",
    "    \n",
    "    model.add(Dense(400, input_dim = X.shape[1], kernel_initializer = 'he_normal'))\n",
    "    model.add(PReLU())\n",
    "    model.add(BatchNormalization())\n",
    "    model.add(Dropout(0.4))\n",
    "        \n",
    "    model.add(Dense(200, kernel_initializer = 'he_normal'))\n",
    "    model.add(PReLU())\n",
    "    model.add(BatchNormalization())    \n",
    "    model.add(Dropout(0.2))\n",
    "    \n",
    "    model.add(Dense(50, kernel_initializer = 'he_normal'))\n",
    "    model.add(PReLU())\n",
    "    model.add(BatchNormalization())    \n",
    "    model.add(Dropout(0.2))\n",
    "    \n",
    "    model.add(Dense(1, kernel_initializer = 'he_normal'))\n",
    "    model.compile(loss = 'mae', optimizer = 'adadelta')\n",
    "    return(model)"
   ]
  },
  {
   "cell_type": "code",
   "execution_count": 22,
   "id": "3631734d-8c74-4a13-8abf-110d5eb3e0ec",
   "metadata": {},
   "outputs": [
    {
     "data": {
      "text/plain": [
       "array([7.56987608, 7.84829365, 7.41602364, ..., 7.33236921, 9.17228019,\n",
       "       6.37051723])"
      ]
     },
     "execution_count": 22,
     "metadata": {},
     "output_type": "execute_result"
    }
   ],
   "source": [
    "Y"
   ]
  },
  {
   "cell_type": "code",
   "execution_count": 26,
   "id": "9aee3302-5fd1-4991-80b0-40a0a98c8023",
   "metadata": {},
   "outputs": [
    {
     "name": "stdout",
     "output_type": "stream",
     "text": [
      "TRAIN: [     1      2      4 ... 188313 188314 188315] VAL: [     0      3      6 ... 188309 188316 188317]\n",
      "Fold mae: 1426.1004693510822\n",
      "Fold mae: 1151.7130172695136\n",
      "Fold mae: 1147.834260356096\n",
      "TRAIN: [     0      2      3 ... 188315 188316 188317] VAL: [     1      5      8 ... 188300 188305 188306]\n",
      "Fold mae: 1482.6282695513896\n",
      "Fold mae: 1149.7667657346246\n",
      "Fold mae: 1154.610037790005\n",
      "TRAIN: [     0      1      2 ... 188314 188316 188317] VAL: [    16     17     30 ... 188310 188311 188315]\n",
      "Fold mae: 1436.7284508900086\n",
      "Fold mae: 1160.4965557379712\n",
      "Fold mae: 1154.5343910471383\n",
      "TRAIN: [     0      1      3 ... 188315 188316 188317] VAL: [     2      7     10 ... 188299 188307 188313]\n",
      "Fold mae: 1454.026424503341\n",
      "Fold mae: 1132.8270284451994\n",
      "Fold mae: 1138.7273166313523\n",
      "TRAIN: [     0      1      2 ... 188315 188316 188317] VAL: [     4     13     25 ... 188308 188312 188314]\n",
      "Fold mae: 1581.4770286744435\n",
      "Fold mae: 1156.7994244260467\n",
      "Fold mae: 1139.7938525847621\n",
      "CPU times: user 1h 55min 14s, sys: 9min 9s, total: 2h 4min 24s\n",
      "Wall time: 1h 9min 5s\n"
     ]
    }
   ],
   "source": [
    "%%time\n",
    "\n",
    "test_preds_total = 0\n",
    "N_SPLITS = 5\n",
    "\n",
    "kf = KFold(n_splits=N_SPLITS, random_state=137, shuffle=True)\n",
    "for train_index, val_index in kf.split(X):\n",
    "    print(\"TRAIN:\", train_index, \"VAL:\", val_index)\n",
    "    X_train, X_val = X[train_index], X[val_index]\n",
    "    y_train, y_val = y[train_index], y[val_index]\n",
    "    \n",
    "    model = nn_model()\n",
    "    model.fit(X_train, y_train, epochs=600, batch_size=1024, verbose=0)\n",
    "    \n",
    "    val_preds = np.exp(model.predict(X_val))-200\n",
    "    error = mean_absolute_error(np.exp(y_val)-200, val_preds)\n",
    "    \n",
    "    print(f'Fold mae: {error}')\n",
    "    \n",
    "    model.compile(loss='mae', optimizer='adam', metrics=['mae'])\n",
    "    model.fit(X_train, y_train, epochs=20, batch_size=100, verbose=0)\n",
    "    \n",
    "    val_preds = np.exp(model.predict(X_val))-200\n",
    "    error = mean_absolute_error(np.exp(y_val)-200, val_preds)\n",
    "    \n",
    "    print(f'Fold mae: {error}')\n",
    "    \n",
    "    model.compile(loss='mae', optimizer='adam', metrics=['mae'])\n",
    "    model.fit(X_train, y_train, epochs=20, batch_size=50, verbose=0)\n",
    "    \n",
    "    val_preds = np.exp(model.predict(X_val))-200\n",
    "    error = mean_absolute_error(np.exp(y_val)-200, val_preds)\n",
    "    \n",
    "    print(f'Fold mae: {error}')\n",
    "    \n",
    "    test_preds = np.exp(model.predict(xtest))-200\n",
    "    test_preds_total += test_preds/N_SPLITS\n"
   ]
  },
  {
   "cell_type": "code",
   "execution_count": 27,
   "id": "e6dfabe5-e0f5-4815-9ab9-2364b9e40d54",
   "metadata": {},
   "outputs": [
    {
     "data": {
      "text/plain": [
       "array([[1570.043  ],\n",
       "       [1765.6118 ],\n",
       "       [9318.161  ],\n",
       "       ...,\n",
       "       [2371.4565 ],\n",
       "       [ 969.34357],\n",
       "       [3233.838  ]], dtype=float32)"
      ]
     },
     "execution_count": 27,
     "metadata": {},
     "output_type": "execute_result"
    }
   ],
   "source": [
    "test_preds_total"
   ]
  },
  {
   "cell_type": "code",
   "execution_count": 28,
   "id": "071c4965-402f-49a8-9473-c6b656afe959",
   "metadata": {},
   "outputs": [
    {
     "data": {
      "text/plain": [
       "array([[9739.92  ],\n",
       "       [1294.9211],\n",
       "       [3418.0183],\n",
       "       ...,\n",
       "       [3772.5396],\n",
       "       [2409.1924],\n",
       "       [4687.072 ]], dtype=float32)"
      ]
     },
     "execution_count": 28,
     "metadata": {},
     "output_type": "execute_result"
    }
   ],
   "source": [
    "val_preds"
   ]
  },
  {
   "cell_type": "code",
   "execution_count": 29,
   "id": "14a51b18-a357-473c-b588-19ecdb5b93bb",
   "metadata": {},
   "outputs": [
    {
     "data": {
      "text/html": [
       "<div>\n",
       "<style scoped>\n",
       "    .dataframe tbody tr th:only-of-type {\n",
       "        vertical-align: middle;\n",
       "    }\n",
       "\n",
       "    .dataframe tbody tr th {\n",
       "        vertical-align: top;\n",
       "    }\n",
       "\n",
       "    .dataframe thead th {\n",
       "        text-align: right;\n",
       "    }\n",
       "</style>\n",
       "<table border=\"1\" class=\"dataframe\">\n",
       "  <thead>\n",
       "    <tr style=\"text-align: right;\">\n",
       "      <th></th>\n",
       "      <th>id</th>\n",
       "      <th>loss</th>\n",
       "    </tr>\n",
       "  </thead>\n",
       "  <tbody>\n",
       "    <tr>\n",
       "      <th>0</th>\n",
       "      <td>4</td>\n",
       "      <td>1570.042969</td>\n",
       "    </tr>\n",
       "    <tr>\n",
       "      <th>1</th>\n",
       "      <td>6</td>\n",
       "      <td>1765.611816</td>\n",
       "    </tr>\n",
       "    <tr>\n",
       "      <th>2</th>\n",
       "      <td>9</td>\n",
       "      <td>9318.161133</td>\n",
       "    </tr>\n",
       "    <tr>\n",
       "      <th>3</th>\n",
       "      <td>12</td>\n",
       "      <td>7524.106934</td>\n",
       "    </tr>\n",
       "    <tr>\n",
       "      <th>4</th>\n",
       "      <td>15</td>\n",
       "      <td>826.004578</td>\n",
       "    </tr>\n",
       "  </tbody>\n",
       "</table>\n",
       "</div>"
      ],
      "text/plain": [
       "   id         loss\n",
       "0   4  1570.042969\n",
       "1   6  1765.611816\n",
       "2   9  9318.161133\n",
       "3  12  7524.106934\n",
       "4  15   826.004578"
      ]
     },
     "execution_count": 29,
     "metadata": {},
     "output_type": "execute_result"
    }
   ],
   "source": [
    "submission['loss'] = test_preds_total\n",
    "submission.to_csv('../submissions/sub_simple_mlp_5_fold_0.csv', index=False)\n",
    "submission.head()"
   ]
  },
  {
   "cell_type": "markdown",
   "id": "bcbb9082-93b5-45f4-9145-5e75bca428c0",
   "metadata": {},
   "source": [
    "This submission scores 1115.43903 on the public leaderboard, and 1127.08074 on the private one.\n"
   ]
  },
  {
   "cell_type": "code",
   "execution_count": null,
   "id": "df2f58f6-735e-4a73-b4cc-6e3ec6093ca9",
   "metadata": {},
   "outputs": [],
   "source": []
  }
 ],
 "metadata": {
  "kernelspec": {
   "display_name": "Python 3 (ipykernel)",
   "language": "python",
   "name": "python3"
  },
  "language_info": {
   "codemirror_mode": {
    "name": "ipython",
    "version": 3
   },
   "file_extension": ".py",
   "mimetype": "text/x-python",
   "name": "python",
   "nbconvert_exporter": "python",
   "pygments_lexer": "ipython3",
   "version": "3.8.13"
  }
 },
 "nbformat": 4,
 "nbformat_minor": 5
}
