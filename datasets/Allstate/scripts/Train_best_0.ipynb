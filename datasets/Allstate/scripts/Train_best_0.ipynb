{
 "cells": [
  {
   "cell_type": "code",
   "execution_count": 1,
   "id": "8dbcf5f9-4a4a-4f03-9079-2ba662c66d3c",
   "metadata": {},
   "outputs": [],
   "source": [
    "%load_ext watermark"
   ]
  },
  {
   "cell_type": "code",
   "execution_count": 2,
   "id": "5a0171f6-1e7a-48c7-9ba3-112c681f1e1f",
   "metadata": {},
   "outputs": [
    {
     "name": "stdout",
     "output_type": "stream",
     "text": [
      "Last updated: 2023-05-30T10:17:36.823019-07:00\n",
      "\n",
      "Python implementation: CPython\n",
      "Python version       : 3.10.6\n",
      "IPython version      : 8.13.2\n",
      "\n",
      "Compiler    : GCC 11.3.0\n",
      "OS          : Linux\n",
      "Release     : 5.15.0-1017-nvidia\n",
      "Machine     : x86_64\n",
      "Processor   : x86_64\n",
      "CPU cores   : 224\n",
      "Architecture: 64bit\n",
      "\n"
     ]
    }
   ],
   "source": [
    "%watermark"
   ]
  },
  {
   "cell_type": "code",
   "execution_count": 3,
   "id": "503cd07c-070e-4f8c-bae2-974f27642563",
   "metadata": {},
   "outputs": [
    {
     "name": "stdout",
     "output_type": "stream",
     "text": [
      "GPU Info: \n",
      "  GPU 0: NVIDIA H100 80GB HBM3\n",
      "  GPU 1: NVIDIA H100 80GB HBM3\n",
      "  GPU 2: NVIDIA H100 80GB HBM3\n",
      "  GPU 3: NVIDIA H100 80GB HBM3\n",
      "  GPU 4: NVIDIA H100 80GB HBM3\n",
      "  GPU 5: NVIDIA H100 80GB HBM3\n",
      "  GPU 6: NVIDIA H100 80GB HBM3\n",
      "  GPU 7: NVIDIA H100 80GB HBM3\n",
      "\n"
     ]
    }
   ],
   "source": [
    "%watermark --gpu"
   ]
  },
  {
   "cell_type": "code",
   "execution_count": 4,
   "id": "c77a809f-fa41-4f54-a413-f95417946044",
   "metadata": {},
   "outputs": [
    {
     "name": "stderr",
     "output_type": "stream",
     "text": [
      "/home/dgxuser/.local/lib/python3.10/site-packages/tqdm/auto.py:21: TqdmWarning: IProgress not found. Please update jupyter and ipywidgets. See https://ipywidgets.readthedocs.io/en/stable/user_install.html\n",
      "  from .autonotebook import tqdm as notebook_tqdm\n"
     ]
    }
   ],
   "source": [
    "from dask.distributed import Client\n",
    "from dask_cuda import LocalCUDACluster\n",
    "from dask import dataframe as dd\n",
    "from dask.delayed import delayed\n",
    "import pandas as pd\n",
    "import numpy as np\n",
    "import xgboost as xgb\n",
    "from sklearn.model_selection import KFold\n",
    "from sklearn.metrics import mean_absolute_error\n",
    "from sklearn.preprocessing import StandardScaler\n",
    "from sklearn.preprocessing import LabelEncoder\n",
    "import optuna\n",
    "import gc\n",
    "import logging"
   ]
  },
  {
   "cell_type": "code",
   "execution_count": 5,
   "id": "b7acb55f-fc60-4238-b153-efbf22e0c26c",
   "metadata": {},
   "outputs": [
    {
     "name": "stdout",
     "output_type": "stream",
     "text": [
      "optuna : 3.1.1\n",
      "xgboost: 1.7.5\n",
      "logging: 0.5.1.2\n",
      "numpy  : 1.23.5\n",
      "pandas : 1.5.3\n",
      "dask   : 2023.3.2\n",
      "\n"
     ]
    }
   ],
   "source": [
    "%watermark --iversions"
   ]
  },
  {
   "cell_type": "code",
   "execution_count": 6,
   "id": "be4d47c1-6161-4aa7-ad2d-5ce3d3a19102",
   "metadata": {},
   "outputs": [
    {
     "name": "stderr",
     "output_type": "stream",
     "text": [
      "2023-05-30 10:17:45,953 - distributed.preloading - INFO - Creating preload: dask_cuda.initialize\n",
      "2023-05-30 10:17:45,953 - distributed.preloading - INFO - Import preload module: dask_cuda.initialize\n",
      "2023-05-30 10:17:45,953 - distributed.preloading - INFO - Creating preload: dask_cuda.initialize\n",
      "2023-05-30 10:17:45,953 - distributed.preloading - INFO - Import preload module: dask_cuda.initialize\n",
      "2023-05-30 10:17:45,956 - distributed.preloading - INFO - Creating preload: dask_cuda.initialize\n",
      "2023-05-30 10:17:45,956 - distributed.preloading - INFO - Import preload module: dask_cuda.initialize\n",
      "2023-05-30 10:17:45,957 - distributed.preloading - INFO - Creating preload: dask_cuda.initialize\n",
      "2023-05-30 10:17:45,957 - distributed.preloading - INFO - Import preload module: dask_cuda.initialize\n",
      "2023-05-30 10:17:45,960 - distributed.preloading - INFO - Creating preload: dask_cuda.initialize\n",
      "2023-05-30 10:17:45,960 - distributed.preloading - INFO - Import preload module: dask_cuda.initialize\n",
      "2023-05-30 10:17:45,965 - distributed.preloading - INFO - Creating preload: dask_cuda.initialize\n",
      "2023-05-30 10:17:45,965 - distributed.preloading - INFO - Import preload module: dask_cuda.initialize\n",
      "2023-05-30 10:17:45,967 - distributed.preloading - INFO - Creating preload: dask_cuda.initialize\n",
      "2023-05-30 10:17:45,967 - distributed.preloading - INFO - Import preload module: dask_cuda.initialize\n",
      "2023-05-30 10:17:45,972 - distributed.preloading - INFO - Creating preload: dask_cuda.initialize\n",
      "2023-05-30 10:17:45,973 - distributed.preloading - INFO - Import preload module: dask_cuda.initialize\n"
     ]
    }
   ],
   "source": [
    "cluster = LocalCUDACluster(n_workers=8)\n",
    "client = Client(cluster)"
   ]
  },
  {
   "cell_type": "code",
   "execution_count": 7,
   "id": "16234edd-8afd-48b5-9cba-e71d6ed8504e",
   "metadata": {},
   "outputs": [],
   "source": [
    "optuna_log = pd.read_csv('optuna_xgb_output_l_4.csv')"
   ]
  },
  {
   "cell_type": "code",
   "execution_count": 8,
   "id": "b7f68e2e-07b3-4a33-a166-7cab012880e0",
   "metadata": {},
   "outputs": [
    {
     "data": {
      "text/html": [
       "<div>\n",
       "<style scoped>\n",
       "    .dataframe tbody tr th:only-of-type {\n",
       "        vertical-align: middle;\n",
       "    }\n",
       "\n",
       "    .dataframe tbody tr th {\n",
       "        vertical-align: top;\n",
       "    }\n",
       "\n",
       "    .dataframe thead th {\n",
       "        text-align: right;\n",
       "    }\n",
       "</style>\n",
       "<table border=\"1\" class=\"dataframe\">\n",
       "  <thead>\n",
       "    <tr style=\"text-align: right;\">\n",
       "      <th></th>\n",
       "      <th>number</th>\n",
       "      <th>value</th>\n",
       "      <th>params_alpha</th>\n",
       "      <th>params_colsample_bytree</th>\n",
       "      <th>params_eval_metric</th>\n",
       "      <th>params_gamma</th>\n",
       "      <th>params_lambda</th>\n",
       "      <th>params_learning_rate</th>\n",
       "      <th>params_max_depth</th>\n",
       "      <th>params_min_child_weight</th>\n",
       "      <th>params_subsample</th>\n",
       "      <th>state</th>\n",
       "    </tr>\n",
       "  </thead>\n",
       "  <tbody>\n",
       "    <tr>\n",
       "      <th>0</th>\n",
       "      <td>0</td>\n",
       "      <td>1153.904710</td>\n",
       "      <td>0.373965</td>\n",
       "      <td>0.980291</td>\n",
       "      <td>rmse</td>\n",
       "      <td>2.497604</td>\n",
       "      <td>0.014629</td>\n",
       "      <td>0.007077</td>\n",
       "      <td>21</td>\n",
       "      <td>103</td>\n",
       "      <td>0.583175</td>\n",
       "      <td>COMPLETE</td>\n",
       "    </tr>\n",
       "    <tr>\n",
       "      <th>1</th>\n",
       "      <td>1</td>\n",
       "      <td>1152.803715</td>\n",
       "      <td>0.004224</td>\n",
       "      <td>0.856359</td>\n",
       "      <td>rmse</td>\n",
       "      <td>0.004733</td>\n",
       "      <td>3.143904</td>\n",
       "      <td>0.041572</td>\n",
       "      <td>11</td>\n",
       "      <td>39</td>\n",
       "      <td>0.653761</td>\n",
       "      <td>COMPLETE</td>\n",
       "    </tr>\n",
       "    <tr>\n",
       "      <th>2</th>\n",
       "      <td>2</td>\n",
       "      <td>1152.649488</td>\n",
       "      <td>1.043722</td>\n",
       "      <td>0.903962</td>\n",
       "      <td>rmse</td>\n",
       "      <td>0.709577</td>\n",
       "      <td>3.394003</td>\n",
       "      <td>0.012027</td>\n",
       "      <td>6</td>\n",
       "      <td>49</td>\n",
       "      <td>0.431573</td>\n",
       "      <td>COMPLETE</td>\n",
       "    </tr>\n",
       "    <tr>\n",
       "      <th>3</th>\n",
       "      <td>3</td>\n",
       "      <td>1200.088834</td>\n",
       "      <td>0.056953</td>\n",
       "      <td>0.339802</td>\n",
       "      <td>rmse</td>\n",
       "      <td>0.002243</td>\n",
       "      <td>0.008525</td>\n",
       "      <td>0.073172</td>\n",
       "      <td>16</td>\n",
       "      <td>45</td>\n",
       "      <td>0.594994</td>\n",
       "      <td>COMPLETE</td>\n",
       "    </tr>\n",
       "    <tr>\n",
       "      <th>4</th>\n",
       "      <td>4</td>\n",
       "      <td>1255.695543</td>\n",
       "      <td>0.246479</td>\n",
       "      <td>0.914929</td>\n",
       "      <td>rmse</td>\n",
       "      <td>0.445993</td>\n",
       "      <td>0.173519</td>\n",
       "      <td>0.002016</td>\n",
       "      <td>25</td>\n",
       "      <td>255</td>\n",
       "      <td>0.547362</td>\n",
       "      <td>COMPLETE</td>\n",
       "    </tr>\n",
       "  </tbody>\n",
       "</table>\n",
       "</div>"
      ],
      "text/plain": [
       "   number        value  params_alpha  params_colsample_bytree  \\\n",
       "0       0  1153.904710      0.373965                 0.980291   \n",
       "1       1  1152.803715      0.004224                 0.856359   \n",
       "2       2  1152.649488      1.043722                 0.903962   \n",
       "3       3  1200.088834      0.056953                 0.339802   \n",
       "4       4  1255.695543      0.246479                 0.914929   \n",
       "\n",
       "  params_eval_metric  params_gamma  params_lambda  params_learning_rate  \\\n",
       "0               rmse      2.497604       0.014629              0.007077   \n",
       "1               rmse      0.004733       3.143904              0.041572   \n",
       "2               rmse      0.709577       3.394003              0.012027   \n",
       "3               rmse      0.002243       0.008525              0.073172   \n",
       "4               rmse      0.445993       0.173519              0.002016   \n",
       "\n",
       "   params_max_depth  params_min_child_weight  params_subsample     state  \n",
       "0                21                      103          0.583175  COMPLETE  \n",
       "1                11                       39          0.653761  COMPLETE  \n",
       "2                 6                       49          0.431573  COMPLETE  \n",
       "3                16                       45          0.594994  COMPLETE  \n",
       "4                25                      255          0.547362  COMPLETE  "
      ]
     },
     "execution_count": 8,
     "metadata": {},
     "output_type": "execute_result"
    }
   ],
   "source": [
    "optuna_log.head()"
   ]
  },
  {
   "cell_type": "code",
   "execution_count": 9,
   "id": "f8b8943e-ec5f-4482-b39f-b1fd418cc715",
   "metadata": {},
   "outputs": [
    {
     "data": {
      "text/plain": [
       "1135.212585472503"
      ]
     },
     "execution_count": 9,
     "metadata": {},
     "output_type": "execute_result"
    }
   ],
   "source": [
    "optuna_log.value.min()"
   ]
  },
  {
   "cell_type": "code",
   "execution_count": 10,
   "id": "e31a0a51-e5b0-4a0a-a022-2462d884dae6",
   "metadata": {},
   "outputs": [],
   "source": [
    "study = optuna.load_study(storage=\"sqlite:///xgb_optuna_allstate_l_4.db\", study_name=\"five_fold_optuna_xgb_l_4\")"
   ]
  },
  {
   "cell_type": "code",
   "execution_count": 11,
   "id": "ff9e5903-6f81-41b2-9dc2-a499c624cc55",
   "metadata": {},
   "outputs": [
    {
     "data": {
      "text/plain": [
       "{'alpha': 1.8620662483899058,\n",
       " 'colsample_bytree': 0.47780377425479476,\n",
       " 'eval_metric': 'rmse',\n",
       " 'gamma': 0.0016435353992643332,\n",
       " 'lambda': 0.40986852781746064,\n",
       " 'learning_rate': 0.01805814216145912,\n",
       " 'max_depth': 15,\n",
       " 'min_child_weight': 204,\n",
       " 'subsample': 0.9847422024810327}"
      ]
     },
     "execution_count": 11,
     "metadata": {},
     "output_type": "execute_result"
    }
   ],
   "source": [
    "study.best_params"
   ]
  },
  {
   "cell_type": "code",
   "execution_count": 12,
   "id": "2716a893-d9f2-4794-9324-1738cedc233e",
   "metadata": {},
   "outputs": [],
   "source": [
    "num_round = 1000\n",
    "\n",
    "params = study.best_params\n",
    "params['objective'] ='reg:squarederror'\n",
    "params['base_score'] = 7.76\n",
    "params['tree_method'] ='gpu_hist'\n",
    "params['eval_metric'] ='rmse'"
   ]
  },
  {
   "cell_type": "code",
   "execution_count": 33,
   "id": "a7a15747-e5db-4cdd-ae35-b98ba0ba1ef5",
   "metadata": {},
   "outputs": [],
   "source": [
    "train = pd.read_csv('../input/train.csv.zip')\n",
    "x_train_l = pd.read_csv('../input/x_train_l.csv')\n",
    "x_test_l = pd.read_csv(f'../input/x_test_l.csv')\n",
    "x_test_l.to_csv('../input/x_test_l.csv.zip', compression='zip', index=False)\n",
    "x_train_l['loss'] = np.log(train.loss.values + 200)\n",
    "x_train_l.to_csv('../input/x_train_l.csv.zip', compression='zip')"
   ]
  },
  {
   "cell_type": "code",
   "execution_count": 60,
   "id": "fb453983-3a7f-4fac-8c7c-2519650874a6",
   "metadata": {},
   "outputs": [
    {
     "name": "stderr",
     "output_type": "stream",
     "text": [
      "/home/dgxuser/.local/lib/python3.10/site-packages/dask/dataframe/io/csv.py:542: UserWarning: Warning zip compression does not support breaking apart files\n",
      "Please ensure that each individual file can fit in memory and\n",
      "use the keyword ``blocksize=None to remove this message``\n",
      "Setting ``blocksize=None``\n",
      "  warn(\n",
      "/home/dgxuser/.local/lib/python3.10/site-packages/dask/dataframe/io/csv.py:542: UserWarning: Warning zip compression does not support breaking apart files\n",
      "Please ensure that each individual file can fit in memory and\n",
      "use the keyword ``blocksize=None to remove this message``\n",
      "Setting ``blocksize=None``\n",
      "  warn(\n"
     ]
    }
   ],
   "source": [
    "x_train_l = dd.read_csv(f'../input/x_train_l.csv.zip')\n",
    "x_test_l = dd.read_csv(f'../input/x_test_l.csv.zip')\n",
    "train_y = x_train_l['loss']\n",
    "x_train_l = x_train_l[x_train_l.columns.difference(['loss'])]"
   ]
  },
  {
   "cell_type": "code",
   "execution_count": 61,
   "id": "dccc2699-1557-40b7-9208-7dd5f82ddae8",
   "metadata": {},
   "outputs": [
    {
     "data": {
      "text/plain": [
       "Index(['cat1', 'cat10', 'cat100', 'cat101', 'cat102', 'cat103', 'cat104',\n",
       "       'cat105', 'cat106', 'cat107',\n",
       "       ...\n",
       "       'cont13', 'cont14', 'cont2', 'cont3', 'cont4', 'cont5', 'cont6',\n",
       "       'cont7', 'cont8', 'cont9'],\n",
       "      dtype='object', length=130)"
      ]
     },
     "execution_count": 61,
     "metadata": {},
     "output_type": "execute_result"
    }
   ],
   "source": [
    "x_train_l.columns"
   ]
  },
  {
   "cell_type": "code",
   "execution_count": 62,
   "id": "e7f406d6-3b70-4507-b5a7-2cabfab87e39",
   "metadata": {},
   "outputs": [
    {
     "data": {
      "text/plain": [
       "130"
      ]
     },
     "execution_count": 62,
     "metadata": {},
     "output_type": "execute_result"
    }
   ],
   "source": [
    "len(x_train_l.columns)"
   ]
  },
  {
   "cell_type": "code",
   "execution_count": 63,
   "id": "510fc83a-c63e-414f-841c-e72bbf568aa6",
   "metadata": {},
   "outputs": [
    {
     "data": {
      "text/plain": [
       "130"
      ]
     },
     "execution_count": 63,
     "metadata": {},
     "output_type": "execute_result"
    }
   ],
   "source": [
    "len(x_test_l.columns)"
   ]
  },
  {
   "cell_type": "code",
   "execution_count": 59,
   "id": "c16db670-87bf-482c-b096-b5476d6b1eff",
   "metadata": {},
   "outputs": [
    {
     "data": {
      "text/plain": [
       "Index(['Unnamed: 0', 'cat1', 'cat2', 'cat3', 'cat4', 'cat5', 'cat6', 'cat7',\n",
       "       'cat8', 'cat9',\n",
       "       ...\n",
       "       'cont5', 'cont6', 'cont7', 'cont8', 'cont9', 'cont10', 'cont11',\n",
       "       'cont12', 'cont13', 'cont14'],\n",
       "      dtype='object', length=131)"
      ]
     },
     "execution_count": 59,
     "metadata": {},
     "output_type": "execute_result"
    }
   ],
   "source": [
    "x_test_l.columns"
   ]
  },
  {
   "cell_type": "code",
   "execution_count": 64,
   "id": "72460f83-0eee-42fa-9bd7-77ccbd24697c",
   "metadata": {},
   "outputs": [],
   "source": [
    "dtrain = xgb.dask.DaskDMatrix(client, x_train_l.values, train_y, enable_categorical=True)\n",
    "dtest = xgb.dask.DaskDMatrix(client, x_test_l.values,  enable_categorical=True)\n",
    "        \n"
   ]
  },
  {
   "cell_type": "code",
   "execution_count": 65,
   "id": "a415346b-c090-4536-aa98-7e9f48dfe830",
   "metadata": {},
   "outputs": [
    {
     "name": "stderr",
     "output_type": "stream",
     "text": [
      "INFO:distributed.worker:Run out-of-band function '_start_tracker'\n",
      "INFO:distributed.scheduler:Receive client connection: Client-worker-65d13c3d-ff12-11ed-a850-b5adb1c07716\n",
      "INFO:distributed.core:Starting established connection to tcp://127.0.0.1:53976\n",
      "[10:50:00] task [xgboost.dask-6]:tcp://127.0.0.1:46767 got new rank 0\n"
     ]
    },
    {
     "name": "stdout",
     "output_type": "stream",
     "text": [
      "CPU times: user 2.14 s, sys: 636 ms, total: 2.78 s\n",
      "Wall time: 9.02 s\n"
     ]
    }
   ],
   "source": [
    "%%time\n",
    "output = xgb.dask.train(client, params, dtrain, num_round)\n"
   ]
  },
  {
   "cell_type": "code",
   "execution_count": 66,
   "id": "1ebe2ece-e2dd-4b47-9f1c-93357ab75f3d",
   "metadata": {},
   "outputs": [
    {
     "name": "stdout",
     "output_type": "stream",
     "text": [
      "CPU times: user 124 ms, sys: 98.4 ms, total: 222 ms\n",
      "Wall time: 1.44 s\n"
     ]
    }
   ],
   "source": [
    "%%time\n",
    "booster = output['booster']  # booster is the trained model\n",
    "booster.set_param({'predictor': 'gpu_predictor'})\n",
    "predictions = xgb.dask.predict(client, booster, dtest)\n",
    "predictions = predictions.compute()"
   ]
  },
  {
   "cell_type": "code",
   "execution_count": 67,
   "id": "20381854-8284-403e-b2e9-f872e60396e7",
   "metadata": {},
   "outputs": [
    {
     "data": {
      "text/plain": [
       "array([2614.168 , 3541.6987, 3216.981 , 2625.9463, 1475.0652, 2244.0916,\n",
       "       2405.0142, 1757.0818, 2359.3616, 2153.6968], dtype=float32)"
      ]
     },
     "execution_count": 67,
     "metadata": {},
     "output_type": "execute_result"
    }
   ],
   "source": [
    "(np.exp(predictions)-200)[:10]"
   ]
  },
  {
   "cell_type": "code",
   "execution_count": 68,
   "id": "5146c3d2-bc83-44f0-aad3-a6212182b2cd",
   "metadata": {},
   "outputs": [],
   "source": [
    "sample_submission = pd.read_csv('../input/sample_submission.csv.zip')"
   ]
  },
  {
   "cell_type": "code",
   "execution_count": 69,
   "id": "80300343-2575-4ea4-a76c-1230f59e8f87",
   "metadata": {},
   "outputs": [
    {
     "data": {
      "text/html": [
       "<div>\n",
       "<style scoped>\n",
       "    .dataframe tbody tr th:only-of-type {\n",
       "        vertical-align: middle;\n",
       "    }\n",
       "\n",
       "    .dataframe tbody tr th {\n",
       "        vertical-align: top;\n",
       "    }\n",
       "\n",
       "    .dataframe thead th {\n",
       "        text-align: right;\n",
       "    }\n",
       "</style>\n",
       "<table border=\"1\" class=\"dataframe\">\n",
       "  <thead>\n",
       "    <tr style=\"text-align: right;\">\n",
       "      <th></th>\n",
       "      <th>id</th>\n",
       "      <th>loss</th>\n",
       "    </tr>\n",
       "  </thead>\n",
       "  <tbody>\n",
       "    <tr>\n",
       "      <th>0</th>\n",
       "      <td>4</td>\n",
       "      <td>2614.167969</td>\n",
       "    </tr>\n",
       "    <tr>\n",
       "      <th>1</th>\n",
       "      <td>6</td>\n",
       "      <td>3541.698730</td>\n",
       "    </tr>\n",
       "    <tr>\n",
       "      <th>2</th>\n",
       "      <td>9</td>\n",
       "      <td>3216.980957</td>\n",
       "    </tr>\n",
       "    <tr>\n",
       "      <th>3</th>\n",
       "      <td>12</td>\n",
       "      <td>2625.946289</td>\n",
       "    </tr>\n",
       "    <tr>\n",
       "      <th>4</th>\n",
       "      <td>15</td>\n",
       "      <td>1475.065186</td>\n",
       "    </tr>\n",
       "  </tbody>\n",
       "</table>\n",
       "</div>"
      ],
      "text/plain": [
       "   id         loss\n",
       "0   4  2614.167969\n",
       "1   6  3541.698730\n",
       "2   9  3216.980957\n",
       "3  12  2625.946289\n",
       "4  15  1475.065186"
      ]
     },
     "execution_count": 69,
     "metadata": {},
     "output_type": "execute_result"
    }
   ],
   "source": [
    "sample_submission['loss'] = (np.exp(predictions)-200)\n",
    "sample_submission.head()"
   ]
  },
  {
   "cell_type": "code",
   "execution_count": 70,
   "id": "4f1ca201-f1a1-4024-ac45-c200210a2d43",
   "metadata": {},
   "outputs": [],
   "source": [
    "sample_submission.to_csv('../submissions/new_sub.csv.gz', index=False, compression='gzip')"
   ]
  },
  {
   "cell_type": "code",
   "execution_count": null,
   "id": "f401e436-48bb-451e-abbe-30dc29802d1e",
   "metadata": {},
   "outputs": [],
   "source": []
  }
 ],
 "metadata": {
  "kernelspec": {
   "display_name": "Python 3 (ipykernel)",
   "language": "python",
   "name": "python3"
  },
  "language_info": {
   "codemirror_mode": {
    "name": "ipython",
    "version": 3
   },
   "file_extension": ".py",
   "mimetype": "text/x-python",
   "name": "python",
   "nbconvert_exporter": "python",
   "pygments_lexer": "ipython3",
   "version": "3.10.6"
  }
 },
 "nbformat": 4,
 "nbformat_minor": 5
}
