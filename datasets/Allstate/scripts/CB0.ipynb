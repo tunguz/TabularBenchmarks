{
 "cells": [
  {
   "cell_type": "markdown",
   "id": "76242857-4819-4b2d-9e5b-98b9e48a929f",
   "metadata": {},
   "source": [
    "Based on Faron's script that was adopted in the following notebook: https://www.kaggle.com/tunguz/another-xgb-allstate-starter/"
   ]
  },
  {
   "cell_type": "code",
   "execution_count": 1,
   "id": "f859a230-3e75-4432-839d-04c6d36a8775",
   "metadata": {
    "tags": []
   },
   "outputs": [],
   "source": [
    "%load_ext watermark"
   ]
  },
  {
   "cell_type": "code",
   "execution_count": 2,
   "id": "03974644-b98d-4031-a827-d713cedb3bef",
   "metadata": {
    "tags": []
   },
   "outputs": [
    {
     "name": "stdout",
     "output_type": "stream",
     "text": [
      "Last updated: 2023-05-24T11:21:01.523643-04:00\n",
      "\n",
      "Python implementation: CPython\n",
      "Python version       : 3.9.6\n",
      "IPython version      : 8.10.0\n",
      "\n",
      "Compiler    : Clang 14.0.3 (clang-1403.0.22.14.1)\n",
      "OS          : Darwin\n",
      "Release     : 22.4.0\n",
      "Machine     : arm64\n",
      "Processor   : arm\n",
      "CPU cores   : 20\n",
      "Architecture: 64bit\n",
      "\n"
     ]
    }
   ],
   "source": [
    "%watermark"
   ]
  },
  {
   "cell_type": "code",
   "execution_count": 3,
   "id": "23ad9796-fa71-48e6-bc12-273ab990f45d",
   "metadata": {
    "tags": []
   },
   "outputs": [],
   "source": [
    "import pandas as pd\n",
    "import numpy as np\n",
    "from catboost import CatBoostRegressor\n",
    "from sklearn.model_selection import KFold\n",
    "from sklearn.metrics import mean_absolute_error\n",
    "import gc\n",
    "import catboost as cb"
   ]
  },
  {
   "cell_type": "code",
   "execution_count": 4,
   "id": "8507f6b3-5968-4f39-8b97-ccb8d7a788d5",
   "metadata": {
    "tags": []
   },
   "outputs": [
    {
     "name": "stdout",
     "output_type": "stream",
     "text": [
      "catboost: 1.1.1\n",
      "pandas  : 2.0.0\n",
      "numpy   : 1.23.5\n",
      "\n"
     ]
    }
   ],
   "source": [
    "%watermark --iversions"
   ]
  },
  {
   "cell_type": "code",
   "execution_count": 5,
   "id": "9e6b0f46-0cfc-49cf-bdf2-8c028d7ec575",
   "metadata": {
    "tags": []
   },
   "outputs": [],
   "source": [
    "ID = 'id'\n",
    "TARGET = 'loss'\n",
    "SEED = 0\n",
    "DATA_DIR = \"../input\"\n",
    "\n",
    "TRAIN_FILE = f\"{DATA_DIR}/train.csv.zip\"\n",
    "TEST_FILE = f\"{DATA_DIR}/test.csv.zip\"\n",
    "SUBMISSION_FILE = f\"{DATA_DIR}/sample_submission.csv.zip\"\n"
   ]
  },
  {
   "cell_type": "code",
   "execution_count": 6,
   "id": "89c7c828-ed8f-48e8-aa28-5a05794b2bed",
   "metadata": {
    "tags": []
   },
   "outputs": [
    {
     "name": "stdout",
     "output_type": "stream",
     "text": [
      "(188318, 130),(125546, 130)\n"
     ]
    }
   ],
   "source": [
    "train = pd.read_csv(TRAIN_FILE)\n",
    "test = pd.read_csv(TEST_FILE)\n",
    "\n",
    "y_train = train[TARGET].ravel()\n",
    "\n",
    "train.drop([ID, TARGET], axis=1, inplace=True)\n",
    "test.drop([ID], axis=1, inplace=True)\n",
    "\n",
    "print(f\"{train.shape},{test.shape}\")\n",
    "      \n",
    "ntrain = train.shape[0]"
   ]
  },
  {
   "cell_type": "code",
   "execution_count": 7,
   "id": "fc3c93c8-e449-46ef-aa70-345c34597d0f",
   "metadata": {
    "tags": []
   },
   "outputs": [
    {
     "name": "stdout",
     "output_type": "stream",
     "text": [
      "   cat1  cat2  cat3  cat4  ...    cont11    cont12    cont13    cont14\n",
      "0     0     1     0     1  ...  0.569745  0.594646  0.822493  0.714843\n",
      "1     0     1     0     0  ...  0.338312  0.366307  0.611431  0.304496\n",
      "2     0     1     0     0  ...  0.381398  0.373424  0.195709  0.774425\n",
      "3     1     1     0     1  ...  0.327915  0.321570  0.605077  0.602642\n",
      "4     0     1     0     1  ...  0.204687  0.202213  0.246011  0.432606\n",
      "\n",
      "[5 rows x 130 columns]\n",
      "(188318, 130),(125546, 130)\n"
     ]
    }
   ],
   "source": [
    "train_test = pd.concat((train, test)).reset_index(drop=True)\n",
    "\n",
    "features = train.columns\n",
    "\n",
    "cats = [feat for feat in features if 'cat' in feat]\n",
    "for feat in cats:\n",
    "    train_test[feat] = pd.factorize(train_test[feat], sort=True)[0]\n",
    "\n",
    "print(train_test.head())\n",
    "\n",
    "x_train = np.array(train_test.iloc[:ntrain,:])\n",
    "x_test = np.array(train_test.iloc[ntrain:,:])\n",
    "\n",
    "print(f\"{train.shape},{test.shape}\")\n"
   ]
  },
  {
   "cell_type": "code",
   "execution_count": 8,
   "id": "4dd26d27-6787-417d-abf4-7d63e3363d96",
   "metadata": {
    "tags": []
   },
   "outputs": [
    {
     "name": "stdout",
     "output_type": "stream",
     "text": [
      "CPU times: user 1min 12s, sys: 37.8 s, total: 1min 50s\n",
      "Wall time: 9.21 s\n"
     ]
    },
    {
     "data": {
      "text/plain": [
       "<catboost.core.CatBoostRegressor at 0x2f33df9a0>"
      ]
     },
     "execution_count": 8,
     "metadata": {},
     "output_type": "execute_result"
    }
   ],
   "source": [
    "%%time\n",
    "gbdt = CatBoostRegressor(silent=True)\n",
    "gbdt.fit(x_train, y_train)"
   ]
  },
  {
   "cell_type": "code",
   "execution_count": 9,
   "id": "caeccc13-5b14-427b-b0dc-4b7e70a4d0ed",
   "metadata": {
    "tags": []
   },
   "outputs": [
    {
     "data": {
      "text/html": [
       "<div>\n",
       "<style scoped>\n",
       "    .dataframe tbody tr th:only-of-type {\n",
       "        vertical-align: middle;\n",
       "    }\n",
       "\n",
       "    .dataframe tbody tr th {\n",
       "        vertical-align: top;\n",
       "    }\n",
       "\n",
       "    .dataframe thead th {\n",
       "        text-align: right;\n",
       "    }\n",
       "</style>\n",
       "<table border=\"1\" class=\"dataframe\">\n",
       "  <thead>\n",
       "    <tr style=\"text-align: right;\">\n",
       "      <th></th>\n",
       "      <th>id</th>\n",
       "      <th>loss</th>\n",
       "    </tr>\n",
       "  </thead>\n",
       "  <tbody>\n",
       "    <tr>\n",
       "      <th>0</th>\n",
       "      <td>4</td>\n",
       "      <td>1658.947695</td>\n",
       "    </tr>\n",
       "    <tr>\n",
       "      <th>1</th>\n",
       "      <td>6</td>\n",
       "      <td>2014.277471</td>\n",
       "    </tr>\n",
       "    <tr>\n",
       "      <th>2</th>\n",
       "      <td>9</td>\n",
       "      <td>9645.376449</td>\n",
       "    </tr>\n",
       "    <tr>\n",
       "      <th>3</th>\n",
       "      <td>12</td>\n",
       "      <td>6634.372559</td>\n",
       "    </tr>\n",
       "    <tr>\n",
       "      <th>4</th>\n",
       "      <td>15</td>\n",
       "      <td>1066.327247</td>\n",
       "    </tr>\n",
       "  </tbody>\n",
       "</table>\n",
       "</div>"
      ],
      "text/plain": [
       "   id         loss\n",
       "0   4  1658.947695\n",
       "1   6  2014.277471\n",
       "2   9  9645.376449\n",
       "3  12  6634.372559\n",
       "4  15  1066.327247"
      ]
     },
     "execution_count": 9,
     "metadata": {},
     "output_type": "execute_result"
    }
   ],
   "source": [
    "submission = pd.read_csv(SUBMISSION_FILE)\n",
    "submission.iloc[:, 1] = gbdt.predict(x_test)\n",
    "submission.to_csv('../submissions/cb_starter_0_sub.csv.zip', index=None, compression='zip')\n",
    "submission.head()"
   ]
  },
  {
   "cell_type": "markdown",
   "id": "a308c949-c07d-4c35-b8ff-bffa1b3998f2",
   "metadata": {},
   "source": [
    "Private score: 1172.56, Public Score: 1165.85"
   ]
  },
  {
   "cell_type": "code",
   "execution_count": 10,
   "id": "97be5aed-b5d9-4ccc-9b3f-cc2d52594e1d",
   "metadata": {
    "tags": []
   },
   "outputs": [
    {
     "data": {
      "text/plain": [
       "(188318,)"
      ]
     },
     "execution_count": 10,
     "metadata": {},
     "output_type": "execute_result"
    }
   ],
   "source": [
    "train_oof = np.zeros((x_train.shape[0], ))\n",
    "test_preds = 0\n",
    "train_oof.shape"
   ]
  },
  {
   "cell_type": "code",
   "execution_count": 11,
   "id": "89ff814a-f49a-4375-b877-c54cedaadd17",
   "metadata": {
    "tags": []
   },
   "outputs": [
    {
     "name": "stdout",
     "output_type": "stream",
     "text": [
      "Fitting fold 1\n",
      "Fold mean absolute error: 1181.4253904936747\n",
      "Fitting fold 2\n",
      "Fold mean absolute error: 1178.0230747538558\n",
      "Fitting fold 3\n",
      "Fold mean absolute error: 1182.6513232712928\n",
      "Fitting fold 4\n",
      "Fold mean absolute error: 1188.1975169152397\n",
      "Fitting fold 5\n",
      "Fold mean absolute error: 1181.058680690606\n",
      "CPU times: user 5min 28s, sys: 2min 55s, total: 8min 23s\n",
      "Wall time: 1min 5s\n"
     ]
    }
   ],
   "source": [
    "%%time\n",
    "n_splits = 5\n",
    "kf = KFold(n_splits=n_splits, random_state=137, shuffle=True)\n",
    "\n",
    "for jj, (train_index, val_index) in enumerate(kf.split(x_train)):\n",
    "    print(\"Fitting fold\", jj+1)\n",
    "    train_features = x_train[train_index]\n",
    "    train_target = y_train[train_index]\n",
    "    \n",
    "    val_features = x_train[val_index]\n",
    "    val_target = y_train[val_index]\n",
    "    \n",
    "    model = CatBoostRegressor(silent=True)\n",
    "    model.fit(train_features, train_target)\n",
    "    val_pred = model.predict(val_features)\n",
    "    train_oof[val_index] = val_pred\n",
    "    print(\"Fold mean absolute error:\", mean_absolute_error(val_target, val_pred))\n",
    "    test_preds += model.predict(x_test)/n_splits\n",
    "    del train_features, train_target, val_features, val_target\n",
    "    gc.collect()"
   ]
  },
  {
   "cell_type": "code",
   "execution_count": 12,
   "id": "28eef92c-76c0-4cbc-adfe-5fa7b8eb5edf",
   "metadata": {
    "tags": []
   },
   "outputs": [
    {
     "name": "stdout",
     "output_type": "stream",
     "text": [
      "Total mean absolute error: 1182.2711721938529\n"
     ]
    }
   ],
   "source": [
    "print(\"Total mean absolute error:\", mean_absolute_error(y_train, train_oof))"
   ]
  },
  {
   "cell_type": "code",
   "execution_count": 13,
   "id": "1c0993f8-1ae6-4592-b532-3115699ef9d7",
   "metadata": {
    "tags": []
   },
   "outputs": [
    {
     "data": {
      "text/html": [
       "<div>\n",
       "<style scoped>\n",
       "    .dataframe tbody tr th:only-of-type {\n",
       "        vertical-align: middle;\n",
       "    }\n",
       "\n",
       "    .dataframe tbody tr th {\n",
       "        vertical-align: top;\n",
       "    }\n",
       "\n",
       "    .dataframe thead th {\n",
       "        text-align: right;\n",
       "    }\n",
       "</style>\n",
       "<table border=\"1\" class=\"dataframe\">\n",
       "  <thead>\n",
       "    <tr style=\"text-align: right;\">\n",
       "      <th></th>\n",
       "      <th>id</th>\n",
       "      <th>loss</th>\n",
       "    </tr>\n",
       "  </thead>\n",
       "  <tbody>\n",
       "    <tr>\n",
       "      <th>0</th>\n",
       "      <td>4</td>\n",
       "      <td>1698.928861</td>\n",
       "    </tr>\n",
       "    <tr>\n",
       "      <th>1</th>\n",
       "      <td>6</td>\n",
       "      <td>2036.730995</td>\n",
       "    </tr>\n",
       "    <tr>\n",
       "      <th>2</th>\n",
       "      <td>9</td>\n",
       "      <td>9840.936116</td>\n",
       "    </tr>\n",
       "    <tr>\n",
       "      <th>3</th>\n",
       "      <td>12</td>\n",
       "      <td>6798.009651</td>\n",
       "    </tr>\n",
       "    <tr>\n",
       "      <th>4</th>\n",
       "      <td>15</td>\n",
       "      <td>1029.869226</td>\n",
       "    </tr>\n",
       "  </tbody>\n",
       "</table>\n",
       "</div>"
      ],
      "text/plain": [
       "   id         loss\n",
       "0   4  1698.928861\n",
       "1   6  2036.730995\n",
       "2   9  9840.936116\n",
       "3  12  6798.009651\n",
       "4  15  1029.869226"
      ]
     },
     "execution_count": 13,
     "metadata": {},
     "output_type": "execute_result"
    }
   ],
   "source": [
    "submission.iloc[:, 1] = test_preds\n",
    "submission.to_csv(f'../submissions/cb_starter_{n_splits}fold_0_sub.csv.zip', index=None, compression='zip')\n",
    "submission.head()"
   ]
  },
  {
   "cell_type": "markdown",
   "id": "859c3bcc-72df-45eb-b0e9-77ffcc52f372",
   "metadata": {},
   "source": [
    "Private score: 1169.86, Public Score: 1162.58"
   ]
  },
  {
   "cell_type": "code",
   "execution_count": 28,
   "id": "9efce468-12ec-48a0-8884-c6f9336ff829",
   "metadata": {},
   "outputs": [
    {
     "name": "stdout",
     "output_type": "stream",
     "text": [
      "Fitting fold 1\n",
      "Fold mean absolute error: 1181.5677766937297\n",
      "Fitting fold 2\n",
      "Fold mean absolute error: 1176.2118915805302\n",
      "Fitting fold 3\n",
      "Fold mean absolute error: 1183.841229618414\n",
      "Fitting fold 4\n",
      "Fold mean absolute error: 1189.8671553424153\n",
      "Fitting fold 5\n",
      "Fold mean absolute error: 1182.8334069610928\n",
      "Total mean absolute error: 1182.864255016869\n",
      "CPU times: user 1h 41min 43s, sys: 4min 59s, total: 1h 46min 42s\n",
      "Wall time: 7min 39s\n"
     ]
    },
    {
     "data": {
      "text/html": [
       "<div>\n",
       "<style scoped>\n",
       "    .dataframe tbody tr th:only-of-type {\n",
       "        vertical-align: middle;\n",
       "    }\n",
       "\n",
       "    .dataframe tbody tr th {\n",
       "        vertical-align: top;\n",
       "    }\n",
       "\n",
       "    .dataframe thead th {\n",
       "        text-align: right;\n",
       "    }\n",
       "</style>\n",
       "<table border=\"1\" class=\"dataframe\">\n",
       "  <thead>\n",
       "    <tr style=\"text-align: right;\">\n",
       "      <th></th>\n",
       "      <th>id</th>\n",
       "      <th>loss</th>\n",
       "    </tr>\n",
       "  </thead>\n",
       "  <tbody>\n",
       "    <tr>\n",
       "      <th>0</th>\n",
       "      <td>4</td>\n",
       "      <td>1732.661042</td>\n",
       "    </tr>\n",
       "    <tr>\n",
       "      <th>1</th>\n",
       "      <td>6</td>\n",
       "      <td>2079.361713</td>\n",
       "    </tr>\n",
       "    <tr>\n",
       "      <th>2</th>\n",
       "      <td>9</td>\n",
       "      <td>9693.193470</td>\n",
       "    </tr>\n",
       "    <tr>\n",
       "      <th>3</th>\n",
       "      <td>12</td>\n",
       "      <td>6509.881707</td>\n",
       "    </tr>\n",
       "    <tr>\n",
       "      <th>4</th>\n",
       "      <td>15</td>\n",
       "      <td>954.322373</td>\n",
       "    </tr>\n",
       "  </tbody>\n",
       "</table>\n",
       "</div>"
      ],
      "text/plain": [
       "   id         loss\n",
       "0   4  1732.661042\n",
       "1   6  2079.361713\n",
       "2   9  9693.193470\n",
       "3  12  6509.881707\n",
       "4  15   954.322373"
      ]
     },
     "execution_count": 28,
     "metadata": {},
     "output_type": "execute_result"
    }
   ],
   "source": [
    "%%time\n",
    "\n",
    "train_oof = np.zeros((x_train.shape[0], ))\n",
    "test_preds = 0\n",
    "\n",
    "\n",
    "n_splits = 5\n",
    "kf = KFold(n_splits=n_splits, random_state=137, shuffle=True)\n",
    "\n",
    "for jj, (train_index, val_index) in enumerate(kf.split(x_train)):\n",
    "    print(\"Fitting fold\", jj+1)\n",
    "    train_features = train.loc[train_index]\n",
    "    train_target = y_train[train_index]\n",
    "    \n",
    "    val_features = train.loc[val_index]\n",
    "    val_target = y_train[val_index]\n",
    "    \n",
    "    model = CatBoostRegressor(silent=True, cat_features=cats)\n",
    "    model.fit(train_features, train_target)\n",
    "    val_pred = model.predict(val_features)\n",
    "    train_oof[val_index] = val_pred\n",
    "    print(\"Fold mean absolute error:\", mean_absolute_error(val_target, val_pred))\n",
    "    test_preds += model.predict(test)/n_splits\n",
    "    del train_features, train_target, val_features, val_target\n",
    "    gc.collect()\n",
    "    \n",
    "print(\"Total mean absolute error:\", mean_absolute_error(y_train, train_oof))\n",
    "\n",
    "submission.iloc[:, 1] = test_preds\n",
    "submission.to_csv(f'../submissions/cb_starter_w_cats_{n_splits}fold_0_sub.csv.zip', index=None, compression='zip')\n",
    "submission.head()"
   ]
  },
  {
   "cell_type": "markdown",
   "id": "7bccf334-1827-47c4-8029-6c9c1e7c7d3b",
   "metadata": {},
   "source": [
    "Private score: 1172.97, Public Score: 1164.06"
   ]
  },
  {
   "cell_type": "code",
   "execution_count": null,
   "id": "c7184c97-afac-4c8c-8e56-3a80600a939c",
   "metadata": {},
   "outputs": [],
   "source": []
  }
 ],
 "metadata": {
  "kernelspec": {
   "display_name": "Python 3 (ipykernel)",
   "language": "python",
   "name": "python3"
  },
  "language_info": {
   "codemirror_mode": {
    "name": "ipython",
    "version": 3
   },
   "file_extension": ".py",
   "mimetype": "text/x-python",
   "name": "python",
   "nbconvert_exporter": "python",
   "pygments_lexer": "ipython3",
   "version": "3.9.6"
  }
 },
 "nbformat": 4,
 "nbformat_minor": 5
}
