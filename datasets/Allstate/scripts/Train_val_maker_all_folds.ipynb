{
 "cells": [
  {
   "cell_type": "code",
   "execution_count": 11,
   "metadata": {},
   "outputs": [
    {
     "name": "stdout",
     "output_type": "stream",
     "text": [
      "The watermark extension is already loaded. To reload it, use:\n",
      "  %reload_ext watermark\n"
     ]
    }
   ],
   "source": [
    "%load_ext watermark"
   ]
  },
  {
   "cell_type": "code",
   "execution_count": 12,
   "metadata": {},
   "outputs": [
    {
     "name": "stdout",
     "output_type": "stream",
     "text": [
      "Last updated: 2023-05-24T13:53:41.154017-04:00\n",
      "\n",
      "Python implementation: CPython\n",
      "Python version       : 3.7.11\n",
      "IPython version      : 7.10.1\n",
      "\n",
      "Compiler    : GCC 7.5.0\n",
      "OS          : Linux\n",
      "Release     : 4.15.0-161-generic\n",
      "Machine     : x86_64\n",
      "Processor   : x86_64\n",
      "CPU cores   : 40\n",
      "Architecture: 64bit\n",
      "\n"
     ]
    }
   ],
   "source": [
    "%watermark"
   ]
  },
  {
   "cell_type": "code",
   "execution_count": 13,
   "metadata": {},
   "outputs": [
    {
     "data": {
      "text/plain": [
       "'1.6.2'"
      ]
     },
     "execution_count": 13,
     "metadata": {},
     "output_type": "execute_result"
    }
   ],
   "source": [
    "import numpy as np\n",
    "import pandas as pd\n",
    "import gc\n",
    "import time\n",
    "\n",
    "from sklearn.metrics import roc_auc_score, roc_curve\n",
    "from sklearn.model_selection import KFold, StratifiedKFold\n",
    "from tqdm import tqdm\n",
    "\n",
    "import warnings\n",
    "from time import time\n",
    "import xgboost as xgb\n",
    "xgb.__version__"
   ]
  },
  {
   "cell_type": "code",
   "execution_count": 14,
   "metadata": {},
   "outputs": [
    {
     "name": "stdout",
     "output_type": "stream",
     "text": [
      "xgboost: 1.6.2\n",
      "pandas : 1.3.5\n",
      "numpy  : 1.19.2\n",
      "\n"
     ]
    }
   ],
   "source": [
    "%watermark --iversions"
   ]
  },
  {
   "cell_type": "code",
   "execution_count": 15,
   "metadata": {},
   "outputs": [],
   "source": [
    "ID = 'id'\n",
    "TARGET = 'loss'\n",
    "SEED = 0\n",
    "DATA_DIR = \"../input\"\n",
    "\n",
    "TRAIN_FILE = f\"{DATA_DIR}/train.csv.zip\"\n",
    "TEST_FILE = f\"{DATA_DIR}/test.csv.zip\"\n",
    "SUBMISSION_FILE = f\"{DATA_DIR}/sample_submission.csv.zip\""
   ]
  },
  {
   "cell_type": "code",
   "execution_count": 16,
   "metadata": {},
   "outputs": [
    {
     "name": "stdout",
     "output_type": "stream",
     "text": [
      "(188318, 130),(125546, 130)\n"
     ]
    }
   ],
   "source": [
    "train = pd.read_csv(TRAIN_FILE)\n",
    "test = pd.read_csv(TEST_FILE)\n",
    "\n",
    "y_train = train[TARGET].ravel()\n",
    "\n",
    "train.drop([ID, TARGET], axis=1, inplace=True)\n",
    "test.drop([ID], axis=1, inplace=True)\n",
    "\n",
    "print(f\"{train.shape},{test.shape}\")\n",
    "      \n",
    "ntrain = train.shape[0]"
   ]
  },
  {
   "cell_type": "code",
   "execution_count": 17,
   "metadata": {},
   "outputs": [
    {
     "data": {
      "text/plain": [
       "188318"
      ]
     },
     "execution_count": 17,
     "metadata": {},
     "output_type": "execute_result"
    }
   ],
   "source": [
    "ntrain"
   ]
  },
  {
   "cell_type": "code",
   "execution_count": 18,
   "metadata": {},
   "outputs": [
    {
     "name": "stdout",
     "output_type": "stream",
     "text": [
      "   cat1  cat2  cat3  cat4  cat5  cat6  cat7  cat8  cat9  cat10  ...     cont5  \\\n",
      "0     0     1     0     1     0     0     0     0     1      0  ...  0.310061   \n",
      "1     0     1     0     0     0     0     0     0     1      1  ...  0.885834   \n",
      "2     0     1     0     0     1     0     0     0     1      1  ...  0.397069   \n",
      "3     1     1     0     1     0     0     0     0     1      0  ...  0.422268   \n",
      "4     0     1     0     1     0     0     0     0     1      1  ...  0.704268   \n",
      "\n",
      "      cont6     cont7    cont8    cont9   cont10    cont11    cont12  \\\n",
      "0  0.718367  0.335060  0.30260  0.67135  0.83510  0.569745  0.594646   \n",
      "1  0.438917  0.436585  0.60087  0.35127  0.43919  0.338312  0.366307   \n",
      "2  0.289648  0.315545  0.27320  0.26076  0.32446  0.381398  0.373424   \n",
      "3  0.440945  0.391128  0.31796  0.32128  0.44467  0.327915  0.321570   \n",
      "4  0.178193  0.247408  0.24564  0.22089  0.21230  0.204687  0.202213   \n",
      "\n",
      "     cont13    cont14  \n",
      "0  0.822493  0.714843  \n",
      "1  0.611431  0.304496  \n",
      "2  0.195709  0.774425  \n",
      "3  0.605077  0.602642  \n",
      "4  0.246011  0.432606  \n",
      "\n",
      "[5 rows x 130 columns]\n",
      "(188318, 130),(125546, 130)\n"
     ]
    }
   ],
   "source": [
    "train_test = pd.concat((train, test)).reset_index(drop=True)\n",
    "\n",
    "features = train.columns\n",
    "\n",
    "cats = [feat for feat in features if 'cat' in feat]\n",
    "for feat in cats:\n",
    "    train_test[feat] = pd.factorize(train_test[feat], sort=True)[0]\n",
    "\n",
    "print(train_test.head())\n",
    "\n",
    "x_train = train_test.iloc[:ntrain,:]\n",
    "x_test = train_test.iloc[ntrain:,:]\n",
    "\n",
    "print(f\"{train.shape},{test.shape}\")"
   ]
  },
  {
   "cell_type": "code",
   "execution_count": 19,
   "metadata": {},
   "outputs": [],
   "source": [
    "x_train.to_csv('../input/x_train.csv.zip', index=False, compression='zip')\n",
    "x_test.to_csv('./inputx_test.csv.zip', index=False, compression='zip')"
   ]
  },
  {
   "cell_type": "code",
   "execution_count": 20,
   "metadata": {},
   "outputs": [
    {
     "name": "stdout",
     "output_type": "stream",
     "text": [
      "0\n",
      "1\n",
      "2\n",
      "3\n",
      "4\n",
      "CPU times: user 1min 48s, sys: 259 ms, total: 1min 48s\n",
      "Wall time: 1min 48s\n"
     ]
    }
   ],
   "source": [
    "%%time\n",
    "kf = KFold(5, shuffle=True, random_state=137)\n",
    "\n",
    "for i, (train_index, test_index) in enumerate(kf.split(x_train,y_train)):\n",
    "\n",
    "        print(i)\n",
    "        xgtrain, xgval = x_train.loc[train_index], x_train.loc[test_index]\n",
    "        y_tr, y_val = y_train[train_index], y_train[test_index]\n",
    "        \n",
    "        xgtrain['target'] = y_tr\n",
    "        xgval['target'] = y_val\n",
    "        \n",
    "        xgtrain.to_csv(f'../input/xgtrain_fold_{i}.csv.gz', index=False, compression='gzip')\n",
    "        xgval.to_csv(f'../input/xgval_fold_{i}.csv.gz', index=False, compression='gzip')"
   ]
  },
  {
   "cell_type": "code",
   "execution_count": null,
   "metadata": {},
   "outputs": [],
   "source": []
  }
 ],
 "metadata": {
  "kernelspec": {
   "display_name": "Python 3 (ipykernel)",
   "language": "python",
   "name": "python3"
  },
  "language_info": {
   "codemirror_mode": {
    "name": "ipython",
    "version": 3
   },
   "file_extension": ".py",
   "mimetype": "text/x-python",
   "name": "python",
   "nbconvert_exporter": "python",
   "pygments_lexer": "ipython3",
   "version": "3.10.12"
  }
 },
 "nbformat": 4,
 "nbformat_minor": 4
}
