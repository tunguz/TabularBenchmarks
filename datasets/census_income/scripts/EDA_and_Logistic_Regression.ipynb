{
 "cells": [
  {
   "cell_type": "code",
   "execution_count": 1,
   "id": "5546f4c5-3bed-451d-807e-0cf610fb9e9b",
   "metadata": {},
   "outputs": [],
   "source": [
    "import pandas as pd\n",
    "import numpy as np\n",
    "from sklearn.preprocessing import LabelEncoder, LabelBinarizer\n",
    "from sklearn.linear_model import LogisticRegression\n",
    "from sklearn.metrics import accuracy_score, roc_auc_score"
   ]
  },
  {
   "cell_type": "code",
   "execution_count": 2,
   "id": "5775ae32-ef23-4bd5-9116-47ac36a614b1",
   "metadata": {},
   "outputs": [
    {
     "name": "stdout",
     "output_type": "stream",
     "text": [
      "Train dataset shape: (32561, 15)\n",
      "Test dataset shape: (16281, 15)\n"
     ]
    }
   ],
   "source": [
    "CSV_HEADER = [\n",
    "    \"age\",\n",
    "    \"workclass\",\n",
    "    \"fnlwgt\",\n",
    "    \"education\",\n",
    "    \"education_num\",\n",
    "    \"marital_status\",\n",
    "    \"occupation\",\n",
    "    \"relationship\",\n",
    "    \"race\",\n",
    "    \"gender\",\n",
    "    \"capital_gain\",\n",
    "    \"capital_loss\",\n",
    "    \"hours_per_week\",\n",
    "    \"native_country\",\n",
    "    \"income_bracket\",\n",
    "]\n",
    "\n",
    "train_data_file = (\"../../input/census_income/adult.data\")\n",
    "train_data = pd.read_csv(train_data_file, header=None, names=CSV_HEADER)\n",
    "\n",
    "test_data_file = (\"../../input/census_income/adult.test\")\n",
    "test_data = pd.read_csv(test_data_file, header=None, names=CSV_HEADER)\n",
    "\n",
    "test_data.income_bracket = test_data.income_bracket.apply(\n",
    "    lambda value: value.replace(\".\", \"\")\n",
    ")\n",
    "\n",
    "print(f\"Train dataset shape: {train_data.shape}\")\n",
    "print(f\"Test dataset shape: {test_data.shape}\")"
   ]
  },
  {
   "cell_type": "code",
   "execution_count": 3,
   "id": "62615337-7fad-4d28-9adb-ed8a269ef738",
   "metadata": {},
   "outputs": [
    {
     "data": {
      "text/html": [
       "<div>\n",
       "<style scoped>\n",
       "    .dataframe tbody tr th:only-of-type {\n",
       "        vertical-align: middle;\n",
       "    }\n",
       "\n",
       "    .dataframe tbody tr th {\n",
       "        vertical-align: top;\n",
       "    }\n",
       "\n",
       "    .dataframe thead th {\n",
       "        text-align: right;\n",
       "    }\n",
       "</style>\n",
       "<table border=\"1\" class=\"dataframe\">\n",
       "  <thead>\n",
       "    <tr style=\"text-align: right;\">\n",
       "      <th></th>\n",
       "      <th>age</th>\n",
       "      <th>workclass</th>\n",
       "      <th>fnlwgt</th>\n",
       "      <th>education</th>\n",
       "      <th>education_num</th>\n",
       "      <th>marital_status</th>\n",
       "      <th>occupation</th>\n",
       "      <th>relationship</th>\n",
       "      <th>race</th>\n",
       "      <th>gender</th>\n",
       "      <th>capital_gain</th>\n",
       "      <th>capital_loss</th>\n",
       "      <th>hours_per_week</th>\n",
       "      <th>native_country</th>\n",
       "      <th>income_bracket</th>\n",
       "    </tr>\n",
       "  </thead>\n",
       "  <tbody>\n",
       "    <tr>\n",
       "      <th>0</th>\n",
       "      <td>39</td>\n",
       "      <td>State-gov</td>\n",
       "      <td>77516</td>\n",
       "      <td>Bachelors</td>\n",
       "      <td>13</td>\n",
       "      <td>Never-married</td>\n",
       "      <td>Adm-clerical</td>\n",
       "      <td>Not-in-family</td>\n",
       "      <td>White</td>\n",
       "      <td>Male</td>\n",
       "      <td>2174</td>\n",
       "      <td>0</td>\n",
       "      <td>40</td>\n",
       "      <td>United-States</td>\n",
       "      <td>&lt;=50K</td>\n",
       "    </tr>\n",
       "    <tr>\n",
       "      <th>1</th>\n",
       "      <td>50</td>\n",
       "      <td>Self-emp-not-inc</td>\n",
       "      <td>83311</td>\n",
       "      <td>Bachelors</td>\n",
       "      <td>13</td>\n",
       "      <td>Married-civ-spouse</td>\n",
       "      <td>Exec-managerial</td>\n",
       "      <td>Husband</td>\n",
       "      <td>White</td>\n",
       "      <td>Male</td>\n",
       "      <td>0</td>\n",
       "      <td>0</td>\n",
       "      <td>13</td>\n",
       "      <td>United-States</td>\n",
       "      <td>&lt;=50K</td>\n",
       "    </tr>\n",
       "    <tr>\n",
       "      <th>2</th>\n",
       "      <td>38</td>\n",
       "      <td>Private</td>\n",
       "      <td>215646</td>\n",
       "      <td>HS-grad</td>\n",
       "      <td>9</td>\n",
       "      <td>Divorced</td>\n",
       "      <td>Handlers-cleaners</td>\n",
       "      <td>Not-in-family</td>\n",
       "      <td>White</td>\n",
       "      <td>Male</td>\n",
       "      <td>0</td>\n",
       "      <td>0</td>\n",
       "      <td>40</td>\n",
       "      <td>United-States</td>\n",
       "      <td>&lt;=50K</td>\n",
       "    </tr>\n",
       "    <tr>\n",
       "      <th>3</th>\n",
       "      <td>53</td>\n",
       "      <td>Private</td>\n",
       "      <td>234721</td>\n",
       "      <td>11th</td>\n",
       "      <td>7</td>\n",
       "      <td>Married-civ-spouse</td>\n",
       "      <td>Handlers-cleaners</td>\n",
       "      <td>Husband</td>\n",
       "      <td>Black</td>\n",
       "      <td>Male</td>\n",
       "      <td>0</td>\n",
       "      <td>0</td>\n",
       "      <td>40</td>\n",
       "      <td>United-States</td>\n",
       "      <td>&lt;=50K</td>\n",
       "    </tr>\n",
       "    <tr>\n",
       "      <th>4</th>\n",
       "      <td>28</td>\n",
       "      <td>Private</td>\n",
       "      <td>338409</td>\n",
       "      <td>Bachelors</td>\n",
       "      <td>13</td>\n",
       "      <td>Married-civ-spouse</td>\n",
       "      <td>Prof-specialty</td>\n",
       "      <td>Wife</td>\n",
       "      <td>Black</td>\n",
       "      <td>Female</td>\n",
       "      <td>0</td>\n",
       "      <td>0</td>\n",
       "      <td>40</td>\n",
       "      <td>Cuba</td>\n",
       "      <td>&lt;=50K</td>\n",
       "    </tr>\n",
       "  </tbody>\n",
       "</table>\n",
       "</div>"
      ],
      "text/plain": [
       "   age          workclass  fnlwgt   education  education_num  \\\n",
       "0   39          State-gov   77516   Bachelors             13   \n",
       "1   50   Self-emp-not-inc   83311   Bachelors             13   \n",
       "2   38            Private  215646     HS-grad              9   \n",
       "3   53            Private  234721        11th              7   \n",
       "4   28            Private  338409   Bachelors             13   \n",
       "\n",
       "        marital_status          occupation    relationship    race   gender  \\\n",
       "0        Never-married        Adm-clerical   Not-in-family   White     Male   \n",
       "1   Married-civ-spouse     Exec-managerial         Husband   White     Male   \n",
       "2             Divorced   Handlers-cleaners   Not-in-family   White     Male   \n",
       "3   Married-civ-spouse   Handlers-cleaners         Husband   Black     Male   \n",
       "4   Married-civ-spouse      Prof-specialty            Wife   Black   Female   \n",
       "\n",
       "   capital_gain  capital_loss  hours_per_week  native_country income_bracket  \n",
       "0          2174             0              40   United-States          <=50K  \n",
       "1             0             0              13   United-States          <=50K  \n",
       "2             0             0              40   United-States          <=50K  \n",
       "3             0             0              40   United-States          <=50K  \n",
       "4             0             0              40            Cuba          <=50K  "
      ]
     },
     "execution_count": 3,
     "metadata": {},
     "output_type": "execute_result"
    }
   ],
   "source": [
    "train_data.head()"
   ]
  },
  {
   "cell_type": "code",
   "execution_count": 4,
   "id": "ae13f78f-1b92-4f85-b295-0b1f5f72ddb3",
   "metadata": {},
   "outputs": [
    {
     "data": {
      "text/html": [
       "<div>\n",
       "<style scoped>\n",
       "    .dataframe tbody tr th:only-of-type {\n",
       "        vertical-align: middle;\n",
       "    }\n",
       "\n",
       "    .dataframe tbody tr th {\n",
       "        vertical-align: top;\n",
       "    }\n",
       "\n",
       "    .dataframe thead th {\n",
       "        text-align: right;\n",
       "    }\n",
       "</style>\n",
       "<table border=\"1\" class=\"dataframe\">\n",
       "  <thead>\n",
       "    <tr style=\"text-align: right;\">\n",
       "      <th></th>\n",
       "      <th>age</th>\n",
       "      <th>workclass</th>\n",
       "      <th>fnlwgt</th>\n",
       "      <th>education</th>\n",
       "      <th>education_num</th>\n",
       "      <th>marital_status</th>\n",
       "      <th>occupation</th>\n",
       "      <th>relationship</th>\n",
       "      <th>race</th>\n",
       "      <th>gender</th>\n",
       "      <th>capital_gain</th>\n",
       "      <th>capital_loss</th>\n",
       "      <th>hours_per_week</th>\n",
       "      <th>native_country</th>\n",
       "      <th>income_bracket</th>\n",
       "    </tr>\n",
       "  </thead>\n",
       "  <tbody>\n",
       "    <tr>\n",
       "      <th>0</th>\n",
       "      <td>25</td>\n",
       "      <td>Private</td>\n",
       "      <td>226802</td>\n",
       "      <td>11th</td>\n",
       "      <td>7</td>\n",
       "      <td>Never-married</td>\n",
       "      <td>Machine-op-inspct</td>\n",
       "      <td>Own-child</td>\n",
       "      <td>Black</td>\n",
       "      <td>Male</td>\n",
       "      <td>0</td>\n",
       "      <td>0</td>\n",
       "      <td>40</td>\n",
       "      <td>United-States</td>\n",
       "      <td>&lt;=50K</td>\n",
       "    </tr>\n",
       "    <tr>\n",
       "      <th>1</th>\n",
       "      <td>38</td>\n",
       "      <td>Private</td>\n",
       "      <td>89814</td>\n",
       "      <td>HS-grad</td>\n",
       "      <td>9</td>\n",
       "      <td>Married-civ-spouse</td>\n",
       "      <td>Farming-fishing</td>\n",
       "      <td>Husband</td>\n",
       "      <td>White</td>\n",
       "      <td>Male</td>\n",
       "      <td>0</td>\n",
       "      <td>0</td>\n",
       "      <td>50</td>\n",
       "      <td>United-States</td>\n",
       "      <td>&lt;=50K</td>\n",
       "    </tr>\n",
       "    <tr>\n",
       "      <th>2</th>\n",
       "      <td>28</td>\n",
       "      <td>Local-gov</td>\n",
       "      <td>336951</td>\n",
       "      <td>Assoc-acdm</td>\n",
       "      <td>12</td>\n",
       "      <td>Married-civ-spouse</td>\n",
       "      <td>Protective-serv</td>\n",
       "      <td>Husband</td>\n",
       "      <td>White</td>\n",
       "      <td>Male</td>\n",
       "      <td>0</td>\n",
       "      <td>0</td>\n",
       "      <td>40</td>\n",
       "      <td>United-States</td>\n",
       "      <td>&gt;50K</td>\n",
       "    </tr>\n",
       "    <tr>\n",
       "      <th>3</th>\n",
       "      <td>44</td>\n",
       "      <td>Private</td>\n",
       "      <td>160323</td>\n",
       "      <td>Some-college</td>\n",
       "      <td>10</td>\n",
       "      <td>Married-civ-spouse</td>\n",
       "      <td>Machine-op-inspct</td>\n",
       "      <td>Husband</td>\n",
       "      <td>Black</td>\n",
       "      <td>Male</td>\n",
       "      <td>7688</td>\n",
       "      <td>0</td>\n",
       "      <td>40</td>\n",
       "      <td>United-States</td>\n",
       "      <td>&gt;50K</td>\n",
       "    </tr>\n",
       "    <tr>\n",
       "      <th>4</th>\n",
       "      <td>18</td>\n",
       "      <td>?</td>\n",
       "      <td>103497</td>\n",
       "      <td>Some-college</td>\n",
       "      <td>10</td>\n",
       "      <td>Never-married</td>\n",
       "      <td>?</td>\n",
       "      <td>Own-child</td>\n",
       "      <td>White</td>\n",
       "      <td>Female</td>\n",
       "      <td>0</td>\n",
       "      <td>0</td>\n",
       "      <td>30</td>\n",
       "      <td>United-States</td>\n",
       "      <td>&lt;=50K</td>\n",
       "    </tr>\n",
       "  </tbody>\n",
       "</table>\n",
       "</div>"
      ],
      "text/plain": [
       "   age   workclass  fnlwgt      education  education_num       marital_status  \\\n",
       "0   25     Private  226802           11th              7        Never-married   \n",
       "1   38     Private   89814        HS-grad              9   Married-civ-spouse   \n",
       "2   28   Local-gov  336951     Assoc-acdm             12   Married-civ-spouse   \n",
       "3   44     Private  160323   Some-college             10   Married-civ-spouse   \n",
       "4   18           ?  103497   Some-college             10        Never-married   \n",
       "\n",
       "           occupation relationship    race   gender  capital_gain  \\\n",
       "0   Machine-op-inspct    Own-child   Black     Male             0   \n",
       "1     Farming-fishing      Husband   White     Male             0   \n",
       "2     Protective-serv      Husband   White     Male             0   \n",
       "3   Machine-op-inspct      Husband   Black     Male          7688   \n",
       "4                   ?    Own-child   White   Female             0   \n",
       "\n",
       "   capital_loss  hours_per_week  native_country income_bracket  \n",
       "0             0              40   United-States          <=50K  \n",
       "1             0              50   United-States          <=50K  \n",
       "2             0              40   United-States           >50K  \n",
       "3             0              40   United-States           >50K  \n",
       "4             0              30   United-States          <=50K  "
      ]
     },
     "execution_count": 4,
     "metadata": {},
     "output_type": "execute_result"
    }
   ],
   "source": [
    "test_data.head()"
   ]
  },
  {
   "cell_type": "code",
   "execution_count": 5,
   "id": "ec1b94cd-0c93-46f6-8b48-18a2b603cf55",
   "metadata": {},
   "outputs": [
    {
     "data": {
      "text/plain": [
       "array([' <=50K', ' <=50K', ' <=50K', ..., ' <=50K', ' <=50K', ' >50K'],\n",
       "      dtype=object)"
      ]
     },
     "execution_count": 5,
     "metadata": {},
     "output_type": "execute_result"
    }
   ],
   "source": [
    "train_data['income_bracket'].values"
   ]
  },
  {
   "cell_type": "code",
   "execution_count": 6,
   "id": "40df1fb1-1faa-42c8-ab66-809a6c36bad3",
   "metadata": {},
   "outputs": [],
   "source": [
    "train_data['income_bracket'] = 1*(train_data['income_bracket'] == ' >50K')\n",
    "test_data['income_bracket'] = 1*(test_data['income_bracket'] == ' >50K')"
   ]
  },
  {
   "cell_type": "code",
   "execution_count": 7,
   "id": "96b6dfd3-5fd6-4651-9316-bd8543405056",
   "metadata": {},
   "outputs": [],
   "source": [
    "train_data_file = \"../input/train_data.csv\"\n",
    "test_data_file = \"../input/test_data.csv\"\n",
    "\n",
    "train_data.to_csv(train_data_file, index=False, header=False)\n",
    "test_data.to_csv(test_data_file, index=False, header=False)"
   ]
  },
  {
   "cell_type": "code",
   "execution_count": 8,
   "id": "a0f7439a-e1d1-463a-a669-c2512a062e9a",
   "metadata": {},
   "outputs": [
    {
     "data": {
      "text/plain": [
       "0.2408095574460244"
      ]
     },
     "execution_count": 8,
     "metadata": {},
     "output_type": "execute_result"
    }
   ],
   "source": [
    "train_data.income_bracket.mean()"
   ]
  },
  {
   "cell_type": "code",
   "execution_count": 9,
   "id": "28d4e89e-564d-4ad5-906a-ce36ffc6c82c",
   "metadata": {},
   "outputs": [
    {
     "data": {
      "text/plain": [
       "0.23622627602727106"
      ]
     },
     "execution_count": 9,
     "metadata": {},
     "output_type": "execute_result"
    }
   ],
   "source": [
    "test_data.income_bracket.mean()"
   ]
  },
  {
   "cell_type": "code",
   "execution_count": 10,
   "id": "2658fe2f-41cb-4afa-934a-4bfdd17b371a",
   "metadata": {},
   "outputs": [
    {
     "data": {
      "text/plain": [
       "0.8124808058473066"
      ]
     },
     "execution_count": 10,
     "metadata": {},
     "output_type": "execute_result"
    }
   ],
   "source": [
    "lr = LogisticRegression(C=1)\n",
    "lr.fit(train_data[['education_num', 'age', 'capital_gain', 'capital_loss', 'hours_per_week']].values, train_data['income_bracket'])\n",
    "test_preds = lr.predict(test_data[['education_num', 'age', 'capital_gain', 'capital_loss', 'hours_per_week']].values)\n",
    "accuracy_score(test_data['income_bracket'], test_preds)"
   ]
  },
  {
   "cell_type": "code",
   "execution_count": 11,
   "id": "258726b4-2eb6-4197-bdcf-b49bde6d5cfc",
   "metadata": {},
   "outputs": [
    {
     "data": {
      "text/plain": [
       "array([' Female', ' Male'], dtype=object)"
      ]
     },
     "execution_count": 11,
     "metadata": {},
     "output_type": "execute_result"
    }
   ],
   "source": [
    "np.unique(train_data['gender'].values)"
   ]
  },
  {
   "cell_type": "code",
   "execution_count": 12,
   "id": "b2f48a66-2b82-4fae-9622-6c2249d274e3",
   "metadata": {},
   "outputs": [],
   "source": [
    "train_data['gender'] = 1*(train_data['gender'] == ' Male')\n",
    "test_data['gender'] = 1*(test_data['gender'] == ' Male')"
   ]
  },
  {
   "cell_type": "code",
   "execution_count": 13,
   "id": "e665add9-9550-4ea0-998b-349e5d4551da",
   "metadata": {},
   "outputs": [
    {
     "data": {
      "text/plain": [
       "0.6692054912318418"
      ]
     },
     "execution_count": 13,
     "metadata": {},
     "output_type": "execute_result"
    }
   ],
   "source": [
    "train_data['gender'].mean()"
   ]
  },
  {
   "cell_type": "code",
   "execution_count": 14,
   "id": "7fac5272-a0fc-4af9-95ee-76e1bd5d564d",
   "metadata": {},
   "outputs": [
    {
     "data": {
      "text/plain": [
       "0.8228610036238561"
      ]
     },
     "execution_count": 14,
     "metadata": {},
     "output_type": "execute_result"
    }
   ],
   "source": [
    "lr = LogisticRegression(C=1, max_iter=1000)\n",
    "lr.fit(train_data[['education_num', 'age', 'capital_gain', 'capital_loss', 'hours_per_week', 'gender']].values, train_data['income_bracket'])\n",
    "test_preds = lr.predict(test_data[['education_num', 'age', 'capital_gain', 'capital_loss', 'hours_per_week', 'gender']].values)\n",
    "accuracy_score(test_data['income_bracket'], test_preds)"
   ]
  },
  {
   "cell_type": "code",
   "execution_count": 15,
   "id": "781c7649-a514-4b26-92ad-6b36366c26b9",
   "metadata": {},
   "outputs": [
    {
     "data": {
      "text/plain": [
       "array([' Husband', ' Not-in-family', ' Other-relative', ' Own-child',\n",
       "       ' Unmarried', ' Wife'], dtype=object)"
      ]
     },
     "execution_count": 15,
     "metadata": {},
     "output_type": "execute_result"
    }
   ],
   "source": [
    "np.unique(train_data['relationship'].values)"
   ]
  },
  {
   "cell_type": "code",
   "execution_count": 16,
   "id": "edf31f58-145c-4e51-aecf-61d8b827680f",
   "metadata": {},
   "outputs": [
    {
     "data": {
      "text/plain": [
       "array([' Amer-Indian-Eskimo', ' Asian-Pac-Islander', ' Black', ' Other',\n",
       "       ' White'], dtype=object)"
      ]
     },
     "execution_count": 16,
     "metadata": {},
     "output_type": "execute_result"
    }
   ],
   "source": [
    "np.unique(train_data['race'].values)"
   ]
  },
  {
   "cell_type": "code",
   "execution_count": 17,
   "id": "f7c41f2b-395c-4c58-b271-cff229b22a9e",
   "metadata": {},
   "outputs": [],
   "source": [
    "lb = LabelBinarizer()\n",
    "race_train = lb.fit_transform(train_data['race'].values)"
   ]
  },
  {
   "cell_type": "code",
   "execution_count": 18,
   "id": "76cb286b-4422-4af5-82c4-d2bd5ad9bf00",
   "metadata": {},
   "outputs": [],
   "source": [
    "race_test = lb.transform(test_data['race'].values)"
   ]
  },
  {
   "cell_type": "code",
   "execution_count": 19,
   "id": "6328420f-fc7c-43f8-b46d-1db95a8c4f2a",
   "metadata": {},
   "outputs": [
    {
     "data": {
      "text/plain": [
       "(32561, 5)"
      ]
     },
     "execution_count": 19,
     "metadata": {},
     "output_type": "execute_result"
    }
   ],
   "source": [
    "race_train.shape"
   ]
  },
  {
   "cell_type": "code",
   "execution_count": 20,
   "id": "d6e51d4d-b0bb-4e8e-805d-d139138a86cf",
   "metadata": {},
   "outputs": [],
   "source": [
    "race_train = pd.DataFrame(race_train, columns = ['race0', 'race1', 'race2', 'race3', 'race4'] )\n",
    "race_test = pd.DataFrame(race_test, columns = ['race0', 'race1', 'race2', 'race3', 'race4'] )"
   ]
  },
  {
   "cell_type": "code",
   "execution_count": 21,
   "id": "e65c84b1-4499-4f07-9dee-ac9f777d699b",
   "metadata": {},
   "outputs": [
    {
     "data": {
      "text/html": [
       "<div>\n",
       "<style scoped>\n",
       "    .dataframe tbody tr th:only-of-type {\n",
       "        vertical-align: middle;\n",
       "    }\n",
       "\n",
       "    .dataframe tbody tr th {\n",
       "        vertical-align: top;\n",
       "    }\n",
       "\n",
       "    .dataframe thead th {\n",
       "        text-align: right;\n",
       "    }\n",
       "</style>\n",
       "<table border=\"1\" class=\"dataframe\">\n",
       "  <thead>\n",
       "    <tr style=\"text-align: right;\">\n",
       "      <th></th>\n",
       "      <th>age</th>\n",
       "      <th>workclass</th>\n",
       "      <th>fnlwgt</th>\n",
       "      <th>education</th>\n",
       "      <th>education_num</th>\n",
       "      <th>marital_status</th>\n",
       "      <th>occupation</th>\n",
       "      <th>relationship</th>\n",
       "      <th>race</th>\n",
       "      <th>gender</th>\n",
       "      <th>capital_gain</th>\n",
       "      <th>capital_loss</th>\n",
       "      <th>hours_per_week</th>\n",
       "      <th>native_country</th>\n",
       "      <th>income_bracket</th>\n",
       "      <th>race0</th>\n",
       "      <th>race1</th>\n",
       "      <th>race2</th>\n",
       "      <th>race3</th>\n",
       "      <th>race4</th>\n",
       "    </tr>\n",
       "  </thead>\n",
       "  <tbody>\n",
       "    <tr>\n",
       "      <th>0</th>\n",
       "      <td>39</td>\n",
       "      <td>State-gov</td>\n",
       "      <td>77516</td>\n",
       "      <td>Bachelors</td>\n",
       "      <td>13</td>\n",
       "      <td>Never-married</td>\n",
       "      <td>Adm-clerical</td>\n",
       "      <td>Not-in-family</td>\n",
       "      <td>White</td>\n",
       "      <td>1</td>\n",
       "      <td>2174</td>\n",
       "      <td>0</td>\n",
       "      <td>40</td>\n",
       "      <td>United-States</td>\n",
       "      <td>0</td>\n",
       "      <td>0</td>\n",
       "      <td>0</td>\n",
       "      <td>0</td>\n",
       "      <td>0</td>\n",
       "      <td>1</td>\n",
       "    </tr>\n",
       "    <tr>\n",
       "      <th>1</th>\n",
       "      <td>50</td>\n",
       "      <td>Self-emp-not-inc</td>\n",
       "      <td>83311</td>\n",
       "      <td>Bachelors</td>\n",
       "      <td>13</td>\n",
       "      <td>Married-civ-spouse</td>\n",
       "      <td>Exec-managerial</td>\n",
       "      <td>Husband</td>\n",
       "      <td>White</td>\n",
       "      <td>1</td>\n",
       "      <td>0</td>\n",
       "      <td>0</td>\n",
       "      <td>13</td>\n",
       "      <td>United-States</td>\n",
       "      <td>0</td>\n",
       "      <td>0</td>\n",
       "      <td>0</td>\n",
       "      <td>0</td>\n",
       "      <td>0</td>\n",
       "      <td>1</td>\n",
       "    </tr>\n",
       "    <tr>\n",
       "      <th>2</th>\n",
       "      <td>38</td>\n",
       "      <td>Private</td>\n",
       "      <td>215646</td>\n",
       "      <td>HS-grad</td>\n",
       "      <td>9</td>\n",
       "      <td>Divorced</td>\n",
       "      <td>Handlers-cleaners</td>\n",
       "      <td>Not-in-family</td>\n",
       "      <td>White</td>\n",
       "      <td>1</td>\n",
       "      <td>0</td>\n",
       "      <td>0</td>\n",
       "      <td>40</td>\n",
       "      <td>United-States</td>\n",
       "      <td>0</td>\n",
       "      <td>0</td>\n",
       "      <td>0</td>\n",
       "      <td>0</td>\n",
       "      <td>0</td>\n",
       "      <td>1</td>\n",
       "    </tr>\n",
       "    <tr>\n",
       "      <th>3</th>\n",
       "      <td>53</td>\n",
       "      <td>Private</td>\n",
       "      <td>234721</td>\n",
       "      <td>11th</td>\n",
       "      <td>7</td>\n",
       "      <td>Married-civ-spouse</td>\n",
       "      <td>Handlers-cleaners</td>\n",
       "      <td>Husband</td>\n",
       "      <td>Black</td>\n",
       "      <td>1</td>\n",
       "      <td>0</td>\n",
       "      <td>0</td>\n",
       "      <td>40</td>\n",
       "      <td>United-States</td>\n",
       "      <td>0</td>\n",
       "      <td>0</td>\n",
       "      <td>0</td>\n",
       "      <td>1</td>\n",
       "      <td>0</td>\n",
       "      <td>0</td>\n",
       "    </tr>\n",
       "    <tr>\n",
       "      <th>4</th>\n",
       "      <td>28</td>\n",
       "      <td>Private</td>\n",
       "      <td>338409</td>\n",
       "      <td>Bachelors</td>\n",
       "      <td>13</td>\n",
       "      <td>Married-civ-spouse</td>\n",
       "      <td>Prof-specialty</td>\n",
       "      <td>Wife</td>\n",
       "      <td>Black</td>\n",
       "      <td>0</td>\n",
       "      <td>0</td>\n",
       "      <td>0</td>\n",
       "      <td>40</td>\n",
       "      <td>Cuba</td>\n",
       "      <td>0</td>\n",
       "      <td>0</td>\n",
       "      <td>0</td>\n",
       "      <td>1</td>\n",
       "      <td>0</td>\n",
       "      <td>0</td>\n",
       "    </tr>\n",
       "  </tbody>\n",
       "</table>\n",
       "</div>"
      ],
      "text/plain": [
       "   age          workclass  fnlwgt   education  education_num  \\\n",
       "0   39          State-gov   77516   Bachelors             13   \n",
       "1   50   Self-emp-not-inc   83311   Bachelors             13   \n",
       "2   38            Private  215646     HS-grad              9   \n",
       "3   53            Private  234721        11th              7   \n",
       "4   28            Private  338409   Bachelors             13   \n",
       "\n",
       "        marital_status          occupation    relationship    race  gender  \\\n",
       "0        Never-married        Adm-clerical   Not-in-family   White       1   \n",
       "1   Married-civ-spouse     Exec-managerial         Husband   White       1   \n",
       "2             Divorced   Handlers-cleaners   Not-in-family   White       1   \n",
       "3   Married-civ-spouse   Handlers-cleaners         Husband   Black       1   \n",
       "4   Married-civ-spouse      Prof-specialty            Wife   Black       0   \n",
       "\n",
       "   capital_gain  capital_loss  hours_per_week  native_country  income_bracket  \\\n",
       "0          2174             0              40   United-States               0   \n",
       "1             0             0              13   United-States               0   \n",
       "2             0             0              40   United-States               0   \n",
       "3             0             0              40   United-States               0   \n",
       "4             0             0              40            Cuba               0   \n",
       "\n",
       "   race0  race1  race2  race3  race4  \n",
       "0      0      0      0      0      1  \n",
       "1      0      0      0      0      1  \n",
       "2      0      0      0      0      1  \n",
       "3      0      0      1      0      0  \n",
       "4      0      0      1      0      0  "
      ]
     },
     "execution_count": 21,
     "metadata": {},
     "output_type": "execute_result"
    }
   ],
   "source": [
    "train_data = pd.concat([train_data, race_train], axis=1)\n",
    "test_data = pd.concat([test_data, race_test], axis=1)\n",
    "train_data.head()"
   ]
  },
  {
   "cell_type": "code",
   "execution_count": 22,
   "id": "963da857-e69c-44e1-a09d-c48222d7c38d",
   "metadata": {},
   "outputs": [
    {
     "data": {
      "text/plain": [
       "0.8242736932620847"
      ]
     },
     "execution_count": 22,
     "metadata": {},
     "output_type": "execute_result"
    }
   ],
   "source": [
    "columns = ['education_num', 'age', 'capital_gain', 'capital_loss', 'hours_per_week', 'gender', 'race0', 'race1', 'race2', 'race3', 'race4']\n",
    "lr = LogisticRegression(C=1, max_iter=1000)\n",
    "lr.fit(train_data[columns].values, train_data['income_bracket'])\n",
    "test_preds = lr.predict(test_data[columns].values)\n",
    "accuracy_score(test_data['income_bracket'], test_preds)"
   ]
  },
  {
   "cell_type": "code",
   "execution_count": 23,
   "id": "a32c5083-7637-445e-aac0-8f77a72ad840",
   "metadata": {},
   "outputs": [],
   "source": [
    "lb = LabelBinarizer()\n",
    "relationship_train = lb.fit_transform(train_data['relationship'].values)\n",
    "relationship_test = lb.transform(test_data['relationship'].values)\n",
    "relationship_train = pd.DataFrame(relationship_train, columns = ['relationship0', 'relationship1', 'relationship2', \n",
    "                                                                 'relationship3', 'relationship4', 'relationship5'] )\n",
    "relationship_test = pd.DataFrame(relationship_test, columns = ['relationship0', 'relationship1', 'relationship2', \n",
    "                                                                 'relationship3', 'relationship4', 'relationship5'] )"
   ]
  },
  {
   "cell_type": "code",
   "execution_count": 24,
   "id": "62934282-7db2-4514-8f70-f135c39281b2",
   "metadata": {},
   "outputs": [
    {
     "data": {
      "text/html": [
       "<div>\n",
       "<style scoped>\n",
       "    .dataframe tbody tr th:only-of-type {\n",
       "        vertical-align: middle;\n",
       "    }\n",
       "\n",
       "    .dataframe tbody tr th {\n",
       "        vertical-align: top;\n",
       "    }\n",
       "\n",
       "    .dataframe thead th {\n",
       "        text-align: right;\n",
       "    }\n",
       "</style>\n",
       "<table border=\"1\" class=\"dataframe\">\n",
       "  <thead>\n",
       "    <tr style=\"text-align: right;\">\n",
       "      <th></th>\n",
       "      <th>age</th>\n",
       "      <th>workclass</th>\n",
       "      <th>fnlwgt</th>\n",
       "      <th>education</th>\n",
       "      <th>education_num</th>\n",
       "      <th>marital_status</th>\n",
       "      <th>occupation</th>\n",
       "      <th>relationship</th>\n",
       "      <th>race</th>\n",
       "      <th>gender</th>\n",
       "      <th>...</th>\n",
       "      <th>race1</th>\n",
       "      <th>race2</th>\n",
       "      <th>race3</th>\n",
       "      <th>race4</th>\n",
       "      <th>relationship0</th>\n",
       "      <th>relationship1</th>\n",
       "      <th>relationship2</th>\n",
       "      <th>relationship3</th>\n",
       "      <th>relationship4</th>\n",
       "      <th>relationship5</th>\n",
       "    </tr>\n",
       "  </thead>\n",
       "  <tbody>\n",
       "    <tr>\n",
       "      <th>0</th>\n",
       "      <td>39</td>\n",
       "      <td>State-gov</td>\n",
       "      <td>77516</td>\n",
       "      <td>Bachelors</td>\n",
       "      <td>13</td>\n",
       "      <td>Never-married</td>\n",
       "      <td>Adm-clerical</td>\n",
       "      <td>Not-in-family</td>\n",
       "      <td>White</td>\n",
       "      <td>1</td>\n",
       "      <td>...</td>\n",
       "      <td>0</td>\n",
       "      <td>0</td>\n",
       "      <td>0</td>\n",
       "      <td>1</td>\n",
       "      <td>0</td>\n",
       "      <td>1</td>\n",
       "      <td>0</td>\n",
       "      <td>0</td>\n",
       "      <td>0</td>\n",
       "      <td>0</td>\n",
       "    </tr>\n",
       "    <tr>\n",
       "      <th>1</th>\n",
       "      <td>50</td>\n",
       "      <td>Self-emp-not-inc</td>\n",
       "      <td>83311</td>\n",
       "      <td>Bachelors</td>\n",
       "      <td>13</td>\n",
       "      <td>Married-civ-spouse</td>\n",
       "      <td>Exec-managerial</td>\n",
       "      <td>Husband</td>\n",
       "      <td>White</td>\n",
       "      <td>1</td>\n",
       "      <td>...</td>\n",
       "      <td>0</td>\n",
       "      <td>0</td>\n",
       "      <td>0</td>\n",
       "      <td>1</td>\n",
       "      <td>1</td>\n",
       "      <td>0</td>\n",
       "      <td>0</td>\n",
       "      <td>0</td>\n",
       "      <td>0</td>\n",
       "      <td>0</td>\n",
       "    </tr>\n",
       "    <tr>\n",
       "      <th>2</th>\n",
       "      <td>38</td>\n",
       "      <td>Private</td>\n",
       "      <td>215646</td>\n",
       "      <td>HS-grad</td>\n",
       "      <td>9</td>\n",
       "      <td>Divorced</td>\n",
       "      <td>Handlers-cleaners</td>\n",
       "      <td>Not-in-family</td>\n",
       "      <td>White</td>\n",
       "      <td>1</td>\n",
       "      <td>...</td>\n",
       "      <td>0</td>\n",
       "      <td>0</td>\n",
       "      <td>0</td>\n",
       "      <td>1</td>\n",
       "      <td>0</td>\n",
       "      <td>1</td>\n",
       "      <td>0</td>\n",
       "      <td>0</td>\n",
       "      <td>0</td>\n",
       "      <td>0</td>\n",
       "    </tr>\n",
       "    <tr>\n",
       "      <th>3</th>\n",
       "      <td>53</td>\n",
       "      <td>Private</td>\n",
       "      <td>234721</td>\n",
       "      <td>11th</td>\n",
       "      <td>7</td>\n",
       "      <td>Married-civ-spouse</td>\n",
       "      <td>Handlers-cleaners</td>\n",
       "      <td>Husband</td>\n",
       "      <td>Black</td>\n",
       "      <td>1</td>\n",
       "      <td>...</td>\n",
       "      <td>0</td>\n",
       "      <td>1</td>\n",
       "      <td>0</td>\n",
       "      <td>0</td>\n",
       "      <td>1</td>\n",
       "      <td>0</td>\n",
       "      <td>0</td>\n",
       "      <td>0</td>\n",
       "      <td>0</td>\n",
       "      <td>0</td>\n",
       "    </tr>\n",
       "    <tr>\n",
       "      <th>4</th>\n",
       "      <td>28</td>\n",
       "      <td>Private</td>\n",
       "      <td>338409</td>\n",
       "      <td>Bachelors</td>\n",
       "      <td>13</td>\n",
       "      <td>Married-civ-spouse</td>\n",
       "      <td>Prof-specialty</td>\n",
       "      <td>Wife</td>\n",
       "      <td>Black</td>\n",
       "      <td>0</td>\n",
       "      <td>...</td>\n",
       "      <td>0</td>\n",
       "      <td>1</td>\n",
       "      <td>0</td>\n",
       "      <td>0</td>\n",
       "      <td>0</td>\n",
       "      <td>0</td>\n",
       "      <td>0</td>\n",
       "      <td>0</td>\n",
       "      <td>0</td>\n",
       "      <td>1</td>\n",
       "    </tr>\n",
       "  </tbody>\n",
       "</table>\n",
       "<p>5 rows × 26 columns</p>\n",
       "</div>"
      ],
      "text/plain": [
       "   age          workclass  fnlwgt   education  education_num  \\\n",
       "0   39          State-gov   77516   Bachelors             13   \n",
       "1   50   Self-emp-not-inc   83311   Bachelors             13   \n",
       "2   38            Private  215646     HS-grad              9   \n",
       "3   53            Private  234721        11th              7   \n",
       "4   28            Private  338409   Bachelors             13   \n",
       "\n",
       "        marital_status          occupation    relationship    race  gender  \\\n",
       "0        Never-married        Adm-clerical   Not-in-family   White       1   \n",
       "1   Married-civ-spouse     Exec-managerial         Husband   White       1   \n",
       "2             Divorced   Handlers-cleaners   Not-in-family   White       1   \n",
       "3   Married-civ-spouse   Handlers-cleaners         Husband   Black       1   \n",
       "4   Married-civ-spouse      Prof-specialty            Wife   Black       0   \n",
       "\n",
       "   ...  race1  race2  race3 race4  relationship0  relationship1  \\\n",
       "0  ...      0      0      0     1              0              1   \n",
       "1  ...      0      0      0     1              1              0   \n",
       "2  ...      0      0      0     1              0              1   \n",
       "3  ...      0      1      0     0              1              0   \n",
       "4  ...      0      1      0     0              0              0   \n",
       "\n",
       "   relationship2  relationship3  relationship4  relationship5  \n",
       "0              0              0              0              0  \n",
       "1              0              0              0              0  \n",
       "2              0              0              0              0  \n",
       "3              0              0              0              0  \n",
       "4              0              0              0              1  \n",
       "\n",
       "[5 rows x 26 columns]"
      ]
     },
     "execution_count": 24,
     "metadata": {},
     "output_type": "execute_result"
    }
   ],
   "source": [
    "train_data = pd.concat([train_data, relationship_train], axis=1)\n",
    "test_data = pd.concat([test_data, relationship_test], axis=1)\n",
    "train_data.head()"
   ]
  },
  {
   "cell_type": "code",
   "execution_count": 25,
   "id": "d6ddd5c2-db6c-43d6-9f8e-177691059494",
   "metadata": {},
   "outputs": [
    {
     "data": {
      "text/plain": [
       "0.8441127694859039"
      ]
     },
     "execution_count": 25,
     "metadata": {},
     "output_type": "execute_result"
    }
   ],
   "source": [
    "columns = ['education_num', 'age', 'capital_gain', 'capital_loss', 'hours_per_week', 'gender', \n",
    "           'race0', 'race1', 'race2', 'race3', 'race4', 'relationship0', 'relationship1', 'relationship2', \n",
    "            'relationship3', 'relationship4', 'relationship5']\n",
    "lr = LogisticRegression(C=1, max_iter=5000)\n",
    "lr.fit(train_data[columns].values, train_data['income_bracket'])\n",
    "test_preds = lr.predict(test_data[columns].values)\n",
    "accuracy_score(test_data['income_bracket'], test_preds)"
   ]
  },
  {
   "cell_type": "code",
   "execution_count": 26,
   "id": "cd6ef57f-2edb-46db-bb53-a8333b9149e5",
   "metadata": {},
   "outputs": [
    {
     "data": {
      "text/plain": [
       "array([' ?', ' Federal-gov', ' Local-gov', ' Never-worked', ' Private',\n",
       "       ' Self-emp-inc', ' Self-emp-not-inc', ' State-gov', ' Without-pay'],\n",
       "      dtype=object)"
      ]
     },
     "execution_count": 26,
     "metadata": {},
     "output_type": "execute_result"
    }
   ],
   "source": [
    "np.unique(train_data['workclass'].values)"
   ]
  },
  {
   "cell_type": "code",
   "execution_count": 27,
   "id": "77c8f91d-7e74-43d2-a79b-ffd35ea103e7",
   "metadata": {},
   "outputs": [],
   "source": [
    "workclass_train = lb.fit_transform(train_data['workclass'].values)\n",
    "workclass_test = lb.transform(test_data['workclass'].values)\n",
    "workclass_train = pd.DataFrame(workclass_train, columns = ['workclass0', 'workclass1', 'workclass2', \n",
    "                                                                 'workclass3', 'workclass4', 'workclass5',\n",
    "                                                                'workclass6', 'workclass7', 'workclass8'] )\n",
    "workclass_test = pd.DataFrame(workclass_test, columns = ['workclass0', 'workclass1', 'workclass2', \n",
    "                                                                 'workclass3', 'workclass4', 'workclass5',\n",
    "                                                                'workclass6', 'workclass7', 'workclass8'] )"
   ]
  },
  {
   "cell_type": "code",
   "execution_count": 28,
   "id": "6cfcdb1e-426c-4cc5-ad5f-d17da2b27455",
   "metadata": {},
   "outputs": [
    {
     "data": {
      "text/html": [
       "<div>\n",
       "<style scoped>\n",
       "    .dataframe tbody tr th:only-of-type {\n",
       "        vertical-align: middle;\n",
       "    }\n",
       "\n",
       "    .dataframe tbody tr th {\n",
       "        vertical-align: top;\n",
       "    }\n",
       "\n",
       "    .dataframe thead th {\n",
       "        text-align: right;\n",
       "    }\n",
       "</style>\n",
       "<table border=\"1\" class=\"dataframe\">\n",
       "  <thead>\n",
       "    <tr style=\"text-align: right;\">\n",
       "      <th></th>\n",
       "      <th>age</th>\n",
       "      <th>workclass</th>\n",
       "      <th>fnlwgt</th>\n",
       "      <th>education</th>\n",
       "      <th>education_num</th>\n",
       "      <th>marital_status</th>\n",
       "      <th>occupation</th>\n",
       "      <th>relationship</th>\n",
       "      <th>race</th>\n",
       "      <th>gender</th>\n",
       "      <th>...</th>\n",
       "      <th>relationship5</th>\n",
       "      <th>workclass0</th>\n",
       "      <th>workclass1</th>\n",
       "      <th>workclass2</th>\n",
       "      <th>workclass3</th>\n",
       "      <th>workclass4</th>\n",
       "      <th>workclass5</th>\n",
       "      <th>workclass6</th>\n",
       "      <th>workclass7</th>\n",
       "      <th>workclass8</th>\n",
       "    </tr>\n",
       "  </thead>\n",
       "  <tbody>\n",
       "    <tr>\n",
       "      <th>0</th>\n",
       "      <td>39</td>\n",
       "      <td>State-gov</td>\n",
       "      <td>77516</td>\n",
       "      <td>Bachelors</td>\n",
       "      <td>13</td>\n",
       "      <td>Never-married</td>\n",
       "      <td>Adm-clerical</td>\n",
       "      <td>Not-in-family</td>\n",
       "      <td>White</td>\n",
       "      <td>1</td>\n",
       "      <td>...</td>\n",
       "      <td>0</td>\n",
       "      <td>0</td>\n",
       "      <td>0</td>\n",
       "      <td>0</td>\n",
       "      <td>0</td>\n",
       "      <td>0</td>\n",
       "      <td>0</td>\n",
       "      <td>0</td>\n",
       "      <td>1</td>\n",
       "      <td>0</td>\n",
       "    </tr>\n",
       "    <tr>\n",
       "      <th>1</th>\n",
       "      <td>50</td>\n",
       "      <td>Self-emp-not-inc</td>\n",
       "      <td>83311</td>\n",
       "      <td>Bachelors</td>\n",
       "      <td>13</td>\n",
       "      <td>Married-civ-spouse</td>\n",
       "      <td>Exec-managerial</td>\n",
       "      <td>Husband</td>\n",
       "      <td>White</td>\n",
       "      <td>1</td>\n",
       "      <td>...</td>\n",
       "      <td>0</td>\n",
       "      <td>0</td>\n",
       "      <td>0</td>\n",
       "      <td>0</td>\n",
       "      <td>0</td>\n",
       "      <td>0</td>\n",
       "      <td>0</td>\n",
       "      <td>1</td>\n",
       "      <td>0</td>\n",
       "      <td>0</td>\n",
       "    </tr>\n",
       "    <tr>\n",
       "      <th>2</th>\n",
       "      <td>38</td>\n",
       "      <td>Private</td>\n",
       "      <td>215646</td>\n",
       "      <td>HS-grad</td>\n",
       "      <td>9</td>\n",
       "      <td>Divorced</td>\n",
       "      <td>Handlers-cleaners</td>\n",
       "      <td>Not-in-family</td>\n",
       "      <td>White</td>\n",
       "      <td>1</td>\n",
       "      <td>...</td>\n",
       "      <td>0</td>\n",
       "      <td>0</td>\n",
       "      <td>0</td>\n",
       "      <td>0</td>\n",
       "      <td>0</td>\n",
       "      <td>1</td>\n",
       "      <td>0</td>\n",
       "      <td>0</td>\n",
       "      <td>0</td>\n",
       "      <td>0</td>\n",
       "    </tr>\n",
       "    <tr>\n",
       "      <th>3</th>\n",
       "      <td>53</td>\n",
       "      <td>Private</td>\n",
       "      <td>234721</td>\n",
       "      <td>11th</td>\n",
       "      <td>7</td>\n",
       "      <td>Married-civ-spouse</td>\n",
       "      <td>Handlers-cleaners</td>\n",
       "      <td>Husband</td>\n",
       "      <td>Black</td>\n",
       "      <td>1</td>\n",
       "      <td>...</td>\n",
       "      <td>0</td>\n",
       "      <td>0</td>\n",
       "      <td>0</td>\n",
       "      <td>0</td>\n",
       "      <td>0</td>\n",
       "      <td>1</td>\n",
       "      <td>0</td>\n",
       "      <td>0</td>\n",
       "      <td>0</td>\n",
       "      <td>0</td>\n",
       "    </tr>\n",
       "    <tr>\n",
       "      <th>4</th>\n",
       "      <td>28</td>\n",
       "      <td>Private</td>\n",
       "      <td>338409</td>\n",
       "      <td>Bachelors</td>\n",
       "      <td>13</td>\n",
       "      <td>Married-civ-spouse</td>\n",
       "      <td>Prof-specialty</td>\n",
       "      <td>Wife</td>\n",
       "      <td>Black</td>\n",
       "      <td>0</td>\n",
       "      <td>...</td>\n",
       "      <td>1</td>\n",
       "      <td>0</td>\n",
       "      <td>0</td>\n",
       "      <td>0</td>\n",
       "      <td>0</td>\n",
       "      <td>1</td>\n",
       "      <td>0</td>\n",
       "      <td>0</td>\n",
       "      <td>0</td>\n",
       "      <td>0</td>\n",
       "    </tr>\n",
       "  </tbody>\n",
       "</table>\n",
       "<p>5 rows × 35 columns</p>\n",
       "</div>"
      ],
      "text/plain": [
       "   age          workclass  fnlwgt   education  education_num  \\\n",
       "0   39          State-gov   77516   Bachelors             13   \n",
       "1   50   Self-emp-not-inc   83311   Bachelors             13   \n",
       "2   38            Private  215646     HS-grad              9   \n",
       "3   53            Private  234721        11th              7   \n",
       "4   28            Private  338409   Bachelors             13   \n",
       "\n",
       "        marital_status          occupation    relationship    race  gender  \\\n",
       "0        Never-married        Adm-clerical   Not-in-family   White       1   \n",
       "1   Married-civ-spouse     Exec-managerial         Husband   White       1   \n",
       "2             Divorced   Handlers-cleaners   Not-in-family   White       1   \n",
       "3   Married-civ-spouse   Handlers-cleaners         Husband   Black       1   \n",
       "4   Married-civ-spouse      Prof-specialty            Wife   Black       0   \n",
       "\n",
       "   ...  relationship5  workclass0  workclass1 workclass2  workclass3  \\\n",
       "0  ...              0           0           0          0           0   \n",
       "1  ...              0           0           0          0           0   \n",
       "2  ...              0           0           0          0           0   \n",
       "3  ...              0           0           0          0           0   \n",
       "4  ...              1           0           0          0           0   \n",
       "\n",
       "   workclass4  workclass5  workclass6  workclass7  workclass8  \n",
       "0           0           0           0           1           0  \n",
       "1           0           0           1           0           0  \n",
       "2           1           0           0           0           0  \n",
       "3           1           0           0           0           0  \n",
       "4           1           0           0           0           0  \n",
       "\n",
       "[5 rows x 35 columns]"
      ]
     },
     "execution_count": 28,
     "metadata": {},
     "output_type": "execute_result"
    }
   ],
   "source": [
    "train_data = pd.concat([train_data, workclass_train], axis=1)\n",
    "test_data = pd.concat([test_data, workclass_test], axis=1)\n",
    "train_data.head()"
   ]
  },
  {
   "cell_type": "code",
   "execution_count": 29,
   "id": "d0ef79f8-5b4f-4cc5-8d53-021e87e0dac0",
   "metadata": {},
   "outputs": [
    {
     "data": {
      "text/plain": [
       "0.8462625145875561"
      ]
     },
     "execution_count": 29,
     "metadata": {},
     "output_type": "execute_result"
    }
   ],
   "source": [
    "columns = ['education_num', 'age', 'capital_gain', 'capital_loss', 'hours_per_week', 'gender', \n",
    "           'race0', 'race1', 'race2', 'race3', 'race4', 'relationship0', 'relationship1', 'relationship2', \n",
    "            'relationship3', 'relationship4', 'relationship5', 'workclass0', 'workclass1', 'workclass2', \n",
    "                                                                 'workclass3', 'workclass4', 'workclass5',\n",
    "                                                                'workclass6', 'workclass7', 'workclass8']\n",
    "lr = LogisticRegression(C=0.3, max_iter=5000)\n",
    "lr.fit(train_data[columns].values, train_data['income_bracket'])\n",
    "test_preds = lr.predict(test_data[columns].values)\n",
    "accuracy_score(test_data['income_bracket'], test_preds)"
   ]
  },
  {
   "cell_type": "code",
   "execution_count": 30,
   "id": "3917215e-9b00-4f39-bd52-3f40c72658fe",
   "metadata": {},
   "outputs": [
    {
     "data": {
      "text/plain": [
       "array([' Divorced', ' Married-AF-spouse', ' Married-civ-spouse',\n",
       "       ' Married-spouse-absent', ' Never-married', ' Separated',\n",
       "       ' Widowed'], dtype=object)"
      ]
     },
     "execution_count": 30,
     "metadata": {},
     "output_type": "execute_result"
    }
   ],
   "source": [
    "np.unique(train_data['marital_status'].values)"
   ]
  },
  {
   "cell_type": "code",
   "execution_count": 31,
   "id": "1b0648e0-09f1-4b8c-844f-6df2c6c436b6",
   "metadata": {},
   "outputs": [],
   "source": [
    "marital_status_train = lb.fit_transform(train_data['marital_status'].values)\n",
    "marital_status_test = lb.transform(test_data['marital_status'].values)\n",
    "marital_status_train = pd.DataFrame(marital_status_train, columns = ['marital_status0', 'marital_status1', 'marital_status2', \n",
    "                                                                 'marital_status3', 'marital_status4', 'marital_status5',\n",
    "                                                                'marital_status6'] )\n",
    "marital_status_test = pd.DataFrame(marital_status_test, columns = ['marital_status0', 'marital_status1', 'marital_status2', \n",
    "                                                                 'marital_status3', 'marital_status4', 'marital_status5',\n",
    "                                                                'marital_status6'] )"
   ]
  },
  {
   "cell_type": "code",
   "execution_count": 32,
   "id": "59bc993c-8976-4240-bbc4-2149b6d0b933",
   "metadata": {},
   "outputs": [
    {
     "data": {
      "text/html": [
       "<div>\n",
       "<style scoped>\n",
       "    .dataframe tbody tr th:only-of-type {\n",
       "        vertical-align: middle;\n",
       "    }\n",
       "\n",
       "    .dataframe tbody tr th {\n",
       "        vertical-align: top;\n",
       "    }\n",
       "\n",
       "    .dataframe thead th {\n",
       "        text-align: right;\n",
       "    }\n",
       "</style>\n",
       "<table border=\"1\" class=\"dataframe\">\n",
       "  <thead>\n",
       "    <tr style=\"text-align: right;\">\n",
       "      <th></th>\n",
       "      <th>age</th>\n",
       "      <th>workclass</th>\n",
       "      <th>fnlwgt</th>\n",
       "      <th>education</th>\n",
       "      <th>education_num</th>\n",
       "      <th>marital_status</th>\n",
       "      <th>occupation</th>\n",
       "      <th>relationship</th>\n",
       "      <th>race</th>\n",
       "      <th>gender</th>\n",
       "      <th>...</th>\n",
       "      <th>workclass6</th>\n",
       "      <th>workclass7</th>\n",
       "      <th>workclass8</th>\n",
       "      <th>marital_status0</th>\n",
       "      <th>marital_status1</th>\n",
       "      <th>marital_status2</th>\n",
       "      <th>marital_status3</th>\n",
       "      <th>marital_status4</th>\n",
       "      <th>marital_status5</th>\n",
       "      <th>marital_status6</th>\n",
       "    </tr>\n",
       "  </thead>\n",
       "  <tbody>\n",
       "    <tr>\n",
       "      <th>0</th>\n",
       "      <td>39</td>\n",
       "      <td>State-gov</td>\n",
       "      <td>77516</td>\n",
       "      <td>Bachelors</td>\n",
       "      <td>13</td>\n",
       "      <td>Never-married</td>\n",
       "      <td>Adm-clerical</td>\n",
       "      <td>Not-in-family</td>\n",
       "      <td>White</td>\n",
       "      <td>1</td>\n",
       "      <td>...</td>\n",
       "      <td>0</td>\n",
       "      <td>1</td>\n",
       "      <td>0</td>\n",
       "      <td>0</td>\n",
       "      <td>0</td>\n",
       "      <td>0</td>\n",
       "      <td>0</td>\n",
       "      <td>1</td>\n",
       "      <td>0</td>\n",
       "      <td>0</td>\n",
       "    </tr>\n",
       "    <tr>\n",
       "      <th>1</th>\n",
       "      <td>50</td>\n",
       "      <td>Self-emp-not-inc</td>\n",
       "      <td>83311</td>\n",
       "      <td>Bachelors</td>\n",
       "      <td>13</td>\n",
       "      <td>Married-civ-spouse</td>\n",
       "      <td>Exec-managerial</td>\n",
       "      <td>Husband</td>\n",
       "      <td>White</td>\n",
       "      <td>1</td>\n",
       "      <td>...</td>\n",
       "      <td>1</td>\n",
       "      <td>0</td>\n",
       "      <td>0</td>\n",
       "      <td>0</td>\n",
       "      <td>0</td>\n",
       "      <td>1</td>\n",
       "      <td>0</td>\n",
       "      <td>0</td>\n",
       "      <td>0</td>\n",
       "      <td>0</td>\n",
       "    </tr>\n",
       "    <tr>\n",
       "      <th>2</th>\n",
       "      <td>38</td>\n",
       "      <td>Private</td>\n",
       "      <td>215646</td>\n",
       "      <td>HS-grad</td>\n",
       "      <td>9</td>\n",
       "      <td>Divorced</td>\n",
       "      <td>Handlers-cleaners</td>\n",
       "      <td>Not-in-family</td>\n",
       "      <td>White</td>\n",
       "      <td>1</td>\n",
       "      <td>...</td>\n",
       "      <td>0</td>\n",
       "      <td>0</td>\n",
       "      <td>0</td>\n",
       "      <td>1</td>\n",
       "      <td>0</td>\n",
       "      <td>0</td>\n",
       "      <td>0</td>\n",
       "      <td>0</td>\n",
       "      <td>0</td>\n",
       "      <td>0</td>\n",
       "    </tr>\n",
       "    <tr>\n",
       "      <th>3</th>\n",
       "      <td>53</td>\n",
       "      <td>Private</td>\n",
       "      <td>234721</td>\n",
       "      <td>11th</td>\n",
       "      <td>7</td>\n",
       "      <td>Married-civ-spouse</td>\n",
       "      <td>Handlers-cleaners</td>\n",
       "      <td>Husband</td>\n",
       "      <td>Black</td>\n",
       "      <td>1</td>\n",
       "      <td>...</td>\n",
       "      <td>0</td>\n",
       "      <td>0</td>\n",
       "      <td>0</td>\n",
       "      <td>0</td>\n",
       "      <td>0</td>\n",
       "      <td>1</td>\n",
       "      <td>0</td>\n",
       "      <td>0</td>\n",
       "      <td>0</td>\n",
       "      <td>0</td>\n",
       "    </tr>\n",
       "    <tr>\n",
       "      <th>4</th>\n",
       "      <td>28</td>\n",
       "      <td>Private</td>\n",
       "      <td>338409</td>\n",
       "      <td>Bachelors</td>\n",
       "      <td>13</td>\n",
       "      <td>Married-civ-spouse</td>\n",
       "      <td>Prof-specialty</td>\n",
       "      <td>Wife</td>\n",
       "      <td>Black</td>\n",
       "      <td>0</td>\n",
       "      <td>...</td>\n",
       "      <td>0</td>\n",
       "      <td>0</td>\n",
       "      <td>0</td>\n",
       "      <td>0</td>\n",
       "      <td>0</td>\n",
       "      <td>1</td>\n",
       "      <td>0</td>\n",
       "      <td>0</td>\n",
       "      <td>0</td>\n",
       "      <td>0</td>\n",
       "    </tr>\n",
       "  </tbody>\n",
       "</table>\n",
       "<p>5 rows × 42 columns</p>\n",
       "</div>"
      ],
      "text/plain": [
       "   age          workclass  fnlwgt   education  education_num  \\\n",
       "0   39          State-gov   77516   Bachelors             13   \n",
       "1   50   Self-emp-not-inc   83311   Bachelors             13   \n",
       "2   38            Private  215646     HS-grad              9   \n",
       "3   53            Private  234721        11th              7   \n",
       "4   28            Private  338409   Bachelors             13   \n",
       "\n",
       "        marital_status          occupation    relationship    race  gender  \\\n",
       "0        Never-married        Adm-clerical   Not-in-family   White       1   \n",
       "1   Married-civ-spouse     Exec-managerial         Husband   White       1   \n",
       "2             Divorced   Handlers-cleaners   Not-in-family   White       1   \n",
       "3   Married-civ-spouse   Handlers-cleaners         Husband   Black       1   \n",
       "4   Married-civ-spouse      Prof-specialty            Wife   Black       0   \n",
       "\n",
       "   ...  workclass6  workclass7  workclass8 marital_status0  marital_status1  \\\n",
       "0  ...           0           1           0               0                0   \n",
       "1  ...           1           0           0               0                0   \n",
       "2  ...           0           0           0               1                0   \n",
       "3  ...           0           0           0               0                0   \n",
       "4  ...           0           0           0               0                0   \n",
       "\n",
       "   marital_status2  marital_status3  marital_status4  marital_status5  \\\n",
       "0                0                0                1                0   \n",
       "1                1                0                0                0   \n",
       "2                0                0                0                0   \n",
       "3                1                0                0                0   \n",
       "4                1                0                0                0   \n",
       "\n",
       "   marital_status6  \n",
       "0                0  \n",
       "1                0  \n",
       "2                0  \n",
       "3                0  \n",
       "4                0  \n",
       "\n",
       "[5 rows x 42 columns]"
      ]
     },
     "execution_count": 32,
     "metadata": {},
     "output_type": "execute_result"
    }
   ],
   "source": [
    "train_data = pd.concat([train_data, marital_status_train], axis=1)\n",
    "test_data = pd.concat([test_data, marital_status_test], axis=1)\n",
    "train_data.head()"
   ]
  },
  {
   "cell_type": "code",
   "execution_count": 33,
   "id": "6d972114-7d5f-4703-ae15-544f01ccc2cf",
   "metadata": {},
   "outputs": [
    {
     "data": {
      "text/plain": [
       "0.846446778453412"
      ]
     },
     "execution_count": 33,
     "metadata": {},
     "output_type": "execute_result"
    }
   ],
   "source": [
    "columns = ['education_num', 'age', 'capital_gain', 'capital_loss', 'hours_per_week', 'gender', \n",
    "           'race0', 'race1', 'race2', 'race3', 'race4', 'relationship0', 'relationship1', 'relationship2', \n",
    "            'relationship3', 'relationship4', 'relationship5', 'workclass0', 'workclass1', 'workclass2', \n",
    "                                                                 'workclass3', 'workclass4', 'workclass5',\n",
    "                                                                'workclass6', 'workclass7', 'workclass8',\n",
    "          'marital_status0', 'marital_status1', 'marital_status2', \n",
    "                                                                 'marital_status3', 'marital_status4', 'marital_status5',\n",
    "                                                                'marital_status6']\n",
    "lr = LogisticRegression(C=0.25, max_iter=5000)\n",
    "lr.fit(train_data[columns].values, train_data['income_bracket'])\n",
    "test_preds = lr.predict(test_data[columns].values)\n",
    "accuracy_score(test_data['income_bracket'], test_preds)"
   ]
  },
  {
   "cell_type": "code",
   "execution_count": 34,
   "id": "d2d913d0-bd2b-42ba-b509-b53a372b234a",
   "metadata": {},
   "outputs": [
    {
     "data": {
      "text/plain": [
       "array([' ?', ' Adm-clerical', ' Armed-Forces', ' Craft-repair',\n",
       "       ' Exec-managerial', ' Farming-fishing', ' Handlers-cleaners',\n",
       "       ' Machine-op-inspct', ' Other-service', ' Priv-house-serv',\n",
       "       ' Prof-specialty', ' Protective-serv', ' Sales', ' Tech-support',\n",
       "       ' Transport-moving'], dtype=object)"
      ]
     },
     "execution_count": 34,
     "metadata": {},
     "output_type": "execute_result"
    }
   ],
   "source": [
    "np.unique(train_data['occupation'].values)"
   ]
  },
  {
   "cell_type": "code",
   "execution_count": 35,
   "id": "313a121d-5cc3-4338-bd6b-7cb1c0ec52d0",
   "metadata": {},
   "outputs": [
    {
     "data": {
      "text/html": [
       "<div>\n",
       "<style scoped>\n",
       "    .dataframe tbody tr th:only-of-type {\n",
       "        vertical-align: middle;\n",
       "    }\n",
       "\n",
       "    .dataframe tbody tr th {\n",
       "        vertical-align: top;\n",
       "    }\n",
       "\n",
       "    .dataframe thead th {\n",
       "        text-align: right;\n",
       "    }\n",
       "</style>\n",
       "<table border=\"1\" class=\"dataframe\">\n",
       "  <thead>\n",
       "    <tr style=\"text-align: right;\">\n",
       "      <th></th>\n",
       "      <th>age</th>\n",
       "      <th>workclass</th>\n",
       "      <th>fnlwgt</th>\n",
       "      <th>education</th>\n",
       "      <th>education_num</th>\n",
       "      <th>marital_status</th>\n",
       "      <th>occupation</th>\n",
       "      <th>relationship</th>\n",
       "      <th>race</th>\n",
       "      <th>gender</th>\n",
       "      <th>...</th>\n",
       "      <th>occupation5</th>\n",
       "      <th>occupation6</th>\n",
       "      <th>occupation7</th>\n",
       "      <th>occupation8</th>\n",
       "      <th>occupation9</th>\n",
       "      <th>occupation10</th>\n",
       "      <th>occupation11</th>\n",
       "      <th>occupation12</th>\n",
       "      <th>occupation13</th>\n",
       "      <th>occupation14</th>\n",
       "    </tr>\n",
       "  </thead>\n",
       "  <tbody>\n",
       "    <tr>\n",
       "      <th>0</th>\n",
       "      <td>39</td>\n",
       "      <td>State-gov</td>\n",
       "      <td>77516</td>\n",
       "      <td>Bachelors</td>\n",
       "      <td>13</td>\n",
       "      <td>Never-married</td>\n",
       "      <td>Adm-clerical</td>\n",
       "      <td>Not-in-family</td>\n",
       "      <td>White</td>\n",
       "      <td>1</td>\n",
       "      <td>...</td>\n",
       "      <td>0</td>\n",
       "      <td>0</td>\n",
       "      <td>0</td>\n",
       "      <td>0</td>\n",
       "      <td>0</td>\n",
       "      <td>0</td>\n",
       "      <td>0</td>\n",
       "      <td>0</td>\n",
       "      <td>0</td>\n",
       "      <td>0</td>\n",
       "    </tr>\n",
       "    <tr>\n",
       "      <th>1</th>\n",
       "      <td>50</td>\n",
       "      <td>Self-emp-not-inc</td>\n",
       "      <td>83311</td>\n",
       "      <td>Bachelors</td>\n",
       "      <td>13</td>\n",
       "      <td>Married-civ-spouse</td>\n",
       "      <td>Exec-managerial</td>\n",
       "      <td>Husband</td>\n",
       "      <td>White</td>\n",
       "      <td>1</td>\n",
       "      <td>...</td>\n",
       "      <td>0</td>\n",
       "      <td>0</td>\n",
       "      <td>0</td>\n",
       "      <td>0</td>\n",
       "      <td>0</td>\n",
       "      <td>0</td>\n",
       "      <td>0</td>\n",
       "      <td>0</td>\n",
       "      <td>0</td>\n",
       "      <td>0</td>\n",
       "    </tr>\n",
       "    <tr>\n",
       "      <th>2</th>\n",
       "      <td>38</td>\n",
       "      <td>Private</td>\n",
       "      <td>215646</td>\n",
       "      <td>HS-grad</td>\n",
       "      <td>9</td>\n",
       "      <td>Divorced</td>\n",
       "      <td>Handlers-cleaners</td>\n",
       "      <td>Not-in-family</td>\n",
       "      <td>White</td>\n",
       "      <td>1</td>\n",
       "      <td>...</td>\n",
       "      <td>0</td>\n",
       "      <td>1</td>\n",
       "      <td>0</td>\n",
       "      <td>0</td>\n",
       "      <td>0</td>\n",
       "      <td>0</td>\n",
       "      <td>0</td>\n",
       "      <td>0</td>\n",
       "      <td>0</td>\n",
       "      <td>0</td>\n",
       "    </tr>\n",
       "    <tr>\n",
       "      <th>3</th>\n",
       "      <td>53</td>\n",
       "      <td>Private</td>\n",
       "      <td>234721</td>\n",
       "      <td>11th</td>\n",
       "      <td>7</td>\n",
       "      <td>Married-civ-spouse</td>\n",
       "      <td>Handlers-cleaners</td>\n",
       "      <td>Husband</td>\n",
       "      <td>Black</td>\n",
       "      <td>1</td>\n",
       "      <td>...</td>\n",
       "      <td>0</td>\n",
       "      <td>1</td>\n",
       "      <td>0</td>\n",
       "      <td>0</td>\n",
       "      <td>0</td>\n",
       "      <td>0</td>\n",
       "      <td>0</td>\n",
       "      <td>0</td>\n",
       "      <td>0</td>\n",
       "      <td>0</td>\n",
       "    </tr>\n",
       "    <tr>\n",
       "      <th>4</th>\n",
       "      <td>28</td>\n",
       "      <td>Private</td>\n",
       "      <td>338409</td>\n",
       "      <td>Bachelors</td>\n",
       "      <td>13</td>\n",
       "      <td>Married-civ-spouse</td>\n",
       "      <td>Prof-specialty</td>\n",
       "      <td>Wife</td>\n",
       "      <td>Black</td>\n",
       "      <td>0</td>\n",
       "      <td>...</td>\n",
       "      <td>0</td>\n",
       "      <td>0</td>\n",
       "      <td>0</td>\n",
       "      <td>0</td>\n",
       "      <td>0</td>\n",
       "      <td>1</td>\n",
       "      <td>0</td>\n",
       "      <td>0</td>\n",
       "      <td>0</td>\n",
       "      <td>0</td>\n",
       "    </tr>\n",
       "  </tbody>\n",
       "</table>\n",
       "<p>5 rows × 57 columns</p>\n",
       "</div>"
      ],
      "text/plain": [
       "   age          workclass  fnlwgt   education  education_num  \\\n",
       "0   39          State-gov   77516   Bachelors             13   \n",
       "1   50   Self-emp-not-inc   83311   Bachelors             13   \n",
       "2   38            Private  215646     HS-grad              9   \n",
       "3   53            Private  234721        11th              7   \n",
       "4   28            Private  338409   Bachelors             13   \n",
       "\n",
       "        marital_status          occupation    relationship    race  gender  \\\n",
       "0        Never-married        Adm-clerical   Not-in-family   White       1   \n",
       "1   Married-civ-spouse     Exec-managerial         Husband   White       1   \n",
       "2             Divorced   Handlers-cleaners   Not-in-family   White       1   \n",
       "3   Married-civ-spouse   Handlers-cleaners         Husband   Black       1   \n",
       "4   Married-civ-spouse      Prof-specialty            Wife   Black       0   \n",
       "\n",
       "   ...  occupation5  occupation6  occupation7 occupation8  occupation9  \\\n",
       "0  ...            0            0            0           0            0   \n",
       "1  ...            0            0            0           0            0   \n",
       "2  ...            0            1            0           0            0   \n",
       "3  ...            0            1            0           0            0   \n",
       "4  ...            0            0            0           0            0   \n",
       "\n",
       "   occupation10  occupation11  occupation12  occupation13  occupation14  \n",
       "0             0             0             0             0             0  \n",
       "1             0             0             0             0             0  \n",
       "2             0             0             0             0             0  \n",
       "3             0             0             0             0             0  \n",
       "4             1             0             0             0             0  \n",
       "\n",
       "[5 rows x 57 columns]"
      ]
     },
     "execution_count": 35,
     "metadata": {},
     "output_type": "execute_result"
    }
   ],
   "source": [
    "occupation_train = lb.fit_transform(train_data['occupation'].values)\n",
    "occupation_test = lb.transform(test_data['occupation'].values)\n",
    "occupation_train = pd.DataFrame(occupation_train, columns = ['occupation0', 'occupation1', 'occupation2', \n",
    "                                                                 'occupation3', 'occupation4', 'occupation5',\n",
    "                                                                'occupation6', 'occupation7', 'occupation8',\n",
    "                                                                'occupation9', 'occupation10', 'occupation11',\n",
    "                                                                'occupation12', 'occupation13', 'occupation14'] )\n",
    "occupation_test = pd.DataFrame(occupation_test, columns = ['occupation0', 'occupation1', 'occupation2', \n",
    "                                                                 'occupation3', 'occupation4', 'occupation5',\n",
    "                                                                'occupation6', 'occupation7', 'occupation8',\n",
    "                                                                'occupation9', 'occupation10', 'occupation11',\n",
    "                                                                'occupation12', 'occupation13', 'occupation14'])\n",
    "\n",
    "train_data = pd.concat([train_data, occupation_train], axis=1)\n",
    "test_data = pd.concat([test_data, occupation_test], axis=1)\n",
    "train_data.head()"
   ]
  },
  {
   "cell_type": "code",
   "execution_count": 36,
   "id": "7e896206-ff80-4b48-a9d0-3a4067b8ba25",
   "metadata": {},
   "outputs": [
    {
     "data": {
      "text/plain": [
       "0.8524046434494196"
      ]
     },
     "execution_count": 36,
     "metadata": {},
     "output_type": "execute_result"
    }
   ],
   "source": [
    "columns = ['education_num', 'age', 'capital_gain', 'capital_loss', 'hours_per_week', 'gender', \n",
    "           'race0', 'race1', 'race2', 'race3', 'race4', 'relationship0', 'relationship1', 'relationship2', \n",
    "            'relationship3', 'relationship4', 'relationship5', 'workclass0', 'workclass1', 'workclass2', \n",
    "            'workclass3', 'workclass4', 'workclass5', 'workclass6', 'workclass7', 'workclass8',\n",
    "          'marital_status0', 'marital_status1', 'marital_status2', 'marital_status3', 'marital_status4', 'marital_status5', 'marital_status6',\n",
    "          'occupation0', 'occupation1', 'occupation2',  'occupation3', 'occupation4', 'occupation5', 'occupation6', 'occupation7', 'occupation8',\n",
    "          'occupation9', 'occupation10', 'occupation11', 'occupation12', 'occupation13', 'occupation14']\n",
    "lr = LogisticRegression(C=0.2, max_iter=5000)\n",
    "lr.fit(train_data[columns].values, train_data['income_bracket'])\n",
    "test_preds = lr.predict(test_data[columns].values)\n",
    "accuracy_score(test_data['income_bracket'], test_preds)"
   ]
  },
  {
   "cell_type": "code",
   "execution_count": 37,
   "id": "061b1f5c-c58e-43d8-b5f0-eaa1daed72a8",
   "metadata": {},
   "outputs": [
    {
     "data": {
      "text/plain": [
       "array([' 10th', ' 11th', ' 12th', ' 1st-4th', ' 5th-6th', ' 7th-8th',\n",
       "       ' 9th', ' Assoc-acdm', ' Assoc-voc', ' Bachelors', ' Doctorate',\n",
       "       ' HS-grad', ' Masters', ' Preschool', ' Prof-school',\n",
       "       ' Some-college'], dtype=object)"
      ]
     },
     "execution_count": 37,
     "metadata": {},
     "output_type": "execute_result"
    }
   ],
   "source": [
    "np.unique(train_data['education'].values)"
   ]
  },
  {
   "cell_type": "code",
   "execution_count": 38,
   "id": "9afc8551-1d5a-448c-a36b-fa277b9ee1b2",
   "metadata": {},
   "outputs": [
    {
     "data": {
      "text/plain": [
       "\"education_train = lb.fit_transform(train_data['education'].values)\\neducation_test = lb.transform(test_data['education'].values)\\neducation_train = pd.DataFrame(education_train, columns = ['education0', 'education1', 'education2', 'education3', 'education4', 'education5', \\n                                                        'education6', 'education7', 'education8', 'education9', 'education10', 'education11', \\n                                                        'education12', 'education13', 'education14' , 'education15'] )\\neducation_test = pd.DataFrame(education_test, columns = ['education0', 'education1', 'education2', 'education3', 'education4', 'education5', \\n                                                        'education6', 'education7', 'education8', 'education9', 'education10', 'education11', \\n                                                        'education12', 'education13', 'education14' , 'education15'])\\n\\ntrain_data = pd.concat([train_data, education_train], axis=1)\\ntest_data = pd.concat([test_data, education_test], axis=1)\\ntrain_data.head()\""
      ]
     },
     "execution_count": 38,
     "metadata": {},
     "output_type": "execute_result"
    }
   ],
   "source": [
    "'''education_train = lb.fit_transform(train_data['education'].values)\n",
    "education_test = lb.transform(test_data['education'].values)\n",
    "education_train = pd.DataFrame(education_train, columns = ['education0', 'education1', 'education2', 'education3', 'education4', 'education5', \n",
    "                                                        'education6', 'education7', 'education8', 'education9', 'education10', 'education11', \n",
    "                                                        'education12', 'education13', 'education14' , 'education15'] )\n",
    "education_test = pd.DataFrame(education_test, columns = ['education0', 'education1', 'education2', 'education3', 'education4', 'education5', \n",
    "                                                        'education6', 'education7', 'education8', 'education9', 'education10', 'education11', \n",
    "                                                        'education12', 'education13', 'education14' , 'education15'])\n",
    "\n",
    "train_data = pd.concat([train_data, education_train], axis=1)\n",
    "test_data = pd.concat([test_data, education_test], axis=1)\n",
    "train_data.head()'''"
   ]
  },
  {
   "cell_type": "code",
   "execution_count": 39,
   "id": "805d4f6a-3393-4475-b158-80d6774c8363",
   "metadata": {},
   "outputs": [
    {
     "data": {
      "text/plain": [
       "\"columns = ['education_num', 'age', 'capital_gain', 'capital_loss', 'hours_per_week', 'gender', \\n           'race0', 'race1', 'race2', 'race3', 'race4', 'relationship0', 'relationship1', 'relationship2', \\n            'relationship3', 'relationship4', 'relationship5', 'workclass0', 'workclass1', 'workclass2', \\n            'workclass3', 'workclass4', 'workclass5', 'workclass6', 'workclass7', 'workclass8',\\n          'marital_status0', 'marital_status1', 'marital_status2', 'marital_status3', 'marital_status4', 'marital_status5', 'marital_status6',\\n          'occupation0', 'occupation1', 'occupation2',  'occupation3', 'occupation4', 'occupation5', 'occupation6', 'occupation7', 'occupation8',\\n          'occupation9', 'occupation10', 'occupation11', 'occupation12', 'occupation13', 'occupation14',\\n          'education0', 'education1', 'education2', 'education3', 'education4', 'education5', \\n         'education6', 'education7', 'education8', 'education9', 'education10', 'education11', \\n        'education12', 'education13', 'education14' , 'education15']\\nlr = LogisticRegression(C=0.1, max_iter=5000)\\nlr.fit(train_data[columns].values, train_data['income_bracket'])\\ntest_preds = lr.predict(test_data[columns].values)\\naccuracy_score(test_data['income_bracket'], test_preds)\""
      ]
     },
     "execution_count": 39,
     "metadata": {},
     "output_type": "execute_result"
    }
   ],
   "source": [
    "'''columns = ['education_num', 'age', 'capital_gain', 'capital_loss', 'hours_per_week', 'gender', \n",
    "           'race0', 'race1', 'race2', 'race3', 'race4', 'relationship0', 'relationship1', 'relationship2', \n",
    "            'relationship3', 'relationship4', 'relationship5', 'workclass0', 'workclass1', 'workclass2', \n",
    "            'workclass3', 'workclass4', 'workclass5', 'workclass6', 'workclass7', 'workclass8',\n",
    "          'marital_status0', 'marital_status1', 'marital_status2', 'marital_status3', 'marital_status4', 'marital_status5', 'marital_status6',\n",
    "          'occupation0', 'occupation1', 'occupation2',  'occupation3', 'occupation4', 'occupation5', 'occupation6', 'occupation7', 'occupation8',\n",
    "          'occupation9', 'occupation10', 'occupation11', 'occupation12', 'occupation13', 'occupation14',\n",
    "          'education0', 'education1', 'education2', 'education3', 'education4', 'education5', \n",
    "         'education6', 'education7', 'education8', 'education9', 'education10', 'education11', \n",
    "        'education12', 'education13', 'education14' , 'education15']\n",
    "lr = LogisticRegression(C=0.1, max_iter=5000)\n",
    "lr.fit(train_data[columns].values, train_data['income_bracket'])\n",
    "test_preds = lr.predict(test_data[columns].values)\n",
    "accuracy_score(test_data['income_bracket'], test_preds)'''"
   ]
  },
  {
   "cell_type": "code",
   "execution_count": 40,
   "id": "6ddd524e-a171-43bb-aee8-edcd1c63425e",
   "metadata": {},
   "outputs": [
    {
     "data": {
      "text/plain": [
       "array([' ?', ' Cambodia', ' Canada', ' China', ' Columbia', ' Cuba',\n",
       "       ' Dominican-Republic', ' Ecuador', ' El-Salvador', ' England',\n",
       "       ' France', ' Germany', ' Greece', ' Guatemala', ' Haiti',\n",
       "       ' Holand-Netherlands', ' Honduras', ' Hong', ' Hungary', ' India',\n",
       "       ' Iran', ' Ireland', ' Italy', ' Jamaica', ' Japan', ' Laos',\n",
       "       ' Mexico', ' Nicaragua', ' Outlying-US(Guam-USVI-etc)', ' Peru',\n",
       "       ' Philippines', ' Poland', ' Portugal', ' Puerto-Rico',\n",
       "       ' Scotland', ' South', ' Taiwan', ' Thailand', ' Trinadad&Tobago',\n",
       "       ' United-States', ' Vietnam', ' Yugoslavia'], dtype=object)"
      ]
     },
     "execution_count": 40,
     "metadata": {},
     "output_type": "execute_result"
    }
   ],
   "source": [
    "np.unique(train_data['native_country'].values)"
   ]
  },
  {
   "cell_type": "code",
   "execution_count": 41,
   "id": "bc2393e9-54bb-4d1c-a0de-ef50531cf134",
   "metadata": {},
   "outputs": [
    {
     "data": {
      "text/plain": [
       "41"
      ]
     },
     "execution_count": 41,
     "metadata": {},
     "output_type": "execute_result"
    }
   ],
   "source": [
    "len(np.unique(test_data['native_country'].values))"
   ]
  },
  {
   "cell_type": "code",
   "execution_count": 42,
   "id": "cd5bc2f5-1621-4f6f-8e8c-4dc6d77d58a9",
   "metadata": {},
   "outputs": [
    {
     "data": {
      "text/plain": [
       "0.895857006848684"
      ]
     },
     "execution_count": 42,
     "metadata": {},
     "output_type": "execute_result"
    }
   ],
   "source": [
    "train_data['native_country'] = 1*(train_data['native_country'] == ' United-States')\n",
    "test_data['native_country'] = 1*(test_data['native_country'] == ' United-States')\n",
    "train_data['native_country'].mean()"
   ]
  },
  {
   "cell_type": "code",
   "execution_count": 43,
   "id": "1a6da9ee-05e3-4448-8f1c-ddc307d5f553",
   "metadata": {},
   "outputs": [
    {
     "data": {
      "text/plain": [
       "0.9005589337264296"
      ]
     },
     "execution_count": 43,
     "metadata": {},
     "output_type": "execute_result"
    }
   ],
   "source": [
    "test_data['native_country'].mean()"
   ]
  },
  {
   "cell_type": "code",
   "execution_count": 44,
   "id": "69435c02-f8bb-4ad0-b615-aafd929b0686",
   "metadata": {},
   "outputs": [
    {
     "data": {
      "text/plain": [
       "0.8535716479331736"
      ]
     },
     "execution_count": 44,
     "metadata": {},
     "output_type": "execute_result"
    }
   ],
   "source": [
    "columns = ['education_num', 'age', 'capital_gain', 'capital_loss', 'hours_per_week', 'gender', 'native_country',\n",
    "           'race0', 'race1', 'race2', 'race3', 'race4', 'relationship0', 'relationship1', 'relationship2', \n",
    "            'relationship3', 'relationship4', 'relationship5', 'workclass0', 'workclass1', 'workclass2', \n",
    "            'workclass3', 'workclass4', 'workclass5', 'workclass6', 'workclass7', 'workclass8',\n",
    "          'marital_status0', 'marital_status1', 'marital_status2', 'marital_status3', 'marital_status4', 'marital_status5', 'marital_status6',\n",
    "          'occupation0', 'occupation1', 'occupation2',  'occupation3', 'occupation4', 'occupation5', 'occupation6', 'occupation7', 'occupation8',\n",
    "          'occupation9', 'occupation10', 'occupation11', 'occupation12', 'occupation13', 'occupation14']\n",
    "lr = LogisticRegression(C=0.22, max_iter=5000)\n",
    "lr.fit(train_data[columns].values, train_data['income_bracket'])\n",
    "test_preds = lr.predict(test_data[columns].values)\n",
    "accuracy_score(test_data['income_bracket'], test_preds)"
   ]
  },
  {
   "cell_type": "code",
   "execution_count": null,
   "id": "78daf54a-bb6a-4e4f-91a7-454c7cf10773",
   "metadata": {},
   "outputs": [],
   "source": []
  }
 ],
 "metadata": {
  "kernelspec": {
   "display_name": "Python 3 (ipykernel)",
   "language": "python",
   "name": "python3"
  },
  "language_info": {
   "codemirror_mode": {
    "name": "ipython",
    "version": 3
   },
   "file_extension": ".py",
   "mimetype": "text/x-python",
   "name": "python",
   "nbconvert_exporter": "python",
   "pygments_lexer": "ipython3",
   "version": "3.8.9"
  }
 },
 "nbformat": 4,
 "nbformat_minor": 5
}
