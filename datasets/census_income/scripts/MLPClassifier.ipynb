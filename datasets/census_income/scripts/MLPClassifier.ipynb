{
 "cells": [
  {
   "cell_type": "code",
   "execution_count": 1,
   "id": "ebeb68e2-a830-4b96-a54e-0b5cc3b8b1c0",
   "metadata": {},
   "outputs": [],
   "source": [
    "import numpy as np\n",
    "import pandas as pd\n",
    "from sklearn.preprocessing import LabelEncoder, LabelBinarizer\n",
    "from sklearn.metrics import accuracy_score, roc_auc_score\n",
    "from sklearn.neural_network import MLPClassifier"
   ]
  },
  {
   "cell_type": "code",
   "execution_count": 2,
   "id": "3c4e390a-5326-4f96-84e2-f27661af1195",
   "metadata": {},
   "outputs": [
    {
     "name": "stdout",
     "output_type": "stream",
     "text": [
      "Train dataset shape: (32561, 15)\n",
      "Test dataset shape: (16281, 15)\n"
     ]
    }
   ],
   "source": [
    "CSV_HEADER = [\n",
    "    \"age\",\n",
    "    \"workclass\",\n",
    "    \"fnlwgt\",\n",
    "    \"education\",\n",
    "    \"education_num\",\n",
    "    \"marital_status\",\n",
    "    \"occupation\",\n",
    "    \"relationship\",\n",
    "    \"race\",\n",
    "    \"gender\",\n",
    "    \"capital_gain\",\n",
    "    \"capital_loss\",\n",
    "    \"hours_per_week\",\n",
    "    \"native_country\",\n",
    "    \"income_bracket\",\n",
    "]\n",
    "\n",
    "train_data_file = (\"../../input/census_income/adult.data\")\n",
    "train_data = pd.read_csv(train_data_file, header=None, names=CSV_HEADER)\n",
    "\n",
    "test_data_file = (\"../../input/census_income/adult.test\")\n",
    "test_data = pd.read_csv(test_data_file, header=None, names=CSV_HEADER)\n",
    "test_data.income_bracket = test_data.income_bracket.apply(\n",
    "    lambda value: value.replace(\".\", \"\")\n",
    ")\n",
    "\n",
    "print(f\"Train dataset shape: {train_data.shape}\")\n",
    "print(f\"Test dataset shape: {test_data.shape}\")"
   ]
  },
  {
   "cell_type": "code",
   "execution_count": 3,
   "id": "a1729000-ed16-43f9-9100-5cf92cc3129c",
   "metadata": {},
   "outputs": [],
   "source": [
    "train_data['gender'] = 1*(train_data['gender'] == ' Male')\n",
    "test_data['gender'] = 1*(test_data['gender'] == ' Male')\n",
    "\n",
    "train_data['native_country'] = 1*(train_data['native_country'] == ' United-States')\n",
    "test_data['native_country'] = 1*(test_data['native_country'] == ' United-States')"
   ]
  },
  {
   "cell_type": "code",
   "execution_count": 4,
   "id": "a11cb411-34c3-4686-bb7a-a51d88a43709",
   "metadata": {},
   "outputs": [],
   "source": [
    "lb = LabelBinarizer()\n",
    "race_train = lb.fit_transform(train_data['race'].values)\n",
    "race_test = lb.transform(test_data['race'].values)\n",
    "race_train = pd.DataFrame(race_train, columns = ['race0', 'race1', 'race2', 'race3', 'race4'] )\n",
    "race_test = pd.DataFrame(race_test, columns = ['race0', 'race1', 'race2', 'race3', 'race4'] )\n",
    "train_data = pd.concat([train_data, race_train], axis=1)\n",
    "test_data = pd.concat([test_data, race_test], axis=1)\n",
    "\n",
    "lb = LabelBinarizer()\n",
    "relationship_train = lb.fit_transform(train_data['relationship'].values)\n",
    "relationship_test = lb.transform(test_data['relationship'].values)\n",
    "relationship_train = pd.DataFrame(relationship_train, columns = ['relationship0', 'relationship1', 'relationship2', \n",
    "                                                                 'relationship3', 'relationship4', 'relationship5'] )\n",
    "relationship_test = pd.DataFrame(relationship_test, columns = ['relationship0', 'relationship1', 'relationship2', \n",
    "                                                                 'relationship3', 'relationship4', 'relationship5'] )\n",
    "train_data = pd.concat([train_data, relationship_train], axis=1)\n",
    "test_data = pd.concat([test_data, relationship_test], axis=1)\n",
    "\n",
    "lb = LabelBinarizer()\n",
    "workclass_train = lb.fit_transform(train_data['workclass'].values)\n",
    "workclass_test = lb.transform(test_data['workclass'].values)\n",
    "workclass_train = pd.DataFrame(workclass_train, columns = ['workclass0', 'workclass1', 'workclass2', \n",
    "                                                                 'workclass3', 'workclass4', 'workclass5',\n",
    "                                                                'workclass6', 'workclass7', 'workclass8'] )\n",
    "workclass_test = pd.DataFrame(workclass_test, columns = ['workclass0', 'workclass1', 'workclass2', \n",
    "                                                                 'workclass3', 'workclass4', 'workclass5',\n",
    "                                                                'workclass6', 'workclass7', 'workclass8'] )\n",
    "train_data = pd.concat([train_data, workclass_train], axis=1)\n",
    "test_data = pd.concat([test_data, workclass_test], axis=1)\n",
    "\n",
    "lb = LabelBinarizer()\n",
    "marital_status_train = lb.fit_transform(train_data['marital_status'].values)\n",
    "marital_status_test = lb.transform(test_data['marital_status'].values)\n",
    "marital_status_train = pd.DataFrame(marital_status_train, columns = ['marital_status0', 'marital_status1', 'marital_status2', \n",
    "                                                                 'marital_status3', 'marital_status4', 'marital_status5',\n",
    "                                                                'marital_status6'] )\n",
    "marital_status_test = pd.DataFrame(marital_status_test, columns = ['marital_status0', 'marital_status1', 'marital_status2', \n",
    "                                                                 'marital_status3', 'marital_status4', 'marital_status5',\n",
    "                                                                'marital_status6'] )\n",
    "train_data = pd.concat([train_data, marital_status_train], axis=1)\n",
    "test_data = pd.concat([test_data, marital_status_test], axis=1)\n",
    "\n",
    "lb = LabelBinarizer()\n",
    "occupation_train = lb.fit_transform(train_data['occupation'].values)\n",
    "occupation_test = lb.transform(test_data['occupation'].values)\n",
    "occupation_train = pd.DataFrame(occupation_train, columns = ['occupation0', 'occupation1', 'occupation2', \n",
    "                                                                 'occupation3', 'occupation4', 'occupation5',\n",
    "                                                                'occupation6', 'occupation7', 'occupation8',\n",
    "                                                                'occupation9', 'occupation10', 'occupation11',\n",
    "                                                                'occupation12', 'occupation13', 'occupation14'] )\n",
    "occupation_test = pd.DataFrame(occupation_test, columns = ['occupation0', 'occupation1', 'occupation2', \n",
    "                                                                 'occupation3', 'occupation4', 'occupation5',\n",
    "                                                                'occupation6', 'occupation7', 'occupation8',\n",
    "                                                                'occupation9', 'occupation10', 'occupation11',\n",
    "                                                                'occupation12', 'occupation13', 'occupation14'])\n",
    "\n",
    "train_data = pd.concat([train_data, occupation_train], axis=1)\n",
    "test_data = pd.concat([test_data, occupation_test], axis=1)\n"
   ]
  },
  {
   "cell_type": "code",
   "execution_count": 5,
   "id": "06c4e534-6344-4f4d-99c8-42799b3e080b",
   "metadata": {},
   "outputs": [
    {
     "data": {
      "text/plain": [
       "0.814937657392052"
      ]
     },
     "execution_count": 5,
     "metadata": {},
     "output_type": "execute_result"
    }
   ],
   "source": [
    "columns = ['education_num', 'age', 'capital_gain', 'capital_loss', 'hours_per_week', 'gender', \n",
    "           'race0', 'race1', 'race2', 'race3', 'race4', 'relationship0', 'relationship1', 'relationship2', \n",
    "            'relationship3', 'relationship4', 'relationship5', 'workclass0', 'workclass1', 'workclass2', \n",
    "            'workclass3', 'workclass4', 'workclass5', 'workclass6', 'workclass7', 'workclass8',\n",
    "          'marital_status0', 'marital_status1', 'marital_status2', 'marital_status3', 'marital_status4', 'marital_status5', 'marital_status6',\n",
    "          'occupation0', 'occupation1', 'occupation2',  'occupation3', 'occupation4', 'occupation5', 'occupation6', 'occupation7', 'occupation8',\n",
    "          'occupation9', 'occupation10', 'occupation11', 'occupation12', 'occupation13', 'occupation14']\n",
    "clf = MLPClassifier()\n",
    "clf.fit(train_data[columns].values, train_data['income_bracket'])\n",
    "test_preds = clf.predict(test_data[columns].values)\n",
    "accuracy_score(test_data['income_bracket'], test_preds)"
   ]
  },
  {
   "cell_type": "code",
   "execution_count": 6,
   "id": "c41cb59d-0c89-4ba0-b0d3-3eafdc27bebe",
   "metadata": {},
   "outputs": [
    {
     "data": {
      "text/plain": [
       "0.8503777409250046"
      ]
     },
     "execution_count": 6,
     "metadata": {},
     "output_type": "execute_result"
    }
   ],
   "source": [
    "clf = MLPClassifier(validation_fraction=0, max_iter=100, random_state=2022, hidden_layer_sizes=(80,))\n",
    "clf.fit(train_data[columns].values, train_data['income_bracket'])\n",
    "test_preds = clf.predict(test_data[columns].values)\n",
    "accuracy_score(test_data['income_bracket'], test_preds)"
   ]
  },
  {
   "cell_type": "code",
   "execution_count": null,
   "id": "7628b26e-fcee-4cba-9dbf-e8f08656b5cc",
   "metadata": {},
   "outputs": [],
   "source": []
  }
 ],
 "metadata": {
  "kernelspec": {
   "display_name": "Python 3 (ipykernel)",
   "language": "python",
   "name": "python3"
  },
  "language_info": {
   "codemirror_mode": {
    "name": "ipython",
    "version": 3
   },
   "file_extension": ".py",
   "mimetype": "text/x-python",
   "name": "python",
   "nbconvert_exporter": "python",
   "pygments_lexer": "ipython3",
   "version": "3.7.11"
  }
 },
 "nbformat": 4,
 "nbformat_minor": 5
}
